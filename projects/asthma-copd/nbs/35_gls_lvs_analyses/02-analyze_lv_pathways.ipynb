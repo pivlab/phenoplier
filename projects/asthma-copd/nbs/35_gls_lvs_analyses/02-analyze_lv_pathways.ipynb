{
 "cells": [
  {
   "cell_type": "markdown",
   "id": "b7acf0c2",
   "metadata": {
    "papermill": {
     "duration": 0.009282,
     "end_time": "2022-12-15T20:50:16.266116",
     "exception": false,
     "start_time": "2022-12-15T20:50:16.256834",
     "status": "completed"
    },
    "tags": []
   },
   "source": [
    "# Description"
   ]
  },
  {
   "cell_type": "markdown",
   "id": "2653adfb",
   "metadata": {
    "papermill": {
     "duration": 0.009441,
     "end_time": "2022-12-15T20:50:16.284060",
     "exception": false,
     "start_time": "2022-12-15T20:50:16.274619",
     "status": "completed"
    },
    "tags": []
   },
   "source": [
    "It lists the most significant LV-trait associations for asthma, COPD and ACO."
   ]
  },
  {
   "cell_type": "markdown",
   "id": "fb645f46",
   "metadata": {
    "papermill": {
     "duration": 0.009434,
     "end_time": "2022-12-15T20:50:16.302212",
     "exception": false,
     "start_time": "2022-12-15T20:50:16.292778",
     "status": "completed"
    },
    "tags": []
   },
   "source": [
    "# Modules"
   ]
  },
  {
   "cell_type": "code",
   "execution_count": 1,
   "id": "7ce51c68",
   "metadata": {
    "papermill": {
     "duration": 0.615704,
     "end_time": "2022-12-15T20:50:16.926520",
     "exception": false,
     "start_time": "2022-12-15T20:50:16.310816",
     "status": "completed"
    },
    "tags": []
   },
   "outputs": [],
   "source": [
    "from pathlib import Path\n",
    "\n",
    "import pandas as pd\n",
    "import matplotlib.pyplot as plt\n",
    "import matplotlib as mpl\n",
    "import seaborn as sns\n",
    "from IPython.display import HTML\n",
    "\n",
    "import conf"
   ]
  },
  {
   "cell_type": "markdown",
   "id": "654985a3",
   "metadata": {
    "papermill": {
     "duration": 0.009421,
     "end_time": "2022-12-15T20:50:16.945167",
     "exception": false,
     "start_time": "2022-12-15T20:50:16.935746",
     "status": "completed"
    },
    "tags": []
   },
   "source": [
    "# Settings"
   ]
  },
  {
   "cell_type": "code",
   "execution_count": 2,
   "id": "9ba4e01c",
   "metadata": {
    "papermill": {
     "duration": 0.022731,
     "end_time": "2022-12-15T20:50:17.022058",
     "exception": false,
     "start_time": "2022-12-15T20:50:16.999327",
     "status": "completed"
    },
    "tags": []
   },
   "outputs": [
    {
     "data": {
      "text/plain": [
       "PosixPath('/opt/data/projects/asthma-copd/results/gls_phenoplier')"
      ]
     },
     "metadata": {},
     "output_type": "display_data"
    }
   ],
   "source": [
    "INPUT_DIR = conf.PROJECTS[\"ASTHMA_COPD\"][\"RESULTS_DIR\"] / \"gls_phenoplier\"\n",
    "display(INPUT_DIR)\n",
    "assert INPUT_DIR.exists()"
   ]
  },
  {
   "cell_type": "markdown",
   "id": "5f2c6f72-9a30-4ced-bc9a-04b6b3b21384",
   "metadata": {
    "papermill": {
     "duration": 0.004503,
     "end_time": "2022-12-15T20:50:17.078160",
     "exception": false,
     "start_time": "2022-12-15T20:50:17.073657",
     "status": "completed"
    },
    "tags": []
   },
   "source": [
    "# Load data"
   ]
  },
  {
   "cell_type": "markdown",
   "id": "6660e5a1-2ef1-4d8d-9d09-6b7c64da0175",
   "metadata": {
    "papermill": {
     "duration": 0.005592,
     "end_time": "2021-05-11T19:09:56.854406",
     "exception": false,
     "start_time": "2021-05-11T19:09:56.848814",
     "status": "completed"
    },
    "tags": []
   },
   "source": [
    "## MultiPLIER summary"
   ]
  },
  {
   "cell_type": "code",
   "execution_count": 21,
   "id": "6f17ecb8-5bfd-464c-a921-53678dfd6557",
   "metadata": {
    "papermill": {
     "duration": 0.020251,
     "end_time": "2021-05-11T19:09:56.880435",
     "exception": false,
     "start_time": "2021-05-11T19:09:56.860184",
     "status": "completed"
    },
    "tags": []
   },
   "outputs": [],
   "source": [
    "multiplier_model_summary = pd.read_pickle(conf.MULTIPLIER[\"MODEL_SUMMARY_FILE\"])"
   ]
  },
  {
   "cell_type": "code",
   "execution_count": 22,
   "id": "df9922f1-e017-4ca5-9e20-2029793806ac",
   "metadata": {
    "papermill": {
     "duration": 0.02062,
     "end_time": "2021-05-11T19:09:56.906744",
     "exception": false,
     "start_time": "2021-05-11T19:09:56.886124",
     "status": "completed"
    },
    "tags": []
   },
   "outputs": [
    {
     "data": {
      "text/plain": [
       "(2157, 5)"
      ]
     },
     "execution_count": 22,
     "metadata": {},
     "output_type": "execute_result"
    }
   ],
   "source": [
    "multiplier_model_summary.shape"
   ]
  },
  {
   "cell_type": "code",
   "execution_count": 23,
   "id": "0fcfb3fe-4d63-4af9-974b-9dfb4714514a",
   "metadata": {
    "papermill": {
     "duration": 0.024737,
     "end_time": "2021-05-11T19:09:56.937493",
     "exception": false,
     "start_time": "2021-05-11T19:09:56.912756",
     "status": "completed"
    },
    "tags": []
   },
   "outputs": [
    {
     "data": {
      "text/html": [
       "<div>\n",
       "<style scoped>\n",
       "    .dataframe tbody tr th:only-of-type {\n",
       "        vertical-align: middle;\n",
       "    }\n",
       "\n",
       "    .dataframe tbody tr th {\n",
       "        vertical-align: top;\n",
       "    }\n",
       "\n",
       "    .dataframe thead th {\n",
       "        text-align: right;\n",
       "    }\n",
       "</style>\n",
       "<table border=\"1\" class=\"dataframe\">\n",
       "  <thead>\n",
       "    <tr style=\"text-align: right;\">\n",
       "      <th></th>\n",
       "      <th>pathway</th>\n",
       "      <th>LV index</th>\n",
       "      <th>AUC</th>\n",
       "      <th>p-value</th>\n",
       "      <th>FDR</th>\n",
       "    </tr>\n",
       "  </thead>\n",
       "  <tbody>\n",
       "    <tr>\n",
       "      <th>1</th>\n",
       "      <td>KEGG_LYSINE_DEGRADATION</td>\n",
       "      <td>1</td>\n",
       "      <td>0.388059</td>\n",
       "      <td>0.866078</td>\n",
       "      <td>0.956005</td>\n",
       "    </tr>\n",
       "    <tr>\n",
       "      <th>2</th>\n",
       "      <td>REACTOME_MRNA_SPLICING</td>\n",
       "      <td>1</td>\n",
       "      <td>0.733057</td>\n",
       "      <td>0.000048</td>\n",
       "      <td>0.000582</td>\n",
       "    </tr>\n",
       "    <tr>\n",
       "      <th>3</th>\n",
       "      <td>MIPS_NOP56P_ASSOCIATED_PRE_RRNA_COMPLEX</td>\n",
       "      <td>1</td>\n",
       "      <td>0.680555</td>\n",
       "      <td>0.001628</td>\n",
       "      <td>0.011366</td>\n",
       "    </tr>\n",
       "    <tr>\n",
       "      <th>4</th>\n",
       "      <td>KEGG_DNA_REPLICATION</td>\n",
       "      <td>1</td>\n",
       "      <td>0.549473</td>\n",
       "      <td>0.312155</td>\n",
       "      <td>0.539951</td>\n",
       "    </tr>\n",
       "    <tr>\n",
       "      <th>5</th>\n",
       "      <td>PID_MYC_ACTIVPATHWAY</td>\n",
       "      <td>1</td>\n",
       "      <td>0.639303</td>\n",
       "      <td>0.021702</td>\n",
       "      <td>0.083739</td>\n",
       "    </tr>\n",
       "  </tbody>\n",
       "</table>\n",
       "</div>"
      ],
      "text/plain": [
       "                                   pathway LV index       AUC   p-value  \\\n",
       "1                  KEGG_LYSINE_DEGRADATION        1  0.388059  0.866078   \n",
       "2                   REACTOME_MRNA_SPLICING        1  0.733057  0.000048   \n",
       "3  MIPS_NOP56P_ASSOCIATED_PRE_RRNA_COMPLEX        1  0.680555  0.001628   \n",
       "4                     KEGG_DNA_REPLICATION        1  0.549473  0.312155   \n",
       "5                     PID_MYC_ACTIVPATHWAY        1  0.639303  0.021702   \n",
       "\n",
       "        FDR  \n",
       "1  0.956005  \n",
       "2  0.000582  \n",
       "3  0.011366  \n",
       "4  0.539951  \n",
       "5  0.083739  "
      ]
     },
     "execution_count": 23,
     "metadata": {},
     "output_type": "execute_result"
    }
   ],
   "source": [
    "multiplier_model_summary.head()"
   ]
  },
  {
   "cell_type": "markdown",
   "id": "1d14b0b8-7358-4c0a-934c-2298b0436f02",
   "metadata": {
    "papermill": {
     "duration": 0.004575,
     "end_time": "2022-12-15T20:50:17.087329",
     "exception": false,
     "start_time": "2022-12-15T20:50:17.082754",
     "status": "completed"
    },
    "tags": []
   },
   "source": [
    "## GLS associations for Asthma/COPD"
   ]
  },
  {
   "cell_type": "code",
   "execution_count": 3,
   "id": "9cf9ddb9-9241-482b-b7b0-878564c81166",
   "metadata": {},
   "outputs": [],
   "source": [
    "input_filepath = INPUT_DIR / \"gls-summary.pkl.gz\"\n",
    "assert input_filepath.exists()"
   ]
  },
  {
   "cell_type": "code",
   "execution_count": 4,
   "id": "ccbe478b-c54c-4ca5-b7c3-3d9f6a95b773",
   "metadata": {},
   "outputs": [],
   "source": [
    "gls_asthma_copd = pd.read_pickle(input_filepath)"
   ]
  },
  {
   "cell_type": "code",
   "execution_count": 5,
   "id": "9b2b286d-9b13-4cd6-b4d9-6d5450e10c1c",
   "metadata": {},
   "outputs": [
    {
     "data": {
      "text/plain": [
       "(2961, 6)"
      ]
     },
     "execution_count": 5,
     "metadata": {},
     "output_type": "execute_result"
    }
   ],
   "source": [
    "gls_asthma_copd.shape"
   ]
  },
  {
   "cell_type": "code",
   "execution_count": 6,
   "id": "63b71bdd-51c6-4d7b-aa5b-bfa88e71d0ac",
   "metadata": {},
   "outputs": [
    {
     "data": {
      "text/html": [
       "<div>\n",
       "<style scoped>\n",
       "    .dataframe tbody tr th:only-of-type {\n",
       "        vertical-align: middle;\n",
       "    }\n",
       "\n",
       "    .dataframe tbody tr th {\n",
       "        vertical-align: top;\n",
       "    }\n",
       "\n",
       "    .dataframe thead th {\n",
       "        text-align: right;\n",
       "    }\n",
       "</style>\n",
       "<table border=\"1\" class=\"dataframe\">\n",
       "  <thead>\n",
       "    <tr style=\"text-align: right;\">\n",
       "      <th></th>\n",
       "      <th>lv</th>\n",
       "      <th>beta</th>\n",
       "      <th>beta_se</th>\n",
       "      <th>pvalue</th>\n",
       "      <th>phenotype</th>\n",
       "      <th>fdr</th>\n",
       "    </tr>\n",
       "  </thead>\n",
       "  <tbody>\n",
       "    <tr>\n",
       "      <th>0</th>\n",
       "      <td>LV247</td>\n",
       "      <td>0.667501</td>\n",
       "      <td>0.126759</td>\n",
       "      <td>7.200244e-08</td>\n",
       "      <td>GWAS_COPD_only_GLM_SNPs_info0.7-</td>\n",
       "      <td>0.000107</td>\n",
       "    </tr>\n",
       "    <tr>\n",
       "      <th>1</th>\n",
       "      <td>LV300</td>\n",
       "      <td>0.620979</td>\n",
       "      <td>0.125634</td>\n",
       "      <td>3.948175e-07</td>\n",
       "      <td>GWAS_COPD_only_GLM_SNPs_info0.7-</td>\n",
       "      <td>0.000234</td>\n",
       "    </tr>\n",
       "    <tr>\n",
       "      <th>2</th>\n",
       "      <td>LV180</td>\n",
       "      <td>0.590544</td>\n",
       "      <td>0.126656</td>\n",
       "      <td>1.592848e-06</td>\n",
       "      <td>GWAS_COPD_only_GLM_SNPs_info0.7-</td>\n",
       "      <td>0.000619</td>\n",
       "    </tr>\n",
       "    <tr>\n",
       "      <th>3</th>\n",
       "      <td>LV696</td>\n",
       "      <td>0.497310</td>\n",
       "      <td>0.125236</td>\n",
       "      <td>3.617882e-05</td>\n",
       "      <td>GWAS_COPD_only_GLM_SNPs_info0.7-</td>\n",
       "      <td>0.008927</td>\n",
       "    </tr>\n",
       "    <tr>\n",
       "      <th>4</th>\n",
       "      <td>LV504</td>\n",
       "      <td>0.478885</td>\n",
       "      <td>0.126907</td>\n",
       "      <td>8.120896e-05</td>\n",
       "      <td>GWAS_COPD_only_GLM_SNPs_info0.7-</td>\n",
       "      <td>0.017176</td>\n",
       "    </tr>\n",
       "  </tbody>\n",
       "</table>\n",
       "</div>"
      ],
      "text/plain": [
       "      lv      beta   beta_se        pvalue                         phenotype  \\\n",
       "0  LV247  0.667501  0.126759  7.200244e-08  GWAS_COPD_only_GLM_SNPs_info0.7-   \n",
       "1  LV300  0.620979  0.125634  3.948175e-07  GWAS_COPD_only_GLM_SNPs_info0.7-   \n",
       "2  LV180  0.590544  0.126656  1.592848e-06  GWAS_COPD_only_GLM_SNPs_info0.7-   \n",
       "3  LV696  0.497310  0.125236  3.617882e-05  GWAS_COPD_only_GLM_SNPs_info0.7-   \n",
       "4  LV504  0.478885  0.126907  8.120896e-05  GWAS_COPD_only_GLM_SNPs_info0.7-   \n",
       "\n",
       "        fdr  \n",
       "0  0.000107  \n",
       "1  0.000234  \n",
       "2  0.000619  \n",
       "3  0.008927  \n",
       "4  0.017176  "
      ]
     },
     "execution_count": 6,
     "metadata": {},
     "output_type": "execute_result"
    }
   ],
   "source": [
    "gls_asthma_copd.head()"
   ]
  },
  {
   "cell_type": "markdown",
   "id": "7bc2b2f7-5311-4d5c-af31-70f760387ed3",
   "metadata": {
    "papermill": {
     "duration": 0.004575,
     "end_time": "2022-12-15T20:50:17.087329",
     "exception": false,
     "start_time": "2022-12-15T20:50:17.082754",
     "status": "completed"
    },
    "tags": []
   },
   "source": [
    "## GLS associations for PhenomeXcan"
   ]
  },
  {
   "cell_type": "code",
   "execution_count": 7,
   "id": "fa5c79f6-a061-4dfc-a976-6f7553a1037d",
   "metadata": {},
   "outputs": [],
   "source": [
    "input_filepath = INPUT_DIR / \"gls-summary-phenomexcan.pkl.gz\"\n",
    "assert input_filepath.exists()"
   ]
  },
  {
   "cell_type": "code",
   "execution_count": 8,
   "id": "f77f24d0-16a0-4f02-ba48-bdbcbe701293",
   "metadata": {},
   "outputs": [],
   "source": [
    "gls_phenomexcan = pd.read_pickle(input_filepath)"
   ]
  },
  {
   "cell_type": "code",
   "execution_count": 9,
   "id": "06163b11-ce40-4be0-8bae-546d07754bdd",
   "metadata": {},
   "outputs": [
    {
     "data": {
      "text/plain": [
       "(4037817, 5)"
      ]
     },
     "execution_count": 9,
     "metadata": {},
     "output_type": "execute_result"
    }
   ],
   "source": [
    "gls_phenomexcan.shape"
   ]
  },
  {
   "cell_type": "code",
   "execution_count": 10,
   "id": "769e2cc7-348b-4005-b03e-3cf4f0178ce6",
   "metadata": {},
   "outputs": [
    {
     "data": {
      "text/html": [
       "<div>\n",
       "<style scoped>\n",
       "    .dataframe tbody tr th:only-of-type {\n",
       "        vertical-align: middle;\n",
       "    }\n",
       "\n",
       "    .dataframe tbody tr th {\n",
       "        vertical-align: top;\n",
       "    }\n",
       "\n",
       "    .dataframe thead th {\n",
       "        text-align: right;\n",
       "    }\n",
       "</style>\n",
       "<table border=\"1\" class=\"dataframe\">\n",
       "  <thead>\n",
       "    <tr style=\"text-align: right;\">\n",
       "      <th></th>\n",
       "      <th>phenotype</th>\n",
       "      <th>phenotype_desc</th>\n",
       "      <th>lv</th>\n",
       "      <th>pvalue</th>\n",
       "      <th>fdr</th>\n",
       "    </tr>\n",
       "  </thead>\n",
       "  <tbody>\n",
       "    <tr>\n",
       "      <th>0</th>\n",
       "      <td>AB1_OTHER_VIRAL</td>\n",
       "      <td>Other viral diseases</td>\n",
       "      <td>LV736</td>\n",
       "      <td>0.004725</td>\n",
       "      <td>0.504339</td>\n",
       "    </tr>\n",
       "    <tr>\n",
       "      <th>1</th>\n",
       "      <td>AB1_OTHER_VIRAL</td>\n",
       "      <td>Other viral diseases</td>\n",
       "      <td>LV320</td>\n",
       "      <td>0.004848</td>\n",
       "      <td>0.508291</td>\n",
       "    </tr>\n",
       "    <tr>\n",
       "      <th>2</th>\n",
       "      <td>AB1_OTHER_VIRAL</td>\n",
       "      <td>Other viral diseases</td>\n",
       "      <td>LV366</td>\n",
       "      <td>0.005306</td>\n",
       "      <td>0.523691</td>\n",
       "    </tr>\n",
       "    <tr>\n",
       "      <th>3</th>\n",
       "      <td>AB1_OTHER_VIRAL</td>\n",
       "      <td>Other viral diseases</td>\n",
       "      <td>LV964</td>\n",
       "      <td>0.006106</td>\n",
       "      <td>0.548143</td>\n",
       "    </tr>\n",
       "    <tr>\n",
       "      <th>4</th>\n",
       "      <td>AB1_OTHER_VIRAL</td>\n",
       "      <td>Other viral diseases</td>\n",
       "      <td>LV92</td>\n",
       "      <td>0.006565</td>\n",
       "      <td>0.560048</td>\n",
       "    </tr>\n",
       "  </tbody>\n",
       "</table>\n",
       "</div>"
      ],
      "text/plain": [
       "         phenotype        phenotype_desc     lv    pvalue       fdr\n",
       "0  AB1_OTHER_VIRAL  Other viral diseases  LV736  0.004725  0.504339\n",
       "1  AB1_OTHER_VIRAL  Other viral diseases  LV320  0.004848  0.508291\n",
       "2  AB1_OTHER_VIRAL  Other viral diseases  LV366  0.005306  0.523691\n",
       "3  AB1_OTHER_VIRAL  Other viral diseases  LV964  0.006106  0.548143\n",
       "4  AB1_OTHER_VIRAL  Other viral diseases   LV92  0.006565  0.560048"
      ]
     },
     "execution_count": 10,
     "metadata": {},
     "output_type": "execute_result"
    }
   ],
   "source": [
    "gls_phenomexcan.head()"
   ]
  },
  {
   "cell_type": "markdown",
   "id": "c91a7215-14c3-4e73-aca9-0c13792b65ee",
   "metadata": {
    "papermill": {
     "duration": 0.004575,
     "end_time": "2022-12-15T20:50:17.087329",
     "exception": false,
     "start_time": "2022-12-15T20:50:17.082754",
     "status": "completed"
    },
    "tags": []
   },
   "source": [
    "## GLS associations for eMERGE"
   ]
  },
  {
   "cell_type": "code",
   "execution_count": 11,
   "id": "b009a06c-4218-40df-9a31-dbde35ece0a3",
   "metadata": {},
   "outputs": [],
   "source": [
    "input_filepath = INPUT_DIR / \"gls-summary-emerge.pkl.gz\"\n",
    "assert input_filepath.exists()"
   ]
  },
  {
   "cell_type": "code",
   "execution_count": 12,
   "id": "9ff1f3b7-cbf3-45bb-a826-57b311f5537e",
   "metadata": {},
   "outputs": [],
   "source": [
    "gls_emerge = pd.read_pickle(input_filepath)"
   ]
  },
  {
   "cell_type": "code",
   "execution_count": 13,
   "id": "f79e8247-26fe-4b5f-8ccc-416902e19b68",
   "metadata": {},
   "outputs": [
    {
     "data": {
      "text/plain": [
       "(304983, 5)"
      ]
     },
     "execution_count": 13,
     "metadata": {},
     "output_type": "execute_result"
    }
   ],
   "source": [
    "gls_emerge.shape"
   ]
  },
  {
   "cell_type": "code",
   "execution_count": 14,
   "id": "b02403f6-7d49-43e4-bc80-8581abfffcb5",
   "metadata": {},
   "outputs": [
    {
     "data": {
      "text/html": [
       "<div>\n",
       "<style scoped>\n",
       "    .dataframe tbody tr th:only-of-type {\n",
       "        vertical-align: middle;\n",
       "    }\n",
       "\n",
       "    .dataframe tbody tr th {\n",
       "        vertical-align: top;\n",
       "    }\n",
       "\n",
       "    .dataframe thead th {\n",
       "        text-align: right;\n",
       "    }\n",
       "</style>\n",
       "<table border=\"1\" class=\"dataframe\">\n",
       "  <thead>\n",
       "    <tr style=\"text-align: right;\">\n",
       "      <th></th>\n",
       "      <th>phenotype</th>\n",
       "      <th>phenotype_desc</th>\n",
       "      <th>lv</th>\n",
       "      <th>pvalue</th>\n",
       "      <th>fdr</th>\n",
       "    </tr>\n",
       "  </thead>\n",
       "  <tbody>\n",
       "    <tr>\n",
       "      <th>0</th>\n",
       "      <td>EUR_276.14</td>\n",
       "      <td>Hypopotassemia</td>\n",
       "      <td>LV273</td>\n",
       "      <td>0.000191</td>\n",
       "      <td>0.132187</td>\n",
       "    </tr>\n",
       "    <tr>\n",
       "      <th>1</th>\n",
       "      <td>EUR_276.14</td>\n",
       "      <td>Hypopotassemia</td>\n",
       "      <td>LV80</td>\n",
       "      <td>0.000616</td>\n",
       "      <td>0.244918</td>\n",
       "    </tr>\n",
       "    <tr>\n",
       "      <th>2</th>\n",
       "      <td>EUR_276.14</td>\n",
       "      <td>Hypopotassemia</td>\n",
       "      <td>LV870</td>\n",
       "      <td>0.000752</td>\n",
       "      <td>0.265545</td>\n",
       "    </tr>\n",
       "    <tr>\n",
       "      <th>3</th>\n",
       "      <td>EUR_276.14</td>\n",
       "      <td>Hypopotassemia</td>\n",
       "      <td>LV498</td>\n",
       "      <td>0.000914</td>\n",
       "      <td>0.293902</td>\n",
       "    </tr>\n",
       "    <tr>\n",
       "      <th>4</th>\n",
       "      <td>EUR_276.14</td>\n",
       "      <td>Hypopotassemia</td>\n",
       "      <td>LV561</td>\n",
       "      <td>0.001037</td>\n",
       "      <td>0.312601</td>\n",
       "    </tr>\n",
       "  </tbody>\n",
       "</table>\n",
       "</div>"
      ],
      "text/plain": [
       "    phenotype  phenotype_desc     lv    pvalue       fdr\n",
       "0  EUR_276.14  Hypopotassemia  LV273  0.000191  0.132187\n",
       "1  EUR_276.14  Hypopotassemia   LV80  0.000616  0.244918\n",
       "2  EUR_276.14  Hypopotassemia  LV870  0.000752  0.265545\n",
       "3  EUR_276.14  Hypopotassemia  LV498  0.000914  0.293902\n",
       "4  EUR_276.14  Hypopotassemia  LV561  0.001037  0.312601"
      ]
     },
     "execution_count": 14,
     "metadata": {},
     "output_type": "execute_result"
    }
   ],
   "source": [
    "gls_emerge.head()"
   ]
  },
  {
   "cell_type": "markdown",
   "id": "44f26913-0b71-44ba-a884-3a83d221c748",
   "metadata": {
    "papermill": {
     "duration": 0.011899,
     "end_time": "2022-12-15T20:50:17.697811",
     "exception": false,
     "start_time": "2022-12-15T20:50:17.685912",
     "status": "completed"
    },
    "tags": []
   },
   "source": [
    "# Top hits"
   ]
  },
  {
   "cell_type": "code",
   "execution_count": 15,
   "id": "d4731278-0adc-47f1-ba18-556e37472026",
   "metadata": {
    "papermill": {
     "duration": 0.027352,
     "end_time": "2022-12-15T20:50:17.736622",
     "exception": false,
     "start_time": "2022-12-15T20:50:17.709270",
     "status": "completed"
    },
    "tags": []
   },
   "outputs": [
    {
     "data": {
      "text/plain": [
       "(29, 6)"
      ]
     },
     "metadata": {},
     "output_type": "display_data"
    },
    {
     "data": {
      "text/html": [
       "<div>\n",
       "<style scoped>\n",
       "    .dataframe tbody tr th:only-of-type {\n",
       "        vertical-align: middle;\n",
       "    }\n",
       "\n",
       "    .dataframe tbody tr th {\n",
       "        vertical-align: top;\n",
       "    }\n",
       "\n",
       "    .dataframe thead th {\n",
       "        text-align: right;\n",
       "    }\n",
       "</style>\n",
       "<table border=\"1\" class=\"dataframe\">\n",
       "  <thead>\n",
       "    <tr style=\"text-align: right;\">\n",
       "      <th></th>\n",
       "      <th>lv</th>\n",
       "      <th>beta</th>\n",
       "      <th>beta_se</th>\n",
       "      <th>pvalue</th>\n",
       "      <th>phenotype</th>\n",
       "      <th>fdr</th>\n",
       "    </tr>\n",
       "  </thead>\n",
       "  <tbody>\n",
       "    <tr>\n",
       "      <th>987</th>\n",
       "      <td>LV101</td>\n",
       "      <td>0.725541</td>\n",
       "      <td>0.126975</td>\n",
       "      <td>5.763470e-09</td>\n",
       "      <td>GWAS_Asthma_only_GLM_SNPs_info0.7-</td>\n",
       "      <td>0.000017</td>\n",
       "    </tr>\n",
       "    <tr>\n",
       "      <th>0</th>\n",
       "      <td>LV247</td>\n",
       "      <td>0.667501</td>\n",
       "      <td>0.126759</td>\n",
       "      <td>7.200244e-08</td>\n",
       "      <td>GWAS_COPD_only_GLM_SNPs_info0.7-</td>\n",
       "      <td>0.000107</td>\n",
       "    </tr>\n",
       "    <tr>\n",
       "      <th>989</th>\n",
       "      <td>LV17</td>\n",
       "      <td>0.651945</td>\n",
       "      <td>0.130076</td>\n",
       "      <td>2.764702e-07</td>\n",
       "      <td>GWAS_Asthma_only_GLM_SNPs_info0.7-</td>\n",
       "      <td>0.000205</td>\n",
       "    </tr>\n",
       "    <tr>\n",
       "      <th>988</th>\n",
       "      <td>LV444</td>\n",
       "      <td>0.626413</td>\n",
       "      <td>0.124808</td>\n",
       "      <td>2.666571e-07</td>\n",
       "      <td>GWAS_Asthma_only_GLM_SNPs_info0.7-</td>\n",
       "      <td>0.000205</td>\n",
       "    </tr>\n",
       "    <tr>\n",
       "      <th>1</th>\n",
       "      <td>LV300</td>\n",
       "      <td>0.620979</td>\n",
       "      <td>0.125634</td>\n",
       "      <td>3.948175e-07</td>\n",
       "      <td>GWAS_COPD_only_GLM_SNPs_info0.7-</td>\n",
       "      <td>0.000234</td>\n",
       "    </tr>\n",
       "    <tr>\n",
       "      <th>1974</th>\n",
       "      <td>LV101</td>\n",
       "      <td>0.617122</td>\n",
       "      <td>0.128485</td>\n",
       "      <td>7.989790e-07</td>\n",
       "      <td>GWAS_ACO_GLM_SNPs_info0.7-</td>\n",
       "      <td>0.000394</td>\n",
       "    </tr>\n",
       "    <tr>\n",
       "      <th>2</th>\n",
       "      <td>LV180</td>\n",
       "      <td>0.590544</td>\n",
       "      <td>0.126656</td>\n",
       "      <td>1.592848e-06</td>\n",
       "      <td>GWAS_COPD_only_GLM_SNPs_info0.7-</td>\n",
       "      <td>0.000619</td>\n",
       "    </tr>\n",
       "    <tr>\n",
       "      <th>991</th>\n",
       "      <td>LV61</td>\n",
       "      <td>0.580480</td>\n",
       "      <td>0.125812</td>\n",
       "      <td>2.014374e-06</td>\n",
       "      <td>GWAS_Asthma_only_GLM_SNPs_info0.7-</td>\n",
       "      <td>0.000619</td>\n",
       "    </tr>\n",
       "    <tr>\n",
       "      <th>990</th>\n",
       "      <td>LV948</td>\n",
       "      <td>0.581716</td>\n",
       "      <td>0.125679</td>\n",
       "      <td>1.876877e-06</td>\n",
       "      <td>GWAS_Asthma_only_GLM_SNPs_info0.7-</td>\n",
       "      <td>0.000619</td>\n",
       "    </tr>\n",
       "    <tr>\n",
       "      <th>992</th>\n",
       "      <td>LV705</td>\n",
       "      <td>0.573511</td>\n",
       "      <td>0.124509</td>\n",
       "      <td>2.090083e-06</td>\n",
       "      <td>GWAS_Asthma_only_GLM_SNPs_info0.7-</td>\n",
       "      <td>0.000619</td>\n",
       "    </tr>\n",
       "    <tr>\n",
       "      <th>1975</th>\n",
       "      <td>LV948</td>\n",
       "      <td>0.503273</td>\n",
       "      <td>0.126410</td>\n",
       "      <td>3.464972e-05</td>\n",
       "      <td>GWAS_ACO_GLM_SNPs_info0.7-</td>\n",
       "      <td>0.008927</td>\n",
       "    </tr>\n",
       "    <tr>\n",
       "      <th>3</th>\n",
       "      <td>LV696</td>\n",
       "      <td>0.497310</td>\n",
       "      <td>0.125236</td>\n",
       "      <td>3.617882e-05</td>\n",
       "      <td>GWAS_COPD_only_GLM_SNPs_info0.7-</td>\n",
       "      <td>0.008927</td>\n",
       "    </tr>\n",
       "    <tr>\n",
       "      <th>993</th>\n",
       "      <td>LV96</td>\n",
       "      <td>0.499062</td>\n",
       "      <td>0.127083</td>\n",
       "      <td>4.344623e-05</td>\n",
       "      <td>GWAS_Asthma_only_GLM_SNPs_info0.7-</td>\n",
       "      <td>0.009896</td>\n",
       "    </tr>\n",
       "    <tr>\n",
       "      <th>4</th>\n",
       "      <td>LV504</td>\n",
       "      <td>0.478885</td>\n",
       "      <td>0.126907</td>\n",
       "      <td>8.120896e-05</td>\n",
       "      <td>GWAS_COPD_only_GLM_SNPs_info0.7-</td>\n",
       "      <td>0.017176</td>\n",
       "    </tr>\n",
       "    <tr>\n",
       "      <th>994</th>\n",
       "      <td>LV70</td>\n",
       "      <td>0.467698</td>\n",
       "      <td>0.125898</td>\n",
       "      <td>1.025075e-04</td>\n",
       "      <td>GWAS_Asthma_only_GLM_SNPs_info0.7-</td>\n",
       "      <td>0.018951</td>\n",
       "    </tr>\n",
       "    <tr>\n",
       "      <th>995</th>\n",
       "      <td>LV844</td>\n",
       "      <td>0.491428</td>\n",
       "      <td>0.132480</td>\n",
       "      <td>1.047248e-04</td>\n",
       "      <td>GWAS_Asthma_only_GLM_SNPs_info0.7-</td>\n",
       "      <td>0.018951</td>\n",
       "    </tr>\n",
       "    <tr>\n",
       "      <th>1976</th>\n",
       "      <td>LV705</td>\n",
       "      <td>0.466074</td>\n",
       "      <td>0.125974</td>\n",
       "      <td>1.088037e-04</td>\n",
       "      <td>GWAS_ACO_GLM_SNPs_info0.7-</td>\n",
       "      <td>0.018951</td>\n",
       "    </tr>\n",
       "    <tr>\n",
       "      <th>5</th>\n",
       "      <td>LV70</td>\n",
       "      <td>0.462430</td>\n",
       "      <td>0.127150</td>\n",
       "      <td>1.390485e-04</td>\n",
       "      <td>GWAS_COPD_only_GLM_SNPs_info0.7-</td>\n",
       "      <td>0.022873</td>\n",
       "    </tr>\n",
       "    <tr>\n",
       "      <th>996</th>\n",
       "      <td>LV207</td>\n",
       "      <td>0.465095</td>\n",
       "      <td>0.129773</td>\n",
       "      <td>1.705030e-04</td>\n",
       "      <td>GWAS_Asthma_only_GLM_SNPs_info0.7-</td>\n",
       "      <td>0.026477</td>\n",
       "    </tr>\n",
       "    <tr>\n",
       "      <th>6</th>\n",
       "      <td>LV455</td>\n",
       "      <td>0.442878</td>\n",
       "      <td>0.124007</td>\n",
       "      <td>1.788404e-04</td>\n",
       "      <td>GWAS_COPD_only_GLM_SNPs_info0.7-</td>\n",
       "      <td>0.026477</td>\n",
       "    </tr>\n",
       "    <tr>\n",
       "      <th>1977</th>\n",
       "      <td>LV504</td>\n",
       "      <td>0.442245</td>\n",
       "      <td>0.126605</td>\n",
       "      <td>2.403098e-04</td>\n",
       "      <td>GWAS_ACO_GLM_SNPs_info0.7-</td>\n",
       "      <td>0.033884</td>\n",
       "    </tr>\n",
       "    <tr>\n",
       "      <th>8</th>\n",
       "      <td>LV799</td>\n",
       "      <td>0.437309</td>\n",
       "      <td>0.126230</td>\n",
       "      <td>2.674683e-04</td>\n",
       "      <td>GWAS_COPD_only_GLM_SNPs_info0.7-</td>\n",
       "      <td>0.034434</td>\n",
       "    </tr>\n",
       "    <tr>\n",
       "      <th>7</th>\n",
       "      <td>LV149</td>\n",
       "      <td>0.433460</td>\n",
       "      <td>0.124817</td>\n",
       "      <td>2.592485e-04</td>\n",
       "      <td>GWAS_COPD_only_GLM_SNPs_info0.7-</td>\n",
       "      <td>0.034434</td>\n",
       "    </tr>\n",
       "    <tr>\n",
       "      <th>997</th>\n",
       "      <td>LV506</td>\n",
       "      <td>0.436873</td>\n",
       "      <td>0.126588</td>\n",
       "      <td>2.809040e-04</td>\n",
       "      <td>GWAS_Asthma_only_GLM_SNPs_info0.7-</td>\n",
       "      <td>0.034657</td>\n",
       "    </tr>\n",
       "    <tr>\n",
       "      <th>1978</th>\n",
       "      <td>LV563</td>\n",
       "      <td>0.441458</td>\n",
       "      <td>0.129181</td>\n",
       "      <td>3.181143e-04</td>\n",
       "      <td>GWAS_ACO_GLM_SNPs_info0.7-</td>\n",
       "      <td>0.036405</td>\n",
       "    </tr>\n",
       "    <tr>\n",
       "      <th>9</th>\n",
       "      <td>LV214</td>\n",
       "      <td>0.428885</td>\n",
       "      <td>0.125550</td>\n",
       "      <td>3.196640e-04</td>\n",
       "      <td>GWAS_COPD_only_GLM_SNPs_info0.7-</td>\n",
       "      <td>0.036405</td>\n",
       "    </tr>\n",
       "    <tr>\n",
       "      <th>998</th>\n",
       "      <td>LV140</td>\n",
       "      <td>0.443362</td>\n",
       "      <td>0.130312</td>\n",
       "      <td>3.361241e-04</td>\n",
       "      <td>GWAS_Asthma_only_GLM_SNPs_info0.7-</td>\n",
       "      <td>0.036862</td>\n",
       "    </tr>\n",
       "    <tr>\n",
       "      <th>999</th>\n",
       "      <td>LV803</td>\n",
       "      <td>0.422627</td>\n",
       "      <td>0.125527</td>\n",
       "      <td>3.824215e-04</td>\n",
       "      <td>GWAS_Asthma_only_GLM_SNPs_info0.7-</td>\n",
       "      <td>0.039047</td>\n",
       "    </tr>\n",
       "    <tr>\n",
       "      <th>10</th>\n",
       "      <td>LV383</td>\n",
       "      <td>0.420065</td>\n",
       "      <td>0.124709</td>\n",
       "      <td>3.803017e-04</td>\n",
       "      <td>GWAS_COPD_only_GLM_SNPs_info0.7-</td>\n",
       "      <td>0.039047</td>\n",
       "    </tr>\n",
       "  </tbody>\n",
       "</table>\n",
       "</div>"
      ],
      "text/plain": [
       "         lv      beta   beta_se        pvalue  \\\n",
       "987   LV101  0.725541  0.126975  5.763470e-09   \n",
       "0     LV247  0.667501  0.126759  7.200244e-08   \n",
       "989    LV17  0.651945  0.130076  2.764702e-07   \n",
       "988   LV444  0.626413  0.124808  2.666571e-07   \n",
       "1     LV300  0.620979  0.125634  3.948175e-07   \n",
       "1974  LV101  0.617122  0.128485  7.989790e-07   \n",
       "2     LV180  0.590544  0.126656  1.592848e-06   \n",
       "991    LV61  0.580480  0.125812  2.014374e-06   \n",
       "990   LV948  0.581716  0.125679  1.876877e-06   \n",
       "992   LV705  0.573511  0.124509  2.090083e-06   \n",
       "1975  LV948  0.503273  0.126410  3.464972e-05   \n",
       "3     LV696  0.497310  0.125236  3.617882e-05   \n",
       "993    LV96  0.499062  0.127083  4.344623e-05   \n",
       "4     LV504  0.478885  0.126907  8.120896e-05   \n",
       "994    LV70  0.467698  0.125898  1.025075e-04   \n",
       "995   LV844  0.491428  0.132480  1.047248e-04   \n",
       "1976  LV705  0.466074  0.125974  1.088037e-04   \n",
       "5      LV70  0.462430  0.127150  1.390485e-04   \n",
       "996   LV207  0.465095  0.129773  1.705030e-04   \n",
       "6     LV455  0.442878  0.124007  1.788404e-04   \n",
       "1977  LV504  0.442245  0.126605  2.403098e-04   \n",
       "8     LV799  0.437309  0.126230  2.674683e-04   \n",
       "7     LV149  0.433460  0.124817  2.592485e-04   \n",
       "997   LV506  0.436873  0.126588  2.809040e-04   \n",
       "1978  LV563  0.441458  0.129181  3.181143e-04   \n",
       "9     LV214  0.428885  0.125550  3.196640e-04   \n",
       "998   LV140  0.443362  0.130312  3.361241e-04   \n",
       "999   LV803  0.422627  0.125527  3.824215e-04   \n",
       "10    LV383  0.420065  0.124709  3.803017e-04   \n",
       "\n",
       "                               phenotype       fdr  \n",
       "987   GWAS_Asthma_only_GLM_SNPs_info0.7-  0.000017  \n",
       "0       GWAS_COPD_only_GLM_SNPs_info0.7-  0.000107  \n",
       "989   GWAS_Asthma_only_GLM_SNPs_info0.7-  0.000205  \n",
       "988   GWAS_Asthma_only_GLM_SNPs_info0.7-  0.000205  \n",
       "1       GWAS_COPD_only_GLM_SNPs_info0.7-  0.000234  \n",
       "1974          GWAS_ACO_GLM_SNPs_info0.7-  0.000394  \n",
       "2       GWAS_COPD_only_GLM_SNPs_info0.7-  0.000619  \n",
       "991   GWAS_Asthma_only_GLM_SNPs_info0.7-  0.000619  \n",
       "990   GWAS_Asthma_only_GLM_SNPs_info0.7-  0.000619  \n",
       "992   GWAS_Asthma_only_GLM_SNPs_info0.7-  0.000619  \n",
       "1975          GWAS_ACO_GLM_SNPs_info0.7-  0.008927  \n",
       "3       GWAS_COPD_only_GLM_SNPs_info0.7-  0.008927  \n",
       "993   GWAS_Asthma_only_GLM_SNPs_info0.7-  0.009896  \n",
       "4       GWAS_COPD_only_GLM_SNPs_info0.7-  0.017176  \n",
       "994   GWAS_Asthma_only_GLM_SNPs_info0.7-  0.018951  \n",
       "995   GWAS_Asthma_only_GLM_SNPs_info0.7-  0.018951  \n",
       "1976          GWAS_ACO_GLM_SNPs_info0.7-  0.018951  \n",
       "5       GWAS_COPD_only_GLM_SNPs_info0.7-  0.022873  \n",
       "996   GWAS_Asthma_only_GLM_SNPs_info0.7-  0.026477  \n",
       "6       GWAS_COPD_only_GLM_SNPs_info0.7-  0.026477  \n",
       "1977          GWAS_ACO_GLM_SNPs_info0.7-  0.033884  \n",
       "8       GWAS_COPD_only_GLM_SNPs_info0.7-  0.034434  \n",
       "7       GWAS_COPD_only_GLM_SNPs_info0.7-  0.034434  \n",
       "997   GWAS_Asthma_only_GLM_SNPs_info0.7-  0.034657  \n",
       "1978          GWAS_ACO_GLM_SNPs_info0.7-  0.036405  \n",
       "9       GWAS_COPD_only_GLM_SNPs_info0.7-  0.036405  \n",
       "998   GWAS_Asthma_only_GLM_SNPs_info0.7-  0.036862  \n",
       "999   GWAS_Asthma_only_GLM_SNPs_info0.7-  0.039047  \n",
       "10      GWAS_COPD_only_GLM_SNPs_info0.7-  0.039047  "
      ]
     },
     "metadata": {},
     "output_type": "display_data"
    }
   ],
   "source": [
    "with pd.option_context(\"display.max_columns\", None, \"display.max_colwidth\", None):\n",
    "    signif_lv_assocs = gls_asthma_copd.sort_values(\"fdr\")  # .drop(columns=\"phenotype\")\n",
    "    signif_lv_assocs = signif_lv_assocs[signif_lv_assocs[\"fdr\"] < 0.05]\n",
    "\n",
    "    # convert back \"category\" data types into str/object\n",
    "    signif_lv_assocs[\"lv\"] = signif_lv_assocs[\"lv\"].astype(str)\n",
    "    signif_lv_assocs[\"phenotype\"] = signif_lv_assocs[\"phenotype\"].astype(str)\n",
    "\n",
    "    display(signif_lv_assocs.shape)\n",
    "    display(signif_lv_assocs.head(50))"
   ]
  },
  {
   "cell_type": "markdown",
   "id": "9cdbe0cb-b9f6-4c4d-8ab5-a7c5afa49691",
   "metadata": {
    "papermill": {
     "duration": 0.011899,
     "end_time": "2022-12-15T20:50:17.697811",
     "exception": false,
     "start_time": "2022-12-15T20:50:17.685912",
     "status": "completed"
    },
    "tags": []
   },
   "source": [
    "## Hits per phenotype"
   ]
  },
  {
   "cell_type": "code",
   "execution_count": 16,
   "id": "9aff4c2e-cfc7-4313-b5b2-30e59ee5f12b",
   "metadata": {
    "papermill": {
     "duration": 0.006872,
     "end_time": "2022-12-15T20:50:18.097110",
     "exception": false,
     "start_time": "2022-12-15T20:50:18.090238",
     "status": "completed"
    },
    "tags": []
   },
   "outputs": [
    {
     "data": {
      "text/plain": [
       "GWAS_Asthma_only_GLM_SNPs_info0.7-    13\n",
       "GWAS_COPD_only_GLM_SNPs_info0.7-      11\n",
       "GWAS_ACO_GLM_SNPs_info0.7-             5\n",
       "Name: phenotype, dtype: int64"
      ]
     },
     "execution_count": 16,
     "metadata": {},
     "output_type": "execute_result"
    }
   ],
   "source": [
    "signif_lv_assocs[\"phenotype\"].value_counts()"
   ]
  },
  {
   "cell_type": "code",
   "execution_count": 17,
   "id": "4b46ce1c-477f-40ca-9989-af0627d1810c",
   "metadata": {
    "papermill": {
     "duration": 0.006872,
     "end_time": "2022-12-15T20:50:18.097110",
     "exception": false,
     "start_time": "2022-12-15T20:50:18.090238",
     "status": "completed"
    },
    "tags": []
   },
   "outputs": [
    {
     "data": {
      "text/html": [
       "<div>\n",
       "<style scoped>\n",
       "    .dataframe tbody tr th:only-of-type {\n",
       "        vertical-align: middle;\n",
       "    }\n",
       "\n",
       "    .dataframe tbody tr th {\n",
       "        vertical-align: top;\n",
       "    }\n",
       "\n",
       "    .dataframe thead th {\n",
       "        text-align: right;\n",
       "    }\n",
       "</style>\n",
       "<table border=\"1\" class=\"dataframe\">\n",
       "  <thead>\n",
       "    <tr style=\"text-align: right;\">\n",
       "      <th></th>\n",
       "      <th>count</th>\n",
       "      <th>mean</th>\n",
       "      <th>std</th>\n",
       "      <th>min</th>\n",
       "      <th>25%</th>\n",
       "      <th>50%</th>\n",
       "      <th>75%</th>\n",
       "      <th>max</th>\n",
       "    </tr>\n",
       "    <tr>\n",
       "      <th>phenotype</th>\n",
       "      <th></th>\n",
       "      <th></th>\n",
       "      <th></th>\n",
       "      <th></th>\n",
       "      <th></th>\n",
       "      <th></th>\n",
       "      <th></th>\n",
       "      <th></th>\n",
       "    </tr>\n",
       "  </thead>\n",
       "  <tbody>\n",
       "    <tr>\n",
       "      <th>GWAS_ACO_GLM_SNPs_info0.7-</th>\n",
       "      <td>5.0</td>\n",
       "      <td>0.019712</td>\n",
       "      <td>0.015569</td>\n",
       "      <td>0.000394</td>\n",
       "      <td>0.008927</td>\n",
       "      <td>0.018951</td>\n",
       "      <td>0.033884</td>\n",
       "      <td>0.036405</td>\n",
       "    </tr>\n",
       "    <tr>\n",
       "      <th>GWAS_Asthma_only_GLM_SNPs_info0.7-</th>\n",
       "      <td>13.0</td>\n",
       "      <td>0.014394</td>\n",
       "      <td>0.015571</td>\n",
       "      <td>0.000017</td>\n",
       "      <td>0.000619</td>\n",
       "      <td>0.009896</td>\n",
       "      <td>0.026477</td>\n",
       "      <td>0.039047</td>\n",
       "    </tr>\n",
       "    <tr>\n",
       "      <th>GWAS_COPD_only_GLM_SNPs_info0.7-</th>\n",
       "      <td>11.0</td>\n",
       "      <td>0.020067</td>\n",
       "      <td>0.015464</td>\n",
       "      <td>0.000107</td>\n",
       "      <td>0.004773</td>\n",
       "      <td>0.022873</td>\n",
       "      <td>0.034434</td>\n",
       "      <td>0.039047</td>\n",
       "    </tr>\n",
       "  </tbody>\n",
       "</table>\n",
       "</div>"
      ],
      "text/plain": [
       "                                    count      mean       std       min  \\\n",
       "phenotype                                                                 \n",
       "GWAS_ACO_GLM_SNPs_info0.7-            5.0  0.019712  0.015569  0.000394   \n",
       "GWAS_Asthma_only_GLM_SNPs_info0.7-   13.0  0.014394  0.015571  0.000017   \n",
       "GWAS_COPD_only_GLM_SNPs_info0.7-     11.0  0.020067  0.015464  0.000107   \n",
       "\n",
       "                                         25%       50%       75%       max  \n",
       "phenotype                                                                   \n",
       "GWAS_ACO_GLM_SNPs_info0.7-          0.008927  0.018951  0.033884  0.036405  \n",
       "GWAS_Asthma_only_GLM_SNPs_info0.7-  0.000619  0.009896  0.026477  0.039047  \n",
       "GWAS_COPD_only_GLM_SNPs_info0.7-    0.004773  0.022873  0.034434  0.039047  "
      ]
     },
     "execution_count": 17,
     "metadata": {},
     "output_type": "execute_result"
    }
   ],
   "source": [
    "signif_lv_assocs.groupby(\"phenotype\")[\"fdr\"].describe()"
   ]
  },
  {
   "cell_type": "code",
   "execution_count": 18,
   "id": "810557cd-4707-4cad-b31d-88b4b4f72fc0",
   "metadata": {
    "papermill": {
     "duration": 0.006872,
     "end_time": "2022-12-15T20:50:18.097110",
     "exception": false,
     "start_time": "2022-12-15T20:50:18.090238",
     "status": "completed"
    },
    "tags": []
   },
   "outputs": [
    {
     "data": {
      "text/html": [
       "<h3>GWAS_ACO_GLM_SNPs_info0.7-</h3>"
      ],
      "text/plain": [
       "<IPython.core.display.HTML object>"
      ]
     },
     "metadata": {},
     "output_type": "display_data"
    },
    {
     "data": {
      "text/html": [
       "<div>\n",
       "<style scoped>\n",
       "    .dataframe tbody tr th:only-of-type {\n",
       "        vertical-align: middle;\n",
       "    }\n",
       "\n",
       "    .dataframe tbody tr th {\n",
       "        vertical-align: top;\n",
       "    }\n",
       "\n",
       "    .dataframe thead th {\n",
       "        text-align: right;\n",
       "    }\n",
       "</style>\n",
       "<table border=\"1\" class=\"dataframe\">\n",
       "  <thead>\n",
       "    <tr style=\"text-align: right;\">\n",
       "      <th></th>\n",
       "      <th>lv</th>\n",
       "      <th>beta</th>\n",
       "      <th>beta_se</th>\n",
       "      <th>pvalue</th>\n",
       "      <th>phenotype</th>\n",
       "      <th>fdr</th>\n",
       "    </tr>\n",
       "  </thead>\n",
       "  <tbody>\n",
       "    <tr>\n",
       "      <th>1974</th>\n",
       "      <td>LV101</td>\n",
       "      <td>0.617122</td>\n",
       "      <td>0.128485</td>\n",
       "      <td>7.989790e-07</td>\n",
       "      <td>GWAS_ACO_GLM_SNPs_info0.7-</td>\n",
       "      <td>0.000394</td>\n",
       "    </tr>\n",
       "    <tr>\n",
       "      <th>1975</th>\n",
       "      <td>LV948</td>\n",
       "      <td>0.503273</td>\n",
       "      <td>0.126410</td>\n",
       "      <td>3.464972e-05</td>\n",
       "      <td>GWAS_ACO_GLM_SNPs_info0.7-</td>\n",
       "      <td>0.008927</td>\n",
       "    </tr>\n",
       "    <tr>\n",
       "      <th>1976</th>\n",
       "      <td>LV705</td>\n",
       "      <td>0.466074</td>\n",
       "      <td>0.125974</td>\n",
       "      <td>1.088037e-04</td>\n",
       "      <td>GWAS_ACO_GLM_SNPs_info0.7-</td>\n",
       "      <td>0.018951</td>\n",
       "    </tr>\n",
       "    <tr>\n",
       "      <th>1977</th>\n",
       "      <td>LV504</td>\n",
       "      <td>0.442245</td>\n",
       "      <td>0.126605</td>\n",
       "      <td>2.403098e-04</td>\n",
       "      <td>GWAS_ACO_GLM_SNPs_info0.7-</td>\n",
       "      <td>0.033884</td>\n",
       "    </tr>\n",
       "    <tr>\n",
       "      <th>1978</th>\n",
       "      <td>LV563</td>\n",
       "      <td>0.441458</td>\n",
       "      <td>0.129181</td>\n",
       "      <td>3.181143e-04</td>\n",
       "      <td>GWAS_ACO_GLM_SNPs_info0.7-</td>\n",
       "      <td>0.036405</td>\n",
       "    </tr>\n",
       "  </tbody>\n",
       "</table>\n",
       "</div>"
      ],
      "text/plain": [
       "         lv      beta   beta_se        pvalue                   phenotype  \\\n",
       "1974  LV101  0.617122  0.128485  7.989790e-07  GWAS_ACO_GLM_SNPs_info0.7-   \n",
       "1975  LV948  0.503273  0.126410  3.464972e-05  GWAS_ACO_GLM_SNPs_info0.7-   \n",
       "1976  LV705  0.466074  0.125974  1.088037e-04  GWAS_ACO_GLM_SNPs_info0.7-   \n",
       "1977  LV504  0.442245  0.126605  2.403098e-04  GWAS_ACO_GLM_SNPs_info0.7-   \n",
       "1978  LV563  0.441458  0.129181  3.181143e-04  GWAS_ACO_GLM_SNPs_info0.7-   \n",
       "\n",
       "           fdr  \n",
       "1974  0.000394  \n",
       "1975  0.008927  \n",
       "1976  0.018951  \n",
       "1977  0.033884  \n",
       "1978  0.036405  "
      ]
     },
     "metadata": {},
     "output_type": "display_data"
    },
    {
     "data": {
      "text/html": [
       "<h3>GWAS_Asthma_only_GLM_SNPs_info0.7-</h3>"
      ],
      "text/plain": [
       "<IPython.core.display.HTML object>"
      ]
     },
     "metadata": {},
     "output_type": "display_data"
    },
    {
     "data": {
      "text/html": [
       "<div>\n",
       "<style scoped>\n",
       "    .dataframe tbody tr th:only-of-type {\n",
       "        vertical-align: middle;\n",
       "    }\n",
       "\n",
       "    .dataframe tbody tr th {\n",
       "        vertical-align: top;\n",
       "    }\n",
       "\n",
       "    .dataframe thead th {\n",
       "        text-align: right;\n",
       "    }\n",
       "</style>\n",
       "<table border=\"1\" class=\"dataframe\">\n",
       "  <thead>\n",
       "    <tr style=\"text-align: right;\">\n",
       "      <th></th>\n",
       "      <th>lv</th>\n",
       "      <th>beta</th>\n",
       "      <th>beta_se</th>\n",
       "      <th>pvalue</th>\n",
       "      <th>phenotype</th>\n",
       "      <th>fdr</th>\n",
       "    </tr>\n",
       "  </thead>\n",
       "  <tbody>\n",
       "    <tr>\n",
       "      <th>987</th>\n",
       "      <td>LV101</td>\n",
       "      <td>0.725541</td>\n",
       "      <td>0.126975</td>\n",
       "      <td>5.763470e-09</td>\n",
       "      <td>GWAS_Asthma_only_GLM_SNPs_info0.7-</td>\n",
       "      <td>0.000017</td>\n",
       "    </tr>\n",
       "    <tr>\n",
       "      <th>989</th>\n",
       "      <td>LV17</td>\n",
       "      <td>0.651945</td>\n",
       "      <td>0.130076</td>\n",
       "      <td>2.764702e-07</td>\n",
       "      <td>GWAS_Asthma_only_GLM_SNPs_info0.7-</td>\n",
       "      <td>0.000205</td>\n",
       "    </tr>\n",
       "    <tr>\n",
       "      <th>988</th>\n",
       "      <td>LV444</td>\n",
       "      <td>0.626413</td>\n",
       "      <td>0.124808</td>\n",
       "      <td>2.666571e-07</td>\n",
       "      <td>GWAS_Asthma_only_GLM_SNPs_info0.7-</td>\n",
       "      <td>0.000205</td>\n",
       "    </tr>\n",
       "    <tr>\n",
       "      <th>991</th>\n",
       "      <td>LV61</td>\n",
       "      <td>0.580480</td>\n",
       "      <td>0.125812</td>\n",
       "      <td>2.014374e-06</td>\n",
       "      <td>GWAS_Asthma_only_GLM_SNPs_info0.7-</td>\n",
       "      <td>0.000619</td>\n",
       "    </tr>\n",
       "    <tr>\n",
       "      <th>990</th>\n",
       "      <td>LV948</td>\n",
       "      <td>0.581716</td>\n",
       "      <td>0.125679</td>\n",
       "      <td>1.876877e-06</td>\n",
       "      <td>GWAS_Asthma_only_GLM_SNPs_info0.7-</td>\n",
       "      <td>0.000619</td>\n",
       "    </tr>\n",
       "    <tr>\n",
       "      <th>992</th>\n",
       "      <td>LV705</td>\n",
       "      <td>0.573511</td>\n",
       "      <td>0.124509</td>\n",
       "      <td>2.090083e-06</td>\n",
       "      <td>GWAS_Asthma_only_GLM_SNPs_info0.7-</td>\n",
       "      <td>0.000619</td>\n",
       "    </tr>\n",
       "    <tr>\n",
       "      <th>993</th>\n",
       "      <td>LV96</td>\n",
       "      <td>0.499062</td>\n",
       "      <td>0.127083</td>\n",
       "      <td>4.344623e-05</td>\n",
       "      <td>GWAS_Asthma_only_GLM_SNPs_info0.7-</td>\n",
       "      <td>0.009896</td>\n",
       "    </tr>\n",
       "    <tr>\n",
       "      <th>994</th>\n",
       "      <td>LV70</td>\n",
       "      <td>0.467698</td>\n",
       "      <td>0.125898</td>\n",
       "      <td>1.025075e-04</td>\n",
       "      <td>GWAS_Asthma_only_GLM_SNPs_info0.7-</td>\n",
       "      <td>0.018951</td>\n",
       "    </tr>\n",
       "    <tr>\n",
       "      <th>995</th>\n",
       "      <td>LV844</td>\n",
       "      <td>0.491428</td>\n",
       "      <td>0.132480</td>\n",
       "      <td>1.047248e-04</td>\n",
       "      <td>GWAS_Asthma_only_GLM_SNPs_info0.7-</td>\n",
       "      <td>0.018951</td>\n",
       "    </tr>\n",
       "    <tr>\n",
       "      <th>996</th>\n",
       "      <td>LV207</td>\n",
       "      <td>0.465095</td>\n",
       "      <td>0.129773</td>\n",
       "      <td>1.705030e-04</td>\n",
       "      <td>GWAS_Asthma_only_GLM_SNPs_info0.7-</td>\n",
       "      <td>0.026477</td>\n",
       "    </tr>\n",
       "    <tr>\n",
       "      <th>997</th>\n",
       "      <td>LV506</td>\n",
       "      <td>0.436873</td>\n",
       "      <td>0.126588</td>\n",
       "      <td>2.809040e-04</td>\n",
       "      <td>GWAS_Asthma_only_GLM_SNPs_info0.7-</td>\n",
       "      <td>0.034657</td>\n",
       "    </tr>\n",
       "    <tr>\n",
       "      <th>998</th>\n",
       "      <td>LV140</td>\n",
       "      <td>0.443362</td>\n",
       "      <td>0.130312</td>\n",
       "      <td>3.361241e-04</td>\n",
       "      <td>GWAS_Asthma_only_GLM_SNPs_info0.7-</td>\n",
       "      <td>0.036862</td>\n",
       "    </tr>\n",
       "    <tr>\n",
       "      <th>999</th>\n",
       "      <td>LV803</td>\n",
       "      <td>0.422627</td>\n",
       "      <td>0.125527</td>\n",
       "      <td>3.824215e-04</td>\n",
       "      <td>GWAS_Asthma_only_GLM_SNPs_info0.7-</td>\n",
       "      <td>0.039047</td>\n",
       "    </tr>\n",
       "  </tbody>\n",
       "</table>\n",
       "</div>"
      ],
      "text/plain": [
       "        lv      beta   beta_se        pvalue  \\\n",
       "987  LV101  0.725541  0.126975  5.763470e-09   \n",
       "989   LV17  0.651945  0.130076  2.764702e-07   \n",
       "988  LV444  0.626413  0.124808  2.666571e-07   \n",
       "991   LV61  0.580480  0.125812  2.014374e-06   \n",
       "990  LV948  0.581716  0.125679  1.876877e-06   \n",
       "992  LV705  0.573511  0.124509  2.090083e-06   \n",
       "993   LV96  0.499062  0.127083  4.344623e-05   \n",
       "994   LV70  0.467698  0.125898  1.025075e-04   \n",
       "995  LV844  0.491428  0.132480  1.047248e-04   \n",
       "996  LV207  0.465095  0.129773  1.705030e-04   \n",
       "997  LV506  0.436873  0.126588  2.809040e-04   \n",
       "998  LV140  0.443362  0.130312  3.361241e-04   \n",
       "999  LV803  0.422627  0.125527  3.824215e-04   \n",
       "\n",
       "                              phenotype       fdr  \n",
       "987  GWAS_Asthma_only_GLM_SNPs_info0.7-  0.000017  \n",
       "989  GWAS_Asthma_only_GLM_SNPs_info0.7-  0.000205  \n",
       "988  GWAS_Asthma_only_GLM_SNPs_info0.7-  0.000205  \n",
       "991  GWAS_Asthma_only_GLM_SNPs_info0.7-  0.000619  \n",
       "990  GWAS_Asthma_only_GLM_SNPs_info0.7-  0.000619  \n",
       "992  GWAS_Asthma_only_GLM_SNPs_info0.7-  0.000619  \n",
       "993  GWAS_Asthma_only_GLM_SNPs_info0.7-  0.009896  \n",
       "994  GWAS_Asthma_only_GLM_SNPs_info0.7-  0.018951  \n",
       "995  GWAS_Asthma_only_GLM_SNPs_info0.7-  0.018951  \n",
       "996  GWAS_Asthma_only_GLM_SNPs_info0.7-  0.026477  \n",
       "997  GWAS_Asthma_only_GLM_SNPs_info0.7-  0.034657  \n",
       "998  GWAS_Asthma_only_GLM_SNPs_info0.7-  0.036862  \n",
       "999  GWAS_Asthma_only_GLM_SNPs_info0.7-  0.039047  "
      ]
     },
     "metadata": {},
     "output_type": "display_data"
    },
    {
     "data": {
      "text/html": [
       "<h3>GWAS_COPD_only_GLM_SNPs_info0.7-</h3>"
      ],
      "text/plain": [
       "<IPython.core.display.HTML object>"
      ]
     },
     "metadata": {},
     "output_type": "display_data"
    },
    {
     "data": {
      "text/html": [
       "<div>\n",
       "<style scoped>\n",
       "    .dataframe tbody tr th:only-of-type {\n",
       "        vertical-align: middle;\n",
       "    }\n",
       "\n",
       "    .dataframe tbody tr th {\n",
       "        vertical-align: top;\n",
       "    }\n",
       "\n",
       "    .dataframe thead th {\n",
       "        text-align: right;\n",
       "    }\n",
       "</style>\n",
       "<table border=\"1\" class=\"dataframe\">\n",
       "  <thead>\n",
       "    <tr style=\"text-align: right;\">\n",
       "      <th></th>\n",
       "      <th>lv</th>\n",
       "      <th>beta</th>\n",
       "      <th>beta_se</th>\n",
       "      <th>pvalue</th>\n",
       "      <th>phenotype</th>\n",
       "      <th>fdr</th>\n",
       "    </tr>\n",
       "  </thead>\n",
       "  <tbody>\n",
       "    <tr>\n",
       "      <th>0</th>\n",
       "      <td>LV247</td>\n",
       "      <td>0.667501</td>\n",
       "      <td>0.126759</td>\n",
       "      <td>7.200244e-08</td>\n",
       "      <td>GWAS_COPD_only_GLM_SNPs_info0.7-</td>\n",
       "      <td>0.000107</td>\n",
       "    </tr>\n",
       "    <tr>\n",
       "      <th>1</th>\n",
       "      <td>LV300</td>\n",
       "      <td>0.620979</td>\n",
       "      <td>0.125634</td>\n",
       "      <td>3.948175e-07</td>\n",
       "      <td>GWAS_COPD_only_GLM_SNPs_info0.7-</td>\n",
       "      <td>0.000234</td>\n",
       "    </tr>\n",
       "    <tr>\n",
       "      <th>2</th>\n",
       "      <td>LV180</td>\n",
       "      <td>0.590544</td>\n",
       "      <td>0.126656</td>\n",
       "      <td>1.592848e-06</td>\n",
       "      <td>GWAS_COPD_only_GLM_SNPs_info0.7-</td>\n",
       "      <td>0.000619</td>\n",
       "    </tr>\n",
       "    <tr>\n",
       "      <th>3</th>\n",
       "      <td>LV696</td>\n",
       "      <td>0.497310</td>\n",
       "      <td>0.125236</td>\n",
       "      <td>3.617882e-05</td>\n",
       "      <td>GWAS_COPD_only_GLM_SNPs_info0.7-</td>\n",
       "      <td>0.008927</td>\n",
       "    </tr>\n",
       "    <tr>\n",
       "      <th>4</th>\n",
       "      <td>LV504</td>\n",
       "      <td>0.478885</td>\n",
       "      <td>0.126907</td>\n",
       "      <td>8.120896e-05</td>\n",
       "      <td>GWAS_COPD_only_GLM_SNPs_info0.7-</td>\n",
       "      <td>0.017176</td>\n",
       "    </tr>\n",
       "    <tr>\n",
       "      <th>5</th>\n",
       "      <td>LV70</td>\n",
       "      <td>0.462430</td>\n",
       "      <td>0.127150</td>\n",
       "      <td>1.390485e-04</td>\n",
       "      <td>GWAS_COPD_only_GLM_SNPs_info0.7-</td>\n",
       "      <td>0.022873</td>\n",
       "    </tr>\n",
       "    <tr>\n",
       "      <th>6</th>\n",
       "      <td>LV455</td>\n",
       "      <td>0.442878</td>\n",
       "      <td>0.124007</td>\n",
       "      <td>1.788404e-04</td>\n",
       "      <td>GWAS_COPD_only_GLM_SNPs_info0.7-</td>\n",
       "      <td>0.026477</td>\n",
       "    </tr>\n",
       "    <tr>\n",
       "      <th>8</th>\n",
       "      <td>LV799</td>\n",
       "      <td>0.437309</td>\n",
       "      <td>0.126230</td>\n",
       "      <td>2.674683e-04</td>\n",
       "      <td>GWAS_COPD_only_GLM_SNPs_info0.7-</td>\n",
       "      <td>0.034434</td>\n",
       "    </tr>\n",
       "    <tr>\n",
       "      <th>7</th>\n",
       "      <td>LV149</td>\n",
       "      <td>0.433460</td>\n",
       "      <td>0.124817</td>\n",
       "      <td>2.592485e-04</td>\n",
       "      <td>GWAS_COPD_only_GLM_SNPs_info0.7-</td>\n",
       "      <td>0.034434</td>\n",
       "    </tr>\n",
       "    <tr>\n",
       "      <th>9</th>\n",
       "      <td>LV214</td>\n",
       "      <td>0.428885</td>\n",
       "      <td>0.125550</td>\n",
       "      <td>3.196640e-04</td>\n",
       "      <td>GWAS_COPD_only_GLM_SNPs_info0.7-</td>\n",
       "      <td>0.036405</td>\n",
       "    </tr>\n",
       "    <tr>\n",
       "      <th>10</th>\n",
       "      <td>LV383</td>\n",
       "      <td>0.420065</td>\n",
       "      <td>0.124709</td>\n",
       "      <td>3.803017e-04</td>\n",
       "      <td>GWAS_COPD_only_GLM_SNPs_info0.7-</td>\n",
       "      <td>0.039047</td>\n",
       "    </tr>\n",
       "  </tbody>\n",
       "</table>\n",
       "</div>"
      ],
      "text/plain": [
       "       lv      beta   beta_se        pvalue                         phenotype  \\\n",
       "0   LV247  0.667501  0.126759  7.200244e-08  GWAS_COPD_only_GLM_SNPs_info0.7-   \n",
       "1   LV300  0.620979  0.125634  3.948175e-07  GWAS_COPD_only_GLM_SNPs_info0.7-   \n",
       "2   LV180  0.590544  0.126656  1.592848e-06  GWAS_COPD_only_GLM_SNPs_info0.7-   \n",
       "3   LV696  0.497310  0.125236  3.617882e-05  GWAS_COPD_only_GLM_SNPs_info0.7-   \n",
       "4   LV504  0.478885  0.126907  8.120896e-05  GWAS_COPD_only_GLM_SNPs_info0.7-   \n",
       "5    LV70  0.462430  0.127150  1.390485e-04  GWAS_COPD_only_GLM_SNPs_info0.7-   \n",
       "6   LV455  0.442878  0.124007  1.788404e-04  GWAS_COPD_only_GLM_SNPs_info0.7-   \n",
       "8   LV799  0.437309  0.126230  2.674683e-04  GWAS_COPD_only_GLM_SNPs_info0.7-   \n",
       "7   LV149  0.433460  0.124817  2.592485e-04  GWAS_COPD_only_GLM_SNPs_info0.7-   \n",
       "9   LV214  0.428885  0.125550  3.196640e-04  GWAS_COPD_only_GLM_SNPs_info0.7-   \n",
       "10  LV383  0.420065  0.124709  3.803017e-04  GWAS_COPD_only_GLM_SNPs_info0.7-   \n",
       "\n",
       "         fdr  \n",
       "0   0.000107  \n",
       "1   0.000234  \n",
       "2   0.000619  \n",
       "3   0.008927  \n",
       "4   0.017176  \n",
       "5   0.022873  \n",
       "6   0.026477  \n",
       "8   0.034434  \n",
       "7   0.034434  \n",
       "9   0.036405  \n",
       "10  0.039047  "
      ]
     },
     "metadata": {},
     "output_type": "display_data"
    }
   ],
   "source": [
    "for idx, grp in signif_lv_assocs.groupby(\"phenotype\"):\n",
    "    display(HTML(f\"<h3>{idx}</h3>\"))\n",
    "    display(grp)"
   ]
  },
  {
   "cell_type": "markdown",
   "id": "a92eb582-67b0-41b1-9bb2-542fe72c797f",
   "metadata": {
    "papermill": {
     "duration": 0.011899,
     "end_time": "2022-12-15T20:50:17.697811",
     "exception": false,
     "start_time": "2022-12-15T20:50:17.685912",
     "status": "completed"
    },
    "tags": []
   },
   "source": [
    "## Hits per LV"
   ]
  },
  {
   "cell_type": "code",
   "execution_count": 19,
   "id": "466cf65f-f13a-4f0a-b7c8-f4eaecb3eb29",
   "metadata": {
    "papermill": {
     "duration": 0.006872,
     "end_time": "2022-12-15T20:50:18.097110",
     "exception": false,
     "start_time": "2022-12-15T20:50:18.090238",
     "status": "completed"
    },
    "tags": []
   },
   "outputs": [
    {
     "data": {
      "text/plain": [
       "lv\n",
       "LV101    2\n",
       "LV70     2\n",
       "LV948    2\n",
       "LV705    2\n",
       "LV504    2\n",
       "LV207    1\n",
       "LV61     1\n",
       "LV149    1\n",
       "LV844    1\n",
       "LV803    1\n",
       "LV799    1\n",
       "LV17     1\n",
       "LV180    1\n",
       "LV696    1\n",
       "LV563    1\n",
       "LV214    1\n",
       "LV506    1\n",
       "LV140    1\n",
       "LV455    1\n",
       "LV444    1\n",
       "LV383    1\n",
       "LV300    1\n",
       "LV247    1\n",
       "LV96     1\n",
       "dtype: int64"
      ]
     },
     "metadata": {},
     "output_type": "display_data"
    }
   ],
   "source": [
    "lv_assocs_by_size = signif_lv_assocs.groupby(\"lv\").size().sort_values(ascending=False)\n",
    "display(lv_assocs_by_size)"
   ]
  },
  {
   "cell_type": "code",
   "execution_count": 20,
   "id": "b9067e14-ba90-4419-b624-26d49df643d6",
   "metadata": {},
   "outputs": [
    {
     "data": {
      "text/plain": [
       "(24,)"
      ]
     },
     "execution_count": 20,
     "metadata": {},
     "output_type": "execute_result"
    }
   ],
   "source": [
    "lv_assocs_by_size.shape"
   ]
  },
  {
   "cell_type": "code",
   "execution_count": null,
   "id": "45090a5a-e227-4756-abe4-f5971826acff",
   "metadata": {},
   "outputs": [],
   "source": []
  },
  {
   "cell_type": "code",
   "execution_count": 29,
   "id": "7015d2d8-bb0c-440f-81de-621c53297df8",
   "metadata": {},
   "outputs": [],
   "source": [
    "lv_assocs_ids = set(map(lambda x: x.split(\"LV\")[1], lv_assocs_by_size.index))"
   ]
  },
  {
   "cell_type": "code",
   "execution_count": 30,
   "id": "716e0cea-c2c6-4fa4-b6bb-c6b95416f5f2",
   "metadata": {},
   "outputs": [
    {
     "data": {
      "text/plain": [
       "24"
      ]
     },
     "execution_count": 30,
     "metadata": {},
     "output_type": "execute_result"
    }
   ],
   "source": [
    "len(lv_assocs_ids)"
   ]
  },
  {
   "cell_type": "code",
   "execution_count": 31,
   "id": "3b957ccb-5fc8-4ce0-bf3e-4d40f868bf18",
   "metadata": {},
   "outputs": [
    {
     "data": {
      "text/plain": [
       "['140', '799', '17', '300', '504']"
      ]
     },
     "metadata": {},
     "output_type": "display_data"
    }
   ],
   "source": [
    "display(list(lv_assocs_ids)[:5])"
   ]
  },
  {
   "cell_type": "code",
   "execution_count": 32,
   "id": "6941b7f8-2f16-4769-8a6c-724ab9f48e7d",
   "metadata": {},
   "outputs": [],
   "source": [
    "lv_pathways = multiplier_model_summary[\n",
    "    multiplier_model_summary[\"LV index\"].isin(lv_assocs_ids)\n",
    "    & (\n",
    "        (multiplier_model_summary[\"FDR\"] < 0.05)\n",
    "        #         | (multiplier_model_summary[\"AUC\"] >= 0.75)\n",
    "    )\n",
    "]"
   ]
  },
  {
   "cell_type": "code",
   "execution_count": 34,
   "id": "00ce2b44-9620-4861-acc7-6e6468f1f311",
   "metadata": {},
   "outputs": [
    {
     "data": {
      "text/plain": [
       "(22, 5)"
      ]
     },
     "execution_count": 34,
     "metadata": {},
     "output_type": "execute_result"
    }
   ],
   "source": [
    "lv_pathways.shape"
   ]
  },
  {
   "cell_type": "code",
   "execution_count": 44,
   "id": "640be0f5-9215-4fe6-9392-a1072ced896d",
   "metadata": {},
   "outputs": [
    {
     "data": {
      "text/html": [
       "<div>\n",
       "<style scoped>\n",
       "    .dataframe tbody tr th:only-of-type {\n",
       "        vertical-align: middle;\n",
       "    }\n",
       "\n",
       "    .dataframe tbody tr th {\n",
       "        vertical-align: top;\n",
       "    }\n",
       "\n",
       "    .dataframe thead th {\n",
       "        text-align: right;\n",
       "    }\n",
       "</style>\n",
       "<table border=\"1\" class=\"dataframe\">\n",
       "  <thead>\n",
       "    <tr style=\"text-align: right;\">\n",
       "      <th></th>\n",
       "      <th>pathway</th>\n",
       "      <th>LV index</th>\n",
       "      <th>AUC</th>\n",
       "      <th>p-value</th>\n",
       "      <th>FDR</th>\n",
       "    </tr>\n",
       "  </thead>\n",
       "  <tbody>\n",
       "    <tr>\n",
       "      <th>441</th>\n",
       "      <td>SVM NK cells activated</td>\n",
       "      <td>101</td>\n",
       "      <td>0.815507</td>\n",
       "      <td>2.739687e-06</td>\n",
       "      <td>4.545773e-05</td>\n",
       "    </tr>\n",
       "    <tr>\n",
       "      <th>439</th>\n",
       "      <td>DMAP_NKA3</td>\n",
       "      <td>101</td>\n",
       "      <td>0.824968</td>\n",
       "      <td>4.924234e-05</td>\n",
       "      <td>5.967176e-04</td>\n",
       "    </tr>\n",
       "    <tr>\n",
       "      <th>438</th>\n",
       "      <td>IRIS_NKcell-IL2stimulated</td>\n",
       "      <td>101</td>\n",
       "      <td>0.768951</td>\n",
       "      <td>2.282981e-03</td>\n",
       "      <td>1.478796e-02</td>\n",
       "    </tr>\n",
       "    <tr>\n",
       "      <th>591</th>\n",
       "      <td>REACTOME_CYTOKINE_SIGNALING_IN_IMMUNE_SYSTEM</td>\n",
       "      <td>140</td>\n",
       "      <td>0.712535</td>\n",
       "      <td>2.407559e-08</td>\n",
       "      <td>6.038493e-07</td>\n",
       "    </tr>\n",
       "    <tr>\n",
       "      <th>590</th>\n",
       "      <td>SVM Neutrophils</td>\n",
       "      <td>140</td>\n",
       "      <td>0.732264</td>\n",
       "      <td>1.615458e-03</td>\n",
       "      <td>1.131345e-02</td>\n",
       "    </tr>\n",
       "    <tr>\n",
       "      <th>592</th>\n",
       "      <td>REACTOME_INTERFERON_GAMMA_SIGNALING</td>\n",
       "      <td>140</td>\n",
       "      <td>0.861331</td>\n",
       "      <td>1.693174e-05</td>\n",
       "      <td>2.282610e-04</td>\n",
       "    </tr>\n",
       "    <tr>\n",
       "      <th>88</th>\n",
       "      <td>DMAP_NKA3</td>\n",
       "      <td>17</td>\n",
       "      <td>0.700227</td>\n",
       "      <td>6.643279e-03</td>\n",
       "      <td>3.379611e-02</td>\n",
       "    </tr>\n",
       "    <tr>\n",
       "      <th>91</th>\n",
       "      <td>SVM NK cells resting</td>\n",
       "      <td>17</td>\n",
       "      <td>0.805009</td>\n",
       "      <td>6.562786e-06</td>\n",
       "      <td>9.968964e-05</td>\n",
       "    </tr>\n",
       "    <tr>\n",
       "      <th>92</th>\n",
       "      <td>KEGG_NATURAL_KILLER_CELL_MEDIATED_CYTOTOXICITY</td>\n",
       "      <td>17</td>\n",
       "      <td>0.660631</td>\n",
       "      <td>1.499019e-03</td>\n",
       "      <td>1.070657e-02</td>\n",
       "    </tr>\n",
       "    <tr>\n",
       "      <th>1032</th>\n",
       "      <td>REACTOME_REGULATION_OF_APOPTOSIS</td>\n",
       "      <td>300</td>\n",
       "      <td>0.741191</td>\n",
       "      <td>7.748537e-04</td>\n",
       "      <td>6.283306e-03</td>\n",
       "    </tr>\n",
       "    <tr>\n",
       "      <th>300</th>\n",
       "      <td>SVM Neutrophils</td>\n",
       "      <td>61</td>\n",
       "      <td>0.647067</td>\n",
       "      <td>4.685830e-04</td>\n",
       "      <td>4.059171e-03</td>\n",
       "    </tr>\n",
       "    <tr>\n",
       "      <th>299</th>\n",
       "      <td>DMAP_ERY5</td>\n",
       "      <td>61</td>\n",
       "      <td>0.555490</td>\n",
       "      <td>1.138237e-03</td>\n",
       "      <td>8.545761e-03</td>\n",
       "    </tr>\n",
       "    <tr>\n",
       "      <th>336</th>\n",
       "      <td>MIPS_PA700_20S_PA28_COMPLEX</td>\n",
       "      <td>70</td>\n",
       "      <td>0.992106</td>\n",
       "      <td>1.885207e-06</td>\n",
       "      <td>3.201883e-05</td>\n",
       "    </tr>\n",
       "    <tr>\n",
       "      <th>335</th>\n",
       "      <td>REACTOME_CDK_MEDIATED_PHOSPHORYLATION_AND_REMO...</td>\n",
       "      <td>70</td>\n",
       "      <td>0.904858</td>\n",
       "      <td>8.053509e-06</td>\n",
       "      <td>1.189823e-04</td>\n",
       "    </tr>\n",
       "    <tr>\n",
       "      <th>334</th>\n",
       "      <td>REACTOME_REGULATION_OF_ORNITHINE_DECARBOXYLASE...</td>\n",
       "      <td>70</td>\n",
       "      <td>0.993153</td>\n",
       "      <td>7.452321e-08</td>\n",
       "      <td>1.747245e-06</td>\n",
       "    </tr>\n",
       "    <tr>\n",
       "      <th>337</th>\n",
       "      <td>KEGG_PATHOGENIC_ESCHERICHIA_COLI_INFECTION</td>\n",
       "      <td>70</td>\n",
       "      <td>0.800101</td>\n",
       "      <td>6.946959e-04</td>\n",
       "      <td>5.697563e-03</td>\n",
       "    </tr>\n",
       "    <tr>\n",
       "      <th>340</th>\n",
       "      <td>REACTOME_TRNA_AMINOACYLATION</td>\n",
       "      <td>70</td>\n",
       "      <td>0.781157</td>\n",
       "      <td>2.372363e-03</td>\n",
       "      <td>1.515784e-02</td>\n",
       "    </tr>\n",
       "    <tr>\n",
       "      <th>1670</th>\n",
       "      <td>PID_IL12_2PATHWAY</td>\n",
       "      <td>705</td>\n",
       "      <td>0.711270</td>\n",
       "      <td>2.429515e-03</td>\n",
       "      <td>1.527832e-02</td>\n",
       "    </tr>\n",
       "    <tr>\n",
       "      <th>1669</th>\n",
       "      <td>SVM NK cells activated</td>\n",
       "      <td>705</td>\n",
       "      <td>0.852081</td>\n",
       "      <td>1.669993e-07</td>\n",
       "      <td>3.638559e-06</td>\n",
       "    </tr>\n",
       "    <tr>\n",
       "      <th>1894</th>\n",
       "      <td>KEGG_ANTIGEN_PROCESSING_AND_PRESENTATION</td>\n",
       "      <td>844</td>\n",
       "      <td>0.801124</td>\n",
       "      <td>1.261653e-04</td>\n",
       "      <td>1.347220e-03</td>\n",
       "    </tr>\n",
       "    <tr>\n",
       "      <th>415</th>\n",
       "      <td>SVM NK cells activated</td>\n",
       "      <td>96</td>\n",
       "      <td>0.729687</td>\n",
       "      <td>2.742553e-04</td>\n",
       "      <td>2.569478e-03</td>\n",
       "    </tr>\n",
       "    <tr>\n",
       "      <th>414</th>\n",
       "      <td>SVM T cells follicular helper</td>\n",
       "      <td>96</td>\n",
       "      <td>0.689263</td>\n",
       "      <td>4.434672e-03</td>\n",
       "      <td>2.452715e-02</td>\n",
       "    </tr>\n",
       "  </tbody>\n",
       "</table>\n",
       "</div>"
      ],
      "text/plain": [
       "                                                pathway LV index       AUC  \\\n",
       "441                              SVM NK cells activated      101  0.815507   \n",
       "439                                           DMAP_NKA3      101  0.824968   \n",
       "438                           IRIS_NKcell-IL2stimulated      101  0.768951   \n",
       "591        REACTOME_CYTOKINE_SIGNALING_IN_IMMUNE_SYSTEM      140  0.712535   \n",
       "590                                     SVM Neutrophils      140  0.732264   \n",
       "592                 REACTOME_INTERFERON_GAMMA_SIGNALING      140  0.861331   \n",
       "88                                            DMAP_NKA3       17  0.700227   \n",
       "91                                 SVM NK cells resting       17  0.805009   \n",
       "92       KEGG_NATURAL_KILLER_CELL_MEDIATED_CYTOTOXICITY       17  0.660631   \n",
       "1032                   REACTOME_REGULATION_OF_APOPTOSIS      300  0.741191   \n",
       "300                                     SVM Neutrophils       61  0.647067   \n",
       "299                                           DMAP_ERY5       61  0.555490   \n",
       "336                         MIPS_PA700_20S_PA28_COMPLEX       70  0.992106   \n",
       "335   REACTOME_CDK_MEDIATED_PHOSPHORYLATION_AND_REMO...       70  0.904858   \n",
       "334   REACTOME_REGULATION_OF_ORNITHINE_DECARBOXYLASE...       70  0.993153   \n",
       "337          KEGG_PATHOGENIC_ESCHERICHIA_COLI_INFECTION       70  0.800101   \n",
       "340                        REACTOME_TRNA_AMINOACYLATION       70  0.781157   \n",
       "1670                                  PID_IL12_2PATHWAY      705  0.711270   \n",
       "1669                             SVM NK cells activated      705  0.852081   \n",
       "1894           KEGG_ANTIGEN_PROCESSING_AND_PRESENTATION      844  0.801124   \n",
       "415                              SVM NK cells activated       96  0.729687   \n",
       "414                       SVM T cells follicular helper       96  0.689263   \n",
       "\n",
       "           p-value           FDR  \n",
       "441   2.739687e-06  4.545773e-05  \n",
       "439   4.924234e-05  5.967176e-04  \n",
       "438   2.282981e-03  1.478796e-02  \n",
       "591   2.407559e-08  6.038493e-07  \n",
       "590   1.615458e-03  1.131345e-02  \n",
       "592   1.693174e-05  2.282610e-04  \n",
       "88    6.643279e-03  3.379611e-02  \n",
       "91    6.562786e-06  9.968964e-05  \n",
       "92    1.499019e-03  1.070657e-02  \n",
       "1032  7.748537e-04  6.283306e-03  \n",
       "300   4.685830e-04  4.059171e-03  \n",
       "299   1.138237e-03  8.545761e-03  \n",
       "336   1.885207e-06  3.201883e-05  \n",
       "335   8.053509e-06  1.189823e-04  \n",
       "334   7.452321e-08  1.747245e-06  \n",
       "337   6.946959e-04  5.697563e-03  \n",
       "340   2.372363e-03  1.515784e-02  \n",
       "1670  2.429515e-03  1.527832e-02  \n",
       "1669  1.669993e-07  3.638559e-06  \n",
       "1894  1.261653e-04  1.347220e-03  \n",
       "415   2.742553e-04  2.569478e-03  \n",
       "414   4.434672e-03  2.452715e-02  "
      ]
     },
     "execution_count": 44,
     "metadata": {},
     "output_type": "execute_result"
    }
   ],
   "source": [
    "lv_pathways.sort_values(\"LV index\")"
   ]
  },
  {
   "cell_type": "code",
   "execution_count": 46,
   "id": "b468a516-a353-4309-b61e-9997fd071756",
   "metadata": {},
   "outputs": [
    {
     "data": {
      "text/html": [
       "<div>\n",
       "<style scoped>\n",
       "    .dataframe tbody tr th:only-of-type {\n",
       "        vertical-align: middle;\n",
       "    }\n",
       "\n",
       "    .dataframe tbody tr th {\n",
       "        vertical-align: top;\n",
       "    }\n",
       "\n",
       "    .dataframe thead th {\n",
       "        text-align: right;\n",
       "    }\n",
       "</style>\n",
       "<table border=\"1\" class=\"dataframe\">\n",
       "  <thead>\n",
       "    <tr style=\"text-align: right;\">\n",
       "      <th></th>\n",
       "      <th>0</th>\n",
       "    </tr>\n",
       "    <tr>\n",
       "      <th>LV index</th>\n",
       "      <th></th>\n",
       "    </tr>\n",
       "  </thead>\n",
       "  <tbody>\n",
       "    <tr>\n",
       "      <th>101</th>\n",
       "      <td>SVM NK cells activated; DMAP_NKA3; IRIS_NKcell-IL2stimulated</td>\n",
       "    </tr>\n",
       "    <tr>\n",
       "      <th>140</th>\n",
       "      <td>REACTOME_CYTOKINE_SIGNALING_IN_IMMUNE_SYSTEM; REACTOME_INTERFERON_GAMMA_SIGNALING; SVM Neutrophils</td>\n",
       "    </tr>\n",
       "    <tr>\n",
       "      <th>17</th>\n",
       "      <td>SVM NK cells resting; KEGG_NATURAL_KILLER_CELL_MEDIATED_CYTOTOXICITY; DMAP_NKA3</td>\n",
       "    </tr>\n",
       "    <tr>\n",
       "      <th>300</th>\n",
       "      <td>REACTOME_REGULATION_OF_APOPTOSIS</td>\n",
       "    </tr>\n",
       "    <tr>\n",
       "      <th>61</th>\n",
       "      <td>SVM Neutrophils; DMAP_ERY5</td>\n",
       "    </tr>\n",
       "    <tr>\n",
       "      <th>70</th>\n",
       "      <td>REACTOME_REGULATION_OF_ORNITHINE_DECARBOXYLASE_ODC; MIPS_PA700_20S_PA28_COMPLEX; REACTOME_CDK_MEDIATED_PHOSPHORYLATION_AND_REMOVAL_OF_CDC6; KEGG_PATHOGENIC_ESCHERICHIA_COLI_INFECTION; REACTOME_TRNA_AMINOACYLATION</td>\n",
       "    </tr>\n",
       "    <tr>\n",
       "      <th>705</th>\n",
       "      <td>SVM NK cells activated; PID_IL12_2PATHWAY</td>\n",
       "    </tr>\n",
       "    <tr>\n",
       "      <th>844</th>\n",
       "      <td>KEGG_ANTIGEN_PROCESSING_AND_PRESENTATION</td>\n",
       "    </tr>\n",
       "    <tr>\n",
       "      <th>96</th>\n",
       "      <td>SVM NK cells activated; SVM T cells follicular helper</td>\n",
       "    </tr>\n",
       "  </tbody>\n",
       "</table>\n",
       "</div>"
      ],
      "text/plain": [
       "                                                                                                                                                                                                                             0\n",
       "LV index                                                                                                                                                                                                                      \n",
       "101                                                                                                                                                               SVM NK cells activated; DMAP_NKA3; IRIS_NKcell-IL2stimulated\n",
       "140                                                                                                                         REACTOME_CYTOKINE_SIGNALING_IN_IMMUNE_SYSTEM; REACTOME_INTERFERON_GAMMA_SIGNALING; SVM Neutrophils\n",
       "17                                                                                                                                             SVM NK cells resting; KEGG_NATURAL_KILLER_CELL_MEDIATED_CYTOTOXICITY; DMAP_NKA3\n",
       "300                                                                                                                                                                                           REACTOME_REGULATION_OF_APOPTOSIS\n",
       "61                                                                                                                                                                                                  SVM Neutrophils; DMAP_ERY5\n",
       "70        REACTOME_REGULATION_OF_ORNITHINE_DECARBOXYLASE_ODC; MIPS_PA700_20S_PA28_COMPLEX; REACTOME_CDK_MEDIATED_PHOSPHORYLATION_AND_REMOVAL_OF_CDC6; KEGG_PATHOGENIC_ESCHERICHIA_COLI_INFECTION; REACTOME_TRNA_AMINOACYLATION\n",
       "705                                                                                                                                                                                  SVM NK cells activated; PID_IL12_2PATHWAY\n",
       "844                                                                                                                                                                                   KEGG_ANTIGEN_PROCESSING_AND_PRESENTATION\n",
       "96                                                                                                                                                                       SVM NK cells activated; SVM T cells follicular helper"
      ]
     },
     "metadata": {},
     "output_type": "display_data"
    }
   ],
   "source": [
    "with pd.option_context(\n",
    "    \"display.max_rows\", None, \"display.max_columns\", None, \"display.max_colwidth\", None\n",
    "):\n",
    "    _tmp = lv_pathways.groupby(\"LV index\").apply(lambda x: \"; \".join(x.sort_values(\"p-value\")[\"pathway\"].tolist()))\n",
    "    display(_tmp.to_frame())"
   ]
  },
  {
   "cell_type": "code",
   "execution_count": null,
   "id": "bdf2cb76-f798-40b1-9ca4-aa9b186d007d",
   "metadata": {},
   "outputs": [],
   "source": []
  }
 ],
 "metadata": {
  "jupytext": {
   "cell_metadata_filter": "all,-execution,-papermill,-trusted",
   "formats": "ipynb,py//py:percent"
  },
  "kernelspec": {
   "display_name": "Python 3 (ipykernel)",
   "language": "python",
   "name": "python3"
  },
  "language_info": {
   "codemirror_mode": {
    "name": "ipython",
    "version": 3
   },
   "file_extension": ".py",
   "mimetype": "text/x-python",
   "name": "python",
   "nbconvert_exporter": "python",
   "pygments_lexer": "ipython3",
   "version": "3.10.6"
  },
  "papermill": {
   "default_parameters": {},
   "duration": 3.044017,
   "end_time": "2022-12-15T20:50:18.420068",
   "environment_variables": {},
   "exception": null,
   "input_path": "projects/asthma-copd/nbs/30_gls_phenoplier/05-summarize.ipynb",
   "output_path": "projects/asthma-copd/nbs/30_gls_phenoplier/05-summarize.run.ipynb",
   "parameters": {
    "PHENOPLIER_NOTEBOOK_FILEPATH": "projects/asthma-copd/nbs/30_gls_phenoplier/05-summarize.ipynb"
   },
   "start_time": "2022-12-15T20:50:15.376051",
   "version": "2.2.2"
  },
  "toc-autonumbering": true,
  "toc-showcode": false
 },
 "nbformat": 4,
 "nbformat_minor": 5
}
