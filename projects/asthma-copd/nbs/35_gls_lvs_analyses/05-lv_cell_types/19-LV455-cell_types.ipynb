{
 "cells": [
  {
   "cell_type": "markdown",
   "id": "superior-virgin",
   "metadata": {
    "papermill": {
     "duration": 0.006593,
     "end_time": "2021-05-11T19:09:55.733221",
     "exception": false,
     "start_time": "2021-05-11T19:09:55.726628",
     "status": "completed"
    },
    "tags": []
   },
   "source": [
    "# Description"
   ]
  },
  {
   "cell_type": "markdown",
   "id": "successful-knight",
   "metadata": {
    "papermill": {
     "duration": 0.00668,
     "end_time": "2021-05-11T19:09:55.745410",
     "exception": false,
     "start_time": "2021-05-11T19:09:55.738730",
     "status": "completed"
    },
    "tags": []
   },
   "source": [
    "Generates the figure for top cell types for a specified LV (in Settings section below)."
   ]
  },
  {
   "cell_type": "markdown",
   "id": "compatible-weight",
   "metadata": {
    "papermill": {
     "duration": 0.006223,
     "end_time": "2021-05-11T19:09:55.756959",
     "exception": false,
     "start_time": "2021-05-11T19:09:55.750736",
     "status": "completed"
    },
    "tags": []
   },
   "source": [
    "# Modules loading"
   ]
  },
  {
   "cell_type": "code",
   "execution_count": 1,
   "id": "proper-chester",
   "metadata": {
    "papermill": {
     "duration": 0.993432,
     "end_time": "2021-05-11T19:09:56.780403",
     "exception": false,
     "start_time": "2021-05-11T19:09:55.786971",
     "status": "completed"
    },
    "tags": []
   },
   "outputs": [],
   "source": [
    "import re\n",
    "from pathlib import Path\n",
    "\n",
    "import pandas as pd\n",
    "import matplotlib.pyplot as plt\n",
    "import seaborn as sns\n",
    "\n",
    "from data.recount2 import LVAnalysis\n",
    "from utils import chunker\n",
    "import conf"
   ]
  },
  {
   "cell_type": "markdown",
   "id": "sized-butter",
   "metadata": {
    "papermill": {
     "duration": 0.005973,
     "end_time": "2021-05-11T19:09:56.792495",
     "exception": false,
     "start_time": "2021-05-11T19:09:56.786522",
     "status": "completed"
    },
    "tags": []
   },
   "source": [
    "# Settings"
   ]
  },
  {
   "cell_type": "code",
   "execution_count": 2,
   "id": "tender-contrary",
   "metadata": {
    "papermill": {
     "duration": 0.019548,
     "end_time": "2021-05-11T19:09:56.817689",
     "exception": false,
     "start_time": "2021-05-11T19:09:56.798141",
     "status": "completed"
    },
    "tags": [
     "parameters"
    ]
   },
   "outputs": [],
   "source": [
    "LV_NAME = \"LV455\""
   ]
  },
  {
   "cell_type": "code",
   "execution_count": 69,
   "id": "sunset-carbon",
   "metadata": {},
   "outputs": [],
   "source": [
    "LV_AXIS_THRESHOLD = 1.5  # 3.0\n",
    "# LV_AXIS_THRESHOLD = 2.0\n",
    "N_TOP_SAMPLES = 400\n",
    "N_TOP_ATTRS = 15"
   ]
  },
  {
   "cell_type": "code",
   "execution_count": 4,
   "id": "proof-primary",
   "metadata": {},
   "outputs": [],
   "source": [
    "# OUTPUT_FIGURES_DIR = Path(\n",
    "#     conf.MANUSCRIPT[\"FIGURES_DIR\"], \"lvs_analysis\", f\"{LV_NAME.lower()}\"\n",
    "# ).resolve()\n",
    "# display(OUTPUT_FIGURES_DIR)\n",
    "# OUTPUT_FIGURES_DIR.mkdir(parents=True, exist_ok=True)"
   ]
  },
  {
   "cell_type": "code",
   "execution_count": 5,
   "id": "three-crossing",
   "metadata": {},
   "outputs": [],
   "source": [
    "# OUTPUT_CELL_TYPE_FILEPATH = OUTPUT_FIGURES_DIR / f\"{LV_NAME.lower()}-cell_types.svg\"\n",
    "# display(OUTPUT_CELL_TYPE_FILEPATH)"
   ]
  },
  {
   "cell_type": "markdown",
   "id": "invisible-madrid",
   "metadata": {
    "papermill": {
     "duration": 0.005592,
     "end_time": "2021-05-11T19:09:56.854406",
     "exception": false,
     "start_time": "2021-05-11T19:09:56.848814",
     "status": "completed"
    },
    "tags": []
   },
   "source": [
    "# Load MultiPLIER summary"
   ]
  },
  {
   "cell_type": "code",
   "execution_count": 6,
   "id": "coated-christmas",
   "metadata": {
    "papermill": {
     "duration": 0.020251,
     "end_time": "2021-05-11T19:09:56.880435",
     "exception": false,
     "start_time": "2021-05-11T19:09:56.860184",
     "status": "completed"
    },
    "tags": []
   },
   "outputs": [],
   "source": [
    "multiplier_model_summary = pd.read_pickle(conf.MULTIPLIER[\"MODEL_SUMMARY_FILE\"])"
   ]
  },
  {
   "cell_type": "code",
   "execution_count": 7,
   "id": "stopped-driving",
   "metadata": {
    "papermill": {
     "duration": 0.02062,
     "end_time": "2021-05-11T19:09:56.906744",
     "exception": false,
     "start_time": "2021-05-11T19:09:56.886124",
     "status": "completed"
    },
    "tags": []
   },
   "outputs": [
    {
     "data": {
      "text/plain": [
       "(2157, 5)"
      ]
     },
     "execution_count": 7,
     "metadata": {},
     "output_type": "execute_result"
    }
   ],
   "source": [
    "multiplier_model_summary.shape"
   ]
  },
  {
   "cell_type": "code",
   "execution_count": 8,
   "id": "rural-grove",
   "metadata": {
    "papermill": {
     "duration": 0.024737,
     "end_time": "2021-05-11T19:09:56.937493",
     "exception": false,
     "start_time": "2021-05-11T19:09:56.912756",
     "status": "completed"
    },
    "tags": []
   },
   "outputs": [
    {
     "data": {
      "text/html": [
       "<div>\n",
       "<style scoped>\n",
       "    .dataframe tbody tr th:only-of-type {\n",
       "        vertical-align: middle;\n",
       "    }\n",
       "\n",
       "    .dataframe tbody tr th {\n",
       "        vertical-align: top;\n",
       "    }\n",
       "\n",
       "    .dataframe thead th {\n",
       "        text-align: right;\n",
       "    }\n",
       "</style>\n",
       "<table border=\"1\" class=\"dataframe\">\n",
       "  <thead>\n",
       "    <tr style=\"text-align: right;\">\n",
       "      <th></th>\n",
       "      <th>pathway</th>\n",
       "      <th>LV index</th>\n",
       "      <th>AUC</th>\n",
       "      <th>p-value</th>\n",
       "      <th>FDR</th>\n",
       "    </tr>\n",
       "  </thead>\n",
       "  <tbody>\n",
       "    <tr>\n",
       "      <th>1</th>\n",
       "      <td>KEGG_LYSINE_DEGRADATION</td>\n",
       "      <td>1</td>\n",
       "      <td>0.388059</td>\n",
       "      <td>0.866078</td>\n",
       "      <td>0.956005</td>\n",
       "    </tr>\n",
       "    <tr>\n",
       "      <th>2</th>\n",
       "      <td>REACTOME_MRNA_SPLICING</td>\n",
       "      <td>1</td>\n",
       "      <td>0.733057</td>\n",
       "      <td>0.000048</td>\n",
       "      <td>0.000582</td>\n",
       "    </tr>\n",
       "    <tr>\n",
       "      <th>3</th>\n",
       "      <td>MIPS_NOP56P_ASSOCIATED_PRE_RRNA_COMPLEX</td>\n",
       "      <td>1</td>\n",
       "      <td>0.680555</td>\n",
       "      <td>0.001628</td>\n",
       "      <td>0.011366</td>\n",
       "    </tr>\n",
       "    <tr>\n",
       "      <th>4</th>\n",
       "      <td>KEGG_DNA_REPLICATION</td>\n",
       "      <td>1</td>\n",
       "      <td>0.549473</td>\n",
       "      <td>0.312155</td>\n",
       "      <td>0.539951</td>\n",
       "    </tr>\n",
       "    <tr>\n",
       "      <th>5</th>\n",
       "      <td>PID_MYC_ACTIVPATHWAY</td>\n",
       "      <td>1</td>\n",
       "      <td>0.639303</td>\n",
       "      <td>0.021702</td>\n",
       "      <td>0.083739</td>\n",
       "    </tr>\n",
       "  </tbody>\n",
       "</table>\n",
       "</div>"
      ],
      "text/plain": [
       "                                   pathway LV index       AUC   p-value  \\\n",
       "1                  KEGG_LYSINE_DEGRADATION        1  0.388059  0.866078   \n",
       "2                   REACTOME_MRNA_SPLICING        1  0.733057  0.000048   \n",
       "3  MIPS_NOP56P_ASSOCIATED_PRE_RRNA_COMPLEX        1  0.680555  0.001628   \n",
       "4                     KEGG_DNA_REPLICATION        1  0.549473  0.312155   \n",
       "5                     PID_MYC_ACTIVPATHWAY        1  0.639303  0.021702   \n",
       "\n",
       "        FDR  \n",
       "1  0.956005  \n",
       "2  0.000582  \n",
       "3  0.011366  \n",
       "4  0.539951  \n",
       "5  0.083739  "
      ]
     },
     "execution_count": 8,
     "metadata": {},
     "output_type": "execute_result"
    }
   ],
   "source": [
    "multiplier_model_summary.head()"
   ]
  },
  {
   "cell_type": "markdown",
   "id": "neural-expression",
   "metadata": {
    "papermill": {
     "duration": 0.006007,
     "end_time": "2021-05-11T19:09:56.949763",
     "exception": false,
     "start_time": "2021-05-11T19:09:56.943756",
     "status": "completed"
    },
    "tags": []
   },
   "source": [
    "# Load data"
   ]
  },
  {
   "cell_type": "markdown",
   "id": "military-enlargement",
   "metadata": {
    "papermill": {
     "duration": 0.005873,
     "end_time": "2021-05-11T19:09:56.961602",
     "exception": false,
     "start_time": "2021-05-11T19:09:56.955729",
     "status": "completed"
    },
    "tags": []
   },
   "source": [
    "## Original data"
   ]
  },
  {
   "cell_type": "code",
   "execution_count": 9,
   "id": "distinguished-elements",
   "metadata": {
    "papermill": {
     "duration": 0.019571,
     "end_time": "2021-05-11T19:09:56.987255",
     "exception": false,
     "start_time": "2021-05-11T19:09:56.967684",
     "status": "completed"
    },
    "tags": []
   },
   "outputs": [],
   "source": [
    "# INPUT_SUBSET = \"z_score_std\""
   ]
  },
  {
   "cell_type": "code",
   "execution_count": 10,
   "id": "elementary-court",
   "metadata": {
    "papermill": {
     "duration": 0.019175,
     "end_time": "2021-05-11T19:09:57.025099",
     "exception": false,
     "start_time": "2021-05-11T19:09:57.005924",
     "status": "completed"
    },
    "tags": []
   },
   "outputs": [],
   "source": [
    "# INPUT_STEM = \"projection-smultixcan-efo_partial-mashr-zscores\""
   ]
  },
  {
   "cell_type": "code",
   "execution_count": 11,
   "id": "yellow-stand",
   "metadata": {
    "papermill": {
     "duration": 0.020992,
     "end_time": "2021-05-11T19:09:57.052255",
     "exception": false,
     "start_time": "2021-05-11T19:09:57.031263",
     "status": "completed"
    },
    "tags": []
   },
   "outputs": [],
   "source": [
    "# input_filepath = Path(\n",
    "#     conf.RESULTS[\"DATA_TRANSFORMATIONS_DIR\"],\n",
    "#     INPUT_SUBSET,\n",
    "#     f\"{INPUT_SUBSET}-{INPUT_STEM}.pkl\",\n",
    "# ).resolve()\n",
    "# display(input_filepath)\n",
    "\n",
    "# assert input_filepath.exists(), \"Input file does not exist\"\n",
    "\n",
    "# input_filepath_stem = input_filepath.stem\n",
    "# display(input_filepath_stem)"
   ]
  },
  {
   "cell_type": "code",
   "execution_count": 12,
   "id": "perfect-cruise",
   "metadata": {
    "papermill": {
     "duration": 0.032337,
     "end_time": "2021-05-11T19:09:57.090585",
     "exception": false,
     "start_time": "2021-05-11T19:09:57.058248",
     "status": "completed"
    },
    "tags": []
   },
   "outputs": [],
   "source": [
    "# data = pd.read_pickle(input_filepath)"
   ]
  },
  {
   "cell_type": "code",
   "execution_count": 13,
   "id": "medieval-junction",
   "metadata": {
    "papermill": {
     "duration": 0.01967,
     "end_time": "2021-05-11T19:09:57.116292",
     "exception": false,
     "start_time": "2021-05-11T19:09:57.096622",
     "status": "completed"
    },
    "tags": []
   },
   "outputs": [],
   "source": [
    "# data.shape"
   ]
  },
  {
   "cell_type": "code",
   "execution_count": 14,
   "id": "charitable-craps",
   "metadata": {
    "papermill": {
     "duration": 0.031843,
     "end_time": "2021-05-11T19:09:57.154356",
     "exception": false,
     "start_time": "2021-05-11T19:09:57.122513",
     "status": "completed"
    },
    "tags": []
   },
   "outputs": [],
   "source": [
    "# data.head()"
   ]
  },
  {
   "cell_type": "markdown",
   "id": "architectural-flooring",
   "metadata": {},
   "source": [
    "## LV data"
   ]
  },
  {
   "cell_type": "code",
   "execution_count": 15,
   "id": "suited-employer",
   "metadata": {},
   "outputs": [],
   "source": [
    "# lv_obj = LVAnalysis(LV_NAME, data)\n",
    "lv_obj = LVAnalysis(LV_NAME)"
   ]
  },
  {
   "cell_type": "code",
   "execution_count": 16,
   "id": "noted-little",
   "metadata": {},
   "outputs": [
    {
     "data": {
      "text/html": [
       "<div>\n",
       "<style scoped>\n",
       "    .dataframe tbody tr th:only-of-type {\n",
       "        vertical-align: middle;\n",
       "    }\n",
       "\n",
       "    .dataframe tbody tr th {\n",
       "        vertical-align: top;\n",
       "    }\n",
       "\n",
       "    .dataframe thead th {\n",
       "        text-align: right;\n",
       "    }\n",
       "</style>\n",
       "<table border=\"1\" class=\"dataframe\">\n",
       "  <thead>\n",
       "    <tr style=\"text-align: right;\">\n",
       "      <th></th>\n",
       "      <th>pathway</th>\n",
       "      <th>LV index</th>\n",
       "      <th>AUC</th>\n",
       "      <th>p-value</th>\n",
       "      <th>FDR</th>\n",
       "    </tr>\n",
       "  </thead>\n",
       "  <tbody>\n",
       "  </tbody>\n",
       "</table>\n",
       "</div>"
      ],
      "text/plain": [
       "Empty DataFrame\n",
       "Columns: [pathway, LV index, AUC, p-value, FDR]\n",
       "Index: []"
      ]
     },
     "execution_count": 16,
     "metadata": {},
     "output_type": "execute_result"
    }
   ],
   "source": [
    "multiplier_model_summary[\n",
    "    multiplier_model_summary[\"LV index\"].isin((LV_NAME[2:],))\n",
    "    & (\n",
    "        (multiplier_model_summary[\"FDR\"] < 0.05)\n",
    "        | (multiplier_model_summary[\"AUC\"] >= 0.75)\n",
    "    )\n",
    "]"
   ]
  },
  {
   "cell_type": "code",
   "execution_count": 17,
   "id": "assigned-weekly",
   "metadata": {},
   "outputs": [
    {
     "name": "stdout",
     "output_type": "stream",
     "text": [
      "SRP008145, SRP014320, SRP057196, SRP066834, SRP055569, SRP007947, SRP042161, SRP005279, SRP060416, SRP055810, SRP009266, SRP029334, SRP050499, SRP063840, SRP051472, SRP018837, SRP058773, SRP057205, SRP041751, SRP027383, SRP008775, SRP033135, SRP014428, SRP015853, SRP059035, SRP041008, SRP037722, SRP048820, SRP017777, SRP019994, SRP029452, SRP011903, SRP048640, SRP059197, SRP011422, SRP066994, SRP059057, SRP007569, SRP035599, SRP063493, SRP056395, SRP029880, SRP007461, SRP064464, "
     ]
    },
    {
     "name": "stderr",
     "output_type": "stream",
     "text": [
      "/opt/code/libs/data/recount2.py:360: UserWarning: Not all experiments data could be loaded (40 != 44)\n",
      "  warnings.warn(\n"
     ]
    }
   ],
   "source": [
    "lv_data = lv_obj.get_experiments_data()"
   ]
  },
  {
   "cell_type": "code",
   "execution_count": 18,
   "id": "guilty-medicaid",
   "metadata": {},
   "outputs": [
    {
     "data": {
      "text/plain": [
       "(5749, 75)"
      ]
     },
     "execution_count": 18,
     "metadata": {},
     "output_type": "execute_result"
    }
   ],
   "source": [
    "lv_data.shape"
   ]
  },
  {
   "cell_type": "code",
   "execution_count": 19,
   "id": "neural-cambridge",
   "metadata": {},
   "outputs": [
    {
     "data": {
      "text/html": [
       "<div>\n",
       "<style scoped>\n",
       "    .dataframe tbody tr th:only-of-type {\n",
       "        vertical-align: middle;\n",
       "    }\n",
       "\n",
       "    .dataframe tbody tr th {\n",
       "        vertical-align: top;\n",
       "    }\n",
       "\n",
       "    .dataframe thead th {\n",
       "        text-align: right;\n",
       "    }\n",
       "</style>\n",
       "<table border=\"1\" class=\"dataframe\">\n",
       "  <thead>\n",
       "    <tr style=\"text-align: right;\">\n",
       "      <th></th>\n",
       "      <th></th>\n",
       "      <th>treatment</th>\n",
       "      <th>cell line</th>\n",
       "      <th>sample type</th>\n",
       "      <th>reporter</th>\n",
       "      <th>tissue</th>\n",
       "      <th>cell type</th>\n",
       "      <th>age</th>\n",
       "      <th>c1 chip id</th>\n",
       "      <th>experiment_sample_name</th>\n",
       "      <th>Stage</th>\n",
       "      <th>...</th>\n",
       "      <th>Sex</th>\n",
       "      <th>sf3b1 mutation</th>\n",
       "      <th>strain</th>\n",
       "      <th>ajcc stage</th>\n",
       "      <th>assigned cell type</th>\n",
       "      <th>qc pass</th>\n",
       "      <th>cell count</th>\n",
       "      <th>ercc_mix</th>\n",
       "      <th>ercc_dilution</th>\n",
       "      <th>LV455</th>\n",
       "    </tr>\n",
       "    <tr>\n",
       "      <th>project</th>\n",
       "      <th>run</th>\n",
       "      <th></th>\n",
       "      <th></th>\n",
       "      <th></th>\n",
       "      <th></th>\n",
       "      <th></th>\n",
       "      <th></th>\n",
       "      <th></th>\n",
       "      <th></th>\n",
       "      <th></th>\n",
       "      <th></th>\n",
       "      <th></th>\n",
       "      <th></th>\n",
       "      <th></th>\n",
       "      <th></th>\n",
       "      <th></th>\n",
       "      <th></th>\n",
       "      <th></th>\n",
       "      <th></th>\n",
       "      <th></th>\n",
       "      <th></th>\n",
       "      <th></th>\n",
       "    </tr>\n",
       "  </thead>\n",
       "  <tbody>\n",
       "    <tr>\n",
       "      <th rowspan=\"5\" valign=\"top\">SRP008145</th>\n",
       "      <th>SRR342832</th>\n",
       "      <td>DMSO (5 hours)</td>\n",
       "      <td>HEK293T/17</td>\n",
       "      <td>embyonic kidney cell line</td>\n",
       "      <td>CRE multi-hit</td>\n",
       "      <td>NaN</td>\n",
       "      <td>NaN</td>\n",
       "      <td>NaN</td>\n",
       "      <td>NaN</td>\n",
       "      <td>NaN</td>\n",
       "      <td>NaN</td>\n",
       "      <td>...</td>\n",
       "      <td>NaN</td>\n",
       "      <td>NaN</td>\n",
       "      <td>NaN</td>\n",
       "      <td>NaN</td>\n",
       "      <td>NaN</td>\n",
       "      <td>NaN</td>\n",
       "      <td>NaN</td>\n",
       "      <td>NaN</td>\n",
       "      <td>NaN</td>\n",
       "      <td>3.977208</td>\n",
       "    </tr>\n",
       "    <tr>\n",
       "      <th>SRR342834</th>\n",
       "      <td>DMSO (5 hours)</td>\n",
       "      <td>HEK293T/17</td>\n",
       "      <td>embyonic kidney cell line</td>\n",
       "      <td>CRE multi-hit</td>\n",
       "      <td>NaN</td>\n",
       "      <td>NaN</td>\n",
       "      <td>NaN</td>\n",
       "      <td>NaN</td>\n",
       "      <td>NaN</td>\n",
       "      <td>NaN</td>\n",
       "      <td>...</td>\n",
       "      <td>NaN</td>\n",
       "      <td>NaN</td>\n",
       "      <td>NaN</td>\n",
       "      <td>NaN</td>\n",
       "      <td>NaN</td>\n",
       "      <td>NaN</td>\n",
       "      <td>NaN</td>\n",
       "      <td>NaN</td>\n",
       "      <td>NaN</td>\n",
       "      <td>0.636918</td>\n",
       "    </tr>\n",
       "    <tr>\n",
       "      <th>SRR342835</th>\n",
       "      <td>DMSO (5 hours)</td>\n",
       "      <td>HEK293T/17</td>\n",
       "      <td>embyonic kidney cell line</td>\n",
       "      <td>CRE multi-hit</td>\n",
       "      <td>NaN</td>\n",
       "      <td>NaN</td>\n",
       "      <td>NaN</td>\n",
       "      <td>NaN</td>\n",
       "      <td>NaN</td>\n",
       "      <td>NaN</td>\n",
       "      <td>...</td>\n",
       "      <td>NaN</td>\n",
       "      <td>NaN</td>\n",
       "      <td>NaN</td>\n",
       "      <td>NaN</td>\n",
       "      <td>NaN</td>\n",
       "      <td>NaN</td>\n",
       "      <td>NaN</td>\n",
       "      <td>NaN</td>\n",
       "      <td>NaN</td>\n",
       "      <td>0.077617</td>\n",
       "    </tr>\n",
       "    <tr>\n",
       "      <th>SRR342836</th>\n",
       "      <td>DMSO (5 hours)</td>\n",
       "      <td>HEK293T/17</td>\n",
       "      <td>embyonic kidney cell line</td>\n",
       "      <td>CRE multi-hit</td>\n",
       "      <td>NaN</td>\n",
       "      <td>NaN</td>\n",
       "      <td>NaN</td>\n",
       "      <td>NaN</td>\n",
       "      <td>NaN</td>\n",
       "      <td>NaN</td>\n",
       "      <td>...</td>\n",
       "      <td>NaN</td>\n",
       "      <td>NaN</td>\n",
       "      <td>NaN</td>\n",
       "      <td>NaN</td>\n",
       "      <td>NaN</td>\n",
       "      <td>NaN</td>\n",
       "      <td>NaN</td>\n",
       "      <td>NaN</td>\n",
       "      <td>NaN</td>\n",
       "      <td>0.151259</td>\n",
       "    </tr>\n",
       "    <tr>\n",
       "      <th>SRR342839</th>\n",
       "      <td>100 uM forskolin (5 hours)</td>\n",
       "      <td>HEK293T/17</td>\n",
       "      <td>embyonic kidney cell line</td>\n",
       "      <td>CRE multi-hit</td>\n",
       "      <td>NaN</td>\n",
       "      <td>NaN</td>\n",
       "      <td>NaN</td>\n",
       "      <td>NaN</td>\n",
       "      <td>NaN</td>\n",
       "      <td>NaN</td>\n",
       "      <td>...</td>\n",
       "      <td>NaN</td>\n",
       "      <td>NaN</td>\n",
       "      <td>NaN</td>\n",
       "      <td>NaN</td>\n",
       "      <td>NaN</td>\n",
       "      <td>NaN</td>\n",
       "      <td>NaN</td>\n",
       "      <td>NaN</td>\n",
       "      <td>NaN</td>\n",
       "      <td>3.381660</td>\n",
       "    </tr>\n",
       "  </tbody>\n",
       "</table>\n",
       "<p>5 rows × 75 columns</p>\n",
       "</div>"
      ],
      "text/plain": [
       "                                      treatment   cell line  \\\n",
       "project   run                                                 \n",
       "SRP008145 SRR342832              DMSO (5 hours)  HEK293T/17   \n",
       "          SRR342834              DMSO (5 hours)  HEK293T/17   \n",
       "          SRR342835              DMSO (5 hours)  HEK293T/17   \n",
       "          SRR342836              DMSO (5 hours)  HEK293T/17   \n",
       "          SRR342839  100 uM forskolin (5 hours)  HEK293T/17   \n",
       "\n",
       "                                   sample type       reporter tissue  \\\n",
       "project   run                                                          \n",
       "SRP008145 SRR342832  embyonic kidney cell line  CRE multi-hit    NaN   \n",
       "          SRR342834  embyonic kidney cell line  CRE multi-hit    NaN   \n",
       "          SRR342835  embyonic kidney cell line  CRE multi-hit    NaN   \n",
       "          SRR342836  embyonic kidney cell line  CRE multi-hit    NaN   \n",
       "          SRR342839  embyonic kidney cell line  CRE multi-hit    NaN   \n",
       "\n",
       "                    cell type  age c1 chip id experiment_sample_name Stage  \\\n",
       "project   run                                                                \n",
       "SRP008145 SRR342832       NaN  NaN        NaN                    NaN   NaN   \n",
       "          SRR342834       NaN  NaN        NaN                    NaN   NaN   \n",
       "          SRR342835       NaN  NaN        NaN                    NaN   NaN   \n",
       "          SRR342836       NaN  NaN        NaN                    NaN   NaN   \n",
       "          SRR342839       NaN  NaN        NaN                    NaN   NaN   \n",
       "\n",
       "                     ...  Sex sf3b1 mutation strain ajcc stage  \\\n",
       "project   run        ...                                         \n",
       "SRP008145 SRR342832  ...  NaN            NaN    NaN        NaN   \n",
       "          SRR342834  ...  NaN            NaN    NaN        NaN   \n",
       "          SRR342835  ...  NaN            NaN    NaN        NaN   \n",
       "          SRR342836  ...  NaN            NaN    NaN        NaN   \n",
       "          SRR342839  ...  NaN            NaN    NaN        NaN   \n",
       "\n",
       "                    assigned cell type qc pass cell count ercc_mix  \\\n",
       "project   run                                                        \n",
       "SRP008145 SRR342832                NaN     NaN        NaN      NaN   \n",
       "          SRR342834                NaN     NaN        NaN      NaN   \n",
       "          SRR342835                NaN     NaN        NaN      NaN   \n",
       "          SRR342836                NaN     NaN        NaN      NaN   \n",
       "          SRR342839                NaN     NaN        NaN      NaN   \n",
       "\n",
       "                    ercc_dilution     LV455  \n",
       "project   run                                \n",
       "SRP008145 SRR342832           NaN  3.977208  \n",
       "          SRR342834           NaN  0.636918  \n",
       "          SRR342835           NaN  0.077617  \n",
       "          SRR342836           NaN  0.151259  \n",
       "          SRR342839           NaN  3.381660  \n",
       "\n",
       "[5 rows x 75 columns]"
      ]
     },
     "execution_count": 19,
     "metadata": {},
     "output_type": "execute_result"
    }
   ],
   "source": [
    "lv_data.head()"
   ]
  },
  {
   "cell_type": "markdown",
   "id": "civil-yugoslavia",
   "metadata": {},
   "source": [
    "# LV cell types analysis"
   ]
  },
  {
   "cell_type": "markdown",
   "id": "roman-hotel",
   "metadata": {},
   "source": [
    "## Get top attributes"
   ]
  },
  {
   "cell_type": "code",
   "execution_count": 20,
   "id": "pressed-oxide",
   "metadata": {},
   "outputs": [
    {
     "data": {
      "text/plain": [
       "reporter                                   5.994306\n",
       "treatment                                  2.709171\n",
       "sample type                                2.251943\n",
       "cell line                                  0.235008\n",
       "immunoprecipitated protein                 0.004472\n",
       "crosslinker and crosslinking wavelength    0.004472\n",
       "antibody                                   0.004472\n",
       "c1 chip id                                 0.003361\n",
       "experiment_sample_name                     0.003361\n",
       "age                                        0.003292\n",
       "bcp all subtype                            0.002462\n",
       "cancer or normal                           0.002346\n",
       "tissue                                     0.002084\n",
       "differentiation stage                      0.001899\n",
       "embryo number                              0.001887\n",
       "lineage                                    0.001887\n",
       "Stage                                      0.001809\n",
       "all lineage                                0.001753\n",
       "developmental stage                        0.001295\n",
       "gfp                                        0.001277\n",
       "dtype: float64"
      ]
     },
     "metadata": {},
     "output_type": "display_data"
    }
   ],
   "source": [
    "lv_attrs = lv_obj.get_attributes_variation_score()\n",
    "display(lv_attrs.head(20))"
   ]
  },
  {
   "cell_type": "code",
   "execution_count": 22,
   "id": "creative-privacy",
   "metadata": {},
   "outputs": [
    {
     "data": {
      "text/plain": [
       "tissue       0.002084\n",
       "cell type    0.001221\n",
       "dtype: float64"
      ]
     },
     "execution_count": 22,
     "metadata": {},
     "output_type": "execute_result"
    }
   ],
   "source": [
    "# show those with cell type or tissue in their name\n",
    "_tmp = pd.Series(lv_attrs.index)\n",
    "lv_attrs[\n",
    "    _tmp.str.match(\n",
    "        \"(?:cell.+type$)|(?:tissue$)|(?:tissue.+type$)\",\n",
    "        case=False,\n",
    "        flags=re.IGNORECASE,\n",
    "    ).values\n",
    "].sort_values(ascending=False)"
   ]
  },
  {
   "cell_type": "code",
   "execution_count": 27,
   "id": "distinguished-thinking",
   "metadata": {},
   "outputs": [],
   "source": [
    "_tmp = lv_data.loc[\n",
    "    :,\n",
    "    [\n",
    "        \"cell line\",\n",
    "        \"tissue\",\n",
    "        \"cell type\",\n",
    "        # \"tissue subtype\",\n",
    "        # \"tissue type\",\n",
    "        LV_NAME,\n",
    "    ],\n",
    "]"
   ]
  },
  {
   "cell_type": "code",
   "execution_count": 28,
   "id": "civil-cooperation",
   "metadata": {},
   "outputs": [],
   "source": [
    "_tmp_seq = list(chunker(_tmp.sort_values(LV_NAME, ascending=False), 25))"
   ]
  },
  {
   "cell_type": "code",
   "execution_count": 29,
   "id": "dressed-enemy",
   "metadata": {},
   "outputs": [
    {
     "data": {
      "text/html": [
       "<div>\n",
       "<style scoped>\n",
       "    .dataframe tbody tr th:only-of-type {\n",
       "        vertical-align: middle;\n",
       "    }\n",
       "\n",
       "    .dataframe tbody tr th {\n",
       "        vertical-align: top;\n",
       "    }\n",
       "\n",
       "    .dataframe thead th {\n",
       "        text-align: right;\n",
       "    }\n",
       "</style>\n",
       "<table border=\"1\" class=\"dataframe\">\n",
       "  <thead>\n",
       "    <tr style=\"text-align: right;\">\n",
       "      <th></th>\n",
       "      <th></th>\n",
       "      <th>cell line</th>\n",
       "      <th>tissue</th>\n",
       "      <th>cell type</th>\n",
       "      <th>LV455</th>\n",
       "    </tr>\n",
       "    <tr>\n",
       "      <th>project</th>\n",
       "      <th>run</th>\n",
       "      <th></th>\n",
       "      <th></th>\n",
       "      <th></th>\n",
       "      <th></th>\n",
       "    </tr>\n",
       "  </thead>\n",
       "  <tbody>\n",
       "    <tr>\n",
       "      <th rowspan=\"6\" valign=\"top\">SRP008145</th>\n",
       "      <th>SRR342846</th>\n",
       "      <td>HEK293T/17</td>\n",
       "      <td>NaN</td>\n",
       "      <td>NaN</td>\n",
       "      <td>9.929934</td>\n",
       "    </tr>\n",
       "    <tr>\n",
       "      <th>SRR342832</th>\n",
       "      <td>HEK293T/17</td>\n",
       "      <td>NaN</td>\n",
       "      <td>NaN</td>\n",
       "      <td>3.977208</td>\n",
       "    </tr>\n",
       "    <tr>\n",
       "      <th>SRR342839</th>\n",
       "      <td>HEK293T/17</td>\n",
       "      <td>NaN</td>\n",
       "      <td>NaN</td>\n",
       "      <td>3.381660</td>\n",
       "    </tr>\n",
       "    <tr>\n",
       "      <th>SRR342862</th>\n",
       "      <td>HEK293T/17</td>\n",
       "      <td>NaN</td>\n",
       "      <td>NaN</td>\n",
       "      <td>0.718741</td>\n",
       "    </tr>\n",
       "    <tr>\n",
       "      <th>SRR342834</th>\n",
       "      <td>HEK293T/17</td>\n",
       "      <td>NaN</td>\n",
       "      <td>NaN</td>\n",
       "      <td>0.636918</td>\n",
       "    </tr>\n",
       "    <tr>\n",
       "      <th>SRR342848</th>\n",
       "      <td>HEK293T/17</td>\n",
       "      <td>NaN</td>\n",
       "      <td>NaN</td>\n",
       "      <td>0.620987</td>\n",
       "    </tr>\n",
       "    <tr>\n",
       "      <th>SRP057196</th>\n",
       "      <th>SRR1974781</th>\n",
       "      <td>NaN</td>\n",
       "      <td>cortex</td>\n",
       "      <td>endothelial</td>\n",
       "      <td>0.525810</td>\n",
       "    </tr>\n",
       "    <tr>\n",
       "      <th rowspan=\"2\" valign=\"top\">SRP008145</th>\n",
       "      <th>SRR342850</th>\n",
       "      <td>HEK293T/17</td>\n",
       "      <td>NaN</td>\n",
       "      <td>NaN</td>\n",
       "      <td>0.524551</td>\n",
       "    </tr>\n",
       "    <tr>\n",
       "      <th>SRR342861</th>\n",
       "      <td>HEK293T/17</td>\n",
       "      <td>NaN</td>\n",
       "      <td>NaN</td>\n",
       "      <td>0.471009</td>\n",
       "    </tr>\n",
       "    <tr>\n",
       "      <th>SRP066834</th>\n",
       "      <th>SRR2967412</th>\n",
       "      <td>NaN</td>\n",
       "      <td>Dissociated whole cerebral organoid</td>\n",
       "      <td>NaN</td>\n",
       "      <td>0.462463</td>\n",
       "    </tr>\n",
       "    <tr>\n",
       "      <th rowspan=\"2\" valign=\"top\">SRP057196</th>\n",
       "      <th>SRR1974951</th>\n",
       "      <td>NaN</td>\n",
       "      <td>cortex</td>\n",
       "      <td>fetal_quiescent</td>\n",
       "      <td>0.459577</td>\n",
       "    </tr>\n",
       "    <tr>\n",
       "      <th>SRR1974968</th>\n",
       "      <td>NaN</td>\n",
       "      <td>cortex</td>\n",
       "      <td>fetal_quiescent</td>\n",
       "      <td>0.459556</td>\n",
       "    </tr>\n",
       "    <tr>\n",
       "      <th rowspan=\"2\" valign=\"top\">SRP008145</th>\n",
       "      <th>SRR342849</th>\n",
       "      <td>HEK293T/17</td>\n",
       "      <td>NaN</td>\n",
       "      <td>NaN</td>\n",
       "      <td>0.439257</td>\n",
       "    </tr>\n",
       "    <tr>\n",
       "      <th>SRR342841</th>\n",
       "      <td>HEK293T/17</td>\n",
       "      <td>NaN</td>\n",
       "      <td>NaN</td>\n",
       "      <td>0.294857</td>\n",
       "    </tr>\n",
       "    <tr>\n",
       "      <th>SRP055569</th>\n",
       "      <th>SRR1821383</th>\n",
       "      <td>NaN</td>\n",
       "      <td>NaN</td>\n",
       "      <td>U87 human glioma cells</td>\n",
       "      <td>0.273530</td>\n",
       "    </tr>\n",
       "    <tr>\n",
       "      <th>SRP007947</th>\n",
       "      <th>SRR333717</th>\n",
       "      <td>NaN</td>\n",
       "      <td>NaN</td>\n",
       "      <td>testicular germ</td>\n",
       "      <td>0.267689</td>\n",
       "    </tr>\n",
       "    <tr>\n",
       "      <th>SRP042161</th>\n",
       "      <th>SRR1295218</th>\n",
       "      <td>CSC6</td>\n",
       "      <td>NaN</td>\n",
       "      <td>Gliomasphere Cell Line</td>\n",
       "      <td>0.260117</td>\n",
       "    </tr>\n",
       "    <tr>\n",
       "      <th>SRP055569</th>\n",
       "      <th>SRR2019226</th>\n",
       "      <td>NaN</td>\n",
       "      <td>NaN</td>\n",
       "      <td>mixture of U87 human glioma cells and WI-38 hu...</td>\n",
       "      <td>0.256768</td>\n",
       "    </tr>\n",
       "    <tr>\n",
       "      <th>SRP057196</th>\n",
       "      <th>SRR1974891</th>\n",
       "      <td>NaN</td>\n",
       "      <td>cortex</td>\n",
       "      <td>fetal_replicating</td>\n",
       "      <td>0.234436</td>\n",
       "    </tr>\n",
       "    <tr>\n",
       "      <th>SRP042161</th>\n",
       "      <th>SRR1294514</th>\n",
       "      <td>NaN</td>\n",
       "      <td>NaN</td>\n",
       "      <td>Glioblastoma</td>\n",
       "      <td>0.228506</td>\n",
       "    </tr>\n",
       "    <tr>\n",
       "      <th>SRP066834</th>\n",
       "      <th>SRR2967605</th>\n",
       "      <td>NaN</td>\n",
       "      <td>Microdissected cortical-like ventricle from ce...</td>\n",
       "      <td>NaN</td>\n",
       "      <td>0.227026</td>\n",
       "    </tr>\n",
       "    <tr>\n",
       "      <th>SRP055569</th>\n",
       "      <th>SRR2019233</th>\n",
       "      <td>NaN</td>\n",
       "      <td>NaN</td>\n",
       "      <td>mixture of U87 human glioma cells and WI-38 hu...</td>\n",
       "      <td>0.225892</td>\n",
       "    </tr>\n",
       "    <tr>\n",
       "      <th>SRP057196</th>\n",
       "      <th>SRR1974723</th>\n",
       "      <td>NaN</td>\n",
       "      <td>cortex</td>\n",
       "      <td>astrocytes</td>\n",
       "      <td>0.219849</td>\n",
       "    </tr>\n",
       "    <tr>\n",
       "      <th>SRP066834</th>\n",
       "      <th>SRR2967468</th>\n",
       "      <td>NaN</td>\n",
       "      <td>Microdissected cortical-like ventricle from ce...</td>\n",
       "      <td>NaN</td>\n",
       "      <td>0.218280</td>\n",
       "    </tr>\n",
       "    <tr>\n",
       "      <th>SRP005279</th>\n",
       "      <th>SRR091667</th>\n",
       "      <td>NaN</td>\n",
       "      <td>Bone marrow</td>\n",
       "      <td>NaN</td>\n",
       "      <td>0.213661</td>\n",
       "    </tr>\n",
       "  </tbody>\n",
       "</table>\n",
       "</div>"
      ],
      "text/plain": [
       "                       cell line  \\\n",
       "project   run                      \n",
       "SRP008145 SRR342846   HEK293T/17   \n",
       "          SRR342832   HEK293T/17   \n",
       "          SRR342839   HEK293T/17   \n",
       "          SRR342862   HEK293T/17   \n",
       "          SRR342834   HEK293T/17   \n",
       "          SRR342848   HEK293T/17   \n",
       "SRP057196 SRR1974781         NaN   \n",
       "SRP008145 SRR342850   HEK293T/17   \n",
       "          SRR342861   HEK293T/17   \n",
       "SRP066834 SRR2967412         NaN   \n",
       "SRP057196 SRR1974951         NaN   \n",
       "          SRR1974968         NaN   \n",
       "SRP008145 SRR342849   HEK293T/17   \n",
       "          SRR342841   HEK293T/17   \n",
       "SRP055569 SRR1821383         NaN   \n",
       "SRP007947 SRR333717          NaN   \n",
       "SRP042161 SRR1295218        CSC6   \n",
       "SRP055569 SRR2019226         NaN   \n",
       "SRP057196 SRR1974891         NaN   \n",
       "SRP042161 SRR1294514         NaN   \n",
       "SRP066834 SRR2967605         NaN   \n",
       "SRP055569 SRR2019233         NaN   \n",
       "SRP057196 SRR1974723         NaN   \n",
       "SRP066834 SRR2967468         NaN   \n",
       "SRP005279 SRR091667          NaN   \n",
       "\n",
       "                                                                 tissue  \\\n",
       "project   run                                                             \n",
       "SRP008145 SRR342846                                                 NaN   \n",
       "          SRR342832                                                 NaN   \n",
       "          SRR342839                                                 NaN   \n",
       "          SRR342862                                                 NaN   \n",
       "          SRR342834                                                 NaN   \n",
       "          SRR342848                                                 NaN   \n",
       "SRP057196 SRR1974781                                             cortex   \n",
       "SRP008145 SRR342850                                                 NaN   \n",
       "          SRR342861                                                 NaN   \n",
       "SRP066834 SRR2967412                Dissociated whole cerebral organoid   \n",
       "SRP057196 SRR1974951                                             cortex   \n",
       "          SRR1974968                                             cortex   \n",
       "SRP008145 SRR342849                                                 NaN   \n",
       "          SRR342841                                                 NaN   \n",
       "SRP055569 SRR1821383                                                NaN   \n",
       "SRP007947 SRR333717                                                 NaN   \n",
       "SRP042161 SRR1295218                                                NaN   \n",
       "SRP055569 SRR2019226                                                NaN   \n",
       "SRP057196 SRR1974891                                             cortex   \n",
       "SRP042161 SRR1294514                                                NaN   \n",
       "SRP066834 SRR2967605  Microdissected cortical-like ventricle from ce...   \n",
       "SRP055569 SRR2019233                                                NaN   \n",
       "SRP057196 SRR1974723                                             cortex   \n",
       "SRP066834 SRR2967468  Microdissected cortical-like ventricle from ce...   \n",
       "SRP005279 SRR091667                                         Bone marrow   \n",
       "\n",
       "                                                              cell type  \\\n",
       "project   run                                                             \n",
       "SRP008145 SRR342846                                                 NaN   \n",
       "          SRR342832                                                 NaN   \n",
       "          SRR342839                                                 NaN   \n",
       "          SRR342862                                                 NaN   \n",
       "          SRR342834                                                 NaN   \n",
       "          SRR342848                                                 NaN   \n",
       "SRP057196 SRR1974781                                        endothelial   \n",
       "SRP008145 SRR342850                                                 NaN   \n",
       "          SRR342861                                                 NaN   \n",
       "SRP066834 SRR2967412                                                NaN   \n",
       "SRP057196 SRR1974951                                    fetal_quiescent   \n",
       "          SRR1974968                                    fetal_quiescent   \n",
       "SRP008145 SRR342849                                                 NaN   \n",
       "          SRR342841                                                 NaN   \n",
       "SRP055569 SRR1821383                             U87 human glioma cells   \n",
       "SRP007947 SRR333717                                     testicular germ   \n",
       "SRP042161 SRR1295218                             Gliomasphere Cell Line   \n",
       "SRP055569 SRR2019226  mixture of U87 human glioma cells and WI-38 hu...   \n",
       "SRP057196 SRR1974891                                  fetal_replicating   \n",
       "SRP042161 SRR1294514                                       Glioblastoma   \n",
       "SRP066834 SRR2967605                                                NaN   \n",
       "SRP055569 SRR2019233  mixture of U87 human glioma cells and WI-38 hu...   \n",
       "SRP057196 SRR1974723                                         astrocytes   \n",
       "SRP066834 SRR2967468                                                NaN   \n",
       "SRP005279 SRR091667                                                 NaN   \n",
       "\n",
       "                         LV455  \n",
       "project   run                   \n",
       "SRP008145 SRR342846   9.929934  \n",
       "          SRR342832   3.977208  \n",
       "          SRR342839   3.381660  \n",
       "          SRR342862   0.718741  \n",
       "          SRR342834   0.636918  \n",
       "          SRR342848   0.620987  \n",
       "SRP057196 SRR1974781  0.525810  \n",
       "SRP008145 SRR342850   0.524551  \n",
       "          SRR342861   0.471009  \n",
       "SRP066834 SRR2967412  0.462463  \n",
       "SRP057196 SRR1974951  0.459577  \n",
       "          SRR1974968  0.459556  \n",
       "SRP008145 SRR342849   0.439257  \n",
       "          SRR342841   0.294857  \n",
       "SRP055569 SRR1821383  0.273530  \n",
       "SRP007947 SRR333717   0.267689  \n",
       "SRP042161 SRR1295218  0.260117  \n",
       "SRP055569 SRR2019226  0.256768  \n",
       "SRP057196 SRR1974891  0.234436  \n",
       "SRP042161 SRR1294514  0.228506  \n",
       "SRP066834 SRR2967605  0.227026  \n",
       "SRP055569 SRR2019233  0.225892  \n",
       "SRP057196 SRR1974723  0.219849  \n",
       "SRP066834 SRR2967468  0.218280  \n",
       "SRP005279 SRR091667   0.213661  "
      ]
     },
     "execution_count": 29,
     "metadata": {},
     "output_type": "execute_result"
    }
   ],
   "source": [
    "_tmp_seq[0]"
   ]
  },
  {
   "cell_type": "code",
   "execution_count": 26,
   "id": "grateful-cuisine",
   "metadata": {},
   "outputs": [
    {
     "data": {
      "text/html": [
       "<div>\n",
       "<style scoped>\n",
       "    .dataframe tbody tr th:only-of-type {\n",
       "        vertical-align: middle;\n",
       "    }\n",
       "\n",
       "    .dataframe tbody tr th {\n",
       "        vertical-align: top;\n",
       "    }\n",
       "\n",
       "    .dataframe thead th {\n",
       "        text-align: right;\n",
       "    }\n",
       "</style>\n",
       "<table border=\"1\" class=\"dataframe\">\n",
       "  <thead>\n",
       "    <tr style=\"text-align: right;\">\n",
       "      <th></th>\n",
       "      <th></th>\n",
       "      <th>treatment</th>\n",
       "      <th>cell line</th>\n",
       "      <th>sample type</th>\n",
       "      <th>reporter</th>\n",
       "      <th>LV455</th>\n",
       "    </tr>\n",
       "    <tr>\n",
       "      <th>project</th>\n",
       "      <th>run</th>\n",
       "      <th></th>\n",
       "      <th></th>\n",
       "      <th></th>\n",
       "      <th></th>\n",
       "      <th></th>\n",
       "    </tr>\n",
       "  </thead>\n",
       "  <tbody>\n",
       "    <tr>\n",
       "      <th rowspan=\"10\" valign=\"top\">SRP008145</th>\n",
       "      <th>SRR342846</th>\n",
       "      <td>100 uM forskolin (5 hours)</td>\n",
       "      <td>HEK293T/17</td>\n",
       "      <td>embyonic kidney cell line</td>\n",
       "      <td>CRE single-hit</td>\n",
       "      <td>9.929934</td>\n",
       "    </tr>\n",
       "    <tr>\n",
       "      <th>SRR342832</th>\n",
       "      <td>DMSO (5 hours)</td>\n",
       "      <td>HEK293T/17</td>\n",
       "      <td>embyonic kidney cell line</td>\n",
       "      <td>CRE multi-hit</td>\n",
       "      <td>3.977208</td>\n",
       "    </tr>\n",
       "    <tr>\n",
       "      <th>SRR342839</th>\n",
       "      <td>100 uM forskolin (5 hours)</td>\n",
       "      <td>HEK293T/17</td>\n",
       "      <td>embyonic kidney cell line</td>\n",
       "      <td>CRE multi-hit</td>\n",
       "      <td>3.381660</td>\n",
       "    </tr>\n",
       "    <tr>\n",
       "      <th>SRR342862</th>\n",
       "      <td>Sendai virus (MOI = 10, 16 hours)</td>\n",
       "      <td>HEK293T/17</td>\n",
       "      <td>embyonic kidney cell line</td>\n",
       "      <td>IFNB single-hit</td>\n",
       "      <td>0.718741</td>\n",
       "    </tr>\n",
       "    <tr>\n",
       "      <th>SRR342834</th>\n",
       "      <td>DMSO (5 hours)</td>\n",
       "      <td>HEK293T/17</td>\n",
       "      <td>embyonic kidney cell line</td>\n",
       "      <td>CRE multi-hit</td>\n",
       "      <td>0.636918</td>\n",
       "    </tr>\n",
       "    <tr>\n",
       "      <th>SRR342848</th>\n",
       "      <td>100 uM forskolin (5 hours)</td>\n",
       "      <td>HEK293T/17</td>\n",
       "      <td>embyonic kidney cell line</td>\n",
       "      <td>CRE single-hit</td>\n",
       "      <td>0.620987</td>\n",
       "    </tr>\n",
       "    <tr>\n",
       "      <th>SRR342850</th>\n",
       "      <td>100 uM forskolin (5 hours)</td>\n",
       "      <td>HEK293T/17</td>\n",
       "      <td>embyonic kidney cell line</td>\n",
       "      <td>CRE single-hit</td>\n",
       "      <td>0.524551</td>\n",
       "    </tr>\n",
       "    <tr>\n",
       "      <th>SRR342861</th>\n",
       "      <td>Sendai virus (MOI = 10, 16 hours)</td>\n",
       "      <td>HEK293T/17</td>\n",
       "      <td>embyonic kidney cell line</td>\n",
       "      <td>IFNB single-hit</td>\n",
       "      <td>0.471009</td>\n",
       "    </tr>\n",
       "    <tr>\n",
       "      <th>SRR342849</th>\n",
       "      <td>100 uM forskolin (5 hours)</td>\n",
       "      <td>HEK293T/17</td>\n",
       "      <td>embyonic kidney cell line</td>\n",
       "      <td>CRE single-hit</td>\n",
       "      <td>0.439257</td>\n",
       "    </tr>\n",
       "    <tr>\n",
       "      <th>SRR342841</th>\n",
       "      <td>100 uM forskolin (5 hours)</td>\n",
       "      <td>HEK293T/17</td>\n",
       "      <td>embyonic kidney cell line</td>\n",
       "      <td>CRE multi-hit</td>\n",
       "      <td>0.294857</td>\n",
       "    </tr>\n",
       "  </tbody>\n",
       "</table>\n",
       "</div>"
      ],
      "text/plain": [
       "                                             treatment   cell line  \\\n",
       "project   run                                                        \n",
       "SRP008145 SRR342846         100 uM forskolin (5 hours)  HEK293T/17   \n",
       "          SRR342832                     DMSO (5 hours)  HEK293T/17   \n",
       "          SRR342839         100 uM forskolin (5 hours)  HEK293T/17   \n",
       "          SRR342862  Sendai virus (MOI = 10, 16 hours)  HEK293T/17   \n",
       "          SRR342834                     DMSO (5 hours)  HEK293T/17   \n",
       "          SRR342848         100 uM forskolin (5 hours)  HEK293T/17   \n",
       "          SRR342850         100 uM forskolin (5 hours)  HEK293T/17   \n",
       "          SRR342861  Sendai virus (MOI = 10, 16 hours)  HEK293T/17   \n",
       "          SRR342849         100 uM forskolin (5 hours)  HEK293T/17   \n",
       "          SRR342841         100 uM forskolin (5 hours)  HEK293T/17   \n",
       "\n",
       "                                   sample type         reporter     LV455  \n",
       "project   run                                                              \n",
       "SRP008145 SRR342846  embyonic kidney cell line   CRE single-hit  9.929934  \n",
       "          SRR342832  embyonic kidney cell line    CRE multi-hit  3.977208  \n",
       "          SRR342839  embyonic kidney cell line    CRE multi-hit  3.381660  \n",
       "          SRR342862  embyonic kidney cell line  IFNB single-hit  0.718741  \n",
       "          SRR342834  embyonic kidney cell line    CRE multi-hit  0.636918  \n",
       "          SRR342848  embyonic kidney cell line   CRE single-hit  0.620987  \n",
       "          SRR342850  embyonic kidney cell line   CRE single-hit  0.524551  \n",
       "          SRR342861  embyonic kidney cell line  IFNB single-hit  0.471009  \n",
       "          SRR342849  embyonic kidney cell line   CRE single-hit  0.439257  \n",
       "          SRR342841  embyonic kidney cell line    CRE multi-hit  0.294857  "
      ]
     },
     "execution_count": 26,
     "metadata": {},
     "output_type": "execute_result"
    }
   ],
   "source": [
    "# what is there in these projects?\n",
    "lv_data.loc[[\"SRP008145\"]].dropna(how=\"all\", axis=1).sort_values(\n",
    "    LV_NAME, ascending=False\n",
    ").sort_values(LV_NAME, ascending=False).head(10)"
   ]
  },
  {
   "cell_type": "code",
   "execution_count": 30,
   "id": "stylish-network",
   "metadata": {},
   "outputs": [],
   "source": [
    "SELECTED_ATTRIBUTE = \"cell line\""
   ]
  },
  {
   "cell_type": "code",
   "execution_count": 31,
   "id": "turkish-valley",
   "metadata": {},
   "outputs": [],
   "source": [
    "# it has to be in the order desired for filling nans in the SELECTED_ATTRIBUTE\n",
    "SECOND_ATTRIBUTES = [\"tissue\", \"cell type\"]"
   ]
  },
  {
   "cell_type": "markdown",
   "id": "victorian-bidding",
   "metadata": {},
   "source": [
    "## Get plot data"
   ]
  },
  {
   "cell_type": "code",
   "execution_count": 70,
   "id": "jewish-weekend",
   "metadata": {},
   "outputs": [],
   "source": [
    "plot_data = lv_data.loc[:, [SELECTED_ATTRIBUTE] + SECOND_ATTRIBUTES + [LV_NAME]]"
   ]
  },
  {
   "cell_type": "code",
   "execution_count": 71,
   "id": "genuine-hierarchy",
   "metadata": {},
   "outputs": [],
   "source": [
    "# if blank/nan, fill cell type column with tissue content\n",
    "_new_column = plot_data[[SELECTED_ATTRIBUTE] + SECOND_ATTRIBUTES].fillna(\n",
    "    method=\"backfill\", axis=1\n",
    ")[SELECTED_ATTRIBUTE]\n",
    "plot_data[SELECTED_ATTRIBUTE] = _new_column\n",
    "plot_data = plot_data.drop(columns=SECOND_ATTRIBUTES)\n",
    "plot_data = plot_data.fillna({SELECTED_ATTRIBUTE: \"NOT CATEGORIZED\"})\n",
    "# plot_data = plot_data.dropna(subset=[SELECTED_ATTRIBUTE])"
   ]
  },
  {
   "cell_type": "code",
   "execution_count": 72,
   "id": "light-smart",
   "metadata": {},
   "outputs": [],
   "source": [
    "plot_data = plot_data.sort_values(LV_NAME, ascending=False)"
   ]
  },
  {
   "cell_type": "code",
   "execution_count": 73,
   "id": "fitted-button",
   "metadata": {},
   "outputs": [
    {
     "data": {
      "text/html": [
       "<div>\n",
       "<style scoped>\n",
       "    .dataframe tbody tr th:only-of-type {\n",
       "        vertical-align: middle;\n",
       "    }\n",
       "\n",
       "    .dataframe tbody tr th {\n",
       "        vertical-align: top;\n",
       "    }\n",
       "\n",
       "    .dataframe thead th {\n",
       "        text-align: right;\n",
       "    }\n",
       "</style>\n",
       "<table border=\"1\" class=\"dataframe\">\n",
       "  <thead>\n",
       "    <tr style=\"text-align: right;\">\n",
       "      <th></th>\n",
       "      <th></th>\n",
       "      <th>cell line</th>\n",
       "      <th>LV455</th>\n",
       "    </tr>\n",
       "    <tr>\n",
       "      <th>project</th>\n",
       "      <th>run</th>\n",
       "      <th></th>\n",
       "      <th></th>\n",
       "    </tr>\n",
       "  </thead>\n",
       "  <tbody>\n",
       "    <tr>\n",
       "      <th rowspan=\"6\" valign=\"top\">SRP008145</th>\n",
       "      <th>SRR342846</th>\n",
       "      <td>HEK293T/17</td>\n",
       "      <td>9.929934</td>\n",
       "    </tr>\n",
       "    <tr>\n",
       "      <th>SRR342832</th>\n",
       "      <td>HEK293T/17</td>\n",
       "      <td>3.977208</td>\n",
       "    </tr>\n",
       "    <tr>\n",
       "      <th>SRR342839</th>\n",
       "      <td>HEK293T/17</td>\n",
       "      <td>3.381660</td>\n",
       "    </tr>\n",
       "    <tr>\n",
       "      <th>SRR342862</th>\n",
       "      <td>HEK293T/17</td>\n",
       "      <td>0.718741</td>\n",
       "    </tr>\n",
       "    <tr>\n",
       "      <th>SRR342834</th>\n",
       "      <td>HEK293T/17</td>\n",
       "      <td>0.636918</td>\n",
       "    </tr>\n",
       "    <tr>\n",
       "      <th>SRR342848</th>\n",
       "      <td>HEK293T/17</td>\n",
       "      <td>0.620987</td>\n",
       "    </tr>\n",
       "    <tr>\n",
       "      <th>SRP057196</th>\n",
       "      <th>SRR1974781</th>\n",
       "      <td>cortex</td>\n",
       "      <td>0.525810</td>\n",
       "    </tr>\n",
       "    <tr>\n",
       "      <th rowspan=\"2\" valign=\"top\">SRP008145</th>\n",
       "      <th>SRR342850</th>\n",
       "      <td>HEK293T/17</td>\n",
       "      <td>0.524551</td>\n",
       "    </tr>\n",
       "    <tr>\n",
       "      <th>SRR342861</th>\n",
       "      <td>HEK293T/17</td>\n",
       "      <td>0.471009</td>\n",
       "    </tr>\n",
       "    <tr>\n",
       "      <th>SRP066834</th>\n",
       "      <th>SRR2967412</th>\n",
       "      <td>Dissociated whole cerebral organoid</td>\n",
       "      <td>0.462463</td>\n",
       "    </tr>\n",
       "    <tr>\n",
       "      <th rowspan=\"2\" valign=\"top\">SRP057196</th>\n",
       "      <th>SRR1974951</th>\n",
       "      <td>cortex</td>\n",
       "      <td>0.459577</td>\n",
       "    </tr>\n",
       "    <tr>\n",
       "      <th>SRR1974968</th>\n",
       "      <td>cortex</td>\n",
       "      <td>0.459556</td>\n",
       "    </tr>\n",
       "    <tr>\n",
       "      <th rowspan=\"2\" valign=\"top\">SRP008145</th>\n",
       "      <th>SRR342849</th>\n",
       "      <td>HEK293T/17</td>\n",
       "      <td>0.439257</td>\n",
       "    </tr>\n",
       "    <tr>\n",
       "      <th>SRR342841</th>\n",
       "      <td>HEK293T/17</td>\n",
       "      <td>0.294857</td>\n",
       "    </tr>\n",
       "    <tr>\n",
       "      <th>SRP055569</th>\n",
       "      <th>SRR1821383</th>\n",
       "      <td>U87 human glioma cells</td>\n",
       "      <td>0.273530</td>\n",
       "    </tr>\n",
       "    <tr>\n",
       "      <th>SRP007947</th>\n",
       "      <th>SRR333717</th>\n",
       "      <td>testicular germ</td>\n",
       "      <td>0.267689</td>\n",
       "    </tr>\n",
       "    <tr>\n",
       "      <th>SRP042161</th>\n",
       "      <th>SRR1295218</th>\n",
       "      <td>CSC6</td>\n",
       "      <td>0.260117</td>\n",
       "    </tr>\n",
       "    <tr>\n",
       "      <th>SRP055569</th>\n",
       "      <th>SRR2019226</th>\n",
       "      <td>mixture of U87 human glioma cells and WI-38 hu...</td>\n",
       "      <td>0.256768</td>\n",
       "    </tr>\n",
       "    <tr>\n",
       "      <th>SRP057196</th>\n",
       "      <th>SRR1974891</th>\n",
       "      <td>cortex</td>\n",
       "      <td>0.234436</td>\n",
       "    </tr>\n",
       "    <tr>\n",
       "      <th>SRP042161</th>\n",
       "      <th>SRR1294514</th>\n",
       "      <td>Glioblastoma</td>\n",
       "      <td>0.228506</td>\n",
       "    </tr>\n",
       "  </tbody>\n",
       "</table>\n",
       "</div>"
      ],
      "text/plain": [
       "                                                              cell line  \\\n",
       "project   run                                                             \n",
       "SRP008145 SRR342846                                          HEK293T/17   \n",
       "          SRR342832                                          HEK293T/17   \n",
       "          SRR342839                                          HEK293T/17   \n",
       "          SRR342862                                          HEK293T/17   \n",
       "          SRR342834                                          HEK293T/17   \n",
       "          SRR342848                                          HEK293T/17   \n",
       "SRP057196 SRR1974781                                             cortex   \n",
       "SRP008145 SRR342850                                          HEK293T/17   \n",
       "          SRR342861                                          HEK293T/17   \n",
       "SRP066834 SRR2967412                Dissociated whole cerebral organoid   \n",
       "SRP057196 SRR1974951                                             cortex   \n",
       "          SRR1974968                                             cortex   \n",
       "SRP008145 SRR342849                                          HEK293T/17   \n",
       "          SRR342841                                          HEK293T/17   \n",
       "SRP055569 SRR1821383                             U87 human glioma cells   \n",
       "SRP007947 SRR333717                                     testicular germ   \n",
       "SRP042161 SRR1295218                                               CSC6   \n",
       "SRP055569 SRR2019226  mixture of U87 human glioma cells and WI-38 hu...   \n",
       "SRP057196 SRR1974891                                             cortex   \n",
       "SRP042161 SRR1294514                                       Glioblastoma   \n",
       "\n",
       "                         LV455  \n",
       "project   run                   \n",
       "SRP008145 SRR342846   9.929934  \n",
       "          SRR342832   3.977208  \n",
       "          SRR342839   3.381660  \n",
       "          SRR342862   0.718741  \n",
       "          SRR342834   0.636918  \n",
       "          SRR342848   0.620987  \n",
       "SRP057196 SRR1974781  0.525810  \n",
       "SRP008145 SRR342850   0.524551  \n",
       "          SRR342861   0.471009  \n",
       "SRP066834 SRR2967412  0.462463  \n",
       "SRP057196 SRR1974951  0.459577  \n",
       "          SRR1974968  0.459556  \n",
       "SRP008145 SRR342849   0.439257  \n",
       "          SRR342841   0.294857  \n",
       "SRP055569 SRR1821383  0.273530  \n",
       "SRP007947 SRR333717   0.267689  \n",
       "SRP042161 SRR1295218  0.260117  \n",
       "SRP055569 SRR2019226  0.256768  \n",
       "SRP057196 SRR1974891  0.234436  \n",
       "SRP042161 SRR1294514  0.228506  "
      ]
     },
     "execution_count": 73,
     "metadata": {},
     "output_type": "execute_result"
    }
   ],
   "source": [
    "plot_data.head(20)"
   ]
  },
  {
   "cell_type": "markdown",
   "id": "casual-prerequisite",
   "metadata": {},
   "source": [
    "## Customize x-axis values"
   ]
  },
  {
   "cell_type": "markdown",
   "id": "traditional-psychology",
   "metadata": {},
   "source": [
    "When cell type values are not very clear, customize their names by looking at their specific studies to know exactly what the authors meant."
   ]
  },
  {
   "cell_type": "code",
   "execution_count": 74,
   "id": "official-capacity",
   "metadata": {},
   "outputs": [],
   "source": [
    "final_plot_data = plot_data.replace(\n",
    "    {\n",
    "        SELECTED_ATTRIBUTE: {\n",
    "            # \"human bone marrow sample\": \"bone marrow\",\n",
    "            \"whole blood\": \"Whole blood\",\n",
    "            # \"peripheral blood\": \"Peripheral blood\",\n",
    "            # \"peripheral whole blood\": \"Peripheral blood\",\n",
    "            # \"breast cancer\": \"Breast cancer\",\n",
    "            # \"breast cancer cell line\": \"Breast cancer\",\n",
    "            # SRP057196\n",
    "            # \"fetal_replicating\": \"Fetal neurons (replicating)\",\n",
    "            # \"fetal_quiescent\": \"Fetal neurons (quiescent)\",\n",
    "            # \"normal skin\": \"Skin\",\n",
    "            # \"liver\": \"Liver\",\n",
    "            # \"Human Skeletal Muscle Myoblasts (HSMM)\": \"Skeletal muscle myoblasts\",\n",
    "            # \"astrocytes\": \"Astrocytes\",\n",
    "            \"mixture of U87 human glioma cells and MCF10a human breast cancer cells\": \"Glioma + MCF10 breast cancer cells\",\n",
    "            \"mixture of U87 human glioma cells and WI-38 human lung fibroblast cells\": \"Glioma + WI-38 lung fibroblast cells\",\n",
    "            # \"functional hepatocytes generated by lineage reprogramming\": \"Hepatocytes\",\n",
    "            # \"human adipose-derived stem cells\": \"Adipose-derived stem cells\",\n",
    "            # \"adipose\": \"Adipose\",\n",
    "            # \"embryonic stem cells\": \"Embryonic stem cells\",\n",
    "            # \"primary keratinocytes\": \"Primary keratinocytes\",\n",
    "            # \"fetal liver\": \"Fetal liver\",\n",
    "            # \"in vitro differentiated erythroid cells\": \"Erythroid cells\",\n",
    "            # \"WAT\": \"White adipose tissue\",\n",
    "            # \"BAT\": \"Brown adipose tissue\",\n",
    "            # \"Uninvolved Breast Tissue Adjacent to ER+ Primary Tumor\": \"Breast tissue adjacent to ER+ tumor\",\n",
    "            # \"ovarian granulosa cells\": \"Ovarian granulosa cells\",\n",
    "        }\n",
    "    }\n",
    ")"
   ]
  },
  {
   "cell_type": "code",
   "execution_count": 75,
   "id": "05b40336-2b83-4724-8c35-28444ef100fe",
   "metadata": {},
   "outputs": [],
   "source": [
    "# sorte index to avoid PerformanceWarning from pandas\n",
    "final_plot_data = final_plot_data.sort_index()"
   ]
  },
  {
   "cell_type": "code",
   "execution_count": 76,
   "id": "68ea83c3-1e6b-4fb3-9ecf-19ef285d3233",
   "metadata": {},
   "outputs": [],
   "source": [
    "_srp_code = \"SRP060416\"\n",
    "_tmp = final_plot_data.loc[(_srp_code,)].apply(\n",
    "    lambda x: x[SELECTED_ATTRIBUTE]\n",
    "    + f\" ({lv_data.loc[(_srp_code, x.name), 'facs gating']})\",\n",
    "    axis=1,\n",
    ")\n",
    "final_plot_data.loc[(_srp_code, _tmp.index), SELECTED_ATTRIBUTE] = _tmp.values"
   ]
  },
  {
   "cell_type": "code",
   "execution_count": 77,
   "id": "b7eaccb9-246d-4385-bcd3-1c0ebbc641e9",
   "metadata": {},
   "outputs": [],
   "source": [
    "# _srp_code = \"SRP059172\"\n",
    "# _tmp = final_plot_data.loc[(_srp_code,)].apply(\n",
    "#     lambda x: x[SELECTED_ATTRIBUTE]\n",
    "#     + f\" ({lv_data.loc[(_srp_code, x.name), 'group']})\",\n",
    "#     axis=1,\n",
    "# )\n",
    "# final_plot_data.loc[(_srp_code, _tmp.index), SELECTED_ATTRIBUTE] = _tmp.values"
   ]
  },
  {
   "cell_type": "code",
   "execution_count": 78,
   "id": "1e8d76ec-18b4-4967-a20a-9ddadefdb266",
   "metadata": {},
   "outputs": [],
   "source": [
    "# _srp_code = \"SRP062966\"\n",
    "# _tmp = final_plot_data.loc[(_srp_code,)].apply(\n",
    "#     lambda x: x[SELECTED_ATTRIBUTE]\n",
    "#     + f\" ({lv_data.loc[(_srp_code, x.name), 'disease status']})\",\n",
    "#     axis=1,\n",
    "# )\n",
    "# final_plot_data.loc[(_srp_code, _tmp.index), SELECTED_ATTRIBUTE] = _tmp.values"
   ]
  },
  {
   "cell_type": "code",
   "execution_count": 79,
   "id": "e256f567-2e95-4ea4-a09f-0d66c4c43908",
   "metadata": {},
   "outputs": [],
   "source": [
    "# _srp_code = \"SRP064464\"\n",
    "# _tmp = final_plot_data.loc[(_srp_code,)].apply(\n",
    "#     lambda x: f\"Pancreatic islets\"\n",
    "#     + f\" ({lv_data.loc[(_srp_code, x.name), 'assigned cell type']})\",\n",
    "#     axis=1,\n",
    "# )\n",
    "# final_plot_data.loc[(_srp_code, _tmp.index), SELECTED_ATTRIBUTE] = _tmp.values"
   ]
  },
  {
   "cell_type": "code",
   "execution_count": 80,
   "id": "1e6908a4-2052-4039-b5c2-1cf6b88f9b3a",
   "metadata": {},
   "outputs": [],
   "source": [
    "# _srp_code = \"SRP029990\" # these cases seem to be the same in SRP032775 and are just a few\n",
    "# final_plot_data = final_plot_data.drop((_srp_code,))"
   ]
  },
  {
   "cell_type": "code",
   "execution_count": 81,
   "id": "9c76442e-70bb-4139-80c6-2564a63febaf",
   "metadata": {},
   "outputs": [],
   "source": [
    "# _srp_code = \"SRP032775\" # this one is also about Maralia\n",
    "\n",
    "# main_attr = \"time point\"\n",
    "# second_attrs = [\"time-point\"]\n",
    "\n",
    "# def _apply_func(x):\n",
    "#     return \"Whole blood\" + f\" ({x[main_attr].lower()}, Malaria)\"\n",
    "\n",
    "# _lv_data = lv_data.loc[(_srp_code,), [main_attr] + second_attrs + [LV_NAME]]\n",
    "# _new_column = _lv_data[[main_attr] + second_attrs].fillna(\n",
    "#     method=\"backfill\", axis=1\n",
    "# )[main_attr]\n",
    "# _lv_data[main_attr] = _new_column\n",
    "# # _lv_data = _lv_data.drop(columns=second_attrs)\n",
    "\n",
    "# _tmp = _lv_data.apply(\n",
    "#     _apply_func,\n",
    "#     axis=1,\n",
    "# )\n",
    "# final_plot_data.loc[(_srp_code, _tmp.index), SELECTED_ATTRIBUTE] = _tmp.values"
   ]
  },
  {
   "cell_type": "code",
   "execution_count": 82,
   "id": "431cb980-d784-4060-b648-b2465313aca8",
   "metadata": {},
   "outputs": [],
   "source": [
    "# _srp_code = \"SRP059039\"\n",
    "# _tmp = final_plot_data.loc[(_srp_code,)].apply(\n",
    "#     lambda x: x[SELECTED_ATTRIBUTE]\n",
    "#     + f\" ({lv_data.loc[(_srp_code, x.name), 'group']} cases)\",\n",
    "#     axis=1,\n",
    "# )\n",
    "# final_plot_data.loc[(_srp_code, _tmp.index), SELECTED_ATTRIBUTE] = _tmp.values"
   ]
  },
  {
   "cell_type": "code",
   "execution_count": 83,
   "id": "6aed09b2-ff65-4bf4-9533-db713cc7a5ee",
   "metadata": {},
   "outputs": [],
   "source": [
    "# _srp_code = \"SRP056443\"\n",
    "# _tmp = final_plot_data.loc[(_srp_code,)].apply(\n",
    "#     lambda x: x[SELECTED_ATTRIBUTE]\n",
    "#     + f\" ({lv_data.loc[(_srp_code, x.name), 'time']})\",\n",
    "#     axis=1,\n",
    "# )\n",
    "# final_plot_data.loc[(_srp_code, _tmp.index), SELECTED_ATTRIBUTE] = _tmp.values"
   ]
  },
  {
   "cell_type": "code",
   "execution_count": 84,
   "id": "f38d79e2-7b43-40ae-8dd0-0795a0b0a822",
   "metadata": {},
   "outputs": [],
   "source": [
    "# _srp_code = \"SRP056840\"\n",
    "# _tmp = final_plot_data.loc[(_srp_code,)].apply(\n",
    "#     lambda x: \"Whole blood\"\n",
    "#     + f\" ({lv_data.loc[(_srp_code, x.name), 'sirs outcomes']})\",\n",
    "#     axis=1,\n",
    "# )\n",
    "# final_plot_data.loc[(_srp_code, _tmp.index), SELECTED_ATTRIBUTE] = _tmp.values"
   ]
  },
  {
   "cell_type": "code",
   "execution_count": 85,
   "id": "ad39676c-0082-4cf6-a178-73bf3f39c46b",
   "metadata": {},
   "outputs": [],
   "source": [
    "# _srp_code = \"SRP050000\"\n",
    "# _tmp = final_plot_data.loc[(_srp_code,)].apply(\n",
    "#     lambda x: \"Peripheral blood (SIRS or sepsis)\",\n",
    "#     # + f\" ({lv_data.loc[(_srp_code, x.name), 'sirs outcomes']})\",\n",
    "#     axis=1,\n",
    "# )\n",
    "# final_plot_data.loc[(_srp_code, _tmp.index), SELECTED_ATTRIBUTE] = _tmp.values"
   ]
  },
  {
   "cell_type": "code",
   "execution_count": 86,
   "id": "a30d01b7-e63a-41d4-841a-a630cb69dd94",
   "metadata": {},
   "outputs": [],
   "source": [
    "# _srp_code = \"SRP045500\"\n",
    "# _tmp = lv_data.loc[(_srp_code,)].apply(\n",
    "#     lambda x: x[\"celltype\"],\n",
    "#     # + f\" ({lv_data.loc[(_srp_code, x.name), 'sirs outcomes']})\",\n",
    "#     axis=1,\n",
    "# )\n",
    "# final_plot_data.loc[(_srp_code, _tmp.index), SELECTED_ATTRIBUTE] = _tmp.values"
   ]
  },
  {
   "cell_type": "code",
   "execution_count": 87,
   "id": "4f839d92-c4b2-447f-8f44-71820c4cdbbf",
   "metadata": {},
   "outputs": [],
   "source": [
    "# _srp_code = \"SRP058773\"\n",
    "# _tmp = final_plot_data.loc[(_srp_code,)].apply(\n",
    "#     lambda x: f\"Fibroblasts\",\n",
    "#     axis=1,\n",
    "# )\n",
    "# final_plot_data.loc[(_srp_code, _tmp.index), SELECTED_ATTRIBUTE] = _tmp.values"
   ]
  },
  {
   "cell_type": "code",
   "execution_count": 88,
   "id": "9a85cdb9-85d6-414b-aecf-56804f529bd3",
   "metadata": {},
   "outputs": [],
   "source": [
    "# _srp_code = \"SRP027015\"\n",
    "# _tmp = final_plot_data.loc[(_srp_code,)].apply(\n",
    "#     lambda x: \"Peripheral blood (MM.1S)\",\n",
    "#     # + f\" ({lv_data.loc[(_srp_code, x.name), 'facs gating']})\",\n",
    "#     axis=1,\n",
    "# )\n",
    "# final_plot_data.loc[(_srp_code, _tmp.index), SELECTED_ATTRIBUTE] = _tmp.values"
   ]
  },
  {
   "cell_type": "code",
   "execution_count": 89,
   "id": "592fb6fa-5540-4202-bda9-0fb993c27532",
   "metadata": {},
   "outputs": [],
   "source": [
    "# _srp_code = \"SRP061329\"\n",
    "# _tmp = final_plot_data.loc[(_srp_code,)].apply(\n",
    "#     lambda x: \"Peripheral blood\"\n",
    "#     + f\" ({lv_data.loc[(_srp_code, x.name), 'cell line']})\",\n",
    "#     axis=1,\n",
    "# )\n",
    "# final_plot_data.loc[(_srp_code, _tmp.index), SELECTED_ATTRIBUTE] = _tmp.values"
   ]
  },
  {
   "cell_type": "code",
   "execution_count": 90,
   "id": "371406dd-7a18-4a4c-91de-4c84e2a3d900",
   "metadata": {},
   "outputs": [],
   "source": [
    "# _srp_code = \"SRP018838\"\n",
    "# _tmp = final_plot_data.loc[(_srp_code,)].apply(\n",
    "#     lambda x: \"Blood\"\n",
    "#     + f\" ({lv_data.loc[(_srp_code, x.name), 'cell line']})\",\n",
    "#     axis=1,\n",
    "# )\n",
    "# final_plot_data.loc[(_srp_code, _tmp.index), SELECTED_ATTRIBUTE] = _tmp.values"
   ]
  },
  {
   "cell_type": "code",
   "execution_count": 91,
   "id": "entire-cradle",
   "metadata": {},
   "outputs": [],
   "source": [
    "# # take the top samples only\n",
    "# final_plot_data = final_plot_data.sort_values(LV_NAME, ascending=False)[:N_TOP_SAMPLES]"
   ]
  },
  {
   "cell_type": "markdown",
   "id": "italic-steel",
   "metadata": {},
   "source": [
    "## Threshold LV values"
   ]
  },
  {
   "cell_type": "code",
   "execution_count": 92,
   "id": "southern-offense",
   "metadata": {},
   "outputs": [],
   "source": [
    "if LV_AXIS_THRESHOLD is not None:\n",
    "    final_plot_data.loc[\n",
    "        final_plot_data[LV_NAME] > LV_AXIS_THRESHOLD, LV_NAME\n",
    "    ] = LV_AXIS_THRESHOLD"
   ]
  },
  {
   "cell_type": "markdown",
   "id": "still-pitch",
   "metadata": {},
   "source": [
    "## Delete samples with no tissue/cell type information"
   ]
  },
  {
   "cell_type": "code",
   "execution_count": 93,
   "id": "varying-pioneer",
   "metadata": {},
   "outputs": [],
   "source": [
    "# final_plot_data = final_plot_data[\n",
    "#     final_plot_data[SELECTED_ATTRIBUTE] != \"NOT CATEGORIZED\"\n",
    "# ]"
   ]
  },
  {
   "cell_type": "markdown",
   "id": "comparable-modem",
   "metadata": {},
   "source": [
    "## Set x-axis order"
   ]
  },
  {
   "cell_type": "code",
   "execution_count": 94,
   "id": "golden-bridge",
   "metadata": {},
   "outputs": [],
   "source": [
    "attr_order = (\n",
    "    final_plot_data.groupby(SELECTED_ATTRIBUTE)\n",
    "    .max()\n",
    "    .sort_values(LV_NAME, ascending=False)\n",
    "    .index[:N_TOP_ATTRS]\n",
    "    .tolist()\n",
    ")"
   ]
  },
  {
   "cell_type": "code",
   "execution_count": 95,
   "id": "expanded-enlargement",
   "metadata": {},
   "outputs": [
    {
     "data": {
      "text/plain": [
       "15"
      ]
     },
     "execution_count": 95,
     "metadata": {},
     "output_type": "execute_result"
    }
   ],
   "source": [
    "len(attr_order)"
   ]
  },
  {
   "cell_type": "code",
   "execution_count": 96,
   "id": "collectible-setup",
   "metadata": {},
   "outputs": [
    {
     "data": {
      "text/plain": [
       "['HEK293T/17',\n",
       " 'cortex',\n",
       " 'Dissociated whole cerebral organoid',\n",
       " 'U87 human glioma cells',\n",
       " 'testicular germ']"
      ]
     },
     "execution_count": 96,
     "metadata": {},
     "output_type": "execute_result"
    }
   ],
   "source": [
    "attr_order[:5]"
   ]
  },
  {
   "cell_type": "markdown",
   "id": "patent-colors",
   "metadata": {},
   "source": [
    "## Plot"
   ]
  },
  {
   "cell_type": "code",
   "execution_count": 97,
   "id": "educated-arthritis",
   "metadata": {},
   "outputs": [
    {
     "data": {
      "image/png": "[encoded data removed]",
      "text/plain": [
       "<Figure size 1250x500 with 1 Axes>"
      ]
     },
     "metadata": {},
     "output_type": "display_data"
    }
   ],
   "source": [
    "with sns.plotting_context(\"paper\", font_scale=2.5), sns.axes_style(\"whitegrid\"):\n",
    "    g = sns.catplot(\n",
    "        data=final_plot_data,\n",
    "        y=LV_NAME,\n",
    "        x=SELECTED_ATTRIBUTE,\n",
    "        order=attr_order,\n",
    "        kind=\"strip\",\n",
    "        height=5,\n",
    "        aspect=2.5,\n",
    "    )\n",
    "    plt.xticks(rotation=45, horizontalalignment=\"right\")\n",
    "    plt.xlabel(\"\")\n",
    "\n",
    "    # plt.savefig(\n",
    "    #     OUTPUT_CELL_TYPE_FILEPATH,\n",
    "    #     bbox_inches=\"tight\",\n",
    "    #     facecolor=\"white\",\n",
    "    # )"
   ]
  },
  {
   "cell_type": "code",
   "execution_count": 56,
   "id": "634becb0-6ff3-44ae-8804-434bf55b5b1f",
   "metadata": {},
   "outputs": [],
   "source": [
    "# with sns.plotting_context(\"paper\", font_scale=2.5), sns.axes_style(\"whitegrid\"):\n",
    "#     g = sns.catplot(\n",
    "#         data=final_plot_data,\n",
    "#         y=LV_NAME,\n",
    "#         x=SELECTED_ATTRIBUTE,\n",
    "#         order=attr_order,\n",
    "#         kind=\"box\",\n",
    "#         height=5,\n",
    "#         aspect=2.5,\n",
    "#     )\n",
    "#     plt.xticks(rotation=45, horizontalalignment=\"right\")\n",
    "#     plt.xlabel(\"\")\n",
    "\n",
    "#     # plt.savefig(\n",
    "#     #     OUTPUT_CELL_TYPE_FILEPATH,\n",
    "#     #     bbox_inches=\"tight\",\n",
    "#     #     facecolor=\"white\",\n",
    "#     # )"
   ]
  },
  {
   "cell_type": "markdown",
   "id": "theoretical-raleigh",
   "metadata": {},
   "source": [
    "# Debug"
   ]
  },
  {
   "cell_type": "code",
   "execution_count": null,
   "id": "suspended-tiffany",
   "metadata": {},
   "outputs": [],
   "source": [
    "with pd.option_context(\n",
    "    \"display.max_rows\", None, \"display.max_columns\", None, \"display.max_colwidth\", None\n",
    "):\n",
    "    _tmp = final_plot_data[final_plot_data[SELECTED_ATTRIBUTE].str.contains(\"^NOT CATEGORIZED$\")].sort_values(LV_NAME, ascending=False)\n",
    "    display(_tmp.head(20))"
   ]
  },
  {
   "cell_type": "code",
   "execution_count": null,
   "id": "36a58987-df7e-49d0-ada6-59cbca368a5d",
   "metadata": {},
   "outputs": [],
   "source": [
    "# what is there in these projects?\n",
    "_tmp = lv_data.loc[[\"SRP045500\"]].dropna(how=\"all\", axis=1).sort_values(\n",
    "    LV_NAME, ascending=False\n",
    ")\n",
    "\n",
    "display(_tmp.head(60))"
   ]
  },
  {
   "cell_type": "code",
   "execution_count": null,
   "id": "d1bab62e-6ce7-4c64-b96d-7a48eef1986f",
   "metadata": {},
   "outputs": [],
   "source": [
    "_tmp[\"sirs outcomes\"].value_counts()"
   ]
  },
  {
   "cell_type": "markdown",
   "id": "970d6358-61b9-47f7-ae75-c74334dafaec",
   "metadata": {},
   "source": [
    "# Reduced plot"
   ]
  },
  {
   "cell_type": "markdown",
   "id": "197ccfc1-4a83-414c-b54f-af2e8bdaedb9",
   "metadata": {},
   "source": [
    "## Data stats"
   ]
  },
  {
   "cell_type": "code",
   "execution_count": null,
   "id": "c3738a95-7a50-40f8-a8e0-796f4b1d6941",
   "metadata": {},
   "outputs": [],
   "source": [
    "plot_data_stats = final_plot_data.describe()[LV_NAME]\n",
    "display(plot_data_stats)"
   ]
  },
  {
   "cell_type": "code",
   "execution_count": null,
   "id": "d0663e41-dcef-4945-bc3e-2e80914ac195",
   "metadata": {},
   "outputs": [],
   "source": [
    "plot_data_stats_by_cell_type = (\n",
    "    final_plot_data.groupby(SELECTED_ATTRIBUTE)\n",
    "    .describe()[LV_NAME]\n",
    "    .sort_values(\"50%\", ascending=False)\n",
    ")\n",
    "display(plot_data_stats_by_cell_type)"
   ]
  },
  {
   "cell_type": "code",
   "execution_count": null,
   "id": "f3f5d34c-4ec8-4bd8-96a9-074001f758cc",
   "metadata": {},
   "outputs": [],
   "source": [
    "# keep cell types whose median is larger than the global median\n",
    "selected_cell_types = plot_data_stats_by_cell_type[\n",
    "    (plot_data_stats_by_cell_type[\"50%\"] > max(plot_data_stats.loc[\"50%\"], 0.0))\n",
    "].index\n",
    "display(selected_cell_types)"
   ]
  },
  {
   "cell_type": "code",
   "execution_count": null,
   "id": "72f0004d-ae43-423e-8b65-4f8b573c7568",
   "metadata": {},
   "outputs": [],
   "source": [
    "final_plot_data.shape"
   ]
  },
  {
   "cell_type": "code",
   "execution_count": null,
   "id": "15d5c347-8df5-432a-8b9f-8123cc0d367e",
   "metadata": {},
   "outputs": [],
   "source": [
    "final_plot_data = final_plot_data[\n",
    "    final_plot_data[SELECTED_ATTRIBUTE].isin(selected_cell_types)\n",
    "]"
   ]
  },
  {
   "cell_type": "code",
   "execution_count": null,
   "id": "f7842f3f-9af7-414d-a73b-c63d19314947",
   "metadata": {},
   "outputs": [],
   "source": [
    "final_plot_data.shape"
   ]
  },
  {
   "cell_type": "markdown",
   "id": "6e711fde-9aec-458a-9836-f1ef6fbe5b80",
   "metadata": {},
   "source": [
    "## Set x-axis order"
   ]
  },
  {
   "cell_type": "code",
   "execution_count": null,
   "id": "efd3e266-d2b3-4720-b9c9-e40b74dbcc97",
   "metadata": {},
   "outputs": [],
   "source": [
    "attr_order = (\n",
    "    final_plot_data.groupby(SELECTED_ATTRIBUTE)\n",
    "    .median()\n",
    "    .sort_values(LV_NAME, ascending=False)\n",
    "    .index[:N_TOP_ATTRS]\n",
    "    .tolist()\n",
    ")"
   ]
  },
  {
   "cell_type": "code",
   "execution_count": null,
   "id": "8ef26d0b-de69-40b1-8997-ddcf3e3e8778",
   "metadata": {},
   "outputs": [],
   "source": [
    "len(attr_order)"
   ]
  },
  {
   "cell_type": "code",
   "execution_count": null,
   "id": "73c395e8-c983-4f3b-9278-f0e1c58ae0f7",
   "metadata": {},
   "outputs": [],
   "source": [
    "attr_order[:5]"
   ]
  },
  {
   "cell_type": "markdown",
   "id": "1797ee1d-b9e7-4ccb-8454-513a58dff07d",
   "metadata": {},
   "source": [
    "## Plot"
   ]
  },
  {
   "cell_type": "code",
   "execution_count": null,
   "id": "515bd511-ad6d-4829-b9b7-0ee1e22d3c6d",
   "metadata": {},
   "outputs": [],
   "source": [
    "with sns.plotting_context(\"paper\", font_scale=2.5), sns.axes_style(\"whitegrid\"):\n",
    "    g = sns.catplot(\n",
    "        data=final_plot_data,\n",
    "        y=LV_NAME,\n",
    "        x=SELECTED_ATTRIBUTE,\n",
    "        order=attr_order,\n",
    "        kind=\"box\",\n",
    "        height=5,\n",
    "        aspect=2.5,\n",
    "    )\n",
    "    plt.xticks(rotation=45, horizontalalignment=\"right\")\n",
    "    plt.xlabel(\"\")\n",
    "\n",
    "    # plt.savefig(\n",
    "    #     OUTPUT_CELL_TYPE_FILEPATH,\n",
    "    #     bbox_inches=\"tight\",\n",
    "    #     facecolor=\"white\",\n",
    "    # )"
   ]
  },
  {
   "cell_type": "code",
   "execution_count": null,
   "id": "classified-overall",
   "metadata": {},
   "outputs": [],
   "source": []
  }
 ],
 "metadata": {
  "jupytext": {
   "cell_metadata_filter": "all,-execution,-papermill,-trusted",
   "formats": "ipynb,py//py:percent"
  },
  "kernelspec": {
   "display_name": "Python 3 (ipykernel)",
   "language": "python",
   "name": "python3"
  },
  "language_info": {
   "codemirror_mode": {
    "name": "ipython",
    "version": 3
   },
   "file_extension": ".py",
   "mimetype": "text/x-python",
   "name": "python",
   "nbconvert_exporter": "python",
   "pygments_lexer": "ipython3",
   "version": "3.10.6"
  },
  "toc-autonumbering": true
 },
 "nbformat": 4,
 "nbformat_minor": 5
}
