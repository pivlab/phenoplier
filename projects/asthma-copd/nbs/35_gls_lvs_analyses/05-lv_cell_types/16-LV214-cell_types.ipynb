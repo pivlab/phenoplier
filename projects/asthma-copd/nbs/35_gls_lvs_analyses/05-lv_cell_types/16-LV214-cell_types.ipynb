{
 "cells": [
  {
   "cell_type": "markdown",
   "id": "superior-virgin",
   "metadata": {
    "papermill": {
     "duration": 0.006593,
     "end_time": "2021-05-11T19:09:55.733221",
     "exception": false,
     "start_time": "2021-05-11T19:09:55.726628",
     "status": "completed"
    },
    "tags": []
   },
   "source": [
    "# Description"
   ]
  },
  {
   "cell_type": "markdown",
   "id": "successful-knight",
   "metadata": {
    "papermill": {
     "duration": 0.00668,
     "end_time": "2021-05-11T19:09:55.745410",
     "exception": false,
     "start_time": "2021-05-11T19:09:55.738730",
     "status": "completed"
    },
    "tags": []
   },
   "source": [
    "Generates the figure for top cell types for a specified LV (in Settings section below)."
   ]
  },
  {
   "cell_type": "markdown",
   "id": "compatible-weight",
   "metadata": {
    "papermill": {
     "duration": 0.006223,
     "end_time": "2021-05-11T19:09:55.756959",
     "exception": false,
     "start_time": "2021-05-11T19:09:55.750736",
     "status": "completed"
    },
    "tags": []
   },
   "source": [
    "# Modules loading"
   ]
  },
  {
   "cell_type": "code",
   "execution_count": 1,
   "id": "proper-chester",
   "metadata": {
    "papermill": {
     "duration": 0.993432,
     "end_time": "2021-05-11T19:09:56.780403",
     "exception": false,
     "start_time": "2021-05-11T19:09:55.786971",
     "status": "completed"
    },
    "tags": []
   },
   "outputs": [],
   "source": [
    "import re\n",
    "from pathlib import Path\n",
    "\n",
    "import pandas as pd\n",
    "import matplotlib.pyplot as plt\n",
    "import seaborn as sns\n",
    "\n",
    "from data.recount2 import LVAnalysis\n",
    "from utils import chunker\n",
    "import conf"
   ]
  },
  {
   "cell_type": "markdown",
   "id": "sized-butter",
   "metadata": {
    "papermill": {
     "duration": 0.005973,
     "end_time": "2021-05-11T19:09:56.792495",
     "exception": false,
     "start_time": "2021-05-11T19:09:56.786522",
     "status": "completed"
    },
    "tags": []
   },
   "source": [
    "# Settings"
   ]
  },
  {
   "cell_type": "code",
   "execution_count": 2,
   "id": "tender-contrary",
   "metadata": {
    "papermill": {
     "duration": 0.019548,
     "end_time": "2021-05-11T19:09:56.817689",
     "exception": false,
     "start_time": "2021-05-11T19:09:56.798141",
     "status": "completed"
    },
    "tags": [
     "parameters"
    ]
   },
   "outputs": [],
   "source": [
    "LV_NAME = \"LV214\""
   ]
  },
  {
   "cell_type": "code",
   "execution_count": 3,
   "id": "sunset-carbon",
   "metadata": {},
   "outputs": [],
   "source": [
    "LV_AXIS_THRESHOLD = None  # 3.0\n",
    "# LV_AXIS_THRESHOLD = 2.0\n",
    "N_TOP_SAMPLES = 400\n",
    "N_TOP_ATTRS = 15"
   ]
  },
  {
   "cell_type": "code",
   "execution_count": 4,
   "id": "proof-primary",
   "metadata": {},
   "outputs": [],
   "source": [
    "# OUTPUT_FIGURES_DIR = Path(\n",
    "#     conf.MANUSCRIPT[\"FIGURES_DIR\"], \"lvs_analysis\", f\"{LV_NAME.lower()}\"\n",
    "# ).resolve()\n",
    "# display(OUTPUT_FIGURES_DIR)\n",
    "# OUTPUT_FIGURES_DIR.mkdir(parents=True, exist_ok=True)"
   ]
  },
  {
   "cell_type": "code",
   "execution_count": 5,
   "id": "three-crossing",
   "metadata": {},
   "outputs": [],
   "source": [
    "# OUTPUT_CELL_TYPE_FILEPATH = OUTPUT_FIGURES_DIR / f\"{LV_NAME.lower()}-cell_types.svg\"\n",
    "# display(OUTPUT_CELL_TYPE_FILEPATH)"
   ]
  },
  {
   "cell_type": "markdown",
   "id": "invisible-madrid",
   "metadata": {
    "papermill": {
     "duration": 0.005592,
     "end_time": "2021-05-11T19:09:56.854406",
     "exception": false,
     "start_time": "2021-05-11T19:09:56.848814",
     "status": "completed"
    },
    "tags": []
   },
   "source": [
    "# Load MultiPLIER summary"
   ]
  },
  {
   "cell_type": "code",
   "execution_count": 6,
   "id": "coated-christmas",
   "metadata": {
    "papermill": {
     "duration": 0.020251,
     "end_time": "2021-05-11T19:09:56.880435",
     "exception": false,
     "start_time": "2021-05-11T19:09:56.860184",
     "status": "completed"
    },
    "tags": []
   },
   "outputs": [],
   "source": [
    "multiplier_model_summary = pd.read_pickle(conf.MULTIPLIER[\"MODEL_SUMMARY_FILE\"])"
   ]
  },
  {
   "cell_type": "code",
   "execution_count": 7,
   "id": "stopped-driving",
   "metadata": {
    "papermill": {
     "duration": 0.02062,
     "end_time": "2021-05-11T19:09:56.906744",
     "exception": false,
     "start_time": "2021-05-11T19:09:56.886124",
     "status": "completed"
    },
    "tags": []
   },
   "outputs": [
    {
     "data": {
      "text/plain": [
       "(2157, 5)"
      ]
     },
     "execution_count": 7,
     "metadata": {},
     "output_type": "execute_result"
    }
   ],
   "source": [
    "multiplier_model_summary.shape"
   ]
  },
  {
   "cell_type": "code",
   "execution_count": 8,
   "id": "rural-grove",
   "metadata": {
    "papermill": {
     "duration": 0.024737,
     "end_time": "2021-05-11T19:09:56.937493",
     "exception": false,
     "start_time": "2021-05-11T19:09:56.912756",
     "status": "completed"
    },
    "tags": []
   },
   "outputs": [
    {
     "data": {
      "text/html": [
       "<div>\n",
       "<style scoped>\n",
       "    .dataframe tbody tr th:only-of-type {\n",
       "        vertical-align: middle;\n",
       "    }\n",
       "\n",
       "    .dataframe tbody tr th {\n",
       "        vertical-align: top;\n",
       "    }\n",
       "\n",
       "    .dataframe thead th {\n",
       "        text-align: right;\n",
       "    }\n",
       "</style>\n",
       "<table border=\"1\" class=\"dataframe\">\n",
       "  <thead>\n",
       "    <tr style=\"text-align: right;\">\n",
       "      <th></th>\n",
       "      <th>pathway</th>\n",
       "      <th>LV index</th>\n",
       "      <th>AUC</th>\n",
       "      <th>p-value</th>\n",
       "      <th>FDR</th>\n",
       "    </tr>\n",
       "  </thead>\n",
       "  <tbody>\n",
       "    <tr>\n",
       "      <th>1</th>\n",
       "      <td>KEGG_LYSINE_DEGRADATION</td>\n",
       "      <td>1</td>\n",
       "      <td>0.388059</td>\n",
       "      <td>0.866078</td>\n",
       "      <td>0.956005</td>\n",
       "    </tr>\n",
       "    <tr>\n",
       "      <th>2</th>\n",
       "      <td>REACTOME_MRNA_SPLICING</td>\n",
       "      <td>1</td>\n",
       "      <td>0.733057</td>\n",
       "      <td>0.000048</td>\n",
       "      <td>0.000582</td>\n",
       "    </tr>\n",
       "    <tr>\n",
       "      <th>3</th>\n",
       "      <td>MIPS_NOP56P_ASSOCIATED_PRE_RRNA_COMPLEX</td>\n",
       "      <td>1</td>\n",
       "      <td>0.680555</td>\n",
       "      <td>0.001628</td>\n",
       "      <td>0.011366</td>\n",
       "    </tr>\n",
       "    <tr>\n",
       "      <th>4</th>\n",
       "      <td>KEGG_DNA_REPLICATION</td>\n",
       "      <td>1</td>\n",
       "      <td>0.549473</td>\n",
       "      <td>0.312155</td>\n",
       "      <td>0.539951</td>\n",
       "    </tr>\n",
       "    <tr>\n",
       "      <th>5</th>\n",
       "      <td>PID_MYC_ACTIVPATHWAY</td>\n",
       "      <td>1</td>\n",
       "      <td>0.639303</td>\n",
       "      <td>0.021702</td>\n",
       "      <td>0.083739</td>\n",
       "    </tr>\n",
       "  </tbody>\n",
       "</table>\n",
       "</div>"
      ],
      "text/plain": [
       "                                   pathway LV index       AUC   p-value  \\\n",
       "1                  KEGG_LYSINE_DEGRADATION        1  0.388059  0.866078   \n",
       "2                   REACTOME_MRNA_SPLICING        1  0.733057  0.000048   \n",
       "3  MIPS_NOP56P_ASSOCIATED_PRE_RRNA_COMPLEX        1  0.680555  0.001628   \n",
       "4                     KEGG_DNA_REPLICATION        1  0.549473  0.312155   \n",
       "5                     PID_MYC_ACTIVPATHWAY        1  0.639303  0.021702   \n",
       "\n",
       "        FDR  \n",
       "1  0.956005  \n",
       "2  0.000582  \n",
       "3  0.011366  \n",
       "4  0.539951  \n",
       "5  0.083739  "
      ]
     },
     "execution_count": 8,
     "metadata": {},
     "output_type": "execute_result"
    }
   ],
   "source": [
    "multiplier_model_summary.head()"
   ]
  },
  {
   "cell_type": "markdown",
   "id": "neural-expression",
   "metadata": {
    "papermill": {
     "duration": 0.006007,
     "end_time": "2021-05-11T19:09:56.949763",
     "exception": false,
     "start_time": "2021-05-11T19:09:56.943756",
     "status": "completed"
    },
    "tags": []
   },
   "source": [
    "# Load data"
   ]
  },
  {
   "cell_type": "markdown",
   "id": "military-enlargement",
   "metadata": {
    "papermill": {
     "duration": 0.005873,
     "end_time": "2021-05-11T19:09:56.961602",
     "exception": false,
     "start_time": "2021-05-11T19:09:56.955729",
     "status": "completed"
    },
    "tags": []
   },
   "source": [
    "## Original data"
   ]
  },
  {
   "cell_type": "code",
   "execution_count": 9,
   "id": "distinguished-elements",
   "metadata": {
    "papermill": {
     "duration": 0.019571,
     "end_time": "2021-05-11T19:09:56.987255",
     "exception": false,
     "start_time": "2021-05-11T19:09:56.967684",
     "status": "completed"
    },
    "tags": []
   },
   "outputs": [],
   "source": [
    "# INPUT_SUBSET = \"z_score_std\""
   ]
  },
  {
   "cell_type": "code",
   "execution_count": 10,
   "id": "elementary-court",
   "metadata": {
    "papermill": {
     "duration": 0.019175,
     "end_time": "2021-05-11T19:09:57.025099",
     "exception": false,
     "start_time": "2021-05-11T19:09:57.005924",
     "status": "completed"
    },
    "tags": []
   },
   "outputs": [],
   "source": [
    "# INPUT_STEM = \"projection-smultixcan-efo_partial-mashr-zscores\""
   ]
  },
  {
   "cell_type": "code",
   "execution_count": 11,
   "id": "yellow-stand",
   "metadata": {
    "papermill": {
     "duration": 0.020992,
     "end_time": "2021-05-11T19:09:57.052255",
     "exception": false,
     "start_time": "2021-05-11T19:09:57.031263",
     "status": "completed"
    },
    "tags": []
   },
   "outputs": [],
   "source": [
    "# input_filepath = Path(\n",
    "#     conf.RESULTS[\"DATA_TRANSFORMATIONS_DIR\"],\n",
    "#     INPUT_SUBSET,\n",
    "#     f\"{INPUT_SUBSET}-{INPUT_STEM}.pkl\",\n",
    "# ).resolve()\n",
    "# display(input_filepath)\n",
    "\n",
    "# assert input_filepath.exists(), \"Input file does not exist\"\n",
    "\n",
    "# input_filepath_stem = input_filepath.stem\n",
    "# display(input_filepath_stem)"
   ]
  },
  {
   "cell_type": "code",
   "execution_count": 12,
   "id": "perfect-cruise",
   "metadata": {
    "papermill": {
     "duration": 0.032337,
     "end_time": "2021-05-11T19:09:57.090585",
     "exception": false,
     "start_time": "2021-05-11T19:09:57.058248",
     "status": "completed"
    },
    "tags": []
   },
   "outputs": [],
   "source": [
    "# data = pd.read_pickle(input_filepath)"
   ]
  },
  {
   "cell_type": "code",
   "execution_count": 13,
   "id": "medieval-junction",
   "metadata": {
    "papermill": {
     "duration": 0.01967,
     "end_time": "2021-05-11T19:09:57.116292",
     "exception": false,
     "start_time": "2021-05-11T19:09:57.096622",
     "status": "completed"
    },
    "tags": []
   },
   "outputs": [],
   "source": [
    "# data.shape"
   ]
  },
  {
   "cell_type": "code",
   "execution_count": 14,
   "id": "charitable-craps",
   "metadata": {
    "papermill": {
     "duration": 0.031843,
     "end_time": "2021-05-11T19:09:57.154356",
     "exception": false,
     "start_time": "2021-05-11T19:09:57.122513",
     "status": "completed"
    },
    "tags": []
   },
   "outputs": [],
   "source": [
    "# data.head()"
   ]
  },
  {
   "cell_type": "markdown",
   "id": "architectural-flooring",
   "metadata": {},
   "source": [
    "## LV data"
   ]
  },
  {
   "cell_type": "code",
   "execution_count": 15,
   "id": "suited-employer",
   "metadata": {},
   "outputs": [],
   "source": [
    "# lv_obj = LVAnalysis(LV_NAME, data)\n",
    "lv_obj = LVAnalysis(LV_NAME)"
   ]
  },
  {
   "cell_type": "code",
   "execution_count": 16,
   "id": "noted-little",
   "metadata": {},
   "outputs": [
    {
     "data": {
      "text/html": [
       "<div>\n",
       "<style scoped>\n",
       "    .dataframe tbody tr th:only-of-type {\n",
       "        vertical-align: middle;\n",
       "    }\n",
       "\n",
       "    .dataframe tbody tr th {\n",
       "        vertical-align: top;\n",
       "    }\n",
       "\n",
       "    .dataframe thead th {\n",
       "        text-align: right;\n",
       "    }\n",
       "</style>\n",
       "<table border=\"1\" class=\"dataframe\">\n",
       "  <thead>\n",
       "    <tr style=\"text-align: right;\">\n",
       "      <th></th>\n",
       "      <th>pathway</th>\n",
       "      <th>LV index</th>\n",
       "      <th>AUC</th>\n",
       "      <th>p-value</th>\n",
       "      <th>FDR</th>\n",
       "    </tr>\n",
       "  </thead>\n",
       "  <tbody>\n",
       "  </tbody>\n",
       "</table>\n",
       "</div>"
      ],
      "text/plain": [
       "Empty DataFrame\n",
       "Columns: [pathway, LV index, AUC, p-value, FDR]\n",
       "Index: []"
      ]
     },
     "execution_count": 16,
     "metadata": {},
     "output_type": "execute_result"
    }
   ],
   "source": [
    "multiplier_model_summary[\n",
    "    multiplier_model_summary[\"LV index\"].isin((LV_NAME[2:],))\n",
    "    & (\n",
    "        (multiplier_model_summary[\"FDR\"] < 0.05)\n",
    "        | (multiplier_model_summary[\"AUC\"] >= 0.75)\n",
    "    )\n",
    "]"
   ]
  },
  {
   "cell_type": "code",
   "execution_count": 17,
   "id": "assigned-weekly",
   "metadata": {},
   "outputs": [
    {
     "name": "stdout",
     "output_type": "stream",
     "text": [
      "SRP055569, SRP055153, SRP060416, SRP042161, SRP033135, SRP064464, SRP057196, SRP033248, SRP042218, SRP009862, SRP059775, SRP011895, SRP066834, SRP058773, SRP012461, SRP009266, SRP043962, SRP055513, SRP065202, SRP039361, SRP056733, SRP012056, SRP018723, SRP064735, SRP018853, SRP027383, SRP010279, SRP057205, SRP058667, SRP028963, SRP050499, SRP007338, SRP059035, SRP059379, SRP004847, SRP007461, SRP045500, SRP006717, "
     ]
    },
    {
     "name": "stderr",
     "output_type": "stream",
     "text": [
      "/opt/code/libs/data/recount2.py:360: UserWarning: Not all experiments data could be loaded (35 != 38)\n",
      "  warnings.warn(\n"
     ]
    }
   ],
   "source": [
    "lv_data = lv_obj.get_experiments_data()"
   ]
  },
  {
   "cell_type": "code",
   "execution_count": 18,
   "id": "guilty-medicaid",
   "metadata": {},
   "outputs": [
    {
     "data": {
      "text/plain": [
       "(6090, 85)"
      ]
     },
     "execution_count": 18,
     "metadata": {},
     "output_type": "execute_result"
    }
   ],
   "source": [
    "lv_data.shape"
   ]
  },
  {
   "cell_type": "code",
   "execution_count": 19,
   "id": "neural-cambridge",
   "metadata": {},
   "outputs": [
    {
     "data": {
      "text/html": [
       "<div>\n",
       "<style scoped>\n",
       "    .dataframe tbody tr th:only-of-type {\n",
       "        vertical-align: middle;\n",
       "    }\n",
       "\n",
       "    .dataframe tbody tr th {\n",
       "        vertical-align: top;\n",
       "    }\n",
       "\n",
       "    .dataframe thead th {\n",
       "        text-align: right;\n",
       "    }\n",
       "</style>\n",
       "<table border=\"1\" class=\"dataframe\">\n",
       "  <thead>\n",
       "    <tr style=\"text-align: right;\">\n",
       "      <th></th>\n",
       "      <th></th>\n",
       "      <th>cell type</th>\n",
       "      <th>cell line</th>\n",
       "      <th>tonsil donor</th>\n",
       "      <th>facs gating</th>\n",
       "      <th>patient id</th>\n",
       "      <th>subtype</th>\n",
       "      <th>hour post serum-switch</th>\n",
       "      <th>debris</th>\n",
       "      <th>control well</th>\n",
       "      <th>cells in well</th>\n",
       "      <th>...</th>\n",
       "      <th>index</th>\n",
       "      <th>race</th>\n",
       "      <th>samplename</th>\n",
       "      <th>smoker</th>\n",
       "      <th>time since last flare (months)</th>\n",
       "      <th>time since steroid dose</th>\n",
       "      <th>time since symptom onset (yrs)</th>\n",
       "      <th>years since diagnosis</th>\n",
       "      <th>sample type</th>\n",
       "      <th>LV214</th>\n",
       "    </tr>\n",
       "    <tr>\n",
       "      <th>project</th>\n",
       "      <th>run</th>\n",
       "      <th></th>\n",
       "      <th></th>\n",
       "      <th></th>\n",
       "      <th></th>\n",
       "      <th></th>\n",
       "      <th></th>\n",
       "      <th></th>\n",
       "      <th></th>\n",
       "      <th></th>\n",
       "      <th></th>\n",
       "      <th></th>\n",
       "      <th></th>\n",
       "      <th></th>\n",
       "      <th></th>\n",
       "      <th></th>\n",
       "      <th></th>\n",
       "      <th></th>\n",
       "      <th></th>\n",
       "      <th></th>\n",
       "      <th></th>\n",
       "      <th></th>\n",
       "    </tr>\n",
       "  </thead>\n",
       "  <tbody>\n",
       "    <tr>\n",
       "      <th rowspan=\"5\" valign=\"top\">SRP055569</th>\n",
       "      <th>SRR1821717</th>\n",
       "      <td>MCF10a human breast cancer cells</td>\n",
       "      <td>NaN</td>\n",
       "      <td>NaN</td>\n",
       "      <td>NaN</td>\n",
       "      <td>NaN</td>\n",
       "      <td>NaN</td>\n",
       "      <td>NaN</td>\n",
       "      <td>NaN</td>\n",
       "      <td>NaN</td>\n",
       "      <td>NaN</td>\n",
       "      <td>...</td>\n",
       "      <td>NaN</td>\n",
       "      <td>NaN</td>\n",
       "      <td>NaN</td>\n",
       "      <td>NaN</td>\n",
       "      <td>NaN</td>\n",
       "      <td>NaN</td>\n",
       "      <td>NaN</td>\n",
       "      <td>NaN</td>\n",
       "      <td>NaN</td>\n",
       "      <td>-0.066819</td>\n",
       "    </tr>\n",
       "    <tr>\n",
       "      <th>SRR1821716</th>\n",
       "      <td>MCF10a human breast cancer cells</td>\n",
       "      <td>NaN</td>\n",
       "      <td>NaN</td>\n",
       "      <td>NaN</td>\n",
       "      <td>NaN</td>\n",
       "      <td>NaN</td>\n",
       "      <td>NaN</td>\n",
       "      <td>NaN</td>\n",
       "      <td>NaN</td>\n",
       "      <td>NaN</td>\n",
       "      <td>...</td>\n",
       "      <td>NaN</td>\n",
       "      <td>NaN</td>\n",
       "      <td>NaN</td>\n",
       "      <td>NaN</td>\n",
       "      <td>NaN</td>\n",
       "      <td>NaN</td>\n",
       "      <td>NaN</td>\n",
       "      <td>NaN</td>\n",
       "      <td>NaN</td>\n",
       "      <td>-0.004674</td>\n",
       "    </tr>\n",
       "    <tr>\n",
       "      <th>SRR1821715</th>\n",
       "      <td>MCF10a human breast cancer cells</td>\n",
       "      <td>NaN</td>\n",
       "      <td>NaN</td>\n",
       "      <td>NaN</td>\n",
       "      <td>NaN</td>\n",
       "      <td>NaN</td>\n",
       "      <td>NaN</td>\n",
       "      <td>NaN</td>\n",
       "      <td>NaN</td>\n",
       "      <td>NaN</td>\n",
       "      <td>...</td>\n",
       "      <td>NaN</td>\n",
       "      <td>NaN</td>\n",
       "      <td>NaN</td>\n",
       "      <td>NaN</td>\n",
       "      <td>NaN</td>\n",
       "      <td>NaN</td>\n",
       "      <td>NaN</td>\n",
       "      <td>NaN</td>\n",
       "      <td>NaN</td>\n",
       "      <td>0.033694</td>\n",
       "    </tr>\n",
       "    <tr>\n",
       "      <th>SRR1821714</th>\n",
       "      <td>MCF10a human breast cancer cells</td>\n",
       "      <td>NaN</td>\n",
       "      <td>NaN</td>\n",
       "      <td>NaN</td>\n",
       "      <td>NaN</td>\n",
       "      <td>NaN</td>\n",
       "      <td>NaN</td>\n",
       "      <td>NaN</td>\n",
       "      <td>NaN</td>\n",
       "      <td>NaN</td>\n",
       "      <td>...</td>\n",
       "      <td>NaN</td>\n",
       "      <td>NaN</td>\n",
       "      <td>NaN</td>\n",
       "      <td>NaN</td>\n",
       "      <td>NaN</td>\n",
       "      <td>NaN</td>\n",
       "      <td>NaN</td>\n",
       "      <td>NaN</td>\n",
       "      <td>NaN</td>\n",
       "      <td>0.000986</td>\n",
       "    </tr>\n",
       "    <tr>\n",
       "      <th>SRR1821713</th>\n",
       "      <td>MCF10a human breast cancer cells</td>\n",
       "      <td>NaN</td>\n",
       "      <td>NaN</td>\n",
       "      <td>NaN</td>\n",
       "      <td>NaN</td>\n",
       "      <td>NaN</td>\n",
       "      <td>NaN</td>\n",
       "      <td>NaN</td>\n",
       "      <td>NaN</td>\n",
       "      <td>NaN</td>\n",
       "      <td>...</td>\n",
       "      <td>NaN</td>\n",
       "      <td>NaN</td>\n",
       "      <td>NaN</td>\n",
       "      <td>NaN</td>\n",
       "      <td>NaN</td>\n",
       "      <td>NaN</td>\n",
       "      <td>NaN</td>\n",
       "      <td>NaN</td>\n",
       "      <td>NaN</td>\n",
       "      <td>0.043743</td>\n",
       "    </tr>\n",
       "  </tbody>\n",
       "</table>\n",
       "<p>5 rows × 85 columns</p>\n",
       "</div>"
      ],
      "text/plain": [
       "                                             cell type cell line tonsil donor  \\\n",
       "project   run                                                                   \n",
       "SRP055569 SRR1821717  MCF10a human breast cancer cells       NaN          NaN   \n",
       "          SRR1821716  MCF10a human breast cancer cells       NaN          NaN   \n",
       "          SRR1821715  MCF10a human breast cancer cells       NaN          NaN   \n",
       "          SRR1821714  MCF10a human breast cancer cells       NaN          NaN   \n",
       "          SRR1821713  MCF10a human breast cancer cells       NaN          NaN   \n",
       "\n",
       "                     facs gating patient id subtype hour post serum-switch  \\\n",
       "project   run                                                                \n",
       "SRP055569 SRR1821717         NaN        NaN     NaN                    NaN   \n",
       "          SRR1821716         NaN        NaN     NaN                    NaN   \n",
       "          SRR1821715         NaN        NaN     NaN                    NaN   \n",
       "          SRR1821714         NaN        NaN     NaN                    NaN   \n",
       "          SRR1821713         NaN        NaN     NaN                    NaN   \n",
       "\n",
       "                     debris control well cells in well  ... index race  \\\n",
       "project   run                                           ...              \n",
       "SRP055569 SRR1821717    NaN          NaN           NaN  ...   NaN  NaN   \n",
       "          SRR1821716    NaN          NaN           NaN  ...   NaN  NaN   \n",
       "          SRR1821715    NaN          NaN           NaN  ...   NaN  NaN   \n",
       "          SRR1821714    NaN          NaN           NaN  ...   NaN  NaN   \n",
       "          SRR1821713    NaN          NaN           NaN  ...   NaN  NaN   \n",
       "\n",
       "                     samplename smoker time since last flare (months)  \\\n",
       "project   run                                                           \n",
       "SRP055569 SRR1821717        NaN    NaN                            NaN   \n",
       "          SRR1821716        NaN    NaN                            NaN   \n",
       "          SRR1821715        NaN    NaN                            NaN   \n",
       "          SRR1821714        NaN    NaN                            NaN   \n",
       "          SRR1821713        NaN    NaN                            NaN   \n",
       "\n",
       "                     time since steroid dose time since symptom onset (yrs)  \\\n",
       "project   run                                                                 \n",
       "SRP055569 SRR1821717                     NaN                            NaN   \n",
       "          SRR1821716                     NaN                            NaN   \n",
       "          SRR1821715                     NaN                            NaN   \n",
       "          SRR1821714                     NaN                            NaN   \n",
       "          SRR1821713                     NaN                            NaN   \n",
       "\n",
       "                     years since diagnosis sample type     LV214  \n",
       "project   run                                                     \n",
       "SRP055569 SRR1821717                   NaN         NaN -0.066819  \n",
       "          SRR1821716                   NaN         NaN -0.004674  \n",
       "          SRR1821715                   NaN         NaN  0.033694  \n",
       "          SRR1821714                   NaN         NaN  0.000986  \n",
       "          SRR1821713                   NaN         NaN  0.043743  \n",
       "\n",
       "[5 rows x 85 columns]"
      ]
     },
     "execution_count": 19,
     "metadata": {},
     "output_type": "execute_result"
    }
   ],
   "source": [
    "lv_data.head()"
   ]
  },
  {
   "cell_type": "markdown",
   "id": "civil-yugoslavia",
   "metadata": {},
   "source": [
    "# LV cell types analysis"
   ]
  },
  {
   "cell_type": "markdown",
   "id": "roman-hotel",
   "metadata": {},
   "source": [
    "## Get top attributes"
   ]
  },
  {
   "cell_type": "code",
   "execution_count": 20,
   "id": "pressed-oxide",
   "metadata": {},
   "outputs": [
    {
     "data": {
      "text/plain": [
       "overexpression                           0.049209\n",
       "cell type                                0.039624\n",
       "tonsil donor                             0.005440\n",
       "facs gating                              0.005440\n",
       "assigned cell type                       0.002436\n",
       "ercc_dilution                            0.002436\n",
       "ercc_mix                                 0.002436\n",
       "cell count                               0.002436\n",
       "qc pass                                  0.002436\n",
       "sample type                              0.002257\n",
       "sample molecule                          0.001967\n",
       "c1 chip id                               0.001954\n",
       "experiment_sample_name                   0.001954\n",
       "transepithelial electrical resistance    0.001675\n",
       "origen of cultured cells                 0.001675\n",
       "reprogramming time point (day)           0.001616\n",
       "well number                              0.001616\n",
       "patient id                               0.001599\n",
       "age                                      0.001543\n",
       "tissue                                   0.001355\n",
       "dtype: float64"
      ]
     },
     "metadata": {},
     "output_type": "display_data"
    }
   ],
   "source": [
    "lv_attrs = lv_obj.get_attributes_variation_score()\n",
    "display(lv_attrs.head(20))"
   ]
  },
  {
   "cell_type": "code",
   "execution_count": 21,
   "id": "creative-privacy",
   "metadata": {},
   "outputs": [
    {
     "data": {
      "text/plain": [
       "cell type         0.039624\n",
       "tissue            0.001355\n",
       "tissue subtype    0.000344\n",
       "tissue type       0.000344\n",
       "dtype: float64"
      ]
     },
     "execution_count": 21,
     "metadata": {},
     "output_type": "execute_result"
    }
   ],
   "source": [
    "# show those with cell type or tissue in their name\n",
    "_tmp = pd.Series(lv_attrs.index)\n",
    "lv_attrs[\n",
    "    _tmp.str.match(\n",
    "        \"(?:cell.+type$)|(?:tissue$)|(?:tissue.+type$)\",\n",
    "        case=False,\n",
    "        flags=re.IGNORECASE,\n",
    "    ).values\n",
    "].sort_values(ascending=False)"
   ]
  },
  {
   "cell_type": "code",
   "execution_count": 22,
   "id": "distinguished-thinking",
   "metadata": {},
   "outputs": [],
   "source": [
    "_tmp = lv_data.loc[\n",
    "    :,\n",
    "    [\n",
    "        \"cell type\",\n",
    "        \"tissue\",\n",
    "        # \"tissue subtype\",\n",
    "        # \"tissue type\",\n",
    "        LV_NAME,\n",
    "    ],\n",
    "]"
   ]
  },
  {
   "cell_type": "code",
   "execution_count": 23,
   "id": "civil-cooperation",
   "metadata": {},
   "outputs": [],
   "source": [
    "_tmp_seq = list(chunker(_tmp.sort_values(LV_NAME, ascending=False), 25))"
   ]
  },
  {
   "cell_type": "code",
   "execution_count": 24,
   "id": "dressed-enemy",
   "metadata": {},
   "outputs": [
    {
     "data": {
      "text/html": [
       "<div>\n",
       "<style scoped>\n",
       "    .dataframe tbody tr th:only-of-type {\n",
       "        vertical-align: middle;\n",
       "    }\n",
       "\n",
       "    .dataframe tbody tr th {\n",
       "        vertical-align: top;\n",
       "    }\n",
       "\n",
       "    .dataframe thead th {\n",
       "        text-align: right;\n",
       "    }\n",
       "</style>\n",
       "<table border=\"1\" class=\"dataframe\">\n",
       "  <thead>\n",
       "    <tr style=\"text-align: right;\">\n",
       "      <th></th>\n",
       "      <th></th>\n",
       "      <th>cell type</th>\n",
       "      <th>tissue</th>\n",
       "      <th>LV214</th>\n",
       "    </tr>\n",
       "    <tr>\n",
       "      <th>project</th>\n",
       "      <th>run</th>\n",
       "      <th></th>\n",
       "      <th></th>\n",
       "      <th></th>\n",
       "    </tr>\n",
       "  </thead>\n",
       "  <tbody>\n",
       "    <tr>\n",
       "      <th rowspan=\"3\" valign=\"top\">SRP055569</th>\n",
       "      <th>SRR1821460</th>\n",
       "      <td>mixture of U87 human glioma cells and MCF10a h...</td>\n",
       "      <td>NaN</td>\n",
       "      <td>11.652615</td>\n",
       "    </tr>\n",
       "    <tr>\n",
       "      <th>SRR1821445</th>\n",
       "      <td>mixture of U87 human glioma cells and MCF10a h...</td>\n",
       "      <td>NaN</td>\n",
       "      <td>0.717089</td>\n",
       "    </tr>\n",
       "    <tr>\n",
       "      <th>SRR1821628</th>\n",
       "      <td>MCF10a human breast cancer cells</td>\n",
       "      <td>NaN</td>\n",
       "      <td>0.687060</td>\n",
       "    </tr>\n",
       "    <tr>\n",
       "      <th>SRP055153</th>\n",
       "      <th>SRR1810661</th>\n",
       "      <td>no cell</td>\n",
       "      <td>NaN</td>\n",
       "      <td>0.605851</td>\n",
       "    </tr>\n",
       "    <tr>\n",
       "      <th>SRP060416</th>\n",
       "      <th>SRR2088143</th>\n",
       "      <td>tonsil Innate lymphoid cells</td>\n",
       "      <td>NaN</td>\n",
       "      <td>0.569799</td>\n",
       "    </tr>\n",
       "    <tr>\n",
       "      <th>SRP055569</th>\n",
       "      <th>SRR1821431</th>\n",
       "      <td>mixture of U87 human glioma cells and MCF10a h...</td>\n",
       "      <td>NaN</td>\n",
       "      <td>0.543467</td>\n",
       "    </tr>\n",
       "    <tr>\n",
       "      <th>SRP042161</th>\n",
       "      <th>SRR1294847</th>\n",
       "      <td>Glioblastoma</td>\n",
       "      <td>NaN</td>\n",
       "      <td>0.542694</td>\n",
       "    </tr>\n",
       "    <tr>\n",
       "      <th>SRP060416</th>\n",
       "      <th>SRR2088180</th>\n",
       "      <td>tonsil Innate lymphoid cells</td>\n",
       "      <td>NaN</td>\n",
       "      <td>0.504226</td>\n",
       "    </tr>\n",
       "    <tr>\n",
       "      <th>SRP033135</th>\n",
       "      <th>SRR1033120</th>\n",
       "      <td>Human Skeletal Muscle Myoblasts (HSMM)</td>\n",
       "      <td>NaN</td>\n",
       "      <td>0.469385</td>\n",
       "    </tr>\n",
       "    <tr>\n",
       "      <th rowspan=\"3\" valign=\"top\">SRP055569</th>\n",
       "      <th>SRR1821415</th>\n",
       "      <td>mixture of U87 human glioma cells and MCF10a h...</td>\n",
       "      <td>NaN</td>\n",
       "      <td>0.461302</td>\n",
       "    </tr>\n",
       "    <tr>\n",
       "      <th>SRR1821430</th>\n",
       "      <td>mixture of U87 human glioma cells and MCF10a h...</td>\n",
       "      <td>NaN</td>\n",
       "      <td>0.457129</td>\n",
       "    </tr>\n",
       "    <tr>\n",
       "      <th>SRR1821372</th>\n",
       "      <td>U87 human glioma cells</td>\n",
       "      <td>NaN</td>\n",
       "      <td>0.410536</td>\n",
       "    </tr>\n",
       "    <tr>\n",
       "      <th>SRP042161</th>\n",
       "      <th>SRR1294585</th>\n",
       "      <td>Glioblastoma</td>\n",
       "      <td>NaN</td>\n",
       "      <td>0.403345</td>\n",
       "    </tr>\n",
       "    <tr>\n",
       "      <th>SRP060416</th>\n",
       "      <th>SRR2088422</th>\n",
       "      <td>tonsil Innate lymphoid cells</td>\n",
       "      <td>NaN</td>\n",
       "      <td>0.395812</td>\n",
       "    </tr>\n",
       "    <tr>\n",
       "      <th>SRP064464</th>\n",
       "      <th>SRR2558141</th>\n",
       "      <td>NaN</td>\n",
       "      <td>NaN</td>\n",
       "      <td>0.385035</td>\n",
       "    </tr>\n",
       "    <tr>\n",
       "      <th>SRP055569</th>\n",
       "      <th>SRR2019005</th>\n",
       "      <td>U87 human glioma cells</td>\n",
       "      <td>NaN</td>\n",
       "      <td>0.378400</td>\n",
       "    </tr>\n",
       "    <tr>\n",
       "      <th rowspan=\"3\" valign=\"top\">SRP060416</th>\n",
       "      <th>SRR2088138</th>\n",
       "      <td>tonsil Innate lymphoid cells</td>\n",
       "      <td>NaN</td>\n",
       "      <td>0.371175</td>\n",
       "    </tr>\n",
       "    <tr>\n",
       "      <th>SRR2088337</th>\n",
       "      <td>tonsil Innate lymphoid cells</td>\n",
       "      <td>NaN</td>\n",
       "      <td>0.321809</td>\n",
       "    </tr>\n",
       "    <tr>\n",
       "      <th>SRR2088336</th>\n",
       "      <td>tonsil Innate lymphoid cells</td>\n",
       "      <td>NaN</td>\n",
       "      <td>0.311908</td>\n",
       "    </tr>\n",
       "    <tr>\n",
       "      <th rowspan=\"2\" valign=\"top\">SRP055569</th>\n",
       "      <th>SRR2019201</th>\n",
       "      <td>mixture of U87 human glioma cells and WI-38 hu...</td>\n",
       "      <td>NaN</td>\n",
       "      <td>0.306689</td>\n",
       "    </tr>\n",
       "    <tr>\n",
       "      <th>SRR1821436</th>\n",
       "      <td>mixture of U87 human glioma cells and MCF10a h...</td>\n",
       "      <td>NaN</td>\n",
       "      <td>0.304299</td>\n",
       "    </tr>\n",
       "    <tr>\n",
       "      <th>SRP057196</th>\n",
       "      <th>SRR1974652</th>\n",
       "      <td>neurons</td>\n",
       "      <td>cortex</td>\n",
       "      <td>0.301612</td>\n",
       "    </tr>\n",
       "    <tr>\n",
       "      <th>SRP060416</th>\n",
       "      <th>SRR2088313</th>\n",
       "      <td>tonsil Innate lymphoid cells</td>\n",
       "      <td>NaN</td>\n",
       "      <td>0.299228</td>\n",
       "    </tr>\n",
       "    <tr>\n",
       "      <th>SRP055569</th>\n",
       "      <th>SRR1821408</th>\n",
       "      <td>U87 human glioma cells</td>\n",
       "      <td>NaN</td>\n",
       "      <td>0.298621</td>\n",
       "    </tr>\n",
       "    <tr>\n",
       "      <th>SRP057196</th>\n",
       "      <th>SRR1974914</th>\n",
       "      <td>fetal_replicating</td>\n",
       "      <td>cortex</td>\n",
       "      <td>0.296993</td>\n",
       "    </tr>\n",
       "  </tbody>\n",
       "</table>\n",
       "</div>"
      ],
      "text/plain": [
       "                                                              cell type  \\\n",
       "project   run                                                             \n",
       "SRP055569 SRR1821460  mixture of U87 human glioma cells and MCF10a h...   \n",
       "          SRR1821445  mixture of U87 human glioma cells and MCF10a h...   \n",
       "          SRR1821628                   MCF10a human breast cancer cells   \n",
       "SRP055153 SRR1810661                                            no cell   \n",
       "SRP060416 SRR2088143                       tonsil Innate lymphoid cells   \n",
       "SRP055569 SRR1821431  mixture of U87 human glioma cells and MCF10a h...   \n",
       "SRP042161 SRR1294847                                       Glioblastoma   \n",
       "SRP060416 SRR2088180                       tonsil Innate lymphoid cells   \n",
       "SRP033135 SRR1033120             Human Skeletal Muscle Myoblasts (HSMM)   \n",
       "SRP055569 SRR1821415  mixture of U87 human glioma cells and MCF10a h...   \n",
       "          SRR1821430  mixture of U87 human glioma cells and MCF10a h...   \n",
       "          SRR1821372                             U87 human glioma cells   \n",
       "SRP042161 SRR1294585                                       Glioblastoma   \n",
       "SRP060416 SRR2088422                       tonsil Innate lymphoid cells   \n",
       "SRP064464 SRR2558141                                                NaN   \n",
       "SRP055569 SRR2019005                             U87 human glioma cells   \n",
       "SRP060416 SRR2088138                       tonsil Innate lymphoid cells   \n",
       "          SRR2088337                       tonsil Innate lymphoid cells   \n",
       "          SRR2088336                       tonsil Innate lymphoid cells   \n",
       "SRP055569 SRR2019201  mixture of U87 human glioma cells and WI-38 hu...   \n",
       "          SRR1821436  mixture of U87 human glioma cells and MCF10a h...   \n",
       "SRP057196 SRR1974652                                            neurons   \n",
       "SRP060416 SRR2088313                       tonsil Innate lymphoid cells   \n",
       "SRP055569 SRR1821408                             U87 human glioma cells   \n",
       "SRP057196 SRR1974914                                  fetal_replicating   \n",
       "\n",
       "                      tissue      LV214  \n",
       "project   run                            \n",
       "SRP055569 SRR1821460     NaN  11.652615  \n",
       "          SRR1821445     NaN   0.717089  \n",
       "          SRR1821628     NaN   0.687060  \n",
       "SRP055153 SRR1810661     NaN   0.605851  \n",
       "SRP060416 SRR2088143     NaN   0.569799  \n",
       "SRP055569 SRR1821431     NaN   0.543467  \n",
       "SRP042161 SRR1294847     NaN   0.542694  \n",
       "SRP060416 SRR2088180     NaN   0.504226  \n",
       "SRP033135 SRR1033120     NaN   0.469385  \n",
       "SRP055569 SRR1821415     NaN   0.461302  \n",
       "          SRR1821430     NaN   0.457129  \n",
       "          SRR1821372     NaN   0.410536  \n",
       "SRP042161 SRR1294585     NaN   0.403345  \n",
       "SRP060416 SRR2088422     NaN   0.395812  \n",
       "SRP064464 SRR2558141     NaN   0.385035  \n",
       "SRP055569 SRR2019005     NaN   0.378400  \n",
       "SRP060416 SRR2088138     NaN   0.371175  \n",
       "          SRR2088337     NaN   0.321809  \n",
       "          SRR2088336     NaN   0.311908  \n",
       "SRP055569 SRR2019201     NaN   0.306689  \n",
       "          SRR1821436     NaN   0.304299  \n",
       "SRP057196 SRR1974652  cortex   0.301612  \n",
       "SRP060416 SRR2088313     NaN   0.299228  \n",
       "SRP055569 SRR1821408     NaN   0.298621  \n",
       "SRP057196 SRR1974914  cortex   0.296993  "
      ]
     },
     "execution_count": 24,
     "metadata": {},
     "output_type": "execute_result"
    }
   ],
   "source": [
    "_tmp_seq[0]"
   ]
  },
  {
   "cell_type": "code",
   "execution_count": 25,
   "id": "grateful-cuisine",
   "metadata": {},
   "outputs": [
    {
     "data": {
      "text/html": [
       "<div>\n",
       "<style scoped>\n",
       "    .dataframe tbody tr th:only-of-type {\n",
       "        vertical-align: middle;\n",
       "    }\n",
       "\n",
       "    .dataframe tbody tr th {\n",
       "        vertical-align: top;\n",
       "    }\n",
       "\n",
       "    .dataframe thead th {\n",
       "        text-align: right;\n",
       "    }\n",
       "</style>\n",
       "<table border=\"1\" class=\"dataframe\">\n",
       "  <thead>\n",
       "    <tr style=\"text-align: right;\">\n",
       "      <th></th>\n",
       "      <th></th>\n",
       "      <th>assigned cell type</th>\n",
       "      <th>qc pass</th>\n",
       "      <th>cell count</th>\n",
       "      <th>ercc_mix</th>\n",
       "      <th>ercc_dilution</th>\n",
       "      <th>LV214</th>\n",
       "    </tr>\n",
       "    <tr>\n",
       "      <th>project</th>\n",
       "      <th>run</th>\n",
       "      <th></th>\n",
       "      <th></th>\n",
       "      <th></th>\n",
       "      <th></th>\n",
       "      <th></th>\n",
       "      <th></th>\n",
       "    </tr>\n",
       "  </thead>\n",
       "  <tbody>\n",
       "    <tr>\n",
       "      <th rowspan=\"10\" valign=\"top\">SRP064464</th>\n",
       "      <th>SRR2558141</th>\n",
       "      <td>undefined</td>\n",
       "      <td>TRUE</td>\n",
       "      <td>1</td>\n",
       "      <td>mix2</td>\n",
       "      <td>1000000</td>\n",
       "      <td>0.385035</td>\n",
       "    </tr>\n",
       "    <tr>\n",
       "      <th>SRR2558177</th>\n",
       "      <td>acinar</td>\n",
       "      <td>TRUE</td>\n",
       "      <td>1</td>\n",
       "      <td>mix2</td>\n",
       "      <td>1000000</td>\n",
       "      <td>0.052542</td>\n",
       "    </tr>\n",
       "    <tr>\n",
       "      <th>SRR2558167</th>\n",
       "      <td>acinar</td>\n",
       "      <td>TRUE</td>\n",
       "      <td>1</td>\n",
       "      <td>mix2</td>\n",
       "      <td>1000000</td>\n",
       "      <td>0.043450</td>\n",
       "    </tr>\n",
       "    <tr>\n",
       "      <th>SRR2558115</th>\n",
       "      <td>duct</td>\n",
       "      <td>TRUE</td>\n",
       "      <td>1</td>\n",
       "      <td>mix2</td>\n",
       "      <td>1000000</td>\n",
       "      <td>0.031574</td>\n",
       "    </tr>\n",
       "    <tr>\n",
       "      <th>SRR2558124</th>\n",
       "      <td>pp</td>\n",
       "      <td>TRUE</td>\n",
       "      <td>1</td>\n",
       "      <td>mix2</td>\n",
       "      <td>1000000</td>\n",
       "      <td>0.028743</td>\n",
       "    </tr>\n",
       "    <tr>\n",
       "      <th>SRR2558137</th>\n",
       "      <td>acinar</td>\n",
       "      <td>TRUE</td>\n",
       "      <td>1</td>\n",
       "      <td>mix2</td>\n",
       "      <td>1000000</td>\n",
       "      <td>0.025740</td>\n",
       "    </tr>\n",
       "    <tr>\n",
       "      <th>SRR2558163</th>\n",
       "      <td>acinar</td>\n",
       "      <td>TRUE</td>\n",
       "      <td>1</td>\n",
       "      <td>mix2</td>\n",
       "      <td>1000000</td>\n",
       "      <td>0.025590</td>\n",
       "    </tr>\n",
       "    <tr>\n",
       "      <th>SRR2558119</th>\n",
       "      <td>undefined</td>\n",
       "      <td>TRUE</td>\n",
       "      <td>1</td>\n",
       "      <td>mix2</td>\n",
       "      <td>1000000</td>\n",
       "      <td>0.024138</td>\n",
       "    </tr>\n",
       "    <tr>\n",
       "      <th>SRR2558132</th>\n",
       "      <td>duct</td>\n",
       "      <td>TRUE</td>\n",
       "      <td>1</td>\n",
       "      <td>mix2</td>\n",
       "      <td>1000000</td>\n",
       "      <td>0.023136</td>\n",
       "    </tr>\n",
       "    <tr>\n",
       "      <th>SRR2558129</th>\n",
       "      <td>alpha</td>\n",
       "      <td>TRUE</td>\n",
       "      <td>1</td>\n",
       "      <td>mix2</td>\n",
       "      <td>1000000</td>\n",
       "      <td>0.022304</td>\n",
       "    </tr>\n",
       "  </tbody>\n",
       "</table>\n",
       "</div>"
      ],
      "text/plain": [
       "                     assigned cell type qc pass cell count ercc_mix  \\\n",
       "project   run                                                         \n",
       "SRP064464 SRR2558141          undefined    TRUE          1     mix2   \n",
       "          SRR2558177             acinar    TRUE          1     mix2   \n",
       "          SRR2558167             acinar    TRUE          1     mix2   \n",
       "          SRR2558115               duct    TRUE          1     mix2   \n",
       "          SRR2558124                 pp    TRUE          1     mix2   \n",
       "          SRR2558137             acinar    TRUE          1     mix2   \n",
       "          SRR2558163             acinar    TRUE          1     mix2   \n",
       "          SRR2558119          undefined    TRUE          1     mix2   \n",
       "          SRR2558132               duct    TRUE          1     mix2   \n",
       "          SRR2558129              alpha    TRUE          1     mix2   \n",
       "\n",
       "                     ercc_dilution     LV214  \n",
       "project   run                                 \n",
       "SRP064464 SRR2558141       1000000  0.385035  \n",
       "          SRR2558177       1000000  0.052542  \n",
       "          SRR2558167       1000000  0.043450  \n",
       "          SRR2558115       1000000  0.031574  \n",
       "          SRR2558124       1000000  0.028743  \n",
       "          SRR2558137       1000000  0.025740  \n",
       "          SRR2558163       1000000  0.025590  \n",
       "          SRR2558119       1000000  0.024138  \n",
       "          SRR2558132       1000000  0.023136  \n",
       "          SRR2558129       1000000  0.022304  "
      ]
     },
     "execution_count": 25,
     "metadata": {},
     "output_type": "execute_result"
    }
   ],
   "source": [
    "# what is there in these projects?\n",
    "lv_data.loc[[\"SRP064464\"]].dropna(how=\"all\", axis=1).sort_values(\n",
    "    LV_NAME, ascending=False\n",
    ").sort_values(LV_NAME, ascending=False).head(10)"
   ]
  },
  {
   "cell_type": "code",
   "execution_count": 26,
   "id": "stylish-network",
   "metadata": {},
   "outputs": [],
   "source": [
    "SELECTED_ATTRIBUTE = \"cell type\""
   ]
  },
  {
   "cell_type": "code",
   "execution_count": 27,
   "id": "turkish-valley",
   "metadata": {},
   "outputs": [],
   "source": [
    "# it has to be in the order desired for filling nans in the SELECTED_ATTRIBUTE\n",
    "SECOND_ATTRIBUTES = [\"tissue\"]"
   ]
  },
  {
   "cell_type": "markdown",
   "id": "victorian-bidding",
   "metadata": {},
   "source": [
    "## Get plot data"
   ]
  },
  {
   "cell_type": "code",
   "execution_count": 28,
   "id": "jewish-weekend",
   "metadata": {},
   "outputs": [],
   "source": [
    "plot_data = lv_data.loc[:, [SELECTED_ATTRIBUTE] + SECOND_ATTRIBUTES + [LV_NAME]]"
   ]
  },
  {
   "cell_type": "code",
   "execution_count": 29,
   "id": "genuine-hierarchy",
   "metadata": {},
   "outputs": [],
   "source": [
    "# if blank/nan, fill cell type column with tissue content\n",
    "_new_column = plot_data[[SELECTED_ATTRIBUTE] + SECOND_ATTRIBUTES].fillna(\n",
    "    method=\"backfill\", axis=1\n",
    ")[SELECTED_ATTRIBUTE]\n",
    "plot_data[SELECTED_ATTRIBUTE] = _new_column\n",
    "plot_data = plot_data.drop(columns=SECOND_ATTRIBUTES)\n",
    "plot_data = plot_data.fillna({SELECTED_ATTRIBUTE: \"NOT CATEGORIZED\"})\n",
    "# plot_data = plot_data.dropna(subset=[SELECTED_ATTRIBUTE])"
   ]
  },
  {
   "cell_type": "code",
   "execution_count": 30,
   "id": "light-smart",
   "metadata": {},
   "outputs": [],
   "source": [
    "plot_data = plot_data.sort_values(LV_NAME, ascending=False)"
   ]
  },
  {
   "cell_type": "code",
   "execution_count": 31,
   "id": "fitted-button",
   "metadata": {},
   "outputs": [
    {
     "data": {
      "text/html": [
       "<div>\n",
       "<style scoped>\n",
       "    .dataframe tbody tr th:only-of-type {\n",
       "        vertical-align: middle;\n",
       "    }\n",
       "\n",
       "    .dataframe tbody tr th {\n",
       "        vertical-align: top;\n",
       "    }\n",
       "\n",
       "    .dataframe thead th {\n",
       "        text-align: right;\n",
       "    }\n",
       "</style>\n",
       "<table border=\"1\" class=\"dataframe\">\n",
       "  <thead>\n",
       "    <tr style=\"text-align: right;\">\n",
       "      <th></th>\n",
       "      <th></th>\n",
       "      <th>cell type</th>\n",
       "      <th>LV214</th>\n",
       "    </tr>\n",
       "    <tr>\n",
       "      <th>project</th>\n",
       "      <th>run</th>\n",
       "      <th></th>\n",
       "      <th></th>\n",
       "    </tr>\n",
       "  </thead>\n",
       "  <tbody>\n",
       "    <tr>\n",
       "      <th rowspan=\"3\" valign=\"top\">SRP055569</th>\n",
       "      <th>SRR1821460</th>\n",
       "      <td>mixture of U87 human glioma cells and MCF10a h...</td>\n",
       "      <td>11.652615</td>\n",
       "    </tr>\n",
       "    <tr>\n",
       "      <th>SRR1821445</th>\n",
       "      <td>mixture of U87 human glioma cells and MCF10a h...</td>\n",
       "      <td>0.717089</td>\n",
       "    </tr>\n",
       "    <tr>\n",
       "      <th>SRR1821628</th>\n",
       "      <td>MCF10a human breast cancer cells</td>\n",
       "      <td>0.687060</td>\n",
       "    </tr>\n",
       "    <tr>\n",
       "      <th>SRP055153</th>\n",
       "      <th>SRR1810661</th>\n",
       "      <td>no cell</td>\n",
       "      <td>0.605851</td>\n",
       "    </tr>\n",
       "    <tr>\n",
       "      <th>SRP060416</th>\n",
       "      <th>SRR2088143</th>\n",
       "      <td>tonsil Innate lymphoid cells</td>\n",
       "      <td>0.569799</td>\n",
       "    </tr>\n",
       "    <tr>\n",
       "      <th>SRP055569</th>\n",
       "      <th>SRR1821431</th>\n",
       "      <td>mixture of U87 human glioma cells and MCF10a h...</td>\n",
       "      <td>0.543467</td>\n",
       "    </tr>\n",
       "    <tr>\n",
       "      <th>SRP042161</th>\n",
       "      <th>SRR1294847</th>\n",
       "      <td>Glioblastoma</td>\n",
       "      <td>0.542694</td>\n",
       "    </tr>\n",
       "    <tr>\n",
       "      <th>SRP060416</th>\n",
       "      <th>SRR2088180</th>\n",
       "      <td>tonsil Innate lymphoid cells</td>\n",
       "      <td>0.504226</td>\n",
       "    </tr>\n",
       "    <tr>\n",
       "      <th>SRP033135</th>\n",
       "      <th>SRR1033120</th>\n",
       "      <td>Human Skeletal Muscle Myoblasts (HSMM)</td>\n",
       "      <td>0.469385</td>\n",
       "    </tr>\n",
       "    <tr>\n",
       "      <th rowspan=\"3\" valign=\"top\">SRP055569</th>\n",
       "      <th>SRR1821415</th>\n",
       "      <td>mixture of U87 human glioma cells and MCF10a h...</td>\n",
       "      <td>0.461302</td>\n",
       "    </tr>\n",
       "    <tr>\n",
       "      <th>SRR1821430</th>\n",
       "      <td>mixture of U87 human glioma cells and MCF10a h...</td>\n",
       "      <td>0.457129</td>\n",
       "    </tr>\n",
       "    <tr>\n",
       "      <th>SRR1821372</th>\n",
       "      <td>U87 human glioma cells</td>\n",
       "      <td>0.410536</td>\n",
       "    </tr>\n",
       "    <tr>\n",
       "      <th>SRP042161</th>\n",
       "      <th>SRR1294585</th>\n",
       "      <td>Glioblastoma</td>\n",
       "      <td>0.403345</td>\n",
       "    </tr>\n",
       "    <tr>\n",
       "      <th>SRP060416</th>\n",
       "      <th>SRR2088422</th>\n",
       "      <td>tonsil Innate lymphoid cells</td>\n",
       "      <td>0.395812</td>\n",
       "    </tr>\n",
       "    <tr>\n",
       "      <th>SRP064464</th>\n",
       "      <th>SRR2558141</th>\n",
       "      <td>NOT CATEGORIZED</td>\n",
       "      <td>0.385035</td>\n",
       "    </tr>\n",
       "    <tr>\n",
       "      <th>SRP055569</th>\n",
       "      <th>SRR2019005</th>\n",
       "      <td>U87 human glioma cells</td>\n",
       "      <td>0.378400</td>\n",
       "    </tr>\n",
       "    <tr>\n",
       "      <th rowspan=\"3\" valign=\"top\">SRP060416</th>\n",
       "      <th>SRR2088138</th>\n",
       "      <td>tonsil Innate lymphoid cells</td>\n",
       "      <td>0.371175</td>\n",
       "    </tr>\n",
       "    <tr>\n",
       "      <th>SRR2088337</th>\n",
       "      <td>tonsil Innate lymphoid cells</td>\n",
       "      <td>0.321809</td>\n",
       "    </tr>\n",
       "    <tr>\n",
       "      <th>SRR2088336</th>\n",
       "      <td>tonsil Innate lymphoid cells</td>\n",
       "      <td>0.311908</td>\n",
       "    </tr>\n",
       "    <tr>\n",
       "      <th>SRP055569</th>\n",
       "      <th>SRR2019201</th>\n",
       "      <td>mixture of U87 human glioma cells and WI-38 hu...</td>\n",
       "      <td>0.306689</td>\n",
       "    </tr>\n",
       "  </tbody>\n",
       "</table>\n",
       "</div>"
      ],
      "text/plain": [
       "                                                              cell type  \\\n",
       "project   run                                                             \n",
       "SRP055569 SRR1821460  mixture of U87 human glioma cells and MCF10a h...   \n",
       "          SRR1821445  mixture of U87 human glioma cells and MCF10a h...   \n",
       "          SRR1821628                   MCF10a human breast cancer cells   \n",
       "SRP055153 SRR1810661                                            no cell   \n",
       "SRP060416 SRR2088143                       tonsil Innate lymphoid cells   \n",
       "SRP055569 SRR1821431  mixture of U87 human glioma cells and MCF10a h...   \n",
       "SRP042161 SRR1294847                                       Glioblastoma   \n",
       "SRP060416 SRR2088180                       tonsil Innate lymphoid cells   \n",
       "SRP033135 SRR1033120             Human Skeletal Muscle Myoblasts (HSMM)   \n",
       "SRP055569 SRR1821415  mixture of U87 human glioma cells and MCF10a h...   \n",
       "          SRR1821430  mixture of U87 human glioma cells and MCF10a h...   \n",
       "          SRR1821372                             U87 human glioma cells   \n",
       "SRP042161 SRR1294585                                       Glioblastoma   \n",
       "SRP060416 SRR2088422                       tonsil Innate lymphoid cells   \n",
       "SRP064464 SRR2558141                                    NOT CATEGORIZED   \n",
       "SRP055569 SRR2019005                             U87 human glioma cells   \n",
       "SRP060416 SRR2088138                       tonsil Innate lymphoid cells   \n",
       "          SRR2088337                       tonsil Innate lymphoid cells   \n",
       "          SRR2088336                       tonsil Innate lymphoid cells   \n",
       "SRP055569 SRR2019201  mixture of U87 human glioma cells and WI-38 hu...   \n",
       "\n",
       "                          LV214  \n",
       "project   run                    \n",
       "SRP055569 SRR1821460  11.652615  \n",
       "          SRR1821445   0.717089  \n",
       "          SRR1821628   0.687060  \n",
       "SRP055153 SRR1810661   0.605851  \n",
       "SRP060416 SRR2088143   0.569799  \n",
       "SRP055569 SRR1821431   0.543467  \n",
       "SRP042161 SRR1294847   0.542694  \n",
       "SRP060416 SRR2088180   0.504226  \n",
       "SRP033135 SRR1033120   0.469385  \n",
       "SRP055569 SRR1821415   0.461302  \n",
       "          SRR1821430   0.457129  \n",
       "          SRR1821372   0.410536  \n",
       "SRP042161 SRR1294585   0.403345  \n",
       "SRP060416 SRR2088422   0.395812  \n",
       "SRP064464 SRR2558141   0.385035  \n",
       "SRP055569 SRR2019005   0.378400  \n",
       "SRP060416 SRR2088138   0.371175  \n",
       "          SRR2088337   0.321809  \n",
       "          SRR2088336   0.311908  \n",
       "SRP055569 SRR2019201   0.306689  "
      ]
     },
     "execution_count": 31,
     "metadata": {},
     "output_type": "execute_result"
    }
   ],
   "source": [
    "plot_data.head(20)"
   ]
  },
  {
   "cell_type": "markdown",
   "id": "casual-prerequisite",
   "metadata": {},
   "source": [
    "## Customize x-axis values"
   ]
  },
  {
   "cell_type": "markdown",
   "id": "traditional-psychology",
   "metadata": {},
   "source": [
    "When cell type values are not very clear, customize their names by looking at their specific studies to know exactly what the authors meant."
   ]
  },
  {
   "cell_type": "code",
   "execution_count": 32,
   "id": "official-capacity",
   "metadata": {},
   "outputs": [],
   "source": [
    "final_plot_data = plot_data.replace(\n",
    "    {\n",
    "        SELECTED_ATTRIBUTE: {\n",
    "            # \"human bone marrow sample\": \"bone marrow\",\n",
    "            # \"whole blood\": \"Whole blood\",\n",
    "            # \"peripheral blood\": \"Peripheral blood\",\n",
    "            # \"peripheral whole blood\": \"Peripheral blood\",\n",
    "            # \"breast cancer\": \"Breast cancer\",\n",
    "            # \"breast cancer cell line\": \"Breast cancer\",\n",
    "            # SRP057196\n",
    "            # \"fetal_replicating\": \"Fetal neurons (replicating)\",\n",
    "            # \"fetal_quiescent\": \"Fetal neurons (quiescent)\",\n",
    "            # \"normal skin\": \"Skin\",\n",
    "            # \"liver\": \"Liver\",\n",
    "            # \"Human Skeletal Muscle Myoblasts (HSMM)\": \"Skeletal muscle myoblasts\",\n",
    "            # \"astrocytes\": \"Astrocytes\",\n",
    "            \"mixture of U87 human glioma cells and MCF10a human breast cancer cells\": \"Glioma + MCF10 breast cancer cells\",\n",
    "            \"mixture of U87 human glioma cells and WI-38 human lung fibroblast cells\": \"Glioma + WI-38 lung fibroblast cells\",\n",
    "            # \"functional hepatocytes generated by lineage reprogramming\": \"Hepatocytes\",\n",
    "            # \"human adipose-derived stem cells\": \"Adipose-derived stem cells\",\n",
    "            # \"adipose\": \"Adipose\",\n",
    "            # \"embryonic stem cells\": \"Embryonic stem cells\",\n",
    "            # \"primary keratinocytes\": \"Primary keratinocytes\",\n",
    "            # \"fetal liver\": \"Fetal liver\",\n",
    "            # \"in vitro differentiated erythroid cells\": \"Erythroid cells\",\n",
    "            # \"WAT\": \"White adipose tissue\",\n",
    "            # \"BAT\": \"Brown adipose tissue\",\n",
    "            # \"Uninvolved Breast Tissue Adjacent to ER+ Primary Tumor\": \"Breast tissue adjacent to ER+ tumor\",\n",
    "            # \"ovarian granulosa cells\": \"Ovarian granulosa cells\",\n",
    "        }\n",
    "    }\n",
    ")"
   ]
  },
  {
   "cell_type": "code",
   "execution_count": 33,
   "id": "05b40336-2b83-4724-8c35-28444ef100fe",
   "metadata": {},
   "outputs": [],
   "source": [
    "# sorte index to avoid PerformanceWarning from pandas\n",
    "final_plot_data = final_plot_data.sort_index()"
   ]
  },
  {
   "cell_type": "code",
   "execution_count": 34,
   "id": "68ea83c3-1e6b-4fb3-9ecf-19ef285d3233",
   "metadata": {},
   "outputs": [],
   "source": [
    "_srp_code = \"SRP060416\"\n",
    "_tmp = final_plot_data.loc[(_srp_code,)].apply(\n",
    "    lambda x: x[SELECTED_ATTRIBUTE]\n",
    "    + f\" ({lv_data.loc[(_srp_code, x.name), 'facs gating']})\",\n",
    "    axis=1,\n",
    ")\n",
    "final_plot_data.loc[(_srp_code, _tmp.index), SELECTED_ATTRIBUTE] = _tmp.values"
   ]
  },
  {
   "cell_type": "code",
   "execution_count": 35,
   "id": "e256f567-2e95-4ea4-a09f-0d66c4c43908",
   "metadata": {},
   "outputs": [],
   "source": [
    "_srp_code = \"SRP064464\"\n",
    "_tmp = final_plot_data.loc[(_srp_code,)].apply(\n",
    "    lambda x: f\"Pancreatic islets\"\n",
    "    + f\" ({lv_data.loc[(_srp_code, x.name), 'assigned cell type']})\",\n",
    "    axis=1,\n",
    ")\n",
    "final_plot_data.loc[(_srp_code, _tmp.index), SELECTED_ATTRIBUTE] = _tmp.values"
   ]
  },
  {
   "cell_type": "code",
   "execution_count": 36,
   "id": "4f839d92-c4b2-447f-8f44-71820c4cdbbf",
   "metadata": {},
   "outputs": [],
   "source": [
    "# _srp_code = \"SRP045500\"\n",
    "# _tmp = final_plot_data.loc[(_srp_code,)].apply(\n",
    "#     lambda x: f\"{lv_data.loc[(_srp_code, x.name), 'celltype']}\"\n",
    "#     + f\" ({lv_data.loc[(_srp_code, x.name), 'diseasestatus']})\",\n",
    "#     axis=1,\n",
    "# )\n",
    "# final_plot_data.loc[(_srp_code, _tmp.index), SELECTED_ATTRIBUTE] = _tmp.values"
   ]
  },
  {
   "cell_type": "code",
   "execution_count": 37,
   "id": "9a85cdb9-85d6-414b-aecf-56804f529bd3",
   "metadata": {},
   "outputs": [],
   "source": [
    "# _srp_code = \"SRP027015\"\n",
    "# _tmp = final_plot_data.loc[(_srp_code,)].apply(\n",
    "#     lambda x: \"Peripheral blood (MM.1S)\",\n",
    "#     # + f\" ({lv_data.loc[(_srp_code, x.name), 'facs gating']})\",\n",
    "#     axis=1,\n",
    "# )\n",
    "# final_plot_data.loc[(_srp_code, _tmp.index), SELECTED_ATTRIBUTE] = _tmp.values"
   ]
  },
  {
   "cell_type": "code",
   "execution_count": 38,
   "id": "592fb6fa-5540-4202-bda9-0fb993c27532",
   "metadata": {},
   "outputs": [],
   "source": [
    "# _srp_code = \"SRP061329\"\n",
    "# _tmp = final_plot_data.loc[(_srp_code,)].apply(\n",
    "#     lambda x: \"Peripheral blood\"\n",
    "#     + f\" ({lv_data.loc[(_srp_code, x.name), 'cell line']})\",\n",
    "#     axis=1,\n",
    "# )\n",
    "# final_plot_data.loc[(_srp_code, _tmp.index), SELECTED_ATTRIBUTE] = _tmp.values"
   ]
  },
  {
   "cell_type": "code",
   "execution_count": 39,
   "id": "371406dd-7a18-4a4c-91de-4c84e2a3d900",
   "metadata": {},
   "outputs": [],
   "source": [
    "# _srp_code = \"SRP018838\"\n",
    "# _tmp = final_plot_data.loc[(_srp_code,)].apply(\n",
    "#     lambda x: \"Blood\"\n",
    "#     + f\" ({lv_data.loc[(_srp_code, x.name), 'cell line']})\",\n",
    "#     axis=1,\n",
    "# )\n",
    "# final_plot_data.loc[(_srp_code, _tmp.index), SELECTED_ATTRIBUTE] = _tmp.values"
   ]
  },
  {
   "cell_type": "code",
   "execution_count": 40,
   "id": "entire-cradle",
   "metadata": {},
   "outputs": [],
   "source": [
    "# # take the top samples only\n",
    "# final_plot_data = final_plot_data.sort_values(LV_NAME, ascending=False)[:N_TOP_SAMPLES]"
   ]
  },
  {
   "cell_type": "markdown",
   "id": "italic-steel",
   "metadata": {},
   "source": [
    "## Threshold LV values"
   ]
  },
  {
   "cell_type": "code",
   "execution_count": 41,
   "id": "southern-offense",
   "metadata": {},
   "outputs": [],
   "source": [
    "if LV_AXIS_THRESHOLD is not None:\n",
    "    final_plot_data.loc[\n",
    "        final_plot_data[LV_NAME] > LV_AXIS_THRESHOLD, LV_NAME\n",
    "    ] = LV_AXIS_THRESHOLD"
   ]
  },
  {
   "cell_type": "markdown",
   "id": "still-pitch",
   "metadata": {},
   "source": [
    "## Delete samples with no tissue/cell type information"
   ]
  },
  {
   "cell_type": "code",
   "execution_count": 42,
   "id": "varying-pioneer",
   "metadata": {},
   "outputs": [],
   "source": [
    "# final_plot_data = final_plot_data[\n",
    "#     final_plot_data[SELECTED_ATTRIBUTE] != \"NOT CATEGORIZED\"\n",
    "# ]"
   ]
  },
  {
   "cell_type": "markdown",
   "id": "comparable-modem",
   "metadata": {},
   "source": [
    "## Set x-axis order"
   ]
  },
  {
   "cell_type": "code",
   "execution_count": 43,
   "id": "golden-bridge",
   "metadata": {},
   "outputs": [],
   "source": [
    "attr_order = (\n",
    "    final_plot_data.groupby(SELECTED_ATTRIBUTE)\n",
    "    .max()\n",
    "    .sort_values(LV_NAME, ascending=False)\n",
    "    .index[:N_TOP_ATTRS]\n",
    "    .tolist()\n",
    ")"
   ]
  },
  {
   "cell_type": "code",
   "execution_count": 44,
   "id": "expanded-enlargement",
   "metadata": {},
   "outputs": [
    {
     "data": {
      "text/plain": [
       "15"
      ]
     },
     "execution_count": 44,
     "metadata": {},
     "output_type": "execute_result"
    }
   ],
   "source": [
    "len(attr_order)"
   ]
  },
  {
   "cell_type": "code",
   "execution_count": 45,
   "id": "collectible-setup",
   "metadata": {},
   "outputs": [
    {
     "data": {
      "text/plain": [
       "['Glioma + MCF10 breast cancer cells',\n",
       " 'MCF10a human breast cancer cells',\n",
       " 'no cell',\n",
       " 'tonsil Innate lymphoid cells (ILC3)',\n",
       " 'Glioblastoma']"
      ]
     },
     "execution_count": 45,
     "metadata": {},
     "output_type": "execute_result"
    }
   ],
   "source": [
    "attr_order[:5]"
   ]
  },
  {
   "cell_type": "markdown",
   "id": "patent-colors",
   "metadata": {},
   "source": [
    "## Plot"
   ]
  },
  {
   "cell_type": "code",
   "execution_count": 46,
   "id": "educated-arthritis",
   "metadata": {},
   "outputs": [
    {
     "data": {
      "image/png": "[encoded data removed]",
      "text/plain": [
       "<Figure size 1250x500 with 1 Axes>"
      ]
     },
     "metadata": {},
     "output_type": "display_data"
    }
   ],
   "source": [
    "with sns.plotting_context(\"paper\", font_scale=2.5), sns.axes_style(\"whitegrid\"):\n",
    "    g = sns.catplot(\n",
    "        data=final_plot_data,\n",
    "        y=LV_NAME,\n",
    "        x=SELECTED_ATTRIBUTE,\n",
    "        order=attr_order,\n",
    "        kind=\"strip\",\n",
    "        height=5,\n",
    "        aspect=2.5,\n",
    "    )\n",
    "    plt.xticks(rotation=45, horizontalalignment=\"right\")\n",
    "    plt.xlabel(\"\")\n",
    "\n",
    "    # plt.savefig(\n",
    "    #     OUTPUT_CELL_TYPE_FILEPATH,\n",
    "    #     bbox_inches=\"tight\",\n",
    "    #     facecolor=\"white\",\n",
    "    # )"
   ]
  },
  {
   "cell_type": "code",
   "execution_count": 135,
   "id": "634becb0-6ff3-44ae-8804-434bf55b5b1f",
   "metadata": {},
   "outputs": [],
   "source": [
    "# with sns.plotting_context(\"paper\", font_scale=2.5), sns.axes_style(\"whitegrid\"):\n",
    "#     g = sns.catplot(\n",
    "#         data=final_plot_data,\n",
    "#         y=LV_NAME,\n",
    "#         x=SELECTED_ATTRIBUTE,\n",
    "#         order=attr_order,\n",
    "#         kind=\"box\",\n",
    "#         height=5,\n",
    "#         aspect=2.5,\n",
    "#     )\n",
    "#     plt.xticks(rotation=45, horizontalalignment=\"right\")\n",
    "#     plt.xlabel(\"\")\n",
    "\n",
    "#     # plt.savefig(\n",
    "#     #     OUTPUT_CELL_TYPE_FILEPATH,\n",
    "#     #     bbox_inches=\"tight\",\n",
    "#     #     facecolor=\"white\",\n",
    "#     # )"
   ]
  },
  {
   "cell_type": "markdown",
   "id": "theoretical-raleigh",
   "metadata": {},
   "source": [
    "# Debug"
   ]
  },
  {
   "cell_type": "code",
   "execution_count": 140,
   "id": "suspended-tiffany",
   "metadata": {},
   "outputs": [],
   "source": [
    "with pd.option_context(\n",
    "    \"display.max_rows\", None, \"display.max_columns\", None, \"display.max_colwidth\", None\n",
    "):\n",
    "    _tmp = final_plot_data[final_plot_data[SELECTED_ATTRIBUTE].str.contains(\"(NK)\")].sort_values(LV_NAME, ascending=False)\n",
    "    display(_tmp.head(20))"
   ]
  },
  {
   "cell_type": "code",
   "execution_count": 141,
   "id": "36a58987-df7e-49d0-ada6-59cbca368a5d",
   "metadata": {},
   "outputs": [],
   "source": [
    "# # what is there in these projects?\n",
    "# _tmp = lv_data.loc[[\"SRP060416\"]].dropna(how=\"all\", axis=1).sort_values(\n",
    "#     LV_NAME, ascending=False\n",
    "# )\n",
    "\n",
    "# display(_tmp.head(60))"
   ]
  },
  {
   "cell_type": "code",
   "execution_count": 143,
   "id": "d1bab62e-6ce7-4c64-b96d-7a48eef1986f",
   "metadata": {},
   "outputs": [],
   "source": [
    "# _tmp[\"facs gating\"].value_counts()"
   ]
  },
  {
   "cell_type": "markdown",
   "id": "970d6358-61b9-47f7-ae75-c74334dafaec",
   "metadata": {},
   "source": [
    "# Reduced plot"
   ]
  },
  {
   "cell_type": "markdown",
   "id": "197ccfc1-4a83-414c-b54f-af2e8bdaedb9",
   "metadata": {},
   "source": [
    "## Data stats"
   ]
  },
  {
   "cell_type": "code",
   "execution_count": null,
   "id": "c3738a95-7a50-40f8-a8e0-796f4b1d6941",
   "metadata": {},
   "outputs": [],
   "source": [
    "plot_data_stats = final_plot_data.describe()[LV_NAME]\n",
    "display(plot_data_stats)"
   ]
  },
  {
   "cell_type": "code",
   "execution_count": null,
   "id": "d0663e41-dcef-4945-bc3e-2e80914ac195",
   "metadata": {},
   "outputs": [],
   "source": [
    "plot_data_stats_by_cell_type = (\n",
    "    final_plot_data.groupby(SELECTED_ATTRIBUTE)\n",
    "    .describe()[LV_NAME]\n",
    "    .sort_values(\"50%\", ascending=False)\n",
    ")\n",
    "display(plot_data_stats_by_cell_type)"
   ]
  },
  {
   "cell_type": "code",
   "execution_count": null,
   "id": "f3f5d34c-4ec8-4bd8-96a9-074001f758cc",
   "metadata": {},
   "outputs": [],
   "source": [
    "# keep cell types whose median is larger than the global median\n",
    "selected_cell_types = plot_data_stats_by_cell_type[\n",
    "    (plot_data_stats_by_cell_type[\"50%\"] > max(plot_data_stats.loc[\"50%\"], 0.0))\n",
    "].index\n",
    "display(selected_cell_types)"
   ]
  },
  {
   "cell_type": "code",
   "execution_count": null,
   "id": "72f0004d-ae43-423e-8b65-4f8b573c7568",
   "metadata": {},
   "outputs": [],
   "source": [
    "final_plot_data.shape"
   ]
  },
  {
   "cell_type": "code",
   "execution_count": null,
   "id": "15d5c347-8df5-432a-8b9f-8123cc0d367e",
   "metadata": {},
   "outputs": [],
   "source": [
    "final_plot_data = final_plot_data[\n",
    "    final_plot_data[SELECTED_ATTRIBUTE].isin(selected_cell_types)\n",
    "]"
   ]
  },
  {
   "cell_type": "code",
   "execution_count": null,
   "id": "f7842f3f-9af7-414d-a73b-c63d19314947",
   "metadata": {},
   "outputs": [],
   "source": [
    "final_plot_data.shape"
   ]
  },
  {
   "cell_type": "markdown",
   "id": "6e711fde-9aec-458a-9836-f1ef6fbe5b80",
   "metadata": {},
   "source": [
    "## Set x-axis order"
   ]
  },
  {
   "cell_type": "code",
   "execution_count": null,
   "id": "efd3e266-d2b3-4720-b9c9-e40b74dbcc97",
   "metadata": {},
   "outputs": [],
   "source": [
    "attr_order = (\n",
    "    final_plot_data.groupby(SELECTED_ATTRIBUTE)\n",
    "    .median()\n",
    "    .sort_values(LV_NAME, ascending=False)\n",
    "    .index[:N_TOP_ATTRS]\n",
    "    .tolist()\n",
    ")"
   ]
  },
  {
   "cell_type": "code",
   "execution_count": null,
   "id": "8ef26d0b-de69-40b1-8997-ddcf3e3e8778",
   "metadata": {},
   "outputs": [],
   "source": [
    "len(attr_order)"
   ]
  },
  {
   "cell_type": "code",
   "execution_count": null,
   "id": "73c395e8-c983-4f3b-9278-f0e1c58ae0f7",
   "metadata": {},
   "outputs": [],
   "source": [
    "attr_order[:5]"
   ]
  },
  {
   "cell_type": "markdown",
   "id": "1797ee1d-b9e7-4ccb-8454-513a58dff07d",
   "metadata": {},
   "source": [
    "## Plot"
   ]
  },
  {
   "cell_type": "code",
   "execution_count": null,
   "id": "515bd511-ad6d-4829-b9b7-0ee1e22d3c6d",
   "metadata": {},
   "outputs": [],
   "source": [
    "with sns.plotting_context(\"paper\", font_scale=2.5), sns.axes_style(\"whitegrid\"):\n",
    "    g = sns.catplot(\n",
    "        data=final_plot_data,\n",
    "        y=LV_NAME,\n",
    "        x=SELECTED_ATTRIBUTE,\n",
    "        order=attr_order,\n",
    "        kind=\"box\",\n",
    "        height=5,\n",
    "        aspect=2.5,\n",
    "    )\n",
    "    plt.xticks(rotation=45, horizontalalignment=\"right\")\n",
    "    plt.xlabel(\"\")\n",
    "\n",
    "    # plt.savefig(\n",
    "    #     OUTPUT_CELL_TYPE_FILEPATH,\n",
    "    #     bbox_inches=\"tight\",\n",
    "    #     facecolor=\"white\",\n",
    "    # )"
   ]
  },
  {
   "cell_type": "code",
   "execution_count": null,
   "id": "classified-overall",
   "metadata": {},
   "outputs": [],
   "source": []
  }
 ],
 "metadata": {
  "jupytext": {
   "cell_metadata_filter": "all,-execution,-papermill,-trusted",
   "formats": "ipynb,py//py:percent"
  },
  "kernelspec": {
   "display_name": "Python 3 (ipykernel)",
   "language": "python",
   "name": "python3"
  },
  "language_info": {
   "codemirror_mode": {
    "name": "ipython",
    "version": 3
   },
   "file_extension": ".py",
   "mimetype": "text/x-python",
   "name": "python",
   "nbconvert_exporter": "python",
   "pygments_lexer": "ipython3",
   "version": "3.10.6"
  },
  "toc-autonumbering": true
 },
 "nbformat": 4,
 "nbformat_minor": 5
}
