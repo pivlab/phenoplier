{
 "cells": [
  {
   "cell_type": "markdown",
   "id": "superior-virgin",
   "metadata": {
    "papermill": {
     "duration": 0.006593,
     "end_time": "2021-05-11T19:09:55.733221",
     "exception": false,
     "start_time": "2021-05-11T19:09:55.726628",
     "status": "completed"
    },
    "tags": []
   },
   "source": [
    "# Description"
   ]
  },
  {
   "cell_type": "markdown",
   "id": "successful-knight",
   "metadata": {
    "papermill": {
     "duration": 0.00668,
     "end_time": "2021-05-11T19:09:55.745410",
     "exception": false,
     "start_time": "2021-05-11T19:09:55.738730",
     "status": "completed"
    },
    "tags": []
   },
   "source": [
    "Generates the figure for top cell types for a specified LV (in Settings section below)."
   ]
  },
  {
   "cell_type": "markdown",
   "id": "compatible-weight",
   "metadata": {
    "papermill": {
     "duration": 0.006223,
     "end_time": "2021-05-11T19:09:55.756959",
     "exception": false,
     "start_time": "2021-05-11T19:09:55.750736",
     "status": "completed"
    },
    "tags": []
   },
   "source": [
    "# Modules loading"
   ]
  },
  {
   "cell_type": "code",
   "execution_count": 1,
   "id": "proper-chester",
   "metadata": {
    "papermill": {
     "duration": 0.993432,
     "end_time": "2021-05-11T19:09:56.780403",
     "exception": false,
     "start_time": "2021-05-11T19:09:55.786971",
     "status": "completed"
    },
    "tags": []
   },
   "outputs": [],
   "source": [
    "import re\n",
    "from pathlib import Path\n",
    "\n",
    "import pandas as pd\n",
    "import matplotlib.pyplot as plt\n",
    "import seaborn as sns\n",
    "\n",
    "from data.recount2 import LVAnalysis\n",
    "from utils import chunker\n",
    "import conf"
   ]
  },
  {
   "cell_type": "markdown",
   "id": "sized-butter",
   "metadata": {
    "papermill": {
     "duration": 0.005973,
     "end_time": "2021-05-11T19:09:56.792495",
     "exception": false,
     "start_time": "2021-05-11T19:09:56.786522",
     "status": "completed"
    },
    "tags": []
   },
   "source": [
    "# Settings"
   ]
  },
  {
   "cell_type": "code",
   "execution_count": 2,
   "id": "tender-contrary",
   "metadata": {
    "papermill": {
     "duration": 0.019548,
     "end_time": "2021-05-11T19:09:56.817689",
     "exception": false,
     "start_time": "2021-05-11T19:09:56.798141",
     "status": "completed"
    },
    "tags": [
     "parameters"
    ]
   },
   "outputs": [],
   "source": [
    "LV_NAME = \"LV149\""
   ]
  },
  {
   "cell_type": "code",
   "execution_count": 3,
   "id": "sunset-carbon",
   "metadata": {},
   "outputs": [],
   "source": [
    "LV_AXIS_THRESHOLD = None  # 3.0\n",
    "# LV_AXIS_THRESHOLD = 2.0\n",
    "N_TOP_SAMPLES = 400\n",
    "N_TOP_ATTRS = 15"
   ]
  },
  {
   "cell_type": "code",
   "execution_count": 4,
   "id": "proof-primary",
   "metadata": {},
   "outputs": [],
   "source": [
    "# OUTPUT_FIGURES_DIR = Path(\n",
    "#     conf.MANUSCRIPT[\"FIGURES_DIR\"], \"lvs_analysis\", f\"{LV_NAME.lower()}\"\n",
    "# ).resolve()\n",
    "# display(OUTPUT_FIGURES_DIR)\n",
    "# OUTPUT_FIGURES_DIR.mkdir(parents=True, exist_ok=True)"
   ]
  },
  {
   "cell_type": "code",
   "execution_count": 5,
   "id": "three-crossing",
   "metadata": {},
   "outputs": [],
   "source": [
    "# OUTPUT_CELL_TYPE_FILEPATH = OUTPUT_FIGURES_DIR / f\"{LV_NAME.lower()}-cell_types.svg\"\n",
    "# display(OUTPUT_CELL_TYPE_FILEPATH)"
   ]
  },
  {
   "cell_type": "markdown",
   "id": "invisible-madrid",
   "metadata": {
    "papermill": {
     "duration": 0.005592,
     "end_time": "2021-05-11T19:09:56.854406",
     "exception": false,
     "start_time": "2021-05-11T19:09:56.848814",
     "status": "completed"
    },
    "tags": []
   },
   "source": [
    "# Load MultiPLIER summary"
   ]
  },
  {
   "cell_type": "code",
   "execution_count": 6,
   "id": "coated-christmas",
   "metadata": {
    "papermill": {
     "duration": 0.020251,
     "end_time": "2021-05-11T19:09:56.880435",
     "exception": false,
     "start_time": "2021-05-11T19:09:56.860184",
     "status": "completed"
    },
    "tags": []
   },
   "outputs": [],
   "source": [
    "multiplier_model_summary = pd.read_pickle(conf.MULTIPLIER[\"MODEL_SUMMARY_FILE\"])"
   ]
  },
  {
   "cell_type": "code",
   "execution_count": 7,
   "id": "stopped-driving",
   "metadata": {
    "papermill": {
     "duration": 0.02062,
     "end_time": "2021-05-11T19:09:56.906744",
     "exception": false,
     "start_time": "2021-05-11T19:09:56.886124",
     "status": "completed"
    },
    "tags": []
   },
   "outputs": [
    {
     "data": {
      "text/plain": [
       "(2157, 5)"
      ]
     },
     "execution_count": 7,
     "metadata": {},
     "output_type": "execute_result"
    }
   ],
   "source": [
    "multiplier_model_summary.shape"
   ]
  },
  {
   "cell_type": "code",
   "execution_count": 8,
   "id": "rural-grove",
   "metadata": {
    "papermill": {
     "duration": 0.024737,
     "end_time": "2021-05-11T19:09:56.937493",
     "exception": false,
     "start_time": "2021-05-11T19:09:56.912756",
     "status": "completed"
    },
    "tags": []
   },
   "outputs": [
    {
     "data": {
      "text/html": [
       "<div>\n",
       "<style scoped>\n",
       "    .dataframe tbody tr th:only-of-type {\n",
       "        vertical-align: middle;\n",
       "    }\n",
       "\n",
       "    .dataframe tbody tr th {\n",
       "        vertical-align: top;\n",
       "    }\n",
       "\n",
       "    .dataframe thead th {\n",
       "        text-align: right;\n",
       "    }\n",
       "</style>\n",
       "<table border=\"1\" class=\"dataframe\">\n",
       "  <thead>\n",
       "    <tr style=\"text-align: right;\">\n",
       "      <th></th>\n",
       "      <th>pathway</th>\n",
       "      <th>LV index</th>\n",
       "      <th>AUC</th>\n",
       "      <th>p-value</th>\n",
       "      <th>FDR</th>\n",
       "    </tr>\n",
       "  </thead>\n",
       "  <tbody>\n",
       "    <tr>\n",
       "      <th>1</th>\n",
       "      <td>KEGG_LYSINE_DEGRADATION</td>\n",
       "      <td>1</td>\n",
       "      <td>0.388059</td>\n",
       "      <td>0.866078</td>\n",
       "      <td>0.956005</td>\n",
       "    </tr>\n",
       "    <tr>\n",
       "      <th>2</th>\n",
       "      <td>REACTOME_MRNA_SPLICING</td>\n",
       "      <td>1</td>\n",
       "      <td>0.733057</td>\n",
       "      <td>0.000048</td>\n",
       "      <td>0.000582</td>\n",
       "    </tr>\n",
       "    <tr>\n",
       "      <th>3</th>\n",
       "      <td>MIPS_NOP56P_ASSOCIATED_PRE_RRNA_COMPLEX</td>\n",
       "      <td>1</td>\n",
       "      <td>0.680555</td>\n",
       "      <td>0.001628</td>\n",
       "      <td>0.011366</td>\n",
       "    </tr>\n",
       "    <tr>\n",
       "      <th>4</th>\n",
       "      <td>KEGG_DNA_REPLICATION</td>\n",
       "      <td>1</td>\n",
       "      <td>0.549473</td>\n",
       "      <td>0.312155</td>\n",
       "      <td>0.539951</td>\n",
       "    </tr>\n",
       "    <tr>\n",
       "      <th>5</th>\n",
       "      <td>PID_MYC_ACTIVPATHWAY</td>\n",
       "      <td>1</td>\n",
       "      <td>0.639303</td>\n",
       "      <td>0.021702</td>\n",
       "      <td>0.083739</td>\n",
       "    </tr>\n",
       "  </tbody>\n",
       "</table>\n",
       "</div>"
      ],
      "text/plain": [
       "                                   pathway LV index       AUC   p-value  \\\n",
       "1                  KEGG_LYSINE_DEGRADATION        1  0.388059  0.866078   \n",
       "2                   REACTOME_MRNA_SPLICING        1  0.733057  0.000048   \n",
       "3  MIPS_NOP56P_ASSOCIATED_PRE_RRNA_COMPLEX        1  0.680555  0.001628   \n",
       "4                     KEGG_DNA_REPLICATION        1  0.549473  0.312155   \n",
       "5                     PID_MYC_ACTIVPATHWAY        1  0.639303  0.021702   \n",
       "\n",
       "        FDR  \n",
       "1  0.956005  \n",
       "2  0.000582  \n",
       "3  0.011366  \n",
       "4  0.539951  \n",
       "5  0.083739  "
      ]
     },
     "execution_count": 8,
     "metadata": {},
     "output_type": "execute_result"
    }
   ],
   "source": [
    "multiplier_model_summary.head()"
   ]
  },
  {
   "cell_type": "markdown",
   "id": "neural-expression",
   "metadata": {
    "papermill": {
     "duration": 0.006007,
     "end_time": "2021-05-11T19:09:56.949763",
     "exception": false,
     "start_time": "2021-05-11T19:09:56.943756",
     "status": "completed"
    },
    "tags": []
   },
   "source": [
    "# Load data"
   ]
  },
  {
   "cell_type": "markdown",
   "id": "military-enlargement",
   "metadata": {
    "papermill": {
     "duration": 0.005873,
     "end_time": "2021-05-11T19:09:56.961602",
     "exception": false,
     "start_time": "2021-05-11T19:09:56.955729",
     "status": "completed"
    },
    "tags": []
   },
   "source": [
    "## Original data"
   ]
  },
  {
   "cell_type": "code",
   "execution_count": 9,
   "id": "distinguished-elements",
   "metadata": {
    "papermill": {
     "duration": 0.019571,
     "end_time": "2021-05-11T19:09:56.987255",
     "exception": false,
     "start_time": "2021-05-11T19:09:56.967684",
     "status": "completed"
    },
    "tags": []
   },
   "outputs": [],
   "source": [
    "# INPUT_SUBSET = \"z_score_std\""
   ]
  },
  {
   "cell_type": "code",
   "execution_count": 10,
   "id": "elementary-court",
   "metadata": {
    "papermill": {
     "duration": 0.019175,
     "end_time": "2021-05-11T19:09:57.025099",
     "exception": false,
     "start_time": "2021-05-11T19:09:57.005924",
     "status": "completed"
    },
    "tags": []
   },
   "outputs": [],
   "source": [
    "# INPUT_STEM = \"projection-smultixcan-efo_partial-mashr-zscores\""
   ]
  },
  {
   "cell_type": "code",
   "execution_count": 11,
   "id": "yellow-stand",
   "metadata": {
    "papermill": {
     "duration": 0.020992,
     "end_time": "2021-05-11T19:09:57.052255",
     "exception": false,
     "start_time": "2021-05-11T19:09:57.031263",
     "status": "completed"
    },
    "tags": []
   },
   "outputs": [],
   "source": [
    "# input_filepath = Path(\n",
    "#     conf.RESULTS[\"DATA_TRANSFORMATIONS_DIR\"],\n",
    "#     INPUT_SUBSET,\n",
    "#     f\"{INPUT_SUBSET}-{INPUT_STEM}.pkl\",\n",
    "# ).resolve()\n",
    "# display(input_filepath)\n",
    "\n",
    "# assert input_filepath.exists(), \"Input file does not exist\"\n",
    "\n",
    "# input_filepath_stem = input_filepath.stem\n",
    "# display(input_filepath_stem)"
   ]
  },
  {
   "cell_type": "code",
   "execution_count": 12,
   "id": "perfect-cruise",
   "metadata": {
    "papermill": {
     "duration": 0.032337,
     "end_time": "2021-05-11T19:09:57.090585",
     "exception": false,
     "start_time": "2021-05-11T19:09:57.058248",
     "status": "completed"
    },
    "tags": []
   },
   "outputs": [],
   "source": [
    "# data = pd.read_pickle(input_filepath)"
   ]
  },
  {
   "cell_type": "code",
   "execution_count": 13,
   "id": "medieval-junction",
   "metadata": {
    "papermill": {
     "duration": 0.01967,
     "end_time": "2021-05-11T19:09:57.116292",
     "exception": false,
     "start_time": "2021-05-11T19:09:57.096622",
     "status": "completed"
    },
    "tags": []
   },
   "outputs": [],
   "source": [
    "# data.shape"
   ]
  },
  {
   "cell_type": "code",
   "execution_count": 14,
   "id": "charitable-craps",
   "metadata": {
    "papermill": {
     "duration": 0.031843,
     "end_time": "2021-05-11T19:09:57.154356",
     "exception": false,
     "start_time": "2021-05-11T19:09:57.122513",
     "status": "completed"
    },
    "tags": []
   },
   "outputs": [],
   "source": [
    "# data.head()"
   ]
  },
  {
   "cell_type": "markdown",
   "id": "architectural-flooring",
   "metadata": {},
   "source": [
    "## LV data"
   ]
  },
  {
   "cell_type": "code",
   "execution_count": 15,
   "id": "suited-employer",
   "metadata": {},
   "outputs": [],
   "source": [
    "# lv_obj = LVAnalysis(LV_NAME, data)\n",
    "lv_obj = LVAnalysis(LV_NAME)"
   ]
  },
  {
   "cell_type": "code",
   "execution_count": 16,
   "id": "noted-little",
   "metadata": {},
   "outputs": [
    {
     "data": {
      "text/html": [
       "<div>\n",
       "<style scoped>\n",
       "    .dataframe tbody tr th:only-of-type {\n",
       "        vertical-align: middle;\n",
       "    }\n",
       "\n",
       "    .dataframe tbody tr th {\n",
       "        vertical-align: top;\n",
       "    }\n",
       "\n",
       "    .dataframe thead th {\n",
       "        text-align: right;\n",
       "    }\n",
       "</style>\n",
       "<table border=\"1\" class=\"dataframe\">\n",
       "  <thead>\n",
       "    <tr style=\"text-align: right;\">\n",
       "      <th></th>\n",
       "      <th>pathway</th>\n",
       "      <th>LV index</th>\n",
       "      <th>AUC</th>\n",
       "      <th>p-value</th>\n",
       "      <th>FDR</th>\n",
       "    </tr>\n",
       "  </thead>\n",
       "  <tbody>\n",
       "  </tbody>\n",
       "</table>\n",
       "</div>"
      ],
      "text/plain": [
       "Empty DataFrame\n",
       "Columns: [pathway, LV index, AUC, p-value, FDR]\n",
       "Index: []"
      ]
     },
     "execution_count": 16,
     "metadata": {},
     "output_type": "execute_result"
    }
   ],
   "source": [
    "multiplier_model_summary[\n",
    "    multiplier_model_summary[\"LV index\"].isin((LV_NAME[2:],))\n",
    "    & (\n",
    "        (multiplier_model_summary[\"FDR\"] < 0.05)\n",
    "        | (multiplier_model_summary[\"AUC\"] >= 0.75)\n",
    "    )\n",
    "]"
   ]
  },
  {
   "cell_type": "code",
   "execution_count": 17,
   "id": "assigned-weekly",
   "metadata": {},
   "outputs": [
    {
     "name": "stdout",
     "output_type": "stream",
     "text": [
      "SRP008145, SRP058773, SRP066834, SRP055569, SRP057196, SRP042161, SRP033135, SRP060416, SRP006575, SRP059379, SRP042620, SRP050499, SRP035477, SRP029889, SRP007947, SRP002326, SRP050992, SRP055153, SRP059775, SRP002487, SRP047192, SRP058740, SRP007498, SRP028170, SRP017777, SRP029880, SRP013239, SRP011422, SRP018020, SRP064735, SRP014591, SRP006769, SRP059735, SRP055513, SRP041036, SRP018838, SRP014688, SRP026204, SRP059035, SRP033466, SRP041494, SRP036790, SRP048669, SRP017575, SRP010907, SRP041751, "
     ]
    }
   ],
   "source": [
    "lv_data = lv_obj.get_experiments_data()"
   ]
  },
  {
   "cell_type": "code",
   "execution_count": 18,
   "id": "guilty-medicaid",
   "metadata": {},
   "outputs": [
    {
     "data": {
      "text/plain": [
       "(6196, 79)"
      ]
     },
     "execution_count": 18,
     "metadata": {},
     "output_type": "execute_result"
    }
   ],
   "source": [
    "lv_data.shape"
   ]
  },
  {
   "cell_type": "code",
   "execution_count": 19,
   "id": "neural-cambridge",
   "metadata": {},
   "outputs": [
    {
     "data": {
      "text/html": [
       "<div>\n",
       "<style scoped>\n",
       "    .dataframe tbody tr th:only-of-type {\n",
       "        vertical-align: middle;\n",
       "    }\n",
       "\n",
       "    .dataframe tbody tr th {\n",
       "        vertical-align: top;\n",
       "    }\n",
       "\n",
       "    .dataframe thead th {\n",
       "        text-align: right;\n",
       "    }\n",
       "</style>\n",
       "<table border=\"1\" class=\"dataframe\">\n",
       "  <thead>\n",
       "    <tr style=\"text-align: right;\">\n",
       "      <th></th>\n",
       "      <th></th>\n",
       "      <th>treatment</th>\n",
       "      <th>cell line</th>\n",
       "      <th>sample type</th>\n",
       "      <th>reporter</th>\n",
       "      <th>well number</th>\n",
       "      <th>reprogramming time point (day)</th>\n",
       "      <th>Stage</th>\n",
       "      <th>tissue</th>\n",
       "      <th>cell type</th>\n",
       "      <th>age</th>\n",
       "      <th>...</th>\n",
       "      <th>p/i stimulation</th>\n",
       "      <th>donor</th>\n",
       "      <th>disease state</th>\n",
       "      <th>stromal signature</th>\n",
       "      <th>prognosis</th>\n",
       "      <th>infected with</th>\n",
       "      <th>time post infection</th>\n",
       "      <th>molecule type</th>\n",
       "      <th>passage</th>\n",
       "      <th>LV149</th>\n",
       "    </tr>\n",
       "    <tr>\n",
       "      <th>project</th>\n",
       "      <th>run</th>\n",
       "      <th></th>\n",
       "      <th></th>\n",
       "      <th></th>\n",
       "      <th></th>\n",
       "      <th></th>\n",
       "      <th></th>\n",
       "      <th></th>\n",
       "      <th></th>\n",
       "      <th></th>\n",
       "      <th></th>\n",
       "      <th></th>\n",
       "      <th></th>\n",
       "      <th></th>\n",
       "      <th></th>\n",
       "      <th></th>\n",
       "      <th></th>\n",
       "      <th></th>\n",
       "      <th></th>\n",
       "      <th></th>\n",
       "      <th></th>\n",
       "      <th></th>\n",
       "    </tr>\n",
       "  </thead>\n",
       "  <tbody>\n",
       "    <tr>\n",
       "      <th rowspan=\"5\" valign=\"top\">SRP008145</th>\n",
       "      <th>SRR342832</th>\n",
       "      <td>DMSO (5 hours)</td>\n",
       "      <td>HEK293T/17</td>\n",
       "      <td>embyonic kidney cell line</td>\n",
       "      <td>CRE multi-hit</td>\n",
       "      <td>NaN</td>\n",
       "      <td>NaN</td>\n",
       "      <td>NaN</td>\n",
       "      <td>NaN</td>\n",
       "      <td>NaN</td>\n",
       "      <td>NaN</td>\n",
       "      <td>...</td>\n",
       "      <td>NaN</td>\n",
       "      <td>NaN</td>\n",
       "      <td>NaN</td>\n",
       "      <td>NaN</td>\n",
       "      <td>NaN</td>\n",
       "      <td>NaN</td>\n",
       "      <td>NaN</td>\n",
       "      <td>NaN</td>\n",
       "      <td>NaN</td>\n",
       "      <td>-0.031576</td>\n",
       "    </tr>\n",
       "    <tr>\n",
       "      <th>SRR342834</th>\n",
       "      <td>DMSO (5 hours)</td>\n",
       "      <td>HEK293T/17</td>\n",
       "      <td>embyonic kidney cell line</td>\n",
       "      <td>CRE multi-hit</td>\n",
       "      <td>NaN</td>\n",
       "      <td>NaN</td>\n",
       "      <td>NaN</td>\n",
       "      <td>NaN</td>\n",
       "      <td>NaN</td>\n",
       "      <td>NaN</td>\n",
       "      <td>...</td>\n",
       "      <td>NaN</td>\n",
       "      <td>NaN</td>\n",
       "      <td>NaN</td>\n",
       "      <td>NaN</td>\n",
       "      <td>NaN</td>\n",
       "      <td>NaN</td>\n",
       "      <td>NaN</td>\n",
       "      <td>NaN</td>\n",
       "      <td>NaN</td>\n",
       "      <td>0.736388</td>\n",
       "    </tr>\n",
       "    <tr>\n",
       "      <th>SRR342835</th>\n",
       "      <td>DMSO (5 hours)</td>\n",
       "      <td>HEK293T/17</td>\n",
       "      <td>embyonic kidney cell line</td>\n",
       "      <td>CRE multi-hit</td>\n",
       "      <td>NaN</td>\n",
       "      <td>NaN</td>\n",
       "      <td>NaN</td>\n",
       "      <td>NaN</td>\n",
       "      <td>NaN</td>\n",
       "      <td>NaN</td>\n",
       "      <td>...</td>\n",
       "      <td>NaN</td>\n",
       "      <td>NaN</td>\n",
       "      <td>NaN</td>\n",
       "      <td>NaN</td>\n",
       "      <td>NaN</td>\n",
       "      <td>NaN</td>\n",
       "      <td>NaN</td>\n",
       "      <td>NaN</td>\n",
       "      <td>NaN</td>\n",
       "      <td>0.515692</td>\n",
       "    </tr>\n",
       "    <tr>\n",
       "      <th>SRR342836</th>\n",
       "      <td>DMSO (5 hours)</td>\n",
       "      <td>HEK293T/17</td>\n",
       "      <td>embyonic kidney cell line</td>\n",
       "      <td>CRE multi-hit</td>\n",
       "      <td>NaN</td>\n",
       "      <td>NaN</td>\n",
       "      <td>NaN</td>\n",
       "      <td>NaN</td>\n",
       "      <td>NaN</td>\n",
       "      <td>NaN</td>\n",
       "      <td>...</td>\n",
       "      <td>NaN</td>\n",
       "      <td>NaN</td>\n",
       "      <td>NaN</td>\n",
       "      <td>NaN</td>\n",
       "      <td>NaN</td>\n",
       "      <td>NaN</td>\n",
       "      <td>NaN</td>\n",
       "      <td>NaN</td>\n",
       "      <td>NaN</td>\n",
       "      <td>0.548193</td>\n",
       "    </tr>\n",
       "    <tr>\n",
       "      <th>SRR342839</th>\n",
       "      <td>100 uM forskolin (5 hours)</td>\n",
       "      <td>HEK293T/17</td>\n",
       "      <td>embyonic kidney cell line</td>\n",
       "      <td>CRE multi-hit</td>\n",
       "      <td>NaN</td>\n",
       "      <td>NaN</td>\n",
       "      <td>NaN</td>\n",
       "      <td>NaN</td>\n",
       "      <td>NaN</td>\n",
       "      <td>NaN</td>\n",
       "      <td>...</td>\n",
       "      <td>NaN</td>\n",
       "      <td>NaN</td>\n",
       "      <td>NaN</td>\n",
       "      <td>NaN</td>\n",
       "      <td>NaN</td>\n",
       "      <td>NaN</td>\n",
       "      <td>NaN</td>\n",
       "      <td>NaN</td>\n",
       "      <td>NaN</td>\n",
       "      <td>-0.069540</td>\n",
       "    </tr>\n",
       "  </tbody>\n",
       "</table>\n",
       "<p>5 rows × 79 columns</p>\n",
       "</div>"
      ],
      "text/plain": [
       "                                      treatment   cell line  \\\n",
       "project   run                                                 \n",
       "SRP008145 SRR342832              DMSO (5 hours)  HEK293T/17   \n",
       "          SRR342834              DMSO (5 hours)  HEK293T/17   \n",
       "          SRR342835              DMSO (5 hours)  HEK293T/17   \n",
       "          SRR342836              DMSO (5 hours)  HEK293T/17   \n",
       "          SRR342839  100 uM forskolin (5 hours)  HEK293T/17   \n",
       "\n",
       "                                   sample type       reporter well number  \\\n",
       "project   run                                                               \n",
       "SRP008145 SRR342832  embyonic kidney cell line  CRE multi-hit         NaN   \n",
       "          SRR342834  embyonic kidney cell line  CRE multi-hit         NaN   \n",
       "          SRR342835  embyonic kidney cell line  CRE multi-hit         NaN   \n",
       "          SRR342836  embyonic kidney cell line  CRE multi-hit         NaN   \n",
       "          SRR342839  embyonic kidney cell line  CRE multi-hit         NaN   \n",
       "\n",
       "                    reprogramming time point (day) Stage tissue cell type  \\\n",
       "project   run                                                               \n",
       "SRP008145 SRR342832                            NaN   NaN    NaN       NaN   \n",
       "          SRR342834                            NaN   NaN    NaN       NaN   \n",
       "          SRR342835                            NaN   NaN    NaN       NaN   \n",
       "          SRR342836                            NaN   NaN    NaN       NaN   \n",
       "          SRR342839                            NaN   NaN    NaN       NaN   \n",
       "\n",
       "                     age  ... p/i stimulation donor disease state  \\\n",
       "project   run             ...                                       \n",
       "SRP008145 SRR342832  NaN  ...             NaN   NaN           NaN   \n",
       "          SRR342834  NaN  ...             NaN   NaN           NaN   \n",
       "          SRR342835  NaN  ...             NaN   NaN           NaN   \n",
       "          SRR342836  NaN  ...             NaN   NaN           NaN   \n",
       "          SRR342839  NaN  ...             NaN   NaN           NaN   \n",
       "\n",
       "                    stromal signature prognosis infected with  \\\n",
       "project   run                                                   \n",
       "SRP008145 SRR342832               NaN       NaN           NaN   \n",
       "          SRR342834               NaN       NaN           NaN   \n",
       "          SRR342835               NaN       NaN           NaN   \n",
       "          SRR342836               NaN       NaN           NaN   \n",
       "          SRR342839               NaN       NaN           NaN   \n",
       "\n",
       "                    time post infection molecule type passage     LV149  \n",
       "project   run                                                            \n",
       "SRP008145 SRR342832                 NaN           NaN     NaN -0.031576  \n",
       "          SRR342834                 NaN           NaN     NaN  0.736388  \n",
       "          SRR342835                 NaN           NaN     NaN  0.515692  \n",
       "          SRR342836                 NaN           NaN     NaN  0.548193  \n",
       "          SRR342839                 NaN           NaN     NaN -0.069540  \n",
       "\n",
       "[5 rows x 79 columns]"
      ]
     },
     "execution_count": 19,
     "metadata": {},
     "output_type": "execute_result"
    }
   ],
   "source": [
    "lv_data.head()"
   ]
  },
  {
   "cell_type": "markdown",
   "id": "civil-yugoslavia",
   "metadata": {},
   "source": [
    "# LV cell types analysis"
   ]
  },
  {
   "cell_type": "markdown",
   "id": "roman-hotel",
   "metadata": {},
   "source": [
    "## Get top attributes"
   ]
  },
  {
   "cell_type": "code",
   "execution_count": 20,
   "id": "pressed-oxide",
   "metadata": {},
   "outputs": [
    {
     "data": {
      "text/plain": [
       "reporter                          4.642476\n",
       "sample type                       3.366972\n",
       "treatment                         0.211590\n",
       "cell line                         0.136595\n",
       "well number                       0.003894\n",
       "reprogramming time point (day)    0.003894\n",
       "experiment_sample_name            0.001876\n",
       "c1 chip id                        0.001876\n",
       "reprogramming vector              0.001875\n",
       "time                              0.001875\n",
       "iPSc                              0.001875\n",
       "Stage                             0.001827\n",
       "age                               0.001803\n",
       "antibodies                        0.001365\n",
       "origin                            0.001365\n",
       "tissue                            0.001327\n",
       "culture medium                    0.001082\n",
       "antibody manufacturer             0.001082\n",
       "tonsil donor                      0.000854\n",
       "facs gating                       0.000854\n",
       "dtype: float64"
      ]
     },
     "metadata": {},
     "output_type": "display_data"
    }
   ],
   "source": [
    "lv_attrs = lv_obj.get_attributes_variation_score()\n",
    "display(lv_attrs.head(20))"
   ]
  },
  {
   "cell_type": "code",
   "execution_count": 21,
   "id": "creative-privacy",
   "metadata": {},
   "outputs": [
    {
     "data": {
      "text/plain": [
       "tissue          0.001327\n",
       "cell type       0.000663\n",
       "cell subtype    0.000440\n",
       "dtype: float64"
      ]
     },
     "execution_count": 21,
     "metadata": {},
     "output_type": "execute_result"
    }
   ],
   "source": [
    "# show those with cell type or tissue in their name\n",
    "_tmp = pd.Series(lv_attrs.index)\n",
    "lv_attrs[\n",
    "    _tmp.str.match(\n",
    "        \"(?:cell.+type$)|(?:tissue$)|(?:tissue.+type$)\",\n",
    "        case=False,\n",
    "        flags=re.IGNORECASE,\n",
    "    ).values\n",
    "].sort_values(ascending=False)"
   ]
  },
  {
   "cell_type": "code",
   "execution_count": 22,
   "id": "distinguished-thinking",
   "metadata": {},
   "outputs": [],
   "source": [
    "_tmp = lv_data.loc[\n",
    "    :,\n",
    "    [\n",
    "        \"tissue\",\n",
    "        \"cell type\",\n",
    "        \"cell subtype\",\n",
    "        \"cell line\",\n",
    "        LV_NAME,\n",
    "    ],\n",
    "]"
   ]
  },
  {
   "cell_type": "code",
   "execution_count": 23,
   "id": "civil-cooperation",
   "metadata": {},
   "outputs": [],
   "source": [
    "_tmp_seq = list(chunker(_tmp.sort_values(LV_NAME, ascending=False), 25))"
   ]
  },
  {
   "cell_type": "code",
   "execution_count": 24,
   "id": "dressed-enemy",
   "metadata": {},
   "outputs": [
    {
     "data": {
      "text/html": [
       "<div>\n",
       "<style scoped>\n",
       "    .dataframe tbody tr th:only-of-type {\n",
       "        vertical-align: middle;\n",
       "    }\n",
       "\n",
       "    .dataframe tbody tr th {\n",
       "        vertical-align: top;\n",
       "    }\n",
       "\n",
       "    .dataframe thead th {\n",
       "        text-align: right;\n",
       "    }\n",
       "</style>\n",
       "<table border=\"1\" class=\"dataframe\">\n",
       "  <thead>\n",
       "    <tr style=\"text-align: right;\">\n",
       "      <th></th>\n",
       "      <th></th>\n",
       "      <th>tissue</th>\n",
       "      <th>cell type</th>\n",
       "      <th>cell subtype</th>\n",
       "      <th>cell line</th>\n",
       "      <th>LV149</th>\n",
       "    </tr>\n",
       "    <tr>\n",
       "      <th>project</th>\n",
       "      <th>run</th>\n",
       "      <th></th>\n",
       "      <th></th>\n",
       "      <th></th>\n",
       "      <th></th>\n",
       "      <th></th>\n",
       "    </tr>\n",
       "  </thead>\n",
       "  <tbody>\n",
       "    <tr>\n",
       "      <th rowspan=\"13\" valign=\"top\">SRP008145</th>\n",
       "      <th>SRR342849</th>\n",
       "      <td>NaN</td>\n",
       "      <td>NaN</td>\n",
       "      <td>NaN</td>\n",
       "      <td>HEK293T/17</td>\n",
       "      <td>6.585554</td>\n",
       "    </tr>\n",
       "    <tr>\n",
       "      <th>SRR342848</th>\n",
       "      <td>NaN</td>\n",
       "      <td>NaN</td>\n",
       "      <td>NaN</td>\n",
       "      <td>HEK293T/17</td>\n",
       "      <td>6.288785</td>\n",
       "    </tr>\n",
       "    <tr>\n",
       "      <th>SRR342850</th>\n",
       "      <td>NaN</td>\n",
       "      <td>NaN</td>\n",
       "      <td>NaN</td>\n",
       "      <td>HEK293T/17</td>\n",
       "      <td>5.328337</td>\n",
       "    </tr>\n",
       "    <tr>\n",
       "      <th>SRR342862</th>\n",
       "      <td>NaN</td>\n",
       "      <td>NaN</td>\n",
       "      <td>NaN</td>\n",
       "      <td>HEK293T/17</td>\n",
       "      <td>2.274500</td>\n",
       "    </tr>\n",
       "    <tr>\n",
       "      <th>SRR342861</th>\n",
       "      <td>NaN</td>\n",
       "      <td>NaN</td>\n",
       "      <td>NaN</td>\n",
       "      <td>HEK293T/17</td>\n",
       "      <td>2.161695</td>\n",
       "    </tr>\n",
       "    <tr>\n",
       "      <th>SRR342846</th>\n",
       "      <td>NaN</td>\n",
       "      <td>NaN</td>\n",
       "      <td>NaN</td>\n",
       "      <td>HEK293T/17</td>\n",
       "      <td>1.283884</td>\n",
       "    </tr>\n",
       "    <tr>\n",
       "      <th>SRR342842</th>\n",
       "      <td>NaN</td>\n",
       "      <td>NaN</td>\n",
       "      <td>NaN</td>\n",
       "      <td>HEK293T/17</td>\n",
       "      <td>0.999218</td>\n",
       "    </tr>\n",
       "    <tr>\n",
       "      <th>SRR342843</th>\n",
       "      <td>NaN</td>\n",
       "      <td>NaN</td>\n",
       "      <td>NaN</td>\n",
       "      <td>HEK293T/17</td>\n",
       "      <td>0.975461</td>\n",
       "    </tr>\n",
       "    <tr>\n",
       "      <th>SRR342841</th>\n",
       "      <td>NaN</td>\n",
       "      <td>NaN</td>\n",
       "      <td>NaN</td>\n",
       "      <td>HEK293T/17</td>\n",
       "      <td>0.897710</td>\n",
       "    </tr>\n",
       "    <tr>\n",
       "      <th>SRR342834</th>\n",
       "      <td>NaN</td>\n",
       "      <td>NaN</td>\n",
       "      <td>NaN</td>\n",
       "      <td>HEK293T/17</td>\n",
       "      <td>0.736388</td>\n",
       "    </tr>\n",
       "    <tr>\n",
       "      <th>SRR342857</th>\n",
       "      <td>NaN</td>\n",
       "      <td>NaN</td>\n",
       "      <td>NaN</td>\n",
       "      <td>HEK293T/17</td>\n",
       "      <td>0.697178</td>\n",
       "    </tr>\n",
       "    <tr>\n",
       "      <th>SRR342836</th>\n",
       "      <td>NaN</td>\n",
       "      <td>NaN</td>\n",
       "      <td>NaN</td>\n",
       "      <td>HEK293T/17</td>\n",
       "      <td>0.548193</td>\n",
       "    </tr>\n",
       "    <tr>\n",
       "      <th>SRR342835</th>\n",
       "      <td>NaN</td>\n",
       "      <td>NaN</td>\n",
       "      <td>NaN</td>\n",
       "      <td>HEK293T/17</td>\n",
       "      <td>0.515692</td>\n",
       "    </tr>\n",
       "    <tr>\n",
       "      <th>SRP058773</th>\n",
       "      <th>SRR2042650</th>\n",
       "      <td>NaN</td>\n",
       "      <td>NaN</td>\n",
       "      <td>NaN</td>\n",
       "      <td>NaN</td>\n",
       "      <td>0.404412</td>\n",
       "    </tr>\n",
       "    <tr>\n",
       "      <th>SRP066834</th>\n",
       "      <th>SRR2967772</th>\n",
       "      <td>Fetal neocortex</td>\n",
       "      <td>NaN</td>\n",
       "      <td>NaN</td>\n",
       "      <td>NaN</td>\n",
       "      <td>0.358084</td>\n",
       "    </tr>\n",
       "    <tr>\n",
       "      <th>SRP008145</th>\n",
       "      <th>SRR342858</th>\n",
       "      <td>NaN</td>\n",
       "      <td>NaN</td>\n",
       "      <td>NaN</td>\n",
       "      <td>HEK293T/17</td>\n",
       "      <td>0.324433</td>\n",
       "    </tr>\n",
       "    <tr>\n",
       "      <th>SRP066834</th>\n",
       "      <th>SRR2967807</th>\n",
       "      <td>Fetal neocortex</td>\n",
       "      <td>NaN</td>\n",
       "      <td>NaN</td>\n",
       "      <td>NaN</td>\n",
       "      <td>0.298721</td>\n",
       "    </tr>\n",
       "    <tr>\n",
       "      <th>SRP055569</th>\n",
       "      <th>SRR1821498</th>\n",
       "      <td>NaN</td>\n",
       "      <td>mixture of U87 human glioma cells and MCF10a h...</td>\n",
       "      <td>NaN</td>\n",
       "      <td>NaN</td>\n",
       "      <td>0.283303</td>\n",
       "    </tr>\n",
       "    <tr>\n",
       "      <th rowspan=\"2\" valign=\"top\">SRP066834</th>\n",
       "      <th>SRR2967449</th>\n",
       "      <td>Microdissected cortical-like ventricle from ce...</td>\n",
       "      <td>NaN</td>\n",
       "      <td>NaN</td>\n",
       "      <td>NaN</td>\n",
       "      <td>0.269555</td>\n",
       "    </tr>\n",
       "    <tr>\n",
       "      <th>SRR2967780</th>\n",
       "      <td>Fetal neocortex</td>\n",
       "      <td>NaN</td>\n",
       "      <td>NaN</td>\n",
       "      <td>NaN</td>\n",
       "      <td>0.266763</td>\n",
       "    </tr>\n",
       "    <tr>\n",
       "      <th>SRP057196</th>\n",
       "      <th>SRR1974557</th>\n",
       "      <td>cortex</td>\n",
       "      <td>astrocytes</td>\n",
       "      <td>NaN</td>\n",
       "      <td>NaN</td>\n",
       "      <td>0.245538</td>\n",
       "    </tr>\n",
       "    <tr>\n",
       "      <th>SRP042161</th>\n",
       "      <th>SRR1294526</th>\n",
       "      <td>NaN</td>\n",
       "      <td>Glioblastoma</td>\n",
       "      <td>NaN</td>\n",
       "      <td>NaN</td>\n",
       "      <td>0.239121</td>\n",
       "    </tr>\n",
       "    <tr>\n",
       "      <th>SRP033135</th>\n",
       "      <th>SRR1033250</th>\n",
       "      <td>NaN</td>\n",
       "      <td>Human Skeletal Muscle Myoblasts (HSMM)</td>\n",
       "      <td>NaN</td>\n",
       "      <td>NaN</td>\n",
       "      <td>0.237215</td>\n",
       "    </tr>\n",
       "    <tr>\n",
       "      <th rowspan=\"2\" valign=\"top\">SRP057196</th>\n",
       "      <th>SRR1974606</th>\n",
       "      <td>cortex</td>\n",
       "      <td>microglia</td>\n",
       "      <td>NaN</td>\n",
       "      <td>NaN</td>\n",
       "      <td>0.217386</td>\n",
       "    </tr>\n",
       "    <tr>\n",
       "      <th>SRR1974857</th>\n",
       "      <td>cortex</td>\n",
       "      <td>astrocytes</td>\n",
       "      <td>NaN</td>\n",
       "      <td>NaN</td>\n",
       "      <td>0.210509</td>\n",
       "    </tr>\n",
       "  </tbody>\n",
       "</table>\n",
       "</div>"
      ],
      "text/plain": [
       "                                                                 tissue  \\\n",
       "project   run                                                             \n",
       "SRP008145 SRR342849                                                 NaN   \n",
       "          SRR342848                                                 NaN   \n",
       "          SRR342850                                                 NaN   \n",
       "          SRR342862                                                 NaN   \n",
       "          SRR342861                                                 NaN   \n",
       "          SRR342846                                                 NaN   \n",
       "          SRR342842                                                 NaN   \n",
       "          SRR342843                                                 NaN   \n",
       "          SRR342841                                                 NaN   \n",
       "          SRR342834                                                 NaN   \n",
       "          SRR342857                                                 NaN   \n",
       "          SRR342836                                                 NaN   \n",
       "          SRR342835                                                 NaN   \n",
       "SRP058773 SRR2042650                                                NaN   \n",
       "SRP066834 SRR2967772                                    Fetal neocortex   \n",
       "SRP008145 SRR342858                                                 NaN   \n",
       "SRP066834 SRR2967807                                    Fetal neocortex   \n",
       "SRP055569 SRR1821498                                                NaN   \n",
       "SRP066834 SRR2967449  Microdissected cortical-like ventricle from ce...   \n",
       "          SRR2967780                                    Fetal neocortex   \n",
       "SRP057196 SRR1974557                                             cortex   \n",
       "SRP042161 SRR1294526                                                NaN   \n",
       "SRP033135 SRR1033250                                                NaN   \n",
       "SRP057196 SRR1974606                                             cortex   \n",
       "          SRR1974857                                             cortex   \n",
       "\n",
       "                                                              cell type  \\\n",
       "project   run                                                             \n",
       "SRP008145 SRR342849                                                 NaN   \n",
       "          SRR342848                                                 NaN   \n",
       "          SRR342850                                                 NaN   \n",
       "          SRR342862                                                 NaN   \n",
       "          SRR342861                                                 NaN   \n",
       "          SRR342846                                                 NaN   \n",
       "          SRR342842                                                 NaN   \n",
       "          SRR342843                                                 NaN   \n",
       "          SRR342841                                                 NaN   \n",
       "          SRR342834                                                 NaN   \n",
       "          SRR342857                                                 NaN   \n",
       "          SRR342836                                                 NaN   \n",
       "          SRR342835                                                 NaN   \n",
       "SRP058773 SRR2042650                                                NaN   \n",
       "SRP066834 SRR2967772                                                NaN   \n",
       "SRP008145 SRR342858                                                 NaN   \n",
       "SRP066834 SRR2967807                                                NaN   \n",
       "SRP055569 SRR1821498  mixture of U87 human glioma cells and MCF10a h...   \n",
       "SRP066834 SRR2967449                                                NaN   \n",
       "          SRR2967780                                                NaN   \n",
       "SRP057196 SRR1974557                                         astrocytes   \n",
       "SRP042161 SRR1294526                                       Glioblastoma   \n",
       "SRP033135 SRR1033250             Human Skeletal Muscle Myoblasts (HSMM)   \n",
       "SRP057196 SRR1974606                                          microglia   \n",
       "          SRR1974857                                         astrocytes   \n",
       "\n",
       "                     cell subtype   cell line     LV149  \n",
       "project   run                                            \n",
       "SRP008145 SRR342849           NaN  HEK293T/17  6.585554  \n",
       "          SRR342848           NaN  HEK293T/17  6.288785  \n",
       "          SRR342850           NaN  HEK293T/17  5.328337  \n",
       "          SRR342862           NaN  HEK293T/17  2.274500  \n",
       "          SRR342861           NaN  HEK293T/17  2.161695  \n",
       "          SRR342846           NaN  HEK293T/17  1.283884  \n",
       "          SRR342842           NaN  HEK293T/17  0.999218  \n",
       "          SRR342843           NaN  HEK293T/17  0.975461  \n",
       "          SRR342841           NaN  HEK293T/17  0.897710  \n",
       "          SRR342834           NaN  HEK293T/17  0.736388  \n",
       "          SRR342857           NaN  HEK293T/17  0.697178  \n",
       "          SRR342836           NaN  HEK293T/17  0.548193  \n",
       "          SRR342835           NaN  HEK293T/17  0.515692  \n",
       "SRP058773 SRR2042650          NaN         NaN  0.404412  \n",
       "SRP066834 SRR2967772          NaN         NaN  0.358084  \n",
       "SRP008145 SRR342858           NaN  HEK293T/17  0.324433  \n",
       "SRP066834 SRR2967807          NaN         NaN  0.298721  \n",
       "SRP055569 SRR1821498          NaN         NaN  0.283303  \n",
       "SRP066834 SRR2967449          NaN         NaN  0.269555  \n",
       "          SRR2967780          NaN         NaN  0.266763  \n",
       "SRP057196 SRR1974557          NaN         NaN  0.245538  \n",
       "SRP042161 SRR1294526          NaN         NaN  0.239121  \n",
       "SRP033135 SRR1033250          NaN         NaN  0.237215  \n",
       "SRP057196 SRR1974606          NaN         NaN  0.217386  \n",
       "          SRR1974857          NaN         NaN  0.210509  "
      ]
     },
     "execution_count": 24,
     "metadata": {},
     "output_type": "execute_result"
    }
   ],
   "source": [
    "_tmp_seq[0]"
   ]
  },
  {
   "cell_type": "code",
   "execution_count": 27,
   "id": "grateful-cuisine",
   "metadata": {},
   "outputs": [
    {
     "data": {
      "text/html": [
       "<div>\n",
       "<style scoped>\n",
       "    .dataframe tbody tr th:only-of-type {\n",
       "        vertical-align: middle;\n",
       "    }\n",
       "\n",
       "    .dataframe tbody tr th {\n",
       "        vertical-align: top;\n",
       "    }\n",
       "\n",
       "    .dataframe thead th {\n",
       "        text-align: right;\n",
       "    }\n",
       "</style>\n",
       "<table border=\"1\" class=\"dataframe\">\n",
       "  <thead>\n",
       "    <tr style=\"text-align: right;\">\n",
       "      <th></th>\n",
       "      <th></th>\n",
       "      <th>treatment</th>\n",
       "      <th>cell line</th>\n",
       "      <th>sample type</th>\n",
       "      <th>reporter</th>\n",
       "      <th>LV149</th>\n",
       "    </tr>\n",
       "    <tr>\n",
       "      <th>project</th>\n",
       "      <th>run</th>\n",
       "      <th></th>\n",
       "      <th></th>\n",
       "      <th></th>\n",
       "      <th></th>\n",
       "      <th></th>\n",
       "    </tr>\n",
       "  </thead>\n",
       "  <tbody>\n",
       "    <tr>\n",
       "      <th rowspan=\"10\" valign=\"top\">SRP008145</th>\n",
       "      <th>SRR342849</th>\n",
       "      <td>100 uM forskolin (5 hours)</td>\n",
       "      <td>HEK293T/17</td>\n",
       "      <td>embyonic kidney cell line</td>\n",
       "      <td>CRE single-hit</td>\n",
       "      <td>6.585554</td>\n",
       "    </tr>\n",
       "    <tr>\n",
       "      <th>SRR342848</th>\n",
       "      <td>100 uM forskolin (5 hours)</td>\n",
       "      <td>HEK293T/17</td>\n",
       "      <td>embyonic kidney cell line</td>\n",
       "      <td>CRE single-hit</td>\n",
       "      <td>6.288785</td>\n",
       "    </tr>\n",
       "    <tr>\n",
       "      <th>SRR342850</th>\n",
       "      <td>100 uM forskolin (5 hours)</td>\n",
       "      <td>HEK293T/17</td>\n",
       "      <td>embyonic kidney cell line</td>\n",
       "      <td>CRE single-hit</td>\n",
       "      <td>5.328337</td>\n",
       "    </tr>\n",
       "    <tr>\n",
       "      <th>SRR342862</th>\n",
       "      <td>Sendai virus (MOI = 10, 16 hours)</td>\n",
       "      <td>HEK293T/17</td>\n",
       "      <td>embyonic kidney cell line</td>\n",
       "      <td>IFNB single-hit</td>\n",
       "      <td>2.274500</td>\n",
       "    </tr>\n",
       "    <tr>\n",
       "      <th>SRR342861</th>\n",
       "      <td>Sendai virus (MOI = 10, 16 hours)</td>\n",
       "      <td>HEK293T/17</td>\n",
       "      <td>embyonic kidney cell line</td>\n",
       "      <td>IFNB single-hit</td>\n",
       "      <td>2.161695</td>\n",
       "    </tr>\n",
       "    <tr>\n",
       "      <th>SRR342846</th>\n",
       "      <td>100 uM forskolin (5 hours)</td>\n",
       "      <td>HEK293T/17</td>\n",
       "      <td>embyonic kidney cell line</td>\n",
       "      <td>CRE single-hit</td>\n",
       "      <td>1.283884</td>\n",
       "    </tr>\n",
       "    <tr>\n",
       "      <th>SRR342842</th>\n",
       "      <td>100 uM forskolin (5 hours)</td>\n",
       "      <td>HEK293T/17</td>\n",
       "      <td>embyonic kidney cell line</td>\n",
       "      <td>CRE multi-hit</td>\n",
       "      <td>0.999218</td>\n",
       "    </tr>\n",
       "    <tr>\n",
       "      <th>SRR342843</th>\n",
       "      <td>100 uM forskolin (5 hours)</td>\n",
       "      <td>HEK293T/17</td>\n",
       "      <td>embyonic kidney cell line</td>\n",
       "      <td>CRE multi-hit</td>\n",
       "      <td>0.975461</td>\n",
       "    </tr>\n",
       "    <tr>\n",
       "      <th>SRR342841</th>\n",
       "      <td>100 uM forskolin (5 hours)</td>\n",
       "      <td>HEK293T/17</td>\n",
       "      <td>embyonic kidney cell line</td>\n",
       "      <td>CRE multi-hit</td>\n",
       "      <td>0.897710</td>\n",
       "    </tr>\n",
       "    <tr>\n",
       "      <th>SRR342834</th>\n",
       "      <td>DMSO (5 hours)</td>\n",
       "      <td>HEK293T/17</td>\n",
       "      <td>embyonic kidney cell line</td>\n",
       "      <td>CRE multi-hit</td>\n",
       "      <td>0.736388</td>\n",
       "    </tr>\n",
       "  </tbody>\n",
       "</table>\n",
       "</div>"
      ],
      "text/plain": [
       "                                             treatment   cell line  \\\n",
       "project   run                                                        \n",
       "SRP008145 SRR342849         100 uM forskolin (5 hours)  HEK293T/17   \n",
       "          SRR342848         100 uM forskolin (5 hours)  HEK293T/17   \n",
       "          SRR342850         100 uM forskolin (5 hours)  HEK293T/17   \n",
       "          SRR342862  Sendai virus (MOI = 10, 16 hours)  HEK293T/17   \n",
       "          SRR342861  Sendai virus (MOI = 10, 16 hours)  HEK293T/17   \n",
       "          SRR342846         100 uM forskolin (5 hours)  HEK293T/17   \n",
       "          SRR342842         100 uM forskolin (5 hours)  HEK293T/17   \n",
       "          SRR342843         100 uM forskolin (5 hours)  HEK293T/17   \n",
       "          SRR342841         100 uM forskolin (5 hours)  HEK293T/17   \n",
       "          SRR342834                     DMSO (5 hours)  HEK293T/17   \n",
       "\n",
       "                                   sample type         reporter     LV149  \n",
       "project   run                                                              \n",
       "SRP008145 SRR342849  embyonic kidney cell line   CRE single-hit  6.585554  \n",
       "          SRR342848  embyonic kidney cell line   CRE single-hit  6.288785  \n",
       "          SRR342850  embyonic kidney cell line   CRE single-hit  5.328337  \n",
       "          SRR342862  embyonic kidney cell line  IFNB single-hit  2.274500  \n",
       "          SRR342861  embyonic kidney cell line  IFNB single-hit  2.161695  \n",
       "          SRR342846  embyonic kidney cell line   CRE single-hit  1.283884  \n",
       "          SRR342842  embyonic kidney cell line    CRE multi-hit  0.999218  \n",
       "          SRR342843  embyonic kidney cell line    CRE multi-hit  0.975461  \n",
       "          SRR342841  embyonic kidney cell line    CRE multi-hit  0.897710  \n",
       "          SRR342834  embyonic kidney cell line    CRE multi-hit  0.736388  "
      ]
     },
     "execution_count": 27,
     "metadata": {},
     "output_type": "execute_result"
    }
   ],
   "source": [
    "# what is there in these projects?\n",
    "lv_data.loc[[\"SRP008145\"]].dropna(how=\"all\", axis=1).sort_values(\n",
    "    LV_NAME, ascending=False\n",
    ").sort_values(LV_NAME, ascending=False).head(10)"
   ]
  },
  {
   "cell_type": "code",
   "execution_count": 28,
   "id": "stylish-network",
   "metadata": {},
   "outputs": [],
   "source": [
    "SELECTED_ATTRIBUTE = \"cell line\""
   ]
  },
  {
   "cell_type": "code",
   "execution_count": 29,
   "id": "turkish-valley",
   "metadata": {},
   "outputs": [],
   "source": [
    "# it has to be in the order desired for filling nans in the SELECTED_ATTRIBUTE\n",
    "SECOND_ATTRIBUTES = [\"tissue\", \"cell type\"]"
   ]
  },
  {
   "cell_type": "markdown",
   "id": "victorian-bidding",
   "metadata": {},
   "source": [
    "## Get plot data"
   ]
  },
  {
   "cell_type": "code",
   "execution_count": 87,
   "id": "jewish-weekend",
   "metadata": {},
   "outputs": [],
   "source": [
    "plot_data = lv_data.loc[:, [SELECTED_ATTRIBUTE] + SECOND_ATTRIBUTES + [LV_NAME]]"
   ]
  },
  {
   "cell_type": "code",
   "execution_count": 88,
   "id": "genuine-hierarchy",
   "metadata": {},
   "outputs": [],
   "source": [
    "# if blank/nan, fill cell type column with tissue content\n",
    "_new_column = plot_data[[SELECTED_ATTRIBUTE] + SECOND_ATTRIBUTES].fillna(\n",
    "    method=\"backfill\", axis=1\n",
    ")[SELECTED_ATTRIBUTE]\n",
    "plot_data[SELECTED_ATTRIBUTE] = _new_column\n",
    "plot_data = plot_data.drop(columns=SECOND_ATTRIBUTES)\n",
    "plot_data = plot_data.fillna({SELECTED_ATTRIBUTE: \"NOT CATEGORIZED\"})\n",
    "# plot_data = plot_data.dropna(subset=[SELECTED_ATTRIBUTE])"
   ]
  },
  {
   "cell_type": "code",
   "execution_count": 89,
   "id": "light-smart",
   "metadata": {},
   "outputs": [],
   "source": [
    "plot_data = plot_data.sort_values(LV_NAME, ascending=False)"
   ]
  },
  {
   "cell_type": "code",
   "execution_count": 90,
   "id": "fitted-button",
   "metadata": {},
   "outputs": [
    {
     "data": {
      "text/html": [
       "<div>\n",
       "<style scoped>\n",
       "    .dataframe tbody tr th:only-of-type {\n",
       "        vertical-align: middle;\n",
       "    }\n",
       "\n",
       "    .dataframe tbody tr th {\n",
       "        vertical-align: top;\n",
       "    }\n",
       "\n",
       "    .dataframe thead th {\n",
       "        text-align: right;\n",
       "    }\n",
       "</style>\n",
       "<table border=\"1\" class=\"dataframe\">\n",
       "  <thead>\n",
       "    <tr style=\"text-align: right;\">\n",
       "      <th></th>\n",
       "      <th></th>\n",
       "      <th>cell line</th>\n",
       "      <th>LV149</th>\n",
       "    </tr>\n",
       "    <tr>\n",
       "      <th>project</th>\n",
       "      <th>run</th>\n",
       "      <th></th>\n",
       "      <th></th>\n",
       "    </tr>\n",
       "  </thead>\n",
       "  <tbody>\n",
       "    <tr>\n",
       "      <th rowspan=\"13\" valign=\"top\">SRP008145</th>\n",
       "      <th>SRR342849</th>\n",
       "      <td>HEK293T/17</td>\n",
       "      <td>6.585554</td>\n",
       "    </tr>\n",
       "    <tr>\n",
       "      <th>SRR342848</th>\n",
       "      <td>HEK293T/17</td>\n",
       "      <td>6.288785</td>\n",
       "    </tr>\n",
       "    <tr>\n",
       "      <th>SRR342850</th>\n",
       "      <td>HEK293T/17</td>\n",
       "      <td>5.328337</td>\n",
       "    </tr>\n",
       "    <tr>\n",
       "      <th>SRR342862</th>\n",
       "      <td>HEK293T/17</td>\n",
       "      <td>2.274500</td>\n",
       "    </tr>\n",
       "    <tr>\n",
       "      <th>SRR342861</th>\n",
       "      <td>HEK293T/17</td>\n",
       "      <td>2.161695</td>\n",
       "    </tr>\n",
       "    <tr>\n",
       "      <th>SRR342846</th>\n",
       "      <td>HEK293T/17</td>\n",
       "      <td>1.283884</td>\n",
       "    </tr>\n",
       "    <tr>\n",
       "      <th>SRR342842</th>\n",
       "      <td>HEK293T/17</td>\n",
       "      <td>0.999218</td>\n",
       "    </tr>\n",
       "    <tr>\n",
       "      <th>SRR342843</th>\n",
       "      <td>HEK293T/17</td>\n",
       "      <td>0.975461</td>\n",
       "    </tr>\n",
       "    <tr>\n",
       "      <th>SRR342841</th>\n",
       "      <td>HEK293T/17</td>\n",
       "      <td>0.897710</td>\n",
       "    </tr>\n",
       "    <tr>\n",
       "      <th>SRR342834</th>\n",
       "      <td>HEK293T/17</td>\n",
       "      <td>0.736388</td>\n",
       "    </tr>\n",
       "    <tr>\n",
       "      <th>SRR342857</th>\n",
       "      <td>HEK293T/17</td>\n",
       "      <td>0.697178</td>\n",
       "    </tr>\n",
       "    <tr>\n",
       "      <th>SRR342836</th>\n",
       "      <td>HEK293T/17</td>\n",
       "      <td>0.548193</td>\n",
       "    </tr>\n",
       "    <tr>\n",
       "      <th>SRR342835</th>\n",
       "      <td>HEK293T/17</td>\n",
       "      <td>0.515692</td>\n",
       "    </tr>\n",
       "    <tr>\n",
       "      <th>SRP058773</th>\n",
       "      <th>SRR2042650</th>\n",
       "      <td>NOT CATEGORIZED</td>\n",
       "      <td>0.404412</td>\n",
       "    </tr>\n",
       "    <tr>\n",
       "      <th>SRP066834</th>\n",
       "      <th>SRR2967772</th>\n",
       "      <td>Fetal neocortex</td>\n",
       "      <td>0.358084</td>\n",
       "    </tr>\n",
       "    <tr>\n",
       "      <th>SRP008145</th>\n",
       "      <th>SRR342858</th>\n",
       "      <td>HEK293T/17</td>\n",
       "      <td>0.324433</td>\n",
       "    </tr>\n",
       "    <tr>\n",
       "      <th>SRP066834</th>\n",
       "      <th>SRR2967807</th>\n",
       "      <td>Fetal neocortex</td>\n",
       "      <td>0.298721</td>\n",
       "    </tr>\n",
       "    <tr>\n",
       "      <th>SRP055569</th>\n",
       "      <th>SRR1821498</th>\n",
       "      <td>mixture of U87 human glioma cells and MCF10a h...</td>\n",
       "      <td>0.283303</td>\n",
       "    </tr>\n",
       "    <tr>\n",
       "      <th rowspan=\"2\" valign=\"top\">SRP066834</th>\n",
       "      <th>SRR2967449</th>\n",
       "      <td>Microdissected cortical-like ventricle from ce...</td>\n",
       "      <td>0.269555</td>\n",
       "    </tr>\n",
       "    <tr>\n",
       "      <th>SRR2967780</th>\n",
       "      <td>Fetal neocortex</td>\n",
       "      <td>0.266763</td>\n",
       "    </tr>\n",
       "  </tbody>\n",
       "</table>\n",
       "</div>"
      ],
      "text/plain": [
       "                                                              cell line  \\\n",
       "project   run                                                             \n",
       "SRP008145 SRR342849                                          HEK293T/17   \n",
       "          SRR342848                                          HEK293T/17   \n",
       "          SRR342850                                          HEK293T/17   \n",
       "          SRR342862                                          HEK293T/17   \n",
       "          SRR342861                                          HEK293T/17   \n",
       "          SRR342846                                          HEK293T/17   \n",
       "          SRR342842                                          HEK293T/17   \n",
       "          SRR342843                                          HEK293T/17   \n",
       "          SRR342841                                          HEK293T/17   \n",
       "          SRR342834                                          HEK293T/17   \n",
       "          SRR342857                                          HEK293T/17   \n",
       "          SRR342836                                          HEK293T/17   \n",
       "          SRR342835                                          HEK293T/17   \n",
       "SRP058773 SRR2042650                                    NOT CATEGORIZED   \n",
       "SRP066834 SRR2967772                                    Fetal neocortex   \n",
       "SRP008145 SRR342858                                          HEK293T/17   \n",
       "SRP066834 SRR2967807                                    Fetal neocortex   \n",
       "SRP055569 SRR1821498  mixture of U87 human glioma cells and MCF10a h...   \n",
       "SRP066834 SRR2967449  Microdissected cortical-like ventricle from ce...   \n",
       "          SRR2967780                                    Fetal neocortex   \n",
       "\n",
       "                         LV149  \n",
       "project   run                   \n",
       "SRP008145 SRR342849   6.585554  \n",
       "          SRR342848   6.288785  \n",
       "          SRR342850   5.328337  \n",
       "          SRR342862   2.274500  \n",
       "          SRR342861   2.161695  \n",
       "          SRR342846   1.283884  \n",
       "          SRR342842   0.999218  \n",
       "          SRR342843   0.975461  \n",
       "          SRR342841   0.897710  \n",
       "          SRR342834   0.736388  \n",
       "          SRR342857   0.697178  \n",
       "          SRR342836   0.548193  \n",
       "          SRR342835   0.515692  \n",
       "SRP058773 SRR2042650  0.404412  \n",
       "SRP066834 SRR2967772  0.358084  \n",
       "SRP008145 SRR342858   0.324433  \n",
       "SRP066834 SRR2967807  0.298721  \n",
       "SRP055569 SRR1821498  0.283303  \n",
       "SRP066834 SRR2967449  0.269555  \n",
       "          SRR2967780  0.266763  "
      ]
     },
     "execution_count": 90,
     "metadata": {},
     "output_type": "execute_result"
    }
   ],
   "source": [
    "plot_data.head(20)"
   ]
  },
  {
   "cell_type": "markdown",
   "id": "casual-prerequisite",
   "metadata": {},
   "source": [
    "## Customize x-axis values"
   ]
  },
  {
   "cell_type": "markdown",
   "id": "traditional-psychology",
   "metadata": {},
   "source": [
    "When cell type values are not very clear, customize their names by looking at their specific studies to know exactly what the authors meant."
   ]
  },
  {
   "cell_type": "code",
   "execution_count": 91,
   "id": "official-capacity",
   "metadata": {},
   "outputs": [],
   "source": [
    "final_plot_data = plot_data.replace(\n",
    "    {\n",
    "        SELECTED_ATTRIBUTE: {\n",
    "            # \"human bone marrow sample\": \"bone marrow\",\n",
    "            # \"whole blood\": \"Whole blood\",\n",
    "            # \"peripheral blood\": \"Peripheral blood\",\n",
    "            # \"peripheral whole blood\": \"Peripheral blood\",\n",
    "            \"\": \"\",\n",
    "            # \"breast cancer\": \"Breast cancer\",\n",
    "            # \"breast cancer cell line\": \"Breast cancer\",\n",
    "            # SRP057196\n",
    "            # \"fetal_replicating\": \"Fetal neurons (replicating)\",\n",
    "            # \"fetal_quiescent\": \"Fetal neurons (quiescent)\",\n",
    "            # \"normal skin\": \"Skin\",\n",
    "            # \"liver\": \"Liver\",\n",
    "            # \"Human Skeletal Muscle Myoblasts (HSMM)\": \"Skeletal muscle myoblasts\",\n",
    "            # \"astrocytes\": \"Astrocytes\",\n",
    "            # \"mixture of U87 human glioma cells and MCF10a human breast cancer cells\": \"Glioma + MCF10 breast cancer cells\",\n",
    "            # \"mixture of U87 human glioma cells and WI-38 human lung fibroblast cells\": \"Glioma + WI-38 lung fibroblast cells\",\n",
    "            # \"functional hepatocytes generated by lineage reprogramming\": \"Hepatocytes\",\n",
    "            # \"human adipose-derived stem cells\": \"Adipose-derived stem cells\",\n",
    "            # \"adipose\": \"Adipose\",\n",
    "            # \"embryonic stem cells\": \"Embryonic stem cells\",\n",
    "            # \"primary keratinocytes\": \"Primary keratinocytes\",\n",
    "            # \"fetal liver\": \"Fetal liver\",\n",
    "            # \"in vitro differentiated erythroid cells\": \"Erythroid cells\",\n",
    "            # \"WAT\": \"White adipose tissue\",\n",
    "            # \"BAT\": \"Brown adipose tissue\",\n",
    "            # \"Uninvolved Breast Tissue Adjacent to ER+ Primary Tumor\": \"Breast tissue adjacent to ER+ tumor\",\n",
    "            # \"ovarian granulosa cells\": \"Ovarian granulosa cells\",\n",
    "        }\n",
    "    }\n",
    ")"
   ]
  },
  {
   "cell_type": "code",
   "execution_count": 92,
   "id": "05b40336-2b83-4724-8c35-28444ef100fe",
   "metadata": {},
   "outputs": [],
   "source": [
    "# sorte index to avoid PerformanceWarning from pandas\n",
    "final_plot_data = final_plot_data.sort_index()"
   ]
  },
  {
   "cell_type": "code",
   "execution_count": 93,
   "id": "e6f0fd5b-b12c-4d13-80b1-8d721397e2a5",
   "metadata": {},
   "outputs": [],
   "source": [
    "_srp_code = \"SRP008145\"\n",
    "\n",
    "_tmp = final_plot_data.loc[(_srp_code,)].apply(\n",
    "    lambda x: f\"{lv_data.loc[(_srp_code, x.name), 'sample type']} \"\n",
    "    + \"(CRE/IFNB \" + f\"{lv_data.loc[(_srp_code, x.name), 'reporter'].split(' ')[1]}\" + \")\",\n",
    "    axis=1,\n",
    ")\n",
    "final_plot_data.loc[(_srp_code, _tmp.index), SELECTED_ATTRIBUTE] = _tmp.values"
   ]
  },
  {
   "cell_type": "code",
   "execution_count": 94,
   "id": "entire-cradle",
   "metadata": {},
   "outputs": [],
   "source": [
    "# # take the top samples only\n",
    "# final_plot_data = final_plot_data.sort_values(LV_NAME, ascending=False)[:N_TOP_SAMPLES]"
   ]
  },
  {
   "cell_type": "markdown",
   "id": "italic-steel",
   "metadata": {},
   "source": [
    "## Threshold LV values"
   ]
  },
  {
   "cell_type": "code",
   "execution_count": 95,
   "id": "southern-offense",
   "metadata": {},
   "outputs": [],
   "source": [
    "if LV_AXIS_THRESHOLD is not None:\n",
    "    final_plot_data.loc[\n",
    "        final_plot_data[LV_NAME] > LV_AXIS_THRESHOLD, LV_NAME\n",
    "    ] = LV_AXIS_THRESHOLD"
   ]
  },
  {
   "cell_type": "markdown",
   "id": "still-pitch",
   "metadata": {},
   "source": [
    "## Delete samples with no tissue/cell type information"
   ]
  },
  {
   "cell_type": "code",
   "execution_count": 96,
   "id": "varying-pioneer",
   "metadata": {},
   "outputs": [],
   "source": [
    "# final_plot_data = final_plot_data[\n",
    "#     final_plot_data[SELECTED_ATTRIBUTE] != \"NOT CATEGORIZED\"\n",
    "# ]"
   ]
  },
  {
   "cell_type": "markdown",
   "id": "comparable-modem",
   "metadata": {},
   "source": [
    "## Set x-axis order"
   ]
  },
  {
   "cell_type": "code",
   "execution_count": 97,
   "id": "golden-bridge",
   "metadata": {},
   "outputs": [],
   "source": [
    "attr_order = (\n",
    "    final_plot_data.groupby(SELECTED_ATTRIBUTE)\n",
    "    .median()\n",
    "    .sort_values(LV_NAME, ascending=False)\n",
    "    .index[:N_TOP_ATTRS]\n",
    "    .tolist()\n",
    ")"
   ]
  },
  {
   "cell_type": "code",
   "execution_count": 98,
   "id": "expanded-enlargement",
   "metadata": {},
   "outputs": [
    {
     "data": {
      "text/plain": [
       "15"
      ]
     },
     "execution_count": 98,
     "metadata": {},
     "output_type": "execute_result"
    }
   ],
   "source": [
    "len(attr_order)"
   ]
  },
  {
   "cell_type": "code",
   "execution_count": 99,
   "id": "collectible-setup",
   "metadata": {},
   "outputs": [
    {
     "data": {
      "text/plain": [
       "['embyonic kidney cell line (CRE/IFNB single-hit)',\n",
       " 'embyonic kidney cell line (CRE/IFNB multi-hit)',\n",
       " 'X666',\n",
       " 'nasopharyngeal carcinoma',\n",
       " 'Hela']"
      ]
     },
     "execution_count": 99,
     "metadata": {},
     "output_type": "execute_result"
    }
   ],
   "source": [
    "attr_order[:5]"
   ]
  },
  {
   "cell_type": "markdown",
   "id": "patent-colors",
   "metadata": {},
   "source": [
    "## Plot"
   ]
  },
  {
   "cell_type": "code",
   "execution_count": 100,
   "id": "educated-arthritis",
   "metadata": {},
   "outputs": [
    {
     "data": {
      "image/png": "[encoded data removed]",
      "text/plain": [
       "<Figure size 1250x500 with 1 Axes>"
      ]
     },
     "metadata": {},
     "output_type": "display_data"
    }
   ],
   "source": [
    "with sns.plotting_context(\"paper\", font_scale=2.5), sns.axes_style(\"whitegrid\"):\n",
    "    g = sns.catplot(\n",
    "        data=final_plot_data,\n",
    "        y=LV_NAME,\n",
    "        x=SELECTED_ATTRIBUTE,\n",
    "        order=attr_order,\n",
    "        kind=\"strip\",\n",
    "        height=5,\n",
    "        aspect=2.5,\n",
    "    )\n",
    "    plt.xticks(rotation=45, horizontalalignment=\"right\")\n",
    "    plt.xlabel(\"\")\n",
    "\n",
    "    # plt.savefig(\n",
    "    #     OUTPUT_CELL_TYPE_FILEPATH,\n",
    "    #     bbox_inches=\"tight\",\n",
    "    #     facecolor=\"white\",\n",
    "    # )"
   ]
  },
  {
   "cell_type": "code",
   "execution_count": 140,
   "id": "634becb0-6ff3-44ae-8804-434bf55b5b1f",
   "metadata": {},
   "outputs": [],
   "source": [
    "# with sns.plotting_context(\"paper\", font_scale=2.5), sns.axes_style(\"whitegrid\"):\n",
    "#     g = sns.catplot(\n",
    "#         data=final_plot_data,\n",
    "#         y=LV_NAME,\n",
    "#         x=SELECTED_ATTRIBUTE,\n",
    "#         order=attr_order,\n",
    "#         kind=\"box\",\n",
    "#         height=5,\n",
    "#         aspect=2.5,\n",
    "#     )\n",
    "#     plt.xticks(rotation=45, horizontalalignment=\"right\")\n",
    "#     plt.xlabel(\"\")\n",
    "\n",
    "#     # plt.savefig(\n",
    "#     #     OUTPUT_CELL_TYPE_FILEPATH,\n",
    "#     #     bbox_inches=\"tight\",\n",
    "#     #     facecolor=\"white\",\n",
    "#     # )"
   ]
  },
  {
   "cell_type": "markdown",
   "id": "theoretical-raleigh",
   "metadata": {},
   "source": [
    "# Debug"
   ]
  },
  {
   "cell_type": "code",
   "execution_count": 107,
   "id": "suspended-tiffany",
   "metadata": {},
   "outputs": [
    {
     "data": {
      "text/html": [
       "<div>\n",
       "<style scoped>\n",
       "    .dataframe tbody tr th:only-of-type {\n",
       "        vertical-align: middle;\n",
       "    }\n",
       "\n",
       "    .dataframe tbody tr th {\n",
       "        vertical-align: top;\n",
       "    }\n",
       "\n",
       "    .dataframe thead th {\n",
       "        text-align: right;\n",
       "    }\n",
       "</style>\n",
       "<table border=\"1\" class=\"dataframe\">\n",
       "  <thead>\n",
       "    <tr style=\"text-align: right;\">\n",
       "      <th></th>\n",
       "      <th></th>\n",
       "      <th>cell line</th>\n",
       "      <th>LV149</th>\n",
       "    </tr>\n",
       "    <tr>\n",
       "      <th>project</th>\n",
       "      <th>run</th>\n",
       "      <th></th>\n",
       "      <th></th>\n",
       "    </tr>\n",
       "  </thead>\n",
       "  <tbody>\n",
       "    <tr>\n",
       "      <th rowspan=\"18\" valign=\"top\">SRP008145</th>\n",
       "      <th>SRR342849</th>\n",
       "      <td>embyonic kidney cell line (CRE/IFNB single-hit)</td>\n",
       "      <td>6.585554</td>\n",
       "    </tr>\n",
       "    <tr>\n",
       "      <th>SRR342848</th>\n",
       "      <td>embyonic kidney cell line (CRE/IFNB single-hit)</td>\n",
       "      <td>6.288785</td>\n",
       "    </tr>\n",
       "    <tr>\n",
       "      <th>SRR342850</th>\n",
       "      <td>embyonic kidney cell line (CRE/IFNB single-hit)</td>\n",
       "      <td>5.328337</td>\n",
       "    </tr>\n",
       "    <tr>\n",
       "      <th>SRR342862</th>\n",
       "      <td>embyonic kidney cell line (CRE/IFNB single-hit)</td>\n",
       "      <td>2.274500</td>\n",
       "    </tr>\n",
       "    <tr>\n",
       "      <th>SRR342861</th>\n",
       "      <td>embyonic kidney cell line (CRE/IFNB single-hit)</td>\n",
       "      <td>2.161695</td>\n",
       "    </tr>\n",
       "    <tr>\n",
       "      <th>SRR342846</th>\n",
       "      <td>embyonic kidney cell line (CRE/IFNB single-hit)</td>\n",
       "      <td>1.283884</td>\n",
       "    </tr>\n",
       "    <tr>\n",
       "      <th>SRR342842</th>\n",
       "      <td>embyonic kidney cell line (CRE/IFNB multi-hit)</td>\n",
       "      <td>0.999218</td>\n",
       "    </tr>\n",
       "    <tr>\n",
       "      <th>SRR342843</th>\n",
       "      <td>embyonic kidney cell line (CRE/IFNB multi-hit)</td>\n",
       "      <td>0.975461</td>\n",
       "    </tr>\n",
       "    <tr>\n",
       "      <th>SRR342841</th>\n",
       "      <td>embyonic kidney cell line (CRE/IFNB multi-hit)</td>\n",
       "      <td>0.897710</td>\n",
       "    </tr>\n",
       "    <tr>\n",
       "      <th>SRR342834</th>\n",
       "      <td>embyonic kidney cell line (CRE/IFNB multi-hit)</td>\n",
       "      <td>0.736388</td>\n",
       "    </tr>\n",
       "    <tr>\n",
       "      <th>SRR342857</th>\n",
       "      <td>embyonic kidney cell line (CRE/IFNB multi-hit)</td>\n",
       "      <td>0.697178</td>\n",
       "    </tr>\n",
       "    <tr>\n",
       "      <th>SRR342836</th>\n",
       "      <td>embyonic kidney cell line (CRE/IFNB multi-hit)</td>\n",
       "      <td>0.548193</td>\n",
       "    </tr>\n",
       "    <tr>\n",
       "      <th>SRR342835</th>\n",
       "      <td>embyonic kidney cell line (CRE/IFNB multi-hit)</td>\n",
       "      <td>0.515692</td>\n",
       "    </tr>\n",
       "    <tr>\n",
       "      <th>SRR342858</th>\n",
       "      <td>embyonic kidney cell line (CRE/IFNB multi-hit)</td>\n",
       "      <td>0.324433</td>\n",
       "    </tr>\n",
       "    <tr>\n",
       "      <th>SRR342854</th>\n",
       "      <td>embyonic kidney cell line (CRE/IFNB multi-hit)</td>\n",
       "      <td>0.167121</td>\n",
       "    </tr>\n",
       "    <tr>\n",
       "      <th>SRR342832</th>\n",
       "      <td>embyonic kidney cell line (CRE/IFNB multi-hit)</td>\n",
       "      <td>-0.031576</td>\n",
       "    </tr>\n",
       "    <tr>\n",
       "      <th>SRR342839</th>\n",
       "      <td>embyonic kidney cell line (CRE/IFNB multi-hit)</td>\n",
       "      <td>-0.069540</td>\n",
       "    </tr>\n",
       "    <tr>\n",
       "      <th>SRR342853</th>\n",
       "      <td>embyonic kidney cell line (CRE/IFNB multi-hit)</td>\n",
       "      <td>-0.167057</td>\n",
       "    </tr>\n",
       "  </tbody>\n",
       "</table>\n",
       "</div>"
      ],
      "text/plain": [
       "                                                           cell line     LV149\n",
       "project   run                                                                 \n",
       "SRP008145 SRR342849  embyonic kidney cell line (CRE/IFNB single-hit)  6.585554\n",
       "          SRR342848  embyonic kidney cell line (CRE/IFNB single-hit)  6.288785\n",
       "          SRR342850  embyonic kidney cell line (CRE/IFNB single-hit)  5.328337\n",
       "          SRR342862  embyonic kidney cell line (CRE/IFNB single-hit)  2.274500\n",
       "          SRR342861  embyonic kidney cell line (CRE/IFNB single-hit)  2.161695\n",
       "          SRR342846  embyonic kidney cell line (CRE/IFNB single-hit)  1.283884\n",
       "          SRR342842   embyonic kidney cell line (CRE/IFNB multi-hit)  0.999218\n",
       "          SRR342843   embyonic kidney cell line (CRE/IFNB multi-hit)  0.975461\n",
       "          SRR342841   embyonic kidney cell line (CRE/IFNB multi-hit)  0.897710\n",
       "          SRR342834   embyonic kidney cell line (CRE/IFNB multi-hit)  0.736388\n",
       "          SRR342857   embyonic kidney cell line (CRE/IFNB multi-hit)  0.697178\n",
       "          SRR342836   embyonic kidney cell line (CRE/IFNB multi-hit)  0.548193\n",
       "          SRR342835   embyonic kidney cell line (CRE/IFNB multi-hit)  0.515692\n",
       "          SRR342858   embyonic kidney cell line (CRE/IFNB multi-hit)  0.324433\n",
       "          SRR342854   embyonic kidney cell line (CRE/IFNB multi-hit)  0.167121\n",
       "          SRR342832   embyonic kidney cell line (CRE/IFNB multi-hit) -0.031576\n",
       "          SRR342839   embyonic kidney cell line (CRE/IFNB multi-hit) -0.069540\n",
       "          SRR342853   embyonic kidney cell line (CRE/IFNB multi-hit) -0.167057"
      ]
     },
     "metadata": {},
     "output_type": "display_data"
    }
   ],
   "source": [
    "with pd.option_context(\n",
    "    \"display.max_rows\", None, \"display.max_columns\", None, \"display.max_colwidth\", None\n",
    "):\n",
    "    _tmp = final_plot_data[final_plot_data[SELECTED_ATTRIBUTE].str.contains(\"CRE\")].sort_values(LV_NAME, ascending=False)\n",
    "    display(_tmp.head(20))"
   ]
  },
  {
   "cell_type": "code",
   "execution_count": 103,
   "id": "36a58987-df7e-49d0-ada6-59cbca368a5d",
   "metadata": {},
   "outputs": [
    {
     "data": {
      "text/html": [
       "<div>\n",
       "<style scoped>\n",
       "    .dataframe tbody tr th:only-of-type {\n",
       "        vertical-align: middle;\n",
       "    }\n",
       "\n",
       "    .dataframe tbody tr th {\n",
       "        vertical-align: top;\n",
       "    }\n",
       "\n",
       "    .dataframe thead th {\n",
       "        text-align: right;\n",
       "    }\n",
       "</style>\n",
       "<table border=\"1\" class=\"dataframe\">\n",
       "  <thead>\n",
       "    <tr style=\"text-align: right;\">\n",
       "      <th></th>\n",
       "      <th></th>\n",
       "      <th>cell line</th>\n",
       "      <th>sample type</th>\n",
       "      <th>LV149</th>\n",
       "    </tr>\n",
       "    <tr>\n",
       "      <th>project</th>\n",
       "      <th>run</th>\n",
       "      <th></th>\n",
       "      <th></th>\n",
       "      <th></th>\n",
       "    </tr>\n",
       "  </thead>\n",
       "  <tbody>\n",
       "    <tr>\n",
       "      <th rowspan=\"4\" valign=\"top\">SRP035477</th>\n",
       "      <th>SRR1178330</th>\n",
       "      <td>X666</td>\n",
       "      <td>undifferentiated Epstein-Barr virus (EBV)-posi...</td>\n",
       "      <td>0.124352</td>\n",
       "    </tr>\n",
       "    <tr>\n",
       "      <th>SRR1178329</th>\n",
       "      <td>C666</td>\n",
       "      <td>undifferentiated Epstein-Barr virus (EBV)-posi...</td>\n",
       "      <td>0.071878</td>\n",
       "    </tr>\n",
       "    <tr>\n",
       "      <th>SRR1178332</th>\n",
       "      <td>NP460</td>\n",
       "      <td>immortalized nasopharyngeal epithelial cell line</td>\n",
       "      <td>-0.001003</td>\n",
       "    </tr>\n",
       "    <tr>\n",
       "      <th>SRR1178331</th>\n",
       "      <td>HK1</td>\n",
       "      <td>well-differentiated NPC cell line</td>\n",
       "      <td>-0.003624</td>\n",
       "    </tr>\n",
       "  </tbody>\n",
       "</table>\n",
       "</div>"
      ],
      "text/plain": [
       "                     cell line  \\\n",
       "project   run                    \n",
       "SRP035477 SRR1178330      X666   \n",
       "          SRR1178329      C666   \n",
       "          SRR1178332     NP460   \n",
       "          SRR1178331       HK1   \n",
       "\n",
       "                                                            sample type  \\\n",
       "project   run                                                             \n",
       "SRP035477 SRR1178330  undifferentiated Epstein-Barr virus (EBV)-posi...   \n",
       "          SRR1178329  undifferentiated Epstein-Barr virus (EBV)-posi...   \n",
       "          SRR1178332   immortalized nasopharyngeal epithelial cell line   \n",
       "          SRR1178331                  well-differentiated NPC cell line   \n",
       "\n",
       "                         LV149  \n",
       "project   run                   \n",
       "SRP035477 SRR1178330  0.124352  \n",
       "          SRR1178329  0.071878  \n",
       "          SRR1178332 -0.001003  \n",
       "          SRR1178331 -0.003624  "
      ]
     },
     "metadata": {},
     "output_type": "display_data"
    }
   ],
   "source": [
    "# what is there in these projects?\n",
    "_tmp = lv_data.loc[[\"SRP035477\"]].dropna(how=\"all\", axis=1).sort_values(\n",
    "    LV_NAME, ascending=False\n",
    ")\n",
    "\n",
    "display(_tmp.head(60))"
   ]
  },
  {
   "cell_type": "code",
   "execution_count": 106,
   "id": "d1bab62e-6ce7-4c64-b96d-7a48eef1986f",
   "metadata": {},
   "outputs": [
    {
     "data": {
      "text/plain": [
       "'undifferentiated Epstein-Barr virus (EBV)-positive NPC xenograft'"
      ]
     },
     "execution_count": 106,
     "metadata": {},
     "output_type": "execute_result"
    }
   ],
   "source": [
    "_tmp.iloc[0][\"sample type\"]"
   ]
  },
  {
   "cell_type": "markdown",
   "id": "970d6358-61b9-47f7-ae75-c74334dafaec",
   "metadata": {},
   "source": [
    "# Reduced plot"
   ]
  },
  {
   "cell_type": "markdown",
   "id": "197ccfc1-4a83-414c-b54f-af2e8bdaedb9",
   "metadata": {},
   "source": [
    "## Data stats"
   ]
  },
  {
   "cell_type": "code",
   "execution_count": null,
   "id": "c3738a95-7a50-40f8-a8e0-796f4b1d6941",
   "metadata": {},
   "outputs": [],
   "source": [
    "plot_data_stats = final_plot_data.describe()[LV_NAME]\n",
    "display(plot_data_stats)"
   ]
  },
  {
   "cell_type": "code",
   "execution_count": null,
   "id": "d0663e41-dcef-4945-bc3e-2e80914ac195",
   "metadata": {},
   "outputs": [],
   "source": [
    "plot_data_stats_by_cell_type = (\n",
    "    final_plot_data.groupby(SELECTED_ATTRIBUTE)\n",
    "    .describe()[LV_NAME]\n",
    "    .sort_values(\"50%\", ascending=False)\n",
    ")\n",
    "display(plot_data_stats_by_cell_type)"
   ]
  },
  {
   "cell_type": "code",
   "execution_count": null,
   "id": "f3f5d34c-4ec8-4bd8-96a9-074001f758cc",
   "metadata": {},
   "outputs": [],
   "source": [
    "# keep cell types whose median is larger than the global median\n",
    "selected_cell_types = plot_data_stats_by_cell_type[\n",
    "    (plot_data_stats_by_cell_type[\"50%\"] > max(plot_data_stats.loc[\"50%\"], 0.0))\n",
    "].index\n",
    "display(selected_cell_types)"
   ]
  },
  {
   "cell_type": "code",
   "execution_count": null,
   "id": "72f0004d-ae43-423e-8b65-4f8b573c7568",
   "metadata": {},
   "outputs": [],
   "source": [
    "final_plot_data.shape"
   ]
  },
  {
   "cell_type": "code",
   "execution_count": null,
   "id": "15d5c347-8df5-432a-8b9f-8123cc0d367e",
   "metadata": {},
   "outputs": [],
   "source": [
    "final_plot_data = final_plot_data[\n",
    "    final_plot_data[SELECTED_ATTRIBUTE].isin(selected_cell_types)\n",
    "]"
   ]
  },
  {
   "cell_type": "code",
   "execution_count": null,
   "id": "f7842f3f-9af7-414d-a73b-c63d19314947",
   "metadata": {},
   "outputs": [],
   "source": [
    "final_plot_data.shape"
   ]
  },
  {
   "cell_type": "markdown",
   "id": "6e711fde-9aec-458a-9836-f1ef6fbe5b80",
   "metadata": {},
   "source": [
    "## Set x-axis order"
   ]
  },
  {
   "cell_type": "code",
   "execution_count": null,
   "id": "efd3e266-d2b3-4720-b9c9-e40b74dbcc97",
   "metadata": {},
   "outputs": [],
   "source": [
    "attr_order = (\n",
    "    final_plot_data.groupby(SELECTED_ATTRIBUTE)\n",
    "    .median()\n",
    "    .sort_values(LV_NAME, ascending=False)\n",
    "    .index[:N_TOP_ATTRS]\n",
    "    .tolist()\n",
    ")"
   ]
  },
  {
   "cell_type": "code",
   "execution_count": null,
   "id": "8ef26d0b-de69-40b1-8997-ddcf3e3e8778",
   "metadata": {},
   "outputs": [],
   "source": [
    "len(attr_order)"
   ]
  },
  {
   "cell_type": "code",
   "execution_count": null,
   "id": "73c395e8-c983-4f3b-9278-f0e1c58ae0f7",
   "metadata": {},
   "outputs": [],
   "source": [
    "attr_order[:5]"
   ]
  },
  {
   "cell_type": "markdown",
   "id": "1797ee1d-b9e7-4ccb-8454-513a58dff07d",
   "metadata": {},
   "source": [
    "## Plot"
   ]
  },
  {
   "cell_type": "code",
   "execution_count": null,
   "id": "515bd511-ad6d-4829-b9b7-0ee1e22d3c6d",
   "metadata": {},
   "outputs": [],
   "source": [
    "with sns.plotting_context(\"paper\", font_scale=2.5), sns.axes_style(\"whitegrid\"):\n",
    "    g = sns.catplot(\n",
    "        data=final_plot_data,\n",
    "        y=LV_NAME,\n",
    "        x=SELECTED_ATTRIBUTE,\n",
    "        order=attr_order,\n",
    "        kind=\"box\",\n",
    "        height=5,\n",
    "        aspect=2.5,\n",
    "    )\n",
    "    plt.xticks(rotation=45, horizontalalignment=\"right\")\n",
    "    plt.xlabel(\"\")\n",
    "\n",
    "    # plt.savefig(\n",
    "    #     OUTPUT_CELL_TYPE_FILEPATH,\n",
    "    #     bbox_inches=\"tight\",\n",
    "    #     facecolor=\"white\",\n",
    "    # )"
   ]
  },
  {
   "cell_type": "code",
   "execution_count": null,
   "id": "classified-overall",
   "metadata": {},
   "outputs": [],
   "source": []
  }
 ],
 "metadata": {
  "jupytext": {
   "cell_metadata_filter": "all,-execution,-papermill,-trusted",
   "formats": "ipynb,py//py:percent"
  },
  "kernelspec": {
   "display_name": "Python 3 (ipykernel)",
   "language": "python",
   "name": "python3"
  },
  "language_info": {
   "codemirror_mode": {
    "name": "ipython",
    "version": 3
   },
   "file_extension": ".py",
   "mimetype": "text/x-python",
   "name": "python",
   "nbconvert_exporter": "python",
   "pygments_lexer": "ipython3",
   "version": "3.10.6"
  },
  "toc-autonumbering": true
 },
 "nbformat": 4,
 "nbformat_minor": 5
}
