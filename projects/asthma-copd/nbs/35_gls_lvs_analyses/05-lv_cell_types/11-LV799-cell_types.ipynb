{
 "cells": [
  {
   "cell_type": "markdown",
   "id": "superior-virgin",
   "metadata": {
    "papermill": {
     "duration": 0.006593,
     "end_time": "2021-05-11T19:09:55.733221",
     "exception": false,
     "start_time": "2021-05-11T19:09:55.726628",
     "status": "completed"
    },
    "tags": []
   },
   "source": [
    "# Description"
   ]
  },
  {
   "cell_type": "markdown",
   "id": "successful-knight",
   "metadata": {
    "papermill": {
     "duration": 0.00668,
     "end_time": "2021-05-11T19:09:55.745410",
     "exception": false,
     "start_time": "2021-05-11T19:09:55.738730",
     "status": "completed"
    },
    "tags": []
   },
   "source": [
    "Generates the figure for top cell types for a specified LV (in Settings section below)."
   ]
  },
  {
   "cell_type": "markdown",
   "id": "compatible-weight",
   "metadata": {
    "papermill": {
     "duration": 0.006223,
     "end_time": "2021-05-11T19:09:55.756959",
     "exception": false,
     "start_time": "2021-05-11T19:09:55.750736",
     "status": "completed"
    },
    "tags": []
   },
   "source": [
    "# Modules loading"
   ]
  },
  {
   "cell_type": "code",
   "execution_count": 1,
   "id": "proper-chester",
   "metadata": {
    "papermill": {
     "duration": 0.993432,
     "end_time": "2021-05-11T19:09:56.780403",
     "exception": false,
     "start_time": "2021-05-11T19:09:55.786971",
     "status": "completed"
    },
    "tags": []
   },
   "outputs": [],
   "source": [
    "import re\n",
    "from pathlib import Path\n",
    "\n",
    "import pandas as pd\n",
    "import matplotlib.pyplot as plt\n",
    "import seaborn as sns\n",
    "\n",
    "from data.recount2 import LVAnalysis\n",
    "from utils import chunker\n",
    "import conf"
   ]
  },
  {
   "cell_type": "markdown",
   "id": "sized-butter",
   "metadata": {
    "papermill": {
     "duration": 0.005973,
     "end_time": "2021-05-11T19:09:56.792495",
     "exception": false,
     "start_time": "2021-05-11T19:09:56.786522",
     "status": "completed"
    },
    "tags": []
   },
   "source": [
    "# Settings"
   ]
  },
  {
   "cell_type": "code",
   "execution_count": 2,
   "id": "tender-contrary",
   "metadata": {
    "papermill": {
     "duration": 0.019548,
     "end_time": "2021-05-11T19:09:56.817689",
     "exception": false,
     "start_time": "2021-05-11T19:09:56.798141",
     "status": "completed"
    },
    "tags": [
     "parameters"
    ]
   },
   "outputs": [],
   "source": [
    "LV_NAME = \"LV799\""
   ]
  },
  {
   "cell_type": "code",
   "execution_count": 3,
   "id": "sunset-carbon",
   "metadata": {},
   "outputs": [],
   "source": [
    "LV_AXIS_THRESHOLD = None  # 3.0\n",
    "# LV_AXIS_THRESHOLD = 2.0\n",
    "N_TOP_SAMPLES = 400\n",
    "N_TOP_ATTRS = 15"
   ]
  },
  {
   "cell_type": "code",
   "execution_count": 4,
   "id": "proof-primary",
   "metadata": {},
   "outputs": [
    {
     "data": {
      "text/plain": [
       "PosixPath('/opt/manuscript/content/images/lvs_analysis/lv799')"
      ]
     },
     "metadata": {},
     "output_type": "display_data"
    }
   ],
   "source": [
    "OUTPUT_FIGURES_DIR = Path(\n",
    "    conf.MANUSCRIPT[\"FIGURES_DIR\"], \"lvs_analysis\", f\"{LV_NAME.lower()}\"\n",
    ").resolve()\n",
    "display(OUTPUT_FIGURES_DIR)\n",
    "OUTPUT_FIGURES_DIR.mkdir(parents=True, exist_ok=True)"
   ]
  },
  {
   "cell_type": "code",
   "execution_count": 5,
   "id": "three-crossing",
   "metadata": {},
   "outputs": [
    {
     "data": {
      "text/plain": [
       "PosixPath('/opt/manuscript/content/images/lvs_analysis/lv799/lv799-cell_types.svg')"
      ]
     },
     "metadata": {},
     "output_type": "display_data"
    }
   ],
   "source": [
    "OUTPUT_CELL_TYPE_FILEPATH = OUTPUT_FIGURES_DIR / f\"{LV_NAME.lower()}-cell_types.svg\"\n",
    "display(OUTPUT_CELL_TYPE_FILEPATH)"
   ]
  },
  {
   "cell_type": "markdown",
   "id": "invisible-madrid",
   "metadata": {
    "papermill": {
     "duration": 0.005592,
     "end_time": "2021-05-11T19:09:56.854406",
     "exception": false,
     "start_time": "2021-05-11T19:09:56.848814",
     "status": "completed"
    },
    "tags": []
   },
   "source": [
    "# Load MultiPLIER summary"
   ]
  },
  {
   "cell_type": "code",
   "execution_count": 6,
   "id": "coated-christmas",
   "metadata": {
    "papermill": {
     "duration": 0.020251,
     "end_time": "2021-05-11T19:09:56.880435",
     "exception": false,
     "start_time": "2021-05-11T19:09:56.860184",
     "status": "completed"
    },
    "tags": []
   },
   "outputs": [],
   "source": [
    "multiplier_model_summary = pd.read_pickle(conf.MULTIPLIER[\"MODEL_SUMMARY_FILE\"])"
   ]
  },
  {
   "cell_type": "code",
   "execution_count": 7,
   "id": "stopped-driving",
   "metadata": {
    "papermill": {
     "duration": 0.02062,
     "end_time": "2021-05-11T19:09:56.906744",
     "exception": false,
     "start_time": "2021-05-11T19:09:56.886124",
     "status": "completed"
    },
    "tags": []
   },
   "outputs": [
    {
     "data": {
      "text/plain": [
       "(2157, 5)"
      ]
     },
     "execution_count": 7,
     "metadata": {},
     "output_type": "execute_result"
    }
   ],
   "source": [
    "multiplier_model_summary.shape"
   ]
  },
  {
   "cell_type": "code",
   "execution_count": 8,
   "id": "rural-grove",
   "metadata": {
    "papermill": {
     "duration": 0.024737,
     "end_time": "2021-05-11T19:09:56.937493",
     "exception": false,
     "start_time": "2021-05-11T19:09:56.912756",
     "status": "completed"
    },
    "tags": []
   },
   "outputs": [
    {
     "data": {
      "text/html": [
       "<div>\n",
       "<style scoped>\n",
       "    .dataframe tbody tr th:only-of-type {\n",
       "        vertical-align: middle;\n",
       "    }\n",
       "\n",
       "    .dataframe tbody tr th {\n",
       "        vertical-align: top;\n",
       "    }\n",
       "\n",
       "    .dataframe thead th {\n",
       "        text-align: right;\n",
       "    }\n",
       "</style>\n",
       "<table border=\"1\" class=\"dataframe\">\n",
       "  <thead>\n",
       "    <tr style=\"text-align: right;\">\n",
       "      <th></th>\n",
       "      <th>pathway</th>\n",
       "      <th>LV index</th>\n",
       "      <th>AUC</th>\n",
       "      <th>p-value</th>\n",
       "      <th>FDR</th>\n",
       "    </tr>\n",
       "  </thead>\n",
       "  <tbody>\n",
       "    <tr>\n",
       "      <th>1</th>\n",
       "      <td>KEGG_LYSINE_DEGRADATION</td>\n",
       "      <td>1</td>\n",
       "      <td>0.388059</td>\n",
       "      <td>0.866078</td>\n",
       "      <td>0.956005</td>\n",
       "    </tr>\n",
       "    <tr>\n",
       "      <th>2</th>\n",
       "      <td>REACTOME_MRNA_SPLICING</td>\n",
       "      <td>1</td>\n",
       "      <td>0.733057</td>\n",
       "      <td>0.000048</td>\n",
       "      <td>0.000582</td>\n",
       "    </tr>\n",
       "    <tr>\n",
       "      <th>3</th>\n",
       "      <td>MIPS_NOP56P_ASSOCIATED_PRE_RRNA_COMPLEX</td>\n",
       "      <td>1</td>\n",
       "      <td>0.680555</td>\n",
       "      <td>0.001628</td>\n",
       "      <td>0.011366</td>\n",
       "    </tr>\n",
       "    <tr>\n",
       "      <th>4</th>\n",
       "      <td>KEGG_DNA_REPLICATION</td>\n",
       "      <td>1</td>\n",
       "      <td>0.549473</td>\n",
       "      <td>0.312155</td>\n",
       "      <td>0.539951</td>\n",
       "    </tr>\n",
       "    <tr>\n",
       "      <th>5</th>\n",
       "      <td>PID_MYC_ACTIVPATHWAY</td>\n",
       "      <td>1</td>\n",
       "      <td>0.639303</td>\n",
       "      <td>0.021702</td>\n",
       "      <td>0.083739</td>\n",
       "    </tr>\n",
       "  </tbody>\n",
       "</table>\n",
       "</div>"
      ],
      "text/plain": [
       "                                   pathway LV index       AUC   p-value  \\\n",
       "1                  KEGG_LYSINE_DEGRADATION        1  0.388059  0.866078   \n",
       "2                   REACTOME_MRNA_SPLICING        1  0.733057  0.000048   \n",
       "3  MIPS_NOP56P_ASSOCIATED_PRE_RRNA_COMPLEX        1  0.680555  0.001628   \n",
       "4                     KEGG_DNA_REPLICATION        1  0.549473  0.312155   \n",
       "5                     PID_MYC_ACTIVPATHWAY        1  0.639303  0.021702   \n",
       "\n",
       "        FDR  \n",
       "1  0.956005  \n",
       "2  0.000582  \n",
       "3  0.011366  \n",
       "4  0.539951  \n",
       "5  0.083739  "
      ]
     },
     "execution_count": 8,
     "metadata": {},
     "output_type": "execute_result"
    }
   ],
   "source": [
    "multiplier_model_summary.head()"
   ]
  },
  {
   "cell_type": "markdown",
   "id": "neural-expression",
   "metadata": {
    "papermill": {
     "duration": 0.006007,
     "end_time": "2021-05-11T19:09:56.949763",
     "exception": false,
     "start_time": "2021-05-11T19:09:56.943756",
     "status": "completed"
    },
    "tags": []
   },
   "source": [
    "# Load data"
   ]
  },
  {
   "cell_type": "markdown",
   "id": "military-enlargement",
   "metadata": {
    "papermill": {
     "duration": 0.005873,
     "end_time": "2021-05-11T19:09:56.961602",
     "exception": false,
     "start_time": "2021-05-11T19:09:56.955729",
     "status": "completed"
    },
    "tags": []
   },
   "source": [
    "## Original data"
   ]
  },
  {
   "cell_type": "code",
   "execution_count": 9,
   "id": "distinguished-elements",
   "metadata": {
    "papermill": {
     "duration": 0.019571,
     "end_time": "2021-05-11T19:09:56.987255",
     "exception": false,
     "start_time": "2021-05-11T19:09:56.967684",
     "status": "completed"
    },
    "tags": []
   },
   "outputs": [],
   "source": [
    "# INPUT_SUBSET = \"z_score_std\""
   ]
  },
  {
   "cell_type": "code",
   "execution_count": 10,
   "id": "elementary-court",
   "metadata": {
    "papermill": {
     "duration": 0.019175,
     "end_time": "2021-05-11T19:09:57.025099",
     "exception": false,
     "start_time": "2021-05-11T19:09:57.005924",
     "status": "completed"
    },
    "tags": []
   },
   "outputs": [],
   "source": [
    "# INPUT_STEM = \"projection-smultixcan-efo_partial-mashr-zscores\""
   ]
  },
  {
   "cell_type": "code",
   "execution_count": 11,
   "id": "yellow-stand",
   "metadata": {
    "papermill": {
     "duration": 0.020992,
     "end_time": "2021-05-11T19:09:57.052255",
     "exception": false,
     "start_time": "2021-05-11T19:09:57.031263",
     "status": "completed"
    },
    "tags": []
   },
   "outputs": [],
   "source": [
    "# input_filepath = Path(\n",
    "#     conf.RESULTS[\"DATA_TRANSFORMATIONS_DIR\"],\n",
    "#     INPUT_SUBSET,\n",
    "#     f\"{INPUT_SUBSET}-{INPUT_STEM}.pkl\",\n",
    "# ).resolve()\n",
    "# display(input_filepath)\n",
    "\n",
    "# assert input_filepath.exists(), \"Input file does not exist\"\n",
    "\n",
    "# input_filepath_stem = input_filepath.stem\n",
    "# display(input_filepath_stem)"
   ]
  },
  {
   "cell_type": "code",
   "execution_count": 12,
   "id": "perfect-cruise",
   "metadata": {
    "papermill": {
     "duration": 0.032337,
     "end_time": "2021-05-11T19:09:57.090585",
     "exception": false,
     "start_time": "2021-05-11T19:09:57.058248",
     "status": "completed"
    },
    "tags": []
   },
   "outputs": [],
   "source": [
    "# data = pd.read_pickle(input_filepath)"
   ]
  },
  {
   "cell_type": "code",
   "execution_count": 13,
   "id": "medieval-junction",
   "metadata": {
    "papermill": {
     "duration": 0.01967,
     "end_time": "2021-05-11T19:09:57.116292",
     "exception": false,
     "start_time": "2021-05-11T19:09:57.096622",
     "status": "completed"
    },
    "tags": []
   },
   "outputs": [],
   "source": [
    "# data.shape"
   ]
  },
  {
   "cell_type": "code",
   "execution_count": 14,
   "id": "charitable-craps",
   "metadata": {
    "papermill": {
     "duration": 0.031843,
     "end_time": "2021-05-11T19:09:57.154356",
     "exception": false,
     "start_time": "2021-05-11T19:09:57.122513",
     "status": "completed"
    },
    "tags": []
   },
   "outputs": [],
   "source": [
    "# data.head()"
   ]
  },
  {
   "cell_type": "markdown",
   "id": "architectural-flooring",
   "metadata": {},
   "source": [
    "## LV data"
   ]
  },
  {
   "cell_type": "code",
   "execution_count": 15,
   "id": "suited-employer",
   "metadata": {},
   "outputs": [],
   "source": [
    "# lv_obj = LVAnalysis(LV_NAME, data)\n",
    "lv_obj = LVAnalysis(LV_NAME)"
   ]
  },
  {
   "cell_type": "code",
   "execution_count": 16,
   "id": "noted-little",
   "metadata": {},
   "outputs": [
    {
     "data": {
      "text/html": [
       "<div>\n",
       "<style scoped>\n",
       "    .dataframe tbody tr th:only-of-type {\n",
       "        vertical-align: middle;\n",
       "    }\n",
       "\n",
       "    .dataframe tbody tr th {\n",
       "        vertical-align: top;\n",
       "    }\n",
       "\n",
       "    .dataframe thead th {\n",
       "        text-align: right;\n",
       "    }\n",
       "</style>\n",
       "<table border=\"1\" class=\"dataframe\">\n",
       "  <thead>\n",
       "    <tr style=\"text-align: right;\">\n",
       "      <th></th>\n",
       "      <th>pathway</th>\n",
       "      <th>LV index</th>\n",
       "      <th>AUC</th>\n",
       "      <th>p-value</th>\n",
       "      <th>FDR</th>\n",
       "    </tr>\n",
       "  </thead>\n",
       "  <tbody>\n",
       "  </tbody>\n",
       "</table>\n",
       "</div>"
      ],
      "text/plain": [
       "Empty DataFrame\n",
       "Columns: [pathway, LV index, AUC, p-value, FDR]\n",
       "Index: []"
      ]
     },
     "execution_count": 16,
     "metadata": {},
     "output_type": "execute_result"
    }
   ],
   "source": [
    "multiplier_model_summary[\n",
    "    multiplier_model_summary[\"LV index\"].isin((LV_NAME[2:],))\n",
    "    & (\n",
    "        (multiplier_model_summary[\"FDR\"] < 0.05)\n",
    "        | (multiplier_model_summary[\"AUC\"] >= 0.75)\n",
    "    )\n",
    "]"
   ]
  },
  {
   "cell_type": "code",
   "execution_count": 17,
   "id": "assigned-weekly",
   "metadata": {},
   "outputs": [
    {
     "name": "stdout",
     "output_type": "stream",
     "text": [
      "SRP041036, SRP027015, SRP041819, SRP061329, SRP018838, SRP021509, SRP020491, SRP050499, SRP051320, SRP052740, SRP064464, SRP055569, SRP060416, SRP014428, SRP011578, SRP057196, SRP040577, SRP063840, SRP059039, SRP029739, SRP016003, SRP030617, SRP055390, SRP008930, SRP020492, SRP007885, SRP022260, SRP058773, SRP032754, SRP019241, SRP060355, SRP043339, SRP033393, SRP045711, SRP042218, SRP059057, SRP001540, SRP028301, SRP048577, SRP042161, SRP007525, SRP048660, SRP029889, SRP001563, SRP007461, SRP043078, SRP056696, SRP055009, SRP047476, SRP039694, SRP061241, SRP055675, SRP050551, SRP030041, SRP012461, SRP048820, SRP057205, SRP066834, SRP013450, SRP014688, SRP012557, SRP018853, "
     ]
    },
    {
     "name": "stderr",
     "output_type": "stream",
     "text": [
      "/opt/code/libs/data/recount2.py:360: UserWarning: Not all experiments data could be loaded (60 != 62)\n",
      "  warnings.warn(\n"
     ]
    }
   ],
   "source": [
    "lv_data = lv_obj.get_experiments_data()"
   ]
  },
  {
   "cell_type": "code",
   "execution_count": 18,
   "id": "guilty-medicaid",
   "metadata": {},
   "outputs": [
    {
     "data": {
      "text/plain": [
       "(6504, 98)"
      ]
     },
     "execution_count": 18,
     "metadata": {},
     "output_type": "execute_result"
    }
   ],
   "source": [
    "lv_data.shape"
   ]
  },
  {
   "cell_type": "code",
   "execution_count": 19,
   "id": "neural-cambridge",
   "metadata": {},
   "outputs": [
    {
     "data": {
      "text/html": [
       "<div>\n",
       "<style scoped>\n",
       "    .dataframe tbody tr th:only-of-type {\n",
       "        vertical-align: middle;\n",
       "    }\n",
       "\n",
       "    .dataframe tbody tr th {\n",
       "        vertical-align: top;\n",
       "    }\n",
       "\n",
       "    .dataframe thead th {\n",
       "        text-align: right;\n",
       "    }\n",
       "</style>\n",
       "<table border=\"1\" class=\"dataframe\">\n",
       "  <thead>\n",
       "    <tr style=\"text-align: right;\">\n",
       "      <th></th>\n",
       "      <th></th>\n",
       "      <th>tissue source</th>\n",
       "      <th>cell line</th>\n",
       "      <th>treatment</th>\n",
       "      <th>timepoint</th>\n",
       "      <th>cycloheximide</th>\n",
       "      <th>time point</th>\n",
       "      <th>sample type</th>\n",
       "      <th>cell type</th>\n",
       "      <th>phenotype</th>\n",
       "      <th>passage</th>\n",
       "      <th>...</th>\n",
       "      <th>ssea4</th>\n",
       "      <th>tra160</th>\n",
       "      <th>Stage</th>\n",
       "      <th>antibody vendor/catalog#</th>\n",
       "      <th>directional rnaseq</th>\n",
       "      <th>experiment</th>\n",
       "      <th>individual</th>\n",
       "      <th>assay</th>\n",
       "      <th>status</th>\n",
       "      <th>LV799</th>\n",
       "    </tr>\n",
       "    <tr>\n",
       "      <th>project</th>\n",
       "      <th>run</th>\n",
       "      <th></th>\n",
       "      <th></th>\n",
       "      <th></th>\n",
       "      <th></th>\n",
       "      <th></th>\n",
       "      <th></th>\n",
       "      <th></th>\n",
       "      <th></th>\n",
       "      <th></th>\n",
       "      <th></th>\n",
       "      <th></th>\n",
       "      <th></th>\n",
       "      <th></th>\n",
       "      <th></th>\n",
       "      <th></th>\n",
       "      <th></th>\n",
       "      <th></th>\n",
       "      <th></th>\n",
       "      <th></th>\n",
       "      <th></th>\n",
       "      <th></th>\n",
       "    </tr>\n",
       "  </thead>\n",
       "  <tbody>\n",
       "    <tr>\n",
       "      <th rowspan=\"5\" valign=\"top\">SRP041036</th>\n",
       "      <th>SRR1223541</th>\n",
       "      <td>bone marrow</td>\n",
       "      <td>JJN3</td>\n",
       "      <td>Control</td>\n",
       "      <td>4hr</td>\n",
       "      <td>NaN</td>\n",
       "      <td>NaN</td>\n",
       "      <td>NaN</td>\n",
       "      <td>NaN</td>\n",
       "      <td>NaN</td>\n",
       "      <td>NaN</td>\n",
       "      <td>...</td>\n",
       "      <td>NaN</td>\n",
       "      <td>NaN</td>\n",
       "      <td>NaN</td>\n",
       "      <td>NaN</td>\n",
       "      <td>NaN</td>\n",
       "      <td>NaN</td>\n",
       "      <td>NaN</td>\n",
       "      <td>NaN</td>\n",
       "      <td>NaN</td>\n",
       "      <td>0.301096</td>\n",
       "    </tr>\n",
       "    <tr>\n",
       "      <th>SRR1223542</th>\n",
       "      <td>bone marrow</td>\n",
       "      <td>JJN3</td>\n",
       "      <td>LBH.589</td>\n",
       "      <td>4hr</td>\n",
       "      <td>NaN</td>\n",
       "      <td>NaN</td>\n",
       "      <td>NaN</td>\n",
       "      <td>NaN</td>\n",
       "      <td>NaN</td>\n",
       "      <td>NaN</td>\n",
       "      <td>...</td>\n",
       "      <td>NaN</td>\n",
       "      <td>NaN</td>\n",
       "      <td>NaN</td>\n",
       "      <td>NaN</td>\n",
       "      <td>NaN</td>\n",
       "      <td>NaN</td>\n",
       "      <td>NaN</td>\n",
       "      <td>NaN</td>\n",
       "      <td>NaN</td>\n",
       "      <td>0.263358</td>\n",
       "    </tr>\n",
       "    <tr>\n",
       "      <th>SRR1223543</th>\n",
       "      <td>bone marrow</td>\n",
       "      <td>JJN3</td>\n",
       "      <td>5.AZA</td>\n",
       "      <td>4hr</td>\n",
       "      <td>NaN</td>\n",
       "      <td>NaN</td>\n",
       "      <td>NaN</td>\n",
       "      <td>NaN</td>\n",
       "      <td>NaN</td>\n",
       "      <td>NaN</td>\n",
       "      <td>...</td>\n",
       "      <td>NaN</td>\n",
       "      <td>NaN</td>\n",
       "      <td>NaN</td>\n",
       "      <td>NaN</td>\n",
       "      <td>NaN</td>\n",
       "      <td>NaN</td>\n",
       "      <td>NaN</td>\n",
       "      <td>NaN</td>\n",
       "      <td>NaN</td>\n",
       "      <td>0.235380</td>\n",
       "    </tr>\n",
       "    <tr>\n",
       "      <th>SRR1223544</th>\n",
       "      <td>bone marrow</td>\n",
       "      <td>JJN3</td>\n",
       "      <td>Combo</td>\n",
       "      <td>4hr</td>\n",
       "      <td>NaN</td>\n",
       "      <td>NaN</td>\n",
       "      <td>NaN</td>\n",
       "      <td>NaN</td>\n",
       "      <td>NaN</td>\n",
       "      <td>NaN</td>\n",
       "      <td>...</td>\n",
       "      <td>NaN</td>\n",
       "      <td>NaN</td>\n",
       "      <td>NaN</td>\n",
       "      <td>NaN</td>\n",
       "      <td>NaN</td>\n",
       "      <td>NaN</td>\n",
       "      <td>NaN</td>\n",
       "      <td>NaN</td>\n",
       "      <td>NaN</td>\n",
       "      <td>0.236506</td>\n",
       "    </tr>\n",
       "    <tr>\n",
       "      <th>SRR1223545</th>\n",
       "      <td>bone marrow</td>\n",
       "      <td>JJN3</td>\n",
       "      <td>NMP</td>\n",
       "      <td>4hr</td>\n",
       "      <td>NaN</td>\n",
       "      <td>NaN</td>\n",
       "      <td>NaN</td>\n",
       "      <td>NaN</td>\n",
       "      <td>NaN</td>\n",
       "      <td>NaN</td>\n",
       "      <td>...</td>\n",
       "      <td>NaN</td>\n",
       "      <td>NaN</td>\n",
       "      <td>NaN</td>\n",
       "      <td>NaN</td>\n",
       "      <td>NaN</td>\n",
       "      <td>NaN</td>\n",
       "      <td>NaN</td>\n",
       "      <td>NaN</td>\n",
       "      <td>NaN</td>\n",
       "      <td>0.208384</td>\n",
       "    </tr>\n",
       "  </tbody>\n",
       "</table>\n",
       "<p>5 rows × 98 columns</p>\n",
       "</div>"
      ],
      "text/plain": [
       "                     tissue source cell line treatment timepoint  \\\n",
       "project   run                                                      \n",
       "SRP041036 SRR1223541   bone marrow      JJN3   Control       4hr   \n",
       "          SRR1223542   bone marrow      JJN3   LBH.589       4hr   \n",
       "          SRR1223543   bone marrow      JJN3     5.AZA       4hr   \n",
       "          SRR1223544   bone marrow      JJN3     Combo       4hr   \n",
       "          SRR1223545   bone marrow      JJN3       NMP       4hr   \n",
       "\n",
       "                     cycloheximide time point sample type cell type phenotype  \\\n",
       "project   run                                                                   \n",
       "SRP041036 SRR1223541           NaN        NaN         NaN       NaN       NaN   \n",
       "          SRR1223542           NaN        NaN         NaN       NaN       NaN   \n",
       "          SRR1223543           NaN        NaN         NaN       NaN       NaN   \n",
       "          SRR1223544           NaN        NaN         NaN       NaN       NaN   \n",
       "          SRR1223545           NaN        NaN         NaN       NaN       NaN   \n",
       "\n",
       "                     passage  ... ssea4 tra160 Stage antibody vendor/catalog#  \\\n",
       "project   run                 ...                                               \n",
       "SRP041036 SRR1223541     NaN  ...   NaN    NaN   NaN                      NaN   \n",
       "          SRR1223542     NaN  ...   NaN    NaN   NaN                      NaN   \n",
       "          SRR1223543     NaN  ...   NaN    NaN   NaN                      NaN   \n",
       "          SRR1223544     NaN  ...   NaN    NaN   NaN                      NaN   \n",
       "          SRR1223545     NaN  ...   NaN    NaN   NaN                      NaN   \n",
       "\n",
       "                     directional rnaseq experiment individual assay status  \\\n",
       "project   run                                                                \n",
       "SRP041036 SRR1223541                NaN        NaN        NaN   NaN    NaN   \n",
       "          SRR1223542                NaN        NaN        NaN   NaN    NaN   \n",
       "          SRR1223543                NaN        NaN        NaN   NaN    NaN   \n",
       "          SRR1223544                NaN        NaN        NaN   NaN    NaN   \n",
       "          SRR1223545                NaN        NaN        NaN   NaN    NaN   \n",
       "\n",
       "                         LV799  \n",
       "project   run                   \n",
       "SRP041036 SRR1223541  0.301096  \n",
       "          SRR1223542  0.263358  \n",
       "          SRR1223543  0.235380  \n",
       "          SRR1223544  0.236506  \n",
       "          SRR1223545  0.208384  \n",
       "\n",
       "[5 rows x 98 columns]"
      ]
     },
     "execution_count": 19,
     "metadata": {},
     "output_type": "execute_result"
    }
   ],
   "source": [
    "lv_data.head()"
   ]
  },
  {
   "cell_type": "markdown",
   "id": "civil-yugoslavia",
   "metadata": {},
   "source": [
    "# LV cell types analysis"
   ]
  },
  {
   "cell_type": "markdown",
   "id": "roman-hotel",
   "metadata": {},
   "source": [
    "## Get top attributes"
   ]
  },
  {
   "cell_type": "code",
   "execution_count": 20,
   "id": "pressed-oxide",
   "metadata": {},
   "outputs": [
    {
     "data": {
      "text/plain": [
       "tissue source         0.697671\n",
       "timepoint             0.697671\n",
       "treatment             0.144082\n",
       "cell line             0.089638\n",
       "cycloheximide         0.068640\n",
       "sample type           0.038576\n",
       "passage               0.030872\n",
       "time point            0.017055\n",
       "phenotype             0.014467\n",
       "overexpression        0.010219\n",
       "labexpid              0.008908\n",
       "condition             0.005233\n",
       "assigned cell type    0.004164\n",
       "ercc_dilution         0.004164\n",
       "ercc_mix              0.004164\n",
       "qc pass               0.004164\n",
       "cell count            0.004164\n",
       "individual            0.003890\n",
       "assay                 0.003890\n",
       "genotype/variation    0.003701\n",
       "dtype: float64"
      ]
     },
     "metadata": {},
     "output_type": "display_data"
    }
   ],
   "source": [
    "lv_attrs = lv_obj.get_attributes_variation_score()\n",
    "display(lv_attrs.head(20))"
   ]
  },
  {
   "cell_type": "code",
   "execution_count": 21,
   "id": "creative-privacy",
   "metadata": {},
   "outputs": [
    {
     "data": {
      "text/plain": [
       "cell type    0.002308\n",
       "tissue       0.001219\n",
       "dtype: float64"
      ]
     },
     "execution_count": 21,
     "metadata": {},
     "output_type": "execute_result"
    }
   ],
   "source": [
    "# show those with cell type or tissue in their name\n",
    "_tmp = pd.Series(lv_attrs.index)\n",
    "lv_attrs[\n",
    "    _tmp.str.match(\n",
    "        \"(?:cell.+type$)|(?:tissue$)|(?:tissue.+type$)\",\n",
    "        case=False,\n",
    "        flags=re.IGNORECASE,\n",
    "    ).values\n",
    "].sort_values(ascending=False)"
   ]
  },
  {
   "cell_type": "code",
   "execution_count": 22,
   "id": "distinguished-thinking",
   "metadata": {},
   "outputs": [],
   "source": [
    "_tmp = lv_data.loc[\n",
    "    :,\n",
    "    [\n",
    "        \"tissue source\",\n",
    "        \"cell line\",\n",
    "        \"cell type\",\n",
    "        \"tissue\",\n",
    "        LV_NAME,\n",
    "    ],\n",
    "]"
   ]
  },
  {
   "cell_type": "code",
   "execution_count": 23,
   "id": "civil-cooperation",
   "metadata": {},
   "outputs": [],
   "source": [
    "_tmp_seq = list(chunker(_tmp.sort_values(LV_NAME, ascending=False), 25))"
   ]
  },
  {
   "cell_type": "code",
   "execution_count": 24,
   "id": "dressed-enemy",
   "metadata": {},
   "outputs": [
    {
     "data": {
      "text/html": [
       "<div>\n",
       "<style scoped>\n",
       "    .dataframe tbody tr th:only-of-type {\n",
       "        vertical-align: middle;\n",
       "    }\n",
       "\n",
       "    .dataframe tbody tr th {\n",
       "        vertical-align: top;\n",
       "    }\n",
       "\n",
       "    .dataframe thead th {\n",
       "        text-align: right;\n",
       "    }\n",
       "</style>\n",
       "<table border=\"1\" class=\"dataframe\">\n",
       "  <thead>\n",
       "    <tr style=\"text-align: right;\">\n",
       "      <th></th>\n",
       "      <th></th>\n",
       "      <th>tissue source</th>\n",
       "      <th>cell line</th>\n",
       "      <th>cell type</th>\n",
       "      <th>tissue</th>\n",
       "      <th>LV799</th>\n",
       "    </tr>\n",
       "    <tr>\n",
       "      <th>project</th>\n",
       "      <th>run</th>\n",
       "      <th></th>\n",
       "      <th></th>\n",
       "      <th></th>\n",
       "      <th></th>\n",
       "      <th></th>\n",
       "    </tr>\n",
       "  </thead>\n",
       "  <tbody>\n",
       "    <tr>\n",
       "      <th rowspan=\"3\" valign=\"top\">SRP061329</th>\n",
       "      <th>SRR2107337</th>\n",
       "      <td>NaN</td>\n",
       "      <td>MOLP-8</td>\n",
       "      <td>NaN</td>\n",
       "      <td>NaN</td>\n",
       "      <td>0.360735</td>\n",
       "    </tr>\n",
       "    <tr>\n",
       "      <th>SRR2107336</th>\n",
       "      <td>NaN</td>\n",
       "      <td>MOLP-8</td>\n",
       "      <td>NaN</td>\n",
       "      <td>NaN</td>\n",
       "      <td>0.351320</td>\n",
       "    </tr>\n",
       "    <tr>\n",
       "      <th>SRR2107335</th>\n",
       "      <td>NaN</td>\n",
       "      <td>MOLP-8</td>\n",
       "      <td>NaN</td>\n",
       "      <td>NaN</td>\n",
       "      <td>0.349604</td>\n",
       "    </tr>\n",
       "    <tr>\n",
       "      <th>SRP041036</th>\n",
       "      <th>SRR1223572</th>\n",
       "      <td>bone marrow</td>\n",
       "      <td>JJN3</td>\n",
       "      <td>NaN</td>\n",
       "      <td>NaN</td>\n",
       "      <td>0.348948</td>\n",
       "    </tr>\n",
       "    <tr>\n",
       "      <th>SRP027015</th>\n",
       "      <th>SRR931822</th>\n",
       "      <td>NaN</td>\n",
       "      <td>NaN</td>\n",
       "      <td>NaN</td>\n",
       "      <td>NaN</td>\n",
       "      <td>0.347864</td>\n",
       "    </tr>\n",
       "    <tr>\n",
       "      <th rowspan=\"5\" valign=\"top\">SRP041036</th>\n",
       "      <th>SRR1223594</th>\n",
       "      <td>bone marrow</td>\n",
       "      <td>JJN3</td>\n",
       "      <td>NaN</td>\n",
       "      <td>NaN</td>\n",
       "      <td>0.343060</td>\n",
       "    </tr>\n",
       "    <tr>\n",
       "      <th>SRR1223573</th>\n",
       "      <td>bone marrow</td>\n",
       "      <td>JJN3</td>\n",
       "      <td>NaN</td>\n",
       "      <td>NaN</td>\n",
       "      <td>0.331773</td>\n",
       "    </tr>\n",
       "    <tr>\n",
       "      <th>SRR1223551</th>\n",
       "      <td>bone marrow</td>\n",
       "      <td>JJN3</td>\n",
       "      <td>NaN</td>\n",
       "      <td>NaN</td>\n",
       "      <td>0.327182</td>\n",
       "    </tr>\n",
       "    <tr>\n",
       "      <th>SRR1223591</th>\n",
       "      <td>bone marrow</td>\n",
       "      <td>JJN3</td>\n",
       "      <td>NaN</td>\n",
       "      <td>NaN</td>\n",
       "      <td>0.318520</td>\n",
       "    </tr>\n",
       "    <tr>\n",
       "      <th>SRR1223575</th>\n",
       "      <td>bone marrow</td>\n",
       "      <td>JJN3</td>\n",
       "      <td>NaN</td>\n",
       "      <td>NaN</td>\n",
       "      <td>0.317625</td>\n",
       "    </tr>\n",
       "    <tr>\n",
       "      <th>SRP020491</th>\n",
       "      <th>SRR805752</th>\n",
       "      <td>NaN</td>\n",
       "      <td>NaN</td>\n",
       "      <td>circulating B cells</td>\n",
       "      <td>NaN</td>\n",
       "      <td>0.314099</td>\n",
       "    </tr>\n",
       "    <tr>\n",
       "      <th rowspan=\"4\" valign=\"top\">SRP041036</th>\n",
       "      <th>SRR1223555</th>\n",
       "      <td>bone marrow</td>\n",
       "      <td>JJN3</td>\n",
       "      <td>NaN</td>\n",
       "      <td>NaN</td>\n",
       "      <td>0.306255</td>\n",
       "    </tr>\n",
       "    <tr>\n",
       "      <th>SRR1223561</th>\n",
       "      <td>bone marrow</td>\n",
       "      <td>JJN3</td>\n",
       "      <td>NaN</td>\n",
       "      <td>NaN</td>\n",
       "      <td>0.303568</td>\n",
       "    </tr>\n",
       "    <tr>\n",
       "      <th>SRR1223595</th>\n",
       "      <td>bone marrow</td>\n",
       "      <td>JJN3</td>\n",
       "      <td>NaN</td>\n",
       "      <td>NaN</td>\n",
       "      <td>0.302896</td>\n",
       "    </tr>\n",
       "    <tr>\n",
       "      <th>SRR1223541</th>\n",
       "      <td>bone marrow</td>\n",
       "      <td>JJN3</td>\n",
       "      <td>NaN</td>\n",
       "      <td>NaN</td>\n",
       "      <td>0.301096</td>\n",
       "    </tr>\n",
       "    <tr>\n",
       "      <th>SRP027015</th>\n",
       "      <th>SRR931815</th>\n",
       "      <td>NaN</td>\n",
       "      <td>NaN</td>\n",
       "      <td>NaN</td>\n",
       "      <td>NaN</td>\n",
       "      <td>0.298945</td>\n",
       "    </tr>\n",
       "    <tr>\n",
       "      <th>SRP050499</th>\n",
       "      <th>SRR2013650</th>\n",
       "      <td>NaN</td>\n",
       "      <td>NaN</td>\n",
       "      <td>NaN</td>\n",
       "      <td>NaN</td>\n",
       "      <td>0.295602</td>\n",
       "    </tr>\n",
       "    <tr>\n",
       "      <th>SRP018838</th>\n",
       "      <th>SRR764786</th>\n",
       "      <td>NaN</td>\n",
       "      <td>GM12878</td>\n",
       "      <td>NaN</td>\n",
       "      <td>NaN</td>\n",
       "      <td>0.290846</td>\n",
       "    </tr>\n",
       "    <tr>\n",
       "      <th>SRP051320</th>\n",
       "      <th>SRR1723088</th>\n",
       "      <td>NaN</td>\n",
       "      <td>LP-1</td>\n",
       "      <td>NaN</td>\n",
       "      <td>NaN</td>\n",
       "      <td>0.288261</td>\n",
       "    </tr>\n",
       "    <tr>\n",
       "      <th>SRP041036</th>\n",
       "      <th>SRR1223553</th>\n",
       "      <td>bone marrow</td>\n",
       "      <td>JJN3</td>\n",
       "      <td>NaN</td>\n",
       "      <td>NaN</td>\n",
       "      <td>0.287861</td>\n",
       "    </tr>\n",
       "    <tr>\n",
       "      <th>SRP051320</th>\n",
       "      <th>SRR1723091</th>\n",
       "      <td>NaN</td>\n",
       "      <td>LP-1</td>\n",
       "      <td>NaN</td>\n",
       "      <td>NaN</td>\n",
       "      <td>0.287646</td>\n",
       "    </tr>\n",
       "    <tr>\n",
       "      <th>SRP041036</th>\n",
       "      <th>SRR1223593</th>\n",
       "      <td>bone marrow</td>\n",
       "      <td>JJN3</td>\n",
       "      <td>NaN</td>\n",
       "      <td>NaN</td>\n",
       "      <td>0.287473</td>\n",
       "    </tr>\n",
       "    <tr>\n",
       "      <th>SRP051320</th>\n",
       "      <th>SRR1723092</th>\n",
       "      <td>NaN</td>\n",
       "      <td>LP-1</td>\n",
       "      <td>NaN</td>\n",
       "      <td>NaN</td>\n",
       "      <td>0.287081</td>\n",
       "    </tr>\n",
       "    <tr>\n",
       "      <th>SRP052740</th>\n",
       "      <th>SRR1768898</th>\n",
       "      <td>NaN</td>\n",
       "      <td>NaN</td>\n",
       "      <td>melanoma</td>\n",
       "      <td>NaN</td>\n",
       "      <td>0.286241</td>\n",
       "    </tr>\n",
       "    <tr>\n",
       "      <th>SRP051320</th>\n",
       "      <th>SRR1723086</th>\n",
       "      <td>NaN</td>\n",
       "      <td>LP-1</td>\n",
       "      <td>NaN</td>\n",
       "      <td>NaN</td>\n",
       "      <td>0.285515</td>\n",
       "    </tr>\n",
       "  </tbody>\n",
       "</table>\n",
       "</div>"
      ],
      "text/plain": [
       "                     tissue source cell line            cell type tissue  \\\n",
       "project   run                                                              \n",
       "SRP061329 SRR2107337           NaN    MOLP-8                  NaN    NaN   \n",
       "          SRR2107336           NaN    MOLP-8                  NaN    NaN   \n",
       "          SRR2107335           NaN    MOLP-8                  NaN    NaN   \n",
       "SRP041036 SRR1223572   bone marrow      JJN3                  NaN    NaN   \n",
       "SRP027015 SRR931822            NaN       NaN                  NaN    NaN   \n",
       "SRP041036 SRR1223594   bone marrow      JJN3                  NaN    NaN   \n",
       "          SRR1223573   bone marrow      JJN3                  NaN    NaN   \n",
       "          SRR1223551   bone marrow      JJN3                  NaN    NaN   \n",
       "          SRR1223591   bone marrow      JJN3                  NaN    NaN   \n",
       "          SRR1223575   bone marrow      JJN3                  NaN    NaN   \n",
       "SRP020491 SRR805752            NaN       NaN  circulating B cells    NaN   \n",
       "SRP041036 SRR1223555   bone marrow      JJN3                  NaN    NaN   \n",
       "          SRR1223561   bone marrow      JJN3                  NaN    NaN   \n",
       "          SRR1223595   bone marrow      JJN3                  NaN    NaN   \n",
       "          SRR1223541   bone marrow      JJN3                  NaN    NaN   \n",
       "SRP027015 SRR931815            NaN       NaN                  NaN    NaN   \n",
       "SRP050499 SRR2013650           NaN       NaN                  NaN    NaN   \n",
       "SRP018838 SRR764786            NaN   GM12878                  NaN    NaN   \n",
       "SRP051320 SRR1723088           NaN      LP-1                  NaN    NaN   \n",
       "SRP041036 SRR1223553   bone marrow      JJN3                  NaN    NaN   \n",
       "SRP051320 SRR1723091           NaN      LP-1                  NaN    NaN   \n",
       "SRP041036 SRR1223593   bone marrow      JJN3                  NaN    NaN   \n",
       "SRP051320 SRR1723092           NaN      LP-1                  NaN    NaN   \n",
       "SRP052740 SRR1768898           NaN       NaN             melanoma    NaN   \n",
       "SRP051320 SRR1723086           NaN      LP-1                  NaN    NaN   \n",
       "\n",
       "                         LV799  \n",
       "project   run                   \n",
       "SRP061329 SRR2107337  0.360735  \n",
       "          SRR2107336  0.351320  \n",
       "          SRR2107335  0.349604  \n",
       "SRP041036 SRR1223572  0.348948  \n",
       "SRP027015 SRR931822   0.347864  \n",
       "SRP041036 SRR1223594  0.343060  \n",
       "          SRR1223573  0.331773  \n",
       "          SRR1223551  0.327182  \n",
       "          SRR1223591  0.318520  \n",
       "          SRR1223575  0.317625  \n",
       "SRP020491 SRR805752   0.314099  \n",
       "SRP041036 SRR1223555  0.306255  \n",
       "          SRR1223561  0.303568  \n",
       "          SRR1223595  0.302896  \n",
       "          SRR1223541  0.301096  \n",
       "SRP027015 SRR931815   0.298945  \n",
       "SRP050499 SRR2013650  0.295602  \n",
       "SRP018838 SRR764786   0.290846  \n",
       "SRP051320 SRR1723088  0.288261  \n",
       "SRP041036 SRR1223553  0.287861  \n",
       "SRP051320 SRR1723091  0.287646  \n",
       "SRP041036 SRR1223593  0.287473  \n",
       "SRP051320 SRR1723092  0.287081  \n",
       "SRP052740 SRR1768898  0.286241  \n",
       "SRP051320 SRR1723086  0.285515  "
      ]
     },
     "execution_count": 24,
     "metadata": {},
     "output_type": "execute_result"
    }
   ],
   "source": [
    "_tmp_seq[2]"
   ]
  },
  {
   "cell_type": "code",
   "execution_count": 25,
   "id": "grateful-cuisine",
   "metadata": {},
   "outputs": [
    {
     "data": {
      "text/html": [
       "<div>\n",
       "<style scoped>\n",
       "    .dataframe tbody tr th:only-of-type {\n",
       "        vertical-align: middle;\n",
       "    }\n",
       "\n",
       "    .dataframe tbody tr th {\n",
       "        vertical-align: top;\n",
       "    }\n",
       "\n",
       "    .dataframe thead th {\n",
       "        text-align: right;\n",
       "    }\n",
       "</style>\n",
       "<table border=\"1\" class=\"dataframe\">\n",
       "  <thead>\n",
       "    <tr style=\"text-align: right;\">\n",
       "      <th></th>\n",
       "      <th></th>\n",
       "      <th>cycloheximide</th>\n",
       "      <th>time point</th>\n",
       "      <th>sample type</th>\n",
       "      <th>LV799</th>\n",
       "    </tr>\n",
       "    <tr>\n",
       "      <th>project</th>\n",
       "      <th>run</th>\n",
       "      <th></th>\n",
       "      <th></th>\n",
       "      <th></th>\n",
       "      <th></th>\n",
       "    </tr>\n",
       "  </thead>\n",
       "  <tbody>\n",
       "    <tr>\n",
       "      <th rowspan=\"10\" valign=\"top\">SRP027015</th>\n",
       "      <th>SRR931814</th>\n",
       "      <td>none</td>\n",
       "      <td>0h (untreated)</td>\n",
       "      <td>poly(A) mRNA</td>\n",
       "      <td>0.799245</td>\n",
       "    </tr>\n",
       "    <tr>\n",
       "      <th>SRR931816</th>\n",
       "      <td>none</td>\n",
       "      <td>1.5h</td>\n",
       "      <td>poly(A) mRNA</td>\n",
       "      <td>0.740098</td>\n",
       "    </tr>\n",
       "    <tr>\n",
       "      <th>SRR931818</th>\n",
       "      <td>none</td>\n",
       "      <td>3h</td>\n",
       "      <td>poly(A) mRNA</td>\n",
       "      <td>0.650010</td>\n",
       "    </tr>\n",
       "    <tr>\n",
       "      <th>SRR931820</th>\n",
       "      <td>none</td>\n",
       "      <td>6h</td>\n",
       "      <td>poly(A) mRNA</td>\n",
       "      <td>0.410846</td>\n",
       "    </tr>\n",
       "    <tr>\n",
       "      <th>SRR931822</th>\n",
       "      <td>none</td>\n",
       "      <td>9h</td>\n",
       "      <td>poly(A) mRNA</td>\n",
       "      <td>0.347864</td>\n",
       "    </tr>\n",
       "    <tr>\n",
       "      <th>SRR931815</th>\n",
       "      <td>0.1 mg/mL cycloheximide</td>\n",
       "      <td>0h (untreated)</td>\n",
       "      <td>ribosome footprint</td>\n",
       "      <td>0.298945</td>\n",
       "    </tr>\n",
       "    <tr>\n",
       "      <th>SRR931819</th>\n",
       "      <td>0.1 mg/mL cycloheximide</td>\n",
       "      <td>3h</td>\n",
       "      <td>ribosome footprint</td>\n",
       "      <td>0.246081</td>\n",
       "    </tr>\n",
       "    <tr>\n",
       "      <th>SRR931824</th>\n",
       "      <td>none</td>\n",
       "      <td>12h</td>\n",
       "      <td>poly(A) mRNA</td>\n",
       "      <td>0.214638</td>\n",
       "    </tr>\n",
       "    <tr>\n",
       "      <th>SRR931821</th>\n",
       "      <td>0.1 mg/mL cycloheximide</td>\n",
       "      <td>6h</td>\n",
       "      <td>ribosome footprint</td>\n",
       "      <td>0.177244</td>\n",
       "    </tr>\n",
       "    <tr>\n",
       "      <th>SRR931817</th>\n",
       "      <td>0.1 mg/mL cycloheximide</td>\n",
       "      <td>1.5h</td>\n",
       "      <td>ribosome footprint</td>\n",
       "      <td>0.174359</td>\n",
       "    </tr>\n",
       "  </tbody>\n",
       "</table>\n",
       "</div>"
      ],
      "text/plain": [
       "                               cycloheximide      time point  \\\n",
       "project   run                                                  \n",
       "SRP027015 SRR931814                     none  0h (untreated)   \n",
       "          SRR931816                     none            1.5h   \n",
       "          SRR931818                     none              3h   \n",
       "          SRR931820                     none              6h   \n",
       "          SRR931822                     none              9h   \n",
       "          SRR931815  0.1 mg/mL cycloheximide  0h (untreated)   \n",
       "          SRR931819  0.1 mg/mL cycloheximide              3h   \n",
       "          SRR931824                     none             12h   \n",
       "          SRR931821  0.1 mg/mL cycloheximide              6h   \n",
       "          SRR931817  0.1 mg/mL cycloheximide            1.5h   \n",
       "\n",
       "                            sample type     LV799  \n",
       "project   run                                      \n",
       "SRP027015 SRR931814        poly(A) mRNA  0.799245  \n",
       "          SRR931816        poly(A) mRNA  0.740098  \n",
       "          SRR931818        poly(A) mRNA  0.650010  \n",
       "          SRR931820        poly(A) mRNA  0.410846  \n",
       "          SRR931822        poly(A) mRNA  0.347864  \n",
       "          SRR931815  ribosome footprint  0.298945  \n",
       "          SRR931819  ribosome footprint  0.246081  \n",
       "          SRR931824        poly(A) mRNA  0.214638  \n",
       "          SRR931821  ribosome footprint  0.177244  \n",
       "          SRR931817  ribosome footprint  0.174359  "
      ]
     },
     "execution_count": 25,
     "metadata": {},
     "output_type": "execute_result"
    }
   ],
   "source": [
    "# what is there in these projects?\n",
    "lv_data.loc[[\"SRP027015\"]].dropna(how=\"all\", axis=1).sort_values(\n",
    "    LV_NAME, ascending=False\n",
    ").sort_values(LV_NAME, ascending=False).head(10)"
   ]
  },
  {
   "cell_type": "code",
   "execution_count": 26,
   "id": "stylish-network",
   "metadata": {},
   "outputs": [],
   "source": [
    "SELECTED_ATTRIBUTE = \"tissue source\""
   ]
  },
  {
   "cell_type": "code",
   "execution_count": 27,
   "id": "turkish-valley",
   "metadata": {},
   "outputs": [],
   "source": [
    "# it has to be in the order desired for filling nans in the SELECTED_ATTRIBUTE\n",
    "SECOND_ATTRIBUTES = [\"cell type\", \"cell line\"]"
   ]
  },
  {
   "cell_type": "markdown",
   "id": "victorian-bidding",
   "metadata": {},
   "source": [
    "## Get plot data"
   ]
  },
  {
   "cell_type": "code",
   "execution_count": 28,
   "id": "jewish-weekend",
   "metadata": {},
   "outputs": [],
   "source": [
    "plot_data = lv_data.loc[:, [SELECTED_ATTRIBUTE] + SECOND_ATTRIBUTES + [LV_NAME]]"
   ]
  },
  {
   "cell_type": "code",
   "execution_count": 29,
   "id": "genuine-hierarchy",
   "metadata": {},
   "outputs": [],
   "source": [
    "# if blank/nan, fill cell type column with tissue content\n",
    "_new_column = plot_data[[SELECTED_ATTRIBUTE] + SECOND_ATTRIBUTES].fillna(\n",
    "    method=\"backfill\", axis=1\n",
    ")[SELECTED_ATTRIBUTE]\n",
    "plot_data[SELECTED_ATTRIBUTE] = _new_column\n",
    "plot_data = plot_data.drop(columns=SECOND_ATTRIBUTES)\n",
    "plot_data = plot_data.fillna({SELECTED_ATTRIBUTE: \"NOT CATEGORIZED\"})\n",
    "# plot_data = plot_data.dropna(subset=[SELECTED_ATTRIBUTE])"
   ]
  },
  {
   "cell_type": "code",
   "execution_count": 30,
   "id": "light-smart",
   "metadata": {},
   "outputs": [],
   "source": [
    "plot_data = plot_data.sort_values(LV_NAME, ascending=False)"
   ]
  },
  {
   "cell_type": "code",
   "execution_count": 31,
   "id": "fitted-button",
   "metadata": {},
   "outputs": [
    {
     "data": {
      "text/html": [
       "<div>\n",
       "<style scoped>\n",
       "    .dataframe tbody tr th:only-of-type {\n",
       "        vertical-align: middle;\n",
       "    }\n",
       "\n",
       "    .dataframe tbody tr th {\n",
       "        vertical-align: top;\n",
       "    }\n",
       "\n",
       "    .dataframe thead th {\n",
       "        text-align: right;\n",
       "    }\n",
       "</style>\n",
       "<table border=\"1\" class=\"dataframe\">\n",
       "  <thead>\n",
       "    <tr style=\"text-align: right;\">\n",
       "      <th></th>\n",
       "      <th></th>\n",
       "      <th>tissue source</th>\n",
       "      <th>LV799</th>\n",
       "    </tr>\n",
       "    <tr>\n",
       "      <th>project</th>\n",
       "      <th>run</th>\n",
       "      <th></th>\n",
       "      <th></th>\n",
       "    </tr>\n",
       "  </thead>\n",
       "  <tbody>\n",
       "    <tr>\n",
       "      <th rowspan=\"20\" valign=\"top\">SRP041036</th>\n",
       "      <th>SRR1223586</th>\n",
       "      <td>peripheral blood</td>\n",
       "      <td>2.395650</td>\n",
       "    </tr>\n",
       "    <tr>\n",
       "      <th>SRR1223576</th>\n",
       "      <td>peripheral blood</td>\n",
       "      <td>2.364392</td>\n",
       "    </tr>\n",
       "    <tr>\n",
       "      <th>SRR1223566</th>\n",
       "      <td>peripheral blood</td>\n",
       "      <td>2.310441</td>\n",
       "    </tr>\n",
       "    <tr>\n",
       "      <th>SRR1223596</th>\n",
       "      <td>peripheral blood</td>\n",
       "      <td>2.268940</td>\n",
       "    </tr>\n",
       "    <tr>\n",
       "      <th>SRR1223587</th>\n",
       "      <td>peripheral blood</td>\n",
       "      <td>2.178015</td>\n",
       "    </tr>\n",
       "    <tr>\n",
       "      <th>SRR1223588</th>\n",
       "      <td>peripheral blood</td>\n",
       "      <td>2.169669</td>\n",
       "    </tr>\n",
       "    <tr>\n",
       "      <th>SRR1223578</th>\n",
       "      <td>peripheral blood</td>\n",
       "      <td>2.162259</td>\n",
       "    </tr>\n",
       "    <tr>\n",
       "      <th>SRR1223568</th>\n",
       "      <td>peripheral blood</td>\n",
       "      <td>2.157781</td>\n",
       "    </tr>\n",
       "    <tr>\n",
       "      <th>SRR1223546</th>\n",
       "      <td>peripheral blood</td>\n",
       "      <td>2.148394</td>\n",
       "    </tr>\n",
       "    <tr>\n",
       "      <th>SRR1223598</th>\n",
       "      <td>peripheral blood</td>\n",
       "      <td>2.118455</td>\n",
       "    </tr>\n",
       "    <tr>\n",
       "      <th>SRR1223590</th>\n",
       "      <td>peripheral blood</td>\n",
       "      <td>2.077341</td>\n",
       "    </tr>\n",
       "    <tr>\n",
       "      <th>SRR1223570</th>\n",
       "      <td>peripheral blood</td>\n",
       "      <td>2.060424</td>\n",
       "    </tr>\n",
       "    <tr>\n",
       "      <th>SRR1223556</th>\n",
       "      <td>peripheral blood</td>\n",
       "      <td>2.045684</td>\n",
       "    </tr>\n",
       "    <tr>\n",
       "      <th>SRR1223558</th>\n",
       "      <td>peripheral blood</td>\n",
       "      <td>2.013075</td>\n",
       "    </tr>\n",
       "    <tr>\n",
       "      <th>SRR1223548</th>\n",
       "      <td>peripheral blood</td>\n",
       "      <td>1.941864</td>\n",
       "    </tr>\n",
       "    <tr>\n",
       "      <th>SRR1223567</th>\n",
       "      <td>peripheral blood</td>\n",
       "      <td>1.921841</td>\n",
       "    </tr>\n",
       "    <tr>\n",
       "      <th>SRR1223589</th>\n",
       "      <td>peripheral blood</td>\n",
       "      <td>1.921836</td>\n",
       "    </tr>\n",
       "    <tr>\n",
       "      <th>SRR1223550</th>\n",
       "      <td>peripheral blood</td>\n",
       "      <td>1.789092</td>\n",
       "    </tr>\n",
       "    <tr>\n",
       "      <th>SRR1223547</th>\n",
       "      <td>peripheral blood</td>\n",
       "      <td>1.777438</td>\n",
       "    </tr>\n",
       "    <tr>\n",
       "      <th>SRR1223597</th>\n",
       "      <td>peripheral blood</td>\n",
       "      <td>1.728821</td>\n",
       "    </tr>\n",
       "  </tbody>\n",
       "</table>\n",
       "</div>"
      ],
      "text/plain": [
       "                         tissue source     LV799\n",
       "project   run                                   \n",
       "SRP041036 SRR1223586  peripheral blood  2.395650\n",
       "          SRR1223576  peripheral blood  2.364392\n",
       "          SRR1223566  peripheral blood  2.310441\n",
       "          SRR1223596  peripheral blood  2.268940\n",
       "          SRR1223587  peripheral blood  2.178015\n",
       "          SRR1223588  peripheral blood  2.169669\n",
       "          SRR1223578  peripheral blood  2.162259\n",
       "          SRR1223568  peripheral blood  2.157781\n",
       "          SRR1223546  peripheral blood  2.148394\n",
       "          SRR1223598  peripheral blood  2.118455\n",
       "          SRR1223590  peripheral blood  2.077341\n",
       "          SRR1223570  peripheral blood  2.060424\n",
       "          SRR1223556  peripheral blood  2.045684\n",
       "          SRR1223558  peripheral blood  2.013075\n",
       "          SRR1223548  peripheral blood  1.941864\n",
       "          SRR1223567  peripheral blood  1.921841\n",
       "          SRR1223589  peripheral blood  1.921836\n",
       "          SRR1223550  peripheral blood  1.789092\n",
       "          SRR1223547  peripheral blood  1.777438\n",
       "          SRR1223597  peripheral blood  1.728821"
      ]
     },
     "execution_count": 31,
     "metadata": {},
     "output_type": "execute_result"
    }
   ],
   "source": [
    "plot_data.head(20)"
   ]
  },
  {
   "cell_type": "markdown",
   "id": "casual-prerequisite",
   "metadata": {},
   "source": [
    "## Customize x-axis values"
   ]
  },
  {
   "cell_type": "markdown",
   "id": "traditional-psychology",
   "metadata": {},
   "source": [
    "When cell type values are not very clear, customize their names by looking at their specific studies to know exactly what the authors meant."
   ]
  },
  {
   "cell_type": "code",
   "execution_count": 32,
   "id": "official-capacity",
   "metadata": {},
   "outputs": [],
   "source": [
    "final_plot_data = plot_data.replace(\n",
    "    {\n",
    "        SELECTED_ATTRIBUTE: {\n",
    "            # \"human bone marrow sample\": \"bone marrow\",\n",
    "            # \"whole blood\": \"Whole blood\",\n",
    "            \"peripheral blood\": \"Peripheral blood\",\n",
    "            # \"peripheral whole blood\": \"Peripheral blood\",\n",
    "            # \"breast cancer\": \"Breast cancer\",\n",
    "            # \"breast cancer cell line\": \"Breast cancer\",\n",
    "            # SRP057196\n",
    "            # \"fetal_replicating\": \"Fetal neurons (replicating)\",\n",
    "            # \"fetal_quiescent\": \"Fetal neurons (quiescent)\",\n",
    "            # \"normal skin\": \"Skin\",\n",
    "            # \"liver\": \"Liver\",\n",
    "            # \"Human Skeletal Muscle Myoblasts (HSMM)\": \"Skeletal muscle myoblasts\",\n",
    "            # \"astrocytes\": \"Astrocytes\",\n",
    "            # \"mixture of U87 human glioma cells and MCF10a human breast cancer cells\": \"Glioma + MCF10 breast cancer cells\",\n",
    "            # \"mixture of U87 human glioma cells and WI-38 human lung fibroblast cells\": \"Glioma + WI-38 lung fibroblast cells\",\n",
    "            # \"functional hepatocytes generated by lineage reprogramming\": \"Hepatocytes\",\n",
    "            # \"human adipose-derived stem cells\": \"Adipose-derived stem cells\",\n",
    "            # \"adipose\": \"Adipose\",\n",
    "            # \"embryonic stem cells\": \"Embryonic stem cells\",\n",
    "            # \"primary keratinocytes\": \"Primary keratinocytes\",\n",
    "            # \"fetal liver\": \"Fetal liver\",\n",
    "            # \"in vitro differentiated erythroid cells\": \"Erythroid cells\",\n",
    "            # \"WAT\": \"White adipose tissue\",\n",
    "            # \"BAT\": \"Brown adipose tissue\",\n",
    "            # \"Uninvolved Breast Tissue Adjacent to ER+ Primary Tumor\": \"Breast tissue adjacent to ER+ tumor\",\n",
    "            # \"ovarian granulosa cells\": \"Ovarian granulosa cells\",\n",
    "        }\n",
    "    }\n",
    ")"
   ]
  },
  {
   "cell_type": "code",
   "execution_count": 33,
   "id": "05b40336-2b83-4724-8c35-28444ef100fe",
   "metadata": {},
   "outputs": [],
   "source": [
    "# sorte index to avoid PerformanceWarning from pandas\n",
    "final_plot_data = final_plot_data.sort_index()"
   ]
  },
  {
   "cell_type": "code",
   "execution_count": 34,
   "id": "9a85cdb9-85d6-414b-aecf-56804f529bd3",
   "metadata": {},
   "outputs": [],
   "source": [
    "_srp_code = \"SRP027015\"\n",
    "_tmp = final_plot_data.loc[(_srp_code,)].apply(\n",
    "    lambda x: \"Peripheral blood (MM.1S)\",\n",
    "    # + f\" ({lv_data.loc[(_srp_code, x.name), 'facs gating']})\",\n",
    "    axis=1,\n",
    ")\n",
    "final_plot_data.loc[(_srp_code, _tmp.index), SELECTED_ATTRIBUTE] = _tmp.values"
   ]
  },
  {
   "cell_type": "code",
   "execution_count": 35,
   "id": "592fb6fa-5540-4202-bda9-0fb993c27532",
   "metadata": {},
   "outputs": [],
   "source": [
    "_srp_code = \"SRP061329\"\n",
    "_tmp = final_plot_data.loc[(_srp_code,)].apply(\n",
    "    lambda x: \"Peripheral blood\"\n",
    "    + f\" ({lv_data.loc[(_srp_code, x.name), 'cell line']})\",\n",
    "    axis=1,\n",
    ")\n",
    "final_plot_data.loc[(_srp_code, _tmp.index), SELECTED_ATTRIBUTE] = _tmp.values"
   ]
  },
  {
   "cell_type": "code",
   "execution_count": 36,
   "id": "a9faea52-3d40-496a-b1ae-9e48dca2d593",
   "metadata": {},
   "outputs": [],
   "source": [
    "_srp_code = \"SRP041036\"\n",
    "_tmp = final_plot_data.loc[(_srp_code,)].apply(\n",
    "    lambda x: x[SELECTED_ATTRIBUTE]\n",
    "    + f\" ({lv_data.loc[(_srp_code, x.name), 'cell line']})\",\n",
    "    axis=1,\n",
    ")\n",
    "final_plot_data.loc[(_srp_code, _tmp.index), SELECTED_ATTRIBUTE] = _tmp.values"
   ]
  },
  {
   "cell_type": "code",
   "execution_count": 37,
   "id": "371406dd-7a18-4a4c-91de-4c84e2a3d900",
   "metadata": {},
   "outputs": [],
   "source": [
    "_srp_code = \"SRP018838\"\n",
    "_tmp = final_plot_data.loc[(_srp_code,)].apply(\n",
    "    lambda x: \"Blood\"\n",
    "    + f\" ({lv_data.loc[(_srp_code, x.name), 'cell line']})\",\n",
    "    axis=1,\n",
    ")\n",
    "final_plot_data.loc[(_srp_code, _tmp.index), SELECTED_ATTRIBUTE] = _tmp.values"
   ]
  },
  {
   "cell_type": "code",
   "execution_count": 38,
   "id": "entire-cradle",
   "metadata": {},
   "outputs": [],
   "source": [
    "# # take the top samples only\n",
    "# final_plot_data = final_plot_data.sort_values(LV_NAME, ascending=False)[:N_TOP_SAMPLES]"
   ]
  },
  {
   "cell_type": "markdown",
   "id": "italic-steel",
   "metadata": {},
   "source": [
    "## Threshold LV values"
   ]
  },
  {
   "cell_type": "code",
   "execution_count": 39,
   "id": "southern-offense",
   "metadata": {},
   "outputs": [],
   "source": [
    "if LV_AXIS_THRESHOLD is not None:\n",
    "    final_plot_data.loc[\n",
    "        final_plot_data[LV_NAME] > LV_AXIS_THRESHOLD, LV_NAME\n",
    "    ] = LV_AXIS_THRESHOLD"
   ]
  },
  {
   "cell_type": "markdown",
   "id": "still-pitch",
   "metadata": {},
   "source": [
    "## Delete samples with no tissue/cell type information"
   ]
  },
  {
   "cell_type": "code",
   "execution_count": 40,
   "id": "varying-pioneer",
   "metadata": {},
   "outputs": [],
   "source": [
    "# final_plot_data = final_plot_data[\n",
    "#     final_plot_data[SELECTED_ATTRIBUTE] != \"NOT CATEGORIZED\"\n",
    "# ]"
   ]
  },
  {
   "cell_type": "markdown",
   "id": "comparable-modem",
   "metadata": {},
   "source": [
    "## Set x-axis order"
   ]
  },
  {
   "cell_type": "code",
   "execution_count": 41,
   "id": "golden-bridge",
   "metadata": {},
   "outputs": [],
   "source": [
    "attr_order = (\n",
    "    final_plot_data.groupby(SELECTED_ATTRIBUTE)\n",
    "    .max()\n",
    "    .sort_values(LV_NAME, ascending=False)\n",
    "    .index[:N_TOP_ATTRS]\n",
    "    .tolist()\n",
    ")"
   ]
  },
  {
   "cell_type": "code",
   "execution_count": 42,
   "id": "expanded-enlargement",
   "metadata": {},
   "outputs": [
    {
     "data": {
      "text/plain": [
       "15"
      ]
     },
     "execution_count": 42,
     "metadata": {},
     "output_type": "execute_result"
    }
   ],
   "source": [
    "len(attr_order)"
   ]
  },
  {
   "cell_type": "code",
   "execution_count": 43,
   "id": "collectible-setup",
   "metadata": {},
   "outputs": [
    {
     "data": {
      "text/plain": [
       "['Peripheral blood (U266)',\n",
       " 'Peripheral blood (MM.1S)',\n",
       " 'Multiple myeloma',\n",
       " 'Peripheral blood (MOLP-8)',\n",
       " 'Blood (GM12878)']"
      ]
     },
     "execution_count": 43,
     "metadata": {},
     "output_type": "execute_result"
    }
   ],
   "source": [
    "attr_order[:5]"
   ]
  },
  {
   "cell_type": "markdown",
   "id": "patent-colors",
   "metadata": {},
   "source": [
    "## Plot"
   ]
  },
  {
   "cell_type": "code",
   "execution_count": 44,
   "id": "educated-arthritis",
   "metadata": {},
   "outputs": [
    {
     "data": {
      "image/png": "[encoded data removed]",
      "text/plain": [
       "<Figure size 1250x500 with 1 Axes>"
      ]
     },
     "metadata": {},
     "output_type": "display_data"
    }
   ],
   "source": [
    "with sns.plotting_context(\"paper\", font_scale=2.5), sns.axes_style(\"whitegrid\"):\n",
    "    g = sns.catplot(\n",
    "        data=final_plot_data,\n",
    "        y=LV_NAME,\n",
    "        x=SELECTED_ATTRIBUTE,\n",
    "        order=attr_order,\n",
    "        kind=\"strip\",\n",
    "        height=5,\n",
    "        aspect=2.5,\n",
    "    )\n",
    "    plt.xticks(rotation=45, horizontalalignment=\"right\")\n",
    "    plt.xlabel(\"\")\n",
    "\n",
    "    # plt.savefig(\n",
    "    #     OUTPUT_CELL_TYPE_FILEPATH,\n",
    "    #     bbox_inches=\"tight\",\n",
    "    #     facecolor=\"white\",\n",
    "    # )"
   ]
  },
  {
   "cell_type": "code",
   "execution_count": 45,
   "id": "634becb0-6ff3-44ae-8804-434bf55b5b1f",
   "metadata": {},
   "outputs": [],
   "source": [
    "# with sns.plotting_context(\"paper\", font_scale=2.5), sns.axes_style(\"whitegrid\"):\n",
    "#     g = sns.catplot(\n",
    "#         data=final_plot_data,\n",
    "#         y=LV_NAME,\n",
    "#         x=SELECTED_ATTRIBUTE,\n",
    "#         order=attr_order,\n",
    "#         kind=\"box\",\n",
    "#         height=5,\n",
    "#         aspect=2.5,\n",
    "#     )\n",
    "#     plt.xticks(rotation=45, horizontalalignment=\"right\")\n",
    "#     plt.xlabel(\"\")\n",
    "\n",
    "#     # plt.savefig(\n",
    "#     #     OUTPUT_CELL_TYPE_FILEPATH,\n",
    "#     #     bbox_inches=\"tight\",\n",
    "#     #     facecolor=\"white\",\n",
    "#     # )"
   ]
  },
  {
   "cell_type": "markdown",
   "id": "theoretical-raleigh",
   "metadata": {},
   "source": [
    "# Debug"
   ]
  },
  {
   "cell_type": "code",
   "execution_count": 65,
   "id": "suspended-tiffany",
   "metadata": {},
   "outputs": [
    {
     "data": {
      "text/html": [
       "<div>\n",
       "<style scoped>\n",
       "    .dataframe tbody tr th:only-of-type {\n",
       "        vertical-align: middle;\n",
       "    }\n",
       "\n",
       "    .dataframe tbody tr th {\n",
       "        vertical-align: top;\n",
       "    }\n",
       "\n",
       "    .dataframe thead th {\n",
       "        text-align: right;\n",
       "    }\n",
       "</style>\n",
       "<table border=\"1\" class=\"dataframe\">\n",
       "  <thead>\n",
       "    <tr style=\"text-align: right;\">\n",
       "      <th></th>\n",
       "      <th></th>\n",
       "      <th>tissue source</th>\n",
       "      <th>LV799</th>\n",
       "    </tr>\n",
       "    <tr>\n",
       "      <th>project</th>\n",
       "      <th>run</th>\n",
       "      <th></th>\n",
       "      <th></th>\n",
       "    </tr>\n",
       "  </thead>\n",
       "  <tbody>\n",
       "    <tr>\n",
       "      <th rowspan=\"3\" valign=\"top\">SRP041036</th>\n",
       "      <th>SRR1223557</th>\n",
       "      <td>Peripheral blood (U266)</td>\n",
       "      <td>1.244656</td>\n",
       "    </tr>\n",
       "    <tr>\n",
       "      <th>SRR1223579</th>\n",
       "      <td>Peripheral blood (U266)</td>\n",
       "      <td>1.194364</td>\n",
       "    </tr>\n",
       "    <tr>\n",
       "      <th>SRR1223559</th>\n",
       "      <td>Peripheral blood (U266)</td>\n",
       "      <td>0.999512</td>\n",
       "    </tr>\n",
       "    <tr>\n",
       "      <th rowspan=\"3\" valign=\"top\">SRP027015</th>\n",
       "      <th>SRR931814</th>\n",
       "      <td>Peripheral blood (MM.1S)</td>\n",
       "      <td>0.799245</td>\n",
       "    </tr>\n",
       "    <tr>\n",
       "      <th>SRR931816</th>\n",
       "      <td>Peripheral blood (MM.1S)</td>\n",
       "      <td>0.740098</td>\n",
       "    </tr>\n",
       "    <tr>\n",
       "      <th>SRR931818</th>\n",
       "      <td>Peripheral blood (MM.1S)</td>\n",
       "      <td>0.650010</td>\n",
       "    </tr>\n",
       "    <tr>\n",
       "      <th>SRP061329</th>\n",
       "      <th>SRR2107338</th>\n",
       "      <td>Peripheral blood (MOLP-8)</td>\n",
       "      <td>0.414363</td>\n",
       "    </tr>\n",
       "    <tr>\n",
       "      <th>SRP027015</th>\n",
       "      <th>SRR931820</th>\n",
       "      <td>Peripheral blood (MM.1S)</td>\n",
       "      <td>0.410846</td>\n",
       "    </tr>\n",
       "    <tr>\n",
       "      <th rowspan=\"4\" valign=\"top\">SRP061329</th>\n",
       "      <th>SRR2107340</th>\n",
       "      <td>Peripheral blood (MOLP-8)</td>\n",
       "      <td>0.391561</td>\n",
       "    </tr>\n",
       "    <tr>\n",
       "      <th>SRR2107337</th>\n",
       "      <td>Peripheral blood (MOLP-8)</td>\n",
       "      <td>0.360735</td>\n",
       "    </tr>\n",
       "    <tr>\n",
       "      <th>SRR2107336</th>\n",
       "      <td>Peripheral blood (MOLP-8)</td>\n",
       "      <td>0.351320</td>\n",
       "    </tr>\n",
       "    <tr>\n",
       "      <th>SRR2107335</th>\n",
       "      <td>Peripheral blood (MOLP-8)</td>\n",
       "      <td>0.349604</td>\n",
       "    </tr>\n",
       "    <tr>\n",
       "      <th rowspan=\"8\" valign=\"top\">SRP027015</th>\n",
       "      <th>SRR931822</th>\n",
       "      <td>Peripheral blood (MM.1S)</td>\n",
       "      <td>0.347864</td>\n",
       "    </tr>\n",
       "    <tr>\n",
       "      <th>SRR931815</th>\n",
       "      <td>Peripheral blood (MM.1S)</td>\n",
       "      <td>0.298945</td>\n",
       "    </tr>\n",
       "    <tr>\n",
       "      <th>SRR931819</th>\n",
       "      <td>Peripheral blood (MM.1S)</td>\n",
       "      <td>0.246081</td>\n",
       "    </tr>\n",
       "    <tr>\n",
       "      <th>SRR931824</th>\n",
       "      <td>Peripheral blood (MM.1S)</td>\n",
       "      <td>0.214638</td>\n",
       "    </tr>\n",
       "    <tr>\n",
       "      <th>SRR931821</th>\n",
       "      <td>Peripheral blood (MM.1S)</td>\n",
       "      <td>0.177244</td>\n",
       "    </tr>\n",
       "    <tr>\n",
       "      <th>SRR931817</th>\n",
       "      <td>Peripheral blood (MM.1S)</td>\n",
       "      <td>0.174359</td>\n",
       "    </tr>\n",
       "    <tr>\n",
       "      <th>SRR931823</th>\n",
       "      <td>Peripheral blood (MM.1S)</td>\n",
       "      <td>0.042314</td>\n",
       "    </tr>\n",
       "    <tr>\n",
       "      <th>SRR931825</th>\n",
       "      <td>Peripheral blood (MM.1S)</td>\n",
       "      <td>0.002137</td>\n",
       "    </tr>\n",
       "  </tbody>\n",
       "</table>\n",
       "</div>"
      ],
      "text/plain": [
       "                                  tissue source     LV799\n",
       "project   run                                            \n",
       "SRP041036 SRR1223557    Peripheral blood (U266)  1.244656\n",
       "          SRR1223579    Peripheral blood (U266)  1.194364\n",
       "          SRR1223559    Peripheral blood (U266)  0.999512\n",
       "SRP027015 SRR931814    Peripheral blood (MM.1S)  0.799245\n",
       "          SRR931816    Peripheral blood (MM.1S)  0.740098\n",
       "          SRR931818    Peripheral blood (MM.1S)  0.650010\n",
       "SRP061329 SRR2107338  Peripheral blood (MOLP-8)  0.414363\n",
       "SRP027015 SRR931820    Peripheral blood (MM.1S)  0.410846\n",
       "SRP061329 SRR2107340  Peripheral blood (MOLP-8)  0.391561\n",
       "          SRR2107337  Peripheral blood (MOLP-8)  0.360735\n",
       "          SRR2107336  Peripheral blood (MOLP-8)  0.351320\n",
       "          SRR2107335  Peripheral blood (MOLP-8)  0.349604\n",
       "SRP027015 SRR931822    Peripheral blood (MM.1S)  0.347864\n",
       "          SRR931815    Peripheral blood (MM.1S)  0.298945\n",
       "          SRR931819    Peripheral blood (MM.1S)  0.246081\n",
       "          SRR931824    Peripheral blood (MM.1S)  0.214638\n",
       "          SRR931821    Peripheral blood (MM.1S)  0.177244\n",
       "          SRR931817    Peripheral blood (MM.1S)  0.174359\n",
       "          SRR931823    Peripheral blood (MM.1S)  0.042314\n",
       "          SRR931825    Peripheral blood (MM.1S)  0.002137"
      ]
     },
     "metadata": {},
     "output_type": "display_data"
    }
   ],
   "source": [
    "with pd.option_context(\n",
    "    \"display.max_rows\", None, \"display.max_columns\", None, \"display.max_colwidth\", None\n",
    "):\n",
    "    _tmp = final_plot_data[final_plot_data[SELECTED_ATTRIBUTE].str.contains(\"^Peripheral blood\")].sort_values(LV_NAME, ascending=False)\n",
    "    display(_tmp.tail(20))"
   ]
  },
  {
   "cell_type": "code",
   "execution_count": 66,
   "id": "36a58987-df7e-49d0-ada6-59cbca368a5d",
   "metadata": {},
   "outputs": [
    {
     "data": {
      "text/html": [
       "<div>\n",
       "<style scoped>\n",
       "    .dataframe tbody tr th:only-of-type {\n",
       "        vertical-align: middle;\n",
       "    }\n",
       "\n",
       "    .dataframe tbody tr th {\n",
       "        vertical-align: top;\n",
       "    }\n",
       "\n",
       "    .dataframe thead th {\n",
       "        text-align: right;\n",
       "    }\n",
       "</style>\n",
       "<table border=\"1\" class=\"dataframe\">\n",
       "  <thead>\n",
       "    <tr style=\"text-align: right;\">\n",
       "      <th></th>\n",
       "      <th></th>\n",
       "      <th>cell line</th>\n",
       "      <th>condition</th>\n",
       "      <th>LV799</th>\n",
       "    </tr>\n",
       "    <tr>\n",
       "      <th>project</th>\n",
       "      <th>run</th>\n",
       "      <th></th>\n",
       "      <th></th>\n",
       "      <th></th>\n",
       "    </tr>\n",
       "  </thead>\n",
       "  <tbody>\n",
       "    <tr>\n",
       "      <th rowspan=\"5\" valign=\"top\">SRP061329</th>\n",
       "      <th>SRR2107338</th>\n",
       "      <td>MOLP-8</td>\n",
       "      <td>LIN28B KO cells</td>\n",
       "      <td>0.414363</td>\n",
       "    </tr>\n",
       "    <tr>\n",
       "      <th>SRR2107340</th>\n",
       "      <td>MOLP-8</td>\n",
       "      <td>LIN28B KO cells</td>\n",
       "      <td>0.391561</td>\n",
       "    </tr>\n",
       "    <tr>\n",
       "      <th>SRR2107337</th>\n",
       "      <td>MOLP-8</td>\n",
       "      <td>Scrambled control cells</td>\n",
       "      <td>0.360735</td>\n",
       "    </tr>\n",
       "    <tr>\n",
       "      <th>SRR2107336</th>\n",
       "      <td>MOLP-8</td>\n",
       "      <td>Scrambled control cells</td>\n",
       "      <td>0.351320</td>\n",
       "    </tr>\n",
       "    <tr>\n",
       "      <th>SRR2107335</th>\n",
       "      <td>MOLP-8</td>\n",
       "      <td>Scrambled control cells</td>\n",
       "      <td>0.349604</td>\n",
       "    </tr>\n",
       "  </tbody>\n",
       "</table>\n",
       "</div>"
      ],
      "text/plain": [
       "                     cell line                condition     LV799\n",
       "project   run                                                    \n",
       "SRP061329 SRR2107338    MOLP-8          LIN28B KO cells  0.414363\n",
       "          SRR2107340    MOLP-8          LIN28B KO cells  0.391561\n",
       "          SRR2107337    MOLP-8  Scrambled control cells  0.360735\n",
       "          SRR2107336    MOLP-8  Scrambled control cells  0.351320\n",
       "          SRR2107335    MOLP-8  Scrambled control cells  0.349604"
      ]
     },
     "metadata": {},
     "output_type": "display_data"
    }
   ],
   "source": [
    "# what is there in these projects?\n",
    "_tmp = lv_data.loc[[\"SRP061329\"]].dropna(how=\"all\", axis=1).sort_values(\n",
    "    LV_NAME, ascending=False\n",
    ")\n",
    "\n",
    "display(_tmp.head(60))"
   ]
  },
  {
   "cell_type": "markdown",
   "id": "0ba85d94-74fb-408f-8efd-55596151fd2b",
   "metadata": {},
   "source": [
    "# Reduced plot"
   ]
  },
  {
   "cell_type": "markdown",
   "id": "9d0b7604-e3ca-4534-abb1-35ce9e2e541a",
   "metadata": {},
   "source": [
    "## Data stats"
   ]
  },
  {
   "cell_type": "code",
   "execution_count": 49,
   "id": "c2c52589-9e5a-4b62-9c19-14e3f50d340a",
   "metadata": {},
   "outputs": [
    {
     "data": {
      "text/plain": [
       "count    6504.000000\n",
       "mean        0.013331\n",
       "std         0.139322\n",
       "min        -0.168432\n",
       "25%        -0.025133\n",
       "50%        -0.005833\n",
       "75%         0.023144\n",
       "max         2.395650\n",
       "Name: LV799, dtype: float64"
      ]
     },
     "metadata": {},
     "output_type": "display_data"
    }
   ],
   "source": [
    "plot_data_stats = final_plot_data.describe()[LV_NAME]\n",
    "display(plot_data_stats)"
   ]
  },
  {
   "cell_type": "code",
   "execution_count": 50,
   "id": "f2c3f9fb-9ea9-4a0b-8cb4-8555280069e2",
   "metadata": {},
   "outputs": [
    {
     "data": {
      "text/html": [
       "<div>\n",
       "<style scoped>\n",
       "    .dataframe tbody tr th:only-of-type {\n",
       "        vertical-align: middle;\n",
       "    }\n",
       "\n",
       "    .dataframe tbody tr th {\n",
       "        vertical-align: top;\n",
       "    }\n",
       "\n",
       "    .dataframe thead th {\n",
       "        text-align: right;\n",
       "    }\n",
       "</style>\n",
       "<table border=\"1\" class=\"dataframe\">\n",
       "  <thead>\n",
       "    <tr style=\"text-align: right;\">\n",
       "      <th></th>\n",
       "      <th>count</th>\n",
       "      <th>mean</th>\n",
       "      <th>std</th>\n",
       "      <th>min</th>\n",
       "      <th>25%</th>\n",
       "      <th>50%</th>\n",
       "      <th>75%</th>\n",
       "      <th>max</th>\n",
       "    </tr>\n",
       "    <tr>\n",
       "      <th>tissue source</th>\n",
       "      <th></th>\n",
       "      <th></th>\n",
       "      <th></th>\n",
       "      <th></th>\n",
       "      <th></th>\n",
       "      <th></th>\n",
       "      <th></th>\n",
       "      <th></th>\n",
       "    </tr>\n",
       "  </thead>\n",
       "  <tbody>\n",
       "    <tr>\n",
       "      <th>Peripheral blood (U266)</th>\n",
       "      <td>30.0</td>\n",
       "      <td>1.847988</td>\n",
       "      <td>0.382590</td>\n",
       "      <td>0.999512</td>\n",
       "      <td>1.525542</td>\n",
       "      <td>1.931853</td>\n",
       "      <td>2.155434</td>\n",
       "      <td>2.395650</td>\n",
       "    </tr>\n",
       "    <tr>\n",
       "      <th>Multiple myeloma</th>\n",
       "      <td>8.0</td>\n",
       "      <td>0.438191</td>\n",
       "      <td>0.039257</td>\n",
       "      <td>0.392621</td>\n",
       "      <td>0.402566</td>\n",
       "      <td>0.442481</td>\n",
       "      <td>0.473805</td>\n",
       "      <td>0.478036</td>\n",
       "    </tr>\n",
       "    <tr>\n",
       "      <th>Peripheral blood (MOLP-8)</th>\n",
       "      <td>5.0</td>\n",
       "      <td>0.373516</td>\n",
       "      <td>0.028381</td>\n",
       "      <td>0.349604</td>\n",
       "      <td>0.351320</td>\n",
       "      <td>0.360735</td>\n",
       "      <td>0.391561</td>\n",
       "      <td>0.414363</td>\n",
       "    </tr>\n",
       "    <tr>\n",
       "      <th>Pfeiffer cell line</th>\n",
       "      <td>4.0</td>\n",
       "      <td>0.314333</td>\n",
       "      <td>0.068645</td>\n",
       "      <td>0.246113</td>\n",
       "      <td>0.260505</td>\n",
       "      <td>0.314076</td>\n",
       "      <td>0.367904</td>\n",
       "      <td>0.383069</td>\n",
       "    </tr>\n",
       "    <tr>\n",
       "      <th>bone marrow (JJN3)</th>\n",
       "      <td>30.0</td>\n",
       "      <td>0.280934</td>\n",
       "      <td>0.053449</td>\n",
       "      <td>0.195307</td>\n",
       "      <td>0.235661</td>\n",
       "      <td>0.282922</td>\n",
       "      <td>0.318296</td>\n",
       "      <td>0.392923</td>\n",
       "    </tr>\n",
       "    <tr>\n",
       "      <th>...</th>\n",
       "      <td>...</td>\n",
       "      <td>...</td>\n",
       "      <td>...</td>\n",
       "      <td>...</td>\n",
       "      <td>...</td>\n",
       "      <td>...</td>\n",
       "      <td>...</td>\n",
       "      <td>...</td>\n",
       "    </tr>\n",
       "    <tr>\n",
       "      <th>fetal_quiescent</th>\n",
       "      <td>109.0</td>\n",
       "      <td>-0.017569</td>\n",
       "      <td>0.038928</td>\n",
       "      <td>-0.088852</td>\n",
       "      <td>-0.043249</td>\n",
       "      <td>-0.025195</td>\n",
       "      <td>0.000323</td>\n",
       "      <td>0.146976</td>\n",
       "    </tr>\n",
       "    <tr>\n",
       "      <th>leukocyte from blood of healthy individual</th>\n",
       "      <td>2.0</td>\n",
       "      <td>-0.027136</td>\n",
       "      <td>0.036188</td>\n",
       "      <td>-0.052725</td>\n",
       "      <td>-0.039931</td>\n",
       "      <td>-0.027136</td>\n",
       "      <td>-0.014342</td>\n",
       "      <td>-0.001548</td>\n",
       "    </tr>\n",
       "    <tr>\n",
       "      <th>OPC</th>\n",
       "      <td>18.0</td>\n",
       "      <td>-0.025561</td>\n",
       "      <td>0.031254</td>\n",
       "      <td>-0.094186</td>\n",
       "      <td>-0.034695</td>\n",
       "      <td>-0.029910</td>\n",
       "      <td>-0.000936</td>\n",
       "      <td>0.017388</td>\n",
       "    </tr>\n",
       "    <tr>\n",
       "      <th>C32</th>\n",
       "      <td>1.0</td>\n",
       "      <td>-0.035123</td>\n",
       "      <td>NaN</td>\n",
       "      <td>-0.035123</td>\n",
       "      <td>-0.035123</td>\n",
       "      <td>-0.035123</td>\n",
       "      <td>-0.035123</td>\n",
       "      <td>-0.035123</td>\n",
       "    </tr>\n",
       "    <tr>\n",
       "      <th>Tonsillar naive B cells</th>\n",
       "      <td>4.0</td>\n",
       "      <td>-0.042263</td>\n",
       "      <td>0.008173</td>\n",
       "      <td>-0.051193</td>\n",
       "      <td>-0.048164</td>\n",
       "      <td>-0.041641</td>\n",
       "      <td>-0.035740</td>\n",
       "      <td>-0.034576</td>\n",
       "    </tr>\n",
       "  </tbody>\n",
       "</table>\n",
       "<p>193 rows × 8 columns</p>\n",
       "</div>"
      ],
      "text/plain": [
       "                                            count      mean       std  \\\n",
       "tissue source                                                           \n",
       "Peripheral blood (U266)                      30.0  1.847988  0.382590   \n",
       "Multiple myeloma                              8.0  0.438191  0.039257   \n",
       "Peripheral blood (MOLP-8)                     5.0  0.373516  0.028381   \n",
       "Pfeiffer cell line                            4.0  0.314333  0.068645   \n",
       "bone marrow (JJN3)                           30.0  0.280934  0.053449   \n",
       "...                                           ...       ...       ...   \n",
       "fetal_quiescent                             109.0 -0.017569  0.038928   \n",
       "leukocyte from blood of healthy individual    2.0 -0.027136  0.036188   \n",
       "OPC                                          18.0 -0.025561  0.031254   \n",
       "C32                                           1.0 -0.035123       NaN   \n",
       "Tonsillar naive B cells                       4.0 -0.042263  0.008173   \n",
       "\n",
       "                                                 min       25%       50%  \\\n",
       "tissue source                                                              \n",
       "Peripheral blood (U266)                     0.999512  1.525542  1.931853   \n",
       "Multiple myeloma                            0.392621  0.402566  0.442481   \n",
       "Peripheral blood (MOLP-8)                   0.349604  0.351320  0.360735   \n",
       "Pfeiffer cell line                          0.246113  0.260505  0.314076   \n",
       "bone marrow (JJN3)                          0.195307  0.235661  0.282922   \n",
       "...                                              ...       ...       ...   \n",
       "fetal_quiescent                            -0.088852 -0.043249 -0.025195   \n",
       "leukocyte from blood of healthy individual -0.052725 -0.039931 -0.027136   \n",
       "OPC                                        -0.094186 -0.034695 -0.029910   \n",
       "C32                                        -0.035123 -0.035123 -0.035123   \n",
       "Tonsillar naive B cells                    -0.051193 -0.048164 -0.041641   \n",
       "\n",
       "                                                 75%       max  \n",
       "tissue source                                                   \n",
       "Peripheral blood (U266)                     2.155434  2.395650  \n",
       "Multiple myeloma                            0.473805  0.478036  \n",
       "Peripheral blood (MOLP-8)                   0.391561  0.414363  \n",
       "Pfeiffer cell line                          0.367904  0.383069  \n",
       "bone marrow (JJN3)                          0.318296  0.392923  \n",
       "...                                              ...       ...  \n",
       "fetal_quiescent                             0.000323  0.146976  \n",
       "leukocyte from blood of healthy individual -0.014342 -0.001548  \n",
       "OPC                                        -0.000936  0.017388  \n",
       "C32                                        -0.035123 -0.035123  \n",
       "Tonsillar naive B cells                    -0.035740 -0.034576  \n",
       "\n",
       "[193 rows x 8 columns]"
      ]
     },
     "metadata": {},
     "output_type": "display_data"
    }
   ],
   "source": [
    "plot_data_stats_by_cell_type = (\n",
    "    final_plot_data.groupby(SELECTED_ATTRIBUTE)\n",
    "    .describe()[LV_NAME]\n",
    "    .sort_values(\"50%\", ascending=False)\n",
    ")\n",
    "display(plot_data_stats_by_cell_type)"
   ]
  },
  {
   "cell_type": "code",
   "execution_count": 51,
   "id": "d2f33dfd-c991-4330-8cc3-45e7f6c8819e",
   "metadata": {},
   "outputs": [
    {
     "data": {
      "text/plain": [
       "Index(['Peripheral blood (U266)', 'Multiple myeloma',\n",
       "       'Peripheral blood (MOLP-8)', 'Pfeiffer cell line', 'bone marrow (JJN3)',\n",
       "       'Peripheral blood (MM.1S)', 'LP-1', 'U2932', 'U-2932', 'DG75',\n",
       "       ...\n",
       "       'MalMe3M', 'NA19193', 'NA19210', 'definitive endoderm cells',\n",
       "       'peripheral blood B cells',\n",
       "       'NG2-sorted cell from blood of melanoma patient', '19239', 'WM2664',\n",
       "       'Tonsillar Germinal Center B cells', 'A2058'],\n",
       "      dtype='object', name='tissue source', length=149)"
      ]
     },
     "metadata": {},
     "output_type": "display_data"
    }
   ],
   "source": [
    "# keep cell types whose median is larger than the global median\n",
    "selected_cell_types = plot_data_stats_by_cell_type[\n",
    "    (plot_data_stats_by_cell_type[\"50%\"] > max(plot_data_stats.loc[\"50%\"], 0.0))\n",
    "].index\n",
    "display(selected_cell_types)"
   ]
  },
  {
   "cell_type": "code",
   "execution_count": 52,
   "id": "da3d5d60-fc4e-4962-9aca-7ef3e07febb4",
   "metadata": {},
   "outputs": [
    {
     "data": {
      "text/plain": [
       "(6504, 2)"
      ]
     },
     "execution_count": 52,
     "metadata": {},
     "output_type": "execute_result"
    }
   ],
   "source": [
    "final_plot_data.shape"
   ]
  },
  {
   "cell_type": "code",
   "execution_count": 53,
   "id": "d07bf679-1d01-4934-a836-705f3be1a70b",
   "metadata": {},
   "outputs": [],
   "source": [
    "reduced_plot_data = final_plot_data[\n",
    "    final_plot_data[SELECTED_ATTRIBUTE].isin(selected_cell_types)\n",
    "]"
   ]
  },
  {
   "cell_type": "code",
   "execution_count": 54,
   "id": "b798481b-ce54-45c1-bf78-95d7510d964d",
   "metadata": {},
   "outputs": [
    {
     "data": {
      "text/plain": [
       "(1311, 2)"
      ]
     },
     "execution_count": 54,
     "metadata": {},
     "output_type": "execute_result"
    }
   ],
   "source": [
    "reduced_plot_data.shape"
   ]
  },
  {
   "cell_type": "markdown",
   "id": "a4e1ad90-be92-4624-813d-ecab8a8ebb08",
   "metadata": {},
   "source": [
    "## Shorten context names"
   ]
  },
  {
   "cell_type": "code",
   "execution_count": 55,
   "id": "b4aa6178-9651-4d84-976e-974603cd9654",
   "metadata": {},
   "outputs": [],
   "source": [
    "reduced_plot_data = reduced_plot_data.replace(\n",
    "    {\n",
    "        SELECTED_ATTRIBUTE: {\n",
    "            \"tonsil Innate lymphoid cells (ILC3)\": \"tonsil ILCs (ILC3)\",\n",
    "            \"tonsil Innate lymphoid cells (NK)\": \"tonsil ILCs (NK)\",\n",
    "            \"tonsil Innate lymphoid cells (ILC2)\": \"tonsil ILCs (ILC2)\",\n",
    "            \"tonsil Innate lymphoid cells (ILC1)\": \"tonsil ILCs (ILC1)\",\n",
    "            \"primary human NK cells\": \"NK cells\",\n",
    "            \"primary human neutrophils\": \"Neutrophils\",\n",
    "        }\n",
    "    }\n",
    ")"
   ]
  },
  {
   "cell_type": "markdown",
   "id": "cb87d9ce-814d-499b-a675-b8edbca9c776",
   "metadata": {},
   "source": [
    "## Set x-axis order"
   ]
  },
  {
   "cell_type": "code",
   "execution_count": 60,
   "id": "9393de9e-824c-42db-bf8d-f094575bcc2f",
   "metadata": {},
   "outputs": [],
   "source": [
    "attr_order = (\n",
    "    reduced_plot_data.groupby(SELECTED_ATTRIBUTE)\n",
    "    .median()\n",
    "    .sort_values(LV_NAME, ascending=False)\n",
    "    .index[:6]\n",
    "    .tolist()\n",
    ")"
   ]
  },
  {
   "cell_type": "code",
   "execution_count": 61,
   "id": "4f2a6833-aef2-452f-bd61-3cbcc6bb2299",
   "metadata": {},
   "outputs": [
    {
     "data": {
      "text/plain": [
       "6"
      ]
     },
     "execution_count": 61,
     "metadata": {},
     "output_type": "execute_result"
    }
   ],
   "source": [
    "len(attr_order)"
   ]
  },
  {
   "cell_type": "code",
   "execution_count": 62,
   "id": "65b78f5a-81f1-47c7-baae-ab93580b7c74",
   "metadata": {},
   "outputs": [
    {
     "data": {
      "text/plain": [
       "['Peripheral blood (U266)',\n",
       " 'Multiple myeloma',\n",
       " 'Peripheral blood (MOLP-8)',\n",
       " 'Pfeiffer cell line',\n",
       " 'bone marrow (JJN3)',\n",
       " 'Peripheral blood (MM.1S)']"
      ]
     },
     "execution_count": 62,
     "metadata": {},
     "output_type": "execute_result"
    }
   ],
   "source": [
    "attr_order"
   ]
  },
  {
   "cell_type": "markdown",
   "id": "f3e2f789-d3b7-4097-94df-ec71267e2fb0",
   "metadata": {},
   "source": [
    "## Plot"
   ]
  },
  {
   "cell_type": "code",
   "execution_count": 63,
   "id": "299d03a4-318b-4a66-b948-5cb0a828564f",
   "metadata": {},
   "outputs": [
    {
     "data": {
      "image/png": "[encoded data removed]",
      "text/plain": [
       "<Figure size 1250x500 with 1 Axes>"
      ]
     },
     "metadata": {},
     "output_type": "display_data"
    }
   ],
   "source": [
    "with sns.plotting_context(\"paper\", font_scale=2.5), sns.axes_style(\"whitegrid\"):\n",
    "    g = sns.catplot(\n",
    "        data=reduced_plot_data,\n",
    "        y=LV_NAME,\n",
    "        x=SELECTED_ATTRIBUTE,\n",
    "        order=attr_order,\n",
    "        kind=\"box\",\n",
    "        height=5,\n",
    "        aspect=2.5,\n",
    "    )\n",
    "    plt.xticks(rotation=45, horizontalalignment=\"right\")\n",
    "    plt.xlabel(\"\")\n",
    "\n",
    "    plt.savefig(\n",
    "        OUTPUT_CELL_TYPE_FILEPATH,\n",
    "        bbox_inches=\"tight\",\n",
    "        facecolor=\"white\",\n",
    "    )"
   ]
  },
  {
   "cell_type": "code",
   "execution_count": null,
   "id": "classified-overall",
   "metadata": {},
   "outputs": [],
   "source": []
  }
 ],
 "metadata": {
  "jupytext": {
   "cell_metadata_filter": "all,-execution,-papermill,-trusted",
   "formats": "ipynb,py//py:percent"
  },
  "kernelspec": {
   "display_name": "Python 3 (ipykernel)",
   "language": "python",
   "name": "python3"
  },
  "language_info": {
   "codemirror_mode": {
    "name": "ipython",
    "version": 3
   },
   "file_extension": ".py",
   "mimetype": "text/x-python",
   "name": "python",
   "nbconvert_exporter": "python",
   "pygments_lexer": "ipython3",
   "version": "3.10.6"
  },
  "toc-autonumbering": true
 },
 "nbformat": 4,
 "nbformat_minor": 5
}
