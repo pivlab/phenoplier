{
 "cells": [
  {
   "cell_type": "markdown",
   "id": "superior-virgin",
   "metadata": {
    "papermill": {
     "duration": 0.006593,
     "end_time": "2021-05-11T19:09:55.733221",
     "exception": false,
     "start_time": "2021-05-11T19:09:55.726628",
     "status": "completed"
    },
    "tags": []
   },
   "source": [
    "# Description"
   ]
  },
  {
   "cell_type": "markdown",
   "id": "successful-knight",
   "metadata": {
    "papermill": {
     "duration": 0.00668,
     "end_time": "2021-05-11T19:09:55.745410",
     "exception": false,
     "start_time": "2021-05-11T19:09:55.738730",
     "status": "completed"
    },
    "tags": []
   },
   "source": [
    "Generates the figure for top cell types for a specified LV (in Settings section below)."
   ]
  },
  {
   "cell_type": "markdown",
   "id": "compatible-weight",
   "metadata": {
    "papermill": {
     "duration": 0.006223,
     "end_time": "2021-05-11T19:09:55.756959",
     "exception": false,
     "start_time": "2021-05-11T19:09:55.750736",
     "status": "completed"
    },
    "tags": []
   },
   "source": [
    "# Modules loading"
   ]
  },
  {
   "cell_type": "code",
   "execution_count": 1,
   "id": "proper-chester",
   "metadata": {
    "papermill": {
     "duration": 0.993432,
     "end_time": "2021-05-11T19:09:56.780403",
     "exception": false,
     "start_time": "2021-05-11T19:09:55.786971",
     "status": "completed"
    },
    "tags": []
   },
   "outputs": [],
   "source": [
    "import re\n",
    "from pathlib import Path\n",
    "\n",
    "import pandas as pd\n",
    "import matplotlib.pyplot as plt\n",
    "import seaborn as sns\n",
    "\n",
    "from data.recount2 import LVAnalysis\n",
    "from utils import chunker\n",
    "import conf"
   ]
  },
  {
   "cell_type": "markdown",
   "id": "sized-butter",
   "metadata": {
    "papermill": {
     "duration": 0.005973,
     "end_time": "2021-05-11T19:09:56.792495",
     "exception": false,
     "start_time": "2021-05-11T19:09:56.786522",
     "status": "completed"
    },
    "tags": []
   },
   "source": [
    "# Settings"
   ]
  },
  {
   "cell_type": "code",
   "execution_count": 2,
   "id": "tender-contrary",
   "metadata": {
    "papermill": {
     "duration": 0.019548,
     "end_time": "2021-05-11T19:09:56.817689",
     "exception": false,
     "start_time": "2021-05-11T19:09:56.798141",
     "status": "completed"
    },
    "tags": [
     "parameters"
    ]
   },
   "outputs": [],
   "source": [
    "LV_NAME = \"LV17\""
   ]
  },
  {
   "cell_type": "code",
   "execution_count": 3,
   "id": "sunset-carbon",
   "metadata": {},
   "outputs": [],
   "source": [
    "LV_AXIS_THRESHOLD = None  # 3.0\n",
    "# LV_AXIS_THRESHOLD = 2.0\n",
    "N_TOP_SAMPLES = 400\n",
    "N_TOP_ATTRS = 15"
   ]
  },
  {
   "cell_type": "code",
   "execution_count": 4,
   "id": "proof-primary",
   "metadata": {},
   "outputs": [],
   "source": [
    "# OUTPUT_FIGURES_DIR = Path(\n",
    "#     conf.MANUSCRIPT[\"FIGURES_DIR\"], \"lvs_analysis\", f\"{LV_NAME.lower()}\"\n",
    "# ).resolve()\n",
    "# display(OUTPUT_FIGURES_DIR)\n",
    "# OUTPUT_FIGURES_DIR.mkdir(parents=True, exist_ok=True)"
   ]
  },
  {
   "cell_type": "code",
   "execution_count": 5,
   "id": "three-crossing",
   "metadata": {},
   "outputs": [],
   "source": [
    "# OUTPUT_CELL_TYPE_FILEPATH = OUTPUT_FIGURES_DIR / f\"{LV_NAME.lower()}-cell_types.svg\"\n",
    "# display(OUTPUT_CELL_TYPE_FILEPATH)"
   ]
  },
  {
   "cell_type": "markdown",
   "id": "invisible-madrid",
   "metadata": {
    "papermill": {
     "duration": 0.005592,
     "end_time": "2021-05-11T19:09:56.854406",
     "exception": false,
     "start_time": "2021-05-11T19:09:56.848814",
     "status": "completed"
    },
    "tags": []
   },
   "source": [
    "# Load MultiPLIER summary"
   ]
  },
  {
   "cell_type": "code",
   "execution_count": 6,
   "id": "coated-christmas",
   "metadata": {
    "papermill": {
     "duration": 0.020251,
     "end_time": "2021-05-11T19:09:56.880435",
     "exception": false,
     "start_time": "2021-05-11T19:09:56.860184",
     "status": "completed"
    },
    "tags": []
   },
   "outputs": [],
   "source": [
    "multiplier_model_summary = pd.read_pickle(conf.MULTIPLIER[\"MODEL_SUMMARY_FILE\"])"
   ]
  },
  {
   "cell_type": "code",
   "execution_count": 7,
   "id": "stopped-driving",
   "metadata": {
    "papermill": {
     "duration": 0.02062,
     "end_time": "2021-05-11T19:09:56.906744",
     "exception": false,
     "start_time": "2021-05-11T19:09:56.886124",
     "status": "completed"
    },
    "tags": []
   },
   "outputs": [
    {
     "data": {
      "text/plain": [
       "(2157, 5)"
      ]
     },
     "execution_count": 7,
     "metadata": {},
     "output_type": "execute_result"
    }
   ],
   "source": [
    "multiplier_model_summary.shape"
   ]
  },
  {
   "cell_type": "code",
   "execution_count": 8,
   "id": "rural-grove",
   "metadata": {
    "papermill": {
     "duration": 0.024737,
     "end_time": "2021-05-11T19:09:56.937493",
     "exception": false,
     "start_time": "2021-05-11T19:09:56.912756",
     "status": "completed"
    },
    "tags": []
   },
   "outputs": [
    {
     "data": {
      "text/html": [
       "<div>\n",
       "<style scoped>\n",
       "    .dataframe tbody tr th:only-of-type {\n",
       "        vertical-align: middle;\n",
       "    }\n",
       "\n",
       "    .dataframe tbody tr th {\n",
       "        vertical-align: top;\n",
       "    }\n",
       "\n",
       "    .dataframe thead th {\n",
       "        text-align: right;\n",
       "    }\n",
       "</style>\n",
       "<table border=\"1\" class=\"dataframe\">\n",
       "  <thead>\n",
       "    <tr style=\"text-align: right;\">\n",
       "      <th></th>\n",
       "      <th>pathway</th>\n",
       "      <th>LV index</th>\n",
       "      <th>AUC</th>\n",
       "      <th>p-value</th>\n",
       "      <th>FDR</th>\n",
       "    </tr>\n",
       "  </thead>\n",
       "  <tbody>\n",
       "    <tr>\n",
       "      <th>1</th>\n",
       "      <td>KEGG_LYSINE_DEGRADATION</td>\n",
       "      <td>1</td>\n",
       "      <td>0.388059</td>\n",
       "      <td>0.866078</td>\n",
       "      <td>0.956005</td>\n",
       "    </tr>\n",
       "    <tr>\n",
       "      <th>2</th>\n",
       "      <td>REACTOME_MRNA_SPLICING</td>\n",
       "      <td>1</td>\n",
       "      <td>0.733057</td>\n",
       "      <td>0.000048</td>\n",
       "      <td>0.000582</td>\n",
       "    </tr>\n",
       "    <tr>\n",
       "      <th>3</th>\n",
       "      <td>MIPS_NOP56P_ASSOCIATED_PRE_RRNA_COMPLEX</td>\n",
       "      <td>1</td>\n",
       "      <td>0.680555</td>\n",
       "      <td>0.001628</td>\n",
       "      <td>0.011366</td>\n",
       "    </tr>\n",
       "    <tr>\n",
       "      <th>4</th>\n",
       "      <td>KEGG_DNA_REPLICATION</td>\n",
       "      <td>1</td>\n",
       "      <td>0.549473</td>\n",
       "      <td>0.312155</td>\n",
       "      <td>0.539951</td>\n",
       "    </tr>\n",
       "    <tr>\n",
       "      <th>5</th>\n",
       "      <td>PID_MYC_ACTIVPATHWAY</td>\n",
       "      <td>1</td>\n",
       "      <td>0.639303</td>\n",
       "      <td>0.021702</td>\n",
       "      <td>0.083739</td>\n",
       "    </tr>\n",
       "  </tbody>\n",
       "</table>\n",
       "</div>"
      ],
      "text/plain": [
       "                                   pathway LV index       AUC   p-value  \\\n",
       "1                  KEGG_LYSINE_DEGRADATION        1  0.388059  0.866078   \n",
       "2                   REACTOME_MRNA_SPLICING        1  0.733057  0.000048   \n",
       "3  MIPS_NOP56P_ASSOCIATED_PRE_RRNA_COMPLEX        1  0.680555  0.001628   \n",
       "4                     KEGG_DNA_REPLICATION        1  0.549473  0.312155   \n",
       "5                     PID_MYC_ACTIVPATHWAY        1  0.639303  0.021702   \n",
       "\n",
       "        FDR  \n",
       "1  0.956005  \n",
       "2  0.000582  \n",
       "3  0.011366  \n",
       "4  0.539951  \n",
       "5  0.083739  "
      ]
     },
     "execution_count": 8,
     "metadata": {},
     "output_type": "execute_result"
    }
   ],
   "source": [
    "multiplier_model_summary.head()"
   ]
  },
  {
   "cell_type": "markdown",
   "id": "neural-expression",
   "metadata": {
    "papermill": {
     "duration": 0.006007,
     "end_time": "2021-05-11T19:09:56.949763",
     "exception": false,
     "start_time": "2021-05-11T19:09:56.943756",
     "status": "completed"
    },
    "tags": []
   },
   "source": [
    "# Load data"
   ]
  },
  {
   "cell_type": "markdown",
   "id": "military-enlargement",
   "metadata": {
    "papermill": {
     "duration": 0.005873,
     "end_time": "2021-05-11T19:09:56.961602",
     "exception": false,
     "start_time": "2021-05-11T19:09:56.955729",
     "status": "completed"
    },
    "tags": []
   },
   "source": [
    "## Original data"
   ]
  },
  {
   "cell_type": "code",
   "execution_count": 9,
   "id": "distinguished-elements",
   "metadata": {
    "papermill": {
     "duration": 0.019571,
     "end_time": "2021-05-11T19:09:56.987255",
     "exception": false,
     "start_time": "2021-05-11T19:09:56.967684",
     "status": "completed"
    },
    "tags": []
   },
   "outputs": [],
   "source": [
    "# INPUT_SUBSET = \"z_score_std\""
   ]
  },
  {
   "cell_type": "code",
   "execution_count": 10,
   "id": "elementary-court",
   "metadata": {
    "papermill": {
     "duration": 0.019175,
     "end_time": "2021-05-11T19:09:57.025099",
     "exception": false,
     "start_time": "2021-05-11T19:09:57.005924",
     "status": "completed"
    },
    "tags": []
   },
   "outputs": [],
   "source": [
    "# INPUT_STEM = \"projection-smultixcan-efo_partial-mashr-zscores\""
   ]
  },
  {
   "cell_type": "code",
   "execution_count": 11,
   "id": "yellow-stand",
   "metadata": {
    "papermill": {
     "duration": 0.020992,
     "end_time": "2021-05-11T19:09:57.052255",
     "exception": false,
     "start_time": "2021-05-11T19:09:57.031263",
     "status": "completed"
    },
    "tags": []
   },
   "outputs": [],
   "source": [
    "# input_filepath = Path(\n",
    "#     conf.RESULTS[\"DATA_TRANSFORMATIONS_DIR\"],\n",
    "#     INPUT_SUBSET,\n",
    "#     f\"{INPUT_SUBSET}-{INPUT_STEM}.pkl\",\n",
    "# ).resolve()\n",
    "# display(input_filepath)\n",
    "\n",
    "# assert input_filepath.exists(), \"Input file does not exist\"\n",
    "\n",
    "# input_filepath_stem = input_filepath.stem\n",
    "# display(input_filepath_stem)"
   ]
  },
  {
   "cell_type": "code",
   "execution_count": 12,
   "id": "perfect-cruise",
   "metadata": {
    "papermill": {
     "duration": 0.032337,
     "end_time": "2021-05-11T19:09:57.090585",
     "exception": false,
     "start_time": "2021-05-11T19:09:57.058248",
     "status": "completed"
    },
    "tags": []
   },
   "outputs": [],
   "source": [
    "# data = pd.read_pickle(input_filepath)"
   ]
  },
  {
   "cell_type": "code",
   "execution_count": 13,
   "id": "medieval-junction",
   "metadata": {
    "papermill": {
     "duration": 0.01967,
     "end_time": "2021-05-11T19:09:57.116292",
     "exception": false,
     "start_time": "2021-05-11T19:09:57.096622",
     "status": "completed"
    },
    "tags": []
   },
   "outputs": [],
   "source": [
    "# data.shape"
   ]
  },
  {
   "cell_type": "code",
   "execution_count": 14,
   "id": "charitable-craps",
   "metadata": {
    "papermill": {
     "duration": 0.031843,
     "end_time": "2021-05-11T19:09:57.154356",
     "exception": false,
     "start_time": "2021-05-11T19:09:57.122513",
     "status": "completed"
    },
    "tags": []
   },
   "outputs": [],
   "source": [
    "# data.head()"
   ]
  },
  {
   "cell_type": "markdown",
   "id": "architectural-flooring",
   "metadata": {},
   "source": [
    "## LV data"
   ]
  },
  {
   "cell_type": "code",
   "execution_count": 15,
   "id": "suited-employer",
   "metadata": {},
   "outputs": [],
   "source": [
    "# lv_obj = LVAnalysis(LV_NAME, data)\n",
    "lv_obj = LVAnalysis(LV_NAME)"
   ]
  },
  {
   "cell_type": "code",
   "execution_count": 16,
   "id": "noted-little",
   "metadata": {},
   "outputs": [
    {
     "data": {
      "text/html": [
       "<div>\n",
       "<style scoped>\n",
       "    .dataframe tbody tr th:only-of-type {\n",
       "        vertical-align: middle;\n",
       "    }\n",
       "\n",
       "    .dataframe tbody tr th {\n",
       "        vertical-align: top;\n",
       "    }\n",
       "\n",
       "    .dataframe thead th {\n",
       "        text-align: right;\n",
       "    }\n",
       "</style>\n",
       "<table border=\"1\" class=\"dataframe\">\n",
       "  <thead>\n",
       "    <tr style=\"text-align: right;\">\n",
       "      <th></th>\n",
       "      <th>pathway</th>\n",
       "      <th>LV index</th>\n",
       "      <th>AUC</th>\n",
       "      <th>p-value</th>\n",
       "      <th>FDR</th>\n",
       "    </tr>\n",
       "  </thead>\n",
       "  <tbody>\n",
       "    <tr>\n",
       "      <th>88</th>\n",
       "      <td>DMAP_NKA3</td>\n",
       "      <td>17</td>\n",
       "      <td>0.700227</td>\n",
       "      <td>0.006643</td>\n",
       "      <td>0.033796</td>\n",
       "    </tr>\n",
       "    <tr>\n",
       "      <th>91</th>\n",
       "      <td>SVM NK cells resting</td>\n",
       "      <td>17</td>\n",
       "      <td>0.805009</td>\n",
       "      <td>0.000007</td>\n",
       "      <td>0.000100</td>\n",
       "    </tr>\n",
       "    <tr>\n",
       "      <th>92</th>\n",
       "      <td>KEGG_NATURAL_KILLER_CELL_MEDIATED_CYTOTOXICITY</td>\n",
       "      <td>17</td>\n",
       "      <td>0.660631</td>\n",
       "      <td>0.001499</td>\n",
       "      <td>0.010707</td>\n",
       "    </tr>\n",
       "  </tbody>\n",
       "</table>\n",
       "</div>"
      ],
      "text/plain": [
       "                                           pathway LV index       AUC  \\\n",
       "88                                       DMAP_NKA3       17  0.700227   \n",
       "91                            SVM NK cells resting       17  0.805009   \n",
       "92  KEGG_NATURAL_KILLER_CELL_MEDIATED_CYTOTOXICITY       17  0.660631   \n",
       "\n",
       "     p-value       FDR  \n",
       "88  0.006643  0.033796  \n",
       "91  0.000007  0.000100  \n",
       "92  0.001499  0.010707  "
      ]
     },
     "execution_count": 16,
     "metadata": {},
     "output_type": "execute_result"
    }
   ],
   "source": [
    "multiplier_model_summary[\n",
    "    multiplier_model_summary[\"LV index\"].isin((LV_NAME[2:],))\n",
    "    & (\n",
    "        (multiplier_model_summary[\"FDR\"] < 0.05)\n",
    "        | (multiplier_model_summary[\"AUC\"] >= 0.75)\n",
    "    )\n",
    "]"
   ]
  },
  {
   "cell_type": "code",
   "execution_count": 17,
   "id": "assigned-weekly",
   "metadata": {},
   "outputs": [
    {
     "name": "stdout",
     "output_type": "stream",
     "text": [
      "SRP060416, SRP064464, SRP051688, SRP048971, SRP045500, SRP055569, SRP057196, SRP040328, SRP014428, SRP066834, SRP053186, SRP059039, SRP056295, SRP015439, SRP041988, SRP051675, SRP042596, SRP050499, SRP039591, SRP020492, SRP027383, SRP059172, SRP049648, SRP045569, SRP057500, SRP042161, SRP058773, SRP055474, SRP051848, SRP018853, SRP047192, SRP044206, SRP014542, SRP057205, SRP032775, SRP014213, SRP059379, SRP056443, SRP059170, SRP008976, SRP007338, SRP062966, "
     ]
    }
   ],
   "source": [
    "lv_data = lv_obj.get_experiments_data()"
   ]
  },
  {
   "cell_type": "code",
   "execution_count": 18,
   "id": "guilty-medicaid",
   "metadata": {},
   "outputs": [
    {
     "data": {
      "text/plain": [
       "(6641, 90)"
      ]
     },
     "execution_count": 18,
     "metadata": {},
     "output_type": "execute_result"
    }
   ],
   "source": [
    "lv_data.shape"
   ]
  },
  {
   "cell_type": "code",
   "execution_count": 19,
   "id": "neural-cambridge",
   "metadata": {},
   "outputs": [
    {
     "data": {
      "text/html": [
       "<div>\n",
       "<style scoped>\n",
       "    .dataframe tbody tr th:only-of-type {\n",
       "        vertical-align: middle;\n",
       "    }\n",
       "\n",
       "    .dataframe tbody tr th {\n",
       "        vertical-align: top;\n",
       "    }\n",
       "\n",
       "    .dataframe thead th {\n",
       "        text-align: right;\n",
       "    }\n",
       "</style>\n",
       "<table border=\"1\" class=\"dataframe\">\n",
       "  <thead>\n",
       "    <tr style=\"text-align: right;\">\n",
       "      <th></th>\n",
       "      <th></th>\n",
       "      <th>tonsil donor</th>\n",
       "      <th>facs gating</th>\n",
       "      <th>cell type</th>\n",
       "      <th>assigned cell type</th>\n",
       "      <th>qc pass</th>\n",
       "      <th>cell count</th>\n",
       "      <th>ercc_mix</th>\n",
       "      <th>ercc_dilution</th>\n",
       "      <th>time</th>\n",
       "      <th>assay</th>\n",
       "      <th>...</th>\n",
       "      <th>individual</th>\n",
       "      <th>cohort</th>\n",
       "      <th>age (yrs)</th>\n",
       "      <th>days</th>\n",
       "      <th>disease status</th>\n",
       "      <th>library type</th>\n",
       "      <th>read length</th>\n",
       "      <th>anti-ro</th>\n",
       "      <th>ism</th>\n",
       "      <th>LV17</th>\n",
       "    </tr>\n",
       "    <tr>\n",
       "      <th>project</th>\n",
       "      <th>run</th>\n",
       "      <th></th>\n",
       "      <th></th>\n",
       "      <th></th>\n",
       "      <th></th>\n",
       "      <th></th>\n",
       "      <th></th>\n",
       "      <th></th>\n",
       "      <th></th>\n",
       "      <th></th>\n",
       "      <th></th>\n",
       "      <th></th>\n",
       "      <th></th>\n",
       "      <th></th>\n",
       "      <th></th>\n",
       "      <th></th>\n",
       "      <th></th>\n",
       "      <th></th>\n",
       "      <th></th>\n",
       "      <th></th>\n",
       "      <th></th>\n",
       "      <th></th>\n",
       "    </tr>\n",
       "  </thead>\n",
       "  <tbody>\n",
       "    <tr>\n",
       "      <th rowspan=\"5\" valign=\"top\">SRP060416</th>\n",
       "      <th>SRR2088096</th>\n",
       "      <td>Donor T74</td>\n",
       "      <td>NK</td>\n",
       "      <td>tonsil Innate lymphoid cells</td>\n",
       "      <td>NaN</td>\n",
       "      <td>NaN</td>\n",
       "      <td>NaN</td>\n",
       "      <td>NaN</td>\n",
       "      <td>NaN</td>\n",
       "      <td>NaN</td>\n",
       "      <td>NaN</td>\n",
       "      <td>...</td>\n",
       "      <td>NaN</td>\n",
       "      <td>NaN</td>\n",
       "      <td>NaN</td>\n",
       "      <td>NaN</td>\n",
       "      <td>NaN</td>\n",
       "      <td>NaN</td>\n",
       "      <td>NaN</td>\n",
       "      <td>NaN</td>\n",
       "      <td>NaN</td>\n",
       "      <td>1.099582</td>\n",
       "    </tr>\n",
       "    <tr>\n",
       "      <th>SRR2088128</th>\n",
       "      <td>Donor T74</td>\n",
       "      <td>ILC3</td>\n",
       "      <td>tonsil Innate lymphoid cells</td>\n",
       "      <td>NaN</td>\n",
       "      <td>NaN</td>\n",
       "      <td>NaN</td>\n",
       "      <td>NaN</td>\n",
       "      <td>NaN</td>\n",
       "      <td>NaN</td>\n",
       "      <td>NaN</td>\n",
       "      <td>...</td>\n",
       "      <td>NaN</td>\n",
       "      <td>NaN</td>\n",
       "      <td>NaN</td>\n",
       "      <td>NaN</td>\n",
       "      <td>NaN</td>\n",
       "      <td>NaN</td>\n",
       "      <td>NaN</td>\n",
       "      <td>NaN</td>\n",
       "      <td>NaN</td>\n",
       "      <td>0.033274</td>\n",
       "    </tr>\n",
       "    <tr>\n",
       "      <th>SRR2088153</th>\n",
       "      <td>Donor T75</td>\n",
       "      <td>ILC3</td>\n",
       "      <td>tonsil Innate lymphoid cells</td>\n",
       "      <td>NaN</td>\n",
       "      <td>NaN</td>\n",
       "      <td>NaN</td>\n",
       "      <td>NaN</td>\n",
       "      <td>NaN</td>\n",
       "      <td>NaN</td>\n",
       "      <td>NaN</td>\n",
       "      <td>...</td>\n",
       "      <td>NaN</td>\n",
       "      <td>NaN</td>\n",
       "      <td>NaN</td>\n",
       "      <td>NaN</td>\n",
       "      <td>NaN</td>\n",
       "      <td>NaN</td>\n",
       "      <td>NaN</td>\n",
       "      <td>NaN</td>\n",
       "      <td>NaN</td>\n",
       "      <td>0.129300</td>\n",
       "    </tr>\n",
       "    <tr>\n",
       "      <th>SRR2088179</th>\n",
       "      <td>Donor T75</td>\n",
       "      <td>ILC3</td>\n",
       "      <td>tonsil Innate lymphoid cells</td>\n",
       "      <td>NaN</td>\n",
       "      <td>NaN</td>\n",
       "      <td>NaN</td>\n",
       "      <td>NaN</td>\n",
       "      <td>NaN</td>\n",
       "      <td>NaN</td>\n",
       "      <td>NaN</td>\n",
       "      <td>...</td>\n",
       "      <td>NaN</td>\n",
       "      <td>NaN</td>\n",
       "      <td>NaN</td>\n",
       "      <td>NaN</td>\n",
       "      <td>NaN</td>\n",
       "      <td>NaN</td>\n",
       "      <td>NaN</td>\n",
       "      <td>NaN</td>\n",
       "      <td>NaN</td>\n",
       "      <td>0.126182</td>\n",
       "    </tr>\n",
       "    <tr>\n",
       "      <th>SRR2088205</th>\n",
       "      <td>Donor T75</td>\n",
       "      <td>ILC3</td>\n",
       "      <td>tonsil Innate lymphoid cells</td>\n",
       "      <td>NaN</td>\n",
       "      <td>NaN</td>\n",
       "      <td>NaN</td>\n",
       "      <td>NaN</td>\n",
       "      <td>NaN</td>\n",
       "      <td>NaN</td>\n",
       "      <td>NaN</td>\n",
       "      <td>...</td>\n",
       "      <td>NaN</td>\n",
       "      <td>NaN</td>\n",
       "      <td>NaN</td>\n",
       "      <td>NaN</td>\n",
       "      <td>NaN</td>\n",
       "      <td>NaN</td>\n",
       "      <td>NaN</td>\n",
       "      <td>NaN</td>\n",
       "      <td>NaN</td>\n",
       "      <td>0.205237</td>\n",
       "    </tr>\n",
       "  </tbody>\n",
       "</table>\n",
       "<p>5 rows × 90 columns</p>\n",
       "</div>"
      ],
      "text/plain": [
       "                     tonsil donor facs gating                     cell type  \\\n",
       "project   run                                                                 \n",
       "SRP060416 SRR2088096    Donor T74          NK  tonsil Innate lymphoid cells   \n",
       "          SRR2088128    Donor T74        ILC3  tonsil Innate lymphoid cells   \n",
       "          SRR2088153    Donor T75        ILC3  tonsil Innate lymphoid cells   \n",
       "          SRR2088179    Donor T75        ILC3  tonsil Innate lymphoid cells   \n",
       "          SRR2088205    Donor T75        ILC3  tonsil Innate lymphoid cells   \n",
       "\n",
       "                     assigned cell type qc pass cell count ercc_mix  \\\n",
       "project   run                                                         \n",
       "SRP060416 SRR2088096                NaN     NaN        NaN      NaN   \n",
       "          SRR2088128                NaN     NaN        NaN      NaN   \n",
       "          SRR2088153                NaN     NaN        NaN      NaN   \n",
       "          SRR2088179                NaN     NaN        NaN      NaN   \n",
       "          SRR2088205                NaN     NaN        NaN      NaN   \n",
       "\n",
       "                     ercc_dilution time assay  ... individual cohort  \\\n",
       "project   run                                  ...                     \n",
       "SRP060416 SRR2088096           NaN  NaN   NaN  ...        NaN    NaN   \n",
       "          SRR2088128           NaN  NaN   NaN  ...        NaN    NaN   \n",
       "          SRR2088153           NaN  NaN   NaN  ...        NaN    NaN   \n",
       "          SRR2088179           NaN  NaN   NaN  ...        NaN    NaN   \n",
       "          SRR2088205           NaN  NaN   NaN  ...        NaN    NaN   \n",
       "\n",
       "                     age (yrs) days disease status library type read length  \\\n",
       "project   run                                                                 \n",
       "SRP060416 SRR2088096       NaN  NaN            NaN          NaN         NaN   \n",
       "          SRR2088128       NaN  NaN            NaN          NaN         NaN   \n",
       "          SRR2088153       NaN  NaN            NaN          NaN         NaN   \n",
       "          SRR2088179       NaN  NaN            NaN          NaN         NaN   \n",
       "          SRR2088205       NaN  NaN            NaN          NaN         NaN   \n",
       "\n",
       "                     anti-ro  ism      LV17  \n",
       "project   run                                \n",
       "SRP060416 SRR2088096     NaN  NaN  1.099582  \n",
       "          SRR2088128     NaN  NaN  0.033274  \n",
       "          SRR2088153     NaN  NaN  0.129300  \n",
       "          SRR2088179     NaN  NaN  0.126182  \n",
       "          SRR2088205     NaN  NaN  0.205237  \n",
       "\n",
       "[5 rows x 90 columns]"
      ]
     },
     "execution_count": 19,
     "metadata": {},
     "output_type": "execute_result"
    }
   ],
   "source": [
    "lv_data.head()"
   ]
  },
  {
   "cell_type": "markdown",
   "id": "civil-yugoslavia",
   "metadata": {},
   "source": [
    "# LV cell types analysis"
   ]
  },
  {
   "cell_type": "markdown",
   "id": "roman-hotel",
   "metadata": {},
   "source": [
    "## Get top attributes"
   ]
  },
  {
   "cell_type": "code",
   "execution_count": 20,
   "id": "pressed-oxide",
   "metadata": {},
   "outputs": [
    {
     "data": {
      "text/plain": [
       "tonsil donor                      0.245879\n",
       "facs gating                       0.245879\n",
       "marker                            0.073126\n",
       "source                            0.050659\n",
       "cell type                         0.047044\n",
       "assay                             0.039606\n",
       "donor                             0.039606\n",
       "time                              0.024213\n",
       "ercc_dilution                     0.014494\n",
       "ercc_mix                          0.014494\n",
       "cell count                        0.014494\n",
       "qc pass                           0.014494\n",
       "assigned cell type                0.014494\n",
       "race                              0.010956\n",
       "years since diagnosis             0.010956\n",
       "time since symptom onset (yrs)    0.010956\n",
       "time since steroid dose           0.010956\n",
       "time since last flare (months)    0.010956\n",
       "smoker                            0.010956\n",
       "samplename                        0.010956\n",
       "dtype: float64"
      ]
     },
     "metadata": {},
     "output_type": "display_data"
    }
   ],
   "source": [
    "lv_attrs = lv_obj.get_attributes_variation_score()\n",
    "display(lv_attrs.head(20))"
   ]
  },
  {
   "cell_type": "code",
   "execution_count": 21,
   "id": "creative-privacy",
   "metadata": {},
   "outputs": [
    {
     "data": {
      "text/plain": [
       "cell type    0.047044\n",
       "tissue       0.000668\n",
       "dtype: float64"
      ]
     },
     "execution_count": 21,
     "metadata": {},
     "output_type": "execute_result"
    }
   ],
   "source": [
    "# show those with cell type or tissue in their name\n",
    "_tmp = pd.Series(lv_attrs.index)\n",
    "lv_attrs[\n",
    "    _tmp.str.match(\n",
    "        \"(?:cell.+type$)|(?:tissue$)|(?:tissue.+type$)\",\n",
    "        case=False,\n",
    "        flags=re.IGNORECASE,\n",
    "    ).values\n",
    "].sort_values(ascending=False)"
   ]
  },
  {
   "cell_type": "code",
   "execution_count": 23,
   "id": "distinguished-thinking",
   "metadata": {},
   "outputs": [],
   "source": [
    "_tmp = lv_data.loc[\n",
    "    :,\n",
    "    [\n",
    "        \"cell type\",\n",
    "        \"tissue\",\n",
    "        LV_NAME,\n",
    "    ],\n",
    "]"
   ]
  },
  {
   "cell_type": "code",
   "execution_count": 24,
   "id": "civil-cooperation",
   "metadata": {},
   "outputs": [],
   "source": [
    "_tmp_seq = list(chunker(_tmp.sort_values(LV_NAME, ascending=False), 25))"
   ]
  },
  {
   "cell_type": "code",
   "execution_count": 29,
   "id": "dressed-enemy",
   "metadata": {},
   "outputs": [
    {
     "data": {
      "text/html": [
       "<div>\n",
       "<style scoped>\n",
       "    .dataframe tbody tr th:only-of-type {\n",
       "        vertical-align: middle;\n",
       "    }\n",
       "\n",
       "    .dataframe tbody tr th {\n",
       "        vertical-align: top;\n",
       "    }\n",
       "\n",
       "    .dataframe thead th {\n",
       "        text-align: right;\n",
       "    }\n",
       "</style>\n",
       "<table border=\"1\" class=\"dataframe\">\n",
       "  <thead>\n",
       "    <tr style=\"text-align: right;\">\n",
       "      <th></th>\n",
       "      <th></th>\n",
       "      <th>cell type</th>\n",
       "      <th>tissue</th>\n",
       "      <th>LV17</th>\n",
       "    </tr>\n",
       "    <tr>\n",
       "      <th>project</th>\n",
       "      <th>run</th>\n",
       "      <th></th>\n",
       "      <th></th>\n",
       "      <th></th>\n",
       "    </tr>\n",
       "  </thead>\n",
       "  <tbody>\n",
       "    <tr>\n",
       "      <th>SRP051688</th>\n",
       "      <th>SRR1740080</th>\n",
       "      <td>primary human NK cells</td>\n",
       "      <td>NaN</td>\n",
       "      <td>0.561674</td>\n",
       "    </tr>\n",
       "    <tr>\n",
       "      <th>SRP048971</th>\n",
       "      <th>SRR1613931</th>\n",
       "      <td>NK cells</td>\n",
       "      <td>NaN</td>\n",
       "      <td>0.554569</td>\n",
       "    </tr>\n",
       "    <tr>\n",
       "      <th rowspan=\"3\" valign=\"top\">SRP051688</th>\n",
       "      <th>SRR1740051</th>\n",
       "      <td>primary human NK cells</td>\n",
       "      <td>NaN</td>\n",
       "      <td>0.554537</td>\n",
       "    </tr>\n",
       "    <tr>\n",
       "      <th>SRR1740079</th>\n",
       "      <td>primary human NK cells</td>\n",
       "      <td>NaN</td>\n",
       "      <td>0.548892</td>\n",
       "    </tr>\n",
       "    <tr>\n",
       "      <th>SRR1740053</th>\n",
       "      <td>primary human NK cells</td>\n",
       "      <td>NaN</td>\n",
       "      <td>0.548400</td>\n",
       "    </tr>\n",
       "    <tr>\n",
       "      <th>SRP060416</th>\n",
       "      <th>SRR2088361</th>\n",
       "      <td>tonsil Innate lymphoid cells</td>\n",
       "      <td>NaN</td>\n",
       "      <td>0.539770</td>\n",
       "    </tr>\n",
       "    <tr>\n",
       "      <th rowspan=\"2\" valign=\"top\">SRP051688</th>\n",
       "      <th>SRR1740078</th>\n",
       "      <td>primary human NK cells</td>\n",
       "      <td>NaN</td>\n",
       "      <td>0.537109</td>\n",
       "    </tr>\n",
       "    <tr>\n",
       "      <th>SRR1740050</th>\n",
       "      <td>primary human NK cells</td>\n",
       "      <td>NaN</td>\n",
       "      <td>0.490612</td>\n",
       "    </tr>\n",
       "    <tr>\n",
       "      <th rowspan=\"3\" valign=\"top\">SRP060416</th>\n",
       "      <th>SRR2088113</th>\n",
       "      <td>tonsil Innate lymphoid cells</td>\n",
       "      <td>NaN</td>\n",
       "      <td>0.452520</td>\n",
       "    </tr>\n",
       "    <tr>\n",
       "      <th>SRR2088094</th>\n",
       "      <td>tonsil Innate lymphoid cells</td>\n",
       "      <td>NaN</td>\n",
       "      <td>0.426438</td>\n",
       "    </tr>\n",
       "    <tr>\n",
       "      <th>SRR2088628</th>\n",
       "      <td>tonsil Innate lymphoid cells</td>\n",
       "      <td>NaN</td>\n",
       "      <td>0.424554</td>\n",
       "    </tr>\n",
       "    <tr>\n",
       "      <th rowspan=\"3\" valign=\"top\">SRP045500</th>\n",
       "      <th>SRR1551045</th>\n",
       "      <td>NaN</td>\n",
       "      <td>NaN</td>\n",
       "      <td>0.421466</td>\n",
       "    </tr>\n",
       "    <tr>\n",
       "      <th>SRR1551052</th>\n",
       "      <td>NaN</td>\n",
       "      <td>NaN</td>\n",
       "      <td>0.377059</td>\n",
       "    </tr>\n",
       "    <tr>\n",
       "      <th>SRR1551106</th>\n",
       "      <td>NaN</td>\n",
       "      <td>NaN</td>\n",
       "      <td>0.370329</td>\n",
       "    </tr>\n",
       "    <tr>\n",
       "      <th>SRP060416</th>\n",
       "      <th>SRR2088222</th>\n",
       "      <td>tonsil Innate lymphoid cells</td>\n",
       "      <td>NaN</td>\n",
       "      <td>0.352618</td>\n",
       "    </tr>\n",
       "    <tr>\n",
       "      <th>SRP045500</th>\n",
       "      <th>SRR1551038</th>\n",
       "      <td>NaN</td>\n",
       "      <td>NaN</td>\n",
       "      <td>0.346534</td>\n",
       "    </tr>\n",
       "    <tr>\n",
       "      <th>SRP060416</th>\n",
       "      <th>SRR2088413</th>\n",
       "      <td>tonsil Innate lymphoid cells</td>\n",
       "      <td>NaN</td>\n",
       "      <td>0.344783</td>\n",
       "    </tr>\n",
       "    <tr>\n",
       "      <th rowspan=\"2\" valign=\"top\">SRP045500</th>\n",
       "      <th>SRR1551073</th>\n",
       "      <td>NaN</td>\n",
       "      <td>NaN</td>\n",
       "      <td>0.329538</td>\n",
       "    </tr>\n",
       "    <tr>\n",
       "      <th>SRR1551059</th>\n",
       "      <td>NaN</td>\n",
       "      <td>NaN</td>\n",
       "      <td>0.326795</td>\n",
       "    </tr>\n",
       "    <tr>\n",
       "      <th rowspan=\"5\" valign=\"top\">SRP060416</th>\n",
       "      <th>SRR2088189</th>\n",
       "      <td>tonsil Innate lymphoid cells</td>\n",
       "      <td>NaN</td>\n",
       "      <td>0.320491</td>\n",
       "    </tr>\n",
       "    <tr>\n",
       "      <th>SRR2088379</th>\n",
       "      <td>tonsil Innate lymphoid cells</td>\n",
       "      <td>NaN</td>\n",
       "      <td>0.318977</td>\n",
       "    </tr>\n",
       "    <tr>\n",
       "      <th>SRR2088364</th>\n",
       "      <td>tonsil Innate lymphoid cells</td>\n",
       "      <td>NaN</td>\n",
       "      <td>0.299696</td>\n",
       "    </tr>\n",
       "    <tr>\n",
       "      <th>SRR2088621</th>\n",
       "      <td>tonsil Innate lymphoid cells</td>\n",
       "      <td>NaN</td>\n",
       "      <td>0.299130</td>\n",
       "    </tr>\n",
       "    <tr>\n",
       "      <th>SRR2088575</th>\n",
       "      <td>tonsil Innate lymphoid cells</td>\n",
       "      <td>NaN</td>\n",
       "      <td>0.296226</td>\n",
       "    </tr>\n",
       "    <tr>\n",
       "      <th>SRP055569</th>\n",
       "      <th>SRR1821460</th>\n",
       "      <td>mixture of U87 human glioma cells and MCF10a h...</td>\n",
       "      <td>NaN</td>\n",
       "      <td>0.290712</td>\n",
       "    </tr>\n",
       "  </tbody>\n",
       "</table>\n",
       "</div>"
      ],
      "text/plain": [
       "                                                              cell type  \\\n",
       "project   run                                                             \n",
       "SRP051688 SRR1740080                             primary human NK cells   \n",
       "SRP048971 SRR1613931                                           NK cells   \n",
       "SRP051688 SRR1740051                             primary human NK cells   \n",
       "          SRR1740079                             primary human NK cells   \n",
       "          SRR1740053                             primary human NK cells   \n",
       "SRP060416 SRR2088361                       tonsil Innate lymphoid cells   \n",
       "SRP051688 SRR1740078                             primary human NK cells   \n",
       "          SRR1740050                             primary human NK cells   \n",
       "SRP060416 SRR2088113                       tonsil Innate lymphoid cells   \n",
       "          SRR2088094                       tonsil Innate lymphoid cells   \n",
       "          SRR2088628                       tonsil Innate lymphoid cells   \n",
       "SRP045500 SRR1551045                                                NaN   \n",
       "          SRR1551052                                                NaN   \n",
       "          SRR1551106                                                NaN   \n",
       "SRP060416 SRR2088222                       tonsil Innate lymphoid cells   \n",
       "SRP045500 SRR1551038                                                NaN   \n",
       "SRP060416 SRR2088413                       tonsil Innate lymphoid cells   \n",
       "SRP045500 SRR1551073                                                NaN   \n",
       "          SRR1551059                                                NaN   \n",
       "SRP060416 SRR2088189                       tonsil Innate lymphoid cells   \n",
       "          SRR2088379                       tonsil Innate lymphoid cells   \n",
       "          SRR2088364                       tonsil Innate lymphoid cells   \n",
       "          SRR2088621                       tonsil Innate lymphoid cells   \n",
       "          SRR2088575                       tonsil Innate lymphoid cells   \n",
       "SRP055569 SRR1821460  mixture of U87 human glioma cells and MCF10a h...   \n",
       "\n",
       "                     tissue      LV17  \n",
       "project   run                          \n",
       "SRP051688 SRR1740080    NaN  0.561674  \n",
       "SRP048971 SRR1613931    NaN  0.554569  \n",
       "SRP051688 SRR1740051    NaN  0.554537  \n",
       "          SRR1740079    NaN  0.548892  \n",
       "          SRR1740053    NaN  0.548400  \n",
       "SRP060416 SRR2088361    NaN  0.539770  \n",
       "SRP051688 SRR1740078    NaN  0.537109  \n",
       "          SRR1740050    NaN  0.490612  \n",
       "SRP060416 SRR2088113    NaN  0.452520  \n",
       "          SRR2088094    NaN  0.426438  \n",
       "          SRR2088628    NaN  0.424554  \n",
       "SRP045500 SRR1551045    NaN  0.421466  \n",
       "          SRR1551052    NaN  0.377059  \n",
       "          SRR1551106    NaN  0.370329  \n",
       "SRP060416 SRR2088222    NaN  0.352618  \n",
       "SRP045500 SRR1551038    NaN  0.346534  \n",
       "SRP060416 SRR2088413    NaN  0.344783  \n",
       "SRP045500 SRR1551073    NaN  0.329538  \n",
       "          SRR1551059    NaN  0.326795  \n",
       "SRP060416 SRR2088189    NaN  0.320491  \n",
       "          SRR2088379    NaN  0.318977  \n",
       "          SRR2088364    NaN  0.299696  \n",
       "          SRR2088621    NaN  0.299130  \n",
       "          SRR2088575    NaN  0.296226  \n",
       "SRP055569 SRR1821460    NaN  0.290712  "
      ]
     },
     "execution_count": 29,
     "metadata": {},
     "output_type": "execute_result"
    }
   ],
   "source": [
    "_tmp_seq[3]"
   ]
  },
  {
   "cell_type": "code",
   "execution_count": 30,
   "id": "grateful-cuisine",
   "metadata": {},
   "outputs": [
    {
     "data": {
      "text/html": [
       "<div>\n",
       "<style scoped>\n",
       "    .dataframe tbody tr th:only-of-type {\n",
       "        vertical-align: middle;\n",
       "    }\n",
       "\n",
       "    .dataframe tbody tr th {\n",
       "        vertical-align: top;\n",
       "    }\n",
       "\n",
       "    .dataframe thead th {\n",
       "        text-align: right;\n",
       "    }\n",
       "</style>\n",
       "<table border=\"1\" class=\"dataframe\">\n",
       "  <thead>\n",
       "    <tr style=\"text-align: right;\">\n",
       "      <th></th>\n",
       "      <th></th>\n",
       "      <th>age</th>\n",
       "      <th>cellcount</th>\n",
       "      <th>celltype</th>\n",
       "      <th>collectiondate</th>\n",
       "      <th>diseasestatus</th>\n",
       "      <th>donorid</th>\n",
       "      <th>gender</th>\n",
       "      <th>index</th>\n",
       "      <th>race</th>\n",
       "      <th>samplename</th>\n",
       "      <th>smoker</th>\n",
       "      <th>time since last flare (months)</th>\n",
       "      <th>time since steroid dose</th>\n",
       "      <th>time since symptom onset (yrs)</th>\n",
       "      <th>years since diagnosis</th>\n",
       "      <th>LV17</th>\n",
       "    </tr>\n",
       "    <tr>\n",
       "      <th>project</th>\n",
       "      <th>run</th>\n",
       "      <th></th>\n",
       "      <th></th>\n",
       "      <th></th>\n",
       "      <th></th>\n",
       "      <th></th>\n",
       "      <th></th>\n",
       "      <th></th>\n",
       "      <th></th>\n",
       "      <th></th>\n",
       "      <th></th>\n",
       "      <th></th>\n",
       "      <th></th>\n",
       "      <th></th>\n",
       "      <th></th>\n",
       "      <th></th>\n",
       "      <th></th>\n",
       "    </tr>\n",
       "  </thead>\n",
       "  <tbody>\n",
       "    <tr>\n",
       "      <th rowspan=\"10\" valign=\"top\">SRP045500</th>\n",
       "      <th>SRR1551045</th>\n",
       "      <td>36</td>\n",
       "      <td>301460</td>\n",
       "      <td>NK</td>\n",
       "      <td>June 29 2012</td>\n",
       "      <td>MS posttreatment</td>\n",
       "      <td>46</td>\n",
       "      <td>F</td>\n",
       "      <td>1</td>\n",
       "      <td>White</td>\n",
       "      <td>46_NK</td>\n",
       "      <td>N</td>\n",
       "      <td>47</td>\n",
       "      <td>--</td>\n",
       "      <td>10</td>\n",
       "      <td>--</td>\n",
       "      <td>0.421466</td>\n",
       "    </tr>\n",
       "    <tr>\n",
       "      <th>SRR1551052</th>\n",
       "      <td>29</td>\n",
       "      <td>285000</td>\n",
       "      <td>NK</td>\n",
       "      <td>January 25 2012</td>\n",
       "      <td>Healthy Control</td>\n",
       "      <td>20</td>\n",
       "      <td>F</td>\n",
       "      <td>11</td>\n",
       "      <td>White</td>\n",
       "      <td>20_NK</td>\n",
       "      <td>--</td>\n",
       "      <td>--</td>\n",
       "      <td>--</td>\n",
       "      <td>--</td>\n",
       "      <td>--</td>\n",
       "      <td>0.377059</td>\n",
       "    </tr>\n",
       "    <tr>\n",
       "      <th>SRR1551106</th>\n",
       "      <td>35</td>\n",
       "      <td>310438</td>\n",
       "      <td>NK</td>\n",
       "      <td>August 24 2012</td>\n",
       "      <td>MS posttreatment</td>\n",
       "      <td>56</td>\n",
       "      <td>F</td>\n",
       "      <td>9</td>\n",
       "      <td>White</td>\n",
       "      <td>56_NK</td>\n",
       "      <td>N</td>\n",
       "      <td>1</td>\n",
       "      <td>1 month, IV</td>\n",
       "      <td>0.5</td>\n",
       "      <td>--</td>\n",
       "      <td>0.370329</td>\n",
       "    </tr>\n",
       "    <tr>\n",
       "      <th>SRR1551038</th>\n",
       "      <td>36</td>\n",
       "      <td>329348</td>\n",
       "      <td>NK</td>\n",
       "      <td>June 28 2012</td>\n",
       "      <td>MS pretreatment</td>\n",
       "      <td>45</td>\n",
       "      <td>F</td>\n",
       "      <td>4</td>\n",
       "      <td>White</td>\n",
       "      <td>45_NK</td>\n",
       "      <td>N</td>\n",
       "      <td>47</td>\n",
       "      <td>--</td>\n",
       "      <td>10</td>\n",
       "      <td>--</td>\n",
       "      <td>0.346534</td>\n",
       "    </tr>\n",
       "    <tr>\n",
       "      <th>SRR1551073</th>\n",
       "      <td>30</td>\n",
       "      <td>140773</td>\n",
       "      <td>NK</td>\n",
       "      <td>August 21 2012</td>\n",
       "      <td>Healthy Control</td>\n",
       "      <td>53</td>\n",
       "      <td>F</td>\n",
       "      <td>11</td>\n",
       "      <td>White</td>\n",
       "      <td>53_NK</td>\n",
       "      <td>--</td>\n",
       "      <td>--</td>\n",
       "      <td>--</td>\n",
       "      <td>--</td>\n",
       "      <td>--</td>\n",
       "      <td>0.329538</td>\n",
       "    </tr>\n",
       "    <tr>\n",
       "      <th>SRR1551059</th>\n",
       "      <td>22</td>\n",
       "      <td>147461</td>\n",
       "      <td>NK</td>\n",
       "      <td>February 2 2012</td>\n",
       "      <td>Healthy Control</td>\n",
       "      <td>21</td>\n",
       "      <td>F</td>\n",
       "      <td>14</td>\n",
       "      <td>White</td>\n",
       "      <td>21_NK</td>\n",
       "      <td>--</td>\n",
       "      <td>--</td>\n",
       "      <td>--</td>\n",
       "      <td>--</td>\n",
       "      <td>--</td>\n",
       "      <td>0.326795</td>\n",
       "    </tr>\n",
       "    <tr>\n",
       "      <th>SRR1551007</th>\n",
       "      <td>24</td>\n",
       "      <td>320942</td>\n",
       "      <td>NK</td>\n",
       "      <td>May 23 2012</td>\n",
       "      <td>Type 1 Diabetes</td>\n",
       "      <td>34</td>\n",
       "      <td>F</td>\n",
       "      <td>16</td>\n",
       "      <td>White</td>\n",
       "      <td>34_NK</td>\n",
       "      <td>--</td>\n",
       "      <td>--</td>\n",
       "      <td>--</td>\n",
       "      <td>--</td>\n",
       "      <td>7</td>\n",
       "      <td>0.285106</td>\n",
       "    </tr>\n",
       "    <tr>\n",
       "      <th>SRR1550991</th>\n",
       "      <td>32</td>\n",
       "      <td>379236</td>\n",
       "      <td>NK</td>\n",
       "      <td>June 26 2012</td>\n",
       "      <td>Healthy Control</td>\n",
       "      <td>44</td>\n",
       "      <td>F</td>\n",
       "      <td>19</td>\n",
       "      <td>Hispanic</td>\n",
       "      <td>44_NK</td>\n",
       "      <td>--</td>\n",
       "      <td>--</td>\n",
       "      <td>--</td>\n",
       "      <td>--</td>\n",
       "      <td>--</td>\n",
       "      <td>0.281258</td>\n",
       "    </tr>\n",
       "    <tr>\n",
       "      <th>SRR1551093</th>\n",
       "      <td>21</td>\n",
       "      <td>223256</td>\n",
       "      <td>NK</td>\n",
       "      <td>June 20 2012</td>\n",
       "      <td>Type 1 Diabetes</td>\n",
       "      <td>41</td>\n",
       "      <td>F</td>\n",
       "      <td>13</td>\n",
       "      <td>White</td>\n",
       "      <td>41_NK</td>\n",
       "      <td>--</td>\n",
       "      <td>--</td>\n",
       "      <td>--</td>\n",
       "      <td>--</td>\n",
       "      <td>2.5</td>\n",
       "      <td>0.259611</td>\n",
       "    </tr>\n",
       "    <tr>\n",
       "      <th>SRR1551080</th>\n",
       "      <td>--</td>\n",
       "      <td>601013</td>\n",
       "      <td>NK</td>\n",
       "      <td>August 22 2012</td>\n",
       "      <td>ALS</td>\n",
       "      <td>54</td>\n",
       "      <td>--</td>\n",
       "      <td>21</td>\n",
       "      <td>--</td>\n",
       "      <td>54_NK</td>\n",
       "      <td>--</td>\n",
       "      <td>--</td>\n",
       "      <td>--</td>\n",
       "      <td>--</td>\n",
       "      <td>--</td>\n",
       "      <td>0.256039</td>\n",
       "    </tr>\n",
       "  </tbody>\n",
       "</table>\n",
       "</div>"
      ],
      "text/plain": [
       "                     age cellcount celltype   collectiondate  \\\n",
       "project   run                                                  \n",
       "SRP045500 SRR1551045  36    301460       NK     June 29 2012   \n",
       "          SRR1551052  29    285000       NK  January 25 2012   \n",
       "          SRR1551106  35    310438       NK   August 24 2012   \n",
       "          SRR1551038  36    329348       NK     June 28 2012   \n",
       "          SRR1551073  30    140773       NK   August 21 2012   \n",
       "          SRR1551059  22    147461       NK  February 2 2012   \n",
       "          SRR1551007  24    320942       NK      May 23 2012   \n",
       "          SRR1550991  32    379236       NK     June 26 2012   \n",
       "          SRR1551093  21    223256       NK     June 20 2012   \n",
       "          SRR1551080  --    601013       NK   August 22 2012   \n",
       "\n",
       "                         diseasestatus donorid gender index      race  \\\n",
       "project   run                                                           \n",
       "SRP045500 SRR1551045  MS posttreatment      46      F     1     White   \n",
       "          SRR1551052   Healthy Control      20      F    11     White   \n",
       "          SRR1551106  MS posttreatment      56      F     9     White   \n",
       "          SRR1551038   MS pretreatment      45      F     4     White   \n",
       "          SRR1551073   Healthy Control      53      F    11     White   \n",
       "          SRR1551059   Healthy Control      21      F    14     White   \n",
       "          SRR1551007   Type 1 Diabetes      34      F    16     White   \n",
       "          SRR1550991   Healthy Control      44      F    19  Hispanic   \n",
       "          SRR1551093   Type 1 Diabetes      41      F    13     White   \n",
       "          SRR1551080               ALS      54     --    21        --   \n",
       "\n",
       "                     samplename smoker time since last flare (months)  \\\n",
       "project   run                                                           \n",
       "SRP045500 SRR1551045      46_NK      N                             47   \n",
       "          SRR1551052      20_NK     --                             --   \n",
       "          SRR1551106      56_NK      N                              1   \n",
       "          SRR1551038      45_NK      N                             47   \n",
       "          SRR1551073      53_NK     --                             --   \n",
       "          SRR1551059      21_NK     --                             --   \n",
       "          SRR1551007      34_NK     --                             --   \n",
       "          SRR1550991      44_NK     --                             --   \n",
       "          SRR1551093      41_NK     --                             --   \n",
       "          SRR1551080      54_NK     --                             --   \n",
       "\n",
       "                     time since steroid dose time since symptom onset (yrs)  \\\n",
       "project   run                                                                 \n",
       "SRP045500 SRR1551045                      --                             10   \n",
       "          SRR1551052                      --                             --   \n",
       "          SRR1551106             1 month, IV                            0.5   \n",
       "          SRR1551038                      --                             10   \n",
       "          SRR1551073                      --                             --   \n",
       "          SRR1551059                      --                             --   \n",
       "          SRR1551007                      --                             --   \n",
       "          SRR1550991                      --                             --   \n",
       "          SRR1551093                      --                             --   \n",
       "          SRR1551080                      --                             --   \n",
       "\n",
       "                     years since diagnosis      LV17  \n",
       "project   run                                         \n",
       "SRP045500 SRR1551045                    --  0.421466  \n",
       "          SRR1551052                    --  0.377059  \n",
       "          SRR1551106                    --  0.370329  \n",
       "          SRR1551038                    --  0.346534  \n",
       "          SRR1551073                    --  0.329538  \n",
       "          SRR1551059                    --  0.326795  \n",
       "          SRR1551007                     7  0.285106  \n",
       "          SRR1550991                    --  0.281258  \n",
       "          SRR1551093                   2.5  0.259611  \n",
       "          SRR1551080                    --  0.256039  "
      ]
     },
     "execution_count": 30,
     "metadata": {},
     "output_type": "execute_result"
    }
   ],
   "source": [
    "# what is there in these projects?\n",
    "lv_data.loc[[\"SRP045500\"]].dropna(how=\"all\", axis=1).sort_values(\n",
    "    LV_NAME, ascending=False\n",
    ").sort_values(LV_NAME, ascending=False).head(10)"
   ]
  },
  {
   "cell_type": "code",
   "execution_count": 31,
   "id": "stylish-network",
   "metadata": {},
   "outputs": [],
   "source": [
    "SELECTED_ATTRIBUTE = \"cell type\""
   ]
  },
  {
   "cell_type": "code",
   "execution_count": 32,
   "id": "turkish-valley",
   "metadata": {},
   "outputs": [],
   "source": [
    "# it has to be in the order desired for filling nans in the SELECTED_ATTRIBUTE\n",
    "SECOND_ATTRIBUTES = [\"tissue\"]"
   ]
  },
  {
   "cell_type": "markdown",
   "id": "victorian-bidding",
   "metadata": {},
   "source": [
    "## Get plot data"
   ]
  },
  {
   "cell_type": "code",
   "execution_count": 116,
   "id": "jewish-weekend",
   "metadata": {},
   "outputs": [],
   "source": [
    "plot_data = lv_data.loc[:, [SELECTED_ATTRIBUTE] + SECOND_ATTRIBUTES + [LV_NAME]]"
   ]
  },
  {
   "cell_type": "code",
   "execution_count": 117,
   "id": "genuine-hierarchy",
   "metadata": {},
   "outputs": [],
   "source": [
    "# if blank/nan, fill cell type column with tissue content\n",
    "_new_column = plot_data[[SELECTED_ATTRIBUTE] + SECOND_ATTRIBUTES].fillna(\n",
    "    method=\"backfill\", axis=1\n",
    ")[SELECTED_ATTRIBUTE]\n",
    "plot_data[SELECTED_ATTRIBUTE] = _new_column\n",
    "plot_data = plot_data.drop(columns=SECOND_ATTRIBUTES)\n",
    "plot_data = plot_data.fillna({SELECTED_ATTRIBUTE: \"NOT CATEGORIZED\"})\n",
    "# plot_data = plot_data.dropna(subset=[SELECTED_ATTRIBUTE])"
   ]
  },
  {
   "cell_type": "code",
   "execution_count": 118,
   "id": "light-smart",
   "metadata": {},
   "outputs": [],
   "source": [
    "plot_data = plot_data.sort_values(LV_NAME, ascending=False)"
   ]
  },
  {
   "cell_type": "code",
   "execution_count": 119,
   "id": "fitted-button",
   "metadata": {},
   "outputs": [
    {
     "data": {
      "text/html": [
       "<div>\n",
       "<style scoped>\n",
       "    .dataframe tbody tr th:only-of-type {\n",
       "        vertical-align: middle;\n",
       "    }\n",
       "\n",
       "    .dataframe tbody tr th {\n",
       "        vertical-align: top;\n",
       "    }\n",
       "\n",
       "    .dataframe thead th {\n",
       "        text-align: right;\n",
       "    }\n",
       "</style>\n",
       "<table border=\"1\" class=\"dataframe\">\n",
       "  <thead>\n",
       "    <tr style=\"text-align: right;\">\n",
       "      <th></th>\n",
       "      <th></th>\n",
       "      <th>cell type</th>\n",
       "      <th>LV17</th>\n",
       "    </tr>\n",
       "    <tr>\n",
       "      <th>project</th>\n",
       "      <th>run</th>\n",
       "      <th></th>\n",
       "      <th></th>\n",
       "    </tr>\n",
       "  </thead>\n",
       "  <tbody>\n",
       "    <tr>\n",
       "      <th rowspan=\"20\" valign=\"top\">SRP060416</th>\n",
       "      <th>SRR2088233</th>\n",
       "      <td>tonsil Innate lymphoid cells</td>\n",
       "      <td>3.417416</td>\n",
       "    </tr>\n",
       "    <tr>\n",
       "      <th>SRR2088180</th>\n",
       "      <td>tonsil Innate lymphoid cells</td>\n",
       "      <td>2.599111</td>\n",
       "    </tr>\n",
       "    <tr>\n",
       "      <th>SRR2088296</th>\n",
       "      <td>tonsil Innate lymphoid cells</td>\n",
       "      <td>2.386343</td>\n",
       "    </tr>\n",
       "    <tr>\n",
       "      <th>SRR2088326</th>\n",
       "      <td>tonsil Innate lymphoid cells</td>\n",
       "      <td>2.261557</td>\n",
       "    </tr>\n",
       "    <tr>\n",
       "      <th>SRR2088467</th>\n",
       "      <td>tonsil Innate lymphoid cells</td>\n",
       "      <td>2.083419</td>\n",
       "    </tr>\n",
       "    <tr>\n",
       "      <th>SRR2088085</th>\n",
       "      <td>tonsil Innate lymphoid cells</td>\n",
       "      <td>2.066670</td>\n",
       "    </tr>\n",
       "    <tr>\n",
       "      <th>SRR2088313</th>\n",
       "      <td>tonsil Innate lymphoid cells</td>\n",
       "      <td>2.066504</td>\n",
       "    </tr>\n",
       "    <tr>\n",
       "      <th>SRR2088529</th>\n",
       "      <td>tonsil Innate lymphoid cells</td>\n",
       "      <td>1.993387</td>\n",
       "    </tr>\n",
       "    <tr>\n",
       "      <th>SRR2088124</th>\n",
       "      <td>tonsil Innate lymphoid cells</td>\n",
       "      <td>1.974159</td>\n",
       "    </tr>\n",
       "    <tr>\n",
       "      <th>SRR2088365</th>\n",
       "      <td>tonsil Innate lymphoid cells</td>\n",
       "      <td>1.911251</td>\n",
       "    </tr>\n",
       "    <tr>\n",
       "      <th>SRR2088417</th>\n",
       "      <td>tonsil Innate lymphoid cells</td>\n",
       "      <td>1.902558</td>\n",
       "    </tr>\n",
       "    <tr>\n",
       "      <th>SRR2088228</th>\n",
       "      <td>tonsil Innate lymphoid cells</td>\n",
       "      <td>1.892826</td>\n",
       "    </tr>\n",
       "    <tr>\n",
       "      <th>SRR2088117</th>\n",
       "      <td>tonsil Innate lymphoid cells</td>\n",
       "      <td>1.875359</td>\n",
       "    </tr>\n",
       "    <tr>\n",
       "      <th>SRR2088656</th>\n",
       "      <td>tonsil Innate lymphoid cells</td>\n",
       "      <td>1.814831</td>\n",
       "    </tr>\n",
       "    <tr>\n",
       "      <th>SRR2088436</th>\n",
       "      <td>tonsil Innate lymphoid cells</td>\n",
       "      <td>1.747741</td>\n",
       "    </tr>\n",
       "    <tr>\n",
       "      <th>SRR2088468</th>\n",
       "      <td>tonsil Innate lymphoid cells</td>\n",
       "      <td>1.736750</td>\n",
       "    </tr>\n",
       "    <tr>\n",
       "      <th>SRR2088450</th>\n",
       "      <td>tonsil Innate lymphoid cells</td>\n",
       "      <td>1.734135</td>\n",
       "    </tr>\n",
       "    <tr>\n",
       "      <th>SRR2088245</th>\n",
       "      <td>tonsil Innate lymphoid cells</td>\n",
       "      <td>1.724517</td>\n",
       "    </tr>\n",
       "    <tr>\n",
       "      <th>SRR2088614</th>\n",
       "      <td>tonsil Innate lymphoid cells</td>\n",
       "      <td>1.691772</td>\n",
       "    </tr>\n",
       "    <tr>\n",
       "      <th>SRR2088097</th>\n",
       "      <td>tonsil Innate lymphoid cells</td>\n",
       "      <td>1.688232</td>\n",
       "    </tr>\n",
       "  </tbody>\n",
       "</table>\n",
       "</div>"
      ],
      "text/plain": [
       "                                         cell type      LV17\n",
       "project   run                                               \n",
       "SRP060416 SRR2088233  tonsil Innate lymphoid cells  3.417416\n",
       "          SRR2088180  tonsil Innate lymphoid cells  2.599111\n",
       "          SRR2088296  tonsil Innate lymphoid cells  2.386343\n",
       "          SRR2088326  tonsil Innate lymphoid cells  2.261557\n",
       "          SRR2088467  tonsil Innate lymphoid cells  2.083419\n",
       "          SRR2088085  tonsil Innate lymphoid cells  2.066670\n",
       "          SRR2088313  tonsil Innate lymphoid cells  2.066504\n",
       "          SRR2088529  tonsil Innate lymphoid cells  1.993387\n",
       "          SRR2088124  tonsil Innate lymphoid cells  1.974159\n",
       "          SRR2088365  tonsil Innate lymphoid cells  1.911251\n",
       "          SRR2088417  tonsil Innate lymphoid cells  1.902558\n",
       "          SRR2088228  tonsil Innate lymphoid cells  1.892826\n",
       "          SRR2088117  tonsil Innate lymphoid cells  1.875359\n",
       "          SRR2088656  tonsil Innate lymphoid cells  1.814831\n",
       "          SRR2088436  tonsil Innate lymphoid cells  1.747741\n",
       "          SRR2088468  tonsil Innate lymphoid cells  1.736750\n",
       "          SRR2088450  tonsil Innate lymphoid cells  1.734135\n",
       "          SRR2088245  tonsil Innate lymphoid cells  1.724517\n",
       "          SRR2088614  tonsil Innate lymphoid cells  1.691772\n",
       "          SRR2088097  tonsil Innate lymphoid cells  1.688232"
      ]
     },
     "execution_count": 119,
     "metadata": {},
     "output_type": "execute_result"
    }
   ],
   "source": [
    "plot_data.head(20)"
   ]
  },
  {
   "cell_type": "markdown",
   "id": "casual-prerequisite",
   "metadata": {},
   "source": [
    "## Customize x-axis values"
   ]
  },
  {
   "cell_type": "markdown",
   "id": "traditional-psychology",
   "metadata": {},
   "source": [
    "When cell type values are not very clear, customize their names by looking at their specific studies to know exactly what the authors meant."
   ]
  },
  {
   "cell_type": "code",
   "execution_count": 120,
   "id": "official-capacity",
   "metadata": {},
   "outputs": [],
   "source": [
    "final_plot_data = plot_data.replace(\n",
    "    {\n",
    "        SELECTED_ATTRIBUTE: {\n",
    "            # \"human bone marrow sample\": \"bone marrow\",\n",
    "            # \"whole blood\": \"Whole blood\",\n",
    "            # \"peripheral blood\": \"Peripheral blood\",\n",
    "            # \"peripheral whole blood\": \"Peripheral blood\",\n",
    "            # \"breast cancer\": \"Breast cancer\",\n",
    "            # \"breast cancer cell line\": \"Breast cancer\",\n",
    "            # SRP057196\n",
    "            # \"fetal_replicating\": \"Fetal neurons (replicating)\",\n",
    "            # \"fetal_quiescent\": \"Fetal neurons (quiescent)\",\n",
    "            # \"normal skin\": \"Skin\",\n",
    "            # \"liver\": \"Liver\",\n",
    "            # \"Human Skeletal Muscle Myoblasts (HSMM)\": \"Skeletal muscle myoblasts\",\n",
    "            # \"astrocytes\": \"Astrocytes\",\n",
    "            \"mixture of U87 human glioma cells and MCF10a human breast cancer cells\": \"Glioma + MCF10 breast cancer cells\",\n",
    "            \"mixture of U87 human glioma cells and WI-38 human lung fibroblast cells\": \"Glioma + WI-38 lung fibroblast cells\",\n",
    "            # \"functional hepatocytes generated by lineage reprogramming\": \"Hepatocytes\",\n",
    "            # \"human adipose-derived stem cells\": \"Adipose-derived stem cells\",\n",
    "            # \"adipose\": \"Adipose\",\n",
    "            # \"embryonic stem cells\": \"Embryonic stem cells\",\n",
    "            # \"primary keratinocytes\": \"Primary keratinocytes\",\n",
    "            # \"fetal liver\": \"Fetal liver\",\n",
    "            # \"in vitro differentiated erythroid cells\": \"Erythroid cells\",\n",
    "            # \"WAT\": \"White adipose tissue\",\n",
    "            # \"BAT\": \"Brown adipose tissue\",\n",
    "            # \"Uninvolved Breast Tissue Adjacent to ER+ Primary Tumor\": \"Breast tissue adjacent to ER+ tumor\",\n",
    "            # \"ovarian granulosa cells\": \"Ovarian granulosa cells\",\n",
    "        }\n",
    "    }\n",
    ")"
   ]
  },
  {
   "cell_type": "code",
   "execution_count": 121,
   "id": "05b40336-2b83-4724-8c35-28444ef100fe",
   "metadata": {},
   "outputs": [],
   "source": [
    "# sorte index to avoid PerformanceWarning from pandas\n",
    "final_plot_data = final_plot_data.sort_index()"
   ]
  },
  {
   "cell_type": "code",
   "execution_count": 122,
   "id": "68ea83c3-1e6b-4fb3-9ecf-19ef285d3233",
   "metadata": {},
   "outputs": [],
   "source": [
    "_srp_code = \"SRP060416\"\n",
    "_tmp = final_plot_data.loc[(_srp_code,)].apply(\n",
    "    lambda x: x[SELECTED_ATTRIBUTE]\n",
    "    + f\" ({lv_data.loc[(_srp_code, x.name), 'facs gating']})\",\n",
    "    axis=1,\n",
    ")\n",
    "final_plot_data.loc[(_srp_code, _tmp.index), SELECTED_ATTRIBUTE] = _tmp.values"
   ]
  },
  {
   "cell_type": "code",
   "execution_count": 123,
   "id": "e256f567-2e95-4ea4-a09f-0d66c4c43908",
   "metadata": {},
   "outputs": [],
   "source": [
    "_srp_code = \"SRP064464\"\n",
    "_tmp = final_plot_data.loc[(_srp_code,)].apply(\n",
    "    lambda x: f\"Pancreatic islets\"\n",
    "    + f\" ({lv_data.loc[(_srp_code, x.name), 'assigned cell type']})\",\n",
    "    axis=1,\n",
    ")\n",
    "final_plot_data.loc[(_srp_code, _tmp.index), SELECTED_ATTRIBUTE] = _tmp.values"
   ]
  },
  {
   "cell_type": "code",
   "execution_count": 124,
   "id": "4f839d92-c4b2-447f-8f44-71820c4cdbbf",
   "metadata": {},
   "outputs": [],
   "source": [
    "_srp_code = \"SRP045500\"\n",
    "_tmp = final_plot_data.loc[(_srp_code,)].apply(\n",
    "    lambda x: f\"{lv_data.loc[(_srp_code, x.name), 'celltype']}\"\n",
    "    + f\" ({lv_data.loc[(_srp_code, x.name), 'diseasestatus']})\",\n",
    "    axis=1,\n",
    ")\n",
    "final_plot_data.loc[(_srp_code, _tmp.index), SELECTED_ATTRIBUTE] = _tmp.values"
   ]
  },
  {
   "cell_type": "code",
   "execution_count": 125,
   "id": "9a85cdb9-85d6-414b-aecf-56804f529bd3",
   "metadata": {},
   "outputs": [],
   "source": [
    "# _srp_code = \"SRP027015\"\n",
    "# _tmp = final_plot_data.loc[(_srp_code,)].apply(\n",
    "#     lambda x: \"Peripheral blood (MM.1S)\",\n",
    "#     # + f\" ({lv_data.loc[(_srp_code, x.name), 'facs gating']})\",\n",
    "#     axis=1,\n",
    "# )\n",
    "# final_plot_data.loc[(_srp_code, _tmp.index), SELECTED_ATTRIBUTE] = _tmp.values"
   ]
  },
  {
   "cell_type": "code",
   "execution_count": 126,
   "id": "592fb6fa-5540-4202-bda9-0fb993c27532",
   "metadata": {},
   "outputs": [],
   "source": [
    "# _srp_code = \"SRP061329\"\n",
    "# _tmp = final_plot_data.loc[(_srp_code,)].apply(\n",
    "#     lambda x: \"Peripheral blood\"\n",
    "#     + f\" ({lv_data.loc[(_srp_code, x.name), 'cell line']})\",\n",
    "#     axis=1,\n",
    "# )\n",
    "# final_plot_data.loc[(_srp_code, _tmp.index), SELECTED_ATTRIBUTE] = _tmp.values"
   ]
  },
  {
   "cell_type": "code",
   "execution_count": 127,
   "id": "371406dd-7a18-4a4c-91de-4c84e2a3d900",
   "metadata": {},
   "outputs": [],
   "source": [
    "# _srp_code = \"SRP018838\"\n",
    "# _tmp = final_plot_data.loc[(_srp_code,)].apply(\n",
    "#     lambda x: \"Blood\"\n",
    "#     + f\" ({lv_data.loc[(_srp_code, x.name), 'cell line']})\",\n",
    "#     axis=1,\n",
    "# )\n",
    "# final_plot_data.loc[(_srp_code, _tmp.index), SELECTED_ATTRIBUTE] = _tmp.values"
   ]
  },
  {
   "cell_type": "code",
   "execution_count": 128,
   "id": "entire-cradle",
   "metadata": {},
   "outputs": [],
   "source": [
    "# # take the top samples only\n",
    "# final_plot_data = final_plot_data.sort_values(LV_NAME, ascending=False)[:N_TOP_SAMPLES]"
   ]
  },
  {
   "cell_type": "markdown",
   "id": "italic-steel",
   "metadata": {},
   "source": [
    "## Threshold LV values"
   ]
  },
  {
   "cell_type": "code",
   "execution_count": 129,
   "id": "southern-offense",
   "metadata": {},
   "outputs": [],
   "source": [
    "if LV_AXIS_THRESHOLD is not None:\n",
    "    final_plot_data.loc[\n",
    "        final_plot_data[LV_NAME] > LV_AXIS_THRESHOLD, LV_NAME\n",
    "    ] = LV_AXIS_THRESHOLD"
   ]
  },
  {
   "cell_type": "markdown",
   "id": "still-pitch",
   "metadata": {},
   "source": [
    "## Delete samples with no tissue/cell type information"
   ]
  },
  {
   "cell_type": "code",
   "execution_count": 130,
   "id": "varying-pioneer",
   "metadata": {},
   "outputs": [],
   "source": [
    "# final_plot_data = final_plot_data[\n",
    "#     final_plot_data[SELECTED_ATTRIBUTE] != \"NOT CATEGORIZED\"\n",
    "# ]"
   ]
  },
  {
   "cell_type": "markdown",
   "id": "comparable-modem",
   "metadata": {},
   "source": [
    "## Set x-axis order"
   ]
  },
  {
   "cell_type": "code",
   "execution_count": 131,
   "id": "golden-bridge",
   "metadata": {},
   "outputs": [],
   "source": [
    "attr_order = (\n",
    "    final_plot_data.groupby(SELECTED_ATTRIBUTE)\n",
    "    .max()\n",
    "    .sort_values(LV_NAME, ascending=False)\n",
    "    .index[:N_TOP_ATTRS]\n",
    "    .tolist()\n",
    ")"
   ]
  },
  {
   "cell_type": "code",
   "execution_count": 132,
   "id": "expanded-enlargement",
   "metadata": {},
   "outputs": [
    {
     "data": {
      "text/plain": [
       "15"
      ]
     },
     "execution_count": 132,
     "metadata": {},
     "output_type": "execute_result"
    }
   ],
   "source": [
    "len(attr_order)"
   ]
  },
  {
   "cell_type": "code",
   "execution_count": 133,
   "id": "collectible-setup",
   "metadata": {},
   "outputs": [
    {
     "data": {
      "text/plain": [
       "['tonsil Innate lymphoid cells (NK)',\n",
       " 'Pancreatic islets (undefined)',\n",
       " 'tonsil Innate lymphoid cells (ILC1)',\n",
       " 'tonsil Innate lymphoid cells (ILC3)',\n",
       " 'primary human NK cells']"
      ]
     },
     "execution_count": 133,
     "metadata": {},
     "output_type": "execute_result"
    }
   ],
   "source": [
    "attr_order[:5]"
   ]
  },
  {
   "cell_type": "markdown",
   "id": "patent-colors",
   "metadata": {},
   "source": [
    "## Plot"
   ]
  },
  {
   "cell_type": "code",
   "execution_count": 134,
   "id": "educated-arthritis",
   "metadata": {},
   "outputs": [
    {
     "data": {
      "image/png": "[encoded data removed]",
      "text/plain": [
       "<Figure size 1250x500 with 1 Axes>"
      ]
     },
     "metadata": {},
     "output_type": "display_data"
    }
   ],
   "source": [
    "with sns.plotting_context(\"paper\", font_scale=2.5), sns.axes_style(\"whitegrid\"):\n",
    "    g = sns.catplot(\n",
    "        data=final_plot_data,\n",
    "        y=LV_NAME,\n",
    "        x=SELECTED_ATTRIBUTE,\n",
    "        order=attr_order,\n",
    "        kind=\"strip\",\n",
    "        height=5,\n",
    "        aspect=2.5,\n",
    "    )\n",
    "    plt.xticks(rotation=45, horizontalalignment=\"right\")\n",
    "    plt.xlabel(\"\")\n",
    "\n",
    "    # plt.savefig(\n",
    "    #     OUTPUT_CELL_TYPE_FILEPATH,\n",
    "    #     bbox_inches=\"tight\",\n",
    "    #     facecolor=\"white\",\n",
    "    # )"
   ]
  },
  {
   "cell_type": "code",
   "execution_count": 135,
   "id": "634becb0-6ff3-44ae-8804-434bf55b5b1f",
   "metadata": {},
   "outputs": [],
   "source": [
    "# with sns.plotting_context(\"paper\", font_scale=2.5), sns.axes_style(\"whitegrid\"):\n",
    "#     g = sns.catplot(\n",
    "#         data=final_plot_data,\n",
    "#         y=LV_NAME,\n",
    "#         x=SELECTED_ATTRIBUTE,\n",
    "#         order=attr_order,\n",
    "#         kind=\"box\",\n",
    "#         height=5,\n",
    "#         aspect=2.5,\n",
    "#     )\n",
    "#     plt.xticks(rotation=45, horizontalalignment=\"right\")\n",
    "#     plt.xlabel(\"\")\n",
    "\n",
    "#     # plt.savefig(\n",
    "#     #     OUTPUT_CELL_TYPE_FILEPATH,\n",
    "#     #     bbox_inches=\"tight\",\n",
    "#     #     facecolor=\"white\",\n",
    "#     # )"
   ]
  },
  {
   "cell_type": "markdown",
   "id": "theoretical-raleigh",
   "metadata": {},
   "source": [
    "# Debug"
   ]
  },
  {
   "cell_type": "code",
   "execution_count": 140,
   "id": "suspended-tiffany",
   "metadata": {},
   "outputs": [],
   "source": [
    "# with pd.option_context(\n",
    "#     \"display.max_rows\", None, \"display.max_columns\", None, \"display.max_colwidth\", None\n",
    "# ):\n",
    "#     _tmp = final_plot_data[final_plot_data[SELECTED_ATTRIBUTE].str.contains(\"(NK)\")].sort_values(LV_NAME, ascending=False)\n",
    "#     display(_tmp.head(20))"
   ]
  },
  {
   "cell_type": "code",
   "execution_count": 141,
   "id": "36a58987-df7e-49d0-ada6-59cbca368a5d",
   "metadata": {},
   "outputs": [],
   "source": [
    "# # what is there in these projects?\n",
    "# _tmp = lv_data.loc[[\"SRP060416\"]].dropna(how=\"all\", axis=1).sort_values(\n",
    "#     LV_NAME, ascending=False\n",
    "# )\n",
    "\n",
    "# display(_tmp.head(60))"
   ]
  },
  {
   "cell_type": "code",
   "execution_count": 143,
   "id": "d1bab62e-6ce7-4c64-b96d-7a48eef1986f",
   "metadata": {},
   "outputs": [],
   "source": [
    "# _tmp[\"facs gating\"].value_counts()"
   ]
  },
  {
   "cell_type": "markdown",
   "id": "970d6358-61b9-47f7-ae75-c74334dafaec",
   "metadata": {},
   "source": [
    "# Reduced plot"
   ]
  },
  {
   "cell_type": "markdown",
   "id": "197ccfc1-4a83-414c-b54f-af2e8bdaedb9",
   "metadata": {},
   "source": [
    "## Data stats"
   ]
  },
  {
   "cell_type": "code",
   "execution_count": null,
   "id": "c3738a95-7a50-40f8-a8e0-796f4b1d6941",
   "metadata": {},
   "outputs": [],
   "source": [
    "plot_data_stats = final_plot_data.describe()[LV_NAME]\n",
    "display(plot_data_stats)"
   ]
  },
  {
   "cell_type": "code",
   "execution_count": null,
   "id": "d0663e41-dcef-4945-bc3e-2e80914ac195",
   "metadata": {},
   "outputs": [],
   "source": [
    "plot_data_stats_by_cell_type = (\n",
    "    final_plot_data.groupby(SELECTED_ATTRIBUTE)\n",
    "    .describe()[LV_NAME]\n",
    "    .sort_values(\"50%\", ascending=False)\n",
    ")\n",
    "display(plot_data_stats_by_cell_type)"
   ]
  },
  {
   "cell_type": "code",
   "execution_count": null,
   "id": "f3f5d34c-4ec8-4bd8-96a9-074001f758cc",
   "metadata": {},
   "outputs": [],
   "source": [
    "# keep cell types whose median is larger than the global median\n",
    "selected_cell_types = plot_data_stats_by_cell_type[\n",
    "    (plot_data_stats_by_cell_type[\"50%\"] > max(plot_data_stats.loc[\"50%\"], 0.0))\n",
    "].index\n",
    "display(selected_cell_types)"
   ]
  },
  {
   "cell_type": "code",
   "execution_count": null,
   "id": "72f0004d-ae43-423e-8b65-4f8b573c7568",
   "metadata": {},
   "outputs": [],
   "source": [
    "final_plot_data.shape"
   ]
  },
  {
   "cell_type": "code",
   "execution_count": null,
   "id": "15d5c347-8df5-432a-8b9f-8123cc0d367e",
   "metadata": {},
   "outputs": [],
   "source": [
    "final_plot_data = final_plot_data[\n",
    "    final_plot_data[SELECTED_ATTRIBUTE].isin(selected_cell_types)\n",
    "]"
   ]
  },
  {
   "cell_type": "code",
   "execution_count": null,
   "id": "f7842f3f-9af7-414d-a73b-c63d19314947",
   "metadata": {},
   "outputs": [],
   "source": [
    "final_plot_data.shape"
   ]
  },
  {
   "cell_type": "markdown",
   "id": "6e711fde-9aec-458a-9836-f1ef6fbe5b80",
   "metadata": {},
   "source": [
    "## Set x-axis order"
   ]
  },
  {
   "cell_type": "code",
   "execution_count": null,
   "id": "efd3e266-d2b3-4720-b9c9-e40b74dbcc97",
   "metadata": {},
   "outputs": [],
   "source": [
    "attr_order = (\n",
    "    final_plot_data.groupby(SELECTED_ATTRIBUTE)\n",
    "    .median()\n",
    "    .sort_values(LV_NAME, ascending=False)\n",
    "    .index[:N_TOP_ATTRS]\n",
    "    .tolist()\n",
    ")"
   ]
  },
  {
   "cell_type": "code",
   "execution_count": null,
   "id": "8ef26d0b-de69-40b1-8997-ddcf3e3e8778",
   "metadata": {},
   "outputs": [],
   "source": [
    "len(attr_order)"
   ]
  },
  {
   "cell_type": "code",
   "execution_count": null,
   "id": "73c395e8-c983-4f3b-9278-f0e1c58ae0f7",
   "metadata": {},
   "outputs": [],
   "source": [
    "attr_order[:5]"
   ]
  },
  {
   "cell_type": "markdown",
   "id": "1797ee1d-b9e7-4ccb-8454-513a58dff07d",
   "metadata": {},
   "source": [
    "## Plot"
   ]
  },
  {
   "cell_type": "code",
   "execution_count": null,
   "id": "515bd511-ad6d-4829-b9b7-0ee1e22d3c6d",
   "metadata": {},
   "outputs": [],
   "source": [
    "with sns.plotting_context(\"paper\", font_scale=2.5), sns.axes_style(\"whitegrid\"):\n",
    "    g = sns.catplot(\n",
    "        data=final_plot_data,\n",
    "        y=LV_NAME,\n",
    "        x=SELECTED_ATTRIBUTE,\n",
    "        order=attr_order,\n",
    "        kind=\"box\",\n",
    "        height=5,\n",
    "        aspect=2.5,\n",
    "    )\n",
    "    plt.xticks(rotation=45, horizontalalignment=\"right\")\n",
    "    plt.xlabel(\"\")\n",
    "\n",
    "    # plt.savefig(\n",
    "    #     OUTPUT_CELL_TYPE_FILEPATH,\n",
    "    #     bbox_inches=\"tight\",\n",
    "    #     facecolor=\"white\",\n",
    "    # )"
   ]
  },
  {
   "cell_type": "code",
   "execution_count": null,
   "id": "classified-overall",
   "metadata": {},
   "outputs": [],
   "source": []
  }
 ],
 "metadata": {
  "jupytext": {
   "cell_metadata_filter": "all,-execution,-papermill,-trusted",
   "formats": "ipynb,py//py:percent"
  },
  "kernelspec": {
   "display_name": "Python 3 (ipykernel)",
   "language": "python",
   "name": "python3"
  },
  "language_info": {
   "codemirror_mode": {
    "name": "ipython",
    "version": 3
   },
   "file_extension": ".py",
   "mimetype": "text/x-python",
   "name": "python",
   "nbconvert_exporter": "python",
   "pygments_lexer": "ipython3",
   "version": "3.10.6"
  },
  "toc-autonumbering": true
 },
 "nbformat": 4,
 "nbformat_minor": 5
}
