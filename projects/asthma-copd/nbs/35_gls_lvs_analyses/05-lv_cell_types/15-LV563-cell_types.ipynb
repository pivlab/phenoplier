{
 "cells": [
  {
   "cell_type": "markdown",
   "id": "superior-virgin",
   "metadata": {
    "papermill": {
     "duration": 0.006593,
     "end_time": "2021-05-11T19:09:55.733221",
     "exception": false,
     "start_time": "2021-05-11T19:09:55.726628",
     "status": "completed"
    },
    "tags": []
   },
   "source": [
    "# Description"
   ]
  },
  {
   "cell_type": "markdown",
   "id": "successful-knight",
   "metadata": {
    "papermill": {
     "duration": 0.00668,
     "end_time": "2021-05-11T19:09:55.745410",
     "exception": false,
     "start_time": "2021-05-11T19:09:55.738730",
     "status": "completed"
    },
    "tags": []
   },
   "source": [
    "Generates the figure for top cell types for a specified LV (in Settings section below)."
   ]
  },
  {
   "cell_type": "markdown",
   "id": "compatible-weight",
   "metadata": {
    "papermill": {
     "duration": 0.006223,
     "end_time": "2021-05-11T19:09:55.756959",
     "exception": false,
     "start_time": "2021-05-11T19:09:55.750736",
     "status": "completed"
    },
    "tags": []
   },
   "source": [
    "# Modules loading"
   ]
  },
  {
   "cell_type": "code",
   "execution_count": 1,
   "id": "proper-chester",
   "metadata": {
    "papermill": {
     "duration": 0.993432,
     "end_time": "2021-05-11T19:09:56.780403",
     "exception": false,
     "start_time": "2021-05-11T19:09:55.786971",
     "status": "completed"
    },
    "tags": []
   },
   "outputs": [],
   "source": [
    "import re\n",
    "from pathlib import Path\n",
    "\n",
    "import pandas as pd\n",
    "import matplotlib.pyplot as plt\n",
    "import seaborn as sns\n",
    "\n",
    "from data.recount2 import LVAnalysis\n",
    "from utils import chunker\n",
    "import conf"
   ]
  },
  {
   "cell_type": "markdown",
   "id": "sized-butter",
   "metadata": {
    "papermill": {
     "duration": 0.005973,
     "end_time": "2021-05-11T19:09:56.792495",
     "exception": false,
     "start_time": "2021-05-11T19:09:56.786522",
     "status": "completed"
    },
    "tags": []
   },
   "source": [
    "# Settings"
   ]
  },
  {
   "cell_type": "code",
   "execution_count": 2,
   "id": "tender-contrary",
   "metadata": {
    "papermill": {
     "duration": 0.019548,
     "end_time": "2021-05-11T19:09:56.817689",
     "exception": false,
     "start_time": "2021-05-11T19:09:56.798141",
     "status": "completed"
    },
    "tags": [
     "parameters"
    ]
   },
   "outputs": [],
   "source": [
    "LV_NAME = \"LV563\""
   ]
  },
  {
   "cell_type": "code",
   "execution_count": 3,
   "id": "sunset-carbon",
   "metadata": {},
   "outputs": [],
   "source": [
    "LV_AXIS_THRESHOLD = None  # 3.0\n",
    "# LV_AXIS_THRESHOLD = 2.0\n",
    "N_TOP_SAMPLES = 400\n",
    "N_TOP_ATTRS = 15"
   ]
  },
  {
   "cell_type": "code",
   "execution_count": 4,
   "id": "proof-primary",
   "metadata": {},
   "outputs": [
    {
     "data": {
      "text/plain": [
       "PosixPath('/opt/manuscript/content/images/lvs_analysis/lv563')"
      ]
     },
     "metadata": {},
     "output_type": "display_data"
    }
   ],
   "source": [
    "OUTPUT_FIGURES_DIR = Path(\n",
    "    conf.MANUSCRIPT[\"FIGURES_DIR\"], \"lvs_analysis\", f\"{LV_NAME.lower()}\"\n",
    ").resolve()\n",
    "display(OUTPUT_FIGURES_DIR)\n",
    "OUTPUT_FIGURES_DIR.mkdir(parents=True, exist_ok=True)"
   ]
  },
  {
   "cell_type": "code",
   "execution_count": 5,
   "id": "three-crossing",
   "metadata": {},
   "outputs": [
    {
     "data": {
      "text/plain": [
       "PosixPath('/opt/manuscript/content/images/lvs_analysis/lv563/lv563-cell_types.svg')"
      ]
     },
     "metadata": {},
     "output_type": "display_data"
    }
   ],
   "source": [
    "OUTPUT_CELL_TYPE_FILEPATH = OUTPUT_FIGURES_DIR / f\"{LV_NAME.lower()}-cell_types.svg\"\n",
    "display(OUTPUT_CELL_TYPE_FILEPATH)"
   ]
  },
  {
   "cell_type": "markdown",
   "id": "invisible-madrid",
   "metadata": {
    "papermill": {
     "duration": 0.005592,
     "end_time": "2021-05-11T19:09:56.854406",
     "exception": false,
     "start_time": "2021-05-11T19:09:56.848814",
     "status": "completed"
    },
    "tags": []
   },
   "source": [
    "# Load MultiPLIER summary"
   ]
  },
  {
   "cell_type": "code",
   "execution_count": 6,
   "id": "coated-christmas",
   "metadata": {
    "papermill": {
     "duration": 0.020251,
     "end_time": "2021-05-11T19:09:56.880435",
     "exception": false,
     "start_time": "2021-05-11T19:09:56.860184",
     "status": "completed"
    },
    "tags": []
   },
   "outputs": [],
   "source": [
    "multiplier_model_summary = pd.read_pickle(conf.MULTIPLIER[\"MODEL_SUMMARY_FILE\"])"
   ]
  },
  {
   "cell_type": "code",
   "execution_count": 7,
   "id": "stopped-driving",
   "metadata": {
    "papermill": {
     "duration": 0.02062,
     "end_time": "2021-05-11T19:09:56.906744",
     "exception": false,
     "start_time": "2021-05-11T19:09:56.886124",
     "status": "completed"
    },
    "tags": []
   },
   "outputs": [
    {
     "data": {
      "text/plain": [
       "(2157, 5)"
      ]
     },
     "execution_count": 7,
     "metadata": {},
     "output_type": "execute_result"
    }
   ],
   "source": [
    "multiplier_model_summary.shape"
   ]
  },
  {
   "cell_type": "code",
   "execution_count": 8,
   "id": "rural-grove",
   "metadata": {
    "papermill": {
     "duration": 0.024737,
     "end_time": "2021-05-11T19:09:56.937493",
     "exception": false,
     "start_time": "2021-05-11T19:09:56.912756",
     "status": "completed"
    },
    "tags": []
   },
   "outputs": [
    {
     "data": {
      "text/html": [
       "<div>\n",
       "<style scoped>\n",
       "    .dataframe tbody tr th:only-of-type {\n",
       "        vertical-align: middle;\n",
       "    }\n",
       "\n",
       "    .dataframe tbody tr th {\n",
       "        vertical-align: top;\n",
       "    }\n",
       "\n",
       "    .dataframe thead th {\n",
       "        text-align: right;\n",
       "    }\n",
       "</style>\n",
       "<table border=\"1\" class=\"dataframe\">\n",
       "  <thead>\n",
       "    <tr style=\"text-align: right;\">\n",
       "      <th></th>\n",
       "      <th>pathway</th>\n",
       "      <th>LV index</th>\n",
       "      <th>AUC</th>\n",
       "      <th>p-value</th>\n",
       "      <th>FDR</th>\n",
       "    </tr>\n",
       "  </thead>\n",
       "  <tbody>\n",
       "    <tr>\n",
       "      <th>1</th>\n",
       "      <td>KEGG_LYSINE_DEGRADATION</td>\n",
       "      <td>1</td>\n",
       "      <td>0.388059</td>\n",
       "      <td>0.866078</td>\n",
       "      <td>0.956005</td>\n",
       "    </tr>\n",
       "    <tr>\n",
       "      <th>2</th>\n",
       "      <td>REACTOME_MRNA_SPLICING</td>\n",
       "      <td>1</td>\n",
       "      <td>0.733057</td>\n",
       "      <td>0.000048</td>\n",
       "      <td>0.000582</td>\n",
       "    </tr>\n",
       "    <tr>\n",
       "      <th>3</th>\n",
       "      <td>MIPS_NOP56P_ASSOCIATED_PRE_RRNA_COMPLEX</td>\n",
       "      <td>1</td>\n",
       "      <td>0.680555</td>\n",
       "      <td>0.001628</td>\n",
       "      <td>0.011366</td>\n",
       "    </tr>\n",
       "    <tr>\n",
       "      <th>4</th>\n",
       "      <td>KEGG_DNA_REPLICATION</td>\n",
       "      <td>1</td>\n",
       "      <td>0.549473</td>\n",
       "      <td>0.312155</td>\n",
       "      <td>0.539951</td>\n",
       "    </tr>\n",
       "    <tr>\n",
       "      <th>5</th>\n",
       "      <td>PID_MYC_ACTIVPATHWAY</td>\n",
       "      <td>1</td>\n",
       "      <td>0.639303</td>\n",
       "      <td>0.021702</td>\n",
       "      <td>0.083739</td>\n",
       "    </tr>\n",
       "  </tbody>\n",
       "</table>\n",
       "</div>"
      ],
      "text/plain": [
       "                                   pathway LV index       AUC   p-value  \\\n",
       "1                  KEGG_LYSINE_DEGRADATION        1  0.388059  0.866078   \n",
       "2                   REACTOME_MRNA_SPLICING        1  0.733057  0.000048   \n",
       "3  MIPS_NOP56P_ASSOCIATED_PRE_RRNA_COMPLEX        1  0.680555  0.001628   \n",
       "4                     KEGG_DNA_REPLICATION        1  0.549473  0.312155   \n",
       "5                     PID_MYC_ACTIVPATHWAY        1  0.639303  0.021702   \n",
       "\n",
       "        FDR  \n",
       "1  0.956005  \n",
       "2  0.000582  \n",
       "3  0.011366  \n",
       "4  0.539951  \n",
       "5  0.083739  "
      ]
     },
     "execution_count": 8,
     "metadata": {},
     "output_type": "execute_result"
    }
   ],
   "source": [
    "multiplier_model_summary.head()"
   ]
  },
  {
   "cell_type": "markdown",
   "id": "neural-expression",
   "metadata": {
    "papermill": {
     "duration": 0.006007,
     "end_time": "2021-05-11T19:09:56.949763",
     "exception": false,
     "start_time": "2021-05-11T19:09:56.943756",
     "status": "completed"
    },
    "tags": []
   },
   "source": [
    "# Load data"
   ]
  },
  {
   "cell_type": "markdown",
   "id": "military-enlargement",
   "metadata": {
    "papermill": {
     "duration": 0.005873,
     "end_time": "2021-05-11T19:09:56.961602",
     "exception": false,
     "start_time": "2021-05-11T19:09:56.955729",
     "status": "completed"
    },
    "tags": []
   },
   "source": [
    "## Original data"
   ]
  },
  {
   "cell_type": "code",
   "execution_count": 9,
   "id": "distinguished-elements",
   "metadata": {
    "papermill": {
     "duration": 0.019571,
     "end_time": "2021-05-11T19:09:56.987255",
     "exception": false,
     "start_time": "2021-05-11T19:09:56.967684",
     "status": "completed"
    },
    "tags": []
   },
   "outputs": [],
   "source": [
    "# INPUT_SUBSET = \"z_score_std\""
   ]
  },
  {
   "cell_type": "code",
   "execution_count": 10,
   "id": "elementary-court",
   "metadata": {
    "papermill": {
     "duration": 0.019175,
     "end_time": "2021-05-11T19:09:57.025099",
     "exception": false,
     "start_time": "2021-05-11T19:09:57.005924",
     "status": "completed"
    },
    "tags": []
   },
   "outputs": [],
   "source": [
    "# INPUT_STEM = \"projection-smultixcan-efo_partial-mashr-zscores\""
   ]
  },
  {
   "cell_type": "code",
   "execution_count": 11,
   "id": "yellow-stand",
   "metadata": {
    "papermill": {
     "duration": 0.020992,
     "end_time": "2021-05-11T19:09:57.052255",
     "exception": false,
     "start_time": "2021-05-11T19:09:57.031263",
     "status": "completed"
    },
    "tags": []
   },
   "outputs": [],
   "source": [
    "# input_filepath = Path(\n",
    "#     conf.RESULTS[\"DATA_TRANSFORMATIONS_DIR\"],\n",
    "#     INPUT_SUBSET,\n",
    "#     f\"{INPUT_SUBSET}-{INPUT_STEM}.pkl\",\n",
    "# ).resolve()\n",
    "# display(input_filepath)\n",
    "\n",
    "# assert input_filepath.exists(), \"Input file does not exist\"\n",
    "\n",
    "# input_filepath_stem = input_filepath.stem\n",
    "# display(input_filepath_stem)"
   ]
  },
  {
   "cell_type": "code",
   "execution_count": 12,
   "id": "perfect-cruise",
   "metadata": {
    "papermill": {
     "duration": 0.032337,
     "end_time": "2021-05-11T19:09:57.090585",
     "exception": false,
     "start_time": "2021-05-11T19:09:57.058248",
     "status": "completed"
    },
    "tags": []
   },
   "outputs": [],
   "source": [
    "# data = pd.read_pickle(input_filepath)"
   ]
  },
  {
   "cell_type": "code",
   "execution_count": 13,
   "id": "medieval-junction",
   "metadata": {
    "papermill": {
     "duration": 0.01967,
     "end_time": "2021-05-11T19:09:57.116292",
     "exception": false,
     "start_time": "2021-05-11T19:09:57.096622",
     "status": "completed"
    },
    "tags": []
   },
   "outputs": [],
   "source": [
    "# data.shape"
   ]
  },
  {
   "cell_type": "code",
   "execution_count": 14,
   "id": "charitable-craps",
   "metadata": {
    "papermill": {
     "duration": 0.031843,
     "end_time": "2021-05-11T19:09:57.154356",
     "exception": false,
     "start_time": "2021-05-11T19:09:57.122513",
     "status": "completed"
    },
    "tags": []
   },
   "outputs": [],
   "source": [
    "# data.head()"
   ]
  },
  {
   "cell_type": "markdown",
   "id": "architectural-flooring",
   "metadata": {},
   "source": [
    "## LV data"
   ]
  },
  {
   "cell_type": "code",
   "execution_count": 15,
   "id": "suited-employer",
   "metadata": {},
   "outputs": [],
   "source": [
    "# lv_obj = LVAnalysis(LV_NAME, data)\n",
    "lv_obj = LVAnalysis(LV_NAME)"
   ]
  },
  {
   "cell_type": "code",
   "execution_count": 16,
   "id": "noted-little",
   "metadata": {},
   "outputs": [
    {
     "data": {
      "text/html": [
       "<div>\n",
       "<style scoped>\n",
       "    .dataframe tbody tr th:only-of-type {\n",
       "        vertical-align: middle;\n",
       "    }\n",
       "\n",
       "    .dataframe tbody tr th {\n",
       "        vertical-align: top;\n",
       "    }\n",
       "\n",
       "    .dataframe thead th {\n",
       "        text-align: right;\n",
       "    }\n",
       "</style>\n",
       "<table border=\"1\" class=\"dataframe\">\n",
       "  <thead>\n",
       "    <tr style=\"text-align: right;\">\n",
       "      <th></th>\n",
       "      <th>pathway</th>\n",
       "      <th>LV index</th>\n",
       "      <th>AUC</th>\n",
       "      <th>p-value</th>\n",
       "      <th>FDR</th>\n",
       "    </tr>\n",
       "  </thead>\n",
       "  <tbody>\n",
       "  </tbody>\n",
       "</table>\n",
       "</div>"
      ],
      "text/plain": [
       "Empty DataFrame\n",
       "Columns: [pathway, LV index, AUC, p-value, FDR]\n",
       "Index: []"
      ]
     },
     "execution_count": 16,
     "metadata": {},
     "output_type": "execute_result"
    }
   ],
   "source": [
    "multiplier_model_summary[\n",
    "    multiplier_model_summary[\"LV index\"].isin((LV_NAME[2:],))\n",
    "    & (\n",
    "        (multiplier_model_summary[\"FDR\"] < 0.05)\n",
    "        | (multiplier_model_summary[\"AUC\"] >= 0.75)\n",
    "    )\n",
    "]"
   ]
  },
  {
   "cell_type": "code",
   "execution_count": 17,
   "id": "assigned-weekly",
   "metadata": {},
   "outputs": [
    {
     "name": "stdout",
     "output_type": "stream",
     "text": [
      "SRP060416, SRP064464, SRP057196, SRP055569, SRP042161, SRP066834, SRP050499, SRP014428, SRP055810, SRP017575, SRP048971, SRP027383, SRP008145, SRP058773, SRP042620, SRP055153, SRP035638, SRP059379, SRP009862, SRP052056, SRP025982, SRP007947, SRP005279, SRP014213, SRP018853, SRP050992, SRP045500, SRP007508, SRP004637, SRP024268, SRP051688, SRP006474, SRP061881, SRP027015, SRP033135, SRP007525, SRP013450, SRP018525, SRP011422, SRP063840, SRP017777, SRP009266, SRP003901, SRP013363, "
     ]
    },
    {
     "name": "stderr",
     "output_type": "stream",
     "text": [
      "/opt/code/libs/data/recount2.py:360: UserWarning: Not all experiments data could be loaded (42 != 44)\n",
      "  warnings.warn(\n"
     ]
    }
   ],
   "source": [
    "lv_data = lv_obj.get_experiments_data()"
   ]
  },
  {
   "cell_type": "code",
   "execution_count": 18,
   "id": "guilty-medicaid",
   "metadata": {},
   "outputs": [
    {
     "data": {
      "text/plain": [
       "(8116, 103)"
      ]
     },
     "execution_count": 18,
     "metadata": {},
     "output_type": "execute_result"
    }
   ],
   "source": [
    "lv_data.shape"
   ]
  },
  {
   "cell_type": "code",
   "execution_count": 19,
   "id": "neural-cambridge",
   "metadata": {},
   "outputs": [
    {
     "data": {
      "text/html": [
       "<div>\n",
       "<style scoped>\n",
       "    .dataframe tbody tr th:only-of-type {\n",
       "        vertical-align: middle;\n",
       "    }\n",
       "\n",
       "    .dataframe tbody tr th {\n",
       "        vertical-align: top;\n",
       "    }\n",
       "\n",
       "    .dataframe thead th {\n",
       "        text-align: right;\n",
       "    }\n",
       "</style>\n",
       "<table border=\"1\" class=\"dataframe\">\n",
       "  <thead>\n",
       "    <tr style=\"text-align: right;\">\n",
       "      <th></th>\n",
       "      <th></th>\n",
       "      <th>tonsil donor</th>\n",
       "      <th>facs gating</th>\n",
       "      <th>cell type</th>\n",
       "      <th>assigned cell type</th>\n",
       "      <th>qc pass</th>\n",
       "      <th>cell count</th>\n",
       "      <th>ercc_mix</th>\n",
       "      <th>ercc_dilution</th>\n",
       "      <th>tissue</th>\n",
       "      <th>age</th>\n",
       "      <th>...</th>\n",
       "      <th>supplementary file</th>\n",
       "      <th>cell source</th>\n",
       "      <th>origin</th>\n",
       "      <th>antibodies</th>\n",
       "      <th>pathology</th>\n",
       "      <th>tumor stage</th>\n",
       "      <th>cell line stably expressing</th>\n",
       "      <th>par-clip antibody</th>\n",
       "      <th>culture medium</th>\n",
       "      <th>LV563</th>\n",
       "    </tr>\n",
       "    <tr>\n",
       "      <th>project</th>\n",
       "      <th>run</th>\n",
       "      <th></th>\n",
       "      <th></th>\n",
       "      <th></th>\n",
       "      <th></th>\n",
       "      <th></th>\n",
       "      <th></th>\n",
       "      <th></th>\n",
       "      <th></th>\n",
       "      <th></th>\n",
       "      <th></th>\n",
       "      <th></th>\n",
       "      <th></th>\n",
       "      <th></th>\n",
       "      <th></th>\n",
       "      <th></th>\n",
       "      <th></th>\n",
       "      <th></th>\n",
       "      <th></th>\n",
       "      <th></th>\n",
       "      <th></th>\n",
       "      <th></th>\n",
       "    </tr>\n",
       "  </thead>\n",
       "  <tbody>\n",
       "    <tr>\n",
       "      <th rowspan=\"5\" valign=\"top\">SRP060416</th>\n",
       "      <th>SRR2088096</th>\n",
       "      <td>Donor T74</td>\n",
       "      <td>NK</td>\n",
       "      <td>tonsil Innate lymphoid cells</td>\n",
       "      <td>NaN</td>\n",
       "      <td>NaN</td>\n",
       "      <td>NaN</td>\n",
       "      <td>NaN</td>\n",
       "      <td>NaN</td>\n",
       "      <td>NaN</td>\n",
       "      <td>NaN</td>\n",
       "      <td>...</td>\n",
       "      <td>NaN</td>\n",
       "      <td>NaN</td>\n",
       "      <td>NaN</td>\n",
       "      <td>NaN</td>\n",
       "      <td>NaN</td>\n",
       "      <td>NaN</td>\n",
       "      <td>NaN</td>\n",
       "      <td>NaN</td>\n",
       "      <td>NaN</td>\n",
       "      <td>0.295516</td>\n",
       "    </tr>\n",
       "    <tr>\n",
       "      <th>SRR2088128</th>\n",
       "      <td>Donor T74</td>\n",
       "      <td>ILC3</td>\n",
       "      <td>tonsil Innate lymphoid cells</td>\n",
       "      <td>NaN</td>\n",
       "      <td>NaN</td>\n",
       "      <td>NaN</td>\n",
       "      <td>NaN</td>\n",
       "      <td>NaN</td>\n",
       "      <td>NaN</td>\n",
       "      <td>NaN</td>\n",
       "      <td>...</td>\n",
       "      <td>NaN</td>\n",
       "      <td>NaN</td>\n",
       "      <td>NaN</td>\n",
       "      <td>NaN</td>\n",
       "      <td>NaN</td>\n",
       "      <td>NaN</td>\n",
       "      <td>NaN</td>\n",
       "      <td>NaN</td>\n",
       "      <td>NaN</td>\n",
       "      <td>-0.101337</td>\n",
       "    </tr>\n",
       "    <tr>\n",
       "      <th>SRR2088153</th>\n",
       "      <td>Donor T75</td>\n",
       "      <td>ILC3</td>\n",
       "      <td>tonsil Innate lymphoid cells</td>\n",
       "      <td>NaN</td>\n",
       "      <td>NaN</td>\n",
       "      <td>NaN</td>\n",
       "      <td>NaN</td>\n",
       "      <td>NaN</td>\n",
       "      <td>NaN</td>\n",
       "      <td>NaN</td>\n",
       "      <td>...</td>\n",
       "      <td>NaN</td>\n",
       "      <td>NaN</td>\n",
       "      <td>NaN</td>\n",
       "      <td>NaN</td>\n",
       "      <td>NaN</td>\n",
       "      <td>NaN</td>\n",
       "      <td>NaN</td>\n",
       "      <td>NaN</td>\n",
       "      <td>NaN</td>\n",
       "      <td>-0.136368</td>\n",
       "    </tr>\n",
       "    <tr>\n",
       "      <th>SRR2088179</th>\n",
       "      <td>Donor T75</td>\n",
       "      <td>ILC3</td>\n",
       "      <td>tonsil Innate lymphoid cells</td>\n",
       "      <td>NaN</td>\n",
       "      <td>NaN</td>\n",
       "      <td>NaN</td>\n",
       "      <td>NaN</td>\n",
       "      <td>NaN</td>\n",
       "      <td>NaN</td>\n",
       "      <td>NaN</td>\n",
       "      <td>...</td>\n",
       "      <td>NaN</td>\n",
       "      <td>NaN</td>\n",
       "      <td>NaN</td>\n",
       "      <td>NaN</td>\n",
       "      <td>NaN</td>\n",
       "      <td>NaN</td>\n",
       "      <td>NaN</td>\n",
       "      <td>NaN</td>\n",
       "      <td>NaN</td>\n",
       "      <td>0.072113</td>\n",
       "    </tr>\n",
       "    <tr>\n",
       "      <th>SRR2088205</th>\n",
       "      <td>Donor T75</td>\n",
       "      <td>ILC3</td>\n",
       "      <td>tonsil Innate lymphoid cells</td>\n",
       "      <td>NaN</td>\n",
       "      <td>NaN</td>\n",
       "      <td>NaN</td>\n",
       "      <td>NaN</td>\n",
       "      <td>NaN</td>\n",
       "      <td>NaN</td>\n",
       "      <td>NaN</td>\n",
       "      <td>...</td>\n",
       "      <td>NaN</td>\n",
       "      <td>NaN</td>\n",
       "      <td>NaN</td>\n",
       "      <td>NaN</td>\n",
       "      <td>NaN</td>\n",
       "      <td>NaN</td>\n",
       "      <td>NaN</td>\n",
       "      <td>NaN</td>\n",
       "      <td>NaN</td>\n",
       "      <td>-0.099378</td>\n",
       "    </tr>\n",
       "  </tbody>\n",
       "</table>\n",
       "<p>5 rows × 103 columns</p>\n",
       "</div>"
      ],
      "text/plain": [
       "                     tonsil donor facs gating                     cell type  \\\n",
       "project   run                                                                 \n",
       "SRP060416 SRR2088096    Donor T74          NK  tonsil Innate lymphoid cells   \n",
       "          SRR2088128    Donor T74        ILC3  tonsil Innate lymphoid cells   \n",
       "          SRR2088153    Donor T75        ILC3  tonsil Innate lymphoid cells   \n",
       "          SRR2088179    Donor T75        ILC3  tonsil Innate lymphoid cells   \n",
       "          SRR2088205    Donor T75        ILC3  tonsil Innate lymphoid cells   \n",
       "\n",
       "                     assigned cell type qc pass cell count ercc_mix  \\\n",
       "project   run                                                         \n",
       "SRP060416 SRR2088096                NaN     NaN        NaN      NaN   \n",
       "          SRR2088128                NaN     NaN        NaN      NaN   \n",
       "          SRR2088153                NaN     NaN        NaN      NaN   \n",
       "          SRR2088179                NaN     NaN        NaN      NaN   \n",
       "          SRR2088205                NaN     NaN        NaN      NaN   \n",
       "\n",
       "                     ercc_dilution tissue  age  ... supplementary file  \\\n",
       "project   run                                   ...                      \n",
       "SRP060416 SRR2088096           NaN    NaN  NaN  ...                NaN   \n",
       "          SRR2088128           NaN    NaN  NaN  ...                NaN   \n",
       "          SRR2088153           NaN    NaN  NaN  ...                NaN   \n",
       "          SRR2088179           NaN    NaN  NaN  ...                NaN   \n",
       "          SRR2088205           NaN    NaN  NaN  ...                NaN   \n",
       "\n",
       "                     cell source origin antibodies pathology tumor stage  \\\n",
       "project   run                                                              \n",
       "SRP060416 SRR2088096         NaN    NaN        NaN       NaN         NaN   \n",
       "          SRR2088128         NaN    NaN        NaN       NaN         NaN   \n",
       "          SRR2088153         NaN    NaN        NaN       NaN         NaN   \n",
       "          SRR2088179         NaN    NaN        NaN       NaN         NaN   \n",
       "          SRR2088205         NaN    NaN        NaN       NaN         NaN   \n",
       "\n",
       "                     cell line stably expressing par-clip antibody  \\\n",
       "project   run                                                        \n",
       "SRP060416 SRR2088096                         NaN               NaN   \n",
       "          SRR2088128                         NaN               NaN   \n",
       "          SRR2088153                         NaN               NaN   \n",
       "          SRR2088179                         NaN               NaN   \n",
       "          SRR2088205                         NaN               NaN   \n",
       "\n",
       "                     culture medium     LV563  \n",
       "project   run                                  \n",
       "SRP060416 SRR2088096            NaN  0.295516  \n",
       "          SRR2088128            NaN -0.101337  \n",
       "          SRR2088153            NaN -0.136368  \n",
       "          SRR2088179            NaN  0.072113  \n",
       "          SRR2088205            NaN -0.099378  \n",
       "\n",
       "[5 rows x 103 columns]"
      ]
     },
     "execution_count": 19,
     "metadata": {},
     "output_type": "execute_result"
    }
   ],
   "source": [
    "lv_data.head()"
   ]
  },
  {
   "cell_type": "markdown",
   "id": "civil-yugoslavia",
   "metadata": {},
   "source": [
    "# LV cell types analysis"
   ]
  },
  {
   "cell_type": "markdown",
   "id": "roman-hotel",
   "metadata": {},
   "source": [
    "## Get top attributes"
   ]
  },
  {
   "cell_type": "code",
   "execution_count": 20,
   "id": "pressed-oxide",
   "metadata": {},
   "outputs": [
    {
     "data": {
      "text/plain": [
       "assigned cell type        0.091490\n",
       "qc pass                   0.091490\n",
       "cell count                0.091490\n",
       "ercc_mix                  0.091490\n",
       "ercc_dilution             0.091490\n",
       "tonsil donor              0.034668\n",
       "facs gating               0.034668\n",
       "c1 chip id                0.021278\n",
       "experiment_sample_name    0.021278\n",
       "age                       0.016195\n",
       "marker                    0.012664\n",
       "cell type                 0.011236\n",
       "source                    0.009477\n",
       "tissue                    0.008894\n",
       "infection                 0.008670\n",
       "cell passages             0.008670\n",
       "human cell type           0.008670\n",
       "human cell line           0.008670\n",
       "lineage                   0.006532\n",
       "embryo number             0.006532\n",
       "dtype: float64"
      ]
     },
     "metadata": {},
     "output_type": "display_data"
    }
   ],
   "source": [
    "lv_attrs = lv_obj.get_attributes_variation_score()\n",
    "display(lv_attrs.head(20))"
   ]
  },
  {
   "cell_type": "code",
   "execution_count": 21,
   "id": "creative-privacy",
   "metadata": {},
   "outputs": [
    {
     "data": {
      "text/plain": [
       "cell type    0.011236\n",
       "tissue       0.008894\n",
       "dtype: float64"
      ]
     },
     "execution_count": 21,
     "metadata": {},
     "output_type": "execute_result"
    }
   ],
   "source": [
    "# show those with cell type or tissue in their name\n",
    "_tmp = pd.Series(lv_attrs.index)\n",
    "lv_attrs[\n",
    "    _tmp.str.match(\n",
    "        \"(?:cell.+type$)|(?:tissue$)|(?:tissue.+type$)\",\n",
    "        case=False,\n",
    "        flags=re.IGNORECASE,\n",
    "    ).values\n",
    "].sort_values(ascending=False)"
   ]
  },
  {
   "cell_type": "code",
   "execution_count": 22,
   "id": "distinguished-thinking",
   "metadata": {},
   "outputs": [],
   "source": [
    "_tmp = lv_data.loc[\n",
    "    :,\n",
    "    [\n",
    "        \"cell type\",\n",
    "        \"tissue\",\n",
    "        # \"tissue subtype\",\n",
    "        # \"tissue type\",\n",
    "        LV_NAME,\n",
    "    ],\n",
    "]"
   ]
  },
  {
   "cell_type": "code",
   "execution_count": 23,
   "id": "civil-cooperation",
   "metadata": {},
   "outputs": [],
   "source": [
    "_tmp_seq = list(chunker(_tmp.sort_values(LV_NAME, ascending=False), 25))"
   ]
  },
  {
   "cell_type": "code",
   "execution_count": 24,
   "id": "dressed-enemy",
   "metadata": {},
   "outputs": [
    {
     "data": {
      "text/html": [
       "<div>\n",
       "<style scoped>\n",
       "    .dataframe tbody tr th:only-of-type {\n",
       "        vertical-align: middle;\n",
       "    }\n",
       "\n",
       "    .dataframe tbody tr th {\n",
       "        vertical-align: top;\n",
       "    }\n",
       "\n",
       "    .dataframe thead th {\n",
       "        text-align: right;\n",
       "    }\n",
       "</style>\n",
       "<table border=\"1\" class=\"dataframe\">\n",
       "  <thead>\n",
       "    <tr style=\"text-align: right;\">\n",
       "      <th></th>\n",
       "      <th></th>\n",
       "      <th>cell type</th>\n",
       "      <th>tissue</th>\n",
       "      <th>LV563</th>\n",
       "    </tr>\n",
       "    <tr>\n",
       "      <th>project</th>\n",
       "      <th>run</th>\n",
       "      <th></th>\n",
       "      <th></th>\n",
       "      <th></th>\n",
       "    </tr>\n",
       "  </thead>\n",
       "  <tbody>\n",
       "    <tr>\n",
       "      <th>SRP060416</th>\n",
       "      <th>SRR2088422</th>\n",
       "      <td>tonsil Innate lymphoid cells</td>\n",
       "      <td>NaN</td>\n",
       "      <td>2.631564</td>\n",
       "    </tr>\n",
       "    <tr>\n",
       "      <th>SRP064464</th>\n",
       "      <th>SRR2558141</th>\n",
       "      <td>NaN</td>\n",
       "      <td>NaN</td>\n",
       "      <td>2.545753</td>\n",
       "    </tr>\n",
       "    <tr>\n",
       "      <th>SRP057196</th>\n",
       "      <th>SRR1974619</th>\n",
       "      <td>hybrid</td>\n",
       "      <td>cortex</td>\n",
       "      <td>2.143779</td>\n",
       "    </tr>\n",
       "    <tr>\n",
       "      <th>SRP060416</th>\n",
       "      <th>SRR2088347</th>\n",
       "      <td>tonsil Innate lymphoid cells</td>\n",
       "      <td>NaN</td>\n",
       "      <td>2.015248</td>\n",
       "    </tr>\n",
       "    <tr>\n",
       "      <th>SRP055569</th>\n",
       "      <th>SRR1821414</th>\n",
       "      <td>mixture of U87 human glioma cells and MCF10a h...</td>\n",
       "      <td>NaN</td>\n",
       "      <td>1.748698</td>\n",
       "    </tr>\n",
       "    <tr>\n",
       "      <th rowspan=\"2\" valign=\"top\">SRP060416</th>\n",
       "      <th>SRR2088381</th>\n",
       "      <td>tonsil Innate lymphoid cells</td>\n",
       "      <td>NaN</td>\n",
       "      <td>1.214086</td>\n",
       "    </tr>\n",
       "    <tr>\n",
       "      <th>SRR2088248</th>\n",
       "      <td>tonsil Innate lymphoid cells</td>\n",
       "      <td>NaN</td>\n",
       "      <td>1.126842</td>\n",
       "    </tr>\n",
       "    <tr>\n",
       "      <th>SRP042161</th>\n",
       "      <th>SRR1295222</th>\n",
       "      <td>Gliomasphere Cell Line</td>\n",
       "      <td>NaN</td>\n",
       "      <td>1.098617</td>\n",
       "    </tr>\n",
       "    <tr>\n",
       "      <th>SRP060416</th>\n",
       "      <th>SRR2088180</th>\n",
       "      <td>tonsil Innate lymphoid cells</td>\n",
       "      <td>NaN</td>\n",
       "      <td>1.091306</td>\n",
       "    </tr>\n",
       "    <tr>\n",
       "      <th>SRP057196</th>\n",
       "      <th>SRR1974862</th>\n",
       "      <td>astrocytes</td>\n",
       "      <td>cortex</td>\n",
       "      <td>0.958756</td>\n",
       "    </tr>\n",
       "    <tr>\n",
       "      <th>SRP060416</th>\n",
       "      <th>SRR2088138</th>\n",
       "      <td>tonsil Innate lymphoid cells</td>\n",
       "      <td>NaN</td>\n",
       "      <td>0.845991</td>\n",
       "    </tr>\n",
       "    <tr>\n",
       "      <th>SRP057196</th>\n",
       "      <th>SRR1974733</th>\n",
       "      <td>astrocytes</td>\n",
       "      <td>cortex</td>\n",
       "      <td>0.733854</td>\n",
       "    </tr>\n",
       "    <tr>\n",
       "      <th rowspan=\"2\" valign=\"top\">SRP066834</th>\n",
       "      <th>SRR2967482</th>\n",
       "      <td>NaN</td>\n",
       "      <td>Microdissected cortical-like ventricle from ce...</td>\n",
       "      <td>0.675577</td>\n",
       "    </tr>\n",
       "    <tr>\n",
       "      <th>SRR2967761</th>\n",
       "      <td>NaN</td>\n",
       "      <td>Fetal neocortex</td>\n",
       "      <td>0.607604</td>\n",
       "    </tr>\n",
       "    <tr>\n",
       "      <th>SRP060416</th>\n",
       "      <th>SRR2088080</th>\n",
       "      <td>tonsil Innate lymphoid cells</td>\n",
       "      <td>NaN</td>\n",
       "      <td>0.599864</td>\n",
       "    </tr>\n",
       "    <tr>\n",
       "      <th>SRP055569</th>\n",
       "      <th>SRR2019068</th>\n",
       "      <td>WI-38 human lung fibroblast cells</td>\n",
       "      <td>NaN</td>\n",
       "      <td>0.573738</td>\n",
       "    </tr>\n",
       "    <tr>\n",
       "      <th>SRP060416</th>\n",
       "      <th>SRR2088677</th>\n",
       "      <td>tonsil Innate lymphoid cells</td>\n",
       "      <td>NaN</td>\n",
       "      <td>0.524542</td>\n",
       "    </tr>\n",
       "    <tr>\n",
       "      <th>SRP057196</th>\n",
       "      <th>SRR1974782</th>\n",
       "      <td>neurons</td>\n",
       "      <td>cortex</td>\n",
       "      <td>0.505741</td>\n",
       "    </tr>\n",
       "    <tr>\n",
       "      <th>SRP060416</th>\n",
       "      <th>SRR2088143</th>\n",
       "      <td>tonsil Innate lymphoid cells</td>\n",
       "      <td>NaN</td>\n",
       "      <td>0.503713</td>\n",
       "    </tr>\n",
       "    <tr>\n",
       "      <th>SRP057196</th>\n",
       "      <th>SRR1974975</th>\n",
       "      <td>fetal_quiescent</td>\n",
       "      <td>cortex</td>\n",
       "      <td>0.450035</td>\n",
       "    </tr>\n",
       "    <tr>\n",
       "      <th>SRP050499</th>\n",
       "      <th>SRR2013753</th>\n",
       "      <td>NaN</td>\n",
       "      <td>NaN</td>\n",
       "      <td>0.433224</td>\n",
       "    </tr>\n",
       "    <tr>\n",
       "      <th>SRP057196</th>\n",
       "      <th>SRR1974987</th>\n",
       "      <td>fetal_quiescent</td>\n",
       "      <td>cortex</td>\n",
       "      <td>0.425645</td>\n",
       "    </tr>\n",
       "    <tr>\n",
       "      <th>SRP042161</th>\n",
       "      <th>SRR1295170</th>\n",
       "      <td>Gliomasphere Cell Line</td>\n",
       "      <td>NaN</td>\n",
       "      <td>0.418612</td>\n",
       "    </tr>\n",
       "    <tr>\n",
       "      <th rowspan=\"2\" valign=\"top\">SRP060416</th>\n",
       "      <th>SRR2088453</th>\n",
       "      <td>tonsil Innate lymphoid cells</td>\n",
       "      <td>NaN</td>\n",
       "      <td>0.407369</td>\n",
       "    </tr>\n",
       "    <tr>\n",
       "      <th>SRR2088450</th>\n",
       "      <td>tonsil Innate lymphoid cells</td>\n",
       "      <td>NaN</td>\n",
       "      <td>0.398041</td>\n",
       "    </tr>\n",
       "  </tbody>\n",
       "</table>\n",
       "</div>"
      ],
      "text/plain": [
       "                                                              cell type  \\\n",
       "project   run                                                             \n",
       "SRP060416 SRR2088422                       tonsil Innate lymphoid cells   \n",
       "SRP064464 SRR2558141                                                NaN   \n",
       "SRP057196 SRR1974619                                             hybrid   \n",
       "SRP060416 SRR2088347                       tonsil Innate lymphoid cells   \n",
       "SRP055569 SRR1821414  mixture of U87 human glioma cells and MCF10a h...   \n",
       "SRP060416 SRR2088381                       tonsil Innate lymphoid cells   \n",
       "          SRR2088248                       tonsil Innate lymphoid cells   \n",
       "SRP042161 SRR1295222                             Gliomasphere Cell Line   \n",
       "SRP060416 SRR2088180                       tonsil Innate lymphoid cells   \n",
       "SRP057196 SRR1974862                                         astrocytes   \n",
       "SRP060416 SRR2088138                       tonsil Innate lymphoid cells   \n",
       "SRP057196 SRR1974733                                         astrocytes   \n",
       "SRP066834 SRR2967482                                                NaN   \n",
       "          SRR2967761                                                NaN   \n",
       "SRP060416 SRR2088080                       tonsil Innate lymphoid cells   \n",
       "SRP055569 SRR2019068                  WI-38 human lung fibroblast cells   \n",
       "SRP060416 SRR2088677                       tonsil Innate lymphoid cells   \n",
       "SRP057196 SRR1974782                                            neurons   \n",
       "SRP060416 SRR2088143                       tonsil Innate lymphoid cells   \n",
       "SRP057196 SRR1974975                                    fetal_quiescent   \n",
       "SRP050499 SRR2013753                                                NaN   \n",
       "SRP057196 SRR1974987                                    fetal_quiescent   \n",
       "SRP042161 SRR1295170                             Gliomasphere Cell Line   \n",
       "SRP060416 SRR2088453                       tonsil Innate lymphoid cells   \n",
       "          SRR2088450                       tonsil Innate lymphoid cells   \n",
       "\n",
       "                                                                 tissue  \\\n",
       "project   run                                                             \n",
       "SRP060416 SRR2088422                                                NaN   \n",
       "SRP064464 SRR2558141                                                NaN   \n",
       "SRP057196 SRR1974619                                             cortex   \n",
       "SRP060416 SRR2088347                                                NaN   \n",
       "SRP055569 SRR1821414                                                NaN   \n",
       "SRP060416 SRR2088381                                                NaN   \n",
       "          SRR2088248                                                NaN   \n",
       "SRP042161 SRR1295222                                                NaN   \n",
       "SRP060416 SRR2088180                                                NaN   \n",
       "SRP057196 SRR1974862                                             cortex   \n",
       "SRP060416 SRR2088138                                                NaN   \n",
       "SRP057196 SRR1974733                                             cortex   \n",
       "SRP066834 SRR2967482  Microdissected cortical-like ventricle from ce...   \n",
       "          SRR2967761                                    Fetal neocortex   \n",
       "SRP060416 SRR2088080                                                NaN   \n",
       "SRP055569 SRR2019068                                                NaN   \n",
       "SRP060416 SRR2088677                                                NaN   \n",
       "SRP057196 SRR1974782                                             cortex   \n",
       "SRP060416 SRR2088143                                                NaN   \n",
       "SRP057196 SRR1974975                                             cortex   \n",
       "SRP050499 SRR2013753                                                NaN   \n",
       "SRP057196 SRR1974987                                             cortex   \n",
       "SRP042161 SRR1295170                                                NaN   \n",
       "SRP060416 SRR2088453                                                NaN   \n",
       "          SRR2088450                                                NaN   \n",
       "\n",
       "                         LV563  \n",
       "project   run                   \n",
       "SRP060416 SRR2088422  2.631564  \n",
       "SRP064464 SRR2558141  2.545753  \n",
       "SRP057196 SRR1974619  2.143779  \n",
       "SRP060416 SRR2088347  2.015248  \n",
       "SRP055569 SRR1821414  1.748698  \n",
       "SRP060416 SRR2088381  1.214086  \n",
       "          SRR2088248  1.126842  \n",
       "SRP042161 SRR1295222  1.098617  \n",
       "SRP060416 SRR2088180  1.091306  \n",
       "SRP057196 SRR1974862  0.958756  \n",
       "SRP060416 SRR2088138  0.845991  \n",
       "SRP057196 SRR1974733  0.733854  \n",
       "SRP066834 SRR2967482  0.675577  \n",
       "          SRR2967761  0.607604  \n",
       "SRP060416 SRR2088080  0.599864  \n",
       "SRP055569 SRR2019068  0.573738  \n",
       "SRP060416 SRR2088677  0.524542  \n",
       "SRP057196 SRR1974782  0.505741  \n",
       "SRP060416 SRR2088143  0.503713  \n",
       "SRP057196 SRR1974975  0.450035  \n",
       "SRP050499 SRR2013753  0.433224  \n",
       "SRP057196 SRR1974987  0.425645  \n",
       "SRP042161 SRR1295170  0.418612  \n",
       "SRP060416 SRR2088453  0.407369  \n",
       "          SRR2088450  0.398041  "
      ]
     },
     "execution_count": 24,
     "metadata": {},
     "output_type": "execute_result"
    }
   ],
   "source": [
    "_tmp_seq[0]"
   ]
  },
  {
   "cell_type": "code",
   "execution_count": 25,
   "id": "grateful-cuisine",
   "metadata": {},
   "outputs": [
    {
     "data": {
      "text/html": [
       "<div>\n",
       "<style scoped>\n",
       "    .dataframe tbody tr th:only-of-type {\n",
       "        vertical-align: middle;\n",
       "    }\n",
       "\n",
       "    .dataframe tbody tr th {\n",
       "        vertical-align: top;\n",
       "    }\n",
       "\n",
       "    .dataframe thead th {\n",
       "        text-align: right;\n",
       "    }\n",
       "</style>\n",
       "<table border=\"1\" class=\"dataframe\">\n",
       "  <thead>\n",
       "    <tr style=\"text-align: right;\">\n",
       "      <th></th>\n",
       "      <th></th>\n",
       "      <th>assigned cell type</th>\n",
       "      <th>qc pass</th>\n",
       "      <th>cell count</th>\n",
       "      <th>ercc_mix</th>\n",
       "      <th>ercc_dilution</th>\n",
       "      <th>LV563</th>\n",
       "    </tr>\n",
       "    <tr>\n",
       "      <th>project</th>\n",
       "      <th>run</th>\n",
       "      <th></th>\n",
       "      <th></th>\n",
       "      <th></th>\n",
       "      <th></th>\n",
       "      <th></th>\n",
       "      <th></th>\n",
       "    </tr>\n",
       "  </thead>\n",
       "  <tbody>\n",
       "    <tr>\n",
       "      <th rowspan=\"10\" valign=\"top\">SRP064464</th>\n",
       "      <th>SRR2558141</th>\n",
       "      <td>undefined</td>\n",
       "      <td>TRUE</td>\n",
       "      <td>1</td>\n",
       "      <td>mix2</td>\n",
       "      <td>1000000</td>\n",
       "      <td>2.545753</td>\n",
       "    </tr>\n",
       "    <tr>\n",
       "      <th>SRR2558177</th>\n",
       "      <td>acinar</td>\n",
       "      <td>TRUE</td>\n",
       "      <td>1</td>\n",
       "      <td>mix2</td>\n",
       "      <td>1000000</td>\n",
       "      <td>0.094281</td>\n",
       "    </tr>\n",
       "    <tr>\n",
       "      <th>SRR2558174</th>\n",
       "      <td>beta</td>\n",
       "      <td>TRUE</td>\n",
       "      <td>1</td>\n",
       "      <td>mix2</td>\n",
       "      <td>1000000</td>\n",
       "      <td>0.072926</td>\n",
       "    </tr>\n",
       "    <tr>\n",
       "      <th>SRR2558152</th>\n",
       "      <td>beta</td>\n",
       "      <td>TRUE</td>\n",
       "      <td>1</td>\n",
       "      <td>mix2</td>\n",
       "      <td>1000000</td>\n",
       "      <td>0.068675</td>\n",
       "    </tr>\n",
       "    <tr>\n",
       "      <th>SRR2558136</th>\n",
       "      <td>alpha</td>\n",
       "      <td>TRUE</td>\n",
       "      <td>1</td>\n",
       "      <td>mix2</td>\n",
       "      <td>1000000</td>\n",
       "      <td>0.067171</td>\n",
       "    </tr>\n",
       "    <tr>\n",
       "      <th>SRR2558180</th>\n",
       "      <td>alpha</td>\n",
       "      <td>TRUE</td>\n",
       "      <td>1</td>\n",
       "      <td>mix2</td>\n",
       "      <td>1000000</td>\n",
       "      <td>0.063607</td>\n",
       "    </tr>\n",
       "    <tr>\n",
       "      <th>SRR2558179</th>\n",
       "      <td>beta</td>\n",
       "      <td>TRUE</td>\n",
       "      <td>1</td>\n",
       "      <td>mix2</td>\n",
       "      <td>1000000</td>\n",
       "      <td>0.053876</td>\n",
       "    </tr>\n",
       "    <tr>\n",
       "      <th>SRR2558148</th>\n",
       "      <td>pp</td>\n",
       "      <td>TRUE</td>\n",
       "      <td>1</td>\n",
       "      <td>mix2</td>\n",
       "      <td>1000000</td>\n",
       "      <td>0.037061</td>\n",
       "    </tr>\n",
       "    <tr>\n",
       "      <th>SRR2558167</th>\n",
       "      <td>acinar</td>\n",
       "      <td>TRUE</td>\n",
       "      <td>1</td>\n",
       "      <td>mix2</td>\n",
       "      <td>1000000</td>\n",
       "      <td>0.032759</td>\n",
       "    </tr>\n",
       "    <tr>\n",
       "      <th>SRR2558160</th>\n",
       "      <td>pp</td>\n",
       "      <td>TRUE</td>\n",
       "      <td>1</td>\n",
       "      <td>mix2</td>\n",
       "      <td>1000000</td>\n",
       "      <td>0.029586</td>\n",
       "    </tr>\n",
       "  </tbody>\n",
       "</table>\n",
       "</div>"
      ],
      "text/plain": [
       "                     assigned cell type qc pass cell count ercc_mix  \\\n",
       "project   run                                                         \n",
       "SRP064464 SRR2558141          undefined    TRUE          1     mix2   \n",
       "          SRR2558177             acinar    TRUE          1     mix2   \n",
       "          SRR2558174               beta    TRUE          1     mix2   \n",
       "          SRR2558152               beta    TRUE          1     mix2   \n",
       "          SRR2558136              alpha    TRUE          1     mix2   \n",
       "          SRR2558180              alpha    TRUE          1     mix2   \n",
       "          SRR2558179               beta    TRUE          1     mix2   \n",
       "          SRR2558148                 pp    TRUE          1     mix2   \n",
       "          SRR2558167             acinar    TRUE          1     mix2   \n",
       "          SRR2558160                 pp    TRUE          1     mix2   \n",
       "\n",
       "                     ercc_dilution     LV563  \n",
       "project   run                                 \n",
       "SRP064464 SRR2558141       1000000  2.545753  \n",
       "          SRR2558177       1000000  0.094281  \n",
       "          SRR2558174       1000000  0.072926  \n",
       "          SRR2558152       1000000  0.068675  \n",
       "          SRR2558136       1000000  0.067171  \n",
       "          SRR2558180       1000000  0.063607  \n",
       "          SRR2558179       1000000  0.053876  \n",
       "          SRR2558148       1000000  0.037061  \n",
       "          SRR2558167       1000000  0.032759  \n",
       "          SRR2558160       1000000  0.029586  "
      ]
     },
     "execution_count": 25,
     "metadata": {},
     "output_type": "execute_result"
    }
   ],
   "source": [
    "# what is there in these projects?\n",
    "lv_data.loc[[\"SRP064464\"]].dropna(how=\"all\", axis=1).sort_values(\n",
    "    LV_NAME, ascending=False\n",
    ").sort_values(LV_NAME, ascending=False).head(10)"
   ]
  },
  {
   "cell_type": "code",
   "execution_count": 26,
   "id": "stylish-network",
   "metadata": {},
   "outputs": [],
   "source": [
    "SELECTED_ATTRIBUTE = \"cell type\""
   ]
  },
  {
   "cell_type": "code",
   "execution_count": 27,
   "id": "turkish-valley",
   "metadata": {},
   "outputs": [],
   "source": [
    "# it has to be in the order desired for filling nans in the SELECTED_ATTRIBUTE\n",
    "SECOND_ATTRIBUTES = [\"tissue\"]"
   ]
  },
  {
   "cell_type": "markdown",
   "id": "victorian-bidding",
   "metadata": {},
   "source": [
    "## Get plot data"
   ]
  },
  {
   "cell_type": "code",
   "execution_count": 28,
   "id": "jewish-weekend",
   "metadata": {},
   "outputs": [],
   "source": [
    "plot_data = lv_data.loc[:, [SELECTED_ATTRIBUTE] + SECOND_ATTRIBUTES + [LV_NAME]]"
   ]
  },
  {
   "cell_type": "code",
   "execution_count": 29,
   "id": "genuine-hierarchy",
   "metadata": {},
   "outputs": [],
   "source": [
    "# if blank/nan, fill cell type column with tissue content\n",
    "_new_column = plot_data[[SELECTED_ATTRIBUTE] + SECOND_ATTRIBUTES].fillna(\n",
    "    method=\"backfill\", axis=1\n",
    ")[SELECTED_ATTRIBUTE]\n",
    "plot_data[SELECTED_ATTRIBUTE] = _new_column\n",
    "plot_data = plot_data.drop(columns=SECOND_ATTRIBUTES)\n",
    "plot_data = plot_data.fillna({SELECTED_ATTRIBUTE: \"NOT CATEGORIZED\"})\n",
    "# plot_data = plot_data.dropna(subset=[SELECTED_ATTRIBUTE])"
   ]
  },
  {
   "cell_type": "code",
   "execution_count": 30,
   "id": "light-smart",
   "metadata": {},
   "outputs": [],
   "source": [
    "plot_data = plot_data.sort_values(LV_NAME, ascending=False)"
   ]
  },
  {
   "cell_type": "code",
   "execution_count": 31,
   "id": "fitted-button",
   "metadata": {},
   "outputs": [
    {
     "data": {
      "text/html": [
       "<div>\n",
       "<style scoped>\n",
       "    .dataframe tbody tr th:only-of-type {\n",
       "        vertical-align: middle;\n",
       "    }\n",
       "\n",
       "    .dataframe tbody tr th {\n",
       "        vertical-align: top;\n",
       "    }\n",
       "\n",
       "    .dataframe thead th {\n",
       "        text-align: right;\n",
       "    }\n",
       "</style>\n",
       "<table border=\"1\" class=\"dataframe\">\n",
       "  <thead>\n",
       "    <tr style=\"text-align: right;\">\n",
       "      <th></th>\n",
       "      <th></th>\n",
       "      <th>cell type</th>\n",
       "      <th>LV563</th>\n",
       "    </tr>\n",
       "    <tr>\n",
       "      <th>project</th>\n",
       "      <th>run</th>\n",
       "      <th></th>\n",
       "      <th></th>\n",
       "    </tr>\n",
       "  </thead>\n",
       "  <tbody>\n",
       "    <tr>\n",
       "      <th>SRP060416</th>\n",
       "      <th>SRR2088422</th>\n",
       "      <td>tonsil Innate lymphoid cells</td>\n",
       "      <td>2.631564</td>\n",
       "    </tr>\n",
       "    <tr>\n",
       "      <th>SRP064464</th>\n",
       "      <th>SRR2558141</th>\n",
       "      <td>NOT CATEGORIZED</td>\n",
       "      <td>2.545753</td>\n",
       "    </tr>\n",
       "    <tr>\n",
       "      <th>SRP057196</th>\n",
       "      <th>SRR1974619</th>\n",
       "      <td>hybrid</td>\n",
       "      <td>2.143779</td>\n",
       "    </tr>\n",
       "    <tr>\n",
       "      <th>SRP060416</th>\n",
       "      <th>SRR2088347</th>\n",
       "      <td>tonsil Innate lymphoid cells</td>\n",
       "      <td>2.015248</td>\n",
       "    </tr>\n",
       "    <tr>\n",
       "      <th>SRP055569</th>\n",
       "      <th>SRR1821414</th>\n",
       "      <td>mixture of U87 human glioma cells and MCF10a h...</td>\n",
       "      <td>1.748698</td>\n",
       "    </tr>\n",
       "    <tr>\n",
       "      <th rowspan=\"2\" valign=\"top\">SRP060416</th>\n",
       "      <th>SRR2088381</th>\n",
       "      <td>tonsil Innate lymphoid cells</td>\n",
       "      <td>1.214086</td>\n",
       "    </tr>\n",
       "    <tr>\n",
       "      <th>SRR2088248</th>\n",
       "      <td>tonsil Innate lymphoid cells</td>\n",
       "      <td>1.126842</td>\n",
       "    </tr>\n",
       "    <tr>\n",
       "      <th>SRP042161</th>\n",
       "      <th>SRR1295222</th>\n",
       "      <td>Gliomasphere Cell Line</td>\n",
       "      <td>1.098617</td>\n",
       "    </tr>\n",
       "    <tr>\n",
       "      <th>SRP060416</th>\n",
       "      <th>SRR2088180</th>\n",
       "      <td>tonsil Innate lymphoid cells</td>\n",
       "      <td>1.091306</td>\n",
       "    </tr>\n",
       "    <tr>\n",
       "      <th>SRP057196</th>\n",
       "      <th>SRR1974862</th>\n",
       "      <td>astrocytes</td>\n",
       "      <td>0.958756</td>\n",
       "    </tr>\n",
       "    <tr>\n",
       "      <th>SRP060416</th>\n",
       "      <th>SRR2088138</th>\n",
       "      <td>tonsil Innate lymphoid cells</td>\n",
       "      <td>0.845991</td>\n",
       "    </tr>\n",
       "    <tr>\n",
       "      <th>SRP057196</th>\n",
       "      <th>SRR1974733</th>\n",
       "      <td>astrocytes</td>\n",
       "      <td>0.733854</td>\n",
       "    </tr>\n",
       "    <tr>\n",
       "      <th rowspan=\"2\" valign=\"top\">SRP066834</th>\n",
       "      <th>SRR2967482</th>\n",
       "      <td>Microdissected cortical-like ventricle from ce...</td>\n",
       "      <td>0.675577</td>\n",
       "    </tr>\n",
       "    <tr>\n",
       "      <th>SRR2967761</th>\n",
       "      <td>Fetal neocortex</td>\n",
       "      <td>0.607604</td>\n",
       "    </tr>\n",
       "    <tr>\n",
       "      <th>SRP060416</th>\n",
       "      <th>SRR2088080</th>\n",
       "      <td>tonsil Innate lymphoid cells</td>\n",
       "      <td>0.599864</td>\n",
       "    </tr>\n",
       "    <tr>\n",
       "      <th>SRP055569</th>\n",
       "      <th>SRR2019068</th>\n",
       "      <td>WI-38 human lung fibroblast cells</td>\n",
       "      <td>0.573738</td>\n",
       "    </tr>\n",
       "    <tr>\n",
       "      <th>SRP060416</th>\n",
       "      <th>SRR2088677</th>\n",
       "      <td>tonsil Innate lymphoid cells</td>\n",
       "      <td>0.524542</td>\n",
       "    </tr>\n",
       "    <tr>\n",
       "      <th>SRP057196</th>\n",
       "      <th>SRR1974782</th>\n",
       "      <td>neurons</td>\n",
       "      <td>0.505741</td>\n",
       "    </tr>\n",
       "    <tr>\n",
       "      <th>SRP060416</th>\n",
       "      <th>SRR2088143</th>\n",
       "      <td>tonsil Innate lymphoid cells</td>\n",
       "      <td>0.503713</td>\n",
       "    </tr>\n",
       "    <tr>\n",
       "      <th>SRP057196</th>\n",
       "      <th>SRR1974975</th>\n",
       "      <td>fetal_quiescent</td>\n",
       "      <td>0.450035</td>\n",
       "    </tr>\n",
       "  </tbody>\n",
       "</table>\n",
       "</div>"
      ],
      "text/plain": [
       "                                                              cell type  \\\n",
       "project   run                                                             \n",
       "SRP060416 SRR2088422                       tonsil Innate lymphoid cells   \n",
       "SRP064464 SRR2558141                                    NOT CATEGORIZED   \n",
       "SRP057196 SRR1974619                                             hybrid   \n",
       "SRP060416 SRR2088347                       tonsil Innate lymphoid cells   \n",
       "SRP055569 SRR1821414  mixture of U87 human glioma cells and MCF10a h...   \n",
       "SRP060416 SRR2088381                       tonsil Innate lymphoid cells   \n",
       "          SRR2088248                       tonsil Innate lymphoid cells   \n",
       "SRP042161 SRR1295222                             Gliomasphere Cell Line   \n",
       "SRP060416 SRR2088180                       tonsil Innate lymphoid cells   \n",
       "SRP057196 SRR1974862                                         astrocytes   \n",
       "SRP060416 SRR2088138                       tonsil Innate lymphoid cells   \n",
       "SRP057196 SRR1974733                                         astrocytes   \n",
       "SRP066834 SRR2967482  Microdissected cortical-like ventricle from ce...   \n",
       "          SRR2967761                                    Fetal neocortex   \n",
       "SRP060416 SRR2088080                       tonsil Innate lymphoid cells   \n",
       "SRP055569 SRR2019068                  WI-38 human lung fibroblast cells   \n",
       "SRP060416 SRR2088677                       tonsil Innate lymphoid cells   \n",
       "SRP057196 SRR1974782                                            neurons   \n",
       "SRP060416 SRR2088143                       tonsil Innate lymphoid cells   \n",
       "SRP057196 SRR1974975                                    fetal_quiescent   \n",
       "\n",
       "                         LV563  \n",
       "project   run                   \n",
       "SRP060416 SRR2088422  2.631564  \n",
       "SRP064464 SRR2558141  2.545753  \n",
       "SRP057196 SRR1974619  2.143779  \n",
       "SRP060416 SRR2088347  2.015248  \n",
       "SRP055569 SRR1821414  1.748698  \n",
       "SRP060416 SRR2088381  1.214086  \n",
       "          SRR2088248  1.126842  \n",
       "SRP042161 SRR1295222  1.098617  \n",
       "SRP060416 SRR2088180  1.091306  \n",
       "SRP057196 SRR1974862  0.958756  \n",
       "SRP060416 SRR2088138  0.845991  \n",
       "SRP057196 SRR1974733  0.733854  \n",
       "SRP066834 SRR2967482  0.675577  \n",
       "          SRR2967761  0.607604  \n",
       "SRP060416 SRR2088080  0.599864  \n",
       "SRP055569 SRR2019068  0.573738  \n",
       "SRP060416 SRR2088677  0.524542  \n",
       "SRP057196 SRR1974782  0.505741  \n",
       "SRP060416 SRR2088143  0.503713  \n",
       "SRP057196 SRR1974975  0.450035  "
      ]
     },
     "execution_count": 31,
     "metadata": {},
     "output_type": "execute_result"
    }
   ],
   "source": [
    "plot_data.head(20)"
   ]
  },
  {
   "cell_type": "markdown",
   "id": "casual-prerequisite",
   "metadata": {},
   "source": [
    "## Customize x-axis values"
   ]
  },
  {
   "cell_type": "markdown",
   "id": "traditional-psychology",
   "metadata": {},
   "source": [
    "When cell type values are not very clear, customize their names by looking at their specific studies to know exactly what the authors meant."
   ]
  },
  {
   "cell_type": "code",
   "execution_count": 32,
   "id": "official-capacity",
   "metadata": {},
   "outputs": [],
   "source": [
    "final_plot_data = plot_data.replace(\n",
    "    {\n",
    "        SELECTED_ATTRIBUTE: {\n",
    "            # \"human bone marrow sample\": \"bone marrow\",\n",
    "            # \"whole blood\": \"Whole blood\",\n",
    "            # \"peripheral blood\": \"Peripheral blood\",\n",
    "            # \"peripheral whole blood\": \"Peripheral blood\",\n",
    "            # \"breast cancer\": \"Breast cancer\",\n",
    "            # \"breast cancer cell line\": \"Breast cancer\",\n",
    "            # SRP057196\n",
    "            # \"fetal_replicating\": \"Fetal neurons (replicating)\",\n",
    "            # \"fetal_quiescent\": \"Fetal neurons (quiescent)\",\n",
    "            # \"normal skin\": \"Skin\",\n",
    "            # \"liver\": \"Liver\",\n",
    "            # \"Human Skeletal Muscle Myoblasts (HSMM)\": \"Skeletal muscle myoblasts\",\n",
    "            # \"astrocytes\": \"Astrocytes\",\n",
    "            # \"mixture of U87 human glioma cells and MCF10a human breast cancer cells\": \"Glioma + MCF10 breast cancer cells\",\n",
    "            # \"mixture of U87 human glioma cells and WI-38 human lung fibroblast cells\": \"Glioma + WI-38 lung fibroblast cells\",\n",
    "            # \"functional hepatocytes generated by lineage reprogramming\": \"Hepatocytes\",\n",
    "            # \"human adipose-derived stem cells\": \"Adipose-derived stem cells\",\n",
    "            # \"adipose\": \"Adipose\",\n",
    "            # \"embryonic stem cells\": \"Embryonic stem cells\",\n",
    "            # \"primary keratinocytes\": \"Primary keratinocytes\",\n",
    "            # \"fetal liver\": \"Fetal liver\",\n",
    "            # \"in vitro differentiated erythroid cells\": \"Erythroid cells\",\n",
    "            # \"WAT\": \"White adipose tissue\",\n",
    "            # \"BAT\": \"Brown adipose tissue\",\n",
    "            # \"Uninvolved Breast Tissue Adjacent to ER+ Primary Tumor\": \"Breast tissue adjacent to ER+ tumor\",\n",
    "            # \"ovarian granulosa cells\": \"Ovarian granulosa cells\",\n",
    "            \"primary human NK cells\": \"NK cells\",\n",
    "            \"primary human B cells\": \"B cells\",\n",
    "            \"B-cells\": \"B cells\",\n",
    "        }\n",
    "    }\n",
    ")"
   ]
  },
  {
   "cell_type": "code",
   "execution_count": 33,
   "id": "05b40336-2b83-4724-8c35-28444ef100fe",
   "metadata": {},
   "outputs": [],
   "source": [
    "# sorte index to avoid PerformanceWarning from pandas\n",
    "final_plot_data = final_plot_data.sort_index()"
   ]
  },
  {
   "cell_type": "code",
   "execution_count": 34,
   "id": "68ea83c3-1e6b-4fb3-9ecf-19ef285d3233",
   "metadata": {},
   "outputs": [],
   "source": [
    "_srp_code = \"SRP060416\"\n",
    "_tmp = final_plot_data.loc[(_srp_code,)].apply(\n",
    "    lambda x: x[SELECTED_ATTRIBUTE]\n",
    "    + f\" ({lv_data.loc[(_srp_code, x.name), 'facs gating']})\",\n",
    "    axis=1,\n",
    ")\n",
    "final_plot_data.loc[(_srp_code, _tmp.index), SELECTED_ATTRIBUTE] = _tmp.values"
   ]
  },
  {
   "cell_type": "code",
   "execution_count": 35,
   "id": "e256f567-2e95-4ea4-a09f-0d66c4c43908",
   "metadata": {},
   "outputs": [],
   "source": [
    "# _srp_code = \"SRP064464\"\n",
    "# _tmp = final_plot_data.loc[(_srp_code,)].apply(\n",
    "#     lambda x: f\"Pancreatic islets\"\n",
    "#     + f\" ({lv_data.loc[(_srp_code, x.name), 'assigned cell type']})\",\n",
    "#     axis=1,\n",
    "# )\n",
    "# final_plot_data.loc[(_srp_code, _tmp.index), SELECTED_ATTRIBUTE] = _tmp.values"
   ]
  },
  {
   "cell_type": "code",
   "execution_count": 36,
   "id": "4f839d92-c4b2-447f-8f44-71820c4cdbbf",
   "metadata": {},
   "outputs": [],
   "source": [
    "# _srp_code = \"SRP045500\"\n",
    "# _tmp = final_plot_data.loc[(_srp_code,)].apply(\n",
    "#     lambda x: f\"{lv_data.loc[(_srp_code, x.name), 'celltype']}\"\n",
    "#     + f\" ({lv_data.loc[(_srp_code, x.name), 'diseasestatus']})\",\n",
    "#     axis=1,\n",
    "# )\n",
    "# final_plot_data.loc[(_srp_code, _tmp.index), SELECTED_ATTRIBUTE] = _tmp.values"
   ]
  },
  {
   "cell_type": "code",
   "execution_count": 37,
   "id": "9a85cdb9-85d6-414b-aecf-56804f529bd3",
   "metadata": {},
   "outputs": [],
   "source": [
    "# _srp_code = \"SRP027015\"\n",
    "# _tmp = final_plot_data.loc[(_srp_code,)].apply(\n",
    "#     lambda x: \"Peripheral blood (MM.1S)\",\n",
    "#     # + f\" ({lv_data.loc[(_srp_code, x.name), 'facs gating']})\",\n",
    "#     axis=1,\n",
    "# )\n",
    "# final_plot_data.loc[(_srp_code, _tmp.index), SELECTED_ATTRIBUTE] = _tmp.values"
   ]
  },
  {
   "cell_type": "code",
   "execution_count": 38,
   "id": "592fb6fa-5540-4202-bda9-0fb993c27532",
   "metadata": {},
   "outputs": [],
   "source": [
    "# _srp_code = \"SRP061329\"\n",
    "# _tmp = final_plot_data.loc[(_srp_code,)].apply(\n",
    "#     lambda x: \"Peripheral blood\"\n",
    "#     + f\" ({lv_data.loc[(_srp_code, x.name), 'cell line']})\",\n",
    "#     axis=1,\n",
    "# )\n",
    "# final_plot_data.loc[(_srp_code, _tmp.index), SELECTED_ATTRIBUTE] = _tmp.values"
   ]
  },
  {
   "cell_type": "code",
   "execution_count": 39,
   "id": "371406dd-7a18-4a4c-91de-4c84e2a3d900",
   "metadata": {},
   "outputs": [],
   "source": [
    "# _srp_code = \"SRP018838\"\n",
    "# _tmp = final_plot_data.loc[(_srp_code,)].apply(\n",
    "#     lambda x: \"Blood\"\n",
    "#     + f\" ({lv_data.loc[(_srp_code, x.name), 'cell line']})\",\n",
    "#     axis=1,\n",
    "# )\n",
    "# final_plot_data.loc[(_srp_code, _tmp.index), SELECTED_ATTRIBUTE] = _tmp.values"
   ]
  },
  {
   "cell_type": "code",
   "execution_count": 40,
   "id": "entire-cradle",
   "metadata": {},
   "outputs": [],
   "source": [
    "# # take the top samples only\n",
    "# final_plot_data = final_plot_data.sort_values(LV_NAME, ascending=False)[:N_TOP_SAMPLES]"
   ]
  },
  {
   "cell_type": "markdown",
   "id": "italic-steel",
   "metadata": {},
   "source": [
    "## Threshold LV values"
   ]
  },
  {
   "cell_type": "code",
   "execution_count": 41,
   "id": "southern-offense",
   "metadata": {},
   "outputs": [],
   "source": [
    "if LV_AXIS_THRESHOLD is not None:\n",
    "    final_plot_data.loc[\n",
    "        final_plot_data[LV_NAME] > LV_AXIS_THRESHOLD, LV_NAME\n",
    "    ] = LV_AXIS_THRESHOLD"
   ]
  },
  {
   "cell_type": "markdown",
   "id": "still-pitch",
   "metadata": {},
   "source": [
    "## Delete samples with no tissue/cell type information"
   ]
  },
  {
   "cell_type": "code",
   "execution_count": 42,
   "id": "varying-pioneer",
   "metadata": {},
   "outputs": [],
   "source": [
    "# final_plot_data = final_plot_data[\n",
    "#     final_plot_data[SELECTED_ATTRIBUTE] != \"NOT CATEGORIZED\"\n",
    "# ]"
   ]
  },
  {
   "cell_type": "markdown",
   "id": "comparable-modem",
   "metadata": {},
   "source": [
    "## Set x-axis order"
   ]
  },
  {
   "cell_type": "code",
   "execution_count": 43,
   "id": "golden-bridge",
   "metadata": {},
   "outputs": [],
   "source": [
    "attr_order = (\n",
    "    final_plot_data.groupby(SELECTED_ATTRIBUTE)\n",
    "    .max()\n",
    "    .sort_values(LV_NAME, ascending=False)\n",
    "    .index[:N_TOP_ATTRS]\n",
    "    .tolist()\n",
    ")"
   ]
  },
  {
   "cell_type": "code",
   "execution_count": 44,
   "id": "expanded-enlargement",
   "metadata": {},
   "outputs": [
    {
     "data": {
      "text/plain": [
       "15"
      ]
     },
     "execution_count": 44,
     "metadata": {},
     "output_type": "execute_result"
    }
   ],
   "source": [
    "len(attr_order)"
   ]
  },
  {
   "cell_type": "code",
   "execution_count": 45,
   "id": "collectible-setup",
   "metadata": {},
   "outputs": [
    {
     "data": {
      "text/plain": [
       "['tonsil Innate lymphoid cells (ILC1)',\n",
       " 'NOT CATEGORIZED',\n",
       " 'hybrid',\n",
       " 'tonsil Innate lymphoid cells (NK)',\n",
       " 'mixture of U87 human glioma cells and MCF10a human breast cancer cells']"
      ]
     },
     "execution_count": 45,
     "metadata": {},
     "output_type": "execute_result"
    }
   ],
   "source": [
    "attr_order[:5]"
   ]
  },
  {
   "cell_type": "markdown",
   "id": "patent-colors",
   "metadata": {},
   "source": [
    "## Plot"
   ]
  },
  {
   "cell_type": "code",
   "execution_count": 46,
   "id": "educated-arthritis",
   "metadata": {},
   "outputs": [
    {
     "data": {
      "image/png": "[encoded data removed]",
      "text/plain": [
       "<Figure size 1250x500 with 1 Axes>"
      ]
     },
     "metadata": {},
     "output_type": "display_data"
    }
   ],
   "source": [
    "with sns.plotting_context(\"paper\", font_scale=2.5), sns.axes_style(\"whitegrid\"):\n",
    "    g = sns.catplot(\n",
    "        data=final_plot_data,\n",
    "        y=LV_NAME,\n",
    "        x=SELECTED_ATTRIBUTE,\n",
    "        order=attr_order,\n",
    "        kind=\"strip\",\n",
    "        height=5,\n",
    "        aspect=2.5,\n",
    "    )\n",
    "    plt.xticks(rotation=45, horizontalalignment=\"right\")\n",
    "    plt.xlabel(\"\")\n",
    "\n",
    "    # plt.savefig(\n",
    "    #     OUTPUT_CELL_TYPE_FILEPATH,\n",
    "    #     bbox_inches=\"tight\",\n",
    "    #     facecolor=\"white\",\n",
    "    # )"
   ]
  },
  {
   "cell_type": "code",
   "execution_count": 47,
   "id": "634becb0-6ff3-44ae-8804-434bf55b5b1f",
   "metadata": {},
   "outputs": [],
   "source": [
    "# with sns.plotting_context(\"paper\", font_scale=2.5), sns.axes_style(\"whitegrid\"):\n",
    "#     g = sns.catplot(\n",
    "#         data=final_plot_data,\n",
    "#         y=LV_NAME,\n",
    "#         x=SELECTED_ATTRIBUTE,\n",
    "#         order=attr_order,\n",
    "#         kind=\"box\",\n",
    "#         height=5,\n",
    "#         aspect=2.5,\n",
    "#     )\n",
    "#     plt.xticks(rotation=45, horizontalalignment=\"right\")\n",
    "#     plt.xlabel(\"\")\n",
    "\n",
    "#     # plt.savefig(\n",
    "#     #     OUTPUT_CELL_TYPE_FILEPATH,\n",
    "#     #     bbox_inches=\"tight\",\n",
    "#     #     facecolor=\"white\",\n",
    "#     # )"
   ]
  },
  {
   "cell_type": "markdown",
   "id": "theoretical-raleigh",
   "metadata": {},
   "source": [
    "# Debug"
   ]
  },
  {
   "cell_type": "code",
   "execution_count": 48,
   "id": "suspended-tiffany",
   "metadata": {},
   "outputs": [
    {
     "name": "stderr",
     "output_type": "stream",
     "text": [
      "/tmp/ipykernel_972/1318137467.py:4: UserWarning: This pattern is interpreted as a regular expression, and has match groups. To actually get the groups, use str.extract.\n",
      "  _tmp = final_plot_data[final_plot_data[SELECTED_ATTRIBUTE].str.contains(\"(NK)\")].sort_values(LV_NAME, ascending=False)\n"
     ]
    },
    {
     "data": {
      "text/html": [
       "<div>\n",
       "<style scoped>\n",
       "    .dataframe tbody tr th:only-of-type {\n",
       "        vertical-align: middle;\n",
       "    }\n",
       "\n",
       "    .dataframe tbody tr th {\n",
       "        vertical-align: top;\n",
       "    }\n",
       "\n",
       "    .dataframe thead th {\n",
       "        text-align: right;\n",
       "    }\n",
       "</style>\n",
       "<table border=\"1\" class=\"dataframe\">\n",
       "  <thead>\n",
       "    <tr style=\"text-align: right;\">\n",
       "      <th></th>\n",
       "      <th></th>\n",
       "      <th>cell type</th>\n",
       "      <th>LV563</th>\n",
       "    </tr>\n",
       "    <tr>\n",
       "      <th>project</th>\n",
       "      <th>run</th>\n",
       "      <th></th>\n",
       "      <th></th>\n",
       "    </tr>\n",
       "  </thead>\n",
       "  <tbody>\n",
       "    <tr>\n",
       "      <th rowspan=\"15\" valign=\"top\">SRP060416</th>\n",
       "      <th>SRR2088347</th>\n",
       "      <td>tonsil Innate lymphoid cells (NK)</td>\n",
       "      <td>2.015248</td>\n",
       "    </tr>\n",
       "    <tr>\n",
       "      <th>SRR2088381</th>\n",
       "      <td>tonsil Innate lymphoid cells (NK)</td>\n",
       "      <td>1.214086</td>\n",
       "    </tr>\n",
       "    <tr>\n",
       "      <th>SRR2088248</th>\n",
       "      <td>tonsil Innate lymphoid cells (NK)</td>\n",
       "      <td>1.126842</td>\n",
       "    </tr>\n",
       "    <tr>\n",
       "      <th>SRR2088180</th>\n",
       "      <td>tonsil Innate lymphoid cells (NK)</td>\n",
       "      <td>1.091306</td>\n",
       "    </tr>\n",
       "    <tr>\n",
       "      <th>SRR2088138</th>\n",
       "      <td>tonsil Innate lymphoid cells (NK)</td>\n",
       "      <td>0.845991</td>\n",
       "    </tr>\n",
       "    <tr>\n",
       "      <th>SRR2088677</th>\n",
       "      <td>tonsil Innate lymphoid cells (NK)</td>\n",
       "      <td>0.524542</td>\n",
       "    </tr>\n",
       "    <tr>\n",
       "      <th>SRR2088453</th>\n",
       "      <td>tonsil Innate lymphoid cells (NK)</td>\n",
       "      <td>0.407369</td>\n",
       "    </tr>\n",
       "    <tr>\n",
       "      <th>SRR2088450</th>\n",
       "      <td>tonsil Innate lymphoid cells (NK)</td>\n",
       "      <td>0.398041</td>\n",
       "    </tr>\n",
       "    <tr>\n",
       "      <th>SRR2088635</th>\n",
       "      <td>tonsil Innate lymphoid cells (NK)</td>\n",
       "      <td>0.374657</td>\n",
       "    </tr>\n",
       "    <tr>\n",
       "      <th>SRR2088543</th>\n",
       "      <td>tonsil Innate lymphoid cells (NK)</td>\n",
       "      <td>0.368038</td>\n",
       "    </tr>\n",
       "    <tr>\n",
       "      <th>SRR2088326</th>\n",
       "      <td>tonsil Innate lymphoid cells (NK)</td>\n",
       "      <td>0.330213</td>\n",
       "    </tr>\n",
       "    <tr>\n",
       "      <th>SRR2088113</th>\n",
       "      <td>tonsil Innate lymphoid cells (NK)</td>\n",
       "      <td>0.329067</td>\n",
       "    </tr>\n",
       "    <tr>\n",
       "      <th>SRR2088582</th>\n",
       "      <td>tonsil Innate lymphoid cells (NK)</td>\n",
       "      <td>0.325249</td>\n",
       "    </tr>\n",
       "    <tr>\n",
       "      <th>SRR2088096</th>\n",
       "      <td>tonsil Innate lymphoid cells (NK)</td>\n",
       "      <td>0.295516</td>\n",
       "    </tr>\n",
       "    <tr>\n",
       "      <th>SRR2088491</th>\n",
       "      <td>tonsil Innate lymphoid cells (NK)</td>\n",
       "      <td>0.284849</td>\n",
       "    </tr>\n",
       "    <tr>\n",
       "      <th>SRP048971</th>\n",
       "      <th>SRR1613931</th>\n",
       "      <td>NK cells</td>\n",
       "      <td>0.259640</td>\n",
       "    </tr>\n",
       "    <tr>\n",
       "      <th rowspan=\"4\" valign=\"top\">SRP060416</th>\n",
       "      <th>SRR2088615</th>\n",
       "      <td>tonsil Innate lymphoid cells (NK)</td>\n",
       "      <td>0.255079</td>\n",
       "    </tr>\n",
       "    <tr>\n",
       "      <th>SRR2088514</th>\n",
       "      <td>tonsil Innate lymphoid cells (NK)</td>\n",
       "      <td>0.244752</td>\n",
       "    </tr>\n",
       "    <tr>\n",
       "      <th>SRR2088131</th>\n",
       "      <td>tonsil Innate lymphoid cells (NK)</td>\n",
       "      <td>0.210216</td>\n",
       "    </tr>\n",
       "    <tr>\n",
       "      <th>SRR2088094</th>\n",
       "      <td>tonsil Innate lymphoid cells (NK)</td>\n",
       "      <td>0.194954</td>\n",
       "    </tr>\n",
       "  </tbody>\n",
       "</table>\n",
       "</div>"
      ],
      "text/plain": [
       "                                              cell type     LV563\n",
       "project   run                                                    \n",
       "SRP060416 SRR2088347  tonsil Innate lymphoid cells (NK)  2.015248\n",
       "          SRR2088381  tonsil Innate lymphoid cells (NK)  1.214086\n",
       "          SRR2088248  tonsil Innate lymphoid cells (NK)  1.126842\n",
       "          SRR2088180  tonsil Innate lymphoid cells (NK)  1.091306\n",
       "          SRR2088138  tonsil Innate lymphoid cells (NK)  0.845991\n",
       "          SRR2088677  tonsil Innate lymphoid cells (NK)  0.524542\n",
       "          SRR2088453  tonsil Innate lymphoid cells (NK)  0.407369\n",
       "          SRR2088450  tonsil Innate lymphoid cells (NK)  0.398041\n",
       "          SRR2088635  tonsil Innate lymphoid cells (NK)  0.374657\n",
       "          SRR2088543  tonsil Innate lymphoid cells (NK)  0.368038\n",
       "          SRR2088326  tonsil Innate lymphoid cells (NK)  0.330213\n",
       "          SRR2088113  tonsil Innate lymphoid cells (NK)  0.329067\n",
       "          SRR2088582  tonsil Innate lymphoid cells (NK)  0.325249\n",
       "          SRR2088096  tonsil Innate lymphoid cells (NK)  0.295516\n",
       "          SRR2088491  tonsil Innate lymphoid cells (NK)  0.284849\n",
       "SRP048971 SRR1613931                           NK cells  0.259640\n",
       "SRP060416 SRR2088615  tonsil Innate lymphoid cells (NK)  0.255079\n",
       "          SRR2088514  tonsil Innate lymphoid cells (NK)  0.244752\n",
       "          SRR2088131  tonsil Innate lymphoid cells (NK)  0.210216\n",
       "          SRR2088094  tonsil Innate lymphoid cells (NK)  0.194954"
      ]
     },
     "metadata": {},
     "output_type": "display_data"
    }
   ],
   "source": [
    "with pd.option_context(\n",
    "    \"display.max_rows\", None, \"display.max_columns\", None, \"display.max_colwidth\", None\n",
    "):\n",
    "    _tmp = final_plot_data[final_plot_data[SELECTED_ATTRIBUTE].str.contains(\"(NK)\")].sort_values(LV_NAME, ascending=False)\n",
    "    display(_tmp.head(20))"
   ]
  },
  {
   "cell_type": "code",
   "execution_count": 49,
   "id": "36a58987-df7e-49d0-ada6-59cbca368a5d",
   "metadata": {},
   "outputs": [],
   "source": [
    "# # what is there in these projects?\n",
    "# _tmp = lv_data.loc[[\"SRP060416\"]].dropna(how=\"all\", axis=1).sort_values(\n",
    "#     LV_NAME, ascending=False\n",
    "# )\n",
    "\n",
    "# display(_tmp.head(60))"
   ]
  },
  {
   "cell_type": "code",
   "execution_count": 50,
   "id": "d1bab62e-6ce7-4c64-b96d-7a48eef1986f",
   "metadata": {},
   "outputs": [],
   "source": [
    "# _tmp[\"facs gating\"].value_counts()"
   ]
  },
  {
   "cell_type": "markdown",
   "id": "f6fd67b3-59be-4022-b168-cba51a23dbf6",
   "metadata": {},
   "source": [
    "# Reduced plot"
   ]
  },
  {
   "cell_type": "markdown",
   "id": "e7bc1121-2dda-435d-a7ec-c06fb2fcd138",
   "metadata": {},
   "source": [
    "## Data stats"
   ]
  },
  {
   "cell_type": "code",
   "execution_count": 51,
   "id": "c9254e9c-6449-4e89-ad00-44dbcb7517bb",
   "metadata": {},
   "outputs": [
    {
     "data": {
      "text/plain": [
       "count    8116.000000\n",
       "mean        0.003625\n",
       "std         0.084344\n",
       "min        -0.231807\n",
       "25%        -0.020135\n",
       "50%        -0.000638\n",
       "75%         0.010402\n",
       "max         2.631564\n",
       "Name: LV563, dtype: float64"
      ]
     },
     "metadata": {},
     "output_type": "display_data"
    }
   ],
   "source": [
    "plot_data_stats = final_plot_data.describe()[LV_NAME]\n",
    "display(plot_data_stats)"
   ]
  },
  {
   "cell_type": "code",
   "execution_count": 52,
   "id": "28bee5f5-c1db-4d47-807d-ada56bde4c09",
   "metadata": {},
   "outputs": [
    {
     "data": {
      "text/html": [
       "<div>\n",
       "<style scoped>\n",
       "    .dataframe tbody tr th:only-of-type {\n",
       "        vertical-align: middle;\n",
       "    }\n",
       "\n",
       "    .dataframe tbody tr th {\n",
       "        vertical-align: top;\n",
       "    }\n",
       "\n",
       "    .dataframe thead th {\n",
       "        text-align: right;\n",
       "    }\n",
       "</style>\n",
       "<table border=\"1\" class=\"dataframe\">\n",
       "  <thead>\n",
       "    <tr style=\"text-align: right;\">\n",
       "      <th></th>\n",
       "      <th>count</th>\n",
       "      <th>mean</th>\n",
       "      <th>std</th>\n",
       "      <th>min</th>\n",
       "      <th>25%</th>\n",
       "      <th>50%</th>\n",
       "      <th>75%</th>\n",
       "      <th>max</th>\n",
       "    </tr>\n",
       "    <tr>\n",
       "      <th>cell type</th>\n",
       "      <th></th>\n",
       "      <th></th>\n",
       "      <th></th>\n",
       "      <th></th>\n",
       "      <th></th>\n",
       "      <th></th>\n",
       "      <th></th>\n",
       "      <th></th>\n",
       "    </tr>\n",
       "  </thead>\n",
       "  <tbody>\n",
       "    <tr>\n",
       "      <th>leukocyte from blood of healthy individual</th>\n",
       "      <td>2.0</td>\n",
       "      <td>0.192418</td>\n",
       "      <td>0.261022</td>\n",
       "      <td>0.007847</td>\n",
       "      <td>0.100132</td>\n",
       "      <td>0.192418</td>\n",
       "      <td>0.284703</td>\n",
       "      <td>0.376988</td>\n",
       "    </tr>\n",
       "    <tr>\n",
       "      <th>oocyte</th>\n",
       "      <td>3.0</td>\n",
       "      <td>0.085638</td>\n",
       "      <td>0.022828</td>\n",
       "      <td>0.059954</td>\n",
       "      <td>0.076651</td>\n",
       "      <td>0.093347</td>\n",
       "      <td>0.098480</td>\n",
       "      <td>0.103613</td>\n",
       "    </tr>\n",
       "    <tr>\n",
       "      <th>NK cells</th>\n",
       "      <td>9.0</td>\n",
       "      <td>0.109715</td>\n",
       "      <td>0.059933</td>\n",
       "      <td>0.068455</td>\n",
       "      <td>0.076504</td>\n",
       "      <td>0.083217</td>\n",
       "      <td>0.121207</td>\n",
       "      <td>0.259640</td>\n",
       "    </tr>\n",
       "    <tr>\n",
       "      <th>tonsil Innate lymphoid cells (NK)</th>\n",
       "      <td>74.0</td>\n",
       "      <td>0.156526</td>\n",
       "      <td>0.350413</td>\n",
       "      <td>-0.212400</td>\n",
       "      <td>-0.029364</td>\n",
       "      <td>0.063985</td>\n",
       "      <td>0.193663</td>\n",
       "      <td>2.015248</td>\n",
       "    </tr>\n",
       "    <tr>\n",
       "      <th>zygote</th>\n",
       "      <td>2.0</td>\n",
       "      <td>0.049430</td>\n",
       "      <td>0.013682</td>\n",
       "      <td>0.039755</td>\n",
       "      <td>0.044592</td>\n",
       "      <td>0.049430</td>\n",
       "      <td>0.054267</td>\n",
       "      <td>0.059104</td>\n",
       "    </tr>\n",
       "    <tr>\n",
       "      <th>...</th>\n",
       "      <td>...</td>\n",
       "      <td>...</td>\n",
       "      <td>...</td>\n",
       "      <td>...</td>\n",
       "      <td>...</td>\n",
       "      <td>...</td>\n",
       "      <td>...</td>\n",
       "      <td>...</td>\n",
       "    </tr>\n",
       "    <tr>\n",
       "      <th>microglia</th>\n",
       "      <td>15.0</td>\n",
       "      <td>-0.040222</td>\n",
       "      <td>0.049959</td>\n",
       "      <td>-0.128303</td>\n",
       "      <td>-0.088339</td>\n",
       "      <td>-0.030321</td>\n",
       "      <td>0.002397</td>\n",
       "      <td>0.023644</td>\n",
       "    </tr>\n",
       "    <tr>\n",
       "      <th>oligodendrocytes</th>\n",
       "      <td>37.0</td>\n",
       "      <td>-0.025095</td>\n",
       "      <td>0.060406</td>\n",
       "      <td>-0.120763</td>\n",
       "      <td>-0.057882</td>\n",
       "      <td>-0.031525</td>\n",
       "      <td>0.004510</td>\n",
       "      <td>0.191550</td>\n",
       "    </tr>\n",
       "    <tr>\n",
       "      <th>primary cutaneous melanoma (2.8 mm, level IV)</th>\n",
       "      <td>1.0</td>\n",
       "      <td>-0.045286</td>\n",
       "      <td>NaN</td>\n",
       "      <td>-0.045286</td>\n",
       "      <td>-0.045286</td>\n",
       "      <td>-0.045286</td>\n",
       "      <td>-0.045286</td>\n",
       "      <td>-0.045286</td>\n",
       "    </tr>\n",
       "    <tr>\n",
       "      <th>Fractionated CD3+ T-cells</th>\n",
       "      <td>4.0</td>\n",
       "      <td>-0.050845</td>\n",
       "      <td>0.009079</td>\n",
       "      <td>-0.061828</td>\n",
       "      <td>-0.056164</td>\n",
       "      <td>-0.050129</td>\n",
       "      <td>-0.044810</td>\n",
       "      <td>-0.041293</td>\n",
       "    </tr>\n",
       "    <tr>\n",
       "      <th>fetal_replicating</th>\n",
       "      <td>25.0</td>\n",
       "      <td>-0.059991</td>\n",
       "      <td>0.056446</td>\n",
       "      <td>-0.170697</td>\n",
       "      <td>-0.099574</td>\n",
       "      <td>-0.062509</td>\n",
       "      <td>-0.021987</td>\n",
       "      <td>0.069091</td>\n",
       "    </tr>\n",
       "  </tbody>\n",
       "</table>\n",
       "<p>97 rows × 8 columns</p>\n",
       "</div>"
      ],
      "text/plain": [
       "                                               count      mean       std  \\\n",
       "cell type                                                                  \n",
       "leukocyte from blood of healthy individual       2.0  0.192418  0.261022   \n",
       "oocyte                                           3.0  0.085638  0.022828   \n",
       "NK cells                                         9.0  0.109715  0.059933   \n",
       "tonsil Innate lymphoid cells (NK)               74.0  0.156526  0.350413   \n",
       "zygote                                           2.0  0.049430  0.013682   \n",
       "...                                              ...       ...       ...   \n",
       "microglia                                       15.0 -0.040222  0.049959   \n",
       "oligodendrocytes                                37.0 -0.025095  0.060406   \n",
       "primary cutaneous melanoma (2.8 mm, level IV)    1.0 -0.045286       NaN   \n",
       "Fractionated CD3+ T-cells                        4.0 -0.050845  0.009079   \n",
       "fetal_replicating                               25.0 -0.059991  0.056446   \n",
       "\n",
       "                                                    min       25%       50%  \\\n",
       "cell type                                                                     \n",
       "leukocyte from blood of healthy individual     0.007847  0.100132  0.192418   \n",
       "oocyte                                         0.059954  0.076651  0.093347   \n",
       "NK cells                                       0.068455  0.076504  0.083217   \n",
       "tonsil Innate lymphoid cells (NK)             -0.212400 -0.029364  0.063985   \n",
       "zygote                                         0.039755  0.044592  0.049430   \n",
       "...                                                 ...       ...       ...   \n",
       "microglia                                     -0.128303 -0.088339 -0.030321   \n",
       "oligodendrocytes                              -0.120763 -0.057882 -0.031525   \n",
       "primary cutaneous melanoma (2.8 mm, level IV) -0.045286 -0.045286 -0.045286   \n",
       "Fractionated CD3+ T-cells                     -0.061828 -0.056164 -0.050129   \n",
       "fetal_replicating                             -0.170697 -0.099574 -0.062509   \n",
       "\n",
       "                                                    75%       max  \n",
       "cell type                                                          \n",
       "leukocyte from blood of healthy individual     0.284703  0.376988  \n",
       "oocyte                                         0.098480  0.103613  \n",
       "NK cells                                       0.121207  0.259640  \n",
       "tonsil Innate lymphoid cells (NK)              0.193663  2.015248  \n",
       "zygote                                         0.054267  0.059104  \n",
       "...                                                 ...       ...  \n",
       "microglia                                      0.002397  0.023644  \n",
       "oligodendrocytes                               0.004510  0.191550  \n",
       "primary cutaneous melanoma (2.8 mm, level IV) -0.045286 -0.045286  \n",
       "Fractionated CD3+ T-cells                     -0.044810 -0.041293  \n",
       "fetal_replicating                             -0.021987  0.069091  \n",
       "\n",
       "[97 rows x 8 columns]"
      ]
     },
     "metadata": {},
     "output_type": "display_data"
    }
   ],
   "source": [
    "plot_data_stats_by_cell_type = (\n",
    "    final_plot_data.groupby(SELECTED_ATTRIBUTE)\n",
    "    .describe()[LV_NAME]\n",
    "    .sort_values(\"50%\", ascending=False)\n",
    ")\n",
    "display(plot_data_stats_by_cell_type)"
   ]
  },
  {
   "cell_type": "code",
   "execution_count": 53,
   "id": "1daa5714-d2c7-4af9-a57f-ebf681688188",
   "metadata": {},
   "outputs": [
    {
     "data": {
      "text/plain": [
       "Index(['NK cells', 'tonsil Innate lymphoid cells (NK)',\n",
       "       'primary human T cells', 'CD4+CD45RO+ T cells', 'Bone marrow',\n",
       "       'primary human PBMC', 'B cells',\n",
       "       'Head and Neck Squamous Cell Carcinoma cells',\n",
       "       'tonsil Innate lymphoid cells (ILC1)', 'hybrid', 'fixed cell',\n",
       "       'NG2-sorted cell from blood of melanoma patient',\n",
       "       'tonsil Innate lymphoid cells (ILC3)',\n",
       "       'ER+ Breast Cancer Primary Tumor', 'primary renal cell carcinoma',\n",
       "       'large live', 'Gliomasphere Cell Line', 'primary human neutrophils',\n",
       "       'NOT CATEGORIZED'],\n",
       "      dtype='object', name='cell type')"
      ]
     },
     "metadata": {},
     "output_type": "display_data"
    }
   ],
   "source": [
    "# keep cell types whose count is not too low and median is larger than the global median\n",
    "selected_cell_types = plot_data_stats_by_cell_type[\n",
    "    (plot_data_stats_by_cell_type[\"count\"] > 5)\n",
    "    & (plot_data_stats_by_cell_type[\"50%\"] > max(plot_data_stats.loc[\"50%\"], 0.0))\n",
    "].index\n",
    "display(selected_cell_types)"
   ]
  },
  {
   "cell_type": "code",
   "execution_count": 54,
   "id": "3d64ab5f-d152-4135-977e-03a97815d618",
   "metadata": {},
   "outputs": [
    {
     "data": {
      "text/plain": [
       "(8116, 2)"
      ]
     },
     "execution_count": 54,
     "metadata": {},
     "output_type": "execute_result"
    }
   ],
   "source": [
    "final_plot_data.shape"
   ]
  },
  {
   "cell_type": "code",
   "execution_count": 55,
   "id": "467a773a-8e23-4d90-89e3-b8f890b86cf1",
   "metadata": {},
   "outputs": [],
   "source": [
    "reduced_plot_data = final_plot_data[\n",
    "    final_plot_data[SELECTED_ATTRIBUTE].isin(selected_cell_types)\n",
    "]"
   ]
  },
  {
   "cell_type": "code",
   "execution_count": 56,
   "id": "2d6b2fcb-3f40-4561-80e2-f07d99c52715",
   "metadata": {},
   "outputs": [
    {
     "data": {
      "text/plain": [
       "(4164, 2)"
      ]
     },
     "execution_count": 56,
     "metadata": {},
     "output_type": "execute_result"
    }
   ],
   "source": [
    "reduced_plot_data.shape"
   ]
  },
  {
   "cell_type": "markdown",
   "id": "5db926cc-c9d0-4a03-8221-c1c9f7530b84",
   "metadata": {},
   "source": [
    "## Shorten context names"
   ]
  },
  {
   "cell_type": "code",
   "execution_count": 73,
   "id": "c5123eee-806d-4b0f-abcc-1b2da4c98329",
   "metadata": {},
   "outputs": [],
   "source": [
    "reduced_plot_data = reduced_plot_data.replace(\n",
    "    {\n",
    "        SELECTED_ATTRIBUTE: {\n",
    "            \"tonsil Innate lymphoid cells (ILC3)\": \"tonsil ILCs (ILC3)\",\n",
    "            \"tonsil Innate lymphoid cells (NK)\": \"tonsil ILCs (NK)\",\n",
    "            \"tonsil Innate lymphoid cells (ILC2)\": \"tonsil ILCs (ILC2)\",\n",
    "            \"tonsil Innate lymphoid cells (ILC1)\": \"tonsil ILCs (ILC1)\",\n",
    "            \"primary human NK cells\": \"NK cells\",\n",
    "            \"primary human neutrophils\": \"Neutrophils\",\n",
    "            \"Head and Neck Squamous Cell Carcinoma cells\": \"Squamous Cell Carcinoma cells\",\n",
    "            \"NG2-sorted cell from blood of melanoma patient\": \"Blood (melanoma)\",\n",
    "            \"ER+ Breast Cancer Primary Tumor\": \"Breast Cancer (ER+)\",\n",
    "        }\n",
    "    }\n",
    ")"
   ]
  },
  {
   "cell_type": "code",
   "execution_count": 74,
   "id": "fd3b0d47-6f3d-4988-b4ed-9053a2a86a30",
   "metadata": {},
   "outputs": [],
   "source": [
    "reduced_plot_data = reduced_plot_data[\n",
    "    ~reduced_plot_data[SELECTED_ATTRIBUTE].isin((\n",
    "        \"NOT CATEGORIZED\",\n",
    "        \"hybrid\",\n",
    "        \"fixed cell\",\n",
    "    ))\n",
    "]"
   ]
  },
  {
   "cell_type": "code",
   "execution_count": 75,
   "id": "25c638c4-9321-4243-9b98-faadc3f6ed2d",
   "metadata": {},
   "outputs": [
    {
     "data": {
      "text/plain": [
       "(1033, 2)"
      ]
     },
     "execution_count": 75,
     "metadata": {},
     "output_type": "execute_result"
    }
   ],
   "source": [
    "reduced_plot_data.shape"
   ]
  },
  {
   "cell_type": "markdown",
   "id": "9c900800-2c9f-46e8-a37a-931b9684cf19",
   "metadata": {},
   "source": [
    "## Set x-axis order"
   ]
  },
  {
   "cell_type": "code",
   "execution_count": 76,
   "id": "4c5133cd-b51c-441a-9aa0-77dcf274c517",
   "metadata": {},
   "outputs": [],
   "source": [
    "attr_order = (\n",
    "    reduced_plot_data.groupby(SELECTED_ATTRIBUTE)\n",
    "    .max()\n",
    "    .sort_values(LV_NAME, ascending=False)\n",
    "    .index[:8]\n",
    "    .tolist()\n",
    ")"
   ]
  },
  {
   "cell_type": "code",
   "execution_count": 77,
   "id": "bffec958-42da-4e43-a0f8-6520ea6c5ec5",
   "metadata": {},
   "outputs": [
    {
     "data": {
      "text/plain": [
       "8"
      ]
     },
     "execution_count": 77,
     "metadata": {},
     "output_type": "execute_result"
    }
   ],
   "source": [
    "len(attr_order)"
   ]
  },
  {
   "cell_type": "code",
   "execution_count": 78,
   "id": "f8c5b531-3ed3-483a-b93b-79efecb4d339",
   "metadata": {},
   "outputs": [
    {
     "data": {
      "text/plain": [
       "['tonsil ILCs (ILC1)',\n",
       " 'tonsil ILCs (NK)',\n",
       " 'Gliomasphere Cell Line',\n",
       " 'tonsil ILCs (ILC3)',\n",
       " 'NK cells',\n",
       " 'Breast Cancer (ER+)',\n",
       " 'Bone marrow',\n",
       " 'Squamous Cell Carcinoma cells']"
      ]
     },
     "execution_count": 78,
     "metadata": {},
     "output_type": "execute_result"
    }
   ],
   "source": [
    "attr_order"
   ]
  },
  {
   "cell_type": "markdown",
   "id": "fa387e26-b7e2-42ed-a3e6-0b25e219354f",
   "metadata": {},
   "source": [
    "## Plot"
   ]
  },
  {
   "cell_type": "code",
   "execution_count": 80,
   "id": "56dff565-b0a1-4af8-80df-7a4738c604f4",
   "metadata": {},
   "outputs": [
    {
     "data": {
      "image/png": "[encoded data removed]",
      "text/plain": [
       "<Figure size 900x500 with 1 Axes>"
      ]
     },
     "metadata": {},
     "output_type": "display_data"
    }
   ],
   "source": [
    "with sns.plotting_context(\"paper\", font_scale=2.5), sns.axes_style(\"whitegrid\"):\n",
    "    g = sns.catplot(\n",
    "        data=reduced_plot_data,\n",
    "        y=LV_NAME,\n",
    "        x=SELECTED_ATTRIBUTE,\n",
    "        order=attr_order,\n",
    "        kind=\"box\",\n",
    "        height=5,\n",
    "        aspect=1.8,\n",
    "    )\n",
    "    plt.xticks(rotation=45, horizontalalignment=\"right\")\n",
    "    plt.xlabel(\"\")\n",
    "\n",
    "    plt.savefig(\n",
    "        OUTPUT_CELL_TYPE_FILEPATH,\n",
    "        bbox_inches=\"tight\",\n",
    "        facecolor=\"white\",\n",
    "    )"
   ]
  },
  {
   "cell_type": "code",
   "execution_count": null,
   "id": "classified-overall",
   "metadata": {},
   "outputs": [],
   "source": []
  }
 ],
 "metadata": {
  "jupytext": {
   "cell_metadata_filter": "all,-execution,-papermill,-trusted",
   "formats": "ipynb,py//py:percent"
  },
  "kernelspec": {
   "display_name": "Python 3 (ipykernel)",
   "language": "python",
   "name": "python3"
  },
  "language_info": {
   "codemirror_mode": {
    "name": "ipython",
    "version": 3
   },
   "file_extension": ".py",
   "mimetype": "text/x-python",
   "name": "python",
   "nbconvert_exporter": "python",
   "pygments_lexer": "ipython3",
   "version": "3.10.6"
  },
  "toc-autonumbering": true
 },
 "nbformat": 4,
 "nbformat_minor": 5
}
