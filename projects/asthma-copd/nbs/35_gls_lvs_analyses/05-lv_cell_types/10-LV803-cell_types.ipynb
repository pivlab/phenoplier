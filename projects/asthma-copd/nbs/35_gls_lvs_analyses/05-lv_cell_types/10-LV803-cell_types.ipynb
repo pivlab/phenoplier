{
 "cells": [
  {
   "cell_type": "markdown",
   "id": "superior-virgin",
   "metadata": {
    "papermill": {
     "duration": 0.006593,
     "end_time": "2021-05-11T19:09:55.733221",
     "exception": false,
     "start_time": "2021-05-11T19:09:55.726628",
     "status": "completed"
    },
    "tags": []
   },
   "source": [
    "# Description"
   ]
  },
  {
   "cell_type": "markdown",
   "id": "successful-knight",
   "metadata": {
    "papermill": {
     "duration": 0.00668,
     "end_time": "2021-05-11T19:09:55.745410",
     "exception": false,
     "start_time": "2021-05-11T19:09:55.738730",
     "status": "completed"
    },
    "tags": []
   },
   "source": [
    "Generates the figure for top cell types for a specified LV (in Settings section below)."
   ]
  },
  {
   "cell_type": "markdown",
   "id": "compatible-weight",
   "metadata": {
    "papermill": {
     "duration": 0.006223,
     "end_time": "2021-05-11T19:09:55.756959",
     "exception": false,
     "start_time": "2021-05-11T19:09:55.750736",
     "status": "completed"
    },
    "tags": []
   },
   "source": [
    "# Modules loading"
   ]
  },
  {
   "cell_type": "code",
   "execution_count": 1,
   "id": "proper-chester",
   "metadata": {
    "papermill": {
     "duration": 0.993432,
     "end_time": "2021-05-11T19:09:56.780403",
     "exception": false,
     "start_time": "2021-05-11T19:09:55.786971",
     "status": "completed"
    },
    "tags": []
   },
   "outputs": [],
   "source": [
    "import re\n",
    "from pathlib import Path\n",
    "\n",
    "import pandas as pd\n",
    "import matplotlib.pyplot as plt\n",
    "import seaborn as sns\n",
    "\n",
    "from data.recount2 import LVAnalysis\n",
    "from utils import chunker\n",
    "import conf"
   ]
  },
  {
   "cell_type": "markdown",
   "id": "sized-butter",
   "metadata": {
    "papermill": {
     "duration": 0.005973,
     "end_time": "2021-05-11T19:09:56.792495",
     "exception": false,
     "start_time": "2021-05-11T19:09:56.786522",
     "status": "completed"
    },
    "tags": []
   },
   "source": [
    "# Settings"
   ]
  },
  {
   "cell_type": "code",
   "execution_count": 2,
   "id": "tender-contrary",
   "metadata": {
    "papermill": {
     "duration": 0.019548,
     "end_time": "2021-05-11T19:09:56.817689",
     "exception": false,
     "start_time": "2021-05-11T19:09:56.798141",
     "status": "completed"
    },
    "tags": [
     "parameters"
    ]
   },
   "outputs": [],
   "source": [
    "LV_NAME = \"LV803\""
   ]
  },
  {
   "cell_type": "code",
   "execution_count": 3,
   "id": "sunset-carbon",
   "metadata": {},
   "outputs": [],
   "source": [
    "# LV_AXIS_THRESHOLD = None  # 3.0\n",
    "LV_AXIS_THRESHOLD = 2.0\n",
    "N_TOP_SAMPLES = 400\n",
    "N_TOP_ATTRS = 15"
   ]
  },
  {
   "cell_type": "code",
   "execution_count": 4,
   "id": "proof-primary",
   "metadata": {},
   "outputs": [
    {
     "data": {
      "text/plain": [
       "PosixPath('/opt/manuscript/content/images/lvs_analysis/lv803')"
      ]
     },
     "metadata": {},
     "output_type": "display_data"
    }
   ],
   "source": [
    "OUTPUT_FIGURES_DIR = Path(\n",
    "    conf.MANUSCRIPT[\"FIGURES_DIR\"], \"lvs_analysis\", f\"{LV_NAME.lower()}\"\n",
    ").resolve()\n",
    "display(OUTPUT_FIGURES_DIR)\n",
    "OUTPUT_FIGURES_DIR.mkdir(parents=True, exist_ok=True)"
   ]
  },
  {
   "cell_type": "code",
   "execution_count": 5,
   "id": "three-crossing",
   "metadata": {},
   "outputs": [
    {
     "data": {
      "text/plain": [
       "PosixPath('/opt/manuscript/content/images/lvs_analysis/lv803/lv803-cell_types.svg')"
      ]
     },
     "metadata": {},
     "output_type": "display_data"
    }
   ],
   "source": [
    "OUTPUT_CELL_TYPE_FILEPATH = OUTPUT_FIGURES_DIR / f\"{LV_NAME.lower()}-cell_types.svg\"\n",
    "display(OUTPUT_CELL_TYPE_FILEPATH)"
   ]
  },
  {
   "cell_type": "markdown",
   "id": "invisible-madrid",
   "metadata": {
    "papermill": {
     "duration": 0.005592,
     "end_time": "2021-05-11T19:09:56.854406",
     "exception": false,
     "start_time": "2021-05-11T19:09:56.848814",
     "status": "completed"
    },
    "tags": []
   },
   "source": [
    "# Load MultiPLIER summary"
   ]
  },
  {
   "cell_type": "code",
   "execution_count": 6,
   "id": "coated-christmas",
   "metadata": {
    "papermill": {
     "duration": 0.020251,
     "end_time": "2021-05-11T19:09:56.880435",
     "exception": false,
     "start_time": "2021-05-11T19:09:56.860184",
     "status": "completed"
    },
    "tags": []
   },
   "outputs": [],
   "source": [
    "multiplier_model_summary = pd.read_pickle(conf.MULTIPLIER[\"MODEL_SUMMARY_FILE\"])"
   ]
  },
  {
   "cell_type": "code",
   "execution_count": 7,
   "id": "stopped-driving",
   "metadata": {
    "papermill": {
     "duration": 0.02062,
     "end_time": "2021-05-11T19:09:56.906744",
     "exception": false,
     "start_time": "2021-05-11T19:09:56.886124",
     "status": "completed"
    },
    "tags": []
   },
   "outputs": [
    {
     "data": {
      "text/plain": [
       "(2157, 5)"
      ]
     },
     "execution_count": 7,
     "metadata": {},
     "output_type": "execute_result"
    }
   ],
   "source": [
    "multiplier_model_summary.shape"
   ]
  },
  {
   "cell_type": "code",
   "execution_count": 8,
   "id": "rural-grove",
   "metadata": {
    "papermill": {
     "duration": 0.024737,
     "end_time": "2021-05-11T19:09:56.937493",
     "exception": false,
     "start_time": "2021-05-11T19:09:56.912756",
     "status": "completed"
    },
    "tags": []
   },
   "outputs": [
    {
     "data": {
      "text/html": [
       "<div>\n",
       "<style scoped>\n",
       "    .dataframe tbody tr th:only-of-type {\n",
       "        vertical-align: middle;\n",
       "    }\n",
       "\n",
       "    .dataframe tbody tr th {\n",
       "        vertical-align: top;\n",
       "    }\n",
       "\n",
       "    .dataframe thead th {\n",
       "        text-align: right;\n",
       "    }\n",
       "</style>\n",
       "<table border=\"1\" class=\"dataframe\">\n",
       "  <thead>\n",
       "    <tr style=\"text-align: right;\">\n",
       "      <th></th>\n",
       "      <th>pathway</th>\n",
       "      <th>LV index</th>\n",
       "      <th>AUC</th>\n",
       "      <th>p-value</th>\n",
       "      <th>FDR</th>\n",
       "    </tr>\n",
       "  </thead>\n",
       "  <tbody>\n",
       "    <tr>\n",
       "      <th>1</th>\n",
       "      <td>KEGG_LYSINE_DEGRADATION</td>\n",
       "      <td>1</td>\n",
       "      <td>0.388059</td>\n",
       "      <td>0.866078</td>\n",
       "      <td>0.956005</td>\n",
       "    </tr>\n",
       "    <tr>\n",
       "      <th>2</th>\n",
       "      <td>REACTOME_MRNA_SPLICING</td>\n",
       "      <td>1</td>\n",
       "      <td>0.733057</td>\n",
       "      <td>0.000048</td>\n",
       "      <td>0.000582</td>\n",
       "    </tr>\n",
       "    <tr>\n",
       "      <th>3</th>\n",
       "      <td>MIPS_NOP56P_ASSOCIATED_PRE_RRNA_COMPLEX</td>\n",
       "      <td>1</td>\n",
       "      <td>0.680555</td>\n",
       "      <td>0.001628</td>\n",
       "      <td>0.011366</td>\n",
       "    </tr>\n",
       "    <tr>\n",
       "      <th>4</th>\n",
       "      <td>KEGG_DNA_REPLICATION</td>\n",
       "      <td>1</td>\n",
       "      <td>0.549473</td>\n",
       "      <td>0.312155</td>\n",
       "      <td>0.539951</td>\n",
       "    </tr>\n",
       "    <tr>\n",
       "      <th>5</th>\n",
       "      <td>PID_MYC_ACTIVPATHWAY</td>\n",
       "      <td>1</td>\n",
       "      <td>0.639303</td>\n",
       "      <td>0.021702</td>\n",
       "      <td>0.083739</td>\n",
       "    </tr>\n",
       "  </tbody>\n",
       "</table>\n",
       "</div>"
      ],
      "text/plain": [
       "                                   pathway LV index       AUC   p-value  \\\n",
       "1                  KEGG_LYSINE_DEGRADATION        1  0.388059  0.866078   \n",
       "2                   REACTOME_MRNA_SPLICING        1  0.733057  0.000048   \n",
       "3  MIPS_NOP56P_ASSOCIATED_PRE_RRNA_COMPLEX        1  0.680555  0.001628   \n",
       "4                     KEGG_DNA_REPLICATION        1  0.549473  0.312155   \n",
       "5                     PID_MYC_ACTIVPATHWAY        1  0.639303  0.021702   \n",
       "\n",
       "        FDR  \n",
       "1  0.956005  \n",
       "2  0.000582  \n",
       "3  0.011366  \n",
       "4  0.539951  \n",
       "5  0.083739  "
      ]
     },
     "execution_count": 8,
     "metadata": {},
     "output_type": "execute_result"
    }
   ],
   "source": [
    "multiplier_model_summary.head()"
   ]
  },
  {
   "cell_type": "markdown",
   "id": "neural-expression",
   "metadata": {
    "papermill": {
     "duration": 0.006007,
     "end_time": "2021-05-11T19:09:56.949763",
     "exception": false,
     "start_time": "2021-05-11T19:09:56.943756",
     "status": "completed"
    },
    "tags": []
   },
   "source": [
    "# Load data"
   ]
  },
  {
   "cell_type": "markdown",
   "id": "military-enlargement",
   "metadata": {
    "papermill": {
     "duration": 0.005873,
     "end_time": "2021-05-11T19:09:56.961602",
     "exception": false,
     "start_time": "2021-05-11T19:09:56.955729",
     "status": "completed"
    },
    "tags": []
   },
   "source": [
    "## Original data"
   ]
  },
  {
   "cell_type": "code",
   "execution_count": 9,
   "id": "distinguished-elements",
   "metadata": {
    "papermill": {
     "duration": 0.019571,
     "end_time": "2021-05-11T19:09:56.987255",
     "exception": false,
     "start_time": "2021-05-11T19:09:56.967684",
     "status": "completed"
    },
    "tags": []
   },
   "outputs": [],
   "source": [
    "# INPUT_SUBSET = \"z_score_std\""
   ]
  },
  {
   "cell_type": "code",
   "execution_count": 10,
   "id": "elementary-court",
   "metadata": {
    "papermill": {
     "duration": 0.019175,
     "end_time": "2021-05-11T19:09:57.025099",
     "exception": false,
     "start_time": "2021-05-11T19:09:57.005924",
     "status": "completed"
    },
    "tags": []
   },
   "outputs": [],
   "source": [
    "# INPUT_STEM = \"projection-smultixcan-efo_partial-mashr-zscores\""
   ]
  },
  {
   "cell_type": "code",
   "execution_count": 11,
   "id": "yellow-stand",
   "metadata": {
    "papermill": {
     "duration": 0.020992,
     "end_time": "2021-05-11T19:09:57.052255",
     "exception": false,
     "start_time": "2021-05-11T19:09:57.031263",
     "status": "completed"
    },
    "tags": []
   },
   "outputs": [],
   "source": [
    "# input_filepath = Path(\n",
    "#     conf.RESULTS[\"DATA_TRANSFORMATIONS_DIR\"],\n",
    "#     INPUT_SUBSET,\n",
    "#     f\"{INPUT_SUBSET}-{INPUT_STEM}.pkl\",\n",
    "# ).resolve()\n",
    "# display(input_filepath)\n",
    "\n",
    "# assert input_filepath.exists(), \"Input file does not exist\"\n",
    "\n",
    "# input_filepath_stem = input_filepath.stem\n",
    "# display(input_filepath_stem)"
   ]
  },
  {
   "cell_type": "code",
   "execution_count": 12,
   "id": "perfect-cruise",
   "metadata": {
    "papermill": {
     "duration": 0.032337,
     "end_time": "2021-05-11T19:09:57.090585",
     "exception": false,
     "start_time": "2021-05-11T19:09:57.058248",
     "status": "completed"
    },
    "tags": []
   },
   "outputs": [],
   "source": [
    "# data = pd.read_pickle(input_filepath)"
   ]
  },
  {
   "cell_type": "code",
   "execution_count": 13,
   "id": "medieval-junction",
   "metadata": {
    "papermill": {
     "duration": 0.01967,
     "end_time": "2021-05-11T19:09:57.116292",
     "exception": false,
     "start_time": "2021-05-11T19:09:57.096622",
     "status": "completed"
    },
    "tags": []
   },
   "outputs": [],
   "source": [
    "# data.shape"
   ]
  },
  {
   "cell_type": "code",
   "execution_count": 14,
   "id": "charitable-craps",
   "metadata": {
    "papermill": {
     "duration": 0.031843,
     "end_time": "2021-05-11T19:09:57.154356",
     "exception": false,
     "start_time": "2021-05-11T19:09:57.122513",
     "status": "completed"
    },
    "tags": []
   },
   "outputs": [],
   "source": [
    "# data.head()"
   ]
  },
  {
   "cell_type": "markdown",
   "id": "architectural-flooring",
   "metadata": {},
   "source": [
    "## LV data"
   ]
  },
  {
   "cell_type": "code",
   "execution_count": 15,
   "id": "suited-employer",
   "metadata": {},
   "outputs": [],
   "source": [
    "# lv_obj = LVAnalysis(LV_NAME, data)\n",
    "lv_obj = LVAnalysis(LV_NAME)"
   ]
  },
  {
   "cell_type": "code",
   "execution_count": 16,
   "id": "noted-little",
   "metadata": {},
   "outputs": [
    {
     "data": {
      "text/html": [
       "<div>\n",
       "<style scoped>\n",
       "    .dataframe tbody tr th:only-of-type {\n",
       "        vertical-align: middle;\n",
       "    }\n",
       "\n",
       "    .dataframe tbody tr th {\n",
       "        vertical-align: top;\n",
       "    }\n",
       "\n",
       "    .dataframe thead th {\n",
       "        text-align: right;\n",
       "    }\n",
       "</style>\n",
       "<table border=\"1\" class=\"dataframe\">\n",
       "  <thead>\n",
       "    <tr style=\"text-align: right;\">\n",
       "      <th></th>\n",
       "      <th>pathway</th>\n",
       "      <th>LV index</th>\n",
       "      <th>AUC</th>\n",
       "      <th>p-value</th>\n",
       "      <th>FDR</th>\n",
       "    </tr>\n",
       "  </thead>\n",
       "  <tbody>\n",
       "  </tbody>\n",
       "</table>\n",
       "</div>"
      ],
      "text/plain": [
       "Empty DataFrame\n",
       "Columns: [pathway, LV index, AUC, p-value, FDR]\n",
       "Index: []"
      ]
     },
     "execution_count": 16,
     "metadata": {},
     "output_type": "execute_result"
    }
   ],
   "source": [
    "multiplier_model_summary[\n",
    "    multiplier_model_summary[\"LV index\"].isin((LV_NAME[2:],))\n",
    "    & (\n",
    "        (multiplier_model_summary[\"FDR\"] < 0.05)\n",
    "        | (multiplier_model_summary[\"AUC\"] >= 0.75)\n",
    "    )\n",
    "]"
   ]
  },
  {
   "cell_type": "code",
   "execution_count": 17,
   "id": "assigned-weekly",
   "metadata": {},
   "outputs": [
    {
     "name": "stdout",
     "output_type": "stream",
     "text": [
      "SRP060416, SRP066834, SRP057196, SRP055569, SRP002881, SRP042161, SRP050499, SRP055153, SRP033135, SRP058773, SRP045659, SRP015976, SRP064464, SRP062025, SRP015336, SRP024244, SRP018838, SRP067661, SRP007461, SRP059379, SRP007338, SRP059775, SRP055810, SRP043033, SRP015853, "
     ]
    },
    {
     "name": "stderr",
     "output_type": "stream",
     "text": [
      "/opt/code/libs/data/recount2.py:360: UserWarning: Not all experiments data could be loaded (24 != 25)\n",
      "  warnings.warn(\n"
     ]
    }
   ],
   "source": [
    "lv_data = lv_obj.get_experiments_data()"
   ]
  },
  {
   "cell_type": "code",
   "execution_count": 18,
   "id": "guilty-medicaid",
   "metadata": {},
   "outputs": [
    {
     "data": {
      "text/plain": [
       "(4810, 43)"
      ]
     },
     "execution_count": 18,
     "metadata": {},
     "output_type": "execute_result"
    }
   ],
   "source": [
    "lv_data.shape"
   ]
  },
  {
   "cell_type": "code",
   "execution_count": 19,
   "id": "neural-cambridge",
   "metadata": {},
   "outputs": [
    {
     "data": {
      "text/html": [
       "<div>\n",
       "<style scoped>\n",
       "    .dataframe tbody tr th:only-of-type {\n",
       "        vertical-align: middle;\n",
       "    }\n",
       "\n",
       "    .dataframe tbody tr th {\n",
       "        vertical-align: top;\n",
       "    }\n",
       "\n",
       "    .dataframe thead th {\n",
       "        text-align: right;\n",
       "    }\n",
       "</style>\n",
       "<table border=\"1\" class=\"dataframe\">\n",
       "  <thead>\n",
       "    <tr style=\"text-align: right;\">\n",
       "      <th></th>\n",
       "      <th></th>\n",
       "      <th>tonsil donor</th>\n",
       "      <th>facs gating</th>\n",
       "      <th>cell type</th>\n",
       "      <th>Stage</th>\n",
       "      <th>tissue</th>\n",
       "      <th>age</th>\n",
       "      <th>c1 chip id</th>\n",
       "      <th>experiment_sample_name</th>\n",
       "      <th>cell line</th>\n",
       "      <th>patient id</th>\n",
       "      <th>...</th>\n",
       "      <th>cell sorted</th>\n",
       "      <th>time in culture</th>\n",
       "      <th>labexpid</th>\n",
       "      <th>iPSc</th>\n",
       "      <th>reprogramming vector</th>\n",
       "      <th>library type</th>\n",
       "      <th>read length</th>\n",
       "      <th>lineage</th>\n",
       "      <th>embryo number</th>\n",
       "      <th>LV803</th>\n",
       "    </tr>\n",
       "    <tr>\n",
       "      <th>project</th>\n",
       "      <th>run</th>\n",
       "      <th></th>\n",
       "      <th></th>\n",
       "      <th></th>\n",
       "      <th></th>\n",
       "      <th></th>\n",
       "      <th></th>\n",
       "      <th></th>\n",
       "      <th></th>\n",
       "      <th></th>\n",
       "      <th></th>\n",
       "      <th></th>\n",
       "      <th></th>\n",
       "      <th></th>\n",
       "      <th></th>\n",
       "      <th></th>\n",
       "      <th></th>\n",
       "      <th></th>\n",
       "      <th></th>\n",
       "      <th></th>\n",
       "      <th></th>\n",
       "      <th></th>\n",
       "    </tr>\n",
       "  </thead>\n",
       "  <tbody>\n",
       "    <tr>\n",
       "      <th rowspan=\"5\" valign=\"top\">SRP060416</th>\n",
       "      <th>SRR2088096</th>\n",
       "      <td>Donor T74</td>\n",
       "      <td>NK</td>\n",
       "      <td>tonsil Innate lymphoid cells</td>\n",
       "      <td>NaN</td>\n",
       "      <td>NaN</td>\n",
       "      <td>NaN</td>\n",
       "      <td>NaN</td>\n",
       "      <td>NaN</td>\n",
       "      <td>NaN</td>\n",
       "      <td>NaN</td>\n",
       "      <td>...</td>\n",
       "      <td>NaN</td>\n",
       "      <td>NaN</td>\n",
       "      <td>NaN</td>\n",
       "      <td>NaN</td>\n",
       "      <td>NaN</td>\n",
       "      <td>NaN</td>\n",
       "      <td>NaN</td>\n",
       "      <td>NaN</td>\n",
       "      <td>NaN</td>\n",
       "      <td>-0.045513</td>\n",
       "    </tr>\n",
       "    <tr>\n",
       "      <th>SRR2088128</th>\n",
       "      <td>Donor T74</td>\n",
       "      <td>ILC3</td>\n",
       "      <td>tonsil Innate lymphoid cells</td>\n",
       "      <td>NaN</td>\n",
       "      <td>NaN</td>\n",
       "      <td>NaN</td>\n",
       "      <td>NaN</td>\n",
       "      <td>NaN</td>\n",
       "      <td>NaN</td>\n",
       "      <td>NaN</td>\n",
       "      <td>...</td>\n",
       "      <td>NaN</td>\n",
       "      <td>NaN</td>\n",
       "      <td>NaN</td>\n",
       "      <td>NaN</td>\n",
       "      <td>NaN</td>\n",
       "      <td>NaN</td>\n",
       "      <td>NaN</td>\n",
       "      <td>NaN</td>\n",
       "      <td>NaN</td>\n",
       "      <td>0.032254</td>\n",
       "    </tr>\n",
       "    <tr>\n",
       "      <th>SRR2088153</th>\n",
       "      <td>Donor T75</td>\n",
       "      <td>ILC3</td>\n",
       "      <td>tonsil Innate lymphoid cells</td>\n",
       "      <td>NaN</td>\n",
       "      <td>NaN</td>\n",
       "      <td>NaN</td>\n",
       "      <td>NaN</td>\n",
       "      <td>NaN</td>\n",
       "      <td>NaN</td>\n",
       "      <td>NaN</td>\n",
       "      <td>...</td>\n",
       "      <td>NaN</td>\n",
       "      <td>NaN</td>\n",
       "      <td>NaN</td>\n",
       "      <td>NaN</td>\n",
       "      <td>NaN</td>\n",
       "      <td>NaN</td>\n",
       "      <td>NaN</td>\n",
       "      <td>NaN</td>\n",
       "      <td>NaN</td>\n",
       "      <td>0.456020</td>\n",
       "    </tr>\n",
       "    <tr>\n",
       "      <th>SRR2088179</th>\n",
       "      <td>Donor T75</td>\n",
       "      <td>ILC3</td>\n",
       "      <td>tonsil Innate lymphoid cells</td>\n",
       "      <td>NaN</td>\n",
       "      <td>NaN</td>\n",
       "      <td>NaN</td>\n",
       "      <td>NaN</td>\n",
       "      <td>NaN</td>\n",
       "      <td>NaN</td>\n",
       "      <td>NaN</td>\n",
       "      <td>...</td>\n",
       "      <td>NaN</td>\n",
       "      <td>NaN</td>\n",
       "      <td>NaN</td>\n",
       "      <td>NaN</td>\n",
       "      <td>NaN</td>\n",
       "      <td>NaN</td>\n",
       "      <td>NaN</td>\n",
       "      <td>NaN</td>\n",
       "      <td>NaN</td>\n",
       "      <td>-0.008664</td>\n",
       "    </tr>\n",
       "    <tr>\n",
       "      <th>SRR2088205</th>\n",
       "      <td>Donor T75</td>\n",
       "      <td>ILC3</td>\n",
       "      <td>tonsil Innate lymphoid cells</td>\n",
       "      <td>NaN</td>\n",
       "      <td>NaN</td>\n",
       "      <td>NaN</td>\n",
       "      <td>NaN</td>\n",
       "      <td>NaN</td>\n",
       "      <td>NaN</td>\n",
       "      <td>NaN</td>\n",
       "      <td>...</td>\n",
       "      <td>NaN</td>\n",
       "      <td>NaN</td>\n",
       "      <td>NaN</td>\n",
       "      <td>NaN</td>\n",
       "      <td>NaN</td>\n",
       "      <td>NaN</td>\n",
       "      <td>NaN</td>\n",
       "      <td>NaN</td>\n",
       "      <td>NaN</td>\n",
       "      <td>8.080674</td>\n",
       "    </tr>\n",
       "  </tbody>\n",
       "</table>\n",
       "<p>5 rows × 43 columns</p>\n",
       "</div>"
      ],
      "text/plain": [
       "                     tonsil donor facs gating                     cell type  \\\n",
       "project   run                                                                 \n",
       "SRP060416 SRR2088096    Donor T74          NK  tonsil Innate lymphoid cells   \n",
       "          SRR2088128    Donor T74        ILC3  tonsil Innate lymphoid cells   \n",
       "          SRR2088153    Donor T75        ILC3  tonsil Innate lymphoid cells   \n",
       "          SRR2088179    Donor T75        ILC3  tonsil Innate lymphoid cells   \n",
       "          SRR2088205    Donor T75        ILC3  tonsil Innate lymphoid cells   \n",
       "\n",
       "                     Stage tissue  age c1 chip id experiment_sample_name  \\\n",
       "project   run                                                              \n",
       "SRP060416 SRR2088096   NaN    NaN  NaN        NaN                    NaN   \n",
       "          SRR2088128   NaN    NaN  NaN        NaN                    NaN   \n",
       "          SRR2088153   NaN    NaN  NaN        NaN                    NaN   \n",
       "          SRR2088179   NaN    NaN  NaN        NaN                    NaN   \n",
       "          SRR2088205   NaN    NaN  NaN        NaN                    NaN   \n",
       "\n",
       "                     cell line patient id  ... cell sorted time in culture  \\\n",
       "project   run                              ...                               \n",
       "SRP060416 SRR2088096       NaN        NaN  ...         NaN             NaN   \n",
       "          SRR2088128       NaN        NaN  ...         NaN             NaN   \n",
       "          SRR2088153       NaN        NaN  ...         NaN             NaN   \n",
       "          SRR2088179       NaN        NaN  ...         NaN             NaN   \n",
       "          SRR2088205       NaN        NaN  ...         NaN             NaN   \n",
       "\n",
       "                     labexpid iPSc reprogramming vector library type  \\\n",
       "project   run                                                          \n",
       "SRP060416 SRR2088096      NaN  NaN                  NaN          NaN   \n",
       "          SRR2088128      NaN  NaN                  NaN          NaN   \n",
       "          SRR2088153      NaN  NaN                  NaN          NaN   \n",
       "          SRR2088179      NaN  NaN                  NaN          NaN   \n",
       "          SRR2088205      NaN  NaN                  NaN          NaN   \n",
       "\n",
       "                     read length lineage embryo number     LV803  \n",
       "project   run                                                     \n",
       "SRP060416 SRR2088096         NaN     NaN           NaN -0.045513  \n",
       "          SRR2088128         NaN     NaN           NaN  0.032254  \n",
       "          SRR2088153         NaN     NaN           NaN  0.456020  \n",
       "          SRR2088179         NaN     NaN           NaN -0.008664  \n",
       "          SRR2088205         NaN     NaN           NaN  8.080674  \n",
       "\n",
       "[5 rows x 43 columns]"
      ]
     },
     "execution_count": 19,
     "metadata": {},
     "output_type": "execute_result"
    }
   ],
   "source": [
    "lv_data.head()"
   ]
  },
  {
   "cell_type": "markdown",
   "id": "civil-yugoslavia",
   "metadata": {},
   "source": [
    "# LV cell types analysis"
   ]
  },
  {
   "cell_type": "markdown",
   "id": "roman-hotel",
   "metadata": {},
   "source": [
    "## Get top attributes"
   ]
  },
  {
   "cell_type": "code",
   "execution_count": 20,
   "id": "pressed-oxide",
   "metadata": {},
   "outputs": [
    {
     "data": {
      "text/plain": [
       "tonsil donor                      0.119175\n",
       "facs gating                       0.119175\n",
       "time in culture                   0.030479\n",
       "cell sorted                       0.030479\n",
       "cell type                         0.027629\n",
       "shRNA treatment                   0.017946\n",
       "infection                         0.017946\n",
       "disease status                    0.014275\n",
       "time                              0.005588\n",
       "experiment_sample_name            0.004961\n",
       "age                               0.004961\n",
       "c1 chip id                        0.004961\n",
       "reprogramming time point (day)    0.004863\n",
       "well number                       0.004863\n",
       "tissue                            0.004591\n",
       "gender                            0.004044\n",
       "Stage                             0.003727\n",
       "reprogramming vector              0.003464\n",
       "iPSc                              0.003464\n",
       "developmental stage               0.003393\n",
       "dtype: float64"
      ]
     },
     "metadata": {},
     "output_type": "display_data"
    }
   ],
   "source": [
    "lv_attrs = lv_obj.get_attributes_variation_score()\n",
    "display(lv_attrs.head(20))"
   ]
  },
  {
   "cell_type": "code",
   "execution_count": 21,
   "id": "creative-privacy",
   "metadata": {},
   "outputs": [
    {
     "data": {
      "text/plain": [
       "cell type         0.027629\n",
       "tissue            0.004591\n",
       "cell phenotype    0.001474\n",
       "dtype: float64"
      ]
     },
     "execution_count": 21,
     "metadata": {},
     "output_type": "execute_result"
    }
   ],
   "source": [
    "# show those with cell type or tissue in their name\n",
    "_tmp = pd.Series(lv_attrs.index)\n",
    "lv_attrs[\n",
    "    _tmp.str.match(\n",
    "        \"(?:cell.+type$)|(?:tissue$)|(?:tissue.+type$)\",\n",
    "        case=False,\n",
    "        flags=re.IGNORECASE,\n",
    "    ).values\n",
    "].sort_values(ascending=False)"
   ]
  },
  {
   "cell_type": "code",
   "execution_count": 22,
   "id": "distinguished-thinking",
   "metadata": {},
   "outputs": [],
   "source": [
    "_tmp = lv_data.loc[\n",
    "    :,\n",
    "    [\n",
    "        \"cell type\",\n",
    "        \"tissue\",\n",
    "        LV_NAME,\n",
    "    ],\n",
    "]"
   ]
  },
  {
   "cell_type": "code",
   "execution_count": 23,
   "id": "civil-cooperation",
   "metadata": {},
   "outputs": [],
   "source": [
    "_tmp_seq = list(chunker(_tmp.sort_values(LV_NAME, ascending=False), 25))"
   ]
  },
  {
   "cell_type": "code",
   "execution_count": 24,
   "id": "dressed-enemy",
   "metadata": {},
   "outputs": [
    {
     "data": {
      "text/html": [
       "<div>\n",
       "<style scoped>\n",
       "    .dataframe tbody tr th:only-of-type {\n",
       "        vertical-align: middle;\n",
       "    }\n",
       "\n",
       "    .dataframe tbody tr th {\n",
       "        vertical-align: top;\n",
       "    }\n",
       "\n",
       "    .dataframe thead th {\n",
       "        text-align: right;\n",
       "    }\n",
       "</style>\n",
       "<table border=\"1\" class=\"dataframe\">\n",
       "  <thead>\n",
       "    <tr style=\"text-align: right;\">\n",
       "      <th></th>\n",
       "      <th></th>\n",
       "      <th>cell type</th>\n",
       "      <th>tissue</th>\n",
       "      <th>LV803</th>\n",
       "    </tr>\n",
       "    <tr>\n",
       "      <th>project</th>\n",
       "      <th>run</th>\n",
       "      <th></th>\n",
       "      <th></th>\n",
       "      <th></th>\n",
       "    </tr>\n",
       "  </thead>\n",
       "  <tbody>\n",
       "    <tr>\n",
       "      <th rowspan=\"5\" valign=\"top\">SRP060416</th>\n",
       "      <th>SRR2088205</th>\n",
       "      <td>tonsil Innate lymphoid cells</td>\n",
       "      <td>NaN</td>\n",
       "      <td>8.080674</td>\n",
       "    </tr>\n",
       "    <tr>\n",
       "      <th>SRR2088168</th>\n",
       "      <td>tonsil Innate lymphoid cells</td>\n",
       "      <td>NaN</td>\n",
       "      <td>1.315566</td>\n",
       "    </tr>\n",
       "    <tr>\n",
       "      <th>SRR2088226</th>\n",
       "      <td>tonsil Innate lymphoid cells</td>\n",
       "      <td>NaN</td>\n",
       "      <td>1.047760</td>\n",
       "    </tr>\n",
       "    <tr>\n",
       "      <th>SRR2088150</th>\n",
       "      <td>tonsil Innate lymphoid cells</td>\n",
       "      <td>NaN</td>\n",
       "      <td>0.848222</td>\n",
       "    </tr>\n",
       "    <tr>\n",
       "      <th>SRR2088680</th>\n",
       "      <td>tonsil Innate lymphoid cells</td>\n",
       "      <td>NaN</td>\n",
       "      <td>0.781935</td>\n",
       "    </tr>\n",
       "    <tr>\n",
       "      <th>SRP066834</th>\n",
       "      <th>SRR2967320</th>\n",
       "      <td>NaN</td>\n",
       "      <td>Dissociated whole cerebral organoid</td>\n",
       "      <td>0.769042</td>\n",
       "    </tr>\n",
       "    <tr>\n",
       "      <th>SRP057196</th>\n",
       "      <th>SRR1974744</th>\n",
       "      <td>astrocytes</td>\n",
       "      <td>cortex</td>\n",
       "      <td>0.708366</td>\n",
       "    </tr>\n",
       "    <tr>\n",
       "      <th rowspan=\"4\" valign=\"top\">SRP060416</th>\n",
       "      <th>SRR2088204</th>\n",
       "      <td>tonsil Innate lymphoid cells</td>\n",
       "      <td>NaN</td>\n",
       "      <td>0.636382</td>\n",
       "    </tr>\n",
       "    <tr>\n",
       "      <th>SRR2088717</th>\n",
       "      <td>tonsil Innate lymphoid cells</td>\n",
       "      <td>NaN</td>\n",
       "      <td>0.588181</td>\n",
       "    </tr>\n",
       "    <tr>\n",
       "      <th>SRR2088534</th>\n",
       "      <td>tonsil Innate lymphoid cells</td>\n",
       "      <td>NaN</td>\n",
       "      <td>0.568781</td>\n",
       "    </tr>\n",
       "    <tr>\n",
       "      <th>SRR2088311</th>\n",
       "      <td>tonsil Innate lymphoid cells</td>\n",
       "      <td>NaN</td>\n",
       "      <td>0.536138</td>\n",
       "    </tr>\n",
       "    <tr>\n",
       "      <th>SRP055569</th>\n",
       "      <th>SRR1821688</th>\n",
       "      <td>MCF10a human breast cancer cells</td>\n",
       "      <td>NaN</td>\n",
       "      <td>0.507294</td>\n",
       "    </tr>\n",
       "    <tr>\n",
       "      <th rowspan=\"8\" valign=\"top\">SRP060416</th>\n",
       "      <th>SRR2088162</th>\n",
       "      <td>tonsil Innate lymphoid cells</td>\n",
       "      <td>NaN</td>\n",
       "      <td>0.497764</td>\n",
       "    </tr>\n",
       "    <tr>\n",
       "      <th>SRR2088353</th>\n",
       "      <td>tonsil Innate lymphoid cells</td>\n",
       "      <td>NaN</td>\n",
       "      <td>0.494099</td>\n",
       "    </tr>\n",
       "    <tr>\n",
       "      <th>SRR2088358</th>\n",
       "      <td>tonsil Innate lymphoid cells</td>\n",
       "      <td>NaN</td>\n",
       "      <td>0.488169</td>\n",
       "    </tr>\n",
       "    <tr>\n",
       "      <th>SRR2088215</th>\n",
       "      <td>tonsil Innate lymphoid cells</td>\n",
       "      <td>NaN</td>\n",
       "      <td>0.486957</td>\n",
       "    </tr>\n",
       "    <tr>\n",
       "      <th>SRR2088154</th>\n",
       "      <td>tonsil Innate lymphoid cells</td>\n",
       "      <td>NaN</td>\n",
       "      <td>0.481065</td>\n",
       "    </tr>\n",
       "    <tr>\n",
       "      <th>SRR2088194</th>\n",
       "      <td>tonsil Innate lymphoid cells</td>\n",
       "      <td>NaN</td>\n",
       "      <td>0.468001</td>\n",
       "    </tr>\n",
       "    <tr>\n",
       "      <th>SRR2088259</th>\n",
       "      <td>tonsil Innate lymphoid cells</td>\n",
       "      <td>NaN</td>\n",
       "      <td>0.461584</td>\n",
       "    </tr>\n",
       "    <tr>\n",
       "      <th>SRR2088153</th>\n",
       "      <td>tonsil Innate lymphoid cells</td>\n",
       "      <td>NaN</td>\n",
       "      <td>0.456020</td>\n",
       "    </tr>\n",
       "    <tr>\n",
       "      <th>SRP066834</th>\n",
       "      <th>SRR2967800</th>\n",
       "      <td>NaN</td>\n",
       "      <td>Fetal neocortex</td>\n",
       "      <td>0.454208</td>\n",
       "    </tr>\n",
       "    <tr>\n",
       "      <th>SRP057196</th>\n",
       "      <th>SRR1974762</th>\n",
       "      <td>neurons</td>\n",
       "      <td>cortex</td>\n",
       "      <td>0.433073</td>\n",
       "    </tr>\n",
       "    <tr>\n",
       "      <th>SRP060416</th>\n",
       "      <th>SRR2088647</th>\n",
       "      <td>tonsil Innate lymphoid cells</td>\n",
       "      <td>NaN</td>\n",
       "      <td>0.402374</td>\n",
       "    </tr>\n",
       "    <tr>\n",
       "      <th>SRP055569</th>\n",
       "      <th>SRR1821481</th>\n",
       "      <td>mixture of U87 human glioma cells and MCF10a h...</td>\n",
       "      <td>NaN</td>\n",
       "      <td>0.395332</td>\n",
       "    </tr>\n",
       "    <tr>\n",
       "      <th>SRP060416</th>\n",
       "      <th>SRR2088158</th>\n",
       "      <td>tonsil Innate lymphoid cells</td>\n",
       "      <td>NaN</td>\n",
       "      <td>0.392660</td>\n",
       "    </tr>\n",
       "  </tbody>\n",
       "</table>\n",
       "</div>"
      ],
      "text/plain": [
       "                                                              cell type  \\\n",
       "project   run                                                             \n",
       "SRP060416 SRR2088205                       tonsil Innate lymphoid cells   \n",
       "          SRR2088168                       tonsil Innate lymphoid cells   \n",
       "          SRR2088226                       tonsil Innate lymphoid cells   \n",
       "          SRR2088150                       tonsil Innate lymphoid cells   \n",
       "          SRR2088680                       tonsil Innate lymphoid cells   \n",
       "SRP066834 SRR2967320                                                NaN   \n",
       "SRP057196 SRR1974744                                         astrocytes   \n",
       "SRP060416 SRR2088204                       tonsil Innate lymphoid cells   \n",
       "          SRR2088717                       tonsil Innate lymphoid cells   \n",
       "          SRR2088534                       tonsil Innate lymphoid cells   \n",
       "          SRR2088311                       tonsil Innate lymphoid cells   \n",
       "SRP055569 SRR1821688                   MCF10a human breast cancer cells   \n",
       "SRP060416 SRR2088162                       tonsil Innate lymphoid cells   \n",
       "          SRR2088353                       tonsil Innate lymphoid cells   \n",
       "          SRR2088358                       tonsil Innate lymphoid cells   \n",
       "          SRR2088215                       tonsil Innate lymphoid cells   \n",
       "          SRR2088154                       tonsil Innate lymphoid cells   \n",
       "          SRR2088194                       tonsil Innate lymphoid cells   \n",
       "          SRR2088259                       tonsil Innate lymphoid cells   \n",
       "          SRR2088153                       tonsil Innate lymphoid cells   \n",
       "SRP066834 SRR2967800                                                NaN   \n",
       "SRP057196 SRR1974762                                            neurons   \n",
       "SRP060416 SRR2088647                       tonsil Innate lymphoid cells   \n",
       "SRP055569 SRR1821481  mixture of U87 human glioma cells and MCF10a h...   \n",
       "SRP060416 SRR2088158                       tonsil Innate lymphoid cells   \n",
       "\n",
       "                                                   tissue     LV803  \n",
       "project   run                                                        \n",
       "SRP060416 SRR2088205                                  NaN  8.080674  \n",
       "          SRR2088168                                  NaN  1.315566  \n",
       "          SRR2088226                                  NaN  1.047760  \n",
       "          SRR2088150                                  NaN  0.848222  \n",
       "          SRR2088680                                  NaN  0.781935  \n",
       "SRP066834 SRR2967320  Dissociated whole cerebral organoid  0.769042  \n",
       "SRP057196 SRR1974744                               cortex  0.708366  \n",
       "SRP060416 SRR2088204                                  NaN  0.636382  \n",
       "          SRR2088717                                  NaN  0.588181  \n",
       "          SRR2088534                                  NaN  0.568781  \n",
       "          SRR2088311                                  NaN  0.536138  \n",
       "SRP055569 SRR1821688                                  NaN  0.507294  \n",
       "SRP060416 SRR2088162                                  NaN  0.497764  \n",
       "          SRR2088353                                  NaN  0.494099  \n",
       "          SRR2088358                                  NaN  0.488169  \n",
       "          SRR2088215                                  NaN  0.486957  \n",
       "          SRR2088154                                  NaN  0.481065  \n",
       "          SRR2088194                                  NaN  0.468001  \n",
       "          SRR2088259                                  NaN  0.461584  \n",
       "          SRR2088153                                  NaN  0.456020  \n",
       "SRP066834 SRR2967800                      Fetal neocortex  0.454208  \n",
       "SRP057196 SRR1974762                               cortex  0.433073  \n",
       "SRP060416 SRR2088647                                  NaN  0.402374  \n",
       "SRP055569 SRR1821481                                  NaN  0.395332  \n",
       "SRP060416 SRR2088158                                  NaN  0.392660  "
      ]
     },
     "execution_count": 24,
     "metadata": {},
     "output_type": "execute_result"
    }
   ],
   "source": [
    "_tmp_seq[0]"
   ]
  },
  {
   "cell_type": "code",
   "execution_count": 25,
   "id": "grateful-cuisine",
   "metadata": {},
   "outputs": [
    {
     "data": {
      "text/html": [
       "<div>\n",
       "<style scoped>\n",
       "    .dataframe tbody tr th:only-of-type {\n",
       "        vertical-align: middle;\n",
       "    }\n",
       "\n",
       "    .dataframe tbody tr th {\n",
       "        vertical-align: top;\n",
       "    }\n",
       "\n",
       "    .dataframe thead th {\n",
       "        text-align: right;\n",
       "    }\n",
       "</style>\n",
       "<table border=\"1\" class=\"dataframe\">\n",
       "  <thead>\n",
       "    <tr style=\"text-align: right;\">\n",
       "      <th></th>\n",
       "      <th></th>\n",
       "      <th>tonsil donor</th>\n",
       "      <th>facs gating</th>\n",
       "      <th>cell type</th>\n",
       "      <th>LV803</th>\n",
       "    </tr>\n",
       "    <tr>\n",
       "      <th>project</th>\n",
       "      <th>run</th>\n",
       "      <th></th>\n",
       "      <th></th>\n",
       "      <th></th>\n",
       "      <th></th>\n",
       "    </tr>\n",
       "  </thead>\n",
       "  <tbody>\n",
       "    <tr>\n",
       "      <th rowspan=\"10\" valign=\"top\">SRP060416</th>\n",
       "      <th>SRR2088205</th>\n",
       "      <td>Donor T75</td>\n",
       "      <td>ILC3</td>\n",
       "      <td>tonsil Innate lymphoid cells</td>\n",
       "      <td>8.080674</td>\n",
       "    </tr>\n",
       "    <tr>\n",
       "      <th>SRR2088168</th>\n",
       "      <td>Donor T75</td>\n",
       "      <td>ILC3</td>\n",
       "      <td>tonsil Innate lymphoid cells</td>\n",
       "      <td>1.315566</td>\n",
       "    </tr>\n",
       "    <tr>\n",
       "      <th>SRR2088226</th>\n",
       "      <td>Donor T75</td>\n",
       "      <td>ILC3</td>\n",
       "      <td>tonsil Innate lymphoid cells</td>\n",
       "      <td>1.047760</td>\n",
       "    </tr>\n",
       "    <tr>\n",
       "      <th>SRR2088150</th>\n",
       "      <td>Donor T75</td>\n",
       "      <td>ILC3</td>\n",
       "      <td>tonsil Innate lymphoid cells</td>\n",
       "      <td>0.848222</td>\n",
       "    </tr>\n",
       "    <tr>\n",
       "      <th>SRR2088680</th>\n",
       "      <td>Donor T86</td>\n",
       "      <td>ILC3</td>\n",
       "      <td>tonsil Innate lymphoid cells</td>\n",
       "      <td>0.781935</td>\n",
       "    </tr>\n",
       "    <tr>\n",
       "      <th>SRR2088204</th>\n",
       "      <td>Donor T75</td>\n",
       "      <td>ILC3</td>\n",
       "      <td>tonsil Innate lymphoid cells</td>\n",
       "      <td>0.636382</td>\n",
       "    </tr>\n",
       "    <tr>\n",
       "      <th>SRR2088717</th>\n",
       "      <td>Donor T86</td>\n",
       "      <td>ILC3</td>\n",
       "      <td>tonsil Innate lymphoid cells</td>\n",
       "      <td>0.588181</td>\n",
       "    </tr>\n",
       "    <tr>\n",
       "      <th>SRR2088534</th>\n",
       "      <td>Donor T86</td>\n",
       "      <td>ILC2</td>\n",
       "      <td>tonsil Innate lymphoid cells</td>\n",
       "      <td>0.568781</td>\n",
       "    </tr>\n",
       "    <tr>\n",
       "      <th>SRR2088311</th>\n",
       "      <td>Donor T75</td>\n",
       "      <td>ILC2</td>\n",
       "      <td>tonsil Innate lymphoid cells</td>\n",
       "      <td>0.536138</td>\n",
       "    </tr>\n",
       "    <tr>\n",
       "      <th>SRR2088162</th>\n",
       "      <td>Donor T75</td>\n",
       "      <td>ILC3</td>\n",
       "      <td>tonsil Innate lymphoid cells</td>\n",
       "      <td>0.497764</td>\n",
       "    </tr>\n",
       "  </tbody>\n",
       "</table>\n",
       "</div>"
      ],
      "text/plain": [
       "                     tonsil donor facs gating                     cell type  \\\n",
       "project   run                                                                 \n",
       "SRP060416 SRR2088205    Donor T75        ILC3  tonsil Innate lymphoid cells   \n",
       "          SRR2088168    Donor T75        ILC3  tonsil Innate lymphoid cells   \n",
       "          SRR2088226    Donor T75        ILC3  tonsil Innate lymphoid cells   \n",
       "          SRR2088150    Donor T75        ILC3  tonsil Innate lymphoid cells   \n",
       "          SRR2088680    Donor T86        ILC3  tonsil Innate lymphoid cells   \n",
       "          SRR2088204    Donor T75        ILC3  tonsil Innate lymphoid cells   \n",
       "          SRR2088717    Donor T86        ILC3  tonsil Innate lymphoid cells   \n",
       "          SRR2088534    Donor T86        ILC2  tonsil Innate lymphoid cells   \n",
       "          SRR2088311    Donor T75        ILC2  tonsil Innate lymphoid cells   \n",
       "          SRR2088162    Donor T75        ILC3  tonsil Innate lymphoid cells   \n",
       "\n",
       "                         LV803  \n",
       "project   run                   \n",
       "SRP060416 SRR2088205  8.080674  \n",
       "          SRR2088168  1.315566  \n",
       "          SRR2088226  1.047760  \n",
       "          SRR2088150  0.848222  \n",
       "          SRR2088680  0.781935  \n",
       "          SRR2088204  0.636382  \n",
       "          SRR2088717  0.588181  \n",
       "          SRR2088534  0.568781  \n",
       "          SRR2088311  0.536138  \n",
       "          SRR2088162  0.497764  "
      ]
     },
     "execution_count": 25,
     "metadata": {},
     "output_type": "execute_result"
    }
   ],
   "source": [
    "# what is there in these projects?\n",
    "lv_data.loc[[\"SRP060416\"]].dropna(how=\"all\", axis=1).sort_values(\n",
    "    LV_NAME, ascending=False\n",
    ").sort_values(LV_NAME, ascending=False).head(10)"
   ]
  },
  {
   "cell_type": "code",
   "execution_count": 26,
   "id": "stylish-network",
   "metadata": {},
   "outputs": [],
   "source": [
    "SELECTED_ATTRIBUTE = \"cell type\""
   ]
  },
  {
   "cell_type": "code",
   "execution_count": 27,
   "id": "turkish-valley",
   "metadata": {},
   "outputs": [],
   "source": [
    "# it has to be in the order desired for filling nans in the SELECTED_ATTRIBUTE\n",
    "SECOND_ATTRIBUTES = [\"tissue\"]"
   ]
  },
  {
   "cell_type": "markdown",
   "id": "victorian-bidding",
   "metadata": {},
   "source": [
    "## Get plot data"
   ]
  },
  {
   "cell_type": "code",
   "execution_count": 28,
   "id": "jewish-weekend",
   "metadata": {},
   "outputs": [],
   "source": [
    "plot_data = lv_data.loc[:, [SELECTED_ATTRIBUTE] + SECOND_ATTRIBUTES + [LV_NAME]]"
   ]
  },
  {
   "cell_type": "code",
   "execution_count": 29,
   "id": "genuine-hierarchy",
   "metadata": {},
   "outputs": [],
   "source": [
    "# if blank/nan, fill cell type column with tissue content\n",
    "_new_column = plot_data[[SELECTED_ATTRIBUTE] + SECOND_ATTRIBUTES].fillna(\n",
    "    method=\"backfill\", axis=1\n",
    ")[SELECTED_ATTRIBUTE]\n",
    "plot_data[SELECTED_ATTRIBUTE] = _new_column\n",
    "plot_data = plot_data.drop(columns=SECOND_ATTRIBUTES)\n",
    "plot_data = plot_data.fillna({SELECTED_ATTRIBUTE: \"NOT CATEGORIZED\"})\n",
    "# plot_data = plot_data.dropna(subset=[SELECTED_ATTRIBUTE])"
   ]
  },
  {
   "cell_type": "code",
   "execution_count": 30,
   "id": "light-smart",
   "metadata": {},
   "outputs": [],
   "source": [
    "plot_data = plot_data.sort_values(LV_NAME, ascending=False)"
   ]
  },
  {
   "cell_type": "code",
   "execution_count": 31,
   "id": "fitted-button",
   "metadata": {},
   "outputs": [
    {
     "data": {
      "text/html": [
       "<div>\n",
       "<style scoped>\n",
       "    .dataframe tbody tr th:only-of-type {\n",
       "        vertical-align: middle;\n",
       "    }\n",
       "\n",
       "    .dataframe tbody tr th {\n",
       "        vertical-align: top;\n",
       "    }\n",
       "\n",
       "    .dataframe thead th {\n",
       "        text-align: right;\n",
       "    }\n",
       "</style>\n",
       "<table border=\"1\" class=\"dataframe\">\n",
       "  <thead>\n",
       "    <tr style=\"text-align: right;\">\n",
       "      <th></th>\n",
       "      <th></th>\n",
       "      <th>cell type</th>\n",
       "      <th>LV803</th>\n",
       "    </tr>\n",
       "    <tr>\n",
       "      <th>project</th>\n",
       "      <th>run</th>\n",
       "      <th></th>\n",
       "      <th></th>\n",
       "    </tr>\n",
       "  </thead>\n",
       "  <tbody>\n",
       "    <tr>\n",
       "      <th rowspan=\"5\" valign=\"top\">SRP060416</th>\n",
       "      <th>SRR2088205</th>\n",
       "      <td>tonsil Innate lymphoid cells</td>\n",
       "      <td>8.080674</td>\n",
       "    </tr>\n",
       "    <tr>\n",
       "      <th>SRR2088168</th>\n",
       "      <td>tonsil Innate lymphoid cells</td>\n",
       "      <td>1.315566</td>\n",
       "    </tr>\n",
       "    <tr>\n",
       "      <th>SRR2088226</th>\n",
       "      <td>tonsil Innate lymphoid cells</td>\n",
       "      <td>1.047760</td>\n",
       "    </tr>\n",
       "    <tr>\n",
       "      <th>SRR2088150</th>\n",
       "      <td>tonsil Innate lymphoid cells</td>\n",
       "      <td>0.848222</td>\n",
       "    </tr>\n",
       "    <tr>\n",
       "      <th>SRR2088680</th>\n",
       "      <td>tonsil Innate lymphoid cells</td>\n",
       "      <td>0.781935</td>\n",
       "    </tr>\n",
       "    <tr>\n",
       "      <th>SRP066834</th>\n",
       "      <th>SRR2967320</th>\n",
       "      <td>Dissociated whole cerebral organoid</td>\n",
       "      <td>0.769042</td>\n",
       "    </tr>\n",
       "    <tr>\n",
       "      <th>SRP057196</th>\n",
       "      <th>SRR1974744</th>\n",
       "      <td>astrocytes</td>\n",
       "      <td>0.708366</td>\n",
       "    </tr>\n",
       "    <tr>\n",
       "      <th rowspan=\"4\" valign=\"top\">SRP060416</th>\n",
       "      <th>SRR2088204</th>\n",
       "      <td>tonsil Innate lymphoid cells</td>\n",
       "      <td>0.636382</td>\n",
       "    </tr>\n",
       "    <tr>\n",
       "      <th>SRR2088717</th>\n",
       "      <td>tonsil Innate lymphoid cells</td>\n",
       "      <td>0.588181</td>\n",
       "    </tr>\n",
       "    <tr>\n",
       "      <th>SRR2088534</th>\n",
       "      <td>tonsil Innate lymphoid cells</td>\n",
       "      <td>0.568781</td>\n",
       "    </tr>\n",
       "    <tr>\n",
       "      <th>SRR2088311</th>\n",
       "      <td>tonsil Innate lymphoid cells</td>\n",
       "      <td>0.536138</td>\n",
       "    </tr>\n",
       "    <tr>\n",
       "      <th>SRP055569</th>\n",
       "      <th>SRR1821688</th>\n",
       "      <td>MCF10a human breast cancer cells</td>\n",
       "      <td>0.507294</td>\n",
       "    </tr>\n",
       "    <tr>\n",
       "      <th rowspan=\"8\" valign=\"top\">SRP060416</th>\n",
       "      <th>SRR2088162</th>\n",
       "      <td>tonsil Innate lymphoid cells</td>\n",
       "      <td>0.497764</td>\n",
       "    </tr>\n",
       "    <tr>\n",
       "      <th>SRR2088353</th>\n",
       "      <td>tonsil Innate lymphoid cells</td>\n",
       "      <td>0.494099</td>\n",
       "    </tr>\n",
       "    <tr>\n",
       "      <th>SRR2088358</th>\n",
       "      <td>tonsil Innate lymphoid cells</td>\n",
       "      <td>0.488169</td>\n",
       "    </tr>\n",
       "    <tr>\n",
       "      <th>SRR2088215</th>\n",
       "      <td>tonsil Innate lymphoid cells</td>\n",
       "      <td>0.486957</td>\n",
       "    </tr>\n",
       "    <tr>\n",
       "      <th>SRR2088154</th>\n",
       "      <td>tonsil Innate lymphoid cells</td>\n",
       "      <td>0.481065</td>\n",
       "    </tr>\n",
       "    <tr>\n",
       "      <th>SRR2088194</th>\n",
       "      <td>tonsil Innate lymphoid cells</td>\n",
       "      <td>0.468001</td>\n",
       "    </tr>\n",
       "    <tr>\n",
       "      <th>SRR2088259</th>\n",
       "      <td>tonsil Innate lymphoid cells</td>\n",
       "      <td>0.461584</td>\n",
       "    </tr>\n",
       "    <tr>\n",
       "      <th>SRR2088153</th>\n",
       "      <td>tonsil Innate lymphoid cells</td>\n",
       "      <td>0.456020</td>\n",
       "    </tr>\n",
       "  </tbody>\n",
       "</table>\n",
       "</div>"
      ],
      "text/plain": [
       "                                                cell type     LV803\n",
       "project   run                                                      \n",
       "SRP060416 SRR2088205         tonsil Innate lymphoid cells  8.080674\n",
       "          SRR2088168         tonsil Innate lymphoid cells  1.315566\n",
       "          SRR2088226         tonsil Innate lymphoid cells  1.047760\n",
       "          SRR2088150         tonsil Innate lymphoid cells  0.848222\n",
       "          SRR2088680         tonsil Innate lymphoid cells  0.781935\n",
       "SRP066834 SRR2967320  Dissociated whole cerebral organoid  0.769042\n",
       "SRP057196 SRR1974744                           astrocytes  0.708366\n",
       "SRP060416 SRR2088204         tonsil Innate lymphoid cells  0.636382\n",
       "          SRR2088717         tonsil Innate lymphoid cells  0.588181\n",
       "          SRR2088534         tonsil Innate lymphoid cells  0.568781\n",
       "          SRR2088311         tonsil Innate lymphoid cells  0.536138\n",
       "SRP055569 SRR1821688     MCF10a human breast cancer cells  0.507294\n",
       "SRP060416 SRR2088162         tonsil Innate lymphoid cells  0.497764\n",
       "          SRR2088353         tonsil Innate lymphoid cells  0.494099\n",
       "          SRR2088358         tonsil Innate lymphoid cells  0.488169\n",
       "          SRR2088215         tonsil Innate lymphoid cells  0.486957\n",
       "          SRR2088154         tonsil Innate lymphoid cells  0.481065\n",
       "          SRR2088194         tonsil Innate lymphoid cells  0.468001\n",
       "          SRR2088259         tonsil Innate lymphoid cells  0.461584\n",
       "          SRR2088153         tonsil Innate lymphoid cells  0.456020"
      ]
     },
     "execution_count": 31,
     "metadata": {},
     "output_type": "execute_result"
    }
   ],
   "source": [
    "plot_data.head(20)"
   ]
  },
  {
   "cell_type": "markdown",
   "id": "casual-prerequisite",
   "metadata": {},
   "source": [
    "## Customize x-axis values"
   ]
  },
  {
   "cell_type": "markdown",
   "id": "traditional-psychology",
   "metadata": {},
   "source": [
    "When cell type values are not very clear, customize their names by looking at their specific studies to know exactly what the authors meant."
   ]
  },
  {
   "cell_type": "code",
   "execution_count": 32,
   "id": "official-capacity",
   "metadata": {},
   "outputs": [],
   "source": [
    "final_plot_data = plot_data.replace(\n",
    "    {\n",
    "        SELECTED_ATTRIBUTE: {\n",
    "            \"mixture of U87 human glioma cells and WI-38 human lung fibroblast cells\": \"Glioma cells + lung fibroblast cells\",\n",
    "            \"mixture of U87 human glioma cells and MCF10a human breast cancer cells\": \"Glioma cells + breast cancer cells\",\n",
    "            # \"human bone marrow sample\": \"bone marrow\",\n",
    "            # \"whole blood\": \"Whole blood\",\n",
    "            # \"peripheral blood\": \"Peripheral blood\",\n",
    "            # \"peripheral whole blood\": \"Peripheral blood\",\n",
    "            # \"breast cancer\": \"Breast cancer\",\n",
    "            # \"breast cancer cell line\": \"Breast cancer\",\n",
    "            # SRP057196\n",
    "            # \"fetal_replicating\": \"Fetal neurons (replicating)\",\n",
    "            # \"fetal_quiescent\": \"Fetal neurons (quiescent)\",\n",
    "            # \"normal skin\": \"Skin\",\n",
    "            # \"liver\": \"Liver\",\n",
    "            # \"Human Skeletal Muscle Myoblasts (HSMM)\": \"Skeletal muscle myoblasts\",\n",
    "            # \"astrocytes\": \"Astrocytes\",\n",
    "            # \"mixture of U87 human glioma cells and MCF10a human breast cancer cells\": \"Glioma + MCF10 breast cancer cells\",\n",
    "            # \"mixture of U87 human glioma cells and WI-38 human lung fibroblast cells\": \"Glioma + WI-38 lung fibroblast cells\",\n",
    "            # \"functional hepatocytes generated by lineage reprogramming\": \"Hepatocytes\",\n",
    "            # \"human adipose-derived stem cells\": \"Adipose-derived stem cells\",\n",
    "            # \"adipose\": \"Adipose\",\n",
    "            # \"embryonic stem cells\": \"Embryonic stem cells\",\n",
    "            # \"primary keratinocytes\": \"Primary keratinocytes\",\n",
    "            # \"fetal liver\": \"Fetal liver\",\n",
    "            # \"in vitro differentiated erythroid cells\": \"Erythroid cells\",\n",
    "            # \"WAT\": \"White adipose tissue\",\n",
    "            # \"BAT\": \"Brown adipose tissue\",\n",
    "            # \"Uninvolved Breast Tissue Adjacent to ER+ Primary Tumor\": \"Breast tissue adjacent to ER+ tumor\",\n",
    "            # \"ovarian granulosa cells\": \"Ovarian granulosa cells\",\n",
    "        }\n",
    "    }\n",
    ")"
   ]
  },
  {
   "cell_type": "code",
   "execution_count": 33,
   "id": "05b40336-2b83-4724-8c35-28444ef100fe",
   "metadata": {},
   "outputs": [],
   "source": [
    "# sorte index to avoid PerformanceWarning from pandas\n",
    "final_plot_data = final_plot_data.sort_index()"
   ]
  },
  {
   "cell_type": "code",
   "execution_count": 34,
   "id": "9a85cdb9-85d6-414b-aecf-56804f529bd3",
   "metadata": {},
   "outputs": [],
   "source": [
    "_srp_code = \"SRP060416\"\n",
    "_tmp = final_plot_data.loc[(_srp_code,)].apply(\n",
    "    lambda x: x[SELECTED_ATTRIBUTE]\n",
    "    + f\" ({lv_data.loc[(_srp_code, x.name), 'facs gating']})\",\n",
    "    axis=1,\n",
    ")\n",
    "final_plot_data.loc[(_srp_code, _tmp.index), SELECTED_ATTRIBUTE] = _tmp.values"
   ]
  },
  {
   "cell_type": "code",
   "execution_count": 35,
   "id": "30b48d50-8c30-4c42-ace6-f83d88807304",
   "metadata": {},
   "outputs": [],
   "source": [
    "final_plot_data[SELECTED_ATTRIBUTE] = final_plot_data.apply(\n",
    "    lambda x: \"Myeloma cells\" if x.name[0] in (\"SRP027015\",) else x[\"cell type\"],\n",
    "    axis=1,\n",
    ")"
   ]
  },
  {
   "cell_type": "code",
   "execution_count": 36,
   "id": "entire-cradle",
   "metadata": {},
   "outputs": [],
   "source": [
    "# # take the top samples only\n",
    "# final_plot_data = final_plot_data.sort_values(LV_NAME, ascending=False)[:N_TOP_SAMPLES]"
   ]
  },
  {
   "cell_type": "markdown",
   "id": "italic-steel",
   "metadata": {},
   "source": [
    "## Threshold LV values"
   ]
  },
  {
   "cell_type": "code",
   "execution_count": 37,
   "id": "southern-offense",
   "metadata": {},
   "outputs": [],
   "source": [
    "if LV_AXIS_THRESHOLD is not None:\n",
    "    final_plot_data.loc[\n",
    "        final_plot_data[LV_NAME] > LV_AXIS_THRESHOLD, LV_NAME\n",
    "    ] = LV_AXIS_THRESHOLD"
   ]
  },
  {
   "cell_type": "markdown",
   "id": "still-pitch",
   "metadata": {},
   "source": [
    "## Delete samples with no tissue/cell type information"
   ]
  },
  {
   "cell_type": "code",
   "execution_count": 38,
   "id": "varying-pioneer",
   "metadata": {},
   "outputs": [],
   "source": [
    "# final_plot_data = final_plot_data[\n",
    "#     final_plot_data[SELECTED_ATTRIBUTE] != \"NOT CATEGORIZED\"\n",
    "# ]"
   ]
  },
  {
   "cell_type": "markdown",
   "id": "comparable-modem",
   "metadata": {},
   "source": [
    "## Set x-axis order"
   ]
  },
  {
   "cell_type": "code",
   "execution_count": 39,
   "id": "golden-bridge",
   "metadata": {},
   "outputs": [],
   "source": [
    "attr_order = (\n",
    "    final_plot_data.groupby(SELECTED_ATTRIBUTE)\n",
    "    .max()\n",
    "    .sort_values(LV_NAME, ascending=False)\n",
    "    .index[:N_TOP_ATTRS]\n",
    "    .tolist()\n",
    ")"
   ]
  },
  {
   "cell_type": "code",
   "execution_count": 40,
   "id": "expanded-enlargement",
   "metadata": {},
   "outputs": [
    {
     "data": {
      "text/plain": [
       "15"
      ]
     },
     "execution_count": 40,
     "metadata": {},
     "output_type": "execute_result"
    }
   ],
   "source": [
    "len(attr_order)"
   ]
  },
  {
   "cell_type": "code",
   "execution_count": 41,
   "id": "collectible-setup",
   "metadata": {},
   "outputs": [
    {
     "data": {
      "text/plain": [
       "['tonsil Innate lymphoid cells (ILC3)',\n",
       " 'Dissociated whole cerebral organoid',\n",
       " 'astrocytes',\n",
       " 'tonsil Innate lymphoid cells (ILC2)',\n",
       " 'MCF10a human breast cancer cells']"
      ]
     },
     "execution_count": 41,
     "metadata": {},
     "output_type": "execute_result"
    }
   ],
   "source": [
    "attr_order[:5]"
   ]
  },
  {
   "cell_type": "markdown",
   "id": "patent-colors",
   "metadata": {},
   "source": [
    "## Plot"
   ]
  },
  {
   "cell_type": "code",
   "execution_count": 42,
   "id": "educated-arthritis",
   "metadata": {},
   "outputs": [
    {
     "data": {
      "image/png": "[encoded data removed]",
      "text/plain": [
       "<Figure size 1250x500 with 1 Axes>"
      ]
     },
     "metadata": {},
     "output_type": "display_data"
    }
   ],
   "source": [
    "with sns.plotting_context(\"paper\", font_scale=2.5), sns.axes_style(\"whitegrid\"):\n",
    "    g = sns.catplot(\n",
    "        data=final_plot_data,\n",
    "        y=LV_NAME,\n",
    "        x=SELECTED_ATTRIBUTE,\n",
    "        order=attr_order,\n",
    "        kind=\"strip\",\n",
    "        height=5,\n",
    "        aspect=2.5,\n",
    "    )\n",
    "    plt.xticks(rotation=45, horizontalalignment=\"right\")\n",
    "    plt.xlabel(\"\")\n",
    "\n",
    "    # plt.savefig(\n",
    "    #     OUTPUT_CELL_TYPE_FILEPATH,\n",
    "    #     bbox_inches=\"tight\",\n",
    "    #     facecolor=\"white\",\n",
    "    # )"
   ]
  },
  {
   "cell_type": "code",
   "execution_count": 43,
   "id": "634becb0-6ff3-44ae-8804-434bf55b5b1f",
   "metadata": {},
   "outputs": [],
   "source": [
    "# with sns.plotting_context(\"paper\", font_scale=2.5), sns.axes_style(\"whitegrid\"):\n",
    "#     g = sns.catplot(\n",
    "#         data=final_plot_data,\n",
    "#         y=LV_NAME,\n",
    "#         x=SELECTED_ATTRIBUTE,\n",
    "#         order=attr_order,\n",
    "#         kind=\"box\",\n",
    "#         height=5,\n",
    "#         aspect=2.5,\n",
    "#     )\n",
    "#     plt.xticks(rotation=45, horizontalalignment=\"right\")\n",
    "#     plt.xlabel(\"\")\n",
    "\n",
    "#     # plt.savefig(\n",
    "#     #     OUTPUT_CELL_TYPE_FILEPATH,\n",
    "#     #     bbox_inches=\"tight\",\n",
    "#     #     facecolor=\"white\",\n",
    "#     # )"
   ]
  },
  {
   "cell_type": "markdown",
   "id": "theoretical-raleigh",
   "metadata": {},
   "source": [
    "# Debug"
   ]
  },
  {
   "cell_type": "code",
   "execution_count": 44,
   "id": "suspended-tiffany",
   "metadata": {},
   "outputs": [
    {
     "data": {
      "text/html": [
       "<div>\n",
       "<style scoped>\n",
       "    .dataframe tbody tr th:only-of-type {\n",
       "        vertical-align: middle;\n",
       "    }\n",
       "\n",
       "    .dataframe tbody tr th {\n",
       "        vertical-align: top;\n",
       "    }\n",
       "\n",
       "    .dataframe thead th {\n",
       "        text-align: right;\n",
       "    }\n",
       "</style>\n",
       "<table border=\"1\" class=\"dataframe\">\n",
       "  <thead>\n",
       "    <tr style=\"text-align: right;\">\n",
       "      <th></th>\n",
       "      <th></th>\n",
       "      <th>cell type</th>\n",
       "      <th>LV803</th>\n",
       "    </tr>\n",
       "    <tr>\n",
       "      <th>project</th>\n",
       "      <th>run</th>\n",
       "      <th></th>\n",
       "      <th></th>\n",
       "    </tr>\n",
       "  </thead>\n",
       "  <tbody>\n",
       "    <tr>\n",
       "      <th rowspan=\"2\" valign=\"top\">SRP050499</th>\n",
       "      <th>SRR2013502</th>\n",
       "      <td>NOT CATEGORIZED</td>\n",
       "      <td>0.357644</td>\n",
       "    </tr>\n",
       "    <tr>\n",
       "      <th>SRR2013492</th>\n",
       "      <td>NOT CATEGORIZED</td>\n",
       "      <td>0.318265</td>\n",
       "    </tr>\n",
       "    <tr>\n",
       "      <th>SRP058773</th>\n",
       "      <th>SRR2042643</th>\n",
       "      <td>NOT CATEGORIZED</td>\n",
       "      <td>0.238356</td>\n",
       "    </tr>\n",
       "    <tr>\n",
       "      <th rowspan=\"2\" valign=\"top\">SRP050499</th>\n",
       "      <th>SRR2013470</th>\n",
       "      <td>NOT CATEGORIZED</td>\n",
       "      <td>0.233130</td>\n",
       "    </tr>\n",
       "    <tr>\n",
       "      <th>SRR2013650</th>\n",
       "      <td>NOT CATEGORIZED</td>\n",
       "      <td>0.227451</td>\n",
       "    </tr>\n",
       "    <tr>\n",
       "      <th>SRP045659</th>\n",
       "      <th>SRR1555121</th>\n",
       "      <td>NOT CATEGORIZED</td>\n",
       "      <td>0.225793</td>\n",
       "    </tr>\n",
       "    <tr>\n",
       "      <th rowspan=\"2\" valign=\"top\">SRP064464</th>\n",
       "      <th>SRR2558162</th>\n",
       "      <td>NOT CATEGORIZED</td>\n",
       "      <td>0.220807</td>\n",
       "    </tr>\n",
       "    <tr>\n",
       "      <th>SRR2558161</th>\n",
       "      <td>NOT CATEGORIZED</td>\n",
       "      <td>0.214290</td>\n",
       "    </tr>\n",
       "    <tr>\n",
       "      <th>SRP050499</th>\n",
       "      <th>SRR2013552</th>\n",
       "      <td>NOT CATEGORIZED</td>\n",
       "      <td>0.206821</td>\n",
       "    </tr>\n",
       "    <tr>\n",
       "      <th>SRP058773</th>\n",
       "      <th>SRR2042622</th>\n",
       "      <td>NOT CATEGORIZED</td>\n",
       "      <td>0.206777</td>\n",
       "    </tr>\n",
       "    <tr>\n",
       "      <th>SRP050499</th>\n",
       "      <th>SRR2013452</th>\n",
       "      <td>NOT CATEGORIZED</td>\n",
       "      <td>0.199405</td>\n",
       "    </tr>\n",
       "    <tr>\n",
       "      <th>SRP018838</th>\n",
       "      <th>SRR764808</th>\n",
       "      <td>NOT CATEGORIZED</td>\n",
       "      <td>0.185093</td>\n",
       "    </tr>\n",
       "    <tr>\n",
       "      <th rowspan=\"6\" valign=\"top\">SRP050499</th>\n",
       "      <th>SRR2013721</th>\n",
       "      <td>NOT CATEGORIZED</td>\n",
       "      <td>0.184928</td>\n",
       "    </tr>\n",
       "    <tr>\n",
       "      <th>SRR2013491</th>\n",
       "      <td>NOT CATEGORIZED</td>\n",
       "      <td>0.169648</td>\n",
       "    </tr>\n",
       "    <tr>\n",
       "      <th>SRR2013537</th>\n",
       "      <td>NOT CATEGORIZED</td>\n",
       "      <td>0.168548</td>\n",
       "    </tr>\n",
       "    <tr>\n",
       "      <th>SRR2013556</th>\n",
       "      <td>NOT CATEGORIZED</td>\n",
       "      <td>0.163639</td>\n",
       "    </tr>\n",
       "    <tr>\n",
       "      <th>SRR2013515</th>\n",
       "      <td>NOT CATEGORIZED</td>\n",
       "      <td>0.162339</td>\n",
       "    </tr>\n",
       "    <tr>\n",
       "      <th>SRR2013495</th>\n",
       "      <td>NOT CATEGORIZED</td>\n",
       "      <td>0.158623</td>\n",
       "    </tr>\n",
       "    <tr>\n",
       "      <th>SRP064464</th>\n",
       "      <th>SRR2558165</th>\n",
       "      <td>NOT CATEGORIZED</td>\n",
       "      <td>0.136180</td>\n",
       "    </tr>\n",
       "    <tr>\n",
       "      <th>SRP007338</th>\n",
       "      <th>SRR298707</th>\n",
       "      <td>NOT CATEGORIZED</td>\n",
       "      <td>0.134638</td>\n",
       "    </tr>\n",
       "  </tbody>\n",
       "</table>\n",
       "</div>"
      ],
      "text/plain": [
       "                            cell type     LV803\n",
       "project   run                                  \n",
       "SRP050499 SRR2013502  NOT CATEGORIZED  0.357644\n",
       "          SRR2013492  NOT CATEGORIZED  0.318265\n",
       "SRP058773 SRR2042643  NOT CATEGORIZED  0.238356\n",
       "SRP050499 SRR2013470  NOT CATEGORIZED  0.233130\n",
       "          SRR2013650  NOT CATEGORIZED  0.227451\n",
       "SRP045659 SRR1555121  NOT CATEGORIZED  0.225793\n",
       "SRP064464 SRR2558162  NOT CATEGORIZED  0.220807\n",
       "          SRR2558161  NOT CATEGORIZED  0.214290\n",
       "SRP050499 SRR2013552  NOT CATEGORIZED  0.206821\n",
       "SRP058773 SRR2042622  NOT CATEGORIZED  0.206777\n",
       "SRP050499 SRR2013452  NOT CATEGORIZED  0.199405\n",
       "SRP018838 SRR764808   NOT CATEGORIZED  0.185093\n",
       "SRP050499 SRR2013721  NOT CATEGORIZED  0.184928\n",
       "          SRR2013491  NOT CATEGORIZED  0.169648\n",
       "          SRR2013537  NOT CATEGORIZED  0.168548\n",
       "          SRR2013556  NOT CATEGORIZED  0.163639\n",
       "          SRR2013515  NOT CATEGORIZED  0.162339\n",
       "          SRR2013495  NOT CATEGORIZED  0.158623\n",
       "SRP064464 SRR2558165  NOT CATEGORIZED  0.136180\n",
       "SRP007338 SRR298707   NOT CATEGORIZED  0.134638"
      ]
     },
     "metadata": {},
     "output_type": "display_data"
    }
   ],
   "source": [
    "with pd.option_context(\n",
    "    \"display.max_rows\", None, \"display.max_columns\", None, \"display.max_colwidth\", None\n",
    "):\n",
    "    _tmp = final_plot_data[final_plot_data[SELECTED_ATTRIBUTE].str.contains(\"NOT CAT\")].sort_values(LV_NAME, ascending=False)\n",
    "    display(_tmp.head(20))"
   ]
  },
  {
   "cell_type": "code",
   "execution_count": 46,
   "id": "36a58987-df7e-49d0-ada6-59cbca368a5d",
   "metadata": {},
   "outputs": [],
   "source": [
    "# # what is there in these projects?\n",
    "# _tmp = lv_data.loc[[\"SRP059643\"]].dropna(how=\"all\", axis=1).sort_values(\n",
    "#     LV_NAME, ascending=False\n",
    "# )\n",
    "\n",
    "# display(_tmp.head(60))"
   ]
  },
  {
   "cell_type": "code",
   "execution_count": 48,
   "id": "d1bab62e-6ce7-4c64-b96d-7a48eef1986f",
   "metadata": {},
   "outputs": [],
   "source": [
    "# _tmp.iloc[0][\"sample type\"]"
   ]
  },
  {
   "cell_type": "markdown",
   "id": "6494d385-e079-4cd6-96f5-b4c680fd669b",
   "metadata": {},
   "source": [
    "# Reduced plot"
   ]
  },
  {
   "cell_type": "markdown",
   "id": "aee5c200-6efb-4ab2-a5f8-df60cfda0820",
   "metadata": {},
   "source": [
    "## Data stats"
   ]
  },
  {
   "cell_type": "code",
   "execution_count": 49,
   "id": "c9254e9c-6449-4e89-ad00-44dbcb7517bb",
   "metadata": {},
   "outputs": [
    {
     "data": {
      "text/plain": [
       "count    4810.000000\n",
       "mean        0.012241\n",
       "std         0.082677\n",
       "min        -0.193239\n",
       "25%        -0.027002\n",
       "50%        -0.003050\n",
       "75%         0.032130\n",
       "max         2.000000\n",
       "Name: LV803, dtype: float64"
      ]
     },
     "metadata": {},
     "output_type": "display_data"
    }
   ],
   "source": [
    "plot_data_stats = final_plot_data.describe()[LV_NAME]\n",
    "display(plot_data_stats)"
   ]
  },
  {
   "cell_type": "code",
   "execution_count": 50,
   "id": "28bee5f5-c1db-4d47-807d-ada56bde4c09",
   "metadata": {},
   "outputs": [
    {
     "data": {
      "text/html": [
       "<div>\n",
       "<style scoped>\n",
       "    .dataframe tbody tr th:only-of-type {\n",
       "        vertical-align: middle;\n",
       "    }\n",
       "\n",
       "    .dataframe tbody tr th {\n",
       "        vertical-align: top;\n",
       "    }\n",
       "\n",
       "    .dataframe thead th {\n",
       "        text-align: right;\n",
       "    }\n",
       "</style>\n",
       "<table border=\"1\" class=\"dataframe\">\n",
       "  <thead>\n",
       "    <tr style=\"text-align: right;\">\n",
       "      <th></th>\n",
       "      <th>count</th>\n",
       "      <th>mean</th>\n",
       "      <th>std</th>\n",
       "      <th>min</th>\n",
       "      <th>25%</th>\n",
       "      <th>50%</th>\n",
       "      <th>75%</th>\n",
       "      <th>max</th>\n",
       "    </tr>\n",
       "    <tr>\n",
       "      <th>cell type</th>\n",
       "      <th></th>\n",
       "      <th></th>\n",
       "      <th></th>\n",
       "      <th></th>\n",
       "      <th></th>\n",
       "      <th></th>\n",
       "      <th></th>\n",
       "      <th></th>\n",
       "    </tr>\n",
       "  </thead>\n",
       "  <tbody>\n",
       "    <tr>\n",
       "      <th>MPP--</th>\n",
       "      <td>2.0</td>\n",
       "      <td>0.154557</td>\n",
       "      <td>0.037508</td>\n",
       "      <td>0.128035</td>\n",
       "      <td>0.141296</td>\n",
       "      <td>0.154557</td>\n",
       "      <td>0.167818</td>\n",
       "      <td>0.181079</td>\n",
       "    </tr>\n",
       "    <tr>\n",
       "      <th>HSC</th>\n",
       "      <td>2.0</td>\n",
       "      <td>0.153889</td>\n",
       "      <td>0.023100</td>\n",
       "      <td>0.137555</td>\n",
       "      <td>0.145722</td>\n",
       "      <td>0.153889</td>\n",
       "      <td>0.162056</td>\n",
       "      <td>0.170223</td>\n",
       "    </tr>\n",
       "    <tr>\n",
       "      <th>MEP--</th>\n",
       "      <td>2.0</td>\n",
       "      <td>0.130486</td>\n",
       "      <td>0.021172</td>\n",
       "      <td>0.115515</td>\n",
       "      <td>0.123001</td>\n",
       "      <td>0.130486</td>\n",
       "      <td>0.137972</td>\n",
       "      <td>0.145457</td>\n",
       "    </tr>\n",
       "    <tr>\n",
       "      <th>CMP--</th>\n",
       "      <td>2.0</td>\n",
       "      <td>0.116181</td>\n",
       "      <td>0.027706</td>\n",
       "      <td>0.096590</td>\n",
       "      <td>0.106385</td>\n",
       "      <td>0.116181</td>\n",
       "      <td>0.125977</td>\n",
       "      <td>0.135772</td>\n",
       "    </tr>\n",
       "    <tr>\n",
       "      <th>Primary MonocytesCD14+(BC14)</th>\n",
       "      <td>1.0</td>\n",
       "      <td>0.112077</td>\n",
       "      <td>NaN</td>\n",
       "      <td>0.112077</td>\n",
       "      <td>0.112077</td>\n",
       "      <td>0.112077</td>\n",
       "      <td>0.112077</td>\n",
       "      <td>0.112077</td>\n",
       "    </tr>\n",
       "    <tr>\n",
       "      <th>...</th>\n",
       "      <td>...</td>\n",
       "      <td>...</td>\n",
       "      <td>...</td>\n",
       "      <td>...</td>\n",
       "      <td>...</td>\n",
       "      <td>...</td>\n",
       "      <td>...</td>\n",
       "      <td>...</td>\n",
       "    </tr>\n",
       "    <tr>\n",
       "      <th>Glioma cells + breast cancer cells</th>\n",
       "      <td>226.0</td>\n",
       "      <td>-0.004513</td>\n",
       "      <td>0.066011</td>\n",
       "      <td>-0.136898</td>\n",
       "      <td>-0.043920</td>\n",
       "      <td>-0.016369</td>\n",
       "      <td>0.015237</td>\n",
       "      <td>0.395332</td>\n",
       "    </tr>\n",
       "    <tr>\n",
       "      <th>Glioma cells + lung fibroblast cells</th>\n",
       "      <td>129.0</td>\n",
       "      <td>-0.008944</td>\n",
       "      <td>0.037408</td>\n",
       "      <td>-0.089987</td>\n",
       "      <td>-0.031717</td>\n",
       "      <td>-0.016569</td>\n",
       "      <td>0.002917</td>\n",
       "      <td>0.143677</td>\n",
       "    </tr>\n",
       "    <tr>\n",
       "      <th>MCF10a human breast cancer cells</th>\n",
       "      <td>102.0</td>\n",
       "      <td>-0.009097</td>\n",
       "      <td>0.072110</td>\n",
       "      <td>-0.114017</td>\n",
       "      <td>-0.047943</td>\n",
       "      <td>-0.021585</td>\n",
       "      <td>0.010524</td>\n",
       "      <td>0.507294</td>\n",
       "    </tr>\n",
       "    <tr>\n",
       "      <th>U87 human glioma cells</th>\n",
       "      <td>138.0</td>\n",
       "      <td>-0.013777</td>\n",
       "      <td>0.051828</td>\n",
       "      <td>-0.100846</td>\n",
       "      <td>-0.041062</td>\n",
       "      <td>-0.021855</td>\n",
       "      <td>-0.003640</td>\n",
       "      <td>0.251052</td>\n",
       "    </tr>\n",
       "    <tr>\n",
       "      <th>no cell</th>\n",
       "      <td>5.0</td>\n",
       "      <td>-0.053105</td>\n",
       "      <td>0.036666</td>\n",
       "      <td>-0.106314</td>\n",
       "      <td>-0.073249</td>\n",
       "      <td>-0.041424</td>\n",
       "      <td>-0.029427</td>\n",
       "      <td>-0.015111</td>\n",
       "    </tr>\n",
       "  </tbody>\n",
       "</table>\n",
       "<p>65 rows × 8 columns</p>\n",
       "</div>"
      ],
      "text/plain": [
       "                                      count      mean       std       min  \\\n",
       "cell type                                                                   \n",
       "MPP--                                   2.0  0.154557  0.037508  0.128035   \n",
       "HSC                                     2.0  0.153889  0.023100  0.137555   \n",
       "MEP--                                   2.0  0.130486  0.021172  0.115515   \n",
       "CMP--                                   2.0  0.116181  0.027706  0.096590   \n",
       "Primary MonocytesCD14+(BC14)            1.0  0.112077       NaN  0.112077   \n",
       "...                                     ...       ...       ...       ...   \n",
       "Glioma cells + breast cancer cells    226.0 -0.004513  0.066011 -0.136898   \n",
       "Glioma cells + lung fibroblast cells  129.0 -0.008944  0.037408 -0.089987   \n",
       "MCF10a human breast cancer cells      102.0 -0.009097  0.072110 -0.114017   \n",
       "U87 human glioma cells                138.0 -0.013777  0.051828 -0.100846   \n",
       "no cell                                 5.0 -0.053105  0.036666 -0.106314   \n",
       "\n",
       "                                           25%       50%       75%       max  \n",
       "cell type                                                                     \n",
       "MPP--                                 0.141296  0.154557  0.167818  0.181079  \n",
       "HSC                                   0.145722  0.153889  0.162056  0.170223  \n",
       "MEP--                                 0.123001  0.130486  0.137972  0.145457  \n",
       "CMP--                                 0.106385  0.116181  0.125977  0.135772  \n",
       "Primary MonocytesCD14+(BC14)          0.112077  0.112077  0.112077  0.112077  \n",
       "...                                        ...       ...       ...       ...  \n",
       "Glioma cells + breast cancer cells   -0.043920 -0.016369  0.015237  0.395332  \n",
       "Glioma cells + lung fibroblast cells -0.031717 -0.016569  0.002917  0.143677  \n",
       "MCF10a human breast cancer cells     -0.047943 -0.021585  0.010524  0.507294  \n",
       "U87 human glioma cells               -0.041062 -0.021855 -0.003640  0.251052  \n",
       "no cell                              -0.073249 -0.041424 -0.029427 -0.015111  \n",
       "\n",
       "[65 rows x 8 columns]"
      ]
     },
     "metadata": {},
     "output_type": "display_data"
    }
   ],
   "source": [
    "plot_data_stats_by_cell_type = (\n",
    "    final_plot_data.groupby(SELECTED_ATTRIBUTE)\n",
    "    .describe()[LV_NAME]\n",
    "    .sort_values(\"50%\", ascending=False)\n",
    ")\n",
    "display(plot_data_stats_by_cell_type)"
   ]
  },
  {
   "cell_type": "code",
   "execution_count": 51,
   "id": "1daa5714-d2c7-4af9-a57f-ebf681688188",
   "metadata": {},
   "outputs": [
    {
     "data": {
      "text/plain": [
       "Index(['MPP--', 'HSC', 'MEP--', 'CMP--', 'Primary MonocytesCD14+(BC14)',\n",
       "       'Primary MonocytesCD14+(BC13)', 'retina', 'embryonic stem cells',\n",
       "       'MPP+-', 'MPP++', 'MEP++', 'Bone marrow HSC', 'Bone marrow MEP', 'MLP',\n",
       "       'CD4+CD25highCD127low/- Treg cells', 'GMP', 'CMP++', 'CMP+-',\n",
       "       'tonsil Innate lymphoid cells (ILC2)', 'MEP+-',\n",
       "       'tonsil Innate lymphoid cells (NK)',\n",
       "       'tonsil Innate lymphoid cells (ILC3)',\n",
       "       'Primary Monocytes(rest cell population after CD14+ selection)(BC14)',\n",
       "       'Bone marrow GMP', 'ES-derived embryoid body cells', 'med live',\n",
       "       'Primary Monocytes(BC8)', 'tonsil Innate lymphoid cells (ILC1)',\n",
       "       'Primary Monocytes(BC9)', 'Macrophages(BC9)', 'endothelial',\n",
       "       'fixed cell', 'iPSC-derived cortical neuron', 'Macrophages(BC8)',\n",
       "       'Primary Monocytes(BC11)', 'microglia', 'Macrophages(BC11)',\n",
       "       'Primary Monocytes(BC12)'],\n",
       "      dtype='object', name='cell type')"
      ]
     },
     "metadata": {},
     "output_type": "display_data"
    }
   ],
   "source": [
    "# keep cell types whose median is larger than the global median\n",
    "selected_cell_types = plot_data_stats_by_cell_type[\n",
    "    (plot_data_stats_by_cell_type[\"50%\"] > max(plot_data_stats.loc[\"50%\"], 0.0))\n",
    "].index\n",
    "display(selected_cell_types)"
   ]
  },
  {
   "cell_type": "code",
   "execution_count": 52,
   "id": "3d64ab5f-d152-4135-977e-03a97815d618",
   "metadata": {},
   "outputs": [
    {
     "data": {
      "text/plain": [
       "(4810, 2)"
      ]
     },
     "execution_count": 52,
     "metadata": {},
     "output_type": "execute_result"
    }
   ],
   "source": [
    "final_plot_data.shape"
   ]
  },
  {
   "cell_type": "code",
   "execution_count": 53,
   "id": "467a773a-8e23-4d90-89e3-b8f890b86cf1",
   "metadata": {},
   "outputs": [],
   "source": [
    "reduced_plot_data = final_plot_data[\n",
    "    final_plot_data[SELECTED_ATTRIBUTE].isin(selected_cell_types)\n",
    "]"
   ]
  },
  {
   "cell_type": "code",
   "execution_count": 54,
   "id": "2d6b2fcb-3f40-4561-80e2-f07d99c52715",
   "metadata": {},
   "outputs": [
    {
     "data": {
      "text/plain": [
       "(829, 2)"
      ]
     },
     "execution_count": 54,
     "metadata": {},
     "output_type": "execute_result"
    }
   ],
   "source": [
    "reduced_plot_data.shape"
   ]
  },
  {
   "cell_type": "markdown",
   "id": "70700cb7-47f4-459a-99f9-c73a84781a49",
   "metadata": {},
   "source": [
    "## Shorten context names"
   ]
  },
  {
   "cell_type": "code",
   "execution_count": 55,
   "id": "c5123eee-806d-4b0f-abcc-1b2da4c98329",
   "metadata": {},
   "outputs": [],
   "source": [
    "reduced_plot_data = reduced_plot_data.replace(\n",
    "    {\n",
    "        SELECTED_ATTRIBUTE: {\n",
    "            \"tonsil Innate lymphoid cells (ILC3)\": \"tonsil ILCs (ILC3)\",\n",
    "            \"tonsil Innate lymphoid cells (NK)\": \"tonsil ILCs (NK)\",\n",
    "            \"tonsil Innate lymphoid cells (ILC2)\": \"tonsil ILCs (ILC2)\",\n",
    "            \"tonsil Innate lymphoid cells (ILC1)\": \"tonsil ILCs (ILC1)\",\n",
    "            \"primary human NK cells\": \"NK cells\",\n",
    "            \"primary human neutrophils\": \"Neutrophils\",\n",
    "        }\n",
    "    }\n",
    ")"
   ]
  },
  {
   "cell_type": "markdown",
   "id": "5e84ec68-3400-4cdb-999b-f0d9b4af8ff1",
   "metadata": {},
   "source": [
    "## Set x-axis order"
   ]
  },
  {
   "cell_type": "code",
   "execution_count": 56,
   "id": "4c5133cd-b51c-441a-9aa0-77dcf274c517",
   "metadata": {},
   "outputs": [],
   "source": [
    "attr_order = (\n",
    "    reduced_plot_data.groupby(SELECTED_ATTRIBUTE)\n",
    "    .median()\n",
    "    .sort_values(LV_NAME, ascending=False)\n",
    "    .index[:N_TOP_ATTRS]\n",
    "    .tolist()\n",
    ")"
   ]
  },
  {
   "cell_type": "code",
   "execution_count": 57,
   "id": "bffec958-42da-4e43-a0f8-6520ea6c5ec5",
   "metadata": {},
   "outputs": [
    {
     "data": {
      "text/plain": [
       "15"
      ]
     },
     "execution_count": 57,
     "metadata": {},
     "output_type": "execute_result"
    }
   ],
   "source": [
    "len(attr_order)"
   ]
  },
  {
   "cell_type": "code",
   "execution_count": 58,
   "id": "f8c5b531-3ed3-483a-b93b-79efecb4d339",
   "metadata": {},
   "outputs": [
    {
     "data": {
      "text/plain": [
       "['MPP--',\n",
       " 'HSC',\n",
       " 'MEP--',\n",
       " 'CMP--',\n",
       " 'Primary MonocytesCD14+(BC14)',\n",
       " 'Primary MonocytesCD14+(BC13)',\n",
       " 'retina',\n",
       " 'embryonic stem cells',\n",
       " 'MPP+-',\n",
       " 'MPP++',\n",
       " 'MEP++',\n",
       " 'Bone marrow HSC',\n",
       " 'Bone marrow MEP',\n",
       " 'MLP',\n",
       " 'CD4+CD25highCD127low/- Treg cells']"
      ]
     },
     "execution_count": 58,
     "metadata": {},
     "output_type": "execute_result"
    }
   ],
   "source": [
    "attr_order"
   ]
  },
  {
   "cell_type": "markdown",
   "id": "93efa70a-a8f5-4df8-b3f7-a52a07fc79bf",
   "metadata": {},
   "source": [
    "## Plot"
   ]
  },
  {
   "cell_type": "code",
   "execution_count": 59,
   "id": "56dff565-b0a1-4af8-80df-7a4738c604f4",
   "metadata": {},
   "outputs": [
    {
     "data": {
      "image/png": "[encoded data removed]",
      "text/plain": [
       "<Figure size 1250x500 with 1 Axes>"
      ]
     },
     "metadata": {},
     "output_type": "display_data"
    }
   ],
   "source": [
    "with sns.plotting_context(\"paper\", font_scale=2.5), sns.axes_style(\"whitegrid\"):\n",
    "    g = sns.catplot(\n",
    "        data=reduced_plot_data,\n",
    "        y=LV_NAME,\n",
    "        x=SELECTED_ATTRIBUTE,\n",
    "        order=attr_order,\n",
    "        kind=\"box\",\n",
    "        height=5,\n",
    "        aspect=2.5,\n",
    "    )\n",
    "    plt.xticks(rotation=45, horizontalalignment=\"right\")\n",
    "    plt.xlabel(\"\")\n",
    "\n",
    "    plt.savefig(\n",
    "        OUTPUT_CELL_TYPE_FILEPATH,\n",
    "        bbox_inches=\"tight\",\n",
    "        facecolor=\"white\",\n",
    "    )"
   ]
  },
  {
   "cell_type": "code",
   "execution_count": null,
   "id": "classified-overall",
   "metadata": {},
   "outputs": [],
   "source": []
  }
 ],
 "metadata": {
  "jupytext": {
   "cell_metadata_filter": "all,-execution,-papermill,-trusted",
   "formats": "ipynb,py//py:percent"
  },
  "kernelspec": {
   "display_name": "Python 3 (ipykernel)",
   "language": "python",
   "name": "python3"
  },
  "language_info": {
   "codemirror_mode": {
    "name": "ipython",
    "version": 3
   },
   "file_extension": ".py",
   "mimetype": "text/x-python",
   "name": "python",
   "nbconvert_exporter": "python",
   "pygments_lexer": "ipython3",
   "version": "3.10.6"
  },
  "toc-autonumbering": true
 },
 "nbformat": 4,
 "nbformat_minor": 5
}
