{
 "cells": [
  {
   "cell_type": "markdown",
   "id": "superior-virgin",
   "metadata": {
    "papermill": {
     "duration": 0.006593,
     "end_time": "2021-05-11T19:09:55.733221",
     "exception": false,
     "start_time": "2021-05-11T19:09:55.726628",
     "status": "completed"
    },
    "tags": []
   },
   "source": [
    "# Description"
   ]
  },
  {
   "cell_type": "markdown",
   "id": "successful-knight",
   "metadata": {
    "papermill": {
     "duration": 0.00668,
     "end_time": "2021-05-11T19:09:55.745410",
     "exception": false,
     "start_time": "2021-05-11T19:09:55.738730",
     "status": "completed"
    },
    "tags": []
   },
   "source": [
    "Generates the figure for top cell types for a specified LV (in Settings section below)."
   ]
  },
  {
   "cell_type": "markdown",
   "id": "compatible-weight",
   "metadata": {
    "papermill": {
     "duration": 0.006223,
     "end_time": "2021-05-11T19:09:55.756959",
     "exception": false,
     "start_time": "2021-05-11T19:09:55.750736",
     "status": "completed"
    },
    "tags": []
   },
   "source": [
    "# Modules loading"
   ]
  },
  {
   "cell_type": "code",
   "execution_count": 1,
   "id": "proper-chester",
   "metadata": {
    "papermill": {
     "duration": 0.993432,
     "end_time": "2021-05-11T19:09:56.780403",
     "exception": false,
     "start_time": "2021-05-11T19:09:55.786971",
     "status": "completed"
    },
    "tags": []
   },
   "outputs": [],
   "source": [
    "import re\n",
    "from pathlib import Path\n",
    "\n",
    "import pandas as pd\n",
    "import matplotlib.pyplot as plt\n",
    "import seaborn as sns\n",
    "\n",
    "from data.recount2 import LVAnalysis\n",
    "from utils import chunker\n",
    "import conf"
   ]
  },
  {
   "cell_type": "markdown",
   "id": "sized-butter",
   "metadata": {
    "papermill": {
     "duration": 0.005973,
     "end_time": "2021-05-11T19:09:56.792495",
     "exception": false,
     "start_time": "2021-05-11T19:09:56.786522",
     "status": "completed"
    },
    "tags": []
   },
   "source": [
    "# Settings"
   ]
  },
  {
   "cell_type": "code",
   "execution_count": 2,
   "id": "tender-contrary",
   "metadata": {
    "papermill": {
     "duration": 0.019548,
     "end_time": "2021-05-11T19:09:56.817689",
     "exception": false,
     "start_time": "2021-05-11T19:09:56.798141",
     "status": "completed"
    },
    "tags": [
     "parameters"
    ]
   },
   "outputs": [],
   "source": [
    "LV_NAME = \"LV96\""
   ]
  },
  {
   "cell_type": "code",
   "execution_count": 3,
   "id": "sunset-carbon",
   "metadata": {},
   "outputs": [],
   "source": [
    "LV_AXIS_THRESHOLD = None # 3.0\n",
    "# LV_AXIS_THRESHOLD = 2.0\n",
    "N_TOP_SAMPLES = 400\n",
    "N_TOP_ATTRS = 15"
   ]
  },
  {
   "cell_type": "code",
   "execution_count": 4,
   "id": "proof-primary",
   "metadata": {},
   "outputs": [],
   "source": [
    "# OUTPUT_FIGURES_DIR = Path(\n",
    "#     conf.MANUSCRIPT[\"FIGURES_DIR\"], \"lvs_analysis\", f\"{LV_NAME.lower()}\"\n",
    "# ).resolve()\n",
    "# display(OUTPUT_FIGURES_DIR)\n",
    "# OUTPUT_FIGURES_DIR.mkdir(parents=True, exist_ok=True)"
   ]
  },
  {
   "cell_type": "code",
   "execution_count": 5,
   "id": "three-crossing",
   "metadata": {},
   "outputs": [],
   "source": [
    "# OUTPUT_CELL_TYPE_FILEPATH = OUTPUT_FIGURES_DIR / f\"{LV_NAME.lower()}-cell_types.svg\"\n",
    "# display(OUTPUT_CELL_TYPE_FILEPATH)"
   ]
  },
  {
   "cell_type": "markdown",
   "id": "invisible-madrid",
   "metadata": {
    "papermill": {
     "duration": 0.005592,
     "end_time": "2021-05-11T19:09:56.854406",
     "exception": false,
     "start_time": "2021-05-11T19:09:56.848814",
     "status": "completed"
    },
    "tags": []
   },
   "source": [
    "# Load MultiPLIER summary"
   ]
  },
  {
   "cell_type": "code",
   "execution_count": 6,
   "id": "coated-christmas",
   "metadata": {
    "papermill": {
     "duration": 0.020251,
     "end_time": "2021-05-11T19:09:56.880435",
     "exception": false,
     "start_time": "2021-05-11T19:09:56.860184",
     "status": "completed"
    },
    "tags": []
   },
   "outputs": [],
   "source": [
    "multiplier_model_summary = pd.read_pickle(conf.MULTIPLIER[\"MODEL_SUMMARY_FILE\"])"
   ]
  },
  {
   "cell_type": "code",
   "execution_count": 7,
   "id": "stopped-driving",
   "metadata": {
    "papermill": {
     "duration": 0.02062,
     "end_time": "2021-05-11T19:09:56.906744",
     "exception": false,
     "start_time": "2021-05-11T19:09:56.886124",
     "status": "completed"
    },
    "tags": []
   },
   "outputs": [
    {
     "data": {
      "text/plain": [
       "(2157, 5)"
      ]
     },
     "execution_count": 7,
     "metadata": {},
     "output_type": "execute_result"
    }
   ],
   "source": [
    "multiplier_model_summary.shape"
   ]
  },
  {
   "cell_type": "code",
   "execution_count": 8,
   "id": "rural-grove",
   "metadata": {
    "papermill": {
     "duration": 0.024737,
     "end_time": "2021-05-11T19:09:56.937493",
     "exception": false,
     "start_time": "2021-05-11T19:09:56.912756",
     "status": "completed"
    },
    "tags": []
   },
   "outputs": [
    {
     "data": {
      "text/html": [
       "<div>\n",
       "<style scoped>\n",
       "    .dataframe tbody tr th:only-of-type {\n",
       "        vertical-align: middle;\n",
       "    }\n",
       "\n",
       "    .dataframe tbody tr th {\n",
       "        vertical-align: top;\n",
       "    }\n",
       "\n",
       "    .dataframe thead th {\n",
       "        text-align: right;\n",
       "    }\n",
       "</style>\n",
       "<table border=\"1\" class=\"dataframe\">\n",
       "  <thead>\n",
       "    <tr style=\"text-align: right;\">\n",
       "      <th></th>\n",
       "      <th>pathway</th>\n",
       "      <th>LV index</th>\n",
       "      <th>AUC</th>\n",
       "      <th>p-value</th>\n",
       "      <th>FDR</th>\n",
       "    </tr>\n",
       "  </thead>\n",
       "  <tbody>\n",
       "    <tr>\n",
       "      <th>1</th>\n",
       "      <td>KEGG_LYSINE_DEGRADATION</td>\n",
       "      <td>1</td>\n",
       "      <td>0.388059</td>\n",
       "      <td>0.866078</td>\n",
       "      <td>0.956005</td>\n",
       "    </tr>\n",
       "    <tr>\n",
       "      <th>2</th>\n",
       "      <td>REACTOME_MRNA_SPLICING</td>\n",
       "      <td>1</td>\n",
       "      <td>0.733057</td>\n",
       "      <td>0.000048</td>\n",
       "      <td>0.000582</td>\n",
       "    </tr>\n",
       "    <tr>\n",
       "      <th>3</th>\n",
       "      <td>MIPS_NOP56P_ASSOCIATED_PRE_RRNA_COMPLEX</td>\n",
       "      <td>1</td>\n",
       "      <td>0.680555</td>\n",
       "      <td>0.001628</td>\n",
       "      <td>0.011366</td>\n",
       "    </tr>\n",
       "    <tr>\n",
       "      <th>4</th>\n",
       "      <td>KEGG_DNA_REPLICATION</td>\n",
       "      <td>1</td>\n",
       "      <td>0.549473</td>\n",
       "      <td>0.312155</td>\n",
       "      <td>0.539951</td>\n",
       "    </tr>\n",
       "    <tr>\n",
       "      <th>5</th>\n",
       "      <td>PID_MYC_ACTIVPATHWAY</td>\n",
       "      <td>1</td>\n",
       "      <td>0.639303</td>\n",
       "      <td>0.021702</td>\n",
       "      <td>0.083739</td>\n",
       "    </tr>\n",
       "  </tbody>\n",
       "</table>\n",
       "</div>"
      ],
      "text/plain": [
       "                                   pathway LV index       AUC   p-value  \\\n",
       "1                  KEGG_LYSINE_DEGRADATION        1  0.388059  0.866078   \n",
       "2                   REACTOME_MRNA_SPLICING        1  0.733057  0.000048   \n",
       "3  MIPS_NOP56P_ASSOCIATED_PRE_RRNA_COMPLEX        1  0.680555  0.001628   \n",
       "4                     KEGG_DNA_REPLICATION        1  0.549473  0.312155   \n",
       "5                     PID_MYC_ACTIVPATHWAY        1  0.639303  0.021702   \n",
       "\n",
       "        FDR  \n",
       "1  0.956005  \n",
       "2  0.000582  \n",
       "3  0.011366  \n",
       "4  0.539951  \n",
       "5  0.083739  "
      ]
     },
     "execution_count": 8,
     "metadata": {},
     "output_type": "execute_result"
    }
   ],
   "source": [
    "multiplier_model_summary.head()"
   ]
  },
  {
   "cell_type": "markdown",
   "id": "neural-expression",
   "metadata": {
    "papermill": {
     "duration": 0.006007,
     "end_time": "2021-05-11T19:09:56.949763",
     "exception": false,
     "start_time": "2021-05-11T19:09:56.943756",
     "status": "completed"
    },
    "tags": []
   },
   "source": [
    "# Load data"
   ]
  },
  {
   "cell_type": "markdown",
   "id": "military-enlargement",
   "metadata": {
    "papermill": {
     "duration": 0.005873,
     "end_time": "2021-05-11T19:09:56.961602",
     "exception": false,
     "start_time": "2021-05-11T19:09:56.955729",
     "status": "completed"
    },
    "tags": []
   },
   "source": [
    "## Original data"
   ]
  },
  {
   "cell_type": "code",
   "execution_count": 9,
   "id": "distinguished-elements",
   "metadata": {
    "papermill": {
     "duration": 0.019571,
     "end_time": "2021-05-11T19:09:56.987255",
     "exception": false,
     "start_time": "2021-05-11T19:09:56.967684",
     "status": "completed"
    },
    "tags": []
   },
   "outputs": [],
   "source": [
    "# INPUT_SUBSET = \"z_score_std\""
   ]
  },
  {
   "cell_type": "code",
   "execution_count": 10,
   "id": "elementary-court",
   "metadata": {
    "papermill": {
     "duration": 0.019175,
     "end_time": "2021-05-11T19:09:57.025099",
     "exception": false,
     "start_time": "2021-05-11T19:09:57.005924",
     "status": "completed"
    },
    "tags": []
   },
   "outputs": [],
   "source": [
    "# INPUT_STEM = \"projection-smultixcan-efo_partial-mashr-zscores\""
   ]
  },
  {
   "cell_type": "code",
   "execution_count": 11,
   "id": "yellow-stand",
   "metadata": {
    "papermill": {
     "duration": 0.020992,
     "end_time": "2021-05-11T19:09:57.052255",
     "exception": false,
     "start_time": "2021-05-11T19:09:57.031263",
     "status": "completed"
    },
    "tags": []
   },
   "outputs": [],
   "source": [
    "# input_filepath = Path(\n",
    "#     conf.RESULTS[\"DATA_TRANSFORMATIONS_DIR\"],\n",
    "#     INPUT_SUBSET,\n",
    "#     f\"{INPUT_SUBSET}-{INPUT_STEM}.pkl\",\n",
    "# ).resolve()\n",
    "# display(input_filepath)\n",
    "\n",
    "# assert input_filepath.exists(), \"Input file does not exist\"\n",
    "\n",
    "# input_filepath_stem = input_filepath.stem\n",
    "# display(input_filepath_stem)"
   ]
  },
  {
   "cell_type": "code",
   "execution_count": 12,
   "id": "perfect-cruise",
   "metadata": {
    "papermill": {
     "duration": 0.032337,
     "end_time": "2021-05-11T19:09:57.090585",
     "exception": false,
     "start_time": "2021-05-11T19:09:57.058248",
     "status": "completed"
    },
    "tags": []
   },
   "outputs": [],
   "source": [
    "# data = pd.read_pickle(input_filepath)"
   ]
  },
  {
   "cell_type": "code",
   "execution_count": 13,
   "id": "medieval-junction",
   "metadata": {
    "papermill": {
     "duration": 0.01967,
     "end_time": "2021-05-11T19:09:57.116292",
     "exception": false,
     "start_time": "2021-05-11T19:09:57.096622",
     "status": "completed"
    },
    "tags": []
   },
   "outputs": [],
   "source": [
    "# data.shape"
   ]
  },
  {
   "cell_type": "code",
   "execution_count": 14,
   "id": "charitable-craps",
   "metadata": {
    "papermill": {
     "duration": 0.031843,
     "end_time": "2021-05-11T19:09:57.154356",
     "exception": false,
     "start_time": "2021-05-11T19:09:57.122513",
     "status": "completed"
    },
    "tags": []
   },
   "outputs": [],
   "source": [
    "# data.head()"
   ]
  },
  {
   "cell_type": "markdown",
   "id": "architectural-flooring",
   "metadata": {},
   "source": [
    "## LV data"
   ]
  },
  {
   "cell_type": "code",
   "execution_count": 15,
   "id": "suited-employer",
   "metadata": {},
   "outputs": [],
   "source": [
    "# lv_obj = LVAnalysis(LV_NAME, data)\n",
    "lv_obj = LVAnalysis(LV_NAME)"
   ]
  },
  {
   "cell_type": "code",
   "execution_count": 16,
   "id": "noted-little",
   "metadata": {},
   "outputs": [
    {
     "data": {
      "text/html": [
       "<div>\n",
       "<style scoped>\n",
       "    .dataframe tbody tr th:only-of-type {\n",
       "        vertical-align: middle;\n",
       "    }\n",
       "\n",
       "    .dataframe tbody tr th {\n",
       "        vertical-align: top;\n",
       "    }\n",
       "\n",
       "    .dataframe thead th {\n",
       "        text-align: right;\n",
       "    }\n",
       "</style>\n",
       "<table border=\"1\" class=\"dataframe\">\n",
       "  <thead>\n",
       "    <tr style=\"text-align: right;\">\n",
       "      <th></th>\n",
       "      <th>pathway</th>\n",
       "      <th>LV index</th>\n",
       "      <th>AUC</th>\n",
       "      <th>p-value</th>\n",
       "      <th>FDR</th>\n",
       "    </tr>\n",
       "  </thead>\n",
       "  <tbody>\n",
       "    <tr>\n",
       "      <th>414</th>\n",
       "      <td>SVM T cells follicular helper</td>\n",
       "      <td>96</td>\n",
       "      <td>0.689263</td>\n",
       "      <td>0.004435</td>\n",
       "      <td>0.024527</td>\n",
       "    </tr>\n",
       "    <tr>\n",
       "      <th>415</th>\n",
       "      <td>SVM NK cells activated</td>\n",
       "      <td>96</td>\n",
       "      <td>0.729687</td>\n",
       "      <td>0.000274</td>\n",
       "      <td>0.002569</td>\n",
       "    </tr>\n",
       "  </tbody>\n",
       "</table>\n",
       "</div>"
      ],
      "text/plain": [
       "                           pathway LV index       AUC   p-value       FDR\n",
       "414  SVM T cells follicular helper       96  0.689263  0.004435  0.024527\n",
       "415         SVM NK cells activated       96  0.729687  0.000274  0.002569"
      ]
     },
     "execution_count": 16,
     "metadata": {},
     "output_type": "execute_result"
    }
   ],
   "source": [
    "multiplier_model_summary[\n",
    "    multiplier_model_summary[\"LV index\"].isin((LV_NAME[2:],))\n",
    "    & (\n",
    "        (multiplier_model_summary[\"FDR\"] < 0.05)\n",
    "        | (multiplier_model_summary[\"AUC\"] >= 0.75)\n",
    "    )\n",
    "]"
   ]
  },
  {
   "cell_type": "code",
   "execution_count": 17,
   "id": "assigned-weekly",
   "metadata": {},
   "outputs": [
    {
     "name": "stdout",
     "output_type": "stream",
     "text": [
      "SRP060416, SRP056049, SRP005279, SRP055569, SRP064464, SRP057196, SRP042161, SRP014428, SRP018853, SRP024268, SRP050499, SRP066834, "
     ]
    }
   ],
   "source": [
    "lv_data = lv_obj.get_experiments_data()"
   ]
  },
  {
   "cell_type": "code",
   "execution_count": 18,
   "id": "guilty-medicaid",
   "metadata": {},
   "outputs": [
    {
     "data": {
      "text/plain": [
       "(3985, 29)"
      ]
     },
     "execution_count": 18,
     "metadata": {},
     "output_type": "execute_result"
    }
   ],
   "source": [
    "lv_data.shape"
   ]
  },
  {
   "cell_type": "code",
   "execution_count": 19,
   "id": "neural-cambridge",
   "metadata": {},
   "outputs": [
    {
     "data": {
      "text/html": [
       "<div>\n",
       "<style scoped>\n",
       "    .dataframe tbody tr th:only-of-type {\n",
       "        vertical-align: middle;\n",
       "    }\n",
       "\n",
       "    .dataframe tbody tr th {\n",
       "        vertical-align: top;\n",
       "    }\n",
       "\n",
       "    .dataframe thead th {\n",
       "        text-align: right;\n",
       "    }\n",
       "</style>\n",
       "<table border=\"1\" class=\"dataframe\">\n",
       "  <thead>\n",
       "    <tr style=\"text-align: right;\">\n",
       "      <th></th>\n",
       "      <th></th>\n",
       "      <th>tonsil donor</th>\n",
       "      <th>facs gating</th>\n",
       "      <th>cell type</th>\n",
       "      <th>diagnosis</th>\n",
       "      <th>cell population</th>\n",
       "      <th>all lineage</th>\n",
       "      <th>bcp all subtype</th>\n",
       "      <th>cytogenetic background</th>\n",
       "      <th>disease state</th>\n",
       "      <th>tissue</th>\n",
       "      <th>...</th>\n",
       "      <th>patient id</th>\n",
       "      <th>subtype</th>\n",
       "      <th>sample type</th>\n",
       "      <th>status</th>\n",
       "      <th>barcode</th>\n",
       "      <th>gender</th>\n",
       "      <th>tnm</th>\n",
       "      <th>developmental stage</th>\n",
       "      <th>Stage</th>\n",
       "      <th>LV96</th>\n",
       "    </tr>\n",
       "    <tr>\n",
       "      <th>project</th>\n",
       "      <th>run</th>\n",
       "      <th></th>\n",
       "      <th></th>\n",
       "      <th></th>\n",
       "      <th></th>\n",
       "      <th></th>\n",
       "      <th></th>\n",
       "      <th></th>\n",
       "      <th></th>\n",
       "      <th></th>\n",
       "      <th></th>\n",
       "      <th></th>\n",
       "      <th></th>\n",
       "      <th></th>\n",
       "      <th></th>\n",
       "      <th></th>\n",
       "      <th></th>\n",
       "      <th></th>\n",
       "      <th></th>\n",
       "      <th></th>\n",
       "      <th></th>\n",
       "      <th></th>\n",
       "    </tr>\n",
       "  </thead>\n",
       "  <tbody>\n",
       "    <tr>\n",
       "      <th rowspan=\"5\" valign=\"top\">SRP060416</th>\n",
       "      <th>SRR2088096</th>\n",
       "      <td>Donor T74</td>\n",
       "      <td>NK</td>\n",
       "      <td>tonsil Innate lymphoid cells</td>\n",
       "      <td>NaN</td>\n",
       "      <td>NaN</td>\n",
       "      <td>NaN</td>\n",
       "      <td>NaN</td>\n",
       "      <td>NaN</td>\n",
       "      <td>NaN</td>\n",
       "      <td>NaN</td>\n",
       "      <td>...</td>\n",
       "      <td>NaN</td>\n",
       "      <td>NaN</td>\n",
       "      <td>NaN</td>\n",
       "      <td>NaN</td>\n",
       "      <td>NaN</td>\n",
       "      <td>NaN</td>\n",
       "      <td>NaN</td>\n",
       "      <td>NaN</td>\n",
       "      <td>NaN</td>\n",
       "      <td>0.028097</td>\n",
       "    </tr>\n",
       "    <tr>\n",
       "      <th>SRR2088128</th>\n",
       "      <td>Donor T74</td>\n",
       "      <td>ILC3</td>\n",
       "      <td>tonsil Innate lymphoid cells</td>\n",
       "      <td>NaN</td>\n",
       "      <td>NaN</td>\n",
       "      <td>NaN</td>\n",
       "      <td>NaN</td>\n",
       "      <td>NaN</td>\n",
       "      <td>NaN</td>\n",
       "      <td>NaN</td>\n",
       "      <td>...</td>\n",
       "      <td>NaN</td>\n",
       "      <td>NaN</td>\n",
       "      <td>NaN</td>\n",
       "      <td>NaN</td>\n",
       "      <td>NaN</td>\n",
       "      <td>NaN</td>\n",
       "      <td>NaN</td>\n",
       "      <td>NaN</td>\n",
       "      <td>NaN</td>\n",
       "      <td>0.310938</td>\n",
       "    </tr>\n",
       "    <tr>\n",
       "      <th>SRR2088153</th>\n",
       "      <td>Donor T75</td>\n",
       "      <td>ILC3</td>\n",
       "      <td>tonsil Innate lymphoid cells</td>\n",
       "      <td>NaN</td>\n",
       "      <td>NaN</td>\n",
       "      <td>NaN</td>\n",
       "      <td>NaN</td>\n",
       "      <td>NaN</td>\n",
       "      <td>NaN</td>\n",
       "      <td>NaN</td>\n",
       "      <td>...</td>\n",
       "      <td>NaN</td>\n",
       "      <td>NaN</td>\n",
       "      <td>NaN</td>\n",
       "      <td>NaN</td>\n",
       "      <td>NaN</td>\n",
       "      <td>NaN</td>\n",
       "      <td>NaN</td>\n",
       "      <td>NaN</td>\n",
       "      <td>NaN</td>\n",
       "      <td>-0.027354</td>\n",
       "    </tr>\n",
       "    <tr>\n",
       "      <th>SRR2088179</th>\n",
       "      <td>Donor T75</td>\n",
       "      <td>ILC3</td>\n",
       "      <td>tonsil Innate lymphoid cells</td>\n",
       "      <td>NaN</td>\n",
       "      <td>NaN</td>\n",
       "      <td>NaN</td>\n",
       "      <td>NaN</td>\n",
       "      <td>NaN</td>\n",
       "      <td>NaN</td>\n",
       "      <td>NaN</td>\n",
       "      <td>...</td>\n",
       "      <td>NaN</td>\n",
       "      <td>NaN</td>\n",
       "      <td>NaN</td>\n",
       "      <td>NaN</td>\n",
       "      <td>NaN</td>\n",
       "      <td>NaN</td>\n",
       "      <td>NaN</td>\n",
       "      <td>NaN</td>\n",
       "      <td>NaN</td>\n",
       "      <td>0.005507</td>\n",
       "    </tr>\n",
       "    <tr>\n",
       "      <th>SRR2088205</th>\n",
       "      <td>Donor T75</td>\n",
       "      <td>ILC3</td>\n",
       "      <td>tonsil Innate lymphoid cells</td>\n",
       "      <td>NaN</td>\n",
       "      <td>NaN</td>\n",
       "      <td>NaN</td>\n",
       "      <td>NaN</td>\n",
       "      <td>NaN</td>\n",
       "      <td>NaN</td>\n",
       "      <td>NaN</td>\n",
       "      <td>...</td>\n",
       "      <td>NaN</td>\n",
       "      <td>NaN</td>\n",
       "      <td>NaN</td>\n",
       "      <td>NaN</td>\n",
       "      <td>NaN</td>\n",
       "      <td>NaN</td>\n",
       "      <td>NaN</td>\n",
       "      <td>NaN</td>\n",
       "      <td>NaN</td>\n",
       "      <td>-0.056516</td>\n",
       "    </tr>\n",
       "  </tbody>\n",
       "</table>\n",
       "<p>5 rows × 29 columns</p>\n",
       "</div>"
      ],
      "text/plain": [
       "                     tonsil donor facs gating                     cell type  \\\n",
       "project   run                                                                 \n",
       "SRP060416 SRR2088096    Donor T74          NK  tonsil Innate lymphoid cells   \n",
       "          SRR2088128    Donor T74        ILC3  tonsil Innate lymphoid cells   \n",
       "          SRR2088153    Donor T75        ILC3  tonsil Innate lymphoid cells   \n",
       "          SRR2088179    Donor T75        ILC3  tonsil Innate lymphoid cells   \n",
       "          SRR2088205    Donor T75        ILC3  tonsil Innate lymphoid cells   \n",
       "\n",
       "                     diagnosis cell population all lineage bcp all subtype  \\\n",
       "project   run                                                                \n",
       "SRP060416 SRR2088096       NaN             NaN         NaN             NaN   \n",
       "          SRR2088128       NaN             NaN         NaN             NaN   \n",
       "          SRR2088153       NaN             NaN         NaN             NaN   \n",
       "          SRR2088179       NaN             NaN         NaN             NaN   \n",
       "          SRR2088205       NaN             NaN         NaN             NaN   \n",
       "\n",
       "                     cytogenetic background disease state tissue  ...  \\\n",
       "project   run                                                     ...   \n",
       "SRP060416 SRR2088096                    NaN           NaN    NaN  ...   \n",
       "          SRR2088128                    NaN           NaN    NaN  ...   \n",
       "          SRR2088153                    NaN           NaN    NaN  ...   \n",
       "          SRR2088179                    NaN           NaN    NaN  ...   \n",
       "          SRR2088205                    NaN           NaN    NaN  ...   \n",
       "\n",
       "                     patient id subtype sample type status barcode gender  \\\n",
       "project   run                                                               \n",
       "SRP060416 SRR2088096        NaN     NaN         NaN    NaN     NaN    NaN   \n",
       "          SRR2088128        NaN     NaN         NaN    NaN     NaN    NaN   \n",
       "          SRR2088153        NaN     NaN         NaN    NaN     NaN    NaN   \n",
       "          SRR2088179        NaN     NaN         NaN    NaN     NaN    NaN   \n",
       "          SRR2088205        NaN     NaN         NaN    NaN     NaN    NaN   \n",
       "\n",
       "                      tnm developmental stage Stage      LV96  \n",
       "project   run                                                  \n",
       "SRP060416 SRR2088096  NaN                 NaN   NaN  0.028097  \n",
       "          SRR2088128  NaN                 NaN   NaN  0.310938  \n",
       "          SRR2088153  NaN                 NaN   NaN -0.027354  \n",
       "          SRR2088179  NaN                 NaN   NaN  0.005507  \n",
       "          SRR2088205  NaN                 NaN   NaN -0.056516  \n",
       "\n",
       "[5 rows x 29 columns]"
      ]
     },
     "execution_count": 19,
     "metadata": {},
     "output_type": "execute_result"
    }
   ],
   "source": [
    "lv_data.head()"
   ]
  },
  {
   "cell_type": "markdown",
   "id": "civil-yugoslavia",
   "metadata": {},
   "source": [
    "# LV cell types analysis"
   ]
  },
  {
   "cell_type": "markdown",
   "id": "roman-hotel",
   "metadata": {},
   "source": [
    "## Get top attributes"
   ]
  },
  {
   "cell_type": "code",
   "execution_count": 20,
   "id": "pressed-oxide",
   "metadata": {},
   "outputs": [
    {
     "data": {
      "text/plain": [
       "tonsil donor              0.173755\n",
       "facs gating               0.173755\n",
       "cell type                 0.058198\n",
       "cytogenetic background    0.019599\n",
       "diagnosis                 0.016801\n",
       "cell population           0.016801\n",
       "all lineage               0.010181\n",
       "disease state             0.008787\n",
       "bcp all subtype           0.008504\n",
       "age                       0.002175\n",
       "experiment_sample_name    0.002160\n",
       "c1 chip id                0.002160\n",
       "tnm                       0.001950\n",
       "ercc_dilution             0.001836\n",
       "ercc_mix                  0.001836\n",
       "cell count                0.001836\n",
       "qc pass                   0.001836\n",
       "assigned cell type        0.001836\n",
       "tissue                    0.001756\n",
       "patient id                0.001574\n",
       "dtype: float64"
      ]
     },
     "metadata": {},
     "output_type": "display_data"
    }
   ],
   "source": [
    "lv_attrs = lv_obj.get_attributes_variation_score()\n",
    "display(lv_attrs.head(20))"
   ]
  },
  {
   "cell_type": "code",
   "execution_count": 21,
   "id": "creative-privacy",
   "metadata": {},
   "outputs": [
    {
     "data": {
      "text/plain": [
       "cell type    0.058198\n",
       "tissue       0.001756\n",
       "dtype: float64"
      ]
     },
     "execution_count": 21,
     "metadata": {},
     "output_type": "execute_result"
    }
   ],
   "source": [
    "# show those with cell type or tissue in their name\n",
    "_tmp = pd.Series(lv_attrs.index)\n",
    "lv_attrs[\n",
    "    _tmp.str.match(\n",
    "        \"(?:cell.+type$)|(?:tissue$)|(?:tissue.+type$)\",\n",
    "        case=False,\n",
    "        flags=re.IGNORECASE,\n",
    "    ).values\n",
    "].sort_values(ascending=False)"
   ]
  },
  {
   "cell_type": "code",
   "execution_count": 23,
   "id": "distinguished-thinking",
   "metadata": {},
   "outputs": [],
   "source": [
    "_tmp = lv_data.loc[\n",
    "    :,\n",
    "    [\n",
    "        # \"cell line\",\n",
    "        \"cell type\",\n",
    "        # \"tissue type\",\n",
    "        \"tissue\",\n",
    "        # \"tissue subtype\",\n",
    "        # \"tissue type\",\n",
    "        LV_NAME,\n",
    "    ],\n",
    "]"
   ]
  },
  {
   "cell_type": "code",
   "execution_count": 24,
   "id": "civil-cooperation",
   "metadata": {},
   "outputs": [],
   "source": [
    "_tmp_seq = list(chunker(_tmp.sort_values(LV_NAME, ascending=False), 25))"
   ]
  },
  {
   "cell_type": "code",
   "execution_count": 25,
   "id": "dressed-enemy",
   "metadata": {},
   "outputs": [
    {
     "data": {
      "text/html": [
       "<div>\n",
       "<style scoped>\n",
       "    .dataframe tbody tr th:only-of-type {\n",
       "        vertical-align: middle;\n",
       "    }\n",
       "\n",
       "    .dataframe tbody tr th {\n",
       "        vertical-align: top;\n",
       "    }\n",
       "\n",
       "    .dataframe thead th {\n",
       "        text-align: right;\n",
       "    }\n",
       "</style>\n",
       "<table border=\"1\" class=\"dataframe\">\n",
       "  <thead>\n",
       "    <tr style=\"text-align: right;\">\n",
       "      <th></th>\n",
       "      <th></th>\n",
       "      <th>cell type</th>\n",
       "      <th>tissue</th>\n",
       "      <th>LV96</th>\n",
       "    </tr>\n",
       "    <tr>\n",
       "      <th>project</th>\n",
       "      <th>run</th>\n",
       "      <th></th>\n",
       "      <th></th>\n",
       "      <th></th>\n",
       "    </tr>\n",
       "  </thead>\n",
       "  <tbody>\n",
       "    <tr>\n",
       "      <th rowspan=\"25\" valign=\"top\">SRP060416</th>\n",
       "      <th>SRR2088322</th>\n",
       "      <td>tonsil Innate lymphoid cells</td>\n",
       "      <td>NaN</td>\n",
       "      <td>3.834958</td>\n",
       "    </tr>\n",
       "    <tr>\n",
       "      <th>SRR2088319</th>\n",
       "      <td>tonsil Innate lymphoid cells</td>\n",
       "      <td>NaN</td>\n",
       "      <td>2.438952</td>\n",
       "    </tr>\n",
       "    <tr>\n",
       "      <th>SRR2088342</th>\n",
       "      <td>tonsil Innate lymphoid cells</td>\n",
       "      <td>NaN</td>\n",
       "      <td>2.126921</td>\n",
       "    </tr>\n",
       "    <tr>\n",
       "      <th>SRR2088318</th>\n",
       "      <td>tonsil Innate lymphoid cells</td>\n",
       "      <td>NaN</td>\n",
       "      <td>2.105389</td>\n",
       "    </tr>\n",
       "    <tr>\n",
       "      <th>SRR2088330</th>\n",
       "      <td>tonsil Innate lymphoid cells</td>\n",
       "      <td>NaN</td>\n",
       "      <td>2.059954</td>\n",
       "    </tr>\n",
       "    <tr>\n",
       "      <th>SRR2088355</th>\n",
       "      <td>tonsil Innate lymphoid cells</td>\n",
       "      <td>NaN</td>\n",
       "      <td>2.023071</td>\n",
       "    </tr>\n",
       "    <tr>\n",
       "      <th>SRR2088348</th>\n",
       "      <td>tonsil Innate lymphoid cells</td>\n",
       "      <td>NaN</td>\n",
       "      <td>1.999237</td>\n",
       "    </tr>\n",
       "    <tr>\n",
       "      <th>SRR2088317</th>\n",
       "      <td>tonsil Innate lymphoid cells</td>\n",
       "      <td>NaN</td>\n",
       "      <td>1.885077</td>\n",
       "    </tr>\n",
       "    <tr>\n",
       "      <th>SRR2088352</th>\n",
       "      <td>tonsil Innate lymphoid cells</td>\n",
       "      <td>NaN</td>\n",
       "      <td>1.870101</td>\n",
       "    </tr>\n",
       "    <tr>\n",
       "      <th>SRR2088300</th>\n",
       "      <td>tonsil Innate lymphoid cells</td>\n",
       "      <td>NaN</td>\n",
       "      <td>1.854340</td>\n",
       "    </tr>\n",
       "    <tr>\n",
       "      <th>SRR2088343</th>\n",
       "      <td>tonsil Innate lymphoid cells</td>\n",
       "      <td>NaN</td>\n",
       "      <td>1.761903</td>\n",
       "    </tr>\n",
       "    <tr>\n",
       "      <th>SRR2088337</th>\n",
       "      <td>tonsil Innate lymphoid cells</td>\n",
       "      <td>NaN</td>\n",
       "      <td>1.635141</td>\n",
       "    </tr>\n",
       "    <tr>\n",
       "      <th>SRR2088314</th>\n",
       "      <td>tonsil Innate lymphoid cells</td>\n",
       "      <td>NaN</td>\n",
       "      <td>1.619554</td>\n",
       "    </tr>\n",
       "    <tr>\n",
       "      <th>SRR2088349</th>\n",
       "      <td>tonsil Innate lymphoid cells</td>\n",
       "      <td>NaN</td>\n",
       "      <td>1.575962</td>\n",
       "    </tr>\n",
       "    <tr>\n",
       "      <th>SRR2088353</th>\n",
       "      <td>tonsil Innate lymphoid cells</td>\n",
       "      <td>NaN</td>\n",
       "      <td>1.533474</td>\n",
       "    </tr>\n",
       "    <tr>\n",
       "      <th>SRR2088341</th>\n",
       "      <td>tonsil Innate lymphoid cells</td>\n",
       "      <td>NaN</td>\n",
       "      <td>1.468251</td>\n",
       "    </tr>\n",
       "    <tr>\n",
       "      <th>SRR2088303</th>\n",
       "      <td>tonsil Innate lymphoid cells</td>\n",
       "      <td>NaN</td>\n",
       "      <td>1.406369</td>\n",
       "    </tr>\n",
       "    <tr>\n",
       "      <th>SRR2088306</th>\n",
       "      <td>tonsil Innate lymphoid cells</td>\n",
       "      <td>NaN</td>\n",
       "      <td>1.346551</td>\n",
       "    </tr>\n",
       "    <tr>\n",
       "      <th>SRR2088321</th>\n",
       "      <td>tonsil Innate lymphoid cells</td>\n",
       "      <td>NaN</td>\n",
       "      <td>1.333721</td>\n",
       "    </tr>\n",
       "    <tr>\n",
       "      <th>SRR2088333</th>\n",
       "      <td>tonsil Innate lymphoid cells</td>\n",
       "      <td>NaN</td>\n",
       "      <td>1.287848</td>\n",
       "    </tr>\n",
       "    <tr>\n",
       "      <th>SRR2088294</th>\n",
       "      <td>tonsil Innate lymphoid cells</td>\n",
       "      <td>NaN</td>\n",
       "      <td>1.268954</td>\n",
       "    </tr>\n",
       "    <tr>\n",
       "      <th>SRR2088566</th>\n",
       "      <td>tonsil Innate lymphoid cells</td>\n",
       "      <td>NaN</td>\n",
       "      <td>1.233040</td>\n",
       "    </tr>\n",
       "    <tr>\n",
       "      <th>SRR2088328</th>\n",
       "      <td>tonsil Innate lymphoid cells</td>\n",
       "      <td>NaN</td>\n",
       "      <td>1.227889</td>\n",
       "    </tr>\n",
       "    <tr>\n",
       "      <th>SRR2088324</th>\n",
       "      <td>tonsil Innate lymphoid cells</td>\n",
       "      <td>NaN</td>\n",
       "      <td>1.225491</td>\n",
       "    </tr>\n",
       "    <tr>\n",
       "      <th>SRR2088340</th>\n",
       "      <td>tonsil Innate lymphoid cells</td>\n",
       "      <td>NaN</td>\n",
       "      <td>1.211957</td>\n",
       "    </tr>\n",
       "  </tbody>\n",
       "</table>\n",
       "</div>"
      ],
      "text/plain": [
       "                                         cell type tissue      LV96\n",
       "project   run                                                      \n",
       "SRP060416 SRR2088322  tonsil Innate lymphoid cells    NaN  3.834958\n",
       "          SRR2088319  tonsil Innate lymphoid cells    NaN  2.438952\n",
       "          SRR2088342  tonsil Innate lymphoid cells    NaN  2.126921\n",
       "          SRR2088318  tonsil Innate lymphoid cells    NaN  2.105389\n",
       "          SRR2088330  tonsil Innate lymphoid cells    NaN  2.059954\n",
       "          SRR2088355  tonsil Innate lymphoid cells    NaN  2.023071\n",
       "          SRR2088348  tonsil Innate lymphoid cells    NaN  1.999237\n",
       "          SRR2088317  tonsil Innate lymphoid cells    NaN  1.885077\n",
       "          SRR2088352  tonsil Innate lymphoid cells    NaN  1.870101\n",
       "          SRR2088300  tonsil Innate lymphoid cells    NaN  1.854340\n",
       "          SRR2088343  tonsil Innate lymphoid cells    NaN  1.761903\n",
       "          SRR2088337  tonsil Innate lymphoid cells    NaN  1.635141\n",
       "          SRR2088314  tonsil Innate lymphoid cells    NaN  1.619554\n",
       "          SRR2088349  tonsil Innate lymphoid cells    NaN  1.575962\n",
       "          SRR2088353  tonsil Innate lymphoid cells    NaN  1.533474\n",
       "          SRR2088341  tonsil Innate lymphoid cells    NaN  1.468251\n",
       "          SRR2088303  tonsil Innate lymphoid cells    NaN  1.406369\n",
       "          SRR2088306  tonsil Innate lymphoid cells    NaN  1.346551\n",
       "          SRR2088321  tonsil Innate lymphoid cells    NaN  1.333721\n",
       "          SRR2088333  tonsil Innate lymphoid cells    NaN  1.287848\n",
       "          SRR2088294  tonsil Innate lymphoid cells    NaN  1.268954\n",
       "          SRR2088566  tonsil Innate lymphoid cells    NaN  1.233040\n",
       "          SRR2088328  tonsil Innate lymphoid cells    NaN  1.227889\n",
       "          SRR2088324  tonsil Innate lymphoid cells    NaN  1.225491\n",
       "          SRR2088340  tonsil Innate lymphoid cells    NaN  1.211957"
      ]
     },
     "execution_count": 25,
     "metadata": {},
     "output_type": "execute_result"
    }
   ],
   "source": [
    "_tmp_seq[0]"
   ]
  },
  {
   "cell_type": "code",
   "execution_count": 26,
   "id": "grateful-cuisine",
   "metadata": {},
   "outputs": [],
   "source": [
    "# # what is there in these projects?\n",
    "# lv_data.loc[[\"SRP011422\"]].dropna(how=\"all\", axis=1).sort_values(\n",
    "#     LV_NAME, ascending=False\n",
    "# ).sort_values(LV_NAME, ascending=False).head(10)"
   ]
  },
  {
   "cell_type": "code",
   "execution_count": 27,
   "id": "stylish-network",
   "metadata": {},
   "outputs": [],
   "source": [
    "SELECTED_ATTRIBUTE = \"cell type\""
   ]
  },
  {
   "cell_type": "code",
   "execution_count": 28,
   "id": "turkish-valley",
   "metadata": {},
   "outputs": [],
   "source": [
    "# it has to be in the order desired for filling nans in the SELECTED_ATTRIBUTE\n",
    "SECOND_ATTRIBUTES = [\"tissue\"]"
   ]
  },
  {
   "cell_type": "markdown",
   "id": "victorian-bidding",
   "metadata": {},
   "source": [
    "## Get plot data"
   ]
  },
  {
   "cell_type": "code",
   "execution_count": 134,
   "id": "jewish-weekend",
   "metadata": {},
   "outputs": [],
   "source": [
    "plot_data = lv_data.loc[:, [SELECTED_ATTRIBUTE] + SECOND_ATTRIBUTES + [LV_NAME]]"
   ]
  },
  {
   "cell_type": "code",
   "execution_count": 135,
   "id": "genuine-hierarchy",
   "metadata": {},
   "outputs": [],
   "source": [
    "# if blank/nan, fill cell type column with tissue content\n",
    "_new_column = plot_data[[SELECTED_ATTRIBUTE] + SECOND_ATTRIBUTES].fillna(\n",
    "    method=\"backfill\", axis=1\n",
    ")[SELECTED_ATTRIBUTE]\n",
    "plot_data[SELECTED_ATTRIBUTE] = _new_column\n",
    "plot_data = plot_data.drop(columns=SECOND_ATTRIBUTES)\n",
    "plot_data = plot_data.fillna({SELECTED_ATTRIBUTE: \"NOT CATEGORIZED\"})\n",
    "# plot_data = plot_data.dropna(subset=[SELECTED_ATTRIBUTE])"
   ]
  },
  {
   "cell_type": "code",
   "execution_count": 136,
   "id": "light-smart",
   "metadata": {},
   "outputs": [],
   "source": [
    "plot_data = plot_data.sort_values(LV_NAME, ascending=False)"
   ]
  },
  {
   "cell_type": "code",
   "execution_count": 137,
   "id": "fitted-button",
   "metadata": {},
   "outputs": [
    {
     "data": {
      "text/html": [
       "<div>\n",
       "<style scoped>\n",
       "    .dataframe tbody tr th:only-of-type {\n",
       "        vertical-align: middle;\n",
       "    }\n",
       "\n",
       "    .dataframe tbody tr th {\n",
       "        vertical-align: top;\n",
       "    }\n",
       "\n",
       "    .dataframe thead th {\n",
       "        text-align: right;\n",
       "    }\n",
       "</style>\n",
       "<table border=\"1\" class=\"dataframe\">\n",
       "  <thead>\n",
       "    <tr style=\"text-align: right;\">\n",
       "      <th></th>\n",
       "      <th></th>\n",
       "      <th>cell type</th>\n",
       "      <th>LV96</th>\n",
       "    </tr>\n",
       "    <tr>\n",
       "      <th>project</th>\n",
       "      <th>run</th>\n",
       "      <th></th>\n",
       "      <th></th>\n",
       "    </tr>\n",
       "  </thead>\n",
       "  <tbody>\n",
       "    <tr>\n",
       "      <th rowspan=\"20\" valign=\"top\">SRP060416</th>\n",
       "      <th>SRR2088322</th>\n",
       "      <td>tonsil Innate lymphoid cells</td>\n",
       "      <td>3.834958</td>\n",
       "    </tr>\n",
       "    <tr>\n",
       "      <th>SRR2088319</th>\n",
       "      <td>tonsil Innate lymphoid cells</td>\n",
       "      <td>2.438952</td>\n",
       "    </tr>\n",
       "    <tr>\n",
       "      <th>SRR2088342</th>\n",
       "      <td>tonsil Innate lymphoid cells</td>\n",
       "      <td>2.126921</td>\n",
       "    </tr>\n",
       "    <tr>\n",
       "      <th>SRR2088318</th>\n",
       "      <td>tonsil Innate lymphoid cells</td>\n",
       "      <td>2.105389</td>\n",
       "    </tr>\n",
       "    <tr>\n",
       "      <th>SRR2088330</th>\n",
       "      <td>tonsil Innate lymphoid cells</td>\n",
       "      <td>2.059954</td>\n",
       "    </tr>\n",
       "    <tr>\n",
       "      <th>SRR2088355</th>\n",
       "      <td>tonsil Innate lymphoid cells</td>\n",
       "      <td>2.023071</td>\n",
       "    </tr>\n",
       "    <tr>\n",
       "      <th>SRR2088348</th>\n",
       "      <td>tonsil Innate lymphoid cells</td>\n",
       "      <td>1.999237</td>\n",
       "    </tr>\n",
       "    <tr>\n",
       "      <th>SRR2088317</th>\n",
       "      <td>tonsil Innate lymphoid cells</td>\n",
       "      <td>1.885077</td>\n",
       "    </tr>\n",
       "    <tr>\n",
       "      <th>SRR2088352</th>\n",
       "      <td>tonsil Innate lymphoid cells</td>\n",
       "      <td>1.870101</td>\n",
       "    </tr>\n",
       "    <tr>\n",
       "      <th>SRR2088300</th>\n",
       "      <td>tonsil Innate lymphoid cells</td>\n",
       "      <td>1.854340</td>\n",
       "    </tr>\n",
       "    <tr>\n",
       "      <th>SRR2088343</th>\n",
       "      <td>tonsil Innate lymphoid cells</td>\n",
       "      <td>1.761903</td>\n",
       "    </tr>\n",
       "    <tr>\n",
       "      <th>SRR2088337</th>\n",
       "      <td>tonsil Innate lymphoid cells</td>\n",
       "      <td>1.635141</td>\n",
       "    </tr>\n",
       "    <tr>\n",
       "      <th>SRR2088314</th>\n",
       "      <td>tonsil Innate lymphoid cells</td>\n",
       "      <td>1.619554</td>\n",
       "    </tr>\n",
       "    <tr>\n",
       "      <th>SRR2088349</th>\n",
       "      <td>tonsil Innate lymphoid cells</td>\n",
       "      <td>1.575962</td>\n",
       "    </tr>\n",
       "    <tr>\n",
       "      <th>SRR2088353</th>\n",
       "      <td>tonsil Innate lymphoid cells</td>\n",
       "      <td>1.533474</td>\n",
       "    </tr>\n",
       "    <tr>\n",
       "      <th>SRR2088341</th>\n",
       "      <td>tonsil Innate lymphoid cells</td>\n",
       "      <td>1.468251</td>\n",
       "    </tr>\n",
       "    <tr>\n",
       "      <th>SRR2088303</th>\n",
       "      <td>tonsil Innate lymphoid cells</td>\n",
       "      <td>1.406369</td>\n",
       "    </tr>\n",
       "    <tr>\n",
       "      <th>SRR2088306</th>\n",
       "      <td>tonsil Innate lymphoid cells</td>\n",
       "      <td>1.346551</td>\n",
       "    </tr>\n",
       "    <tr>\n",
       "      <th>SRR2088321</th>\n",
       "      <td>tonsil Innate lymphoid cells</td>\n",
       "      <td>1.333721</td>\n",
       "    </tr>\n",
       "    <tr>\n",
       "      <th>SRR2088333</th>\n",
       "      <td>tonsil Innate lymphoid cells</td>\n",
       "      <td>1.287848</td>\n",
       "    </tr>\n",
       "  </tbody>\n",
       "</table>\n",
       "</div>"
      ],
      "text/plain": [
       "                                         cell type      LV96\n",
       "project   run                                               \n",
       "SRP060416 SRR2088322  tonsil Innate lymphoid cells  3.834958\n",
       "          SRR2088319  tonsil Innate lymphoid cells  2.438952\n",
       "          SRR2088342  tonsil Innate lymphoid cells  2.126921\n",
       "          SRR2088318  tonsil Innate lymphoid cells  2.105389\n",
       "          SRR2088330  tonsil Innate lymphoid cells  2.059954\n",
       "          SRR2088355  tonsil Innate lymphoid cells  2.023071\n",
       "          SRR2088348  tonsil Innate lymphoid cells  1.999237\n",
       "          SRR2088317  tonsil Innate lymphoid cells  1.885077\n",
       "          SRR2088352  tonsil Innate lymphoid cells  1.870101\n",
       "          SRR2088300  tonsil Innate lymphoid cells  1.854340\n",
       "          SRR2088343  tonsil Innate lymphoid cells  1.761903\n",
       "          SRR2088337  tonsil Innate lymphoid cells  1.635141\n",
       "          SRR2088314  tonsil Innate lymphoid cells  1.619554\n",
       "          SRR2088349  tonsil Innate lymphoid cells  1.575962\n",
       "          SRR2088353  tonsil Innate lymphoid cells  1.533474\n",
       "          SRR2088341  tonsil Innate lymphoid cells  1.468251\n",
       "          SRR2088303  tonsil Innate lymphoid cells  1.406369\n",
       "          SRR2088306  tonsil Innate lymphoid cells  1.346551\n",
       "          SRR2088321  tonsil Innate lymphoid cells  1.333721\n",
       "          SRR2088333  tonsil Innate lymphoid cells  1.287848"
      ]
     },
     "execution_count": 137,
     "metadata": {},
     "output_type": "execute_result"
    }
   ],
   "source": [
    "plot_data.head(20)"
   ]
  },
  {
   "cell_type": "markdown",
   "id": "casual-prerequisite",
   "metadata": {},
   "source": [
    "## Customize x-axis values"
   ]
  },
  {
   "cell_type": "markdown",
   "id": "traditional-psychology",
   "metadata": {},
   "source": [
    "When cell type values are not very clear, customize their names by looking at their specific studies to know exactly what the authors meant."
   ]
  },
  {
   "cell_type": "code",
   "execution_count": 138,
   "id": "official-capacity",
   "metadata": {},
   "outputs": [],
   "source": [
    "final_plot_data = plot_data.replace(\n",
    "    {\n",
    "        SELECTED_ATTRIBUTE: {\n",
    "            # \"human bone marrow sample\": \"bone marrow\",\n",
    "            \"whole blood\": \"Whole blood\",\n",
    "            # \"peripheral blood\": \"Peripheral blood\",\n",
    "            # \"peripheral whole blood\": \"Peripheral blood\",\n",
    "            # \"breast cancer\": \"Breast cancer\",\n",
    "            # \"breast cancer cell line\": \"Breast cancer\",\n",
    "            # SRP057196\n",
    "            # \"fetal_replicating\": \"Fetal neurons (replicating)\",\n",
    "            # \"fetal_quiescent\": \"Fetal neurons (quiescent)\",\n",
    "            # \"normal skin\": \"Skin\",\n",
    "            # \"liver\": \"Liver\",\n",
    "            # \"Human Skeletal Muscle Myoblasts (HSMM)\": \"Skeletal muscle myoblasts\",\n",
    "            # \"astrocytes\": \"Astrocytes\",\n",
    "            \"mixture of U87 human glioma cells and MCF10a human breast cancer cells\": \"Glioma + MCF10 breast cancer cells\",\n",
    "            \"mixture of U87 human glioma cells and WI-38 human lung fibroblast cells\": \"Glioma + WI-38 lung fibroblast cells\",\n",
    "            # \"functional hepatocytes generated by lineage reprogramming\": \"Hepatocytes\",\n",
    "            # \"human adipose-derived stem cells\": \"Adipose-derived stem cells\",\n",
    "            # \"adipose\": \"Adipose\",\n",
    "            # \"embryonic stem cells\": \"Embryonic stem cells\",\n",
    "            # \"primary keratinocytes\": \"Primary keratinocytes\",\n",
    "            # \"fetal liver\": \"Fetal liver\",\n",
    "            # \"in vitro differentiated erythroid cells\": \"Erythroid cells\",\n",
    "            # \"WAT\": \"White adipose tissue\",\n",
    "            # \"BAT\": \"Brown adipose tissue\",\n",
    "            # \"Uninvolved Breast Tissue Adjacent to ER+ Primary Tumor\": \"Breast tissue adjacent to ER+ tumor\",\n",
    "            # \"ovarian granulosa cells\": \"Ovarian granulosa cells\",\n",
    "        }\n",
    "    }\n",
    ")"
   ]
  },
  {
   "cell_type": "code",
   "execution_count": 139,
   "id": "05b40336-2b83-4724-8c35-28444ef100fe",
   "metadata": {},
   "outputs": [],
   "source": [
    "# sorte index to avoid PerformanceWarning from pandas\n",
    "final_plot_data = final_plot_data.sort_index()"
   ]
  },
  {
   "cell_type": "code",
   "execution_count": 140,
   "id": "68ea83c3-1e6b-4fb3-9ecf-19ef285d3233",
   "metadata": {},
   "outputs": [],
   "source": [
    "_srp_code = \"SRP060416\"\n",
    "_tmp = final_plot_data.loc[(_srp_code,)].apply(\n",
    "    lambda x: x[SELECTED_ATTRIBUTE]\n",
    "    + f\" ({lv_data.loc[(_srp_code, x.name), 'facs gating']})\",\n",
    "    axis=1,\n",
    ")\n",
    "final_plot_data.loc[(_srp_code, _tmp.index), SELECTED_ATTRIBUTE] = _tmp.values"
   ]
  },
  {
   "cell_type": "code",
   "execution_count": 141,
   "id": "b7eaccb9-246d-4385-bcd3-1c0ebbc641e9",
   "metadata": {},
   "outputs": [],
   "source": [
    "# _srp_code = \"SRP059172\"\n",
    "# _tmp = final_plot_data.loc[(_srp_code,)].apply(\n",
    "#     lambda x: x[SELECTED_ATTRIBUTE]\n",
    "#     + f\" ({lv_data.loc[(_srp_code, x.name), 'group']})\",\n",
    "#     axis=1,\n",
    "# )\n",
    "# final_plot_data.loc[(_srp_code, _tmp.index), SELECTED_ATTRIBUTE] = _tmp.values"
   ]
  },
  {
   "cell_type": "code",
   "execution_count": 142,
   "id": "1e8d76ec-18b4-4967-a20a-9ddadefdb266",
   "metadata": {},
   "outputs": [],
   "source": [
    "# _srp_code = \"SRP062966\"\n",
    "# _tmp = final_plot_data.loc[(_srp_code,)].apply(\n",
    "#     lambda x: x[SELECTED_ATTRIBUTE]\n",
    "#     + f\" ({lv_data.loc[(_srp_code, x.name), 'disease status']})\",\n",
    "#     axis=1,\n",
    "# )\n",
    "# final_plot_data.loc[(_srp_code, _tmp.index), SELECTED_ATTRIBUTE] = _tmp.values"
   ]
  },
  {
   "cell_type": "code",
   "execution_count": 143,
   "id": "e256f567-2e95-4ea4-a09f-0d66c4c43908",
   "metadata": {},
   "outputs": [],
   "source": [
    "_srp_code = \"SRP064464\"\n",
    "_tmp = final_plot_data.loc[(_srp_code,)].apply(\n",
    "    lambda x: f\"Pancreatic islets\"\n",
    "    + f\" ({lv_data.loc[(_srp_code, x.name), 'assigned cell type']})\",\n",
    "    axis=1,\n",
    ")\n",
    "final_plot_data.loc[(_srp_code, _tmp.index), SELECTED_ATTRIBUTE] = _tmp.values"
   ]
  },
  {
   "cell_type": "code",
   "execution_count": 144,
   "id": "1e6908a4-2052-4039-b5c2-1cf6b88f9b3a",
   "metadata": {},
   "outputs": [],
   "source": [
    "# _srp_code = \"SRP029990\" # these cases seem to be the same in SRP032775 and are just a few\n",
    "# final_plot_data = final_plot_data.drop((_srp_code,))"
   ]
  },
  {
   "cell_type": "code",
   "execution_count": 145,
   "id": "9c76442e-70bb-4139-80c6-2564a63febaf",
   "metadata": {},
   "outputs": [],
   "source": [
    "# _srp_code = \"SRP032775\" # this one is also about Maralia\n",
    "\n",
    "# main_attr = \"time point\"\n",
    "# second_attrs = [\"time-point\"]\n",
    "\n",
    "# def _apply_func(x):\n",
    "#     return \"Whole blood\" + f\" ({x[main_attr].lower()}, Malaria)\"\n",
    "\n",
    "# _lv_data = lv_data.loc[(_srp_code,), [main_attr] + second_attrs + [LV_NAME]]\n",
    "# _new_column = _lv_data[[main_attr] + second_attrs].fillna(\n",
    "#     method=\"backfill\", axis=1\n",
    "# )[main_attr]\n",
    "# _lv_data[main_attr] = _new_column\n",
    "# # _lv_data = _lv_data.drop(columns=second_attrs)\n",
    "\n",
    "# _tmp = _lv_data.apply(\n",
    "#     _apply_func,\n",
    "#     axis=1,\n",
    "# )\n",
    "# final_plot_data.loc[(_srp_code, _tmp.index), SELECTED_ATTRIBUTE] = _tmp.values"
   ]
  },
  {
   "cell_type": "code",
   "execution_count": 146,
   "id": "431cb980-d784-4060-b648-b2465313aca8",
   "metadata": {},
   "outputs": [],
   "source": [
    "# _srp_code = \"SRP059039\"\n",
    "# _tmp = final_plot_data.loc[(_srp_code,)].apply(\n",
    "#     lambda x: x[SELECTED_ATTRIBUTE]\n",
    "#     + f\" ({lv_data.loc[(_srp_code, x.name), 'group']} cases)\",\n",
    "#     axis=1,\n",
    "# )\n",
    "# final_plot_data.loc[(_srp_code, _tmp.index), SELECTED_ATTRIBUTE] = _tmp.values"
   ]
  },
  {
   "cell_type": "code",
   "execution_count": 147,
   "id": "6aed09b2-ff65-4bf4-9533-db713cc7a5ee",
   "metadata": {},
   "outputs": [],
   "source": [
    "# _srp_code = \"SRP056443\"\n",
    "# _tmp = final_plot_data.loc[(_srp_code,)].apply(\n",
    "#     lambda x: x[SELECTED_ATTRIBUTE]\n",
    "#     + f\" ({lv_data.loc[(_srp_code, x.name), 'time']})\",\n",
    "#     axis=1,\n",
    "# )\n",
    "# final_plot_data.loc[(_srp_code, _tmp.index), SELECTED_ATTRIBUTE] = _tmp.values"
   ]
  },
  {
   "cell_type": "code",
   "execution_count": 148,
   "id": "f38d79e2-7b43-40ae-8dd0-0795a0b0a822",
   "metadata": {},
   "outputs": [],
   "source": [
    "# _srp_code = \"SRP056840\"\n",
    "# _tmp = final_plot_data.loc[(_srp_code,)].apply(\n",
    "#     lambda x: \"Whole blood\"\n",
    "#     + f\" ({lv_data.loc[(_srp_code, x.name), 'sirs outcomes']})\",\n",
    "#     axis=1,\n",
    "# )\n",
    "# final_plot_data.loc[(_srp_code, _tmp.index), SELECTED_ATTRIBUTE] = _tmp.values"
   ]
  },
  {
   "cell_type": "code",
   "execution_count": 149,
   "id": "ad39676c-0082-4cf6-a178-73bf3f39c46b",
   "metadata": {},
   "outputs": [],
   "source": [
    "# _srp_code = \"SRP050000\"\n",
    "# _tmp = final_plot_data.loc[(_srp_code,)].apply(\n",
    "#     lambda x: \"Peripheral blood (SIRS or sepsis)\",\n",
    "#     # + f\" ({lv_data.loc[(_srp_code, x.name), 'sirs outcomes']})\",\n",
    "#     axis=1,\n",
    "# )\n",
    "# final_plot_data.loc[(_srp_code, _tmp.index), SELECTED_ATTRIBUTE] = _tmp.values"
   ]
  },
  {
   "cell_type": "code",
   "execution_count": 150,
   "id": "a30d01b7-e63a-41d4-841a-a630cb69dd94",
   "metadata": {},
   "outputs": [],
   "source": [
    "# _srp_code = \"SRP045500\"\n",
    "# _tmp = lv_data.loc[(_srp_code,)].apply(\n",
    "#     lambda x: x[\"celltype\"],\n",
    "#     # + f\" ({lv_data.loc[(_srp_code, x.name), 'sirs outcomes']})\",\n",
    "#     axis=1,\n",
    "# )\n",
    "# final_plot_data.loc[(_srp_code, _tmp.index), SELECTED_ATTRIBUTE] = _tmp.values"
   ]
  },
  {
   "cell_type": "code",
   "execution_count": 151,
   "id": "ba83bfbc-c10e-49b9-aeb4-569bdbb02cc8",
   "metadata": {},
   "outputs": [
    {
     "name": "stderr",
     "output_type": "stream",
     "text": [
      "/tmp/ipykernel_917/3922095706.py:2: PerformanceWarning: indexing past lexsort depth may impact performance.\n",
      "  _tmp = lv_data.loc[(_srp_code,)].apply(\n"
     ]
    }
   ],
   "source": [
    "_srp_code = \"SRP057196\"\n",
    "_tmp = lv_data.loc[(_srp_code,)].apply(\n",
    "    lambda x: x[\"tissue\"]\n",
    "    + f\" ({lv_data.loc[(_srp_code, x.name), 'cell type']})\",\n",
    "    axis=1,\n",
    ")\n",
    "final_plot_data.loc[(_srp_code, _tmp.index), SELECTED_ATTRIBUTE] = _tmp.values"
   ]
  },
  {
   "cell_type": "code",
   "execution_count": 152,
   "id": "4f839d92-c4b2-447f-8f44-71820c4cdbbf",
   "metadata": {},
   "outputs": [],
   "source": [
    "# _srp_code = \"SRP058773\"\n",
    "# _tmp = final_plot_data.loc[(_srp_code,)].apply(\n",
    "#     lambda x: f\"Fibroblasts\",\n",
    "#     axis=1,\n",
    "# )\n",
    "# final_plot_data.loc[(_srp_code, _tmp.index), SELECTED_ATTRIBUTE] = _tmp.values"
   ]
  },
  {
   "cell_type": "code",
   "execution_count": 153,
   "id": "d6fa04ca-ab0d-4a1b-94b9-80f684425b24",
   "metadata": {},
   "outputs": [],
   "source": [
    "_srp_code = \"SRP050499\"\n",
    "_tmp = final_plot_data.loc[(_srp_code,)].apply(\n",
    "    lambda x: f\"Primordial germ cells (PGC)\",\n",
    "    axis=1,\n",
    ")\n",
    "final_plot_data.loc[(_srp_code, _tmp.index), SELECTED_ATTRIBUTE] = _tmp.values"
   ]
  },
  {
   "cell_type": "code",
   "execution_count": 154,
   "id": "9a85cdb9-85d6-414b-aecf-56804f529bd3",
   "metadata": {},
   "outputs": [],
   "source": [
    "# _srp_code = \"SRP027015\"\n",
    "# _tmp = final_plot_data.loc[(_srp_code,)].apply(\n",
    "#     lambda x: \"Peripheral blood (MM.1S)\",\n",
    "#     # + f\" ({lv_data.loc[(_srp_code, x.name), 'facs gating']})\",\n",
    "#     axis=1,\n",
    "# )\n",
    "# final_plot_data.loc[(_srp_code, _tmp.index), SELECTED_ATTRIBUTE] = _tmp.values"
   ]
  },
  {
   "cell_type": "code",
   "execution_count": 155,
   "id": "592fb6fa-5540-4202-bda9-0fb993c27532",
   "metadata": {},
   "outputs": [],
   "source": [
    "# _srp_code = \"SRP061329\"\n",
    "# _tmp = final_plot_data.loc[(_srp_code,)].apply(\n",
    "#     lambda x: \"Peripheral blood\"\n",
    "#     + f\" ({lv_data.loc[(_srp_code, x.name), 'cell line']})\",\n",
    "#     axis=1,\n",
    "# )\n",
    "# final_plot_data.loc[(_srp_code, _tmp.index), SELECTED_ATTRIBUTE] = _tmp.values"
   ]
  },
  {
   "cell_type": "code",
   "execution_count": 156,
   "id": "371406dd-7a18-4a4c-91de-4c84e2a3d900",
   "metadata": {},
   "outputs": [],
   "source": [
    "# _srp_code = \"SRP018838\"\n",
    "# _tmp = final_plot_data.loc[(_srp_code,)].apply(\n",
    "#     lambda x: \"Blood\"\n",
    "#     + f\" ({lv_data.loc[(_srp_code, x.name), 'cell line']})\",\n",
    "#     axis=1,\n",
    "# )\n",
    "# final_plot_data.loc[(_srp_code, _tmp.index), SELECTED_ATTRIBUTE] = _tmp.values"
   ]
  },
  {
   "cell_type": "code",
   "execution_count": 157,
   "id": "dfe4102c-90ea-4e07-b83d-6775d697ba29",
   "metadata": {},
   "outputs": [],
   "source": [
    "_srp_code = \"SRP056049\"\n",
    "_tmp = final_plot_data.loc[(_srp_code,)].apply(\n",
    "    lambda x: \"CCR6+, CD4+ T\"\n",
    "    + f\" ({lv_data.loc[(_srp_code, x.name), 'diagnosis']})\",\n",
    "    axis=1,\n",
    ")\n",
    "final_plot_data.loc[(_srp_code, _tmp.index), SELECTED_ATTRIBUTE] = _tmp.values"
   ]
  },
  {
   "cell_type": "code",
   "execution_count": 158,
   "id": "6de614f4-f5c0-485a-9bc1-829850e9e944",
   "metadata": {},
   "outputs": [],
   "source": [
    "# _srp_code = \"SRP018853\"\n",
    "# _tmp = final_plot_data.loc[(_srp_code,)].apply(\n",
    "#     lambda x: \"CD4+ T\"\n",
    "#     + f\" ({lv_data.loc[(_srp_code, x.name), 'status']})\",\n",
    "#     axis=1,\n",
    "# )\n",
    "# final_plot_data.loc[(_srp_code, _tmp.index), SELECTED_ATTRIBUTE] = _tmp.values"
   ]
  },
  {
   "cell_type": "code",
   "execution_count": 159,
   "id": "entire-cradle",
   "metadata": {},
   "outputs": [],
   "source": [
    "# # take the top samples only\n",
    "# final_plot_data = final_plot_data.sort_values(LV_NAME, ascending=False)[:N_TOP_SAMPLES]"
   ]
  },
  {
   "cell_type": "markdown",
   "id": "italic-steel",
   "metadata": {},
   "source": [
    "## Threshold LV values"
   ]
  },
  {
   "cell_type": "code",
   "execution_count": 160,
   "id": "southern-offense",
   "metadata": {},
   "outputs": [],
   "source": [
    "if LV_AXIS_THRESHOLD is not None:\n",
    "    final_plot_data.loc[\n",
    "        final_plot_data[LV_NAME] > LV_AXIS_THRESHOLD, LV_NAME\n",
    "    ] = LV_AXIS_THRESHOLD"
   ]
  },
  {
   "cell_type": "markdown",
   "id": "still-pitch",
   "metadata": {},
   "source": [
    "## Delete samples with no tissue/cell type information"
   ]
  },
  {
   "cell_type": "code",
   "execution_count": 161,
   "id": "varying-pioneer",
   "metadata": {},
   "outputs": [],
   "source": [
    "# final_plot_data = final_plot_data[\n",
    "#     final_plot_data[SELECTED_ATTRIBUTE] != \"NOT CATEGORIZED\"\n",
    "# ]"
   ]
  },
  {
   "cell_type": "markdown",
   "id": "comparable-modem",
   "metadata": {},
   "source": [
    "## Set x-axis order"
   ]
  },
  {
   "cell_type": "code",
   "execution_count": 162,
   "id": "golden-bridge",
   "metadata": {},
   "outputs": [],
   "source": [
    "attr_order = (\n",
    "    final_plot_data.groupby(SELECTED_ATTRIBUTE)\n",
    "    .max()\n",
    "    .sort_values(LV_NAME, ascending=False)\n",
    "    .index[:N_TOP_ATTRS]\n",
    "    .tolist()\n",
    ")"
   ]
  },
  {
   "cell_type": "code",
   "execution_count": 163,
   "id": "expanded-enlargement",
   "metadata": {},
   "outputs": [
    {
     "data": {
      "text/plain": [
       "15"
      ]
     },
     "execution_count": 163,
     "metadata": {},
     "output_type": "execute_result"
    }
   ],
   "source": [
    "len(attr_order)"
   ]
  },
  {
   "cell_type": "code",
   "execution_count": 164,
   "id": "collectible-setup",
   "metadata": {},
   "outputs": [
    {
     "data": {
      "text/plain": [
       "['tonsil Innate lymphoid cells (ILC2)',\n",
       " 'tonsil Innate lymphoid cells (ILC1)',\n",
       " 'tonsil Innate lymphoid cells (ILC3)',\n",
       " 'CCR6+, CD4+ T (Multiple Sclerosis)',\n",
       " 'tonsil Innate lymphoid cells (NK)']"
      ]
     },
     "execution_count": 164,
     "metadata": {},
     "output_type": "execute_result"
    }
   ],
   "source": [
    "attr_order[:5]"
   ]
  },
  {
   "cell_type": "markdown",
   "id": "patent-colors",
   "metadata": {},
   "source": [
    "## Plot"
   ]
  },
  {
   "cell_type": "code",
   "execution_count": 165,
   "id": "educated-arthritis",
   "metadata": {},
   "outputs": [
    {
     "data": {
      "image/png": "[encoded data removed]",
      "text/plain": [
       "<Figure size 1250x500 with 1 Axes>"
      ]
     },
     "metadata": {},
     "output_type": "display_data"
    }
   ],
   "source": [
    "with sns.plotting_context(\"paper\", font_scale=2.5), sns.axes_style(\"whitegrid\"):\n",
    "    g = sns.catplot(\n",
    "        data=final_plot_data,\n",
    "        y=LV_NAME,\n",
    "        x=SELECTED_ATTRIBUTE,\n",
    "        order=attr_order,\n",
    "        kind=\"strip\",\n",
    "        height=5,\n",
    "        aspect=2.5,\n",
    "    )\n",
    "    plt.xticks(rotation=45, horizontalalignment=\"right\")\n",
    "    plt.xlabel(\"\")\n",
    "\n",
    "    # plt.savefig(\n",
    "    #     OUTPUT_CELL_TYPE_FILEPATH,\n",
    "    #     bbox_inches=\"tight\",\n",
    "    #     facecolor=\"white\",\n",
    "    # )"
   ]
  },
  {
   "cell_type": "code",
   "execution_count": 166,
   "id": "634becb0-6ff3-44ae-8804-434bf55b5b1f",
   "metadata": {},
   "outputs": [],
   "source": [
    "# with sns.plotting_context(\"paper\", font_scale=2.5), sns.axes_style(\"whitegrid\"):\n",
    "#     g = sns.catplot(\n",
    "#         data=final_plot_data,\n",
    "#         y=LV_NAME,\n",
    "#         x=SELECTED_ATTRIBUTE,\n",
    "#         order=attr_order,\n",
    "#         kind=\"box\",\n",
    "#         height=5,\n",
    "#         aspect=2.5,\n",
    "#     )\n",
    "#     plt.xticks(rotation=45, horizontalalignment=\"right\")\n",
    "#     plt.xlabel(\"\")\n",
    "\n",
    "#     # plt.savefig(\n",
    "#     #     OUTPUT_CELL_TYPE_FILEPATH,\n",
    "#     #     bbox_inches=\"tight\",\n",
    "#     #     facecolor=\"white\",\n",
    "#     # )"
   ]
  },
  {
   "cell_type": "markdown",
   "id": "theoretical-raleigh",
   "metadata": {},
   "source": [
    "# Debug"
   ]
  },
  {
   "cell_type": "code",
   "execution_count": 59,
   "id": "suspended-tiffany",
   "metadata": {},
   "outputs": [
    {
     "data": {
      "text/html": [
       "<div>\n",
       "<style scoped>\n",
       "    .dataframe tbody tr th:only-of-type {\n",
       "        vertical-align: middle;\n",
       "    }\n",
       "\n",
       "    .dataframe tbody tr th {\n",
       "        vertical-align: top;\n",
       "    }\n",
       "\n",
       "    .dataframe thead th {\n",
       "        text-align: right;\n",
       "    }\n",
       "</style>\n",
       "<table border=\"1\" class=\"dataframe\">\n",
       "  <thead>\n",
       "    <tr style=\"text-align: right;\">\n",
       "      <th></th>\n",
       "      <th></th>\n",
       "      <th>cell type</th>\n",
       "      <th>LV96</th>\n",
       "    </tr>\n",
       "    <tr>\n",
       "      <th>project</th>\n",
       "      <th>run</th>\n",
       "      <th></th>\n",
       "      <th></th>\n",
       "    </tr>\n",
       "  </thead>\n",
       "  <tbody>\n",
       "    <tr>\n",
       "      <th rowspan=\"4\" valign=\"top\">SRP056049</th>\n",
       "      <th>SRR1909145</th>\n",
       "      <td>NOT CATEGORIZED</td>\n",
       "      <td>0.409300</td>\n",
       "    </tr>\n",
       "    <tr>\n",
       "      <th>SRR1909144</th>\n",
       "      <td>NOT CATEGORIZED</td>\n",
       "      <td>0.395039</td>\n",
       "    </tr>\n",
       "    <tr>\n",
       "      <th>SRR1909143</th>\n",
       "      <td>NOT CATEGORIZED</td>\n",
       "      <td>0.266785</td>\n",
       "    </tr>\n",
       "    <tr>\n",
       "      <th>SRR1909141</th>\n",
       "      <td>NOT CATEGORIZED</td>\n",
       "      <td>0.207608</td>\n",
       "    </tr>\n",
       "    <tr>\n",
       "      <th>SRP018853</th>\n",
       "      <th>SRR765025</th>\n",
       "      <td>NOT CATEGORIZED</td>\n",
       "      <td>0.150161</td>\n",
       "    </tr>\n",
       "    <tr>\n",
       "      <th rowspan=\"3\" valign=\"top\">SRP056049</th>\n",
       "      <th>SRR1909133</th>\n",
       "      <td>NOT CATEGORIZED</td>\n",
       "      <td>0.111458</td>\n",
       "    </tr>\n",
       "    <tr>\n",
       "      <th>SRR1909132</th>\n",
       "      <td>NOT CATEGORIZED</td>\n",
       "      <td>0.104506</td>\n",
       "    </tr>\n",
       "    <tr>\n",
       "      <th>SRR1909142</th>\n",
       "      <td>NOT CATEGORIZED</td>\n",
       "      <td>0.094094</td>\n",
       "    </tr>\n",
       "    <tr>\n",
       "      <th>SRP018853</th>\n",
       "      <th>SRR764986</th>\n",
       "      <td>NOT CATEGORIZED</td>\n",
       "      <td>0.090135</td>\n",
       "    </tr>\n",
       "    <tr>\n",
       "      <th rowspan=\"6\" valign=\"top\">SRP056049</th>\n",
       "      <th>SRR1909130</th>\n",
       "      <td>NOT CATEGORIZED</td>\n",
       "      <td>0.067683</td>\n",
       "    </tr>\n",
       "    <tr>\n",
       "      <th>SRR1909136</th>\n",
       "      <td>NOT CATEGORIZED</td>\n",
       "      <td>0.067313</td>\n",
       "    </tr>\n",
       "    <tr>\n",
       "      <th>SRR1909135</th>\n",
       "      <td>NOT CATEGORIZED</td>\n",
       "      <td>0.065616</td>\n",
       "    </tr>\n",
       "    <tr>\n",
       "      <th>SRR1909139</th>\n",
       "      <td>NOT CATEGORIZED</td>\n",
       "      <td>0.055186</td>\n",
       "    </tr>\n",
       "    <tr>\n",
       "      <th>SRR1909134</th>\n",
       "      <td>NOT CATEGORIZED</td>\n",
       "      <td>0.039358</td>\n",
       "    </tr>\n",
       "    <tr>\n",
       "      <th>SRR1909140</th>\n",
       "      <td>NOT CATEGORIZED</td>\n",
       "      <td>0.035083</td>\n",
       "    </tr>\n",
       "    <tr>\n",
       "      <th rowspan=\"2\" valign=\"top\">SRP018853</th>\n",
       "      <th>SRR765046</th>\n",
       "      <td>NOT CATEGORIZED</td>\n",
       "      <td>0.034707</td>\n",
       "    </tr>\n",
       "    <tr>\n",
       "      <th>SRR764980</th>\n",
       "      <td>NOT CATEGORIZED</td>\n",
       "      <td>0.030809</td>\n",
       "    </tr>\n",
       "    <tr>\n",
       "      <th>SRP014428</th>\n",
       "      <th>SRR522115</th>\n",
       "      <td>NOT CATEGORIZED</td>\n",
       "      <td>0.026664</td>\n",
       "    </tr>\n",
       "    <tr>\n",
       "      <th rowspan=\"2\" valign=\"top\">SRP056049</th>\n",
       "      <th>SRR1909138</th>\n",
       "      <td>NOT CATEGORIZED</td>\n",
       "      <td>0.024884</td>\n",
       "    </tr>\n",
       "    <tr>\n",
       "      <th>SRR1909131</th>\n",
       "      <td>NOT CATEGORIZED</td>\n",
       "      <td>0.024553</td>\n",
       "    </tr>\n",
       "  </tbody>\n",
       "</table>\n",
       "</div>"
      ],
      "text/plain": [
       "                            cell type      LV96\n",
       "project   run                                  \n",
       "SRP056049 SRR1909145  NOT CATEGORIZED  0.409300\n",
       "          SRR1909144  NOT CATEGORIZED  0.395039\n",
       "          SRR1909143  NOT CATEGORIZED  0.266785\n",
       "          SRR1909141  NOT CATEGORIZED  0.207608\n",
       "SRP018853 SRR765025   NOT CATEGORIZED  0.150161\n",
       "SRP056049 SRR1909133  NOT CATEGORIZED  0.111458\n",
       "          SRR1909132  NOT CATEGORIZED  0.104506\n",
       "          SRR1909142  NOT CATEGORIZED  0.094094\n",
       "SRP018853 SRR764986   NOT CATEGORIZED  0.090135\n",
       "SRP056049 SRR1909130  NOT CATEGORIZED  0.067683\n",
       "          SRR1909136  NOT CATEGORIZED  0.067313\n",
       "          SRR1909135  NOT CATEGORIZED  0.065616\n",
       "          SRR1909139  NOT CATEGORIZED  0.055186\n",
       "          SRR1909134  NOT CATEGORIZED  0.039358\n",
       "          SRR1909140  NOT CATEGORIZED  0.035083\n",
       "SRP018853 SRR765046   NOT CATEGORIZED  0.034707\n",
       "          SRR764980   NOT CATEGORIZED  0.030809\n",
       "SRP014428 SRR522115   NOT CATEGORIZED  0.026664\n",
       "SRP056049 SRR1909138  NOT CATEGORIZED  0.024884\n",
       "          SRR1909131  NOT CATEGORIZED  0.024553"
      ]
     },
     "metadata": {},
     "output_type": "display_data"
    }
   ],
   "source": [
    "with pd.option_context(\n",
    "    \"display.max_rows\", None, \"display.max_columns\", None, \"display.max_colwidth\", None\n",
    "):\n",
    "    _tmp = final_plot_data[final_plot_data[SELECTED_ATTRIBUTE].str.contains(\"^NOT CATEGORIZED$\")].sort_values(LV_NAME, ascending=False)\n",
    "    display(_tmp.head(20))"
   ]
  },
  {
   "cell_type": "code",
   "execution_count": 133,
   "id": "36a58987-df7e-49d0-ada6-59cbca368a5d",
   "metadata": {},
   "outputs": [
    {
     "data": {
      "text/html": [
       "<div>\n",
       "<style scoped>\n",
       "    .dataframe tbody tr th:only-of-type {\n",
       "        vertical-align: middle;\n",
       "    }\n",
       "\n",
       "    .dataframe tbody tr th {\n",
       "        vertical-align: top;\n",
       "    }\n",
       "\n",
       "    .dataframe thead th {\n",
       "        text-align: right;\n",
       "    }\n",
       "</style>\n",
       "<table border=\"1\" class=\"dataframe\">\n",
       "  <thead>\n",
       "    <tr style=\"text-align: right;\">\n",
       "      <th></th>\n",
       "      <th></th>\n",
       "      <th>diagnosis</th>\n",
       "      <th>cell population</th>\n",
       "      <th>LV96</th>\n",
       "    </tr>\n",
       "    <tr>\n",
       "      <th>project</th>\n",
       "      <th>run</th>\n",
       "      <th></th>\n",
       "      <th></th>\n",
       "      <th></th>\n",
       "    </tr>\n",
       "  </thead>\n",
       "  <tbody>\n",
       "    <tr>\n",
       "      <th rowspan=\"16\" valign=\"top\">SRP056049</th>\n",
       "      <th>SRR1909145</th>\n",
       "      <td>Multiple Sclerosis</td>\n",
       "      <td>CCR6+, CD4+ T cells from HLA-DR4+ MS patient, ...</td>\n",
       "      <td>0.409300</td>\n",
       "    </tr>\n",
       "    <tr>\n",
       "      <th>SRR1909144</th>\n",
       "      <td>Multiple Sclerosis</td>\n",
       "      <td>CCR6+, CD4+ T cells from HLA-DR4+ MS patient, ...</td>\n",
       "      <td>0.395039</td>\n",
       "    </tr>\n",
       "    <tr>\n",
       "      <th>SRR1909143</th>\n",
       "      <td>Multiple Sclerosis</td>\n",
       "      <td>CCR6+, CD4+ T cells from HLA-DR4+ MS patient, ...</td>\n",
       "      <td>0.266785</td>\n",
       "    </tr>\n",
       "    <tr>\n",
       "      <th>SRR1909141</th>\n",
       "      <td>Multiple Sclerosis</td>\n",
       "      <td>CCR6+, CD4+ T cells from HLA-DR4+ MS patient, ...</td>\n",
       "      <td>0.207608</td>\n",
       "    </tr>\n",
       "    <tr>\n",
       "      <th>SRR1909133</th>\n",
       "      <td>Healthy</td>\n",
       "      <td>CCR6+, CD4+ T cells from HLA-DR4+ healthy cont...</td>\n",
       "      <td>0.111458</td>\n",
       "    </tr>\n",
       "    <tr>\n",
       "      <th>SRR1909132</th>\n",
       "      <td>Healthy</td>\n",
       "      <td>CCR6+, CD4+ T cells from HLA-DR4+ healthy cont...</td>\n",
       "      <td>0.104506</td>\n",
       "    </tr>\n",
       "    <tr>\n",
       "      <th>SRR1909142</th>\n",
       "      <td>Multiple Sclerosis</td>\n",
       "      <td>CCR6+, CD4+ T cells from HLA-DR4+ MS patient, ...</td>\n",
       "      <td>0.094094</td>\n",
       "    </tr>\n",
       "    <tr>\n",
       "      <th>SRR1909130</th>\n",
       "      <td>Healthy</td>\n",
       "      <td>CCR6+, CD4+ T cells from HLA-DR4+ healthy cont...</td>\n",
       "      <td>0.067683</td>\n",
       "    </tr>\n",
       "    <tr>\n",
       "      <th>SRR1909136</th>\n",
       "      <td>Multiple Sclerosis</td>\n",
       "      <td>CCR6+, CD4+ T cells from HLA-DR4+ MS patient, ...</td>\n",
       "      <td>0.067313</td>\n",
       "    </tr>\n",
       "    <tr>\n",
       "      <th>SRR1909135</th>\n",
       "      <td>Healthy</td>\n",
       "      <td>CCR6+, CD4+ T cells from HLA-DR4+ healthy cont...</td>\n",
       "      <td>0.065616</td>\n",
       "    </tr>\n",
       "    <tr>\n",
       "      <th>SRR1909139</th>\n",
       "      <td>Multiple Sclerosis</td>\n",
       "      <td>CCR6+, CD4+ T cells from HLA-DR4+ MS patient, ...</td>\n",
       "      <td>0.055186</td>\n",
       "    </tr>\n",
       "    <tr>\n",
       "      <th>SRR1909134</th>\n",
       "      <td>Healthy</td>\n",
       "      <td>CCR6+, CD4+ T cells from HLA-DR4+ healthy cont...</td>\n",
       "      <td>0.039358</td>\n",
       "    </tr>\n",
       "    <tr>\n",
       "      <th>SRR1909140</th>\n",
       "      <td>Multiple Sclerosis</td>\n",
       "      <td>CCR6+, CD4+ T cells from HLA-DR4+ MS patient, ...</td>\n",
       "      <td>0.035083</td>\n",
       "    </tr>\n",
       "    <tr>\n",
       "      <th>SRR1909138</th>\n",
       "      <td>Multiple Sclerosis</td>\n",
       "      <td>CCR6+, CD4+ T cells from HLA-DR4+ MS patient, ...</td>\n",
       "      <td>0.024884</td>\n",
       "    </tr>\n",
       "    <tr>\n",
       "      <th>SRR1909131</th>\n",
       "      <td>Healthy</td>\n",
       "      <td>CCR6+, CD4+ T cells from HLA-DR4+ healthy cont...</td>\n",
       "      <td>0.024553</td>\n",
       "    </tr>\n",
       "    <tr>\n",
       "      <th>SRR1909137</th>\n",
       "      <td>Multiple Sclerosis</td>\n",
       "      <td>CCR6+, CD4+ T cells from HLA-DR4+ MS patient, ...</td>\n",
       "      <td>-0.014160</td>\n",
       "    </tr>\n",
       "  </tbody>\n",
       "</table>\n",
       "</div>"
      ],
      "text/plain": [
       "                               diagnosis  \\\n",
       "project   run                              \n",
       "SRP056049 SRR1909145  Multiple Sclerosis   \n",
       "          SRR1909144  Multiple Sclerosis   \n",
       "          SRR1909143  Multiple Sclerosis   \n",
       "          SRR1909141  Multiple Sclerosis   \n",
       "          SRR1909133             Healthy   \n",
       "          SRR1909132             Healthy   \n",
       "          SRR1909142  Multiple Sclerosis   \n",
       "          SRR1909130             Healthy   \n",
       "          SRR1909136  Multiple Sclerosis   \n",
       "          SRR1909135             Healthy   \n",
       "          SRR1909139  Multiple Sclerosis   \n",
       "          SRR1909134             Healthy   \n",
       "          SRR1909140  Multiple Sclerosis   \n",
       "          SRR1909138  Multiple Sclerosis   \n",
       "          SRR1909131             Healthy   \n",
       "          SRR1909137  Multiple Sclerosis   \n",
       "\n",
       "                                                        cell population  \\\n",
       "project   run                                                             \n",
       "SRP056049 SRR1909145  CCR6+, CD4+ T cells from HLA-DR4+ MS patient, ...   \n",
       "          SRR1909144  CCR6+, CD4+ T cells from HLA-DR4+ MS patient, ...   \n",
       "          SRR1909143  CCR6+, CD4+ T cells from HLA-DR4+ MS patient, ...   \n",
       "          SRR1909141  CCR6+, CD4+ T cells from HLA-DR4+ MS patient, ...   \n",
       "          SRR1909133  CCR6+, CD4+ T cells from HLA-DR4+ healthy cont...   \n",
       "          SRR1909132  CCR6+, CD4+ T cells from HLA-DR4+ healthy cont...   \n",
       "          SRR1909142  CCR6+, CD4+ T cells from HLA-DR4+ MS patient, ...   \n",
       "          SRR1909130  CCR6+, CD4+ T cells from HLA-DR4+ healthy cont...   \n",
       "          SRR1909136  CCR6+, CD4+ T cells from HLA-DR4+ MS patient, ...   \n",
       "          SRR1909135  CCR6+, CD4+ T cells from HLA-DR4+ healthy cont...   \n",
       "          SRR1909139  CCR6+, CD4+ T cells from HLA-DR4+ MS patient, ...   \n",
       "          SRR1909134  CCR6+, CD4+ T cells from HLA-DR4+ healthy cont...   \n",
       "          SRR1909140  CCR6+, CD4+ T cells from HLA-DR4+ MS patient, ...   \n",
       "          SRR1909138  CCR6+, CD4+ T cells from HLA-DR4+ MS patient, ...   \n",
       "          SRR1909131  CCR6+, CD4+ T cells from HLA-DR4+ healthy cont...   \n",
       "          SRR1909137  CCR6+, CD4+ T cells from HLA-DR4+ MS patient, ...   \n",
       "\n",
       "                          LV96  \n",
       "project   run                   \n",
       "SRP056049 SRR1909145  0.409300  \n",
       "          SRR1909144  0.395039  \n",
       "          SRR1909143  0.266785  \n",
       "          SRR1909141  0.207608  \n",
       "          SRR1909133  0.111458  \n",
       "          SRR1909132  0.104506  \n",
       "          SRR1909142  0.094094  \n",
       "          SRR1909130  0.067683  \n",
       "          SRR1909136  0.067313  \n",
       "          SRR1909135  0.065616  \n",
       "          SRR1909139  0.055186  \n",
       "          SRR1909134  0.039358  \n",
       "          SRR1909140  0.035083  \n",
       "          SRR1909138  0.024884  \n",
       "          SRR1909131  0.024553  \n",
       "          SRR1909137 -0.014160  "
      ]
     },
     "metadata": {},
     "output_type": "display_data"
    }
   ],
   "source": [
    "# what is there in these projects?\n",
    "_tmp = lv_data.loc[[\"SRP056049\"]].dropna(how=\"all\", axis=1).sort_values(\n",
    "    LV_NAME, ascending=False\n",
    ")\n",
    "\n",
    "display(_tmp.head(60))"
   ]
  },
  {
   "cell_type": "code",
   "execution_count": 100,
   "id": "d1bab62e-6ce7-4c64-b96d-7a48eef1986f",
   "metadata": {},
   "outputs": [
    {
     "data": {
      "text/plain": [
       "pre-T1D    41\n",
       "healthy    37\n",
       "Name: status, dtype: int64"
      ]
     },
     "execution_count": 100,
     "metadata": {},
     "output_type": "execute_result"
    }
   ],
   "source": [
    "_tmp[\"status\"].value_counts()"
   ]
  },
  {
   "cell_type": "markdown",
   "id": "970d6358-61b9-47f7-ae75-c74334dafaec",
   "metadata": {},
   "source": [
    "# Reduced plot"
   ]
  },
  {
   "cell_type": "markdown",
   "id": "197ccfc1-4a83-414c-b54f-af2e8bdaedb9",
   "metadata": {},
   "source": [
    "## Data stats"
   ]
  },
  {
   "cell_type": "code",
   "execution_count": null,
   "id": "c3738a95-7a50-40f8-a8e0-796f4b1d6941",
   "metadata": {},
   "outputs": [],
   "source": [
    "plot_data_stats = final_plot_data.describe()[LV_NAME]\n",
    "display(plot_data_stats)"
   ]
  },
  {
   "cell_type": "code",
   "execution_count": null,
   "id": "d0663e41-dcef-4945-bc3e-2e80914ac195",
   "metadata": {},
   "outputs": [],
   "source": [
    "plot_data_stats_by_cell_type = (\n",
    "    final_plot_data.groupby(SELECTED_ATTRIBUTE)\n",
    "    .describe()[LV_NAME]\n",
    "    .sort_values(\"50%\", ascending=False)\n",
    ")\n",
    "display(plot_data_stats_by_cell_type)"
   ]
  },
  {
   "cell_type": "code",
   "execution_count": null,
   "id": "f3f5d34c-4ec8-4bd8-96a9-074001f758cc",
   "metadata": {},
   "outputs": [],
   "source": [
    "# keep cell types whose median is larger than the global median\n",
    "selected_cell_types = plot_data_stats_by_cell_type[\n",
    "    (plot_data_stats_by_cell_type[\"50%\"] > max(plot_data_stats.loc[\"50%\"], 0.0))\n",
    "].index\n",
    "display(selected_cell_types)"
   ]
  },
  {
   "cell_type": "code",
   "execution_count": null,
   "id": "72f0004d-ae43-423e-8b65-4f8b573c7568",
   "metadata": {},
   "outputs": [],
   "source": [
    "final_plot_data.shape"
   ]
  },
  {
   "cell_type": "code",
   "execution_count": null,
   "id": "15d5c347-8df5-432a-8b9f-8123cc0d367e",
   "metadata": {},
   "outputs": [],
   "source": [
    "final_plot_data = final_plot_data[\n",
    "    final_plot_data[SELECTED_ATTRIBUTE].isin(selected_cell_types)\n",
    "]"
   ]
  },
  {
   "cell_type": "code",
   "execution_count": null,
   "id": "f7842f3f-9af7-414d-a73b-c63d19314947",
   "metadata": {},
   "outputs": [],
   "source": [
    "final_plot_data.shape"
   ]
  },
  {
   "cell_type": "markdown",
   "id": "6e711fde-9aec-458a-9836-f1ef6fbe5b80",
   "metadata": {},
   "source": [
    "## Set x-axis order"
   ]
  },
  {
   "cell_type": "code",
   "execution_count": null,
   "id": "efd3e266-d2b3-4720-b9c9-e40b74dbcc97",
   "metadata": {},
   "outputs": [],
   "source": [
    "attr_order = (\n",
    "    final_plot_data.groupby(SELECTED_ATTRIBUTE)\n",
    "    .median()\n",
    "    .sort_values(LV_NAME, ascending=False)\n",
    "    .index[:N_TOP_ATTRS]\n",
    "    .tolist()\n",
    ")"
   ]
  },
  {
   "cell_type": "code",
   "execution_count": null,
   "id": "8ef26d0b-de69-40b1-8997-ddcf3e3e8778",
   "metadata": {},
   "outputs": [],
   "source": [
    "len(attr_order)"
   ]
  },
  {
   "cell_type": "code",
   "execution_count": null,
   "id": "73c395e8-c983-4f3b-9278-f0e1c58ae0f7",
   "metadata": {},
   "outputs": [],
   "source": [
    "attr_order[:5]"
   ]
  },
  {
   "cell_type": "markdown",
   "id": "1797ee1d-b9e7-4ccb-8454-513a58dff07d",
   "metadata": {},
   "source": [
    "## Plot"
   ]
  },
  {
   "cell_type": "code",
   "execution_count": null,
   "id": "515bd511-ad6d-4829-b9b7-0ee1e22d3c6d",
   "metadata": {},
   "outputs": [],
   "source": [
    "with sns.plotting_context(\"paper\", font_scale=2.5), sns.axes_style(\"whitegrid\"):\n",
    "    g = sns.catplot(\n",
    "        data=final_plot_data,\n",
    "        y=LV_NAME,\n",
    "        x=SELECTED_ATTRIBUTE,\n",
    "        order=attr_order,\n",
    "        kind=\"box\",\n",
    "        height=5,\n",
    "        aspect=2.5,\n",
    "    )\n",
    "    plt.xticks(rotation=45, horizontalalignment=\"right\")\n",
    "    plt.xlabel(\"\")\n",
    "\n",
    "    # plt.savefig(\n",
    "    #     OUTPUT_CELL_TYPE_FILEPATH,\n",
    "    #     bbox_inches=\"tight\",\n",
    "    #     facecolor=\"white\",\n",
    "    # )"
   ]
  },
  {
   "cell_type": "code",
   "execution_count": null,
   "id": "classified-overall",
   "metadata": {},
   "outputs": [],
   "source": []
  }
 ],
 "metadata": {
  "jupytext": {
   "cell_metadata_filter": "all,-execution,-papermill,-trusted",
   "formats": "ipynb,py//py:percent"
  },
  "kernelspec": {
   "display_name": "Python 3 (ipykernel)",
   "language": "python",
   "name": "python3"
  },
  "language_info": {
   "codemirror_mode": {
    "name": "ipython",
    "version": 3
   },
   "file_extension": ".py",
   "mimetype": "text/x-python",
   "name": "python",
   "nbconvert_exporter": "python",
   "pygments_lexer": "ipython3",
   "version": "3.10.6"
  },
  "toc-autonumbering": true
 },
 "nbformat": 4,
 "nbformat_minor": 5
}
