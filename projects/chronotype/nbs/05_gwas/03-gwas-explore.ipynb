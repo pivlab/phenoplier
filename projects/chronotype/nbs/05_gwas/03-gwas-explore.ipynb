{
 "cells": [
  {
   "cell_type": "markdown",
   "id": "0cfc647f-0ac4-43b1-b80b-1468c3223332",
   "metadata": {
    "papermill": {
     "duration": 0.00511,
     "end_time": "2023-08-28T21:02:23.447664",
     "exception": false,
     "start_time": "2023-08-28T21:02:23.442554",
     "status": "completed"
    },
    "tags": []
   },
   "source": [
    "# Description"
   ]
  },
  {
   "cell_type": "markdown",
   "id": "dd6ced0f-9243-46aa-a390-1868e1a24b39",
   "metadata": {
    "papermill": {
     "duration": 0.004441,
     "end_time": "2023-08-28T21:02:23.456550",
     "exception": false,
     "start_time": "2023-08-28T21:02:23.452109",
     "status": "completed"
    },
    "tags": []
   },
   "source": [
    "Explore GWAS file structure"
   ]
  },
  {
   "cell_type": "markdown",
   "id": "41d0fadb-850a-486a-822f-844e25e2df3c",
   "metadata": {
    "papermill": {
     "duration": 0.004317,
     "end_time": "2023-08-28T21:02:23.465408",
     "exception": false,
     "start_time": "2023-08-28T21:02:23.461091",
     "status": "completed"
    },
    "tags": []
   },
   "source": [
    "# Modules"
   ]
  },
  {
   "cell_type": "code",
   "execution_count": 1,
   "id": "51c7f21f-6578-4fed-bab7-5b7ec93aee12",
   "metadata": {
    "execution": {
     "iopub.execute_input": "2023-08-28T21:02:23.476308Z",
     "iopub.status.busy": "2023-08-28T21:02:23.475695Z",
     "iopub.status.idle": "2023-08-28T21:02:23.692385Z",
     "shell.execute_reply": "2023-08-28T21:02:23.691895Z"
    },
    "papermill": {
     "duration": 0.223528,
     "end_time": "2023-08-28T21:02:23.693963",
     "exception": false,
     "start_time": "2023-08-28T21:02:23.470435",
     "status": "completed"
    },
    "tags": []
   },
   "outputs": [],
   "source": [
    "import re\n",
    "import subprocess\n",
    "from pathlib import Path\n",
    "import tempfile\n",
    "import shutil\n",
    "from concurrent.futures import ProcessPoolExecutor, as_completed\n",
    "\n",
    "import numpy as np\n",
    "import pandas as pd\n",
    "\n",
    "import conf\n",
    "from utils import chunker"
   ]
  },
  {
   "cell_type": "markdown",
   "id": "87debc89-f58c-4f2f-9dca-9fb2ea8c9240",
   "metadata": {
    "papermill": {
     "duration": 0.004729,
     "end_time": "2023-08-28T21:02:23.703235",
     "exception": false,
     "start_time": "2023-08-28T21:02:23.698506",
     "status": "completed"
    },
    "tags": []
   },
   "source": [
    "# Settings"
   ]
  },
  {
   "cell_type": "code",
   "execution_count": 2,
   "id": "0e38bf33-6923-4f2e-b37f-1b0794d609f0",
   "metadata": {
    "execution": {
     "iopub.execute_input": "2023-08-28T21:02:23.712837Z",
     "iopub.status.busy": "2023-08-28T21:02:23.712746Z",
     "iopub.status.idle": "2023-08-28T21:02:23.715403Z",
     "shell.execute_reply": "2023-08-28T21:02:23.714909Z"
    },
    "papermill": {
     "duration": 0.009105,
     "end_time": "2023-08-28T21:02:23.716821",
     "exception": false,
     "start_time": "2023-08-28T21:02:23.707716",
     "status": "completed"
    },
    "tags": [
     "parameters"
    ]
   },
   "outputs": [],
   "source": [
    "PROJECTS_TRAIT_KEY = \"CHRONOTYPE\""
   ]
  },
  {
   "cell_type": "code",
   "execution_count": 3,
   "id": "93ff6934",
   "metadata": {
    "execution": {
     "iopub.execute_input": "2023-08-28T21:02:23.726445Z",
     "iopub.status.busy": "2023-08-28T21:02:23.726360Z",
     "iopub.status.idle": "2023-08-28T21:02:23.728839Z",
     "shell.execute_reply": "2023-08-28T21:02:23.728349Z"
    },
    "lines_to_next_cell": 2,
    "papermill": {
     "duration": 0.008647,
     "end_time": "2023-08-28T21:02:23.730205",
     "exception": false,
     "start_time": "2023-08-28T21:02:23.721558",
     "status": "completed"
    },
    "tags": [
     "injected-parameters"
    ]
   },
   "outputs": [],
   "source": [
    "# Parameters\n",
    "PHENOPLIER_NOTEBOOK_FILEPATH = \"projects/chronotype/nbs/05_gwas/03-gwas-explore.ipynb\""
   ]
  },
  {
   "cell_type": "markdown",
   "id": "8c5b2cc0-aaab-4ee2-a2a8-bd2ccdc33cad",
   "metadata": {
    "papermill": {
     "duration": 0.004427,
     "end_time": "2023-08-28T21:02:23.739057",
     "exception": false,
     "start_time": "2023-08-28T21:02:23.734630",
     "status": "completed"
    },
    "tags": []
   },
   "source": [
    "# Paths"
   ]
  },
  {
   "cell_type": "code",
   "execution_count": 4,
   "id": "53e10c21-6544-4918-9bd4-4891a8215d93",
   "metadata": {
    "execution": {
     "iopub.execute_input": "2023-08-28T21:02:23.748715Z",
     "iopub.status.busy": "2023-08-28T21:02:23.748619Z",
     "iopub.status.idle": "2023-08-28T21:02:23.755312Z",
     "shell.execute_reply": "2023-08-28T21:02:23.754618Z"
    },
    "papermill": {
     "duration": 0.013116,
     "end_time": "2023-08-28T21:02:23.756850",
     "exception": false,
     "start_time": "2023-08-28T21:02:23.743734",
     "status": "completed"
    },
    "tags": []
   },
   "outputs": [
    {
     "data": {
      "text/plain": [
       "PosixPath('/opt/data/projects/chronotype/data/gwas')"
      ]
     },
     "metadata": {},
     "output_type": "display_data"
    }
   ],
   "source": [
    "INPUT_GWAS_DIR = conf.PROJECTS[PROJECTS_TRAIT_KEY][\"DATA_DIR\"] / \"gwas\"\n",
    "display(INPUT_GWAS_DIR)\n",
    "assert INPUT_GWAS_DIR.exists()"
   ]
  },
  {
   "cell_type": "code",
   "execution_count": 5,
   "id": "9586ae85-09a5-4568-b41f-beeb19538bf3",
   "metadata": {
    "execution": {
     "iopub.execute_input": "2023-08-28T21:02:23.766861Z",
     "iopub.status.busy": "2023-08-28T21:02:23.766580Z",
     "iopub.status.idle": "2023-08-28T21:02:23.770906Z",
     "shell.execute_reply": "2023-08-28T21:02:23.770281Z"
    },
    "papermill": {
     "duration": 0.010926,
     "end_time": "2023-08-28T21:02:23.772448",
     "exception": false,
     "start_time": "2023-08-28T21:02:23.761522",
     "status": "completed"
    },
    "tags": []
   },
   "outputs": [
    {
     "data": {
      "text/plain": [
       "PosixPath('/opt/data/software/plink/plink2')"
      ]
     },
     "metadata": {},
     "output_type": "display_data"
    }
   ],
   "source": [
    "PLINK2 = conf.PLINK[\"EXECUTABLE_VERSION_2\"]\n",
    "display(PLINK2)\n",
    "assert PLINK2.exists()"
   ]
  },
  {
   "cell_type": "markdown",
   "id": "026381fc-1e42-48f6-a098-46861bda2bd8",
   "metadata": {
    "papermill": {
     "duration": 0.005274,
     "end_time": "2023-08-28T21:02:23.782286",
     "exception": false,
     "start_time": "2023-08-28T21:02:23.777012",
     "status": "completed"
    },
    "tags": []
   },
   "source": [
    "# GWAS results files"
   ]
  },
  {
   "cell_type": "code",
   "execution_count": 6,
   "id": "d6517519-2bbd-49a4-8499-9a429935acfb",
   "metadata": {
    "execution": {
     "iopub.execute_input": "2023-08-28T21:02:23.792568Z",
     "iopub.status.busy": "2023-08-28T21:02:23.792229Z",
     "iopub.status.idle": "2023-08-28T21:02:23.798015Z",
     "shell.execute_reply": "2023-08-28T21:02:23.797474Z"
    },
    "papermill": {
     "duration": 0.012338,
     "end_time": "2023-08-28T21:02:23.799273",
     "exception": false,
     "start_time": "2023-08-28T21:02:23.786935",
     "status": "completed"
    },
    "tags": []
   },
   "outputs": [
    {
     "data": {
      "text/plain": [
       "1"
      ]
     },
     "metadata": {},
     "output_type": "display_data"
    },
    {
     "data": {
      "text/plain": [
       "[PosixPath('/opt/data/projects/chronotype/data/gwas/chronotype_raw_BOLT.output_HRC.only_plus.metrics_maf0.001_hwep1em12_info0.3.txt.gz')]"
      ]
     },
     "metadata": {},
     "output_type": "display_data"
    }
   ],
   "source": [
    "# check files in directory\n",
    "gwas_files = sorted(list(INPUT_GWAS_DIR.glob(\"*.gz\")))\n",
    "display(len(gwas_files))\n",
    "display(gwas_files[:10])"
   ]
  },
  {
   "cell_type": "code",
   "execution_count": 7,
   "id": "4a6baa83-a05f-423c-a297-857c1a2d34a8",
   "metadata": {
    "execution": {
     "iopub.execute_input": "2023-08-28T21:02:23.807984Z",
     "iopub.status.busy": "2023-08-28T21:02:23.807578Z",
     "iopub.status.idle": "2023-08-28T21:02:23.812790Z",
     "shell.execute_reply": "2023-08-28T21:02:23.812349Z"
    },
    "papermill": {
     "duration": 0.010633,
     "end_time": "2023-08-28T21:02:23.813684",
     "exception": false,
     "start_time": "2023-08-28T21:02:23.803051",
     "status": "completed"
    },
    "tags": []
   },
   "outputs": [],
   "source": [
    "# get files from traits info file\n",
    "traits_info = pd.read_csv(conf.PROJECTS[PROJECTS_TRAIT_KEY][\"TRAITS_INFO_FILE\"])"
   ]
  },
  {
   "cell_type": "code",
   "execution_count": 8,
   "id": "7eee3a7c-b8fb-4bb7-b62c-703d64f41acb",
   "metadata": {
    "execution": {
     "iopub.execute_input": "2023-08-28T21:02:23.819926Z",
     "iopub.status.busy": "2023-08-28T21:02:23.819548Z",
     "iopub.status.idle": "2023-08-28T21:02:23.823629Z",
     "shell.execute_reply": "2023-08-28T21:02:23.823179Z"
    },
    "papermill": {
     "duration": 0.008055,
     "end_time": "2023-08-28T21:02:23.824503",
     "exception": false,
     "start_time": "2023-08-28T21:02:23.816448",
     "status": "completed"
    },
    "tags": []
   },
   "outputs": [
    {
     "data": {
      "text/plain": [
       "(1, 4)"
      ]
     },
     "execution_count": 8,
     "metadata": {},
     "output_type": "execute_result"
    }
   ],
   "source": [
    "traits_info.shape"
   ]
  },
  {
   "cell_type": "code",
   "execution_count": 9,
   "id": "1850c6ff-4e94-4c96-af31-fb011daf3ba1",
   "metadata": {
    "execution": {
     "iopub.execute_input": "2023-08-28T21:02:23.830752Z",
     "iopub.status.busy": "2023-08-28T21:02:23.830361Z",
     "iopub.status.idle": "2023-08-28T21:02:23.838044Z",
     "shell.execute_reply": "2023-08-28T21:02:23.837586Z"
    },
    "papermill": {
     "duration": 0.011629,
     "end_time": "2023-08-28T21:02:23.838907",
     "exception": false,
     "start_time": "2023-08-28T21:02:23.827278",
     "status": "completed"
    },
    "tags": []
   },
   "outputs": [
    {
     "data": {
      "text/html": [
       "<div>\n",
       "<style scoped>\n",
       "    .dataframe tbody tr th:only-of-type {\n",
       "        vertical-align: middle;\n",
       "    }\n",
       "\n",
       "    .dataframe tbody tr th {\n",
       "        vertical-align: top;\n",
       "    }\n",
       "\n",
       "    .dataframe thead th {\n",
       "        text-align: right;\n",
       "    }\n",
       "</style>\n",
       "<table border=\"1\" class=\"dataframe\">\n",
       "  <thead>\n",
       "    <tr style=\"text-align: right;\">\n",
       "      <th></th>\n",
       "      <th>id</th>\n",
       "      <th>gwas_file</th>\n",
       "      <th>sample_size</th>\n",
       "      <th>n_cases</th>\n",
       "    </tr>\n",
       "  </thead>\n",
       "  <tbody>\n",
       "    <tr>\n",
       "      <th>0</th>\n",
       "      <td>chronotype</td>\n",
       "      <td>chronotype_raw_BOLT.output_HRC.only_plus.metri...</td>\n",
       "      <td>449734</td>\n",
       "      <td>NaN</td>\n",
       "    </tr>\n",
       "  </tbody>\n",
       "</table>\n",
       "</div>"
      ],
      "text/plain": [
       "           id                                          gwas_file  sample_size  \\\n",
       "0  chronotype  chronotype_raw_BOLT.output_HRC.only_plus.metri...       449734   \n",
       "\n",
       "   n_cases  \n",
       "0      NaN  "
      ]
     },
     "execution_count": 9,
     "metadata": {},
     "output_type": "execute_result"
    }
   ],
   "source": [
    "traits_info"
   ]
  },
  {
   "cell_type": "code",
   "execution_count": 10,
   "id": "16714ebb-5772-410b-aa05-2ff7bce182e1",
   "metadata": {
    "execution": {
     "iopub.execute_input": "2023-08-28T21:02:23.845292Z",
     "iopub.status.busy": "2023-08-28T21:02:23.844917Z",
     "iopub.status.idle": "2023-08-28T21:02:23.848286Z",
     "shell.execute_reply": "2023-08-28T21:02:23.847809Z"
    },
    "papermill": {
     "duration": 0.007557,
     "end_time": "2023-08-28T21:02:23.849150",
     "exception": false,
     "start_time": "2023-08-28T21:02:23.841593",
     "status": "completed"
    },
    "tags": []
   },
   "outputs": [],
   "source": [
    "gwas_files = [INPUT_GWAS_DIR / t.gwas_file for _, t in traits_info.iterrows()]"
   ]
  },
  {
   "cell_type": "code",
   "execution_count": 11,
   "id": "4e13ae97-61d8-40ad-be6b-ba3f73e89342",
   "metadata": {
    "execution": {
     "iopub.execute_input": "2023-08-28T21:02:23.855674Z",
     "iopub.status.busy": "2023-08-28T21:02:23.855236Z",
     "iopub.status.idle": "2023-08-28T21:02:23.858912Z",
     "shell.execute_reply": "2023-08-28T21:02:23.858433Z"
    },
    "papermill": {
     "duration": 0.007812,
     "end_time": "2023-08-28T21:02:23.859777",
     "exception": false,
     "start_time": "2023-08-28T21:02:23.851965",
     "status": "completed"
    },
    "tags": []
   },
   "outputs": [
    {
     "data": {
      "text/plain": [
       "1"
      ]
     },
     "execution_count": 11,
     "metadata": {},
     "output_type": "execute_result"
    }
   ],
   "source": [
    "len(gwas_files)"
   ]
  },
  {
   "cell_type": "code",
   "execution_count": 12,
   "id": "a1531df6-4303-4dce-aeeb-931f4cbc4cdf",
   "metadata": {
    "execution": {
     "iopub.execute_input": "2023-08-28T21:02:23.866374Z",
     "iopub.status.busy": "2023-08-28T21:02:23.865971Z",
     "iopub.status.idle": "2023-08-28T21:02:23.869597Z",
     "shell.execute_reply": "2023-08-28T21:02:23.869150Z"
    },
    "papermill": {
     "duration": 0.008,
     "end_time": "2023-08-28T21:02:23.870507",
     "exception": false,
     "start_time": "2023-08-28T21:02:23.862507",
     "status": "completed"
    },
    "tags": []
   },
   "outputs": [
    {
     "data": {
      "text/plain": [
       "[PosixPath('/opt/data/projects/chronotype/data/gwas/chronotype_raw_BOLT.output_HRC.only_plus.metrics_maf0.001_hwep1em12_info0.3.txt.gz')]"
      ]
     },
     "execution_count": 12,
     "metadata": {},
     "output_type": "execute_result"
    }
   ],
   "source": [
    "gwas_files"
   ]
  },
  {
   "cell_type": "markdown",
   "id": "ede5d5fc-3c7d-40c6-b21f-24624f503d88",
   "metadata": {
    "papermill": {
     "duration": 0.00281,
     "end_time": "2023-08-28T21:02:23.876248",
     "exception": false,
     "start_time": "2023-08-28T21:02:23.873438",
     "status": "completed"
    },
    "tags": []
   },
   "source": [
    "# Load GWAS"
   ]
  },
  {
   "cell_type": "code",
   "execution_count": 13,
   "id": "d01f036e-bbbc-4c16-9228-1872c76ab39c",
   "metadata": {
    "execution": {
     "iopub.execute_input": "2023-08-28T21:02:23.882662Z",
     "iopub.status.busy": "2023-08-28T21:02:23.882305Z",
     "iopub.status.idle": "2023-08-28T21:02:23.891115Z",
     "shell.execute_reply": "2023-08-28T21:02:23.890631Z"
    },
    "papermill": {
     "duration": 0.013037,
     "end_time": "2023-08-28T21:02:23.892018",
     "exception": false,
     "start_time": "2023-08-28T21:02:23.878981",
     "status": "completed"
    },
    "tags": []
   },
   "outputs": [],
   "source": [
    "df = pd.read_csv(gwas_files[0], sep=\"\\t\", nrows=10)"
   ]
  },
  {
   "cell_type": "code",
   "execution_count": 14,
   "id": "a0988b12-f554-4e5d-a6aa-f1b6d67e3225",
   "metadata": {
    "execution": {
     "iopub.execute_input": "2023-08-28T21:02:23.898390Z",
     "iopub.status.busy": "2023-08-28T21:02:23.898242Z",
     "iopub.status.idle": "2023-08-28T21:02:23.911305Z",
     "shell.execute_reply": "2023-08-28T21:02:23.910807Z"
    },
    "papermill": {
     "duration": 0.017268,
     "end_time": "2023-08-28T21:02:23.912188",
     "exception": false,
     "start_time": "2023-08-28T21:02:23.894920",
     "status": "completed"
    },
    "tags": []
   },
   "outputs": [
    {
     "data": {
      "text/html": [
       "<div>\n",
       "<style scoped>\n",
       "    .dataframe tbody tr th:only-of-type {\n",
       "        vertical-align: middle;\n",
       "    }\n",
       "\n",
       "    .dataframe tbody tr th {\n",
       "        vertical-align: top;\n",
       "    }\n",
       "\n",
       "    .dataframe thead th {\n",
       "        text-align: right;\n",
       "    }\n",
       "</style>\n",
       "<table border=\"1\" class=\"dataframe\">\n",
       "  <thead>\n",
       "    <tr style=\"text-align: right;\">\n",
       "      <th></th>\n",
       "      <th>SNP</th>\n",
       "      <th>CHR</th>\n",
       "      <th>BP</th>\n",
       "      <th>ALLELE1</th>\n",
       "      <th>ALLELE0</th>\n",
       "      <th>A1FREQ</th>\n",
       "      <th>INFO</th>\n",
       "      <th>BETA</th>\n",
       "      <th>SE</th>\n",
       "      <th>P_BOLT_LMM</th>\n",
       "      <th>HWE_P</th>\n",
       "    </tr>\n",
       "  </thead>\n",
       "  <tbody>\n",
       "    <tr>\n",
       "      <th>0</th>\n",
       "      <td>rs10399793</td>\n",
       "      <td>1</td>\n",
       "      <td>49298</td>\n",
       "      <td>T</td>\n",
       "      <td>C</td>\n",
       "      <td>0.376391</td>\n",
       "      <td>0.342797</td>\n",
       "      <td>-0.003118</td>\n",
       "      <td>0.004764</td>\n",
       "      <td>0.52</td>\n",
       "      <td>0.825830</td>\n",
       "    </tr>\n",
       "    <tr>\n",
       "      <th>1</th>\n",
       "      <td>rs2462492</td>\n",
       "      <td>1</td>\n",
       "      <td>54676</td>\n",
       "      <td>C</td>\n",
       "      <td>T</td>\n",
       "      <td>0.599144</td>\n",
       "      <td>0.340158</td>\n",
       "      <td>-0.000357</td>\n",
       "      <td>0.004721</td>\n",
       "      <td>0.96</td>\n",
       "      <td>0.633757</td>\n",
       "    </tr>\n",
       "    <tr>\n",
       "      <th>2</th>\n",
       "      <td>rs3107975</td>\n",
       "      <td>1</td>\n",
       "      <td>55326</td>\n",
       "      <td>T</td>\n",
       "      <td>C</td>\n",
       "      <td>0.991604</td>\n",
       "      <td>0.324228</td>\n",
       "      <td>0.009961</td>\n",
       "      <td>0.026451</td>\n",
       "      <td>0.72</td>\n",
       "      <td>0.405636</td>\n",
       "    </tr>\n",
       "    <tr>\n",
       "      <th>3</th>\n",
       "      <td>1:70728_C_T</td>\n",
       "      <td>1</td>\n",
       "      <td>70728</td>\n",
       "      <td>C</td>\n",
       "      <td>T</td>\n",
       "      <td>0.997841</td>\n",
       "      <td>0.365713</td>\n",
       "      <td>0.025184</td>\n",
       "      <td>0.047746</td>\n",
       "      <td>0.73</td>\n",
       "      <td>0.666235</td>\n",
       "    </tr>\n",
       "    <tr>\n",
       "      <th>4</th>\n",
       "      <td>rs2462495</td>\n",
       "      <td>1</td>\n",
       "      <td>79033</td>\n",
       "      <td>A</td>\n",
       "      <td>G</td>\n",
       "      <td>0.001262</td>\n",
       "      <td>0.536566</td>\n",
       "      <td>0.026157</td>\n",
       "      <td>0.061400</td>\n",
       "      <td>0.65</td>\n",
       "      <td>0.411469</td>\n",
       "    </tr>\n",
       "    <tr>\n",
       "      <th>5</th>\n",
       "      <td>rs114608975</td>\n",
       "      <td>1</td>\n",
       "      <td>86028</td>\n",
       "      <td>T</td>\n",
       "      <td>C</td>\n",
       "      <td>0.896414</td>\n",
       "      <td>0.340885</td>\n",
       "      <td>0.009770</td>\n",
       "      <td>0.007551</td>\n",
       "      <td>0.24</td>\n",
       "      <td>0.992579</td>\n",
       "    </tr>\n",
       "    <tr>\n",
       "      <th>6</th>\n",
       "      <td>rs6702460</td>\n",
       "      <td>1</td>\n",
       "      <td>91536</td>\n",
       "      <td>G</td>\n",
       "      <td>T</td>\n",
       "      <td>0.542929</td>\n",
       "      <td>0.340746</td>\n",
       "      <td>-0.005976</td>\n",
       "      <td>0.004649</td>\n",
       "      <td>0.25</td>\n",
       "      <td>0.846043</td>\n",
       "    </tr>\n",
       "    <tr>\n",
       "      <th>7</th>\n",
       "      <td>rs8179466</td>\n",
       "      <td>1</td>\n",
       "      <td>234313</td>\n",
       "      <td>C</td>\n",
       "      <td>T</td>\n",
       "      <td>0.925428</td>\n",
       "      <td>0.311447</td>\n",
       "      <td>-0.000970</td>\n",
       "      <td>0.009158</td>\n",
       "      <td>0.96</td>\n",
       "      <td>0.901059</td>\n",
       "    </tr>\n",
       "    <tr>\n",
       "      <th>8</th>\n",
       "      <td>rs6680723</td>\n",
       "      <td>1</td>\n",
       "      <td>534192</td>\n",
       "      <td>C</td>\n",
       "      <td>T</td>\n",
       "      <td>0.759155</td>\n",
       "      <td>0.349843</td>\n",
       "      <td>0.003497</td>\n",
       "      <td>0.005314</td>\n",
       "      <td>0.52</td>\n",
       "      <td>0.839277</td>\n",
       "    </tr>\n",
       "    <tr>\n",
       "      <th>9</th>\n",
       "      <td>rs6683466</td>\n",
       "      <td>1</td>\n",
       "      <td>534583</td>\n",
       "      <td>C</td>\n",
       "      <td>G</td>\n",
       "      <td>0.993323</td>\n",
       "      <td>0.345195</td>\n",
       "      <td>0.030821</td>\n",
       "      <td>0.030115</td>\n",
       "      <td>0.27</td>\n",
       "      <td>0.516151</td>\n",
       "    </tr>\n",
       "  </tbody>\n",
       "</table>\n",
       "</div>"
      ],
      "text/plain": [
       "           SNP  CHR      BP ALLELE1 ALLELE0    A1FREQ      INFO      BETA  \\\n",
       "0   rs10399793    1   49298       T       C  0.376391  0.342797 -0.003118   \n",
       "1    rs2462492    1   54676       C       T  0.599144  0.340158 -0.000357   \n",
       "2    rs3107975    1   55326       T       C  0.991604  0.324228  0.009961   \n",
       "3  1:70728_C_T    1   70728       C       T  0.997841  0.365713  0.025184   \n",
       "4    rs2462495    1   79033       A       G  0.001262  0.536566  0.026157   \n",
       "5  rs114608975    1   86028       T       C  0.896414  0.340885  0.009770   \n",
       "6    rs6702460    1   91536       G       T  0.542929  0.340746 -0.005976   \n",
       "7    rs8179466    1  234313       C       T  0.925428  0.311447 -0.000970   \n",
       "8    rs6680723    1  534192       C       T  0.759155  0.349843  0.003497   \n",
       "9    rs6683466    1  534583       C       G  0.993323  0.345195  0.030821   \n",
       "\n",
       "         SE  P_BOLT_LMM     HWE_P  \n",
       "0  0.004764        0.52  0.825830  \n",
       "1  0.004721        0.96  0.633757  \n",
       "2  0.026451        0.72  0.405636  \n",
       "3  0.047746        0.73  0.666235  \n",
       "4  0.061400        0.65  0.411469  \n",
       "5  0.007551        0.24  0.992579  \n",
       "6  0.004649        0.25  0.846043  \n",
       "7  0.009158        0.96  0.901059  \n",
       "8  0.005314        0.52  0.839277  \n",
       "9  0.030115        0.27  0.516151  "
      ]
     },
     "execution_count": 14,
     "metadata": {},
     "output_type": "execute_result"
    }
   ],
   "source": [
    "df"
   ]
  },
  {
   "cell_type": "code",
   "execution_count": 15,
   "id": "c4e72fd1-9d43-4946-abe4-fde1430511bc",
   "metadata": {
    "execution": {
     "iopub.execute_input": "2023-08-28T21:02:23.919474Z",
     "iopub.status.busy": "2023-08-28T21:02:23.918968Z",
     "iopub.status.idle": "2023-08-28T21:02:35.484268Z",
     "shell.execute_reply": "2023-08-28T21:02:35.483665Z"
    },
    "papermill": {
     "duration": 11.570862,
     "end_time": "2023-08-28T21:02:35.486013",
     "exception": false,
     "start_time": "2023-08-28T21:02:23.915151",
     "status": "completed"
    },
    "tags": []
   },
   "outputs": [],
   "source": [
    "df = pd.read_csv(gwas_files[0], sep=\"\\t\")"
   ]
  },
  {
   "cell_type": "code",
   "execution_count": 16,
   "id": "e6c384ec-5bb0-47e2-9249-524bf15e65aa",
   "metadata": {
    "execution": {
     "iopub.execute_input": "2023-08-28T21:02:35.502959Z",
     "iopub.status.busy": "2023-08-28T21:02:35.502868Z",
     "iopub.status.idle": "2023-08-28T21:02:35.506987Z",
     "shell.execute_reply": "2023-08-28T21:02:35.506356Z"
    },
    "papermill": {
     "duration": 0.016687,
     "end_time": "2023-08-28T21:02:35.508447",
     "exception": false,
     "start_time": "2023-08-28T21:02:35.491760",
     "status": "completed"
    },
    "tags": []
   },
   "outputs": [
    {
     "data": {
      "text/plain": [
       "(11977111, 11)"
      ]
     },
     "execution_count": 16,
     "metadata": {},
     "output_type": "execute_result"
    }
   ],
   "source": [
    "df.shape"
   ]
  },
  {
   "cell_type": "code",
   "execution_count": 17,
   "id": "521b60f5-122f-44ac-8dde-3962d8eccb1d",
   "metadata": {
    "execution": {
     "iopub.execute_input": "2023-08-28T21:02:35.520752Z",
     "iopub.status.busy": "2023-08-28T21:02:35.520596Z",
     "iopub.status.idle": "2023-08-28T21:02:35.532671Z",
     "shell.execute_reply": "2023-08-28T21:02:35.532000Z"
    },
    "papermill": {
     "duration": 0.019833,
     "end_time": "2023-08-28T21:02:35.534254",
     "exception": false,
     "start_time": "2023-08-28T21:02:35.514421",
     "status": "completed"
    },
    "tags": []
   },
   "outputs": [
    {
     "data": {
      "text/html": [
       "<div>\n",
       "<style scoped>\n",
       "    .dataframe tbody tr th:only-of-type {\n",
       "        vertical-align: middle;\n",
       "    }\n",
       "\n",
       "    .dataframe tbody tr th {\n",
       "        vertical-align: top;\n",
       "    }\n",
       "\n",
       "    .dataframe thead th {\n",
       "        text-align: right;\n",
       "    }\n",
       "</style>\n",
       "<table border=\"1\" class=\"dataframe\">\n",
       "  <thead>\n",
       "    <tr style=\"text-align: right;\">\n",
       "      <th></th>\n",
       "      <th>SNP</th>\n",
       "      <th>CHR</th>\n",
       "      <th>BP</th>\n",
       "      <th>ALLELE1</th>\n",
       "      <th>ALLELE0</th>\n",
       "      <th>A1FREQ</th>\n",
       "      <th>INFO</th>\n",
       "      <th>BETA</th>\n",
       "      <th>SE</th>\n",
       "      <th>P_BOLT_LMM</th>\n",
       "      <th>HWE_P</th>\n",
       "    </tr>\n",
       "  </thead>\n",
       "  <tbody>\n",
       "    <tr>\n",
       "      <th>0</th>\n",
       "      <td>rs10399793</td>\n",
       "      <td>1</td>\n",
       "      <td>49298</td>\n",
       "      <td>T</td>\n",
       "      <td>C</td>\n",
       "      <td>0.376391</td>\n",
       "      <td>0.342797</td>\n",
       "      <td>-0.003118</td>\n",
       "      <td>0.004764</td>\n",
       "      <td>0.52</td>\n",
       "      <td>0.825830</td>\n",
       "    </tr>\n",
       "    <tr>\n",
       "      <th>1</th>\n",
       "      <td>rs2462492</td>\n",
       "      <td>1</td>\n",
       "      <td>54676</td>\n",
       "      <td>C</td>\n",
       "      <td>T</td>\n",
       "      <td>0.599144</td>\n",
       "      <td>0.340158</td>\n",
       "      <td>-0.000357</td>\n",
       "      <td>0.004721</td>\n",
       "      <td>0.96</td>\n",
       "      <td>0.633757</td>\n",
       "    </tr>\n",
       "    <tr>\n",
       "      <th>2</th>\n",
       "      <td>rs3107975</td>\n",
       "      <td>1</td>\n",
       "      <td>55326</td>\n",
       "      <td>T</td>\n",
       "      <td>C</td>\n",
       "      <td>0.991604</td>\n",
       "      <td>0.324228</td>\n",
       "      <td>0.009961</td>\n",
       "      <td>0.026451</td>\n",
       "      <td>0.72</td>\n",
       "      <td>0.405636</td>\n",
       "    </tr>\n",
       "    <tr>\n",
       "      <th>3</th>\n",
       "      <td>1:70728_C_T</td>\n",
       "      <td>1</td>\n",
       "      <td>70728</td>\n",
       "      <td>C</td>\n",
       "      <td>T</td>\n",
       "      <td>0.997841</td>\n",
       "      <td>0.365713</td>\n",
       "      <td>0.025184</td>\n",
       "      <td>0.047746</td>\n",
       "      <td>0.73</td>\n",
       "      <td>0.666235</td>\n",
       "    </tr>\n",
       "    <tr>\n",
       "      <th>4</th>\n",
       "      <td>rs2462495</td>\n",
       "      <td>1</td>\n",
       "      <td>79033</td>\n",
       "      <td>A</td>\n",
       "      <td>G</td>\n",
       "      <td>0.001262</td>\n",
       "      <td>0.536566</td>\n",
       "      <td>0.026157</td>\n",
       "      <td>0.061400</td>\n",
       "      <td>0.65</td>\n",
       "      <td>0.411469</td>\n",
       "    </tr>\n",
       "  </tbody>\n",
       "</table>\n",
       "</div>"
      ],
      "text/plain": [
       "           SNP  CHR     BP ALLELE1 ALLELE0    A1FREQ      INFO      BETA  \\\n",
       "0   rs10399793    1  49298       T       C  0.376391  0.342797 -0.003118   \n",
       "1    rs2462492    1  54676       C       T  0.599144  0.340158 -0.000357   \n",
       "2    rs3107975    1  55326       T       C  0.991604  0.324228  0.009961   \n",
       "3  1:70728_C_T    1  70728       C       T  0.997841  0.365713  0.025184   \n",
       "4    rs2462495    1  79033       A       G  0.001262  0.536566  0.026157   \n",
       "\n",
       "         SE  P_BOLT_LMM     HWE_P  \n",
       "0  0.004764        0.52  0.825830  \n",
       "1  0.004721        0.96  0.633757  \n",
       "2  0.026451        0.72  0.405636  \n",
       "3  0.047746        0.73  0.666235  \n",
       "4  0.061400        0.65  0.411469  "
      ]
     },
     "execution_count": 17,
     "metadata": {},
     "output_type": "execute_result"
    }
   ],
   "source": [
    "df.head()"
   ]
  },
  {
   "cell_type": "code",
   "execution_count": null,
   "id": "ad85d106-3809-4fc8-8933-b9fd88affad8",
   "metadata": {
    "papermill": {
     "duration": 0.005825,
     "end_time": "2023-08-28T21:02:35.546588",
     "exception": false,
     "start_time": "2023-08-28T21:02:35.540763",
     "status": "completed"
    },
    "tags": []
   },
   "outputs": [],
   "source": []
  }
 ],
 "metadata": {
  "jupytext": {
   "cell_metadata_filter": "all,-execution,-papermill,-trusted",
   "notebook_metadata_filter": "-jupytext.text_representation.jupytext_version"
  },
  "kernelspec": {
   "display_name": "Python 3 (ipykernel)",
   "language": "python",
   "name": "python3"
  },
  "language_info": {
   "codemirror_mode": {
    "name": "ipython",
    "version": 3
   },
   "file_extension": ".py",
   "mimetype": "text/x-python",
   "name": "python",
   "nbconvert_exporter": "python",
   "pygments_lexer": "ipython3",
   "version": "3.10.6"
  },
  "papermill": {
   "default_parameters": {},
   "duration": 13.491217,
   "end_time": "2023-08-28T21:02:35.968631",
   "environment_variables": {},
   "exception": null,
   "input_path": "projects/chronotype/nbs/05_gwas/03-gwas-explore.ipynb",
   "output_path": "projects/chronotype/nbs/05_gwas/03-gwas-explore.run.ipynb",
   "parameters": {
    "PHENOPLIER_NOTEBOOK_FILEPATH": "projects/chronotype/nbs/05_gwas/03-gwas-explore.ipynb"
   },
   "start_time": "2023-08-28T21:02:22.477414",
   "version": "2.3.4"
  }
 },
 "nbformat": 4,
 "nbformat_minor": 5
}
