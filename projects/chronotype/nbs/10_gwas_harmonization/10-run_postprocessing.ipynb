{
 "cells": [
  {
   "cell_type": "markdown",
   "id": "c935aa7e-fde1-4d1c-b2d7-8c7ee611b1ed",
   "metadata": {
    "papermill": {
     "duration": 0.003646,
     "end_time": "2023-08-29T11:56:20.863336",
     "exception": false,
     "start_time": "2023-08-29T11:56:20.859690",
     "status": "completed"
    },
    "tags": []
   },
   "source": [
    "# Description"
   ]
  },
  {
   "cell_type": "markdown",
   "id": "f66770f7-0585-480b-8daa-1483bc37b494",
   "metadata": {
    "papermill": {
     "duration": 0.003038,
     "end_time": "2023-08-29T11:56:20.876532",
     "exception": false,
     "start_time": "2023-08-29T11:56:20.873494",
     "status": "completed"
    },
    "tags": []
   },
   "source": [
    "It runs the GWAS postprocessing step from the script in: https://github.com/hakyimlab/summary-gwas-imputation"
   ]
  },
  {
   "cell_type": "markdown",
   "id": "d389dd7b-20d8-44ed-8053-6e2cd8efea2e",
   "metadata": {
    "papermill": {
     "duration": 0.002983,
     "end_time": "2023-08-29T11:56:20.882615",
     "exception": false,
     "start_time": "2023-08-29T11:56:20.879632",
     "status": "completed"
    },
    "tags": []
   },
   "source": [
    "# Modules"
   ]
  },
  {
   "cell_type": "code",
   "execution_count": 1,
   "id": "69797656-0db2-41d5-b4d6-63c24d47ad38",
   "metadata": {
    "execution": {
     "iopub.execute_input": "2023-08-29T11:56:20.890920Z",
     "iopub.status.busy": "2023-08-29T11:56:20.890442Z",
     "iopub.status.idle": "2023-08-29T11:56:20.925468Z",
     "shell.execute_reply": "2023-08-29T11:56:20.924915Z"
    },
    "papermill": {
     "duration": 0.040276,
     "end_time": "2023-08-29T11:56:20.926775",
     "exception": false,
     "start_time": "2023-08-29T11:56:20.886499",
     "status": "completed"
    },
    "tags": []
   },
   "outputs": [],
   "source": [
    "import os\n",
    "from glob import glob\n",
    "from pathlib import Path\n",
    "\n",
    "from utils import read_log_file_and_check_line_exists\n",
    "import conf"
   ]
  },
  {
   "cell_type": "markdown",
   "id": "dd17aa24-a692-4f62-ac69-c270447c7729",
   "metadata": {
    "papermill": {
     "duration": 0.002998,
     "end_time": "2023-08-29T11:56:20.932620",
     "exception": false,
     "start_time": "2023-08-29T11:56:20.929622",
     "status": "completed"
    },
    "tags": []
   },
   "source": [
    "# Settings"
   ]
  },
  {
   "cell_type": "markdown",
   "id": "3829ee6c-68b6-445e-adce-aa7a6280a56c",
   "metadata": {
    "papermill": {
     "duration": 0.002983,
     "end_time": "2023-08-29T11:56:20.938786",
     "exception": false,
     "start_time": "2023-08-29T11:56:20.935803",
     "status": "completed"
    },
    "tags": []
   },
   "source": [
    "Apparently, there is no easy way to get the parent directory of\n",
    "a notebook in Jupyter, so here I get that information either from\n",
    "the parameter sent by `nbs/run_nbs.sh` (if called from command-line) or\n",
    "from `os.getcwd()` (if called from browser)."
   ]
  },
  {
   "cell_type": "code",
   "execution_count": 2,
   "id": "e8f8093f-7738-448a-b29d-e9059684fcd1",
   "metadata": {
    "execution": {
     "iopub.execute_input": "2023-08-29T11:56:20.945925Z",
     "iopub.status.busy": "2023-08-29T11:56:20.945577Z",
     "iopub.status.idle": "2023-08-29T11:56:20.948625Z",
     "shell.execute_reply": "2023-08-29T11:56:20.948100Z"
    },
    "papermill": {
     "duration": 0.008142,
     "end_time": "2023-08-29T11:56:20.950018",
     "exception": false,
     "start_time": "2023-08-29T11:56:20.941876",
     "status": "completed"
    },
    "tags": [
     "parameters"
    ]
   },
   "outputs": [],
   "source": [
    "PHENOPLIER_NOTEBOOK_FILEPATH = None\n",
    "PHENOPLIER_NOTEBOOK_DIR = os.getcwd()\n",
    "\n",
    "PROJECTS_TRAIT_KEY = \"CHRONOTYPE\""
   ]
  },
  {
   "cell_type": "code",
   "execution_count": 3,
   "id": "a42d55e8",
   "metadata": {
    "execution": {
     "iopub.execute_input": "2023-08-29T11:56:20.957614Z",
     "iopub.status.busy": "2023-08-29T11:56:20.957107Z",
     "iopub.status.idle": "2023-08-29T11:56:20.959971Z",
     "shell.execute_reply": "2023-08-29T11:56:20.959459Z"
    },
    "lines_to_next_cell": 2,
    "papermill": {
     "duration": 0.008031,
     "end_time": "2023-08-29T11:56:20.961378",
     "exception": false,
     "start_time": "2023-08-29T11:56:20.953347",
     "status": "completed"
    },
    "tags": [
     "injected-parameters"
    ]
   },
   "outputs": [],
   "source": [
    "# Parameters\n",
    "PHENOPLIER_NOTEBOOK_FILEPATH = (\n",
    "    \"projects/chronotype/nbs/10_gwas_harmonization/10-run_postprocessing.ipynb\"\n",
    ")"
   ]
  },
  {
   "cell_type": "code",
   "execution_count": 4,
   "id": "80437810-fd28-40ba-8dab-f60424764bfd",
   "metadata": {
    "execution": {
     "iopub.execute_input": "2023-08-29T11:56:20.968775Z",
     "iopub.status.busy": "2023-08-29T11:56:20.968504Z",
     "iopub.status.idle": "2023-08-29T11:56:20.977715Z",
     "shell.execute_reply": "2023-08-29T11:56:20.977205Z"
    },
    "papermill": {
     "duration": 0.014377,
     "end_time": "2023-08-29T11:56:20.979082",
     "exception": false,
     "start_time": "2023-08-29T11:56:20.964705",
     "status": "completed"
    },
    "tags": []
   },
   "outputs": [
    {
     "data": {
      "text/plain": [
       "'projects/chronotype/nbs/10_gwas_harmonization'"
      ]
     },
     "metadata": {},
     "output_type": "display_data"
    }
   ],
   "source": [
    "if PHENOPLIER_NOTEBOOK_FILEPATH is not None:\n",
    "    PHENOPLIER_NOTEBOOK_DIR = str(Path(PHENOPLIER_NOTEBOOK_FILEPATH).parent)\n",
    "\n",
    "display(PHENOPLIER_NOTEBOOK_DIR)"
   ]
  },
  {
   "cell_type": "code",
   "execution_count": 5,
   "id": "7614a44c-cbef-48f5-a011-0876875d20eb",
   "metadata": {
    "execution": {
     "iopub.execute_input": "2023-08-29T11:56:20.986730Z",
     "iopub.status.busy": "2023-08-29T11:56:20.986452Z",
     "iopub.status.idle": "2023-08-29T11:56:20.991511Z",
     "shell.execute_reply": "2023-08-29T11:56:20.991000Z"
    },
    "papermill": {
     "duration": 0.010381,
     "end_time": "2023-08-29T11:56:20.992920",
     "exception": false,
     "start_time": "2023-08-29T11:56:20.982539",
     "status": "completed"
    },
    "tags": []
   },
   "outputs": [
    {
     "data": {
      "text/plain": [
       "PosixPath('/opt/data/projects/chronotype/results/final_imputed_gwas')"
      ]
     },
     "metadata": {},
     "output_type": "display_data"
    },
    {
     "data": {
      "text/plain": [
       "'/opt/data/projects/chronotype/results/final_imputed_gwas'"
      ]
     },
     "metadata": {},
     "output_type": "display_data"
    }
   ],
   "source": [
    "OUTPUT_DIR = conf.PROJECTS[PROJECTS_TRAIT_KEY][\"RESULTS_DIR\"] / \"final_imputed_gwas\"\n",
    "display(OUTPUT_DIR)\n",
    "\n",
    "OUTPUT_DIR_STR = str(OUTPUT_DIR)\n",
    "display(OUTPUT_DIR_STR)"
   ]
  },
  {
   "cell_type": "markdown",
   "id": "3a558eec-2251-4be7-a754-1f98adde3aec",
   "metadata": {
    "papermill": {
     "duration": 0.003381,
     "end_time": "2023-08-29T11:56:20.999726",
     "exception": false,
     "start_time": "2023-08-29T11:56:20.996345",
     "status": "completed"
    },
    "tags": []
   },
   "source": [
    "# Run"
   ]
  },
  {
   "cell_type": "code",
   "execution_count": 6,
   "id": "0c0cd3d9-b032-4f03-82eb-0017a0ef1cca",
   "metadata": {
    "execution": {
     "iopub.execute_input": "2023-08-29T11:56:21.007703Z",
     "iopub.status.busy": "2023-08-29T11:56:21.007426Z",
     "iopub.status.idle": "2023-08-29T11:59:55.557393Z",
     "shell.execute_reply": "2023-08-29T11:59:55.556755Z"
    },
    "papermill": {
     "duration": 214.555452,
     "end_time": "2023-08-29T11:59:55.558685",
     "exception": false,
     "start_time": "2023-08-29T11:56:21.003233",
     "status": "completed"
    },
    "tags": []
   },
   "outputs": [
    {
     "name": "stdout",
     "output_type": "stream",
     "text": [
      "Running for chronotype\n",
      "Saving results in /opt/data/projects/chronotype/results/final_imputed_gwas\n"
     ]
    },
    {
     "name": "stderr",
     "output_type": "stream",
     "text": [
      "+ /opt/data/software/conda_envs/summary_gwas_imputation/bin/python /opt/data/software/summary-gwas-imputation/src/gwas_summary_imputation_postprocess.py -gwas_file /opt/data/projects/chronotype/results/harmonized_gwas/chronotype_raw_BOLT.output_HRC.only_plus.metrics_maf0.001_hwep1em12_info0.3.txt-harmonized.txt -folder /opt/data/projects/chronotype/results/imputed_gwas -pattern 'chronotype_raw_BOLT.output_HRC.only_plus.metrics_maf0.001_hwep1em12_info0.3.txt-harmonized.*\\.txt' -parsimony 7 -output /opt/data/projects/chronotype/results/final_imputed_gwas/chronotype_raw_BOLT.output_HRC.only_plus.metrics_maf0.001_hwep1em12_info0.3.txt-harmonized-imputed.txt.gz\n"
     ]
    },
    {
     "name": "stdout",
     "output_type": "stream",
     "text": [
      "/opt/data/software/conda_envs/summary_gwas_imputation/lib/python3.7/site-packages/scipy/stats/_distn_infrastructure.py:903: RuntimeWarning: invalid value encountered in greater\n",
      "/opt/data/software/conda_envs/summary_gwas_imputation/lib/python3.7/site-packages/scipy/stats/_distn_infrastructure.py:903: RuntimeWarning: invalid value encountered in less\n",
      "/opt/data/software/conda_envs/summary_gwas_imputation/lib/python3.7/site-packages/scipy/stats/_distn_infrastructure.py:1912: RuntimeWarning: invalid value encountered in less_equal\n",
      "\n"
     ]
    },
    {
     "name": "stderr",
     "output_type": "stream",
     "text": [
      "+ set +x\n"
     ]
    }
   ],
   "source": [
    "%%bash -s \"$PHENOPLIER_NOTEBOOK_DIR\" \"$PROJECTS_TRAIT_KEY\" \"$OUTPUT_DIR_STR\"\n",
    "set -euo pipefail\n",
    "# IFS=$'\\n\\t'\n",
    "\n",
    "# read the notebook directory parameter and remove $1\n",
    "export PHENOPLIER_NOTEBOOK_DIR=\"${PHENOPLIER_CODE_DIR}/$1\"\n",
    "shift\n",
    "\n",
    "# read trait key\n",
    "export PROJECTS_TRAIT_KEY=\"$1\"\n",
    "shift\n",
    "\n",
    "# read output dir\n",
    "export OUTPUT_DIR=\"$1\"\n",
    "shift\n",
    "\n",
    "run_job () {\n",
    "    # run_job is a standard function name that performs a particular job\n",
    "    # depending on the context. It will be called by GNU Parallel below.\n",
    "    #\n",
    "    # The implementation here runs the GLS model of PhenoPLIER on a trait.\n",
    "\n",
    "    # read trait information\n",
    "    # the first parameter to this function is a string with values separated by\n",
    "    # commas (,). So here I split those into different variables.\n",
    "    IFS=',' read -r pheno_id file sample_size n_cases <<< \"$1\"\n",
    "\n",
    "    INPUT_FILENAME=\"${file%.*}\"\n",
    "\n",
    "    env_name=\"PHENOPLIER_PROJECTS_${PROJECTS_TRAIT_KEY}_RESULTS_DIR\"\n",
    "    IMPUTED_GWAS_DIR=\"${!env_name}/imputed_gwas\"\n",
    "    INPUTED_GWAS_FILE_PATTERN=\"${INPUT_FILENAME}-harmonized\"\n",
    "\n",
    "    # get input GWAS file, there should be a single file\n",
    "    # here I make sure that there are no other files in the folder that\n",
    "    # match this phenotype/trait filename prefix\n",
    "    env_name=\"PHENOPLIER_PROJECTS_${PROJECTS_TRAIT_KEY}_RESULTS_DIR\"\n",
    "    GWAS_DIR=\"${!env_name}/harmonized_gwas\"\n",
    "    N_GWAS_FILES=$(ls ${GWAS_DIR}/${INPUT_FILENAME}*.txt | wc -l)\n",
    "    if [ \"${N_GWAS_FILES}\" != \"1\" ]; then\n",
    "        echo \"ERROR: found ${N_GWAS_FILES} GWAS files instead of one\"\n",
    "        exit 1\n",
    "    fi\n",
    "    INPUT_GWAS_FILEPATH=$(ls ${GWAS_DIR}/${INPUT_FILENAME}*.txt)\n",
    "\n",
    "    mkdir -p \"${OUTPUT_DIR}\"\n",
    "\n",
    "    # make sure we are not also parallelizing within numpy, etc\n",
    "    export NUMBA_NUM_THREADS=1\n",
    "    export MKL_NUM_THREADS=1\n",
    "    export OPEN_BLAS_NUM_THREADS=1\n",
    "    export NUMEXPR_NUM_THREADS=1\n",
    "    export OMP_NUM_THREADS=1\n",
    "\n",
    "    echo \"Running for $pheno_id\"\n",
    "    echo \"Saving results in ${OUTPUT_DIR}\"\n",
    "\n",
    "    bash \"${PHENOPLIER_CODE_DIR}/scripts/gwas_postprocess.sh\" \\\n",
    "        --input-gwas-file \"${INPUT_GWAS_FILEPATH}\" \\\n",
    "        --imputed-gwas-folder \"${IMPUTED_GWAS_DIR}\" \\\n",
    "        --phenotype-name \"${INPUTED_GWAS_FILE_PATTERN}\" \\\n",
    "        --output-dir \"${OUTPUT_DIR}\"\n",
    "\n",
    "    # print errors here in the notebook\n",
    "    # first, look for the log file for this trait\n",
    "    pattern=\"${OUTPUT_DIR}/${INPUT_FILENAME}*.log\"\n",
    "\n",
    "    N_LOG_FILES=$(ls ${pattern} | wc -l)\n",
    "    if [ \"${N_LOG_FILES}\" != \"1\" ]; then\n",
    "        echo \"ERROR: found ${N_LOG_FILES} log files instead of one\"\n",
    "        exit 1\n",
    "    fi\n",
    "    LOG_FILE=$(ls ${pattern})\n",
    "\n",
    "    cat \"${LOG_FILE}\" | grep -iE \"warning|error\"\n",
    "\n",
    "    echo\n",
    "}\n",
    "\n",
    "# export function so GNU Parallel can see it\n",
    "export -f run_job\n",
    "\n",
    "# generate a list of run_job calls for GNU Parallel\n",
    "# here I read a file with information about traits (one trait per line)\n",
    "env_name=\"PHENOPLIER_PROJECTS_${PROJECTS_TRAIT_KEY}_TRAITS_INFO_FILE\"\n",
    "while IFS= read -r line; do\n",
    "    echo run_job \"${line}\"\n",
    "done < <(tail -n \"+2\" \"${!env_name}\") |\n",
    "    parallel -k --lb --halt 2 -j${PHENOPLIER_GENERAL_N_JOBS}"
   ]
  },
  {
   "cell_type": "markdown",
   "id": "b9de8ab0-1d95-4d08-82bb-376e704fd0df",
   "metadata": {
    "papermill": {
     "duration": 0.002148,
     "end_time": "2023-08-29T11:59:55.568816",
     "exception": false,
     "start_time": "2023-08-29T11:59:55.566668",
     "status": "completed"
    },
    "tags": []
   },
   "source": [
    "# Perform some checks in output and log files"
   ]
  },
  {
   "cell_type": "code",
   "execution_count": 7,
   "id": "a48b5427-95ab-4d89-9b09-ea9f2344a6af",
   "metadata": {
    "execution": {
     "iopub.execute_input": "2023-08-29T11:59:55.573785Z",
     "iopub.status.busy": "2023-08-29T11:59:55.573618Z",
     "iopub.status.idle": "2023-08-29T11:59:55.576931Z",
     "shell.execute_reply": "2023-08-29T11:59:55.576394Z"
    },
    "papermill": {
     "duration": 0.007091,
     "end_time": "2023-08-29T11:59:55.577933",
     "exception": false,
     "start_time": "2023-08-29T11:59:55.570842",
     "status": "completed"
    },
    "tags": []
   },
   "outputs": [],
   "source": [
    "assert OUTPUT_DIR.exists()"
   ]
  },
  {
   "cell_type": "code",
   "execution_count": 8,
   "id": "6d2b50d0-fc92-46fd-a48c-8748ad04d014",
   "metadata": {
    "execution": {
     "iopub.execute_input": "2023-08-29T11:59:55.583024Z",
     "iopub.status.busy": "2023-08-29T11:59:55.582880Z",
     "iopub.status.idle": "2023-08-29T11:59:55.585801Z",
     "shell.execute_reply": "2023-08-29T11:59:55.585282Z"
    },
    "papermill": {
     "duration": 0.006472,
     "end_time": "2023-08-29T11:59:55.586736",
     "exception": false,
     "start_time": "2023-08-29T11:59:55.580264",
     "status": "completed"
    },
    "tags": []
   },
   "outputs": [],
   "source": [
    "log_files = OUTPUT_DIR.glob(\"*.log\")"
   ]
  },
  {
   "cell_type": "code",
   "execution_count": 9,
   "id": "01b58633-03fd-48c3-b95d-d1d37f19bd9c",
   "metadata": {
    "execution": {
     "iopub.execute_input": "2023-08-29T11:59:55.591713Z",
     "iopub.status.busy": "2023-08-29T11:59:55.591288Z",
     "iopub.status.idle": "2023-08-29T11:59:55.594791Z",
     "shell.execute_reply": "2023-08-29T11:59:55.594259Z"
    },
    "papermill": {
     "duration": 0.006966,
     "end_time": "2023-08-29T11:59:55.595705",
     "exception": false,
     "start_time": "2023-08-29T11:59:55.588739",
     "status": "completed"
    },
    "tags": []
   },
   "outputs": [],
   "source": [
    "for f in log_files:\n",
    "    read_log_file_and_check_line_exists(\n",
    "        f,\n",
    "        [\n",
    "            \"INFO - Finished in\",\n",
    "        ],\n",
    "    )"
   ]
  }
 ],
 "metadata": {
  "jupytext": {
   "cell_metadata_filter": "all,-execution,-papermill,-trusted",
   "notebook_metadata_filter": "-jupytext.text_representation.jupytext_version"
  },
  "kernelspec": {
   "display_name": "Python 3 (ipykernel)",
   "language": "python",
   "name": "python3"
  },
  "language_info": {
   "codemirror_mode": {
    "name": "ipython",
    "version": 3
   },
   "file_extension": ".py",
   "mimetype": "text/x-python",
   "name": "python",
   "nbconvert_exporter": "python",
   "pygments_lexer": "ipython3",
   "version": "3.10.6"
  },
  "papermill": {
   "default_parameters": {},
   "duration": 215.922196,
   "end_time": "2023-08-29T11:59:55.812277",
   "environment_variables": {},
   "exception": null,
   "input_path": "projects/chronotype/nbs/10_gwas_harmonization/10-run_postprocessing.ipynb",
   "output_path": "projects/chronotype/nbs/10_gwas_harmonization/10-run_postprocessing.run.ipynb",
   "parameters": {
    "PHENOPLIER_NOTEBOOK_FILEPATH": "projects/chronotype/nbs/10_gwas_harmonization/10-run_postprocessing.ipynb"
   },
   "start_time": "2023-08-29T11:56:19.890081",
   "version": "2.3.4"
  }
 },
 "nbformat": 4,
 "nbformat_minor": 5
}
