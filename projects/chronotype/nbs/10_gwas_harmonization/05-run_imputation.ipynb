{
 "cells": [
  {
   "cell_type": "markdown",
   "id": "c935aa7e-fde1-4d1c-b2d7-8c7ee611b1ed",
   "metadata": {
    "papermill": {
     "duration": 0.003733,
     "end_time": "2023-08-29T04:04:40.114922",
     "exception": false,
     "start_time": "2023-08-29T04:04:40.111189",
     "status": "completed"
    },
    "tags": []
   },
   "source": [
    "# Description"
   ]
  },
  {
   "cell_type": "markdown",
   "id": "f66770f7-0585-480b-8daa-1483bc37b494",
   "metadata": {
    "papermill": {
     "duration": 0.00401,
     "end_time": "2023-08-29T04:04:40.128996",
     "exception": false,
     "start_time": "2023-08-29T04:04:40.124986",
     "status": "completed"
    },
    "tags": []
   },
   "source": [
    "It runs the GWAS imputation step from the script in: https://github.com/hakyimlab/summary-gwas-imputation"
   ]
  },
  {
   "cell_type": "markdown",
   "id": "d389dd7b-20d8-44ed-8053-6e2cd8efea2e",
   "metadata": {
    "papermill": {
     "duration": 0.003014,
     "end_time": "2023-08-29T04:04:40.135163",
     "exception": false,
     "start_time": "2023-08-29T04:04:40.132149",
     "status": "completed"
    },
    "tags": []
   },
   "source": [
    "# Modules"
   ]
  },
  {
   "cell_type": "code",
   "execution_count": 1,
   "id": "69797656-0db2-41d5-b4d6-63c24d47ad38",
   "metadata": {
    "execution": {
     "iopub.execute_input": "2023-08-29T04:04:40.143704Z",
     "iopub.status.busy": "2023-08-29T04:04:40.143100Z",
     "iopub.status.idle": "2023-08-29T04:04:40.178244Z",
     "shell.execute_reply": "2023-08-29T04:04:40.177624Z"
    },
    "papermill": {
     "duration": 0.041561,
     "end_time": "2023-08-29T04:04:40.179793",
     "exception": false,
     "start_time": "2023-08-29T04:04:40.138232",
     "status": "completed"
    },
    "tags": []
   },
   "outputs": [],
   "source": [
    "import os\n",
    "from glob import glob\n",
    "from pathlib import Path\n",
    "\n",
    "from utils import read_log_file_and_check_line_exists\n",
    "import conf"
   ]
  },
  {
   "cell_type": "markdown",
   "id": "dd17aa24-a692-4f62-ac69-c270447c7729",
   "metadata": {
    "papermill": {
     "duration": 0.003032,
     "end_time": "2023-08-29T04:04:40.185971",
     "exception": false,
     "start_time": "2023-08-29T04:04:40.182939",
     "status": "completed"
    },
    "tags": []
   },
   "source": [
    "# Settings"
   ]
  },
  {
   "cell_type": "markdown",
   "id": "3829ee6c-68b6-445e-adce-aa7a6280a56c",
   "metadata": {
    "papermill": {
     "duration": 0.003137,
     "end_time": "2023-08-29T04:04:40.192190",
     "exception": false,
     "start_time": "2023-08-29T04:04:40.189053",
     "status": "completed"
    },
    "tags": []
   },
   "source": [
    "Apparently, there is no easy way to get the parent directory of\n",
    "a notebook in Jupyter, so here I get that information either from\n",
    "the parameter sent by `nbs/run_nbs.sh` (if called from command-line) or\n",
    "from `os.getcwd()` (if called from browser)."
   ]
  },
  {
   "cell_type": "code",
   "execution_count": 2,
   "id": "e8f8093f-7738-448a-b29d-e9059684fcd1",
   "metadata": {
    "execution": {
     "iopub.execute_input": "2023-08-29T04:04:40.199462Z",
     "iopub.status.busy": "2023-08-29T04:04:40.199049Z",
     "iopub.status.idle": "2023-08-29T04:04:40.202143Z",
     "shell.execute_reply": "2023-08-29T04:04:40.201620Z"
    },
    "papermill": {
     "duration": 0.008286,
     "end_time": "2023-08-29T04:04:40.203557",
     "exception": false,
     "start_time": "2023-08-29T04:04:40.195271",
     "status": "completed"
    },
    "tags": [
     "parameters"
    ]
   },
   "outputs": [],
   "source": [
    "PHENOPLIER_NOTEBOOK_FILEPATH = None\n",
    "PHENOPLIER_NOTEBOOK_DIR = os.getcwd()\n",
    "\n",
    "PROJECTS_TRAIT_KEY = \"CHRONOTYPE\""
   ]
  },
  {
   "cell_type": "code",
   "execution_count": 3,
   "id": "84634c7c",
   "metadata": {
    "execution": {
     "iopub.execute_input": "2023-08-29T04:04:40.210848Z",
     "iopub.status.busy": "2023-08-29T04:04:40.210560Z",
     "iopub.status.idle": "2023-08-29T04:04:40.213373Z",
     "shell.execute_reply": "2023-08-29T04:04:40.212799Z"
    },
    "lines_to_next_cell": 2,
    "papermill": {
     "duration": 0.008128,
     "end_time": "2023-08-29T04:04:40.214813",
     "exception": false,
     "start_time": "2023-08-29T04:04:40.206685",
     "status": "completed"
    },
    "tags": [
     "injected-parameters"
    ]
   },
   "outputs": [],
   "source": [
    "# Parameters\n",
    "PHENOPLIER_NOTEBOOK_FILEPATH = (\n",
    "    \"projects/chronotype/nbs/10_gwas_harmonization/05-run_imputation.ipynb\"\n",
    ")"
   ]
  },
  {
   "cell_type": "code",
   "execution_count": 4,
   "id": "80437810-fd28-40ba-8dab-f60424764bfd",
   "metadata": {
    "execution": {
     "iopub.execute_input": "2023-08-29T04:04:40.222318Z",
     "iopub.status.busy": "2023-08-29T04:04:40.222177Z",
     "iopub.status.idle": "2023-08-29T04:04:40.231514Z",
     "shell.execute_reply": "2023-08-29T04:04:40.230997Z"
    },
    "papermill": {
     "duration": 0.015003,
     "end_time": "2023-08-29T04:04:40.232970",
     "exception": false,
     "start_time": "2023-08-29T04:04:40.217967",
     "status": "completed"
    },
    "tags": []
   },
   "outputs": [
    {
     "data": {
      "text/plain": [
       "'projects/chronotype/nbs/10_gwas_harmonization'"
      ]
     },
     "metadata": {},
     "output_type": "display_data"
    }
   ],
   "source": [
    "if PHENOPLIER_NOTEBOOK_FILEPATH is not None:\n",
    "    PHENOPLIER_NOTEBOOK_DIR = str(Path(PHENOPLIER_NOTEBOOK_FILEPATH).parent)\n",
    "\n",
    "display(PHENOPLIER_NOTEBOOK_DIR)"
   ]
  },
  {
   "cell_type": "code",
   "execution_count": 5,
   "id": "7614a44c-cbef-48f5-a011-0876875d20eb",
   "metadata": {
    "execution": {
     "iopub.execute_input": "2023-08-29T04:04:40.240633Z",
     "iopub.status.busy": "2023-08-29T04:04:40.240277Z",
     "iopub.status.idle": "2023-08-29T04:04:40.245400Z",
     "shell.execute_reply": "2023-08-29T04:04:40.244900Z"
    },
    "papermill": {
     "duration": 0.010326,
     "end_time": "2023-08-29T04:04:40.246737",
     "exception": false,
     "start_time": "2023-08-29T04:04:40.236411",
     "status": "completed"
    },
    "tags": []
   },
   "outputs": [
    {
     "data": {
      "text/plain": [
       "PosixPath('/opt/data/projects/chronotype/results/imputed_gwas')"
      ]
     },
     "metadata": {},
     "output_type": "display_data"
    },
    {
     "data": {
      "text/plain": [
       "'/opt/data/projects/chronotype/results/imputed_gwas'"
      ]
     },
     "metadata": {},
     "output_type": "display_data"
    }
   ],
   "source": [
    "OUTPUT_DIR = conf.PROJECTS[PROJECTS_TRAIT_KEY][\"RESULTS_DIR\"] / \"imputed_gwas\"\n",
    "display(OUTPUT_DIR)\n",
    "\n",
    "OUTPUT_DIR_STR = str(OUTPUT_DIR)\n",
    "display(OUTPUT_DIR_STR)"
   ]
  },
  {
   "cell_type": "markdown",
   "id": "3a558eec-2251-4be7-a754-1f98adde3aec",
   "metadata": {
    "papermill": {
     "duration": 0.003416,
     "end_time": "2023-08-29T04:04:40.253585",
     "exception": false,
     "start_time": "2023-08-29T04:04:40.250169",
     "status": "completed"
    },
    "tags": []
   },
   "source": [
    "# Run"
   ]
  },
  {
   "cell_type": "code",
   "execution_count": 6,
   "id": "0c0cd3d9-b032-4f03-82eb-0017a0ef1cca",
   "metadata": {
    "execution": {
     "iopub.execute_input": "2023-08-29T04:04:40.261438Z",
     "iopub.status.busy": "2023-08-29T04:04:40.261156Z",
     "iopub.status.idle": "2023-08-29T08:47:31.195644Z",
     "shell.execute_reply": "2023-08-29T08:47:31.194991Z"
    },
    "papermill": {
     "duration": 16971.00671,
     "end_time": "2023-08-29T08:47:31.263786",
     "exception": false,
     "start_time": "2023-08-29T04:04:40.257076",
     "status": "completed"
    },
    "tags": []
   },
   "outputs": [
    {
     "name": "stdout",
     "output_type": "stream",
     "text": [
      "Running for chronotype, 1, 0\n",
      "Saving results in /opt/data/projects/chronotype/results/imputed_gwas\n"
     ]
    },
    {
     "name": "stderr",
     "output_type": "stream",
     "text": [
      "+ /opt/data/software/conda_envs/summary_gwas_imputation/bin/python /opt/data/software/summary-gwas-imputation/src/gwas_summary_imputation.py -by_region_file /opt/data/data/eur_ld.bed.gz -gwas_file /opt/data/projects/chronotype/results/harmonized_gwas/chronotype_raw_BOLT.output_HRC.only_plus.metrics_maf0.001_hwep1em12_info0.3.txt-harmonized.txt -parquet_genotype /opt/data/data/phenomexcan/ld_blocks/reference_panel_1000G/chr1.variants.parquet -parquet_genotype_metadata /opt/data/data/phenomexcan/ld_blocks/reference_panel_1000G/variant_metadata.parquet -window 100000 -parsimony 7 -chromosome 1 -regularization 0.1 -frequency_filter 0.01 -sub_batches 10 -sub_batch 0 --standardise_dosages -output /opt/data/projects/chronotype/results/imputed_gwas/chronotype_raw_BOLT.output_HRC.only_plus.metrics_maf0.001_hwep1em12_info0.3.txt-harmonized-imputed-chr1-batch0_10.txt\n"
     ]
    },
    {
     "name": "stdout",
     "output_type": "stream",
     "text": [
      "/opt/data/software/conda_envs/summary_gwas_imputation/lib/python3.7/site-packages/pyarrow/pandas_compat.py:752: FutureWarning: .labels was deprecated in version 0.24.0. Use .codes instead.\n",
      "\n"
     ]
    },
    {
     "name": "stderr",
     "output_type": "stream",
     "text": [
      "+ set +x\n"
     ]
    },
    {
     "name": "stdout",
     "output_type": "stream",
     "text": [
      "Running for chronotype, 1, 1\n",
      "Saving results in /opt/data/projects/chronotype/results/imputed_gwas\n",
      "/opt/data/software/conda_envs/summary_gwas_imputation/lib/python3.7/site-packages/pyarrow/pandas_compat.py:752: FutureWarning: .labels was deprecated in version 0.24.0. Use .codes instead.\n",
      "\n"
     ]
    },
    {
     "name": "stderr",
     "output_type": "stream",
     "text": [
      "+ /opt/data/software/conda_envs/summary_gwas_imputation/bin/python /opt/data/software/summary-gwas-imputation/src/gwas_summary_imputation.py -by_region_file /opt/data/data/eur_ld.bed.gz -gwas_file /opt/data/projects/chronotype/results/harmonized_gwas/chronotype_raw_BOLT.output_HRC.only_plus.metrics_maf0.001_hwep1em12_info0.3.txt-harmonized.txt -parquet_genotype /opt/data/data/phenomexcan/ld_blocks/reference_panel_1000G/chr1.variants.parquet -parquet_genotype_metadata /opt/data/data/phenomexcan/ld_blocks/reference_panel_1000G/variant_metadata.parquet -window 100000 -parsimony 7 -chromosome 1 -regularization 0.1 -frequency_filter 0.01 -sub_batches 10 -sub_batch 1 --standardise_dosages -output /opt/data/projects/chronotype/results/imputed_gwas/chronotype_raw_BOLT.output_HRC.only_plus.metrics_maf0.001_hwep1em12_info0.3.txt-harmonized-imputed-chr1-batch1_10.txt\n",
      "+ set +x\n",
      "+ /opt/data/software/conda_envs/summary_gwas_imputation/bin/python /opt/data/software/summary-gwas-imputation/src/gwas_summary_imputation.py -by_region_file /opt/data/data/eur_ld.bed.gz -gwas_file /opt/data/projects/chronotype/results/harmonized_gwas/chronotype_raw_BOLT.output_HRC.only_plus.metrics_maf0.001_hwep1em12_info0.3.txt-harmonized.txt -parquet_genotype /opt/data/data/phenomexcan/ld_blocks/reference_panel_1000G/chr1.variants.parquet -parquet_genotype_metadata /opt/data/data/phenomexcan/ld_blocks/reference_panel_1000G/variant_metadata.parquet -window 100000 -parsimony 7 -chromosome 1 -regularization 0.1 -frequency_filter 0.01 -sub_batches 10 -sub_batch 2 --standardise_dosages -output /opt/data/projects/chronotype/results/imputed_gwas/chronotype_raw_BOLT.output_HRC.only_plus.metrics_maf0.001_hwep1em12_info0.3.txt-harmonized-imputed-chr1-batch2_10.txt\n",
      "+ set +x\n",
      "+ /opt/data/software/conda_envs/summary_gwas_imputation/bin/python /opt/data/software/summary-gwas-imputation/src/gwas_summary_imputation.py -by_region_file /opt/data/data/eur_ld.bed.gz -gwas_file /opt/data/projects/chronotype/results/harmonized_gwas/chronotype_raw_BOLT.output_HRC.only_plus.metrics_maf0.001_hwep1em12_info0.3.txt-harmonized.txt -parquet_genotype /opt/data/data/phenomexcan/ld_blocks/reference_panel_1000G/chr1.variants.parquet -parquet_genotype_metadata /opt/data/data/phenomexcan/ld_blocks/reference_panel_1000G/variant_metadata.parquet -window 100000 -parsimony 7 -chromosome 1 -regularization 0.1 -frequency_filter 0.01 -sub_batches 10 -sub_batch 3 --standardise_dosages -output /opt/data/projects/chronotype/results/imputed_gwas/chronotype_raw_BOLT.output_HRC.only_plus.metrics_maf0.001_hwep1em12_info0.3.txt-harmonized-imputed-chr1-batch3_10.txt\n"
     ]
    },
    {
     "name": "stdout",
     "output_type": "stream",
     "text": [
      "Running for chronotype, 1, 2\n",
      "Saving results in /opt/data/projects/chronotype/results/imputed_gwas\n",
      "/opt/data/software/conda_envs/summary_gwas_imputation/lib/python3.7/site-packages/pyarrow/pandas_compat.py:752: FutureWarning: .labels was deprecated in version 0.24.0. Use .codes instead.\n",
      "\n",
      "Running for chronotype, 1, 3\n",
      "Saving results in /opt/data/projects/chronotype/results/imputed_gwas\n",
      "/opt/data/software/conda_envs/summary_gwas_imputation/lib/python3.7/site-packages/pyarrow/pandas_compat.py:752: FutureWarning: .labels was deprecated in version 0.24.0. Use .codes instead.\n",
      "\n"
     ]
    },
    {
     "name": "stderr",
     "output_type": "stream",
     "text": [
      "+ set +x\n"
     ]
    },
    {
     "name": "stdout",
     "output_type": "stream",
     "text": [
      "Running for chronotype, 1, 4\n",
      "Saving results in /opt/data/projects/chronotype/results/imputed_gwas\n",
      "/opt/data/software/conda_envs/summary_gwas_imputation/lib/python3.7/site-packages/pyarrow/pandas_compat.py:752: FutureWarning: .labels was deprecated in version 0.24.0. Use .codes instead.\n",
      "\n",
      "Running for chronotype, 1, 5\n",
      "Saving results in /opt/data/projects/chronotype/results/imputed_gwas\n",
      "/opt/data/software/conda_envs/summary_gwas_imputation/lib/python3.7/site-packages/pyarrow/pandas_compat.py:752: FutureWarning: .labels was deprecated in version 0.24.0. Use .codes instead.\n",
      "\n",
      "Running for chronotype, 1, 6\n",
      "Saving results in /opt/data/projects/chronotype/results/imputed_gwas\n"
     ]
    },
    {
     "name": "stderr",
     "output_type": "stream",
     "text": [
      "+ /opt/data/software/conda_envs/summary_gwas_imputation/bin/python /opt/data/software/summary-gwas-imputation/src/gwas_summary_imputation.py -by_region_file /opt/data/data/eur_ld.bed.gz -gwas_file /opt/data/projects/chronotype/results/harmonized_gwas/chronotype_raw_BOLT.output_HRC.only_plus.metrics_maf0.001_hwep1em12_info0.3.txt-harmonized.txt -parquet_genotype /opt/data/data/phenomexcan/ld_blocks/reference_panel_1000G/chr1.variants.parquet -parquet_genotype_metadata /opt/data/data/phenomexcan/ld_blocks/reference_panel_1000G/variant_metadata.parquet -window 100000 -parsimony 7 -chromosome 1 -regularization 0.1 -frequency_filter 0.01 -sub_batches 10 -sub_batch 4 --standardise_dosages -output /opt/data/projects/chronotype/results/imputed_gwas/chronotype_raw_BOLT.output_HRC.only_plus.metrics_maf0.001_hwep1em12_info0.3.txt-harmonized-imputed-chr1-batch4_10.txt\n",
      "+ set +x\n",
      "+ /opt/data/software/conda_envs/summary_gwas_imputation/bin/python /opt/data/software/summary-gwas-imputation/src/gwas_summary_imputation.py -by_region_file /opt/data/data/eur_ld.bed.gz -gwas_file /opt/data/projects/chronotype/results/harmonized_gwas/chronotype_raw_BOLT.output_HRC.only_plus.metrics_maf0.001_hwep1em12_info0.3.txt-harmonized.txt -parquet_genotype /opt/data/data/phenomexcan/ld_blocks/reference_panel_1000G/chr1.variants.parquet -parquet_genotype_metadata /opt/data/data/phenomexcan/ld_blocks/reference_panel_1000G/variant_metadata.parquet -window 100000 -parsimony 7 -chromosome 1 -regularization 0.1 -frequency_filter 0.01 -sub_batches 10 -sub_batch 5 --standardise_dosages -output /opt/data/projects/chronotype/results/imputed_gwas/chronotype_raw_BOLT.output_HRC.only_plus.metrics_maf0.001_hwep1em12_info0.3.txt-harmonized-imputed-chr1-batch5_10.txt\n",
      "+ set +x\n",
      "+ /opt/data/software/conda_envs/summary_gwas_imputation/bin/python /opt/data/software/summary-gwas-imputation/src/gwas_summary_imputation.py -by_region_file /opt/data/data/eur_ld.bed.gz -gwas_file /opt/data/projects/chronotype/results/harmonized_gwas/chronotype_raw_BOLT.output_HRC.only_plus.metrics_maf0.001_hwep1em12_info0.3.txt-harmonized.txt -parquet_genotype /opt/data/data/phenomexcan/ld_blocks/reference_panel_1000G/chr1.variants.parquet -parquet_genotype_metadata /opt/data/data/phenomexcan/ld_blocks/reference_panel_1000G/variant_metadata.parquet -window 100000 -parsimony 7 -chromosome 1 -regularization 0.1 -frequency_filter 0.01 -sub_batches 10 -sub_batch 6 --standardise_dosages -output /opt/data/projects/chronotype/results/imputed_gwas/chronotype_raw_BOLT.output_HRC.only_plus.metrics_maf0.001_hwep1em12_info0.3.txt-harmonized-imputed-chr1-batch6_10.txt\n"
     ]
    },
    {
     "name": "stdout",
     "output_type": "stream",
     "text": [
      "/opt/data/software/conda_envs/summary_gwas_imputation/lib/python3.7/site-packages/pyarrow/pandas_compat.py:752: FutureWarning: .labels was deprecated in version 0.24.0. Use .codes instead.\n",
      "\n"
     ]
    },
    {
     "name": "stderr",
     "output_type": "stream",
     "text": [
      "+ set +x\n"
     ]
    },
    {
     "name": "stdout",
     "output_type": "stream",
     "text": [
      "Running for chronotype, 1, 7\n",
      "Saving results in /opt/data/projects/chronotype/results/imputed_gwas\n",
      "/opt/data/software/conda_envs/summary_gwas_imputation/lib/python3.7/site-packages/pyarrow/pandas_compat.py:752: FutureWarning: .labels was deprecated in version 0.24.0. Use .codes instead.\n",
      "\n"
     ]
    },
    {
     "name": "stderr",
     "output_type": "stream",
     "text": [
      "+ /opt/data/software/conda_envs/summary_gwas_imputation/bin/python /opt/data/software/summary-gwas-imputation/src/gwas_summary_imputation.py -by_region_file /opt/data/data/eur_ld.bed.gz -gwas_file /opt/data/projects/chronotype/results/harmonized_gwas/chronotype_raw_BOLT.output_HRC.only_plus.metrics_maf0.001_hwep1em12_info0.3.txt-harmonized.txt -parquet_genotype /opt/data/data/phenomexcan/ld_blocks/reference_panel_1000G/chr1.variants.parquet -parquet_genotype_metadata /opt/data/data/phenomexcan/ld_blocks/reference_panel_1000G/variant_metadata.parquet -window 100000 -parsimony 7 -chromosome 1 -regularization 0.1 -frequency_filter 0.01 -sub_batches 10 -sub_batch 7 --standardise_dosages -output /opt/data/projects/chronotype/results/imputed_gwas/chronotype_raw_BOLT.output_HRC.only_plus.metrics_maf0.001_hwep1em12_info0.3.txt-harmonized-imputed-chr1-batch7_10.txt\n",
      "+ set +x\n"
     ]
    },
    {
     "name": "stdout",
     "output_type": "stream",
     "text": [
      "Running for chronotype, 1, 8\n",
      "Saving results in /opt/data/projects/chronotype/results/imputed_gwas\n",
      "/opt/data/software/conda_envs/summary_gwas_imputation/lib/python3.7/site-packages/pyarrow/pandas_compat.py:752: FutureWarning: .labels was deprecated in version 0.24.0. Use .codes instead.\n",
      "\n",
      "Running for chronotype, 1, 9\n",
      "Saving results in /opt/data/projects/chronotype/results/imputed_gwas\n",
      "/opt/data/software/conda_envs/summary_gwas_imputation/lib/python3.7/site-packages/pyarrow/pandas_compat.py:752: FutureWarning: .labels was deprecated in version 0.24.0. Use .codes instead.\n",
      "\n",
      "Running for chronotype, 2, 0\n",
      "Saving results in /opt/data/projects/chronotype/results/imputed_gwas\n"
     ]
    },
    {
     "name": "stderr",
     "output_type": "stream",
     "text": [
      "+ /opt/data/software/conda_envs/summary_gwas_imputation/bin/python /opt/data/software/summary-gwas-imputation/src/gwas_summary_imputation.py -by_region_file /opt/data/data/eur_ld.bed.gz -gwas_file /opt/data/projects/chronotype/results/harmonized_gwas/chronotype_raw_BOLT.output_HRC.only_plus.metrics_maf0.001_hwep1em12_info0.3.txt-harmonized.txt -parquet_genotype /opt/data/data/phenomexcan/ld_blocks/reference_panel_1000G/chr1.variants.parquet -parquet_genotype_metadata /opt/data/data/phenomexcan/ld_blocks/reference_panel_1000G/variant_metadata.parquet -window 100000 -parsimony 7 -chromosome 1 -regularization 0.1 -frequency_filter 0.01 -sub_batches 10 -sub_batch 8 --standardise_dosages -output /opt/data/projects/chronotype/results/imputed_gwas/chronotype_raw_BOLT.output_HRC.only_plus.metrics_maf0.001_hwep1em12_info0.3.txt-harmonized-imputed-chr1-batch8_10.txt\n",
      "+ set +x\n",
      "+ /opt/data/software/conda_envs/summary_gwas_imputation/bin/python /opt/data/software/summary-gwas-imputation/src/gwas_summary_imputation.py -by_region_file /opt/data/data/eur_ld.bed.gz -gwas_file /opt/data/projects/chronotype/results/harmonized_gwas/chronotype_raw_BOLT.output_HRC.only_plus.metrics_maf0.001_hwep1em12_info0.3.txt-harmonized.txt -parquet_genotype /opt/data/data/phenomexcan/ld_blocks/reference_panel_1000G/chr1.variants.parquet -parquet_genotype_metadata /opt/data/data/phenomexcan/ld_blocks/reference_panel_1000G/variant_metadata.parquet -window 100000 -parsimony 7 -chromosome 1 -regularization 0.1 -frequency_filter 0.01 -sub_batches 10 -sub_batch 9 --standardise_dosages -output /opt/data/projects/chronotype/results/imputed_gwas/chronotype_raw_BOLT.output_HRC.only_plus.metrics_maf0.001_hwep1em12_info0.3.txt-harmonized-imputed-chr1-batch9_10.txt\n",
      "+ set +x\n",
      "+ /opt/data/software/conda_envs/summary_gwas_imputation/bin/python /opt/data/software/summary-gwas-imputation/src/gwas_summary_imputation.py -by_region_file /opt/data/data/eur_ld.bed.gz -gwas_file /opt/data/projects/chronotype/results/harmonized_gwas/chronotype_raw_BOLT.output_HRC.only_plus.metrics_maf0.001_hwep1em12_info0.3.txt-harmonized.txt -parquet_genotype /opt/data/data/phenomexcan/ld_blocks/reference_panel_1000G/chr2.variants.parquet -parquet_genotype_metadata /opt/data/data/phenomexcan/ld_blocks/reference_panel_1000G/variant_metadata.parquet -window 100000 -parsimony 7 -chromosome 2 -regularization 0.1 -frequency_filter 0.01 -sub_batches 10 -sub_batch 0 --standardise_dosages -output /opt/data/projects/chronotype/results/imputed_gwas/chronotype_raw_BOLT.output_HRC.only_plus.metrics_maf0.001_hwep1em12_info0.3.txt-harmonized-imputed-chr2-batch0_10.txt\n"
     ]
    },
    {
     "name": "stdout",
     "output_type": "stream",
     "text": [
      "/opt/data/software/conda_envs/summary_gwas_imputation/lib/python3.7/site-packages/pyarrow/pandas_compat.py:752: FutureWarning: .labels was deprecated in version 0.24.0. Use .codes instead.\n",
      "\n"
     ]
    },
    {
     "name": "stderr",
     "output_type": "stream",
     "text": [
      "+ set +x\n"
     ]
    },
    {
     "name": "stdout",
     "output_type": "stream",
     "text": [
      "Running for chronotype, 2, 1\n",
      "Saving results in /opt/data/projects/chronotype/results/imputed_gwas\n",
      "/opt/data/software/conda_envs/summary_gwas_imputation/lib/python3.7/site-packages/pyarrow/pandas_compat.py:752: FutureWarning: .labels was deprecated in version 0.24.0. Use .codes instead.\n",
      "\n"
     ]
    },
    {
     "name": "stderr",
     "output_type": "stream",
     "text": [
      "+ /opt/data/software/conda_envs/summary_gwas_imputation/bin/python /opt/data/software/summary-gwas-imputation/src/gwas_summary_imputation.py -by_region_file /opt/data/data/eur_ld.bed.gz -gwas_file /opt/data/projects/chronotype/results/harmonized_gwas/chronotype_raw_BOLT.output_HRC.only_plus.metrics_maf0.001_hwep1em12_info0.3.txt-harmonized.txt -parquet_genotype /opt/data/data/phenomexcan/ld_blocks/reference_panel_1000G/chr2.variants.parquet -parquet_genotype_metadata /opt/data/data/phenomexcan/ld_blocks/reference_panel_1000G/variant_metadata.parquet -window 100000 -parsimony 7 -chromosome 2 -regularization 0.1 -frequency_filter 0.01 -sub_batches 10 -sub_batch 1 --standardise_dosages -output /opt/data/projects/chronotype/results/imputed_gwas/chronotype_raw_BOLT.output_HRC.only_plus.metrics_maf0.001_hwep1em12_info0.3.txt-harmonized-imputed-chr2-batch1_10.txt\n",
      "+ set +x\n",
      "+ /opt/data/software/conda_envs/summary_gwas_imputation/bin/python /opt/data/software/summary-gwas-imputation/src/gwas_summary_imputation.py -by_region_file /opt/data/data/eur_ld.bed.gz -gwas_file /opt/data/projects/chronotype/results/harmonized_gwas/chronotype_raw_BOLT.output_HRC.only_plus.metrics_maf0.001_hwep1em12_info0.3.txt-harmonized.txt -parquet_genotype /opt/data/data/phenomexcan/ld_blocks/reference_panel_1000G/chr2.variants.parquet -parquet_genotype_metadata /opt/data/data/phenomexcan/ld_blocks/reference_panel_1000G/variant_metadata.parquet -window 100000 -parsimony 7 -chromosome 2 -regularization 0.1 -frequency_filter 0.01 -sub_batches 10 -sub_batch 2 --standardise_dosages -output /opt/data/projects/chronotype/results/imputed_gwas/chronotype_raw_BOLT.output_HRC.only_plus.metrics_maf0.001_hwep1em12_info0.3.txt-harmonized-imputed-chr2-batch2_10.txt\n",
      "+ set +x\n",
      "+ /opt/data/software/conda_envs/summary_gwas_imputation/bin/python /opt/data/software/summary-gwas-imputation/src/gwas_summary_imputation.py -by_region_file /opt/data/data/eur_ld.bed.gz -gwas_file /opt/data/projects/chronotype/results/harmonized_gwas/chronotype_raw_BOLT.output_HRC.only_plus.metrics_maf0.001_hwep1em12_info0.3.txt-harmonized.txt -parquet_genotype /opt/data/data/phenomexcan/ld_blocks/reference_panel_1000G/chr2.variants.parquet -parquet_genotype_metadata /opt/data/data/phenomexcan/ld_blocks/reference_panel_1000G/variant_metadata.parquet -window 100000 -parsimony 7 -chromosome 2 -regularization 0.1 -frequency_filter 0.01 -sub_batches 10 -sub_batch 3 --standardise_dosages -output /opt/data/projects/chronotype/results/imputed_gwas/chronotype_raw_BOLT.output_HRC.only_plus.metrics_maf0.001_hwep1em12_info0.3.txt-harmonized-imputed-chr2-batch3_10.txt\n",
      "+ set +x\n",
      "+ /opt/data/software/conda_envs/summary_gwas_imputation/bin/python /opt/data/software/summary-gwas-imputation/src/gwas_summary_imputation.py -by_region_file /opt/data/data/eur_ld.bed.gz -gwas_file /opt/data/projects/chronotype/results/harmonized_gwas/chronotype_raw_BOLT.output_HRC.only_plus.metrics_maf0.001_hwep1em12_info0.3.txt-harmonized.txt -parquet_genotype /opt/data/data/phenomexcan/ld_blocks/reference_panel_1000G/chr2.variants.parquet -parquet_genotype_metadata /opt/data/data/phenomexcan/ld_blocks/reference_panel_1000G/variant_metadata.parquet -window 100000 -parsimony 7 -chromosome 2 -regularization 0.1 -frequency_filter 0.01 -sub_batches 10 -sub_batch 4 --standardise_dosages -output /opt/data/projects/chronotype/results/imputed_gwas/chronotype_raw_BOLT.output_HRC.only_plus.metrics_maf0.001_hwep1em12_info0.3.txt-harmonized-imputed-chr2-batch4_10.txt\n",
      "+ set +x\n",
      "+ /opt/data/software/conda_envs/summary_gwas_imputation/bin/python /opt/data/software/summary-gwas-imputation/src/gwas_summary_imputation.py -by_region_file /opt/data/data/eur_ld.bed.gz -gwas_file /opt/data/projects/chronotype/results/harmonized_gwas/chronotype_raw_BOLT.output_HRC.only_plus.metrics_maf0.001_hwep1em12_info0.3.txt-harmonized.txt -parquet_genotype /opt/data/data/phenomexcan/ld_blocks/reference_panel_1000G/chr2.variants.parquet -parquet_genotype_metadata /opt/data/data/phenomexcan/ld_blocks/reference_panel_1000G/variant_metadata.parquet -window 100000 -parsimony 7 -chromosome 2 -regularization 0.1 -frequency_filter 0.01 -sub_batches 10 -sub_batch 5 --standardise_dosages -output /opt/data/projects/chronotype/results/imputed_gwas/chronotype_raw_BOLT.output_HRC.only_plus.metrics_maf0.001_hwep1em12_info0.3.txt-harmonized-imputed-chr2-batch5_10.txt\n",
      "+ set +x\n",
      "+ /opt/data/software/conda_envs/summary_gwas_imputation/bin/python /opt/data/software/summary-gwas-imputation/src/gwas_summary_imputation.py -by_region_file /opt/data/data/eur_ld.bed.gz -gwas_file /opt/data/projects/chronotype/results/harmonized_gwas/chronotype_raw_BOLT.output_HRC.only_plus.metrics_maf0.001_hwep1em12_info0.3.txt-harmonized.txt -parquet_genotype /opt/data/data/phenomexcan/ld_blocks/reference_panel_1000G/chr2.variants.parquet -parquet_genotype_metadata /opt/data/data/phenomexcan/ld_blocks/reference_panel_1000G/variant_metadata.parquet -window 100000 -parsimony 7 -chromosome 2 -regularization 0.1 -frequency_filter 0.01 -sub_batches 10 -sub_batch 6 --standardise_dosages -output /opt/data/projects/chronotype/results/imputed_gwas/chronotype_raw_BOLT.output_HRC.only_plus.metrics_maf0.001_hwep1em12_info0.3.txt-harmonized-imputed-chr2-batch6_10.txt\n",
      "+ set +x\n",
      "+ /opt/data/software/conda_envs/summary_gwas_imputation/bin/python /opt/data/software/summary-gwas-imputation/src/gwas_summary_imputation.py -by_region_file /opt/data/data/eur_ld.bed.gz -gwas_file /opt/data/projects/chronotype/results/harmonized_gwas/chronotype_raw_BOLT.output_HRC.only_plus.metrics_maf0.001_hwep1em12_info0.3.txt-harmonized.txt -parquet_genotype /opt/data/data/phenomexcan/ld_blocks/reference_panel_1000G/chr2.variants.parquet -parquet_genotype_metadata /opt/data/data/phenomexcan/ld_blocks/reference_panel_1000G/variant_metadata.parquet -window 100000 -parsimony 7 -chromosome 2 -regularization 0.1 -frequency_filter 0.01 -sub_batches 10 -sub_batch 7 --standardise_dosages -output /opt/data/projects/chronotype/results/imputed_gwas/chronotype_raw_BOLT.output_HRC.only_plus.metrics_maf0.001_hwep1em12_info0.3.txt-harmonized-imputed-chr2-batch7_10.txt\n"
     ]
    },
    {
     "name": "stdout",
     "output_type": "stream",
     "text": [
      "Running for chronotype, 2, 2\n",
      "Saving results in /opt/data/projects/chronotype/results/imputed_gwas\n",
      "/opt/data/software/conda_envs/summary_gwas_imputation/lib/python3.7/site-packages/pyarrow/pandas_compat.py:752: FutureWarning: .labels was deprecated in version 0.24.0. Use .codes instead.\n",
      "\n",
      "Running for chronotype, 2, 3\n",
      "Saving results in /opt/data/projects/chronotype/results/imputed_gwas\n",
      "/opt/data/software/conda_envs/summary_gwas_imputation/lib/python3.7/site-packages/pyarrow/pandas_compat.py:752: FutureWarning: .labels was deprecated in version 0.24.0. Use .codes instead.\n",
      "\n",
      "Running for chronotype, 2, 4\n",
      "Saving results in /opt/data/projects/chronotype/results/imputed_gwas\n",
      "/opt/data/software/conda_envs/summary_gwas_imputation/lib/python3.7/site-packages/pyarrow/pandas_compat.py:752: FutureWarning: .labels was deprecated in version 0.24.0. Use .codes instead.\n",
      "\n",
      "Running for chronotype, 2, 5\n",
      "Saving results in /opt/data/projects/chronotype/results/imputed_gwas\n",
      "/opt/data/software/conda_envs/summary_gwas_imputation/lib/python3.7/site-packages/pyarrow/pandas_compat.py:752: FutureWarning: .labels was deprecated in version 0.24.0. Use .codes instead.\n",
      "\n",
      "Running for chronotype, 2, 6\n",
      "Saving results in /opt/data/projects/chronotype/results/imputed_gwas\n",
      "/opt/data/software/conda_envs/summary_gwas_imputation/lib/python3.7/site-packages/pyarrow/pandas_compat.py:752: FutureWarning: .labels was deprecated in version 0.24.0. Use .codes instead.\n",
      "INFO - Error for region (2,149353778.0,150874948.0): LinAlgError('SVD did not converge')\n",
      "\n",
      "Running for chronotype, 2, 7\n",
      "Saving results in /opt/data/projects/chronotype/results/imputed_gwas\n",
      "/opt/data/software/conda_envs/summary_gwas_imputation/lib/python3.7/site-packages/pyarrow/pandas_compat.py:752: FutureWarning: .labels was deprecated in version 0.24.0. Use .codes instead.\n",
      "\n"
     ]
    },
    {
     "name": "stderr",
     "output_type": "stream",
     "text": [
      "+ set +x\n"
     ]
    },
    {
     "name": "stdout",
     "output_type": "stream",
     "text": [
      "Running for chronotype, 2, 8\n",
      "Saving results in /opt/data/projects/chronotype/results/imputed_gwas\n",
      "/opt/data/software/conda_envs/summary_gwas_imputation/lib/python3.7/site-packages/pyarrow/pandas_compat.py:752: FutureWarning: .labels was deprecated in version 0.24.0. Use .codes instead.\n",
      "\n"
     ]
    },
    {
     "name": "stderr",
     "output_type": "stream",
     "text": [
      "+ /opt/data/software/conda_envs/summary_gwas_imputation/bin/python /opt/data/software/summary-gwas-imputation/src/gwas_summary_imputation.py -by_region_file /opt/data/data/eur_ld.bed.gz -gwas_file /opt/data/projects/chronotype/results/harmonized_gwas/chronotype_raw_BOLT.output_HRC.only_plus.metrics_maf0.001_hwep1em12_info0.3.txt-harmonized.txt -parquet_genotype /opt/data/data/phenomexcan/ld_blocks/reference_panel_1000G/chr2.variants.parquet -parquet_genotype_metadata /opt/data/data/phenomexcan/ld_blocks/reference_panel_1000G/variant_metadata.parquet -window 100000 -parsimony 7 -chromosome 2 -regularization 0.1 -frequency_filter 0.01 -sub_batches 10 -sub_batch 8 --standardise_dosages -output /opt/data/projects/chronotype/results/imputed_gwas/chronotype_raw_BOLT.output_HRC.only_plus.metrics_maf0.001_hwep1em12_info0.3.txt-harmonized-imputed-chr2-batch8_10.txt\n",
      "+ set +x\n"
     ]
    },
    {
     "name": "stdout",
     "output_type": "stream",
     "text": [
      "Running for chronotype, 2, 9\n",
      "Saving results in /opt/data/projects/chronotype/results/imputed_gwas\n",
      "/opt/data/software/conda_envs/summary_gwas_imputation/lib/python3.7/site-packages/pyarrow/pandas_compat.py:752: FutureWarning: .labels was deprecated in version 0.24.0. Use .codes instead.\n",
      "INFO - Error for region (2,221656456.0,223994702.0): LinAlgError('SVD did not converge')\n",
      "\n",
      "Running for chronotype, 3, 0\n",
      "Saving results in /opt/data/projects/chronotype/results/imputed_gwas\n"
     ]
    },
    {
     "name": "stderr",
     "output_type": "stream",
     "text": [
      "+ /opt/data/software/conda_envs/summary_gwas_imputation/bin/python /opt/data/software/summary-gwas-imputation/src/gwas_summary_imputation.py -by_region_file /opt/data/data/eur_ld.bed.gz -gwas_file /opt/data/projects/chronotype/results/harmonized_gwas/chronotype_raw_BOLT.output_HRC.only_plus.metrics_maf0.001_hwep1em12_info0.3.txt-harmonized.txt -parquet_genotype /opt/data/data/phenomexcan/ld_blocks/reference_panel_1000G/chr2.variants.parquet -parquet_genotype_metadata /opt/data/data/phenomexcan/ld_blocks/reference_panel_1000G/variant_metadata.parquet -window 100000 -parsimony 7 -chromosome 2 -regularization 0.1 -frequency_filter 0.01 -sub_batches 10 -sub_batch 9 --standardise_dosages -output /opt/data/projects/chronotype/results/imputed_gwas/chronotype_raw_BOLT.output_HRC.only_plus.metrics_maf0.001_hwep1em12_info0.3.txt-harmonized-imputed-chr2-batch9_10.txt\n",
      "+ set +x\n",
      "+ /opt/data/software/conda_envs/summary_gwas_imputation/bin/python /opt/data/software/summary-gwas-imputation/src/gwas_summary_imputation.py -by_region_file /opt/data/data/eur_ld.bed.gz -gwas_file /opt/data/projects/chronotype/results/harmonized_gwas/chronotype_raw_BOLT.output_HRC.only_plus.metrics_maf0.001_hwep1em12_info0.3.txt-harmonized.txt -parquet_genotype /opt/data/data/phenomexcan/ld_blocks/reference_panel_1000G/chr3.variants.parquet -parquet_genotype_metadata /opt/data/data/phenomexcan/ld_blocks/reference_panel_1000G/variant_metadata.parquet -window 100000 -parsimony 7 -chromosome 3 -regularization 0.1 -frequency_filter 0.01 -sub_batches 10 -sub_batch 0 --standardise_dosages -output /opt/data/projects/chronotype/results/imputed_gwas/chronotype_raw_BOLT.output_HRC.only_plus.metrics_maf0.001_hwep1em12_info0.3.txt-harmonized-imputed-chr3-batch0_10.txt\n"
     ]
    },
    {
     "name": "stdout",
     "output_type": "stream",
     "text": [
      "/opt/data/software/conda_envs/summary_gwas_imputation/lib/python3.7/site-packages/pyarrow/pandas_compat.py:752: FutureWarning: .labels was deprecated in version 0.24.0. Use .codes instead.\n",
      "\n"
     ]
    },
    {
     "name": "stderr",
     "output_type": "stream",
     "text": [
      "+ set +x\n"
     ]
    },
    {
     "name": "stdout",
     "output_type": "stream",
     "text": [
      "Running for chronotype, 3, 1\n",
      "Saving results in /opt/data/projects/chronotype/results/imputed_gwas\n",
      "/opt/data/software/conda_envs/summary_gwas_imputation/lib/python3.7/site-packages/pyarrow/pandas_compat.py:752: FutureWarning: .labels was deprecated in version 0.24.0. Use .codes instead.\n",
      "\n"
     ]
    },
    {
     "name": "stderr",
     "output_type": "stream",
     "text": [
      "+ /opt/data/software/conda_envs/summary_gwas_imputation/bin/python /opt/data/software/summary-gwas-imputation/src/gwas_summary_imputation.py -by_region_file /opt/data/data/eur_ld.bed.gz -gwas_file /opt/data/projects/chronotype/results/harmonized_gwas/chronotype_raw_BOLT.output_HRC.only_plus.metrics_maf0.001_hwep1em12_info0.3.txt-harmonized.txt -parquet_genotype /opt/data/data/phenomexcan/ld_blocks/reference_panel_1000G/chr3.variants.parquet -parquet_genotype_metadata /opt/data/data/phenomexcan/ld_blocks/reference_panel_1000G/variant_metadata.parquet -window 100000 -parsimony 7 -chromosome 3 -regularization 0.1 -frequency_filter 0.01 -sub_batches 10 -sub_batch 1 --standardise_dosages -output /opt/data/projects/chronotype/results/imputed_gwas/chronotype_raw_BOLT.output_HRC.only_plus.metrics_maf0.001_hwep1em12_info0.3.txt-harmonized-imputed-chr3-batch1_10.txt\n",
      "+ set +x\n",
      "+ /opt/data/software/conda_envs/summary_gwas_imputation/bin/python /opt/data/software/summary-gwas-imputation/src/gwas_summary_imputation.py -by_region_file /opt/data/data/eur_ld.bed.gz -gwas_file /opt/data/projects/chronotype/results/harmonized_gwas/chronotype_raw_BOLT.output_HRC.only_plus.metrics_maf0.001_hwep1em12_info0.3.txt-harmonized.txt -parquet_genotype /opt/data/data/phenomexcan/ld_blocks/reference_panel_1000G/chr3.variants.parquet -parquet_genotype_metadata /opt/data/data/phenomexcan/ld_blocks/reference_panel_1000G/variant_metadata.parquet -window 100000 -parsimony 7 -chromosome 3 -regularization 0.1 -frequency_filter 0.01 -sub_batches 10 -sub_batch 2 --standardise_dosages -output /opt/data/projects/chronotype/results/imputed_gwas/chronotype_raw_BOLT.output_HRC.only_plus.metrics_maf0.001_hwep1em12_info0.3.txt-harmonized-imputed-chr3-batch2_10.txt\n",
      "+ set +x\n",
      "+ /opt/data/software/conda_envs/summary_gwas_imputation/bin/python /opt/data/software/summary-gwas-imputation/src/gwas_summary_imputation.py -by_region_file /opt/data/data/eur_ld.bed.gz -gwas_file /opt/data/projects/chronotype/results/harmonized_gwas/chronotype_raw_BOLT.output_HRC.only_plus.metrics_maf0.001_hwep1em12_info0.3.txt-harmonized.txt -parquet_genotype /opt/data/data/phenomexcan/ld_blocks/reference_panel_1000G/chr3.variants.parquet -parquet_genotype_metadata /opt/data/data/phenomexcan/ld_blocks/reference_panel_1000G/variant_metadata.parquet -window 100000 -parsimony 7 -chromosome 3 -regularization 0.1 -frequency_filter 0.01 -sub_batches 10 -sub_batch 3 --standardise_dosages -output /opt/data/projects/chronotype/results/imputed_gwas/chronotype_raw_BOLT.output_HRC.only_plus.metrics_maf0.001_hwep1em12_info0.3.txt-harmonized-imputed-chr3-batch3_10.txt\n",
      "+ set +x\n",
      "+ /opt/data/software/conda_envs/summary_gwas_imputation/bin/python /opt/data/software/summary-gwas-imputation/src/gwas_summary_imputation.py -by_region_file /opt/data/data/eur_ld.bed.gz -gwas_file /opt/data/projects/chronotype/results/harmonized_gwas/chronotype_raw_BOLT.output_HRC.only_plus.metrics_maf0.001_hwep1em12_info0.3.txt-harmonized.txt -parquet_genotype /opt/data/data/phenomexcan/ld_blocks/reference_panel_1000G/chr3.variants.parquet -parquet_genotype_metadata /opt/data/data/phenomexcan/ld_blocks/reference_panel_1000G/variant_metadata.parquet -window 100000 -parsimony 7 -chromosome 3 -regularization 0.1 -frequency_filter 0.01 -sub_batches 10 -sub_batch 4 --standardise_dosages -output /opt/data/projects/chronotype/results/imputed_gwas/chronotype_raw_BOLT.output_HRC.only_plus.metrics_maf0.001_hwep1em12_info0.3.txt-harmonized-imputed-chr3-batch4_10.txt\n",
      "+ set +x\n",
      "+ /opt/data/software/conda_envs/summary_gwas_imputation/bin/python /opt/data/software/summary-gwas-imputation/src/gwas_summary_imputation.py -by_region_file /opt/data/data/eur_ld.bed.gz -gwas_file /opt/data/projects/chronotype/results/harmonized_gwas/chronotype_raw_BOLT.output_HRC.only_plus.metrics_maf0.001_hwep1em12_info0.3.txt-harmonized.txt -parquet_genotype /opt/data/data/phenomexcan/ld_blocks/reference_panel_1000G/chr3.variants.parquet -parquet_genotype_metadata /opt/data/data/phenomexcan/ld_blocks/reference_panel_1000G/variant_metadata.parquet -window 100000 -parsimony 7 -chromosome 3 -regularization 0.1 -frequency_filter 0.01 -sub_batches 10 -sub_batch 5 --standardise_dosages -output /opt/data/projects/chronotype/results/imputed_gwas/chronotype_raw_BOLT.output_HRC.only_plus.metrics_maf0.001_hwep1em12_info0.3.txt-harmonized-imputed-chr3-batch5_10.txt\n"
     ]
    },
    {
     "name": "stdout",
     "output_type": "stream",
     "text": [
      "Running for chronotype, 3, 2\n",
      "Saving results in /opt/data/projects/chronotype/results/imputed_gwas\n",
      "/opt/data/software/conda_envs/summary_gwas_imputation/lib/python3.7/site-packages/pyarrow/pandas_compat.py:752: FutureWarning: .labels was deprecated in version 0.24.0. Use .codes instead.\n",
      "\n",
      "Running for chronotype, 3, 3\n",
      "Saving results in /opt/data/projects/chronotype/results/imputed_gwas\n",
      "/opt/data/software/conda_envs/summary_gwas_imputation/lib/python3.7/site-packages/pyarrow/pandas_compat.py:752: FutureWarning: .labels was deprecated in version 0.24.0. Use .codes instead.\n",
      "\n",
      "Running for chronotype, 3, 4\n",
      "Saving results in /opt/data/projects/chronotype/results/imputed_gwas\n",
      "/opt/data/software/conda_envs/summary_gwas_imputation/lib/python3.7/site-packages/pyarrow/pandas_compat.py:752: FutureWarning: .labels was deprecated in version 0.24.0. Use .codes instead.\n",
      "\n",
      "Running for chronotype, 3, 5\n",
      "Saving results in /opt/data/projects/chronotype/results/imputed_gwas\n",
      "/opt/data/software/conda_envs/summary_gwas_imputation/lib/python3.7/site-packages/pyarrow/pandas_compat.py:752: FutureWarning: .labels was deprecated in version 0.24.0. Use .codes instead.\n",
      "\n"
     ]
    },
    {
     "name": "stderr",
     "output_type": "stream",
     "text": [
      "+ set +x\n"
     ]
    },
    {
     "name": "stdout",
     "output_type": "stream",
     "text": [
      "Running for chronotype, 3, 6\n",
      "Saving results in /opt/data/projects/chronotype/results/imputed_gwas\n",
      "/opt/data/software/conda_envs/summary_gwas_imputation/lib/python3.7/site-packages/pyarrow/pandas_compat.py:752: FutureWarning: .labels was deprecated in version 0.24.0. Use .codes instead.\n",
      "\n"
     ]
    },
    {
     "name": "stderr",
     "output_type": "stream",
     "text": [
      "+ /opt/data/software/conda_envs/summary_gwas_imputation/bin/python /opt/data/software/summary-gwas-imputation/src/gwas_summary_imputation.py -by_region_file /opt/data/data/eur_ld.bed.gz -gwas_file /opt/data/projects/chronotype/results/harmonized_gwas/chronotype_raw_BOLT.output_HRC.only_plus.metrics_maf0.001_hwep1em12_info0.3.txt-harmonized.txt -parquet_genotype /opt/data/data/phenomexcan/ld_blocks/reference_panel_1000G/chr3.variants.parquet -parquet_genotype_metadata /opt/data/data/phenomexcan/ld_blocks/reference_panel_1000G/variant_metadata.parquet -window 100000 -parsimony 7 -chromosome 3 -regularization 0.1 -frequency_filter 0.01 -sub_batches 10 -sub_batch 6 --standardise_dosages -output /opt/data/projects/chronotype/results/imputed_gwas/chronotype_raw_BOLT.output_HRC.only_plus.metrics_maf0.001_hwep1em12_info0.3.txt-harmonized-imputed-chr3-batch6_10.txt\n",
      "+ set +x\n"
     ]
    },
    {
     "name": "stdout",
     "output_type": "stream",
     "text": [
      "Running for chronotype, 3, 7\n",
      "Saving results in /opt/data/projects/chronotype/results/imputed_gwas\n",
      "/opt/data/software/conda_envs/summary_gwas_imputation/lib/python3.7/site-packages/pyarrow/pandas_compat.py:752: FutureWarning: .labels was deprecated in version 0.24.0. Use .codes instead.\n",
      "\n",
      "Running for chronotype, 3, 8\n",
      "Saving results in /opt/data/projects/chronotype/results/imputed_gwas\n",
      "/opt/data/software/conda_envs/summary_gwas_imputation/lib/python3.7/site-packages/pyarrow/pandas_compat.py:752: FutureWarning: .labels was deprecated in version 0.24.0. Use .codes instead.\n",
      "\n",
      "Running for chronotype, 3, 9\n",
      "Saving results in /opt/data/projects/chronotype/results/imputed_gwas\n",
      "/opt/data/software/conda_envs/summary_gwas_imputation/lib/python3.7/site-packages/pyarrow/pandas_compat.py:752: FutureWarning: .labels was deprecated in version 0.24.0. Use .codes instead.\n",
      "INFO - Error for region (3,187172556.0,189138425.0): LinAlgError('SVD did not converge')\n",
      "\n",
      "Running for chronotype, 4, 0\n",
      "Saving results in /opt/data/projects/chronotype/results/imputed_gwas\n",
      "/opt/data/software/conda_envs/summary_gwas_imputation/lib/python3.7/site-packages/pyarrow/pandas_compat.py:752: FutureWarning: .labels was deprecated in version 0.24.0. Use .codes instead.\n",
      "INFO - Error for region (4,3844313.0,4682389.0): LinAlgError('SVD did not converge')\n",
      "\n",
      "Running for chronotype, 4, 1\n",
      "Saving results in /opt/data/projects/chronotype/results/imputed_gwas\n",
      "/opt/data/software/conda_envs/summary_gwas_imputation/lib/python3.7/site-packages/pyarrow/pandas_compat.py:752: FutureWarning: .labels was deprecated in version 0.24.0. Use .codes instead.\n",
      "\n",
      "Running for chronotype, 4, 2\n",
      "Saving results in /opt/data/projects/chronotype/results/imputed_gwas\n"
     ]
    },
    {
     "name": "stderr",
     "output_type": "stream",
     "text": [
      "+ /opt/data/software/conda_envs/summary_gwas_imputation/bin/python /opt/data/software/summary-gwas-imputation/src/gwas_summary_imputation.py -by_region_file /opt/data/data/eur_ld.bed.gz -gwas_file /opt/data/projects/chronotype/results/harmonized_gwas/chronotype_raw_BOLT.output_HRC.only_plus.metrics_maf0.001_hwep1em12_info0.3.txt-harmonized.txt -parquet_genotype /opt/data/data/phenomexcan/ld_blocks/reference_panel_1000G/chr3.variants.parquet -parquet_genotype_metadata /opt/data/data/phenomexcan/ld_blocks/reference_panel_1000G/variant_metadata.parquet -window 100000 -parsimony 7 -chromosome 3 -regularization 0.1 -frequency_filter 0.01 -sub_batches 10 -sub_batch 7 --standardise_dosages -output /opt/data/projects/chronotype/results/imputed_gwas/chronotype_raw_BOLT.output_HRC.only_plus.metrics_maf0.001_hwep1em12_info0.3.txt-harmonized-imputed-chr3-batch7_10.txt\n",
      "+ set +x\n",
      "+ /opt/data/software/conda_envs/summary_gwas_imputation/bin/python /opt/data/software/summary-gwas-imputation/src/gwas_summary_imputation.py -by_region_file /opt/data/data/eur_ld.bed.gz -gwas_file /opt/data/projects/chronotype/results/harmonized_gwas/chronotype_raw_BOLT.output_HRC.only_plus.metrics_maf0.001_hwep1em12_info0.3.txt-harmonized.txt -parquet_genotype /opt/data/data/phenomexcan/ld_blocks/reference_panel_1000G/chr3.variants.parquet -parquet_genotype_metadata /opt/data/data/phenomexcan/ld_blocks/reference_panel_1000G/variant_metadata.parquet -window 100000 -parsimony 7 -chromosome 3 -regularization 0.1 -frequency_filter 0.01 -sub_batches 10 -sub_batch 8 --standardise_dosages -output /opt/data/projects/chronotype/results/imputed_gwas/chronotype_raw_BOLT.output_HRC.only_plus.metrics_maf0.001_hwep1em12_info0.3.txt-harmonized-imputed-chr3-batch8_10.txt\n",
      "+ set +x\n",
      "+ /opt/data/software/conda_envs/summary_gwas_imputation/bin/python /opt/data/software/summary-gwas-imputation/src/gwas_summary_imputation.py -by_region_file /opt/data/data/eur_ld.bed.gz -gwas_file /opt/data/projects/chronotype/results/harmonized_gwas/chronotype_raw_BOLT.output_HRC.only_plus.metrics_maf0.001_hwep1em12_info0.3.txt-harmonized.txt -parquet_genotype /opt/data/data/phenomexcan/ld_blocks/reference_panel_1000G/chr3.variants.parquet -parquet_genotype_metadata /opt/data/data/phenomexcan/ld_blocks/reference_panel_1000G/variant_metadata.parquet -window 100000 -parsimony 7 -chromosome 3 -regularization 0.1 -frequency_filter 0.01 -sub_batches 10 -sub_batch 9 --standardise_dosages -output /opt/data/projects/chronotype/results/imputed_gwas/chronotype_raw_BOLT.output_HRC.only_plus.metrics_maf0.001_hwep1em12_info0.3.txt-harmonized-imputed-chr3-batch9_10.txt\n",
      "+ set +x\n",
      "+ /opt/data/software/conda_envs/summary_gwas_imputation/bin/python /opt/data/software/summary-gwas-imputation/src/gwas_summary_imputation.py -by_region_file /opt/data/data/eur_ld.bed.gz -gwas_file /opt/data/projects/chronotype/results/harmonized_gwas/chronotype_raw_BOLT.output_HRC.only_plus.metrics_maf0.001_hwep1em12_info0.3.txt-harmonized.txt -parquet_genotype /opt/data/data/phenomexcan/ld_blocks/reference_panel_1000G/chr4.variants.parquet -parquet_genotype_metadata /opt/data/data/phenomexcan/ld_blocks/reference_panel_1000G/variant_metadata.parquet -window 100000 -parsimony 7 -chromosome 4 -regularization 0.1 -frequency_filter 0.01 -sub_batches 10 -sub_batch 0 --standardise_dosages -output /opt/data/projects/chronotype/results/imputed_gwas/chronotype_raw_BOLT.output_HRC.only_plus.metrics_maf0.001_hwep1em12_info0.3.txt-harmonized-imputed-chr4-batch0_10.txt\n",
      "+ set +x\n",
      "+ /opt/data/software/conda_envs/summary_gwas_imputation/bin/python /opt/data/software/summary-gwas-imputation/src/gwas_summary_imputation.py -by_region_file /opt/data/data/eur_ld.bed.gz -gwas_file /opt/data/projects/chronotype/results/harmonized_gwas/chronotype_raw_BOLT.output_HRC.only_plus.metrics_maf0.001_hwep1em12_info0.3.txt-harmonized.txt -parquet_genotype /opt/data/data/phenomexcan/ld_blocks/reference_panel_1000G/chr4.variants.parquet -parquet_genotype_metadata /opt/data/data/phenomexcan/ld_blocks/reference_panel_1000G/variant_metadata.parquet -window 100000 -parsimony 7 -chromosome 4 -regularization 0.1 -frequency_filter 0.01 -sub_batches 10 -sub_batch 1 --standardise_dosages -output /opt/data/projects/chronotype/results/imputed_gwas/chronotype_raw_BOLT.output_HRC.only_plus.metrics_maf0.001_hwep1em12_info0.3.txt-harmonized-imputed-chr4-batch1_10.txt\n",
      "+ set +x\n",
      "+ /opt/data/software/conda_envs/summary_gwas_imputation/bin/python /opt/data/software/summary-gwas-imputation/src/gwas_summary_imputation.py -by_region_file /opt/data/data/eur_ld.bed.gz -gwas_file /opt/data/projects/chronotype/results/harmonized_gwas/chronotype_raw_BOLT.output_HRC.only_plus.metrics_maf0.001_hwep1em12_info0.3.txt-harmonized.txt -parquet_genotype /opt/data/data/phenomexcan/ld_blocks/reference_panel_1000G/chr4.variants.parquet -parquet_genotype_metadata /opt/data/data/phenomexcan/ld_blocks/reference_panel_1000G/variant_metadata.parquet -window 100000 -parsimony 7 -chromosome 4 -regularization 0.1 -frequency_filter 0.01 -sub_batches 10 -sub_batch 2 --standardise_dosages -output /opt/data/projects/chronotype/results/imputed_gwas/chronotype_raw_BOLT.output_HRC.only_plus.metrics_maf0.001_hwep1em12_info0.3.txt-harmonized-imputed-chr4-batch2_10.txt\n"
     ]
    },
    {
     "name": "stdout",
     "output_type": "stream",
     "text": [
      "/opt/data/software/conda_envs/summary_gwas_imputation/lib/python3.7/site-packages/pyarrow/pandas_compat.py:752: FutureWarning: .labels was deprecated in version 0.24.0. Use .codes instead.\n",
      "\n"
     ]
    },
    {
     "name": "stderr",
     "output_type": "stream",
     "text": [
      "+ set +x\n"
     ]
    },
    {
     "name": "stdout",
     "output_type": "stream",
     "text": [
      "Running for chronotype, 4, 3\n",
      "Saving results in /opt/data/projects/chronotype/results/imputed_gwas\n"
     ]
    },
    {
     "name": "stderr",
     "output_type": "stream",
     "text": [
      "+ /opt/data/software/conda_envs/summary_gwas_imputation/bin/python /opt/data/software/summary-gwas-imputation/src/gwas_summary_imputation.py -by_region_file /opt/data/data/eur_ld.bed.gz -gwas_file /opt/data/projects/chronotype/results/harmonized_gwas/chronotype_raw_BOLT.output_HRC.only_plus.metrics_maf0.001_hwep1em12_info0.3.txt-harmonized.txt -parquet_genotype /opt/data/data/phenomexcan/ld_blocks/reference_panel_1000G/chr4.variants.parquet -parquet_genotype_metadata /opt/data/data/phenomexcan/ld_blocks/reference_panel_1000G/variant_metadata.parquet -window 100000 -parsimony 7 -chromosome 4 -regularization 0.1 -frequency_filter 0.01 -sub_batches 10 -sub_batch 3 --standardise_dosages -output /opt/data/projects/chronotype/results/imputed_gwas/chronotype_raw_BOLT.output_HRC.only_plus.metrics_maf0.001_hwep1em12_info0.3.txt-harmonized-imputed-chr4-batch3_10.txt\n"
     ]
    },
    {
     "name": "stdout",
     "output_type": "stream",
     "text": [
      "/opt/data/software/conda_envs/summary_gwas_imputation/lib/python3.7/site-packages/pyarrow/pandas_compat.py:752: FutureWarning: .labels was deprecated in version 0.24.0. Use .codes instead.\n",
      "\n"
     ]
    },
    {
     "name": "stderr",
     "output_type": "stream",
     "text": [
      "+ set +x\n"
     ]
    },
    {
     "name": "stdout",
     "output_type": "stream",
     "text": [
      "Running for chronotype, 4, 4\n",
      "Saving results in /opt/data/projects/chronotype/results/imputed_gwas\n",
      "/opt/data/software/conda_envs/summary_gwas_imputation/lib/python3.7/site-packages/pyarrow/pandas_compat.py:752: FutureWarning: .labels was deprecated in version 0.24.0. Use .codes instead.\n",
      "\n"
     ]
    },
    {
     "name": "stderr",
     "output_type": "stream",
     "text": [
      "+ /opt/data/software/conda_envs/summary_gwas_imputation/bin/python /opt/data/software/summary-gwas-imputation/src/gwas_summary_imputation.py -by_region_file /opt/data/data/eur_ld.bed.gz -gwas_file /opt/data/projects/chronotype/results/harmonized_gwas/chronotype_raw_BOLT.output_HRC.only_plus.metrics_maf0.001_hwep1em12_info0.3.txt-harmonized.txt -parquet_genotype /opt/data/data/phenomexcan/ld_blocks/reference_panel_1000G/chr4.variants.parquet -parquet_genotype_metadata /opt/data/data/phenomexcan/ld_blocks/reference_panel_1000G/variant_metadata.parquet -window 100000 -parsimony 7 -chromosome 4 -regularization 0.1 -frequency_filter 0.01 -sub_batches 10 -sub_batch 4 --standardise_dosages -output /opt/data/projects/chronotype/results/imputed_gwas/chronotype_raw_BOLT.output_HRC.only_plus.metrics_maf0.001_hwep1em12_info0.3.txt-harmonized-imputed-chr4-batch4_10.txt\n",
      "+ set +x\n"
     ]
    },
    {
     "name": "stdout",
     "output_type": "stream",
     "text": [
      "Running for chronotype, 4, 5\n",
      "Saving results in /opt/data/projects/chronotype/results/imputed_gwas\n",
      "/opt/data/software/conda_envs/summary_gwas_imputation/lib/python3.7/site-packages/pyarrow/pandas_compat.py:752: FutureWarning: .labels was deprecated in version 0.24.0. Use .codes instead.\n",
      "\n",
      "Running for chronotype, 4, 6\n",
      "Saving results in /opt/data/projects/chronotype/results/imputed_gwas\n",
      "/opt/data/software/conda_envs/summary_gwas_imputation/lib/python3.7/site-packages/pyarrow/pandas_compat.py:752: FutureWarning: .labels was deprecated in version 0.24.0. Use .codes instead.\n",
      "\n",
      "Running for chronotype, 4, 7\n",
      "Saving results in /opt/data/projects/chronotype/results/imputed_gwas\n",
      "/opt/data/software/conda_envs/summary_gwas_imputation/lib/python3.7/site-packages/pyarrow/pandas_compat.py:752: FutureWarning: .labels was deprecated in version 0.24.0. Use .codes instead.\n",
      "\n",
      "Running for chronotype, 4, 8\n",
      "Saving results in /opt/data/projects/chronotype/results/imputed_gwas\n",
      "/opt/data/software/conda_envs/summary_gwas_imputation/lib/python3.7/site-packages/pyarrow/pandas_compat.py:752: FutureWarning: .labels was deprecated in version 0.24.0. Use .codes instead.\n",
      "\n",
      "Running for chronotype, 4, 9\n",
      "Saving results in /opt/data/projects/chronotype/results/imputed_gwas\n"
     ]
    },
    {
     "name": "stderr",
     "output_type": "stream",
     "text": [
      "+ /opt/data/software/conda_envs/summary_gwas_imputation/bin/python /opt/data/software/summary-gwas-imputation/src/gwas_summary_imputation.py -by_region_file /opt/data/data/eur_ld.bed.gz -gwas_file /opt/data/projects/chronotype/results/harmonized_gwas/chronotype_raw_BOLT.output_HRC.only_plus.metrics_maf0.001_hwep1em12_info0.3.txt-harmonized.txt -parquet_genotype /opt/data/data/phenomexcan/ld_blocks/reference_panel_1000G/chr4.variants.parquet -parquet_genotype_metadata /opt/data/data/phenomexcan/ld_blocks/reference_panel_1000G/variant_metadata.parquet -window 100000 -parsimony 7 -chromosome 4 -regularization 0.1 -frequency_filter 0.01 -sub_batches 10 -sub_batch 5 --standardise_dosages -output /opt/data/projects/chronotype/results/imputed_gwas/chronotype_raw_BOLT.output_HRC.only_plus.metrics_maf0.001_hwep1em12_info0.3.txt-harmonized-imputed-chr4-batch5_10.txt\n",
      "+ set +x\n",
      "+ /opt/data/software/conda_envs/summary_gwas_imputation/bin/python /opt/data/software/summary-gwas-imputation/src/gwas_summary_imputation.py -by_region_file /opt/data/data/eur_ld.bed.gz -gwas_file /opt/data/projects/chronotype/results/harmonized_gwas/chronotype_raw_BOLT.output_HRC.only_plus.metrics_maf0.001_hwep1em12_info0.3.txt-harmonized.txt -parquet_genotype /opt/data/data/phenomexcan/ld_blocks/reference_panel_1000G/chr4.variants.parquet -parquet_genotype_metadata /opt/data/data/phenomexcan/ld_blocks/reference_panel_1000G/variant_metadata.parquet -window 100000 -parsimony 7 -chromosome 4 -regularization 0.1 -frequency_filter 0.01 -sub_batches 10 -sub_batch 6 --standardise_dosages -output /opt/data/projects/chronotype/results/imputed_gwas/chronotype_raw_BOLT.output_HRC.only_plus.metrics_maf0.001_hwep1em12_info0.3.txt-harmonized-imputed-chr4-batch6_10.txt\n",
      "+ set +x\n",
      "+ /opt/data/software/conda_envs/summary_gwas_imputation/bin/python /opt/data/software/summary-gwas-imputation/src/gwas_summary_imputation.py -by_region_file /opt/data/data/eur_ld.bed.gz -gwas_file /opt/data/projects/chronotype/results/harmonized_gwas/chronotype_raw_BOLT.output_HRC.only_plus.metrics_maf0.001_hwep1em12_info0.3.txt-harmonized.txt -parquet_genotype /opt/data/data/phenomexcan/ld_blocks/reference_panel_1000G/chr4.variants.parquet -parquet_genotype_metadata /opt/data/data/phenomexcan/ld_blocks/reference_panel_1000G/variant_metadata.parquet -window 100000 -parsimony 7 -chromosome 4 -regularization 0.1 -frequency_filter 0.01 -sub_batches 10 -sub_batch 7 --standardise_dosages -output /opt/data/projects/chronotype/results/imputed_gwas/chronotype_raw_BOLT.output_HRC.only_plus.metrics_maf0.001_hwep1em12_info0.3.txt-harmonized-imputed-chr4-batch7_10.txt\n",
      "+ set +x\n",
      "+ /opt/data/software/conda_envs/summary_gwas_imputation/bin/python /opt/data/software/summary-gwas-imputation/src/gwas_summary_imputation.py -by_region_file /opt/data/data/eur_ld.bed.gz -gwas_file /opt/data/projects/chronotype/results/harmonized_gwas/chronotype_raw_BOLT.output_HRC.only_plus.metrics_maf0.001_hwep1em12_info0.3.txt-harmonized.txt -parquet_genotype /opt/data/data/phenomexcan/ld_blocks/reference_panel_1000G/chr4.variants.parquet -parquet_genotype_metadata /opt/data/data/phenomexcan/ld_blocks/reference_panel_1000G/variant_metadata.parquet -window 100000 -parsimony 7 -chromosome 4 -regularization 0.1 -frequency_filter 0.01 -sub_batches 10 -sub_batch 8 --standardise_dosages -output /opt/data/projects/chronotype/results/imputed_gwas/chronotype_raw_BOLT.output_HRC.only_plus.metrics_maf0.001_hwep1em12_info0.3.txt-harmonized-imputed-chr4-batch8_10.txt\n",
      "+ set +x\n",
      "+ /opt/data/software/conda_envs/summary_gwas_imputation/bin/python /opt/data/software/summary-gwas-imputation/src/gwas_summary_imputation.py -by_region_file /opt/data/data/eur_ld.bed.gz -gwas_file /opt/data/projects/chronotype/results/harmonized_gwas/chronotype_raw_BOLT.output_HRC.only_plus.metrics_maf0.001_hwep1em12_info0.3.txt-harmonized.txt -parquet_genotype /opt/data/data/phenomexcan/ld_blocks/reference_panel_1000G/chr4.variants.parquet -parquet_genotype_metadata /opt/data/data/phenomexcan/ld_blocks/reference_panel_1000G/variant_metadata.parquet -window 100000 -parsimony 7 -chromosome 4 -regularization 0.1 -frequency_filter 0.01 -sub_batches 10 -sub_batch 9 --standardise_dosages -output /opt/data/projects/chronotype/results/imputed_gwas/chronotype_raw_BOLT.output_HRC.only_plus.metrics_maf0.001_hwep1em12_info0.3.txt-harmonized-imputed-chr4-batch9_10.txt\n"
     ]
    },
    {
     "name": "stdout",
     "output_type": "stream",
     "text": [
      "/opt/data/software/conda_envs/summary_gwas_imputation/lib/python3.7/site-packages/pyarrow/pandas_compat.py:752: FutureWarning: .labels was deprecated in version 0.24.0. Use .codes instead.\n",
      "\n"
     ]
    },
    {
     "name": "stderr",
     "output_type": "stream",
     "text": [
      "+ set +x\n"
     ]
    },
    {
     "name": "stdout",
     "output_type": "stream",
     "text": [
      "Running for chronotype, 5, 0\n",
      "Saving results in /opt/data/projects/chronotype/results/imputed_gwas\n",
      "/opt/data/software/conda_envs/summary_gwas_imputation/lib/python3.7/site-packages/pyarrow/pandas_compat.py:752: FutureWarning: .labels was deprecated in version 0.24.0. Use .codes instead.\n",
      "\n"
     ]
    },
    {
     "name": "stderr",
     "output_type": "stream",
     "text": [
      "+ /opt/data/software/conda_envs/summary_gwas_imputation/bin/python /opt/data/software/summary-gwas-imputation/src/gwas_summary_imputation.py -by_region_file /opt/data/data/eur_ld.bed.gz -gwas_file /opt/data/projects/chronotype/results/harmonized_gwas/chronotype_raw_BOLT.output_HRC.only_plus.metrics_maf0.001_hwep1em12_info0.3.txt-harmonized.txt -parquet_genotype /opt/data/data/phenomexcan/ld_blocks/reference_panel_1000G/chr5.variants.parquet -parquet_genotype_metadata /opt/data/data/phenomexcan/ld_blocks/reference_panel_1000G/variant_metadata.parquet -window 100000 -parsimony 7 -chromosome 5 -regularization 0.1 -frequency_filter 0.01 -sub_batches 10 -sub_batch 0 --standardise_dosages -output /opt/data/projects/chronotype/results/imputed_gwas/chronotype_raw_BOLT.output_HRC.only_plus.metrics_maf0.001_hwep1em12_info0.3.txt-harmonized-imputed-chr5-batch0_10.txt\n",
      "+ set +x\n"
     ]
    },
    {
     "name": "stdout",
     "output_type": "stream",
     "text": [
      "Running for chronotype, 5, 1\n",
      "Saving results in /opt/data/projects/chronotype/results/imputed_gwas\n",
      "/opt/data/software/conda_envs/summary_gwas_imputation/lib/python3.7/site-packages/pyarrow/pandas_compat.py:752: FutureWarning: .labels was deprecated in version 0.24.0. Use .codes instead.\n",
      "\n",
      "Running for chronotype, 5, 2\n",
      "Saving results in /opt/data/projects/chronotype/results/imputed_gwas\n",
      "/opt/data/software/conda_envs/summary_gwas_imputation/lib/python3.7/site-packages/pyarrow/pandas_compat.py:752: FutureWarning: .labels was deprecated in version 0.24.0. Use .codes instead.\n",
      "\n",
      "Running for chronotype, 5, 3\n",
      "Saving results in /opt/data/projects/chronotype/results/imputed_gwas\n",
      "/opt/data/software/conda_envs/summary_gwas_imputation/lib/python3.7/site-packages/pyarrow/pandas_compat.py:752: FutureWarning: .labels was deprecated in version 0.24.0. Use .codes instead.\n",
      "\n",
      "Running for chronotype, 5, 4\n",
      "Saving results in /opt/data/projects/chronotype/results/imputed_gwas\n",
      "/opt/data/software/conda_envs/summary_gwas_imputation/lib/python3.7/site-packages/pyarrow/pandas_compat.py:752: FutureWarning: .labels was deprecated in version 0.24.0. Use .codes instead.\n",
      "\n",
      "Running for chronotype, 5, 5\n",
      "Saving results in /opt/data/projects/chronotype/results/imputed_gwas\n",
      "/opt/data/software/conda_envs/summary_gwas_imputation/lib/python3.7/site-packages/pyarrow/pandas_compat.py:752: FutureWarning: .labels was deprecated in version 0.24.0. Use .codes instead.\n",
      "\n",
      "Running for chronotype, 5, 6\n",
      "Saving results in /opt/data/projects/chronotype/results/imputed_gwas\n",
      "/opt/data/software/conda_envs/summary_gwas_imputation/lib/python3.7/site-packages/pyarrow/pandas_compat.py:752: FutureWarning: .labels was deprecated in version 0.24.0. Use .codes instead.\n",
      "\n",
      "Running for chronotype, 5, 7\n",
      "Saving results in /opt/data/projects/chronotype/results/imputed_gwas\n",
      "/opt/data/software/conda_envs/summary_gwas_imputation/lib/python3.7/site-packages/pyarrow/pandas_compat.py:752: FutureWarning: .labels was deprecated in version 0.24.0. Use .codes instead.\n",
      "\n",
      "Running for chronotype, 5, 8\n",
      "Saving results in /opt/data/projects/chronotype/results/imputed_gwas\n",
      "/opt/data/software/conda_envs/summary_gwas_imputation/lib/python3.7/site-packages/pyarrow/pandas_compat.py:752: FutureWarning: .labels was deprecated in version 0.24.0. Use .codes instead.\n",
      "\n",
      "Running for chronotype, 5, 9\n",
      "Saving results in /opt/data/projects/chronotype/results/imputed_gwas\n",
      "/opt/data/software/conda_envs/summary_gwas_imputation/lib/python3.7/site-packages/pyarrow/pandas_compat.py:752: FutureWarning: .labels was deprecated in version 0.24.0. Use .codes instead.\n",
      "INFO - Error for region (5,174215868.0,176023592.0): LinAlgError('SVD did not converge')\n",
      "\n",
      "Running for chronotype, 6, 0\n",
      "Saving results in /opt/data/projects/chronotype/results/imputed_gwas\n",
      "/opt/data/software/conda_envs/summary_gwas_imputation/lib/python3.7/site-packages/pyarrow/pandas_compat.py:752: FutureWarning: .labels was deprecated in version 0.24.0. Use .codes instead.\n",
      "Intel MKL ERROR: Parameter 4 was incorrect on entry to DLASCL.\n",
      "\n",
      "Running for chronotype, 6, 1\n",
      "Saving results in /opt/data/projects/chronotype/results/imputed_gwas\n",
      "/opt/data/software/conda_envs/summary_gwas_imputation/lib/python3.7/site-packages/pyarrow/pandas_compat.py:752: FutureWarning: .labels was deprecated in version 0.24.0. Use .codes instead.\n",
      "\n",
      "Running for chronotype, 6, 2\n",
      "Saving results in /opt/data/projects/chronotype/results/imputed_gwas\n"
     ]
    },
    {
     "name": "stderr",
     "output_type": "stream",
     "text": [
      "+ /opt/data/software/conda_envs/summary_gwas_imputation/bin/python /opt/data/software/summary-gwas-imputation/src/gwas_summary_imputation.py -by_region_file /opt/data/data/eur_ld.bed.gz -gwas_file /opt/data/projects/chronotype/results/harmonized_gwas/chronotype_raw_BOLT.output_HRC.only_plus.metrics_maf0.001_hwep1em12_info0.3.txt-harmonized.txt -parquet_genotype /opt/data/data/phenomexcan/ld_blocks/reference_panel_1000G/chr5.variants.parquet -parquet_genotype_metadata /opt/data/data/phenomexcan/ld_blocks/reference_panel_1000G/variant_metadata.parquet -window 100000 -parsimony 7 -chromosome 5 -regularization 0.1 -frequency_filter 0.01 -sub_batches 10 -sub_batch 1 --standardise_dosages -output /opt/data/projects/chronotype/results/imputed_gwas/chronotype_raw_BOLT.output_HRC.only_plus.metrics_maf0.001_hwep1em12_info0.3.txt-harmonized-imputed-chr5-batch1_10.txt\n",
      "+ set +x\n",
      "+ /opt/data/software/conda_envs/summary_gwas_imputation/bin/python /opt/data/software/summary-gwas-imputation/src/gwas_summary_imputation.py -by_region_file /opt/data/data/eur_ld.bed.gz -gwas_file /opt/data/projects/chronotype/results/harmonized_gwas/chronotype_raw_BOLT.output_HRC.only_plus.metrics_maf0.001_hwep1em12_info0.3.txt-harmonized.txt -parquet_genotype /opt/data/data/phenomexcan/ld_blocks/reference_panel_1000G/chr5.variants.parquet -parquet_genotype_metadata /opt/data/data/phenomexcan/ld_blocks/reference_panel_1000G/variant_metadata.parquet -window 100000 -parsimony 7 -chromosome 5 -regularization 0.1 -frequency_filter 0.01 -sub_batches 10 -sub_batch 2 --standardise_dosages -output /opt/data/projects/chronotype/results/imputed_gwas/chronotype_raw_BOLT.output_HRC.only_plus.metrics_maf0.001_hwep1em12_info0.3.txt-harmonized-imputed-chr5-batch2_10.txt\n",
      "+ set +x\n",
      "+ /opt/data/software/conda_envs/summary_gwas_imputation/bin/python /opt/data/software/summary-gwas-imputation/src/gwas_summary_imputation.py -by_region_file /opt/data/data/eur_ld.bed.gz -gwas_file /opt/data/projects/chronotype/results/harmonized_gwas/chronotype_raw_BOLT.output_HRC.only_plus.metrics_maf0.001_hwep1em12_info0.3.txt-harmonized.txt -parquet_genotype /opt/data/data/phenomexcan/ld_blocks/reference_panel_1000G/chr5.variants.parquet -parquet_genotype_metadata /opt/data/data/phenomexcan/ld_blocks/reference_panel_1000G/variant_metadata.parquet -window 100000 -parsimony 7 -chromosome 5 -regularization 0.1 -frequency_filter 0.01 -sub_batches 10 -sub_batch 3 --standardise_dosages -output /opt/data/projects/chronotype/results/imputed_gwas/chronotype_raw_BOLT.output_HRC.only_plus.metrics_maf0.001_hwep1em12_info0.3.txt-harmonized-imputed-chr5-batch3_10.txt\n",
      "+ set +x\n",
      "+ /opt/data/software/conda_envs/summary_gwas_imputation/bin/python /opt/data/software/summary-gwas-imputation/src/gwas_summary_imputation.py -by_region_file /opt/data/data/eur_ld.bed.gz -gwas_file /opt/data/projects/chronotype/results/harmonized_gwas/chronotype_raw_BOLT.output_HRC.only_plus.metrics_maf0.001_hwep1em12_info0.3.txt-harmonized.txt -parquet_genotype /opt/data/data/phenomexcan/ld_blocks/reference_panel_1000G/chr5.variants.parquet -parquet_genotype_metadata /opt/data/data/phenomexcan/ld_blocks/reference_panel_1000G/variant_metadata.parquet -window 100000 -parsimony 7 -chromosome 5 -regularization 0.1 -frequency_filter 0.01 -sub_batches 10 -sub_batch 4 --standardise_dosages -output /opt/data/projects/chronotype/results/imputed_gwas/chronotype_raw_BOLT.output_HRC.only_plus.metrics_maf0.001_hwep1em12_info0.3.txt-harmonized-imputed-chr5-batch4_10.txt\n",
      "+ set +x\n",
      "+ /opt/data/software/conda_envs/summary_gwas_imputation/bin/python /opt/data/software/summary-gwas-imputation/src/gwas_summary_imputation.py -by_region_file /opt/data/data/eur_ld.bed.gz -gwas_file /opt/data/projects/chronotype/results/harmonized_gwas/chronotype_raw_BOLT.output_HRC.only_plus.metrics_maf0.001_hwep1em12_info0.3.txt-harmonized.txt -parquet_genotype /opt/data/data/phenomexcan/ld_blocks/reference_panel_1000G/chr5.variants.parquet -parquet_genotype_metadata /opt/data/data/phenomexcan/ld_blocks/reference_panel_1000G/variant_metadata.parquet -window 100000 -parsimony 7 -chromosome 5 -regularization 0.1 -frequency_filter 0.01 -sub_batches 10 -sub_batch 5 --standardise_dosages -output /opt/data/projects/chronotype/results/imputed_gwas/chronotype_raw_BOLT.output_HRC.only_plus.metrics_maf0.001_hwep1em12_info0.3.txt-harmonized-imputed-chr5-batch5_10.txt\n",
      "+ set +x\n",
      "+ /opt/data/software/conda_envs/summary_gwas_imputation/bin/python /opt/data/software/summary-gwas-imputation/src/gwas_summary_imputation.py -by_region_file /opt/data/data/eur_ld.bed.gz -gwas_file /opt/data/projects/chronotype/results/harmonized_gwas/chronotype_raw_BOLT.output_HRC.only_plus.metrics_maf0.001_hwep1em12_info0.3.txt-harmonized.txt -parquet_genotype /opt/data/data/phenomexcan/ld_blocks/reference_panel_1000G/chr5.variants.parquet -parquet_genotype_metadata /opt/data/data/phenomexcan/ld_blocks/reference_panel_1000G/variant_metadata.parquet -window 100000 -parsimony 7 -chromosome 5 -regularization 0.1 -frequency_filter 0.01 -sub_batches 10 -sub_batch 6 --standardise_dosages -output /opt/data/projects/chronotype/results/imputed_gwas/chronotype_raw_BOLT.output_HRC.only_plus.metrics_maf0.001_hwep1em12_info0.3.txt-harmonized-imputed-chr5-batch6_10.txt\n",
      "+ set +x\n",
      "+ /opt/data/software/conda_envs/summary_gwas_imputation/bin/python /opt/data/software/summary-gwas-imputation/src/gwas_summary_imputation.py -by_region_file /opt/data/data/eur_ld.bed.gz -gwas_file /opt/data/projects/chronotype/results/harmonized_gwas/chronotype_raw_BOLT.output_HRC.only_plus.metrics_maf0.001_hwep1em12_info0.3.txt-harmonized.txt -parquet_genotype /opt/data/data/phenomexcan/ld_blocks/reference_panel_1000G/chr5.variants.parquet -parquet_genotype_metadata /opt/data/data/phenomexcan/ld_blocks/reference_panel_1000G/variant_metadata.parquet -window 100000 -parsimony 7 -chromosome 5 -regularization 0.1 -frequency_filter 0.01 -sub_batches 10 -sub_batch 7 --standardise_dosages -output /opt/data/projects/chronotype/results/imputed_gwas/chronotype_raw_BOLT.output_HRC.only_plus.metrics_maf0.001_hwep1em12_info0.3.txt-harmonized-imputed-chr5-batch7_10.txt\n",
      "+ set +x\n",
      "+ /opt/data/software/conda_envs/summary_gwas_imputation/bin/python /opt/data/software/summary-gwas-imputation/src/gwas_summary_imputation.py -by_region_file /opt/data/data/eur_ld.bed.gz -gwas_file /opt/data/projects/chronotype/results/harmonized_gwas/chronotype_raw_BOLT.output_HRC.only_plus.metrics_maf0.001_hwep1em12_info0.3.txt-harmonized.txt -parquet_genotype /opt/data/data/phenomexcan/ld_blocks/reference_panel_1000G/chr5.variants.parquet -parquet_genotype_metadata /opt/data/data/phenomexcan/ld_blocks/reference_panel_1000G/variant_metadata.parquet -window 100000 -parsimony 7 -chromosome 5 -regularization 0.1 -frequency_filter 0.01 -sub_batches 10 -sub_batch 8 --standardise_dosages -output /opt/data/projects/chronotype/results/imputed_gwas/chronotype_raw_BOLT.output_HRC.only_plus.metrics_maf0.001_hwep1em12_info0.3.txt-harmonized-imputed-chr5-batch8_10.txt\n",
      "+ set +x\n",
      "+ /opt/data/software/conda_envs/summary_gwas_imputation/bin/python /opt/data/software/summary-gwas-imputation/src/gwas_summary_imputation.py -by_region_file /opt/data/data/eur_ld.bed.gz -gwas_file /opt/data/projects/chronotype/results/harmonized_gwas/chronotype_raw_BOLT.output_HRC.only_plus.metrics_maf0.001_hwep1em12_info0.3.txt-harmonized.txt -parquet_genotype /opt/data/data/phenomexcan/ld_blocks/reference_panel_1000G/chr5.variants.parquet -parquet_genotype_metadata /opt/data/data/phenomexcan/ld_blocks/reference_panel_1000G/variant_metadata.parquet -window 100000 -parsimony 7 -chromosome 5 -regularization 0.1 -frequency_filter 0.01 -sub_batches 10 -sub_batch 9 --standardise_dosages -output /opt/data/projects/chronotype/results/imputed_gwas/chronotype_raw_BOLT.output_HRC.only_plus.metrics_maf0.001_hwep1em12_info0.3.txt-harmonized-imputed-chr5-batch9_10.txt\n",
      "+ set +x\n",
      "+ /opt/data/software/conda_envs/summary_gwas_imputation/bin/python /opt/data/software/summary-gwas-imputation/src/gwas_summary_imputation.py -by_region_file /opt/data/data/eur_ld.bed.gz -gwas_file /opt/data/projects/chronotype/results/harmonized_gwas/chronotype_raw_BOLT.output_HRC.only_plus.metrics_maf0.001_hwep1em12_info0.3.txt-harmonized.txt -parquet_genotype /opt/data/data/phenomexcan/ld_blocks/reference_panel_1000G/chr6.variants.parquet -parquet_genotype_metadata /opt/data/data/phenomexcan/ld_blocks/reference_panel_1000G/variant_metadata.parquet -window 100000 -parsimony 7 -chromosome 6 -regularization 0.1 -frequency_filter 0.01 -sub_batches 10 -sub_batch 0 --standardise_dosages -output /opt/data/projects/chronotype/results/imputed_gwas/chronotype_raw_BOLT.output_HRC.only_plus.metrics_maf0.001_hwep1em12_info0.3.txt-harmonized-imputed-chr6-batch0_10.txt\n",
      "+ set +x\n",
      "+ /opt/data/software/conda_envs/summary_gwas_imputation/bin/python /opt/data/software/summary-gwas-imputation/src/gwas_summary_imputation.py -by_region_file /opt/data/data/eur_ld.bed.gz -gwas_file /opt/data/projects/chronotype/results/harmonized_gwas/chronotype_raw_BOLT.output_HRC.only_plus.metrics_maf0.001_hwep1em12_info0.3.txt-harmonized.txt -parquet_genotype /opt/data/data/phenomexcan/ld_blocks/reference_panel_1000G/chr6.variants.parquet -parquet_genotype_metadata /opt/data/data/phenomexcan/ld_blocks/reference_panel_1000G/variant_metadata.parquet -window 100000 -parsimony 7 -chromosome 6 -regularization 0.1 -frequency_filter 0.01 -sub_batches 10 -sub_batch 1 --standardise_dosages -output /opt/data/projects/chronotype/results/imputed_gwas/chronotype_raw_BOLT.output_HRC.only_plus.metrics_maf0.001_hwep1em12_info0.3.txt-harmonized-imputed-chr6-batch1_10.txt\n",
      "+ set +x\n",
      "+ /opt/data/software/conda_envs/summary_gwas_imputation/bin/python /opt/data/software/summary-gwas-imputation/src/gwas_summary_imputation.py -by_region_file /opt/data/data/eur_ld.bed.gz -gwas_file /opt/data/projects/chronotype/results/harmonized_gwas/chronotype_raw_BOLT.output_HRC.only_plus.metrics_maf0.001_hwep1em12_info0.3.txt-harmonized.txt -parquet_genotype /opt/data/data/phenomexcan/ld_blocks/reference_panel_1000G/chr6.variants.parquet -parquet_genotype_metadata /opt/data/data/phenomexcan/ld_blocks/reference_panel_1000G/variant_metadata.parquet -window 100000 -parsimony 7 -chromosome 6 -regularization 0.1 -frequency_filter 0.01 -sub_batches 10 -sub_batch 2 --standardise_dosages -output /opt/data/projects/chronotype/results/imputed_gwas/chronotype_raw_BOLT.output_HRC.only_plus.metrics_maf0.001_hwep1em12_info0.3.txt-harmonized-imputed-chr6-batch2_10.txt\n"
     ]
    },
    {
     "name": "stdout",
     "output_type": "stream",
     "text": [
      "/opt/data/software/conda_envs/summary_gwas_imputation/lib/python3.7/site-packages/pyarrow/pandas_compat.py:752: FutureWarning: .labels was deprecated in version 0.24.0. Use .codes instead.\n",
      "\n"
     ]
    },
    {
     "name": "stderr",
     "output_type": "stream",
     "text": [
      "+ set +x\n"
     ]
    },
    {
     "name": "stdout",
     "output_type": "stream",
     "text": [
      "Running for chronotype, 6, 3\n",
      "Saving results in /opt/data/projects/chronotype/results/imputed_gwas\n",
      "/opt/data/software/conda_envs/summary_gwas_imputation/lib/python3.7/site-packages/pyarrow/pandas_compat.py:752: FutureWarning: .labels was deprecated in version 0.24.0. Use .codes instead.\n",
      "\n"
     ]
    },
    {
     "name": "stderr",
     "output_type": "stream",
     "text": [
      "+ /opt/data/software/conda_envs/summary_gwas_imputation/bin/python /opt/data/software/summary-gwas-imputation/src/gwas_summary_imputation.py -by_region_file /opt/data/data/eur_ld.bed.gz -gwas_file /opt/data/projects/chronotype/results/harmonized_gwas/chronotype_raw_BOLT.output_HRC.only_plus.metrics_maf0.001_hwep1em12_info0.3.txt-harmonized.txt -parquet_genotype /opt/data/data/phenomexcan/ld_blocks/reference_panel_1000G/chr6.variants.parquet -parquet_genotype_metadata /opt/data/data/phenomexcan/ld_blocks/reference_panel_1000G/variant_metadata.parquet -window 100000 -parsimony 7 -chromosome 6 -regularization 0.1 -frequency_filter 0.01 -sub_batches 10 -sub_batch 3 --standardise_dosages -output /opt/data/projects/chronotype/results/imputed_gwas/chronotype_raw_BOLT.output_HRC.only_plus.metrics_maf0.001_hwep1em12_info0.3.txt-harmonized-imputed-chr6-batch3_10.txt\n",
      "+ set +x\n"
     ]
    },
    {
     "name": "stdout",
     "output_type": "stream",
     "text": [
      "Running for chronotype, 6, 4\n",
      "Saving results in /opt/data/projects/chronotype/results/imputed_gwas\n",
      "/opt/data/software/conda_envs/summary_gwas_imputation/lib/python3.7/site-packages/pyarrow/pandas_compat.py:752: FutureWarning: .labels was deprecated in version 0.24.0. Use .codes instead.\n",
      "\n",
      "Running for chronotype, 6, 5\n",
      "Saving results in /opt/data/projects/chronotype/results/imputed_gwas\n",
      "/opt/data/software/conda_envs/summary_gwas_imputation/lib/python3.7/site-packages/pyarrow/pandas_compat.py:752: FutureWarning: .labels was deprecated in version 0.24.0. Use .codes instead.\n",
      "\n",
      "Running for chronotype, 6, 6\n",
      "Saving results in /opt/data/projects/chronotype/results/imputed_gwas\n",
      "/opt/data/software/conda_envs/summary_gwas_imputation/lib/python3.7/site-packages/pyarrow/pandas_compat.py:752: FutureWarning: .labels was deprecated in version 0.24.0. Use .codes instead.\n",
      "\n",
      "Running for chronotype, 6, 7\n",
      "Saving results in /opt/data/projects/chronotype/results/imputed_gwas\n",
      "/opt/data/software/conda_envs/summary_gwas_imputation/lib/python3.7/site-packages/pyarrow/pandas_compat.py:752: FutureWarning: .labels was deprecated in version 0.24.0. Use .codes instead.\n",
      "\n",
      "Running for chronotype, 6, 8\n",
      "Saving results in /opt/data/projects/chronotype/results/imputed_gwas\n"
     ]
    },
    {
     "name": "stderr",
     "output_type": "stream",
     "text": [
      "+ /opt/data/software/conda_envs/summary_gwas_imputation/bin/python /opt/data/software/summary-gwas-imputation/src/gwas_summary_imputation.py -by_region_file /opt/data/data/eur_ld.bed.gz -gwas_file /opt/data/projects/chronotype/results/harmonized_gwas/chronotype_raw_BOLT.output_HRC.only_plus.metrics_maf0.001_hwep1em12_info0.3.txt-harmonized.txt -parquet_genotype /opt/data/data/phenomexcan/ld_blocks/reference_panel_1000G/chr6.variants.parquet -parquet_genotype_metadata /opt/data/data/phenomexcan/ld_blocks/reference_panel_1000G/variant_metadata.parquet -window 100000 -parsimony 7 -chromosome 6 -regularization 0.1 -frequency_filter 0.01 -sub_batches 10 -sub_batch 4 --standardise_dosages -output /opt/data/projects/chronotype/results/imputed_gwas/chronotype_raw_BOLT.output_HRC.only_plus.metrics_maf0.001_hwep1em12_info0.3.txt-harmonized-imputed-chr6-batch4_10.txt\n",
      "+ set +x\n",
      "+ /opt/data/software/conda_envs/summary_gwas_imputation/bin/python /opt/data/software/summary-gwas-imputation/src/gwas_summary_imputation.py -by_region_file /opt/data/data/eur_ld.bed.gz -gwas_file /opt/data/projects/chronotype/results/harmonized_gwas/chronotype_raw_BOLT.output_HRC.only_plus.metrics_maf0.001_hwep1em12_info0.3.txt-harmonized.txt -parquet_genotype /opt/data/data/phenomexcan/ld_blocks/reference_panel_1000G/chr6.variants.parquet -parquet_genotype_metadata /opt/data/data/phenomexcan/ld_blocks/reference_panel_1000G/variant_metadata.parquet -window 100000 -parsimony 7 -chromosome 6 -regularization 0.1 -frequency_filter 0.01 -sub_batches 10 -sub_batch 5 --standardise_dosages -output /opt/data/projects/chronotype/results/imputed_gwas/chronotype_raw_BOLT.output_HRC.only_plus.metrics_maf0.001_hwep1em12_info0.3.txt-harmonized-imputed-chr6-batch5_10.txt\n",
      "+ set +x\n",
      "+ /opt/data/software/conda_envs/summary_gwas_imputation/bin/python /opt/data/software/summary-gwas-imputation/src/gwas_summary_imputation.py -by_region_file /opt/data/data/eur_ld.bed.gz -gwas_file /opt/data/projects/chronotype/results/harmonized_gwas/chronotype_raw_BOLT.output_HRC.only_plus.metrics_maf0.001_hwep1em12_info0.3.txt-harmonized.txt -parquet_genotype /opt/data/data/phenomexcan/ld_blocks/reference_panel_1000G/chr6.variants.parquet -parquet_genotype_metadata /opt/data/data/phenomexcan/ld_blocks/reference_panel_1000G/variant_metadata.parquet -window 100000 -parsimony 7 -chromosome 6 -regularization 0.1 -frequency_filter 0.01 -sub_batches 10 -sub_batch 6 --standardise_dosages -output /opt/data/projects/chronotype/results/imputed_gwas/chronotype_raw_BOLT.output_HRC.only_plus.metrics_maf0.001_hwep1em12_info0.3.txt-harmonized-imputed-chr6-batch6_10.txt\n",
      "+ set +x\n",
      "+ /opt/data/software/conda_envs/summary_gwas_imputation/bin/python /opt/data/software/summary-gwas-imputation/src/gwas_summary_imputation.py -by_region_file /opt/data/data/eur_ld.bed.gz -gwas_file /opt/data/projects/chronotype/results/harmonized_gwas/chronotype_raw_BOLT.output_HRC.only_plus.metrics_maf0.001_hwep1em12_info0.3.txt-harmonized.txt -parquet_genotype /opt/data/data/phenomexcan/ld_blocks/reference_panel_1000G/chr6.variants.parquet -parquet_genotype_metadata /opt/data/data/phenomexcan/ld_blocks/reference_panel_1000G/variant_metadata.parquet -window 100000 -parsimony 7 -chromosome 6 -regularization 0.1 -frequency_filter 0.01 -sub_batches 10 -sub_batch 7 --standardise_dosages -output /opt/data/projects/chronotype/results/imputed_gwas/chronotype_raw_BOLT.output_HRC.only_plus.metrics_maf0.001_hwep1em12_info0.3.txt-harmonized-imputed-chr6-batch7_10.txt\n",
      "+ set +x\n",
      "+ /opt/data/software/conda_envs/summary_gwas_imputation/bin/python /opt/data/software/summary-gwas-imputation/src/gwas_summary_imputation.py -by_region_file /opt/data/data/eur_ld.bed.gz -gwas_file /opt/data/projects/chronotype/results/harmonized_gwas/chronotype_raw_BOLT.output_HRC.only_plus.metrics_maf0.001_hwep1em12_info0.3.txt-harmonized.txt -parquet_genotype /opt/data/data/phenomexcan/ld_blocks/reference_panel_1000G/chr6.variants.parquet -parquet_genotype_metadata /opt/data/data/phenomexcan/ld_blocks/reference_panel_1000G/variant_metadata.parquet -window 100000 -parsimony 7 -chromosome 6 -regularization 0.1 -frequency_filter 0.01 -sub_batches 10 -sub_batch 8 --standardise_dosages -output /opt/data/projects/chronotype/results/imputed_gwas/chronotype_raw_BOLT.output_HRC.only_plus.metrics_maf0.001_hwep1em12_info0.3.txt-harmonized-imputed-chr6-batch8_10.txt\n"
     ]
    },
    {
     "name": "stdout",
     "output_type": "stream",
     "text": [
      "/opt/data/software/conda_envs/summary_gwas_imputation/lib/python3.7/site-packages/pyarrow/pandas_compat.py:752: FutureWarning: .labels was deprecated in version 0.24.0. Use .codes instead.\n",
      "INFO - Error for region (6,149932268.0,151591568.0): LinAlgError('SVD did not converge')\n",
      "\n"
     ]
    },
    {
     "name": "stderr",
     "output_type": "stream",
     "text": [
      "+ set +x\n"
     ]
    },
    {
     "name": "stdout",
     "output_type": "stream",
     "text": [
      "Running for chronotype, 6, 9\n",
      "Saving results in /opt/data/projects/chronotype/results/imputed_gwas\n",
      "/opt/data/software/conda_envs/summary_gwas_imputation/lib/python3.7/site-packages/pyarrow/pandas_compat.py:752: FutureWarning: .labels was deprecated in version 0.24.0. Use .codes instead.\n",
      "\n"
     ]
    },
    {
     "name": "stderr",
     "output_type": "stream",
     "text": [
      "+ /opt/data/software/conda_envs/summary_gwas_imputation/bin/python /opt/data/software/summary-gwas-imputation/src/gwas_summary_imputation.py -by_region_file /opt/data/data/eur_ld.bed.gz -gwas_file /opt/data/projects/chronotype/results/harmonized_gwas/chronotype_raw_BOLT.output_HRC.only_plus.metrics_maf0.001_hwep1em12_info0.3.txt-harmonized.txt -parquet_genotype /opt/data/data/phenomexcan/ld_blocks/reference_panel_1000G/chr6.variants.parquet -parquet_genotype_metadata /opt/data/data/phenomexcan/ld_blocks/reference_panel_1000G/variant_metadata.parquet -window 100000 -parsimony 7 -chromosome 6 -regularization 0.1 -frequency_filter 0.01 -sub_batches 10 -sub_batch 9 --standardise_dosages -output /opt/data/projects/chronotype/results/imputed_gwas/chronotype_raw_BOLT.output_HRC.only_plus.metrics_maf0.001_hwep1em12_info0.3.txt-harmonized-imputed-chr6-batch9_10.txt\n",
      "+ set +x\n"
     ]
    },
    {
     "name": "stdout",
     "output_type": "stream",
     "text": [
      "Running for chronotype, 7, 0\n",
      "Saving results in /opt/data/projects/chronotype/results/imputed_gwas\n",
      "/opt/data/software/conda_envs/summary_gwas_imputation/lib/python3.7/site-packages/pyarrow/pandas_compat.py:752: FutureWarning: .labels was deprecated in version 0.24.0. Use .codes instead.\n",
      "\n",
      "Running for chronotype, 7, 1\n",
      "Saving results in /opt/data/projects/chronotype/results/imputed_gwas\n"
     ]
    },
    {
     "name": "stderr",
     "output_type": "stream",
     "text": [
      "+ /opt/data/software/conda_envs/summary_gwas_imputation/bin/python /opt/data/software/summary-gwas-imputation/src/gwas_summary_imputation.py -by_region_file /opt/data/data/eur_ld.bed.gz -gwas_file /opt/data/projects/chronotype/results/harmonized_gwas/chronotype_raw_BOLT.output_HRC.only_plus.metrics_maf0.001_hwep1em12_info0.3.txt-harmonized.txt -parquet_genotype /opt/data/data/phenomexcan/ld_blocks/reference_panel_1000G/chr7.variants.parquet -parquet_genotype_metadata /opt/data/data/phenomexcan/ld_blocks/reference_panel_1000G/variant_metadata.parquet -window 100000 -parsimony 7 -chromosome 7 -regularization 0.1 -frequency_filter 0.01 -sub_batches 10 -sub_batch 0 --standardise_dosages -output /opt/data/projects/chronotype/results/imputed_gwas/chronotype_raw_BOLT.output_HRC.only_plus.metrics_maf0.001_hwep1em12_info0.3.txt-harmonized-imputed-chr7-batch0_10.txt\n",
      "+ set +x\n",
      "+ /opt/data/software/conda_envs/summary_gwas_imputation/bin/python /opt/data/software/summary-gwas-imputation/src/gwas_summary_imputation.py -by_region_file /opt/data/data/eur_ld.bed.gz -gwas_file /opt/data/projects/chronotype/results/harmonized_gwas/chronotype_raw_BOLT.output_HRC.only_plus.metrics_maf0.001_hwep1em12_info0.3.txt-harmonized.txt -parquet_genotype /opt/data/data/phenomexcan/ld_blocks/reference_panel_1000G/chr7.variants.parquet -parquet_genotype_metadata /opt/data/data/phenomexcan/ld_blocks/reference_panel_1000G/variant_metadata.parquet -window 100000 -parsimony 7 -chromosome 7 -regularization 0.1 -frequency_filter 0.01 -sub_batches 10 -sub_batch 1 --standardise_dosages -output /opt/data/projects/chronotype/results/imputed_gwas/chronotype_raw_BOLT.output_HRC.only_plus.metrics_maf0.001_hwep1em12_info0.3.txt-harmonized-imputed-chr7-batch1_10.txt\n"
     ]
    },
    {
     "name": "stdout",
     "output_type": "stream",
     "text": [
      "/opt/data/software/conda_envs/summary_gwas_imputation/lib/python3.7/site-packages/pyarrow/pandas_compat.py:752: FutureWarning: .labels was deprecated in version 0.24.0. Use .codes instead.\n",
      "INFO - Error for region (7,20085285.0,22468010.0): LinAlgError('SVD did not converge')\n",
      "\n"
     ]
    },
    {
     "name": "stderr",
     "output_type": "stream",
     "text": [
      "+ set +x\n"
     ]
    },
    {
     "name": "stdout",
     "output_type": "stream",
     "text": [
      "Running for chronotype, 7, 2\n",
      "Saving results in /opt/data/projects/chronotype/results/imputed_gwas\n"
     ]
    },
    {
     "name": "stderr",
     "output_type": "stream",
     "text": [
      "+ /opt/data/software/conda_envs/summary_gwas_imputation/bin/python /opt/data/software/summary-gwas-imputation/src/gwas_summary_imputation.py -by_region_file /opt/data/data/eur_ld.bed.gz -gwas_file /opt/data/projects/chronotype/results/harmonized_gwas/chronotype_raw_BOLT.output_HRC.only_plus.metrics_maf0.001_hwep1em12_info0.3.txt-harmonized.txt -parquet_genotype /opt/data/data/phenomexcan/ld_blocks/reference_panel_1000G/chr7.variants.parquet -parquet_genotype_metadata /opt/data/data/phenomexcan/ld_blocks/reference_panel_1000G/variant_metadata.parquet -window 100000 -parsimony 7 -chromosome 7 -regularization 0.1 -frequency_filter 0.01 -sub_batches 10 -sub_batch 2 --standardise_dosages -output /opt/data/projects/chronotype/results/imputed_gwas/chronotype_raw_BOLT.output_HRC.only_plus.metrics_maf0.001_hwep1em12_info0.3.txt-harmonized-imputed-chr7-batch2_10.txt\n"
     ]
    },
    {
     "name": "stdout",
     "output_type": "stream",
     "text": [
      "/opt/data/software/conda_envs/summary_gwas_imputation/lib/python3.7/site-packages/pyarrow/pandas_compat.py:752: FutureWarning: .labels was deprecated in version 0.24.0. Use .codes instead.\n",
      "\n"
     ]
    },
    {
     "name": "stderr",
     "output_type": "stream",
     "text": [
      "+ set +x\n"
     ]
    },
    {
     "name": "stdout",
     "output_type": "stream",
     "text": [
      "Running for chronotype, 7, 3\n",
      "Saving results in /opt/data/projects/chronotype/results/imputed_gwas\n",
      "/opt/data/software/conda_envs/summary_gwas_imputation/lib/python3.7/site-packages/pyarrow/pandas_compat.py:752: FutureWarning: .labels was deprecated in version 0.24.0. Use .codes instead.\n",
      "\n",
      "Running for chronotype, 7, 4\n",
      "Saving results in /opt/data/projects/chronotype/results/imputed_gwas\n",
      "/opt/data/software/conda_envs/summary_gwas_imputation/lib/python3.7/site-packages/pyarrow/pandas_compat.py:752: FutureWarning: .labels was deprecated in version 0.24.0. Use .codes instead.\n",
      "\n",
      "Running for chronotype, 7, 5\n",
      "Saving results in /opt/data/projects/chronotype/results/imputed_gwas\n",
      "/opt/data/software/conda_envs/summary_gwas_imputation/lib/python3.7/site-packages/pyarrow/pandas_compat.py:752: FutureWarning: .labels was deprecated in version 0.24.0. Use .codes instead.\n",
      "\n",
      "Running for chronotype, 7, 6\n",
      "Saving results in /opt/data/projects/chronotype/results/imputed_gwas\n",
      "/opt/data/software/conda_envs/summary_gwas_imputation/lib/python3.7/site-packages/pyarrow/pandas_compat.py:752: FutureWarning: .labels was deprecated in version 0.24.0. Use .codes instead.\n",
      "\n",
      "Running for chronotype, 7, 7\n",
      "Saving results in /opt/data/projects/chronotype/results/imputed_gwas\n",
      "/opt/data/software/conda_envs/summary_gwas_imputation/lib/python3.7/site-packages/pyarrow/pandas_compat.py:752: FutureWarning: .labels was deprecated in version 0.24.0. Use .codes instead.\n",
      "\n",
      "Running for chronotype, 7, 8\n",
      "Saving results in /opt/data/projects/chronotype/results/imputed_gwas\n",
      "/opt/data/software/conda_envs/summary_gwas_imputation/lib/python3.7/site-packages/pyarrow/pandas_compat.py:752: FutureWarning: .labels was deprecated in version 0.24.0. Use .codes instead.\n",
      "\n",
      "Running for chronotype, 7, 9\n",
      "Saving results in /opt/data/projects/chronotype/results/imputed_gwas\n",
      "/opt/data/software/conda_envs/summary_gwas_imputation/lib/python3.7/site-packages/pyarrow/pandas_compat.py:752: FutureWarning: .labels was deprecated in version 0.24.0. Use .codes instead.\n",
      "\n",
      "Running for chronotype, 8, 0\n",
      "Saving results in /opt/data/projects/chronotype/results/imputed_gwas\n",
      "/opt/data/software/conda_envs/summary_gwas_imputation/lib/python3.7/site-packages/pyarrow/pandas_compat.py:752: FutureWarning: .labels was deprecated in version 0.24.0. Use .codes instead.\n",
      "\n",
      "Running for chronotype, 8, 1\n",
      "Saving results in /opt/data/projects/chronotype/results/imputed_gwas\n"
     ]
    },
    {
     "name": "stderr",
     "output_type": "stream",
     "text": [
      "+ /opt/data/software/conda_envs/summary_gwas_imputation/bin/python /opt/data/software/summary-gwas-imputation/src/gwas_summary_imputation.py -by_region_file /opt/data/data/eur_ld.bed.gz -gwas_file /opt/data/projects/chronotype/results/harmonized_gwas/chronotype_raw_BOLT.output_HRC.only_plus.metrics_maf0.001_hwep1em12_info0.3.txt-harmonized.txt -parquet_genotype /opt/data/data/phenomexcan/ld_blocks/reference_panel_1000G/chr7.variants.parquet -parquet_genotype_metadata /opt/data/data/phenomexcan/ld_blocks/reference_panel_1000G/variant_metadata.parquet -window 100000 -parsimony 7 -chromosome 7 -regularization 0.1 -frequency_filter 0.01 -sub_batches 10 -sub_batch 3 --standardise_dosages -output /opt/data/projects/chronotype/results/imputed_gwas/chronotype_raw_BOLT.output_HRC.only_plus.metrics_maf0.001_hwep1em12_info0.3.txt-harmonized-imputed-chr7-batch3_10.txt\n",
      "+ set +x\n",
      "+ /opt/data/software/conda_envs/summary_gwas_imputation/bin/python /opt/data/software/summary-gwas-imputation/src/gwas_summary_imputation.py -by_region_file /opt/data/data/eur_ld.bed.gz -gwas_file /opt/data/projects/chronotype/results/harmonized_gwas/chronotype_raw_BOLT.output_HRC.only_plus.metrics_maf0.001_hwep1em12_info0.3.txt-harmonized.txt -parquet_genotype /opt/data/data/phenomexcan/ld_blocks/reference_panel_1000G/chr7.variants.parquet -parquet_genotype_metadata /opt/data/data/phenomexcan/ld_blocks/reference_panel_1000G/variant_metadata.parquet -window 100000 -parsimony 7 -chromosome 7 -regularization 0.1 -frequency_filter 0.01 -sub_batches 10 -sub_batch 4 --standardise_dosages -output /opt/data/projects/chronotype/results/imputed_gwas/chronotype_raw_BOLT.output_HRC.only_plus.metrics_maf0.001_hwep1em12_info0.3.txt-harmonized-imputed-chr7-batch4_10.txt\n",
      "+ set +x\n",
      "+ /opt/data/software/conda_envs/summary_gwas_imputation/bin/python /opt/data/software/summary-gwas-imputation/src/gwas_summary_imputation.py -by_region_file /opt/data/data/eur_ld.bed.gz -gwas_file /opt/data/projects/chronotype/results/harmonized_gwas/chronotype_raw_BOLT.output_HRC.only_plus.metrics_maf0.001_hwep1em12_info0.3.txt-harmonized.txt -parquet_genotype /opt/data/data/phenomexcan/ld_blocks/reference_panel_1000G/chr7.variants.parquet -parquet_genotype_metadata /opt/data/data/phenomexcan/ld_blocks/reference_panel_1000G/variant_metadata.parquet -window 100000 -parsimony 7 -chromosome 7 -regularization 0.1 -frequency_filter 0.01 -sub_batches 10 -sub_batch 5 --standardise_dosages -output /opt/data/projects/chronotype/results/imputed_gwas/chronotype_raw_BOLT.output_HRC.only_plus.metrics_maf0.001_hwep1em12_info0.3.txt-harmonized-imputed-chr7-batch5_10.txt\n",
      "+ set +x\n",
      "+ /opt/data/software/conda_envs/summary_gwas_imputation/bin/python /opt/data/software/summary-gwas-imputation/src/gwas_summary_imputation.py -by_region_file /opt/data/data/eur_ld.bed.gz -gwas_file /opt/data/projects/chronotype/results/harmonized_gwas/chronotype_raw_BOLT.output_HRC.only_plus.metrics_maf0.001_hwep1em12_info0.3.txt-harmonized.txt -parquet_genotype /opt/data/data/phenomexcan/ld_blocks/reference_panel_1000G/chr7.variants.parquet -parquet_genotype_metadata /opt/data/data/phenomexcan/ld_blocks/reference_panel_1000G/variant_metadata.parquet -window 100000 -parsimony 7 -chromosome 7 -regularization 0.1 -frequency_filter 0.01 -sub_batches 10 -sub_batch 6 --standardise_dosages -output /opt/data/projects/chronotype/results/imputed_gwas/chronotype_raw_BOLT.output_HRC.only_plus.metrics_maf0.001_hwep1em12_info0.3.txt-harmonized-imputed-chr7-batch6_10.txt\n",
      "+ set +x\n",
      "+ /opt/data/software/conda_envs/summary_gwas_imputation/bin/python /opt/data/software/summary-gwas-imputation/src/gwas_summary_imputation.py -by_region_file /opt/data/data/eur_ld.bed.gz -gwas_file /opt/data/projects/chronotype/results/harmonized_gwas/chronotype_raw_BOLT.output_HRC.only_plus.metrics_maf0.001_hwep1em12_info0.3.txt-harmonized.txt -parquet_genotype /opt/data/data/phenomexcan/ld_blocks/reference_panel_1000G/chr7.variants.parquet -parquet_genotype_metadata /opt/data/data/phenomexcan/ld_blocks/reference_panel_1000G/variant_metadata.parquet -window 100000 -parsimony 7 -chromosome 7 -regularization 0.1 -frequency_filter 0.01 -sub_batches 10 -sub_batch 7 --standardise_dosages -output /opt/data/projects/chronotype/results/imputed_gwas/chronotype_raw_BOLT.output_HRC.only_plus.metrics_maf0.001_hwep1em12_info0.3.txt-harmonized-imputed-chr7-batch7_10.txt\n",
      "+ set +x\n",
      "+ /opt/data/software/conda_envs/summary_gwas_imputation/bin/python /opt/data/software/summary-gwas-imputation/src/gwas_summary_imputation.py -by_region_file /opt/data/data/eur_ld.bed.gz -gwas_file /opt/data/projects/chronotype/results/harmonized_gwas/chronotype_raw_BOLT.output_HRC.only_plus.metrics_maf0.001_hwep1em12_info0.3.txt-harmonized.txt -parquet_genotype /opt/data/data/phenomexcan/ld_blocks/reference_panel_1000G/chr7.variants.parquet -parquet_genotype_metadata /opt/data/data/phenomexcan/ld_blocks/reference_panel_1000G/variant_metadata.parquet -window 100000 -parsimony 7 -chromosome 7 -regularization 0.1 -frequency_filter 0.01 -sub_batches 10 -sub_batch 8 --standardise_dosages -output /opt/data/projects/chronotype/results/imputed_gwas/chronotype_raw_BOLT.output_HRC.only_plus.metrics_maf0.001_hwep1em12_info0.3.txt-harmonized-imputed-chr7-batch8_10.txt\n",
      "+ set +x\n",
      "+ /opt/data/software/conda_envs/summary_gwas_imputation/bin/python /opt/data/software/summary-gwas-imputation/src/gwas_summary_imputation.py -by_region_file /opt/data/data/eur_ld.bed.gz -gwas_file /opt/data/projects/chronotype/results/harmonized_gwas/chronotype_raw_BOLT.output_HRC.only_plus.metrics_maf0.001_hwep1em12_info0.3.txt-harmonized.txt -parquet_genotype /opt/data/data/phenomexcan/ld_blocks/reference_panel_1000G/chr7.variants.parquet -parquet_genotype_metadata /opt/data/data/phenomexcan/ld_blocks/reference_panel_1000G/variant_metadata.parquet -window 100000 -parsimony 7 -chromosome 7 -regularization 0.1 -frequency_filter 0.01 -sub_batches 10 -sub_batch 9 --standardise_dosages -output /opt/data/projects/chronotype/results/imputed_gwas/chronotype_raw_BOLT.output_HRC.only_plus.metrics_maf0.001_hwep1em12_info0.3.txt-harmonized-imputed-chr7-batch9_10.txt\n",
      "+ set +x\n",
      "+ /opt/data/software/conda_envs/summary_gwas_imputation/bin/python /opt/data/software/summary-gwas-imputation/src/gwas_summary_imputation.py -by_region_file /opt/data/data/eur_ld.bed.gz -gwas_file /opt/data/projects/chronotype/results/harmonized_gwas/chronotype_raw_BOLT.output_HRC.only_plus.metrics_maf0.001_hwep1em12_info0.3.txt-harmonized.txt -parquet_genotype /opt/data/data/phenomexcan/ld_blocks/reference_panel_1000G/chr8.variants.parquet -parquet_genotype_metadata /opt/data/data/phenomexcan/ld_blocks/reference_panel_1000G/variant_metadata.parquet -window 100000 -parsimony 7 -chromosome 8 -regularization 0.1 -frequency_filter 0.01 -sub_batches 10 -sub_batch 0 --standardise_dosages -output /opt/data/projects/chronotype/results/imputed_gwas/chronotype_raw_BOLT.output_HRC.only_plus.metrics_maf0.001_hwep1em12_info0.3.txt-harmonized-imputed-chr8-batch0_10.txt\n",
      "+ set +x\n",
      "+ /opt/data/software/conda_envs/summary_gwas_imputation/bin/python /opt/data/software/summary-gwas-imputation/src/gwas_summary_imputation.py -by_region_file /opt/data/data/eur_ld.bed.gz -gwas_file /opt/data/projects/chronotype/results/harmonized_gwas/chronotype_raw_BOLT.output_HRC.only_plus.metrics_maf0.001_hwep1em12_info0.3.txt-harmonized.txt -parquet_genotype /opt/data/data/phenomexcan/ld_blocks/reference_panel_1000G/chr8.variants.parquet -parquet_genotype_metadata /opt/data/data/phenomexcan/ld_blocks/reference_panel_1000G/variant_metadata.parquet -window 100000 -parsimony 7 -chromosome 8 -regularization 0.1 -frequency_filter 0.01 -sub_batches 10 -sub_batch 1 --standardise_dosages -output /opt/data/projects/chronotype/results/imputed_gwas/chronotype_raw_BOLT.output_HRC.only_plus.metrics_maf0.001_hwep1em12_info0.3.txt-harmonized-imputed-chr8-batch1_10.txt\n"
     ]
    },
    {
     "name": "stdout",
     "output_type": "stream",
     "text": [
      "/opt/data/software/conda_envs/summary_gwas_imputation/lib/python3.7/site-packages/pyarrow/pandas_compat.py:752: FutureWarning: .labels was deprecated in version 0.24.0. Use .codes instead.\n",
      "INFO - Error for region (8,14087483.0,16134151.0): LinAlgError('SVD did not converge')\n",
      "\n"
     ]
    },
    {
     "name": "stderr",
     "output_type": "stream",
     "text": [
      "+ set +x\n"
     ]
    },
    {
     "name": "stdout",
     "output_type": "stream",
     "text": [
      "Running for chronotype, 8, 2\n",
      "Saving results in /opt/data/projects/chronotype/results/imputed_gwas\n",
      "/opt/data/software/conda_envs/summary_gwas_imputation/lib/python3.7/site-packages/pyarrow/pandas_compat.py:752: FutureWarning: .labels was deprecated in version 0.24.0. Use .codes instead.\n",
      "\n"
     ]
    },
    {
     "name": "stderr",
     "output_type": "stream",
     "text": [
      "+ /opt/data/software/conda_envs/summary_gwas_imputation/bin/python /opt/data/software/summary-gwas-imputation/src/gwas_summary_imputation.py -by_region_file /opt/data/data/eur_ld.bed.gz -gwas_file /opt/data/projects/chronotype/results/harmonized_gwas/chronotype_raw_BOLT.output_HRC.only_plus.metrics_maf0.001_hwep1em12_info0.3.txt-harmonized.txt -parquet_genotype /opt/data/data/phenomexcan/ld_blocks/reference_panel_1000G/chr8.variants.parquet -parquet_genotype_metadata /opt/data/data/phenomexcan/ld_blocks/reference_panel_1000G/variant_metadata.parquet -window 100000 -parsimony 7 -chromosome 8 -regularization 0.1 -frequency_filter 0.01 -sub_batches 10 -sub_batch 2 --standardise_dosages -output /opt/data/projects/chronotype/results/imputed_gwas/chronotype_raw_BOLT.output_HRC.only_plus.metrics_maf0.001_hwep1em12_info0.3.txt-harmonized-imputed-chr8-batch2_10.txt\n",
      "+ set +x\n"
     ]
    },
    {
     "name": "stdout",
     "output_type": "stream",
     "text": [
      "Running for chronotype, 8, 3\n",
      "Saving results in /opt/data/projects/chronotype/results/imputed_gwas\n",
      "/opt/data/software/conda_envs/summary_gwas_imputation/lib/python3.7/site-packages/pyarrow/pandas_compat.py:752: FutureWarning: .labels was deprecated in version 0.24.0. Use .codes instead.\n",
      "\n",
      "Running for chronotype, 8, 4\n",
      "Saving results in /opt/data/projects/chronotype/results/imputed_gwas\n",
      "/opt/data/software/conda_envs/summary_gwas_imputation/lib/python3.7/site-packages/pyarrow/pandas_compat.py:752: FutureWarning: .labels was deprecated in version 0.24.0. Use .codes instead.\n",
      "\n",
      "Running for chronotype, 8, 5\n",
      "Saving results in /opt/data/projects/chronotype/results/imputed_gwas\n",
      "/opt/data/software/conda_envs/summary_gwas_imputation/lib/python3.7/site-packages/pyarrow/pandas_compat.py:752: FutureWarning: .labels was deprecated in version 0.24.0. Use .codes instead.\n",
      "\n",
      "Running for chronotype, 8, 6\n",
      "Saving results in /opt/data/projects/chronotype/results/imputed_gwas\n",
      "/opt/data/software/conda_envs/summary_gwas_imputation/lib/python3.7/site-packages/pyarrow/pandas_compat.py:752: FutureWarning: .labels was deprecated in version 0.24.0. Use .codes instead.\n",
      "\n"
     ]
    },
    {
     "name": "stderr",
     "output_type": "stream",
     "text": [
      "+ /opt/data/software/conda_envs/summary_gwas_imputation/bin/python /opt/data/software/summary-gwas-imputation/src/gwas_summary_imputation.py -by_region_file /opt/data/data/eur_ld.bed.gz -gwas_file /opt/data/projects/chronotype/results/harmonized_gwas/chronotype_raw_BOLT.output_HRC.only_plus.metrics_maf0.001_hwep1em12_info0.3.txt-harmonized.txt -parquet_genotype /opt/data/data/phenomexcan/ld_blocks/reference_panel_1000G/chr8.variants.parquet -parquet_genotype_metadata /opt/data/data/phenomexcan/ld_blocks/reference_panel_1000G/variant_metadata.parquet -window 100000 -parsimony 7 -chromosome 8 -regularization 0.1 -frequency_filter 0.01 -sub_batches 10 -sub_batch 3 --standardise_dosages -output /opt/data/projects/chronotype/results/imputed_gwas/chronotype_raw_BOLT.output_HRC.only_plus.metrics_maf0.001_hwep1em12_info0.3.txt-harmonized-imputed-chr8-batch3_10.txt\n",
      "+ set +x\n",
      "+ /opt/data/software/conda_envs/summary_gwas_imputation/bin/python /opt/data/software/summary-gwas-imputation/src/gwas_summary_imputation.py -by_region_file /opt/data/data/eur_ld.bed.gz -gwas_file /opt/data/projects/chronotype/results/harmonized_gwas/chronotype_raw_BOLT.output_HRC.only_plus.metrics_maf0.001_hwep1em12_info0.3.txt-harmonized.txt -parquet_genotype /opt/data/data/phenomexcan/ld_blocks/reference_panel_1000G/chr8.variants.parquet -parquet_genotype_metadata /opt/data/data/phenomexcan/ld_blocks/reference_panel_1000G/variant_metadata.parquet -window 100000 -parsimony 7 -chromosome 8 -regularization 0.1 -frequency_filter 0.01 -sub_batches 10 -sub_batch 4 --standardise_dosages -output /opt/data/projects/chronotype/results/imputed_gwas/chronotype_raw_BOLT.output_HRC.only_plus.metrics_maf0.001_hwep1em12_info0.3.txt-harmonized-imputed-chr8-batch4_10.txt\n",
      "+ set +x\n",
      "+ /opt/data/software/conda_envs/summary_gwas_imputation/bin/python /opt/data/software/summary-gwas-imputation/src/gwas_summary_imputation.py -by_region_file /opt/data/data/eur_ld.bed.gz -gwas_file /opt/data/projects/chronotype/results/harmonized_gwas/chronotype_raw_BOLT.output_HRC.only_plus.metrics_maf0.001_hwep1em12_info0.3.txt-harmonized.txt -parquet_genotype /opt/data/data/phenomexcan/ld_blocks/reference_panel_1000G/chr8.variants.parquet -parquet_genotype_metadata /opt/data/data/phenomexcan/ld_blocks/reference_panel_1000G/variant_metadata.parquet -window 100000 -parsimony 7 -chromosome 8 -regularization 0.1 -frequency_filter 0.01 -sub_batches 10 -sub_batch 5 --standardise_dosages -output /opt/data/projects/chronotype/results/imputed_gwas/chronotype_raw_BOLT.output_HRC.only_plus.metrics_maf0.001_hwep1em12_info0.3.txt-harmonized-imputed-chr8-batch5_10.txt\n",
      "+ set +x\n",
      "+ /opt/data/software/conda_envs/summary_gwas_imputation/bin/python /opt/data/software/summary-gwas-imputation/src/gwas_summary_imputation.py -by_region_file /opt/data/data/eur_ld.bed.gz -gwas_file /opt/data/projects/chronotype/results/harmonized_gwas/chronotype_raw_BOLT.output_HRC.only_plus.metrics_maf0.001_hwep1em12_info0.3.txt-harmonized.txt -parquet_genotype /opt/data/data/phenomexcan/ld_blocks/reference_panel_1000G/chr8.variants.parquet -parquet_genotype_metadata /opt/data/data/phenomexcan/ld_blocks/reference_panel_1000G/variant_metadata.parquet -window 100000 -parsimony 7 -chromosome 8 -regularization 0.1 -frequency_filter 0.01 -sub_batches 10 -sub_batch 6 --standardise_dosages -output /opt/data/projects/chronotype/results/imputed_gwas/chronotype_raw_BOLT.output_HRC.only_plus.metrics_maf0.001_hwep1em12_info0.3.txt-harmonized-imputed-chr8-batch6_10.txt\n",
      "+ set +x\n"
     ]
    },
    {
     "name": "stdout",
     "output_type": "stream",
     "text": [
      "Running for chronotype, 8, 7\n",
      "Saving results in /opt/data/projects/chronotype/results/imputed_gwas\n",
      "/opt/data/software/conda_envs/summary_gwas_imputation/lib/python3.7/site-packages/pyarrow/pandas_compat.py:752: FutureWarning: .labels was deprecated in version 0.24.0. Use .codes instead.\n",
      "\n",
      "Running for chronotype, 8, 8\n",
      "Saving results in /opt/data/projects/chronotype/results/imputed_gwas\n"
     ]
    },
    {
     "name": "stderr",
     "output_type": "stream",
     "text": [
      "+ /opt/data/software/conda_envs/summary_gwas_imputation/bin/python /opt/data/software/summary-gwas-imputation/src/gwas_summary_imputation.py -by_region_file /opt/data/data/eur_ld.bed.gz -gwas_file /opt/data/projects/chronotype/results/harmonized_gwas/chronotype_raw_BOLT.output_HRC.only_plus.metrics_maf0.001_hwep1em12_info0.3.txt-harmonized.txt -parquet_genotype /opt/data/data/phenomexcan/ld_blocks/reference_panel_1000G/chr8.variants.parquet -parquet_genotype_metadata /opt/data/data/phenomexcan/ld_blocks/reference_panel_1000G/variant_metadata.parquet -window 100000 -parsimony 7 -chromosome 8 -regularization 0.1 -frequency_filter 0.01 -sub_batches 10 -sub_batch 7 --standardise_dosages -output /opt/data/projects/chronotype/results/imputed_gwas/chronotype_raw_BOLT.output_HRC.only_plus.metrics_maf0.001_hwep1em12_info0.3.txt-harmonized-imputed-chr8-batch7_10.txt\n",
      "+ set +x\n",
      "+ /opt/data/software/conda_envs/summary_gwas_imputation/bin/python /opt/data/software/summary-gwas-imputation/src/gwas_summary_imputation.py -by_region_file /opt/data/data/eur_ld.bed.gz -gwas_file /opt/data/projects/chronotype/results/harmonized_gwas/chronotype_raw_BOLT.output_HRC.only_plus.metrics_maf0.001_hwep1em12_info0.3.txt-harmonized.txt -parquet_genotype /opt/data/data/phenomexcan/ld_blocks/reference_panel_1000G/chr8.variants.parquet -parquet_genotype_metadata /opt/data/data/phenomexcan/ld_blocks/reference_panel_1000G/variant_metadata.parquet -window 100000 -parsimony 7 -chromosome 8 -regularization 0.1 -frequency_filter 0.01 -sub_batches 10 -sub_batch 8 --standardise_dosages -output /opt/data/projects/chronotype/results/imputed_gwas/chronotype_raw_BOLT.output_HRC.only_plus.metrics_maf0.001_hwep1em12_info0.3.txt-harmonized-imputed-chr8-batch8_10.txt\n"
     ]
    },
    {
     "name": "stdout",
     "output_type": "stream",
     "text": [
      "/opt/data/software/conda_envs/summary_gwas_imputation/lib/python3.7/site-packages/pyarrow/pandas_compat.py:752: FutureWarning: .labels was deprecated in version 0.24.0. Use .codes instead.\n",
      "\n"
     ]
    },
    {
     "name": "stderr",
     "output_type": "stream",
     "text": [
      "+ set +x\n"
     ]
    },
    {
     "name": "stdout",
     "output_type": "stream",
     "text": [
      "Running for chronotype, 8, 9\n",
      "Saving results in /opt/data/projects/chronotype/results/imputed_gwas\n",
      "/opt/data/software/conda_envs/summary_gwas_imputation/lib/python3.7/site-packages/pyarrow/pandas_compat.py:752: FutureWarning: .labels was deprecated in version 0.24.0. Use .codes instead.\n",
      "\n"
     ]
    },
    {
     "name": "stderr",
     "output_type": "stream",
     "text": [
      "+ /opt/data/software/conda_envs/summary_gwas_imputation/bin/python /opt/data/software/summary-gwas-imputation/src/gwas_summary_imputation.py -by_region_file /opt/data/data/eur_ld.bed.gz -gwas_file /opt/data/projects/chronotype/results/harmonized_gwas/chronotype_raw_BOLT.output_HRC.only_plus.metrics_maf0.001_hwep1em12_info0.3.txt-harmonized.txt -parquet_genotype /opt/data/data/phenomexcan/ld_blocks/reference_panel_1000G/chr8.variants.parquet -parquet_genotype_metadata /opt/data/data/phenomexcan/ld_blocks/reference_panel_1000G/variant_metadata.parquet -window 100000 -parsimony 7 -chromosome 8 -regularization 0.1 -frequency_filter 0.01 -sub_batches 10 -sub_batch 9 --standardise_dosages -output /opt/data/projects/chronotype/results/imputed_gwas/chronotype_raw_BOLT.output_HRC.only_plus.metrics_maf0.001_hwep1em12_info0.3.txt-harmonized-imputed-chr8-batch9_10.txt\n",
      "+ set +x\n",
      "+ /opt/data/software/conda_envs/summary_gwas_imputation/bin/python /opt/data/software/summary-gwas-imputation/src/gwas_summary_imputation.py -by_region_file /opt/data/data/eur_ld.bed.gz -gwas_file /opt/data/projects/chronotype/results/harmonized_gwas/chronotype_raw_BOLT.output_HRC.only_plus.metrics_maf0.001_hwep1em12_info0.3.txt-harmonized.txt -parquet_genotype /opt/data/data/phenomexcan/ld_blocks/reference_panel_1000G/chr9.variants.parquet -parquet_genotype_metadata /opt/data/data/phenomexcan/ld_blocks/reference_panel_1000G/variant_metadata.parquet -window 100000 -parsimony 7 -chromosome 9 -regularization 0.1 -frequency_filter 0.01 -sub_batches 10 -sub_batch 0 --standardise_dosages -output /opt/data/projects/chronotype/results/imputed_gwas/chronotype_raw_BOLT.output_HRC.only_plus.metrics_maf0.001_hwep1em12_info0.3.txt-harmonized-imputed-chr9-batch0_10.txt\n",
      "+ set +x\n",
      "+ /opt/data/software/conda_envs/summary_gwas_imputation/bin/python /opt/data/software/summary-gwas-imputation/src/gwas_summary_imputation.py -by_region_file /opt/data/data/eur_ld.bed.gz -gwas_file /opt/data/projects/chronotype/results/harmonized_gwas/chronotype_raw_BOLT.output_HRC.only_plus.metrics_maf0.001_hwep1em12_info0.3.txt-harmonized.txt -parquet_genotype /opt/data/data/phenomexcan/ld_blocks/reference_panel_1000G/chr9.variants.parquet -parquet_genotype_metadata /opt/data/data/phenomexcan/ld_blocks/reference_panel_1000G/variant_metadata.parquet -window 100000 -parsimony 7 -chromosome 9 -regularization 0.1 -frequency_filter 0.01 -sub_batches 10 -sub_batch 1 --standardise_dosages -output /opt/data/projects/chronotype/results/imputed_gwas/chronotype_raw_BOLT.output_HRC.only_plus.metrics_maf0.001_hwep1em12_info0.3.txt-harmonized-imputed-chr9-batch1_10.txt\n",
      "+ set +x\n",
      "+ /opt/data/software/conda_envs/summary_gwas_imputation/bin/python /opt/data/software/summary-gwas-imputation/src/gwas_summary_imputation.py -by_region_file /opt/data/data/eur_ld.bed.gz -gwas_file /opt/data/projects/chronotype/results/harmonized_gwas/chronotype_raw_BOLT.output_HRC.only_plus.metrics_maf0.001_hwep1em12_info0.3.txt-harmonized.txt -parquet_genotype /opt/data/data/phenomexcan/ld_blocks/reference_panel_1000G/chr9.variants.parquet -parquet_genotype_metadata /opt/data/data/phenomexcan/ld_blocks/reference_panel_1000G/variant_metadata.parquet -window 100000 -parsimony 7 -chromosome 9 -regularization 0.1 -frequency_filter 0.01 -sub_batches 10 -sub_batch 2 --standardise_dosages -output /opt/data/projects/chronotype/results/imputed_gwas/chronotype_raw_BOLT.output_HRC.only_plus.metrics_maf0.001_hwep1em12_info0.3.txt-harmonized-imputed-chr9-batch2_10.txt\n",
      "+ set +x\n"
     ]
    },
    {
     "name": "stdout",
     "output_type": "stream",
     "text": [
      "Running for chronotype, 9, 0\n",
      "Saving results in /opt/data/projects/chronotype/results/imputed_gwas\n",
      "/opt/data/software/conda_envs/summary_gwas_imputation/lib/python3.7/site-packages/pyarrow/pandas_compat.py:752: FutureWarning: .labels was deprecated in version 0.24.0. Use .codes instead.\n",
      "\n",
      "Running for chronotype, 9, 1\n",
      "Saving results in /opt/data/projects/chronotype/results/imputed_gwas\n",
      "/opt/data/software/conda_envs/summary_gwas_imputation/lib/python3.7/site-packages/pyarrow/pandas_compat.py:752: FutureWarning: .labels was deprecated in version 0.24.0. Use .codes instead.\n",
      "\n",
      "Running for chronotype, 9, 2\n",
      "Saving results in /opt/data/projects/chronotype/results/imputed_gwas\n",
      "/opt/data/software/conda_envs/summary_gwas_imputation/lib/python3.7/site-packages/pyarrow/pandas_compat.py:752: FutureWarning: .labels was deprecated in version 0.24.0. Use .codes instead.\n",
      "\n",
      "Running for chronotype, 9, 3\n",
      "Saving results in /opt/data/projects/chronotype/results/imputed_gwas\n",
      "/opt/data/software/conda_envs/summary_gwas_imputation/lib/python3.7/site-packages/pyarrow/pandas_compat.py:752: FutureWarning: .labels was deprecated in version 0.24.0. Use .codes instead.\n",
      "\n",
      "Running for chronotype, 9, 4\n",
      "Saving results in /opt/data/projects/chronotype/results/imputed_gwas\n",
      "/opt/data/software/conda_envs/summary_gwas_imputation/lib/python3.7/site-packages/pyarrow/pandas_compat.py:752: FutureWarning: .labels was deprecated in version 0.24.0. Use .codes instead.\n",
      "\n",
      "Running for chronotype, 9, 5\n",
      "Saving results in /opt/data/projects/chronotype/results/imputed_gwas\n",
      "/opt/data/software/conda_envs/summary_gwas_imputation/lib/python3.7/site-packages/pyarrow/pandas_compat.py:752: FutureWarning: .labels was deprecated in version 0.24.0. Use .codes instead.\n",
      "\n",
      "Running for chronotype, 9, 6\n",
      "Saving results in /opt/data/projects/chronotype/results/imputed_gwas\n"
     ]
    },
    {
     "name": "stderr",
     "output_type": "stream",
     "text": [
      "+ /opt/data/software/conda_envs/summary_gwas_imputation/bin/python /opt/data/software/summary-gwas-imputation/src/gwas_summary_imputation.py -by_region_file /opt/data/data/eur_ld.bed.gz -gwas_file /opt/data/projects/chronotype/results/harmonized_gwas/chronotype_raw_BOLT.output_HRC.only_plus.metrics_maf0.001_hwep1em12_info0.3.txt-harmonized.txt -parquet_genotype /opt/data/data/phenomexcan/ld_blocks/reference_panel_1000G/chr9.variants.parquet -parquet_genotype_metadata /opt/data/data/phenomexcan/ld_blocks/reference_panel_1000G/variant_metadata.parquet -window 100000 -parsimony 7 -chromosome 9 -regularization 0.1 -frequency_filter 0.01 -sub_batches 10 -sub_batch 3 --standardise_dosages -output /opt/data/projects/chronotype/results/imputed_gwas/chronotype_raw_BOLT.output_HRC.only_plus.metrics_maf0.001_hwep1em12_info0.3.txt-harmonized-imputed-chr9-batch3_10.txt\n",
      "+ set +x\n",
      "+ /opt/data/software/conda_envs/summary_gwas_imputation/bin/python /opt/data/software/summary-gwas-imputation/src/gwas_summary_imputation.py -by_region_file /opt/data/data/eur_ld.bed.gz -gwas_file /opt/data/projects/chronotype/results/harmonized_gwas/chronotype_raw_BOLT.output_HRC.only_plus.metrics_maf0.001_hwep1em12_info0.3.txt-harmonized.txt -parquet_genotype /opt/data/data/phenomexcan/ld_blocks/reference_panel_1000G/chr9.variants.parquet -parquet_genotype_metadata /opt/data/data/phenomexcan/ld_blocks/reference_panel_1000G/variant_metadata.parquet -window 100000 -parsimony 7 -chromosome 9 -regularization 0.1 -frequency_filter 0.01 -sub_batches 10 -sub_batch 4 --standardise_dosages -output /opt/data/projects/chronotype/results/imputed_gwas/chronotype_raw_BOLT.output_HRC.only_plus.metrics_maf0.001_hwep1em12_info0.3.txt-harmonized-imputed-chr9-batch4_10.txt\n",
      "+ set +x\n",
      "+ /opt/data/software/conda_envs/summary_gwas_imputation/bin/python /opt/data/software/summary-gwas-imputation/src/gwas_summary_imputation.py -by_region_file /opt/data/data/eur_ld.bed.gz -gwas_file /opt/data/projects/chronotype/results/harmonized_gwas/chronotype_raw_BOLT.output_HRC.only_plus.metrics_maf0.001_hwep1em12_info0.3.txt-harmonized.txt -parquet_genotype /opt/data/data/phenomexcan/ld_blocks/reference_panel_1000G/chr9.variants.parquet -parquet_genotype_metadata /opt/data/data/phenomexcan/ld_blocks/reference_panel_1000G/variant_metadata.parquet -window 100000 -parsimony 7 -chromosome 9 -regularization 0.1 -frequency_filter 0.01 -sub_batches 10 -sub_batch 5 --standardise_dosages -output /opt/data/projects/chronotype/results/imputed_gwas/chronotype_raw_BOLT.output_HRC.only_plus.metrics_maf0.001_hwep1em12_info0.3.txt-harmonized-imputed-chr9-batch5_10.txt\n",
      "+ set +x\n",
      "+ /opt/data/software/conda_envs/summary_gwas_imputation/bin/python /opt/data/software/summary-gwas-imputation/src/gwas_summary_imputation.py -by_region_file /opt/data/data/eur_ld.bed.gz -gwas_file /opt/data/projects/chronotype/results/harmonized_gwas/chronotype_raw_BOLT.output_HRC.only_plus.metrics_maf0.001_hwep1em12_info0.3.txt-harmonized.txt -parquet_genotype /opt/data/data/phenomexcan/ld_blocks/reference_panel_1000G/chr9.variants.parquet -parquet_genotype_metadata /opt/data/data/phenomexcan/ld_blocks/reference_panel_1000G/variant_metadata.parquet -window 100000 -parsimony 7 -chromosome 9 -regularization 0.1 -frequency_filter 0.01 -sub_batches 10 -sub_batch 6 --standardise_dosages -output /opt/data/projects/chronotype/results/imputed_gwas/chronotype_raw_BOLT.output_HRC.only_plus.metrics_maf0.001_hwep1em12_info0.3.txt-harmonized-imputed-chr9-batch6_10.txt\n"
     ]
    },
    {
     "name": "stdout",
     "output_type": "stream",
     "text": [
      "/opt/data/software/conda_envs/summary_gwas_imputation/lib/python3.7/site-packages/pyarrow/pandas_compat.py:752: FutureWarning: .labels was deprecated in version 0.24.0. Use .codes instead.\n",
      "\n"
     ]
    },
    {
     "name": "stderr",
     "output_type": "stream",
     "text": [
      "+ set +x\n"
     ]
    },
    {
     "name": "stdout",
     "output_type": "stream",
     "text": [
      "Running for chronotype, 9, 7\n",
      "Saving results in /opt/data/projects/chronotype/results/imputed_gwas\n",
      "/opt/data/software/conda_envs/summary_gwas_imputation/lib/python3.7/site-packages/pyarrow/pandas_compat.py:752: FutureWarning: .labels was deprecated in version 0.24.0. Use .codes instead.\n",
      "\n"
     ]
    },
    {
     "name": "stderr",
     "output_type": "stream",
     "text": [
      "+ /opt/data/software/conda_envs/summary_gwas_imputation/bin/python /opt/data/software/summary-gwas-imputation/src/gwas_summary_imputation.py -by_region_file /opt/data/data/eur_ld.bed.gz -gwas_file /opt/data/projects/chronotype/results/harmonized_gwas/chronotype_raw_BOLT.output_HRC.only_plus.metrics_maf0.001_hwep1em12_info0.3.txt-harmonized.txt -parquet_genotype /opt/data/data/phenomexcan/ld_blocks/reference_panel_1000G/chr9.variants.parquet -parquet_genotype_metadata /opt/data/data/phenomexcan/ld_blocks/reference_panel_1000G/variant_metadata.parquet -window 100000 -parsimony 7 -chromosome 9 -regularization 0.1 -frequency_filter 0.01 -sub_batches 10 -sub_batch 7 --standardise_dosages -output /opt/data/projects/chronotype/results/imputed_gwas/chronotype_raw_BOLT.output_HRC.only_plus.metrics_maf0.001_hwep1em12_info0.3.txt-harmonized-imputed-chr9-batch7_10.txt\n",
      "+ set +x\n",
      "+ /opt/data/software/conda_envs/summary_gwas_imputation/bin/python /opt/data/software/summary-gwas-imputation/src/gwas_summary_imputation.py -by_region_file /opt/data/data/eur_ld.bed.gz -gwas_file /opt/data/projects/chronotype/results/harmonized_gwas/chronotype_raw_BOLT.output_HRC.only_plus.metrics_maf0.001_hwep1em12_info0.3.txt-harmonized.txt -parquet_genotype /opt/data/data/phenomexcan/ld_blocks/reference_panel_1000G/chr9.variants.parquet -parquet_genotype_metadata /opt/data/data/phenomexcan/ld_blocks/reference_panel_1000G/variant_metadata.parquet -window 100000 -parsimony 7 -chromosome 9 -regularization 0.1 -frequency_filter 0.01 -sub_batches 10 -sub_batch 8 --standardise_dosages -output /opt/data/projects/chronotype/results/imputed_gwas/chronotype_raw_BOLT.output_HRC.only_plus.metrics_maf0.001_hwep1em12_info0.3.txt-harmonized-imputed-chr9-batch8_10.txt\n",
      "+ set +x\n",
      "+ /opt/data/software/conda_envs/summary_gwas_imputation/bin/python /opt/data/software/summary-gwas-imputation/src/gwas_summary_imputation.py -by_region_file /opt/data/data/eur_ld.bed.gz -gwas_file /opt/data/projects/chronotype/results/harmonized_gwas/chronotype_raw_BOLT.output_HRC.only_plus.metrics_maf0.001_hwep1em12_info0.3.txt-harmonized.txt -parquet_genotype /opt/data/data/phenomexcan/ld_blocks/reference_panel_1000G/chr9.variants.parquet -parquet_genotype_metadata /opt/data/data/phenomexcan/ld_blocks/reference_panel_1000G/variant_metadata.parquet -window 100000 -parsimony 7 -chromosome 9 -regularization 0.1 -frequency_filter 0.01 -sub_batches 10 -sub_batch 9 --standardise_dosages -output /opt/data/projects/chronotype/results/imputed_gwas/chronotype_raw_BOLT.output_HRC.only_plus.metrics_maf0.001_hwep1em12_info0.3.txt-harmonized-imputed-chr9-batch9_10.txt\n",
      "+ set +x\n",
      "+ /opt/data/software/conda_envs/summary_gwas_imputation/bin/python /opt/data/software/summary-gwas-imputation/src/gwas_summary_imputation.py -by_region_file /opt/data/data/eur_ld.bed.gz -gwas_file /opt/data/projects/chronotype/results/harmonized_gwas/chronotype_raw_BOLT.output_HRC.only_plus.metrics_maf0.001_hwep1em12_info0.3.txt-harmonized.txt -parquet_genotype /opt/data/data/phenomexcan/ld_blocks/reference_panel_1000G/chr10.variants.parquet -parquet_genotype_metadata /opt/data/data/phenomexcan/ld_blocks/reference_panel_1000G/variant_metadata.parquet -window 100000 -parsimony 7 -chromosome 10 -regularization 0.1 -frequency_filter 0.01 -sub_batches 10 -sub_batch 0 --standardise_dosages -output /opt/data/projects/chronotype/results/imputed_gwas/chronotype_raw_BOLT.output_HRC.only_plus.metrics_maf0.001_hwep1em12_info0.3.txt-harmonized-imputed-chr10-batch0_10.txt\n",
      "+ set +x\n",
      "+ /opt/data/software/conda_envs/summary_gwas_imputation/bin/python /opt/data/software/summary-gwas-imputation/src/gwas_summary_imputation.py -by_region_file /opt/data/data/eur_ld.bed.gz -gwas_file /opt/data/projects/chronotype/results/harmonized_gwas/chronotype_raw_BOLT.output_HRC.only_plus.metrics_maf0.001_hwep1em12_info0.3.txt-harmonized.txt -parquet_genotype /opt/data/data/phenomexcan/ld_blocks/reference_panel_1000G/chr10.variants.parquet -parquet_genotype_metadata /opt/data/data/phenomexcan/ld_blocks/reference_panel_1000G/variant_metadata.parquet -window 100000 -parsimony 7 -chromosome 10 -regularization 0.1 -frequency_filter 0.01 -sub_batches 10 -sub_batch 1 --standardise_dosages -output /opt/data/projects/chronotype/results/imputed_gwas/chronotype_raw_BOLT.output_HRC.only_plus.metrics_maf0.001_hwep1em12_info0.3.txt-harmonized-imputed-chr10-batch1_10.txt\n"
     ]
    },
    {
     "name": "stdout",
     "output_type": "stream",
     "text": [
      "Running for chronotype, 9, 8\n",
      "Saving results in /opt/data/projects/chronotype/results/imputed_gwas\n",
      "/opt/data/software/conda_envs/summary_gwas_imputation/lib/python3.7/site-packages/pyarrow/pandas_compat.py:752: FutureWarning: .labels was deprecated in version 0.24.0. Use .codes instead.\n",
      "\n",
      "Running for chronotype, 9, 9\n",
      "Saving results in /opt/data/projects/chronotype/results/imputed_gwas\n",
      "/opt/data/software/conda_envs/summary_gwas_imputation/lib/python3.7/site-packages/pyarrow/pandas_compat.py:752: FutureWarning: .labels was deprecated in version 0.24.0. Use .codes instead.\n",
      "\n",
      "Running for chronotype, 10, 0\n",
      "Saving results in /opt/data/projects/chronotype/results/imputed_gwas\n",
      "/opt/data/software/conda_envs/summary_gwas_imputation/lib/python3.7/site-packages/pyarrow/pandas_compat.py:752: FutureWarning: .labels was deprecated in version 0.24.0. Use .codes instead.\n",
      "INFO - Error for region (10,5941799.0,7129522.0): LinAlgError('SVD did not converge')\n",
      "\n",
      "Running for chronotype, 10, 1\n",
      "Saving results in /opt/data/projects/chronotype/results/imputed_gwas\n",
      "/opt/data/software/conda_envs/summary_gwas_imputation/lib/python3.7/site-packages/pyarrow/pandas_compat.py:752: FutureWarning: .labels was deprecated in version 0.24.0. Use .codes instead.\n",
      "\n"
     ]
    },
    {
     "name": "stderr",
     "output_type": "stream",
     "text": [
      "+ set +x\n"
     ]
    },
    {
     "name": "stdout",
     "output_type": "stream",
     "text": [
      "Running for chronotype, 10, 2\n",
      "Saving results in /opt/data/projects/chronotype/results/imputed_gwas\n",
      "/opt/data/software/conda_envs/summary_gwas_imputation/lib/python3.7/site-packages/pyarrow/pandas_compat.py:752: FutureWarning: .labels was deprecated in version 0.24.0. Use .codes instead.\n",
      "\n",
      "Running for chronotype, 10, 3\n",
      "Saving results in /opt/data/projects/chronotype/results/imputed_gwas\n",
      "/opt/data/software/conda_envs/summary_gwas_imputation/lib/python3.7/site-packages/pyarrow/pandas_compat.py:752: FutureWarning: .labels was deprecated in version 0.24.0. Use .codes instead.\n",
      "\n",
      "Running for chronotype, 10, 4\n",
      "Saving results in /opt/data/projects/chronotype/results/imputed_gwas\n",
      "/opt/data/software/conda_envs/summary_gwas_imputation/lib/python3.7/site-packages/pyarrow/pandas_compat.py:752: FutureWarning: .labels was deprecated in version 0.24.0. Use .codes instead.\n",
      "\n",
      "Running for chronotype, 10, 5\n",
      "Saving results in /opt/data/projects/chronotype/results/imputed_gwas\n",
      "/opt/data/software/conda_envs/summary_gwas_imputation/lib/python3.7/site-packages/pyarrow/pandas_compat.py:752: FutureWarning: .labels was deprecated in version 0.24.0. Use .codes instead.\n",
      "\n",
      "Running for chronotype, 10, 6\n",
      "Saving results in /opt/data/projects/chronotype/results/imputed_gwas\n",
      "/opt/data/software/conda_envs/summary_gwas_imputation/lib/python3.7/site-packages/pyarrow/pandas_compat.py:752: FutureWarning: .labels was deprecated in version 0.24.0. Use .codes instead.\n",
      "\n",
      "Running for chronotype, 10, 7\n",
      "Saving results in /opt/data/projects/chronotype/results/imputed_gwas\n",
      "/opt/data/software/conda_envs/summary_gwas_imputation/lib/python3.7/site-packages/pyarrow/pandas_compat.py:752: FutureWarning: .labels was deprecated in version 0.24.0. Use .codes instead.\n",
      "\n",
      "Running for chronotype, 10, 8\n",
      "Saving results in /opt/data/projects/chronotype/results/imputed_gwas\n",
      "/opt/data/software/conda_envs/summary_gwas_imputation/lib/python3.7/site-packages/pyarrow/pandas_compat.py:752: FutureWarning: .labels was deprecated in version 0.24.0. Use .codes instead.\n",
      "INFO - Error for region (10,122141030.0,124109830.0): LinAlgError('SVD did not converge')\n",
      "\n"
     ]
    },
    {
     "name": "stderr",
     "output_type": "stream",
     "text": [
      "+ /opt/data/software/conda_envs/summary_gwas_imputation/bin/python /opt/data/software/summary-gwas-imputation/src/gwas_summary_imputation.py -by_region_file /opt/data/data/eur_ld.bed.gz -gwas_file /opt/data/projects/chronotype/results/harmonized_gwas/chronotype_raw_BOLT.output_HRC.only_plus.metrics_maf0.001_hwep1em12_info0.3.txt-harmonized.txt -parquet_genotype /opt/data/data/phenomexcan/ld_blocks/reference_panel_1000G/chr10.variants.parquet -parquet_genotype_metadata /opt/data/data/phenomexcan/ld_blocks/reference_panel_1000G/variant_metadata.parquet -window 100000 -parsimony 7 -chromosome 10 -regularization 0.1 -frequency_filter 0.01 -sub_batches 10 -sub_batch 2 --standardise_dosages -output /opt/data/projects/chronotype/results/imputed_gwas/chronotype_raw_BOLT.output_HRC.only_plus.metrics_maf0.001_hwep1em12_info0.3.txt-harmonized-imputed-chr10-batch2_10.txt\n",
      "+ set +x\n",
      "+ /opt/data/software/conda_envs/summary_gwas_imputation/bin/python /opt/data/software/summary-gwas-imputation/src/gwas_summary_imputation.py -by_region_file /opt/data/data/eur_ld.bed.gz -gwas_file /opt/data/projects/chronotype/results/harmonized_gwas/chronotype_raw_BOLT.output_HRC.only_plus.metrics_maf0.001_hwep1em12_info0.3.txt-harmonized.txt -parquet_genotype /opt/data/data/phenomexcan/ld_blocks/reference_panel_1000G/chr10.variants.parquet -parquet_genotype_metadata /opt/data/data/phenomexcan/ld_blocks/reference_panel_1000G/variant_metadata.parquet -window 100000 -parsimony 7 -chromosome 10 -regularization 0.1 -frequency_filter 0.01 -sub_batches 10 -sub_batch 3 --standardise_dosages -output /opt/data/projects/chronotype/results/imputed_gwas/chronotype_raw_BOLT.output_HRC.only_plus.metrics_maf0.001_hwep1em12_info0.3.txt-harmonized-imputed-chr10-batch3_10.txt\n",
      "+ set +x\n",
      "+ /opt/data/software/conda_envs/summary_gwas_imputation/bin/python /opt/data/software/summary-gwas-imputation/src/gwas_summary_imputation.py -by_region_file /opt/data/data/eur_ld.bed.gz -gwas_file /opt/data/projects/chronotype/results/harmonized_gwas/chronotype_raw_BOLT.output_HRC.only_plus.metrics_maf0.001_hwep1em12_info0.3.txt-harmonized.txt -parquet_genotype /opt/data/data/phenomexcan/ld_blocks/reference_panel_1000G/chr10.variants.parquet -parquet_genotype_metadata /opt/data/data/phenomexcan/ld_blocks/reference_panel_1000G/variant_metadata.parquet -window 100000 -parsimony 7 -chromosome 10 -regularization 0.1 -frequency_filter 0.01 -sub_batches 10 -sub_batch 4 --standardise_dosages -output /opt/data/projects/chronotype/results/imputed_gwas/chronotype_raw_BOLT.output_HRC.only_plus.metrics_maf0.001_hwep1em12_info0.3.txt-harmonized-imputed-chr10-batch4_10.txt\n",
      "+ set +x\n",
      "+ /opt/data/software/conda_envs/summary_gwas_imputation/bin/python /opt/data/software/summary-gwas-imputation/src/gwas_summary_imputation.py -by_region_file /opt/data/data/eur_ld.bed.gz -gwas_file /opt/data/projects/chronotype/results/harmonized_gwas/chronotype_raw_BOLT.output_HRC.only_plus.metrics_maf0.001_hwep1em12_info0.3.txt-harmonized.txt -parquet_genotype /opt/data/data/phenomexcan/ld_blocks/reference_panel_1000G/chr10.variants.parquet -parquet_genotype_metadata /opt/data/data/phenomexcan/ld_blocks/reference_panel_1000G/variant_metadata.parquet -window 100000 -parsimony 7 -chromosome 10 -regularization 0.1 -frequency_filter 0.01 -sub_batches 10 -sub_batch 5 --standardise_dosages -output /opt/data/projects/chronotype/results/imputed_gwas/chronotype_raw_BOLT.output_HRC.only_plus.metrics_maf0.001_hwep1em12_info0.3.txt-harmonized-imputed-chr10-batch5_10.txt\n",
      "+ set +x\n",
      "+ /opt/data/software/conda_envs/summary_gwas_imputation/bin/python /opt/data/software/summary-gwas-imputation/src/gwas_summary_imputation.py -by_region_file /opt/data/data/eur_ld.bed.gz -gwas_file /opt/data/projects/chronotype/results/harmonized_gwas/chronotype_raw_BOLT.output_HRC.only_plus.metrics_maf0.001_hwep1em12_info0.3.txt-harmonized.txt -parquet_genotype /opt/data/data/phenomexcan/ld_blocks/reference_panel_1000G/chr10.variants.parquet -parquet_genotype_metadata /opt/data/data/phenomexcan/ld_blocks/reference_panel_1000G/variant_metadata.parquet -window 100000 -parsimony 7 -chromosome 10 -regularization 0.1 -frequency_filter 0.01 -sub_batches 10 -sub_batch 6 --standardise_dosages -output /opt/data/projects/chronotype/results/imputed_gwas/chronotype_raw_BOLT.output_HRC.only_plus.metrics_maf0.001_hwep1em12_info0.3.txt-harmonized-imputed-chr10-batch6_10.txt\n",
      "+ set +x\n",
      "+ /opt/data/software/conda_envs/summary_gwas_imputation/bin/python /opt/data/software/summary-gwas-imputation/src/gwas_summary_imputation.py -by_region_file /opt/data/data/eur_ld.bed.gz -gwas_file /opt/data/projects/chronotype/results/harmonized_gwas/chronotype_raw_BOLT.output_HRC.only_plus.metrics_maf0.001_hwep1em12_info0.3.txt-harmonized.txt -parquet_genotype /opt/data/data/phenomexcan/ld_blocks/reference_panel_1000G/chr10.variants.parquet -parquet_genotype_metadata /opt/data/data/phenomexcan/ld_blocks/reference_panel_1000G/variant_metadata.parquet -window 100000 -parsimony 7 -chromosome 10 -regularization 0.1 -frequency_filter 0.01 -sub_batches 10 -sub_batch 7 --standardise_dosages -output /opt/data/projects/chronotype/results/imputed_gwas/chronotype_raw_BOLT.output_HRC.only_plus.metrics_maf0.001_hwep1em12_info0.3.txt-harmonized-imputed-chr10-batch7_10.txt\n",
      "+ set +x\n",
      "+ /opt/data/software/conda_envs/summary_gwas_imputation/bin/python /opt/data/software/summary-gwas-imputation/src/gwas_summary_imputation.py -by_region_file /opt/data/data/eur_ld.bed.gz -gwas_file /opt/data/projects/chronotype/results/harmonized_gwas/chronotype_raw_BOLT.output_HRC.only_plus.metrics_maf0.001_hwep1em12_info0.3.txt-harmonized.txt -parquet_genotype /opt/data/data/phenomexcan/ld_blocks/reference_panel_1000G/chr10.variants.parquet -parquet_genotype_metadata /opt/data/data/phenomexcan/ld_blocks/reference_panel_1000G/variant_metadata.parquet -window 100000 -parsimony 7 -chromosome 10 -regularization 0.1 -frequency_filter 0.01 -sub_batches 10 -sub_batch 8 --standardise_dosages -output /opt/data/projects/chronotype/results/imputed_gwas/chronotype_raw_BOLT.output_HRC.only_plus.metrics_maf0.001_hwep1em12_info0.3.txt-harmonized-imputed-chr10-batch8_10.txt\n",
      "+ set +x\n"
     ]
    },
    {
     "name": "stdout",
     "output_type": "stream",
     "text": [
      "Running for chronotype, 10, 9\n",
      "Saving results in /opt/data/projects/chronotype/results/imputed_gwas\n",
      "/opt/data/software/conda_envs/summary_gwas_imputation/lib/python3.7/site-packages/pyarrow/pandas_compat.py:752: FutureWarning: .labels was deprecated in version 0.24.0. Use .codes instead.\n",
      "\n",
      "Running for chronotype, 11, 0\n",
      "Saving results in /opt/data/projects/chronotype/results/imputed_gwas\n"
     ]
    },
    {
     "name": "stderr",
     "output_type": "stream",
     "text": [
      "+ /opt/data/software/conda_envs/summary_gwas_imputation/bin/python /opt/data/software/summary-gwas-imputation/src/gwas_summary_imputation.py -by_region_file /opt/data/data/eur_ld.bed.gz -gwas_file /opt/data/projects/chronotype/results/harmonized_gwas/chronotype_raw_BOLT.output_HRC.only_plus.metrics_maf0.001_hwep1em12_info0.3.txt-harmonized.txt -parquet_genotype /opt/data/data/phenomexcan/ld_blocks/reference_panel_1000G/chr10.variants.parquet -parquet_genotype_metadata /opt/data/data/phenomexcan/ld_blocks/reference_panel_1000G/variant_metadata.parquet -window 100000 -parsimony 7 -chromosome 10 -regularization 0.1 -frequency_filter 0.01 -sub_batches 10 -sub_batch 9 --standardise_dosages -output /opt/data/projects/chronotype/results/imputed_gwas/chronotype_raw_BOLT.output_HRC.only_plus.metrics_maf0.001_hwep1em12_info0.3.txt-harmonized-imputed-chr10-batch9_10.txt\n",
      "+ set +x\n",
      "+ /opt/data/software/conda_envs/summary_gwas_imputation/bin/python /opt/data/software/summary-gwas-imputation/src/gwas_summary_imputation.py -by_region_file /opt/data/data/eur_ld.bed.gz -gwas_file /opt/data/projects/chronotype/results/harmonized_gwas/chronotype_raw_BOLT.output_HRC.only_plus.metrics_maf0.001_hwep1em12_info0.3.txt-harmonized.txt -parquet_genotype /opt/data/data/phenomexcan/ld_blocks/reference_panel_1000G/chr11.variants.parquet -parquet_genotype_metadata /opt/data/data/phenomexcan/ld_blocks/reference_panel_1000G/variant_metadata.parquet -window 100000 -parsimony 7 -chromosome 11 -regularization 0.1 -frequency_filter 0.01 -sub_batches 10 -sub_batch 0 --standardise_dosages -output /opt/data/projects/chronotype/results/imputed_gwas/chronotype_raw_BOLT.output_HRC.only_plus.metrics_maf0.001_hwep1em12_info0.3.txt-harmonized-imputed-chr11-batch0_10.txt\n"
     ]
    },
    {
     "name": "stdout",
     "output_type": "stream",
     "text": [
      "/opt/data/software/conda_envs/summary_gwas_imputation/lib/python3.7/site-packages/pyarrow/pandas_compat.py:752: FutureWarning: .labels was deprecated in version 0.24.0. Use .codes instead.\n",
      "\n"
     ]
    },
    {
     "name": "stderr",
     "output_type": "stream",
     "text": [
      "+ set +x\n"
     ]
    },
    {
     "name": "stdout",
     "output_type": "stream",
     "text": [
      "Running for chronotype, 11, 1\n",
      "Saving results in /opt/data/projects/chronotype/results/imputed_gwas\n"
     ]
    },
    {
     "name": "stderr",
     "output_type": "stream",
     "text": [
      "+ /opt/data/software/conda_envs/summary_gwas_imputation/bin/python /opt/data/software/summary-gwas-imputation/src/gwas_summary_imputation.py -by_region_file /opt/data/data/eur_ld.bed.gz -gwas_file /opt/data/projects/chronotype/results/harmonized_gwas/chronotype_raw_BOLT.output_HRC.only_plus.metrics_maf0.001_hwep1em12_info0.3.txt-harmonized.txt -parquet_genotype /opt/data/data/phenomexcan/ld_blocks/reference_panel_1000G/chr11.variants.parquet -parquet_genotype_metadata /opt/data/data/phenomexcan/ld_blocks/reference_panel_1000G/variant_metadata.parquet -window 100000 -parsimony 7 -chromosome 11 -regularization 0.1 -frequency_filter 0.01 -sub_batches 10 -sub_batch 1 --standardise_dosages -output /opt/data/projects/chronotype/results/imputed_gwas/chronotype_raw_BOLT.output_HRC.only_plus.metrics_maf0.001_hwep1em12_info0.3.txt-harmonized-imputed-chr11-batch1_10.txt\n",
      "+ set +x\n"
     ]
    },
    {
     "name": "stdout",
     "output_type": "stream",
     "text": [
      "/opt/data/software/conda_envs/summary_gwas_imputation/lib/python3.7/site-packages/pyarrow/pandas_compat.py:752: FutureWarning: .labels was deprecated in version 0.24.0. Use .codes instead.\n",
      "\n",
      "Running for chronotype, 11, 2\n",
      "Saving results in /opt/data/projects/chronotype/results/imputed_gwas\n"
     ]
    },
    {
     "name": "stderr",
     "output_type": "stream",
     "text": [
      "+ /opt/data/software/conda_envs/summary_gwas_imputation/bin/python /opt/data/software/summary-gwas-imputation/src/gwas_summary_imputation.py -by_region_file /opt/data/data/eur_ld.bed.gz -gwas_file /opt/data/projects/chronotype/results/harmonized_gwas/chronotype_raw_BOLT.output_HRC.only_plus.metrics_maf0.001_hwep1em12_info0.3.txt-harmonized.txt -parquet_genotype /opt/data/data/phenomexcan/ld_blocks/reference_panel_1000G/chr11.variants.parquet -parquet_genotype_metadata /opt/data/data/phenomexcan/ld_blocks/reference_panel_1000G/variant_metadata.parquet -window 100000 -parsimony 7 -chromosome 11 -regularization 0.1 -frequency_filter 0.01 -sub_batches 10 -sub_batch 2 --standardise_dosages -output /opt/data/projects/chronotype/results/imputed_gwas/chronotype_raw_BOLT.output_HRC.only_plus.metrics_maf0.001_hwep1em12_info0.3.txt-harmonized-imputed-chr11-batch2_10.txt\n"
     ]
    },
    {
     "name": "stdout",
     "output_type": "stream",
     "text": [
      "/opt/data/software/conda_envs/summary_gwas_imputation/lib/python3.7/site-packages/pyarrow/pandas_compat.py:752: FutureWarning: .labels was deprecated in version 0.24.0. Use .codes instead.\n",
      "\n"
     ]
    },
    {
     "name": "stderr",
     "output_type": "stream",
     "text": [
      "+ set +x\n"
     ]
    },
    {
     "name": "stdout",
     "output_type": "stream",
     "text": [
      "Running for chronotype, 11, 3\n",
      "Saving results in /opt/data/projects/chronotype/results/imputed_gwas\n"
     ]
    },
    {
     "name": "stderr",
     "output_type": "stream",
     "text": [
      "+ /opt/data/software/conda_envs/summary_gwas_imputation/bin/python /opt/data/software/summary-gwas-imputation/src/gwas_summary_imputation.py -by_region_file /opt/data/data/eur_ld.bed.gz -gwas_file /opt/data/projects/chronotype/results/harmonized_gwas/chronotype_raw_BOLT.output_HRC.only_plus.metrics_maf0.001_hwep1em12_info0.3.txt-harmonized.txt -parquet_genotype /opt/data/data/phenomexcan/ld_blocks/reference_panel_1000G/chr11.variants.parquet -parquet_genotype_metadata /opt/data/data/phenomexcan/ld_blocks/reference_panel_1000G/variant_metadata.parquet -window 100000 -parsimony 7 -chromosome 11 -regularization 0.1 -frequency_filter 0.01 -sub_batches 10 -sub_batch 3 --standardise_dosages -output /opt/data/projects/chronotype/results/imputed_gwas/chronotype_raw_BOLT.output_HRC.only_plus.metrics_maf0.001_hwep1em12_info0.3.txt-harmonized-imputed-chr11-batch3_10.txt\n"
     ]
    },
    {
     "name": "stdout",
     "output_type": "stream",
     "text": [
      "/opt/data/software/conda_envs/summary_gwas_imputation/lib/python3.7/site-packages/pyarrow/pandas_compat.py:752: FutureWarning: .labels was deprecated in version 0.24.0. Use .codes instead.\n",
      "\n"
     ]
    },
    {
     "name": "stderr",
     "output_type": "stream",
     "text": [
      "+ set +x\n"
     ]
    },
    {
     "name": "stdout",
     "output_type": "stream",
     "text": [
      "Running for chronotype, 11, 4\n",
      "Saving results in /opt/data/projects/chronotype/results/imputed_gwas\n",
      "/opt/data/software/conda_envs/summary_gwas_imputation/lib/python3.7/site-packages/pyarrow/pandas_compat.py:752: FutureWarning: .labels was deprecated in version 0.24.0. Use .codes instead.\n",
      "\n",
      "Running for chronotype, 11, 5\n",
      "Saving results in /opt/data/projects/chronotype/results/imputed_gwas\n",
      "/opt/data/software/conda_envs/summary_gwas_imputation/lib/python3.7/site-packages/pyarrow/pandas_compat.py:752: FutureWarning: .labels was deprecated in version 0.24.0. Use .codes instead.\n",
      "\n",
      "Running for chronotype, 11, 6\n",
      "Saving results in /opt/data/projects/chronotype/results/imputed_gwas\n",
      "/opt/data/software/conda_envs/summary_gwas_imputation/lib/python3.7/site-packages/pyarrow/pandas_compat.py:752: FutureWarning: .labels was deprecated in version 0.24.0. Use .codes instead.\n",
      "\n"
     ]
    },
    {
     "name": "stderr",
     "output_type": "stream",
     "text": [
      "+ /opt/data/software/conda_envs/summary_gwas_imputation/bin/python /opt/data/software/summary-gwas-imputation/src/gwas_summary_imputation.py -by_region_file /opt/data/data/eur_ld.bed.gz -gwas_file /opt/data/projects/chronotype/results/harmonized_gwas/chronotype_raw_BOLT.output_HRC.only_plus.metrics_maf0.001_hwep1em12_info0.3.txt-harmonized.txt -parquet_genotype /opt/data/data/phenomexcan/ld_blocks/reference_panel_1000G/chr11.variants.parquet -parquet_genotype_metadata /opt/data/data/phenomexcan/ld_blocks/reference_panel_1000G/variant_metadata.parquet -window 100000 -parsimony 7 -chromosome 11 -regularization 0.1 -frequency_filter 0.01 -sub_batches 10 -sub_batch 4 --standardise_dosages -output /opt/data/projects/chronotype/results/imputed_gwas/chronotype_raw_BOLT.output_HRC.only_plus.metrics_maf0.001_hwep1em12_info0.3.txt-harmonized-imputed-chr11-batch4_10.txt\n",
      "+ set +x\n",
      "+ /opt/data/software/conda_envs/summary_gwas_imputation/bin/python /opt/data/software/summary-gwas-imputation/src/gwas_summary_imputation.py -by_region_file /opt/data/data/eur_ld.bed.gz -gwas_file /opt/data/projects/chronotype/results/harmonized_gwas/chronotype_raw_BOLT.output_HRC.only_plus.metrics_maf0.001_hwep1em12_info0.3.txt-harmonized.txt -parquet_genotype /opt/data/data/phenomexcan/ld_blocks/reference_panel_1000G/chr11.variants.parquet -parquet_genotype_metadata /opt/data/data/phenomexcan/ld_blocks/reference_panel_1000G/variant_metadata.parquet -window 100000 -parsimony 7 -chromosome 11 -regularization 0.1 -frequency_filter 0.01 -sub_batches 10 -sub_batch 5 --standardise_dosages -output /opt/data/projects/chronotype/results/imputed_gwas/chronotype_raw_BOLT.output_HRC.only_plus.metrics_maf0.001_hwep1em12_info0.3.txt-harmonized-imputed-chr11-batch5_10.txt\n",
      "+ set +x\n",
      "+ /opt/data/software/conda_envs/summary_gwas_imputation/bin/python /opt/data/software/summary-gwas-imputation/src/gwas_summary_imputation.py -by_region_file /opt/data/data/eur_ld.bed.gz -gwas_file /opt/data/projects/chronotype/results/harmonized_gwas/chronotype_raw_BOLT.output_HRC.only_plus.metrics_maf0.001_hwep1em12_info0.3.txt-harmonized.txt -parquet_genotype /opt/data/data/phenomexcan/ld_blocks/reference_panel_1000G/chr11.variants.parquet -parquet_genotype_metadata /opt/data/data/phenomexcan/ld_blocks/reference_panel_1000G/variant_metadata.parquet -window 100000 -parsimony 7 -chromosome 11 -regularization 0.1 -frequency_filter 0.01 -sub_batches 10 -sub_batch 6 --standardise_dosages -output /opt/data/projects/chronotype/results/imputed_gwas/chronotype_raw_BOLT.output_HRC.only_plus.metrics_maf0.001_hwep1em12_info0.3.txt-harmonized-imputed-chr11-batch6_10.txt\n",
      "+ set +x\n",
      "+ /opt/data/software/conda_envs/summary_gwas_imputation/bin/python /opt/data/software/summary-gwas-imputation/src/gwas_summary_imputation.py -by_region_file /opt/data/data/eur_ld.bed.gz -gwas_file /opt/data/projects/chronotype/results/harmonized_gwas/chronotype_raw_BOLT.output_HRC.only_plus.metrics_maf0.001_hwep1em12_info0.3.txt-harmonized.txt -parquet_genotype /opt/data/data/phenomexcan/ld_blocks/reference_panel_1000G/chr11.variants.parquet -parquet_genotype_metadata /opt/data/data/phenomexcan/ld_blocks/reference_panel_1000G/variant_metadata.parquet -window 100000 -parsimony 7 -chromosome 11 -regularization 0.1 -frequency_filter 0.01 -sub_batches 10 -sub_batch 7 --standardise_dosages -output /opt/data/projects/chronotype/results/imputed_gwas/chronotype_raw_BOLT.output_HRC.only_plus.metrics_maf0.001_hwep1em12_info0.3.txt-harmonized-imputed-chr11-batch7_10.txt\n",
      "+ set +x\n",
      "+ /opt/data/software/conda_envs/summary_gwas_imputation/bin/python /opt/data/software/summary-gwas-imputation/src/gwas_summary_imputation.py -by_region_file /opt/data/data/eur_ld.bed.gz -gwas_file /opt/data/projects/chronotype/results/harmonized_gwas/chronotype_raw_BOLT.output_HRC.only_plus.metrics_maf0.001_hwep1em12_info0.3.txt-harmonized.txt -parquet_genotype /opt/data/data/phenomexcan/ld_blocks/reference_panel_1000G/chr11.variants.parquet -parquet_genotype_metadata /opt/data/data/phenomexcan/ld_blocks/reference_panel_1000G/variant_metadata.parquet -window 100000 -parsimony 7 -chromosome 11 -regularization 0.1 -frequency_filter 0.01 -sub_batches 10 -sub_batch 8 --standardise_dosages -output /opt/data/projects/chronotype/results/imputed_gwas/chronotype_raw_BOLT.output_HRC.only_plus.metrics_maf0.001_hwep1em12_info0.3.txt-harmonized-imputed-chr11-batch8_10.txt\n",
      "+ set +x\n"
     ]
    },
    {
     "name": "stdout",
     "output_type": "stream",
     "text": [
      "Running for chronotype, 11, 7\n",
      "Saving results in /opt/data/projects/chronotype/results/imputed_gwas\n",
      "/opt/data/software/conda_envs/summary_gwas_imputation/lib/python3.7/site-packages/pyarrow/pandas_compat.py:752: FutureWarning: .labels was deprecated in version 0.24.0. Use .codes instead.\n",
      "\n",
      "Running for chronotype, 11, 8\n",
      "Saving results in /opt/data/projects/chronotype/results/imputed_gwas\n",
      "/opt/data/software/conda_envs/summary_gwas_imputation/lib/python3.7/site-packages/pyarrow/pandas_compat.py:752: FutureWarning: .labels was deprecated in version 0.24.0. Use .codes instead.\n",
      "\n",
      "Running for chronotype, 11, 9\n",
      "Saving results in /opt/data/projects/chronotype/results/imputed_gwas\n",
      "/opt/data/software/conda_envs/summary_gwas_imputation/lib/python3.7/site-packages/pyarrow/pandas_compat.py:752: FutureWarning: .labels was deprecated in version 0.24.0. Use .codes instead.\n",
      "\n"
     ]
    },
    {
     "name": "stderr",
     "output_type": "stream",
     "text": [
      "+ /opt/data/software/conda_envs/summary_gwas_imputation/bin/python /opt/data/software/summary-gwas-imputation/src/gwas_summary_imputation.py -by_region_file /opt/data/data/eur_ld.bed.gz -gwas_file /opt/data/projects/chronotype/results/harmonized_gwas/chronotype_raw_BOLT.output_HRC.only_plus.metrics_maf0.001_hwep1em12_info0.3.txt-harmonized.txt -parquet_genotype /opt/data/data/phenomexcan/ld_blocks/reference_panel_1000G/chr11.variants.parquet -parquet_genotype_metadata /opt/data/data/phenomexcan/ld_blocks/reference_panel_1000G/variant_metadata.parquet -window 100000 -parsimony 7 -chromosome 11 -regularization 0.1 -frequency_filter 0.01 -sub_batches 10 -sub_batch 9 --standardise_dosages -output /opt/data/projects/chronotype/results/imputed_gwas/chronotype_raw_BOLT.output_HRC.only_plus.metrics_maf0.001_hwep1em12_info0.3.txt-harmonized-imputed-chr11-batch9_10.txt\n",
      "+ set +x\n",
      "+ /opt/data/software/conda_envs/summary_gwas_imputation/bin/python /opt/data/software/summary-gwas-imputation/src/gwas_summary_imputation.py -by_region_file /opt/data/data/eur_ld.bed.gz -gwas_file /opt/data/projects/chronotype/results/harmonized_gwas/chronotype_raw_BOLT.output_HRC.only_plus.metrics_maf0.001_hwep1em12_info0.3.txt-harmonized.txt -parquet_genotype /opt/data/data/phenomexcan/ld_blocks/reference_panel_1000G/chr12.variants.parquet -parquet_genotype_metadata /opt/data/data/phenomexcan/ld_blocks/reference_panel_1000G/variant_metadata.parquet -window 100000 -parsimony 7 -chromosome 12 -regularization 0.1 -frequency_filter 0.01 -sub_batches 10 -sub_batch 0 --standardise_dosages -output /opt/data/projects/chronotype/results/imputed_gwas/chronotype_raw_BOLT.output_HRC.only_plus.metrics_maf0.001_hwep1em12_info0.3.txt-harmonized-imputed-chr12-batch0_10.txt\n",
      "+ set +x\n",
      "+ /opt/data/software/conda_envs/summary_gwas_imputation/bin/python /opt/data/software/summary-gwas-imputation/src/gwas_summary_imputation.py -by_region_file /opt/data/data/eur_ld.bed.gz -gwas_file /opt/data/projects/chronotype/results/harmonized_gwas/chronotype_raw_BOLT.output_HRC.only_plus.metrics_maf0.001_hwep1em12_info0.3.txt-harmonized.txt -parquet_genotype /opt/data/data/phenomexcan/ld_blocks/reference_panel_1000G/chr12.variants.parquet -parquet_genotype_metadata /opt/data/data/phenomexcan/ld_blocks/reference_panel_1000G/variant_metadata.parquet -window 100000 -parsimony 7 -chromosome 12 -regularization 0.1 -frequency_filter 0.01 -sub_batches 10 -sub_batch 1 --standardise_dosages -output /opt/data/projects/chronotype/results/imputed_gwas/chronotype_raw_BOLT.output_HRC.only_plus.metrics_maf0.001_hwep1em12_info0.3.txt-harmonized-imputed-chr12-batch1_10.txt\n"
     ]
    },
    {
     "name": "stdout",
     "output_type": "stream",
     "text": [
      "Running for chronotype, 12, 0\n",
      "Saving results in /opt/data/projects/chronotype/results/imputed_gwas\n",
      "/opt/data/software/conda_envs/summary_gwas_imputation/lib/python3.7/site-packages/pyarrow/pandas_compat.py:752: FutureWarning: .labels was deprecated in version 0.24.0. Use .codes instead.\n",
      "\n",
      "Running for chronotype, 12, 1\n",
      "Saving results in /opt/data/projects/chronotype/results/imputed_gwas\n",
      "/opt/data/software/conda_envs/summary_gwas_imputation/lib/python3.7/site-packages/pyarrow/pandas_compat.py:752: FutureWarning: .labels was deprecated in version 0.24.0. Use .codes instead.\n",
      "Intel MKL ERROR: Parameter 4 was incorrect on entry to DLASCL.\n",
      "\n"
     ]
    },
    {
     "name": "stderr",
     "output_type": "stream",
     "text": [
      "+ set +x\n"
     ]
    },
    {
     "name": "stdout",
     "output_type": "stream",
     "text": [
      "Running for chronotype, 12, 2\n",
      "Saving results in /opt/data/projects/chronotype/results/imputed_gwas\n",
      "/opt/data/software/conda_envs/summary_gwas_imputation/lib/python3.7/site-packages/pyarrow/pandas_compat.py:752: FutureWarning: .labels was deprecated in version 0.24.0. Use .codes instead.\n",
      "\n"
     ]
    },
    {
     "name": "stderr",
     "output_type": "stream",
     "text": [
      "+ /opt/data/software/conda_envs/summary_gwas_imputation/bin/python /opt/data/software/summary-gwas-imputation/src/gwas_summary_imputation.py -by_region_file /opt/data/data/eur_ld.bed.gz -gwas_file /opt/data/projects/chronotype/results/harmonized_gwas/chronotype_raw_BOLT.output_HRC.only_plus.metrics_maf0.001_hwep1em12_info0.3.txt-harmonized.txt -parquet_genotype /opt/data/data/phenomexcan/ld_blocks/reference_panel_1000G/chr12.variants.parquet -parquet_genotype_metadata /opt/data/data/phenomexcan/ld_blocks/reference_panel_1000G/variant_metadata.parquet -window 100000 -parsimony 7 -chromosome 12 -regularization 0.1 -frequency_filter 0.01 -sub_batches 10 -sub_batch 2 --standardise_dosages -output /opt/data/projects/chronotype/results/imputed_gwas/chronotype_raw_BOLT.output_HRC.only_plus.metrics_maf0.001_hwep1em12_info0.3.txt-harmonized-imputed-chr12-batch2_10.txt\n",
      "+ set +x\n",
      "+ /opt/data/software/conda_envs/summary_gwas_imputation/bin/python /opt/data/software/summary-gwas-imputation/src/gwas_summary_imputation.py -by_region_file /opt/data/data/eur_ld.bed.gz -gwas_file /opt/data/projects/chronotype/results/harmonized_gwas/chronotype_raw_BOLT.output_HRC.only_plus.metrics_maf0.001_hwep1em12_info0.3.txt-harmonized.txt -parquet_genotype /opt/data/data/phenomexcan/ld_blocks/reference_panel_1000G/chr12.variants.parquet -parquet_genotype_metadata /opt/data/data/phenomexcan/ld_blocks/reference_panel_1000G/variant_metadata.parquet -window 100000 -parsimony 7 -chromosome 12 -regularization 0.1 -frequency_filter 0.01 -sub_batches 10 -sub_batch 3 --standardise_dosages -output /opt/data/projects/chronotype/results/imputed_gwas/chronotype_raw_BOLT.output_HRC.only_plus.metrics_maf0.001_hwep1em12_info0.3.txt-harmonized-imputed-chr12-batch3_10.txt\n",
      "+ set +x\n",
      "+ /opt/data/software/conda_envs/summary_gwas_imputation/bin/python /opt/data/software/summary-gwas-imputation/src/gwas_summary_imputation.py -by_region_file /opt/data/data/eur_ld.bed.gz -gwas_file /opt/data/projects/chronotype/results/harmonized_gwas/chronotype_raw_BOLT.output_HRC.only_plus.metrics_maf0.001_hwep1em12_info0.3.txt-harmonized.txt -parquet_genotype /opt/data/data/phenomexcan/ld_blocks/reference_panel_1000G/chr12.variants.parquet -parquet_genotype_metadata /opt/data/data/phenomexcan/ld_blocks/reference_panel_1000G/variant_metadata.parquet -window 100000 -parsimony 7 -chromosome 12 -regularization 0.1 -frequency_filter 0.01 -sub_batches 10 -sub_batch 4 --standardise_dosages -output /opt/data/projects/chronotype/results/imputed_gwas/chronotype_raw_BOLT.output_HRC.only_plus.metrics_maf0.001_hwep1em12_info0.3.txt-harmonized-imputed-chr12-batch4_10.txt\n",
      "+ set +x\n"
     ]
    },
    {
     "name": "stdout",
     "output_type": "stream",
     "text": [
      "Running for chronotype, 12, 3\n",
      "Saving results in /opt/data/projects/chronotype/results/imputed_gwas\n",
      "/opt/data/software/conda_envs/summary_gwas_imputation/lib/python3.7/site-packages/pyarrow/pandas_compat.py:752: FutureWarning: .labels was deprecated in version 0.24.0. Use .codes instead.\n",
      "\n",
      "Running for chronotype, 12, 4\n",
      "Saving results in /opt/data/projects/chronotype/results/imputed_gwas\n",
      "/opt/data/software/conda_envs/summary_gwas_imputation/lib/python3.7/site-packages/pyarrow/pandas_compat.py:752: FutureWarning: .labels was deprecated in version 0.24.0. Use .codes instead.\n",
      "INFO - Error for region (12,67515949.0,69432762.0): LinAlgError('SVD did not converge')\n",
      "\n",
      "Running for chronotype, 12, 5\n",
      "Saving results in /opt/data/projects/chronotype/results/imputed_gwas\n",
      "/opt/data/software/conda_envs/summary_gwas_imputation/lib/python3.7/site-packages/pyarrow/pandas_compat.py:752: FutureWarning: .labels was deprecated in version 0.24.0. Use .codes instead.\n",
      "\n"
     ]
    },
    {
     "name": "stderr",
     "output_type": "stream",
     "text": [
      "+ /opt/data/software/conda_envs/summary_gwas_imputation/bin/python /opt/data/software/summary-gwas-imputation/src/gwas_summary_imputation.py -by_region_file /opt/data/data/eur_ld.bed.gz -gwas_file /opt/data/projects/chronotype/results/harmonized_gwas/chronotype_raw_BOLT.output_HRC.only_plus.metrics_maf0.001_hwep1em12_info0.3.txt-harmonized.txt -parquet_genotype /opt/data/data/phenomexcan/ld_blocks/reference_panel_1000G/chr12.variants.parquet -parquet_genotype_metadata /opt/data/data/phenomexcan/ld_blocks/reference_panel_1000G/variant_metadata.parquet -window 100000 -parsimony 7 -chromosome 12 -regularization 0.1 -frequency_filter 0.01 -sub_batches 10 -sub_batch 5 --standardise_dosages -output /opt/data/projects/chronotype/results/imputed_gwas/chronotype_raw_BOLT.output_HRC.only_plus.metrics_maf0.001_hwep1em12_info0.3.txt-harmonized-imputed-chr12-batch5_10.txt\n",
      "+ set +x\n"
     ]
    },
    {
     "name": "stdout",
     "output_type": "stream",
     "text": [
      "Running for chronotype, 12, 6\n",
      "Saving results in /opt/data/projects/chronotype/results/imputed_gwas\n",
      "/opt/data/software/conda_envs/summary_gwas_imputation/lib/python3.7/site-packages/pyarrow/pandas_compat.py:752: FutureWarning: .labels was deprecated in version 0.24.0. Use .codes instead.\n",
      "\n",
      "Running for chronotype, 12, 7\n",
      "Saving results in /opt/data/projects/chronotype/results/imputed_gwas\n",
      "/opt/data/software/conda_envs/summary_gwas_imputation/lib/python3.7/site-packages/pyarrow/pandas_compat.py:752: FutureWarning: .labels was deprecated in version 0.24.0. Use .codes instead.\n",
      "\n",
      "Running for chronotype, 12, 8\n",
      "Saving results in /opt/data/projects/chronotype/results/imputed_gwas\n",
      "/opt/data/software/conda_envs/summary_gwas_imputation/lib/python3.7/site-packages/pyarrow/pandas_compat.py:752: FutureWarning: .labels was deprecated in version 0.24.0. Use .codes instead.\n",
      "\n",
      "Running for chronotype, 12, 9\n",
      "Saving results in /opt/data/projects/chronotype/results/imputed_gwas\n",
      "/opt/data/software/conda_envs/summary_gwas_imputation/lib/python3.7/site-packages/pyarrow/pandas_compat.py:752: FutureWarning: .labels was deprecated in version 0.24.0. Use .codes instead.\n",
      "\n",
      "Running for chronotype, 13, 0\n",
      "Saving results in /opt/data/projects/chronotype/results/imputed_gwas\n",
      "/opt/data/software/conda_envs/summary_gwas_imputation/lib/python3.7/site-packages/pyarrow/pandas_compat.py:752: FutureWarning: .labels was deprecated in version 0.24.0. Use .codes instead.\n",
      "\n",
      "Running for chronotype, 13, 1\n",
      "Saving results in /opt/data/projects/chronotype/results/imputed_gwas\n",
      "/opt/data/software/conda_envs/summary_gwas_imputation/lib/python3.7/site-packages/pyarrow/pandas_compat.py:752: FutureWarning: .labels was deprecated in version 0.24.0. Use .codes instead.\n",
      "\n",
      "Running for chronotype, 13, 2\n",
      "Saving results in /opt/data/projects/chronotype/results/imputed_gwas\n",
      "/opt/data/software/conda_envs/summary_gwas_imputation/lib/python3.7/site-packages/pyarrow/pandas_compat.py:752: FutureWarning: .labels was deprecated in version 0.24.0. Use .codes instead.\n",
      "\n",
      "Running for chronotype, 13, 3\n",
      "Saving results in /opt/data/projects/chronotype/results/imputed_gwas\n",
      "/opt/data/software/conda_envs/summary_gwas_imputation/lib/python3.7/site-packages/pyarrow/pandas_compat.py:752: FutureWarning: .labels was deprecated in version 0.24.0. Use .codes instead.\n",
      "\n",
      "Running for chronotype, 13, 4\n",
      "Saving results in /opt/data/projects/chronotype/results/imputed_gwas\n",
      "/opt/data/software/conda_envs/summary_gwas_imputation/lib/python3.7/site-packages/pyarrow/pandas_compat.py:752: FutureWarning: .labels was deprecated in version 0.24.0. Use .codes instead.\n",
      "\n",
      "Running for chronotype, 13, 5\n",
      "Saving results in /opt/data/projects/chronotype/results/imputed_gwas\n",
      "/opt/data/software/conda_envs/summary_gwas_imputation/lib/python3.7/site-packages/pyarrow/pandas_compat.py:752: FutureWarning: .labels was deprecated in version 0.24.0. Use .codes instead.\n",
      "\n",
      "Running for chronotype, 13, 6\n",
      "Saving results in /opt/data/projects/chronotype/results/imputed_gwas\n",
      "/opt/data/software/conda_envs/summary_gwas_imputation/lib/python3.7/site-packages/pyarrow/pandas_compat.py:752: FutureWarning: .labels was deprecated in version 0.24.0. Use .codes instead.\n",
      "\n",
      "Running for chronotype, 13, 7\n",
      "Saving results in /opt/data/projects/chronotype/results/imputed_gwas\n",
      "/opt/data/software/conda_envs/summary_gwas_imputation/lib/python3.7/site-packages/pyarrow/pandas_compat.py:752: FutureWarning: .labels was deprecated in version 0.24.0. Use .codes instead.\n",
      "\n",
      "Running for chronotype, 13, 8\n",
      "Saving results in /opt/data/projects/chronotype/results/imputed_gwas\n",
      "/opt/data/software/conda_envs/summary_gwas_imputation/lib/python3.7/site-packages/pyarrow/pandas_compat.py:752: FutureWarning: .labels was deprecated in version 0.24.0. Use .codes instead.\n",
      "\n",
      "Running for chronotype, 13, 9\n",
      "Saving results in /opt/data/projects/chronotype/results/imputed_gwas\n",
      "/opt/data/software/conda_envs/summary_gwas_imputation/lib/python3.7/site-packages/pyarrow/pandas_compat.py:752: FutureWarning: .labels was deprecated in version 0.24.0. Use .codes instead.\n",
      "\n",
      "Running for chronotype, 14, 0\n",
      "Saving results in /opt/data/projects/chronotype/results/imputed_gwas\n",
      "/opt/data/software/conda_envs/summary_gwas_imputation/lib/python3.7/site-packages/pyarrow/pandas_compat.py:752: FutureWarning: .labels was deprecated in version 0.24.0. Use .codes instead.\n",
      "Intel MKL ERROR: Parameter 4 was incorrect on entry to DLASCL.\n",
      "INFO - Error for region (14,18225607.0,21121243.0): LinAlgError('SVD did not converge')\n",
      "\n",
      "Running for chronotype, 14, 1\n",
      "Saving results in /opt/data/projects/chronotype/results/imputed_gwas\n",
      "/opt/data/software/conda_envs/summary_gwas_imputation/lib/python3.7/site-packages/pyarrow/pandas_compat.py:752: FutureWarning: .labels was deprecated in version 0.24.0. Use .codes instead.\n",
      "\n"
     ]
    },
    {
     "name": "stderr",
     "output_type": "stream",
     "text": [
      "+ /opt/data/software/conda_envs/summary_gwas_imputation/bin/python /opt/data/software/summary-gwas-imputation/src/gwas_summary_imputation.py -by_region_file /opt/data/data/eur_ld.bed.gz -gwas_file /opt/data/projects/chronotype/results/harmonized_gwas/chronotype_raw_BOLT.output_HRC.only_plus.metrics_maf0.001_hwep1em12_info0.3.txt-harmonized.txt -parquet_genotype /opt/data/data/phenomexcan/ld_blocks/reference_panel_1000G/chr12.variants.parquet -parquet_genotype_metadata /opt/data/data/phenomexcan/ld_blocks/reference_panel_1000G/variant_metadata.parquet -window 100000 -parsimony 7 -chromosome 12 -regularization 0.1 -frequency_filter 0.01 -sub_batches 10 -sub_batch 6 --standardise_dosages -output /opt/data/projects/chronotype/results/imputed_gwas/chronotype_raw_BOLT.output_HRC.only_plus.metrics_maf0.001_hwep1em12_info0.3.txt-harmonized-imputed-chr12-batch6_10.txt\n",
      "+ set +x\n",
      "+ /opt/data/software/conda_envs/summary_gwas_imputation/bin/python /opt/data/software/summary-gwas-imputation/src/gwas_summary_imputation.py -by_region_file /opt/data/data/eur_ld.bed.gz -gwas_file /opt/data/projects/chronotype/results/harmonized_gwas/chronotype_raw_BOLT.output_HRC.only_plus.metrics_maf0.001_hwep1em12_info0.3.txt-harmonized.txt -parquet_genotype /opt/data/data/phenomexcan/ld_blocks/reference_panel_1000G/chr12.variants.parquet -parquet_genotype_metadata /opt/data/data/phenomexcan/ld_blocks/reference_panel_1000G/variant_metadata.parquet -window 100000 -parsimony 7 -chromosome 12 -regularization 0.1 -frequency_filter 0.01 -sub_batches 10 -sub_batch 7 --standardise_dosages -output /opt/data/projects/chronotype/results/imputed_gwas/chronotype_raw_BOLT.output_HRC.only_plus.metrics_maf0.001_hwep1em12_info0.3.txt-harmonized-imputed-chr12-batch7_10.txt\n",
      "+ set +x\n",
      "+ /opt/data/software/conda_envs/summary_gwas_imputation/bin/python /opt/data/software/summary-gwas-imputation/src/gwas_summary_imputation.py -by_region_file /opt/data/data/eur_ld.bed.gz -gwas_file /opt/data/projects/chronotype/results/harmonized_gwas/chronotype_raw_BOLT.output_HRC.only_plus.metrics_maf0.001_hwep1em12_info0.3.txt-harmonized.txt -parquet_genotype /opt/data/data/phenomexcan/ld_blocks/reference_panel_1000G/chr12.variants.parquet -parquet_genotype_metadata /opt/data/data/phenomexcan/ld_blocks/reference_panel_1000G/variant_metadata.parquet -window 100000 -parsimony 7 -chromosome 12 -regularization 0.1 -frequency_filter 0.01 -sub_batches 10 -sub_batch 8 --standardise_dosages -output /opt/data/projects/chronotype/results/imputed_gwas/chronotype_raw_BOLT.output_HRC.only_plus.metrics_maf0.001_hwep1em12_info0.3.txt-harmonized-imputed-chr12-batch8_10.txt\n",
      "+ set +x\n",
      "+ /opt/data/software/conda_envs/summary_gwas_imputation/bin/python /opt/data/software/summary-gwas-imputation/src/gwas_summary_imputation.py -by_region_file /opt/data/data/eur_ld.bed.gz -gwas_file /opt/data/projects/chronotype/results/harmonized_gwas/chronotype_raw_BOLT.output_HRC.only_plus.metrics_maf0.001_hwep1em12_info0.3.txt-harmonized.txt -parquet_genotype /opt/data/data/phenomexcan/ld_blocks/reference_panel_1000G/chr12.variants.parquet -parquet_genotype_metadata /opt/data/data/phenomexcan/ld_blocks/reference_panel_1000G/variant_metadata.parquet -window 100000 -parsimony 7 -chromosome 12 -regularization 0.1 -frequency_filter 0.01 -sub_batches 10 -sub_batch 9 --standardise_dosages -output /opt/data/projects/chronotype/results/imputed_gwas/chronotype_raw_BOLT.output_HRC.only_plus.metrics_maf0.001_hwep1em12_info0.3.txt-harmonized-imputed-chr12-batch9_10.txt\n",
      "+ set +x\n",
      "+ /opt/data/software/conda_envs/summary_gwas_imputation/bin/python /opt/data/software/summary-gwas-imputation/src/gwas_summary_imputation.py -by_region_file /opt/data/data/eur_ld.bed.gz -gwas_file /opt/data/projects/chronotype/results/harmonized_gwas/chronotype_raw_BOLT.output_HRC.only_plus.metrics_maf0.001_hwep1em12_info0.3.txt-harmonized.txt -parquet_genotype /opt/data/data/phenomexcan/ld_blocks/reference_panel_1000G/chr13.variants.parquet -parquet_genotype_metadata /opt/data/data/phenomexcan/ld_blocks/reference_panel_1000G/variant_metadata.parquet -window 100000 -parsimony 7 -chromosome 13 -regularization 0.1 -frequency_filter 0.01 -sub_batches 10 -sub_batch 0 --standardise_dosages -output /opt/data/projects/chronotype/results/imputed_gwas/chronotype_raw_BOLT.output_HRC.only_plus.metrics_maf0.001_hwep1em12_info0.3.txt-harmonized-imputed-chr13-batch0_10.txt\n",
      "+ set +x\n",
      "+ /opt/data/software/conda_envs/summary_gwas_imputation/bin/python /opt/data/software/summary-gwas-imputation/src/gwas_summary_imputation.py -by_region_file /opt/data/data/eur_ld.bed.gz -gwas_file /opt/data/projects/chronotype/results/harmonized_gwas/chronotype_raw_BOLT.output_HRC.only_plus.metrics_maf0.001_hwep1em12_info0.3.txt-harmonized.txt -parquet_genotype /opt/data/data/phenomexcan/ld_blocks/reference_panel_1000G/chr13.variants.parquet -parquet_genotype_metadata /opt/data/data/phenomexcan/ld_blocks/reference_panel_1000G/variant_metadata.parquet -window 100000 -parsimony 7 -chromosome 13 -regularization 0.1 -frequency_filter 0.01 -sub_batches 10 -sub_batch 1 --standardise_dosages -output /opt/data/projects/chronotype/results/imputed_gwas/chronotype_raw_BOLT.output_HRC.only_plus.metrics_maf0.001_hwep1em12_info0.3.txt-harmonized-imputed-chr13-batch1_10.txt\n",
      "+ set +x\n",
      "+ /opt/data/software/conda_envs/summary_gwas_imputation/bin/python /opt/data/software/summary-gwas-imputation/src/gwas_summary_imputation.py -by_region_file /opt/data/data/eur_ld.bed.gz -gwas_file /opt/data/projects/chronotype/results/harmonized_gwas/chronotype_raw_BOLT.output_HRC.only_plus.metrics_maf0.001_hwep1em12_info0.3.txt-harmonized.txt -parquet_genotype /opt/data/data/phenomexcan/ld_blocks/reference_panel_1000G/chr13.variants.parquet -parquet_genotype_metadata /opt/data/data/phenomexcan/ld_blocks/reference_panel_1000G/variant_metadata.parquet -window 100000 -parsimony 7 -chromosome 13 -regularization 0.1 -frequency_filter 0.01 -sub_batches 10 -sub_batch 2 --standardise_dosages -output /opt/data/projects/chronotype/results/imputed_gwas/chronotype_raw_BOLT.output_HRC.only_plus.metrics_maf0.001_hwep1em12_info0.3.txt-harmonized-imputed-chr13-batch2_10.txt\n",
      "+ set +x\n",
      "+ /opt/data/software/conda_envs/summary_gwas_imputation/bin/python /opt/data/software/summary-gwas-imputation/src/gwas_summary_imputation.py -by_region_file /opt/data/data/eur_ld.bed.gz -gwas_file /opt/data/projects/chronotype/results/harmonized_gwas/chronotype_raw_BOLT.output_HRC.only_plus.metrics_maf0.001_hwep1em12_info0.3.txt-harmonized.txt -parquet_genotype /opt/data/data/phenomexcan/ld_blocks/reference_panel_1000G/chr13.variants.parquet -parquet_genotype_metadata /opt/data/data/phenomexcan/ld_blocks/reference_panel_1000G/variant_metadata.parquet -window 100000 -parsimony 7 -chromosome 13 -regularization 0.1 -frequency_filter 0.01 -sub_batches 10 -sub_batch 3 --standardise_dosages -output /opt/data/projects/chronotype/results/imputed_gwas/chronotype_raw_BOLT.output_HRC.only_plus.metrics_maf0.001_hwep1em12_info0.3.txt-harmonized-imputed-chr13-batch3_10.txt\n",
      "+ set +x\n",
      "+ /opt/data/software/conda_envs/summary_gwas_imputation/bin/python /opt/data/software/summary-gwas-imputation/src/gwas_summary_imputation.py -by_region_file /opt/data/data/eur_ld.bed.gz -gwas_file /opt/data/projects/chronotype/results/harmonized_gwas/chronotype_raw_BOLT.output_HRC.only_plus.metrics_maf0.001_hwep1em12_info0.3.txt-harmonized.txt -parquet_genotype /opt/data/data/phenomexcan/ld_blocks/reference_panel_1000G/chr13.variants.parquet -parquet_genotype_metadata /opt/data/data/phenomexcan/ld_blocks/reference_panel_1000G/variant_metadata.parquet -window 100000 -parsimony 7 -chromosome 13 -regularization 0.1 -frequency_filter 0.01 -sub_batches 10 -sub_batch 4 --standardise_dosages -output /opt/data/projects/chronotype/results/imputed_gwas/chronotype_raw_BOLT.output_HRC.only_plus.metrics_maf0.001_hwep1em12_info0.3.txt-harmonized-imputed-chr13-batch4_10.txt\n",
      "+ set +x\n",
      "+ /opt/data/software/conda_envs/summary_gwas_imputation/bin/python /opt/data/software/summary-gwas-imputation/src/gwas_summary_imputation.py -by_region_file /opt/data/data/eur_ld.bed.gz -gwas_file /opt/data/projects/chronotype/results/harmonized_gwas/chronotype_raw_BOLT.output_HRC.only_plus.metrics_maf0.001_hwep1em12_info0.3.txt-harmonized.txt -parquet_genotype /opt/data/data/phenomexcan/ld_blocks/reference_panel_1000G/chr13.variants.parquet -parquet_genotype_metadata /opt/data/data/phenomexcan/ld_blocks/reference_panel_1000G/variant_metadata.parquet -window 100000 -parsimony 7 -chromosome 13 -regularization 0.1 -frequency_filter 0.01 -sub_batches 10 -sub_batch 5 --standardise_dosages -output /opt/data/projects/chronotype/results/imputed_gwas/chronotype_raw_BOLT.output_HRC.only_plus.metrics_maf0.001_hwep1em12_info0.3.txt-harmonized-imputed-chr13-batch5_10.txt\n",
      "+ set +x\n",
      "+ /opt/data/software/conda_envs/summary_gwas_imputation/bin/python /opt/data/software/summary-gwas-imputation/src/gwas_summary_imputation.py -by_region_file /opt/data/data/eur_ld.bed.gz -gwas_file /opt/data/projects/chronotype/results/harmonized_gwas/chronotype_raw_BOLT.output_HRC.only_plus.metrics_maf0.001_hwep1em12_info0.3.txt-harmonized.txt -parquet_genotype /opt/data/data/phenomexcan/ld_blocks/reference_panel_1000G/chr13.variants.parquet -parquet_genotype_metadata /opt/data/data/phenomexcan/ld_blocks/reference_panel_1000G/variant_metadata.parquet -window 100000 -parsimony 7 -chromosome 13 -regularization 0.1 -frequency_filter 0.01 -sub_batches 10 -sub_batch 6 --standardise_dosages -output /opt/data/projects/chronotype/results/imputed_gwas/chronotype_raw_BOLT.output_HRC.only_plus.metrics_maf0.001_hwep1em12_info0.3.txt-harmonized-imputed-chr13-batch6_10.txt\n",
      "+ set +x\n",
      "+ /opt/data/software/conda_envs/summary_gwas_imputation/bin/python /opt/data/software/summary-gwas-imputation/src/gwas_summary_imputation.py -by_region_file /opt/data/data/eur_ld.bed.gz -gwas_file /opt/data/projects/chronotype/results/harmonized_gwas/chronotype_raw_BOLT.output_HRC.only_plus.metrics_maf0.001_hwep1em12_info0.3.txt-harmonized.txt -parquet_genotype /opt/data/data/phenomexcan/ld_blocks/reference_panel_1000G/chr13.variants.parquet -parquet_genotype_metadata /opt/data/data/phenomexcan/ld_blocks/reference_panel_1000G/variant_metadata.parquet -window 100000 -parsimony 7 -chromosome 13 -regularization 0.1 -frequency_filter 0.01 -sub_batches 10 -sub_batch 7 --standardise_dosages -output /opt/data/projects/chronotype/results/imputed_gwas/chronotype_raw_BOLT.output_HRC.only_plus.metrics_maf0.001_hwep1em12_info0.3.txt-harmonized-imputed-chr13-batch7_10.txt\n",
      "+ set +x\n",
      "+ /opt/data/software/conda_envs/summary_gwas_imputation/bin/python /opt/data/software/summary-gwas-imputation/src/gwas_summary_imputation.py -by_region_file /opt/data/data/eur_ld.bed.gz -gwas_file /opt/data/projects/chronotype/results/harmonized_gwas/chronotype_raw_BOLT.output_HRC.only_plus.metrics_maf0.001_hwep1em12_info0.3.txt-harmonized.txt -parquet_genotype /opt/data/data/phenomexcan/ld_blocks/reference_panel_1000G/chr13.variants.parquet -parquet_genotype_metadata /opt/data/data/phenomexcan/ld_blocks/reference_panel_1000G/variant_metadata.parquet -window 100000 -parsimony 7 -chromosome 13 -regularization 0.1 -frequency_filter 0.01 -sub_batches 10 -sub_batch 8 --standardise_dosages -output /opt/data/projects/chronotype/results/imputed_gwas/chronotype_raw_BOLT.output_HRC.only_plus.metrics_maf0.001_hwep1em12_info0.3.txt-harmonized-imputed-chr13-batch8_10.txt\n",
      "+ set +x\n",
      "+ /opt/data/software/conda_envs/summary_gwas_imputation/bin/python /opt/data/software/summary-gwas-imputation/src/gwas_summary_imputation.py -by_region_file /opt/data/data/eur_ld.bed.gz -gwas_file /opt/data/projects/chronotype/results/harmonized_gwas/chronotype_raw_BOLT.output_HRC.only_plus.metrics_maf0.001_hwep1em12_info0.3.txt-harmonized.txt -parquet_genotype /opt/data/data/phenomexcan/ld_blocks/reference_panel_1000G/chr13.variants.parquet -parquet_genotype_metadata /opt/data/data/phenomexcan/ld_blocks/reference_panel_1000G/variant_metadata.parquet -window 100000 -parsimony 7 -chromosome 13 -regularization 0.1 -frequency_filter 0.01 -sub_batches 10 -sub_batch 9 --standardise_dosages -output /opt/data/projects/chronotype/results/imputed_gwas/chronotype_raw_BOLT.output_HRC.only_plus.metrics_maf0.001_hwep1em12_info0.3.txt-harmonized-imputed-chr13-batch9_10.txt\n",
      "+ set +x\n",
      "+ /opt/data/software/conda_envs/summary_gwas_imputation/bin/python /opt/data/software/summary-gwas-imputation/src/gwas_summary_imputation.py -by_region_file /opt/data/data/eur_ld.bed.gz -gwas_file /opt/data/projects/chronotype/results/harmonized_gwas/chronotype_raw_BOLT.output_HRC.only_plus.metrics_maf0.001_hwep1em12_info0.3.txt-harmonized.txt -parquet_genotype /opt/data/data/phenomexcan/ld_blocks/reference_panel_1000G/chr14.variants.parquet -parquet_genotype_metadata /opt/data/data/phenomexcan/ld_blocks/reference_panel_1000G/variant_metadata.parquet -window 100000 -parsimony 7 -chromosome 14 -regularization 0.1 -frequency_filter 0.01 -sub_batches 10 -sub_batch 0 --standardise_dosages -output /opt/data/projects/chronotype/results/imputed_gwas/chronotype_raw_BOLT.output_HRC.only_plus.metrics_maf0.001_hwep1em12_info0.3.txt-harmonized-imputed-chr14-batch0_10.txt\n",
      "+ set +x\n",
      "+ /opt/data/software/conda_envs/summary_gwas_imputation/bin/python /opt/data/software/summary-gwas-imputation/src/gwas_summary_imputation.py -by_region_file /opt/data/data/eur_ld.bed.gz -gwas_file /opt/data/projects/chronotype/results/harmonized_gwas/chronotype_raw_BOLT.output_HRC.only_plus.metrics_maf0.001_hwep1em12_info0.3.txt-harmonized.txt -parquet_genotype /opt/data/data/phenomexcan/ld_blocks/reference_panel_1000G/chr14.variants.parquet -parquet_genotype_metadata /opt/data/data/phenomexcan/ld_blocks/reference_panel_1000G/variant_metadata.parquet -window 100000 -parsimony 7 -chromosome 14 -regularization 0.1 -frequency_filter 0.01 -sub_batches 10 -sub_batch 1 --standardise_dosages -output /opt/data/projects/chronotype/results/imputed_gwas/chronotype_raw_BOLT.output_HRC.only_plus.metrics_maf0.001_hwep1em12_info0.3.txt-harmonized-imputed-chr14-batch1_10.txt\n",
      "+ set +x\n"
     ]
    },
    {
     "name": "stdout",
     "output_type": "stream",
     "text": [
      "Running for chronotype, 14, 2\n",
      "Saving results in /opt/data/projects/chronotype/results/imputed_gwas\n",
      "/opt/data/software/conda_envs/summary_gwas_imputation/lib/python3.7/site-packages/pyarrow/pandas_compat.py:752: FutureWarning: .labels was deprecated in version 0.24.0. Use .codes instead.\n",
      "\n",
      "Running for chronotype, 14, 3\n",
      "Saving results in /opt/data/projects/chronotype/results/imputed_gwas\n",
      "/opt/data/software/conda_envs/summary_gwas_imputation/lib/python3.7/site-packages/pyarrow/pandas_compat.py:752: FutureWarning: .labels was deprecated in version 0.24.0. Use .codes instead.\n",
      "\n",
      "Running for chronotype, 14, 4\n",
      "Saving results in /opt/data/projects/chronotype/results/imputed_gwas\n",
      "/opt/data/software/conda_envs/summary_gwas_imputation/lib/python3.7/site-packages/pyarrow/pandas_compat.py:752: FutureWarning: .labels was deprecated in version 0.24.0. Use .codes instead.\n",
      "\n",
      "Running for chronotype, 14, 5\n",
      "Saving results in /opt/data/projects/chronotype/results/imputed_gwas\n"
     ]
    },
    {
     "name": "stderr",
     "output_type": "stream",
     "text": [
      "+ /opt/data/software/conda_envs/summary_gwas_imputation/bin/python /opt/data/software/summary-gwas-imputation/src/gwas_summary_imputation.py -by_region_file /opt/data/data/eur_ld.bed.gz -gwas_file /opt/data/projects/chronotype/results/harmonized_gwas/chronotype_raw_BOLT.output_HRC.only_plus.metrics_maf0.001_hwep1em12_info0.3.txt-harmonized.txt -parquet_genotype /opt/data/data/phenomexcan/ld_blocks/reference_panel_1000G/chr14.variants.parquet -parquet_genotype_metadata /opt/data/data/phenomexcan/ld_blocks/reference_panel_1000G/variant_metadata.parquet -window 100000 -parsimony 7 -chromosome 14 -regularization 0.1 -frequency_filter 0.01 -sub_batches 10 -sub_batch 2 --standardise_dosages -output /opt/data/projects/chronotype/results/imputed_gwas/chronotype_raw_BOLT.output_HRC.only_plus.metrics_maf0.001_hwep1em12_info0.3.txt-harmonized-imputed-chr14-batch2_10.txt\n",
      "+ set +x\n",
      "+ /opt/data/software/conda_envs/summary_gwas_imputation/bin/python /opt/data/software/summary-gwas-imputation/src/gwas_summary_imputation.py -by_region_file /opt/data/data/eur_ld.bed.gz -gwas_file /opt/data/projects/chronotype/results/harmonized_gwas/chronotype_raw_BOLT.output_HRC.only_plus.metrics_maf0.001_hwep1em12_info0.3.txt-harmonized.txt -parquet_genotype /opt/data/data/phenomexcan/ld_blocks/reference_panel_1000G/chr14.variants.parquet -parquet_genotype_metadata /opt/data/data/phenomexcan/ld_blocks/reference_panel_1000G/variant_metadata.parquet -window 100000 -parsimony 7 -chromosome 14 -regularization 0.1 -frequency_filter 0.01 -sub_batches 10 -sub_batch 3 --standardise_dosages -output /opt/data/projects/chronotype/results/imputed_gwas/chronotype_raw_BOLT.output_HRC.only_plus.metrics_maf0.001_hwep1em12_info0.3.txt-harmonized-imputed-chr14-batch3_10.txt\n",
      "+ set +x\n",
      "+ /opt/data/software/conda_envs/summary_gwas_imputation/bin/python /opt/data/software/summary-gwas-imputation/src/gwas_summary_imputation.py -by_region_file /opt/data/data/eur_ld.bed.gz -gwas_file /opt/data/projects/chronotype/results/harmonized_gwas/chronotype_raw_BOLT.output_HRC.only_plus.metrics_maf0.001_hwep1em12_info0.3.txt-harmonized.txt -parquet_genotype /opt/data/data/phenomexcan/ld_blocks/reference_panel_1000G/chr14.variants.parquet -parquet_genotype_metadata /opt/data/data/phenomexcan/ld_blocks/reference_panel_1000G/variant_metadata.parquet -window 100000 -parsimony 7 -chromosome 14 -regularization 0.1 -frequency_filter 0.01 -sub_batches 10 -sub_batch 4 --standardise_dosages -output /opt/data/projects/chronotype/results/imputed_gwas/chronotype_raw_BOLT.output_HRC.only_plus.metrics_maf0.001_hwep1em12_info0.3.txt-harmonized-imputed-chr14-batch4_10.txt\n",
      "+ set +x\n",
      "+ /opt/data/software/conda_envs/summary_gwas_imputation/bin/python /opt/data/software/summary-gwas-imputation/src/gwas_summary_imputation.py -by_region_file /opt/data/data/eur_ld.bed.gz -gwas_file /opt/data/projects/chronotype/results/harmonized_gwas/chronotype_raw_BOLT.output_HRC.only_plus.metrics_maf0.001_hwep1em12_info0.3.txt-harmonized.txt -parquet_genotype /opt/data/data/phenomexcan/ld_blocks/reference_panel_1000G/chr14.variants.parquet -parquet_genotype_metadata /opt/data/data/phenomexcan/ld_blocks/reference_panel_1000G/variant_metadata.parquet -window 100000 -parsimony 7 -chromosome 14 -regularization 0.1 -frequency_filter 0.01 -sub_batches 10 -sub_batch 5 --standardise_dosages -output /opt/data/projects/chronotype/results/imputed_gwas/chronotype_raw_BOLT.output_HRC.only_plus.metrics_maf0.001_hwep1em12_info0.3.txt-harmonized-imputed-chr14-batch5_10.txt\n"
     ]
    },
    {
     "name": "stdout",
     "output_type": "stream",
     "text": [
      "/opt/data/software/conda_envs/summary_gwas_imputation/lib/python3.7/site-packages/pyarrow/pandas_compat.py:752: FutureWarning: .labels was deprecated in version 0.24.0. Use .codes instead.\n",
      "\n"
     ]
    },
    {
     "name": "stderr",
     "output_type": "stream",
     "text": [
      "+ set +x\n"
     ]
    },
    {
     "name": "stdout",
     "output_type": "stream",
     "text": [
      "Running for chronotype, 14, 6\n",
      "Saving results in /opt/data/projects/chronotype/results/imputed_gwas\n",
      "/opt/data/software/conda_envs/summary_gwas_imputation/lib/python3.7/site-packages/pyarrow/pandas_compat.py:752: FutureWarning: .labels was deprecated in version 0.24.0. Use .codes instead.\n",
      "\n",
      "Running for chronotype, 14, 7\n",
      "Saving results in /opt/data/projects/chronotype/results/imputed_gwas\n",
      "/opt/data/software/conda_envs/summary_gwas_imputation/lib/python3.7/site-packages/pyarrow/pandas_compat.py:752: FutureWarning: .labels was deprecated in version 0.24.0. Use .codes instead.\n",
      "\n",
      "Running for chronotype, 14, 8\n",
      "Saving results in /opt/data/projects/chronotype/results/imputed_gwas\n",
      "/opt/data/software/conda_envs/summary_gwas_imputation/lib/python3.7/site-packages/pyarrow/pandas_compat.py:752: FutureWarning: .labels was deprecated in version 0.24.0. Use .codes instead.\n",
      "\n"
     ]
    },
    {
     "name": "stderr",
     "output_type": "stream",
     "text": [
      "+ /opt/data/software/conda_envs/summary_gwas_imputation/bin/python /opt/data/software/summary-gwas-imputation/src/gwas_summary_imputation.py -by_region_file /opt/data/data/eur_ld.bed.gz -gwas_file /opt/data/projects/chronotype/results/harmonized_gwas/chronotype_raw_BOLT.output_HRC.only_plus.metrics_maf0.001_hwep1em12_info0.3.txt-harmonized.txt -parquet_genotype /opt/data/data/phenomexcan/ld_blocks/reference_panel_1000G/chr14.variants.parquet -parquet_genotype_metadata /opt/data/data/phenomexcan/ld_blocks/reference_panel_1000G/variant_metadata.parquet -window 100000 -parsimony 7 -chromosome 14 -regularization 0.1 -frequency_filter 0.01 -sub_batches 10 -sub_batch 6 --standardise_dosages -output /opt/data/projects/chronotype/results/imputed_gwas/chronotype_raw_BOLT.output_HRC.only_plus.metrics_maf0.001_hwep1em12_info0.3.txt-harmonized-imputed-chr14-batch6_10.txt\n",
      "+ set +x\n",
      "+ /opt/data/software/conda_envs/summary_gwas_imputation/bin/python /opt/data/software/summary-gwas-imputation/src/gwas_summary_imputation.py -by_region_file /opt/data/data/eur_ld.bed.gz -gwas_file /opt/data/projects/chronotype/results/harmonized_gwas/chronotype_raw_BOLT.output_HRC.only_plus.metrics_maf0.001_hwep1em12_info0.3.txt-harmonized.txt -parquet_genotype /opt/data/data/phenomexcan/ld_blocks/reference_panel_1000G/chr14.variants.parquet -parquet_genotype_metadata /opt/data/data/phenomexcan/ld_blocks/reference_panel_1000G/variant_metadata.parquet -window 100000 -parsimony 7 -chromosome 14 -regularization 0.1 -frequency_filter 0.01 -sub_batches 10 -sub_batch 7 --standardise_dosages -output /opt/data/projects/chronotype/results/imputed_gwas/chronotype_raw_BOLT.output_HRC.only_plus.metrics_maf0.001_hwep1em12_info0.3.txt-harmonized-imputed-chr14-batch7_10.txt\n",
      "+ set +x\n",
      "+ /opt/data/software/conda_envs/summary_gwas_imputation/bin/python /opt/data/software/summary-gwas-imputation/src/gwas_summary_imputation.py -by_region_file /opt/data/data/eur_ld.bed.gz -gwas_file /opt/data/projects/chronotype/results/harmonized_gwas/chronotype_raw_BOLT.output_HRC.only_plus.metrics_maf0.001_hwep1em12_info0.3.txt-harmonized.txt -parquet_genotype /opt/data/data/phenomexcan/ld_blocks/reference_panel_1000G/chr14.variants.parquet -parquet_genotype_metadata /opt/data/data/phenomexcan/ld_blocks/reference_panel_1000G/variant_metadata.parquet -window 100000 -parsimony 7 -chromosome 14 -regularization 0.1 -frequency_filter 0.01 -sub_batches 10 -sub_batch 8 --standardise_dosages -output /opt/data/projects/chronotype/results/imputed_gwas/chronotype_raw_BOLT.output_HRC.only_plus.metrics_maf0.001_hwep1em12_info0.3.txt-harmonized-imputed-chr14-batch8_10.txt\n",
      "+ set +x\n"
     ]
    },
    {
     "name": "stdout",
     "output_type": "stream",
     "text": [
      "Running for chronotype, 14, 9\n",
      "Saving results in /opt/data/projects/chronotype/results/imputed_gwas\n",
      "/opt/data/software/conda_envs/summary_gwas_imputation/lib/python3.7/site-packages/pyarrow/pandas_compat.py:752: FutureWarning: .labels was deprecated in version 0.24.0. Use .codes instead.\n",
      "\n",
      "Running for chronotype, 15, 0\n",
      "Saving results in /opt/data/projects/chronotype/results/imputed_gwas\n",
      "/opt/data/software/conda_envs/summary_gwas_imputation/lib/python3.7/site-packages/pyarrow/pandas_compat.py:752: FutureWarning: .labels was deprecated in version 0.24.0. Use .codes instead.\n",
      "\n",
      "Running for chronotype, 15, 1\n",
      "Saving results in /opt/data/projects/chronotype/results/imputed_gwas\n",
      "/opt/data/software/conda_envs/summary_gwas_imputation/lib/python3.7/site-packages/pyarrow/pandas_compat.py:752: FutureWarning: .labels was deprecated in version 0.24.0. Use .codes instead.\n",
      "\n",
      "Running for chronotype, 15, 2\n",
      "Saving results in /opt/data/projects/chronotype/results/imputed_gwas\n",
      "/opt/data/software/conda_envs/summary_gwas_imputation/lib/python3.7/site-packages/pyarrow/pandas_compat.py:752: FutureWarning: .labels was deprecated in version 0.24.0. Use .codes instead.\n",
      "\n",
      "Running for chronotype, 15, 3\n",
      "Saving results in /opt/data/projects/chronotype/results/imputed_gwas\n",
      "/opt/data/software/conda_envs/summary_gwas_imputation/lib/python3.7/site-packages/pyarrow/pandas_compat.py:752: FutureWarning: .labels was deprecated in version 0.24.0. Use .codes instead.\n",
      "\n",
      "Running for chronotype, 15, 4\n",
      "Saving results in /opt/data/projects/chronotype/results/imputed_gwas\n",
      "/opt/data/software/conda_envs/summary_gwas_imputation/lib/python3.7/site-packages/pyarrow/pandas_compat.py:752: FutureWarning: .labels was deprecated in version 0.24.0. Use .codes instead.\n",
      "\n",
      "Running for chronotype, 15, 5\n",
      "Saving results in /opt/data/projects/chronotype/results/imputed_gwas\n",
      "/opt/data/software/conda_envs/summary_gwas_imputation/lib/python3.7/site-packages/pyarrow/pandas_compat.py:752: FutureWarning: .labels was deprecated in version 0.24.0. Use .codes instead.\n",
      "Intel MKL ERROR: Parameter 4 was incorrect on entry to DLASCL.\n",
      "\n",
      "Running for chronotype, 15, 6\n",
      "Saving results in /opt/data/projects/chronotype/results/imputed_gwas\n",
      "/opt/data/software/conda_envs/summary_gwas_imputation/lib/python3.7/site-packages/pyarrow/pandas_compat.py:752: FutureWarning: .labels was deprecated in version 0.24.0. Use .codes instead.\n",
      "\n",
      "Running for chronotype, 15, 7\n",
      "Saving results in /opt/data/projects/chronotype/results/imputed_gwas\n"
     ]
    },
    {
     "name": "stderr",
     "output_type": "stream",
     "text": [
      "+ /opt/data/software/conda_envs/summary_gwas_imputation/bin/python /opt/data/software/summary-gwas-imputation/src/gwas_summary_imputation.py -by_region_file /opt/data/data/eur_ld.bed.gz -gwas_file /opt/data/projects/chronotype/results/harmonized_gwas/chronotype_raw_BOLT.output_HRC.only_plus.metrics_maf0.001_hwep1em12_info0.3.txt-harmonized.txt -parquet_genotype /opt/data/data/phenomexcan/ld_blocks/reference_panel_1000G/chr14.variants.parquet -parquet_genotype_metadata /opt/data/data/phenomexcan/ld_blocks/reference_panel_1000G/variant_metadata.parquet -window 100000 -parsimony 7 -chromosome 14 -regularization 0.1 -frequency_filter 0.01 -sub_batches 10 -sub_batch 9 --standardise_dosages -output /opt/data/projects/chronotype/results/imputed_gwas/chronotype_raw_BOLT.output_HRC.only_plus.metrics_maf0.001_hwep1em12_info0.3.txt-harmonized-imputed-chr14-batch9_10.txt\n",
      "+ set +x\n",
      "+ /opt/data/software/conda_envs/summary_gwas_imputation/bin/python /opt/data/software/summary-gwas-imputation/src/gwas_summary_imputation.py -by_region_file /opt/data/data/eur_ld.bed.gz -gwas_file /opt/data/projects/chronotype/results/harmonized_gwas/chronotype_raw_BOLT.output_HRC.only_plus.metrics_maf0.001_hwep1em12_info0.3.txt-harmonized.txt -parquet_genotype /opt/data/data/phenomexcan/ld_blocks/reference_panel_1000G/chr15.variants.parquet -parquet_genotype_metadata /opt/data/data/phenomexcan/ld_blocks/reference_panel_1000G/variant_metadata.parquet -window 100000 -parsimony 7 -chromosome 15 -regularization 0.1 -frequency_filter 0.01 -sub_batches 10 -sub_batch 0 --standardise_dosages -output /opt/data/projects/chronotype/results/imputed_gwas/chronotype_raw_BOLT.output_HRC.only_plus.metrics_maf0.001_hwep1em12_info0.3.txt-harmonized-imputed-chr15-batch0_10.txt\n",
      "+ set +x\n",
      "+ /opt/data/software/conda_envs/summary_gwas_imputation/bin/python /opt/data/software/summary-gwas-imputation/src/gwas_summary_imputation.py -by_region_file /opt/data/data/eur_ld.bed.gz -gwas_file /opt/data/projects/chronotype/results/harmonized_gwas/chronotype_raw_BOLT.output_HRC.only_plus.metrics_maf0.001_hwep1em12_info0.3.txt-harmonized.txt -parquet_genotype /opt/data/data/phenomexcan/ld_blocks/reference_panel_1000G/chr15.variants.parquet -parquet_genotype_metadata /opt/data/data/phenomexcan/ld_blocks/reference_panel_1000G/variant_metadata.parquet -window 100000 -parsimony 7 -chromosome 15 -regularization 0.1 -frequency_filter 0.01 -sub_batches 10 -sub_batch 1 --standardise_dosages -output /opt/data/projects/chronotype/results/imputed_gwas/chronotype_raw_BOLT.output_HRC.only_plus.metrics_maf0.001_hwep1em12_info0.3.txt-harmonized-imputed-chr15-batch1_10.txt\n",
      "+ set +x\n",
      "+ /opt/data/software/conda_envs/summary_gwas_imputation/bin/python /opt/data/software/summary-gwas-imputation/src/gwas_summary_imputation.py -by_region_file /opt/data/data/eur_ld.bed.gz -gwas_file /opt/data/projects/chronotype/results/harmonized_gwas/chronotype_raw_BOLT.output_HRC.only_plus.metrics_maf0.001_hwep1em12_info0.3.txt-harmonized.txt -parquet_genotype /opt/data/data/phenomexcan/ld_blocks/reference_panel_1000G/chr15.variants.parquet -parquet_genotype_metadata /opt/data/data/phenomexcan/ld_blocks/reference_panel_1000G/variant_metadata.parquet -window 100000 -parsimony 7 -chromosome 15 -regularization 0.1 -frequency_filter 0.01 -sub_batches 10 -sub_batch 2 --standardise_dosages -output /opt/data/projects/chronotype/results/imputed_gwas/chronotype_raw_BOLT.output_HRC.only_plus.metrics_maf0.001_hwep1em12_info0.3.txt-harmonized-imputed-chr15-batch2_10.txt\n",
      "+ set +x\n",
      "+ /opt/data/software/conda_envs/summary_gwas_imputation/bin/python /opt/data/software/summary-gwas-imputation/src/gwas_summary_imputation.py -by_region_file /opt/data/data/eur_ld.bed.gz -gwas_file /opt/data/projects/chronotype/results/harmonized_gwas/chronotype_raw_BOLT.output_HRC.only_plus.metrics_maf0.001_hwep1em12_info0.3.txt-harmonized.txt -parquet_genotype /opt/data/data/phenomexcan/ld_blocks/reference_panel_1000G/chr15.variants.parquet -parquet_genotype_metadata /opt/data/data/phenomexcan/ld_blocks/reference_panel_1000G/variant_metadata.parquet -window 100000 -parsimony 7 -chromosome 15 -regularization 0.1 -frequency_filter 0.01 -sub_batches 10 -sub_batch 3 --standardise_dosages -output /opt/data/projects/chronotype/results/imputed_gwas/chronotype_raw_BOLT.output_HRC.only_plus.metrics_maf0.001_hwep1em12_info0.3.txt-harmonized-imputed-chr15-batch3_10.txt\n",
      "+ set +x\n",
      "+ /opt/data/software/conda_envs/summary_gwas_imputation/bin/python /opt/data/software/summary-gwas-imputation/src/gwas_summary_imputation.py -by_region_file /opt/data/data/eur_ld.bed.gz -gwas_file /opt/data/projects/chronotype/results/harmonized_gwas/chronotype_raw_BOLT.output_HRC.only_plus.metrics_maf0.001_hwep1em12_info0.3.txt-harmonized.txt -parquet_genotype /opt/data/data/phenomexcan/ld_blocks/reference_panel_1000G/chr15.variants.parquet -parquet_genotype_metadata /opt/data/data/phenomexcan/ld_blocks/reference_panel_1000G/variant_metadata.parquet -window 100000 -parsimony 7 -chromosome 15 -regularization 0.1 -frequency_filter 0.01 -sub_batches 10 -sub_batch 4 --standardise_dosages -output /opt/data/projects/chronotype/results/imputed_gwas/chronotype_raw_BOLT.output_HRC.only_plus.metrics_maf0.001_hwep1em12_info0.3.txt-harmonized-imputed-chr15-batch4_10.txt\n",
      "+ set +x\n",
      "+ /opt/data/software/conda_envs/summary_gwas_imputation/bin/python /opt/data/software/summary-gwas-imputation/src/gwas_summary_imputation.py -by_region_file /opt/data/data/eur_ld.bed.gz -gwas_file /opt/data/projects/chronotype/results/harmonized_gwas/chronotype_raw_BOLT.output_HRC.only_plus.metrics_maf0.001_hwep1em12_info0.3.txt-harmonized.txt -parquet_genotype /opt/data/data/phenomexcan/ld_blocks/reference_panel_1000G/chr15.variants.parquet -parquet_genotype_metadata /opt/data/data/phenomexcan/ld_blocks/reference_panel_1000G/variant_metadata.parquet -window 100000 -parsimony 7 -chromosome 15 -regularization 0.1 -frequency_filter 0.01 -sub_batches 10 -sub_batch 5 --standardise_dosages -output /opt/data/projects/chronotype/results/imputed_gwas/chronotype_raw_BOLT.output_HRC.only_plus.metrics_maf0.001_hwep1em12_info0.3.txt-harmonized-imputed-chr15-batch5_10.txt\n",
      "+ set +x\n",
      "+ /opt/data/software/conda_envs/summary_gwas_imputation/bin/python /opt/data/software/summary-gwas-imputation/src/gwas_summary_imputation.py -by_region_file /opt/data/data/eur_ld.bed.gz -gwas_file /opt/data/projects/chronotype/results/harmonized_gwas/chronotype_raw_BOLT.output_HRC.only_plus.metrics_maf0.001_hwep1em12_info0.3.txt-harmonized.txt -parquet_genotype /opt/data/data/phenomexcan/ld_blocks/reference_panel_1000G/chr15.variants.parquet -parquet_genotype_metadata /opt/data/data/phenomexcan/ld_blocks/reference_panel_1000G/variant_metadata.parquet -window 100000 -parsimony 7 -chromosome 15 -regularization 0.1 -frequency_filter 0.01 -sub_batches 10 -sub_batch 6 --standardise_dosages -output /opt/data/projects/chronotype/results/imputed_gwas/chronotype_raw_BOLT.output_HRC.only_plus.metrics_maf0.001_hwep1em12_info0.3.txt-harmonized-imputed-chr15-batch6_10.txt\n",
      "+ set +x\n",
      "+ /opt/data/software/conda_envs/summary_gwas_imputation/bin/python /opt/data/software/summary-gwas-imputation/src/gwas_summary_imputation.py -by_region_file /opt/data/data/eur_ld.bed.gz -gwas_file /opt/data/projects/chronotype/results/harmonized_gwas/chronotype_raw_BOLT.output_HRC.only_plus.metrics_maf0.001_hwep1em12_info0.3.txt-harmonized.txt -parquet_genotype /opt/data/data/phenomexcan/ld_blocks/reference_panel_1000G/chr15.variants.parquet -parquet_genotype_metadata /opt/data/data/phenomexcan/ld_blocks/reference_panel_1000G/variant_metadata.parquet -window 100000 -parsimony 7 -chromosome 15 -regularization 0.1 -frequency_filter 0.01 -sub_batches 10 -sub_batch 7 --standardise_dosages -output /opt/data/projects/chronotype/results/imputed_gwas/chronotype_raw_BOLT.output_HRC.only_plus.metrics_maf0.001_hwep1em12_info0.3.txt-harmonized-imputed-chr15-batch7_10.txt\n"
     ]
    },
    {
     "name": "stdout",
     "output_type": "stream",
     "text": [
      "/opt/data/software/conda_envs/summary_gwas_imputation/lib/python3.7/site-packages/pyarrow/pandas_compat.py:752: FutureWarning: .labels was deprecated in version 0.24.0. Use .codes instead.\n",
      "\n"
     ]
    },
    {
     "name": "stderr",
     "output_type": "stream",
     "text": [
      "+ set +x\n",
      "+ /opt/data/software/conda_envs/summary_gwas_imputation/bin/python /opt/data/software/summary-gwas-imputation/src/gwas_summary_imputation.py -by_region_file /opt/data/data/eur_ld.bed.gz -gwas_file /opt/data/projects/chronotype/results/harmonized_gwas/chronotype_raw_BOLT.output_HRC.only_plus.metrics_maf0.001_hwep1em12_info0.3.txt-harmonized.txt -parquet_genotype /opt/data/data/phenomexcan/ld_blocks/reference_panel_1000G/chr15.variants.parquet -parquet_genotype_metadata /opt/data/data/phenomexcan/ld_blocks/reference_panel_1000G/variant_metadata.parquet -window 100000 -parsimony 7 -chromosome 15 -regularization 0.1 -frequency_filter 0.01 -sub_batches 10 -sub_batch 8 --standardise_dosages -output /opt/data/projects/chronotype/results/imputed_gwas/chronotype_raw_BOLT.output_HRC.only_plus.metrics_maf0.001_hwep1em12_info0.3.txt-harmonized-imputed-chr15-batch8_10.txt\n",
      "+ set +x\n"
     ]
    },
    {
     "name": "stdout",
     "output_type": "stream",
     "text": [
      "Running for chronotype, 15, 8\n",
      "Saving results in /opt/data/projects/chronotype/results/imputed_gwas\n",
      "/opt/data/software/conda_envs/summary_gwas_imputation/lib/python3.7/site-packages/pyarrow/pandas_compat.py:752: FutureWarning: .labels was deprecated in version 0.24.0. Use .codes instead.\n",
      "\n",
      "Running for chronotype, 15, 9\n",
      "Saving results in /opt/data/projects/chronotype/results/imputed_gwas\n",
      "/opt/data/software/conda_envs/summary_gwas_imputation/lib/python3.7/site-packages/pyarrow/pandas_compat.py:752: FutureWarning: .labels was deprecated in version 0.24.0. Use .codes instead.\n",
      "INFO - Error for region (15,95598367.0,97487680.0): LinAlgError('SVD did not converge')\n",
      "\n",
      "Running for chronotype, 16, 0\n",
      "Saving results in /opt/data/projects/chronotype/results/imputed_gwas\n",
      "/opt/data/software/conda_envs/summary_gwas_imputation/lib/python3.7/site-packages/pyarrow/pandas_compat.py:752: FutureWarning: .labels was deprecated in version 0.24.0. Use .codes instead.\n",
      "\n",
      "Running for chronotype, 16, 1\n",
      "Saving results in /opt/data/projects/chronotype/results/imputed_gwas\n",
      "/opt/data/software/conda_envs/summary_gwas_imputation/lib/python3.7/site-packages/pyarrow/pandas_compat.py:752: FutureWarning: .labels was deprecated in version 0.24.0. Use .codes instead.\n",
      "\n",
      "Running for chronotype, 16, 2\n",
      "Saving results in /opt/data/projects/chronotype/results/imputed_gwas\n",
      "/opt/data/software/conda_envs/summary_gwas_imputation/lib/python3.7/site-packages/pyarrow/pandas_compat.py:752: FutureWarning: .labels was deprecated in version 0.24.0. Use .codes instead.\n",
      "\n",
      "Running for chronotype, 16, 3\n",
      "Saving results in /opt/data/projects/chronotype/results/imputed_gwas\n",
      "/opt/data/software/conda_envs/summary_gwas_imputation/lib/python3.7/site-packages/pyarrow/pandas_compat.py:752: FutureWarning: .labels was deprecated in version 0.24.0. Use .codes instead.\n",
      "\n",
      "Running for chronotype, 16, 4\n",
      "Saving results in /opt/data/projects/chronotype/results/imputed_gwas\n"
     ]
    },
    {
     "name": "stderr",
     "output_type": "stream",
     "text": [
      "+ /opt/data/software/conda_envs/summary_gwas_imputation/bin/python /opt/data/software/summary-gwas-imputation/src/gwas_summary_imputation.py -by_region_file /opt/data/data/eur_ld.bed.gz -gwas_file /opt/data/projects/chronotype/results/harmonized_gwas/chronotype_raw_BOLT.output_HRC.only_plus.metrics_maf0.001_hwep1em12_info0.3.txt-harmonized.txt -parquet_genotype /opt/data/data/phenomexcan/ld_blocks/reference_panel_1000G/chr15.variants.parquet -parquet_genotype_metadata /opt/data/data/phenomexcan/ld_blocks/reference_panel_1000G/variant_metadata.parquet -window 100000 -parsimony 7 -chromosome 15 -regularization 0.1 -frequency_filter 0.01 -sub_batches 10 -sub_batch 9 --standardise_dosages -output /opt/data/projects/chronotype/results/imputed_gwas/chronotype_raw_BOLT.output_HRC.only_plus.metrics_maf0.001_hwep1em12_info0.3.txt-harmonized-imputed-chr15-batch9_10.txt\n",
      "+ set +x\n",
      "+ /opt/data/software/conda_envs/summary_gwas_imputation/bin/python /opt/data/software/summary-gwas-imputation/src/gwas_summary_imputation.py -by_region_file /opt/data/data/eur_ld.bed.gz -gwas_file /opt/data/projects/chronotype/results/harmonized_gwas/chronotype_raw_BOLT.output_HRC.only_plus.metrics_maf0.001_hwep1em12_info0.3.txt-harmonized.txt -parquet_genotype /opt/data/data/phenomexcan/ld_blocks/reference_panel_1000G/chr16.variants.parquet -parquet_genotype_metadata /opt/data/data/phenomexcan/ld_blocks/reference_panel_1000G/variant_metadata.parquet -window 100000 -parsimony 7 -chromosome 16 -regularization 0.1 -frequency_filter 0.01 -sub_batches 10 -sub_batch 0 --standardise_dosages -output /opt/data/projects/chronotype/results/imputed_gwas/chronotype_raw_BOLT.output_HRC.only_plus.metrics_maf0.001_hwep1em12_info0.3.txt-harmonized-imputed-chr16-batch0_10.txt\n",
      "+ set +x\n",
      "+ /opt/data/software/conda_envs/summary_gwas_imputation/bin/python /opt/data/software/summary-gwas-imputation/src/gwas_summary_imputation.py -by_region_file /opt/data/data/eur_ld.bed.gz -gwas_file /opt/data/projects/chronotype/results/harmonized_gwas/chronotype_raw_BOLT.output_HRC.only_plus.metrics_maf0.001_hwep1em12_info0.3.txt-harmonized.txt -parquet_genotype /opt/data/data/phenomexcan/ld_blocks/reference_panel_1000G/chr16.variants.parquet -parquet_genotype_metadata /opt/data/data/phenomexcan/ld_blocks/reference_panel_1000G/variant_metadata.parquet -window 100000 -parsimony 7 -chromosome 16 -regularization 0.1 -frequency_filter 0.01 -sub_batches 10 -sub_batch 1 --standardise_dosages -output /opt/data/projects/chronotype/results/imputed_gwas/chronotype_raw_BOLT.output_HRC.only_plus.metrics_maf0.001_hwep1em12_info0.3.txt-harmonized-imputed-chr16-batch1_10.txt\n",
      "+ set +x\n",
      "+ /opt/data/software/conda_envs/summary_gwas_imputation/bin/python /opt/data/software/summary-gwas-imputation/src/gwas_summary_imputation.py -by_region_file /opt/data/data/eur_ld.bed.gz -gwas_file /opt/data/projects/chronotype/results/harmonized_gwas/chronotype_raw_BOLT.output_HRC.only_plus.metrics_maf0.001_hwep1em12_info0.3.txt-harmonized.txt -parquet_genotype /opt/data/data/phenomexcan/ld_blocks/reference_panel_1000G/chr16.variants.parquet -parquet_genotype_metadata /opt/data/data/phenomexcan/ld_blocks/reference_panel_1000G/variant_metadata.parquet -window 100000 -parsimony 7 -chromosome 16 -regularization 0.1 -frequency_filter 0.01 -sub_batches 10 -sub_batch 2 --standardise_dosages -output /opt/data/projects/chronotype/results/imputed_gwas/chronotype_raw_BOLT.output_HRC.only_plus.metrics_maf0.001_hwep1em12_info0.3.txt-harmonized-imputed-chr16-batch2_10.txt\n",
      "+ set +x\n",
      "+ /opt/data/software/conda_envs/summary_gwas_imputation/bin/python /opt/data/software/summary-gwas-imputation/src/gwas_summary_imputation.py -by_region_file /opt/data/data/eur_ld.bed.gz -gwas_file /opt/data/projects/chronotype/results/harmonized_gwas/chronotype_raw_BOLT.output_HRC.only_plus.metrics_maf0.001_hwep1em12_info0.3.txt-harmonized.txt -parquet_genotype /opt/data/data/phenomexcan/ld_blocks/reference_panel_1000G/chr16.variants.parquet -parquet_genotype_metadata /opt/data/data/phenomexcan/ld_blocks/reference_panel_1000G/variant_metadata.parquet -window 100000 -parsimony 7 -chromosome 16 -regularization 0.1 -frequency_filter 0.01 -sub_batches 10 -sub_batch 3 --standardise_dosages -output /opt/data/projects/chronotype/results/imputed_gwas/chronotype_raw_BOLT.output_HRC.only_plus.metrics_maf0.001_hwep1em12_info0.3.txt-harmonized-imputed-chr16-batch3_10.txt\n",
      "+ set +x\n",
      "+ /opt/data/software/conda_envs/summary_gwas_imputation/bin/python /opt/data/software/summary-gwas-imputation/src/gwas_summary_imputation.py -by_region_file /opt/data/data/eur_ld.bed.gz -gwas_file /opt/data/projects/chronotype/results/harmonized_gwas/chronotype_raw_BOLT.output_HRC.only_plus.metrics_maf0.001_hwep1em12_info0.3.txt-harmonized.txt -parquet_genotype /opt/data/data/phenomexcan/ld_blocks/reference_panel_1000G/chr16.variants.parquet -parquet_genotype_metadata /opt/data/data/phenomexcan/ld_blocks/reference_panel_1000G/variant_metadata.parquet -window 100000 -parsimony 7 -chromosome 16 -regularization 0.1 -frequency_filter 0.01 -sub_batches 10 -sub_batch 4 --standardise_dosages -output /opt/data/projects/chronotype/results/imputed_gwas/chronotype_raw_BOLT.output_HRC.only_plus.metrics_maf0.001_hwep1em12_info0.3.txt-harmonized-imputed-chr16-batch4_10.txt\n",
      "+ set +x\n"
     ]
    },
    {
     "name": "stdout",
     "output_type": "stream",
     "text": [
      "/opt/data/software/conda_envs/summary_gwas_imputation/lib/python3.7/site-packages/pyarrow/pandas_compat.py:752: FutureWarning: .labels was deprecated in version 0.24.0. Use .codes instead.\n",
      "\n",
      "Running for chronotype, 16, 5\n",
      "Saving results in /opt/data/projects/chronotype/results/imputed_gwas\n",
      "/opt/data/software/conda_envs/summary_gwas_imputation/lib/python3.7/site-packages/pyarrow/pandas_compat.py:752: FutureWarning: .labels was deprecated in version 0.24.0. Use .codes instead.\n",
      "\n"
     ]
    },
    {
     "name": "stderr",
     "output_type": "stream",
     "text": [
      "+ /opt/data/software/conda_envs/summary_gwas_imputation/bin/python /opt/data/software/summary-gwas-imputation/src/gwas_summary_imputation.py -by_region_file /opt/data/data/eur_ld.bed.gz -gwas_file /opt/data/projects/chronotype/results/harmonized_gwas/chronotype_raw_BOLT.output_HRC.only_plus.metrics_maf0.001_hwep1em12_info0.3.txt-harmonized.txt -parquet_genotype /opt/data/data/phenomexcan/ld_blocks/reference_panel_1000G/chr16.variants.parquet -parquet_genotype_metadata /opt/data/data/phenomexcan/ld_blocks/reference_panel_1000G/variant_metadata.parquet -window 100000 -parsimony 7 -chromosome 16 -regularization 0.1 -frequency_filter 0.01 -sub_batches 10 -sub_batch 5 --standardise_dosages -output /opt/data/projects/chronotype/results/imputed_gwas/chronotype_raw_BOLT.output_HRC.only_plus.metrics_maf0.001_hwep1em12_info0.3.txt-harmonized-imputed-chr16-batch5_10.txt\n",
      "+ set +x\n"
     ]
    },
    {
     "name": "stdout",
     "output_type": "stream",
     "text": [
      "Running for chronotype, 16, 6\n",
      "Saving results in /opt/data/projects/chronotype/results/imputed_gwas\n",
      "/opt/data/software/conda_envs/summary_gwas_imputation/lib/python3.7/site-packages/pyarrow/pandas_compat.py:752: FutureWarning: .labels was deprecated in version 0.24.0. Use .codes instead.\n",
      "\n",
      "Running for chronotype, 16, 7\n",
      "Saving results in /opt/data/projects/chronotype/results/imputed_gwas\n",
      "/opt/data/software/conda_envs/summary_gwas_imputation/lib/python3.7/site-packages/pyarrow/pandas_compat.py:752: FutureWarning: .labels was deprecated in version 0.24.0. Use .codes instead.\n",
      "\n",
      "Running for chronotype, 16, 8\n",
      "Saving results in /opt/data/projects/chronotype/results/imputed_gwas\n",
      "/opt/data/software/conda_envs/summary_gwas_imputation/lib/python3.7/site-packages/pyarrow/pandas_compat.py:752: FutureWarning: .labels was deprecated in version 0.24.0. Use .codes instead.\n",
      "\n",
      "Running for chronotype, 16, 9\n",
      "Saving results in /opt/data/projects/chronotype/results/imputed_gwas\n",
      "/opt/data/software/conda_envs/summary_gwas_imputation/lib/python3.7/site-packages/pyarrow/pandas_compat.py:752: FutureWarning: .labels was deprecated in version 0.24.0. Use .codes instead.\n",
      "\n",
      "Running for chronotype, 17, 0\n",
      "Saving results in /opt/data/projects/chronotype/results/imputed_gwas\n",
      "/opt/data/software/conda_envs/summary_gwas_imputation/lib/python3.7/site-packages/pyarrow/pandas_compat.py:752: FutureWarning: .labels was deprecated in version 0.24.0. Use .codes instead.\n",
      "\n",
      "Running for chronotype, 17, 1\n",
      "Saving results in /opt/data/projects/chronotype/results/imputed_gwas\n",
      "/opt/data/software/conda_envs/summary_gwas_imputation/lib/python3.7/site-packages/pyarrow/pandas_compat.py:752: FutureWarning: .labels was deprecated in version 0.24.0. Use .codes instead.\n",
      "\n",
      "Running for chronotype, 17, 2\n",
      "Saving results in /opt/data/projects/chronotype/results/imputed_gwas\n",
      "/opt/data/software/conda_envs/summary_gwas_imputation/lib/python3.7/site-packages/pyarrow/pandas_compat.py:752: FutureWarning: .labels was deprecated in version 0.24.0. Use .codes instead.\n",
      "\n",
      "Running for chronotype, 17, 3\n",
      "Saving results in /opt/data/projects/chronotype/results/imputed_gwas\n",
      "/opt/data/software/conda_envs/summary_gwas_imputation/lib/python3.7/site-packages/pyarrow/pandas_compat.py:752: FutureWarning: .labels was deprecated in version 0.24.0. Use .codes instead.\n",
      "\n",
      "Running for chronotype, 17, 4\n",
      "Saving results in /opt/data/projects/chronotype/results/imputed_gwas\n",
      "/opt/data/software/conda_envs/summary_gwas_imputation/lib/python3.7/site-packages/pyarrow/pandas_compat.py:752: FutureWarning: .labels was deprecated in version 0.24.0. Use .codes instead.\n",
      "\n",
      "Running for chronotype, 17, 5\n",
      "Saving results in /opt/data/projects/chronotype/results/imputed_gwas\n",
      "/opt/data/software/conda_envs/summary_gwas_imputation/lib/python3.7/site-packages/pyarrow/pandas_compat.py:752: FutureWarning: .labels was deprecated in version 0.24.0. Use .codes instead.\n",
      "\n",
      "Running for chronotype, 17, 6\n",
      "Saving results in /opt/data/projects/chronotype/results/imputed_gwas\n",
      "/opt/data/software/conda_envs/summary_gwas_imputation/lib/python3.7/site-packages/pyarrow/pandas_compat.py:752: FutureWarning: .labels was deprecated in version 0.24.0. Use .codes instead.\n",
      "\n",
      "Running for chronotype, 17, 7\n",
      "Saving results in /opt/data/projects/chronotype/results/imputed_gwas\n"
     ]
    },
    {
     "name": "stderr",
     "output_type": "stream",
     "text": [
      "+ /opt/data/software/conda_envs/summary_gwas_imputation/bin/python /opt/data/software/summary-gwas-imputation/src/gwas_summary_imputation.py -by_region_file /opt/data/data/eur_ld.bed.gz -gwas_file /opt/data/projects/chronotype/results/harmonized_gwas/chronotype_raw_BOLT.output_HRC.only_plus.metrics_maf0.001_hwep1em12_info0.3.txt-harmonized.txt -parquet_genotype /opt/data/data/phenomexcan/ld_blocks/reference_panel_1000G/chr16.variants.parquet -parquet_genotype_metadata /opt/data/data/phenomexcan/ld_blocks/reference_panel_1000G/variant_metadata.parquet -window 100000 -parsimony 7 -chromosome 16 -regularization 0.1 -frequency_filter 0.01 -sub_batches 10 -sub_batch 6 --standardise_dosages -output /opt/data/projects/chronotype/results/imputed_gwas/chronotype_raw_BOLT.output_HRC.only_plus.metrics_maf0.001_hwep1em12_info0.3.txt-harmonized-imputed-chr16-batch6_10.txt\n",
      "+ set +x\n",
      "+ /opt/data/software/conda_envs/summary_gwas_imputation/bin/python /opt/data/software/summary-gwas-imputation/src/gwas_summary_imputation.py -by_region_file /opt/data/data/eur_ld.bed.gz -gwas_file /opt/data/projects/chronotype/results/harmonized_gwas/chronotype_raw_BOLT.output_HRC.only_plus.metrics_maf0.001_hwep1em12_info0.3.txt-harmonized.txt -parquet_genotype /opt/data/data/phenomexcan/ld_blocks/reference_panel_1000G/chr16.variants.parquet -parquet_genotype_metadata /opt/data/data/phenomexcan/ld_blocks/reference_panel_1000G/variant_metadata.parquet -window 100000 -parsimony 7 -chromosome 16 -regularization 0.1 -frequency_filter 0.01 -sub_batches 10 -sub_batch 7 --standardise_dosages -output /opt/data/projects/chronotype/results/imputed_gwas/chronotype_raw_BOLT.output_HRC.only_plus.metrics_maf0.001_hwep1em12_info0.3.txt-harmonized-imputed-chr16-batch7_10.txt\n",
      "+ set +x\n",
      "+ /opt/data/software/conda_envs/summary_gwas_imputation/bin/python /opt/data/software/summary-gwas-imputation/src/gwas_summary_imputation.py -by_region_file /opt/data/data/eur_ld.bed.gz -gwas_file /opt/data/projects/chronotype/results/harmonized_gwas/chronotype_raw_BOLT.output_HRC.only_plus.metrics_maf0.001_hwep1em12_info0.3.txt-harmonized.txt -parquet_genotype /opt/data/data/phenomexcan/ld_blocks/reference_panel_1000G/chr16.variants.parquet -parquet_genotype_metadata /opt/data/data/phenomexcan/ld_blocks/reference_panel_1000G/variant_metadata.parquet -window 100000 -parsimony 7 -chromosome 16 -regularization 0.1 -frequency_filter 0.01 -sub_batches 10 -sub_batch 8 --standardise_dosages -output /opt/data/projects/chronotype/results/imputed_gwas/chronotype_raw_BOLT.output_HRC.only_plus.metrics_maf0.001_hwep1em12_info0.3.txt-harmonized-imputed-chr16-batch8_10.txt\n",
      "+ set +x\n",
      "+ /opt/data/software/conda_envs/summary_gwas_imputation/bin/python /opt/data/software/summary-gwas-imputation/src/gwas_summary_imputation.py -by_region_file /opt/data/data/eur_ld.bed.gz -gwas_file /opt/data/projects/chronotype/results/harmonized_gwas/chronotype_raw_BOLT.output_HRC.only_plus.metrics_maf0.001_hwep1em12_info0.3.txt-harmonized.txt -parquet_genotype /opt/data/data/phenomexcan/ld_blocks/reference_panel_1000G/chr16.variants.parquet -parquet_genotype_metadata /opt/data/data/phenomexcan/ld_blocks/reference_panel_1000G/variant_metadata.parquet -window 100000 -parsimony 7 -chromosome 16 -regularization 0.1 -frequency_filter 0.01 -sub_batches 10 -sub_batch 9 --standardise_dosages -output /opt/data/projects/chronotype/results/imputed_gwas/chronotype_raw_BOLT.output_HRC.only_plus.metrics_maf0.001_hwep1em12_info0.3.txt-harmonized-imputed-chr16-batch9_10.txt\n",
      "+ set +x\n",
      "+ /opt/data/software/conda_envs/summary_gwas_imputation/bin/python /opt/data/software/summary-gwas-imputation/src/gwas_summary_imputation.py -by_region_file /opt/data/data/eur_ld.bed.gz -gwas_file /opt/data/projects/chronotype/results/harmonized_gwas/chronotype_raw_BOLT.output_HRC.only_plus.metrics_maf0.001_hwep1em12_info0.3.txt-harmonized.txt -parquet_genotype /opt/data/data/phenomexcan/ld_blocks/reference_panel_1000G/chr17.variants.parquet -parquet_genotype_metadata /opt/data/data/phenomexcan/ld_blocks/reference_panel_1000G/variant_metadata.parquet -window 100000 -parsimony 7 -chromosome 17 -regularization 0.1 -frequency_filter 0.01 -sub_batches 10 -sub_batch 0 --standardise_dosages -output /opt/data/projects/chronotype/results/imputed_gwas/chronotype_raw_BOLT.output_HRC.only_plus.metrics_maf0.001_hwep1em12_info0.3.txt-harmonized-imputed-chr17-batch0_10.txt\n",
      "+ set +x\n",
      "+ /opt/data/software/conda_envs/summary_gwas_imputation/bin/python /opt/data/software/summary-gwas-imputation/src/gwas_summary_imputation.py -by_region_file /opt/data/data/eur_ld.bed.gz -gwas_file /opt/data/projects/chronotype/results/harmonized_gwas/chronotype_raw_BOLT.output_HRC.only_plus.metrics_maf0.001_hwep1em12_info0.3.txt-harmonized.txt -parquet_genotype /opt/data/data/phenomexcan/ld_blocks/reference_panel_1000G/chr17.variants.parquet -parquet_genotype_metadata /opt/data/data/phenomexcan/ld_blocks/reference_panel_1000G/variant_metadata.parquet -window 100000 -parsimony 7 -chromosome 17 -regularization 0.1 -frequency_filter 0.01 -sub_batches 10 -sub_batch 1 --standardise_dosages -output /opt/data/projects/chronotype/results/imputed_gwas/chronotype_raw_BOLT.output_HRC.only_plus.metrics_maf0.001_hwep1em12_info0.3.txt-harmonized-imputed-chr17-batch1_10.txt\n",
      "+ set +x\n",
      "+ /opt/data/software/conda_envs/summary_gwas_imputation/bin/python /opt/data/software/summary-gwas-imputation/src/gwas_summary_imputation.py -by_region_file /opt/data/data/eur_ld.bed.gz -gwas_file /opt/data/projects/chronotype/results/harmonized_gwas/chronotype_raw_BOLT.output_HRC.only_plus.metrics_maf0.001_hwep1em12_info0.3.txt-harmonized.txt -parquet_genotype /opt/data/data/phenomexcan/ld_blocks/reference_panel_1000G/chr17.variants.parquet -parquet_genotype_metadata /opt/data/data/phenomexcan/ld_blocks/reference_panel_1000G/variant_metadata.parquet -window 100000 -parsimony 7 -chromosome 17 -regularization 0.1 -frequency_filter 0.01 -sub_batches 10 -sub_batch 2 --standardise_dosages -output /opt/data/projects/chronotype/results/imputed_gwas/chronotype_raw_BOLT.output_HRC.only_plus.metrics_maf0.001_hwep1em12_info0.3.txt-harmonized-imputed-chr17-batch2_10.txt\n",
      "+ set +x\n",
      "+ /opt/data/software/conda_envs/summary_gwas_imputation/bin/python /opt/data/software/summary-gwas-imputation/src/gwas_summary_imputation.py -by_region_file /opt/data/data/eur_ld.bed.gz -gwas_file /opt/data/projects/chronotype/results/harmonized_gwas/chronotype_raw_BOLT.output_HRC.only_plus.metrics_maf0.001_hwep1em12_info0.3.txt-harmonized.txt -parquet_genotype /opt/data/data/phenomexcan/ld_blocks/reference_panel_1000G/chr17.variants.parquet -parquet_genotype_metadata /opt/data/data/phenomexcan/ld_blocks/reference_panel_1000G/variant_metadata.parquet -window 100000 -parsimony 7 -chromosome 17 -regularization 0.1 -frequency_filter 0.01 -sub_batches 10 -sub_batch 3 --standardise_dosages -output /opt/data/projects/chronotype/results/imputed_gwas/chronotype_raw_BOLT.output_HRC.only_plus.metrics_maf0.001_hwep1em12_info0.3.txt-harmonized-imputed-chr17-batch3_10.txt\n",
      "+ set +x\n",
      "+ /opt/data/software/conda_envs/summary_gwas_imputation/bin/python /opt/data/software/summary-gwas-imputation/src/gwas_summary_imputation.py -by_region_file /opt/data/data/eur_ld.bed.gz -gwas_file /opt/data/projects/chronotype/results/harmonized_gwas/chronotype_raw_BOLT.output_HRC.only_plus.metrics_maf0.001_hwep1em12_info0.3.txt-harmonized.txt -parquet_genotype /opt/data/data/phenomexcan/ld_blocks/reference_panel_1000G/chr17.variants.parquet -parquet_genotype_metadata /opt/data/data/phenomexcan/ld_blocks/reference_panel_1000G/variant_metadata.parquet -window 100000 -parsimony 7 -chromosome 17 -regularization 0.1 -frequency_filter 0.01 -sub_batches 10 -sub_batch 4 --standardise_dosages -output /opt/data/projects/chronotype/results/imputed_gwas/chronotype_raw_BOLT.output_HRC.only_plus.metrics_maf0.001_hwep1em12_info0.3.txt-harmonized-imputed-chr17-batch4_10.txt\n",
      "+ set +x\n",
      "+ /opt/data/software/conda_envs/summary_gwas_imputation/bin/python /opt/data/software/summary-gwas-imputation/src/gwas_summary_imputation.py -by_region_file /opt/data/data/eur_ld.bed.gz -gwas_file /opt/data/projects/chronotype/results/harmonized_gwas/chronotype_raw_BOLT.output_HRC.only_plus.metrics_maf0.001_hwep1em12_info0.3.txt-harmonized.txt -parquet_genotype /opt/data/data/phenomexcan/ld_blocks/reference_panel_1000G/chr17.variants.parquet -parquet_genotype_metadata /opt/data/data/phenomexcan/ld_blocks/reference_panel_1000G/variant_metadata.parquet -window 100000 -parsimony 7 -chromosome 17 -regularization 0.1 -frequency_filter 0.01 -sub_batches 10 -sub_batch 5 --standardise_dosages -output /opt/data/projects/chronotype/results/imputed_gwas/chronotype_raw_BOLT.output_HRC.only_plus.metrics_maf0.001_hwep1em12_info0.3.txt-harmonized-imputed-chr17-batch5_10.txt\n",
      "+ set +x\n",
      "+ /opt/data/software/conda_envs/summary_gwas_imputation/bin/python /opt/data/software/summary-gwas-imputation/src/gwas_summary_imputation.py -by_region_file /opt/data/data/eur_ld.bed.gz -gwas_file /opt/data/projects/chronotype/results/harmonized_gwas/chronotype_raw_BOLT.output_HRC.only_plus.metrics_maf0.001_hwep1em12_info0.3.txt-harmonized.txt -parquet_genotype /opt/data/data/phenomexcan/ld_blocks/reference_panel_1000G/chr17.variants.parquet -parquet_genotype_metadata /opt/data/data/phenomexcan/ld_blocks/reference_panel_1000G/variant_metadata.parquet -window 100000 -parsimony 7 -chromosome 17 -regularization 0.1 -frequency_filter 0.01 -sub_batches 10 -sub_batch 6 --standardise_dosages -output /opt/data/projects/chronotype/results/imputed_gwas/chronotype_raw_BOLT.output_HRC.only_plus.metrics_maf0.001_hwep1em12_info0.3.txt-harmonized-imputed-chr17-batch6_10.txt\n",
      "+ set +x\n",
      "+ /opt/data/software/conda_envs/summary_gwas_imputation/bin/python /opt/data/software/summary-gwas-imputation/src/gwas_summary_imputation.py -by_region_file /opt/data/data/eur_ld.bed.gz -gwas_file /opt/data/projects/chronotype/results/harmonized_gwas/chronotype_raw_BOLT.output_HRC.only_plus.metrics_maf0.001_hwep1em12_info0.3.txt-harmonized.txt -parquet_genotype /opt/data/data/phenomexcan/ld_blocks/reference_panel_1000G/chr17.variants.parquet -parquet_genotype_metadata /opt/data/data/phenomexcan/ld_blocks/reference_panel_1000G/variant_metadata.parquet -window 100000 -parsimony 7 -chromosome 17 -regularization 0.1 -frequency_filter 0.01 -sub_batches 10 -sub_batch 7 --standardise_dosages -output /opt/data/projects/chronotype/results/imputed_gwas/chronotype_raw_BOLT.output_HRC.only_plus.metrics_maf0.001_hwep1em12_info0.3.txt-harmonized-imputed-chr17-batch7_10.txt\n"
     ]
    },
    {
     "name": "stdout",
     "output_type": "stream",
     "text": [
      "/opt/data/software/conda_envs/summary_gwas_imputation/lib/python3.7/site-packages/pyarrow/pandas_compat.py:752: FutureWarning: .labels was deprecated in version 0.24.0. Use .codes instead.\n",
      "\n"
     ]
    },
    {
     "name": "stderr",
     "output_type": "stream",
     "text": [
      "+ set +x\n"
     ]
    },
    {
     "name": "stdout",
     "output_type": "stream",
     "text": [
      "Running for chronotype, 17, 8\n",
      "Saving results in /opt/data/projects/chronotype/results/imputed_gwas\n"
     ]
    },
    {
     "name": "stderr",
     "output_type": "stream",
     "text": [
      "+ /opt/data/software/conda_envs/summary_gwas_imputation/bin/python /opt/data/software/summary-gwas-imputation/src/gwas_summary_imputation.py -by_region_file /opt/data/data/eur_ld.bed.gz -gwas_file /opt/data/projects/chronotype/results/harmonized_gwas/chronotype_raw_BOLT.output_HRC.only_plus.metrics_maf0.001_hwep1em12_info0.3.txt-harmonized.txt -parquet_genotype /opt/data/data/phenomexcan/ld_blocks/reference_panel_1000G/chr17.variants.parquet -parquet_genotype_metadata /opt/data/data/phenomexcan/ld_blocks/reference_panel_1000G/variant_metadata.parquet -window 100000 -parsimony 7 -chromosome 17 -regularization 0.1 -frequency_filter 0.01 -sub_batches 10 -sub_batch 8 --standardise_dosages -output /opt/data/projects/chronotype/results/imputed_gwas/chronotype_raw_BOLT.output_HRC.only_plus.metrics_maf0.001_hwep1em12_info0.3.txt-harmonized-imputed-chr17-batch8_10.txt\n"
     ]
    },
    {
     "name": "stdout",
     "output_type": "stream",
     "text": [
      "/opt/data/software/conda_envs/summary_gwas_imputation/lib/python3.7/site-packages/pyarrow/pandas_compat.py:752: FutureWarning: .labels was deprecated in version 0.24.0. Use .codes instead.\n",
      "\n"
     ]
    },
    {
     "name": "stderr",
     "output_type": "stream",
     "text": [
      "+ set +x\n"
     ]
    },
    {
     "name": "stdout",
     "output_type": "stream",
     "text": [
      "Running for chronotype, 17, 9\n",
      "Saving results in /opt/data/projects/chronotype/results/imputed_gwas\n",
      "/opt/data/software/conda_envs/summary_gwas_imputation/lib/python3.7/site-packages/pyarrow/pandas_compat.py:752: FutureWarning: .labels was deprecated in version 0.24.0. Use .codes instead.\n",
      "\n"
     ]
    },
    {
     "name": "stderr",
     "output_type": "stream",
     "text": [
      "+ /opt/data/software/conda_envs/summary_gwas_imputation/bin/python /opt/data/software/summary-gwas-imputation/src/gwas_summary_imputation.py -by_region_file /opt/data/data/eur_ld.bed.gz -gwas_file /opt/data/projects/chronotype/results/harmonized_gwas/chronotype_raw_BOLT.output_HRC.only_plus.metrics_maf0.001_hwep1em12_info0.3.txt-harmonized.txt -parquet_genotype /opt/data/data/phenomexcan/ld_blocks/reference_panel_1000G/chr17.variants.parquet -parquet_genotype_metadata /opt/data/data/phenomexcan/ld_blocks/reference_panel_1000G/variant_metadata.parquet -window 100000 -parsimony 7 -chromosome 17 -regularization 0.1 -frequency_filter 0.01 -sub_batches 10 -sub_batch 9 --standardise_dosages -output /opt/data/projects/chronotype/results/imputed_gwas/chronotype_raw_BOLT.output_HRC.only_plus.metrics_maf0.001_hwep1em12_info0.3.txt-harmonized-imputed-chr17-batch9_10.txt\n",
      "+ set +x\n",
      "+ /opt/data/software/conda_envs/summary_gwas_imputation/bin/python /opt/data/software/summary-gwas-imputation/src/gwas_summary_imputation.py -by_region_file /opt/data/data/eur_ld.bed.gz -gwas_file /opt/data/projects/chronotype/results/harmonized_gwas/chronotype_raw_BOLT.output_HRC.only_plus.metrics_maf0.001_hwep1em12_info0.3.txt-harmonized.txt -parquet_genotype /opt/data/data/phenomexcan/ld_blocks/reference_panel_1000G/chr18.variants.parquet -parquet_genotype_metadata /opt/data/data/phenomexcan/ld_blocks/reference_panel_1000G/variant_metadata.parquet -window 100000 -parsimony 7 -chromosome 18 -regularization 0.1 -frequency_filter 0.01 -sub_batches 10 -sub_batch 0 --standardise_dosages -output /opt/data/projects/chronotype/results/imputed_gwas/chronotype_raw_BOLT.output_HRC.only_plus.metrics_maf0.001_hwep1em12_info0.3.txt-harmonized-imputed-chr18-batch0_10.txt\n",
      "+ set +x\n",
      "+ /opt/data/software/conda_envs/summary_gwas_imputation/bin/python /opt/data/software/summary-gwas-imputation/src/gwas_summary_imputation.py -by_region_file /opt/data/data/eur_ld.bed.gz -gwas_file /opt/data/projects/chronotype/results/harmonized_gwas/chronotype_raw_BOLT.output_HRC.only_plus.metrics_maf0.001_hwep1em12_info0.3.txt-harmonized.txt -parquet_genotype /opt/data/data/phenomexcan/ld_blocks/reference_panel_1000G/chr18.variants.parquet -parquet_genotype_metadata /opt/data/data/phenomexcan/ld_blocks/reference_panel_1000G/variant_metadata.parquet -window 100000 -parsimony 7 -chromosome 18 -regularization 0.1 -frequency_filter 0.01 -sub_batches 10 -sub_batch 1 --standardise_dosages -output /opt/data/projects/chronotype/results/imputed_gwas/chronotype_raw_BOLT.output_HRC.only_plus.metrics_maf0.001_hwep1em12_info0.3.txt-harmonized-imputed-chr18-batch1_10.txt\n",
      "+ set +x\n",
      "+ /opt/data/software/conda_envs/summary_gwas_imputation/bin/python /opt/data/software/summary-gwas-imputation/src/gwas_summary_imputation.py -by_region_file /opt/data/data/eur_ld.bed.gz -gwas_file /opt/data/projects/chronotype/results/harmonized_gwas/chronotype_raw_BOLT.output_HRC.only_plus.metrics_maf0.001_hwep1em12_info0.3.txt-harmonized.txt -parquet_genotype /opt/data/data/phenomexcan/ld_blocks/reference_panel_1000G/chr18.variants.parquet -parquet_genotype_metadata /opt/data/data/phenomexcan/ld_blocks/reference_panel_1000G/variant_metadata.parquet -window 100000 -parsimony 7 -chromosome 18 -regularization 0.1 -frequency_filter 0.01 -sub_batches 10 -sub_batch 2 --standardise_dosages -output /opt/data/projects/chronotype/results/imputed_gwas/chronotype_raw_BOLT.output_HRC.only_plus.metrics_maf0.001_hwep1em12_info0.3.txt-harmonized-imputed-chr18-batch2_10.txt\n",
      "+ set +x\n",
      "+ /opt/data/software/conda_envs/summary_gwas_imputation/bin/python /opt/data/software/summary-gwas-imputation/src/gwas_summary_imputation.py -by_region_file /opt/data/data/eur_ld.bed.gz -gwas_file /opt/data/projects/chronotype/results/harmonized_gwas/chronotype_raw_BOLT.output_HRC.only_plus.metrics_maf0.001_hwep1em12_info0.3.txt-harmonized.txt -parquet_genotype /opt/data/data/phenomexcan/ld_blocks/reference_panel_1000G/chr18.variants.parquet -parquet_genotype_metadata /opt/data/data/phenomexcan/ld_blocks/reference_panel_1000G/variant_metadata.parquet -window 100000 -parsimony 7 -chromosome 18 -regularization 0.1 -frequency_filter 0.01 -sub_batches 10 -sub_batch 3 --standardise_dosages -output /opt/data/projects/chronotype/results/imputed_gwas/chronotype_raw_BOLT.output_HRC.only_plus.metrics_maf0.001_hwep1em12_info0.3.txt-harmonized-imputed-chr18-batch3_10.txt\n",
      "+ set +x\n",
      "+ /opt/data/software/conda_envs/summary_gwas_imputation/bin/python /opt/data/software/summary-gwas-imputation/src/gwas_summary_imputation.py -by_region_file /opt/data/data/eur_ld.bed.gz -gwas_file /opt/data/projects/chronotype/results/harmonized_gwas/chronotype_raw_BOLT.output_HRC.only_plus.metrics_maf0.001_hwep1em12_info0.3.txt-harmonized.txt -parquet_genotype /opt/data/data/phenomexcan/ld_blocks/reference_panel_1000G/chr18.variants.parquet -parquet_genotype_metadata /opt/data/data/phenomexcan/ld_blocks/reference_panel_1000G/variant_metadata.parquet -window 100000 -parsimony 7 -chromosome 18 -regularization 0.1 -frequency_filter 0.01 -sub_batches 10 -sub_batch 4 --standardise_dosages -output /opt/data/projects/chronotype/results/imputed_gwas/chronotype_raw_BOLT.output_HRC.only_plus.metrics_maf0.001_hwep1em12_info0.3.txt-harmonized-imputed-chr18-batch4_10.txt\n",
      "+ set +x\n"
     ]
    },
    {
     "name": "stdout",
     "output_type": "stream",
     "text": [
      "Running for chronotype, 18, 0\n",
      "Saving results in /opt/data/projects/chronotype/results/imputed_gwas\n",
      "/opt/data/software/conda_envs/summary_gwas_imputation/lib/python3.7/site-packages/pyarrow/pandas_compat.py:752: FutureWarning: .labels was deprecated in version 0.24.0. Use .codes instead.\n",
      "\n",
      "Running for chronotype, 18, 1\n",
      "Saving results in /opt/data/projects/chronotype/results/imputed_gwas\n",
      "/opt/data/software/conda_envs/summary_gwas_imputation/lib/python3.7/site-packages/pyarrow/pandas_compat.py:752: FutureWarning: .labels was deprecated in version 0.24.0. Use .codes instead.\n",
      "INFO - Error for region (18,7090486.0,8498933.0): LinAlgError('SVD did not converge')\n",
      "\n",
      "Running for chronotype, 18, 2\n",
      "Saving results in /opt/data/projects/chronotype/results/imputed_gwas\n",
      "/opt/data/software/conda_envs/summary_gwas_imputation/lib/python3.7/site-packages/pyarrow/pandas_compat.py:752: FutureWarning: .labels was deprecated in version 0.24.0. Use .codes instead.\n",
      "\n",
      "Running for chronotype, 18, 3\n",
      "Saving results in /opt/data/projects/chronotype/results/imputed_gwas\n",
      "/opt/data/software/conda_envs/summary_gwas_imputation/lib/python3.7/site-packages/pyarrow/pandas_compat.py:752: FutureWarning: .labels was deprecated in version 0.24.0. Use .codes instead.\n",
      "\n",
      "Running for chronotype, 18, 4\n",
      "Saving results in /opt/data/projects/chronotype/results/imputed_gwas\n",
      "/opt/data/software/conda_envs/summary_gwas_imputation/lib/python3.7/site-packages/pyarrow/pandas_compat.py:752: FutureWarning: .labels was deprecated in version 0.24.0. Use .codes instead.\n",
      "\n",
      "Running for chronotype, 18, 5\n",
      "Saving results in /opt/data/projects/chronotype/results/imputed_gwas\n"
     ]
    },
    {
     "name": "stderr",
     "output_type": "stream",
     "text": [
      "+ /opt/data/software/conda_envs/summary_gwas_imputation/bin/python /opt/data/software/summary-gwas-imputation/src/gwas_summary_imputation.py -by_region_file /opt/data/data/eur_ld.bed.gz -gwas_file /opt/data/projects/chronotype/results/harmonized_gwas/chronotype_raw_BOLT.output_HRC.only_plus.metrics_maf0.001_hwep1em12_info0.3.txt-harmonized.txt -parquet_genotype /opt/data/data/phenomexcan/ld_blocks/reference_panel_1000G/chr18.variants.parquet -parquet_genotype_metadata /opt/data/data/phenomexcan/ld_blocks/reference_panel_1000G/variant_metadata.parquet -window 100000 -parsimony 7 -chromosome 18 -regularization 0.1 -frequency_filter 0.01 -sub_batches 10 -sub_batch 5 --standardise_dosages -output /opt/data/projects/chronotype/results/imputed_gwas/chronotype_raw_BOLT.output_HRC.only_plus.metrics_maf0.001_hwep1em12_info0.3.txt-harmonized-imputed-chr18-batch5_10.txt\n"
     ]
    },
    {
     "name": "stdout",
     "output_type": "stream",
     "text": [
      "/opt/data/software/conda_envs/summary_gwas_imputation/lib/python3.7/site-packages/pyarrow/pandas_compat.py:752: FutureWarning: .labels was deprecated in version 0.24.0. Use .codes instead.\n",
      "\n"
     ]
    },
    {
     "name": "stderr",
     "output_type": "stream",
     "text": [
      "+ set +x\n"
     ]
    },
    {
     "name": "stdout",
     "output_type": "stream",
     "text": [
      "Running for chronotype, 18, 6\n",
      "Saving results in /opt/data/projects/chronotype/results/imputed_gwas\n",
      "/opt/data/software/conda_envs/summary_gwas_imputation/lib/python3.7/site-packages/pyarrow/pandas_compat.py:752: FutureWarning: .labels was deprecated in version 0.24.0. Use .codes instead.\n",
      "\n",
      "Running for chronotype, 18, 7\n",
      "Saving results in /opt/data/projects/chronotype/results/imputed_gwas\n",
      "/opt/data/software/conda_envs/summary_gwas_imputation/lib/python3.7/site-packages/pyarrow/pandas_compat.py:752: FutureWarning: .labels was deprecated in version 0.24.0. Use .codes instead.\n",
      "\n",
      "Running for chronotype, 18, 8\n",
      "Saving results in /opt/data/projects/chronotype/results/imputed_gwas\n",
      "/opt/data/software/conda_envs/summary_gwas_imputation/lib/python3.7/site-packages/pyarrow/pandas_compat.py:752: FutureWarning: .labels was deprecated in version 0.24.0. Use .codes instead.\n",
      "\n",
      "Running for chronotype, 18, 9\n",
      "Saving results in /opt/data/projects/chronotype/results/imputed_gwas\n",
      "/opt/data/software/conda_envs/summary_gwas_imputation/lib/python3.7/site-packages/pyarrow/pandas_compat.py:752: FutureWarning: .labels was deprecated in version 0.24.0. Use .codes instead.\n",
      "\n",
      "Running for chronotype, 19, 0\n",
      "Saving results in /opt/data/projects/chronotype/results/imputed_gwas\n",
      "/opt/data/software/conda_envs/summary_gwas_imputation/lib/python3.7/site-packages/pyarrow/pandas_compat.py:752: FutureWarning: .labels was deprecated in version 0.24.0. Use .codes instead.\n",
      "INFO - Error for region (19,610729.0,2098397.0): LinAlgError('SVD did not converge')\n",
      "\n"
     ]
    },
    {
     "name": "stderr",
     "output_type": "stream",
     "text": [
      "+ /opt/data/software/conda_envs/summary_gwas_imputation/bin/python /opt/data/software/summary-gwas-imputation/src/gwas_summary_imputation.py -by_region_file /opt/data/data/eur_ld.bed.gz -gwas_file /opt/data/projects/chronotype/results/harmonized_gwas/chronotype_raw_BOLT.output_HRC.only_plus.metrics_maf0.001_hwep1em12_info0.3.txt-harmonized.txt -parquet_genotype /opt/data/data/phenomexcan/ld_blocks/reference_panel_1000G/chr18.variants.parquet -parquet_genotype_metadata /opt/data/data/phenomexcan/ld_blocks/reference_panel_1000G/variant_metadata.parquet -window 100000 -parsimony 7 -chromosome 18 -regularization 0.1 -frequency_filter 0.01 -sub_batches 10 -sub_batch 6 --standardise_dosages -output /opt/data/projects/chronotype/results/imputed_gwas/chronotype_raw_BOLT.output_HRC.only_plus.metrics_maf0.001_hwep1em12_info0.3.txt-harmonized-imputed-chr18-batch6_10.txt\n",
      "+ set +x\n",
      "+ /opt/data/software/conda_envs/summary_gwas_imputation/bin/python /opt/data/software/summary-gwas-imputation/src/gwas_summary_imputation.py -by_region_file /opt/data/data/eur_ld.bed.gz -gwas_file /opt/data/projects/chronotype/results/harmonized_gwas/chronotype_raw_BOLT.output_HRC.only_plus.metrics_maf0.001_hwep1em12_info0.3.txt-harmonized.txt -parquet_genotype /opt/data/data/phenomexcan/ld_blocks/reference_panel_1000G/chr18.variants.parquet -parquet_genotype_metadata /opt/data/data/phenomexcan/ld_blocks/reference_panel_1000G/variant_metadata.parquet -window 100000 -parsimony 7 -chromosome 18 -regularization 0.1 -frequency_filter 0.01 -sub_batches 10 -sub_batch 7 --standardise_dosages -output /opt/data/projects/chronotype/results/imputed_gwas/chronotype_raw_BOLT.output_HRC.only_plus.metrics_maf0.001_hwep1em12_info0.3.txt-harmonized-imputed-chr18-batch7_10.txt\n",
      "+ set +x\n",
      "+ /opt/data/software/conda_envs/summary_gwas_imputation/bin/python /opt/data/software/summary-gwas-imputation/src/gwas_summary_imputation.py -by_region_file /opt/data/data/eur_ld.bed.gz -gwas_file /opt/data/projects/chronotype/results/harmonized_gwas/chronotype_raw_BOLT.output_HRC.only_plus.metrics_maf0.001_hwep1em12_info0.3.txt-harmonized.txt -parquet_genotype /opt/data/data/phenomexcan/ld_blocks/reference_panel_1000G/chr18.variants.parquet -parquet_genotype_metadata /opt/data/data/phenomexcan/ld_blocks/reference_panel_1000G/variant_metadata.parquet -window 100000 -parsimony 7 -chromosome 18 -regularization 0.1 -frequency_filter 0.01 -sub_batches 10 -sub_batch 8 --standardise_dosages -output /opt/data/projects/chronotype/results/imputed_gwas/chronotype_raw_BOLT.output_HRC.only_plus.metrics_maf0.001_hwep1em12_info0.3.txt-harmonized-imputed-chr18-batch8_10.txt\n",
      "+ set +x\n",
      "+ /opt/data/software/conda_envs/summary_gwas_imputation/bin/python /opt/data/software/summary-gwas-imputation/src/gwas_summary_imputation.py -by_region_file /opt/data/data/eur_ld.bed.gz -gwas_file /opt/data/projects/chronotype/results/harmonized_gwas/chronotype_raw_BOLT.output_HRC.only_plus.metrics_maf0.001_hwep1em12_info0.3.txt-harmonized.txt -parquet_genotype /opt/data/data/phenomexcan/ld_blocks/reference_panel_1000G/chr18.variants.parquet -parquet_genotype_metadata /opt/data/data/phenomexcan/ld_blocks/reference_panel_1000G/variant_metadata.parquet -window 100000 -parsimony 7 -chromosome 18 -regularization 0.1 -frequency_filter 0.01 -sub_batches 10 -sub_batch 9 --standardise_dosages -output /opt/data/projects/chronotype/results/imputed_gwas/chronotype_raw_BOLT.output_HRC.only_plus.metrics_maf0.001_hwep1em12_info0.3.txt-harmonized-imputed-chr18-batch9_10.txt\n",
      "+ set +x\n",
      "+ /opt/data/software/conda_envs/summary_gwas_imputation/bin/python /opt/data/software/summary-gwas-imputation/src/gwas_summary_imputation.py -by_region_file /opt/data/data/eur_ld.bed.gz -gwas_file /opt/data/projects/chronotype/results/harmonized_gwas/chronotype_raw_BOLT.output_HRC.only_plus.metrics_maf0.001_hwep1em12_info0.3.txt-harmonized.txt -parquet_genotype /opt/data/data/phenomexcan/ld_blocks/reference_panel_1000G/chr19.variants.parquet -parquet_genotype_metadata /opt/data/data/phenomexcan/ld_blocks/reference_panel_1000G/variant_metadata.parquet -window 100000 -parsimony 7 -chromosome 19 -regularization 0.1 -frequency_filter 0.01 -sub_batches 10 -sub_batch 0 --standardise_dosages -output /opt/data/projects/chronotype/results/imputed_gwas/chronotype_raw_BOLT.output_HRC.only_plus.metrics_maf0.001_hwep1em12_info0.3.txt-harmonized-imputed-chr19-batch0_10.txt\n",
      "+ set +x\n"
     ]
    },
    {
     "name": "stdout",
     "output_type": "stream",
     "text": [
      "Running for chronotype, 19, 1\n",
      "Saving results in /opt/data/projects/chronotype/results/imputed_gwas\n",
      "/opt/data/software/conda_envs/summary_gwas_imputation/lib/python3.7/site-packages/pyarrow/pandas_compat.py:752: FutureWarning: .labels was deprecated in version 0.24.0. Use .codes instead.\n",
      "INFO - Error for region (19,6684874.0,8282629.0): LinAlgError('SVD did not converge')\n",
      "\n",
      "Running for chronotype, 19, 2\n",
      "Saving results in /opt/data/projects/chronotype/results/imputed_gwas\n",
      "/opt/data/software/conda_envs/summary_gwas_imputation/lib/python3.7/site-packages/pyarrow/pandas_compat.py:752: FutureWarning: .labels was deprecated in version 0.24.0. Use .codes instead.\n",
      "\n"
     ]
    },
    {
     "name": "stderr",
     "output_type": "stream",
     "text": [
      "+ /opt/data/software/conda_envs/summary_gwas_imputation/bin/python /opt/data/software/summary-gwas-imputation/src/gwas_summary_imputation.py -by_region_file /opt/data/data/eur_ld.bed.gz -gwas_file /opt/data/projects/chronotype/results/harmonized_gwas/chronotype_raw_BOLT.output_HRC.only_plus.metrics_maf0.001_hwep1em12_info0.3.txt-harmonized.txt -parquet_genotype /opt/data/data/phenomexcan/ld_blocks/reference_panel_1000G/chr19.variants.parquet -parquet_genotype_metadata /opt/data/data/phenomexcan/ld_blocks/reference_panel_1000G/variant_metadata.parquet -window 100000 -parsimony 7 -chromosome 19 -regularization 0.1 -frequency_filter 0.01 -sub_batches 10 -sub_batch 1 --standardise_dosages -output /opt/data/projects/chronotype/results/imputed_gwas/chronotype_raw_BOLT.output_HRC.only_plus.metrics_maf0.001_hwep1em12_info0.3.txt-harmonized-imputed-chr19-batch1_10.txt\n",
      "+ set +x\n",
      "+ /opt/data/software/conda_envs/summary_gwas_imputation/bin/python /opt/data/software/summary-gwas-imputation/src/gwas_summary_imputation.py -by_region_file /opt/data/data/eur_ld.bed.gz -gwas_file /opt/data/projects/chronotype/results/harmonized_gwas/chronotype_raw_BOLT.output_HRC.only_plus.metrics_maf0.001_hwep1em12_info0.3.txt-harmonized.txt -parquet_genotype /opt/data/data/phenomexcan/ld_blocks/reference_panel_1000G/chr19.variants.parquet -parquet_genotype_metadata /opt/data/data/phenomexcan/ld_blocks/reference_panel_1000G/variant_metadata.parquet -window 100000 -parsimony 7 -chromosome 19 -regularization 0.1 -frequency_filter 0.01 -sub_batches 10 -sub_batch 2 --standardise_dosages -output /opt/data/projects/chronotype/results/imputed_gwas/chronotype_raw_BOLT.output_HRC.only_plus.metrics_maf0.001_hwep1em12_info0.3.txt-harmonized-imputed-chr19-batch2_10.txt\n",
      "+ set +x\n"
     ]
    },
    {
     "name": "stdout",
     "output_type": "stream",
     "text": [
      "Running for chronotype, 19, 3\n",
      "Saving results in /opt/data/projects/chronotype/results/imputed_gwas\n",
      "/opt/data/software/conda_envs/summary_gwas_imputation/lib/python3.7/site-packages/pyarrow/pandas_compat.py:752: FutureWarning: .labels was deprecated in version 0.24.0. Use .codes instead.\n",
      "\n",
      "Running for chronotype, 19, 4\n",
      "Saving results in /opt/data/projects/chronotype/results/imputed_gwas\n",
      "/opt/data/software/conda_envs/summary_gwas_imputation/lib/python3.7/site-packages/pyarrow/pandas_compat.py:752: FutureWarning: .labels was deprecated in version 0.24.0. Use .codes instead.\n",
      "\n",
      "Running for chronotype, 19, 5\n",
      "Saving results in /opt/data/projects/chronotype/results/imputed_gwas\n",
      "/opt/data/software/conda_envs/summary_gwas_imputation/lib/python3.7/site-packages/pyarrow/pandas_compat.py:752: FutureWarning: .labels was deprecated in version 0.24.0. Use .codes instead.\n",
      "\n",
      "Running for chronotype, 19, 6\n",
      "Saving results in /opt/data/projects/chronotype/results/imputed_gwas\n",
      "/opt/data/software/conda_envs/summary_gwas_imputation/lib/python3.7/site-packages/pyarrow/pandas_compat.py:752: FutureWarning: .labels was deprecated in version 0.24.0. Use .codes instead.\n",
      "\n",
      "Running for chronotype, 19, 7\n",
      "Saving results in /opt/data/projects/chronotype/results/imputed_gwas\n",
      "/opt/data/software/conda_envs/summary_gwas_imputation/lib/python3.7/site-packages/pyarrow/pandas_compat.py:752: FutureWarning: .labels was deprecated in version 0.24.0. Use .codes instead.\n",
      "\n",
      "Running for chronotype, 19, 8\n",
      "Saving results in /opt/data/projects/chronotype/results/imputed_gwas\n",
      "/opt/data/software/conda_envs/summary_gwas_imputation/lib/python3.7/site-packages/pyarrow/pandas_compat.py:752: FutureWarning: .labels was deprecated in version 0.24.0. Use .codes instead.\n",
      "\n",
      "Running for chronotype, 19, 9\n",
      "Saving results in /opt/data/projects/chronotype/results/imputed_gwas\n",
      "/opt/data/software/conda_envs/summary_gwas_imputation/lib/python3.7/site-packages/pyarrow/pandas_compat.py:752: FutureWarning: .labels was deprecated in version 0.24.0. Use .codes instead.\n",
      "\n",
      "Running for chronotype, 20, 0\n",
      "Saving results in /opt/data/projects/chronotype/results/imputed_gwas\n",
      "/opt/data/software/conda_envs/summary_gwas_imputation/lib/python3.7/site-packages/pyarrow/pandas_compat.py:752: FutureWarning: .labels was deprecated in version 0.24.0. Use .codes instead.\n",
      "\n",
      "Running for chronotype, 20, 1\n",
      "Saving results in /opt/data/projects/chronotype/results/imputed_gwas\n",
      "/opt/data/software/conda_envs/summary_gwas_imputation/lib/python3.7/site-packages/pyarrow/pandas_compat.py:752: FutureWarning: .labels was deprecated in version 0.24.0. Use .codes instead.\n",
      "\n",
      "Running for chronotype, 20, 2\n",
      "Saving results in /opt/data/projects/chronotype/results/imputed_gwas\n",
      "/opt/data/software/conda_envs/summary_gwas_imputation/lib/python3.7/site-packages/pyarrow/pandas_compat.py:752: FutureWarning: .labels was deprecated in version 0.24.0. Use .codes instead.\n",
      "\n",
      "Running for chronotype, 20, 3\n",
      "Saving results in /opt/data/projects/chronotype/results/imputed_gwas\n",
      "/opt/data/software/conda_envs/summary_gwas_imputation/lib/python3.7/site-packages/pyarrow/pandas_compat.py:752: FutureWarning: .labels was deprecated in version 0.24.0. Use .codes instead.\n",
      "\n",
      "Running for chronotype, 20, 4\n",
      "Saving results in /opt/data/projects/chronotype/results/imputed_gwas\n",
      "/opt/data/software/conda_envs/summary_gwas_imputation/lib/python3.7/site-packages/pyarrow/pandas_compat.py:752: FutureWarning: .labels was deprecated in version 0.24.0. Use .codes instead.\n",
      "INFO - Error for region (20,25363595.0,33027017.0): TypeError(\"unsupported operand type(s) for +: 'float' and 'NoneType'\")\n",
      "\n",
      "Running for chronotype, 20, 5\n",
      "Saving results in /opt/data/projects/chronotype/results/imputed_gwas\n",
      "/opt/data/software/conda_envs/summary_gwas_imputation/lib/python3.7/site-packages/pyarrow/pandas_compat.py:752: FutureWarning: .labels was deprecated in version 0.24.0. Use .codes instead.\n",
      "\n",
      "Running for chronotype, 20, 6\n",
      "Saving results in /opt/data/projects/chronotype/results/imputed_gwas\n",
      "/opt/data/software/conda_envs/summary_gwas_imputation/lib/python3.7/site-packages/pyarrow/pandas_compat.py:752: FutureWarning: .labels was deprecated in version 0.24.0. Use .codes instead.\n",
      "INFO - Error for region (20,42986820.0,44051536.0): LinAlgError('SVD did not converge')\n",
      "\n",
      "Running for chronotype, 20, 7\n",
      "Saving results in /opt/data/projects/chronotype/results/imputed_gwas\n"
     ]
    },
    {
     "name": "stderr",
     "output_type": "stream",
     "text": [
      "+ /opt/data/software/conda_envs/summary_gwas_imputation/bin/python /opt/data/software/summary-gwas-imputation/src/gwas_summary_imputation.py -by_region_file /opt/data/data/eur_ld.bed.gz -gwas_file /opt/data/projects/chronotype/results/harmonized_gwas/chronotype_raw_BOLT.output_HRC.only_plus.metrics_maf0.001_hwep1em12_info0.3.txt-harmonized.txt -parquet_genotype /opt/data/data/phenomexcan/ld_blocks/reference_panel_1000G/chr19.variants.parquet -parquet_genotype_metadata /opt/data/data/phenomexcan/ld_blocks/reference_panel_1000G/variant_metadata.parquet -window 100000 -parsimony 7 -chromosome 19 -regularization 0.1 -frequency_filter 0.01 -sub_batches 10 -sub_batch 3 --standardise_dosages -output /opt/data/projects/chronotype/results/imputed_gwas/chronotype_raw_BOLT.output_HRC.only_plus.metrics_maf0.001_hwep1em12_info0.3.txt-harmonized-imputed-chr19-batch3_10.txt\n",
      "+ set +x\n",
      "+ /opt/data/software/conda_envs/summary_gwas_imputation/bin/python /opt/data/software/summary-gwas-imputation/src/gwas_summary_imputation.py -by_region_file /opt/data/data/eur_ld.bed.gz -gwas_file /opt/data/projects/chronotype/results/harmonized_gwas/chronotype_raw_BOLT.output_HRC.only_plus.metrics_maf0.001_hwep1em12_info0.3.txt-harmonized.txt -parquet_genotype /opt/data/data/phenomexcan/ld_blocks/reference_panel_1000G/chr19.variants.parquet -parquet_genotype_metadata /opt/data/data/phenomexcan/ld_blocks/reference_panel_1000G/variant_metadata.parquet -window 100000 -parsimony 7 -chromosome 19 -regularization 0.1 -frequency_filter 0.01 -sub_batches 10 -sub_batch 4 --standardise_dosages -output /opt/data/projects/chronotype/results/imputed_gwas/chronotype_raw_BOLT.output_HRC.only_plus.metrics_maf0.001_hwep1em12_info0.3.txt-harmonized-imputed-chr19-batch4_10.txt\n",
      "+ set +x\n",
      "+ /opt/data/software/conda_envs/summary_gwas_imputation/bin/python /opt/data/software/summary-gwas-imputation/src/gwas_summary_imputation.py -by_region_file /opt/data/data/eur_ld.bed.gz -gwas_file /opt/data/projects/chronotype/results/harmonized_gwas/chronotype_raw_BOLT.output_HRC.only_plus.metrics_maf0.001_hwep1em12_info0.3.txt-harmonized.txt -parquet_genotype /opt/data/data/phenomexcan/ld_blocks/reference_panel_1000G/chr19.variants.parquet -parquet_genotype_metadata /opt/data/data/phenomexcan/ld_blocks/reference_panel_1000G/variant_metadata.parquet -window 100000 -parsimony 7 -chromosome 19 -regularization 0.1 -frequency_filter 0.01 -sub_batches 10 -sub_batch 5 --standardise_dosages -output /opt/data/projects/chronotype/results/imputed_gwas/chronotype_raw_BOLT.output_HRC.only_plus.metrics_maf0.001_hwep1em12_info0.3.txt-harmonized-imputed-chr19-batch5_10.txt\n",
      "+ set +x\n",
      "+ /opt/data/software/conda_envs/summary_gwas_imputation/bin/python /opt/data/software/summary-gwas-imputation/src/gwas_summary_imputation.py -by_region_file /opt/data/data/eur_ld.bed.gz -gwas_file /opt/data/projects/chronotype/results/harmonized_gwas/chronotype_raw_BOLT.output_HRC.only_plus.metrics_maf0.001_hwep1em12_info0.3.txt-harmonized.txt -parquet_genotype /opt/data/data/phenomexcan/ld_blocks/reference_panel_1000G/chr19.variants.parquet -parquet_genotype_metadata /opt/data/data/phenomexcan/ld_blocks/reference_panel_1000G/variant_metadata.parquet -window 100000 -parsimony 7 -chromosome 19 -regularization 0.1 -frequency_filter 0.01 -sub_batches 10 -sub_batch 6 --standardise_dosages -output /opt/data/projects/chronotype/results/imputed_gwas/chronotype_raw_BOLT.output_HRC.only_plus.metrics_maf0.001_hwep1em12_info0.3.txt-harmonized-imputed-chr19-batch6_10.txt\n",
      "+ set +x\n",
      "+ /opt/data/software/conda_envs/summary_gwas_imputation/bin/python /opt/data/software/summary-gwas-imputation/src/gwas_summary_imputation.py -by_region_file /opt/data/data/eur_ld.bed.gz -gwas_file /opt/data/projects/chronotype/results/harmonized_gwas/chronotype_raw_BOLT.output_HRC.only_plus.metrics_maf0.001_hwep1em12_info0.3.txt-harmonized.txt -parquet_genotype /opt/data/data/phenomexcan/ld_blocks/reference_panel_1000G/chr19.variants.parquet -parquet_genotype_metadata /opt/data/data/phenomexcan/ld_blocks/reference_panel_1000G/variant_metadata.parquet -window 100000 -parsimony 7 -chromosome 19 -regularization 0.1 -frequency_filter 0.01 -sub_batches 10 -sub_batch 7 --standardise_dosages -output /opt/data/projects/chronotype/results/imputed_gwas/chronotype_raw_BOLT.output_HRC.only_plus.metrics_maf0.001_hwep1em12_info0.3.txt-harmonized-imputed-chr19-batch7_10.txt\n",
      "+ set +x\n",
      "+ /opt/data/software/conda_envs/summary_gwas_imputation/bin/python /opt/data/software/summary-gwas-imputation/src/gwas_summary_imputation.py -by_region_file /opt/data/data/eur_ld.bed.gz -gwas_file /opt/data/projects/chronotype/results/harmonized_gwas/chronotype_raw_BOLT.output_HRC.only_plus.metrics_maf0.001_hwep1em12_info0.3.txt-harmonized.txt -parquet_genotype /opt/data/data/phenomexcan/ld_blocks/reference_panel_1000G/chr19.variants.parquet -parquet_genotype_metadata /opt/data/data/phenomexcan/ld_blocks/reference_panel_1000G/variant_metadata.parquet -window 100000 -parsimony 7 -chromosome 19 -regularization 0.1 -frequency_filter 0.01 -sub_batches 10 -sub_batch 8 --standardise_dosages -output /opt/data/projects/chronotype/results/imputed_gwas/chronotype_raw_BOLT.output_HRC.only_plus.metrics_maf0.001_hwep1em12_info0.3.txt-harmonized-imputed-chr19-batch8_10.txt\n",
      "+ set +x\n",
      "+ /opt/data/software/conda_envs/summary_gwas_imputation/bin/python /opt/data/software/summary-gwas-imputation/src/gwas_summary_imputation.py -by_region_file /opt/data/data/eur_ld.bed.gz -gwas_file /opt/data/projects/chronotype/results/harmonized_gwas/chronotype_raw_BOLT.output_HRC.only_plus.metrics_maf0.001_hwep1em12_info0.3.txt-harmonized.txt -parquet_genotype /opt/data/data/phenomexcan/ld_blocks/reference_panel_1000G/chr19.variants.parquet -parquet_genotype_metadata /opt/data/data/phenomexcan/ld_blocks/reference_panel_1000G/variant_metadata.parquet -window 100000 -parsimony 7 -chromosome 19 -regularization 0.1 -frequency_filter 0.01 -sub_batches 10 -sub_batch 9 --standardise_dosages -output /opt/data/projects/chronotype/results/imputed_gwas/chronotype_raw_BOLT.output_HRC.only_plus.metrics_maf0.001_hwep1em12_info0.3.txt-harmonized-imputed-chr19-batch9_10.txt\n",
      "+ set +x\n",
      "+ /opt/data/software/conda_envs/summary_gwas_imputation/bin/python /opt/data/software/summary-gwas-imputation/src/gwas_summary_imputation.py -by_region_file /opt/data/data/eur_ld.bed.gz -gwas_file /opt/data/projects/chronotype/results/harmonized_gwas/chronotype_raw_BOLT.output_HRC.only_plus.metrics_maf0.001_hwep1em12_info0.3.txt-harmonized.txt -parquet_genotype /opt/data/data/phenomexcan/ld_blocks/reference_panel_1000G/chr20.variants.parquet -parquet_genotype_metadata /opt/data/data/phenomexcan/ld_blocks/reference_panel_1000G/variant_metadata.parquet -window 100000 -parsimony 7 -chromosome 20 -regularization 0.1 -frequency_filter 0.01 -sub_batches 10 -sub_batch 0 --standardise_dosages -output /opt/data/projects/chronotype/results/imputed_gwas/chronotype_raw_BOLT.output_HRC.only_plus.metrics_maf0.001_hwep1em12_info0.3.txt-harmonized-imputed-chr20-batch0_10.txt\n",
      "+ set +x\n",
      "+ /opt/data/software/conda_envs/summary_gwas_imputation/bin/python /opt/data/software/summary-gwas-imputation/src/gwas_summary_imputation.py -by_region_file /opt/data/data/eur_ld.bed.gz -gwas_file /opt/data/projects/chronotype/results/harmonized_gwas/chronotype_raw_BOLT.output_HRC.only_plus.metrics_maf0.001_hwep1em12_info0.3.txt-harmonized.txt -parquet_genotype /opt/data/data/phenomexcan/ld_blocks/reference_panel_1000G/chr20.variants.parquet -parquet_genotype_metadata /opt/data/data/phenomexcan/ld_blocks/reference_panel_1000G/variant_metadata.parquet -window 100000 -parsimony 7 -chromosome 20 -regularization 0.1 -frequency_filter 0.01 -sub_batches 10 -sub_batch 1 --standardise_dosages -output /opt/data/projects/chronotype/results/imputed_gwas/chronotype_raw_BOLT.output_HRC.only_plus.metrics_maf0.001_hwep1em12_info0.3.txt-harmonized-imputed-chr20-batch1_10.txt\n",
      "+ set +x\n",
      "+ /opt/data/software/conda_envs/summary_gwas_imputation/bin/python /opt/data/software/summary-gwas-imputation/src/gwas_summary_imputation.py -by_region_file /opt/data/data/eur_ld.bed.gz -gwas_file /opt/data/projects/chronotype/results/harmonized_gwas/chronotype_raw_BOLT.output_HRC.only_plus.metrics_maf0.001_hwep1em12_info0.3.txt-harmonized.txt -parquet_genotype /opt/data/data/phenomexcan/ld_blocks/reference_panel_1000G/chr20.variants.parquet -parquet_genotype_metadata /opt/data/data/phenomexcan/ld_blocks/reference_panel_1000G/variant_metadata.parquet -window 100000 -parsimony 7 -chromosome 20 -regularization 0.1 -frequency_filter 0.01 -sub_batches 10 -sub_batch 2 --standardise_dosages -output /opt/data/projects/chronotype/results/imputed_gwas/chronotype_raw_BOLT.output_HRC.only_plus.metrics_maf0.001_hwep1em12_info0.3.txt-harmonized-imputed-chr20-batch2_10.txt\n",
      "+ set +x\n",
      "+ /opt/data/software/conda_envs/summary_gwas_imputation/bin/python /opt/data/software/summary-gwas-imputation/src/gwas_summary_imputation.py -by_region_file /opt/data/data/eur_ld.bed.gz -gwas_file /opt/data/projects/chronotype/results/harmonized_gwas/chronotype_raw_BOLT.output_HRC.only_plus.metrics_maf0.001_hwep1em12_info0.3.txt-harmonized.txt -parquet_genotype /opt/data/data/phenomexcan/ld_blocks/reference_panel_1000G/chr20.variants.parquet -parquet_genotype_metadata /opt/data/data/phenomexcan/ld_blocks/reference_panel_1000G/variant_metadata.parquet -window 100000 -parsimony 7 -chromosome 20 -regularization 0.1 -frequency_filter 0.01 -sub_batches 10 -sub_batch 3 --standardise_dosages -output /opt/data/projects/chronotype/results/imputed_gwas/chronotype_raw_BOLT.output_HRC.only_plus.metrics_maf0.001_hwep1em12_info0.3.txt-harmonized-imputed-chr20-batch3_10.txt\n",
      "+ set +x\n",
      "+ /opt/data/software/conda_envs/summary_gwas_imputation/bin/python /opt/data/software/summary-gwas-imputation/src/gwas_summary_imputation.py -by_region_file /opt/data/data/eur_ld.bed.gz -gwas_file /opt/data/projects/chronotype/results/harmonized_gwas/chronotype_raw_BOLT.output_HRC.only_plus.metrics_maf0.001_hwep1em12_info0.3.txt-harmonized.txt -parquet_genotype /opt/data/data/phenomexcan/ld_blocks/reference_panel_1000G/chr20.variants.parquet -parquet_genotype_metadata /opt/data/data/phenomexcan/ld_blocks/reference_panel_1000G/variant_metadata.parquet -window 100000 -parsimony 7 -chromosome 20 -regularization 0.1 -frequency_filter 0.01 -sub_batches 10 -sub_batch 4 --standardise_dosages -output /opt/data/projects/chronotype/results/imputed_gwas/chronotype_raw_BOLT.output_HRC.only_plus.metrics_maf0.001_hwep1em12_info0.3.txt-harmonized-imputed-chr20-batch4_10.txt\n",
      "+ set +x\n",
      "+ /opt/data/software/conda_envs/summary_gwas_imputation/bin/python /opt/data/software/summary-gwas-imputation/src/gwas_summary_imputation.py -by_region_file /opt/data/data/eur_ld.bed.gz -gwas_file /opt/data/projects/chronotype/results/harmonized_gwas/chronotype_raw_BOLT.output_HRC.only_plus.metrics_maf0.001_hwep1em12_info0.3.txt-harmonized.txt -parquet_genotype /opt/data/data/phenomexcan/ld_blocks/reference_panel_1000G/chr20.variants.parquet -parquet_genotype_metadata /opt/data/data/phenomexcan/ld_blocks/reference_panel_1000G/variant_metadata.parquet -window 100000 -parsimony 7 -chromosome 20 -regularization 0.1 -frequency_filter 0.01 -sub_batches 10 -sub_batch 5 --standardise_dosages -output /opt/data/projects/chronotype/results/imputed_gwas/chronotype_raw_BOLT.output_HRC.only_plus.metrics_maf0.001_hwep1em12_info0.3.txt-harmonized-imputed-chr20-batch5_10.txt\n",
      "+ set +x\n",
      "+ /opt/data/software/conda_envs/summary_gwas_imputation/bin/python /opt/data/software/summary-gwas-imputation/src/gwas_summary_imputation.py -by_region_file /opt/data/data/eur_ld.bed.gz -gwas_file /opt/data/projects/chronotype/results/harmonized_gwas/chronotype_raw_BOLT.output_HRC.only_plus.metrics_maf0.001_hwep1em12_info0.3.txt-harmonized.txt -parquet_genotype /opt/data/data/phenomexcan/ld_blocks/reference_panel_1000G/chr20.variants.parquet -parquet_genotype_metadata /opt/data/data/phenomexcan/ld_blocks/reference_panel_1000G/variant_metadata.parquet -window 100000 -parsimony 7 -chromosome 20 -regularization 0.1 -frequency_filter 0.01 -sub_batches 10 -sub_batch 6 --standardise_dosages -output /opt/data/projects/chronotype/results/imputed_gwas/chronotype_raw_BOLT.output_HRC.only_plus.metrics_maf0.001_hwep1em12_info0.3.txt-harmonized-imputed-chr20-batch6_10.txt\n",
      "+ set +x\n",
      "+ /opt/data/software/conda_envs/summary_gwas_imputation/bin/python /opt/data/software/summary-gwas-imputation/src/gwas_summary_imputation.py -by_region_file /opt/data/data/eur_ld.bed.gz -gwas_file /opt/data/projects/chronotype/results/harmonized_gwas/chronotype_raw_BOLT.output_HRC.only_plus.metrics_maf0.001_hwep1em12_info0.3.txt-harmonized.txt -parquet_genotype /opt/data/data/phenomexcan/ld_blocks/reference_panel_1000G/chr20.variants.parquet -parquet_genotype_metadata /opt/data/data/phenomexcan/ld_blocks/reference_panel_1000G/variant_metadata.parquet -window 100000 -parsimony 7 -chromosome 20 -regularization 0.1 -frequency_filter 0.01 -sub_batches 10 -sub_batch 7 --standardise_dosages -output /opt/data/projects/chronotype/results/imputed_gwas/chronotype_raw_BOLT.output_HRC.only_plus.metrics_maf0.001_hwep1em12_info0.3.txt-harmonized-imputed-chr20-batch7_10.txt\n"
     ]
    },
    {
     "name": "stdout",
     "output_type": "stream",
     "text": [
      "/opt/data/software/conda_envs/summary_gwas_imputation/lib/python3.7/site-packages/pyarrow/pandas_compat.py:752: FutureWarning: .labels was deprecated in version 0.24.0. Use .codes instead.\n",
      "\n"
     ]
    },
    {
     "name": "stderr",
     "output_type": "stream",
     "text": [
      "+ set +x\n"
     ]
    },
    {
     "name": "stdout",
     "output_type": "stream",
     "text": [
      "Running for chronotype, 20, 8\n",
      "Saving results in /opt/data/projects/chronotype/results/imputed_gwas\n",
      "/opt/data/software/conda_envs/summary_gwas_imputation/lib/python3.7/site-packages/pyarrow/pandas_compat.py:752: FutureWarning: .labels was deprecated in version 0.24.0. Use .codes instead.\n",
      "\n",
      "Running for chronotype, 20, 9\n",
      "Saving results in /opt/data/projects/chronotype/results/imputed_gwas\n",
      "/opt/data/software/conda_envs/summary_gwas_imputation/lib/python3.7/site-packages/pyarrow/pandas_compat.py:752: FutureWarning: .labels was deprecated in version 0.24.0. Use .codes instead.\n",
      "\n",
      "Running for chronotype, 21, 0\n",
      "Saving results in /opt/data/projects/chronotype/results/imputed_gwas\n",
      "/opt/data/software/conda_envs/summary_gwas_imputation/lib/python3.7/site-packages/pyarrow/pandas_compat.py:752: FutureWarning: .labels was deprecated in version 0.24.0. Use .codes instead.\n",
      "\n",
      "Running for chronotype, 21, 1\n",
      "Saving results in /opt/data/projects/chronotype/results/imputed_gwas\n",
      "/opt/data/software/conda_envs/summary_gwas_imputation/lib/python3.7/site-packages/pyarrow/pandas_compat.py:752: FutureWarning: .labels was deprecated in version 0.24.0. Use .codes instead.\n",
      "\n",
      "Running for chronotype, 21, 2\n",
      "Saving results in /opt/data/projects/chronotype/results/imputed_gwas\n",
      "/opt/data/software/conda_envs/summary_gwas_imputation/lib/python3.7/site-packages/pyarrow/pandas_compat.py:752: FutureWarning: .labels was deprecated in version 0.24.0. Use .codes instead.\n",
      "\n",
      "Running for chronotype, 21, 3\n",
      "Saving results in /opt/data/projects/chronotype/results/imputed_gwas\n",
      "/opt/data/software/conda_envs/summary_gwas_imputation/lib/python3.7/site-packages/pyarrow/pandas_compat.py:752: FutureWarning: .labels was deprecated in version 0.24.0. Use .codes instead.\n",
      "\n",
      "Running for chronotype, 21, 4\n",
      "Saving results in /opt/data/projects/chronotype/results/imputed_gwas\n",
      "/opt/data/software/conda_envs/summary_gwas_imputation/lib/python3.7/site-packages/pyarrow/pandas_compat.py:752: FutureWarning: .labels was deprecated in version 0.24.0. Use .codes instead.\n",
      "\n"
     ]
    },
    {
     "name": "stderr",
     "output_type": "stream",
     "text": [
      "+ /opt/data/software/conda_envs/summary_gwas_imputation/bin/python /opt/data/software/summary-gwas-imputation/src/gwas_summary_imputation.py -by_region_file /opt/data/data/eur_ld.bed.gz -gwas_file /opt/data/projects/chronotype/results/harmonized_gwas/chronotype_raw_BOLT.output_HRC.only_plus.metrics_maf0.001_hwep1em12_info0.3.txt-harmonized.txt -parquet_genotype /opt/data/data/phenomexcan/ld_blocks/reference_panel_1000G/chr20.variants.parquet -parquet_genotype_metadata /opt/data/data/phenomexcan/ld_blocks/reference_panel_1000G/variant_metadata.parquet -window 100000 -parsimony 7 -chromosome 20 -regularization 0.1 -frequency_filter 0.01 -sub_batches 10 -sub_batch 8 --standardise_dosages -output /opt/data/projects/chronotype/results/imputed_gwas/chronotype_raw_BOLT.output_HRC.only_plus.metrics_maf0.001_hwep1em12_info0.3.txt-harmonized-imputed-chr20-batch8_10.txt\n",
      "+ set +x\n",
      "+ /opt/data/software/conda_envs/summary_gwas_imputation/bin/python /opt/data/software/summary-gwas-imputation/src/gwas_summary_imputation.py -by_region_file /opt/data/data/eur_ld.bed.gz -gwas_file /opt/data/projects/chronotype/results/harmonized_gwas/chronotype_raw_BOLT.output_HRC.only_plus.metrics_maf0.001_hwep1em12_info0.3.txt-harmonized.txt -parquet_genotype /opt/data/data/phenomexcan/ld_blocks/reference_panel_1000G/chr20.variants.parquet -parquet_genotype_metadata /opt/data/data/phenomexcan/ld_blocks/reference_panel_1000G/variant_metadata.parquet -window 100000 -parsimony 7 -chromosome 20 -regularization 0.1 -frequency_filter 0.01 -sub_batches 10 -sub_batch 9 --standardise_dosages -output /opt/data/projects/chronotype/results/imputed_gwas/chronotype_raw_BOLT.output_HRC.only_plus.metrics_maf0.001_hwep1em12_info0.3.txt-harmonized-imputed-chr20-batch9_10.txt\n",
      "+ set +x\n",
      "+ /opt/data/software/conda_envs/summary_gwas_imputation/bin/python /opt/data/software/summary-gwas-imputation/src/gwas_summary_imputation.py -by_region_file /opt/data/data/eur_ld.bed.gz -gwas_file /opt/data/projects/chronotype/results/harmonized_gwas/chronotype_raw_BOLT.output_HRC.only_plus.metrics_maf0.001_hwep1em12_info0.3.txt-harmonized.txt -parquet_genotype /opt/data/data/phenomexcan/ld_blocks/reference_panel_1000G/chr21.variants.parquet -parquet_genotype_metadata /opt/data/data/phenomexcan/ld_blocks/reference_panel_1000G/variant_metadata.parquet -window 100000 -parsimony 7 -chromosome 21 -regularization 0.1 -frequency_filter 0.01 -sub_batches 10 -sub_batch 0 --standardise_dosages -output /opt/data/projects/chronotype/results/imputed_gwas/chronotype_raw_BOLT.output_HRC.only_plus.metrics_maf0.001_hwep1em12_info0.3.txt-harmonized-imputed-chr21-batch0_10.txt\n",
      "+ set +x\n",
      "+ /opt/data/software/conda_envs/summary_gwas_imputation/bin/python /opt/data/software/summary-gwas-imputation/src/gwas_summary_imputation.py -by_region_file /opt/data/data/eur_ld.bed.gz -gwas_file /opt/data/projects/chronotype/results/harmonized_gwas/chronotype_raw_BOLT.output_HRC.only_plus.metrics_maf0.001_hwep1em12_info0.3.txt-harmonized.txt -parquet_genotype /opt/data/data/phenomexcan/ld_blocks/reference_panel_1000G/chr21.variants.parquet -parquet_genotype_metadata /opt/data/data/phenomexcan/ld_blocks/reference_panel_1000G/variant_metadata.parquet -window 100000 -parsimony 7 -chromosome 21 -regularization 0.1 -frequency_filter 0.01 -sub_batches 10 -sub_batch 1 --standardise_dosages -output /opt/data/projects/chronotype/results/imputed_gwas/chronotype_raw_BOLT.output_HRC.only_plus.metrics_maf0.001_hwep1em12_info0.3.txt-harmonized-imputed-chr21-batch1_10.txt\n",
      "+ set +x\n",
      "+ /opt/data/software/conda_envs/summary_gwas_imputation/bin/python /opt/data/software/summary-gwas-imputation/src/gwas_summary_imputation.py -by_region_file /opt/data/data/eur_ld.bed.gz -gwas_file /opt/data/projects/chronotype/results/harmonized_gwas/chronotype_raw_BOLT.output_HRC.only_plus.metrics_maf0.001_hwep1em12_info0.3.txt-harmonized.txt -parquet_genotype /opt/data/data/phenomexcan/ld_blocks/reference_panel_1000G/chr21.variants.parquet -parquet_genotype_metadata /opt/data/data/phenomexcan/ld_blocks/reference_panel_1000G/variant_metadata.parquet -window 100000 -parsimony 7 -chromosome 21 -regularization 0.1 -frequency_filter 0.01 -sub_batches 10 -sub_batch 2 --standardise_dosages -output /opt/data/projects/chronotype/results/imputed_gwas/chronotype_raw_BOLT.output_HRC.only_plus.metrics_maf0.001_hwep1em12_info0.3.txt-harmonized-imputed-chr21-batch2_10.txt\n",
      "+ set +x\n",
      "+ /opt/data/software/conda_envs/summary_gwas_imputation/bin/python /opt/data/software/summary-gwas-imputation/src/gwas_summary_imputation.py -by_region_file /opt/data/data/eur_ld.bed.gz -gwas_file /opt/data/projects/chronotype/results/harmonized_gwas/chronotype_raw_BOLT.output_HRC.only_plus.metrics_maf0.001_hwep1em12_info0.3.txt-harmonized.txt -parquet_genotype /opt/data/data/phenomexcan/ld_blocks/reference_panel_1000G/chr21.variants.parquet -parquet_genotype_metadata /opt/data/data/phenomexcan/ld_blocks/reference_panel_1000G/variant_metadata.parquet -window 100000 -parsimony 7 -chromosome 21 -regularization 0.1 -frequency_filter 0.01 -sub_batches 10 -sub_batch 3 --standardise_dosages -output /opt/data/projects/chronotype/results/imputed_gwas/chronotype_raw_BOLT.output_HRC.only_plus.metrics_maf0.001_hwep1em12_info0.3.txt-harmonized-imputed-chr21-batch3_10.txt\n",
      "+ set +x\n",
      "+ /opt/data/software/conda_envs/summary_gwas_imputation/bin/python /opt/data/software/summary-gwas-imputation/src/gwas_summary_imputation.py -by_region_file /opt/data/data/eur_ld.bed.gz -gwas_file /opt/data/projects/chronotype/results/harmonized_gwas/chronotype_raw_BOLT.output_HRC.only_plus.metrics_maf0.001_hwep1em12_info0.3.txt-harmonized.txt -parquet_genotype /opt/data/data/phenomexcan/ld_blocks/reference_panel_1000G/chr21.variants.parquet -parquet_genotype_metadata /opt/data/data/phenomexcan/ld_blocks/reference_panel_1000G/variant_metadata.parquet -window 100000 -parsimony 7 -chromosome 21 -regularization 0.1 -frequency_filter 0.01 -sub_batches 10 -sub_batch 4 --standardise_dosages -output /opt/data/projects/chronotype/results/imputed_gwas/chronotype_raw_BOLT.output_HRC.only_plus.metrics_maf0.001_hwep1em12_info0.3.txt-harmonized-imputed-chr21-batch4_10.txt\n",
      "+ set +x\n"
     ]
    },
    {
     "name": "stdout",
     "output_type": "stream",
     "text": [
      "Running for chronotype, 21, 5\n",
      "Saving results in /opt/data/projects/chronotype/results/imputed_gwas\n",
      "/opt/data/software/conda_envs/summary_gwas_imputation/lib/python3.7/site-packages/pyarrow/pandas_compat.py:752: FutureWarning: .labels was deprecated in version 0.24.0. Use .codes instead.\n",
      "\n",
      "Running for chronotype, 21, 6\n",
      "Saving results in /opt/data/projects/chronotype/results/imputed_gwas\n",
      "/opt/data/software/conda_envs/summary_gwas_imputation/lib/python3.7/site-packages/pyarrow/pandas_compat.py:752: FutureWarning: .labels was deprecated in version 0.24.0. Use .codes instead.\n",
      "\n"
     ]
    },
    {
     "name": "stderr",
     "output_type": "stream",
     "text": [
      "+ /opt/data/software/conda_envs/summary_gwas_imputation/bin/python /opt/data/software/summary-gwas-imputation/src/gwas_summary_imputation.py -by_region_file /opt/data/data/eur_ld.bed.gz -gwas_file /opt/data/projects/chronotype/results/harmonized_gwas/chronotype_raw_BOLT.output_HRC.only_plus.metrics_maf0.001_hwep1em12_info0.3.txt-harmonized.txt -parquet_genotype /opt/data/data/phenomexcan/ld_blocks/reference_panel_1000G/chr21.variants.parquet -parquet_genotype_metadata /opt/data/data/phenomexcan/ld_blocks/reference_panel_1000G/variant_metadata.parquet -window 100000 -parsimony 7 -chromosome 21 -regularization 0.1 -frequency_filter 0.01 -sub_batches 10 -sub_batch 5 --standardise_dosages -output /opt/data/projects/chronotype/results/imputed_gwas/chronotype_raw_BOLT.output_HRC.only_plus.metrics_maf0.001_hwep1em12_info0.3.txt-harmonized-imputed-chr21-batch5_10.txt\n",
      "+ set +x\n",
      "+ /opt/data/software/conda_envs/summary_gwas_imputation/bin/python /opt/data/software/summary-gwas-imputation/src/gwas_summary_imputation.py -by_region_file /opt/data/data/eur_ld.bed.gz -gwas_file /opt/data/projects/chronotype/results/harmonized_gwas/chronotype_raw_BOLT.output_HRC.only_plus.metrics_maf0.001_hwep1em12_info0.3.txt-harmonized.txt -parquet_genotype /opt/data/data/phenomexcan/ld_blocks/reference_panel_1000G/chr21.variants.parquet -parquet_genotype_metadata /opt/data/data/phenomexcan/ld_blocks/reference_panel_1000G/variant_metadata.parquet -window 100000 -parsimony 7 -chromosome 21 -regularization 0.1 -frequency_filter 0.01 -sub_batches 10 -sub_batch 6 --standardise_dosages -output /opt/data/projects/chronotype/results/imputed_gwas/chronotype_raw_BOLT.output_HRC.only_plus.metrics_maf0.001_hwep1em12_info0.3.txt-harmonized-imputed-chr21-batch6_10.txt\n",
      "+ set +x\n"
     ]
    },
    {
     "name": "stdout",
     "output_type": "stream",
     "text": [
      "Running for chronotype, 21, 7\n",
      "Saving results in /opt/data/projects/chronotype/results/imputed_gwas\n",
      "/opt/data/software/conda_envs/summary_gwas_imputation/lib/python3.7/site-packages/pyarrow/pandas_compat.py:752: FutureWarning: .labels was deprecated in version 0.24.0. Use .codes instead.\n",
      "\n",
      "Running for chronotype, 21, 8\n",
      "Saving results in /opt/data/projects/chronotype/results/imputed_gwas\n",
      "/opt/data/software/conda_envs/summary_gwas_imputation/lib/python3.7/site-packages/pyarrow/pandas_compat.py:752: FutureWarning: .labels was deprecated in version 0.24.0. Use .codes instead.\n",
      "\n",
      "Running for chronotype, 21, 9\n",
      "Saving results in /opt/data/projects/chronotype/results/imputed_gwas\n",
      "/opt/data/software/conda_envs/summary_gwas_imputation/lib/python3.7/site-packages/pyarrow/pandas_compat.py:752: FutureWarning: .labels was deprecated in version 0.24.0. Use .codes instead.\n",
      "\n",
      "Running for chronotype, 22, 0\n",
      "Saving results in /opt/data/projects/chronotype/results/imputed_gwas\n",
      "/opt/data/software/conda_envs/summary_gwas_imputation/lib/python3.7/site-packages/pyarrow/pandas_compat.py:752: FutureWarning: .labels was deprecated in version 0.24.0. Use .codes instead.\n",
      "\n",
      "Running for chronotype, 22, 1\n",
      "Saving results in /opt/data/projects/chronotype/results/imputed_gwas\n",
      "/opt/data/software/conda_envs/summary_gwas_imputation/lib/python3.7/site-packages/pyarrow/pandas_compat.py:752: FutureWarning: .labels was deprecated in version 0.24.0. Use .codes instead.\n",
      "\n",
      "Running for chronotype, 22, 2\n",
      "Saving results in /opt/data/projects/chronotype/results/imputed_gwas\n",
      "/opt/data/software/conda_envs/summary_gwas_imputation/lib/python3.7/site-packages/pyarrow/pandas_compat.py:752: FutureWarning: .labels was deprecated in version 0.24.0. Use .codes instead.\n",
      "\n",
      "Running for chronotype, 22, 3\n",
      "Saving results in /opt/data/projects/chronotype/results/imputed_gwas\n",
      "/opt/data/software/conda_envs/summary_gwas_imputation/lib/python3.7/site-packages/pyarrow/pandas_compat.py:752: FutureWarning: .labels was deprecated in version 0.24.0. Use .codes instead.\n",
      "\n",
      "Running for chronotype, 22, 4\n",
      "Saving results in /opt/data/projects/chronotype/results/imputed_gwas\n",
      "/opt/data/software/conda_envs/summary_gwas_imputation/lib/python3.7/site-packages/pyarrow/pandas_compat.py:752: FutureWarning: .labels was deprecated in version 0.24.0. Use .codes instead.\n",
      "\n",
      "Running for chronotype, 22, 5\n",
      "Saving results in /opt/data/projects/chronotype/results/imputed_gwas\n",
      "/opt/data/software/conda_envs/summary_gwas_imputation/lib/python3.7/site-packages/pyarrow/pandas_compat.py:752: FutureWarning: .labels was deprecated in version 0.24.0. Use .codes instead.\n",
      "\n",
      "Running for chronotype, 22, 6\n",
      "Saving results in /opt/data/projects/chronotype/results/imputed_gwas\n",
      "/opt/data/software/conda_envs/summary_gwas_imputation/lib/python3.7/site-packages/pyarrow/pandas_compat.py:752: FutureWarning: .labels was deprecated in version 0.24.0. Use .codes instead.\n",
      "\n",
      "Running for chronotype, 22, 7\n",
      "Saving results in /opt/data/projects/chronotype/results/imputed_gwas\n",
      "/opt/data/software/conda_envs/summary_gwas_imputation/lib/python3.7/site-packages/pyarrow/pandas_compat.py:752: FutureWarning: .labels was deprecated in version 0.24.0. Use .codes instead.\n",
      "\n",
      "Running for chronotype, 22, 8\n",
      "Saving results in /opt/data/projects/chronotype/results/imputed_gwas\n",
      "/opt/data/software/conda_envs/summary_gwas_imputation/lib/python3.7/site-packages/pyarrow/pandas_compat.py:752: FutureWarning: .labels was deprecated in version 0.24.0. Use .codes instead.\n",
      "\n",
      "Running for chronotype, 22, 9\n",
      "Saving results in /opt/data/projects/chronotype/results/imputed_gwas\n",
      "/opt/data/software/conda_envs/summary_gwas_imputation/lib/python3.7/site-packages/pyarrow/pandas_compat.py:752: FutureWarning: .labels was deprecated in version 0.24.0. Use .codes instead.\n",
      "\n"
     ]
    },
    {
     "name": "stderr",
     "output_type": "stream",
     "text": [
      "+ /opt/data/software/conda_envs/summary_gwas_imputation/bin/python /opt/data/software/summary-gwas-imputation/src/gwas_summary_imputation.py -by_region_file /opt/data/data/eur_ld.bed.gz -gwas_file /opt/data/projects/chronotype/results/harmonized_gwas/chronotype_raw_BOLT.output_HRC.only_plus.metrics_maf0.001_hwep1em12_info0.3.txt-harmonized.txt -parquet_genotype /opt/data/data/phenomexcan/ld_blocks/reference_panel_1000G/chr21.variants.parquet -parquet_genotype_metadata /opt/data/data/phenomexcan/ld_blocks/reference_panel_1000G/variant_metadata.parquet -window 100000 -parsimony 7 -chromosome 21 -regularization 0.1 -frequency_filter 0.01 -sub_batches 10 -sub_batch 7 --standardise_dosages -output /opt/data/projects/chronotype/results/imputed_gwas/chronotype_raw_BOLT.output_HRC.only_plus.metrics_maf0.001_hwep1em12_info0.3.txt-harmonized-imputed-chr21-batch7_10.txt\n",
      "+ set +x\n",
      "+ /opt/data/software/conda_envs/summary_gwas_imputation/bin/python /opt/data/software/summary-gwas-imputation/src/gwas_summary_imputation.py -by_region_file /opt/data/data/eur_ld.bed.gz -gwas_file /opt/data/projects/chronotype/results/harmonized_gwas/chronotype_raw_BOLT.output_HRC.only_plus.metrics_maf0.001_hwep1em12_info0.3.txt-harmonized.txt -parquet_genotype /opt/data/data/phenomexcan/ld_blocks/reference_panel_1000G/chr21.variants.parquet -parquet_genotype_metadata /opt/data/data/phenomexcan/ld_blocks/reference_panel_1000G/variant_metadata.parquet -window 100000 -parsimony 7 -chromosome 21 -regularization 0.1 -frequency_filter 0.01 -sub_batches 10 -sub_batch 8 --standardise_dosages -output /opt/data/projects/chronotype/results/imputed_gwas/chronotype_raw_BOLT.output_HRC.only_plus.metrics_maf0.001_hwep1em12_info0.3.txt-harmonized-imputed-chr21-batch8_10.txt\n",
      "+ set +x\n",
      "+ /opt/data/software/conda_envs/summary_gwas_imputation/bin/python /opt/data/software/summary-gwas-imputation/src/gwas_summary_imputation.py -by_region_file /opt/data/data/eur_ld.bed.gz -gwas_file /opt/data/projects/chronotype/results/harmonized_gwas/chronotype_raw_BOLT.output_HRC.only_plus.metrics_maf0.001_hwep1em12_info0.3.txt-harmonized.txt -parquet_genotype /opt/data/data/phenomexcan/ld_blocks/reference_panel_1000G/chr21.variants.parquet -parquet_genotype_metadata /opt/data/data/phenomexcan/ld_blocks/reference_panel_1000G/variant_metadata.parquet -window 100000 -parsimony 7 -chromosome 21 -regularization 0.1 -frequency_filter 0.01 -sub_batches 10 -sub_batch 9 --standardise_dosages -output /opt/data/projects/chronotype/results/imputed_gwas/chronotype_raw_BOLT.output_HRC.only_plus.metrics_maf0.001_hwep1em12_info0.3.txt-harmonized-imputed-chr21-batch9_10.txt\n",
      "+ set +x\n",
      "+ /opt/data/software/conda_envs/summary_gwas_imputation/bin/python /opt/data/software/summary-gwas-imputation/src/gwas_summary_imputation.py -by_region_file /opt/data/data/eur_ld.bed.gz -gwas_file /opt/data/projects/chronotype/results/harmonized_gwas/chronotype_raw_BOLT.output_HRC.only_plus.metrics_maf0.001_hwep1em12_info0.3.txt-harmonized.txt -parquet_genotype /opt/data/data/phenomexcan/ld_blocks/reference_panel_1000G/chr22.variants.parquet -parquet_genotype_metadata /opt/data/data/phenomexcan/ld_blocks/reference_panel_1000G/variant_metadata.parquet -window 100000 -parsimony 7 -chromosome 22 -regularization 0.1 -frequency_filter 0.01 -sub_batches 10 -sub_batch 0 --standardise_dosages -output /opt/data/projects/chronotype/results/imputed_gwas/chronotype_raw_BOLT.output_HRC.only_plus.metrics_maf0.001_hwep1em12_info0.3.txt-harmonized-imputed-chr22-batch0_10.txt\n",
      "+ set +x\n",
      "+ /opt/data/software/conda_envs/summary_gwas_imputation/bin/python /opt/data/software/summary-gwas-imputation/src/gwas_summary_imputation.py -by_region_file /opt/data/data/eur_ld.bed.gz -gwas_file /opt/data/projects/chronotype/results/harmonized_gwas/chronotype_raw_BOLT.output_HRC.only_plus.metrics_maf0.001_hwep1em12_info0.3.txt-harmonized.txt -parquet_genotype /opt/data/data/phenomexcan/ld_blocks/reference_panel_1000G/chr22.variants.parquet -parquet_genotype_metadata /opt/data/data/phenomexcan/ld_blocks/reference_panel_1000G/variant_metadata.parquet -window 100000 -parsimony 7 -chromosome 22 -regularization 0.1 -frequency_filter 0.01 -sub_batches 10 -sub_batch 1 --standardise_dosages -output /opt/data/projects/chronotype/results/imputed_gwas/chronotype_raw_BOLT.output_HRC.only_plus.metrics_maf0.001_hwep1em12_info0.3.txt-harmonized-imputed-chr22-batch1_10.txt\n",
      "+ set +x\n",
      "+ /opt/data/software/conda_envs/summary_gwas_imputation/bin/python /opt/data/software/summary-gwas-imputation/src/gwas_summary_imputation.py -by_region_file /opt/data/data/eur_ld.bed.gz -gwas_file /opt/data/projects/chronotype/results/harmonized_gwas/chronotype_raw_BOLT.output_HRC.only_plus.metrics_maf0.001_hwep1em12_info0.3.txt-harmonized.txt -parquet_genotype /opt/data/data/phenomexcan/ld_blocks/reference_panel_1000G/chr22.variants.parquet -parquet_genotype_metadata /opt/data/data/phenomexcan/ld_blocks/reference_panel_1000G/variant_metadata.parquet -window 100000 -parsimony 7 -chromosome 22 -regularization 0.1 -frequency_filter 0.01 -sub_batches 10 -sub_batch 2 --standardise_dosages -output /opt/data/projects/chronotype/results/imputed_gwas/chronotype_raw_BOLT.output_HRC.only_plus.metrics_maf0.001_hwep1em12_info0.3.txt-harmonized-imputed-chr22-batch2_10.txt\n",
      "+ set +x\n",
      "+ /opt/data/software/conda_envs/summary_gwas_imputation/bin/python /opt/data/software/summary-gwas-imputation/src/gwas_summary_imputation.py -by_region_file /opt/data/data/eur_ld.bed.gz -gwas_file /opt/data/projects/chronotype/results/harmonized_gwas/chronotype_raw_BOLT.output_HRC.only_plus.metrics_maf0.001_hwep1em12_info0.3.txt-harmonized.txt -parquet_genotype /opt/data/data/phenomexcan/ld_blocks/reference_panel_1000G/chr22.variants.parquet -parquet_genotype_metadata /opt/data/data/phenomexcan/ld_blocks/reference_panel_1000G/variant_metadata.parquet -window 100000 -parsimony 7 -chromosome 22 -regularization 0.1 -frequency_filter 0.01 -sub_batches 10 -sub_batch 3 --standardise_dosages -output /opt/data/projects/chronotype/results/imputed_gwas/chronotype_raw_BOLT.output_HRC.only_plus.metrics_maf0.001_hwep1em12_info0.3.txt-harmonized-imputed-chr22-batch3_10.txt\n",
      "+ set +x\n",
      "+ /opt/data/software/conda_envs/summary_gwas_imputation/bin/python /opt/data/software/summary-gwas-imputation/src/gwas_summary_imputation.py -by_region_file /opt/data/data/eur_ld.bed.gz -gwas_file /opt/data/projects/chronotype/results/harmonized_gwas/chronotype_raw_BOLT.output_HRC.only_plus.metrics_maf0.001_hwep1em12_info0.3.txt-harmonized.txt -parquet_genotype /opt/data/data/phenomexcan/ld_blocks/reference_panel_1000G/chr22.variants.parquet -parquet_genotype_metadata /opt/data/data/phenomexcan/ld_blocks/reference_panel_1000G/variant_metadata.parquet -window 100000 -parsimony 7 -chromosome 22 -regularization 0.1 -frequency_filter 0.01 -sub_batches 10 -sub_batch 4 --standardise_dosages -output /opt/data/projects/chronotype/results/imputed_gwas/chronotype_raw_BOLT.output_HRC.only_plus.metrics_maf0.001_hwep1em12_info0.3.txt-harmonized-imputed-chr22-batch4_10.txt\n",
      "+ set +x\n",
      "+ /opt/data/software/conda_envs/summary_gwas_imputation/bin/python /opt/data/software/summary-gwas-imputation/src/gwas_summary_imputation.py -by_region_file /opt/data/data/eur_ld.bed.gz -gwas_file /opt/data/projects/chronotype/results/harmonized_gwas/chronotype_raw_BOLT.output_HRC.only_plus.metrics_maf0.001_hwep1em12_info0.3.txt-harmonized.txt -parquet_genotype /opt/data/data/phenomexcan/ld_blocks/reference_panel_1000G/chr22.variants.parquet -parquet_genotype_metadata /opt/data/data/phenomexcan/ld_blocks/reference_panel_1000G/variant_metadata.parquet -window 100000 -parsimony 7 -chromosome 22 -regularization 0.1 -frequency_filter 0.01 -sub_batches 10 -sub_batch 5 --standardise_dosages -output /opt/data/projects/chronotype/results/imputed_gwas/chronotype_raw_BOLT.output_HRC.only_plus.metrics_maf0.001_hwep1em12_info0.3.txt-harmonized-imputed-chr22-batch5_10.txt\n",
      "+ set +x\n",
      "+ /opt/data/software/conda_envs/summary_gwas_imputation/bin/python /opt/data/software/summary-gwas-imputation/src/gwas_summary_imputation.py -by_region_file /opt/data/data/eur_ld.bed.gz -gwas_file /opt/data/projects/chronotype/results/harmonized_gwas/chronotype_raw_BOLT.output_HRC.only_plus.metrics_maf0.001_hwep1em12_info0.3.txt-harmonized.txt -parquet_genotype /opt/data/data/phenomexcan/ld_blocks/reference_panel_1000G/chr22.variants.parquet -parquet_genotype_metadata /opt/data/data/phenomexcan/ld_blocks/reference_panel_1000G/variant_metadata.parquet -window 100000 -parsimony 7 -chromosome 22 -regularization 0.1 -frequency_filter 0.01 -sub_batches 10 -sub_batch 6 --standardise_dosages -output /opt/data/projects/chronotype/results/imputed_gwas/chronotype_raw_BOLT.output_HRC.only_plus.metrics_maf0.001_hwep1em12_info0.3.txt-harmonized-imputed-chr22-batch6_10.txt\n",
      "+ set +x\n",
      "+ /opt/data/software/conda_envs/summary_gwas_imputation/bin/python /opt/data/software/summary-gwas-imputation/src/gwas_summary_imputation.py -by_region_file /opt/data/data/eur_ld.bed.gz -gwas_file /opt/data/projects/chronotype/results/harmonized_gwas/chronotype_raw_BOLT.output_HRC.only_plus.metrics_maf0.001_hwep1em12_info0.3.txt-harmonized.txt -parquet_genotype /opt/data/data/phenomexcan/ld_blocks/reference_panel_1000G/chr22.variants.parquet -parquet_genotype_metadata /opt/data/data/phenomexcan/ld_blocks/reference_panel_1000G/variant_metadata.parquet -window 100000 -parsimony 7 -chromosome 22 -regularization 0.1 -frequency_filter 0.01 -sub_batches 10 -sub_batch 7 --standardise_dosages -output /opt/data/projects/chronotype/results/imputed_gwas/chronotype_raw_BOLT.output_HRC.only_plus.metrics_maf0.001_hwep1em12_info0.3.txt-harmonized-imputed-chr22-batch7_10.txt\n",
      "+ set +x\n",
      "+ /opt/data/software/conda_envs/summary_gwas_imputation/bin/python /opt/data/software/summary-gwas-imputation/src/gwas_summary_imputation.py -by_region_file /opt/data/data/eur_ld.bed.gz -gwas_file /opt/data/projects/chronotype/results/harmonized_gwas/chronotype_raw_BOLT.output_HRC.only_plus.metrics_maf0.001_hwep1em12_info0.3.txt-harmonized.txt -parquet_genotype /opt/data/data/phenomexcan/ld_blocks/reference_panel_1000G/chr22.variants.parquet -parquet_genotype_metadata /opt/data/data/phenomexcan/ld_blocks/reference_panel_1000G/variant_metadata.parquet -window 100000 -parsimony 7 -chromosome 22 -regularization 0.1 -frequency_filter 0.01 -sub_batches 10 -sub_batch 8 --standardise_dosages -output /opt/data/projects/chronotype/results/imputed_gwas/chronotype_raw_BOLT.output_HRC.only_plus.metrics_maf0.001_hwep1em12_info0.3.txt-harmonized-imputed-chr22-batch8_10.txt\n",
      "+ set +x\n",
      "+ /opt/data/software/conda_envs/summary_gwas_imputation/bin/python /opt/data/software/summary-gwas-imputation/src/gwas_summary_imputation.py -by_region_file /opt/data/data/eur_ld.bed.gz -gwas_file /opt/data/projects/chronotype/results/harmonized_gwas/chronotype_raw_BOLT.output_HRC.only_plus.metrics_maf0.001_hwep1em12_info0.3.txt-harmonized.txt -parquet_genotype /opt/data/data/phenomexcan/ld_blocks/reference_panel_1000G/chr22.variants.parquet -parquet_genotype_metadata /opt/data/data/phenomexcan/ld_blocks/reference_panel_1000G/variant_metadata.parquet -window 100000 -parsimony 7 -chromosome 22 -regularization 0.1 -frequency_filter 0.01 -sub_batches 10 -sub_batch 9 --standardise_dosages -output /opt/data/projects/chronotype/results/imputed_gwas/chronotype_raw_BOLT.output_HRC.only_plus.metrics_maf0.001_hwep1em12_info0.3.txt-harmonized-imputed-chr22-batch9_10.txt\n",
      "+ set +x\n"
     ]
    }
   ],
   "source": [
    "%%bash -s \"$PHENOPLIER_NOTEBOOK_DIR\" \"$PROJECTS_TRAIT_KEY\" \"$OUTPUT_DIR_STR\"\n",
    "set -euo pipefail\n",
    "# IFS=$'\\n\\t'\n",
    "\n",
    "# read the notebook directory parameter and remove $1\n",
    "export PHENOPLIER_NOTEBOOK_DIR=\"${PHENOPLIER_CODE_DIR}/$1\"\n",
    "shift\n",
    "\n",
    "# read trait key\n",
    "export PROJECTS_TRAIT_KEY=\"$1\"\n",
    "shift\n",
    "\n",
    "# read output dir\n",
    "export OUTPUT_DIR=\"$1\"\n",
    "shift\n",
    "\n",
    "run_job () {\n",
    "    # run_job is a standard function name that performs a particular job\n",
    "    # depending on the context. It will be called by GNU Parallel below.\n",
    "    #\n",
    "    # The implementation here runs the GLS model of PhenoPLIER on a trait.\n",
    "\n",
    "    # read trait information\n",
    "    # the first parameter to this function is a string with values separated by\n",
    "    # commas (,). So here I split those into different variables.\n",
    "    IFS=',' read -r pheno_id file sample_size n_cases chromosome batch_id <<< \"$1\"\n",
    "\n",
    "    N_BATCHES=10\n",
    "\n",
    "    INPUT_FILENAME=\"${file%.*}\"\n",
    "\n",
    "    # IMPUTED_GWAS_DIR=\"${PHENOPLIER_PROJECTS_ASTHMA_COPD_RESULTS_DIR}/imputed_gwas\"\n",
    "    # INPUTED_GWAS_FILE_PATTERN=\"${INPUT_FILENAME}-harmonized\"\n",
    "\n",
    "    # get input GWAS file, there should be a single file\n",
    "    # here I make sure that there are no other files in the folder that\n",
    "    # match this phenotype/trait filename prefix\n",
    "    env_name=\"PHENOPLIER_PROJECTS_${PROJECTS_TRAIT_KEY}_RESULTS_DIR\"\n",
    "    GWAS_DIR=\"${!env_name}/harmonized_gwas\"\n",
    "    N_GWAS_FILES=$(ls ${GWAS_DIR}/${INPUT_FILENAME}*.txt | wc -l)\n",
    "    if [ \"${N_GWAS_FILES}\" != \"1\" ]; then\n",
    "        echo \"ERROR: found ${N_GWAS_FILES} GWAS files instead of one\"\n",
    "        exit 1\n",
    "    fi\n",
    "    INPUT_GWAS_FILEPATH=$(ls ${GWAS_DIR}/${INPUT_FILENAME}*.txt)\n",
    "\n",
    "    mkdir -p \"${OUTPUT_DIR}\"\n",
    "\n",
    "    # make sure we are not also parallelizing within numpy, etc\n",
    "    export NUMBA_NUM_THREADS=1\n",
    "    export MKL_NUM_THREADS=1\n",
    "    export OPEN_BLAS_NUM_THREADS=1\n",
    "    export NUMEXPR_NUM_THREADS=1\n",
    "    export OMP_NUM_THREADS=1\n",
    "\n",
    "    echo \"Running for $pheno_id, $chromosome, $batch_id\"\n",
    "    echo \"Saving results in ${OUTPUT_DIR}\"\n",
    "\n",
    "    bash \"${PHENOPLIER_CODE_DIR}/scripts/gwas_impute.sh\" \\\n",
    "        --input-gwas-file \"${INPUT_GWAS_FILEPATH}\" \\\n",
    "        --chromosome \"${chromosome}\" \\\n",
    "        --n-batches \"${N_BATCHES}\" \\\n",
    "        --batch-id \"${batch_id}\" \\\n",
    "        --output-dir \"${OUTPUT_DIR}\"\n",
    "\n",
    "    # print errors here in the notebook\n",
    "    # first, look for the log file for this trait\n",
    "    pattern=\"${OUTPUT_DIR}/${INPUT_FILENAME}*-chr${chromosome}-batch${batch_id}_${N_BATCHES}*.log\"\n",
    "\n",
    "    N_LOG_FILES=$(ls ${pattern} | wc -l)\n",
    "    if [ \"${N_LOG_FILES}\" != \"1\" ]; then\n",
    "        echo \"ERROR: found ${N_LOG_FILES} log files instead of one\"\n",
    "        exit 1\n",
    "    fi\n",
    "    LOG_FILE=$(ls ${pattern})\n",
    "\n",
    "    cat \"${LOG_FILE}\" | grep -iE \"warning|error\"\n",
    "\n",
    "    echo\n",
    "}\n",
    "\n",
    "# export function so GNU Parallel can see it\n",
    "export -f run_job\n",
    "\n",
    "# generate a list of run_job calls for GNU Parallel\n",
    "# here I read a file with information about traits (one trait per line)\n",
    "env_name=\"PHENOPLIER_PROJECTS_${PROJECTS_TRAIT_KEY}_TRAITS_INFO_FILE\"\n",
    "while IFS= read -r line; do\n",
    "    for chromosome in {1..22}; do\n",
    "        for batch_id in {0..9}; do\n",
    "            echo run_job \"${line},${chromosome},${batch_id}\"\n",
    "            # echo run_job \"${line},1,2\"\n",
    "            # break\n",
    "        done\n",
    "        # break\n",
    "    done\n",
    "done < <(tail -n \"+2\" \"${!env_name}\") |\n",
    "    parallel -k --lb --halt 2 -j${PHENOPLIER_GENERAL_N_JOBS}"
   ]
  },
  {
   "cell_type": "markdown",
   "id": "b9de8ab0-1d95-4d08-82bb-376e704fd0df",
   "metadata": {
    "papermill": {
     "duration": 0.036007,
     "end_time": "2023-08-29T08:47:31.372454",
     "exception": false,
     "start_time": "2023-08-29T08:47:31.336447",
     "status": "completed"
    },
    "tags": []
   },
   "source": [
    "# Perform some checks in output and log files"
   ]
  },
  {
   "cell_type": "code",
   "execution_count": 7,
   "id": "a48b5427-95ab-4d89-9b09-ea9f2344a6af",
   "metadata": {
    "execution": {
     "iopub.execute_input": "2023-08-29T08:47:31.445613Z",
     "iopub.status.busy": "2023-08-29T08:47:31.445421Z",
     "iopub.status.idle": "2023-08-29T08:47:31.448754Z",
     "shell.execute_reply": "2023-08-29T08:47:31.448203Z"
    },
    "papermill": {
     "duration": 0.041088,
     "end_time": "2023-08-29T08:47:31.449651",
     "exception": false,
     "start_time": "2023-08-29T08:47:31.408563",
     "status": "completed"
    },
    "tags": []
   },
   "outputs": [],
   "source": [
    "assert OUTPUT_DIR.exists()"
   ]
  },
  {
   "cell_type": "code",
   "execution_count": 8,
   "id": "6d2b50d0-fc92-46fd-a48c-8748ad04d014",
   "metadata": {
    "execution": {
     "iopub.execute_input": "2023-08-29T08:47:31.522111Z",
     "iopub.status.busy": "2023-08-29T08:47:31.521965Z",
     "iopub.status.idle": "2023-08-29T08:47:31.524852Z",
     "shell.execute_reply": "2023-08-29T08:47:31.524320Z"
    },
    "papermill": {
     "duration": 0.040185,
     "end_time": "2023-08-29T08:47:31.525738",
     "exception": false,
     "start_time": "2023-08-29T08:47:31.485553",
     "status": "completed"
    },
    "tags": []
   },
   "outputs": [],
   "source": [
    "log_files = OUTPUT_DIR.glob(\"*.log\")"
   ]
  },
  {
   "cell_type": "code",
   "execution_count": 9,
   "id": "01b58633-03fd-48c3-b95d-d1d37f19bd9c",
   "metadata": {
    "execution": {
     "iopub.execute_input": "2023-08-29T08:47:31.598811Z",
     "iopub.status.busy": "2023-08-29T08:47:31.598378Z",
     "iopub.status.idle": "2023-08-29T08:47:31.611795Z",
     "shell.execute_reply": "2023-08-29T08:47:31.611255Z"
    },
    "papermill": {
     "duration": 0.051055,
     "end_time": "2023-08-29T08:47:31.612809",
     "exception": false,
     "start_time": "2023-08-29T08:47:31.561754",
     "status": "completed"
    },
    "tags": []
   },
   "outputs": [],
   "source": [
    "for f in log_files:\n",
    "    read_log_file_and_check_line_exists(\n",
    "        f,\n",
    "        [\n",
    "            \"INFO - Finished in\",\n",
    "        ],\n",
    "    )"
   ]
  }
 ],
 "metadata": {
  "jupytext": {
   "cell_metadata_filter": "all,-execution,-papermill,-trusted",
   "notebook_metadata_filter": "-jupytext.text_representation.jupytext_version"
  },
  "kernelspec": {
   "display_name": "Python 3 (ipykernel)",
   "language": "python",
   "name": "python3"
  },
  "language_info": {
   "codemirror_mode": {
    "name": "ipython",
    "version": 3
   },
   "file_extension": ".py",
   "mimetype": "text/x-python",
   "name": "python",
   "nbconvert_exporter": "python",
   "pygments_lexer": "ipython3",
   "version": "3.10.6"
  },
  "papermill": {
   "default_parameters": {},
   "duration": 16972.636415,
   "end_time": "2023-08-29T08:47:31.869514",
   "environment_variables": {},
   "exception": null,
   "input_path": "projects/chronotype/nbs/10_gwas_harmonization/05-run_imputation.ipynb",
   "output_path": "projects/chronotype/nbs/10_gwas_harmonization/05-run_imputation.run.ipynb",
   "parameters": {
    "PHENOPLIER_NOTEBOOK_FILEPATH": "projects/chronotype/nbs/10_gwas_harmonization/05-run_imputation.ipynb"
   },
   "start_time": "2023-08-29T04:04:39.233099",
   "version": "2.3.4"
  }
 },
 "nbformat": 4,
 "nbformat_minor": 5
}
