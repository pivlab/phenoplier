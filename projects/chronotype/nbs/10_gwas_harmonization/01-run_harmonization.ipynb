{
 "cells": [
  {
   "cell_type": "markdown",
   "id": "c935aa7e-fde1-4d1c-b2d7-8c7ee611b1ed",
   "metadata": {
    "papermill": {
     "duration": 0.003705,
     "end_time": "2023-08-29T03:47:30.906466",
     "exception": false,
     "start_time": "2023-08-29T03:47:30.902761",
     "status": "completed"
    },
    "tags": []
   },
   "source": [
    "# Description"
   ]
  },
  {
   "cell_type": "markdown",
   "id": "f66770f7-0585-480b-8daa-1483bc37b494",
   "metadata": {
    "papermill": {
     "duration": 0.003166,
     "end_time": "2023-08-29T03:47:30.913039",
     "exception": false,
     "start_time": "2023-08-29T03:47:30.909873",
     "status": "completed"
    },
    "tags": []
   },
   "source": [
    "It runs the GWAS harmonization step from the script in: https://github.com/hakyimlab/summary-gwas-imputation"
   ]
  },
  {
   "cell_type": "markdown",
   "id": "d389dd7b-20d8-44ed-8053-6e2cd8efea2e",
   "metadata": {
    "papermill": {
     "duration": 0.003761,
     "end_time": "2023-08-29T03:47:30.919980",
     "exception": false,
     "start_time": "2023-08-29T03:47:30.916219",
     "status": "completed"
    },
    "tags": []
   },
   "source": [
    "# Modules"
   ]
  },
  {
   "cell_type": "code",
   "execution_count": 1,
   "id": "69797656-0db2-41d5-b4d6-63c24d47ad38",
   "metadata": {
    "execution": {
     "iopub.execute_input": "2023-08-29T03:47:30.927617Z",
     "iopub.status.busy": "2023-08-29T03:47:30.927378Z",
     "iopub.status.idle": "2023-08-29T03:47:30.961994Z",
     "shell.execute_reply": "2023-08-29T03:47:30.961536Z"
    },
    "papermill": {
     "duration": 0.040159,
     "end_time": "2023-08-29T03:47:30.963507",
     "exception": false,
     "start_time": "2023-08-29T03:47:30.923348",
     "status": "completed"
    },
    "tags": []
   },
   "outputs": [],
   "source": [
    "import os\n",
    "from glob import glob\n",
    "from pathlib import Path\n",
    "\n",
    "from utils import read_log_file_and_check_line_exists\n",
    "import conf"
   ]
  },
  {
   "cell_type": "markdown",
   "id": "dd17aa24-a692-4f62-ac69-c270447c7729",
   "metadata": {
    "papermill": {
     "duration": 0.003,
     "end_time": "2023-08-29T03:47:30.969721",
     "exception": false,
     "start_time": "2023-08-29T03:47:30.966721",
     "status": "completed"
    },
    "tags": []
   },
   "source": [
    "# Settings"
   ]
  },
  {
   "cell_type": "markdown",
   "id": "3829ee6c-68b6-445e-adce-aa7a6280a56c",
   "metadata": {
    "papermill": {
     "duration": 0.003009,
     "end_time": "2023-08-29T03:47:30.975967",
     "exception": false,
     "start_time": "2023-08-29T03:47:30.972958",
     "status": "completed"
    },
    "tags": []
   },
   "source": [
    "Apparently, there is no easy way to get the parent directory of\n",
    "a notebook in Jupyter, so here I get that information either from\n",
    "the parameter sent by `nbs/run_nbs.sh` (if called from command-line) or\n",
    "from `os.getcwd()` (if called from browser)."
   ]
  },
  {
   "cell_type": "code",
   "execution_count": 2,
   "id": "e8f8093f-7738-448a-b29d-e9059684fcd1",
   "metadata": {
    "execution": {
     "iopub.execute_input": "2023-08-29T03:47:30.982968Z",
     "iopub.status.busy": "2023-08-29T03:47:30.982813Z",
     "iopub.status.idle": "2023-08-29T03:47:30.985576Z",
     "shell.execute_reply": "2023-08-29T03:47:30.985156Z"
    },
    "papermill": {
     "duration": 0.007884,
     "end_time": "2023-08-29T03:47:30.986972",
     "exception": false,
     "start_time": "2023-08-29T03:47:30.979088",
     "status": "completed"
    },
    "tags": [
     "parameters"
    ]
   },
   "outputs": [],
   "source": [
    "PHENOPLIER_NOTEBOOK_FILEPATH = None\n",
    "PHENOPLIER_NOTEBOOK_DIR = os.getcwd()\n",
    "\n",
    "PROJECTS_TRAIT_KEY = \"CHRONOTYPE\""
   ]
  },
  {
   "cell_type": "code",
   "execution_count": 3,
   "id": "545a8791",
   "metadata": {
    "execution": {
     "iopub.execute_input": "2023-08-29T03:47:30.994364Z",
     "iopub.status.busy": "2023-08-29T03:47:30.994001Z",
     "iopub.status.idle": "2023-08-29T03:47:30.996588Z",
     "shell.execute_reply": "2023-08-29T03:47:30.996166Z"
    },
    "lines_to_next_cell": 2,
    "papermill": {
     "duration": 0.007652,
     "end_time": "2023-08-29T03:47:30.997926",
     "exception": false,
     "start_time": "2023-08-29T03:47:30.990274",
     "status": "completed"
    },
    "tags": [
     "injected-parameters"
    ]
   },
   "outputs": [],
   "source": [
    "# Parameters\n",
    "PHENOPLIER_NOTEBOOK_FILEPATH = (\n",
    "    \"projects/chronotype/nbs/10_gwas_harmonization/01-run_harmonization.ipynb\"\n",
    ")"
   ]
  },
  {
   "cell_type": "code",
   "execution_count": 4,
   "id": "80437810-fd28-40ba-8dab-f60424764bfd",
   "metadata": {
    "execution": {
     "iopub.execute_input": "2023-08-29T03:47:31.005478Z",
     "iopub.status.busy": "2023-08-29T03:47:31.005137Z",
     "iopub.status.idle": "2023-08-29T03:47:31.014231Z",
     "shell.execute_reply": "2023-08-29T03:47:31.013812Z"
    },
    "papermill": {
     "duration": 0.014384,
     "end_time": "2023-08-29T03:47:31.015710",
     "exception": false,
     "start_time": "2023-08-29T03:47:31.001326",
     "status": "completed"
    },
    "tags": []
   },
   "outputs": [
    {
     "data": {
      "text/plain": [
       "'projects/chronotype/nbs/10_gwas_harmonization'"
      ]
     },
     "metadata": {},
     "output_type": "display_data"
    }
   ],
   "source": [
    "if PHENOPLIER_NOTEBOOK_FILEPATH is not None:\n",
    "    PHENOPLIER_NOTEBOOK_DIR = str(Path(PHENOPLIER_NOTEBOOK_FILEPATH).parent)\n",
    "\n",
    "display(PHENOPLIER_NOTEBOOK_DIR)"
   ]
  },
  {
   "cell_type": "code",
   "execution_count": 5,
   "id": "7614a44c-cbef-48f5-a011-0876875d20eb",
   "metadata": {
    "execution": {
     "iopub.execute_input": "2023-08-29T03:47:31.023445Z",
     "iopub.status.busy": "2023-08-29T03:47:31.023099Z",
     "iopub.status.idle": "2023-08-29T03:47:31.028369Z",
     "shell.execute_reply": "2023-08-29T03:47:31.027831Z"
    },
    "papermill": {
     "duration": 0.010487,
     "end_time": "2023-08-29T03:47:31.029699",
     "exception": false,
     "start_time": "2023-08-29T03:47:31.019212",
     "status": "completed"
    },
    "tags": []
   },
   "outputs": [
    {
     "data": {
      "text/plain": [
       "PosixPath('/opt/data/projects/chronotype/results/harmonized_gwas')"
      ]
     },
     "metadata": {},
     "output_type": "display_data"
    },
    {
     "data": {
      "text/plain": [
       "'/opt/data/projects/chronotype/results/harmonized_gwas'"
      ]
     },
     "metadata": {},
     "output_type": "display_data"
    }
   ],
   "source": [
    "OUTPUT_DIR = conf.PROJECTS[PROJECTS_TRAIT_KEY][\"RESULTS_DIR\"] / \"harmonized_gwas\"\n",
    "display(OUTPUT_DIR)\n",
    "\n",
    "OUTPUT_DIR_STR = str(OUTPUT_DIR)\n",
    "display(OUTPUT_DIR_STR)"
   ]
  },
  {
   "cell_type": "markdown",
   "id": "3a558eec-2251-4be7-a754-1f98adde3aec",
   "metadata": {
    "papermill": {
     "duration": 0.003395,
     "end_time": "2023-08-29T03:47:31.036540",
     "exception": false,
     "start_time": "2023-08-29T03:47:31.033145",
     "status": "completed"
    },
    "tags": []
   },
   "source": [
    "# Run"
   ]
  },
  {
   "cell_type": "code",
   "execution_count": 6,
   "id": "0c0cd3d9-b032-4f03-82eb-0017a0ef1cca",
   "metadata": {
    "execution": {
     "iopub.execute_input": "2023-08-29T03:47:31.044752Z",
     "iopub.status.busy": "2023-08-29T03:47:31.044237Z",
     "iopub.status.idle": "2023-08-29T03:53:30.365311Z",
     "shell.execute_reply": "2023-08-29T03:53:30.364735Z"
    },
    "papermill": {
     "duration": 359.329117,
     "end_time": "2023-08-29T03:53:30.369218",
     "exception": false,
     "start_time": "2023-08-29T03:47:31.040101",
     "status": "completed"
    },
    "tags": []
   },
   "outputs": [
    {
     "name": "stdout",
     "output_type": "stream",
     "text": [
      "Running for chronotype\n",
      "Saving results in /opt/data/projects/chronotype/results/harmonized_gwas\n",
      "Parameter --samples-n-cases is NA, skipping\n",
      "Loading GWAS config file: /opt/data/projects/chronotype/data/gwas/chronotype_raw_BOLT.output_HRC.only_plus.metrics_maf0.001_hwep1em12_info0.3.txt.gz.config\n"
     ]
    },
    {
     "name": "stderr",
     "output_type": "stream",
     "text": [
      "+ /opt/data/software/conda_envs/summary_gwas_imputation/bin/python /opt/data/software/summary-gwas-imputation/src/gwas_parsing.py -gwas_file /opt/data/projects/chronotype/data/gwas/chronotype_raw_BOLT.output_HRC.only_plus.metrics_maf0.001_hwep1em12_info0.3.txt.gz -separator '\t' -snp_reference_metadata /opt/data/data/phenomexcan/ld_blocks/reference_panel_1000G/variant_metadata.txt.gz METADATA --chromosome_format -output_column_map CHR chromosome -output_column_map SNP variant_id -output_column_map BP position -output_column_map ALLELE1 effect_allele -output_column_map ALLELE0 non_effect_allele -output_column_map BETA effect_size -output_column_map SE standard_error -output_column_map P_BOLT_LMM pvalue --insert_value sample_size 449734 -output_order variant_id panel_variant_id chromosome position effect_allele non_effect_allele frequency pvalue zscore effect_size standard_error sample_size n_cases -liftover /opt/data/data/liftover/chains/hg19ToHg38.over.chain.gz -output /opt/data/projects/chronotype/results/harmonized_gwas/chronotype_raw_BOLT.output_HRC.only_plus.metrics_maf0.001_hwep1em12_info0.3.txt-harmonized.txt\n"
     ]
    },
    {
     "name": "stdout",
     "output_type": "stream",
     "text": [
      "\n"
     ]
    },
    {
     "name": "stderr",
     "output_type": "stream",
     "text": [
      "+ set +x\n",
      "cat: /opt/data/projects/chronotype/data/gwas/chronotype_raw_BOLT.output_HRC.only_plus.metrics_maf0.001_hwep1em12_info0.3.txt.gz.log: No such file or directory\n"
     ]
    }
   ],
   "source": [
    "%%bash -s \"$PHENOPLIER_NOTEBOOK_DIR\" \"$PROJECTS_TRAIT_KEY\" \"$OUTPUT_DIR_STR\"\n",
    "set -euo pipefail\n",
    "# IFS=$'\\n\\t'\n",
    "\n",
    "# read the notebook directory parameter and remove $1\n",
    "export PHENOPLIER_NOTEBOOK_DIR=\"${PHENOPLIER_CODE_DIR}/$1\"\n",
    "shift\n",
    "\n",
    "# read trait key\n",
    "export PROJECTS_TRAIT_KEY=\"$1\"\n",
    "shift\n",
    "\n",
    "# read output dir\n",
    "export OUTPUT_DIR=\"$1\"\n",
    "shift\n",
    "\n",
    "run_job () {\n",
    "    # run_job is a standard function name that performs a particular job\n",
    "    # depending on the context. It will be called by GNU Parallel below.\n",
    "    #\n",
    "    # The implementation here runs the GLS model of PhenoPLIER on a trait.\n",
    "\n",
    "    # read trait information\n",
    "    # the first parameter to this function is a string with values separated by\n",
    "    # commas (,). So here I split those into different variables.\n",
    "    IFS=',' read -r pheno_id file sample_size n_cases <<< \"$1\"\n",
    "\n",
    "#     INPUT_FILENAME=\"${file%.*}\"\n",
    "#\n",
    "#     # get input GWAS file, there should be a single file\n",
    "#     # here I make sure that there are no other files in the folder that\n",
    "#     # match this phenotype/trait filename prefix\n",
    "#     env_name=\"PHENOPLIER_PROJECTS_${PROJECTS_TRAIT_KEY}_DATA_DIR\"\n",
    "#     GWAS_DIR=\"${!env_name}/gwas\"\n",
    "#     N_GWAS_FILES=$(ls ${GWAS_DIR}/${INPUT_FILENAME}* | wc -l)\n",
    "#     if [ \"${N_GWAS_FILES}\" != \"1\" ]; then\n",
    "#         echo \"ERROR: found ${N_GWAS_FILES} GWAS files instead of one\"\n",
    "#         exit 1\n",
    "#     fi\n",
    "#     INPUT_GWAS_FILEPATH=$(ls ${GWAS_DIR}/${INPUT_FILENAME}*)\n",
    "\n",
    "    env_name=\"PHENOPLIER_PROJECTS_${PROJECTS_TRAIT_KEY}_DATA_DIR\"\n",
    "    GWAS_DIR=\"${!env_name}/gwas\"\n",
    "\n",
    "    INPUT_GWAS_FILEPATH=\"${GWAS_DIR}/${file}\"\n",
    "\n",
    "    mkdir -p \"${OUTPUT_DIR}\"\n",
    "\n",
    "    # make sure we are not also parallelizing within numpy, etc\n",
    "    export NUMBA_NUM_THREADS=1\n",
    "    export MKL_NUM_THREADS=1\n",
    "    export OPEN_BLAS_NUM_THREADS=1\n",
    "    export NUMEXPR_NUM_THREADS=1\n",
    "    export OMP_NUM_THREADS=1\n",
    "\n",
    "    echo \"Running for $pheno_id\"\n",
    "    echo \"Saving results in ${OUTPUT_DIR}\"\n",
    "\n",
    "    bash \"${PHENOPLIER_CODE_DIR}/scripts/gwas_harmonize.sh\" \\\n",
    "        --input-gwas-file \"${INPUT_GWAS_FILEPATH}\" \\\n",
    "        --sample-size \"${sample_size}\" \\\n",
    "        --sample-n-cases \"${n_cases}\" \\\n",
    "        --liftover-chain-file \"${PHENOPLIER_GENERAL_LIFTOVER_HG19_TO_HG38}\" \\\n",
    "        --output-dir \"${OUTPUT_DIR}\"\n",
    "\n",
    "    # print errors here in the notebook\n",
    "    LOG_FILE=\"${INPUT_GWAS_FILEPATH}.log\"\n",
    "\n",
    "#     # first, look for the log file for this trait\n",
    "#     pattern=\"${OUTPUT_DIR}/${INPUT_FILENAME}*.log\"\n",
    "#\n",
    "#     N_LOG_FILES=$(ls ${pattern} | wc -l)\n",
    "#     if [ \"${N_LOG_FILES}\" != \"1\" ]; then\n",
    "#         echo \"ERROR: found ${N_LOG_FILES} log files instead of one\"\n",
    "#         exit 1\n",
    "#     fi\n",
    "#     LOG_FILE=$(ls ${pattern})\n",
    "\n",
    "    cat \"${LOG_FILE}\" | grep -iE \"warning|error\"\n",
    "\n",
    "    echo\n",
    "}\n",
    "\n",
    "# export function so GNU Parallel can see it\n",
    "export -f run_job\n",
    "\n",
    "# generate a list of run_job calls for GNU Parallel\n",
    "# here I read a file with information about traits (one trait per line)\n",
    "env_name=\"PHENOPLIER_PROJECTS_${PROJECTS_TRAIT_KEY}_TRAITS_INFO_FILE\"\n",
    "while IFS= read -r line; do\n",
    "    echo run_job \"${line}\"\n",
    "done < <(tail -n \"+2\" \"${!env_name}\") |\n",
    "    parallel -k --lb --halt 2 -j${PHENOPLIER_GENERAL_N_JOBS}"
   ]
  },
  {
   "cell_type": "markdown",
   "id": "b9de8ab0-1d95-4d08-82bb-376e704fd0df",
   "metadata": {
    "papermill": {
     "duration": 0.004099,
     "end_time": "2023-08-29T03:53:30.380582",
     "exception": false,
     "start_time": "2023-08-29T03:53:30.376483",
     "status": "completed"
    },
    "tags": []
   },
   "source": [
    "# Perform some checks in output and log files"
   ]
  },
  {
   "cell_type": "code",
   "execution_count": 7,
   "id": "a48b5427-95ab-4d89-9b09-ea9f2344a6af",
   "metadata": {
    "execution": {
     "iopub.execute_input": "2023-08-29T03:53:30.390414Z",
     "iopub.status.busy": "2023-08-29T03:53:30.390135Z",
     "iopub.status.idle": "2023-08-29T03:53:30.393216Z",
     "shell.execute_reply": "2023-08-29T03:53:30.392718Z"
    },
    "papermill": {
     "duration": 0.00934,
     "end_time": "2023-08-29T03:53:30.394644",
     "exception": false,
     "start_time": "2023-08-29T03:53:30.385304",
     "status": "completed"
    },
    "tags": []
   },
   "outputs": [],
   "source": [
    "assert OUTPUT_DIR.exists()"
   ]
  },
  {
   "cell_type": "code",
   "execution_count": 8,
   "id": "6d2b50d0-fc92-46fd-a48c-8748ad04d014",
   "metadata": {
    "execution": {
     "iopub.execute_input": "2023-08-29T03:53:30.404154Z",
     "iopub.status.busy": "2023-08-29T03:53:30.403704Z",
     "iopub.status.idle": "2023-08-29T03:53:30.406408Z",
     "shell.execute_reply": "2023-08-29T03:53:30.405970Z"
    },
    "papermill": {
     "duration": 0.009048,
     "end_time": "2023-08-29T03:53:30.407828",
     "exception": false,
     "start_time": "2023-08-29T03:53:30.398780",
     "status": "completed"
    },
    "tags": []
   },
   "outputs": [],
   "source": [
    "log_files = OUTPUT_DIR.glob(\"*.log\")"
   ]
  },
  {
   "cell_type": "code",
   "execution_count": 9,
   "id": "01b58633-03fd-48c3-b95d-d1d37f19bd9c",
   "metadata": {
    "execution": {
     "iopub.execute_input": "2023-08-29T03:53:30.416921Z",
     "iopub.status.busy": "2023-08-29T03:53:30.416519Z",
     "iopub.status.idle": "2023-08-29T03:53:30.419604Z",
     "shell.execute_reply": "2023-08-29T03:53:30.419173Z"
    },
    "papermill": {
     "duration": 0.009178,
     "end_time": "2023-08-29T03:53:30.421035",
     "exception": false,
     "start_time": "2023-08-29T03:53:30.411857",
     "status": "completed"
    },
    "tags": []
   },
   "outputs": [],
   "source": [
    "for f in log_files:\n",
    "    read_log_file_and_check_line_exists(\n",
    "        f,\n",
    "        [\n",
    "            \"INFO - Finished converting GWAS in\",\n",
    "        ],\n",
    "    )"
   ]
  }
 ],
 "metadata": {
  "jupytext": {
   "cell_metadata_filter": "all,-execution,-papermill,-trusted",
   "notebook_metadata_filter": "-jupytext.text_representation.jupytext_version"
  },
  "kernelspec": {
   "display_name": "Python 3 (ipykernel)",
   "language": "python",
   "name": "python3"
  },
  "language_info": {
   "codemirror_mode": {
    "name": "ipython",
    "version": 3
   },
   "file_extension": ".py",
   "mimetype": "text/x-python",
   "name": "python",
   "nbconvert_exporter": "python",
   "pygments_lexer": "ipython3",
   "version": "3.10.6"
  },
  "papermill": {
   "default_parameters": {},
   "duration": 360.61495,
   "end_time": "2023-08-29T03:53:30.640875",
   "environment_variables": {},
   "exception": null,
   "input_path": "projects/chronotype/nbs/10_gwas_harmonization/01-run_harmonization.ipynb",
   "output_path": "projects/chronotype/nbs/10_gwas_harmonization/01-run_harmonization.run.ipynb",
   "parameters": {
    "PHENOPLIER_NOTEBOOK_FILEPATH": "projects/chronotype/nbs/10_gwas_harmonization/01-run_harmonization.ipynb"
   },
   "start_time": "2023-08-29T03:47:30.025925",
   "version": "2.3.4"
  }
 },
 "nbformat": 4,
 "nbformat_minor": 5
}
