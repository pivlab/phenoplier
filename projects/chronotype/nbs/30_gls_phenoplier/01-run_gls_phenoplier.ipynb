{
 "cells": [
  {
   "cell_type": "markdown",
   "id": "c935aa7e-fde1-4d1c-b2d7-8c7ee611b1ed",
   "metadata": {
    "papermill": {
     "duration": 0.003186,
     "end_time": "2023-08-30T05:25:26.604102",
     "exception": false,
     "start_time": "2023-08-30T05:25:26.600916",
     "status": "completed"
    },
    "tags": []
   },
   "source": [
    "# Description"
   ]
  },
  {
   "cell_type": "markdown",
   "id": "8a5a655a-0628-49c1-99a3-f17d9969ac65",
   "metadata": {
    "papermill": {
     "duration": 0.002358,
     "end_time": "2023-08-30T05:25:26.616618",
     "exception": false,
     "start_time": "2023-08-30T05:25:26.614260",
     "status": "completed"
    },
    "tags": []
   },
   "source": [
    "It runs the GLS model (regression) of PhenoPLIER on a set of traits."
   ]
  },
  {
   "cell_type": "markdown",
   "id": "d389dd7b-20d8-44ed-8053-6e2cd8efea2e",
   "metadata": {
    "papermill": {
     "duration": 0.002318,
     "end_time": "2023-08-30T05:25:26.621479",
     "exception": false,
     "start_time": "2023-08-30T05:25:26.619161",
     "status": "completed"
    },
    "tags": []
   },
   "source": [
    "# Modules"
   ]
  },
  {
   "cell_type": "code",
   "execution_count": 1,
   "id": "69797656-0db2-41d5-b4d6-63c24d47ad38",
   "metadata": {
    "execution": {
     "iopub.execute_input": "2023-08-30T05:25:26.627359Z",
     "iopub.status.busy": "2023-08-30T05:25:26.627124Z",
     "iopub.status.idle": "2023-08-30T05:25:26.634559Z",
     "shell.execute_reply": "2023-08-30T05:25:26.633996Z"
    },
    "papermill": {
     "duration": 0.012217,
     "end_time": "2023-08-30T05:25:26.636109",
     "exception": false,
     "start_time": "2023-08-30T05:25:26.623892",
     "status": "completed"
    },
    "tags": []
   },
   "outputs": [],
   "source": [
    "import os\n",
    "from pathlib import Path"
   ]
  },
  {
   "cell_type": "markdown",
   "id": "dd17aa24-a692-4f62-ac69-c270447c7729",
   "metadata": {
    "papermill": {
     "duration": 0.002561,
     "end_time": "2023-08-30T05:25:26.641115",
     "exception": false,
     "start_time": "2023-08-30T05:25:26.638554",
     "status": "completed"
    },
    "tags": []
   },
   "source": [
    "# Settings"
   ]
  },
  {
   "cell_type": "markdown",
   "id": "d1271b94-ca31-4887-bd49-914be78efd94",
   "metadata": {
    "papermill": {
     "duration": 0.002344,
     "end_time": "2023-08-30T05:25:26.646536",
     "exception": false,
     "start_time": "2023-08-30T05:25:26.644192",
     "status": "completed"
    },
    "tags": []
   },
   "source": [
    "Apparently, there is no easy way to get the parent directory of\n",
    "a notebook in Jupyter, so here I get that information either from\n",
    "the parameter sent by `nbs/run_nbs.sh` (if called from command-line) or\n",
    "from `os.getcwd()` (if called from browser)."
   ]
  },
  {
   "cell_type": "code",
   "execution_count": 2,
   "id": "9146ad80-8c12-4e0f-a713-84e02c9ecefa",
   "metadata": {
    "execution": {
     "iopub.execute_input": "2023-08-30T05:25:26.652547Z",
     "iopub.status.busy": "2023-08-30T05:25:26.652059Z",
     "iopub.status.idle": "2023-08-30T05:25:26.655274Z",
     "shell.execute_reply": "2023-08-30T05:25:26.654723Z"
    },
    "papermill": {
     "duration": 0.00772,
     "end_time": "2023-08-30T05:25:26.656672",
     "exception": false,
     "start_time": "2023-08-30T05:25:26.648952",
     "status": "completed"
    },
    "tags": [
     "parameters"
    ]
   },
   "outputs": [],
   "source": [
    "PHENOPLIER_NOTEBOOK_FILEPATH = None\n",
    "PHENOPLIER_NOTEBOOK_DIR = os.getcwd()\n",
    "\n",
    "PROJECTS_TRAIT_KEY = \"CHRONOTYPE\""
   ]
  },
  {
   "cell_type": "code",
   "execution_count": 3,
   "id": "447b2eb9",
   "metadata": {
    "execution": {
     "iopub.execute_input": "2023-08-30T05:25:26.662941Z",
     "iopub.status.busy": "2023-08-30T05:25:26.662343Z",
     "iopub.status.idle": "2023-08-30T05:25:26.665371Z",
     "shell.execute_reply": "2023-08-30T05:25:26.664831Z"
    },
    "lines_to_next_cell": 2,
    "papermill": {
     "duration": 0.00738,
     "end_time": "2023-08-30T05:25:26.666689",
     "exception": false,
     "start_time": "2023-08-30T05:25:26.659309",
     "status": "completed"
    },
    "tags": [
     "injected-parameters"
    ]
   },
   "outputs": [],
   "source": [
    "# Parameters\n",
    "PHENOPLIER_NOTEBOOK_FILEPATH = (\n",
    "    \"projects/chronotype/nbs/30_gls_phenoplier/01-run_gls_phenoplier.ipynb\"\n",
    ")"
   ]
  },
  {
   "cell_type": "code",
   "execution_count": 4,
   "id": "b16398ff-9374-4cf3-9e03-663147be0817",
   "metadata": {
    "execution": {
     "iopub.execute_input": "2023-08-30T05:25:26.672767Z",
     "iopub.status.busy": "2023-08-30T05:25:26.672337Z",
     "iopub.status.idle": "2023-08-30T05:25:26.681656Z",
     "shell.execute_reply": "2023-08-30T05:25:26.681094Z"
    },
    "papermill": {
     "duration": 0.013929,
     "end_time": "2023-08-30T05:25:26.683158",
     "exception": false,
     "start_time": "2023-08-30T05:25:26.669229",
     "status": "completed"
    },
    "tags": []
   },
   "outputs": [
    {
     "data": {
      "text/plain": [
       "'projects/chronotype/nbs/30_gls_phenoplier'"
      ]
     },
     "metadata": {},
     "output_type": "display_data"
    }
   ],
   "source": [
    "if PHENOPLIER_NOTEBOOK_FILEPATH is not None:\n",
    "    PHENOPLIER_NOTEBOOK_DIR = str(Path(PHENOPLIER_NOTEBOOK_FILEPATH).parent)\n",
    "\n",
    "display(PHENOPLIER_NOTEBOOK_DIR)"
   ]
  },
  {
   "cell_type": "markdown",
   "id": "3a558eec-2251-4be7-a754-1f98adde3aec",
   "metadata": {
    "papermill": {
     "duration": 0.002518,
     "end_time": "2023-08-30T05:25:26.688433",
     "exception": false,
     "start_time": "2023-08-30T05:25:26.685915",
     "status": "completed"
    },
    "tags": []
   },
   "source": [
    "# Run"
   ]
  },
  {
   "cell_type": "code",
   "execution_count": 5,
   "id": "0c0cd3d9-b032-4f03-82eb-0017a0ef1cca",
   "metadata": {
    "execution": {
     "iopub.execute_input": "2023-08-30T05:25:26.694720Z",
     "iopub.status.busy": "2023-08-30T05:25:26.694242Z",
     "iopub.status.idle": "2023-08-30T05:27:01.611034Z",
     "shell.execute_reply": "2023-08-30T05:27:01.610327Z"
    },
    "papermill": {
     "duration": 94.924003,
     "end_time": "2023-08-30T05:27:01.614978",
     "exception": false,
     "start_time": "2023-08-30T05:25:26.690975",
     "status": "completed"
    },
    "tags": []
   },
   "outputs": [
    {
     "name": "stdout",
     "output_type": "stream",
     "text": [
      "Running for chronotype\n",
      "Saving results in /opt/data/projects/chronotype/results/gls_phenoplier/gls/chronotype_raw_BOLT.output_HRC.only_plus.metrics_maf0.001_hwep1em12_info0.3.txt-gls_phenoplier.tsv.gz\n",
      "WARNING: 6 genes with missing values have been removed\n",
      "WARNING: 22326 genes in phenotype associations, but only 6447 were found in LV models\n",
      "\n"
     ]
    }
   ],
   "source": [
    "%%bash -s \"$PHENOPLIER_NOTEBOOK_DIR\" \"$PROJECTS_TRAIT_KEY\"\n",
    "set -euo pipefail\n",
    "IFS=$'\\n\\t'\n",
    "\n",
    "# read the notebook directory parameter and remove $1\n",
    "export PHENOPLIER_NOTEBOOK_DIR=\"${PHENOPLIER_CODE_DIR}/$1\"\n",
    "shift\n",
    "\n",
    "# read trait key\n",
    "export PROJECTS_TRAIT_KEY=\"$1\"\n",
    "shift\n",
    "\n",
    "run_job () {\n",
    "    # run_job is a standard function name that performs a particular job\n",
    "    # depending on the context. It will be called by GNU Parallel below.\n",
    "    #\n",
    "    # The implementation here runs the GLS model of PhenoPLIER on a trait.\n",
    "\n",
    "    # read trait information\n",
    "    # the first parameter to this function is a string with values separated by\n",
    "    # commas (,). So here I split those into different variables.\n",
    "    IFS=',' read -r pheno_id file sample_size n_cases <<< \"$1\"\n",
    "\n",
    "    env_name=\"PHENOPLIER_PROJECTS_${PROJECTS_TRAIT_KEY}_RESULTS_DIR\"\n",
    "\n",
    "    INPUT_FILENAME=${file%.*}\n",
    "    GENE_CORR_FILE=\"${!env_name}/gls_phenoplier/gene_corrs/${pheno_id}/gene_corrs-symbols.per_lv\"\n",
    "\n",
    "    SMULTIXCAN_DIR=\"${!env_name}/twas/smultixcan\"\n",
    "    SMULTIXCAN_FILE=\"${SMULTIXCAN_DIR}/${INPUT_FILENAME}-gtex_v8-mashr-smultixcan.txt\"\n",
    "\n",
    "    OUTPUT_DIR=\"${!env_name}/gls_phenoplier/gls\"\n",
    "    mkdir -p \"${OUTPUT_DIR}\"\n",
    "\n",
    "    OUTPUT_FILENAME_BASE=\"${INPUT_FILENAME}-gls_phenoplier\"\n",
    "\n",
    "    LOG_FILE=\"${OUTPUT_DIR}/${OUTPUT_FILENAME_BASE}.log\"\n",
    "\n",
    "    # make sure we are not also parallelizing within numpy, etc\n",
    "    export NUMBA_NUM_THREADS=1\n",
    "    export MKL_NUM_THREADS=1\n",
    "    export OPEN_BLAS_NUM_THREADS=1\n",
    "    export NUMEXPR_NUM_THREADS=1\n",
    "    export OMP_NUM_THREADS=1\n",
    "\n",
    "    echo \"Running for $pheno_id\"\n",
    "    echo \"Saving results in ${OUTPUT_DIR}/${OUTPUT_FILENAME_BASE}.tsv.gz\"\n",
    "\n",
    "    bash \"${PHENOPLIER_CODE_DIR}/scripts/phenoplier_gls.sh\" \\\n",
    "        --input-file \"${SMULTIXCAN_FILE}\" \\\n",
    "        --gene-corr-file \"${GENE_CORR_FILE}\" \\\n",
    "        --covars \"gene_size gene_size_log gene_density gene_density_log\" \\\n",
    "        --output-file \"${OUTPUT_DIR}/${OUTPUT_FILENAME_BASE}.tsv.gz\" \\\n",
    "    >\"${LOG_FILE}\" 2>&1\n",
    "\n",
    "    # print errors here in the notebook\n",
    "    cat \"${LOG_FILE}\" | grep -iE \"warning|error\"\n",
    "\n",
    "    echo\n",
    "}\n",
    "\n",
    "# export function so GNU Parallel can see it\n",
    "export -f run_job\n",
    "\n",
    "# generate a list of run_job calls for GNU Parallel\n",
    "# here I read a file with information about traits (one trait per line)\n",
    "env_name=\"PHENOPLIER_PROJECTS_${PROJECTS_TRAIT_KEY}_TRAITS_INFO_FILE\"\n",
    "while IFS= read -r line; do\n",
    "    echo run_job \"${line}\"\n",
    "done < <(tail -n \"+2\" \"${!env_name}\") |\n",
    "    parallel -k --group --halt 2 -j${PHENOPLIER_GENERAL_N_JOBS}"
   ]
  },
  {
   "cell_type": "code",
   "execution_count": null,
   "id": "4c85b633-88a5-4623-b105-42c38208109e",
   "metadata": {
    "papermill": {
     "duration": 0.002815,
     "end_time": "2023-08-30T05:27:01.623780",
     "exception": false,
     "start_time": "2023-08-30T05:27:01.620965",
     "status": "completed"
    },
    "tags": []
   },
   "outputs": [],
   "source": []
  }
 ],
 "metadata": {
  "jupytext": {
   "cell_metadata_filter": "all,-execution,-papermill,-trusted",
   "notebook_metadata_filter": "-jupytext.text_representation.jupytext_version"
  },
  "kernelspec": {
   "display_name": "Python 3 (ipykernel)",
   "language": "python",
   "name": "python3"
  },
  "language_info": {
   "codemirror_mode": {
    "name": "ipython",
    "version": 3
   },
   "file_extension": ".py",
   "mimetype": "text/x-python",
   "name": "python",
   "nbconvert_exporter": "python",
   "pygments_lexer": "ipython3",
   "version": "3.10.6"
  },
  "papermill": {
   "default_parameters": {},
   "duration": 96.125105,
   "end_time": "2023-08-30T05:27:01.843454",
   "environment_variables": {},
   "exception": null,
   "input_path": "projects/chronotype/nbs/30_gls_phenoplier/01-run_gls_phenoplier.ipynb",
   "output_path": "projects/chronotype/nbs/30_gls_phenoplier/01-run_gls_phenoplier.run.ipynb",
   "parameters": {
    "PHENOPLIER_NOTEBOOK_FILEPATH": "projects/chronotype/nbs/30_gls_phenoplier/01-run_gls_phenoplier.ipynb"
   },
   "start_time": "2023-08-30T05:25:25.718349",
   "version": "2.3.4"
  }
 },
 "nbformat": 4,
 "nbformat_minor": 5
}
