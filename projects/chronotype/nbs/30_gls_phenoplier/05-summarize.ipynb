{
 "cells": [
  {
   "cell_type": "markdown",
   "id": "b7acf0c2",
   "metadata": {
    "papermill": {
     "duration": 0.007874,
     "end_time": "2023-08-30T05:33:18.046662",
     "exception": false,
     "start_time": "2023-08-30T05:33:18.038788",
     "status": "completed"
    },
    "tags": []
   },
   "source": [
    "# Description"
   ]
  },
  {
   "cell_type": "markdown",
   "id": "2653adfb",
   "metadata": {
    "papermill": {
     "duration": 0.008137,
     "end_time": "2023-08-30T05:33:18.064999",
     "exception": false,
     "start_time": "2023-08-30T05:33:18.056862",
     "status": "completed"
    },
    "tags": []
   },
   "source": [
    "It summarizes the GLS (Generalized Least Squares) results, adjusting pvalues using FDR, and saving the final results to a pickle file for later use."
   ]
  },
  {
   "cell_type": "markdown",
   "id": "fb645f46",
   "metadata": {
    "papermill": {
     "duration": 0.008683,
     "end_time": "2023-08-30T05:33:18.080827",
     "exception": false,
     "start_time": "2023-08-30T05:33:18.072144",
     "status": "completed"
    },
    "tags": []
   },
   "source": [
    "# Modules"
   ]
  },
  {
   "cell_type": "code",
   "execution_count": 1,
   "id": "7ce51c68",
   "metadata": {
    "execution": {
     "iopub.execute_input": "2023-08-30T05:33:18.098425Z",
     "iopub.status.busy": "2023-08-30T05:33:18.097676Z",
     "iopub.status.idle": "2023-08-30T05:33:18.715927Z",
     "shell.execute_reply": "2023-08-30T05:33:18.715410Z"
    },
    "papermill": {
     "duration": 0.628727,
     "end_time": "2023-08-30T05:33:18.717832",
     "exception": false,
     "start_time": "2023-08-30T05:33:18.089105",
     "status": "completed"
    },
    "tags": []
   },
   "outputs": [],
   "source": [
    "from pathlib import Path\n",
    "\n",
    "import numpy as np\n",
    "import pandas as pd\n",
    "from statsmodels.stats.multitest import multipletests\n",
    "import matplotlib.pyplot as plt\n",
    "import matplotlib as mpl\n",
    "import seaborn as sns\n",
    "\n",
    "import conf\n",
    "from phenoplier_plots import qqplot"
   ]
  },
  {
   "cell_type": "markdown",
   "id": "654985a3",
   "metadata": {
    "papermill": {
     "duration": 0.010421,
     "end_time": "2023-08-30T05:33:18.735997",
     "exception": false,
     "start_time": "2023-08-30T05:33:18.725576",
     "status": "completed"
    },
    "tags": []
   },
   "source": [
    "# Settings"
   ]
  },
  {
   "cell_type": "code",
   "execution_count": 2,
   "id": "d4e1bf58-d0ac-455a-97d8-1d892b4a38d6",
   "metadata": {
    "execution": {
     "iopub.execute_input": "2023-08-30T05:33:18.751920Z",
     "iopub.status.busy": "2023-08-30T05:33:18.751733Z",
     "iopub.status.idle": "2023-08-30T05:33:18.754872Z",
     "shell.execute_reply": "2023-08-30T05:33:18.754238Z"
    },
    "papermill": {
     "duration": 0.01316,
     "end_time": "2023-08-30T05:33:18.756483",
     "exception": false,
     "start_time": "2023-08-30T05:33:18.743323",
     "status": "completed"
    },
    "tags": [
     "parameters"
    ]
   },
   "outputs": [],
   "source": [
    "N_LVS = 987\n",
    "PROJECTS_TRAIT_KEY = \"CHRONOTYPE\""
   ]
  },
  {
   "cell_type": "code",
   "execution_count": 3,
   "id": "a1927fd1",
   "metadata": {
    "execution": {
     "iopub.execute_input": "2023-08-30T05:33:18.773306Z",
     "iopub.status.busy": "2023-08-30T05:33:18.772924Z",
     "iopub.status.idle": "2023-08-30T05:33:18.776145Z",
     "shell.execute_reply": "2023-08-30T05:33:18.775537Z"
    },
    "lines_to_next_cell": 2,
    "papermill": {
     "duration": 0.012939,
     "end_time": "2023-08-30T05:33:18.777711",
     "exception": false,
     "start_time": "2023-08-30T05:33:18.764772",
     "status": "completed"
    },
    "tags": [
     "injected-parameters"
    ]
   },
   "outputs": [],
   "source": [
    "# Parameters\n",
    "PHENOPLIER_NOTEBOOK_FILEPATH = (\n",
    "    \"projects/chronotype/nbs/30_gls_phenoplier/05-summarize.ipynb\"\n",
    ")"
   ]
  },
  {
   "cell_type": "code",
   "execution_count": 4,
   "id": "9ba4e01c",
   "metadata": {
    "execution": {
     "iopub.execute_input": "2023-08-30T05:33:18.794693Z",
     "iopub.status.busy": "2023-08-30T05:33:18.794143Z",
     "iopub.status.idle": "2023-08-30T05:33:18.806701Z",
     "shell.execute_reply": "2023-08-30T05:33:18.806087Z"
    },
    "papermill": {
     "duration": 0.022446,
     "end_time": "2023-08-30T05:33:18.808193",
     "exception": false,
     "start_time": "2023-08-30T05:33:18.785747",
     "status": "completed"
    },
    "tags": []
   },
   "outputs": [
    {
     "data": {
      "text/plain": [
       "PosixPath('/opt/data/projects/chronotype/results/gls_phenoplier/gls')"
      ]
     },
     "metadata": {},
     "output_type": "display_data"
    },
    {
     "data": {
      "text/plain": [
       "'*.tsv.gz'"
      ]
     },
     "metadata": {},
     "output_type": "display_data"
    }
   ],
   "source": [
    "INPUT_DIR = conf.PROJECTS[PROJECTS_TRAIT_KEY][\"RESULTS_DIR\"] / \"gls_phenoplier\" / \"gls\"\n",
    "display(INPUT_DIR)\n",
    "assert INPUT_DIR.exists()\n",
    "\n",
    "INPUT_PATTERN = \"*.tsv.gz\"\n",
    "display(INPUT_PATTERN)"
   ]
  },
  {
   "cell_type": "code",
   "execution_count": 5,
   "id": "3f0ceee7-2e59-493d-845c-35d131159f4b",
   "metadata": {
    "execution": {
     "iopub.execute_input": "2023-08-30T05:33:18.825468Z",
     "iopub.status.busy": "2023-08-30T05:33:18.824923Z",
     "iopub.status.idle": "2023-08-30T05:33:18.828306Z",
     "shell.execute_reply": "2023-08-30T05:33:18.827690Z"
    },
    "papermill": {
     "duration": 0.013645,
     "end_time": "2023-08-30T05:33:18.829798",
     "exception": false,
     "start_time": "2023-08-30T05:33:18.816153",
     "status": "completed"
    },
    "tags": []
   },
   "outputs": [],
   "source": [
    "PVALUE_COLUMN = \"pvalue\""
   ]
  },
  {
   "cell_type": "code",
   "execution_count": 6,
   "id": "9b6901c2-e3c5-4dfc-8ff3-b8fdeb12e3fd",
   "metadata": {
    "execution": {
     "iopub.execute_input": "2023-08-30T05:33:18.847128Z",
     "iopub.status.busy": "2023-08-30T05:33:18.846702Z",
     "iopub.status.idle": "2023-08-30T05:33:18.851222Z",
     "shell.execute_reply": "2023-08-30T05:33:18.850732Z"
    },
    "papermill": {
     "duration": 0.013868,
     "end_time": "2023-08-30T05:33:18.852068",
     "exception": false,
     "start_time": "2023-08-30T05:33:18.838200",
     "status": "completed"
    },
    "tags": []
   },
   "outputs": [
    {
     "data": {
      "text/plain": [
       "PosixPath('/opt/data/projects/chronotype/results/gls_phenoplier')"
      ]
     },
     "metadata": {},
     "output_type": "display_data"
    }
   ],
   "source": [
    "OUTPUT_DIR = conf.PROJECTS[PROJECTS_TRAIT_KEY][\"RESULTS_DIR\"] / \"gls_phenoplier\"\n",
    "display(OUTPUT_DIR)\n",
    "OUTPUT_DIR.mkdir(exist_ok=True, parents=True)"
   ]
  },
  {
   "cell_type": "markdown",
   "id": "5f2c6f72-9a30-4ced-bc9a-04b6b3b21384",
   "metadata": {
    "papermill": {
     "duration": 0.003885,
     "end_time": "2023-08-30T05:33:18.860008",
     "exception": false,
     "start_time": "2023-08-30T05:33:18.856123",
     "status": "completed"
    },
    "tags": []
   },
   "source": [
    "# Load data"
   ]
  },
  {
   "cell_type": "markdown",
   "id": "1d14b0b8-7358-4c0a-934c-2298b0436f02",
   "metadata": {
    "papermill": {
     "duration": 0.003879,
     "end_time": "2023-08-30T05:33:18.867849",
     "exception": false,
     "start_time": "2023-08-30T05:33:18.863970",
     "status": "completed"
    },
    "tags": []
   },
   "source": [
    "## Phenotype info"
   ]
  },
  {
   "cell_type": "code",
   "execution_count": 7,
   "id": "55a31713-f6d3-4639-a8a9-642e7d4e8bf7",
   "metadata": {
    "execution": {
     "iopub.execute_input": "2023-08-30T05:33:18.877312Z",
     "iopub.status.busy": "2023-08-30T05:33:18.876774Z",
     "iopub.status.idle": "2023-08-30T05:33:18.882288Z",
     "shell.execute_reply": "2023-08-30T05:33:18.881800Z"
    },
    "papermill": {
     "duration": 0.011222,
     "end_time": "2023-08-30T05:33:18.883216",
     "exception": false,
     "start_time": "2023-08-30T05:33:18.871994",
     "status": "completed"
    },
    "tags": []
   },
   "outputs": [],
   "source": [
    "pheno_info = pd.read_csv(conf.PROJECTS[PROJECTS_TRAIT_KEY][\"TRAITS_INFO_FILE\"])"
   ]
  },
  {
   "cell_type": "code",
   "execution_count": 8,
   "id": "0cb2c235-1b72-498a-8d98-80950fc48faa",
   "metadata": {
    "execution": {
     "iopub.execute_input": "2023-08-30T05:33:18.892473Z",
     "iopub.status.busy": "2023-08-30T05:33:18.891971Z",
     "iopub.status.idle": "2023-08-30T05:33:18.896072Z",
     "shell.execute_reply": "2023-08-30T05:33:18.895578Z"
    },
    "papermill": {
     "duration": 0.009607,
     "end_time": "2023-08-30T05:33:18.896950",
     "exception": false,
     "start_time": "2023-08-30T05:33:18.887343",
     "status": "completed"
    },
    "tags": []
   },
   "outputs": [
    {
     "data": {
      "text/plain": [
       "(1, 4)"
      ]
     },
     "execution_count": 8,
     "metadata": {},
     "output_type": "execute_result"
    }
   ],
   "source": [
    "pheno_info.shape"
   ]
  },
  {
   "cell_type": "code",
   "execution_count": 9,
   "id": "c286789f-6d0a-4162-bf8d-7bcf82d9089d",
   "metadata": {
    "execution": {
     "iopub.execute_input": "2023-08-30T05:33:18.906182Z",
     "iopub.status.busy": "2023-08-30T05:33:18.905745Z",
     "iopub.status.idle": "2023-08-30T05:33:18.913813Z",
     "shell.execute_reply": "2023-08-30T05:33:18.913314Z"
    },
    "papermill": {
     "duration": 0.013556,
     "end_time": "2023-08-30T05:33:18.914668",
     "exception": false,
     "start_time": "2023-08-30T05:33:18.901112",
     "status": "completed"
    },
    "tags": []
   },
   "outputs": [
    {
     "data": {
      "text/html": [
       "<div>\n",
       "<style scoped>\n",
       "    .dataframe tbody tr th:only-of-type {\n",
       "        vertical-align: middle;\n",
       "    }\n",
       "\n",
       "    .dataframe tbody tr th {\n",
       "        vertical-align: top;\n",
       "    }\n",
       "\n",
       "    .dataframe thead th {\n",
       "        text-align: right;\n",
       "    }\n",
       "</style>\n",
       "<table border=\"1\" class=\"dataframe\">\n",
       "  <thead>\n",
       "    <tr style=\"text-align: right;\">\n",
       "      <th></th>\n",
       "      <th>id</th>\n",
       "      <th>gwas_file</th>\n",
       "      <th>sample_size</th>\n",
       "      <th>n_cases</th>\n",
       "    </tr>\n",
       "  </thead>\n",
       "  <tbody>\n",
       "    <tr>\n",
       "      <th>0</th>\n",
       "      <td>chronotype</td>\n",
       "      <td>chronotype_raw_BOLT.output_HRC.only_plus.metri...</td>\n",
       "      <td>449734</td>\n",
       "      <td>NaN</td>\n",
       "    </tr>\n",
       "  </tbody>\n",
       "</table>\n",
       "</div>"
      ],
      "text/plain": [
       "           id                                          gwas_file  sample_size  \\\n",
       "0  chronotype  chronotype_raw_BOLT.output_HRC.only_plus.metri...       449734   \n",
       "\n",
       "   n_cases  \n",
       "0      NaN  "
      ]
     },
     "execution_count": 9,
     "metadata": {},
     "output_type": "execute_result"
    }
   ],
   "source": [
    "pheno_info.head()"
   ]
  },
  {
   "cell_type": "code",
   "execution_count": 10,
   "id": "3c97a69a-a6fa-4868-a20e-88bdb4636641",
   "metadata": {
    "execution": {
     "iopub.execute_input": "2023-08-30T05:33:18.924459Z",
     "iopub.status.busy": "2023-08-30T05:33:18.924006Z",
     "iopub.status.idle": "2023-08-30T05:33:18.927128Z",
     "shell.execute_reply": "2023-08-30T05:33:18.926621Z"
    },
    "papermill": {
     "duration": 0.009091,
     "end_time": "2023-08-30T05:33:18.928046",
     "exception": false,
     "start_time": "2023-08-30T05:33:18.918955",
     "status": "completed"
    },
    "tags": []
   },
   "outputs": [],
   "source": [
    "assert pheno_info[\"id\"].is_unique"
   ]
  },
  {
   "cell_type": "code",
   "execution_count": 11,
   "id": "61f3598e-d200-4847-865e-c318daad3d98",
   "metadata": {
    "execution": {
     "iopub.execute_input": "2023-08-30T05:33:18.937562Z",
     "iopub.status.busy": "2023-08-30T05:33:18.937129Z",
     "iopub.status.idle": "2023-08-30T05:33:18.940032Z",
     "shell.execute_reply": "2023-08-30T05:33:18.939536Z"
    },
    "papermill": {
     "duration": 0.008626,
     "end_time": "2023-08-30T05:33:18.940947",
     "exception": false,
     "start_time": "2023-08-30T05:33:18.932321",
     "status": "completed"
    },
    "tags": []
   },
   "outputs": [],
   "source": [
    "N_PHENOTYPES = pheno_info.shape[0]"
   ]
  },
  {
   "cell_type": "code",
   "execution_count": 12,
   "id": "aa15fe3b-cd3c-45c1-ad4e-29b5bc8aa5f9",
   "metadata": {
    "execution": {
     "iopub.execute_input": "2023-08-30T05:33:18.950449Z",
     "iopub.status.busy": "2023-08-30T05:33:18.950030Z",
     "iopub.status.idle": "2023-08-30T05:33:18.952727Z",
     "shell.execute_reply": "2023-08-30T05:33:18.952234Z"
    },
    "papermill": {
     "duration": 0.008353,
     "end_time": "2023-08-30T05:33:18.953574",
     "exception": false,
     "start_time": "2023-08-30T05:33:18.945221",
     "status": "completed"
    },
    "tags": []
   },
   "outputs": [],
   "source": [
    "# pheno_code_to_desc_map = pheno_info.set_index(\"short_code\")[\n",
    "#     \"unique_description\"\n",
    "# ].to_dict()"
   ]
  },
  {
   "cell_type": "markdown",
   "id": "d8e6a40d-2049-4bd7-a5e4-77e45723da4f",
   "metadata": {
    "papermill": {
     "duration": 0.004482,
     "end_time": "2023-08-30T05:33:18.962358",
     "exception": false,
     "start_time": "2023-08-30T05:33:18.957876",
     "status": "completed"
    },
    "tags": []
   },
   "source": [
    "## GLS results"
   ]
  },
  {
   "cell_type": "markdown",
   "id": "0b8c03b8-78d5-4cbe-b9f2-7c9be063c483",
   "metadata": {
    "papermill": {
     "duration": 0.004268,
     "end_time": "2023-08-30T05:33:18.970903",
     "exception": false,
     "start_time": "2023-08-30T05:33:18.966635",
     "status": "completed"
    },
    "tags": []
   },
   "source": [
    "### Get files list"
   ]
  },
  {
   "cell_type": "code",
   "execution_count": 13,
   "id": "f920bc02-8297-4bd9-8601-665f079cbf91",
   "metadata": {
    "execution": {
     "iopub.execute_input": "2023-08-30T05:33:18.980435Z",
     "iopub.status.busy": "2023-08-30T05:33:18.979987Z",
     "iopub.status.idle": "2023-08-30T05:33:18.984185Z",
     "shell.execute_reply": "2023-08-30T05:33:18.983698Z"
    },
    "papermill": {
     "duration": 0.009881,
     "end_time": "2023-08-30T05:33:18.985053",
     "exception": false,
     "start_time": "2023-08-30T05:33:18.975172",
     "status": "completed"
    },
    "tags": []
   },
   "outputs": [
    {
     "data": {
      "text/plain": [
       "[PosixPath('/opt/data/projects/chronotype/results/gls_phenoplier/gls/chronotype_raw_BOLT.output_HRC.only_plus.metrics_maf0.001_hwep1em12_info0.3.txt-gls_phenoplier.tsv.gz')]"
      ]
     },
     "metadata": {},
     "output_type": "display_data"
    }
   ],
   "source": [
    "INPUT_FILES = list(INPUT_DIR.glob(INPUT_PATTERN))\n",
    "display(INPUT_FILES[:5])"
   ]
  },
  {
   "cell_type": "code",
   "execution_count": 14,
   "id": "78294bb3-db99-45ae-8c98-44b74737b56d",
   "metadata": {
    "execution": {
     "iopub.execute_input": "2023-08-30T05:33:18.995037Z",
     "iopub.status.busy": "2023-08-30T05:33:18.994518Z",
     "iopub.status.idle": "2023-08-30T05:33:18.998624Z",
     "shell.execute_reply": "2023-08-30T05:33:18.998138Z"
    },
    "papermill": {
     "duration": 0.009873,
     "end_time": "2023-08-30T05:33:18.999486",
     "exception": false,
     "start_time": "2023-08-30T05:33:18.989613",
     "status": "completed"
    },
    "tags": []
   },
   "outputs": [
    {
     "data": {
      "text/plain": [
       "1"
      ]
     },
     "metadata": {},
     "output_type": "display_data"
    }
   ],
   "source": [
    "_tmp = len(INPUT_FILES)\n",
    "display(_tmp)\n",
    "assert _tmp == N_PHENOTYPES"
   ]
  },
  {
   "cell_type": "markdown",
   "id": "b582e77d-0f1d-4659-a5fd-d963904931cb",
   "metadata": {
    "papermill": {
     "duration": 0.004382,
     "end_time": "2023-08-30T05:33:19.008389",
     "exception": false,
     "start_time": "2023-08-30T05:33:19.004007",
     "status": "completed"
    },
    "tags": []
   },
   "source": [
    "### Read results"
   ]
  },
  {
   "cell_type": "code",
   "execution_count": 15,
   "id": "a082aeb1-c444-41f1-9f7e-d935c84cda8c",
   "metadata": {
    "execution": {
     "iopub.execute_input": "2023-08-30T05:33:19.018447Z",
     "iopub.status.busy": "2023-08-30T05:33:19.017885Z",
     "iopub.status.idle": "2023-08-30T05:33:19.021995Z",
     "shell.execute_reply": "2023-08-30T05:33:19.021443Z"
    },
    "papermill": {
     "duration": 0.01013,
     "end_time": "2023-08-30T05:33:19.022936",
     "exception": false,
     "start_time": "2023-08-30T05:33:19.012806",
     "status": "completed"
    },
    "tags": []
   },
   "outputs": [
    {
     "data": {
      "text/plain": [
       "'chronotype_raw_BOLT.output_HRC.only_plus.metrics_maf0.001_hwep1em12_info0.3.txt-'"
      ]
     },
     "execution_count": 15,
     "metadata": {},
     "output_type": "execute_result"
    }
   ],
   "source": [
    "INPUT_FILES[0].name.split(\"gls_phenoplier.\")[0]"
   ]
  },
  {
   "cell_type": "code",
   "execution_count": 16,
   "id": "18ebfb6c",
   "metadata": {
    "execution": {
     "iopub.execute_input": "2023-08-30T05:33:19.033575Z",
     "iopub.status.busy": "2023-08-30T05:33:19.032996Z",
     "iopub.status.idle": "2023-08-30T05:33:19.041997Z",
     "shell.execute_reply": "2023-08-30T05:33:19.041468Z"
    },
    "papermill": {
     "duration": 0.015103,
     "end_time": "2023-08-30T05:33:19.042889",
     "exception": false,
     "start_time": "2023-08-30T05:33:19.027786",
     "status": "completed"
    },
    "tags": []
   },
   "outputs": [],
   "source": [
    "dfs = [\n",
    "    pd.read_csv(\n",
    "        f, sep=\"\\t\", usecols=[\"lv\", \"beta\", \"beta_se\", \"pvalue_onesided\"]\n",
    "    ).assign(phenotype=f.name.split(\"gls_phenoplier.\")[0])\n",
    "    for f in INPUT_FILES\n",
    "]"
   ]
  },
  {
   "cell_type": "code",
   "execution_count": 17,
   "id": "ac3b6041",
   "metadata": {
    "execution": {
     "iopub.execute_input": "2023-08-30T05:33:19.053012Z",
     "iopub.status.busy": "2023-08-30T05:33:19.052583Z",
     "iopub.status.idle": "2023-08-30T05:33:19.056998Z",
     "shell.execute_reply": "2023-08-30T05:33:19.056381Z"
    },
    "papermill": {
     "duration": 0.01042,
     "end_time": "2023-08-30T05:33:19.057926",
     "exception": false,
     "start_time": "2023-08-30T05:33:19.047506",
     "status": "completed"
    },
    "tags": []
   },
   "outputs": [
    {
     "data": {
      "text/plain": [
       "1"
      ]
     },
     "metadata": {},
     "output_type": "display_data"
    }
   ],
   "source": [
    "display(len(dfs))\n",
    "assert len(dfs) == N_PHENOTYPES"
   ]
  },
  {
   "cell_type": "code",
   "execution_count": 18,
   "id": "d15f7346",
   "metadata": {
    "execution": {
     "iopub.execute_input": "2023-08-30T05:33:19.068437Z",
     "iopub.status.busy": "2023-08-30T05:33:19.068000Z",
     "iopub.status.idle": "2023-08-30T05:33:19.072357Z",
     "shell.execute_reply": "2023-08-30T05:33:19.071793Z"
    },
    "papermill": {
     "duration": 0.010636,
     "end_time": "2023-08-30T05:33:19.073257",
     "exception": false,
     "start_time": "2023-08-30T05:33:19.062621",
     "status": "completed"
    },
    "tags": []
   },
   "outputs": [],
   "source": [
    "dfs = pd.concat(dfs, axis=0, ignore_index=True).rename(\n",
    "    columns={\"pvalue_onesided\": PVALUE_COLUMN}\n",
    ")"
   ]
  },
  {
   "cell_type": "code",
   "execution_count": 19,
   "id": "7405b07c-b71a-4a8f-924b-f9ffc7a0b13a",
   "metadata": {
    "execution": {
     "iopub.execute_input": "2023-08-30T05:33:19.083402Z",
     "iopub.status.busy": "2023-08-30T05:33:19.082993Z",
     "iopub.status.idle": "2023-08-30T05:33:19.087086Z",
     "shell.execute_reply": "2023-08-30T05:33:19.086524Z"
    },
    "papermill": {
     "duration": 0.010137,
     "end_time": "2023-08-30T05:33:19.087994",
     "exception": false,
     "start_time": "2023-08-30T05:33:19.077857",
     "status": "completed"
    },
    "tags": []
   },
   "outputs": [
    {
     "data": {
      "text/plain": [
       "(987, 5)"
      ]
     },
     "metadata": {},
     "output_type": "display_data"
    }
   ],
   "source": [
    "display(dfs.shape)\n",
    "assert dfs.shape[0] == N_PHENOTYPES * N_LVS"
   ]
  },
  {
   "cell_type": "code",
   "execution_count": 20,
   "id": "921c9f6b-69e2-46ba-9dcd-bce387c6aabc",
   "metadata": {
    "execution": {
     "iopub.execute_input": "2023-08-30T05:33:19.098267Z",
     "iopub.status.busy": "2023-08-30T05:33:19.097872Z",
     "iopub.status.idle": "2023-08-30T05:33:19.100750Z",
     "shell.execute_reply": "2023-08-30T05:33:19.100204Z"
    },
    "papermill": {
     "duration": 0.008975,
     "end_time": "2023-08-30T05:33:19.101645",
     "exception": false,
     "start_time": "2023-08-30T05:33:19.092670",
     "status": "completed"
    },
    "tags": []
   },
   "outputs": [],
   "source": [
    "# # add phenotype description\n",
    "# dfs = dfs.assign(\n",
    "#     phenotype_desc=dfs[\"phenotype\"].apply(lambda x: pheno_code_to_desc_map[x])\n",
    "# )\n",
    "# dfs = dfs[[\"phenotype\", \"phenotype_desc\", \"lv\", \"pvalue\"]]"
   ]
  },
  {
   "cell_type": "code",
   "execution_count": 21,
   "id": "228787ad-0cbb-4f3b-b964-0bc148a1a305",
   "metadata": {
    "execution": {
     "iopub.execute_input": "2023-08-30T05:33:19.112307Z",
     "iopub.status.busy": "2023-08-30T05:33:19.111867Z",
     "iopub.status.idle": "2023-08-30T05:33:19.120178Z",
     "shell.execute_reply": "2023-08-30T05:33:19.119629Z"
    },
    "papermill": {
     "duration": 0.014477,
     "end_time": "2023-08-30T05:33:19.121082",
     "exception": false,
     "start_time": "2023-08-30T05:33:19.106605",
     "status": "completed"
    },
    "tags": []
   },
   "outputs": [
    {
     "data": {
      "text/html": [
       "<div>\n",
       "<style scoped>\n",
       "    .dataframe tbody tr th:only-of-type {\n",
       "        vertical-align: middle;\n",
       "    }\n",
       "\n",
       "    .dataframe tbody tr th {\n",
       "        vertical-align: top;\n",
       "    }\n",
       "\n",
       "    .dataframe thead th {\n",
       "        text-align: right;\n",
       "    }\n",
       "</style>\n",
       "<table border=\"1\" class=\"dataframe\">\n",
       "  <thead>\n",
       "    <tr style=\"text-align: right;\">\n",
       "      <th></th>\n",
       "      <th>lv</th>\n",
       "      <th>beta</th>\n",
       "      <th>beta_se</th>\n",
       "      <th>pvalue</th>\n",
       "      <th>phenotype</th>\n",
       "    </tr>\n",
       "  </thead>\n",
       "  <tbody>\n",
       "    <tr>\n",
       "      <th>0</th>\n",
       "      <td>LV402</td>\n",
       "      <td>0.854006</td>\n",
       "      <td>0.125185</td>\n",
       "      <td>4.900525e-12</td>\n",
       "      <td>chronotype_raw_BOLT.output_HRC.only_plus.metri...</td>\n",
       "    </tr>\n",
       "    <tr>\n",
       "      <th>1</th>\n",
       "      <td>LV367</td>\n",
       "      <td>0.565019</td>\n",
       "      <td>0.124547</td>\n",
       "      <td>2.910352e-06</td>\n",
       "      <td>chronotype_raw_BOLT.output_HRC.only_plus.metri...</td>\n",
       "    </tr>\n",
       "    <tr>\n",
       "      <th>2</th>\n",
       "      <td>LV156</td>\n",
       "      <td>0.547662</td>\n",
       "      <td>0.125244</td>\n",
       "      <td>6.230358e-06</td>\n",
       "      <td>chronotype_raw_BOLT.output_HRC.only_plus.metri...</td>\n",
       "    </tr>\n",
       "    <tr>\n",
       "      <th>3</th>\n",
       "      <td>LV215</td>\n",
       "      <td>0.431578</td>\n",
       "      <td>0.125153</td>\n",
       "      <td>2.837635e-04</td>\n",
       "      <td>chronotype_raw_BOLT.output_HRC.only_plus.metri...</td>\n",
       "    </tr>\n",
       "    <tr>\n",
       "      <th>4</th>\n",
       "      <td>LV727</td>\n",
       "      <td>0.438011</td>\n",
       "      <td>0.127459</td>\n",
       "      <td>2.965273e-04</td>\n",
       "      <td>chronotype_raw_BOLT.output_HRC.only_plus.metri...</td>\n",
       "    </tr>\n",
       "  </tbody>\n",
       "</table>\n",
       "</div>"
      ],
      "text/plain": [
       "      lv      beta   beta_se        pvalue  \\\n",
       "0  LV402  0.854006  0.125185  4.900525e-12   \n",
       "1  LV367  0.565019  0.124547  2.910352e-06   \n",
       "2  LV156  0.547662  0.125244  6.230358e-06   \n",
       "3  LV215  0.431578  0.125153  2.837635e-04   \n",
       "4  LV727  0.438011  0.127459  2.965273e-04   \n",
       "\n",
       "                                           phenotype  \n",
       "0  chronotype_raw_BOLT.output_HRC.only_plus.metri...  \n",
       "1  chronotype_raw_BOLT.output_HRC.only_plus.metri...  \n",
       "2  chronotype_raw_BOLT.output_HRC.only_plus.metri...  \n",
       "3  chronotype_raw_BOLT.output_HRC.only_plus.metri...  \n",
       "4  chronotype_raw_BOLT.output_HRC.only_plus.metri...  "
      ]
     },
     "execution_count": 21,
     "metadata": {},
     "output_type": "execute_result"
    }
   ],
   "source": [
    "dfs.head()"
   ]
  },
  {
   "cell_type": "code",
   "execution_count": 22,
   "id": "97764d1b-af87-46a2-ab78-53df39b0dde3",
   "metadata": {
    "execution": {
     "iopub.execute_input": "2023-08-30T05:33:19.131955Z",
     "iopub.status.busy": "2023-08-30T05:33:19.131420Z",
     "iopub.status.idle": "2023-08-30T05:33:19.136007Z",
     "shell.execute_reply": "2023-08-30T05:33:19.135447Z"
    },
    "papermill": {
     "duration": 0.011003,
     "end_time": "2023-08-30T05:33:19.136918",
     "exception": false,
     "start_time": "2023-08-30T05:33:19.125915",
     "status": "completed"
    },
    "tags": []
   },
   "outputs": [],
   "source": [
    "_tmp = dfs.groupby(\"phenotype\")[\"lv\"].nunique().unique()\n",
    "assert _tmp.shape[0] == 1\n",
    "assert _tmp[0] == N_LVS"
   ]
  },
  {
   "cell_type": "markdown",
   "id": "f5310838-2f3e-4f4d-b32a-904cefde6a6a",
   "metadata": {
    "papermill": {
     "duration": 0.004927,
     "end_time": "2023-08-30T05:33:19.146657",
     "exception": false,
     "start_time": "2023-08-30T05:33:19.141730",
     "status": "completed"
    },
    "tags": []
   },
   "source": [
    "### FDR adjust"
   ]
  },
  {
   "cell_type": "code",
   "execution_count": 23,
   "id": "d7e8301f-3cbe-4fe9-973f-cd26f74c2164",
   "metadata": {
    "execution": {
     "iopub.execute_input": "2023-08-30T05:33:19.157360Z",
     "iopub.status.busy": "2023-08-30T05:33:19.156886Z",
     "iopub.status.idle": "2023-08-30T05:33:19.160901Z",
     "shell.execute_reply": "2023-08-30T05:33:19.160346Z"
    },
    "papermill": {
     "duration": 0.010245,
     "end_time": "2023-08-30T05:33:19.161716",
     "exception": false,
     "start_time": "2023-08-30T05:33:19.151471",
     "status": "completed"
    },
    "tags": []
   },
   "outputs": [],
   "source": [
    "adj_pval = multipletests(dfs[PVALUE_COLUMN], alpha=0.05, method=\"fdr_bh\")\n",
    "dfs = dfs.assign(fdr=adj_pval[1])"
   ]
  },
  {
   "cell_type": "code",
   "execution_count": 24,
   "id": "5878bb72-b4b7-4c8a-9494-f5e9e191b638",
   "metadata": {
    "execution": {
     "iopub.execute_input": "2023-08-30T05:33:19.172376Z",
     "iopub.status.busy": "2023-08-30T05:33:19.171964Z",
     "iopub.status.idle": "2023-08-30T05:33:19.175868Z",
     "shell.execute_reply": "2023-08-30T05:33:19.175319Z"
    },
    "papermill": {
     "duration": 0.010124,
     "end_time": "2023-08-30T05:33:19.176689",
     "exception": false,
     "start_time": "2023-08-30T05:33:19.166565",
     "status": "completed"
    },
    "tags": []
   },
   "outputs": [
    {
     "data": {
      "text/plain": [
       "(987, 6)"
      ]
     },
     "execution_count": 24,
     "metadata": {},
     "output_type": "execute_result"
    }
   ],
   "source": [
    "dfs.shape"
   ]
  },
  {
   "cell_type": "code",
   "execution_count": 25,
   "id": "0623dadc-a934-4ae2-b514-8029fd8fbed2",
   "metadata": {
    "execution": {
     "iopub.execute_input": "2023-08-30T05:33:19.187584Z",
     "iopub.status.busy": "2023-08-30T05:33:19.187195Z",
     "iopub.status.idle": "2023-08-30T05:33:19.196096Z",
     "shell.execute_reply": "2023-08-30T05:33:19.195530Z"
    },
    "papermill": {
     "duration": 0.015295,
     "end_time": "2023-08-30T05:33:19.197008",
     "exception": false,
     "start_time": "2023-08-30T05:33:19.181713",
     "status": "completed"
    },
    "tags": []
   },
   "outputs": [
    {
     "data": {
      "text/html": [
       "<div>\n",
       "<style scoped>\n",
       "    .dataframe tbody tr th:only-of-type {\n",
       "        vertical-align: middle;\n",
       "    }\n",
       "\n",
       "    .dataframe tbody tr th {\n",
       "        vertical-align: top;\n",
       "    }\n",
       "\n",
       "    .dataframe thead th {\n",
       "        text-align: right;\n",
       "    }\n",
       "</style>\n",
       "<table border=\"1\" class=\"dataframe\">\n",
       "  <thead>\n",
       "    <tr style=\"text-align: right;\">\n",
       "      <th></th>\n",
       "      <th>lv</th>\n",
       "      <th>beta</th>\n",
       "      <th>beta_se</th>\n",
       "      <th>pvalue</th>\n",
       "      <th>phenotype</th>\n",
       "      <th>fdr</th>\n",
       "    </tr>\n",
       "  </thead>\n",
       "  <tbody>\n",
       "    <tr>\n",
       "      <th>0</th>\n",
       "      <td>LV402</td>\n",
       "      <td>0.854006</td>\n",
       "      <td>0.125185</td>\n",
       "      <td>4.900525e-12</td>\n",
       "      <td>chronotype_raw_BOLT.output_HRC.only_plus.metri...</td>\n",
       "      <td>4.836818e-09</td>\n",
       "    </tr>\n",
       "    <tr>\n",
       "      <th>1</th>\n",
       "      <td>LV367</td>\n",
       "      <td>0.565019</td>\n",
       "      <td>0.124547</td>\n",
       "      <td>2.910352e-06</td>\n",
       "      <td>chronotype_raw_BOLT.output_HRC.only_plus.metri...</td>\n",
       "      <td>1.436259e-03</td>\n",
       "    </tr>\n",
       "    <tr>\n",
       "      <th>2</th>\n",
       "      <td>LV156</td>\n",
       "      <td>0.547662</td>\n",
       "      <td>0.125244</td>\n",
       "      <td>6.230358e-06</td>\n",
       "      <td>chronotype_raw_BOLT.output_HRC.only_plus.metri...</td>\n",
       "      <td>2.049788e-03</td>\n",
       "    </tr>\n",
       "    <tr>\n",
       "      <th>3</th>\n",
       "      <td>LV215</td>\n",
       "      <td>0.431578</td>\n",
       "      <td>0.125153</td>\n",
       "      <td>2.837635e-04</td>\n",
       "      <td>chronotype_raw_BOLT.output_HRC.only_plus.metri...</td>\n",
       "      <td>4.460674e-02</td>\n",
       "    </tr>\n",
       "    <tr>\n",
       "      <th>4</th>\n",
       "      <td>LV727</td>\n",
       "      <td>0.438011</td>\n",
       "      <td>0.127459</td>\n",
       "      <td>2.965273e-04</td>\n",
       "      <td>chronotype_raw_BOLT.output_HRC.only_plus.metri...</td>\n",
       "      <td>4.460674e-02</td>\n",
       "    </tr>\n",
       "  </tbody>\n",
       "</table>\n",
       "</div>"
      ],
      "text/plain": [
       "      lv      beta   beta_se        pvalue  \\\n",
       "0  LV402  0.854006  0.125185  4.900525e-12   \n",
       "1  LV367  0.565019  0.124547  2.910352e-06   \n",
       "2  LV156  0.547662  0.125244  6.230358e-06   \n",
       "3  LV215  0.431578  0.125153  2.837635e-04   \n",
       "4  LV727  0.438011  0.127459  2.965273e-04   \n",
       "\n",
       "                                           phenotype           fdr  \n",
       "0  chronotype_raw_BOLT.output_HRC.only_plus.metri...  4.836818e-09  \n",
       "1  chronotype_raw_BOLT.output_HRC.only_plus.metri...  1.436259e-03  \n",
       "2  chronotype_raw_BOLT.output_HRC.only_plus.metri...  2.049788e-03  \n",
       "3  chronotype_raw_BOLT.output_HRC.only_plus.metri...  4.460674e-02  \n",
       "4  chronotype_raw_BOLT.output_HRC.only_plus.metri...  4.460674e-02  "
      ]
     },
     "execution_count": 25,
     "metadata": {},
     "output_type": "execute_result"
    }
   ],
   "source": [
    "dfs.head()"
   ]
  },
  {
   "cell_type": "markdown",
   "id": "ec45e443-0a39-46a7-85c7-540193a15f25",
   "metadata": {
    "papermill": {
     "duration": 0.005049,
     "end_time": "2023-08-30T05:33:19.207167",
     "exception": false,
     "start_time": "2023-08-30T05:33:19.202118",
     "status": "completed"
    },
    "tags": []
   },
   "source": [
    "# QQ-plot"
   ]
  },
  {
   "cell_type": "code",
   "execution_count": 26,
   "id": "de7de0f0-493d-4426-aa14-a330f612407f",
   "metadata": {
    "execution": {
     "iopub.execute_input": "2023-08-30T05:33:19.218758Z",
     "iopub.status.busy": "2023-08-30T05:33:19.218190Z",
     "iopub.status.idle": "2023-08-30T05:33:19.430423Z",
     "shell.execute_reply": "2023-08-30T05:33:19.429931Z"
    },
    "papermill": {
     "duration": 0.218864,
     "end_time": "2023-08-30T05:33:19.431228",
     "exception": false,
     "start_time": "2023-08-30T05:33:19.212364",
     "status": "completed"
    },
    "tags": []
   },
   "outputs": [
    {
     "data": {
      "image/png": "[encoded data removed]",
      "text/plain": [
       "<Figure size 800x800 with 1 Axes>"
      ]
     },
     "metadata": {},
     "output_type": "display_data"
    }
   ],
   "source": [
    "with sns.plotting_context(\"paper\", font_scale=1.8), mpl.rc_context(\n",
    "    {\"lines.markersize\": 3}\n",
    "):\n",
    "    fig, ax = qqplot(dfs[\"pvalue\"])\n",
    "    ax.set_title(f\"{PROJECTS_TRAIT_KEY} - {N_PHENOTYPES} traits\")"
   ]
  },
  {
   "cell_type": "markdown",
   "id": "44f26913-0b71-44ba-a884-3a83d221c748",
   "metadata": {
    "papermill": {
     "duration": 0.008361,
     "end_time": "2023-08-30T05:33:19.448365",
     "exception": false,
     "start_time": "2023-08-30T05:33:19.440004",
     "status": "completed"
    },
    "tags": []
   },
   "source": [
    "# Top hits"
   ]
  },
  {
   "cell_type": "code",
   "execution_count": 27,
   "id": "d4731278-0adc-47f1-ba18-556e37472026",
   "metadata": {
    "execution": {
     "iopub.execute_input": "2023-08-30T05:33:19.465264Z",
     "iopub.status.busy": "2023-08-30T05:33:19.465125Z",
     "iopub.status.idle": "2023-08-30T05:33:19.472856Z",
     "shell.execute_reply": "2023-08-30T05:33:19.472416Z"
    },
    "papermill": {
     "duration": 0.017572,
     "end_time": "2023-08-30T05:33:19.473980",
     "exception": false,
     "start_time": "2023-08-30T05:33:19.456408",
     "status": "completed"
    },
    "tags": []
   },
   "outputs": [
    {
     "data": {
      "text/html": [
       "<div>\n",
       "<style scoped>\n",
       "    .dataframe tbody tr th:only-of-type {\n",
       "        vertical-align: middle;\n",
       "    }\n",
       "\n",
       "    .dataframe tbody tr th {\n",
       "        vertical-align: top;\n",
       "    }\n",
       "\n",
       "    .dataframe thead th {\n",
       "        text-align: right;\n",
       "    }\n",
       "</style>\n",
       "<table border=\"1\" class=\"dataframe\">\n",
       "  <thead>\n",
       "    <tr style=\"text-align: right;\">\n",
       "      <th></th>\n",
       "      <th>lv</th>\n",
       "      <th>beta</th>\n",
       "      <th>beta_se</th>\n",
       "      <th>pvalue</th>\n",
       "      <th>phenotype</th>\n",
       "      <th>fdr</th>\n",
       "    </tr>\n",
       "  </thead>\n",
       "  <tbody>\n",
       "    <tr>\n",
       "      <th>0</th>\n",
       "      <td>LV402</td>\n",
       "      <td>0.854006</td>\n",
       "      <td>0.125185</td>\n",
       "      <td>4.900525e-12</td>\n",
       "      <td>chronotype_raw_BOLT.output_HRC.only_plus.metrics_maf0.001_hwep1em12_info0.3.txt-</td>\n",
       "      <td>4.836818e-09</td>\n",
       "    </tr>\n",
       "    <tr>\n",
       "      <th>1</th>\n",
       "      <td>LV367</td>\n",
       "      <td>0.565019</td>\n",
       "      <td>0.124547</td>\n",
       "      <td>2.910352e-06</td>\n",
       "      <td>chronotype_raw_BOLT.output_HRC.only_plus.metrics_maf0.001_hwep1em12_info0.3.txt-</td>\n",
       "      <td>1.436259e-03</td>\n",
       "    </tr>\n",
       "    <tr>\n",
       "      <th>2</th>\n",
       "      <td>LV156</td>\n",
       "      <td>0.547662</td>\n",
       "      <td>0.125244</td>\n",
       "      <td>6.230358e-06</td>\n",
       "      <td>chronotype_raw_BOLT.output_HRC.only_plus.metrics_maf0.001_hwep1em12_info0.3.txt-</td>\n",
       "      <td>2.049788e-03</td>\n",
       "    </tr>\n",
       "    <tr>\n",
       "      <th>3</th>\n",
       "      <td>LV215</td>\n",
       "      <td>0.431578</td>\n",
       "      <td>0.125153</td>\n",
       "      <td>2.837635e-04</td>\n",
       "      <td>chronotype_raw_BOLT.output_HRC.only_plus.metrics_maf0.001_hwep1em12_info0.3.txt-</td>\n",
       "      <td>4.460674e-02</td>\n",
       "    </tr>\n",
       "    <tr>\n",
       "      <th>4</th>\n",
       "      <td>LV727</td>\n",
       "      <td>0.438011</td>\n",
       "      <td>0.127459</td>\n",
       "      <td>2.965273e-04</td>\n",
       "      <td>chronotype_raw_BOLT.output_HRC.only_plus.metrics_maf0.001_hwep1em12_info0.3.txt-</td>\n",
       "      <td>4.460674e-02</td>\n",
       "    </tr>\n",
       "    <tr>\n",
       "      <th>5</th>\n",
       "      <td>LV616</td>\n",
       "      <td>0.427082</td>\n",
       "      <td>0.125028</td>\n",
       "      <td>3.198417e-04</td>\n",
       "      <td>chronotype_raw_BOLT.output_HRC.only_plus.metrics_maf0.001_hwep1em12_info0.3.txt-</td>\n",
       "      <td>4.460674e-02</td>\n",
       "    </tr>\n",
       "    <tr>\n",
       "      <th>6</th>\n",
       "      <td>LV797</td>\n",
       "      <td>0.429151</td>\n",
       "      <td>0.125676</td>\n",
       "      <td>3.211664e-04</td>\n",
       "      <td>chronotype_raw_BOLT.output_HRC.only_plus.metrics_maf0.001_hwep1em12_info0.3.txt-</td>\n",
       "      <td>4.460674e-02</td>\n",
       "    </tr>\n",
       "    <tr>\n",
       "      <th>7</th>\n",
       "      <td>LV228</td>\n",
       "      <td>0.422892</td>\n",
       "      <td>0.125031</td>\n",
       "      <td>3.615541e-04</td>\n",
       "      <td>chronotype_raw_BOLT.output_HRC.only_plus.metrics_maf0.001_hwep1em12_info0.3.txt-</td>\n",
       "      <td>4.460674e-02</td>\n",
       "    </tr>\n",
       "  </tbody>\n",
       "</table>\n",
       "</div>"
      ],
      "text/plain": [
       "      lv      beta   beta_se        pvalue  \\\n",
       "0  LV402  0.854006  0.125185  4.900525e-12   \n",
       "1  LV367  0.565019  0.124547  2.910352e-06   \n",
       "2  LV156  0.547662  0.125244  6.230358e-06   \n",
       "3  LV215  0.431578  0.125153  2.837635e-04   \n",
       "4  LV727  0.438011  0.127459  2.965273e-04   \n",
       "5  LV616  0.427082  0.125028  3.198417e-04   \n",
       "6  LV797  0.429151  0.125676  3.211664e-04   \n",
       "7  LV228  0.422892  0.125031  3.615541e-04   \n",
       "\n",
       "                                                                          phenotype  \\\n",
       "0  chronotype_raw_BOLT.output_HRC.only_plus.metrics_maf0.001_hwep1em12_info0.3.txt-   \n",
       "1  chronotype_raw_BOLT.output_HRC.only_plus.metrics_maf0.001_hwep1em12_info0.3.txt-   \n",
       "2  chronotype_raw_BOLT.output_HRC.only_plus.metrics_maf0.001_hwep1em12_info0.3.txt-   \n",
       "3  chronotype_raw_BOLT.output_HRC.only_plus.metrics_maf0.001_hwep1em12_info0.3.txt-   \n",
       "4  chronotype_raw_BOLT.output_HRC.only_plus.metrics_maf0.001_hwep1em12_info0.3.txt-   \n",
       "5  chronotype_raw_BOLT.output_HRC.only_plus.metrics_maf0.001_hwep1em12_info0.3.txt-   \n",
       "6  chronotype_raw_BOLT.output_HRC.only_plus.metrics_maf0.001_hwep1em12_info0.3.txt-   \n",
       "7  chronotype_raw_BOLT.output_HRC.only_plus.metrics_maf0.001_hwep1em12_info0.3.txt-   \n",
       "\n",
       "            fdr  \n",
       "0  4.836818e-09  \n",
       "1  1.436259e-03  \n",
       "2  2.049788e-03  \n",
       "3  4.460674e-02  \n",
       "4  4.460674e-02  \n",
       "5  4.460674e-02  \n",
       "6  4.460674e-02  \n",
       "7  4.460674e-02  "
      ]
     },
     "metadata": {},
     "output_type": "display_data"
    }
   ],
   "source": [
    "with pd.option_context(\"display.max_columns\", None, \"display.max_colwidth\", None):\n",
    "    _tmp = dfs.sort_values(\"fdr\")  # .drop(columns=\"phenotype\")\n",
    "    _tmp = _tmp[_tmp[\"fdr\"] < 0.05]\n",
    "    display(_tmp.head(50))"
   ]
  },
  {
   "cell_type": "markdown",
   "id": "4584fb22-976b-4994-bb78-9c81019058c3",
   "metadata": {
    "papermill": {
     "duration": 0.008246,
     "end_time": "2023-08-30T05:33:19.490940",
     "exception": false,
     "start_time": "2023-08-30T05:33:19.482694",
     "status": "completed"
    },
    "tags": []
   },
   "source": [
    "# Optimize data types"
   ]
  },
  {
   "cell_type": "code",
   "execution_count": 28,
   "id": "72a2c594-ccee-4460-898b-e2d4a079ec98",
   "metadata": {
    "execution": {
     "iopub.execute_input": "2023-08-30T05:33:19.508195Z",
     "iopub.status.busy": "2023-08-30T05:33:19.508070Z",
     "iopub.status.idle": "2023-08-30T05:33:19.511817Z",
     "shell.execute_reply": "2023-08-30T05:33:19.511311Z"
    },
    "papermill": {
     "duration": 0.013627,
     "end_time": "2023-08-30T05:33:19.512964",
     "exception": false,
     "start_time": "2023-08-30T05:33:19.499337",
     "status": "completed"
    },
    "tags": []
   },
   "outputs": [
    {
     "data": {
      "text/plain": [
       "lv            object\n",
       "beta         float64\n",
       "beta_se      float64\n",
       "pvalue       float64\n",
       "phenotype     object\n",
       "fdr          float64\n",
       "dtype: object"
      ]
     },
     "execution_count": 28,
     "metadata": {},
     "output_type": "execute_result"
    }
   ],
   "source": [
    "dfs.dtypes"
   ]
  },
  {
   "cell_type": "code",
   "execution_count": 29,
   "id": "1fa4ab15-9fe9-467a-a365-66d2b591a455",
   "metadata": {
    "execution": {
     "iopub.execute_input": "2023-08-30T05:33:19.530942Z",
     "iopub.status.busy": "2023-08-30T05:33:19.530515Z",
     "iopub.status.idle": "2023-08-30T05:33:19.536152Z",
     "shell.execute_reply": "2023-08-30T05:33:19.535573Z"
    },
    "papermill": {
     "duration": 0.01553,
     "end_time": "2023-08-30T05:33:19.537060",
     "exception": false,
     "start_time": "2023-08-30T05:33:19.521530",
     "status": "completed"
    },
    "tags": []
   },
   "outputs": [
    {
     "data": {
      "text/plain": [
       "Index         128\n",
       "lv           7896\n",
       "beta         7896\n",
       "beta_se      7896\n",
       "pvalue       7896\n",
       "phenotype    7896\n",
       "fdr          7896\n",
       "dtype: int64"
      ]
     },
     "execution_count": 29,
     "metadata": {},
     "output_type": "execute_result"
    }
   ],
   "source": [
    "dfs.memory_usage()"
   ]
  },
  {
   "cell_type": "code",
   "execution_count": 30,
   "id": "9e651ad8-6f66-4189-a07a-4967891600c4",
   "metadata": {
    "execution": {
     "iopub.execute_input": "2023-08-30T05:33:19.549602Z",
     "iopub.status.busy": "2023-08-30T05:33:19.549202Z",
     "iopub.status.idle": "2023-08-30T05:33:19.554556Z",
     "shell.execute_reply": "2023-08-30T05:33:19.553992Z"
    },
    "papermill": {
     "duration": 0.012758,
     "end_time": "2023-08-30T05:33:19.555547",
     "exception": false,
     "start_time": "2023-08-30T05:33:19.542789",
     "status": "completed"
    },
    "tags": []
   },
   "outputs": [],
   "source": [
    "dfs[\"phenotype\"] = dfs[\"phenotype\"].astype(\"category\")\n",
    "dfs[\"lv\"] = dfs[\"lv\"].astype(\"category\")"
   ]
  },
  {
   "cell_type": "code",
   "execution_count": 31,
   "id": "84001a8d-d406-470e-9746-9454602e8871",
   "metadata": {
    "execution": {
     "iopub.execute_input": "2023-08-30T05:33:19.568015Z",
     "iopub.status.busy": "2023-08-30T05:33:19.567621Z",
     "iopub.status.idle": "2023-08-30T05:33:19.572344Z",
     "shell.execute_reply": "2023-08-30T05:33:19.571784Z"
    },
    "papermill": {
     "duration": 0.012047,
     "end_time": "2023-08-30T05:33:19.573320",
     "exception": false,
     "start_time": "2023-08-30T05:33:19.561273",
     "status": "completed"
    },
    "tags": []
   },
   "outputs": [
    {
     "data": {
      "text/plain": [
       "lv           category\n",
       "beta          float64\n",
       "beta_se       float64\n",
       "pvalue        float64\n",
       "phenotype    category\n",
       "fdr           float64\n",
       "dtype: object"
      ]
     },
     "execution_count": 31,
     "metadata": {},
     "output_type": "execute_result"
    }
   ],
   "source": [
    "dfs.dtypes"
   ]
  },
  {
   "cell_type": "code",
   "execution_count": 32,
   "id": "aee66f16-3004-4e6a-9205-2a0a742b6a29",
   "metadata": {
    "execution": {
     "iopub.execute_input": "2023-08-30T05:33:19.586101Z",
     "iopub.status.busy": "2023-08-30T05:33:19.585595Z",
     "iopub.status.idle": "2023-08-30T05:33:19.595030Z",
     "shell.execute_reply": "2023-08-30T05:33:19.594463Z"
    },
    "papermill": {
     "duration": 0.016706,
     "end_time": "2023-08-30T05:33:19.595920",
     "exception": false,
     "start_time": "2023-08-30T05:33:19.579214",
     "status": "completed"
    },
    "tags": []
   },
   "outputs": [
    {
     "data": {
      "text/html": [
       "<div>\n",
       "<style scoped>\n",
       "    .dataframe tbody tr th:only-of-type {\n",
       "        vertical-align: middle;\n",
       "    }\n",
       "\n",
       "    .dataframe tbody tr th {\n",
       "        vertical-align: top;\n",
       "    }\n",
       "\n",
       "    .dataframe thead th {\n",
       "        text-align: right;\n",
       "    }\n",
       "</style>\n",
       "<table border=\"1\" class=\"dataframe\">\n",
       "  <thead>\n",
       "    <tr style=\"text-align: right;\">\n",
       "      <th></th>\n",
       "      <th>lv</th>\n",
       "      <th>beta</th>\n",
       "      <th>beta_se</th>\n",
       "      <th>pvalue</th>\n",
       "      <th>phenotype</th>\n",
       "      <th>fdr</th>\n",
       "    </tr>\n",
       "  </thead>\n",
       "  <tbody>\n",
       "    <tr>\n",
       "      <th>0</th>\n",
       "      <td>LV402</td>\n",
       "      <td>0.854006</td>\n",
       "      <td>0.125185</td>\n",
       "      <td>4.900525e-12</td>\n",
       "      <td>chronotype_raw_BOLT.output_HRC.only_plus.metri...</td>\n",
       "      <td>4.836818e-09</td>\n",
       "    </tr>\n",
       "    <tr>\n",
       "      <th>1</th>\n",
       "      <td>LV367</td>\n",
       "      <td>0.565019</td>\n",
       "      <td>0.124547</td>\n",
       "      <td>2.910352e-06</td>\n",
       "      <td>chronotype_raw_BOLT.output_HRC.only_plus.metri...</td>\n",
       "      <td>1.436259e-03</td>\n",
       "    </tr>\n",
       "    <tr>\n",
       "      <th>2</th>\n",
       "      <td>LV156</td>\n",
       "      <td>0.547662</td>\n",
       "      <td>0.125244</td>\n",
       "      <td>6.230358e-06</td>\n",
       "      <td>chronotype_raw_BOLT.output_HRC.only_plus.metri...</td>\n",
       "      <td>2.049788e-03</td>\n",
       "    </tr>\n",
       "    <tr>\n",
       "      <th>3</th>\n",
       "      <td>LV215</td>\n",
       "      <td>0.431578</td>\n",
       "      <td>0.125153</td>\n",
       "      <td>2.837635e-04</td>\n",
       "      <td>chronotype_raw_BOLT.output_HRC.only_plus.metri...</td>\n",
       "      <td>4.460674e-02</td>\n",
       "    </tr>\n",
       "    <tr>\n",
       "      <th>4</th>\n",
       "      <td>LV727</td>\n",
       "      <td>0.438011</td>\n",
       "      <td>0.127459</td>\n",
       "      <td>2.965273e-04</td>\n",
       "      <td>chronotype_raw_BOLT.output_HRC.only_plus.metri...</td>\n",
       "      <td>4.460674e-02</td>\n",
       "    </tr>\n",
       "  </tbody>\n",
       "</table>\n",
       "</div>"
      ],
      "text/plain": [
       "      lv      beta   beta_se        pvalue  \\\n",
       "0  LV402  0.854006  0.125185  4.900525e-12   \n",
       "1  LV367  0.565019  0.124547  2.910352e-06   \n",
       "2  LV156  0.547662  0.125244  6.230358e-06   \n",
       "3  LV215  0.431578  0.125153  2.837635e-04   \n",
       "4  LV727  0.438011  0.127459  2.965273e-04   \n",
       "\n",
       "                                           phenotype           fdr  \n",
       "0  chronotype_raw_BOLT.output_HRC.only_plus.metri...  4.836818e-09  \n",
       "1  chronotype_raw_BOLT.output_HRC.only_plus.metri...  1.436259e-03  \n",
       "2  chronotype_raw_BOLT.output_HRC.only_plus.metri...  2.049788e-03  \n",
       "3  chronotype_raw_BOLT.output_HRC.only_plus.metri...  4.460674e-02  \n",
       "4  chronotype_raw_BOLT.output_HRC.only_plus.metri...  4.460674e-02  "
      ]
     },
     "execution_count": 32,
     "metadata": {},
     "output_type": "execute_result"
    }
   ],
   "source": [
    "dfs.head()"
   ]
  },
  {
   "cell_type": "code",
   "execution_count": 33,
   "id": "bc9910a0-35fb-409c-828f-b283d3d0d6d6",
   "metadata": {
    "execution": {
     "iopub.execute_input": "2023-08-30T05:33:19.608833Z",
     "iopub.status.busy": "2023-08-30T05:33:19.608366Z",
     "iopub.status.idle": "2023-08-30T05:33:19.614302Z",
     "shell.execute_reply": "2023-08-30T05:33:19.613746Z"
    },
    "papermill": {
     "duration": 0.013266,
     "end_time": "2023-08-30T05:33:19.615216",
     "exception": false,
     "start_time": "2023-08-30T05:33:19.601950",
     "status": "completed"
    },
    "tags": []
   },
   "outputs": [
    {
     "data": {
      "text/plain": [
       "Index          128\n",
       "lv           42934\n",
       "beta          7896\n",
       "beta_se       7896\n",
       "pvalue        7896\n",
       "phenotype     1103\n",
       "fdr           7896\n",
       "dtype: int64"
      ]
     },
     "execution_count": 33,
     "metadata": {},
     "output_type": "execute_result"
    }
   ],
   "source": [
    "dfs.memory_usage()"
   ]
  },
  {
   "cell_type": "markdown",
   "id": "3b38c985-e1e2-4f14-bc6b-ac23d0e8a87a",
   "metadata": {
    "papermill": {
     "duration": 0.005893,
     "end_time": "2023-08-30T05:33:19.627127",
     "exception": false,
     "start_time": "2023-08-30T05:33:19.621234",
     "status": "completed"
    },
    "tags": []
   },
   "source": [
    "# Save"
   ]
  },
  {
   "cell_type": "markdown",
   "id": "feacdd84-ca62-4e84-b2e9-e29faf713e8a",
   "metadata": {
    "papermill": {
     "duration": 0.005984,
     "end_time": "2023-08-30T05:33:19.639120",
     "exception": false,
     "start_time": "2023-08-30T05:33:19.633136",
     "status": "completed"
    },
    "tags": []
   },
   "source": [
    "## Pickle"
   ]
  },
  {
   "cell_type": "code",
   "execution_count": 34,
   "id": "34f2e127-317c-45c3-99ce-c5f539057153",
   "metadata": {
    "execution": {
     "iopub.execute_input": "2023-08-30T05:33:19.652352Z",
     "iopub.status.busy": "2023-08-30T05:33:19.651889Z",
     "iopub.status.idle": "2023-08-30T05:33:19.656211Z",
     "shell.execute_reply": "2023-08-30T05:33:19.655657Z"
    },
    "papermill": {
     "duration": 0.011969,
     "end_time": "2023-08-30T05:33:19.657001",
     "exception": false,
     "start_time": "2023-08-30T05:33:19.645032",
     "status": "completed"
    },
    "tags": []
   },
   "outputs": [
    {
     "data": {
      "text/plain": [
       "PosixPath('/opt/data/projects/chronotype/results/gls_phenoplier/gls-summary.pkl.gz')"
      ]
     },
     "metadata": {},
     "output_type": "display_data"
    }
   ],
   "source": [
    "output_file = OUTPUT_DIR / \"gls-summary.pkl.gz\"\n",
    "display(output_file)"
   ]
  },
  {
   "cell_type": "code",
   "execution_count": 35,
   "id": "0e32637a-d3fb-4833-93d3-7d680ee8bdbe",
   "metadata": {
    "execution": {
     "iopub.execute_input": "2023-08-30T05:33:19.669980Z",
     "iopub.status.busy": "2023-08-30T05:33:19.669779Z",
     "iopub.status.idle": "2023-08-30T05:33:19.675256Z",
     "shell.execute_reply": "2023-08-30T05:33:19.674681Z"
    },
    "papermill": {
     "duration": 0.013038,
     "end_time": "2023-08-30T05:33:19.676153",
     "exception": false,
     "start_time": "2023-08-30T05:33:19.663115",
     "status": "completed"
    },
    "tags": []
   },
   "outputs": [],
   "source": [
    "dfs.to_pickle(output_file)"
   ]
  },
  {
   "cell_type": "markdown",
   "id": "38c40f4d-8636-4742-8c85-3d7d9c017bd0",
   "metadata": {
    "papermill": {
     "duration": 0.005995,
     "end_time": "2023-08-30T05:33:19.688262",
     "exception": false,
     "start_time": "2023-08-30T05:33:19.682267",
     "status": "completed"
    },
    "tags": []
   },
   "source": [
    "## Text"
   ]
  },
  {
   "cell_type": "code",
   "execution_count": 36,
   "id": "20db7750-df38-463e-b446-f41ecb15ddb5",
   "metadata": {
    "execution": {
     "iopub.execute_input": "2023-08-30T05:33:19.701505Z",
     "iopub.status.busy": "2023-08-30T05:33:19.701105Z",
     "iopub.status.idle": "2023-08-30T05:33:19.705134Z",
     "shell.execute_reply": "2023-08-30T05:33:19.704584Z"
    },
    "papermill": {
     "duration": 0.011643,
     "end_time": "2023-08-30T05:33:19.706001",
     "exception": false,
     "start_time": "2023-08-30T05:33:19.694358",
     "status": "completed"
    },
    "tags": []
   },
   "outputs": [
    {
     "data": {
      "text/plain": [
       "PosixPath('/opt/data/projects/chronotype/results/gls_phenoplier/gls-summary.tsv.gz')"
      ]
     },
     "metadata": {},
     "output_type": "display_data"
    }
   ],
   "source": [
    "output_file = OUTPUT_DIR / \"gls-summary.tsv.gz\"\n",
    "display(output_file)"
   ]
  },
  {
   "cell_type": "code",
   "execution_count": 37,
   "id": "39eb3761-67d1-4b8e-a8ff-56d0392ca4d6",
   "metadata": {
    "execution": {
     "iopub.execute_input": "2023-08-30T05:33:19.719255Z",
     "iopub.status.busy": "2023-08-30T05:33:19.718892Z",
     "iopub.status.idle": "2023-08-30T05:33:19.743691Z",
     "shell.execute_reply": "2023-08-30T05:33:19.743055Z"
    },
    "papermill": {
     "duration": 0.032562,
     "end_time": "2023-08-30T05:33:19.744676",
     "exception": false,
     "start_time": "2023-08-30T05:33:19.712114",
     "status": "completed"
    },
    "tags": []
   },
   "outputs": [],
   "source": [
    "dfs.to_csv(output_file, sep=\"\\t\", index=False)"
   ]
  },
  {
   "cell_type": "code",
   "execution_count": null,
   "id": "9aff4c2e-cfc7-4313-b5b2-30e59ee5f12b",
   "metadata": {
    "papermill": {
     "duration": 0.006076,
     "end_time": "2023-08-30T05:33:19.756954",
     "exception": false,
     "start_time": "2023-08-30T05:33:19.750878",
     "status": "completed"
    },
    "tags": []
   },
   "outputs": [],
   "source": []
  }
 ],
 "metadata": {
  "jupytext": {
   "cell_metadata_filter": "all,-execution,-papermill,-trusted",
   "formats": "ipynb,py//py:percent",
   "notebook_metadata_filter": "-jupytext.text_representation.jupytext_version"
  },
  "kernelspec": {
   "display_name": "Python 3 (ipykernel)",
   "language": "python",
   "name": "python3"
  },
  "language_info": {
   "codemirror_mode": {
    "name": "ipython",
    "version": 3
   },
   "file_extension": ".py",
   "mimetype": "text/x-python",
   "name": "python",
   "nbconvert_exporter": "python",
   "pygments_lexer": "ipython3",
   "version": "3.10.6"
  },
  "papermill": {
   "default_parameters": {},
   "duration": 2.91914,
   "end_time": "2023-08-30T05:33:20.078487",
   "environment_variables": {},
   "exception": null,
   "input_path": "projects/chronotype/nbs/30_gls_phenoplier/05-summarize.ipynb",
   "output_path": "projects/chronotype/nbs/30_gls_phenoplier/05-summarize.run.ipynb",
   "parameters": {
    "PHENOPLIER_NOTEBOOK_FILEPATH": "projects/chronotype/nbs/30_gls_phenoplier/05-summarize.ipynb"
   },
   "start_time": "2023-08-30T05:33:17.159347",
   "version": "2.2.2"
  },
  "toc-autonumbering": true
 },
 "nbformat": 4,
 "nbformat_minor": 5
}
