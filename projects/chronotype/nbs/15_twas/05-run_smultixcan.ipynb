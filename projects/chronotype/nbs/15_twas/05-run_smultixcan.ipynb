{
 "cells": [
  {
   "cell_type": "markdown",
   "id": "c935aa7e-fde1-4d1c-b2d7-8c7ee611b1ed",
   "metadata": {
    "papermill": {
     "duration": 0.003903,
     "end_time": "2023-08-30T03:25:25.524442",
     "exception": false,
     "start_time": "2023-08-30T03:25:25.520539",
     "status": "completed"
    },
    "tags": []
   },
   "source": [
    "# Description"
   ]
  },
  {
   "cell_type": "markdown",
   "id": "6c4c5039-03f9-4fdc-8d1f-7983e5bf79d6",
   "metadata": {
    "papermill": {
     "duration": 0.003213,
     "end_time": "2023-08-30T03:25:25.537821",
     "exception": false,
     "start_time": "2023-08-30T03:25:25.534608",
     "status": "completed"
    },
    "tags": []
   },
   "source": [
    "Runs S-MultiXcan on a set of traits."
   ]
  },
  {
   "cell_type": "markdown",
   "id": "d389dd7b-20d8-44ed-8053-6e2cd8efea2e",
   "metadata": {
    "papermill": {
     "duration": 0.003218,
     "end_time": "2023-08-30T03:25:25.545060",
     "exception": false,
     "start_time": "2023-08-30T03:25:25.541842",
     "status": "completed"
    },
    "tags": []
   },
   "source": [
    "# Modules"
   ]
  },
  {
   "cell_type": "code",
   "execution_count": 1,
   "id": "69797656-0db2-41d5-b4d6-63c24d47ad38",
   "metadata": {
    "execution": {
     "iopub.execute_input": "2023-08-30T03:25:25.552728Z",
     "iopub.status.busy": "2023-08-30T03:25:25.552498Z",
     "iopub.status.idle": "2023-08-30T03:25:25.587357Z",
     "shell.execute_reply": "2023-08-30T03:25:25.586737Z"
    },
    "papermill": {
     "duration": 0.040476,
     "end_time": "2023-08-30T03:25:25.588934",
     "exception": false,
     "start_time": "2023-08-30T03:25:25.548458",
     "status": "completed"
    },
    "tags": []
   },
   "outputs": [],
   "source": [
    "import os\n",
    "from glob import glob\n",
    "from pathlib import Path\n",
    "\n",
    "from utils import read_log_file_and_check_line_exists\n",
    "import conf"
   ]
  },
  {
   "cell_type": "markdown",
   "id": "dd17aa24-a692-4f62-ac69-c270447c7729",
   "metadata": {
    "papermill": {
     "duration": 0.003169,
     "end_time": "2023-08-30T03:25:25.595434",
     "exception": false,
     "start_time": "2023-08-30T03:25:25.592265",
     "status": "completed"
    },
    "tags": []
   },
   "source": [
    "# Settings"
   ]
  },
  {
   "cell_type": "markdown",
   "id": "3829ee6c-68b6-445e-adce-aa7a6280a56c",
   "metadata": {
    "papermill": {
     "duration": 0.003174,
     "end_time": "2023-08-30T03:25:25.601977",
     "exception": false,
     "start_time": "2023-08-30T03:25:25.598803",
     "status": "completed"
    },
    "tags": []
   },
   "source": [
    "Apparently, there is no easy way to get the parent directory of\n",
    "a notebook in Jupyter, so here I get that information either from\n",
    "the parameter sent by `nbs/run_nbs.sh` (if called from command-line) or\n",
    "from `os.getcwd()` (if called from browser)."
   ]
  },
  {
   "cell_type": "code",
   "execution_count": 2,
   "id": "e8f8093f-7738-448a-b29d-e9059684fcd1",
   "metadata": {
    "execution": {
     "iopub.execute_input": "2023-08-30T03:25:25.609767Z",
     "iopub.status.busy": "2023-08-30T03:25:25.609288Z",
     "iopub.status.idle": "2023-08-30T03:25:25.612651Z",
     "shell.execute_reply": "2023-08-30T03:25:25.612112Z"
    },
    "papermill": {
     "duration": 0.008801,
     "end_time": "2023-08-30T03:25:25.614039",
     "exception": false,
     "start_time": "2023-08-30T03:25:25.605238",
     "status": "completed"
    },
    "tags": [
     "parameters"
    ]
   },
   "outputs": [],
   "source": [
    "PHENOPLIER_NOTEBOOK_FILEPATH = None\n",
    "PHENOPLIER_NOTEBOOK_DIR = os.getcwd()\n",
    "\n",
    "PROJECTS_TRAIT_KEY = \"CHRONOTYPE\""
   ]
  },
  {
   "cell_type": "code",
   "execution_count": 3,
   "id": "eb96988a",
   "metadata": {
    "execution": {
     "iopub.execute_input": "2023-08-30T03:25:25.621986Z",
     "iopub.status.busy": "2023-08-30T03:25:25.621652Z",
     "iopub.status.idle": "2023-08-30T03:25:25.624428Z",
     "shell.execute_reply": "2023-08-30T03:25:25.623905Z"
    },
    "lines_to_next_cell": 2,
    "papermill": {
     "duration": 0.008297,
     "end_time": "2023-08-30T03:25:25.625815",
     "exception": false,
     "start_time": "2023-08-30T03:25:25.617518",
     "status": "completed"
    },
    "tags": [
     "injected-parameters"
    ]
   },
   "outputs": [],
   "source": [
    "# Parameters\n",
    "PHENOPLIER_NOTEBOOK_FILEPATH = \"projects/chronotype/nbs/15_twas/05-run_smultixcan.ipynb\""
   ]
  },
  {
   "cell_type": "code",
   "execution_count": 4,
   "id": "80437810-fd28-40ba-8dab-f60424764bfd",
   "metadata": {
    "execution": {
     "iopub.execute_input": "2023-08-30T03:25:25.633502Z",
     "iopub.status.busy": "2023-08-30T03:25:25.633145Z",
     "iopub.status.idle": "2023-08-30T03:25:25.642787Z",
     "shell.execute_reply": "2023-08-30T03:25:25.642230Z"
    },
    "papermill": {
     "duration": 0.015072,
     "end_time": "2023-08-30T03:25:25.644272",
     "exception": false,
     "start_time": "2023-08-30T03:25:25.629200",
     "status": "completed"
    },
    "tags": []
   },
   "outputs": [
    {
     "data": {
      "text/plain": [
       "'projects/chronotype/nbs/15_twas'"
      ]
     },
     "metadata": {},
     "output_type": "display_data"
    }
   ],
   "source": [
    "if PHENOPLIER_NOTEBOOK_FILEPATH is not None:\n",
    "    PHENOPLIER_NOTEBOOK_DIR = str(Path(PHENOPLIER_NOTEBOOK_FILEPATH).parent)\n",
    "\n",
    "display(PHENOPLIER_NOTEBOOK_DIR)"
   ]
  },
  {
   "cell_type": "code",
   "execution_count": 5,
   "id": "f4601810-04cf-44cc-a27b-c85724827b11",
   "metadata": {
    "execution": {
     "iopub.execute_input": "2023-08-30T03:25:25.652536Z",
     "iopub.status.busy": "2023-08-30T03:25:25.652061Z",
     "iopub.status.idle": "2023-08-30T03:25:25.657586Z",
     "shell.execute_reply": "2023-08-30T03:25:25.657061Z"
    },
    "papermill": {
     "duration": 0.011041,
     "end_time": "2023-08-30T03:25:25.659040",
     "exception": false,
     "start_time": "2023-08-30T03:25:25.647999",
     "status": "completed"
    },
    "tags": []
   },
   "outputs": [
    {
     "data": {
      "text/plain": [
       "PosixPath('/opt/data/projects/chronotype/results/twas/spredixcan')"
      ]
     },
     "metadata": {},
     "output_type": "display_data"
    },
    {
     "data": {
      "text/plain": [
       "'/opt/data/projects/chronotype/results/twas/spredixcan'"
      ]
     },
     "metadata": {},
     "output_type": "display_data"
    }
   ],
   "source": [
    "SPREDIXCAN_DIR = (\n",
    "    conf.PROJECTS[PROJECTS_TRAIT_KEY][\"RESULTS_DIR\"] / \"twas\" / \"spredixcan\"\n",
    ")\n",
    "display(SPREDIXCAN_DIR)\n",
    "assert SPREDIXCAN_DIR.exists()\n",
    "\n",
    "SPREDIXCAN_DIR_STR = str(SPREDIXCAN_DIR)\n",
    "display(SPREDIXCAN_DIR_STR)"
   ]
  },
  {
   "cell_type": "code",
   "execution_count": 6,
   "id": "7614a44c-cbef-48f5-a011-0876875d20eb",
   "metadata": {
    "execution": {
     "iopub.execute_input": "2023-08-30T03:25:25.667178Z",
     "iopub.status.busy": "2023-08-30T03:25:25.666848Z",
     "iopub.status.idle": "2023-08-30T03:25:25.671953Z",
     "shell.execute_reply": "2023-08-30T03:25:25.671435Z"
    },
    "papermill": {
     "duration": 0.010762,
     "end_time": "2023-08-30T03:25:25.673397",
     "exception": false,
     "start_time": "2023-08-30T03:25:25.662635",
     "status": "completed"
    },
    "tags": []
   },
   "outputs": [
    {
     "data": {
      "text/plain": [
       "PosixPath('/opt/data/projects/chronotype/results/twas/smultixcan')"
      ]
     },
     "metadata": {},
     "output_type": "display_data"
    },
    {
     "data": {
      "text/plain": [
       "'/opt/data/projects/chronotype/results/twas/smultixcan'"
      ]
     },
     "metadata": {},
     "output_type": "display_data"
    }
   ],
   "source": [
    "OUTPUT_DIR = conf.PROJECTS[PROJECTS_TRAIT_KEY][\"RESULTS_DIR\"] / \"twas\" / \"smultixcan\"\n",
    "display(OUTPUT_DIR)\n",
    "\n",
    "OUTPUT_DIR_STR = str(OUTPUT_DIR)\n",
    "display(OUTPUT_DIR_STR)"
   ]
  },
  {
   "cell_type": "markdown",
   "id": "3a558eec-2251-4be7-a754-1f98adde3aec",
   "metadata": {
    "papermill": {
     "duration": 0.003646,
     "end_time": "2023-08-30T03:25:25.681055",
     "exception": false,
     "start_time": "2023-08-30T03:25:25.677409",
     "status": "completed"
    },
    "tags": []
   },
   "source": [
    "# Run"
   ]
  },
  {
   "cell_type": "code",
   "execution_count": 7,
   "id": "0c0cd3d9-b032-4f03-82eb-0017a0ef1cca",
   "metadata": {
    "execution": {
     "iopub.execute_input": "2023-08-30T03:25:25.689927Z",
     "iopub.status.busy": "2023-08-30T03:25:25.689506Z",
     "iopub.status.idle": "2023-08-30T03:38:39.793002Z",
     "shell.execute_reply": "2023-08-30T03:38:39.792365Z"
    },
    "papermill": {
     "duration": 794.111254,
     "end_time": "2023-08-30T03:38:39.796086",
     "exception": false,
     "start_time": "2023-08-30T03:25:25.684832",
     "status": "completed"
    },
    "tags": []
   },
   "outputs": [
    {
     "name": "stdout",
     "output_type": "stream",
     "text": [
      "Running for chronotype\n",
      "Saving results in /opt/data/projects/chronotype/results/twas/smultixcan\n"
     ]
    },
    {
     "name": "stderr",
     "output_type": "stream",
     "text": [
      "+ /opt/data/software/conda_envs/metaxcan/bin/python /opt/data/software/metaxcan/software/SMulTiXcan.py --models_folder /opt/data/data/phenomexcan/prediction_models/mashr --models_name_pattern 'mashr_(.*).db' --snp_covariance /opt/data/data/phenomexcan/prediction_models/gtex_v8_expression_mashr_snp_covariance.txt.gz --metaxcan_folder /opt/data/projects/chronotype/results/twas/spredixcan --metaxcan_filter 'chronotype_raw_BOLT.output_HRC.only_plus.metrics_maf0.001_hwep1em12_info0.3.txt\\-.*csv' --metaxcan_file_name_parse_pattern '(.*)\\-gtex_v8\\-mashr\\-(.*).csv' --gwas_file /opt/data/projects/chronotype/results/final_imputed_gwas/chronotype_raw_BOLT.output_HRC.only_plus.metrics_maf0.001_hwep1em12_info0.3.txt-harmonized-imputed.txt.gz --snp_column panel_variant_id --effect_allele_column effect_allele --non_effect_allele_column non_effect_allele --zscore_column zscore --keep_non_rsid --model_db_snp_key varID --cutoff_condition_number 30 --verbosity 7 --throw --output /opt/data/projects/chronotype/results/twas/smultixcan/chronotype_raw_BOLT.output_HRC.only_plus.metrics_maf0.001_hwep1em12_info0.3.txt-gtex_v8-mashr-smultixcan.txt\n"
     ]
    },
    {
     "name": "stdout",
     "output_type": "stream",
     "text": [
      "WARNING - Some GWAS snp zscores are not finite.\n",
      "\n"
     ]
    },
    {
     "name": "stderr",
     "output_type": "stream",
     "text": [
      "+ set +x\n"
     ]
    }
   ],
   "source": [
    "%%bash -s \"$PHENOPLIER_NOTEBOOK_DIR\" \"$PROJECTS_TRAIT_KEY\" \"$SPREDIXCAN_DIR_STR\" \"$OUTPUT_DIR_STR\"\n",
    "set -euo pipefail\n",
    "# IFS=$'\\n\\t'\n",
    "\n",
    "# read the notebook directory parameter and remove $1\n",
    "export PHENOPLIER_NOTEBOOK_DIR=\"${PHENOPLIER_CODE_DIR}/$1\"\n",
    "shift\n",
    "\n",
    "# read trait key\n",
    "export PROJECTS_TRAIT_KEY=\"$1\"\n",
    "shift\n",
    "\n",
    "# read S-PrediXcan input dir\n",
    "export SPREDIXCAN_DIR=\"$1\"\n",
    "shift\n",
    "\n",
    "# read output dir\n",
    "export OUTPUT_DIR=\"$1\"\n",
    "shift\n",
    "\n",
    "run_job () {\n",
    "    # run_job is a standard function name that performs a particular job\n",
    "    # depending on the context. It will be called by GNU Parallel below.\n",
    "    #\n",
    "    # The implementation here runs the GLS model of PhenoPLIER on a trait.\n",
    "\n",
    "    # read trait information\n",
    "    # the first parameter to this function is a string with values separated by\n",
    "    # commas (,). So here I split those into different variables.\n",
    "    IFS=',' read -r pheno_id file sample_size n_cases <<< \"$1\"\n",
    "\n",
    "    INPUT_FILENAME=${file%.*}\n",
    "\n",
    "    # get input GWAS file, there should be a single file\n",
    "    # here I make sure that there are no other files in the folder that\n",
    "    # match this phenotype/trait filename prefix\n",
    "    env_name=\"PHENOPLIER_PROJECTS_${PROJECTS_TRAIT_KEY}_RESULTS_DIR\"\n",
    "    GWAS_DIR=\"${!env_name}/final_imputed_gwas\"\n",
    "    N_GWAS_FILES=$(ls ${GWAS_DIR}/${INPUT_FILENAME}*.txt.gz | wc -l)\n",
    "    if [ \"${N_GWAS_FILES}\" != \"1\" ]; then\n",
    "        echo \"ERROR: found ${N_GWAS_FILES} GWAS files instead of one\"\n",
    "        exit 1\n",
    "    fi\n",
    "    INPUT_GWAS_FILEPATH=$(ls ${GWAS_DIR}/${INPUT_FILENAME}*.txt.gz)\n",
    "\n",
    "    mkdir -p \"${OUTPUT_DIR}\"\n",
    "\n",
    "    # make sure we are not also parallelizing within numpy, etc\n",
    "    export NUMBA_NUM_THREADS=1\n",
    "    export MKL_NUM_THREADS=1\n",
    "    export OPEN_BLAS_NUM_THREADS=1\n",
    "    export NUMEXPR_NUM_THREADS=1\n",
    "    export OMP_NUM_THREADS=1\n",
    "\n",
    "    echo \"Running for $pheno_id\"\n",
    "    echo \"Saving results in ${OUTPUT_DIR}\"\n",
    "\n",
    "    bash \"${PHENOPLIER_CODE_DIR}/scripts/twas_smultixcan.sh\" \\\n",
    "        --input-gwas-file \"${INPUT_GWAS_FILEPATH}\" \\\n",
    "        --spredixcan-folder \"${SPREDIXCAN_DIR}\" \\\n",
    "        --phenotype-name \"${INPUT_FILENAME}\" \\\n",
    "        --output-dir \"${OUTPUT_DIR}\"\n",
    "\n",
    "    # print errors here in the notebook\n",
    "    # first, look for the log file for this trait\n",
    "    pattern=\"${OUTPUT_DIR}/${INPUT_FILENAME}*-gtex_v8-mashr-smultixcan*.log\"\n",
    "\n",
    "    N_LOG_FILES=$(ls ${pattern} | wc -l)\n",
    "    if [ \"${N_LOG_FILES}\" != \"1\" ]; then\n",
    "        echo \"ERROR: found ${N_LOG_FILES} log files instead of one\"\n",
    "        exit 1\n",
    "    fi\n",
    "    LOG_FILE=$(ls ${pattern})\n",
    "\n",
    "    cat \"${LOG_FILE}\" | grep -iE \"warning|error\"\n",
    "\n",
    "    echo\n",
    "}\n",
    "\n",
    "# export function so GNU Parallel can see it\n",
    "export -f run_job\n",
    "\n",
    "# generate a list of run_job calls for GNU Parallel\n",
    "# here I read a file with information about traits (one trait per line)\n",
    "env_name=\"PHENOPLIER_PROJECTS_${PROJECTS_TRAIT_KEY}_TRAITS_INFO_FILE\"\n",
    "while IFS= read -r line; do\n",
    "    echo run_job \"${line}\"\n",
    "done < <(tail -n \"+2\" \"${!env_name}\") |\n",
    "    parallel -k --lb --halt 2 -j${PHENOPLIER_GENERAL_N_JOBS}"
   ]
  },
  {
   "cell_type": "markdown",
   "id": "b9de8ab0-1d95-4d08-82bb-376e704fd0df",
   "metadata": {
    "papermill": {
     "duration": 0.004091,
     "end_time": "2023-08-30T03:38:39.807527",
     "exception": false,
     "start_time": "2023-08-30T03:38:39.803436",
     "status": "completed"
    },
    "tags": []
   },
   "source": [
    "# Perform some checks in output and log files"
   ]
  },
  {
   "cell_type": "code",
   "execution_count": 8,
   "id": "a48b5427-95ab-4d89-9b09-ea9f2344a6af",
   "metadata": {
    "execution": {
     "iopub.execute_input": "2023-08-30T03:38:39.816704Z",
     "iopub.status.busy": "2023-08-30T03:38:39.816546Z",
     "iopub.status.idle": "2023-08-30T03:38:39.819778Z",
     "shell.execute_reply": "2023-08-30T03:38:39.819234Z"
    },
    "papermill": {
     "duration": 0.009559,
     "end_time": "2023-08-30T03:38:39.821220",
     "exception": false,
     "start_time": "2023-08-30T03:38:39.811661",
     "status": "completed"
    },
    "tags": []
   },
   "outputs": [],
   "source": [
    "assert OUTPUT_DIR.exists()"
   ]
  },
  {
   "cell_type": "code",
   "execution_count": 9,
   "id": "6d2b50d0-fc92-46fd-a48c-8748ad04d014",
   "metadata": {
    "execution": {
     "iopub.execute_input": "2023-08-30T03:38:39.830584Z",
     "iopub.status.busy": "2023-08-30T03:38:39.830167Z",
     "iopub.status.idle": "2023-08-30T03:38:39.833068Z",
     "shell.execute_reply": "2023-08-30T03:38:39.832517Z"
    },
    "papermill": {
     "duration": 0.009082,
     "end_time": "2023-08-30T03:38:39.834397",
     "exception": false,
     "start_time": "2023-08-30T03:38:39.825315",
     "status": "completed"
    },
    "tags": []
   },
   "outputs": [],
   "source": [
    "log_files = OUTPUT_DIR.glob(\"*.log\")"
   ]
  },
  {
   "cell_type": "code",
   "execution_count": 10,
   "id": "01b58633-03fd-48c3-b95d-d1d37f19bd9c",
   "metadata": {
    "execution": {
     "iopub.execute_input": "2023-08-30T03:38:39.844096Z",
     "iopub.status.busy": "2023-08-30T03:38:39.843661Z",
     "iopub.status.idle": "2023-08-30T03:38:39.852816Z",
     "shell.execute_reply": "2023-08-30T03:38:39.852248Z"
    },
    "papermill": {
     "duration": 0.015327,
     "end_time": "2023-08-30T03:38:39.854163",
     "exception": false,
     "start_time": "2023-08-30T03:38:39.838836",
     "status": "completed"
    },
    "tags": []
   },
   "outputs": [],
   "source": [
    "for f in log_files:\n",
    "    read_log_file_and_check_line_exists(\n",
    "        f,\n",
    "        [\n",
    "            \"INFO - Ran multi tissue in\",\n",
    "        ],\n",
    "    )"
   ]
  }
 ],
 "metadata": {
  "jupytext": {
   "cell_metadata_filter": "all,-execution,-papermill,-trusted",
   "notebook_metadata_filter": "-jupytext.text_representation.jupytext_version"
  },
  "kernelspec": {
   "display_name": "Python 3 (ipykernel)",
   "language": "python",
   "name": "python3"
  },
  "language_info": {
   "codemirror_mode": {
    "name": "ipython",
    "version": 3
   },
   "file_extension": ".py",
   "mimetype": "text/x-python",
   "name": "python",
   "nbconvert_exporter": "python",
   "pygments_lexer": "ipython3",
   "version": "3.10.6"
  },
  "papermill": {
   "default_parameters": {},
   "duration": 795.529543,
   "end_time": "2023-08-30T03:38:40.074477",
   "environment_variables": {},
   "exception": null,
   "input_path": "projects/chronotype/nbs/15_twas/05-run_smultixcan.ipynb",
   "output_path": "projects/chronotype/nbs/15_twas/05-run_smultixcan.run.ipynb",
   "parameters": {
    "PHENOPLIER_NOTEBOOK_FILEPATH": "projects/chronotype/nbs/15_twas/05-run_smultixcan.ipynb"
   },
   "start_time": "2023-08-30T03:25:24.544934",
   "version": "2.3.4"
  }
 },
 "nbformat": 4,
 "nbformat_minor": 5
}
