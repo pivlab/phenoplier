{
 "cells": [
  {
   "cell_type": "markdown",
   "id": "8943b47b-26b2-4677-b69a-4a82a0913569",
   "metadata": {
    "papermill": {
     "duration": 0.005674,
     "end_time": "2023-08-30T03:43:03.463289",
     "exception": false,
     "start_time": "2023-08-30T03:43:03.457615",
     "status": "completed"
    },
    "tags": []
   },
   "source": [
    "# Description"
   ]
  },
  {
   "cell_type": "markdown",
   "id": "4a526bcc-e43b-49c2-99d8-afdf01fdf044",
   "metadata": {
    "papermill": {
     "duration": 0.004338,
     "end_time": "2023-08-30T03:43:03.478387",
     "exception": false,
     "start_time": "2023-08-30T03:43:03.474049",
     "status": "completed"
    },
    "tags": []
   },
   "source": [
    "It takes TWAS results and verifies that the QQ-plots look fine (without inflation)."
   ]
  },
  {
   "cell_type": "markdown",
   "id": "c91719ea-48d3-477d-a3a3-863b2650c1dc",
   "metadata": {
    "papermill": {
     "duration": 0.004286,
     "end_time": "2023-08-30T03:43:03.487084",
     "exception": false,
     "start_time": "2023-08-30T03:43:03.482798",
     "status": "completed"
    },
    "tags": []
   },
   "source": [
    "# Modules"
   ]
  },
  {
   "cell_type": "code",
   "execution_count": 1,
   "id": "9f0ffe4b-c8ce-4277-8cc4-5c949130e273",
   "metadata": {
    "execution": {
     "iopub.execute_input": "2023-08-30T03:43:03.517063Z",
     "iopub.status.busy": "2023-08-30T03:43:03.515132Z",
     "iopub.status.idle": "2023-08-30T03:43:04.208600Z",
     "shell.execute_reply": "2023-08-30T03:43:04.207581Z"
    },
    "papermill": {
     "duration": 0.718469,
     "end_time": "2023-08-30T03:43:04.209943",
     "exception": false,
     "start_time": "2023-08-30T03:43:03.491474",
     "status": "completed"
    },
    "tags": []
   },
   "outputs": [
    {
     "name": "stderr",
     "output_type": "stream",
     "text": [
      "── \u001b[1mAttaching packages\u001b[22m ──────────────────────────────────────────────────────────────────────────────────────────────────────────────────────────────────────────────────── tidyverse 1.3.2 ──\n",
      "\u001b[32m✔\u001b[39m \u001b[34mggplot2\u001b[39m 3.4.0      \u001b[32m✔\u001b[39m \u001b[34mpurrr  \u001b[39m 0.3.5 \n",
      "\u001b[32m✔\u001b[39m \u001b[34mtibble \u001b[39m 3.1.8      \u001b[32m✔\u001b[39m \u001b[34mdplyr  \u001b[39m 1.0.10\n",
      "\u001b[32m✔\u001b[39m \u001b[34mtidyr  \u001b[39m 1.2.1      \u001b[32m✔\u001b[39m \u001b[34mstringr\u001b[39m 1.4.1 \n",
      "\u001b[32m✔\u001b[39m \u001b[34mreadr  \u001b[39m 2.1.3      \u001b[32m✔\u001b[39m \u001b[34mforcats\u001b[39m 0.5.2 \n",
      "── \u001b[1mConflicts\u001b[22m ─────────────────────────────────────────────────────────────────────────────────────────────────────────────────────────────────────────────────────── tidyverse_conflicts() ──\n",
      "\u001b[31m✖\u001b[39m \u001b[34mdplyr\u001b[39m::\u001b[32mfilter()\u001b[39m masks \u001b[34mstats\u001b[39m::filter()\n",
      "\u001b[31m✖\u001b[39m \u001b[34mdplyr\u001b[39m::\u001b[32mlag()\u001b[39m    masks \u001b[34mstats\u001b[39m::lag()\n"
     ]
    }
   ],
   "source": [
    "library(tidyverse)"
   ]
  },
  {
   "cell_type": "code",
   "execution_count": 2,
   "id": "820c8290-25d5-446b-9f33-7e13e962bb7d",
   "metadata": {
    "execution": {
     "iopub.execute_input": "2023-08-30T03:43:04.244057Z",
     "iopub.status.busy": "2023-08-30T03:43:04.227208Z",
     "iopub.status.idle": "2023-08-30T03:43:04.273344Z",
     "shell.execute_reply": "2023-08-30T03:43:04.272356Z"
    },
    "papermill": {
     "duration": 0.058573,
     "end_time": "2023-08-30T03:43:04.274669",
     "exception": false,
     "start_time": "2023-08-30T03:43:04.216096",
     "status": "completed"
    },
    "tags": []
   },
   "outputs": [
    {
     "name": "stderr",
     "output_type": "stream",
     "text": [
      "\n",
      "\n",
      "For example usage please run: vignette('qqman')\n",
      "\n",
      "\n",
      "\n",
      "Citation appreciated but not required:\n",
      "\n",
      "Turner, (2018). qqman: an R package for visualizing GWAS results using Q-Q and manhattan plots. Journal of Open Source Software, 3(25), 731, https://doi.org/10.21105/joss.00731.\n",
      "\n",
      "\n",
      "\n"
     ]
    }
   ],
   "source": [
    "library(qqman)"
   ]
  },
  {
   "cell_type": "markdown",
   "id": "7a96307c-0b19-470a-9626-a519077507d9",
   "metadata": {
    "papermill": {
     "duration": 0.006096,
     "end_time": "2023-08-30T03:43:04.287214",
     "exception": false,
     "start_time": "2023-08-30T03:43:04.281118",
     "status": "completed"
    },
    "tags": []
   },
   "source": [
    "# Settings"
   ]
  },
  {
   "cell_type": "code",
   "execution_count": 3,
   "id": "d6d6c044-ee54-4906-9a1d-7a8943eb5080",
   "metadata": {
    "execution": {
     "iopub.execute_input": "2023-08-30T03:43:04.300791Z",
     "iopub.status.busy": "2023-08-30T03:43:04.300070Z",
     "iopub.status.idle": "2023-08-30T03:43:04.306090Z",
     "shell.execute_reply": "2023-08-30T03:43:04.305227Z"
    },
    "papermill": {
     "duration": 0.014056,
     "end_time": "2023-08-30T03:43:04.307398",
     "exception": false,
     "start_time": "2023-08-30T03:43:04.293342",
     "status": "completed"
    },
    "tags": [
     "parameters"
    ]
   },
   "outputs": [],
   "source": [
    "PROJECTS_TRAIT_KEY <- \"CHRONOTYPE\""
   ]
  },
  {
   "cell_type": "code",
   "execution_count": 4,
   "id": "fee013aa",
   "metadata": {
    "execution": {
     "iopub.execute_input": "2023-08-30T03:43:04.377940Z",
     "iopub.status.busy": "2023-08-30T03:43:04.320358Z",
     "iopub.status.idle": "2023-08-30T03:43:04.383604Z",
     "shell.execute_reply": "2023-08-30T03:43:04.382785Z"
    },
    "lines_to_next_cell": 2,
    "papermill": {
     "duration": 0.071238,
     "end_time": "2023-08-30T03:43:04.384864",
     "exception": false,
     "start_time": "2023-08-30T03:43:04.313626",
     "status": "completed"
    },
    "tags": [
     "injected-parameters"
    ]
   },
   "outputs": [],
   "source": [
    "# Parameters\n",
    "PHENOPLIER_NOTEBOOK_FILEPATH <- \"projects/chronotype/nbs/15_twas/10-twas-qqplot.ipynb\""
   ]
  },
  {
   "cell_type": "markdown",
   "id": "bc9c7d76-6758-4189-bbc8-a36d1dcc967d",
   "metadata": {
    "papermill": {
     "duration": 0.006251,
     "end_time": "2023-08-30T03:43:04.397344",
     "exception": false,
     "start_time": "2023-08-30T03:43:04.391093",
     "status": "completed"
    },
    "tags": []
   },
   "source": [
    "# Paths"
   ]
  },
  {
   "cell_type": "code",
   "execution_count": 5,
   "id": "27efc190-a0f0-4334-9573-45fbd4fc387c",
   "metadata": {
    "execution": {
     "iopub.execute_input": "2023-08-30T03:43:04.411443Z",
     "iopub.status.busy": "2023-08-30T03:43:04.410422Z",
     "iopub.status.idle": "2023-08-30T03:43:04.416350Z",
     "shell.execute_reply": "2023-08-30T03:43:04.415540Z"
    },
    "papermill": {
     "duration": 0.014164,
     "end_time": "2023-08-30T03:43:04.417612",
     "exception": false,
     "start_time": "2023-08-30T03:43:04.403448",
     "status": "completed"
    },
    "tags": []
   },
   "outputs": [],
   "source": [
    "BASE_DIR <- Sys.getenv(paste0(\"PHENOPLIER_PROJECTS_\", PROJECTS_TRAIT_KEY, \"_RESULTS_DIR\"))"
   ]
  },
  {
   "cell_type": "code",
   "execution_count": 6,
   "id": "ba2ad481-2574-4a3d-9582-9e6b65215f71",
   "metadata": {
    "execution": {
     "iopub.execute_input": "2023-08-30T03:43:04.431260Z",
     "iopub.status.busy": "2023-08-30T03:43:04.430583Z",
     "iopub.status.idle": "2023-08-30T03:43:04.438624Z",
     "shell.execute_reply": "2023-08-30T03:43:04.437791Z"
    },
    "papermill": {
     "duration": 0.016146,
     "end_time": "2023-08-30T03:43:04.439932",
     "exception": false,
     "start_time": "2023-08-30T03:43:04.423786",
     "status": "completed"
    },
    "tags": []
   },
   "outputs": [
    {
     "data": {
      "text/html": [
       "'/opt/data/projects/chronotype/results'"
      ],
      "text/latex": [
       "'/opt/data/projects/chronotype/results'"
      ],
      "text/markdown": [
       "'/opt/data/projects/chronotype/results'"
      ],
      "text/plain": [
       "[1] \"/opt/data/projects/chronotype/results\""
      ]
     },
     "metadata": {},
     "output_type": "display_data"
    }
   ],
   "source": [
    "BASE_DIR"
   ]
  },
  {
   "cell_type": "code",
   "execution_count": 7,
   "id": "c0a7faf5-d213-4af7-a7f7-668fd6e999b5",
   "metadata": {
    "execution": {
     "iopub.execute_input": "2023-08-30T03:43:04.453898Z",
     "iopub.status.busy": "2023-08-30T03:43:04.453227Z",
     "iopub.status.idle": "2023-08-30T03:43:04.458919Z",
     "shell.execute_reply": "2023-08-30T03:43:04.458065Z"
    },
    "papermill": {
     "duration": 0.013991,
     "end_time": "2023-08-30T03:43:04.460209",
     "exception": false,
     "start_time": "2023-08-30T03:43:04.446218",
     "status": "completed"
    },
    "tags": []
   },
   "outputs": [],
   "source": [
    "SPREDIXCAN_DIR <- file.path(BASE_DIR, \"twas\", \"spredixcan\")"
   ]
  },
  {
   "cell_type": "code",
   "execution_count": 8,
   "id": "846c98c3-ea79-444d-99f5-351bf12f1d06",
   "metadata": {
    "execution": {
     "iopub.execute_input": "2023-08-30T03:43:04.474923Z",
     "iopub.status.busy": "2023-08-30T03:43:04.474173Z",
     "iopub.status.idle": "2023-08-30T03:43:04.481819Z",
     "shell.execute_reply": "2023-08-30T03:43:04.480864Z"
    },
    "papermill": {
     "duration": 0.016493,
     "end_time": "2023-08-30T03:43:04.483300",
     "exception": false,
     "start_time": "2023-08-30T03:43:04.466807",
     "status": "completed"
    },
    "tags": []
   },
   "outputs": [
    {
     "data": {
      "text/html": [
       "'/opt/data/projects/chronotype/results/twas/spredixcan'"
      ],
      "text/latex": [
       "'/opt/data/projects/chronotype/results/twas/spredixcan'"
      ],
      "text/markdown": [
       "'/opt/data/projects/chronotype/results/twas/spredixcan'"
      ],
      "text/plain": [
       "[1] \"/opt/data/projects/chronotype/results/twas/spredixcan\""
      ]
     },
     "metadata": {},
     "output_type": "display_data"
    }
   ],
   "source": [
    "SPREDIXCAN_DIR"
   ]
  },
  {
   "cell_type": "code",
   "execution_count": 9,
   "id": "fdfc8c65-7abf-41f7-8cb6-5b29a88e6d93",
   "metadata": {
    "execution": {
     "iopub.execute_input": "2023-08-30T03:43:04.497826Z",
     "iopub.status.busy": "2023-08-30T03:43:04.496991Z",
     "iopub.status.idle": "2023-08-30T03:43:04.503556Z",
     "shell.execute_reply": "2023-08-30T03:43:04.502595Z"
    },
    "papermill": {
     "duration": 0.015243,
     "end_time": "2023-08-30T03:43:04.504995",
     "exception": false,
     "start_time": "2023-08-30T03:43:04.489752",
     "status": "completed"
    },
    "tags": []
   },
   "outputs": [],
   "source": [
    "SMULTIXCAN_DIR <- file.path(BASE_DIR, \"twas\", \"smultixcan\")"
   ]
  },
  {
   "cell_type": "code",
   "execution_count": 10,
   "id": "01a107bf-de41-4d4f-8971-6414257ce9c8",
   "metadata": {
    "execution": {
     "iopub.execute_input": "2023-08-30T03:43:04.519496Z",
     "iopub.status.busy": "2023-08-30T03:43:04.518640Z",
     "iopub.status.idle": "2023-08-30T03:43:04.526946Z",
     "shell.execute_reply": "2023-08-30T03:43:04.525959Z"
    },
    "papermill": {
     "duration": 0.016974,
     "end_time": "2023-08-30T03:43:04.528398",
     "exception": false,
     "start_time": "2023-08-30T03:43:04.511424",
     "status": "completed"
    },
    "tags": []
   },
   "outputs": [
    {
     "data": {
      "text/html": [
       "'/opt/data/projects/chronotype/results/twas/smultixcan'"
      ],
      "text/latex": [
       "'/opt/data/projects/chronotype/results/twas/smultixcan'"
      ],
      "text/markdown": [
       "'/opt/data/projects/chronotype/results/twas/smultixcan'"
      ],
      "text/plain": [
       "[1] \"/opt/data/projects/chronotype/results/twas/smultixcan\""
      ]
     },
     "metadata": {},
     "output_type": "display_data"
    }
   ],
   "source": [
    "SMULTIXCAN_DIR"
   ]
  },
  {
   "cell_type": "markdown",
   "id": "bb4da46a-5c34-46d7-9a44-8e21dafea8d0",
   "metadata": {
    "papermill": {
     "duration": 0.006716,
     "end_time": "2023-08-30T03:43:04.541697",
     "exception": false,
     "start_time": "2023-08-30T03:43:04.534981",
     "status": "completed"
    },
    "tags": []
   },
   "source": [
    "# Load trait info file"
   ]
  },
  {
   "cell_type": "code",
   "execution_count": 11,
   "id": "d2aa8cf3-5001-451c-bc32-8316480ab43a",
   "metadata": {
    "execution": {
     "iopub.execute_input": "2023-08-30T03:43:04.556832Z",
     "iopub.status.busy": "2023-08-30T03:43:04.555590Z",
     "iopub.status.idle": "2023-08-30T03:43:04.723028Z",
     "shell.execute_reply": "2023-08-30T03:43:04.722119Z"
    },
    "papermill": {
     "duration": 0.17617,
     "end_time": "2023-08-30T03:43:04.724353",
     "exception": false,
     "start_time": "2023-08-30T03:43:04.548183",
     "status": "completed"
    },
    "tags": []
   },
   "outputs": [
    {
     "name": "stderr",
     "output_type": "stream",
     "text": [
      "\u001b[1mRows: \u001b[22m\u001b[34m1\u001b[39m \u001b[1mColumns: \u001b[22m\u001b[34m4\u001b[39m\n",
      "\u001b[36m──\u001b[39m \u001b[1mColumn specification\u001b[22m \u001b[36m─────────────────────────────────────────────────────────────────────────────────────────────────────────────────────────────────────────────────────────────────────\u001b[39m\n",
      "\u001b[1mDelimiter:\u001b[22m \",\"\n",
      "\u001b[31mchr\u001b[39m (2): id, gwas_file\n",
      "\u001b[32mdbl\u001b[39m (1): sample_size\n",
      "\u001b[33mlgl\u001b[39m (1): n_cases\n",
      "\n",
      "\u001b[36mℹ\u001b[39m Use `spec()` to retrieve the full column specification for this data.\n",
      "\u001b[36mℹ\u001b[39m Specify the column types or set `show_col_types = FALSE` to quiet this message.\n"
     ]
    }
   ],
   "source": [
    "trait_info <- read_csv(Sys.getenv(paste0(\"PHENOPLIER_PROJECTS_\", PROJECTS_TRAIT_KEY, \"_TRAITS_INFO_FILE\")), col_names = TRUE)"
   ]
  },
  {
   "cell_type": "code",
   "execution_count": 12,
   "id": "bfdaf4ba-0b53-46af-b9f7-bbab16821e83",
   "metadata": {
    "execution": {
     "iopub.execute_input": "2023-08-30T03:43:04.743173Z",
     "iopub.status.busy": "2023-08-30T03:43:04.742436Z",
     "iopub.status.idle": "2023-08-30T03:43:04.755570Z",
     "shell.execute_reply": "2023-08-30T03:43:04.754715Z"
    },
    "papermill": {
     "duration": 0.025637,
     "end_time": "2023-08-30T03:43:04.756896",
     "exception": false,
     "start_time": "2023-08-30T03:43:04.731259",
     "status": "completed"
    },
    "tags": []
   },
   "outputs": [
    {
     "data": {
      "text/html": [
       "<table class=\"dataframe\">\n",
       "<caption>A spec_tbl_df: 1 × 4</caption>\n",
       "<thead>\n",
       "\t<tr><th scope=col>id</th><th scope=col>gwas_file</th><th scope=col>sample_size</th><th scope=col>n_cases</th></tr>\n",
       "\t<tr><th scope=col>&lt;chr&gt;</th><th scope=col>&lt;chr&gt;</th><th scope=col>&lt;dbl&gt;</th><th scope=col>&lt;lgl&gt;</th></tr>\n",
       "</thead>\n",
       "<tbody>\n",
       "\t<tr><td>chronotype</td><td>chronotype_raw_BOLT.output_HRC.only_plus.metrics_maf0.001_hwep1em12_info0.3.txt.gz</td><td>449734</td><td>NA</td></tr>\n",
       "</tbody>\n",
       "</table>\n"
      ],
      "text/latex": [
       "A spec\\_tbl\\_df: 1 × 4\n",
       "\\begin{tabular}{llll}\n",
       " id & gwas\\_file & sample\\_size & n\\_cases\\\\\n",
       " <chr> & <chr> & <dbl> & <lgl>\\\\\n",
       "\\hline\n",
       "\t chronotype & chronotype\\_raw\\_BOLT.output\\_HRC.only\\_plus.metrics\\_maf0.001\\_hwep1em12\\_info0.3.txt.gz & 449734 & NA\\\\\n",
       "\\end{tabular}\n"
      ],
      "text/markdown": [
       "\n",
       "A spec_tbl_df: 1 × 4\n",
       "\n",
       "| id &lt;chr&gt; | gwas_file &lt;chr&gt; | sample_size &lt;dbl&gt; | n_cases &lt;lgl&gt; |\n",
       "|---|---|---|---|\n",
       "| chronotype | chronotype_raw_BOLT.output_HRC.only_plus.metrics_maf0.001_hwep1em12_info0.3.txt.gz | 449734 | NA |\n",
       "\n"
      ],
      "text/plain": [
       "  id        \n",
       "1 chronotype\n",
       "  gwas_file                                                                         \n",
       "1 chronotype_raw_BOLT.output_HRC.only_plus.metrics_maf0.001_hwep1em12_info0.3.txt.gz\n",
       "  sample_size n_cases\n",
       "1 449734      NA     "
      ]
     },
     "metadata": {},
     "output_type": "display_data"
    }
   ],
   "source": [
    "trait_info"
   ]
  },
  {
   "cell_type": "markdown",
   "id": "90a9127a-3ed4-43cb-bafd-6f24d21f07cd",
   "metadata": {
    "papermill": {
     "duration": 0.007173,
     "end_time": "2023-08-30T03:43:04.771084",
     "exception": false,
     "start_time": "2023-08-30T03:43:04.763911",
     "status": "completed"
    },
    "tags": []
   },
   "source": [
    "# Chronotype"
   ]
  },
  {
   "cell_type": "code",
   "execution_count": 13,
   "id": "ff0720c4-fee7-4ebc-a9a4-96017e4302fd",
   "metadata": {
    "execution": {
     "iopub.execute_input": "2023-08-30T03:43:04.786290Z",
     "iopub.status.busy": "2023-08-30T03:43:04.785563Z",
     "iopub.status.idle": "2023-08-30T03:43:04.791490Z",
     "shell.execute_reply": "2023-08-30T03:43:04.790655Z"
    },
    "papermill": {
     "duration": 0.014834,
     "end_time": "2023-08-30T03:43:04.792821",
     "exception": false,
     "start_time": "2023-08-30T03:43:04.777987",
     "status": "completed"
    },
    "tags": []
   },
   "outputs": [],
   "source": [
    "gwas_title <- \"Chronotype (imputed)\""
   ]
  },
  {
   "cell_type": "markdown",
   "id": "0ad173bb-e817-4f95-b79e-52a08cfcd2fe",
   "metadata": {
    "papermill": {
     "duration": 0.006993,
     "end_time": "2023-08-30T03:43:04.806764",
     "exception": false,
     "start_time": "2023-08-30T03:43:04.799771",
     "status": "completed"
    },
    "tags": []
   },
   "source": [
    "## S-PrediXcan"
   ]
  },
  {
   "cell_type": "markdown",
   "id": "63524bcb-d873-4670-9cae-caf3545f5309",
   "metadata": {
    "papermill": {
     "duration": 0.00705,
     "end_time": "2023-08-30T03:43:04.820739",
     "exception": false,
     "start_time": "2023-08-30T03:43:04.813689",
     "status": "completed"
    },
    "tags": []
   },
   "source": [
    "### Load data"
   ]
  },
  {
   "cell_type": "code",
   "execution_count": 14,
   "id": "3beed1d1-5f4d-4588-b9f1-95c99e4b991a",
   "metadata": {
    "execution": {
     "iopub.execute_input": "2023-08-30T03:43:04.835794Z",
     "iopub.status.busy": "2023-08-30T03:43:04.835101Z",
     "iopub.status.idle": "2023-08-30T03:43:04.915774Z",
     "shell.execute_reply": "2023-08-30T03:43:04.914915Z"
    },
    "papermill": {
     "duration": 0.089326,
     "end_time": "2023-08-30T03:43:04.916944",
     "exception": false,
     "start_time": "2023-08-30T03:43:04.827618",
     "status": "completed"
    },
    "tags": []
   },
   "outputs": [
    {
     "name": "stderr",
     "output_type": "stream",
     "text": [
      "\u001b[1mRows: \u001b[22m\u001b[34m12228\u001b[39m \u001b[1mColumns: \u001b[22m\u001b[34m14\u001b[39m\n",
      "\u001b[36m──\u001b[39m \u001b[1mColumn specification\u001b[22m \u001b[36m─────────────────────────────────────────────────────────────────────────────────────────────────────────────────────────────────────────────────────────────────────\u001b[39m\n",
      "\u001b[1mDelimiter:\u001b[22m \",\"\n",
      "\u001b[31mchr\u001b[39m (2): gene, gene_name\n",
      "\u001b[32mdbl\u001b[39m (8): zscore, pvalue, var_g, n_snps_used, n_snps_in_cov, n_snps_in_model,...\n",
      "\u001b[33mlgl\u001b[39m (4): effect_size, pred_perf_r2, pred_perf_pval, pred_perf_qval\n",
      "\n",
      "\u001b[36mℹ\u001b[39m Use `spec()` to retrieve the full column specification for this data.\n",
      "\u001b[36mℹ\u001b[39m Specify the column types or set `show_col_types = FALSE` to quiet this message.\n"
     ]
    }
   ],
   "source": [
    "twas <- as.data.frame(read_csv(file.path(SPREDIXCAN_DIR, \"chronotype_raw_BOLT.output_HRC.only_plus.metrics_maf0.001_hwep1em12_info0.3.txt-gtex_v8-mashr-Whole_Blood.csv\")))"
   ]
  },
  {
   "cell_type": "code",
   "execution_count": 15,
   "id": "66ec44f1-b2b0-4c7e-8aad-81aaa6612b71",
   "metadata": {
    "execution": {
     "iopub.execute_input": "2023-08-30T03:43:04.932563Z",
     "iopub.status.busy": "2023-08-30T03:43:04.931835Z",
     "iopub.status.idle": "2023-08-30T03:43:04.939230Z",
     "shell.execute_reply": "2023-08-30T03:43:04.938396Z"
    },
    "papermill": {
     "duration": 0.016354,
     "end_time": "2023-08-30T03:43:04.940499",
     "exception": false,
     "start_time": "2023-08-30T03:43:04.924145",
     "status": "completed"
    },
    "tags": []
   },
   "outputs": [
    {
     "data": {
      "text/html": [
       "<style>\n",
       ".list-inline {list-style: none; margin:0; padding: 0}\n",
       ".list-inline>li {display: inline-block}\n",
       ".list-inline>li:not(:last-child)::after {content: \"\\00b7\"; padding: 0 .5ex}\n",
       "</style>\n",
       "<ol class=list-inline><li>12228</li><li>14</li></ol>\n"
      ],
      "text/latex": [
       "\\begin{enumerate*}\n",
       "\\item 12228\n",
       "\\item 14\n",
       "\\end{enumerate*}\n"
      ],
      "text/markdown": [
       "1. 12228\n",
       "2. 14\n",
       "\n",
       "\n"
      ],
      "text/plain": [
       "[1] 12228    14"
      ]
     },
     "metadata": {},
     "output_type": "display_data"
    }
   ],
   "source": [
    "dim(twas)"
   ]
  },
  {
   "cell_type": "code",
   "execution_count": 16,
   "id": "d92e3b57-390f-4a55-bfc4-c3bf08ff1af0",
   "metadata": {
    "execution": {
     "iopub.execute_input": "2023-08-30T03:43:04.956742Z",
     "iopub.status.busy": "2023-08-30T03:43:04.956048Z",
     "iopub.status.idle": "2023-08-30T03:43:04.971771Z",
     "shell.execute_reply": "2023-08-30T03:43:04.970926Z"
    },
    "papermill": {
     "duration": 0.025257,
     "end_time": "2023-08-30T03:43:04.973071",
     "exception": false,
     "start_time": "2023-08-30T03:43:04.947814",
     "status": "completed"
    },
    "tags": []
   },
   "outputs": [
    {
     "data": {
      "text/html": [
       "<table class=\"dataframe\">\n",
       "<caption>A data.frame: 6 × 14</caption>\n",
       "<thead>\n",
       "\t<tr><th></th><th scope=col>gene</th><th scope=col>gene_name</th><th scope=col>zscore</th><th scope=col>effect_size</th><th scope=col>pvalue</th><th scope=col>var_g</th><th scope=col>pred_perf_r2</th><th scope=col>pred_perf_pval</th><th scope=col>pred_perf_qval</th><th scope=col>n_snps_used</th><th scope=col>n_snps_in_cov</th><th scope=col>n_snps_in_model</th><th scope=col>best_gwas_p</th><th scope=col>largest_weight</th></tr>\n",
       "\t<tr><th></th><th scope=col>&lt;chr&gt;</th><th scope=col>&lt;chr&gt;</th><th scope=col>&lt;dbl&gt;</th><th scope=col>&lt;lgl&gt;</th><th scope=col>&lt;dbl&gt;</th><th scope=col>&lt;dbl&gt;</th><th scope=col>&lt;lgl&gt;</th><th scope=col>&lt;lgl&gt;</th><th scope=col>&lt;lgl&gt;</th><th scope=col>&lt;dbl&gt;</th><th scope=col>&lt;dbl&gt;</th><th scope=col>&lt;dbl&gt;</th><th scope=col>&lt;dbl&gt;</th><th scope=col>&lt;dbl&gt;</th></tr>\n",
       "</thead>\n",
       "<tbody>\n",
       "\t<tr><th scope=row>1</th><td>ENSG00000049245.12</td><td>VAMP3   </td><td>10.924968</td><td>NA</td><td>8.757088e-28</td><td>3.926950e-02</td><td>NA</td><td>NA</td><td>NA</td><td>4</td><td>5</td><td>5</td><td>1.099995e-21</td><td>0.198362785</td></tr>\n",
       "\t<tr><th scope=row>2</th><td>ENSG00000175548.8 </td><td>ALG10B  </td><td>10.319145</td><td>NA</td><td>5.773512e-25</td><td>2.721477e-02</td><td>NA</td><td>NA</td><td>NA</td><td>2</td><td>3</td><td>3</td><td>1.200001e-24</td><td>0.132345346</td></tr>\n",
       "\t<tr><th scope=row>3</th><td>ENSG00000102805.14</td><td>CLN5    </td><td>-9.549758</td><td>NA</td><td>1.299997e-21</td><td>1.358485e-06</td><td>NA</td><td>NA</td><td>NA</td><td>1</td><td>2</td><td>2</td><td>1.299997e-21</td><td>0.004722521</td></tr>\n",
       "\t<tr><th scope=row>4</th><td>ENSG00000204104.11</td><td>TRAF3IP1</td><td>-9.483733</td><td>NA</td><td>2.453452e-21</td><td>1.200709e-03</td><td>NA</td><td>NA</td><td>NA</td><td>2</td><td>2</td><td>2</td><td>8.199969e-30</td><td>0.080102102</td></tr>\n",
       "\t<tr><th scope=row>5</th><td>ENSG00000163125.15</td><td>RPRD2   </td><td>-8.835110</td><td>NA</td><td>1.000001e-18</td><td>4.371313e-03</td><td>NA</td><td>NA</td><td>NA</td><td>1</td><td>2</td><td>2</td><td>1.000001e-18</td><td>0.096367035</td></tr>\n",
       "\t<tr><th scope=row>6</th><td>ENSG00000132326.11</td><td>PER2    </td><td> 8.004452</td><td>NA</td><td>1.200001e-15</td><td>5.228869e-04</td><td>NA</td><td>NA</td><td>NA</td><td>1</td><td>1</td><td>1</td><td>1.200001e-15</td><td>0.090351372</td></tr>\n",
       "</tbody>\n",
       "</table>\n"
      ],
      "text/latex": [
       "A data.frame: 6 × 14\n",
       "\\begin{tabular}{r|llllllllllllll}\n",
       "  & gene & gene\\_name & zscore & effect\\_size & pvalue & var\\_g & pred\\_perf\\_r2 & pred\\_perf\\_pval & pred\\_perf\\_qval & n\\_snps\\_used & n\\_snps\\_in\\_cov & n\\_snps\\_in\\_model & best\\_gwas\\_p & largest\\_weight\\\\\n",
       "  & <chr> & <chr> & <dbl> & <lgl> & <dbl> & <dbl> & <lgl> & <lgl> & <lgl> & <dbl> & <dbl> & <dbl> & <dbl> & <dbl>\\\\\n",
       "\\hline\n",
       "\t1 & ENSG00000049245.12 & VAMP3    & 10.924968 & NA & 8.757088e-28 & 3.926950e-02 & NA & NA & NA & 4 & 5 & 5 & 1.099995e-21 & 0.198362785\\\\\n",
       "\t2 & ENSG00000175548.8  & ALG10B   & 10.319145 & NA & 5.773512e-25 & 2.721477e-02 & NA & NA & NA & 2 & 3 & 3 & 1.200001e-24 & 0.132345346\\\\\n",
       "\t3 & ENSG00000102805.14 & CLN5     & -9.549758 & NA & 1.299997e-21 & 1.358485e-06 & NA & NA & NA & 1 & 2 & 2 & 1.299997e-21 & 0.004722521\\\\\n",
       "\t4 & ENSG00000204104.11 & TRAF3IP1 & -9.483733 & NA & 2.453452e-21 & 1.200709e-03 & NA & NA & NA & 2 & 2 & 2 & 8.199969e-30 & 0.080102102\\\\\n",
       "\t5 & ENSG00000163125.15 & RPRD2    & -8.835110 & NA & 1.000001e-18 & 4.371313e-03 & NA & NA & NA & 1 & 2 & 2 & 1.000001e-18 & 0.096367035\\\\\n",
       "\t6 & ENSG00000132326.11 & PER2     &  8.004452 & NA & 1.200001e-15 & 5.228869e-04 & NA & NA & NA & 1 & 1 & 1 & 1.200001e-15 & 0.090351372\\\\\n",
       "\\end{tabular}\n"
      ],
      "text/markdown": [
       "\n",
       "A data.frame: 6 × 14\n",
       "\n",
       "| <!--/--> | gene &lt;chr&gt; | gene_name &lt;chr&gt; | zscore &lt;dbl&gt; | effect_size &lt;lgl&gt; | pvalue &lt;dbl&gt; | var_g &lt;dbl&gt; | pred_perf_r2 &lt;lgl&gt; | pred_perf_pval &lt;lgl&gt; | pred_perf_qval &lt;lgl&gt; | n_snps_used &lt;dbl&gt; | n_snps_in_cov &lt;dbl&gt; | n_snps_in_model &lt;dbl&gt; | best_gwas_p &lt;dbl&gt; | largest_weight &lt;dbl&gt; |\n",
       "|---|---|---|---|---|---|---|---|---|---|---|---|---|---|---|\n",
       "| 1 | ENSG00000049245.12 | VAMP3    | 10.924968 | NA | 8.757088e-28 | 3.926950e-02 | NA | NA | NA | 4 | 5 | 5 | 1.099995e-21 | 0.198362785 |\n",
       "| 2 | ENSG00000175548.8  | ALG10B   | 10.319145 | NA | 5.773512e-25 | 2.721477e-02 | NA | NA | NA | 2 | 3 | 3 | 1.200001e-24 | 0.132345346 |\n",
       "| 3 | ENSG00000102805.14 | CLN5     | -9.549758 | NA | 1.299997e-21 | 1.358485e-06 | NA | NA | NA | 1 | 2 | 2 | 1.299997e-21 | 0.004722521 |\n",
       "| 4 | ENSG00000204104.11 | TRAF3IP1 | -9.483733 | NA | 2.453452e-21 | 1.200709e-03 | NA | NA | NA | 2 | 2 | 2 | 8.199969e-30 | 0.080102102 |\n",
       "| 5 | ENSG00000163125.15 | RPRD2    | -8.835110 | NA | 1.000001e-18 | 4.371313e-03 | NA | NA | NA | 1 | 2 | 2 | 1.000001e-18 | 0.096367035 |\n",
       "| 6 | ENSG00000132326.11 | PER2     |  8.004452 | NA | 1.200001e-15 | 5.228869e-04 | NA | NA | NA | 1 | 1 | 1 | 1.200001e-15 | 0.090351372 |\n",
       "\n"
      ],
      "text/plain": [
       "  gene               gene_name zscore    effect_size pvalue       var_g       \n",
       "1 ENSG00000049245.12 VAMP3     10.924968 NA          8.757088e-28 3.926950e-02\n",
       "2 ENSG00000175548.8  ALG10B    10.319145 NA          5.773512e-25 2.721477e-02\n",
       "3 ENSG00000102805.14 CLN5      -9.549758 NA          1.299997e-21 1.358485e-06\n",
       "4 ENSG00000204104.11 TRAF3IP1  -9.483733 NA          2.453452e-21 1.200709e-03\n",
       "5 ENSG00000163125.15 RPRD2     -8.835110 NA          1.000001e-18 4.371313e-03\n",
       "6 ENSG00000132326.11 PER2       8.004452 NA          1.200001e-15 5.228869e-04\n",
       "  pred_perf_r2 pred_perf_pval pred_perf_qval n_snps_used n_snps_in_cov\n",
       "1 NA           NA             NA             4           5            \n",
       "2 NA           NA             NA             2           3            \n",
       "3 NA           NA             NA             1           2            \n",
       "4 NA           NA             NA             2           2            \n",
       "5 NA           NA             NA             1           2            \n",
       "6 NA           NA             NA             1           1            \n",
       "  n_snps_in_model best_gwas_p  largest_weight\n",
       "1 5               1.099995e-21 0.198362785   \n",
       "2 3               1.200001e-24 0.132345346   \n",
       "3 2               1.299997e-21 0.004722521   \n",
       "4 2               8.199969e-30 0.080102102   \n",
       "5 2               1.000001e-18 0.096367035   \n",
       "6 1               1.200001e-15 0.090351372   "
      ]
     },
     "metadata": {},
     "output_type": "display_data"
    }
   ],
   "source": [
    "head(twas)"
   ]
  },
  {
   "cell_type": "markdown",
   "id": "3e576b71-c4a9-4dbb-a46d-375957ab6e6f",
   "metadata": {
    "papermill": {
     "duration": 0.007368,
     "end_time": "2023-08-30T03:43:04.988367",
     "exception": false,
     "start_time": "2023-08-30T03:43:04.980999",
     "status": "completed"
    },
    "tags": []
   },
   "source": [
    "### QQ-plot"
   ]
  },
  {
   "cell_type": "code",
   "execution_count": 17,
   "id": "aeef8821-518f-40c0-b486-b0c16490220a",
   "metadata": {
    "execution": {
     "iopub.execute_input": "2023-08-30T03:43:05.004934Z",
     "iopub.status.busy": "2023-08-30T03:43:05.004232Z",
     "iopub.status.idle": "2023-08-30T03:43:05.301414Z",
     "shell.execute_reply": "2023-08-30T03:43:05.300560Z"
    },
    "papermill": {
     "duration": 0.307543,
     "end_time": "2023-08-30T03:43:05.303381",
     "exception": false,
     "start_time": "2023-08-30T03:43:04.995838",
     "status": "completed"
    },
    "tags": []
   },
   "outputs": [
    {
     "data": {
      "image/png": "[encoded data removed]",
      "text/plain": [
       "Plot with title “Q-Q plot of S-PrediXcan for Chronotype (imputed)”"
      ]
     },
     "metadata": {
      "image/png": {
       "height": 600,
       "width": 600
      }
     },
     "output_type": "display_data"
    }
   ],
   "source": [
    "options(repr.plot.width = 10, repr.plot.height = 10)\n",
    "\n",
    "qq(twas$pvalue, main = paste0(\"Q-Q plot of S-PrediXcan for \", gwas_title))"
   ]
  },
  {
   "cell_type": "markdown",
   "id": "64fe38d3-87d9-4353-9a71-9ea4d7909a16",
   "metadata": {
    "papermill": {
     "duration": 0.010787,
     "end_time": "2023-08-30T03:43:05.322674",
     "exception": false,
     "start_time": "2023-08-30T03:43:05.311887",
     "status": "completed"
    },
    "tags": []
   },
   "source": [
    "## S-MultiXcan"
   ]
  },
  {
   "cell_type": "markdown",
   "id": "f09b116e-a113-4206-938a-ff38ed9b4b49",
   "metadata": {
    "papermill": {
     "duration": 0.008248,
     "end_time": "2023-08-30T03:43:05.339197",
     "exception": false,
     "start_time": "2023-08-30T03:43:05.330949",
     "status": "completed"
    },
    "tags": []
   },
   "source": [
    "### Load data"
   ]
  },
  {
   "cell_type": "code",
   "execution_count": 18,
   "id": "bccf3ce7-f587-4886-838f-f5dbd9e821f6",
   "metadata": {
    "execution": {
     "iopub.execute_input": "2023-08-30T03:43:05.357239Z",
     "iopub.status.busy": "2023-08-30T03:43:05.356507Z",
     "iopub.status.idle": "2023-08-30T03:43:05.430155Z",
     "shell.execute_reply": "2023-08-30T03:43:05.429156Z"
    },
    "papermill": {
     "duration": 0.083941,
     "end_time": "2023-08-30T03:43:05.431445",
     "exception": false,
     "start_time": "2023-08-30T03:43:05.347504",
     "status": "completed"
    },
    "tags": []
   },
   "outputs": [
    {
     "name": "stderr",
     "output_type": "stream",
     "text": [
      "\n",
      "\u001b[36m──\u001b[39m \u001b[1mColumn specification\u001b[22m \u001b[36m─────────────────────────────────────────────────────────────────────────────────────────────────────────────────────────────────────────────────────────────────────\u001b[39m\n",
      "cols(\n",
      "  gene = \u001b[31mcol_character()\u001b[39m,\n",
      "  gene_name = \u001b[31mcol_character()\u001b[39m,\n",
      "  pvalue = \u001b[32mcol_double()\u001b[39m,\n",
      "  n = \u001b[32mcol_double()\u001b[39m,\n",
      "  n_indep = \u001b[32mcol_double()\u001b[39m,\n",
      "  p_i_best = \u001b[32mcol_double()\u001b[39m,\n",
      "  t_i_best = \u001b[31mcol_character()\u001b[39m,\n",
      "  p_i_worst = \u001b[32mcol_double()\u001b[39m,\n",
      "  t_i_worst = \u001b[31mcol_character()\u001b[39m,\n",
      "  eigen_max = \u001b[32mcol_double()\u001b[39m,\n",
      "  eigen_min = \u001b[32mcol_double()\u001b[39m,\n",
      "  eigen_min_kept = \u001b[32mcol_double()\u001b[39m,\n",
      "  z_min = \u001b[32mcol_double()\u001b[39m,\n",
      "  z_max = \u001b[32mcol_double()\u001b[39m,\n",
      "  z_mean = \u001b[32mcol_double()\u001b[39m,\n",
      "  z_sd = \u001b[32mcol_double()\u001b[39m,\n",
      "  tmi = \u001b[32mcol_double()\u001b[39m,\n",
      "  status = \u001b[32mcol_double()\u001b[39m\n",
      ")\n",
      "\n"
     ]
    }
   ],
   "source": [
    "twas <- as.data.frame(read_table(file.path(SMULTIXCAN_DIR, \"chronotype_raw_BOLT.output_HRC.only_plus.metrics_maf0.001_hwep1em12_info0.3.txt-gtex_v8-mashr-smultixcan.txt\")))"
   ]
  },
  {
   "cell_type": "code",
   "execution_count": 19,
   "id": "b9e51545-904d-4412-90e5-08d574a80440",
   "metadata": {
    "execution": {
     "iopub.execute_input": "2023-08-30T03:43:05.446747Z",
     "iopub.status.busy": "2023-08-30T03:43:05.446025Z",
     "iopub.status.idle": "2023-08-30T03:43:05.453485Z",
     "shell.execute_reply": "2023-08-30T03:43:05.452667Z"
    },
    "papermill": {
     "duration": 0.015878,
     "end_time": "2023-08-30T03:43:05.454613",
     "exception": false,
     "start_time": "2023-08-30T03:43:05.438735",
     "status": "completed"
    },
    "tags": []
   },
   "outputs": [
    {
     "data": {
      "text/html": [
       "<style>\n",
       ".list-inline {list-style: none; margin:0; padding: 0}\n",
       ".list-inline>li {display: inline-block}\n",
       ".list-inline>li:not(:last-child)::after {content: \"\\00b7\"; padding: 0 .5ex}\n",
       "</style>\n",
       "<ol class=list-inline><li>22338</li><li>18</li></ol>\n"
      ],
      "text/latex": [
       "\\begin{enumerate*}\n",
       "\\item 22338\n",
       "\\item 18\n",
       "\\end{enumerate*}\n"
      ],
      "text/markdown": [
       "1. 22338\n",
       "2. 18\n",
       "\n",
       "\n"
      ],
      "text/plain": [
       "[1] 22338    18"
      ]
     },
     "metadata": {},
     "output_type": "display_data"
    }
   ],
   "source": [
    "dim(twas)"
   ]
  },
  {
   "cell_type": "code",
   "execution_count": 20,
   "id": "4fce3b3a-bb7b-45d6-a5d7-1d57f1d86b9e",
   "metadata": {
    "execution": {
     "iopub.execute_input": "2023-08-30T03:43:05.469682Z",
     "iopub.status.busy": "2023-08-30T03:43:05.468980Z",
     "iopub.status.idle": "2023-08-30T03:43:05.486791Z",
     "shell.execute_reply": "2023-08-30T03:43:05.485923Z"
    },
    "papermill": {
     "duration": 0.026276,
     "end_time": "2023-08-30T03:43:05.487960",
     "exception": false,
     "start_time": "2023-08-30T03:43:05.461684",
     "status": "completed"
    },
    "tags": []
   },
   "outputs": [
    {
     "data": {
      "text/html": [
       "<table class=\"dataframe\">\n",
       "<caption>A data.frame: 6 × 18</caption>\n",
       "<thead>\n",
       "\t<tr><th></th><th scope=col>gene</th><th scope=col>gene_name</th><th scope=col>pvalue</th><th scope=col>n</th><th scope=col>n_indep</th><th scope=col>p_i_best</th><th scope=col>t_i_best</th><th scope=col>p_i_worst</th><th scope=col>t_i_worst</th><th scope=col>eigen_max</th><th scope=col>eigen_min</th><th scope=col>eigen_min_kept</th><th scope=col>z_min</th><th scope=col>z_max</th><th scope=col>z_mean</th><th scope=col>z_sd</th><th scope=col>tmi</th><th scope=col>status</th></tr>\n",
       "\t<tr><th></th><th scope=col>&lt;chr&gt;</th><th scope=col>&lt;chr&gt;</th><th scope=col>&lt;dbl&gt;</th><th scope=col>&lt;dbl&gt;</th><th scope=col>&lt;dbl&gt;</th><th scope=col>&lt;dbl&gt;</th><th scope=col>&lt;chr&gt;</th><th scope=col>&lt;dbl&gt;</th><th scope=col>&lt;chr&gt;</th><th scope=col>&lt;dbl&gt;</th><th scope=col>&lt;dbl&gt;</th><th scope=col>&lt;dbl&gt;</th><th scope=col>&lt;dbl&gt;</th><th scope=col>&lt;dbl&gt;</th><th scope=col>&lt;dbl&gt;</th><th scope=col>&lt;dbl&gt;</th><th scope=col>&lt;dbl&gt;</th><th scope=col>&lt;dbl&gt;</th></tr>\n",
       "</thead>\n",
       "<tbody>\n",
       "\t<tr><th scope=row>1</th><td>ENSG00000143333.6 </td><td>RGS16   </td><td>5.800109e-44</td><td>38</td><td> 4</td><td>5.700001e-47</td><td>Pancreas                           </td><td>0.5800000</td><td>Whole_Blood               </td><td>23.903941</td><td>6.335502e-16</td><td>0.8775937</td><td>-0.5533847</td><td>14.393312</td><td> 9.493750072</td><td>5.327872</td><td> 4</td><td>0</td></tr>\n",
       "\t<tr><th scope=row>2</th><td>ENSG00000170667.14</td><td>RASA4B  </td><td>3.372056e-29</td><td>28</td><td> 9</td><td>1.476600e-19</td><td>Esophagus_Gastroesophageal_Junction</td><td>0.9200000</td><td>Colon_Transverse          </td><td> 9.079745</td><td>6.297973e-16</td><td>0.3996185</td><td>-4.5335517</td><td> 9.046474</td><td> 0.618507928</td><td>4.018769</td><td> 9</td><td>0</td></tr>\n",
       "\t<tr><th scope=row>3</th><td>ENSG00000105808.17</td><td>RASA4   </td><td>1.485914e-27</td><td>29</td><td> 7</td><td>4.800005e-11</td><td>Liver                              </td><td>0.9200000</td><td>Adipose_Subcutaneous      </td><td>17.055960</td><td>1.413462e-15</td><td>0.7394877</td><td>-4.8728495</td><td> 6.577011</td><td> 0.828139088</td><td>2.685945</td><td> 7</td><td>0</td></tr>\n",
       "\t<tr><th scope=row>4</th><td>ENSG00000175548.8 </td><td>ALG10B  </td><td>1.259923e-26</td><td>47</td><td> 5</td><td>5.773512e-25</td><td>Whole_Blood                        </td><td>0.6700000</td><td>Skin_Sun_Exposed_Lower_leg</td><td>23.320211</td><td>3.628484e-16</td><td>0.8153738</td><td>-2.1324279</td><td>10.319145</td><td> 4.224470474</td><td>4.831721</td><td> 5</td><td>0</td></tr>\n",
       "\t<tr><th scope=row>5</th><td>ENSG00000204104.11</td><td>TRAF3IP1</td><td>8.160990e-26</td><td>48</td><td> 6</td><td>8.199969e-30</td><td>Brain_Caudate_basal_ganglia        </td><td>0.9312093</td><td>Colon_Sigmoid             </td><td>25.088363</td><td>6.731142e-16</td><td>0.9381543</td><td>-9.4837331</td><td>11.341213</td><td> 0.481580645</td><td>4.414046</td><td> 6</td><td>0</td></tr>\n",
       "\t<tr><th scope=row>6</th><td>ENSG00000146469.12</td><td>VIP     </td><td>1.298749e-25</td><td>20</td><td>12</td><td>4.799983e-16</td><td>Heart_Left_Ventricle               </td><td>0.9568234</td><td>Muscle_Skeletal           </td><td> 3.970554</td><td>1.978220e-17</td><td>0.2566885</td><td>-8.1164551</td><td> 6.109410</td><td>-0.003538853</td><td>3.368780</td><td>12</td><td>0</td></tr>\n",
       "</tbody>\n",
       "</table>\n"
      ],
      "text/latex": [
       "A data.frame: 6 × 18\n",
       "\\begin{tabular}{r|llllllllllllllllll}\n",
       "  & gene & gene\\_name & pvalue & n & n\\_indep & p\\_i\\_best & t\\_i\\_best & p\\_i\\_worst & t\\_i\\_worst & eigen\\_max & eigen\\_min & eigen\\_min\\_kept & z\\_min & z\\_max & z\\_mean & z\\_sd & tmi & status\\\\\n",
       "  & <chr> & <chr> & <dbl> & <dbl> & <dbl> & <dbl> & <chr> & <dbl> & <chr> & <dbl> & <dbl> & <dbl> & <dbl> & <dbl> & <dbl> & <dbl> & <dbl> & <dbl>\\\\\n",
       "\\hline\n",
       "\t1 & ENSG00000143333.6  & RGS16    & 5.800109e-44 & 38 &  4 & 5.700001e-47 & Pancreas                            & 0.5800000 & Whole\\_Blood                & 23.903941 & 6.335502e-16 & 0.8775937 & -0.5533847 & 14.393312 &  9.493750072 & 5.327872 &  4 & 0\\\\\n",
       "\t2 & ENSG00000170667.14 & RASA4B   & 3.372056e-29 & 28 &  9 & 1.476600e-19 & Esophagus\\_Gastroesophageal\\_Junction & 0.9200000 & Colon\\_Transverse           &  9.079745 & 6.297973e-16 & 0.3996185 & -4.5335517 &  9.046474 &  0.618507928 & 4.018769 &  9 & 0\\\\\n",
       "\t3 & ENSG00000105808.17 & RASA4    & 1.485914e-27 & 29 &  7 & 4.800005e-11 & Liver                               & 0.9200000 & Adipose\\_Subcutaneous       & 17.055960 & 1.413462e-15 & 0.7394877 & -4.8728495 &  6.577011 &  0.828139088 & 2.685945 &  7 & 0\\\\\n",
       "\t4 & ENSG00000175548.8  & ALG10B   & 1.259923e-26 & 47 &  5 & 5.773512e-25 & Whole\\_Blood                         & 0.6700000 & Skin\\_Sun\\_Exposed\\_Lower\\_leg & 23.320211 & 3.628484e-16 & 0.8153738 & -2.1324279 & 10.319145 &  4.224470474 & 4.831721 &  5 & 0\\\\\n",
       "\t5 & ENSG00000204104.11 & TRAF3IP1 & 8.160990e-26 & 48 &  6 & 8.199969e-30 & Brain\\_Caudate\\_basal\\_ganglia         & 0.9312093 & Colon\\_Sigmoid              & 25.088363 & 6.731142e-16 & 0.9381543 & -9.4837331 & 11.341213 &  0.481580645 & 4.414046 &  6 & 0\\\\\n",
       "\t6 & ENSG00000146469.12 & VIP      & 1.298749e-25 & 20 & 12 & 4.799983e-16 & Heart\\_Left\\_Ventricle                & 0.9568234 & Muscle\\_Skeletal            &  3.970554 & 1.978220e-17 & 0.2566885 & -8.1164551 &  6.109410 & -0.003538853 & 3.368780 & 12 & 0\\\\\n",
       "\\end{tabular}\n"
      ],
      "text/markdown": [
       "\n",
       "A data.frame: 6 × 18\n",
       "\n",
       "| <!--/--> | gene &lt;chr&gt; | gene_name &lt;chr&gt; | pvalue &lt;dbl&gt; | n &lt;dbl&gt; | n_indep &lt;dbl&gt; | p_i_best &lt;dbl&gt; | t_i_best &lt;chr&gt; | p_i_worst &lt;dbl&gt; | t_i_worst &lt;chr&gt; | eigen_max &lt;dbl&gt; | eigen_min &lt;dbl&gt; | eigen_min_kept &lt;dbl&gt; | z_min &lt;dbl&gt; | z_max &lt;dbl&gt; | z_mean &lt;dbl&gt; | z_sd &lt;dbl&gt; | tmi &lt;dbl&gt; | status &lt;dbl&gt; |\n",
       "|---|---|---|---|---|---|---|---|---|---|---|---|---|---|---|---|---|---|---|\n",
       "| 1 | ENSG00000143333.6  | RGS16    | 5.800109e-44 | 38 |  4 | 5.700001e-47 | Pancreas                            | 0.5800000 | Whole_Blood                | 23.903941 | 6.335502e-16 | 0.8775937 | -0.5533847 | 14.393312 |  9.493750072 | 5.327872 |  4 | 0 |\n",
       "| 2 | ENSG00000170667.14 | RASA4B   | 3.372056e-29 | 28 |  9 | 1.476600e-19 | Esophagus_Gastroesophageal_Junction | 0.9200000 | Colon_Transverse           |  9.079745 | 6.297973e-16 | 0.3996185 | -4.5335517 |  9.046474 |  0.618507928 | 4.018769 |  9 | 0 |\n",
       "| 3 | ENSG00000105808.17 | RASA4    | 1.485914e-27 | 29 |  7 | 4.800005e-11 | Liver                               | 0.9200000 | Adipose_Subcutaneous       | 17.055960 | 1.413462e-15 | 0.7394877 | -4.8728495 |  6.577011 |  0.828139088 | 2.685945 |  7 | 0 |\n",
       "| 4 | ENSG00000175548.8  | ALG10B   | 1.259923e-26 | 47 |  5 | 5.773512e-25 | Whole_Blood                         | 0.6700000 | Skin_Sun_Exposed_Lower_leg | 23.320211 | 3.628484e-16 | 0.8153738 | -2.1324279 | 10.319145 |  4.224470474 | 4.831721 |  5 | 0 |\n",
       "| 5 | ENSG00000204104.11 | TRAF3IP1 | 8.160990e-26 | 48 |  6 | 8.199969e-30 | Brain_Caudate_basal_ganglia         | 0.9312093 | Colon_Sigmoid              | 25.088363 | 6.731142e-16 | 0.9381543 | -9.4837331 | 11.341213 |  0.481580645 | 4.414046 |  6 | 0 |\n",
       "| 6 | ENSG00000146469.12 | VIP      | 1.298749e-25 | 20 | 12 | 4.799983e-16 | Heart_Left_Ventricle                | 0.9568234 | Muscle_Skeletal            |  3.970554 | 1.978220e-17 | 0.2566885 | -8.1164551 |  6.109410 | -0.003538853 | 3.368780 | 12 | 0 |\n",
       "\n"
      ],
      "text/plain": [
       "  gene               gene_name pvalue       n  n_indep p_i_best    \n",
       "1 ENSG00000143333.6  RGS16     5.800109e-44 38  4      5.700001e-47\n",
       "2 ENSG00000170667.14 RASA4B    3.372056e-29 28  9      1.476600e-19\n",
       "3 ENSG00000105808.17 RASA4     1.485914e-27 29  7      4.800005e-11\n",
       "4 ENSG00000175548.8  ALG10B    1.259923e-26 47  5      5.773512e-25\n",
       "5 ENSG00000204104.11 TRAF3IP1  8.160990e-26 48  6      8.199969e-30\n",
       "6 ENSG00000146469.12 VIP       1.298749e-25 20 12      4.799983e-16\n",
       "  t_i_best                            p_i_worst t_i_worst                 \n",
       "1 Pancreas                            0.5800000 Whole_Blood               \n",
       "2 Esophagus_Gastroesophageal_Junction 0.9200000 Colon_Transverse          \n",
       "3 Liver                               0.9200000 Adipose_Subcutaneous      \n",
       "4 Whole_Blood                         0.6700000 Skin_Sun_Exposed_Lower_leg\n",
       "5 Brain_Caudate_basal_ganglia         0.9312093 Colon_Sigmoid             \n",
       "6 Heart_Left_Ventricle                0.9568234 Muscle_Skeletal           \n",
       "  eigen_max eigen_min    eigen_min_kept z_min      z_max     z_mean      \n",
       "1 23.903941 6.335502e-16 0.8775937      -0.5533847 14.393312  9.493750072\n",
       "2  9.079745 6.297973e-16 0.3996185      -4.5335517  9.046474  0.618507928\n",
       "3 17.055960 1.413462e-15 0.7394877      -4.8728495  6.577011  0.828139088\n",
       "4 23.320211 3.628484e-16 0.8153738      -2.1324279 10.319145  4.224470474\n",
       "5 25.088363 6.731142e-16 0.9381543      -9.4837331 11.341213  0.481580645\n",
       "6  3.970554 1.978220e-17 0.2566885      -8.1164551  6.109410 -0.003538853\n",
       "  z_sd     tmi status\n",
       "1 5.327872  4  0     \n",
       "2 4.018769  9  0     \n",
       "3 2.685945  7  0     \n",
       "4 4.831721  5  0     \n",
       "5 4.414046  6  0     \n",
       "6 3.368780 12  0     "
      ]
     },
     "metadata": {},
     "output_type": "display_data"
    }
   ],
   "source": [
    "head(twas)"
   ]
  },
  {
   "cell_type": "markdown",
   "id": "481d9699-39f7-473a-ab1d-fa1cd77dacb5",
   "metadata": {
    "papermill": {
     "duration": 0.006969,
     "end_time": "2023-08-30T03:43:05.501941",
     "exception": false,
     "start_time": "2023-08-30T03:43:05.494972",
     "status": "completed"
    },
    "tags": []
   },
   "source": [
    "### QQ-plot"
   ]
  },
  {
   "cell_type": "code",
   "execution_count": 21,
   "id": "5fc76ac3-885a-47c8-8c7b-70ad918749c0",
   "metadata": {
    "execution": {
     "iopub.execute_input": "2023-08-30T03:43:05.517149Z",
     "iopub.status.busy": "2023-08-30T03:43:05.516450Z",
     "iopub.status.idle": "2023-08-30T03:43:05.966001Z",
     "shell.execute_reply": "2023-08-30T03:43:05.965160Z"
    },
    "papermill": {
     "duration": 0.459286,
     "end_time": "2023-08-30T03:43:05.968239",
     "exception": false,
     "start_time": "2023-08-30T03:43:05.508953",
     "status": "completed"
    },
    "tags": []
   },
   "outputs": [
    {
     "data": {
      "image/png": "[encoded data removed]",
      "text/plain": [
       "Plot with title “Q-Q plot of S-MultiXcan for Chronotype (imputed)”"
      ]
     },
     "metadata": {
      "image/png": {
       "height": 600,
       "width": 600
      }
     },
     "output_type": "display_data"
    }
   ],
   "source": [
    "options(repr.plot.width = 10, repr.plot.height = 10)\n",
    "\n",
    "qq(twas$pvalue, main = paste0(\"Q-Q plot of S-MultiXcan for \", gwas_title))"
   ]
  },
  {
   "cell_type": "code",
   "execution_count": null,
   "id": "8dd5b850-f19c-43a3-a4be-4c11fd047f68",
   "metadata": {
    "papermill": {
     "duration": 0.011107,
     "end_time": "2023-08-30T03:43:05.989882",
     "exception": false,
     "start_time": "2023-08-30T03:43:05.978775",
     "status": "completed"
    },
    "tags": []
   },
   "outputs": [],
   "source": []
  }
 ],
 "metadata": {
  "jupytext": {
   "cell_metadata_filter": "all,-execution,-papermill,-trusted",
   "notebook_metadata_filter": "-jupytext.text_representation.jupytext_version"
  },
  "kernelspec": {
   "display_name": "R",
   "language": "R",
   "name": "ir"
  },
  "language_info": {
   "codemirror_mode": "r",
   "file_extension": ".r",
   "mimetype": "text/x-r-source",
   "name": "R",
   "pygments_lexer": "r",
   "version": "4.2.2"
  },
  "papermill": {
   "default_parameters": {},
   "duration": 3.447721,
   "end_time": "2023-08-30T03:43:06.115507",
   "environment_variables": {},
   "exception": null,
   "input_path": "projects/chronotype/nbs/15_twas/10-twas-qqplot.ipynb",
   "output_path": "projects/chronotype/nbs/15_twas/10-twas-qqplot.run.ipynb",
   "parameters": {
    "PHENOPLIER_NOTEBOOK_FILEPATH": "projects/chronotype/nbs/15_twas/10-twas-qqplot.ipynb"
   },
   "start_time": "2023-08-30T03:43:02.667786",
   "version": "2.3.4"
  },
  "toc-autonumbering": true
 },
 "nbformat": 4,
 "nbformat_minor": 5
}
