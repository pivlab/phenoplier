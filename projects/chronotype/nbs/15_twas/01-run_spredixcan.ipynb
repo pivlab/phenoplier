{
 "cells": [
  {
   "cell_type": "markdown",
   "id": "c935aa7e-fde1-4d1c-b2d7-8c7ee611b1ed",
   "metadata": {
    "papermill": {
     "duration": 0.00373,
     "end_time": "2023-08-30T03:21:42.204282",
     "exception": false,
     "start_time": "2023-08-30T03:21:42.200552",
     "status": "completed"
    },
    "tags": []
   },
   "source": [
    "# Description"
   ]
  },
  {
   "cell_type": "markdown",
   "id": "f66770f7-0585-480b-8daa-1483bc37b494",
   "metadata": {
    "papermill": {
     "duration": 0.00357,
     "end_time": "2023-08-30T03:21:42.218023",
     "exception": false,
     "start_time": "2023-08-30T03:21:42.214453",
     "status": "completed"
    },
    "tags": []
   },
   "source": [
    "Runs S-PrediXcan on a set of traits."
   ]
  },
  {
   "cell_type": "markdown",
   "id": "d389dd7b-20d8-44ed-8053-6e2cd8efea2e",
   "metadata": {
    "papermill": {
     "duration": 0.003014,
     "end_time": "2023-08-30T03:21:42.224138",
     "exception": false,
     "start_time": "2023-08-30T03:21:42.221124",
     "status": "completed"
    },
    "tags": []
   },
   "source": [
    "# Modules"
   ]
  },
  {
   "cell_type": "code",
   "execution_count": 1,
   "id": "69797656-0db2-41d5-b4d6-63c24d47ad38",
   "metadata": {
    "execution": {
     "iopub.execute_input": "2023-08-30T03:21:42.231802Z",
     "iopub.status.busy": "2023-08-30T03:21:42.231209Z",
     "iopub.status.idle": "2023-08-30T03:21:42.266262Z",
     "shell.execute_reply": "2023-08-30T03:21:42.265718Z"
    },
    "papermill": {
     "duration": 0.040476,
     "end_time": "2023-08-30T03:21:42.267816",
     "exception": false,
     "start_time": "2023-08-30T03:21:42.227340",
     "status": "completed"
    },
    "tags": []
   },
   "outputs": [],
   "source": [
    "import os\n",
    "from glob import glob\n",
    "from pathlib import Path\n",
    "\n",
    "from utils import read_log_file_and_check_line_exists\n",
    "import conf"
   ]
  },
  {
   "cell_type": "markdown",
   "id": "dd17aa24-a692-4f62-ac69-c270447c7729",
   "metadata": {
    "papermill": {
     "duration": 0.003024,
     "end_time": "2023-08-30T03:21:42.273982",
     "exception": false,
     "start_time": "2023-08-30T03:21:42.270958",
     "status": "completed"
    },
    "tags": []
   },
   "source": [
    "# Settings"
   ]
  },
  {
   "cell_type": "markdown",
   "id": "3829ee6c-68b6-445e-adce-aa7a6280a56c",
   "metadata": {
    "papermill": {
     "duration": 0.003017,
     "end_time": "2023-08-30T03:21:42.280185",
     "exception": false,
     "start_time": "2023-08-30T03:21:42.277168",
     "status": "completed"
    },
    "tags": []
   },
   "source": [
    "Apparently, there is no easy way to get the parent directory of\n",
    "a notebook in Jupyter, so here I get that information either from\n",
    "the parameter sent by `nbs/run_nbs.sh` (if called from command-line) or\n",
    "from `os.getcwd()` (if called from browser)."
   ]
  },
  {
   "cell_type": "code",
   "execution_count": 2,
   "id": "e8f8093f-7738-448a-b29d-e9059684fcd1",
   "metadata": {
    "execution": {
     "iopub.execute_input": "2023-08-30T03:21:42.287353Z",
     "iopub.status.busy": "2023-08-30T03:21:42.286997Z",
     "iopub.status.idle": "2023-08-30T03:21:42.290000Z",
     "shell.execute_reply": "2023-08-30T03:21:42.289470Z"
    },
    "papermill": {
     "duration": 0.008194,
     "end_time": "2023-08-30T03:21:42.291458",
     "exception": false,
     "start_time": "2023-08-30T03:21:42.283264",
     "status": "completed"
    },
    "tags": [
     "parameters"
    ]
   },
   "outputs": [],
   "source": [
    "PHENOPLIER_NOTEBOOK_FILEPATH = None\n",
    "PHENOPLIER_NOTEBOOK_DIR = os.getcwd()\n",
    "\n",
    "PROJECTS_TRAIT_KEY = \"CHRONOTYPE\""
   ]
  },
  {
   "cell_type": "code",
   "execution_count": 3,
   "id": "06f2e8e8",
   "metadata": {
    "execution": {
     "iopub.execute_input": "2023-08-30T03:21:42.298962Z",
     "iopub.status.busy": "2023-08-30T03:21:42.298612Z",
     "iopub.status.idle": "2023-08-30T03:21:42.301326Z",
     "shell.execute_reply": "2023-08-30T03:21:42.300804Z"
    },
    "lines_to_next_cell": 2,
    "papermill": {
     "duration": 0.007953,
     "end_time": "2023-08-30T03:21:42.302831",
     "exception": false,
     "start_time": "2023-08-30T03:21:42.294878",
     "status": "completed"
    },
    "tags": [
     "injected-parameters"
    ]
   },
   "outputs": [],
   "source": [
    "# Parameters\n",
    "PHENOPLIER_NOTEBOOK_FILEPATH = \"projects/chronotype/nbs/15_twas/01-run_spredixcan.ipynb\""
   ]
  },
  {
   "cell_type": "code",
   "execution_count": 4,
   "id": "80437810-fd28-40ba-8dab-f60424764bfd",
   "metadata": {
    "execution": {
     "iopub.execute_input": "2023-08-30T03:21:42.310096Z",
     "iopub.status.busy": "2023-08-30T03:21:42.309761Z",
     "iopub.status.idle": "2023-08-30T03:21:42.319137Z",
     "shell.execute_reply": "2023-08-30T03:21:42.318606Z"
    },
    "papermill": {
     "duration": 0.014586,
     "end_time": "2023-08-30T03:21:42.320550",
     "exception": false,
     "start_time": "2023-08-30T03:21:42.305964",
     "status": "completed"
    },
    "tags": []
   },
   "outputs": [
    {
     "data": {
      "text/plain": [
       "'projects/chronotype/nbs/15_twas'"
      ]
     },
     "metadata": {},
     "output_type": "display_data"
    }
   ],
   "source": [
    "if PHENOPLIER_NOTEBOOK_FILEPATH is not None:\n",
    "    PHENOPLIER_NOTEBOOK_DIR = str(Path(PHENOPLIER_NOTEBOOK_FILEPATH).parent)\n",
    "\n",
    "display(PHENOPLIER_NOTEBOOK_DIR)"
   ]
  },
  {
   "cell_type": "code",
   "execution_count": 5,
   "id": "f4601810-04cf-44cc-a27b-c85724827b11",
   "metadata": {
    "execution": {
     "iopub.execute_input": "2023-08-30T03:21:42.328333Z",
     "iopub.status.busy": "2023-08-30T03:21:42.327983Z",
     "iopub.status.idle": "2023-08-30T03:21:42.333239Z",
     "shell.execute_reply": "2023-08-30T03:21:42.332715Z"
    },
    "papermill": {
     "duration": 0.010679,
     "end_time": "2023-08-30T03:21:42.334724",
     "exception": false,
     "start_time": "2023-08-30T03:21:42.324045",
     "status": "completed"
    },
    "tags": []
   },
   "outputs": [
    {
     "data": {
      "text/plain": [
       "PosixPath('/opt/data/projects/chronotype/results/twas/spredixcan')"
      ]
     },
     "metadata": {},
     "output_type": "display_data"
    },
    {
     "data": {
      "text/plain": [
       "'/opt/data/projects/chronotype/results/twas/spredixcan'"
      ]
     },
     "metadata": {},
     "output_type": "display_data"
    }
   ],
   "source": [
    "OUTPUT_DIR = conf.PROJECTS[PROJECTS_TRAIT_KEY][\"RESULTS_DIR\"] / \"twas\" / \"spredixcan\"\n",
    "display(OUTPUT_DIR)\n",
    "\n",
    "OUTPUT_DIR_STR = str(OUTPUT_DIR)\n",
    "display(OUTPUT_DIR_STR)"
   ]
  },
  {
   "cell_type": "markdown",
   "id": "3a558eec-2251-4be7-a754-1f98adde3aec",
   "metadata": {
    "papermill": {
     "duration": 0.003376,
     "end_time": "2023-08-30T03:21:42.341504",
     "exception": false,
     "start_time": "2023-08-30T03:21:42.338128",
     "status": "completed"
    },
    "tags": []
   },
   "source": [
    "# Run"
   ]
  },
  {
   "cell_type": "code",
   "execution_count": 6,
   "id": "0c0cd3d9-b032-4f03-82eb-0017a0ef1cca",
   "metadata": {
    "execution": {
     "iopub.execute_input": "2023-08-30T03:21:42.350419Z",
     "iopub.status.busy": "2023-08-30T03:21:42.350070Z",
     "iopub.status.idle": "2023-08-30T03:22:50.765617Z",
     "shell.execute_reply": "2023-08-30T03:22:50.764966Z"
    },
    "papermill": {
     "duration": 68.424837,
     "end_time": "2023-08-30T03:22:50.770733",
     "exception": false,
     "start_time": "2023-08-30T03:21:42.345896",
     "status": "completed"
    },
    "tags": []
   },
   "outputs": [
    {
     "name": "stdout",
     "output_type": "stream",
     "text": [
      "Running for chronotype, Thyroid\n",
      "Saving results in /opt/data/projects/chronotype/results/twas/spredixcan\n"
     ]
    },
    {
     "name": "stderr",
     "output_type": "stream",
     "text": [
      "+ /opt/data/software/conda_envs/metaxcan/bin/python /opt/data/software/metaxcan/software/SPrediXcan.py --model_db_path /opt/data/data/phenomexcan/prediction_models/mashr/mashr_Thyroid.db --covariance /opt/data/data/phenomexcan/prediction_models/mashr/mashr_Thyroid.txt.gz --gwas_file /opt/data/projects/chronotype/results/final_imputed_gwas/chronotype_raw_BOLT.output_HRC.only_plus.metrics_maf0.001_hwep1em12_info0.3.txt-harmonized-imputed.txt.gz --separator '\t' --non_effect_allele_column non_effect_allele --effect_allele_column effect_allele --snp_column panel_variant_id --zscore_column zscore --keep_non_rsid --additional_output --model_db_snp_key varID --throw --output_file /opt/data/projects/chronotype/results/twas/spredixcan/chronotype_raw_BOLT.output_HRC.only_plus.metrics_maf0.001_hwep1em12_info0.3.txt-gtex_v8-mashr-Thyroid.csv\n"
     ]
    },
    {
     "name": "stdout",
     "output_type": "stream",
     "text": [
      "WARNING - Some GWAS snp zscores are not finite.\n",
      "\n"
     ]
    },
    {
     "name": "stderr",
     "output_type": "stream",
     "text": [
      "+ set +x\n"
     ]
    },
    {
     "name": "stdout",
     "output_type": "stream",
     "text": [
      "Running for chronotype, Artery_Aorta\n",
      "Saving results in /opt/data/projects/chronotype/results/twas/spredixcan\n",
      "WARNING - Some GWAS snp zscores are not finite.\n",
      "\n",
      "Running for chronotype, Heart_Atrial_Appendage\n",
      "Saving results in /opt/data/projects/chronotype/results/twas/spredixcan\n",
      "WARNING - Some GWAS snp zscores are not finite.\n",
      "\n",
      "Running for chronotype, Liver\n",
      "Saving results in /opt/data/projects/chronotype/results/twas/spredixcan\n",
      "WARNING - Some GWAS snp zscores are not finite.\n",
      "\n"
     ]
    },
    {
     "name": "stderr",
     "output_type": "stream",
     "text": [
      "+ /opt/data/software/conda_envs/metaxcan/bin/python /opt/data/software/metaxcan/software/SPrediXcan.py --model_db_path /opt/data/data/phenomexcan/prediction_models/mashr/mashr_Artery_Aorta.db --covariance /opt/data/data/phenomexcan/prediction_models/mashr/mashr_Artery_Aorta.txt.gz --gwas_file /opt/data/projects/chronotype/results/final_imputed_gwas/chronotype_raw_BOLT.output_HRC.only_plus.metrics_maf0.001_hwep1em12_info0.3.txt-harmonized-imputed.txt.gz --separator '\t' --non_effect_allele_column non_effect_allele --effect_allele_column effect_allele --snp_column panel_variant_id --zscore_column zscore --keep_non_rsid --additional_output --model_db_snp_key varID --throw --output_file /opt/data/projects/chronotype/results/twas/spredixcan/chronotype_raw_BOLT.output_HRC.only_plus.metrics_maf0.001_hwep1em12_info0.3.txt-gtex_v8-mashr-Artery_Aorta.csv\n",
      "+ set +x\n",
      "+ /opt/data/software/conda_envs/metaxcan/bin/python /opt/data/software/metaxcan/software/SPrediXcan.py --model_db_path /opt/data/data/phenomexcan/prediction_models/mashr/mashr_Heart_Atrial_Appendage.db --covariance /opt/data/data/phenomexcan/prediction_models/mashr/mashr_Heart_Atrial_Appendage.txt.gz --gwas_file /opt/data/projects/chronotype/results/final_imputed_gwas/chronotype_raw_BOLT.output_HRC.only_plus.metrics_maf0.001_hwep1em12_info0.3.txt-harmonized-imputed.txt.gz --separator '\t' --non_effect_allele_column non_effect_allele --effect_allele_column effect_allele --snp_column panel_variant_id --zscore_column zscore --keep_non_rsid --additional_output --model_db_snp_key varID --throw --output_file /opt/data/projects/chronotype/results/twas/spredixcan/chronotype_raw_BOLT.output_HRC.only_plus.metrics_maf0.001_hwep1em12_info0.3.txt-gtex_v8-mashr-Heart_Atrial_Appendage.csv\n",
      "+ set +x\n",
      "+ /opt/data/software/conda_envs/metaxcan/bin/python /opt/data/software/metaxcan/software/SPrediXcan.py --model_db_path /opt/data/data/phenomexcan/prediction_models/mashr/mashr_Liver.db --covariance /opt/data/data/phenomexcan/prediction_models/mashr/mashr_Liver.txt.gz --gwas_file /opt/data/projects/chronotype/results/final_imputed_gwas/chronotype_raw_BOLT.output_HRC.only_plus.metrics_maf0.001_hwep1em12_info0.3.txt-harmonized-imputed.txt.gz --separator '\t' --non_effect_allele_column non_effect_allele --effect_allele_column effect_allele --snp_column panel_variant_id --zscore_column zscore --keep_non_rsid --additional_output --model_db_snp_key varID --throw --output_file /opt/data/projects/chronotype/results/twas/spredixcan/chronotype_raw_BOLT.output_HRC.only_plus.metrics_maf0.001_hwep1em12_info0.3.txt-gtex_v8-mashr-Liver.csv\n",
      "+ set +x\n"
     ]
    },
    {
     "name": "stdout",
     "output_type": "stream",
     "text": [
      "Running for chronotype, Heart_Left_Ventricle\n",
      "Saving results in /opt/data/projects/chronotype/results/twas/spredixcan\n",
      "WARNING - Some GWAS snp zscores are not finite.\n",
      "\n",
      "Running for chronotype, Brain_Hippocampus\n",
      "Saving results in /opt/data/projects/chronotype/results/twas/spredixcan\n",
      "WARNING - Some GWAS snp zscores are not finite.\n",
      "\n",
      "Running for chronotype, Testis\n",
      "Saving results in /opt/data/projects/chronotype/results/twas/spredixcan\n"
     ]
    },
    {
     "name": "stderr",
     "output_type": "stream",
     "text": [
      "+ /opt/data/software/conda_envs/metaxcan/bin/python /opt/data/software/metaxcan/software/SPrediXcan.py --model_db_path /opt/data/data/phenomexcan/prediction_models/mashr/mashr_Heart_Left_Ventricle.db --covariance /opt/data/data/phenomexcan/prediction_models/mashr/mashr_Heart_Left_Ventricle.txt.gz --gwas_file /opt/data/projects/chronotype/results/final_imputed_gwas/chronotype_raw_BOLT.output_HRC.only_plus.metrics_maf0.001_hwep1em12_info0.3.txt-harmonized-imputed.txt.gz --separator '\t' --non_effect_allele_column non_effect_allele --effect_allele_column effect_allele --snp_column panel_variant_id --zscore_column zscore --keep_non_rsid --additional_output --model_db_snp_key varID --throw --output_file /opt/data/projects/chronotype/results/twas/spredixcan/chronotype_raw_BOLT.output_HRC.only_plus.metrics_maf0.001_hwep1em12_info0.3.txt-gtex_v8-mashr-Heart_Left_Ventricle.csv\n",
      "+ set +x\n",
      "+ /opt/data/software/conda_envs/metaxcan/bin/python /opt/data/software/metaxcan/software/SPrediXcan.py --model_db_path /opt/data/data/phenomexcan/prediction_models/mashr/mashr_Brain_Hippocampus.db --covariance /opt/data/data/phenomexcan/prediction_models/mashr/mashr_Brain_Hippocampus.txt.gz --gwas_file /opt/data/projects/chronotype/results/final_imputed_gwas/chronotype_raw_BOLT.output_HRC.only_plus.metrics_maf0.001_hwep1em12_info0.3.txt-harmonized-imputed.txt.gz --separator '\t' --non_effect_allele_column non_effect_allele --effect_allele_column effect_allele --snp_column panel_variant_id --zscore_column zscore --keep_non_rsid --additional_output --model_db_snp_key varID --throw --output_file /opt/data/projects/chronotype/results/twas/spredixcan/chronotype_raw_BOLT.output_HRC.only_plus.metrics_maf0.001_hwep1em12_info0.3.txt-gtex_v8-mashr-Brain_Hippocampus.csv\n",
      "+ set +x\n",
      "+ /opt/data/software/conda_envs/metaxcan/bin/python /opt/data/software/metaxcan/software/SPrediXcan.py --model_db_path /opt/data/data/phenomexcan/prediction_models/mashr/mashr_Testis.db --covariance /opt/data/data/phenomexcan/prediction_models/mashr/mashr_Testis.txt.gz --gwas_file /opt/data/projects/chronotype/results/final_imputed_gwas/chronotype_raw_BOLT.output_HRC.only_plus.metrics_maf0.001_hwep1em12_info0.3.txt-harmonized-imputed.txt.gz --separator '\t' --non_effect_allele_column non_effect_allele --effect_allele_column effect_allele --snp_column panel_variant_id --zscore_column zscore --keep_non_rsid --additional_output --model_db_snp_key varID --throw --output_file /opt/data/projects/chronotype/results/twas/spredixcan/chronotype_raw_BOLT.output_HRC.only_plus.metrics_maf0.001_hwep1em12_info0.3.txt-gtex_v8-mashr-Testis.csv\n"
     ]
    },
    {
     "name": "stdout",
     "output_type": "stream",
     "text": [
      "WARNING - Some GWAS snp zscores are not finite.\n",
      "\n"
     ]
    },
    {
     "name": "stderr",
     "output_type": "stream",
     "text": [
      "+ set +x\n"
     ]
    },
    {
     "name": "stdout",
     "output_type": "stream",
     "text": [
      "Running for chronotype, Uterus\n",
      "Saving results in /opt/data/projects/chronotype/results/twas/spredixcan\n",
      "WARNING - Some GWAS snp zscores are not finite.\n",
      "\n"
     ]
    },
    {
     "name": "stderr",
     "output_type": "stream",
     "text": [
      "+ /opt/data/software/conda_envs/metaxcan/bin/python /opt/data/software/metaxcan/software/SPrediXcan.py --model_db_path /opt/data/data/phenomexcan/prediction_models/mashr/mashr_Uterus.db --covariance /opt/data/data/phenomexcan/prediction_models/mashr/mashr_Uterus.txt.gz --gwas_file /opt/data/projects/chronotype/results/final_imputed_gwas/chronotype_raw_BOLT.output_HRC.only_plus.metrics_maf0.001_hwep1em12_info0.3.txt-harmonized-imputed.txt.gz --separator '\t' --non_effect_allele_column non_effect_allele --effect_allele_column effect_allele --snp_column panel_variant_id --zscore_column zscore --keep_non_rsid --additional_output --model_db_snp_key varID --throw --output_file /opt/data/projects/chronotype/results/twas/spredixcan/chronotype_raw_BOLT.output_HRC.only_plus.metrics_maf0.001_hwep1em12_info0.3.txt-gtex_v8-mashr-Uterus.csv\n",
      "+ set +x\n",
      "+ /opt/data/software/conda_envs/metaxcan/bin/python /opt/data/software/metaxcan/software/SPrediXcan.py --model_db_path /opt/data/data/phenomexcan/prediction_models/mashr/mashr_Adipose_Subcutaneous.db --covariance /opt/data/data/phenomexcan/prediction_models/mashr/mashr_Adipose_Subcutaneous.txt.gz --gwas_file /opt/data/projects/chronotype/results/final_imputed_gwas/chronotype_raw_BOLT.output_HRC.only_plus.metrics_maf0.001_hwep1em12_info0.3.txt-harmonized-imputed.txt.gz --separator '\t' --non_effect_allele_column non_effect_allele --effect_allele_column effect_allele --snp_column panel_variant_id --zscore_column zscore --keep_non_rsid --additional_output --model_db_snp_key varID --throw --output_file /opt/data/projects/chronotype/results/twas/spredixcan/chronotype_raw_BOLT.output_HRC.only_plus.metrics_maf0.001_hwep1em12_info0.3.txt-gtex_v8-mashr-Adipose_Subcutaneous.csv\n",
      "+ set +x\n",
      "+ /opt/data/software/conda_envs/metaxcan/bin/python /opt/data/software/metaxcan/software/SPrediXcan.py --model_db_path /opt/data/data/phenomexcan/prediction_models/mashr/mashr_Artery_Tibial.db --covariance /opt/data/data/phenomexcan/prediction_models/mashr/mashr_Artery_Tibial.txt.gz --gwas_file /opt/data/projects/chronotype/results/final_imputed_gwas/chronotype_raw_BOLT.output_HRC.only_plus.metrics_maf0.001_hwep1em12_info0.3.txt-harmonized-imputed.txt.gz --separator '\t' --non_effect_allele_column non_effect_allele --effect_allele_column effect_allele --snp_column panel_variant_id --zscore_column zscore --keep_non_rsid --additional_output --model_db_snp_key varID --throw --output_file /opt/data/projects/chronotype/results/twas/spredixcan/chronotype_raw_BOLT.output_HRC.only_plus.metrics_maf0.001_hwep1em12_info0.3.txt-gtex_v8-mashr-Artery_Tibial.csv\n",
      "+ set +x\n",
      "+ /opt/data/software/conda_envs/metaxcan/bin/python /opt/data/software/metaxcan/software/SPrediXcan.py --model_db_path /opt/data/data/phenomexcan/prediction_models/mashr/mashr_Esophagus_Gastroesophageal_Junction.db --covariance /opt/data/data/phenomexcan/prediction_models/mashr/mashr_Esophagus_Gastroesophageal_Junction.txt.gz --gwas_file /opt/data/projects/chronotype/results/final_imputed_gwas/chronotype_raw_BOLT.output_HRC.only_plus.metrics_maf0.001_hwep1em12_info0.3.txt-harmonized-imputed.txt.gz --separator '\t' --non_effect_allele_column non_effect_allele --effect_allele_column effect_allele --snp_column panel_variant_id --zscore_column zscore --keep_non_rsid --additional_output --model_db_snp_key varID --throw --output_file /opt/data/projects/chronotype/results/twas/spredixcan/chronotype_raw_BOLT.output_HRC.only_plus.metrics_maf0.001_hwep1em12_info0.3.txt-gtex_v8-mashr-Esophagus_Gastroesophageal_Junction.csv\n",
      "+ set +x\n",
      "+ /opt/data/software/conda_envs/metaxcan/bin/python /opt/data/software/metaxcan/software/SPrediXcan.py --model_db_path /opt/data/data/phenomexcan/prediction_models/mashr/mashr_Prostate.db --covariance /opt/data/data/phenomexcan/prediction_models/mashr/mashr_Prostate.txt.gz --gwas_file /opt/data/projects/chronotype/results/final_imputed_gwas/chronotype_raw_BOLT.output_HRC.only_plus.metrics_maf0.001_hwep1em12_info0.3.txt-harmonized-imputed.txt.gz --separator '\t' --non_effect_allele_column non_effect_allele --effect_allele_column effect_allele --snp_column panel_variant_id --zscore_column zscore --keep_non_rsid --additional_output --model_db_snp_key varID --throw --output_file /opt/data/projects/chronotype/results/twas/spredixcan/chronotype_raw_BOLT.output_HRC.only_plus.metrics_maf0.001_hwep1em12_info0.3.txt-gtex_v8-mashr-Prostate.csv\n",
      "+ set +x\n",
      "+ /opt/data/software/conda_envs/metaxcan/bin/python /opt/data/software/metaxcan/software/SPrediXcan.py --model_db_path /opt/data/data/phenomexcan/prediction_models/mashr/mashr_Muscle_Skeletal.db --covariance /opt/data/data/phenomexcan/prediction_models/mashr/mashr_Muscle_Skeletal.txt.gz --gwas_file /opt/data/projects/chronotype/results/final_imputed_gwas/chronotype_raw_BOLT.output_HRC.only_plus.metrics_maf0.001_hwep1em12_info0.3.txt-harmonized-imputed.txt.gz --separator '\t' --non_effect_allele_column non_effect_allele --effect_allele_column effect_allele --snp_column panel_variant_id --zscore_column zscore --keep_non_rsid --additional_output --model_db_snp_key varID --throw --output_file /opt/data/projects/chronotype/results/twas/spredixcan/chronotype_raw_BOLT.output_HRC.only_plus.metrics_maf0.001_hwep1em12_info0.3.txt-gtex_v8-mashr-Muscle_Skeletal.csv\n",
      "+ set +x\n",
      "+ /opt/data/software/conda_envs/metaxcan/bin/python /opt/data/software/metaxcan/software/SPrediXcan.py --model_db_path /opt/data/data/phenomexcan/prediction_models/mashr/mashr_Brain_Frontal_Cortex_BA9.db --covariance /opt/data/data/phenomexcan/prediction_models/mashr/mashr_Brain_Frontal_Cortex_BA9.txt.gz --gwas_file /opt/data/projects/chronotype/results/final_imputed_gwas/chronotype_raw_BOLT.output_HRC.only_plus.metrics_maf0.001_hwep1em12_info0.3.txt-harmonized-imputed.txt.gz --separator '\t' --non_effect_allele_column non_effect_allele --effect_allele_column effect_allele --snp_column panel_variant_id --zscore_column zscore --keep_non_rsid --additional_output --model_db_snp_key varID --throw --output_file /opt/data/projects/chronotype/results/twas/spredixcan/chronotype_raw_BOLT.output_HRC.only_plus.metrics_maf0.001_hwep1em12_info0.3.txt-gtex_v8-mashr-Brain_Frontal_Cortex_BA9.csv\n",
      "+ set +x\n",
      "+ /opt/data/software/conda_envs/metaxcan/bin/python /opt/data/software/metaxcan/software/SPrediXcan.py --model_db_path /opt/data/data/phenomexcan/prediction_models/mashr/mashr_Whole_Blood.db --covariance /opt/data/data/phenomexcan/prediction_models/mashr/mashr_Whole_Blood.txt.gz --gwas_file /opt/data/projects/chronotype/results/final_imputed_gwas/chronotype_raw_BOLT.output_HRC.only_plus.metrics_maf0.001_hwep1em12_info0.3.txt-harmonized-imputed.txt.gz --separator '\t' --non_effect_allele_column non_effect_allele --effect_allele_column effect_allele --snp_column panel_variant_id --zscore_column zscore --keep_non_rsid --additional_output --model_db_snp_key varID --throw --output_file /opt/data/projects/chronotype/results/twas/spredixcan/chronotype_raw_BOLT.output_HRC.only_plus.metrics_maf0.001_hwep1em12_info0.3.txt-gtex_v8-mashr-Whole_Blood.csv\n",
      "+ set +x\n",
      "+ /opt/data/software/conda_envs/metaxcan/bin/python /opt/data/software/metaxcan/software/SPrediXcan.py --model_db_path /opt/data/data/phenomexcan/prediction_models/mashr/mashr_Artery_Coronary.db --covariance /opt/data/data/phenomexcan/prediction_models/mashr/mashr_Artery_Coronary.txt.gz --gwas_file /opt/data/projects/chronotype/results/final_imputed_gwas/chronotype_raw_BOLT.output_HRC.only_plus.metrics_maf0.001_hwep1em12_info0.3.txt-harmonized-imputed.txt.gz --separator '\t' --non_effect_allele_column non_effect_allele --effect_allele_column effect_allele --snp_column panel_variant_id --zscore_column zscore --keep_non_rsid --additional_output --model_db_snp_key varID --throw --output_file /opt/data/projects/chronotype/results/twas/spredixcan/chronotype_raw_BOLT.output_HRC.only_plus.metrics_maf0.001_hwep1em12_info0.3.txt-gtex_v8-mashr-Artery_Coronary.csv\n",
      "+ set +x\n",
      "+ /opt/data/software/conda_envs/metaxcan/bin/python /opt/data/software/metaxcan/software/SPrediXcan.py --model_db_path /opt/data/data/phenomexcan/prediction_models/mashr/mashr_Brain_Cerebellum.db --covariance /opt/data/data/phenomexcan/prediction_models/mashr/mashr_Brain_Cerebellum.txt.gz --gwas_file /opt/data/projects/chronotype/results/final_imputed_gwas/chronotype_raw_BOLT.output_HRC.only_plus.metrics_maf0.001_hwep1em12_info0.3.txt-harmonized-imputed.txt.gz --separator '\t' --non_effect_allele_column non_effect_allele --effect_allele_column effect_allele --snp_column panel_variant_id --zscore_column zscore --keep_non_rsid --additional_output --model_db_snp_key varID --throw --output_file /opt/data/projects/chronotype/results/twas/spredixcan/chronotype_raw_BOLT.output_HRC.only_plus.metrics_maf0.001_hwep1em12_info0.3.txt-gtex_v8-mashr-Brain_Cerebellum.csv\n",
      "+ set +x\n",
      "+ /opt/data/software/conda_envs/metaxcan/bin/python /opt/data/software/metaxcan/software/SPrediXcan.py --model_db_path /opt/data/data/phenomexcan/prediction_models/mashr/mashr_Small_Intestine_Terminal_Ileum.db --covariance /opt/data/data/phenomexcan/prediction_models/mashr/mashr_Small_Intestine_Terminal_Ileum.txt.gz --gwas_file /opt/data/projects/chronotype/results/final_imputed_gwas/chronotype_raw_BOLT.output_HRC.only_plus.metrics_maf0.001_hwep1em12_info0.3.txt-harmonized-imputed.txt.gz --separator '\t' --non_effect_allele_column non_effect_allele --effect_allele_column effect_allele --snp_column panel_variant_id --zscore_column zscore --keep_non_rsid --additional_output --model_db_snp_key varID --throw --output_file /opt/data/projects/chronotype/results/twas/spredixcan/chronotype_raw_BOLT.output_HRC.only_plus.metrics_maf0.001_hwep1em12_info0.3.txt-gtex_v8-mashr-Small_Intestine_Terminal_Ileum.csv\n",
      "+ set +x\n",
      "+ /opt/data/software/conda_envs/metaxcan/bin/python /opt/data/software/metaxcan/software/SPrediXcan.py --model_db_path /opt/data/data/phenomexcan/prediction_models/mashr/mashr_Stomach.db --covariance /opt/data/data/phenomexcan/prediction_models/mashr/mashr_Stomach.txt.gz --gwas_file /opt/data/projects/chronotype/results/final_imputed_gwas/chronotype_raw_BOLT.output_HRC.only_plus.metrics_maf0.001_hwep1em12_info0.3.txt-harmonized-imputed.txt.gz --separator '\t' --non_effect_allele_column non_effect_allele --effect_allele_column effect_allele --snp_column panel_variant_id --zscore_column zscore --keep_non_rsid --additional_output --model_db_snp_key varID --throw --output_file /opt/data/projects/chronotype/results/twas/spredixcan/chronotype_raw_BOLT.output_HRC.only_plus.metrics_maf0.001_hwep1em12_info0.3.txt-gtex_v8-mashr-Stomach.csv\n",
      "+ set +x\n",
      "+ /opt/data/software/conda_envs/metaxcan/bin/python /opt/data/software/metaxcan/software/SPrediXcan.py --model_db_path /opt/data/data/phenomexcan/prediction_models/mashr/mashr_Brain_Amygdala.db --covariance /opt/data/data/phenomexcan/prediction_models/mashr/mashr_Brain_Amygdala.txt.gz --gwas_file /opt/data/projects/chronotype/results/final_imputed_gwas/chronotype_raw_BOLT.output_HRC.only_plus.metrics_maf0.001_hwep1em12_info0.3.txt-harmonized-imputed.txt.gz --separator '\t' --non_effect_allele_column non_effect_allele --effect_allele_column effect_allele --snp_column panel_variant_id --zscore_column zscore --keep_non_rsid --additional_output --model_db_snp_key varID --throw --output_file /opt/data/projects/chronotype/results/twas/spredixcan/chronotype_raw_BOLT.output_HRC.only_plus.metrics_maf0.001_hwep1em12_info0.3.txt-gtex_v8-mashr-Brain_Amygdala.csv\n",
      "+ set +x\n",
      "+ /opt/data/software/conda_envs/metaxcan/bin/python /opt/data/software/metaxcan/software/SPrediXcan.py --model_db_path /opt/data/data/phenomexcan/prediction_models/mashr/mashr_Minor_Salivary_Gland.db --covariance /opt/data/data/phenomexcan/prediction_models/mashr/mashr_Minor_Salivary_Gland.txt.gz --gwas_file /opt/data/projects/chronotype/results/final_imputed_gwas/chronotype_raw_BOLT.output_HRC.only_plus.metrics_maf0.001_hwep1em12_info0.3.txt-harmonized-imputed.txt.gz --separator '\t' --non_effect_allele_column non_effect_allele --effect_allele_column effect_allele --snp_column panel_variant_id --zscore_column zscore --keep_non_rsid --additional_output --model_db_snp_key varID --throw --output_file /opt/data/projects/chronotype/results/twas/spredixcan/chronotype_raw_BOLT.output_HRC.only_plus.metrics_maf0.001_hwep1em12_info0.3.txt-gtex_v8-mashr-Minor_Salivary_Gland.csv\n"
     ]
    },
    {
     "name": "stdout",
     "output_type": "stream",
     "text": [
      "Running for chronotype, Adipose_Subcutaneous\n",
      "Saving results in /opt/data/projects/chronotype/results/twas/spredixcan\n",
      "WARNING - Some GWAS snp zscores are not finite.\n",
      "\n",
      "Running for chronotype, Artery_Tibial\n",
      "Saving results in /opt/data/projects/chronotype/results/twas/spredixcan\n",
      "WARNING - Some GWAS snp zscores are not finite.\n",
      "\n",
      "Running for chronotype, Esophagus_Gastroesophageal_Junction\n",
      "Saving results in /opt/data/projects/chronotype/results/twas/spredixcan\n",
      "WARNING - Some GWAS snp zscores are not finite.\n",
      "\n",
      "Running for chronotype, Prostate\n",
      "Saving results in /opt/data/projects/chronotype/results/twas/spredixcan\n",
      "WARNING - Some GWAS snp zscores are not finite.\n",
      "\n",
      "Running for chronotype, Muscle_Skeletal\n",
      "Saving results in /opt/data/projects/chronotype/results/twas/spredixcan\n",
      "WARNING - Some GWAS snp zscores are not finite.\n",
      "\n",
      "Running for chronotype, Brain_Frontal_Cortex_BA9\n",
      "Saving results in /opt/data/projects/chronotype/results/twas/spredixcan\n",
      "WARNING - Some GWAS snp zscores are not finite.\n",
      "\n",
      "Running for chronotype, Whole_Blood\n",
      "Saving results in /opt/data/projects/chronotype/results/twas/spredixcan\n",
      "WARNING - Some GWAS snp zscores are not finite.\n",
      "\n",
      "Running for chronotype, Artery_Coronary\n",
      "Saving results in /opt/data/projects/chronotype/results/twas/spredixcan\n",
      "WARNING - Some GWAS snp zscores are not finite.\n",
      "\n",
      "Running for chronotype, Brain_Cerebellum\n",
      "Saving results in /opt/data/projects/chronotype/results/twas/spredixcan\n",
      "WARNING - Some GWAS snp zscores are not finite.\n",
      "\n",
      "Running for chronotype, Small_Intestine_Terminal_Ileum\n",
      "Saving results in /opt/data/projects/chronotype/results/twas/spredixcan\n",
      "WARNING - Some GWAS snp zscores are not finite.\n",
      "\n",
      "Running for chronotype, Stomach\n",
      "Saving results in /opt/data/projects/chronotype/results/twas/spredixcan\n",
      "WARNING - Some GWAS snp zscores are not finite.\n",
      "\n",
      "Running for chronotype, Brain_Amygdala\n",
      "Saving results in /opt/data/projects/chronotype/results/twas/spredixcan\n",
      "WARNING - Some GWAS snp zscores are not finite.\n",
      "\n",
      "Running for chronotype, Minor_Salivary_Gland\n",
      "Saving results in /opt/data/projects/chronotype/results/twas/spredixcan\n",
      "WARNING - Some GWAS snp zscores are not finite.\n",
      "\n"
     ]
    },
    {
     "name": "stderr",
     "output_type": "stream",
     "text": [
      "+ set +x\n"
     ]
    },
    {
     "name": "stdout",
     "output_type": "stream",
     "text": [
      "Running for chronotype, Brain_Putamen_basal_ganglia\n",
      "Saving results in /opt/data/projects/chronotype/results/twas/spredixcan\n",
      "WARNING - Some GWAS snp zscores are not finite.\n",
      "\n",
      "Running for chronotype, Breast_Mammary_Tissue\n",
      "Saving results in /opt/data/projects/chronotype/results/twas/spredixcan\n"
     ]
    },
    {
     "name": "stderr",
     "output_type": "stream",
     "text": [
      "+ /opt/data/software/conda_envs/metaxcan/bin/python /opt/data/software/metaxcan/software/SPrediXcan.py --model_db_path /opt/data/data/phenomexcan/prediction_models/mashr/mashr_Brain_Putamen_basal_ganglia.db --covariance /opt/data/data/phenomexcan/prediction_models/mashr/mashr_Brain_Putamen_basal_ganglia.txt.gz --gwas_file /opt/data/projects/chronotype/results/final_imputed_gwas/chronotype_raw_BOLT.output_HRC.only_plus.metrics_maf0.001_hwep1em12_info0.3.txt-harmonized-imputed.txt.gz --separator '\t' --non_effect_allele_column non_effect_allele --effect_allele_column effect_allele --snp_column panel_variant_id --zscore_column zscore --keep_non_rsid --additional_output --model_db_snp_key varID --throw --output_file /opt/data/projects/chronotype/results/twas/spredixcan/chronotype_raw_BOLT.output_HRC.only_plus.metrics_maf0.001_hwep1em12_info0.3.txt-gtex_v8-mashr-Brain_Putamen_basal_ganglia.csv\n",
      "+ set +x\n",
      "+ /opt/data/software/conda_envs/metaxcan/bin/python /opt/data/software/metaxcan/software/SPrediXcan.py --model_db_path /opt/data/data/phenomexcan/prediction_models/mashr/mashr_Breast_Mammary_Tissue.db --covariance /opt/data/data/phenomexcan/prediction_models/mashr/mashr_Breast_Mammary_Tissue.txt.gz --gwas_file /opt/data/projects/chronotype/results/final_imputed_gwas/chronotype_raw_BOLT.output_HRC.only_plus.metrics_maf0.001_hwep1em12_info0.3.txt-harmonized-imputed.txt.gz --separator '\t' --non_effect_allele_column non_effect_allele --effect_allele_column effect_allele --snp_column panel_variant_id --zscore_column zscore --keep_non_rsid --additional_output --model_db_snp_key varID --throw --output_file /opt/data/projects/chronotype/results/twas/spredixcan/chronotype_raw_BOLT.output_HRC.only_plus.metrics_maf0.001_hwep1em12_info0.3.txt-gtex_v8-mashr-Breast_Mammary_Tissue.csv\n"
     ]
    },
    {
     "name": "stdout",
     "output_type": "stream",
     "text": [
      "WARNING - Some GWAS snp zscores are not finite.\n",
      "\n"
     ]
    },
    {
     "name": "stderr",
     "output_type": "stream",
     "text": [
      "+ set +x\n"
     ]
    },
    {
     "name": "stdout",
     "output_type": "stream",
     "text": [
      "Running for chronotype, Adipose_Visceral_Omentum\n",
      "Saving results in /opt/data/projects/chronotype/results/twas/spredixcan\n"
     ]
    },
    {
     "name": "stderr",
     "output_type": "stream",
     "text": [
      "+ /opt/data/software/conda_envs/metaxcan/bin/python /opt/data/software/metaxcan/software/SPrediXcan.py --model_db_path /opt/data/data/phenomexcan/prediction_models/mashr/mashr_Adipose_Visceral_Omentum.db --covariance /opt/data/data/phenomexcan/prediction_models/mashr/mashr_Adipose_Visceral_Omentum.txt.gz --gwas_file /opt/data/projects/chronotype/results/final_imputed_gwas/chronotype_raw_BOLT.output_HRC.only_plus.metrics_maf0.001_hwep1em12_info0.3.txt-harmonized-imputed.txt.gz --separator '\t' --non_effect_allele_column non_effect_allele --effect_allele_column effect_allele --snp_column panel_variant_id --zscore_column zscore --keep_non_rsid --additional_output --model_db_snp_key varID --throw --output_file /opt/data/projects/chronotype/results/twas/spredixcan/chronotype_raw_BOLT.output_HRC.only_plus.metrics_maf0.001_hwep1em12_info0.3.txt-gtex_v8-mashr-Adipose_Visceral_Omentum.csv\n",
      "+ set +x\n"
     ]
    },
    {
     "name": "stdout",
     "output_type": "stream",
     "text": [
      "WARNING - Some GWAS snp zscores are not finite.\n",
      "\n",
      "Running for chronotype, Brain_Hypothalamus\n",
      "Saving results in /opt/data/projects/chronotype/results/twas/spredixcan\n",
      "WARNING - Some GWAS snp zscores are not finite.\n",
      "\n"
     ]
    },
    {
     "name": "stderr",
     "output_type": "stream",
     "text": [
      "+ /opt/data/software/conda_envs/metaxcan/bin/python /opt/data/software/metaxcan/software/SPrediXcan.py --model_db_path /opt/data/data/phenomexcan/prediction_models/mashr/mashr_Brain_Hypothalamus.db --covariance /opt/data/data/phenomexcan/prediction_models/mashr/mashr_Brain_Hypothalamus.txt.gz --gwas_file /opt/data/projects/chronotype/results/final_imputed_gwas/chronotype_raw_BOLT.output_HRC.only_plus.metrics_maf0.001_hwep1em12_info0.3.txt-harmonized-imputed.txt.gz --separator '\t' --non_effect_allele_column non_effect_allele --effect_allele_column effect_allele --snp_column panel_variant_id --zscore_column zscore --keep_non_rsid --additional_output --model_db_snp_key varID --throw --output_file /opt/data/projects/chronotype/results/twas/spredixcan/chronotype_raw_BOLT.output_HRC.only_plus.metrics_maf0.001_hwep1em12_info0.3.txt-gtex_v8-mashr-Brain_Hypothalamus.csv\n",
      "+ set +x\n",
      "+ /opt/data/software/conda_envs/metaxcan/bin/python /opt/data/software/metaxcan/software/SPrediXcan.py --model_db_path /opt/data/data/phenomexcan/prediction_models/mashr/mashr_Brain_Cerebellar_Hemisphere.db --covariance /opt/data/data/phenomexcan/prediction_models/mashr/mashr_Brain_Cerebellar_Hemisphere.txt.gz --gwas_file /opt/data/projects/chronotype/results/final_imputed_gwas/chronotype_raw_BOLT.output_HRC.only_plus.metrics_maf0.001_hwep1em12_info0.3.txt-harmonized-imputed.txt.gz --separator '\t' --non_effect_allele_column non_effect_allele --effect_allele_column effect_allele --snp_column panel_variant_id --zscore_column zscore --keep_non_rsid --additional_output --model_db_snp_key varID --throw --output_file /opt/data/projects/chronotype/results/twas/spredixcan/chronotype_raw_BOLT.output_HRC.only_plus.metrics_maf0.001_hwep1em12_info0.3.txt-gtex_v8-mashr-Brain_Cerebellar_Hemisphere.csv\n",
      "+ set +x\n",
      "+ /opt/data/software/conda_envs/metaxcan/bin/python /opt/data/software/metaxcan/software/SPrediXcan.py --model_db_path /opt/data/data/phenomexcan/prediction_models/mashr/mashr_Brain_Anterior_cingulate_cortex_BA24.db --covariance /opt/data/data/phenomexcan/prediction_models/mashr/mashr_Brain_Anterior_cingulate_cortex_BA24.txt.gz --gwas_file /opt/data/projects/chronotype/results/final_imputed_gwas/chronotype_raw_BOLT.output_HRC.only_plus.metrics_maf0.001_hwep1em12_info0.3.txt-harmonized-imputed.txt.gz --separator '\t' --non_effect_allele_column non_effect_allele --effect_allele_column effect_allele --snp_column panel_variant_id --zscore_column zscore --keep_non_rsid --additional_output --model_db_snp_key varID --throw --output_file /opt/data/projects/chronotype/results/twas/spredixcan/chronotype_raw_BOLT.output_HRC.only_plus.metrics_maf0.001_hwep1em12_info0.3.txt-gtex_v8-mashr-Brain_Anterior_cingulate_cortex_BA24.csv\n",
      "+ set +x\n",
      "+ /opt/data/software/conda_envs/metaxcan/bin/python /opt/data/software/metaxcan/software/SPrediXcan.py --model_db_path /opt/data/data/phenomexcan/prediction_models/mashr/mashr_Brain_Cortex.db --covariance /opt/data/data/phenomexcan/prediction_models/mashr/mashr_Brain_Cortex.txt.gz --gwas_file /opt/data/projects/chronotype/results/final_imputed_gwas/chronotype_raw_BOLT.output_HRC.only_plus.metrics_maf0.001_hwep1em12_info0.3.txt-harmonized-imputed.txt.gz --separator '\t' --non_effect_allele_column non_effect_allele --effect_allele_column effect_allele --snp_column panel_variant_id --zscore_column zscore --keep_non_rsid --additional_output --model_db_snp_key varID --throw --output_file /opt/data/projects/chronotype/results/twas/spredixcan/chronotype_raw_BOLT.output_HRC.only_plus.metrics_maf0.001_hwep1em12_info0.3.txt-gtex_v8-mashr-Brain_Cortex.csv\n",
      "+ set +x\n",
      "+ /opt/data/software/conda_envs/metaxcan/bin/python /opt/data/software/metaxcan/software/SPrediXcan.py --model_db_path /opt/data/data/phenomexcan/prediction_models/mashr/mashr_Nerve_Tibial.db --covariance /opt/data/data/phenomexcan/prediction_models/mashr/mashr_Nerve_Tibial.txt.gz --gwas_file /opt/data/projects/chronotype/results/final_imputed_gwas/chronotype_raw_BOLT.output_HRC.only_plus.metrics_maf0.001_hwep1em12_info0.3.txt-harmonized-imputed.txt.gz --separator '\t' --non_effect_allele_column non_effect_allele --effect_allele_column effect_allele --snp_column panel_variant_id --zscore_column zscore --keep_non_rsid --additional_output --model_db_snp_key varID --throw --output_file /opt/data/projects/chronotype/results/twas/spredixcan/chronotype_raw_BOLT.output_HRC.only_plus.metrics_maf0.001_hwep1em12_info0.3.txt-gtex_v8-mashr-Nerve_Tibial.csv\n"
     ]
    },
    {
     "name": "stdout",
     "output_type": "stream",
     "text": [
      "Running for chronotype, Brain_Cerebellar_Hemisphere\n",
      "Saving results in /opt/data/projects/chronotype/results/twas/spredixcan\n",
      "WARNING - Some GWAS snp zscores are not finite.\n",
      "\n",
      "Running for chronotype, Brain_Anterior_cingulate_cortex_BA24\n",
      "Saving results in /opt/data/projects/chronotype/results/twas/spredixcan\n",
      "WARNING - Some GWAS snp zscores are not finite.\n",
      "\n",
      "Running for chronotype, Brain_Cortex\n",
      "Saving results in /opt/data/projects/chronotype/results/twas/spredixcan\n",
      "WARNING - Some GWAS snp zscores are not finite.\n",
      "\n",
      "Running for chronotype, Nerve_Tibial\n",
      "Saving results in /opt/data/projects/chronotype/results/twas/spredixcan\n",
      "WARNING - Some GWAS snp zscores are not finite.\n",
      "\n"
     ]
    },
    {
     "name": "stderr",
     "output_type": "stream",
     "text": [
      "+ set +x\n"
     ]
    },
    {
     "name": "stdout",
     "output_type": "stream",
     "text": [
      "Running for chronotype, Pancreas\n",
      "Saving results in /opt/data/projects/chronotype/results/twas/spredixcan\n",
      "WARNING - Some GWAS snp zscores are not finite.\n",
      "\n",
      "Running for chronotype, Esophagus_Muscularis\n",
      "Saving results in /opt/data/projects/chronotype/results/twas/spredixcan\n",
      "WARNING - Some GWAS snp zscores are not finite.\n",
      "\n",
      "Running for chronotype, Brain_Substantia_nigra\n",
      "Saving results in /opt/data/projects/chronotype/results/twas/spredixcan\n",
      "WARNING - Some GWAS snp zscores are not finite.\n",
      "\n"
     ]
    },
    {
     "name": "stderr",
     "output_type": "stream",
     "text": [
      "+ /opt/data/software/conda_envs/metaxcan/bin/python /opt/data/software/metaxcan/software/SPrediXcan.py --model_db_path /opt/data/data/phenomexcan/prediction_models/mashr/mashr_Pancreas.db --covariance /opt/data/data/phenomexcan/prediction_models/mashr/mashr_Pancreas.txt.gz --gwas_file /opt/data/projects/chronotype/results/final_imputed_gwas/chronotype_raw_BOLT.output_HRC.only_plus.metrics_maf0.001_hwep1em12_info0.3.txt-harmonized-imputed.txt.gz --separator '\t' --non_effect_allele_column non_effect_allele --effect_allele_column effect_allele --snp_column panel_variant_id --zscore_column zscore --keep_non_rsid --additional_output --model_db_snp_key varID --throw --output_file /opt/data/projects/chronotype/results/twas/spredixcan/chronotype_raw_BOLT.output_HRC.only_plus.metrics_maf0.001_hwep1em12_info0.3.txt-gtex_v8-mashr-Pancreas.csv\n",
      "+ set +x\n",
      "+ /opt/data/software/conda_envs/metaxcan/bin/python /opt/data/software/metaxcan/software/SPrediXcan.py --model_db_path /opt/data/data/phenomexcan/prediction_models/mashr/mashr_Esophagus_Muscularis.db --covariance /opt/data/data/phenomexcan/prediction_models/mashr/mashr_Esophagus_Muscularis.txt.gz --gwas_file /opt/data/projects/chronotype/results/final_imputed_gwas/chronotype_raw_BOLT.output_HRC.only_plus.metrics_maf0.001_hwep1em12_info0.3.txt-harmonized-imputed.txt.gz --separator '\t' --non_effect_allele_column non_effect_allele --effect_allele_column effect_allele --snp_column panel_variant_id --zscore_column zscore --keep_non_rsid --additional_output --model_db_snp_key varID --throw --output_file /opt/data/projects/chronotype/results/twas/spredixcan/chronotype_raw_BOLT.output_HRC.only_plus.metrics_maf0.001_hwep1em12_info0.3.txt-gtex_v8-mashr-Esophagus_Muscularis.csv\n",
      "+ set +x\n",
      "+ /opt/data/software/conda_envs/metaxcan/bin/python /opt/data/software/metaxcan/software/SPrediXcan.py --model_db_path /opt/data/data/phenomexcan/prediction_models/mashr/mashr_Brain_Substantia_nigra.db --covariance /opt/data/data/phenomexcan/prediction_models/mashr/mashr_Brain_Substantia_nigra.txt.gz --gwas_file /opt/data/projects/chronotype/results/final_imputed_gwas/chronotype_raw_BOLT.output_HRC.only_plus.metrics_maf0.001_hwep1em12_info0.3.txt-harmonized-imputed.txt.gz --separator '\t' --non_effect_allele_column non_effect_allele --effect_allele_column effect_allele --snp_column panel_variant_id --zscore_column zscore --keep_non_rsid --additional_output --model_db_snp_key varID --throw --output_file /opt/data/projects/chronotype/results/twas/spredixcan/chronotype_raw_BOLT.output_HRC.only_plus.metrics_maf0.001_hwep1em12_info0.3.txt-gtex_v8-mashr-Brain_Substantia_nigra.csv\n",
      "+ set +x\n"
     ]
    },
    {
     "name": "stdout",
     "output_type": "stream",
     "text": [
      "Running for chronotype, Skin_Sun_Exposed_Lower_leg\n",
      "Saving results in /opt/data/projects/chronotype/results/twas/spredixcan\n"
     ]
    },
    {
     "name": "stderr",
     "output_type": "stream",
     "text": [
      "+ /opt/data/software/conda_envs/metaxcan/bin/python /opt/data/software/metaxcan/software/SPrediXcan.py --model_db_path /opt/data/data/phenomexcan/prediction_models/mashr/mashr_Skin_Sun_Exposed_Lower_leg.db --covariance /opt/data/data/phenomexcan/prediction_models/mashr/mashr_Skin_Sun_Exposed_Lower_leg.txt.gz --gwas_file /opt/data/projects/chronotype/results/final_imputed_gwas/chronotype_raw_BOLT.output_HRC.only_plus.metrics_maf0.001_hwep1em12_info0.3.txt-harmonized-imputed.txt.gz --separator '\t' --non_effect_allele_column non_effect_allele --effect_allele_column effect_allele --snp_column panel_variant_id --zscore_column zscore --keep_non_rsid --additional_output --model_db_snp_key varID --throw --output_file /opt/data/projects/chronotype/results/twas/spredixcan/chronotype_raw_BOLT.output_HRC.only_plus.metrics_maf0.001_hwep1em12_info0.3.txt-gtex_v8-mashr-Skin_Sun_Exposed_Lower_leg.csv\n"
     ]
    },
    {
     "name": "stdout",
     "output_type": "stream",
     "text": [
      "WARNING - Some GWAS snp zscores are not finite.\n",
      "\n"
     ]
    },
    {
     "name": "stderr",
     "output_type": "stream",
     "text": [
      "+ set +x\n"
     ]
    },
    {
     "name": "stdout",
     "output_type": "stream",
     "text": [
      "Running for chronotype, Skin_Not_Sun_Exposed_Suprapubic\n",
      "Saving results in /opt/data/projects/chronotype/results/twas/spredixcan\n",
      "WARNING - Some GWAS snp zscores are not finite.\n",
      "\n",
      "Running for chronotype, Brain_Spinal_cord_cervical_c-1\n",
      "Saving results in /opt/data/projects/chronotype/results/twas/spredixcan\n",
      "WARNING - Some GWAS snp zscores are not finite.\n",
      "\n",
      "Running for chronotype, Spleen\n",
      "Saving results in /opt/data/projects/chronotype/results/twas/spredixcan\n",
      "WARNING - Some GWAS snp zscores are not finite.\n",
      "\n"
     ]
    },
    {
     "name": "stderr",
     "output_type": "stream",
     "text": [
      "+ /opt/data/software/conda_envs/metaxcan/bin/python /opt/data/software/metaxcan/software/SPrediXcan.py --model_db_path /opt/data/data/phenomexcan/prediction_models/mashr/mashr_Skin_Not_Sun_Exposed_Suprapubic.db --covariance /opt/data/data/phenomexcan/prediction_models/mashr/mashr_Skin_Not_Sun_Exposed_Suprapubic.txt.gz --gwas_file /opt/data/projects/chronotype/results/final_imputed_gwas/chronotype_raw_BOLT.output_HRC.only_plus.metrics_maf0.001_hwep1em12_info0.3.txt-harmonized-imputed.txt.gz --separator '\t' --non_effect_allele_column non_effect_allele --effect_allele_column effect_allele --snp_column panel_variant_id --zscore_column zscore --keep_non_rsid --additional_output --model_db_snp_key varID --throw --output_file /opt/data/projects/chronotype/results/twas/spredixcan/chronotype_raw_BOLT.output_HRC.only_plus.metrics_maf0.001_hwep1em12_info0.3.txt-gtex_v8-mashr-Skin_Not_Sun_Exposed_Suprapubic.csv\n",
      "+ set +x\n",
      "+ /opt/data/software/conda_envs/metaxcan/bin/python /opt/data/software/metaxcan/software/SPrediXcan.py --model_db_path /opt/data/data/phenomexcan/prediction_models/mashr/mashr_Brain_Spinal_cord_cervical_c-1.db --covariance /opt/data/data/phenomexcan/prediction_models/mashr/mashr_Brain_Spinal_cord_cervical_c-1.txt.gz --gwas_file /opt/data/projects/chronotype/results/final_imputed_gwas/chronotype_raw_BOLT.output_HRC.only_plus.metrics_maf0.001_hwep1em12_info0.3.txt-harmonized-imputed.txt.gz --separator '\t' --non_effect_allele_column non_effect_allele --effect_allele_column effect_allele --snp_column panel_variant_id --zscore_column zscore --keep_non_rsid --additional_output --model_db_snp_key varID --throw --output_file /opt/data/projects/chronotype/results/twas/spredixcan/chronotype_raw_BOLT.output_HRC.only_plus.metrics_maf0.001_hwep1em12_info0.3.txt-gtex_v8-mashr-Brain_Spinal_cord_cervical_c-1.csv\n",
      "+ set +x\n",
      "+ /opt/data/software/conda_envs/metaxcan/bin/python /opt/data/software/metaxcan/software/SPrediXcan.py --model_db_path /opt/data/data/phenomexcan/prediction_models/mashr/mashr_Spleen.db --covariance /opt/data/data/phenomexcan/prediction_models/mashr/mashr_Spleen.txt.gz --gwas_file /opt/data/projects/chronotype/results/final_imputed_gwas/chronotype_raw_BOLT.output_HRC.only_plus.metrics_maf0.001_hwep1em12_info0.3.txt-harmonized-imputed.txt.gz --separator '\t' --non_effect_allele_column non_effect_allele --effect_allele_column effect_allele --snp_column panel_variant_id --zscore_column zscore --keep_non_rsid --additional_output --model_db_snp_key varID --throw --output_file /opt/data/projects/chronotype/results/twas/spredixcan/chronotype_raw_BOLT.output_HRC.only_plus.metrics_maf0.001_hwep1em12_info0.3.txt-gtex_v8-mashr-Spleen.csv\n",
      "+ set +x\n"
     ]
    },
    {
     "name": "stdout",
     "output_type": "stream",
     "text": [
      "Running for chronotype, Cells_EBV-transformed_lymphocytes\n",
      "Saving results in /opt/data/projects/chronotype/results/twas/spredixcan\n",
      "WARNING - Some GWAS snp zscores are not finite.\n",
      "\n"
     ]
    },
    {
     "name": "stderr",
     "output_type": "stream",
     "text": [
      "+ /opt/data/software/conda_envs/metaxcan/bin/python /opt/data/software/metaxcan/software/SPrediXcan.py --model_db_path /opt/data/data/phenomexcan/prediction_models/mashr/mashr_Cells_EBV-transformed_lymphocytes.db --covariance /opt/data/data/phenomexcan/prediction_models/mashr/mashr_Cells_EBV-transformed_lymphocytes.txt.gz --gwas_file /opt/data/projects/chronotype/results/final_imputed_gwas/chronotype_raw_BOLT.output_HRC.only_plus.metrics_maf0.001_hwep1em12_info0.3.txt-harmonized-imputed.txt.gz --separator '\t' --non_effect_allele_column non_effect_allele --effect_allele_column effect_allele --snp_column panel_variant_id --zscore_column zscore --keep_non_rsid --additional_output --model_db_snp_key varID --throw --output_file /opt/data/projects/chronotype/results/twas/spredixcan/chronotype_raw_BOLT.output_HRC.only_plus.metrics_maf0.001_hwep1em12_info0.3.txt-gtex_v8-mashr-Cells_EBV-transformed_lymphocytes.csv\n",
      "+ set +x\n",
      "+ /opt/data/software/conda_envs/metaxcan/bin/python /opt/data/software/metaxcan/software/SPrediXcan.py --model_db_path /opt/data/data/phenomexcan/prediction_models/mashr/mashr_Vagina.db --covariance /opt/data/data/phenomexcan/prediction_models/mashr/mashr_Vagina.txt.gz --gwas_file /opt/data/projects/chronotype/results/final_imputed_gwas/chronotype_raw_BOLT.output_HRC.only_plus.metrics_maf0.001_hwep1em12_info0.3.txt-harmonized-imputed.txt.gz --separator '\t' --non_effect_allele_column non_effect_allele --effect_allele_column effect_allele --snp_column panel_variant_id --zscore_column zscore --keep_non_rsid --additional_output --model_db_snp_key varID --throw --output_file /opt/data/projects/chronotype/results/twas/spredixcan/chronotype_raw_BOLT.output_HRC.only_plus.metrics_maf0.001_hwep1em12_info0.3.txt-gtex_v8-mashr-Vagina.csv\n",
      "+ set +x\n",
      "+ /opt/data/software/conda_envs/metaxcan/bin/python /opt/data/software/metaxcan/software/SPrediXcan.py --model_db_path /opt/data/data/phenomexcan/prediction_models/mashr/mashr_Colon_Sigmoid.db --covariance /opt/data/data/phenomexcan/prediction_models/mashr/mashr_Colon_Sigmoid.txt.gz --gwas_file /opt/data/projects/chronotype/results/final_imputed_gwas/chronotype_raw_BOLT.output_HRC.only_plus.metrics_maf0.001_hwep1em12_info0.3.txt-harmonized-imputed.txt.gz --separator '\t' --non_effect_allele_column non_effect_allele --effect_allele_column effect_allele --snp_column panel_variant_id --zscore_column zscore --keep_non_rsid --additional_output --model_db_snp_key varID --throw --output_file /opt/data/projects/chronotype/results/twas/spredixcan/chronotype_raw_BOLT.output_HRC.only_plus.metrics_maf0.001_hwep1em12_info0.3.txt-gtex_v8-mashr-Colon_Sigmoid.csv\n"
     ]
    },
    {
     "name": "stdout",
     "output_type": "stream",
     "text": [
      "Running for chronotype, Vagina\n",
      "Saving results in /opt/data/projects/chronotype/results/twas/spredixcan\n",
      "WARNING - Some GWAS snp zscores are not finite.\n",
      "\n",
      "Running for chronotype, Colon_Sigmoid\n",
      "Saving results in /opt/data/projects/chronotype/results/twas/spredixcan\n",
      "WARNING - Some GWAS snp zscores are not finite.\n",
      "\n"
     ]
    },
    {
     "name": "stderr",
     "output_type": "stream",
     "text": [
      "+ set +x\n"
     ]
    },
    {
     "name": "stdout",
     "output_type": "stream",
     "text": [
      "Running for chronotype, Brain_Caudate_basal_ganglia\n",
      "Saving results in /opt/data/projects/chronotype/results/twas/spredixcan\n"
     ]
    },
    {
     "name": "stderr",
     "output_type": "stream",
     "text": [
      "+ /opt/data/software/conda_envs/metaxcan/bin/python /opt/data/software/metaxcan/software/SPrediXcan.py --model_db_path /opt/data/data/phenomexcan/prediction_models/mashr/mashr_Brain_Caudate_basal_ganglia.db --covariance /opt/data/data/phenomexcan/prediction_models/mashr/mashr_Brain_Caudate_basal_ganglia.txt.gz --gwas_file /opt/data/projects/chronotype/results/final_imputed_gwas/chronotype_raw_BOLT.output_HRC.only_plus.metrics_maf0.001_hwep1em12_info0.3.txt-harmonized-imputed.txt.gz --separator '\t' --non_effect_allele_column non_effect_allele --effect_allele_column effect_allele --snp_column panel_variant_id --zscore_column zscore --keep_non_rsid --additional_output --model_db_snp_key varID --throw --output_file /opt/data/projects/chronotype/results/twas/spredixcan/chronotype_raw_BOLT.output_HRC.only_plus.metrics_maf0.001_hwep1em12_info0.3.txt-gtex_v8-mashr-Brain_Caudate_basal_ganglia.csv\n"
     ]
    },
    {
     "name": "stdout",
     "output_type": "stream",
     "text": [
      "WARNING - Some GWAS snp zscores are not finite.\n",
      "\n"
     ]
    },
    {
     "name": "stderr",
     "output_type": "stream",
     "text": [
      "+ set +x\n"
     ]
    },
    {
     "name": "stdout",
     "output_type": "stream",
     "text": [
      "Running for chronotype, Brain_Nucleus_accumbens_basal_ganglia\n",
      "Saving results in /opt/data/projects/chronotype/results/twas/spredixcan\n"
     ]
    },
    {
     "name": "stderr",
     "output_type": "stream",
     "text": [
      "+ /opt/data/software/conda_envs/metaxcan/bin/python /opt/data/software/metaxcan/software/SPrediXcan.py --model_db_path /opt/data/data/phenomexcan/prediction_models/mashr/mashr_Brain_Nucleus_accumbens_basal_ganglia.db --covariance /opt/data/data/phenomexcan/prediction_models/mashr/mashr_Brain_Nucleus_accumbens_basal_ganglia.txt.gz --gwas_file /opt/data/projects/chronotype/results/final_imputed_gwas/chronotype_raw_BOLT.output_HRC.only_plus.metrics_maf0.001_hwep1em12_info0.3.txt-harmonized-imputed.txt.gz --separator '\t' --non_effect_allele_column non_effect_allele --effect_allele_column effect_allele --snp_column panel_variant_id --zscore_column zscore --keep_non_rsid --additional_output --model_db_snp_key varID --throw --output_file /opt/data/projects/chronotype/results/twas/spredixcan/chronotype_raw_BOLT.output_HRC.only_plus.metrics_maf0.001_hwep1em12_info0.3.txt-gtex_v8-mashr-Brain_Nucleus_accumbens_basal_ganglia.csv\n"
     ]
    },
    {
     "name": "stdout",
     "output_type": "stream",
     "text": [
      "WARNING - Some GWAS snp zscores are not finite.\n",
      "\n"
     ]
    },
    {
     "name": "stderr",
     "output_type": "stream",
     "text": [
      "+ set +x\n"
     ]
    },
    {
     "name": "stdout",
     "output_type": "stream",
     "text": [
      "Running for chronotype, Esophagus_Mucosa\n",
      "Saving results in /opt/data/projects/chronotype/results/twas/spredixcan\n"
     ]
    },
    {
     "name": "stderr",
     "output_type": "stream",
     "text": [
      "+ /opt/data/software/conda_envs/metaxcan/bin/python /opt/data/software/metaxcan/software/SPrediXcan.py --model_db_path /opt/data/data/phenomexcan/prediction_models/mashr/mashr_Esophagus_Mucosa.db --covariance /opt/data/data/phenomexcan/prediction_models/mashr/mashr_Esophagus_Mucosa.txt.gz --gwas_file /opt/data/projects/chronotype/results/final_imputed_gwas/chronotype_raw_BOLT.output_HRC.only_plus.metrics_maf0.001_hwep1em12_info0.3.txt-harmonized-imputed.txt.gz --separator '\t' --non_effect_allele_column non_effect_allele --effect_allele_column effect_allele --snp_column panel_variant_id --zscore_column zscore --keep_non_rsid --additional_output --model_db_snp_key varID --throw --output_file /opt/data/projects/chronotype/results/twas/spredixcan/chronotype_raw_BOLT.output_HRC.only_plus.metrics_maf0.001_hwep1em12_info0.3.txt-gtex_v8-mashr-Esophagus_Mucosa.csv\n"
     ]
    },
    {
     "name": "stdout",
     "output_type": "stream",
     "text": [
      "WARNING - Some GWAS snp zscores are not finite.\n",
      "\n"
     ]
    },
    {
     "name": "stderr",
     "output_type": "stream",
     "text": [
      "+ set +x\n"
     ]
    },
    {
     "name": "stdout",
     "output_type": "stream",
     "text": [
      "Running for chronotype, Colon_Transverse\n",
      "Saving results in /opt/data/projects/chronotype/results/twas/spredixcan\n"
     ]
    },
    {
     "name": "stderr",
     "output_type": "stream",
     "text": [
      "+ /opt/data/software/conda_envs/metaxcan/bin/python /opt/data/software/metaxcan/software/SPrediXcan.py --model_db_path /opt/data/data/phenomexcan/prediction_models/mashr/mashr_Colon_Transverse.db --covariance /opt/data/data/phenomexcan/prediction_models/mashr/mashr_Colon_Transverse.txt.gz --gwas_file /opt/data/projects/chronotype/results/final_imputed_gwas/chronotype_raw_BOLT.output_HRC.only_plus.metrics_maf0.001_hwep1em12_info0.3.txt-harmonized-imputed.txt.gz --separator '\t' --non_effect_allele_column non_effect_allele --effect_allele_column effect_allele --snp_column panel_variant_id --zscore_column zscore --keep_non_rsid --additional_output --model_db_snp_key varID --throw --output_file /opt/data/projects/chronotype/results/twas/spredixcan/chronotype_raw_BOLT.output_HRC.only_plus.metrics_maf0.001_hwep1em12_info0.3.txt-gtex_v8-mashr-Colon_Transverse.csv\n",
      "+ set +x\n"
     ]
    },
    {
     "name": "stdout",
     "output_type": "stream",
     "text": [
      "WARNING - Some GWAS snp zscores are not finite.\n",
      "\n",
      "Running for chronotype, Adrenal_Gland\n",
      "Saving results in /opt/data/projects/chronotype/results/twas/spredixcan\n",
      "WARNING - Some GWAS snp zscores are not finite.\n",
      "\n",
      "Running for chronotype, Lung\n",
      "Saving results in /opt/data/projects/chronotype/results/twas/spredixcan\n"
     ]
    },
    {
     "name": "stderr",
     "output_type": "stream",
     "text": [
      "+ /opt/data/software/conda_envs/metaxcan/bin/python /opt/data/software/metaxcan/software/SPrediXcan.py --model_db_path /opt/data/data/phenomexcan/prediction_models/mashr/mashr_Adrenal_Gland.db --covariance /opt/data/data/phenomexcan/prediction_models/mashr/mashr_Adrenal_Gland.txt.gz --gwas_file /opt/data/projects/chronotype/results/final_imputed_gwas/chronotype_raw_BOLT.output_HRC.only_plus.metrics_maf0.001_hwep1em12_info0.3.txt-harmonized-imputed.txt.gz --separator '\t' --non_effect_allele_column non_effect_allele --effect_allele_column effect_allele --snp_column panel_variant_id --zscore_column zscore --keep_non_rsid --additional_output --model_db_snp_key varID --throw --output_file /opt/data/projects/chronotype/results/twas/spredixcan/chronotype_raw_BOLT.output_HRC.only_plus.metrics_maf0.001_hwep1em12_info0.3.txt-gtex_v8-mashr-Adrenal_Gland.csv\n",
      "+ set +x\n",
      "+ /opt/data/software/conda_envs/metaxcan/bin/python /opt/data/software/metaxcan/software/SPrediXcan.py --model_db_path /opt/data/data/phenomexcan/prediction_models/mashr/mashr_Lung.db --covariance /opt/data/data/phenomexcan/prediction_models/mashr/mashr_Lung.txt.gz --gwas_file /opt/data/projects/chronotype/results/final_imputed_gwas/chronotype_raw_BOLT.output_HRC.only_plus.metrics_maf0.001_hwep1em12_info0.3.txt-harmonized-imputed.txt.gz --separator '\t' --non_effect_allele_column non_effect_allele --effect_allele_column effect_allele --snp_column panel_variant_id --zscore_column zscore --keep_non_rsid --additional_output --model_db_snp_key varID --throw --output_file /opt/data/projects/chronotype/results/twas/spredixcan/chronotype_raw_BOLT.output_HRC.only_plus.metrics_maf0.001_hwep1em12_info0.3.txt-gtex_v8-mashr-Lung.csv\n"
     ]
    },
    {
     "name": "stdout",
     "output_type": "stream",
     "text": [
      "WARNING - Some GWAS snp zscores are not finite.\n",
      "\n"
     ]
    },
    {
     "name": "stderr",
     "output_type": "stream",
     "text": [
      "+ set +x\n"
     ]
    },
    {
     "name": "stdout",
     "output_type": "stream",
     "text": [
      "Running for chronotype, Ovary\n",
      "Saving results in /opt/data/projects/chronotype/results/twas/spredixcan\n",
      "WARNING - Some GWAS snp zscores are not finite.\n",
      "\n",
      "Running for chronotype, Cells_Cultured_fibroblasts\n",
      "Saving results in /opt/data/projects/chronotype/results/twas/spredixcan\n",
      "WARNING - Some GWAS snp zscores are not finite.\n",
      "\n",
      "Running for chronotype, Pituitary\n",
      "Saving results in /opt/data/projects/chronotype/results/twas/spredixcan\n",
      "WARNING - Some GWAS snp zscores are not finite.\n",
      "\n",
      "Running for chronotype, Kidney_Cortex\n",
      "Saving results in /opt/data/projects/chronotype/results/twas/spredixcan\n",
      "WARNING - Some GWAS snp zscores are not finite.\n",
      "\n"
     ]
    },
    {
     "name": "stderr",
     "output_type": "stream",
     "text": [
      "+ /opt/data/software/conda_envs/metaxcan/bin/python /opt/data/software/metaxcan/software/SPrediXcan.py --model_db_path /opt/data/data/phenomexcan/prediction_models/mashr/mashr_Ovary.db --covariance /opt/data/data/phenomexcan/prediction_models/mashr/mashr_Ovary.txt.gz --gwas_file /opt/data/projects/chronotype/results/final_imputed_gwas/chronotype_raw_BOLT.output_HRC.only_plus.metrics_maf0.001_hwep1em12_info0.3.txt-harmonized-imputed.txt.gz --separator '\t' --non_effect_allele_column non_effect_allele --effect_allele_column effect_allele --snp_column panel_variant_id --zscore_column zscore --keep_non_rsid --additional_output --model_db_snp_key varID --throw --output_file /opt/data/projects/chronotype/results/twas/spredixcan/chronotype_raw_BOLT.output_HRC.only_plus.metrics_maf0.001_hwep1em12_info0.3.txt-gtex_v8-mashr-Ovary.csv\n",
      "+ set +x\n",
      "+ /opt/data/software/conda_envs/metaxcan/bin/python /opt/data/software/metaxcan/software/SPrediXcan.py --model_db_path /opt/data/data/phenomexcan/prediction_models/mashr/mashr_Cells_Cultured_fibroblasts.db --covariance /opt/data/data/phenomexcan/prediction_models/mashr/mashr_Cells_Cultured_fibroblasts.txt.gz --gwas_file /opt/data/projects/chronotype/results/final_imputed_gwas/chronotype_raw_BOLT.output_HRC.only_plus.metrics_maf0.001_hwep1em12_info0.3.txt-harmonized-imputed.txt.gz --separator '\t' --non_effect_allele_column non_effect_allele --effect_allele_column effect_allele --snp_column panel_variant_id --zscore_column zscore --keep_non_rsid --additional_output --model_db_snp_key varID --throw --output_file /opt/data/projects/chronotype/results/twas/spredixcan/chronotype_raw_BOLT.output_HRC.only_plus.metrics_maf0.001_hwep1em12_info0.3.txt-gtex_v8-mashr-Cells_Cultured_fibroblasts.csv\n",
      "+ set +x\n",
      "+ /opt/data/software/conda_envs/metaxcan/bin/python /opt/data/software/metaxcan/software/SPrediXcan.py --model_db_path /opt/data/data/phenomexcan/prediction_models/mashr/mashr_Pituitary.db --covariance /opt/data/data/phenomexcan/prediction_models/mashr/mashr_Pituitary.txt.gz --gwas_file /opt/data/projects/chronotype/results/final_imputed_gwas/chronotype_raw_BOLT.output_HRC.only_plus.metrics_maf0.001_hwep1em12_info0.3.txt-harmonized-imputed.txt.gz --separator '\t' --non_effect_allele_column non_effect_allele --effect_allele_column effect_allele --snp_column panel_variant_id --zscore_column zscore --keep_non_rsid --additional_output --model_db_snp_key varID --throw --output_file /opt/data/projects/chronotype/results/twas/spredixcan/chronotype_raw_BOLT.output_HRC.only_plus.metrics_maf0.001_hwep1em12_info0.3.txt-gtex_v8-mashr-Pituitary.csv\n",
      "+ set +x\n",
      "+ /opt/data/software/conda_envs/metaxcan/bin/python /opt/data/software/metaxcan/software/SPrediXcan.py --model_db_path /opt/data/data/phenomexcan/prediction_models/mashr/mashr_Kidney_Cortex.db --covariance /opt/data/data/phenomexcan/prediction_models/mashr/mashr_Kidney_Cortex.txt.gz --gwas_file /opt/data/projects/chronotype/results/final_imputed_gwas/chronotype_raw_BOLT.output_HRC.only_plus.metrics_maf0.001_hwep1em12_info0.3.txt-harmonized-imputed.txt.gz --separator '\t' --non_effect_allele_column non_effect_allele --effect_allele_column effect_allele --snp_column panel_variant_id --zscore_column zscore --keep_non_rsid --additional_output --model_db_snp_key varID --throw --output_file /opt/data/projects/chronotype/results/twas/spredixcan/chronotype_raw_BOLT.output_HRC.only_plus.metrics_maf0.001_hwep1em12_info0.3.txt-gtex_v8-mashr-Kidney_Cortex.csv\n",
      "+ set +x\n"
     ]
    }
   ],
   "source": [
    "%%bash -s \"$PHENOPLIER_NOTEBOOK_DIR\" \"$PROJECTS_TRAIT_KEY\" \"$OUTPUT_DIR_STR\"\n",
    "set -euo pipefail\n",
    "# IFS=$'\\n\\t'\n",
    "\n",
    "# read the notebook directory parameter and remove $1\n",
    "export PHENOPLIER_NOTEBOOK_DIR=\"${PHENOPLIER_CODE_DIR}/$1\"\n",
    "shift\n",
    "\n",
    "# read trait key\n",
    "export PROJECTS_TRAIT_KEY=\"$1\"\n",
    "shift\n",
    "\n",
    "# read output dir\n",
    "export OUTPUT_DIR=\"$1\"\n",
    "shift\n",
    "\n",
    "run_job () {\n",
    "    # run_job is a standard function name that performs a particular job\n",
    "    # depending on the context. It will be called by GNU Parallel below.\n",
    "    #\n",
    "    # The implementation here runs the GLS model of PhenoPLIER on a trait.\n",
    "\n",
    "    # read trait information\n",
    "    # the first parameter to this function is a string with values separated by\n",
    "    # commas (,). So here I split those into different variables.\n",
    "    IFS=',' read -r pheno_id file sample_size n_cases tissue <<< \"$1\"\n",
    "\n",
    "    INPUT_FILENAME=${file%.*}\n",
    "\n",
    "    # get input GWAS file, there should be a single file\n",
    "    # here I make sure that there are no other files in the folder that\n",
    "    # match this phenotype/trait filename prefix\n",
    "    env_name=\"PHENOPLIER_PROJECTS_${PROJECTS_TRAIT_KEY}_RESULTS_DIR\"\n",
    "    GWAS_DIR=\"${!env_name}/final_imputed_gwas\"\n",
    "    N_GWAS_FILES=$(ls ${GWAS_DIR}/${INPUT_FILENAME}*.txt.gz | wc -l)\n",
    "    if [ \"${N_GWAS_FILES}\" != \"1\" ]; then\n",
    "        echo \"ERROR: found ${N_GWAS_FILES} GWAS files instead of one\"\n",
    "        exit 1\n",
    "    fi\n",
    "    INPUT_GWAS_FILEPATH=$(ls ${GWAS_DIR}/${INPUT_FILENAME}*.txt.gz)\n",
    "\n",
    "    mkdir -p \"${OUTPUT_DIR}\"\n",
    "\n",
    "    # make sure we are not also parallelizing within numpy, etc\n",
    "    export NUMBA_NUM_THREADS=1\n",
    "    export MKL_NUM_THREADS=1\n",
    "    export OPEN_BLAS_NUM_THREADS=1\n",
    "    export NUMEXPR_NUM_THREADS=1\n",
    "    export OMP_NUM_THREADS=1\n",
    "\n",
    "    echo \"Running for $pheno_id, $tissue\"\n",
    "    echo \"Saving results in ${OUTPUT_DIR}\"\n",
    "\n",
    "    bash \"${PHENOPLIER_CODE_DIR}/scripts/twas_spredixcan.sh\" \\\n",
    "        --input-gwas-file \"${INPUT_GWAS_FILEPATH}\" \\\n",
    "        --phenotype-name \"${INPUT_FILENAME}\" \\\n",
    "        --tissue \"${tissue}\" \\\n",
    "        --output-dir \"${OUTPUT_DIR}\"\n",
    "\n",
    "    # print errors here in the notebook\n",
    "    # first, look for the log file for this trait\n",
    "    pattern=\"${OUTPUT_DIR}/${INPUT_FILENAME}-gtex_v8-mashr-${tissue}*.log\"\n",
    "\n",
    "    N_LOG_FILES=$(ls ${pattern} | wc -l)\n",
    "    if [ \"${N_LOG_FILES}\" != \"1\" ]; then\n",
    "        echo \"ERROR: found ${N_LOG_FILES} log files instead of one\"\n",
    "        exit 1\n",
    "    fi\n",
    "    LOG_FILE=$(ls ${pattern})\n",
    "\n",
    "    cat \"${LOG_FILE}\" | grep -iE \"warning|error\"\n",
    "\n",
    "    echo\n",
    "}\n",
    "\n",
    "# export function so GNU Parallel can see it\n",
    "export -f run_job\n",
    "\n",
    "# generate a list of run_job calls for GNU Parallel\n",
    "# here I read a file with information about traits (one trait per line)\n",
    "env_name=\"PHENOPLIER_PROJECTS_${PROJECTS_TRAIT_KEY}_TRAITS_INFO_FILE\"\n",
    "while IFS= read -r line; do\n",
    "    for tissue in ${PHENOPLIER_PHENOMEXCAN_PREDICTION_MODELS_MASHR_TISSUES}; do\n",
    "        echo run_job \"${line},${tissue}\"\n",
    "    done\n",
    "done < <(tail -n \"+2\" \"${!env_name}\") |\n",
    "    parallel -k --lb --halt 2 -j${PHENOPLIER_GENERAL_N_JOBS}"
   ]
  },
  {
   "cell_type": "markdown",
   "id": "b9de8ab0-1d95-4d08-82bb-376e704fd0df",
   "metadata": {
    "papermill": {
     "duration": 0.018549,
     "end_time": "2023-08-30T03:22:50.808207",
     "exception": false,
     "start_time": "2023-08-30T03:22:50.789658",
     "status": "completed"
    },
    "tags": []
   },
   "source": [
    "# Perform some checks in output and log files"
   ]
  },
  {
   "cell_type": "code",
   "execution_count": 7,
   "id": "a48b5427-95ab-4d89-9b09-ea9f2344a6af",
   "metadata": {
    "execution": {
     "iopub.execute_input": "2023-08-30T03:22:50.840611Z",
     "iopub.status.busy": "2023-08-30T03:22:50.840418Z",
     "iopub.status.idle": "2023-08-30T03:22:50.843863Z",
     "shell.execute_reply": "2023-08-30T03:22:50.843300Z"
    },
    "papermill": {
     "duration": 0.01876,
     "end_time": "2023-08-30T03:22:50.844769",
     "exception": false,
     "start_time": "2023-08-30T03:22:50.826009",
     "status": "completed"
    },
    "tags": []
   },
   "outputs": [],
   "source": [
    "assert OUTPUT_DIR.exists()"
   ]
  },
  {
   "cell_type": "code",
   "execution_count": 8,
   "id": "6d2b50d0-fc92-46fd-a48c-8748ad04d014",
   "metadata": {
    "execution": {
     "iopub.execute_input": "2023-08-30T03:22:50.864504Z",
     "iopub.status.busy": "2023-08-30T03:22:50.864333Z",
     "iopub.status.idle": "2023-08-30T03:22:50.867317Z",
     "shell.execute_reply": "2023-08-30T03:22:50.866856Z"
    },
    "papermill": {
     "duration": 0.013905,
     "end_time": "2023-08-30T03:22:50.868169",
     "exception": false,
     "start_time": "2023-08-30T03:22:50.854264",
     "status": "completed"
    },
    "tags": []
   },
   "outputs": [],
   "source": [
    "log_files = OUTPUT_DIR.glob(\"*.log\")"
   ]
  },
  {
   "cell_type": "code",
   "execution_count": 9,
   "id": "01b58633-03fd-48c3-b95d-d1d37f19bd9c",
   "metadata": {
    "execution": {
     "iopub.execute_input": "2023-08-30T03:22:50.888043Z",
     "iopub.status.busy": "2023-08-30T03:22:50.887537Z",
     "iopub.status.idle": "2023-08-30T03:22:50.892996Z",
     "shell.execute_reply": "2023-08-30T03:22:50.892540Z"
    },
    "papermill": {
     "duration": 0.016248,
     "end_time": "2023-08-30T03:22:50.893869",
     "exception": false,
     "start_time": "2023-08-30T03:22:50.877621",
     "status": "completed"
    },
    "tags": []
   },
   "outputs": [],
   "source": [
    "for f in log_files:\n",
    "    read_log_file_and_check_line_exists(\n",
    "        f,\n",
    "        [\n",
    "            \"INFO - 90 % of model's snps found\",\n",
    "            \"INFO - Sucessfully processed metaxcan association\",\n",
    "        ],\n",
    "    )"
   ]
  }
 ],
 "metadata": {
  "jupytext": {
   "cell_metadata_filter": "all,-execution,-papermill,-trusted",
   "notebook_metadata_filter": "-jupytext.text_representation.jupytext_version"
  },
  "kernelspec": {
   "display_name": "Python 3 (ipykernel)",
   "language": "python",
   "name": "python3"
  },
  "language_info": {
   "codemirror_mode": {
    "name": "ipython",
    "version": 3
   },
   "file_extension": ".py",
   "mimetype": "text/x-python",
   "name": "python",
   "nbconvert_exporter": "python",
   "pygments_lexer": "ipython3",
   "version": "3.10.6"
  },
  "papermill": {
   "default_parameters": {},
   "duration": 69.793567,
   "end_time": "2023-08-30T03:22:51.117811",
   "environment_variables": {},
   "exception": null,
   "input_path": "projects/chronotype/nbs/15_twas/01-run_spredixcan.ipynb",
   "output_path": "projects/chronotype/nbs/15_twas/01-run_spredixcan.run.ipynb",
   "parameters": {
    "PHENOPLIER_NOTEBOOK_FILEPATH": "projects/chronotype/nbs/15_twas/01-run_spredixcan.ipynb"
   },
   "start_time": "2023-08-30T03:21:41.324244",
   "version": "2.3.4"
  }
 },
 "nbformat": 4,
 "nbformat_minor": 5
}
