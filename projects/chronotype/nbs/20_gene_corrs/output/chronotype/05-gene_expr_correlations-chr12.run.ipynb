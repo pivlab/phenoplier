{
 "cells": [
  {
   "cell_type": "markdown",
   "id": "7a6632fb",
   "metadata": {
    "papermill": {
     "duration": 0.009031,
     "end_time": "2023-08-30T04:00:12.061846",
     "exception": false,
     "start_time": "2023-08-30T04:00:12.052815",
     "status": "completed"
    },
    "tags": []
   },
   "source": [
    "# Description"
   ]
  },
  {
   "cell_type": "markdown",
   "id": "7097c346",
   "metadata": {
    "papermill": {
     "duration": 0.008741,
     "end_time": "2023-08-30T04:00:12.078759",
     "exception": false,
     "start_time": "2023-08-30T04:00:12.070018",
     "status": "completed"
    },
    "tags": []
   },
   "source": [
    "This notebook computes predicted expression correlations between all genes in the MultiPLIER models.\n",
    "\n",
    "It has specicfic parameters for papermill (see under `Settings` below).\n",
    "\n",
    "This notebook should not be directly run. It is used by other notebooks."
   ]
  },
  {
   "cell_type": "markdown",
   "id": "c61d8427",
   "metadata": {
    "papermill": {
     "duration": 0.010759,
     "end_time": "2023-08-30T04:00:12.097439",
     "exception": false,
     "start_time": "2023-08-30T04:00:12.086680",
     "status": "completed"
    },
    "tags": []
   },
   "source": [
    "# Modules"
   ]
  },
  {
   "cell_type": "code",
   "execution_count": 1,
   "id": "bbc0234f",
   "metadata": {
    "execution": {
     "iopub.execute_input": "2023-08-30T04:00:12.125384Z",
     "iopub.status.busy": "2023-08-30T04:00:12.124725Z",
     "iopub.status.idle": "2023-08-30T04:00:12.149308Z",
     "shell.execute_reply": "2023-08-30T04:00:12.148756Z"
    },
    "papermill": {
     "duration": 0.039853,
     "end_time": "2023-08-30T04:00:12.151256",
     "exception": false,
     "start_time": "2023-08-30T04:00:12.111403",
     "status": "completed"
    },
    "tags": []
   },
   "outputs": [],
   "source": [
    "%load_ext autoreload\n",
    "%autoreload 2"
   ]
  },
  {
   "cell_type": "code",
   "execution_count": 2,
   "id": "1d5f5a59",
   "metadata": {
    "execution": {
     "iopub.execute_input": "2023-08-30T04:00:12.170309Z",
     "iopub.status.busy": "2023-08-30T04:00:12.169730Z",
     "iopub.status.idle": "2023-08-30T04:00:12.946749Z",
     "shell.execute_reply": "2023-08-30T04:00:12.946301Z"
    },
    "papermill": {
     "duration": 0.788149,
     "end_time": "2023-08-30T04:00:12.948235",
     "exception": false,
     "start_time": "2023-08-30T04:00:12.160086",
     "status": "completed"
    },
    "tags": []
   },
   "outputs": [],
   "source": [
    "from random import sample, seed\n",
    "import warnings\n",
    "from pathlib import Path\n",
    "import pickle\n",
    "import traceback\n",
    "\n",
    "import numpy as np\n",
    "from scipy.spatial.distance import squareform\n",
    "import pandas as pd\n",
    "from tqdm import tqdm\n",
    "import matplotlib.pyplot as plt\n",
    "import seaborn as sns\n",
    "\n",
    "import conf\n",
    "from entity import Gene"
   ]
  },
  {
   "cell_type": "markdown",
   "id": "1eac24b5",
   "metadata": {
    "papermill": {
     "duration": 0.005955,
     "end_time": "2023-08-30T04:00:12.961537",
     "exception": false,
     "start_time": "2023-08-30T04:00:12.955582",
     "status": "completed"
    },
    "tags": []
   },
   "source": [
    "# Settings"
   ]
  },
  {
   "cell_type": "code",
   "execution_count": 3,
   "id": "ca4560ba",
   "metadata": {
    "execution": {
     "iopub.execute_input": "2023-08-30T04:00:12.971353Z",
     "iopub.status.busy": "2023-08-30T04:00:12.971145Z",
     "iopub.status.idle": "2023-08-30T04:00:12.997325Z",
     "shell.execute_reply": "2023-08-30T04:00:12.996912Z"
    },
    "papermill": {
     "duration": 0.032653,
     "end_time": "2023-08-30T04:00:12.998737",
     "exception": false,
     "start_time": "2023-08-30T04:00:12.966084",
     "status": "completed"
    },
    "tags": [
     "parameters"
    ]
   },
   "outputs": [],
   "source": [
    "# a cohort name (it could be something like UK_BIOBANK, etc)\n",
    "COHORT_NAME = None\n",
    "\n",
    "# reference panel such as 1000G or GTEX_V8\n",
    "REFERENCE_PANEL = \"GTEX_V8\"\n",
    "\n",
    "# predictions models such as MASHR or ELASTIC_NET\n",
    "EQTL_MODEL = \"MASHR\"\n",
    "\n",
    "# this is the default value used in S-MultiXcan to select the\n",
    "# top principal components of the expression correlation matrix\n",
    "SMULTIXCAN_CONDITION_NUMBER = 30\n",
    "\n",
    "# specifies a single chromosome value\n",
    "CHROMOSOME = None\n",
    "\n",
    "# If True, computes the correlation between closeby genes only (see\n",
    "# entity.Gene.within_distance for more details). Otherwise, it computes\n",
    "# correlations for all genes in a chromosome\n",
    "COMPUTE_CORRELATIONS_WITHIN_DISTANCE = True\n",
    "\n",
    "# if True, then it will continue if a gene pair correlation fails,\n",
    "# printing the warning/error for debugging. If False, any warning/error\n",
    "# will be thrown\n",
    "DEBUG_MODE = False\n",
    "\n",
    "# output dir\n",
    "OUTPUT_DIR_BASE = None"
   ]
  },
  {
   "cell_type": "code",
   "execution_count": 4,
   "id": "9d595f86",
   "metadata": {
    "execution": {
     "iopub.execute_input": "2023-08-30T04:00:13.017606Z",
     "iopub.status.busy": "2023-08-30T04:00:13.016993Z",
     "iopub.status.idle": "2023-08-30T04:00:13.049664Z",
     "shell.execute_reply": "2023-08-30T04:00:13.048944Z"
    },
    "papermill": {
     "duration": 0.045389,
     "end_time": "2023-08-30T04:00:13.051100",
     "exception": false,
     "start_time": "2023-08-30T04:00:13.005711",
     "status": "completed"
    },
    "tags": [
     "injected-parameters"
    ]
   },
   "outputs": [],
   "source": [
    "# Parameters\n",
    "PHENOPLIER_NOTEBOOK_FILEPATH = (\n",
    "    \"projects/chronotype/nbs/20_gene_corrs/jobs/05-gene_expr_correlations.ipynb\"\n",
    ")\n",
    "COHORT_NAME = \"chronotype\"\n",
    "CHROMOSOME = 12\n",
    "OUTPUT_DIR_BASE = \"/opt/data/projects/chronotype/results/gls_phenoplier\"\n"
   ]
  },
  {
   "cell_type": "code",
   "execution_count": 5,
   "id": "3190631f-27fc-480f-b18e-571d580425a5",
   "metadata": {
    "execution": {
     "iopub.execute_input": "2023-08-30T04:00:13.068062Z",
     "iopub.status.busy": "2023-08-30T04:00:13.067643Z",
     "iopub.status.idle": "2023-08-30T04:00:13.098909Z",
     "shell.execute_reply": "2023-08-30T04:00:13.098443Z"
    },
    "papermill": {
     "duration": 0.040703,
     "end_time": "2023-08-30T04:00:13.099759",
     "exception": false,
     "start_time": "2023-08-30T04:00:13.059056",
     "status": "completed"
    },
    "tags": []
   },
   "outputs": [
    {
     "data": {
      "text/plain": [
       "'Cohort name: chronotype'"
      ]
     },
     "metadata": {},
     "output_type": "display_data"
    }
   ],
   "source": [
    "assert COHORT_NAME is not None and len(COHORT_NAME) > 0, \"A cohort name must be given\"\n",
    "\n",
    "COHORT_NAME = COHORT_NAME.lower()\n",
    "display(f\"Cohort name: {COHORT_NAME}\")"
   ]
  },
  {
   "cell_type": "code",
   "execution_count": 6,
   "id": "f53ba19b-0f93-4fa2-a047-63b375939d1a",
   "metadata": {
    "execution": {
     "iopub.execute_input": "2023-08-30T04:00:13.113663Z",
     "iopub.status.busy": "2023-08-30T04:00:13.113148Z",
     "iopub.status.idle": "2023-08-30T04:00:13.138127Z",
     "shell.execute_reply": "2023-08-30T04:00:13.137732Z"
    },
    "papermill": {
     "duration": 0.033746,
     "end_time": "2023-08-30T04:00:13.139316",
     "exception": false,
     "start_time": "2023-08-30T04:00:13.105570",
     "status": "completed"
    },
    "tags": []
   },
   "outputs": [
    {
     "data": {
      "text/plain": [
       "'Reference panel: GTEX_V8'"
      ]
     },
     "metadata": {},
     "output_type": "display_data"
    }
   ],
   "source": [
    "assert (\n",
    "    REFERENCE_PANEL is not None and len(REFERENCE_PANEL) > 0\n",
    "), \"A reference panel must be given\"\n",
    "\n",
    "display(f\"Reference panel: {REFERENCE_PANEL}\")"
   ]
  },
  {
   "cell_type": "code",
   "execution_count": 7,
   "id": "e024d130-c139-429a-9c6e-ccf149e297b0",
   "metadata": {
    "execution": {
     "iopub.execute_input": "2023-08-30T04:00:13.155698Z",
     "iopub.status.busy": "2023-08-30T04:00:13.155485Z",
     "iopub.status.idle": "2023-08-30T04:00:13.182825Z",
     "shell.execute_reply": "2023-08-30T04:00:13.182406Z"
    },
    "papermill": {
     "duration": 0.037285,
     "end_time": "2023-08-30T04:00:13.183717",
     "exception": false,
     "start_time": "2023-08-30T04:00:13.146432",
     "status": "completed"
    },
    "tags": []
   },
   "outputs": [
    {
     "data": {
      "text/plain": [
       "'eQTL model: MASHR) / mashr_'"
      ]
     },
     "metadata": {},
     "output_type": "display_data"
    }
   ],
   "source": [
    "assert (\n",
    "    EQTL_MODEL is not None and len(EQTL_MODEL) > 0\n",
    "), \"A prediction/eQTL model must be given\"\n",
    "\n",
    "EQTL_MODEL_FILES_PREFIX = conf.PHENOMEXCAN[\"PREDICTION_MODELS\"][f\"{EQTL_MODEL}_PREFIX\"]\n",
    "display(f\"eQTL model: {EQTL_MODEL}) / {EQTL_MODEL_FILES_PREFIX}\")"
   ]
  },
  {
   "cell_type": "code",
   "execution_count": 8,
   "id": "552a7f63-a18c-4d3e-bb6a-94f99b431291",
   "metadata": {
    "execution": {
     "iopub.execute_input": "2023-08-30T04:00:13.195059Z",
     "iopub.status.busy": "2023-08-30T04:00:13.194632Z",
     "iopub.status.idle": "2023-08-30T04:00:13.223867Z",
     "shell.execute_reply": "2023-08-30T04:00:13.223544Z"
    },
    "papermill": {
     "duration": 0.036242,
     "end_time": "2023-08-30T04:00:13.224824",
     "exception": false,
     "start_time": "2023-08-30T04:00:13.188582",
     "status": "completed"
    },
    "tags": []
   },
   "outputs": [
    {
     "data": {
      "text/plain": [
       "'S-MultiXcan condition number: 30'"
      ]
     },
     "metadata": {},
     "output_type": "display_data"
    }
   ],
   "source": [
    "assert (\n",
    "    SMULTIXCAN_CONDITION_NUMBER is not None and SMULTIXCAN_CONDITION_NUMBER > 0\n",
    "), \"The S-MultiXcan condition number (positive integer) must be given\"\n",
    "\n",
    "display(f\"S-MultiXcan condition number: {SMULTIXCAN_CONDITION_NUMBER}\")"
   ]
  },
  {
   "cell_type": "code",
   "execution_count": 9,
   "id": "f34a336f-548e-4afe-8955-90eaea4f42c6",
   "metadata": {
    "execution": {
     "iopub.execute_input": "2023-08-30T04:00:13.241614Z",
     "iopub.status.busy": "2023-08-30T04:00:13.241404Z",
     "iopub.status.idle": "2023-08-30T04:00:13.264442Z",
     "shell.execute_reply": "2023-08-30T04:00:13.264138Z"
    },
    "papermill": {
     "duration": 0.032602,
     "end_time": "2023-08-30T04:00:13.265242",
     "exception": false,
     "start_time": "2023-08-30T04:00:13.232640",
     "status": "completed"
    },
    "tags": []
   },
   "outputs": [
    {
     "data": {
      "text/plain": [
       "'Working on chromosome 12'"
      ]
     },
     "metadata": {},
     "output_type": "display_data"
    }
   ],
   "source": [
    "assert CHROMOSOME is not None and (\n",
    "    1 <= CHROMOSOME <= 22\n",
    "), \"You have to select one chromosome (format: number between 1 and 22)\"\n",
    "\n",
    "display(f\"Working on chromosome {CHROMOSOME}\")"
   ]
  },
  {
   "cell_type": "code",
   "execution_count": 10,
   "id": "ab8e96e8-06b5-4363-9dcd-dc4d78cc27f7",
   "metadata": {
    "execution": {
     "iopub.execute_input": "2023-08-30T04:00:13.276046Z",
     "iopub.status.busy": "2023-08-30T04:00:13.275702Z",
     "iopub.status.idle": "2023-08-30T04:00:13.296203Z",
     "shell.execute_reply": "2023-08-30T04:00:13.295719Z"
    },
    "papermill": {
     "duration": 0.027448,
     "end_time": "2023-08-30T04:00:13.297635",
     "exception": false,
     "start_time": "2023-08-30T04:00:13.270187",
     "status": "completed"
    },
    "tags": []
   },
   "outputs": [
    {
     "data": {
      "text/plain": [
       "'Compute correlation within distance True'"
      ]
     },
     "metadata": {},
     "output_type": "display_data"
    }
   ],
   "source": [
    "display(f\"Compute correlation within distance {COMPUTE_CORRELATIONS_WITHIN_DISTANCE}\")"
   ]
  },
  {
   "cell_type": "code",
   "execution_count": 11,
   "id": "b393b698-77e3-4ba2-8ac1-e14d51aa988f",
   "metadata": {
    "execution": {
     "iopub.execute_input": "2023-08-30T04:00:13.317685Z",
     "iopub.status.busy": "2023-08-30T04:00:13.317476Z",
     "iopub.status.idle": "2023-08-30T04:00:13.338102Z",
     "shell.execute_reply": "2023-08-30T04:00:13.337718Z"
    },
    "papermill": {
     "duration": 0.032539,
     "end_time": "2023-08-30T04:00:13.339599",
     "exception": false,
     "start_time": "2023-08-30T04:00:13.307060",
     "status": "completed"
    },
    "tags": []
   },
   "outputs": [
    {
     "data": {
      "text/plain": [
       "'Using output dir base: /opt/data/projects/chronotype/results/gls_phenoplier/gene_corrs/chronotype'"
      ]
     },
     "metadata": {},
     "output_type": "display_data"
    }
   ],
   "source": [
    "assert (\n",
    "    OUTPUT_DIR_BASE is not None and len(OUTPUT_DIR_BASE) > 0\n",
    "), \"Output directory path must be given\"\n",
    "\n",
    "OUTPUT_DIR_BASE = (Path(OUTPUT_DIR_BASE) / \"gene_corrs\" / COHORT_NAME).resolve()\n",
    "\n",
    "OUTPUT_DIR_BASE.mkdir(parents=True, exist_ok=True)\n",
    "\n",
    "display(f\"Using output dir base: {OUTPUT_DIR_BASE}\")"
   ]
  },
  {
   "cell_type": "markdown",
   "id": "d2ba085e",
   "metadata": {
    "papermill": {
     "duration": 0.009826,
     "end_time": "2023-08-30T04:00:13.359686",
     "exception": false,
     "start_time": "2023-08-30T04:00:13.349860",
     "status": "completed"
    },
    "tags": []
   },
   "source": [
    "# Load data"
   ]
  },
  {
   "cell_type": "markdown",
   "id": "7dcb8db7",
   "metadata": {
    "papermill": {
     "duration": 0.010427,
     "end_time": "2023-08-30T04:00:13.380239",
     "exception": false,
     "start_time": "2023-08-30T04:00:13.369812",
     "status": "completed"
    },
    "tags": []
   },
   "source": [
    "## GWAS variants"
   ]
  },
  {
   "cell_type": "code",
   "execution_count": 12,
   "id": "29434c4e-8cd3-4b9b-82e4-b5a251d9dd19",
   "metadata": {
    "execution": {
     "iopub.execute_input": "2023-08-30T04:00:13.399830Z",
     "iopub.status.busy": "2023-08-30T04:00:13.399463Z",
     "iopub.status.idle": "2023-08-30T04:00:18.261964Z",
     "shell.execute_reply": "2023-08-30T04:00:18.261386Z"
    },
    "papermill": {
     "duration": 4.873603,
     "end_time": "2023-08-30T04:00:18.264509",
     "exception": false,
     "start_time": "2023-08-30T04:00:13.390906",
     "status": "completed"
    },
    "tags": []
   },
   "outputs": [],
   "source": [
    "with open(OUTPUT_DIR_BASE / \"gwas_variant_ids.pkl\", \"rb\") as handle:\n",
    "    gwas_variants_ids_set = pickle.load(handle)"
   ]
  },
  {
   "cell_type": "code",
   "execution_count": 13,
   "id": "b9d9dec2-4a76-4bf9-bde2-e24c95acb8a0",
   "metadata": {
    "execution": {
     "iopub.execute_input": "2023-08-30T04:00:18.284377Z",
     "iopub.status.busy": "2023-08-30T04:00:18.284015Z",
     "iopub.status.idle": "2023-08-30T04:00:18.303075Z",
     "shell.execute_reply": "2023-08-30T04:00:18.302632Z"
    },
    "papermill": {
     "duration": 0.030941,
     "end_time": "2023-08-30T04:00:18.304910",
     "exception": false,
     "start_time": "2023-08-30T04:00:18.273969",
     "status": "completed"
    },
    "tags": []
   },
   "outputs": [
    {
     "data": {
      "text/plain": [
       "11737794"
      ]
     },
     "execution_count": 13,
     "metadata": {},
     "output_type": "execute_result"
    }
   ],
   "source": [
    "len(gwas_variants_ids_set)"
   ]
  },
  {
   "cell_type": "code",
   "execution_count": 14,
   "id": "4235b06a-6034-4ee4-a0a3-2ae35d122418",
   "metadata": {
    "execution": {
     "iopub.execute_input": "2023-08-30T04:00:18.323951Z",
     "iopub.status.busy": "2023-08-30T04:00:18.323604Z",
     "iopub.status.idle": "2023-08-30T04:00:19.921790Z",
     "shell.execute_reply": "2023-08-30T04:00:19.921141Z"
    },
    "papermill": {
     "duration": 1.610341,
     "end_time": "2023-08-30T04:00:19.923997",
     "exception": false,
     "start_time": "2023-08-30T04:00:18.313656",
     "status": "completed"
    },
    "tags": []
   },
   "outputs": [
    {
     "data": {
      "text/plain": [
       "['chr7_8710177_G_A_b38',\n",
       " 'chr10_57446094_G_T_b38',\n",
       " 'chr13_69761831_C_T_b38',\n",
       " 'chr9_1805721_T_C_b38',\n",
       " 'chr2_181064101_T_A_b38']"
      ]
     },
     "execution_count": 14,
     "metadata": {},
     "output_type": "execute_result"
    }
   ],
   "source": [
    "list(gwas_variants_ids_set)[:5]"
   ]
  },
  {
   "cell_type": "markdown",
   "id": "07866999-2305-41f9-a144-e69c9122c212",
   "metadata": {
    "papermill": {
     "duration": 0.011258,
     "end_time": "2023-08-30T04:00:19.944638",
     "exception": false,
     "start_time": "2023-08-30T04:00:19.933380",
     "status": "completed"
    },
    "tags": []
   },
   "source": [
    "## S-PrediXcan tissue models"
   ]
  },
  {
   "cell_type": "code",
   "execution_count": 15,
   "id": "780611d9-77c8-405f-90a4-f271f7b09397",
   "metadata": {
    "execution": {
     "iopub.execute_input": "2023-08-30T04:00:19.967476Z",
     "iopub.status.busy": "2023-08-30T04:00:19.966968Z",
     "iopub.status.idle": "2023-08-30T04:00:22.262255Z",
     "shell.execute_reply": "2023-08-30T04:00:22.261679Z"
    },
    "papermill": {
     "duration": 2.310013,
     "end_time": "2023-08-30T04:00:22.264524",
     "exception": false,
     "start_time": "2023-08-30T04:00:19.954511",
     "status": "completed"
    },
    "tags": []
   },
   "outputs": [],
   "source": [
    "spredixcan_genes_models = pd.read_pickle(OUTPUT_DIR_BASE / \"gene_tissues.pkl\")"
   ]
  },
  {
   "cell_type": "code",
   "execution_count": 16,
   "id": "726dd1f6-9557-4225-91fa-b3b879ea96e1",
   "metadata": {
    "execution": {
     "iopub.execute_input": "2023-08-30T04:00:22.289505Z",
     "iopub.status.busy": "2023-08-30T04:00:22.289013Z",
     "iopub.status.idle": "2023-08-30T04:00:22.313568Z",
     "shell.execute_reply": "2023-08-30T04:00:22.313126Z"
    },
    "papermill": {
     "duration": 0.038296,
     "end_time": "2023-08-30T04:00:22.315228",
     "exception": false,
     "start_time": "2023-08-30T04:00:22.276932",
     "status": "completed"
    },
    "tags": []
   },
   "outputs": [
    {
     "data": {
      "text/plain": [
       "(6445, 5)"
      ]
     },
     "execution_count": 16,
     "metadata": {},
     "output_type": "execute_result"
    }
   ],
   "source": [
    "spredixcan_genes_models.shape"
   ]
  },
  {
   "cell_type": "code",
   "execution_count": 17,
   "id": "944a1b48-222c-4eb0-b252-b9de2cbca215",
   "metadata": {
    "execution": {
     "iopub.execute_input": "2023-08-30T04:00:22.337227Z",
     "iopub.status.busy": "2023-08-30T04:00:22.337029Z",
     "iopub.status.idle": "2023-08-30T04:00:22.364734Z",
     "shell.execute_reply": "2023-08-30T04:00:22.364162Z"
    },
    "papermill": {
     "duration": 0.040803,
     "end_time": "2023-08-30T04:00:22.366260",
     "exception": false,
     "start_time": "2023-08-30T04:00:22.325457",
     "status": "completed"
    },
    "tags": []
   },
   "outputs": [
    {
     "data": {
      "text/html": [
       "<div>\n",
       "<style scoped>\n",
       "    .dataframe tbody tr th:only-of-type {\n",
       "        vertical-align: middle;\n",
       "    }\n",
       "\n",
       "    .dataframe tbody tr th {\n",
       "        vertical-align: top;\n",
       "    }\n",
       "\n",
       "    .dataframe thead th {\n",
       "        text-align: right;\n",
       "    }\n",
       "</style>\n",
       "<table border=\"1\" class=\"dataframe\">\n",
       "  <thead>\n",
       "    <tr style=\"text-align: right;\">\n",
       "      <th></th>\n",
       "      <th>gene_name</th>\n",
       "      <th>tissue</th>\n",
       "      <th>n_tissues</th>\n",
       "      <th>n_snps_used_sum</th>\n",
       "      <th>n_snps_in_model_sum</th>\n",
       "    </tr>\n",
       "    <tr>\n",
       "      <th>gene_id</th>\n",
       "      <th></th>\n",
       "      <th></th>\n",
       "      <th></th>\n",
       "      <th></th>\n",
       "      <th></th>\n",
       "    </tr>\n",
       "  </thead>\n",
       "  <tbody>\n",
       "    <tr>\n",
       "      <th>ENSG00000000419</th>\n",
       "      <td>DPM1</td>\n",
       "      <td>(Brain_Substantia_nigra, Brain_Hypothalamus)</td>\n",
       "      <td>2</td>\n",
       "      <td>2</td>\n",
       "      <td>2</td>\n",
       "    </tr>\n",
       "    <tr>\n",
       "      <th>ENSG00000000938</th>\n",
       "      <td>FGR</td>\n",
       "      <td>(Brain_Caudate_basal_ganglia, Esophagus_Mucosa...</td>\n",
       "      <td>36</td>\n",
       "      <td>40</td>\n",
       "      <td>40</td>\n",
       "    </tr>\n",
       "    <tr>\n",
       "      <th>ENSG00000000971</th>\n",
       "      <td>CFH</td>\n",
       "      <td>(Brain_Caudate_basal_ganglia, Heart_Left_Ventr...</td>\n",
       "      <td>34</td>\n",
       "      <td>44</td>\n",
       "      <td>44</td>\n",
       "    </tr>\n",
       "    <tr>\n",
       "      <th>ENSG00000001084</th>\n",
       "      <td>GCLC</td>\n",
       "      <td>(Heart_Left_Ventricle, Adrenal_Gland, Brain_Fr...</td>\n",
       "      <td>32</td>\n",
       "      <td>46</td>\n",
       "      <td>46</td>\n",
       "    </tr>\n",
       "    <tr>\n",
       "      <th>ENSG00000001167</th>\n",
       "      <td>NFYA</td>\n",
       "      <td>(Brain_Caudate_basal_ganglia, Esophagus_Mucosa...</td>\n",
       "      <td>40</td>\n",
       "      <td>47</td>\n",
       "      <td>48</td>\n",
       "    </tr>\n",
       "  </tbody>\n",
       "</table>\n",
       "</div>"
      ],
      "text/plain": [
       "                gene_name                                             tissue  \\\n",
       "gene_id                                                                        \n",
       "ENSG00000000419      DPM1       (Brain_Substantia_nigra, Brain_Hypothalamus)   \n",
       "ENSG00000000938       FGR  (Brain_Caudate_basal_ganglia, Esophagus_Mucosa...   \n",
       "ENSG00000000971       CFH  (Brain_Caudate_basal_ganglia, Heart_Left_Ventr...   \n",
       "ENSG00000001084      GCLC  (Heart_Left_Ventricle, Adrenal_Gland, Brain_Fr...   \n",
       "ENSG00000001167      NFYA  (Brain_Caudate_basal_ganglia, Esophagus_Mucosa...   \n",
       "\n",
       "                 n_tissues  n_snps_used_sum  n_snps_in_model_sum  \n",
       "gene_id                                                           \n",
       "ENSG00000000419          2                2                    2  \n",
       "ENSG00000000938         36               40                   40  \n",
       "ENSG00000000971         34               44                   44  \n",
       "ENSG00000001084         32               46                   46  \n",
       "ENSG00000001167         40               47                   48  "
      ]
     },
     "execution_count": 17,
     "metadata": {},
     "output_type": "execute_result"
    }
   ],
   "source": [
    "spredixcan_genes_models.head()"
   ]
  },
  {
   "cell_type": "code",
   "execution_count": 18,
   "id": "d1c11bb1-be0b-4f40-b360-633d6827109f",
   "metadata": {
    "execution": {
     "iopub.execute_input": "2023-08-30T04:00:22.389435Z",
     "iopub.status.busy": "2023-08-30T04:00:22.389025Z",
     "iopub.status.idle": "2023-08-30T04:00:22.408839Z",
     "shell.execute_reply": "2023-08-30T04:00:22.408276Z"
    },
    "papermill": {
     "duration": 0.033555,
     "end_time": "2023-08-30T04:00:22.411207",
     "exception": false,
     "start_time": "2023-08-30T04:00:22.377652",
     "status": "completed"
    },
    "tags": []
   },
   "outputs": [],
   "source": [
    "assert spredixcan_genes_models.index.is_unique"
   ]
  },
  {
   "cell_type": "markdown",
   "id": "a5b5092c-a13e-47c4-a92a-480fcc08f3ae",
   "metadata": {
    "papermill": {
     "duration": 0.010687,
     "end_time": "2023-08-30T04:00:22.436979",
     "exception": false,
     "start_time": "2023-08-30T04:00:22.426292",
     "status": "completed"
    },
    "tags": []
   },
   "source": [
    "## Gene info"
   ]
  },
  {
   "cell_type": "code",
   "execution_count": 19,
   "id": "7d6bb224-88e9-4358-ac10-43a41d92cdad",
   "metadata": {
    "execution": {
     "iopub.execute_input": "2023-08-30T04:00:22.458676Z",
     "iopub.status.busy": "2023-08-30T04:00:22.458331Z",
     "iopub.status.idle": "2023-08-30T04:00:22.486610Z",
     "shell.execute_reply": "2023-08-30T04:00:22.485871Z"
    },
    "papermill": {
     "duration": 0.041301,
     "end_time": "2023-08-30T04:00:22.488537",
     "exception": false,
     "start_time": "2023-08-30T04:00:22.447236",
     "status": "completed"
    },
    "tags": []
   },
   "outputs": [],
   "source": [
    "genes_info = pd.read_pickle(OUTPUT_DIR_BASE / \"genes_info.pkl\")"
   ]
  },
  {
   "cell_type": "code",
   "execution_count": 20,
   "id": "9e32abfa-546d-483e-8c18-d526e9e05903",
   "metadata": {
    "execution": {
     "iopub.execute_input": "2023-08-30T04:00:22.515891Z",
     "iopub.status.busy": "2023-08-30T04:00:22.515328Z",
     "iopub.status.idle": "2023-08-30T04:00:22.542430Z",
     "shell.execute_reply": "2023-08-30T04:00:22.541774Z"
    },
    "papermill": {
     "duration": 0.041453,
     "end_time": "2023-08-30T04:00:22.543416",
     "exception": false,
     "start_time": "2023-08-30T04:00:22.501963",
     "status": "completed"
    },
    "tags": []
   },
   "outputs": [
    {
     "data": {
      "text/plain": [
       "(6445, 7)"
      ]
     },
     "execution_count": 20,
     "metadata": {},
     "output_type": "execute_result"
    }
   ],
   "source": [
    "genes_info.shape"
   ]
  },
  {
   "cell_type": "code",
   "execution_count": 21,
   "id": "d16c3e92-85ec-468a-9a56-e25a9774a1cb",
   "metadata": {
    "execution": {
     "iopub.execute_input": "2023-08-30T04:00:22.555768Z",
     "iopub.status.busy": "2023-08-30T04:00:22.555533Z",
     "iopub.status.idle": "2023-08-30T04:00:22.587550Z",
     "shell.execute_reply": "2023-08-30T04:00:22.587018Z"
    },
    "papermill": {
     "duration": 0.039577,
     "end_time": "2023-08-30T04:00:22.588473",
     "exception": false,
     "start_time": "2023-08-30T04:00:22.548896",
     "status": "completed"
    },
    "tags": []
   },
   "outputs": [
    {
     "data": {
      "text/html": [
       "<div>\n",
       "<style scoped>\n",
       "    .dataframe tbody tr th:only-of-type {\n",
       "        vertical-align: middle;\n",
       "    }\n",
       "\n",
       "    .dataframe tbody tr th {\n",
       "        vertical-align: top;\n",
       "    }\n",
       "\n",
       "    .dataframe thead th {\n",
       "        text-align: right;\n",
       "    }\n",
       "</style>\n",
       "<table border=\"1\" class=\"dataframe\">\n",
       "  <thead>\n",
       "    <tr style=\"text-align: right;\">\n",
       "      <th></th>\n",
       "      <th>name</th>\n",
       "      <th>id</th>\n",
       "      <th>chr</th>\n",
       "      <th>band</th>\n",
       "      <th>start_position</th>\n",
       "      <th>end_position</th>\n",
       "      <th>gene_length</th>\n",
       "    </tr>\n",
       "  </thead>\n",
       "  <tbody>\n",
       "    <tr>\n",
       "      <th>0</th>\n",
       "      <td>DUT</td>\n",
       "      <td>ENSG00000128951</td>\n",
       "      <td>15</td>\n",
       "      <td>15q21.1</td>\n",
       "      <td>48331011</td>\n",
       "      <td>48343373</td>\n",
       "      <td>12362</td>\n",
       "    </tr>\n",
       "    <tr>\n",
       "      <th>1</th>\n",
       "      <td>NDUFA4</td>\n",
       "      <td>ENSG00000189043</td>\n",
       "      <td>7</td>\n",
       "      <td>7p21.3</td>\n",
       "      <td>10931943</td>\n",
       "      <td>10940153</td>\n",
       "      <td>8210</td>\n",
       "    </tr>\n",
       "    <tr>\n",
       "      <th>2</th>\n",
       "      <td>EPHB3</td>\n",
       "      <td>ENSG00000182580</td>\n",
       "      <td>3</td>\n",
       "      <td>3q27.1</td>\n",
       "      <td>184561785</td>\n",
       "      <td>184582408</td>\n",
       "      <td>20623</td>\n",
       "    </tr>\n",
       "    <tr>\n",
       "      <th>3</th>\n",
       "      <td>MYLK</td>\n",
       "      <td>ENSG00000065534</td>\n",
       "      <td>3</td>\n",
       "      <td>3q21.1</td>\n",
       "      <td>123610049</td>\n",
       "      <td>123884331</td>\n",
       "      <td>274282</td>\n",
       "    </tr>\n",
       "    <tr>\n",
       "      <th>4</th>\n",
       "      <td>SMPD4</td>\n",
       "      <td>ENSG00000136699</td>\n",
       "      <td>2</td>\n",
       "      <td>2q21.1</td>\n",
       "      <td>130151392</td>\n",
       "      <td>130182750</td>\n",
       "      <td>31358</td>\n",
       "    </tr>\n",
       "  </tbody>\n",
       "</table>\n",
       "</div>"
      ],
      "text/plain": [
       "     name               id  chr     band  start_position  end_position  \\\n",
       "0     DUT  ENSG00000128951   15  15q21.1        48331011      48343373   \n",
       "1  NDUFA4  ENSG00000189043    7   7p21.3        10931943      10940153   \n",
       "2   EPHB3  ENSG00000182580    3   3q27.1       184561785     184582408   \n",
       "3    MYLK  ENSG00000065534    3   3q21.1       123610049     123884331   \n",
       "4   SMPD4  ENSG00000136699    2   2q21.1       130151392     130182750   \n",
       "\n",
       "   gene_length  \n",
       "0        12362  \n",
       "1         8210  \n",
       "2        20623  \n",
       "3       274282  \n",
       "4        31358  "
      ]
     },
     "execution_count": 21,
     "metadata": {},
     "output_type": "execute_result"
    }
   ],
   "source": [
    "genes_info.head()"
   ]
  },
  {
   "cell_type": "markdown",
   "id": "d3843e06",
   "metadata": {
    "papermill": {
     "duration": 0.005526,
     "end_time": "2023-08-30T04:00:22.599646",
     "exception": false,
     "start_time": "2023-08-30T04:00:22.594120",
     "status": "completed"
    },
    "tags": []
   },
   "source": [
    "# Compute correlations"
   ]
  },
  {
   "cell_type": "code",
   "execution_count": 22,
   "id": "cb859c15-d1f3-4006-a74c-2b83c0db9611",
   "metadata": {
    "execution": {
     "iopub.execute_input": "2023-08-30T04:00:22.618070Z",
     "iopub.status.busy": "2023-08-30T04:00:22.617722Z",
     "iopub.status.idle": "2023-08-30T04:00:22.645030Z",
     "shell.execute_reply": "2023-08-30T04:00:22.644534Z"
    },
    "papermill": {
     "duration": 0.0385,
     "end_time": "2023-08-30T04:00:22.646278",
     "exception": false,
     "start_time": "2023-08-30T04:00:22.607778",
     "status": "completed"
    },
    "tags": []
   },
   "outputs": [
    {
     "data": {
      "text/plain": [
       "PosixPath('/opt/data/projects/chronotype/results/gls_phenoplier/gene_corrs/chronotype/by_chr/gene_corrs-chr12.pkl')"
      ]
     },
     "metadata": {},
     "output_type": "display_data"
    }
   ],
   "source": [
    "output_dir = OUTPUT_DIR_BASE / \"by_chr\"\n",
    "output_dir.mkdir(exist_ok=True, parents=True)\n",
    "output_file = output_dir / f\"gene_corrs-chr{CHROMOSOME}.pkl\"\n",
    "display(output_file)"
   ]
  },
  {
   "cell_type": "code",
   "execution_count": 23,
   "id": "aa674fe4-6794-4eed-98fa-32b39d1d4ace",
   "metadata": {
    "execution": {
     "iopub.execute_input": "2023-08-30T04:00:22.665716Z",
     "iopub.status.busy": "2023-08-30T04:00:22.665204Z",
     "iopub.status.idle": "2023-08-30T04:00:22.696662Z",
     "shell.execute_reply": "2023-08-30T04:00:22.695777Z"
    },
    "papermill": {
     "duration": 0.043101,
     "end_time": "2023-08-30T04:00:22.698228",
     "exception": false,
     "start_time": "2023-08-30T04:00:22.655127",
     "status": "completed"
    },
    "tags": []
   },
   "outputs": [],
   "source": [
    "warnings.filterwarnings(\"error\")"
   ]
  },
  {
   "cell_type": "code",
   "execution_count": 24,
   "id": "44d5450b-3baf-43f1-9e2e-4b06f1a785f8",
   "metadata": {
    "execution": {
     "iopub.execute_input": "2023-08-30T04:00:22.717371Z",
     "iopub.status.busy": "2023-08-30T04:00:22.717202Z",
     "iopub.status.idle": "2023-08-30T04:00:22.745766Z",
     "shell.execute_reply": "2023-08-30T04:00:22.745266Z"
    },
    "papermill": {
     "duration": 0.040389,
     "end_time": "2023-08-30T04:00:22.747335",
     "exception": false,
     "start_time": "2023-08-30T04:00:22.706946",
     "status": "completed"
    },
    "tags": []
   },
   "outputs": [],
   "source": [
    "# standard checks\n",
    "all_chrs = genes_info[\"chr\"].dropna().unique()\n",
    "assert all_chrs.shape[0] == 22\n",
    "\n",
    "# select chromosome given by the user\n",
    "assert CHROMOSOME in all_chrs"
   ]
  },
  {
   "cell_type": "code",
   "execution_count": 25,
   "id": "2d7c043c-92a7-4d35-991b-fa69ac1e0268",
   "metadata": {
    "execution": {
     "iopub.execute_input": "2023-08-30T04:00:22.767285Z",
     "iopub.status.busy": "2023-08-30T04:00:22.767071Z",
     "iopub.status.idle": "2023-08-30T04:00:22.790630Z",
     "shell.execute_reply": "2023-08-30T04:00:22.789935Z"
    },
    "papermill": {
     "duration": 0.035586,
     "end_time": "2023-08-30T04:00:22.792159",
     "exception": false,
     "start_time": "2023-08-30T04:00:22.756573",
     "status": "completed"
    },
    "tags": []
   },
   "outputs": [
    {
     "name": "stdout",
     "output_type": "stream",
     "text": [
      "Number of genes in chromosome: 388\n"
     ]
    }
   ],
   "source": [
    "# run only on the chromosome specified\n",
    "all_chrs = [CHROMOSOME]\n",
    "genes_chr = genes_info[genes_info[\"chr\"] == CHROMOSOME]\n",
    "\n",
    "# For testing purposes\n",
    "# genes_chr = genes_chr.sample(n=20)\n",
    "\n",
    "print(f\"Number of genes in chromosome: {genes_chr.shape[0]}\", flush=True)"
   ]
  },
  {
   "cell_type": "code",
   "execution_count": 26,
   "id": "916015d8-2979-46d3-a9b9-1cf5a0932c6a",
   "metadata": {
    "execution": {
     "iopub.execute_input": "2023-08-30T04:00:22.812145Z",
     "iopub.status.busy": "2023-08-30T04:00:22.811910Z",
     "iopub.status.idle": "2023-08-30T04:00:22.831378Z",
     "shell.execute_reply": "2023-08-30T04:00:22.830690Z"
    },
    "papermill": {
     "duration": 0.031374,
     "end_time": "2023-08-30T04:00:22.832849",
     "exception": false,
     "start_time": "2023-08-30T04:00:22.801475",
     "status": "completed"
    },
    "tags": []
   },
   "outputs": [],
   "source": [
    "# sort genes by starting position to make visualizations better later\n",
    "genes_chr = genes_chr.sort_values(\"start_position\")"
   ]
  },
  {
   "cell_type": "code",
   "execution_count": 27,
   "id": "a38aa74a-8ad3-47f6-8ef9-56be0e011774",
   "metadata": {
    "execution": {
     "iopub.execute_input": "2023-08-30T04:00:22.853433Z",
     "iopub.status.busy": "2023-08-30T04:00:22.853192Z",
     "iopub.status.idle": "2023-08-30T04:00:22.872075Z",
     "shell.execute_reply": "2023-08-30T04:00:22.871656Z"
    },
    "papermill": {
     "duration": 0.03039,
     "end_time": "2023-08-30T04:00:22.873561",
     "exception": false,
     "start_time": "2023-08-30T04:00:22.843171",
     "status": "completed"
    },
    "tags": []
   },
   "outputs": [],
   "source": [
    "gene_chr_objs = [Gene(ensembl_id=gene_id) for gene_id in genes_chr[\"id\"]]"
   ]
  },
  {
   "cell_type": "code",
   "execution_count": 28,
   "id": "570f974f-13c3-42b6-ad3a-ce99ca885c1a",
   "metadata": {
    "execution": {
     "iopub.execute_input": "2023-08-30T04:00:22.893511Z",
     "iopub.status.busy": "2023-08-30T04:00:22.893270Z",
     "iopub.status.idle": "2023-08-30T04:00:22.917766Z",
     "shell.execute_reply": "2023-08-30T04:00:22.917152Z"
    },
    "papermill": {
     "duration": 0.036471,
     "end_time": "2023-08-30T04:00:22.919389",
     "exception": false,
     "start_time": "2023-08-30T04:00:22.882918",
     "status": "completed"
    },
    "tags": []
   },
   "outputs": [
    {
     "name": "stdout",
     "output_type": "stream",
     "text": [
      "Number of gene combinations: 75466\n"
     ]
    }
   ],
   "source": [
    "n = len(gene_chr_objs)\n",
    "# diagonal elements + upper triangular matrix\n",
    "n_comb = n + int(n * (n - 1) / 2.0)\n",
    "print(f\"Number of gene combinations: {n_comb}\", flush=True)"
   ]
  },
  {
   "cell_type": "code",
   "execution_count": 29,
   "id": "cdbb90a1",
   "metadata": {
    "execution": {
     "iopub.execute_input": "2023-08-30T04:00:22.945603Z",
     "iopub.status.busy": "2023-08-30T04:00:22.945233Z",
     "iopub.status.idle": "2023-08-30T04:08:46.440882Z",
     "shell.execute_reply": "2023-08-30T04:08:46.440460Z"
    },
    "papermill": {
     "duration": 503.509773,
     "end_time": "2023-08-30T04:08:46.441804",
     "exception": false,
     "start_time": "2023-08-30T04:00:22.932031",
     "status": "completed"
    },
    "tags": []
   },
   "outputs": [
    {
     "name": "stderr",
     "output_type": "stream",
     "text": [
      "ENSG00000256223 / ENSG00000256223: 100%|█████████████████████| 75466/75466 [08:23<00:00, 149.90it/s]\n"
     ]
    },
    {
     "data": {
      "text/plain": [
       "PosixPath('/opt/data/projects/chronotype/results/gls_phenoplier/gene_corrs/chronotype/by_chr/gene_corrs-chr12.pkl')"
      ]
     },
     "metadata": {},
     "output_type": "display_data"
    }
   ],
   "source": [
    "gene_corrs = []\n",
    "gene_corrs_data = np.full(\n",
    "    (n, n),\n",
    "    np.nan,\n",
    "    dtype=np.float64,\n",
    ")\n",
    "\n",
    "i = 0\n",
    "with tqdm(ncols=100, total=n_comb) as pbar:\n",
    "    for gene1_idx in range(0, len(gene_chr_objs)):\n",
    "        gene1_obj = gene_chr_objs[gene1_idx]\n",
    "        gene1_tissues = spredixcan_genes_models.loc[gene1_obj.ensembl_id, \"tissue\"]\n",
    "\n",
    "        for gene2_idx in range(gene1_idx, len(gene_chr_objs)):\n",
    "            gene2_obj = gene_chr_objs[gene2_idx]\n",
    "            gene2_tissues = spredixcan_genes_models.loc[gene2_obj.ensembl_id, \"tissue\"]\n",
    "\n",
    "            pbar.set_description(f\"{gene1_obj.ensembl_id} / {gene2_obj.ensembl_id}\")\n",
    "\n",
    "            try:\n",
    "                r = gene1_obj.get_ssm_correlation(\n",
    "                    other_gene=gene2_obj,\n",
    "                    tissues=gene1_tissues,\n",
    "                    other_tissues=gene2_tissues,\n",
    "                    snps_subset=gwas_variants_ids_set,\n",
    "                    condition_number=SMULTIXCAN_CONDITION_NUMBER,\n",
    "                    reference_panel=REFERENCE_PANEL,\n",
    "                    model_type=EQTL_MODEL,\n",
    "                    use_within_distance=COMPUTE_CORRELATIONS_WITHIN_DISTANCE,\n",
    "                )\n",
    "\n",
    "                if r is None:\n",
    "                    # if r is None, it's very likely because:\n",
    "                    #  * one of the genes has no prediction models\n",
    "                    #  * all the SNPs predictors for the gene are not present in the reference\n",
    "                    #    panel\n",
    "\n",
    "                    r = 0.0\n",
    "\n",
    "                gene_corrs.append(r)\n",
    "\n",
    "                gene_corrs_data[gene1_idx, gene2_idx] = r\n",
    "                gene_corrs_data[gene2_idx, gene1_idx] = r\n",
    "            except Warning as e:\n",
    "                if not DEBUG_MODE:\n",
    "                    raise e\n",
    "\n",
    "                print(\n",
    "                    f\"RuntimeWarning for genes {gene1_obj.ensembl_id} and {gene2_obj.ensembl_id}\",\n",
    "                    flush=True,\n",
    "                )\n",
    "                print(traceback.format_exc(), flush=True)\n",
    "\n",
    "                gene_corrs.append(np.nan)\n",
    "            except Exception as e:\n",
    "                if not DEBUG_MODE:\n",
    "                    raise e\n",
    "\n",
    "                print(\n",
    "                    f\"Exception for genes {gene1_obj.ensembl_id} and {gene2_obj.ensembl_id}\",\n",
    "                    flush=True,\n",
    "                )\n",
    "                print(traceback.format_exc(), flush=True)\n",
    "\n",
    "                gene_corrs.append(np.nan)\n",
    "\n",
    "            pbar.update(1)\n",
    "\n",
    "# create a pandas series\n",
    "gene_corrs_flat = pd.Series(gene_corrs)\n",
    "\n",
    "# save\n",
    "# FIXME: consider saving only the condenced matrix here. See here for\n",
    "# more details: https://github.com/greenelab/phenoplier/pull/38#discussion_r634600813\n",
    "# gene_corrs_data = squareform(np.array(gene_corrs, dtype=np.float64))\n",
    "# np.fill_diagonal(gene_corrs_data, 1.0)\n",
    "\n",
    "gene_chr_ids = [g.ensembl_id for g in gene_chr_objs]\n",
    "gene_corrs_df = pd.DataFrame(\n",
    "    data=gene_corrs_data,\n",
    "    index=gene_chr_ids,\n",
    "    columns=gene_chr_ids,\n",
    ")\n",
    "\n",
    "output_dir.mkdir(exist_ok=True, parents=True)\n",
    "display(output_file)\n",
    "\n",
    "gene_corrs_df.to_pickle(output_file)"
   ]
  },
  {
   "cell_type": "markdown",
   "id": "faa67b51-5373-470f-aa72-2ded53fa6dfe",
   "metadata": {
    "papermill": {
     "duration": 2.275857,
     "end_time": "2023-08-30T04:08:51.080393",
     "exception": false,
     "start_time": "2023-08-30T04:08:48.804536",
     "status": "completed"
    },
    "tags": []
   },
   "source": [
    "# Testing"
   ]
  },
  {
   "cell_type": "code",
   "execution_count": 30,
   "id": "14f7d046-4b55-4896-a56b-990127bcc388",
   "metadata": {
    "execution": {
     "iopub.execute_input": "2023-08-30T04:08:55.707681Z",
     "iopub.status.busy": "2023-08-30T04:08:55.707444Z",
     "iopub.status.idle": "2023-08-30T04:08:55.726116Z",
     "shell.execute_reply": "2023-08-30T04:08:55.725674Z"
    },
    "papermill": {
     "duration": 2.308852,
     "end_time": "2023-08-30T04:08:55.726983",
     "exception": false,
     "start_time": "2023-08-30T04:08:53.418131",
     "status": "completed"
    },
    "tags": []
   },
   "outputs": [
    {
     "data": {
      "text/plain": [
       "(388, 388)"
      ]
     },
     "execution_count": 30,
     "metadata": {},
     "output_type": "execute_result"
    }
   ],
   "source": [
    "gene_corrs_df.shape"
   ]
  },
  {
   "cell_type": "code",
   "execution_count": 31,
   "id": "c7d15414-3297-4537-a7c6-7588c0baeb75",
   "metadata": {
    "execution": {
     "iopub.execute_input": "2023-08-30T04:09:00.278147Z",
     "iopub.status.busy": "2023-08-30T04:09:00.277788Z",
     "iopub.status.idle": "2023-08-30T04:09:00.318367Z",
     "shell.execute_reply": "2023-08-30T04:09:00.317864Z"
    },
    "papermill": {
     "duration": 2.250624,
     "end_time": "2023-08-30T04:09:00.319238",
     "exception": false,
     "start_time": "2023-08-30T04:08:58.068614",
     "status": "completed"
    },
    "tags": []
   },
   "outputs": [
    {
     "data": {
      "text/html": [
       "<div>\n",
       "<style scoped>\n",
       "    .dataframe tbody tr th:only-of-type {\n",
       "        vertical-align: middle;\n",
       "    }\n",
       "\n",
       "    .dataframe tbody tr th {\n",
       "        vertical-align: top;\n",
       "    }\n",
       "\n",
       "    .dataframe thead th {\n",
       "        text-align: right;\n",
       "    }\n",
       "</style>\n",
       "<table border=\"1\" class=\"dataframe\">\n",
       "  <thead>\n",
       "    <tr style=\"text-align: right;\">\n",
       "      <th></th>\n",
       "      <th>ENSG00000120645</th>\n",
       "      <th>ENSG00000111181</th>\n",
       "      <th>ENSG00000171840</th>\n",
       "      <th>ENSG00000060237</th>\n",
       "      <th>ENSG00000002016</th>\n",
       "      <th>ENSG00000082805</th>\n",
       "      <th>ENSG00000111186</th>\n",
       "      <th>ENSG00000006831</th>\n",
       "      <th>ENSG00000151062</th>\n",
       "      <th>ENSG00000151065</th>\n",
       "      <th>...</th>\n",
       "      <th>ENSG00000132341</th>\n",
       "      <th>ENSG00000198598</th>\n",
       "      <th>ENSG00000177169</th>\n",
       "      <th>ENSG00000182870</th>\n",
       "      <th>ENSG00000177084</th>\n",
       "      <th>ENSG00000176894</th>\n",
       "      <th>ENSG00000196458</th>\n",
       "      <th>ENSG00000198393</th>\n",
       "      <th>ENSG00000196387</th>\n",
       "      <th>ENSG00000256223</th>\n",
       "    </tr>\n",
       "  </thead>\n",
       "  <tbody>\n",
       "    <tr>\n",
       "      <th>ENSG00000120645</th>\n",
       "      <td>1.000000</td>\n",
       "      <td>0.084977</td>\n",
       "      <td>0.013124</td>\n",
       "      <td>0.013075</td>\n",
       "      <td>0.006635</td>\n",
       "      <td>0.013251</td>\n",
       "      <td>0.008958</td>\n",
       "      <td>0.012192</td>\n",
       "      <td>0.011524</td>\n",
       "      <td>0.007988</td>\n",
       "      <td>...</td>\n",
       "      <td>0.0</td>\n",
       "      <td>0.0</td>\n",
       "      <td>0.0</td>\n",
       "      <td>0.0</td>\n",
       "      <td>0.0</td>\n",
       "      <td>0.0</td>\n",
       "      <td>0.0</td>\n",
       "      <td>0.0</td>\n",
       "      <td>0.0</td>\n",
       "      <td>0.0</td>\n",
       "    </tr>\n",
       "    <tr>\n",
       "      <th>ENSG00000111181</th>\n",
       "      <td>0.084977</td>\n",
       "      <td>1.000000</td>\n",
       "      <td>0.013749</td>\n",
       "      <td>0.010570</td>\n",
       "      <td>0.006832</td>\n",
       "      <td>0.010852</td>\n",
       "      <td>0.007484</td>\n",
       "      <td>0.006804</td>\n",
       "      <td>0.010532</td>\n",
       "      <td>0.007208</td>\n",
       "      <td>...</td>\n",
       "      <td>0.0</td>\n",
       "      <td>0.0</td>\n",
       "      <td>0.0</td>\n",
       "      <td>0.0</td>\n",
       "      <td>0.0</td>\n",
       "      <td>0.0</td>\n",
       "      <td>0.0</td>\n",
       "      <td>0.0</td>\n",
       "      <td>0.0</td>\n",
       "      <td>0.0</td>\n",
       "    </tr>\n",
       "    <tr>\n",
       "      <th>ENSG00000171840</th>\n",
       "      <td>0.013124</td>\n",
       "      <td>0.013749</td>\n",
       "      <td>1.000000</td>\n",
       "      <td>0.139640</td>\n",
       "      <td>0.013955</td>\n",
       "      <td>0.013478</td>\n",
       "      <td>0.014670</td>\n",
       "      <td>0.006544</td>\n",
       "      <td>0.011693</td>\n",
       "      <td>0.008706</td>\n",
       "      <td>...</td>\n",
       "      <td>0.0</td>\n",
       "      <td>0.0</td>\n",
       "      <td>0.0</td>\n",
       "      <td>0.0</td>\n",
       "      <td>0.0</td>\n",
       "      <td>0.0</td>\n",
       "      <td>0.0</td>\n",
       "      <td>0.0</td>\n",
       "      <td>0.0</td>\n",
       "      <td>0.0</td>\n",
       "    </tr>\n",
       "    <tr>\n",
       "      <th>ENSG00000060237</th>\n",
       "      <td>0.013075</td>\n",
       "      <td>0.010570</td>\n",
       "      <td>0.139640</td>\n",
       "      <td>1.000000</td>\n",
       "      <td>0.218221</td>\n",
       "      <td>0.018323</td>\n",
       "      <td>0.011846</td>\n",
       "      <td>0.010363</td>\n",
       "      <td>0.010164</td>\n",
       "      <td>0.007227</td>\n",
       "      <td>...</td>\n",
       "      <td>0.0</td>\n",
       "      <td>0.0</td>\n",
       "      <td>0.0</td>\n",
       "      <td>0.0</td>\n",
       "      <td>0.0</td>\n",
       "      <td>0.0</td>\n",
       "      <td>0.0</td>\n",
       "      <td>0.0</td>\n",
       "      <td>0.0</td>\n",
       "      <td>0.0</td>\n",
       "    </tr>\n",
       "    <tr>\n",
       "      <th>ENSG00000002016</th>\n",
       "      <td>0.006635</td>\n",
       "      <td>0.006832</td>\n",
       "      <td>0.013955</td>\n",
       "      <td>0.218221</td>\n",
       "      <td>1.000000</td>\n",
       "      <td>0.019884</td>\n",
       "      <td>0.009110</td>\n",
       "      <td>0.003982</td>\n",
       "      <td>0.007499</td>\n",
       "      <td>0.007657</td>\n",
       "      <td>...</td>\n",
       "      <td>0.0</td>\n",
       "      <td>0.0</td>\n",
       "      <td>0.0</td>\n",
       "      <td>0.0</td>\n",
       "      <td>0.0</td>\n",
       "      <td>0.0</td>\n",
       "      <td>0.0</td>\n",
       "      <td>0.0</td>\n",
       "      <td>0.0</td>\n",
       "      <td>0.0</td>\n",
       "    </tr>\n",
       "  </tbody>\n",
       "</table>\n",
       "<p>5 rows × 388 columns</p>\n",
       "</div>"
      ],
      "text/plain": [
       "                 ENSG00000120645  ENSG00000111181  ENSG00000171840  \\\n",
       "ENSG00000120645         1.000000         0.084977         0.013124   \n",
       "ENSG00000111181         0.084977         1.000000         0.013749   \n",
       "ENSG00000171840         0.013124         0.013749         1.000000   \n",
       "ENSG00000060237         0.013075         0.010570         0.139640   \n",
       "ENSG00000002016         0.006635         0.006832         0.013955   \n",
       "\n",
       "                 ENSG00000060237  ENSG00000002016  ENSG00000082805  \\\n",
       "ENSG00000120645         0.013075         0.006635         0.013251   \n",
       "ENSG00000111181         0.010570         0.006832         0.010852   \n",
       "ENSG00000171840         0.139640         0.013955         0.013478   \n",
       "ENSG00000060237         1.000000         0.218221         0.018323   \n",
       "ENSG00000002016         0.218221         1.000000         0.019884   \n",
       "\n",
       "                 ENSG00000111186  ENSG00000006831  ENSG00000151062  \\\n",
       "ENSG00000120645         0.008958         0.012192         0.011524   \n",
       "ENSG00000111181         0.007484         0.006804         0.010532   \n",
       "ENSG00000171840         0.014670         0.006544         0.011693   \n",
       "ENSG00000060237         0.011846         0.010363         0.010164   \n",
       "ENSG00000002016         0.009110         0.003982         0.007499   \n",
       "\n",
       "                 ENSG00000151065  ...  ENSG00000132341  ENSG00000198598  \\\n",
       "ENSG00000120645         0.007988  ...              0.0              0.0   \n",
       "ENSG00000111181         0.007208  ...              0.0              0.0   \n",
       "ENSG00000171840         0.008706  ...              0.0              0.0   \n",
       "ENSG00000060237         0.007227  ...              0.0              0.0   \n",
       "ENSG00000002016         0.007657  ...              0.0              0.0   \n",
       "\n",
       "                 ENSG00000177169  ENSG00000182870  ENSG00000177084  \\\n",
       "ENSG00000120645              0.0              0.0              0.0   \n",
       "ENSG00000111181              0.0              0.0              0.0   \n",
       "ENSG00000171840              0.0              0.0              0.0   \n",
       "ENSG00000060237              0.0              0.0              0.0   \n",
       "ENSG00000002016              0.0              0.0              0.0   \n",
       "\n",
       "                 ENSG00000176894  ENSG00000196458  ENSG00000198393  \\\n",
       "ENSG00000120645              0.0              0.0              0.0   \n",
       "ENSG00000111181              0.0              0.0              0.0   \n",
       "ENSG00000171840              0.0              0.0              0.0   \n",
       "ENSG00000060237              0.0              0.0              0.0   \n",
       "ENSG00000002016              0.0              0.0              0.0   \n",
       "\n",
       "                 ENSG00000196387  ENSG00000256223  \n",
       "ENSG00000120645              0.0              0.0  \n",
       "ENSG00000111181              0.0              0.0  \n",
       "ENSG00000171840              0.0              0.0  \n",
       "ENSG00000060237              0.0              0.0  \n",
       "ENSG00000002016              0.0              0.0  \n",
       "\n",
       "[5 rows x 388 columns]"
      ]
     },
     "execution_count": 31,
     "metadata": {},
     "output_type": "execute_result"
    }
   ],
   "source": [
    "gene_corrs_df.head()"
   ]
  },
  {
   "cell_type": "markdown",
   "id": "dad6603f-01c6-41fb-a6f6-241051207dd8",
   "metadata": {
    "papermill": {
     "duration": 2.302577,
     "end_time": "2023-08-30T04:09:04.955920",
     "exception": false,
     "start_time": "2023-08-30T04:09:02.653343",
     "status": "completed"
    },
    "tags": []
   },
   "source": [
    "## Standard checks and stats"
   ]
  },
  {
   "cell_type": "code",
   "execution_count": 32,
   "id": "286686af-1b7b-4440-8453-6bdcbd8de19c",
   "metadata": {
    "execution": {
     "iopub.execute_input": "2023-08-30T04:09:09.558344Z",
     "iopub.status.busy": "2023-08-30T04:09:09.557765Z",
     "iopub.status.idle": "2023-08-30T04:09:09.581293Z",
     "shell.execute_reply": "2023-08-30T04:09:09.580740Z"
    },
    "papermill": {
     "duration": 2.260655,
     "end_time": "2023-08-30T04:09:09.582350",
     "exception": false,
     "start_time": "2023-08-30T04:09:07.321695",
     "status": "completed"
    },
    "tags": []
   },
   "outputs": [],
   "source": [
    "assert not gene_corrs_df.isna().any(axis=None)"
   ]
  },
  {
   "cell_type": "code",
   "execution_count": 33,
   "id": "00583efc-7068-4270-ad1e-4a418e91db96",
   "metadata": {
    "execution": {
     "iopub.execute_input": "2023-08-30T04:09:14.301589Z",
     "iopub.status.busy": "2023-08-30T04:09:14.301182Z",
     "iopub.status.idle": "2023-08-30T04:09:14.330651Z",
     "shell.execute_reply": "2023-08-30T04:09:14.330059Z"
    },
    "papermill": {
     "duration": 2.383587,
     "end_time": "2023-08-30T04:09:14.331624",
     "exception": false,
     "start_time": "2023-08-30T04:09:11.948037",
     "status": "completed"
    },
    "tags": []
   },
   "outputs": [
    {
     "data": {
      "text/plain": [
       "0.0"
      ]
     },
     "metadata": {},
     "output_type": "display_data"
    }
   ],
   "source": [
    "_min_val = gene_corrs_df.min().min()\n",
    "display(_min_val)\n",
    "assert _min_val >= -0.05"
   ]
  },
  {
   "cell_type": "code",
   "execution_count": 34,
   "id": "d04fb2cf-1050-475b-b855-f5f7cc04092b",
   "metadata": {
    "execution": {
     "iopub.execute_input": "2023-08-30T04:09:19.189775Z",
     "iopub.status.busy": "2023-08-30T04:09:19.189238Z",
     "iopub.status.idle": "2023-08-30T04:09:19.217936Z",
     "shell.execute_reply": "2023-08-30T04:09:19.217349Z"
    },
    "papermill": {
     "duration": 2.379567,
     "end_time": "2023-08-30T04:09:19.218838",
     "exception": false,
     "start_time": "2023-08-30T04:09:16.839271",
     "status": "completed"
    },
    "tags": []
   },
   "outputs": [
    {
     "data": {
      "text/plain": [
       "1.0000000000000029"
      ]
     },
     "metadata": {},
     "output_type": "display_data"
    }
   ],
   "source": [
    "_max_val = gene_corrs_df.max().max()  # this captures the diagonal\n",
    "display(_max_val)\n",
    "assert _max_val <= 1.05"
   ]
  },
  {
   "cell_type": "code",
   "execution_count": 35,
   "id": "fe283586-c348-40e0-8841-f6d97bfb021c",
   "metadata": {
    "execution": {
     "iopub.execute_input": "2023-08-30T04:09:24.278687Z",
     "iopub.status.busy": "2023-08-30T04:09:24.278215Z",
     "iopub.status.idle": "2023-08-30T04:09:24.312754Z",
     "shell.execute_reply": "2023-08-30T04:09:24.312053Z"
    },
    "papermill": {
     "duration": 2.547148,
     "end_time": "2023-08-30T04:09:24.314078",
     "exception": false,
     "start_time": "2023-08-30T04:09:21.766930",
     "status": "completed"
    },
    "tags": []
   },
   "outputs": [
    {
     "data": {
      "text/plain": [
       "count    75466.000000\n",
       "mean         0.008288\n",
       "std          0.077780\n",
       "min          0.000000\n",
       "25%          0.000000\n",
       "50%          0.000000\n",
       "75%          0.000000\n",
       "max          1.000000\n",
       "dtype: float64"
      ]
     },
     "execution_count": 35,
     "metadata": {},
     "output_type": "execute_result"
    }
   ],
   "source": [
    "gene_corrs_flat.describe()"
   ]
  },
  {
   "cell_type": "code",
   "execution_count": 36,
   "id": "b3815678-0f93-4b35-897b-a9d047a2aa78",
   "metadata": {
    "execution": {
     "iopub.execute_input": "2023-08-30T04:09:29.591242Z",
     "iopub.status.busy": "2023-08-30T04:09:29.590645Z",
     "iopub.status.idle": "2023-08-30T04:09:29.618634Z",
     "shell.execute_reply": "2023-08-30T04:09:29.617923Z"
    },
    "papermill": {
     "duration": 2.625863,
     "end_time": "2023-08-30T04:09:29.619736",
     "exception": false,
     "start_time": "2023-08-30T04:09:26.993873",
     "status": "completed"
    },
    "tags": []
   },
   "outputs": [
    {
     "data": {
      "text/plain": [
       "0.00    0.000000\n",
       "0.05    0.000000\n",
       "0.10    0.000000\n",
       "0.15    0.000000\n",
       "0.20    0.000000\n",
       "0.25    0.000000\n",
       "0.30    0.000000\n",
       "0.35    0.000000\n",
       "0.40    0.000000\n",
       "0.45    0.000000\n",
       "0.50    0.000000\n",
       "0.55    0.000000\n",
       "0.60    0.000000\n",
       "0.65    0.000000\n",
       "0.70    0.000000\n",
       "0.75    0.000000\n",
       "0.80    0.000000\n",
       "0.85    0.000000\n",
       "0.90    0.003304\n",
       "0.95    0.007859\n",
       "dtype: float64"
      ]
     },
     "metadata": {},
     "output_type": "display_data"
    }
   ],
   "source": [
    "gene_corrs_quantiles = gene_corrs_flat.quantile(np.arange(0, 1, 0.05))\n",
    "display(gene_corrs_quantiles)"
   ]
  },
  {
   "cell_type": "markdown",
   "id": "87134509-b145-4a10-8bc9-b7e914c2b0fa",
   "metadata": {
    "papermill": {
     "duration": 2.389411,
     "end_time": "2023-08-30T04:09:34.464414",
     "exception": false,
     "start_time": "2023-08-30T04:09:32.075003",
     "status": "completed"
    },
    "tags": []
   },
   "source": [
    "## Positive definiteness"
   ]
  },
  {
   "cell_type": "code",
   "execution_count": 37,
   "id": "07d9a9a1-a4f7-48aa-b916-6d42a8cc6186",
   "metadata": {
    "execution": {
     "iopub.execute_input": "2023-08-30T04:09:39.315517Z",
     "iopub.status.busy": "2023-08-30T04:09:39.315006Z",
     "iopub.status.idle": "2023-08-30T04:09:39.398083Z",
     "shell.execute_reply": "2023-08-30T04:09:39.397664Z"
    },
    "papermill": {
     "duration": 2.416792,
     "end_time": "2023-08-30T04:09:39.398943",
     "exception": false,
     "start_time": "2023-08-30T04:09:36.982151",
     "status": "completed"
    },
    "tags": []
   },
   "outputs": [
    {
     "data": {
      "text/plain": [
       "1"
      ]
     },
     "metadata": {},
     "output_type": "display_data"
    },
    {
     "data": {
      "text/plain": [
       "array([-2.75320025e-16])"
      ]
     },
     "metadata": {},
     "output_type": "display_data"
    }
   ],
   "source": [
    "# print negative eigenvalues\n",
    "eigs = np.linalg.eigvals(gene_corrs_df.to_numpy())\n",
    "display(len(eigs[eigs < 0]))\n",
    "display(eigs[eigs < 0])"
   ]
  },
  {
   "cell_type": "code",
   "execution_count": 38,
   "id": "6e218436-c3c5-4028-8c94-a4fa6260efce",
   "metadata": {
    "execution": {
     "iopub.execute_input": "2023-08-30T04:09:44.282567Z",
     "iopub.status.busy": "2023-08-30T04:09:44.282207Z",
     "iopub.status.idle": "2023-08-30T04:09:44.304076Z",
     "shell.execute_reply": "2023-08-30T04:09:44.303430Z"
    },
    "papermill": {
     "duration": 2.424828,
     "end_time": "2023-08-30T04:09:44.304924",
     "exception": false,
     "start_time": "2023-08-30T04:09:41.880096",
     "status": "completed"
    },
    "tags": []
   },
   "outputs": [
    {
     "name": "stdout",
     "output_type": "stream",
     "text": [
      "Cholesky decomposition failed: Matrix is not positive definite\n"
     ]
    }
   ],
   "source": [
    "try:\n",
    "    chol_mat = np.linalg.cholesky(gene_corrs_df.to_numpy())\n",
    "    cov_inv = np.linalg.inv(chol_mat)\n",
    "    print(\"Works!\")\n",
    "except Exception as e:\n",
    "    print(f\"Cholesky decomposition failed: {str(e)}\")"
   ]
  },
  {
   "cell_type": "code",
   "execution_count": 39,
   "id": "dd8827fb-faf9-4c7c-9454-015e94752706",
   "metadata": {
    "execution": {
     "iopub.execute_input": "2023-08-30T04:09:48.993078Z",
     "iopub.status.busy": "2023-08-30T04:09:48.992729Z",
     "iopub.status.idle": "2023-08-30T04:09:49.024961Z",
     "shell.execute_reply": "2023-08-30T04:09:49.024437Z"
    },
    "papermill": {
     "duration": 2.297888,
     "end_time": "2023-08-30T04:09:49.025831",
     "exception": false,
     "start_time": "2023-08-30T04:09:46.727943",
     "status": "completed"
    },
    "tags": []
   },
   "outputs": [
    {
     "name": "stdout",
     "output_type": "stream",
     "text": [
      "Cholesky decomposition failed (statsmodels.GLS): Matrix is not positive definite\n"
     ]
    }
   ],
   "source": [
    "try:\n",
    "    # decomposition used by statsmodels.GLS\n",
    "    cholsigmainv = np.linalg.cholesky(np.linalg.inv(gene_corrs_df.to_numpy())).T\n",
    "    print(\"Works!\")\n",
    "except Exception as e:\n",
    "    print(f\"Cholesky decomposition failed (statsmodels.GLS): {str(e)}\")"
   ]
  },
  {
   "cell_type": "markdown",
   "id": "8e60a080-edb2-4e9c-b2ef-22961693200c",
   "metadata": {
    "papermill": {
     "duration": 2.318135,
     "end_time": "2023-08-30T04:09:53.840578",
     "exception": false,
     "start_time": "2023-08-30T04:09:51.522443",
     "status": "completed"
    },
    "tags": []
   },
   "source": [
    "## Plot: distribution"
   ]
  },
  {
   "cell_type": "code",
   "execution_count": 40,
   "id": "8301126b-a7d4-4744-9c7d-f0f86eb6f54c",
   "metadata": {
    "execution": {
     "iopub.execute_input": "2023-08-30T04:09:58.461225Z",
     "iopub.status.busy": "2023-08-30T04:09:58.460679Z",
     "iopub.status.idle": "2023-08-30T04:09:58.948331Z",
     "shell.execute_reply": "2023-08-30T04:09:58.947932Z"
    },
    "papermill": {
     "duration": 2.740509,
     "end_time": "2023-08-30T04:09:58.949769",
     "exception": false,
     "start_time": "2023-08-30T04:09:56.209260",
     "status": "completed"
    },
    "tags": []
   },
   "outputs": [
    {
     "data": {
      "image/png": "[encoded data removed]",
      "text/plain": [
       "<Figure size 700x700 with 1 Axes>"
      ]
     },
     "metadata": {},
     "output_type": "display_data"
    }
   ],
   "source": [
    "with sns.plotting_context(\"paper\", font_scale=1.5):\n",
    "    g = sns.displot(gene_corrs_flat, kde=True, height=7)\n",
    "    g.ax.set_title(\n",
    "        f\"Distribution of gene correlation values in chromosome {CHROMOSOME}\"\n",
    "    )"
   ]
  },
  {
   "cell_type": "markdown",
   "id": "cbd52bca-d878-4a2f-b684-5c83aa3038d4",
   "metadata": {
    "papermill": {
     "duration": 2.423876,
     "end_time": "2023-08-30T04:10:03.918340",
     "exception": false,
     "start_time": "2023-08-30T04:10:01.494464",
     "status": "completed"
    },
    "tags": []
   },
   "source": [
    "## Plot: heatmap"
   ]
  },
  {
   "cell_type": "code",
   "execution_count": 41,
   "id": "d03fe63a-c7b2-4fb9-a53c-db362ce843c9",
   "metadata": {
    "execution": {
     "iopub.execute_input": "2023-08-30T04:10:08.790149Z",
     "iopub.status.busy": "2023-08-30T04:10:08.789676Z",
     "iopub.status.idle": "2023-08-30T04:10:08.810467Z",
     "shell.execute_reply": "2023-08-30T04:10:08.810077Z"
    },
    "papermill": {
     "duration": 2.318608,
     "end_time": "2023-08-30T04:10:08.811382",
     "exception": false,
     "start_time": "2023-08-30T04:10:06.492774",
     "status": "completed"
    },
    "tags": []
   },
   "outputs": [
    {
     "data": {
      "text/plain": [
       "'0.0 / 0.05'"
      ]
     },
     "metadata": {},
     "output_type": "display_data"
    }
   ],
   "source": [
    "vmin_val = min(0.00, gene_corrs_quantiles[0.10])\n",
    "vmax_val = max(0.05, gene_corrs_quantiles[0.90])\n",
    "display(f\"{vmin_val} / {vmax_val}\")"
   ]
  },
  {
   "cell_type": "code",
   "execution_count": 42,
   "id": "dc41b70b-5bcc-4d9e-9f33-a22c4a94dab5",
   "metadata": {
    "execution": {
     "iopub.execute_input": "2023-08-30T04:10:13.404668Z",
     "iopub.status.busy": "2023-08-30T04:10:13.404404Z",
     "iopub.status.idle": "2023-08-30T04:10:13.682923Z",
     "shell.execute_reply": "2023-08-30T04:10:13.682428Z"
    },
    "papermill": {
     "duration": 2.539792,
     "end_time": "2023-08-30T04:10:13.684661",
     "exception": false,
     "start_time": "2023-08-30T04:10:11.144869",
     "status": "completed"
    },
    "tags": []
   },
   "outputs": [
    {
     "data": {
      "text/plain": [
       "Text(0.5, 1.0, 'Gene correlations in chromosome 12')"
      ]
     },
     "execution_count": 42,
     "metadata": {},
     "output_type": "execute_result"
    },
    {
     "data": {
      "image/png": "[encoded data removed]",
      "text/plain": [
       "<Figure size 1000x1000 with 2 Axes>"
      ]
     },
     "metadata": {},
     "output_type": "display_data"
    }
   ],
   "source": [
    "f, ax = plt.subplots(figsize=(10, 10))\n",
    "sns.heatmap(\n",
    "    gene_corrs_df,\n",
    "    xticklabels=False,\n",
    "    yticklabels=False,\n",
    "    square=True,\n",
    "    vmin=vmin_val,\n",
    "    vmax=vmax_val,\n",
    "    cmap=\"rocket_r\",\n",
    "    ax=ax,\n",
    ")\n",
    "ax.set_title(f\"Gene correlations in chromosome {CHROMOSOME}\")"
   ]
  },
  {
   "cell_type": "code",
   "execution_count": null,
   "id": "b25e3ead",
   "metadata": {
    "papermill": {
     "duration": 2.215929,
     "end_time": "2023-08-30T04:10:18.367214",
     "exception": false,
     "start_time": "2023-08-30T04:10:16.151285",
     "status": "completed"
    },
    "tags": []
   },
   "outputs": [],
   "source": []
  }
 ],
 "metadata": {
  "jupytext": {
   "cell_metadata_filter": "all,-execution,-papermill,-trusted",
   "formats": "ipynb,py//py:percent"
  },
  "kernelspec": {
   "display_name": "Python 3 (ipykernel)",
   "language": "python",
   "name": "python3"
  },
  "language_info": {
   "codemirror_mode": {
    "name": "ipython",
    "version": 3
   },
   "file_extension": ".py",
   "mimetype": "text/x-python",
   "name": "python",
   "nbconvert_exporter": "python",
   "pygments_lexer": "ipython3",
   "version": "3.10.6"
  },
  "papermill": {
   "default_parameters": {},
   "duration": 612.741323,
   "end_time": "2023-08-30T04:10:23.862182",
   "environment_variables": {},
   "exception": null,
   "input_path": "projects/chronotype/nbs/20_gene_corrs/jobs/05-gene_expr_correlations.ipynb",
   "output_path": "projects/chronotype/nbs/20_gene_corrs/jobs/../output/chronotype/05-gene_expr_correlations-chr12.run.ipynb",
   "parameters": {
    "CHROMOSOME": 12,
    "COHORT_NAME": "chronotype",
    "OUTPUT_DIR_BASE": "/opt/data/projects/chronotype/results/gls_phenoplier",
    "PHENOPLIER_NOTEBOOK_FILEPATH": "projects/chronotype/nbs/20_gene_corrs/jobs/05-gene_expr_correlations.ipynb"
   },
   "start_time": "2023-08-30T04:00:11.120859",
   "version": "2.2.2"
  }
 },
 "nbformat": 4,
 "nbformat_minor": 5
}
