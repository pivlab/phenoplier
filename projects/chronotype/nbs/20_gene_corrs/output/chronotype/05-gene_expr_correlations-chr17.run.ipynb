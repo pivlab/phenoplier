{
 "cells": [
  {
   "cell_type": "markdown",
   "id": "7a6632fb",
   "metadata": {
    "papermill": {
     "duration": 0.008902,
     "end_time": "2023-08-30T04:00:12.062621",
     "exception": false,
     "start_time": "2023-08-30T04:00:12.053719",
     "status": "completed"
    },
    "tags": []
   },
   "source": [
    "# Description"
   ]
  },
  {
   "cell_type": "markdown",
   "id": "7097c346",
   "metadata": {
    "papermill": {
     "duration": 0.008941,
     "end_time": "2023-08-30T04:00:12.080659",
     "exception": false,
     "start_time": "2023-08-30T04:00:12.071718",
     "status": "completed"
    },
    "tags": []
   },
   "source": [
    "This notebook computes predicted expression correlations between all genes in the MultiPLIER models.\n",
    "\n",
    "It has specicfic parameters for papermill (see under `Settings` below).\n",
    "\n",
    "This notebook should not be directly run. It is used by other notebooks."
   ]
  },
  {
   "cell_type": "markdown",
   "id": "c61d8427",
   "metadata": {
    "papermill": {
     "duration": 0.009173,
     "end_time": "2023-08-30T04:00:12.099316",
     "exception": false,
     "start_time": "2023-08-30T04:00:12.090143",
     "status": "completed"
    },
    "tags": []
   },
   "source": [
    "# Modules"
   ]
  },
  {
   "cell_type": "code",
   "execution_count": 1,
   "id": "bbc0234f",
   "metadata": {
    "execution": {
     "iopub.execute_input": "2023-08-30T04:00:12.129347Z",
     "iopub.status.busy": "2023-08-30T04:00:12.128598Z",
     "iopub.status.idle": "2023-08-30T04:00:12.150564Z",
     "shell.execute_reply": "2023-08-30T04:00:12.149901Z"
    },
    "papermill": {
     "duration": 0.039338,
     "end_time": "2023-08-30T04:00:12.152096",
     "exception": false,
     "start_time": "2023-08-30T04:00:12.112758",
     "status": "completed"
    },
    "tags": []
   },
   "outputs": [],
   "source": [
    "%load_ext autoreload\n",
    "%autoreload 2"
   ]
  },
  {
   "cell_type": "code",
   "execution_count": 2,
   "id": "1d5f5a59",
   "metadata": {
    "execution": {
     "iopub.execute_input": "2023-08-30T04:00:12.162320Z",
     "iopub.status.busy": "2023-08-30T04:00:12.161746Z",
     "iopub.status.idle": "2023-08-30T04:00:12.947333Z",
     "shell.execute_reply": "2023-08-30T04:00:12.946749Z"
    },
    "papermill": {
     "duration": 0.79233,
     "end_time": "2023-08-30T04:00:12.948897",
     "exception": false,
     "start_time": "2023-08-30T04:00:12.156567",
     "status": "completed"
    },
    "tags": []
   },
   "outputs": [],
   "source": [
    "from random import sample, seed\n",
    "import warnings\n",
    "from pathlib import Path\n",
    "import pickle\n",
    "import traceback\n",
    "\n",
    "import numpy as np\n",
    "from scipy.spatial.distance import squareform\n",
    "import pandas as pd\n",
    "from tqdm import tqdm\n",
    "import matplotlib.pyplot as plt\n",
    "import seaborn as sns\n",
    "\n",
    "import conf\n",
    "from entity import Gene"
   ]
  },
  {
   "cell_type": "markdown",
   "id": "1eac24b5",
   "metadata": {
    "papermill": {
     "duration": 0.007472,
     "end_time": "2023-08-30T04:00:12.964098",
     "exception": false,
     "start_time": "2023-08-30T04:00:12.956626",
     "status": "completed"
    },
    "tags": []
   },
   "source": [
    "# Settings"
   ]
  },
  {
   "cell_type": "code",
   "execution_count": 3,
   "id": "ca4560ba",
   "metadata": {
    "execution": {
     "iopub.execute_input": "2023-08-30T04:00:12.976672Z",
     "iopub.status.busy": "2023-08-30T04:00:12.976378Z",
     "iopub.status.idle": "2023-08-30T04:00:13.000505Z",
     "shell.execute_reply": "2023-08-30T04:00:13.000124Z"
    },
    "papermill": {
     "duration": 0.032063,
     "end_time": "2023-08-30T04:00:13.001920",
     "exception": false,
     "start_time": "2023-08-30T04:00:12.969857",
     "status": "completed"
    },
    "tags": [
     "parameters"
    ]
   },
   "outputs": [],
   "source": [
    "# a cohort name (it could be something like UK_BIOBANK, etc)\n",
    "COHORT_NAME = None\n",
    "\n",
    "# reference panel such as 1000G or GTEX_V8\n",
    "REFERENCE_PANEL = \"GTEX_V8\"\n",
    "\n",
    "# predictions models such as MASHR or ELASTIC_NET\n",
    "EQTL_MODEL = \"MASHR\"\n",
    "\n",
    "# this is the default value used in S-MultiXcan to select the\n",
    "# top principal components of the expression correlation matrix\n",
    "SMULTIXCAN_CONDITION_NUMBER = 30\n",
    "\n",
    "# specifies a single chromosome value\n",
    "CHROMOSOME = None\n",
    "\n",
    "# If True, computes the correlation between closeby genes only (see\n",
    "# entity.Gene.within_distance for more details). Otherwise, it computes\n",
    "# correlations for all genes in a chromosome\n",
    "COMPUTE_CORRELATIONS_WITHIN_DISTANCE = True\n",
    "\n",
    "# if True, then it will continue if a gene pair correlation fails,\n",
    "# printing the warning/error for debugging. If False, any warning/error\n",
    "# will be thrown\n",
    "DEBUG_MODE = False\n",
    "\n",
    "# output dir\n",
    "OUTPUT_DIR_BASE = None"
   ]
  },
  {
   "cell_type": "code",
   "execution_count": 4,
   "id": "34265dc7",
   "metadata": {
    "execution": {
     "iopub.execute_input": "2023-08-30T04:00:13.014961Z",
     "iopub.status.busy": "2023-08-30T04:00:13.014564Z",
     "iopub.status.idle": "2023-08-30T04:00:13.038817Z",
     "shell.execute_reply": "2023-08-30T04:00:13.038450Z"
    },
    "papermill": {
     "duration": 0.030364,
     "end_time": "2023-08-30T04:00:13.039815",
     "exception": false,
     "start_time": "2023-08-30T04:00:13.009451",
     "status": "completed"
    },
    "tags": [
     "injected-parameters"
    ]
   },
   "outputs": [],
   "source": [
    "# Parameters\n",
    "PHENOPLIER_NOTEBOOK_FILEPATH = (\n",
    "    \"projects/chronotype/nbs/20_gene_corrs/jobs/05-gene_expr_correlations.ipynb\"\n",
    ")\n",
    "COHORT_NAME = \"chronotype\"\n",
    "CHROMOSOME = 17\n",
    "OUTPUT_DIR_BASE = \"/opt/data/projects/chronotype/results/gls_phenoplier\"\n"
   ]
  },
  {
   "cell_type": "code",
   "execution_count": 5,
   "id": "3190631f-27fc-480f-b18e-571d580425a5",
   "metadata": {
    "execution": {
     "iopub.execute_input": "2023-08-30T04:00:13.049546Z",
     "iopub.status.busy": "2023-08-30T04:00:13.049286Z",
     "iopub.status.idle": "2023-08-30T04:00:13.072532Z",
     "shell.execute_reply": "2023-08-30T04:00:13.072154Z"
    },
    "papermill": {
     "duration": 0.029649,
     "end_time": "2023-08-30T04:00:13.073977",
     "exception": false,
     "start_time": "2023-08-30T04:00:13.044328",
     "status": "completed"
    },
    "tags": []
   },
   "outputs": [
    {
     "data": {
      "text/plain": [
       "'Cohort name: chronotype'"
      ]
     },
     "metadata": {},
     "output_type": "display_data"
    }
   ],
   "source": [
    "assert COHORT_NAME is not None and len(COHORT_NAME) > 0, \"A cohort name must be given\"\n",
    "\n",
    "COHORT_NAME = COHORT_NAME.lower()\n",
    "display(f\"Cohort name: {COHORT_NAME}\")"
   ]
  },
  {
   "cell_type": "code",
   "execution_count": 6,
   "id": "f53ba19b-0f93-4fa2-a047-63b375939d1a",
   "metadata": {
    "execution": {
     "iopub.execute_input": "2023-08-30T04:00:13.104067Z",
     "iopub.status.busy": "2023-08-30T04:00:13.103742Z",
     "iopub.status.idle": "2023-08-30T04:00:13.125719Z",
     "shell.execute_reply": "2023-08-30T04:00:13.125350Z"
    },
    "papermill": {
     "duration": 0.039316,
     "end_time": "2023-08-30T04:00:13.127166",
     "exception": false,
     "start_time": "2023-08-30T04:00:13.087850",
     "status": "completed"
    },
    "tags": []
   },
   "outputs": [
    {
     "data": {
      "text/plain": [
       "'Reference panel: GTEX_V8'"
      ]
     },
     "metadata": {},
     "output_type": "display_data"
    }
   ],
   "source": [
    "assert (\n",
    "    REFERENCE_PANEL is not None and len(REFERENCE_PANEL) > 0\n",
    "), \"A reference panel must be given\"\n",
    "\n",
    "display(f\"Reference panel: {REFERENCE_PANEL}\")"
   ]
  },
  {
   "cell_type": "code",
   "execution_count": 7,
   "id": "e024d130-c139-429a-9c6e-ccf149e297b0",
   "metadata": {
    "execution": {
     "iopub.execute_input": "2023-08-30T04:00:13.151807Z",
     "iopub.status.busy": "2023-08-30T04:00:13.151196Z",
     "iopub.status.idle": "2023-08-30T04:00:13.175181Z",
     "shell.execute_reply": "2023-08-30T04:00:13.174801Z"
    },
    "papermill": {
     "duration": 0.040562,
     "end_time": "2023-08-30T04:00:13.176583",
     "exception": false,
     "start_time": "2023-08-30T04:00:13.136021",
     "status": "completed"
    },
    "tags": []
   },
   "outputs": [
    {
     "data": {
      "text/plain": [
       "'eQTL model: MASHR) / mashr_'"
      ]
     },
     "metadata": {},
     "output_type": "display_data"
    }
   ],
   "source": [
    "assert (\n",
    "    EQTL_MODEL is not None and len(EQTL_MODEL) > 0\n",
    "), \"A prediction/eQTL model must be given\"\n",
    "\n",
    "EQTL_MODEL_FILES_PREFIX = conf.PHENOMEXCAN[\"PREDICTION_MODELS\"][f\"{EQTL_MODEL}_PREFIX\"]\n",
    "display(f\"eQTL model: {EQTL_MODEL}) / {EQTL_MODEL_FILES_PREFIX}\")"
   ]
  },
  {
   "cell_type": "code",
   "execution_count": 8,
   "id": "552a7f63-a18c-4d3e-bb6a-94f99b431291",
   "metadata": {
    "execution": {
     "iopub.execute_input": "2023-08-30T04:00:13.196018Z",
     "iopub.status.busy": "2023-08-30T04:00:13.195629Z",
     "iopub.status.idle": "2023-08-30T04:00:13.225436Z",
     "shell.execute_reply": "2023-08-30T04:00:13.225060Z"
    },
    "papermill": {
     "duration": 0.041205,
     "end_time": "2023-08-30T04:00:13.226874",
     "exception": false,
     "start_time": "2023-08-30T04:00:13.185669",
     "status": "completed"
    },
    "tags": []
   },
   "outputs": [
    {
     "data": {
      "text/plain": [
       "'S-MultiXcan condition number: 30'"
      ]
     },
     "metadata": {},
     "output_type": "display_data"
    }
   ],
   "source": [
    "assert (\n",
    "    SMULTIXCAN_CONDITION_NUMBER is not None and SMULTIXCAN_CONDITION_NUMBER > 0\n",
    "), \"The S-MultiXcan condition number (positive integer) must be given\"\n",
    "\n",
    "display(f\"S-MultiXcan condition number: {SMULTIXCAN_CONDITION_NUMBER}\")"
   ]
  },
  {
   "cell_type": "code",
   "execution_count": 9,
   "id": "f34a336f-548e-4afe-8955-90eaea4f42c6",
   "metadata": {
    "execution": {
     "iopub.execute_input": "2023-08-30T04:00:13.247819Z",
     "iopub.status.busy": "2023-08-30T04:00:13.247608Z",
     "iopub.status.idle": "2023-08-30T04:00:13.272252Z",
     "shell.execute_reply": "2023-08-30T04:00:13.271823Z"
    },
    "papermill": {
     "duration": 0.036987,
     "end_time": "2023-08-30T04:00:13.273685",
     "exception": false,
     "start_time": "2023-08-30T04:00:13.236698",
     "status": "completed"
    },
    "tags": []
   },
   "outputs": [
    {
     "data": {
      "text/plain": [
       "'Working on chromosome 17'"
      ]
     },
     "metadata": {},
     "output_type": "display_data"
    }
   ],
   "source": [
    "assert CHROMOSOME is not None and (\n",
    "    1 <= CHROMOSOME <= 22\n",
    "), \"You have to select one chromosome (format: number between 1 and 22)\"\n",
    "\n",
    "display(f\"Working on chromosome {CHROMOSOME}\")"
   ]
  },
  {
   "cell_type": "code",
   "execution_count": 10,
   "id": "ab8e96e8-06b5-4363-9dcd-dc4d78cc27f7",
   "metadata": {
    "execution": {
     "iopub.execute_input": "2023-08-30T04:00:13.294731Z",
     "iopub.status.busy": "2023-08-30T04:00:13.294438Z",
     "iopub.status.idle": "2023-08-30T04:00:13.334662Z",
     "shell.execute_reply": "2023-08-30T04:00:13.334018Z"
    },
    "papermill": {
     "duration": 0.052954,
     "end_time": "2023-08-30T04:00:13.336330",
     "exception": false,
     "start_time": "2023-08-30T04:00:13.283376",
     "status": "completed"
    },
    "tags": []
   },
   "outputs": [
    {
     "data": {
      "text/plain": [
       "'Compute correlation within distance True'"
      ]
     },
     "metadata": {},
     "output_type": "display_data"
    }
   ],
   "source": [
    "display(f\"Compute correlation within distance {COMPUTE_CORRELATIONS_WITHIN_DISTANCE}\")"
   ]
  },
  {
   "cell_type": "code",
   "execution_count": 11,
   "id": "b393b698-77e3-4ba2-8ac1-e14d51aa988f",
   "metadata": {
    "execution": {
     "iopub.execute_input": "2023-08-30T04:00:13.357303Z",
     "iopub.status.busy": "2023-08-30T04:00:13.356869Z",
     "iopub.status.idle": "2023-08-30T04:00:13.377313Z",
     "shell.execute_reply": "2023-08-30T04:00:13.376920Z"
    },
    "papermill": {
     "duration": 0.032628,
     "end_time": "2023-08-30T04:00:13.378954",
     "exception": false,
     "start_time": "2023-08-30T04:00:13.346326",
     "status": "completed"
    },
    "tags": []
   },
   "outputs": [
    {
     "data": {
      "text/plain": [
       "'Using output dir base: /opt/data/projects/chronotype/results/gls_phenoplier/gene_corrs/chronotype'"
      ]
     },
     "metadata": {},
     "output_type": "display_data"
    }
   ],
   "source": [
    "assert (\n",
    "    OUTPUT_DIR_BASE is not None and len(OUTPUT_DIR_BASE) > 0\n",
    "), \"Output directory path must be given\"\n",
    "\n",
    "OUTPUT_DIR_BASE = (Path(OUTPUT_DIR_BASE) / \"gene_corrs\" / COHORT_NAME).resolve()\n",
    "\n",
    "OUTPUT_DIR_BASE.mkdir(parents=True, exist_ok=True)\n",
    "\n",
    "display(f\"Using output dir base: {OUTPUT_DIR_BASE}\")"
   ]
  },
  {
   "cell_type": "markdown",
   "id": "d2ba085e",
   "metadata": {
    "papermill": {
     "duration": 0.010254,
     "end_time": "2023-08-30T04:00:13.399418",
     "exception": false,
     "start_time": "2023-08-30T04:00:13.389164",
     "status": "completed"
    },
    "tags": []
   },
   "source": [
    "# Load data"
   ]
  },
  {
   "cell_type": "markdown",
   "id": "7dcb8db7",
   "metadata": {
    "papermill": {
     "duration": 0.010432,
     "end_time": "2023-08-30T04:00:13.420554",
     "exception": false,
     "start_time": "2023-08-30T04:00:13.410122",
     "status": "completed"
    },
    "tags": []
   },
   "source": [
    "## GWAS variants"
   ]
  },
  {
   "cell_type": "code",
   "execution_count": 12,
   "id": "29434c4e-8cd3-4b9b-82e4-b5a251d9dd19",
   "metadata": {
    "execution": {
     "iopub.execute_input": "2023-08-30T04:00:13.443114Z",
     "iopub.status.busy": "2023-08-30T04:00:13.442739Z",
     "iopub.status.idle": "2023-08-30T04:00:18.351674Z",
     "shell.execute_reply": "2023-08-30T04:00:18.350993Z"
    },
    "papermill": {
     "duration": 4.922131,
     "end_time": "2023-08-30T04:00:18.353739",
     "exception": false,
     "start_time": "2023-08-30T04:00:13.431608",
     "status": "completed"
    },
    "tags": []
   },
   "outputs": [],
   "source": [
    "with open(OUTPUT_DIR_BASE / \"gwas_variant_ids.pkl\", \"rb\") as handle:\n",
    "    gwas_variants_ids_set = pickle.load(handle)"
   ]
  },
  {
   "cell_type": "code",
   "execution_count": 13,
   "id": "b9d9dec2-4a76-4bf9-bde2-e24c95acb8a0",
   "metadata": {
    "execution": {
     "iopub.execute_input": "2023-08-30T04:00:18.372056Z",
     "iopub.status.busy": "2023-08-30T04:00:18.371705Z",
     "iopub.status.idle": "2023-08-30T04:00:18.390185Z",
     "shell.execute_reply": "2023-08-30T04:00:18.389754Z"
    },
    "papermill": {
     "duration": 0.02954,
     "end_time": "2023-08-30T04:00:18.391909",
     "exception": false,
     "start_time": "2023-08-30T04:00:18.362369",
     "status": "completed"
    },
    "tags": []
   },
   "outputs": [
    {
     "data": {
      "text/plain": [
       "11737794"
      ]
     },
     "execution_count": 13,
     "metadata": {},
     "output_type": "execute_result"
    }
   ],
   "source": [
    "len(gwas_variants_ids_set)"
   ]
  },
  {
   "cell_type": "code",
   "execution_count": 14,
   "id": "4235b06a-6034-4ee4-a0a3-2ae35d122418",
   "metadata": {
    "execution": {
     "iopub.execute_input": "2023-08-30T04:00:18.410805Z",
     "iopub.status.busy": "2023-08-30T04:00:18.410452Z",
     "iopub.status.idle": "2023-08-30T04:00:20.678179Z",
     "shell.execute_reply": "2023-08-30T04:00:20.677497Z"
    },
    "papermill": {
     "duration": 2.278845,
     "end_time": "2023-08-30T04:00:20.679784",
     "exception": false,
     "start_time": "2023-08-30T04:00:18.400939",
     "status": "completed"
    },
    "tags": []
   },
   "outputs": [
    {
     "data": {
      "text/plain": [
       "['chr16_77772877_C_G_b38',\n",
       " 'chr8_63135796_T_A_b38',\n",
       " 'chr2_20006781_C_T_b38',\n",
       " 'chr12_132340375_A_G_b38',\n",
       " 'chr3_29729804_C_T_b38']"
      ]
     },
     "execution_count": 14,
     "metadata": {},
     "output_type": "execute_result"
    }
   ],
   "source": [
    "list(gwas_variants_ids_set)[:5]"
   ]
  },
  {
   "cell_type": "markdown",
   "id": "07866999-2305-41f9-a144-e69c9122c212",
   "metadata": {
    "papermill": {
     "duration": 0.008289,
     "end_time": "2023-08-30T04:00:20.696448",
     "exception": false,
     "start_time": "2023-08-30T04:00:20.688159",
     "status": "completed"
    },
    "tags": []
   },
   "source": [
    "## S-PrediXcan tissue models"
   ]
  },
  {
   "cell_type": "code",
   "execution_count": 15,
   "id": "780611d9-77c8-405f-90a4-f271f7b09397",
   "metadata": {
    "execution": {
     "iopub.execute_input": "2023-08-30T04:00:20.716405Z",
     "iopub.status.busy": "2023-08-30T04:00:20.715947Z",
     "iopub.status.idle": "2023-08-30T04:00:22.579504Z",
     "shell.execute_reply": "2023-08-30T04:00:22.578915Z"
    },
    "papermill": {
     "duration": 1.876065,
     "end_time": "2023-08-30T04:00:22.581231",
     "exception": false,
     "start_time": "2023-08-30T04:00:20.705166",
     "status": "completed"
    },
    "tags": []
   },
   "outputs": [],
   "source": [
    "spredixcan_genes_models = pd.read_pickle(OUTPUT_DIR_BASE / \"gene_tissues.pkl\")"
   ]
  },
  {
   "cell_type": "code",
   "execution_count": 16,
   "id": "726dd1f6-9557-4225-91fa-b3b879ea96e1",
   "metadata": {
    "execution": {
     "iopub.execute_input": "2023-08-30T04:00:22.602337Z",
     "iopub.status.busy": "2023-08-30T04:00:22.602121Z",
     "iopub.status.idle": "2023-08-30T04:00:22.620197Z",
     "shell.execute_reply": "2023-08-30T04:00:22.619894Z"
    },
    "papermill": {
     "duration": 0.030327,
     "end_time": "2023-08-30T04:00:22.621849",
     "exception": false,
     "start_time": "2023-08-30T04:00:22.591522",
     "status": "completed"
    },
    "tags": []
   },
   "outputs": [
    {
     "data": {
      "text/plain": [
       "(6445, 5)"
      ]
     },
     "execution_count": 16,
     "metadata": {},
     "output_type": "execute_result"
    }
   ],
   "source": [
    "spredixcan_genes_models.shape"
   ]
  },
  {
   "cell_type": "code",
   "execution_count": 17,
   "id": "944a1b48-222c-4eb0-b252-b9de2cbca215",
   "metadata": {
    "execution": {
     "iopub.execute_input": "2023-08-30T04:00:22.644056Z",
     "iopub.status.busy": "2023-08-30T04:00:22.643503Z",
     "iopub.status.idle": "2023-08-30T04:00:22.686248Z",
     "shell.execute_reply": "2023-08-30T04:00:22.685686Z"
    },
    "papermill": {
     "duration": 0.055369,
     "end_time": "2023-08-30T04:00:22.687319",
     "exception": false,
     "start_time": "2023-08-30T04:00:22.631950",
     "status": "completed"
    },
    "tags": []
   },
   "outputs": [
    {
     "data": {
      "text/html": [
       "<div>\n",
       "<style scoped>\n",
       "    .dataframe tbody tr th:only-of-type {\n",
       "        vertical-align: middle;\n",
       "    }\n",
       "\n",
       "    .dataframe tbody tr th {\n",
       "        vertical-align: top;\n",
       "    }\n",
       "\n",
       "    .dataframe thead th {\n",
       "        text-align: right;\n",
       "    }\n",
       "</style>\n",
       "<table border=\"1\" class=\"dataframe\">\n",
       "  <thead>\n",
       "    <tr style=\"text-align: right;\">\n",
       "      <th></th>\n",
       "      <th>gene_name</th>\n",
       "      <th>tissue</th>\n",
       "      <th>n_tissues</th>\n",
       "      <th>n_snps_used_sum</th>\n",
       "      <th>n_snps_in_model_sum</th>\n",
       "    </tr>\n",
       "    <tr>\n",
       "      <th>gene_id</th>\n",
       "      <th></th>\n",
       "      <th></th>\n",
       "      <th></th>\n",
       "      <th></th>\n",
       "      <th></th>\n",
       "    </tr>\n",
       "  </thead>\n",
       "  <tbody>\n",
       "    <tr>\n",
       "      <th>ENSG00000000419</th>\n",
       "      <td>DPM1</td>\n",
       "      <td>(Brain_Hypothalamus, Brain_Substantia_nigra)</td>\n",
       "      <td>2</td>\n",
       "      <td>2</td>\n",
       "      <td>2</td>\n",
       "    </tr>\n",
       "    <tr>\n",
       "      <th>ENSG00000000938</th>\n",
       "      <td>FGR</td>\n",
       "      <td>(Brain_Cerebellum, Brain_Hypothalamus, Colon_S...</td>\n",
       "      <td>36</td>\n",
       "      <td>40</td>\n",
       "      <td>40</td>\n",
       "    </tr>\n",
       "    <tr>\n",
       "      <th>ENSG00000000971</th>\n",
       "      <td>CFH</td>\n",
       "      <td>(Brain_Cerebellum, Heart_Atrial_Appendage, Sma...</td>\n",
       "      <td>34</td>\n",
       "      <td>44</td>\n",
       "      <td>44</td>\n",
       "    </tr>\n",
       "    <tr>\n",
       "      <th>ENSG00000001084</th>\n",
       "      <td>GCLC</td>\n",
       "      <td>(Brain_Cerebellum, Heart_Atrial_Appendage, Sma...</td>\n",
       "      <td>32</td>\n",
       "      <td>46</td>\n",
       "      <td>46</td>\n",
       "    </tr>\n",
       "    <tr>\n",
       "      <th>ENSG00000001167</th>\n",
       "      <td>NFYA</td>\n",
       "      <td>(Brain_Cerebellum, Heart_Atrial_Appendage, Bra...</td>\n",
       "      <td>40</td>\n",
       "      <td>47</td>\n",
       "      <td>48</td>\n",
       "    </tr>\n",
       "  </tbody>\n",
       "</table>\n",
       "</div>"
      ],
      "text/plain": [
       "                gene_name                                             tissue  \\\n",
       "gene_id                                                                        \n",
       "ENSG00000000419      DPM1       (Brain_Hypothalamus, Brain_Substantia_nigra)   \n",
       "ENSG00000000938       FGR  (Brain_Cerebellum, Brain_Hypothalamus, Colon_S...   \n",
       "ENSG00000000971       CFH  (Brain_Cerebellum, Heart_Atrial_Appendage, Sma...   \n",
       "ENSG00000001084      GCLC  (Brain_Cerebellum, Heart_Atrial_Appendage, Sma...   \n",
       "ENSG00000001167      NFYA  (Brain_Cerebellum, Heart_Atrial_Appendage, Bra...   \n",
       "\n",
       "                 n_tissues  n_snps_used_sum  n_snps_in_model_sum  \n",
       "gene_id                                                           \n",
       "ENSG00000000419          2                2                    2  \n",
       "ENSG00000000938         36               40                   40  \n",
       "ENSG00000000971         34               44                   44  \n",
       "ENSG00000001084         32               46                   46  \n",
       "ENSG00000001167         40               47                   48  "
      ]
     },
     "execution_count": 17,
     "metadata": {},
     "output_type": "execute_result"
    }
   ],
   "source": [
    "spredixcan_genes_models.head()"
   ]
  },
  {
   "cell_type": "code",
   "execution_count": 18,
   "id": "d1c11bb1-be0b-4f40-b360-633d6827109f",
   "metadata": {
    "execution": {
     "iopub.execute_input": "2023-08-30T04:00:22.705082Z",
     "iopub.status.busy": "2023-08-30T04:00:22.704505Z",
     "iopub.status.idle": "2023-08-30T04:00:22.729353Z",
     "shell.execute_reply": "2023-08-30T04:00:22.728948Z"
    },
    "papermill": {
     "duration": 0.036777,
     "end_time": "2023-08-30T04:00:22.730788",
     "exception": false,
     "start_time": "2023-08-30T04:00:22.694011",
     "status": "completed"
    },
    "tags": []
   },
   "outputs": [],
   "source": [
    "assert spredixcan_genes_models.index.is_unique"
   ]
  },
  {
   "cell_type": "markdown",
   "id": "a5b5092c-a13e-47c4-a92a-480fcc08f3ae",
   "metadata": {
    "papermill": {
     "duration": 0.007999,
     "end_time": "2023-08-30T04:00:22.747327",
     "exception": false,
     "start_time": "2023-08-30T04:00:22.739328",
     "status": "completed"
    },
    "tags": []
   },
   "source": [
    "## Gene info"
   ]
  },
  {
   "cell_type": "code",
   "execution_count": 19,
   "id": "7d6bb224-88e9-4358-ac10-43a41d92cdad",
   "metadata": {
    "execution": {
     "iopub.execute_input": "2023-08-30T04:00:22.759452Z",
     "iopub.status.busy": "2023-08-30T04:00:22.759015Z",
     "iopub.status.idle": "2023-08-30T04:00:22.779128Z",
     "shell.execute_reply": "2023-08-30T04:00:22.778540Z"
    },
    "papermill": {
     "duration": 0.027864,
     "end_time": "2023-08-30T04:00:22.780608",
     "exception": false,
     "start_time": "2023-08-30T04:00:22.752744",
     "status": "completed"
    },
    "tags": []
   },
   "outputs": [],
   "source": [
    "genes_info = pd.read_pickle(OUTPUT_DIR_BASE / \"genes_info.pkl\")"
   ]
  },
  {
   "cell_type": "code",
   "execution_count": 20,
   "id": "9e32abfa-546d-483e-8c18-d526e9e05903",
   "metadata": {
    "execution": {
     "iopub.execute_input": "2023-08-30T04:00:22.795050Z",
     "iopub.status.busy": "2023-08-30T04:00:22.794755Z",
     "iopub.status.idle": "2023-08-30T04:00:22.816270Z",
     "shell.execute_reply": "2023-08-30T04:00:22.815731Z"
    },
    "papermill": {
     "duration": 0.029242,
     "end_time": "2023-08-30T04:00:22.817398",
     "exception": false,
     "start_time": "2023-08-30T04:00:22.788156",
     "status": "completed"
    },
    "tags": []
   },
   "outputs": [
    {
     "data": {
      "text/plain": [
       "(6445, 7)"
      ]
     },
     "execution_count": 20,
     "metadata": {},
     "output_type": "execute_result"
    }
   ],
   "source": [
    "genes_info.shape"
   ]
  },
  {
   "cell_type": "code",
   "execution_count": 21,
   "id": "d16c3e92-85ec-468a-9a56-e25a9774a1cb",
   "metadata": {
    "execution": {
     "iopub.execute_input": "2023-08-30T04:00:22.835875Z",
     "iopub.status.busy": "2023-08-30T04:00:22.835521Z",
     "iopub.status.idle": "2023-08-30T04:00:22.866356Z",
     "shell.execute_reply": "2023-08-30T04:00:22.865842Z"
    },
    "papermill": {
     "duration": 0.041685,
     "end_time": "2023-08-30T04:00:22.867674",
     "exception": false,
     "start_time": "2023-08-30T04:00:22.825989",
     "status": "completed"
    },
    "tags": []
   },
   "outputs": [
    {
     "data": {
      "text/html": [
       "<div>\n",
       "<style scoped>\n",
       "    .dataframe tbody tr th:only-of-type {\n",
       "        vertical-align: middle;\n",
       "    }\n",
       "\n",
       "    .dataframe tbody tr th {\n",
       "        vertical-align: top;\n",
       "    }\n",
       "\n",
       "    .dataframe thead th {\n",
       "        text-align: right;\n",
       "    }\n",
       "</style>\n",
       "<table border=\"1\" class=\"dataframe\">\n",
       "  <thead>\n",
       "    <tr style=\"text-align: right;\">\n",
       "      <th></th>\n",
       "      <th>name</th>\n",
       "      <th>id</th>\n",
       "      <th>chr</th>\n",
       "      <th>band</th>\n",
       "      <th>start_position</th>\n",
       "      <th>end_position</th>\n",
       "      <th>gene_length</th>\n",
       "    </tr>\n",
       "  </thead>\n",
       "  <tbody>\n",
       "    <tr>\n",
       "      <th>0</th>\n",
       "      <td>DUT</td>\n",
       "      <td>ENSG00000128951</td>\n",
       "      <td>15</td>\n",
       "      <td>15q21.1</td>\n",
       "      <td>48331011</td>\n",
       "      <td>48343373</td>\n",
       "      <td>12362</td>\n",
       "    </tr>\n",
       "    <tr>\n",
       "      <th>1</th>\n",
       "      <td>NDUFA4</td>\n",
       "      <td>ENSG00000189043</td>\n",
       "      <td>7</td>\n",
       "      <td>7p21.3</td>\n",
       "      <td>10931943</td>\n",
       "      <td>10940153</td>\n",
       "      <td>8210</td>\n",
       "    </tr>\n",
       "    <tr>\n",
       "      <th>2</th>\n",
       "      <td>EPHB3</td>\n",
       "      <td>ENSG00000182580</td>\n",
       "      <td>3</td>\n",
       "      <td>3q27.1</td>\n",
       "      <td>184561785</td>\n",
       "      <td>184582408</td>\n",
       "      <td>20623</td>\n",
       "    </tr>\n",
       "    <tr>\n",
       "      <th>3</th>\n",
       "      <td>MYLK</td>\n",
       "      <td>ENSG00000065534</td>\n",
       "      <td>3</td>\n",
       "      <td>3q21.1</td>\n",
       "      <td>123610049</td>\n",
       "      <td>123884331</td>\n",
       "      <td>274282</td>\n",
       "    </tr>\n",
       "    <tr>\n",
       "      <th>4</th>\n",
       "      <td>SMPD4</td>\n",
       "      <td>ENSG00000136699</td>\n",
       "      <td>2</td>\n",
       "      <td>2q21.1</td>\n",
       "      <td>130151392</td>\n",
       "      <td>130182750</td>\n",
       "      <td>31358</td>\n",
       "    </tr>\n",
       "  </tbody>\n",
       "</table>\n",
       "</div>"
      ],
      "text/plain": [
       "     name               id  chr     band  start_position  end_position  \\\n",
       "0     DUT  ENSG00000128951   15  15q21.1        48331011      48343373   \n",
       "1  NDUFA4  ENSG00000189043    7   7p21.3        10931943      10940153   \n",
       "2   EPHB3  ENSG00000182580    3   3q27.1       184561785     184582408   \n",
       "3    MYLK  ENSG00000065534    3   3q21.1       123610049     123884331   \n",
       "4   SMPD4  ENSG00000136699    2   2q21.1       130151392     130182750   \n",
       "\n",
       "   gene_length  \n",
       "0        12362  \n",
       "1         8210  \n",
       "2        20623  \n",
       "3       274282  \n",
       "4        31358  "
      ]
     },
     "execution_count": 21,
     "metadata": {},
     "output_type": "execute_result"
    }
   ],
   "source": [
    "genes_info.head()"
   ]
  },
  {
   "cell_type": "markdown",
   "id": "d3843e06",
   "metadata": {
    "papermill": {
     "duration": 0.008886,
     "end_time": "2023-08-30T04:00:22.886092",
     "exception": false,
     "start_time": "2023-08-30T04:00:22.877206",
     "status": "completed"
    },
    "tags": []
   },
   "source": [
    "# Compute correlations"
   ]
  },
  {
   "cell_type": "code",
   "execution_count": 22,
   "id": "cb859c15-d1f3-4006-a74c-2b83c0db9611",
   "metadata": {
    "execution": {
     "iopub.execute_input": "2023-08-30T04:00:22.905745Z",
     "iopub.status.busy": "2023-08-30T04:00:22.905226Z",
     "iopub.status.idle": "2023-08-30T04:00:22.931410Z",
     "shell.execute_reply": "2023-08-30T04:00:22.930695Z"
    },
    "papermill": {
     "duration": 0.037636,
     "end_time": "2023-08-30T04:00:22.932685",
     "exception": false,
     "start_time": "2023-08-30T04:00:22.895049",
     "status": "completed"
    },
    "tags": []
   },
   "outputs": [
    {
     "data": {
      "text/plain": [
       "PosixPath('/opt/data/projects/chronotype/results/gls_phenoplier/gene_corrs/chronotype/by_chr/gene_corrs-chr17.pkl')"
      ]
     },
     "metadata": {},
     "output_type": "display_data"
    }
   ],
   "source": [
    "output_dir = OUTPUT_DIR_BASE / \"by_chr\"\n",
    "output_dir.mkdir(exist_ok=True, parents=True)\n",
    "output_file = output_dir / f\"gene_corrs-chr{CHROMOSOME}.pkl\"\n",
    "display(output_file)"
   ]
  },
  {
   "cell_type": "code",
   "execution_count": 23,
   "id": "aa674fe4-6794-4eed-98fa-32b39d1d4ace",
   "metadata": {
    "execution": {
     "iopub.execute_input": "2023-08-30T04:00:22.950519Z",
     "iopub.status.busy": "2023-08-30T04:00:22.949934Z",
     "iopub.status.idle": "2023-08-30T04:00:22.976072Z",
     "shell.execute_reply": "2023-08-30T04:00:22.975356Z"
    },
    "papermill": {
     "duration": 0.03675,
     "end_time": "2023-08-30T04:00:22.977595",
     "exception": false,
     "start_time": "2023-08-30T04:00:22.940845",
     "status": "completed"
    },
    "tags": []
   },
   "outputs": [],
   "source": [
    "warnings.filterwarnings(\"error\")"
   ]
  },
  {
   "cell_type": "code",
   "execution_count": 24,
   "id": "44d5450b-3baf-43f1-9e2e-4b06f1a785f8",
   "metadata": {
    "execution": {
     "iopub.execute_input": "2023-08-30T04:00:22.995667Z",
     "iopub.status.busy": "2023-08-30T04:00:22.995181Z",
     "iopub.status.idle": "2023-08-30T04:00:23.015596Z",
     "shell.execute_reply": "2023-08-30T04:00:23.015070Z"
    },
    "papermill": {
     "duration": 0.031074,
     "end_time": "2023-08-30T04:00:23.017093",
     "exception": false,
     "start_time": "2023-08-30T04:00:22.986019",
     "status": "completed"
    },
    "tags": []
   },
   "outputs": [],
   "source": [
    "# standard checks\n",
    "all_chrs = genes_info[\"chr\"].dropna().unique()\n",
    "assert all_chrs.shape[0] == 22\n",
    "\n",
    "# select chromosome given by the user\n",
    "assert CHROMOSOME in all_chrs"
   ]
  },
  {
   "cell_type": "code",
   "execution_count": 25,
   "id": "2d7c043c-92a7-4d35-991b-fa69ac1e0268",
   "metadata": {
    "execution": {
     "iopub.execute_input": "2023-08-30T04:00:23.035138Z",
     "iopub.status.busy": "2023-08-30T04:00:23.034849Z",
     "iopub.status.idle": "2023-08-30T04:00:23.053747Z",
     "shell.execute_reply": "2023-08-30T04:00:23.053328Z"
    },
    "papermill": {
     "duration": 0.029153,
     "end_time": "2023-08-30T04:00:23.054687",
     "exception": false,
     "start_time": "2023-08-30T04:00:23.025534",
     "status": "completed"
    },
    "tags": []
   },
   "outputs": [
    {
     "name": "stdout",
     "output_type": "stream",
     "text": [
      "Number of genes in chromosome: 410\n"
     ]
    }
   ],
   "source": [
    "# run only on the chromosome specified\n",
    "all_chrs = [CHROMOSOME]\n",
    "genes_chr = genes_info[genes_info[\"chr\"] == CHROMOSOME]\n",
    "\n",
    "# For testing purposes\n",
    "# genes_chr = genes_chr.sample(n=20)\n",
    "\n",
    "print(f\"Number of genes in chromosome: {genes_chr.shape[0]}\", flush=True)"
   ]
  },
  {
   "cell_type": "code",
   "execution_count": 26,
   "id": "916015d8-2979-46d3-a9b9-1cf5a0932c6a",
   "metadata": {
    "execution": {
     "iopub.execute_input": "2023-08-30T04:00:23.075307Z",
     "iopub.status.busy": "2023-08-30T04:00:23.074625Z",
     "iopub.status.idle": "2023-08-30T04:00:23.107810Z",
     "shell.execute_reply": "2023-08-30T04:00:23.107051Z"
    },
    "papermill": {
     "duration": 0.046212,
     "end_time": "2023-08-30T04:00:23.109526",
     "exception": false,
     "start_time": "2023-08-30T04:00:23.063314",
     "status": "completed"
    },
    "tags": []
   },
   "outputs": [],
   "source": [
    "# sort genes by starting position to make visualizations better later\n",
    "genes_chr = genes_chr.sort_values(\"start_position\")"
   ]
  },
  {
   "cell_type": "code",
   "execution_count": 27,
   "id": "a38aa74a-8ad3-47f6-8ef9-56be0e011774",
   "metadata": {
    "execution": {
     "iopub.execute_input": "2023-08-30T04:00:23.124675Z",
     "iopub.status.busy": "2023-08-30T04:00:23.124427Z",
     "iopub.status.idle": "2023-08-30T04:00:23.146142Z",
     "shell.execute_reply": "2023-08-30T04:00:23.145498Z"
    },
    "papermill": {
     "duration": 0.030665,
     "end_time": "2023-08-30T04:00:23.147820",
     "exception": false,
     "start_time": "2023-08-30T04:00:23.117155",
     "status": "completed"
    },
    "tags": []
   },
   "outputs": [],
   "source": [
    "gene_chr_objs = [Gene(ensembl_id=gene_id) for gene_id in genes_chr[\"id\"]]"
   ]
  },
  {
   "cell_type": "code",
   "execution_count": 28,
   "id": "570f974f-13c3-42b6-ad3a-ce99ca885c1a",
   "metadata": {
    "execution": {
     "iopub.execute_input": "2023-08-30T04:00:23.169332Z",
     "iopub.status.busy": "2023-08-30T04:00:23.168931Z",
     "iopub.status.idle": "2023-08-30T04:00:23.190432Z",
     "shell.execute_reply": "2023-08-30T04:00:23.190024Z"
    },
    "papermill": {
     "duration": 0.03338,
     "end_time": "2023-08-30T04:00:23.191366",
     "exception": false,
     "start_time": "2023-08-30T04:00:23.157986",
     "status": "completed"
    },
    "tags": []
   },
   "outputs": [
    {
     "name": "stdout",
     "output_type": "stream",
     "text": [
      "Number of gene combinations: 84255\n"
     ]
    }
   ],
   "source": [
    "n = len(gene_chr_objs)\n",
    "# diagonal elements + upper triangular matrix\n",
    "n_comb = n + int(n * (n - 1) / 2.0)\n",
    "print(f\"Number of gene combinations: {n_comb}\", flush=True)"
   ]
  },
  {
   "cell_type": "code",
   "execution_count": 29,
   "id": "cdbb90a1",
   "metadata": {
    "execution": {
     "iopub.execute_input": "2023-08-30T04:00:23.206168Z",
     "iopub.status.busy": "2023-08-30T04:00:23.205468Z",
     "iopub.status.idle": "2023-08-30T04:10:58.137952Z",
     "shell.execute_reply": "2023-08-30T04:10:58.137524Z"
    },
    "papermill": {
     "duration": 634.941898,
     "end_time": "2023-08-30T04:10:58.139309",
     "exception": false,
     "start_time": "2023-08-30T04:00:23.197411",
     "status": "completed"
    },
    "tags": []
   },
   "outputs": [
    {
     "name": "stderr",
     "output_type": "stream",
     "text": [
      "ENSG00000175711 / ENSG00000175711: 100%|█████████████████████| 84255/84255 [10:34<00:00, 132.71it/s]\n"
     ]
    },
    {
     "data": {
      "text/plain": [
       "PosixPath('/opt/data/projects/chronotype/results/gls_phenoplier/gene_corrs/chronotype/by_chr/gene_corrs-chr17.pkl')"
      ]
     },
     "metadata": {},
     "output_type": "display_data"
    }
   ],
   "source": [
    "gene_corrs = []\n",
    "gene_corrs_data = np.full(\n",
    "    (n, n),\n",
    "    np.nan,\n",
    "    dtype=np.float64,\n",
    ")\n",
    "\n",
    "i = 0\n",
    "with tqdm(ncols=100, total=n_comb) as pbar:\n",
    "    for gene1_idx in range(0, len(gene_chr_objs)):\n",
    "        gene1_obj = gene_chr_objs[gene1_idx]\n",
    "        gene1_tissues = spredixcan_genes_models.loc[gene1_obj.ensembl_id, \"tissue\"]\n",
    "\n",
    "        for gene2_idx in range(gene1_idx, len(gene_chr_objs)):\n",
    "            gene2_obj = gene_chr_objs[gene2_idx]\n",
    "            gene2_tissues = spredixcan_genes_models.loc[gene2_obj.ensembl_id, \"tissue\"]\n",
    "\n",
    "            pbar.set_description(f\"{gene1_obj.ensembl_id} / {gene2_obj.ensembl_id}\")\n",
    "\n",
    "            try:\n",
    "                r = gene1_obj.get_ssm_correlation(\n",
    "                    other_gene=gene2_obj,\n",
    "                    tissues=gene1_tissues,\n",
    "                    other_tissues=gene2_tissues,\n",
    "                    snps_subset=gwas_variants_ids_set,\n",
    "                    condition_number=SMULTIXCAN_CONDITION_NUMBER,\n",
    "                    reference_panel=REFERENCE_PANEL,\n",
    "                    model_type=EQTL_MODEL,\n",
    "                    use_within_distance=COMPUTE_CORRELATIONS_WITHIN_DISTANCE,\n",
    "                )\n",
    "\n",
    "                if r is None:\n",
    "                    # if r is None, it's very likely because:\n",
    "                    #  * one of the genes has no prediction models\n",
    "                    #  * all the SNPs predictors for the gene are not present in the reference\n",
    "                    #    panel\n",
    "\n",
    "                    r = 0.0\n",
    "\n",
    "                gene_corrs.append(r)\n",
    "\n",
    "                gene_corrs_data[gene1_idx, gene2_idx] = r\n",
    "                gene_corrs_data[gene2_idx, gene1_idx] = r\n",
    "            except Warning as e:\n",
    "                if not DEBUG_MODE:\n",
    "                    raise e\n",
    "\n",
    "                print(\n",
    "                    f\"RuntimeWarning for genes {gene1_obj.ensembl_id} and {gene2_obj.ensembl_id}\",\n",
    "                    flush=True,\n",
    "                )\n",
    "                print(traceback.format_exc(), flush=True)\n",
    "\n",
    "                gene_corrs.append(np.nan)\n",
    "            except Exception as e:\n",
    "                if not DEBUG_MODE:\n",
    "                    raise e\n",
    "\n",
    "                print(\n",
    "                    f\"Exception for genes {gene1_obj.ensembl_id} and {gene2_obj.ensembl_id}\",\n",
    "                    flush=True,\n",
    "                )\n",
    "                print(traceback.format_exc(), flush=True)\n",
    "\n",
    "                gene_corrs.append(np.nan)\n",
    "\n",
    "            pbar.update(1)\n",
    "\n",
    "# create a pandas series\n",
    "gene_corrs_flat = pd.Series(gene_corrs)\n",
    "\n",
    "# save\n",
    "# FIXME: consider saving only the condenced matrix here. See here for\n",
    "# more details: https://github.com/greenelab/phenoplier/pull/38#discussion_r634600813\n",
    "# gene_corrs_data = squareform(np.array(gene_corrs, dtype=np.float64))\n",
    "# np.fill_diagonal(gene_corrs_data, 1.0)\n",
    "\n",
    "gene_chr_ids = [g.ensembl_id for g in gene_chr_objs]\n",
    "gene_corrs_df = pd.DataFrame(\n",
    "    data=gene_corrs_data,\n",
    "    index=gene_chr_ids,\n",
    "    columns=gene_chr_ids,\n",
    ")\n",
    "\n",
    "output_dir.mkdir(exist_ok=True, parents=True)\n",
    "display(output_file)\n",
    "\n",
    "gene_corrs_df.to_pickle(output_file)"
   ]
  },
  {
   "cell_type": "markdown",
   "id": "faa67b51-5373-470f-aa72-2ded53fa6dfe",
   "metadata": {
    "papermill": {
     "duration": 2.544435,
     "end_time": "2023-08-30T04:11:03.343921",
     "exception": false,
     "start_time": "2023-08-30T04:11:00.799486",
     "status": "completed"
    },
    "tags": []
   },
   "source": [
    "# Testing"
   ]
  },
  {
   "cell_type": "code",
   "execution_count": 30,
   "id": "14f7d046-4b55-4896-a56b-990127bcc388",
   "metadata": {
    "execution": {
     "iopub.execute_input": "2023-08-30T04:11:08.550385Z",
     "iopub.status.busy": "2023-08-30T04:11:08.549987Z",
     "iopub.status.idle": "2023-08-30T04:11:08.574238Z",
     "shell.execute_reply": "2023-08-30T04:11:08.573666Z"
    },
    "papermill": {
     "duration": 2.596739,
     "end_time": "2023-08-30T04:11:08.575152",
     "exception": false,
     "start_time": "2023-08-30T04:11:05.978413",
     "status": "completed"
    },
    "tags": []
   },
   "outputs": [
    {
     "data": {
      "text/plain": [
       "(410, 410)"
      ]
     },
     "execution_count": 30,
     "metadata": {},
     "output_type": "execute_result"
    }
   ],
   "source": [
    "gene_corrs_df.shape"
   ]
  },
  {
   "cell_type": "code",
   "execution_count": 31,
   "id": "c7d15414-3297-4537-a7c6-7588c0baeb75",
   "metadata": {
    "execution": {
     "iopub.execute_input": "2023-08-30T04:11:13.655865Z",
     "iopub.status.busy": "2023-08-30T04:11:13.655465Z",
     "iopub.status.idle": "2023-08-30T04:11:13.696203Z",
     "shell.execute_reply": "2023-08-30T04:11:13.695672Z"
    },
    "papermill": {
     "duration": 2.601788,
     "end_time": "2023-08-30T04:11:13.697103",
     "exception": false,
     "start_time": "2023-08-30T04:11:11.095315",
     "status": "completed"
    },
    "tags": []
   },
   "outputs": [
    {
     "data": {
      "text/html": [
       "<div>\n",
       "<style scoped>\n",
       "    .dataframe tbody tr th:only-of-type {\n",
       "        vertical-align: middle;\n",
       "    }\n",
       "\n",
       "    .dataframe tbody tr th {\n",
       "        vertical-align: top;\n",
       "    }\n",
       "\n",
       "    .dataframe thead th {\n",
       "        text-align: right;\n",
       "    }\n",
       "</style>\n",
       "<table border=\"1\" class=\"dataframe\">\n",
       "  <thead>\n",
       "    <tr style=\"text-align: right;\">\n",
       "      <th></th>\n",
       "      <th>ENSG00000141252</th>\n",
       "      <th>ENSG00000179409</th>\n",
       "      <th>ENSG00000177370</th>\n",
       "      <th>ENSG00000159842</th>\n",
       "      <th>ENSG00000108953</th>\n",
       "      <th>ENSG00000167193</th>\n",
       "      <th>ENSG00000132376</th>\n",
       "      <th>ENSG00000174238</th>\n",
       "      <th>ENSG00000167703</th>\n",
       "      <th>ENSG00000074660</th>\n",
       "      <th>...</th>\n",
       "      <th>ENSG00000169733</th>\n",
       "      <th>ENSG00000169710</th>\n",
       "      <th>ENSG00000141526</th>\n",
       "      <th>ENSG00000141551</th>\n",
       "      <th>ENSG00000173762</th>\n",
       "      <th>ENSG00000141574</th>\n",
       "      <th>ENSG00000141562</th>\n",
       "      <th>ENSG00000141542</th>\n",
       "      <th>ENSG00000141556</th>\n",
       "      <th>ENSG00000175711</th>\n",
       "    </tr>\n",
       "  </thead>\n",
       "  <tbody>\n",
       "    <tr>\n",
       "      <th>ENSG00000141252</th>\n",
       "      <td>1.000000</td>\n",
       "      <td>0.366593</td>\n",
       "      <td>0.009199</td>\n",
       "      <td>0.008510</td>\n",
       "      <td>0.006988</td>\n",
       "      <td>0.003772</td>\n",
       "      <td>0.005305</td>\n",
       "      <td>0.003306</td>\n",
       "      <td>0.011344</td>\n",
       "      <td>0.005720</td>\n",
       "      <td>...</td>\n",
       "      <td>0.0</td>\n",
       "      <td>0.0</td>\n",
       "      <td>0.0</td>\n",
       "      <td>0.0</td>\n",
       "      <td>0.0</td>\n",
       "      <td>0.0</td>\n",
       "      <td>0.0</td>\n",
       "      <td>0.0</td>\n",
       "      <td>0.0</td>\n",
       "      <td>0.0</td>\n",
       "    </tr>\n",
       "    <tr>\n",
       "      <th>ENSG00000179409</th>\n",
       "      <td>0.366593</td>\n",
       "      <td>1.000000</td>\n",
       "      <td>0.007981</td>\n",
       "      <td>0.016424</td>\n",
       "      <td>0.009880</td>\n",
       "      <td>0.005939</td>\n",
       "      <td>0.009246</td>\n",
       "      <td>0.011575</td>\n",
       "      <td>0.013349</td>\n",
       "      <td>0.007921</td>\n",
       "      <td>...</td>\n",
       "      <td>0.0</td>\n",
       "      <td>0.0</td>\n",
       "      <td>0.0</td>\n",
       "      <td>0.0</td>\n",
       "      <td>0.0</td>\n",
       "      <td>0.0</td>\n",
       "      <td>0.0</td>\n",
       "      <td>0.0</td>\n",
       "      <td>0.0</td>\n",
       "      <td>0.0</td>\n",
       "    </tr>\n",
       "    <tr>\n",
       "      <th>ENSG00000177370</th>\n",
       "      <td>0.009199</td>\n",
       "      <td>0.007981</td>\n",
       "      <td>1.000000</td>\n",
       "      <td>0.021239</td>\n",
       "      <td>0.008112</td>\n",
       "      <td>0.007595</td>\n",
       "      <td>0.002450</td>\n",
       "      <td>0.003111</td>\n",
       "      <td>0.009910</td>\n",
       "      <td>0.004425</td>\n",
       "      <td>...</td>\n",
       "      <td>0.0</td>\n",
       "      <td>0.0</td>\n",
       "      <td>0.0</td>\n",
       "      <td>0.0</td>\n",
       "      <td>0.0</td>\n",
       "      <td>0.0</td>\n",
       "      <td>0.0</td>\n",
       "      <td>0.0</td>\n",
       "      <td>0.0</td>\n",
       "      <td>0.0</td>\n",
       "    </tr>\n",
       "    <tr>\n",
       "      <th>ENSG00000159842</th>\n",
       "      <td>0.008510</td>\n",
       "      <td>0.016424</td>\n",
       "      <td>0.021239</td>\n",
       "      <td>1.000000</td>\n",
       "      <td>0.015599</td>\n",
       "      <td>0.010144</td>\n",
       "      <td>0.008676</td>\n",
       "      <td>0.016335</td>\n",
       "      <td>0.019629</td>\n",
       "      <td>0.010601</td>\n",
       "      <td>...</td>\n",
       "      <td>0.0</td>\n",
       "      <td>0.0</td>\n",
       "      <td>0.0</td>\n",
       "      <td>0.0</td>\n",
       "      <td>0.0</td>\n",
       "      <td>0.0</td>\n",
       "      <td>0.0</td>\n",
       "      <td>0.0</td>\n",
       "      <td>0.0</td>\n",
       "      <td>0.0</td>\n",
       "    </tr>\n",
       "    <tr>\n",
       "      <th>ENSG00000108953</th>\n",
       "      <td>0.006988</td>\n",
       "      <td>0.009880</td>\n",
       "      <td>0.008112</td>\n",
       "      <td>0.015599</td>\n",
       "      <td>1.000000</td>\n",
       "      <td>0.155160</td>\n",
       "      <td>0.064426</td>\n",
       "      <td>0.019107</td>\n",
       "      <td>0.018311</td>\n",
       "      <td>0.021128</td>\n",
       "      <td>...</td>\n",
       "      <td>0.0</td>\n",
       "      <td>0.0</td>\n",
       "      <td>0.0</td>\n",
       "      <td>0.0</td>\n",
       "      <td>0.0</td>\n",
       "      <td>0.0</td>\n",
       "      <td>0.0</td>\n",
       "      <td>0.0</td>\n",
       "      <td>0.0</td>\n",
       "      <td>0.0</td>\n",
       "    </tr>\n",
       "  </tbody>\n",
       "</table>\n",
       "<p>5 rows × 410 columns</p>\n",
       "</div>"
      ],
      "text/plain": [
       "                 ENSG00000141252  ENSG00000179409  ENSG00000177370  \\\n",
       "ENSG00000141252         1.000000         0.366593         0.009199   \n",
       "ENSG00000179409         0.366593         1.000000         0.007981   \n",
       "ENSG00000177370         0.009199         0.007981         1.000000   \n",
       "ENSG00000159842         0.008510         0.016424         0.021239   \n",
       "ENSG00000108953         0.006988         0.009880         0.008112   \n",
       "\n",
       "                 ENSG00000159842  ENSG00000108953  ENSG00000167193  \\\n",
       "ENSG00000141252         0.008510         0.006988         0.003772   \n",
       "ENSG00000179409         0.016424         0.009880         0.005939   \n",
       "ENSG00000177370         0.021239         0.008112         0.007595   \n",
       "ENSG00000159842         1.000000         0.015599         0.010144   \n",
       "ENSG00000108953         0.015599         1.000000         0.155160   \n",
       "\n",
       "                 ENSG00000132376  ENSG00000174238  ENSG00000167703  \\\n",
       "ENSG00000141252         0.005305         0.003306         0.011344   \n",
       "ENSG00000179409         0.009246         0.011575         0.013349   \n",
       "ENSG00000177370         0.002450         0.003111         0.009910   \n",
       "ENSG00000159842         0.008676         0.016335         0.019629   \n",
       "ENSG00000108953         0.064426         0.019107         0.018311   \n",
       "\n",
       "                 ENSG00000074660  ...  ENSG00000169733  ENSG00000169710  \\\n",
       "ENSG00000141252         0.005720  ...              0.0              0.0   \n",
       "ENSG00000179409         0.007921  ...              0.0              0.0   \n",
       "ENSG00000177370         0.004425  ...              0.0              0.0   \n",
       "ENSG00000159842         0.010601  ...              0.0              0.0   \n",
       "ENSG00000108953         0.021128  ...              0.0              0.0   \n",
       "\n",
       "                 ENSG00000141526  ENSG00000141551  ENSG00000173762  \\\n",
       "ENSG00000141252              0.0              0.0              0.0   \n",
       "ENSG00000179409              0.0              0.0              0.0   \n",
       "ENSG00000177370              0.0              0.0              0.0   \n",
       "ENSG00000159842              0.0              0.0              0.0   \n",
       "ENSG00000108953              0.0              0.0              0.0   \n",
       "\n",
       "                 ENSG00000141574  ENSG00000141562  ENSG00000141542  \\\n",
       "ENSG00000141252              0.0              0.0              0.0   \n",
       "ENSG00000179409              0.0              0.0              0.0   \n",
       "ENSG00000177370              0.0              0.0              0.0   \n",
       "ENSG00000159842              0.0              0.0              0.0   \n",
       "ENSG00000108953              0.0              0.0              0.0   \n",
       "\n",
       "                 ENSG00000141556  ENSG00000175711  \n",
       "ENSG00000141252              0.0              0.0  \n",
       "ENSG00000179409              0.0              0.0  \n",
       "ENSG00000177370              0.0              0.0  \n",
       "ENSG00000159842              0.0              0.0  \n",
       "ENSG00000108953              0.0              0.0  \n",
       "\n",
       "[5 rows x 410 columns]"
      ]
     },
     "execution_count": 31,
     "metadata": {},
     "output_type": "execute_result"
    }
   ],
   "source": [
    "gene_corrs_df.head()"
   ]
  },
  {
   "cell_type": "markdown",
   "id": "dad6603f-01c6-41fb-a6f6-241051207dd8",
   "metadata": {
    "papermill": {
     "duration": 2.543293,
     "end_time": "2023-08-30T04:11:18.857761",
     "exception": false,
     "start_time": "2023-08-30T04:11:16.314468",
     "status": "completed"
    },
    "tags": []
   },
   "source": [
    "## Standard checks and stats"
   ]
  },
  {
   "cell_type": "code",
   "execution_count": 32,
   "id": "286686af-1b7b-4440-8453-6bdcbd8de19c",
   "metadata": {
    "execution": {
     "iopub.execute_input": "2023-08-30T04:11:24.101002Z",
     "iopub.status.busy": "2023-08-30T04:11:24.100579Z",
     "iopub.status.idle": "2023-08-30T04:11:24.123798Z",
     "shell.execute_reply": "2023-08-30T04:11:24.123241Z"
    },
    "papermill": {
     "duration": 2.629924,
     "end_time": "2023-08-30T04:11:24.124814",
     "exception": false,
     "start_time": "2023-08-30T04:11:21.494890",
     "status": "completed"
    },
    "tags": []
   },
   "outputs": [],
   "source": [
    "assert not gene_corrs_df.isna().any(axis=None)"
   ]
  },
  {
   "cell_type": "code",
   "execution_count": 33,
   "id": "00583efc-7068-4270-ad1e-4a418e91db96",
   "metadata": {
    "execution": {
     "iopub.execute_input": "2023-08-30T04:11:29.250004Z",
     "iopub.status.busy": "2023-08-30T04:11:29.249635Z",
     "iopub.status.idle": "2023-08-30T04:11:29.270981Z",
     "shell.execute_reply": "2023-08-30T04:11:29.270485Z"
    },
    "papermill": {
     "duration": 2.594467,
     "end_time": "2023-08-30T04:11:29.271838",
     "exception": false,
     "start_time": "2023-08-30T04:11:26.677371",
     "status": "completed"
    },
    "tags": []
   },
   "outputs": [
    {
     "data": {
      "text/plain": [
       "0.0"
      ]
     },
     "metadata": {},
     "output_type": "display_data"
    }
   ],
   "source": [
    "_min_val = gene_corrs_df.min().min()\n",
    "display(_min_val)\n",
    "assert _min_val >= -0.05"
   ]
  },
  {
   "cell_type": "code",
   "execution_count": 34,
   "id": "d04fb2cf-1050-475b-b855-f5f7cc04092b",
   "metadata": {
    "execution": {
     "iopub.execute_input": "2023-08-30T04:11:34.374009Z",
     "iopub.status.busy": "2023-08-30T04:11:34.373629Z",
     "iopub.status.idle": "2023-08-30T04:11:34.397125Z",
     "shell.execute_reply": "2023-08-30T04:11:34.396594Z"
    },
    "papermill": {
     "duration": 2.57263,
     "end_time": "2023-08-30T04:11:34.397990",
     "exception": false,
     "start_time": "2023-08-30T04:11:31.825360",
     "status": "completed"
    },
    "tags": []
   },
   "outputs": [
    {
     "data": {
      "text/plain": [
       "1.0000000000000033"
      ]
     },
     "metadata": {},
     "output_type": "display_data"
    }
   ],
   "source": [
    "_max_val = gene_corrs_df.max().max()  # this captures the diagonal\n",
    "display(_max_val)\n",
    "assert _max_val <= 1.05"
   ]
  },
  {
   "cell_type": "code",
   "execution_count": 35,
   "id": "fe283586-c348-40e0-8841-f6d97bfb021c",
   "metadata": {
    "execution": {
     "iopub.execute_input": "2023-08-30T04:11:39.496897Z",
     "iopub.status.busy": "2023-08-30T04:11:39.496635Z",
     "iopub.status.idle": "2023-08-30T04:11:39.523347Z",
     "shell.execute_reply": "2023-08-30T04:11:39.522645Z"
    },
    "papermill": {
     "duration": 2.566413,
     "end_time": "2023-08-30T04:11:39.524259",
     "exception": false,
     "start_time": "2023-08-30T04:11:36.957846",
     "status": "completed"
    },
    "tags": []
   },
   "outputs": [
    {
     "data": {
      "text/plain": [
       "count    84255.000000\n",
       "mean         0.008081\n",
       "std          0.075464\n",
       "min          0.000000\n",
       "25%          0.000000\n",
       "50%          0.000000\n",
       "75%          0.000000\n",
       "max          1.000000\n",
       "dtype: float64"
      ]
     },
     "execution_count": 35,
     "metadata": {},
     "output_type": "execute_result"
    }
   ],
   "source": [
    "gene_corrs_flat.describe()"
   ]
  },
  {
   "cell_type": "code",
   "execution_count": 36,
   "id": "b3815678-0f93-4b35-897b-a9d047a2aa78",
   "metadata": {
    "execution": {
     "iopub.execute_input": "2023-08-30T04:11:44.720415Z",
     "iopub.status.busy": "2023-08-30T04:11:44.719985Z",
     "iopub.status.idle": "2023-08-30T04:11:44.750994Z",
     "shell.execute_reply": "2023-08-30T04:11:44.750418Z"
    },
    "papermill": {
     "duration": 2.648315,
     "end_time": "2023-08-30T04:11:44.751875",
     "exception": false,
     "start_time": "2023-08-30T04:11:42.103560",
     "status": "completed"
    },
    "tags": []
   },
   "outputs": [
    {
     "data": {
      "text/plain": [
       "0.00    0.000000\n",
       "0.05    0.000000\n",
       "0.10    0.000000\n",
       "0.15    0.000000\n",
       "0.20    0.000000\n",
       "0.25    0.000000\n",
       "0.30    0.000000\n",
       "0.35    0.000000\n",
       "0.40    0.000000\n",
       "0.45    0.000000\n",
       "0.50    0.000000\n",
       "0.55    0.000000\n",
       "0.60    0.000000\n",
       "0.65    0.000000\n",
       "0.70    0.000000\n",
       "0.75    0.000000\n",
       "0.80    0.000000\n",
       "0.85    0.000000\n",
       "0.90    0.004536\n",
       "0.95    0.008629\n",
       "dtype: float64"
      ]
     },
     "metadata": {},
     "output_type": "display_data"
    }
   ],
   "source": [
    "gene_corrs_quantiles = gene_corrs_flat.quantile(np.arange(0, 1, 0.05))\n",
    "display(gene_corrs_quantiles)"
   ]
  },
  {
   "cell_type": "markdown",
   "id": "87134509-b145-4a10-8bc9-b7e914c2b0fa",
   "metadata": {
    "papermill": {
     "duration": 2.573373,
     "end_time": "2023-08-30T04:11:49.789091",
     "exception": false,
     "start_time": "2023-08-30T04:11:47.215718",
     "status": "completed"
    },
    "tags": []
   },
   "source": [
    "## Positive definiteness"
   ]
  },
  {
   "cell_type": "code",
   "execution_count": 37,
   "id": "07d9a9a1-a4f7-48aa-b916-6d42a8cc6186",
   "metadata": {
    "execution": {
     "iopub.execute_input": "2023-08-30T04:11:54.850294Z",
     "iopub.status.busy": "2023-08-30T04:11:54.849879Z",
     "iopub.status.idle": "2023-08-30T04:11:54.920058Z",
     "shell.execute_reply": "2023-08-30T04:11:54.919543Z"
    },
    "papermill": {
     "duration": 2.57893,
     "end_time": "2023-08-30T04:11:54.920879",
     "exception": false,
     "start_time": "2023-08-30T04:11:52.341949",
     "status": "completed"
    },
    "tags": []
   },
   "outputs": [
    {
     "data": {
      "text/plain": [
       "0"
      ]
     },
     "metadata": {},
     "output_type": "display_data"
    },
    {
     "data": {
      "text/plain": [
       "array([], dtype=float64)"
      ]
     },
     "metadata": {},
     "output_type": "display_data"
    }
   ],
   "source": [
    "# print negative eigenvalues\n",
    "eigs = np.linalg.eigvals(gene_corrs_df.to_numpy())\n",
    "display(len(eigs[eigs < 0]))\n",
    "display(eigs[eigs < 0])"
   ]
  },
  {
   "cell_type": "code",
   "execution_count": 38,
   "id": "6e218436-c3c5-4028-8c94-a4fa6260efce",
   "metadata": {
    "execution": {
     "iopub.execute_input": "2023-08-30T04:11:59.964850Z",
     "iopub.status.busy": "2023-08-30T04:11:59.964431Z",
     "iopub.status.idle": "2023-08-30T04:12:00.001054Z",
     "shell.execute_reply": "2023-08-30T04:12:00.000513Z"
    },
    "papermill": {
     "duration": 2.545678,
     "end_time": "2023-08-30T04:12:00.001949",
     "exception": false,
     "start_time": "2023-08-30T04:11:57.456271",
     "status": "completed"
    },
    "tags": []
   },
   "outputs": [
    {
     "name": "stdout",
     "output_type": "stream",
     "text": [
      "Works!\n"
     ]
    }
   ],
   "source": [
    "try:\n",
    "    chol_mat = np.linalg.cholesky(gene_corrs_df.to_numpy())\n",
    "    cov_inv = np.linalg.inv(chol_mat)\n",
    "    print(\"Works!\")\n",
    "except Exception as e:\n",
    "    print(f\"Cholesky decomposition failed: {str(e)}\")"
   ]
  },
  {
   "cell_type": "code",
   "execution_count": 39,
   "id": "dd8827fb-faf9-4c7c-9454-015e94752706",
   "metadata": {
    "execution": {
     "iopub.execute_input": "2023-08-30T04:12:05.018202Z",
     "iopub.status.busy": "2023-08-30T04:12:05.017732Z",
     "iopub.status.idle": "2023-08-30T04:12:05.053118Z",
     "shell.execute_reply": "2023-08-30T04:12:05.052577Z"
    },
    "papermill": {
     "duration": 2.533562,
     "end_time": "2023-08-30T04:12:05.053972",
     "exception": false,
     "start_time": "2023-08-30T04:12:02.520410",
     "status": "completed"
    },
    "tags": []
   },
   "outputs": [
    {
     "name": "stdout",
     "output_type": "stream",
     "text": [
      "Works!\n"
     ]
    }
   ],
   "source": [
    "try:\n",
    "    # decomposition used by statsmodels.GLS\n",
    "    cholsigmainv = np.linalg.cholesky(np.linalg.inv(gene_corrs_df.to_numpy())).T\n",
    "    print(\"Works!\")\n",
    "except Exception as e:\n",
    "    print(f\"Cholesky decomposition failed (statsmodels.GLS): {str(e)}\")"
   ]
  },
  {
   "cell_type": "markdown",
   "id": "8e60a080-edb2-4e9c-b2ef-22961693200c",
   "metadata": {
    "papermill": {
     "duration": 2.525055,
     "end_time": "2023-08-30T04:12:10.041789",
     "exception": false,
     "start_time": "2023-08-30T04:12:07.516734",
     "status": "completed"
    },
    "tags": []
   },
   "source": [
    "## Plot: distribution"
   ]
  },
  {
   "cell_type": "code",
   "execution_count": 40,
   "id": "8301126b-a7d4-4744-9c7d-f0f86eb6f54c",
   "metadata": {
    "execution": {
     "iopub.execute_input": "2023-08-30T04:12:15.042520Z",
     "iopub.status.busy": "2023-08-30T04:12:15.042162Z",
     "iopub.status.idle": "2023-08-30T04:12:15.528642Z",
     "shell.execute_reply": "2023-08-30T04:12:15.528201Z"
    },
    "papermill": {
     "duration": 2.921666,
     "end_time": "2023-08-30T04:12:15.529483",
     "exception": false,
     "start_time": "2023-08-30T04:12:12.607817",
     "status": "completed"
    },
    "tags": []
   },
   "outputs": [
    {
     "data": {
      "image/png": "[encoded data removed]",
      "text/plain": [
       "<Figure size 700x700 with 1 Axes>"
      ]
     },
     "metadata": {},
     "output_type": "display_data"
    }
   ],
   "source": [
    "with sns.plotting_context(\"paper\", font_scale=1.5):\n",
    "    g = sns.displot(gene_corrs_flat, kde=True, height=7)\n",
    "    g.ax.set_title(\n",
    "        f\"Distribution of gene correlation values in chromosome {CHROMOSOME}\"\n",
    "    )"
   ]
  },
  {
   "cell_type": "markdown",
   "id": "cbd52bca-d878-4a2f-b684-5c83aa3038d4",
   "metadata": {
    "papermill": {
     "duration": 2.574284,
     "end_time": "2023-08-30T04:12:20.676155",
     "exception": false,
     "start_time": "2023-08-30T04:12:18.101871",
     "status": "completed"
    },
    "tags": []
   },
   "source": [
    "## Plot: heatmap"
   ]
  },
  {
   "cell_type": "code",
   "execution_count": 41,
   "id": "d03fe63a-c7b2-4fb9-a53c-db362ce843c9",
   "metadata": {
    "execution": {
     "iopub.execute_input": "2023-08-30T04:12:25.671063Z",
     "iopub.status.busy": "2023-08-30T04:12:25.670752Z",
     "iopub.status.idle": "2023-08-30T04:12:25.691106Z",
     "shell.execute_reply": "2023-08-30T04:12:25.690593Z"
    },
    "papermill": {
     "duration": 2.521824,
     "end_time": "2023-08-30T04:12:25.691959",
     "exception": false,
     "start_time": "2023-08-30T04:12:23.170135",
     "status": "completed"
    },
    "tags": []
   },
   "outputs": [
    {
     "data": {
      "text/plain": [
       "'0.0 / 0.05'"
      ]
     },
     "metadata": {},
     "output_type": "display_data"
    }
   ],
   "source": [
    "vmin_val = min(0.00, gene_corrs_quantiles[0.10])\n",
    "vmax_val = max(0.05, gene_corrs_quantiles[0.90])\n",
    "display(f\"{vmin_val} / {vmax_val}\")"
   ]
  },
  {
   "cell_type": "code",
   "execution_count": 42,
   "id": "dc41b70b-5bcc-4d9e-9f33-a22c4a94dab5",
   "metadata": {
    "execution": {
     "iopub.execute_input": "2023-08-30T04:12:30.704695Z",
     "iopub.status.busy": "2023-08-30T04:12:30.704255Z",
     "iopub.status.idle": "2023-08-30T04:12:31.012692Z",
     "shell.execute_reply": "2023-08-30T04:12:31.012272Z"
    },
    "papermill": {
     "duration": 2.818436,
     "end_time": "2023-08-30T04:12:31.015053",
     "exception": false,
     "start_time": "2023-08-30T04:12:28.196617",
     "status": "completed"
    },
    "tags": []
   },
   "outputs": [
    {
     "data": {
      "text/plain": [
       "Text(0.5, 1.0, 'Gene correlations in chromosome 17')"
      ]
     },
     "execution_count": 42,
     "metadata": {},
     "output_type": "execute_result"
    },
    {
     "data": {
      "image/png": "[encoded data removed]",
      "text/plain": [
       "<Figure size 1000x1000 with 2 Axes>"
      ]
     },
     "metadata": {},
     "output_type": "display_data"
    }
   ],
   "source": [
    "f, ax = plt.subplots(figsize=(10, 10))\n",
    "sns.heatmap(\n",
    "    gene_corrs_df,\n",
    "    xticklabels=False,\n",
    "    yticklabels=False,\n",
    "    square=True,\n",
    "    vmin=vmin_val,\n",
    "    vmax=vmax_val,\n",
    "    cmap=\"rocket_r\",\n",
    "    ax=ax,\n",
    ")\n",
    "ax.set_title(f\"Gene correlations in chromosome {CHROMOSOME}\")"
   ]
  },
  {
   "cell_type": "code",
   "execution_count": null,
   "id": "b25e3ead",
   "metadata": {
    "papermill": {
     "duration": 2.517891,
     "end_time": "2023-08-30T04:12:36.136422",
     "exception": false,
     "start_time": "2023-08-30T04:12:33.618531",
     "status": "completed"
    },
    "tags": []
   },
   "outputs": [],
   "source": []
  }
 ],
 "metadata": {
  "jupytext": {
   "cell_metadata_filter": "all,-execution,-papermill,-trusted",
   "formats": "ipynb,py//py:percent"
  },
  "kernelspec": {
   "display_name": "Python 3 (ipykernel)",
   "language": "python",
   "name": "python3"
  },
  "language_info": {
   "codemirror_mode": {
    "name": "ipython",
    "version": 3
   },
   "file_extension": ".py",
   "mimetype": "text/x-python",
   "name": "python",
   "nbconvert_exporter": "python",
   "pygments_lexer": "ipython3",
   "version": "3.10.6"
  },
  "papermill": {
   "default_parameters": {},
   "duration": 751.106789,
   "end_time": "2023-08-30T04:12:42.230346",
   "environment_variables": {},
   "exception": null,
   "input_path": "projects/chronotype/nbs/20_gene_corrs/jobs/05-gene_expr_correlations.ipynb",
   "output_path": "projects/chronotype/nbs/20_gene_corrs/jobs/../output/chronotype/05-gene_expr_correlations-chr17.run.ipynb",
   "parameters": {
    "CHROMOSOME": 17,
    "COHORT_NAME": "chronotype",
    "OUTPUT_DIR_BASE": "/opt/data/projects/chronotype/results/gls_phenoplier",
    "PHENOPLIER_NOTEBOOK_FILEPATH": "projects/chronotype/nbs/20_gene_corrs/jobs/05-gene_expr_correlations.ipynb"
   },
   "start_time": "2023-08-30T04:00:11.123557",
   "version": "2.2.2"
  }
 },
 "nbformat": 4,
 "nbformat_minor": 5
}
