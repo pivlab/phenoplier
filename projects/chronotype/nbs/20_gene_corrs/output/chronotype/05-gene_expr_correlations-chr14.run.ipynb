{
 "cells": [
  {
   "cell_type": "markdown",
   "id": "7a6632fb",
   "metadata": {
    "papermill": {
     "duration": 0.008716,
     "end_time": "2023-08-30T04:00:12.045618",
     "exception": false,
     "start_time": "2023-08-30T04:00:12.036902",
     "status": "completed"
    },
    "tags": []
   },
   "source": [
    "# Description"
   ]
  },
  {
   "cell_type": "markdown",
   "id": "7097c346",
   "metadata": {
    "papermill": {
     "duration": 0.013028,
     "end_time": "2023-08-30T04:00:12.066787",
     "exception": false,
     "start_time": "2023-08-30T04:00:12.053759",
     "status": "completed"
    },
    "tags": []
   },
   "source": [
    "This notebook computes predicted expression correlations between all genes in the MultiPLIER models.\n",
    "\n",
    "It has specicfic parameters for papermill (see under `Settings` below).\n",
    "\n",
    "This notebook should not be directly run. It is used by other notebooks."
   ]
  },
  {
   "cell_type": "markdown",
   "id": "c61d8427",
   "metadata": {
    "papermill": {
     "duration": 0.010861,
     "end_time": "2023-08-30T04:00:12.088607",
     "exception": false,
     "start_time": "2023-08-30T04:00:12.077746",
     "status": "completed"
    },
    "tags": []
   },
   "source": [
    "# Modules"
   ]
  },
  {
   "cell_type": "code",
   "execution_count": 1,
   "id": "bbc0234f",
   "metadata": {
    "execution": {
     "iopub.execute_input": "2023-08-30T04:00:12.112996Z",
     "iopub.status.busy": "2023-08-30T04:00:12.112533Z",
     "iopub.status.idle": "2023-08-30T04:00:12.141469Z",
     "shell.execute_reply": "2023-08-30T04:00:12.140738Z"
    },
    "papermill": {
     "duration": 0.042998,
     "end_time": "2023-08-30T04:00:12.143407",
     "exception": false,
     "start_time": "2023-08-30T04:00:12.100409",
     "status": "completed"
    },
    "tags": []
   },
   "outputs": [],
   "source": [
    "%load_ext autoreload\n",
    "%autoreload 2"
   ]
  },
  {
   "cell_type": "code",
   "execution_count": 2,
   "id": "1d5f5a59",
   "metadata": {
    "execution": {
     "iopub.execute_input": "2023-08-30T04:00:12.167339Z",
     "iopub.status.busy": "2023-08-30T04:00:12.166821Z",
     "iopub.status.idle": "2023-08-30T04:00:12.940753Z",
     "shell.execute_reply": "2023-08-30T04:00:12.940333Z"
    },
    "papermill": {
     "duration": 0.787512,
     "end_time": "2023-08-30T04:00:12.942162",
     "exception": false,
     "start_time": "2023-08-30T04:00:12.154650",
     "status": "completed"
    },
    "tags": []
   },
   "outputs": [],
   "source": [
    "from random import sample, seed\n",
    "import warnings\n",
    "from pathlib import Path\n",
    "import pickle\n",
    "import traceback\n",
    "\n",
    "import numpy as np\n",
    "from scipy.spatial.distance import squareform\n",
    "import pandas as pd\n",
    "from tqdm import tqdm\n",
    "import matplotlib.pyplot as plt\n",
    "import seaborn as sns\n",
    "\n",
    "import conf\n",
    "from entity import Gene"
   ]
  },
  {
   "cell_type": "markdown",
   "id": "1eac24b5",
   "metadata": {
    "papermill": {
     "duration": 0.006363,
     "end_time": "2023-08-30T04:00:12.955751",
     "exception": false,
     "start_time": "2023-08-30T04:00:12.949388",
     "status": "completed"
    },
    "tags": []
   },
   "source": [
    "# Settings"
   ]
  },
  {
   "cell_type": "code",
   "execution_count": 3,
   "id": "ca4560ba",
   "metadata": {
    "execution": {
     "iopub.execute_input": "2023-08-30T04:00:12.965187Z",
     "iopub.status.busy": "2023-08-30T04:00:12.964992Z",
     "iopub.status.idle": "2023-08-30T04:00:12.984769Z",
     "shell.execute_reply": "2023-08-30T04:00:12.984370Z"
    },
    "papermill": {
     "duration": 0.025771,
     "end_time": "2023-08-30T04:00:12.985861",
     "exception": false,
     "start_time": "2023-08-30T04:00:12.960090",
     "status": "completed"
    },
    "tags": [
     "parameters"
    ]
   },
   "outputs": [],
   "source": [
    "# a cohort name (it could be something like UK_BIOBANK, etc)\n",
    "COHORT_NAME = None\n",
    "\n",
    "# reference panel such as 1000G or GTEX_V8\n",
    "REFERENCE_PANEL = \"GTEX_V8\"\n",
    "\n",
    "# predictions models such as MASHR or ELASTIC_NET\n",
    "EQTL_MODEL = \"MASHR\"\n",
    "\n",
    "# this is the default value used in S-MultiXcan to select the\n",
    "# top principal components of the expression correlation matrix\n",
    "SMULTIXCAN_CONDITION_NUMBER = 30\n",
    "\n",
    "# specifies a single chromosome value\n",
    "CHROMOSOME = None\n",
    "\n",
    "# If True, computes the correlation between closeby genes only (see\n",
    "# entity.Gene.within_distance for more details). Otherwise, it computes\n",
    "# correlations for all genes in a chromosome\n",
    "COMPUTE_CORRELATIONS_WITHIN_DISTANCE = True\n",
    "\n",
    "# if True, then it will continue if a gene pair correlation fails,\n",
    "# printing the warning/error for debugging. If False, any warning/error\n",
    "# will be thrown\n",
    "DEBUG_MODE = False\n",
    "\n",
    "# output dir\n",
    "OUTPUT_DIR_BASE = None"
   ]
  },
  {
   "cell_type": "code",
   "execution_count": 4,
   "id": "a6acfd26",
   "metadata": {
    "execution": {
     "iopub.execute_input": "2023-08-30T04:00:12.995461Z",
     "iopub.status.busy": "2023-08-30T04:00:12.995309Z",
     "iopub.status.idle": "2023-08-30T04:00:13.016877Z",
     "shell.execute_reply": "2023-08-30T04:00:13.016211Z"
    },
    "papermill": {
     "duration": 0.027598,
     "end_time": "2023-08-30T04:00:13.018013",
     "exception": false,
     "start_time": "2023-08-30T04:00:12.990415",
     "status": "completed"
    },
    "tags": [
     "injected-parameters"
    ]
   },
   "outputs": [],
   "source": [
    "# Parameters\n",
    "PHENOPLIER_NOTEBOOK_FILEPATH = (\n",
    "    \"projects/chronotype/nbs/20_gene_corrs/jobs/05-gene_expr_correlations.ipynb\"\n",
    ")\n",
    "COHORT_NAME = \"chronotype\"\n",
    "CHROMOSOME = 14\n",
    "OUTPUT_DIR_BASE = \"/opt/data/projects/chronotype/results/gls_phenoplier\"\n"
   ]
  },
  {
   "cell_type": "code",
   "execution_count": 5,
   "id": "3190631f-27fc-480f-b18e-571d580425a5",
   "metadata": {
    "execution": {
     "iopub.execute_input": "2023-08-30T04:00:13.028204Z",
     "iopub.status.busy": "2023-08-30T04:00:13.028003Z",
     "iopub.status.idle": "2023-08-30T04:00:13.056124Z",
     "shell.execute_reply": "2023-08-30T04:00:13.055583Z"
    },
    "papermill": {
     "duration": 0.034539,
     "end_time": "2023-08-30T04:00:13.057294",
     "exception": false,
     "start_time": "2023-08-30T04:00:13.022755",
     "status": "completed"
    },
    "tags": []
   },
   "outputs": [
    {
     "data": {
      "text/plain": [
       "'Cohort name: chronotype'"
      ]
     },
     "metadata": {},
     "output_type": "display_data"
    }
   ],
   "source": [
    "assert COHORT_NAME is not None and len(COHORT_NAME) > 0, \"A cohort name must be given\"\n",
    "\n",
    "COHORT_NAME = COHORT_NAME.lower()\n",
    "display(f\"Cohort name: {COHORT_NAME}\")"
   ]
  },
  {
   "cell_type": "code",
   "execution_count": 6,
   "id": "f53ba19b-0f93-4fa2-a047-63b375939d1a",
   "metadata": {
    "execution": {
     "iopub.execute_input": "2023-08-30T04:00:13.073037Z",
     "iopub.status.busy": "2023-08-30T04:00:13.072820Z",
     "iopub.status.idle": "2023-08-30T04:00:13.099917Z",
     "shell.execute_reply": "2023-08-30T04:00:13.099316Z"
    },
    "papermill": {
     "duration": 0.035445,
     "end_time": "2023-08-30T04:00:13.101118",
     "exception": false,
     "start_time": "2023-08-30T04:00:13.065673",
     "status": "completed"
    },
    "tags": []
   },
   "outputs": [
    {
     "data": {
      "text/plain": [
       "'Reference panel: GTEX_V8'"
      ]
     },
     "metadata": {},
     "output_type": "display_data"
    }
   ],
   "source": [
    "assert (\n",
    "    REFERENCE_PANEL is not None and len(REFERENCE_PANEL) > 0\n",
    "), \"A reference panel must be given\"\n",
    "\n",
    "display(f\"Reference panel: {REFERENCE_PANEL}\")"
   ]
  },
  {
   "cell_type": "code",
   "execution_count": 7,
   "id": "e024d130-c139-429a-9c6e-ccf149e297b0",
   "metadata": {
    "execution": {
     "iopub.execute_input": "2023-08-30T04:00:13.118143Z",
     "iopub.status.busy": "2023-08-30T04:00:13.117935Z",
     "iopub.status.idle": "2023-08-30T04:00:13.145762Z",
     "shell.execute_reply": "2023-08-30T04:00:13.145183Z"
    },
    "papermill": {
     "duration": 0.037616,
     "end_time": "2023-08-30T04:00:13.146893",
     "exception": false,
     "start_time": "2023-08-30T04:00:13.109277",
     "status": "completed"
    },
    "tags": []
   },
   "outputs": [
    {
     "data": {
      "text/plain": [
       "'eQTL model: MASHR) / mashr_'"
      ]
     },
     "metadata": {},
     "output_type": "display_data"
    }
   ],
   "source": [
    "assert (\n",
    "    EQTL_MODEL is not None and len(EQTL_MODEL) > 0\n",
    "), \"A prediction/eQTL model must be given\"\n",
    "\n",
    "EQTL_MODEL_FILES_PREFIX = conf.PHENOMEXCAN[\"PREDICTION_MODELS\"][f\"{EQTL_MODEL}_PREFIX\"]\n",
    "display(f\"eQTL model: {EQTL_MODEL}) / {EQTL_MODEL_FILES_PREFIX}\")"
   ]
  },
  {
   "cell_type": "code",
   "execution_count": 8,
   "id": "552a7f63-a18c-4d3e-bb6a-94f99b431291",
   "metadata": {
    "execution": {
     "iopub.execute_input": "2023-08-30T04:00:13.157706Z",
     "iopub.status.busy": "2023-08-30T04:00:13.157498Z",
     "iopub.status.idle": "2023-08-30T04:00:13.187185Z",
     "shell.execute_reply": "2023-08-30T04:00:13.186625Z"
    },
    "papermill": {
     "duration": 0.036369,
     "end_time": "2023-08-30T04:00:13.188346",
     "exception": false,
     "start_time": "2023-08-30T04:00:13.151977",
     "status": "completed"
    },
    "tags": []
   },
   "outputs": [
    {
     "data": {
      "text/plain": [
       "'S-MultiXcan condition number: 30'"
      ]
     },
     "metadata": {},
     "output_type": "display_data"
    }
   ],
   "source": [
    "assert (\n",
    "    SMULTIXCAN_CONDITION_NUMBER is not None and SMULTIXCAN_CONDITION_NUMBER > 0\n",
    "), \"The S-MultiXcan condition number (positive integer) must be given\"\n",
    "\n",
    "display(f\"S-MultiXcan condition number: {SMULTIXCAN_CONDITION_NUMBER}\")"
   ]
  },
  {
   "cell_type": "code",
   "execution_count": 9,
   "id": "f34a336f-548e-4afe-8955-90eaea4f42c6",
   "metadata": {
    "execution": {
     "iopub.execute_input": "2023-08-30T04:00:13.205772Z",
     "iopub.status.busy": "2023-08-30T04:00:13.205572Z",
     "iopub.status.idle": "2023-08-30T04:00:13.233845Z",
     "shell.execute_reply": "2023-08-30T04:00:13.233355Z"
    },
    "papermill": {
     "duration": 0.038077,
     "end_time": "2023-08-30T04:00:13.234775",
     "exception": false,
     "start_time": "2023-08-30T04:00:13.196698",
     "status": "completed"
    },
    "tags": []
   },
   "outputs": [
    {
     "data": {
      "text/plain": [
       "'Working on chromosome 14'"
      ]
     },
     "metadata": {},
     "output_type": "display_data"
    }
   ],
   "source": [
    "assert CHROMOSOME is not None and (\n",
    "    1 <= CHROMOSOME <= 22\n",
    "), \"You have to select one chromosome (format: number between 1 and 22)\"\n",
    "\n",
    "display(f\"Working on chromosome {CHROMOSOME}\")"
   ]
  },
  {
   "cell_type": "code",
   "execution_count": 10,
   "id": "ab8e96e8-06b5-4363-9dcd-dc4d78cc27f7",
   "metadata": {
    "execution": {
     "iopub.execute_input": "2023-08-30T04:00:13.250855Z",
     "iopub.status.busy": "2023-08-30T04:00:13.250565Z",
     "iopub.status.idle": "2023-08-30T04:00:13.276212Z",
     "shell.execute_reply": "2023-08-30T04:00:13.275739Z"
    },
    "papermill": {
     "duration": 0.03557,
     "end_time": "2023-08-30T04:00:13.277087",
     "exception": false,
     "start_time": "2023-08-30T04:00:13.241517",
     "status": "completed"
    },
    "tags": []
   },
   "outputs": [
    {
     "data": {
      "text/plain": [
       "'Compute correlation within distance True'"
      ]
     },
     "metadata": {},
     "output_type": "display_data"
    }
   ],
   "source": [
    "display(f\"Compute correlation within distance {COMPUTE_CORRELATIONS_WITHIN_DISTANCE}\")"
   ]
  },
  {
   "cell_type": "code",
   "execution_count": 11,
   "id": "b393b698-77e3-4ba2-8ac1-e14d51aa988f",
   "metadata": {
    "execution": {
     "iopub.execute_input": "2023-08-30T04:00:13.293012Z",
     "iopub.status.busy": "2023-08-30T04:00:13.292590Z",
     "iopub.status.idle": "2023-08-30T04:00:13.321124Z",
     "shell.execute_reply": "2023-08-30T04:00:13.320617Z"
    },
    "papermill": {
     "duration": 0.038826,
     "end_time": "2023-08-30T04:00:13.322074",
     "exception": false,
     "start_time": "2023-08-30T04:00:13.283248",
     "status": "completed"
    },
    "tags": []
   },
   "outputs": [
    {
     "data": {
      "text/plain": [
       "'Using output dir base: /opt/data/projects/chronotype/results/gls_phenoplier/gene_corrs/chronotype'"
      ]
     },
     "metadata": {},
     "output_type": "display_data"
    }
   ],
   "source": [
    "assert (\n",
    "    OUTPUT_DIR_BASE is not None and len(OUTPUT_DIR_BASE) > 0\n",
    "), \"Output directory path must be given\"\n",
    "\n",
    "OUTPUT_DIR_BASE = (Path(OUTPUT_DIR_BASE) / \"gene_corrs\" / COHORT_NAME).resolve()\n",
    "\n",
    "OUTPUT_DIR_BASE.mkdir(parents=True, exist_ok=True)\n",
    "\n",
    "display(f\"Using output dir base: {OUTPUT_DIR_BASE}\")"
   ]
  },
  {
   "cell_type": "markdown",
   "id": "d2ba085e",
   "metadata": {
    "papermill": {
     "duration": 0.004879,
     "end_time": "2023-08-30T04:00:13.332256",
     "exception": false,
     "start_time": "2023-08-30T04:00:13.327377",
     "status": "completed"
    },
    "tags": []
   },
   "source": [
    "# Load data"
   ]
  },
  {
   "cell_type": "markdown",
   "id": "7dcb8db7",
   "metadata": {
    "papermill": {
     "duration": 0.008509,
     "end_time": "2023-08-30T04:00:13.347587",
     "exception": false,
     "start_time": "2023-08-30T04:00:13.339078",
     "status": "completed"
    },
    "tags": []
   },
   "source": [
    "## GWAS variants"
   ]
  },
  {
   "cell_type": "code",
   "execution_count": 12,
   "id": "29434c4e-8cd3-4b9b-82e4-b5a251d9dd19",
   "metadata": {
    "execution": {
     "iopub.execute_input": "2023-08-30T04:00:13.366914Z",
     "iopub.status.busy": "2023-08-30T04:00:13.366066Z",
     "iopub.status.idle": "2023-08-30T04:00:17.986612Z",
     "shell.execute_reply": "2023-08-30T04:00:17.985989Z"
    },
    "papermill": {
     "duration": 4.633472,
     "end_time": "2023-08-30T04:00:17.989608",
     "exception": false,
     "start_time": "2023-08-30T04:00:13.356136",
     "status": "completed"
    },
    "tags": []
   },
   "outputs": [],
   "source": [
    "with open(OUTPUT_DIR_BASE / \"gwas_variant_ids.pkl\", \"rb\") as handle:\n",
    "    gwas_variants_ids_set = pickle.load(handle)"
   ]
  },
  {
   "cell_type": "code",
   "execution_count": 13,
   "id": "b9d9dec2-4a76-4bf9-bde2-e24c95acb8a0",
   "metadata": {
    "execution": {
     "iopub.execute_input": "2023-08-30T04:00:18.013610Z",
     "iopub.status.busy": "2023-08-30T04:00:18.013073Z",
     "iopub.status.idle": "2023-08-30T04:00:18.033533Z",
     "shell.execute_reply": "2023-08-30T04:00:18.033097Z"
    },
    "papermill": {
     "duration": 0.036498,
     "end_time": "2023-08-30T04:00:18.036463",
     "exception": false,
     "start_time": "2023-08-30T04:00:17.999965",
     "status": "completed"
    },
    "tags": []
   },
   "outputs": [
    {
     "data": {
      "text/plain": [
       "11737794"
      ]
     },
     "execution_count": 13,
     "metadata": {},
     "output_type": "execute_result"
    }
   ],
   "source": [
    "len(gwas_variants_ids_set)"
   ]
  },
  {
   "cell_type": "code",
   "execution_count": 14,
   "id": "4235b06a-6034-4ee4-a0a3-2ae35d122418",
   "metadata": {
    "execution": {
     "iopub.execute_input": "2023-08-30T04:00:18.057640Z",
     "iopub.status.busy": "2023-08-30T04:00:18.057191Z",
     "iopub.status.idle": "2023-08-30T04:00:19.541071Z",
     "shell.execute_reply": "2023-08-30T04:00:19.540239Z"
    },
    "papermill": {
     "duration": 1.498515,
     "end_time": "2023-08-30T04:00:19.544192",
     "exception": false,
     "start_time": "2023-08-30T04:00:18.045677",
     "status": "completed"
    },
    "tags": []
   },
   "outputs": [
    {
     "data": {
      "text/plain": [
       "['chr3_60945079_G_C_b38',\n",
       " 'chr6_32394178_C_T_b38',\n",
       " 'chr7_138802585_G_A_b38',\n",
       " 'chr2_371148_G_A_b38',\n",
       " 'chr11_131753983_T_G_b38']"
      ]
     },
     "execution_count": 14,
     "metadata": {},
     "output_type": "execute_result"
    }
   ],
   "source": [
    "list(gwas_variants_ids_set)[:5]"
   ]
  },
  {
   "cell_type": "markdown",
   "id": "07866999-2305-41f9-a144-e69c9122c212",
   "metadata": {
    "papermill": {
     "duration": 0.012506,
     "end_time": "2023-08-30T04:00:19.571047",
     "exception": false,
     "start_time": "2023-08-30T04:00:19.558541",
     "status": "completed"
    },
    "tags": []
   },
   "source": [
    "## S-PrediXcan tissue models"
   ]
  },
  {
   "cell_type": "code",
   "execution_count": 15,
   "id": "780611d9-77c8-405f-90a4-f271f7b09397",
   "metadata": {
    "execution": {
     "iopub.execute_input": "2023-08-30T04:00:19.596816Z",
     "iopub.status.busy": "2023-08-30T04:00:19.595881Z",
     "iopub.status.idle": "2023-08-30T04:00:22.124039Z",
     "shell.execute_reply": "2023-08-30T04:00:22.123570Z"
    },
    "papermill": {
     "duration": 2.542842,
     "end_time": "2023-08-30T04:00:22.125692",
     "exception": false,
     "start_time": "2023-08-30T04:00:19.582850",
     "status": "completed"
    },
    "tags": []
   },
   "outputs": [],
   "source": [
    "spredixcan_genes_models = pd.read_pickle(OUTPUT_DIR_BASE / \"gene_tissues.pkl\")"
   ]
  },
  {
   "cell_type": "code",
   "execution_count": 16,
   "id": "726dd1f6-9557-4225-91fa-b3b879ea96e1",
   "metadata": {
    "execution": {
     "iopub.execute_input": "2023-08-30T04:00:22.142516Z",
     "iopub.status.busy": "2023-08-30T04:00:22.142185Z",
     "iopub.status.idle": "2023-08-30T04:00:22.159431Z",
     "shell.execute_reply": "2023-08-30T04:00:22.158944Z"
    },
    "papermill": {
     "duration": 0.027153,
     "end_time": "2023-08-30T04:00:22.160642",
     "exception": false,
     "start_time": "2023-08-30T04:00:22.133489",
     "status": "completed"
    },
    "tags": []
   },
   "outputs": [
    {
     "data": {
      "text/plain": [
       "(6445, 5)"
      ]
     },
     "execution_count": 16,
     "metadata": {},
     "output_type": "execute_result"
    }
   ],
   "source": [
    "spredixcan_genes_models.shape"
   ]
  },
  {
   "cell_type": "code",
   "execution_count": 17,
   "id": "944a1b48-222c-4eb0-b252-b9de2cbca215",
   "metadata": {
    "execution": {
     "iopub.execute_input": "2023-08-30T04:00:22.177868Z",
     "iopub.status.busy": "2023-08-30T04:00:22.177508Z",
     "iopub.status.idle": "2023-08-30T04:00:22.207146Z",
     "shell.execute_reply": "2023-08-30T04:00:22.206454Z"
    },
    "papermill": {
     "duration": 0.040107,
     "end_time": "2023-08-30T04:00:22.208482",
     "exception": false,
     "start_time": "2023-08-30T04:00:22.168375",
     "status": "completed"
    },
    "tags": []
   },
   "outputs": [
    {
     "data": {
      "text/html": [
       "<div>\n",
       "<style scoped>\n",
       "    .dataframe tbody tr th:only-of-type {\n",
       "        vertical-align: middle;\n",
       "    }\n",
       "\n",
       "    .dataframe tbody tr th {\n",
       "        vertical-align: top;\n",
       "    }\n",
       "\n",
       "    .dataframe thead th {\n",
       "        text-align: right;\n",
       "    }\n",
       "</style>\n",
       "<table border=\"1\" class=\"dataframe\">\n",
       "  <thead>\n",
       "    <tr style=\"text-align: right;\">\n",
       "      <th></th>\n",
       "      <th>gene_name</th>\n",
       "      <th>tissue</th>\n",
       "      <th>n_tissues</th>\n",
       "      <th>n_snps_used_sum</th>\n",
       "      <th>n_snps_in_model_sum</th>\n",
       "    </tr>\n",
       "    <tr>\n",
       "      <th>gene_id</th>\n",
       "      <th></th>\n",
       "      <th></th>\n",
       "      <th></th>\n",
       "      <th></th>\n",
       "      <th></th>\n",
       "    </tr>\n",
       "  </thead>\n",
       "  <tbody>\n",
       "    <tr>\n",
       "      <th>ENSG00000000419</th>\n",
       "      <td>DPM1</td>\n",
       "      <td>(Brain_Hypothalamus, Brain_Substantia_nigra)</td>\n",
       "      <td>2</td>\n",
       "      <td>2</td>\n",
       "      <td>2</td>\n",
       "    </tr>\n",
       "    <tr>\n",
       "      <th>ENSG00000000938</th>\n",
       "      <td>FGR</td>\n",
       "      <td>(Brain_Hypothalamus, Adipose_Subcutaneous, Cel...</td>\n",
       "      <td>36</td>\n",
       "      <td>40</td>\n",
       "      <td>40</td>\n",
       "    </tr>\n",
       "    <tr>\n",
       "      <th>ENSG00000000971</th>\n",
       "      <td>CFH</td>\n",
       "      <td>(Artery_Coronary, Heart_Atrial_Appendage, Smal...</td>\n",
       "      <td>34</td>\n",
       "      <td>44</td>\n",
       "      <td>44</td>\n",
       "    </tr>\n",
       "    <tr>\n",
       "      <th>ENSG00000001084</th>\n",
       "      <td>GCLC</td>\n",
       "      <td>(Artery_Coronary, Heart_Atrial_Appendage, Smal...</td>\n",
       "      <td>32</td>\n",
       "      <td>46</td>\n",
       "      <td>46</td>\n",
       "    </tr>\n",
       "    <tr>\n",
       "      <th>ENSG00000001167</th>\n",
       "      <td>NFYA</td>\n",
       "      <td>(Artery_Coronary, Heart_Atrial_Appendage, Brai...</td>\n",
       "      <td>40</td>\n",
       "      <td>47</td>\n",
       "      <td>48</td>\n",
       "    </tr>\n",
       "  </tbody>\n",
       "</table>\n",
       "</div>"
      ],
      "text/plain": [
       "                gene_name                                             tissue  \\\n",
       "gene_id                                                                        \n",
       "ENSG00000000419      DPM1       (Brain_Hypothalamus, Brain_Substantia_nigra)   \n",
       "ENSG00000000938       FGR  (Brain_Hypothalamus, Adipose_Subcutaneous, Cel...   \n",
       "ENSG00000000971       CFH  (Artery_Coronary, Heart_Atrial_Appendage, Smal...   \n",
       "ENSG00000001084      GCLC  (Artery_Coronary, Heart_Atrial_Appendage, Smal...   \n",
       "ENSG00000001167      NFYA  (Artery_Coronary, Heart_Atrial_Appendage, Brai...   \n",
       "\n",
       "                 n_tissues  n_snps_used_sum  n_snps_in_model_sum  \n",
       "gene_id                                                           \n",
       "ENSG00000000419          2                2                    2  \n",
       "ENSG00000000938         36               40                   40  \n",
       "ENSG00000000971         34               44                   44  \n",
       "ENSG00000001084         32               46                   46  \n",
       "ENSG00000001167         40               47                   48  "
      ]
     },
     "execution_count": 17,
     "metadata": {},
     "output_type": "execute_result"
    }
   ],
   "source": [
    "spredixcan_genes_models.head()"
   ]
  },
  {
   "cell_type": "code",
   "execution_count": 18,
   "id": "d1c11bb1-be0b-4f40-b360-633d6827109f",
   "metadata": {
    "execution": {
     "iopub.execute_input": "2023-08-30T04:00:22.225405Z",
     "iopub.status.busy": "2023-08-30T04:00:22.225025Z",
     "iopub.status.idle": "2023-08-30T04:00:22.250144Z",
     "shell.execute_reply": "2023-08-30T04:00:22.249457Z"
    },
    "papermill": {
     "duration": 0.035416,
     "end_time": "2023-08-30T04:00:22.251731",
     "exception": false,
     "start_time": "2023-08-30T04:00:22.216315",
     "status": "completed"
    },
    "tags": []
   },
   "outputs": [],
   "source": [
    "assert spredixcan_genes_models.index.is_unique"
   ]
  },
  {
   "cell_type": "markdown",
   "id": "a5b5092c-a13e-47c4-a92a-480fcc08f3ae",
   "metadata": {
    "papermill": {
     "duration": 0.008077,
     "end_time": "2023-08-30T04:00:22.267621",
     "exception": false,
     "start_time": "2023-08-30T04:00:22.259544",
     "status": "completed"
    },
    "tags": []
   },
   "source": [
    "## Gene info"
   ]
  },
  {
   "cell_type": "code",
   "execution_count": 19,
   "id": "7d6bb224-88e9-4358-ac10-43a41d92cdad",
   "metadata": {
    "execution": {
     "iopub.execute_input": "2023-08-30T04:00:22.284232Z",
     "iopub.status.busy": "2023-08-30T04:00:22.283893Z",
     "iopub.status.idle": "2023-08-30T04:00:22.303274Z",
     "shell.execute_reply": "2023-08-30T04:00:22.302841Z"
    },
    "papermill": {
     "duration": 0.029306,
     "end_time": "2023-08-30T04:00:22.304693",
     "exception": false,
     "start_time": "2023-08-30T04:00:22.275387",
     "status": "completed"
    },
    "tags": []
   },
   "outputs": [],
   "source": [
    "genes_info = pd.read_pickle(OUTPUT_DIR_BASE / \"genes_info.pkl\")"
   ]
  },
  {
   "cell_type": "code",
   "execution_count": 20,
   "id": "9e32abfa-546d-483e-8c18-d526e9e05903",
   "metadata": {
    "execution": {
     "iopub.execute_input": "2023-08-30T04:00:22.321358Z",
     "iopub.status.busy": "2023-08-30T04:00:22.321077Z",
     "iopub.status.idle": "2023-08-30T04:00:22.343101Z",
     "shell.execute_reply": "2023-08-30T04:00:22.342734Z"
    },
    "papermill": {
     "duration": 0.03152,
     "end_time": "2023-08-30T04:00:22.344154",
     "exception": false,
     "start_time": "2023-08-30T04:00:22.312634",
     "status": "completed"
    },
    "tags": []
   },
   "outputs": [
    {
     "data": {
      "text/plain": [
       "(6445, 7)"
      ]
     },
     "execution_count": 20,
     "metadata": {},
     "output_type": "execute_result"
    }
   ],
   "source": [
    "genes_info.shape"
   ]
  },
  {
   "cell_type": "code",
   "execution_count": 21,
   "id": "d16c3e92-85ec-468a-9a56-e25a9774a1cb",
   "metadata": {
    "execution": {
     "iopub.execute_input": "2023-08-30T04:00:22.360550Z",
     "iopub.status.busy": "2023-08-30T04:00:22.360377Z",
     "iopub.status.idle": "2023-08-30T04:00:22.379055Z",
     "shell.execute_reply": "2023-08-30T04:00:22.378656Z"
    },
    "papermill": {
     "duration": 0.02814,
     "end_time": "2023-08-30T04:00:22.380095",
     "exception": false,
     "start_time": "2023-08-30T04:00:22.351955",
     "status": "completed"
    },
    "tags": []
   },
   "outputs": [
    {
     "data": {
      "text/html": [
       "<div>\n",
       "<style scoped>\n",
       "    .dataframe tbody tr th:only-of-type {\n",
       "        vertical-align: middle;\n",
       "    }\n",
       "\n",
       "    .dataframe tbody tr th {\n",
       "        vertical-align: top;\n",
       "    }\n",
       "\n",
       "    .dataframe thead th {\n",
       "        text-align: right;\n",
       "    }\n",
       "</style>\n",
       "<table border=\"1\" class=\"dataframe\">\n",
       "  <thead>\n",
       "    <tr style=\"text-align: right;\">\n",
       "      <th></th>\n",
       "      <th>name</th>\n",
       "      <th>id</th>\n",
       "      <th>chr</th>\n",
       "      <th>band</th>\n",
       "      <th>start_position</th>\n",
       "      <th>end_position</th>\n",
       "      <th>gene_length</th>\n",
       "    </tr>\n",
       "  </thead>\n",
       "  <tbody>\n",
       "    <tr>\n",
       "      <th>0</th>\n",
       "      <td>DUT</td>\n",
       "      <td>ENSG00000128951</td>\n",
       "      <td>15</td>\n",
       "      <td>15q21.1</td>\n",
       "      <td>48331011</td>\n",
       "      <td>48343373</td>\n",
       "      <td>12362</td>\n",
       "    </tr>\n",
       "    <tr>\n",
       "      <th>1</th>\n",
       "      <td>NDUFA4</td>\n",
       "      <td>ENSG00000189043</td>\n",
       "      <td>7</td>\n",
       "      <td>7p21.3</td>\n",
       "      <td>10931943</td>\n",
       "      <td>10940153</td>\n",
       "      <td>8210</td>\n",
       "    </tr>\n",
       "    <tr>\n",
       "      <th>2</th>\n",
       "      <td>EPHB3</td>\n",
       "      <td>ENSG00000182580</td>\n",
       "      <td>3</td>\n",
       "      <td>3q27.1</td>\n",
       "      <td>184561785</td>\n",
       "      <td>184582408</td>\n",
       "      <td>20623</td>\n",
       "    </tr>\n",
       "    <tr>\n",
       "      <th>3</th>\n",
       "      <td>MYLK</td>\n",
       "      <td>ENSG00000065534</td>\n",
       "      <td>3</td>\n",
       "      <td>3q21.1</td>\n",
       "      <td>123610049</td>\n",
       "      <td>123884331</td>\n",
       "      <td>274282</td>\n",
       "    </tr>\n",
       "    <tr>\n",
       "      <th>4</th>\n",
       "      <td>SMPD4</td>\n",
       "      <td>ENSG00000136699</td>\n",
       "      <td>2</td>\n",
       "      <td>2q21.1</td>\n",
       "      <td>130151392</td>\n",
       "      <td>130182750</td>\n",
       "      <td>31358</td>\n",
       "    </tr>\n",
       "  </tbody>\n",
       "</table>\n",
       "</div>"
      ],
      "text/plain": [
       "     name               id  chr     band  start_position  end_position  \\\n",
       "0     DUT  ENSG00000128951   15  15q21.1        48331011      48343373   \n",
       "1  NDUFA4  ENSG00000189043    7   7p21.3        10931943      10940153   \n",
       "2   EPHB3  ENSG00000182580    3   3q27.1       184561785     184582408   \n",
       "3    MYLK  ENSG00000065534    3   3q21.1       123610049     123884331   \n",
       "4   SMPD4  ENSG00000136699    2   2q21.1       130151392     130182750   \n",
       "\n",
       "   gene_length  \n",
       "0        12362  \n",
       "1         8210  \n",
       "2        20623  \n",
       "3       274282  \n",
       "4        31358  "
      ]
     },
     "execution_count": 21,
     "metadata": {},
     "output_type": "execute_result"
    }
   ],
   "source": [
    "genes_info.head()"
   ]
  },
  {
   "cell_type": "markdown",
   "id": "d3843e06",
   "metadata": {
    "papermill": {
     "duration": 0.008067,
     "end_time": "2023-08-30T04:00:22.396119",
     "exception": false,
     "start_time": "2023-08-30T04:00:22.388052",
     "status": "completed"
    },
    "tags": []
   },
   "source": [
    "# Compute correlations"
   ]
  },
  {
   "cell_type": "code",
   "execution_count": 22,
   "id": "cb859c15-d1f3-4006-a74c-2b83c0db9611",
   "metadata": {
    "execution": {
     "iopub.execute_input": "2023-08-30T04:00:22.413137Z",
     "iopub.status.busy": "2023-08-30T04:00:22.412839Z",
     "iopub.status.idle": "2023-08-30T04:00:22.438288Z",
     "shell.execute_reply": "2023-08-30T04:00:22.437647Z"
    },
    "papermill": {
     "duration": 0.035483,
     "end_time": "2023-08-30T04:00:22.439503",
     "exception": false,
     "start_time": "2023-08-30T04:00:22.404020",
     "status": "completed"
    },
    "tags": []
   },
   "outputs": [
    {
     "data": {
      "text/plain": [
       "PosixPath('/opt/data/projects/chronotype/results/gls_phenoplier/gene_corrs/chronotype/by_chr/gene_corrs-chr14.pkl')"
      ]
     },
     "metadata": {},
     "output_type": "display_data"
    }
   ],
   "source": [
    "output_dir = OUTPUT_DIR_BASE / \"by_chr\"\n",
    "output_dir.mkdir(exist_ok=True, parents=True)\n",
    "output_file = output_dir / f\"gene_corrs-chr{CHROMOSOME}.pkl\"\n",
    "display(output_file)"
   ]
  },
  {
   "cell_type": "code",
   "execution_count": 23,
   "id": "aa674fe4-6794-4eed-98fa-32b39d1d4ace",
   "metadata": {
    "execution": {
     "iopub.execute_input": "2023-08-30T04:00:22.456757Z",
     "iopub.status.busy": "2023-08-30T04:00:22.456500Z",
     "iopub.status.idle": "2023-08-30T04:00:22.490516Z",
     "shell.execute_reply": "2023-08-30T04:00:22.489944Z"
    },
    "papermill": {
     "duration": 0.044233,
     "end_time": "2023-08-30T04:00:22.491992",
     "exception": false,
     "start_time": "2023-08-30T04:00:22.447759",
     "status": "completed"
    },
    "tags": []
   },
   "outputs": [],
   "source": [
    "warnings.filterwarnings(\"error\")"
   ]
  },
  {
   "cell_type": "code",
   "execution_count": 24,
   "id": "44d5450b-3baf-43f1-9e2e-4b06f1a785f8",
   "metadata": {
    "execution": {
     "iopub.execute_input": "2023-08-30T04:00:22.509314Z",
     "iopub.status.busy": "2023-08-30T04:00:22.508917Z",
     "iopub.status.idle": "2023-08-30T04:00:22.539298Z",
     "shell.execute_reply": "2023-08-30T04:00:22.538584Z"
    },
    "papermill": {
     "duration": 0.040799,
     "end_time": "2023-08-30T04:00:22.540810",
     "exception": false,
     "start_time": "2023-08-30T04:00:22.500011",
     "status": "completed"
    },
    "tags": []
   },
   "outputs": [],
   "source": [
    "# standard checks\n",
    "all_chrs = genes_info[\"chr\"].dropna().unique()\n",
    "assert all_chrs.shape[0] == 22\n",
    "\n",
    "# select chromosome given by the user\n",
    "assert CHROMOSOME in all_chrs"
   ]
  },
  {
   "cell_type": "code",
   "execution_count": 25,
   "id": "2d7c043c-92a7-4d35-991b-fa69ac1e0268",
   "metadata": {
    "execution": {
     "iopub.execute_input": "2023-08-30T04:00:22.558482Z",
     "iopub.status.busy": "2023-08-30T04:00:22.558024Z",
     "iopub.status.idle": "2023-08-30T04:00:22.585773Z",
     "shell.execute_reply": "2023-08-30T04:00:22.585088Z"
    },
    "papermill": {
     "duration": 0.038011,
     "end_time": "2023-08-30T04:00:22.587113",
     "exception": false,
     "start_time": "2023-08-30T04:00:22.549102",
     "status": "completed"
    },
    "tags": []
   },
   "outputs": [
    {
     "name": "stdout",
     "output_type": "stream",
     "text": [
      "Number of genes in chromosome: 210\n"
     ]
    }
   ],
   "source": [
    "# run only on the chromosome specified\n",
    "all_chrs = [CHROMOSOME]\n",
    "genes_chr = genes_info[genes_info[\"chr\"] == CHROMOSOME]\n",
    "\n",
    "# For testing purposes\n",
    "# genes_chr = genes_chr.sample(n=20)\n",
    "\n",
    "print(f\"Number of genes in chromosome: {genes_chr.shape[0]}\", flush=True)"
   ]
  },
  {
   "cell_type": "code",
   "execution_count": 26,
   "id": "916015d8-2979-46d3-a9b9-1cf5a0932c6a",
   "metadata": {
    "execution": {
     "iopub.execute_input": "2023-08-30T04:00:22.603082Z",
     "iopub.status.busy": "2023-08-30T04:00:22.602823Z",
     "iopub.status.idle": "2023-08-30T04:00:22.622700Z",
     "shell.execute_reply": "2023-08-30T04:00:22.622215Z"
    },
    "papermill": {
     "duration": 0.028377,
     "end_time": "2023-08-30T04:00:22.624211",
     "exception": false,
     "start_time": "2023-08-30T04:00:22.595834",
     "status": "completed"
    },
    "tags": []
   },
   "outputs": [],
   "source": [
    "# sort genes by starting position to make visualizations better later\n",
    "genes_chr = genes_chr.sort_values(\"start_position\")"
   ]
  },
  {
   "cell_type": "code",
   "execution_count": 27,
   "id": "a38aa74a-8ad3-47f6-8ef9-56be0e011774",
   "metadata": {
    "execution": {
     "iopub.execute_input": "2023-08-30T04:00:22.643418Z",
     "iopub.status.busy": "2023-08-30T04:00:22.643127Z",
     "iopub.status.idle": "2023-08-30T04:00:22.662310Z",
     "shell.execute_reply": "2023-08-30T04:00:22.661777Z"
    },
    "papermill": {
     "duration": 0.029892,
     "end_time": "2023-08-30T04:00:22.663394",
     "exception": false,
     "start_time": "2023-08-30T04:00:22.633502",
     "status": "completed"
    },
    "tags": []
   },
   "outputs": [],
   "source": [
    "gene_chr_objs = [Gene(ensembl_id=gene_id) for gene_id in genes_chr[\"id\"]]"
   ]
  },
  {
   "cell_type": "code",
   "execution_count": 28,
   "id": "570f974f-13c3-42b6-ad3a-ce99ca885c1a",
   "metadata": {
    "execution": {
     "iopub.execute_input": "2023-08-30T04:00:22.676353Z",
     "iopub.status.busy": "2023-08-30T04:00:22.676170Z",
     "iopub.status.idle": "2023-08-30T04:00:22.695430Z",
     "shell.execute_reply": "2023-08-30T04:00:22.695098Z"
    },
    "papermill": {
     "duration": 0.026728,
     "end_time": "2023-08-30T04:00:22.696251",
     "exception": false,
     "start_time": "2023-08-30T04:00:22.669523",
     "status": "completed"
    },
    "tags": []
   },
   "outputs": [
    {
     "name": "stdout",
     "output_type": "stream",
     "text": [
      "Number of gene combinations: 22155\n"
     ]
    }
   ],
   "source": [
    "n = len(gene_chr_objs)\n",
    "# diagonal elements + upper triangular matrix\n",
    "n_comb = n + int(n * (n - 1) / 2.0)\n",
    "print(f\"Number of gene combinations: {n_comb}\", flush=True)"
   ]
  },
  {
   "cell_type": "code",
   "execution_count": 29,
   "id": "cdbb90a1",
   "metadata": {
    "execution": {
     "iopub.execute_input": "2023-08-30T04:00:22.712751Z",
     "iopub.status.busy": "2023-08-30T04:00:22.712501Z",
     "iopub.status.idle": "2023-08-30T04:04:19.602333Z",
     "shell.execute_reply": "2023-08-30T04:04:19.601898Z"
    },
    "papermill": {
     "duration": 236.901871,
     "end_time": "2023-08-30T04:04:19.603990",
     "exception": false,
     "start_time": "2023-08-30T04:00:22.702119",
     "status": "completed"
    },
    "tags": []
   },
   "outputs": [
    {
     "name": "stderr",
     "output_type": "stream",
     "text": [
      "ENSG00000182979 / ENSG00000182979: 100%|██████████████████████| 22155/22155 [03:56<00:00, 93.54it/s]\n"
     ]
    },
    {
     "data": {
      "text/plain": [
       "PosixPath('/opt/data/projects/chronotype/results/gls_phenoplier/gene_corrs/chronotype/by_chr/gene_corrs-chr14.pkl')"
      ]
     },
     "metadata": {},
     "output_type": "display_data"
    }
   ],
   "source": [
    "gene_corrs = []\n",
    "gene_corrs_data = np.full(\n",
    "    (n, n),\n",
    "    np.nan,\n",
    "    dtype=np.float64,\n",
    ")\n",
    "\n",
    "i = 0\n",
    "with tqdm(ncols=100, total=n_comb) as pbar:\n",
    "    for gene1_idx in range(0, len(gene_chr_objs)):\n",
    "        gene1_obj = gene_chr_objs[gene1_idx]\n",
    "        gene1_tissues = spredixcan_genes_models.loc[gene1_obj.ensembl_id, \"tissue\"]\n",
    "\n",
    "        for gene2_idx in range(gene1_idx, len(gene_chr_objs)):\n",
    "            gene2_obj = gene_chr_objs[gene2_idx]\n",
    "            gene2_tissues = spredixcan_genes_models.loc[gene2_obj.ensembl_id, \"tissue\"]\n",
    "\n",
    "            pbar.set_description(f\"{gene1_obj.ensembl_id} / {gene2_obj.ensembl_id}\")\n",
    "\n",
    "            try:\n",
    "                r = gene1_obj.get_ssm_correlation(\n",
    "                    other_gene=gene2_obj,\n",
    "                    tissues=gene1_tissues,\n",
    "                    other_tissues=gene2_tissues,\n",
    "                    snps_subset=gwas_variants_ids_set,\n",
    "                    condition_number=SMULTIXCAN_CONDITION_NUMBER,\n",
    "                    reference_panel=REFERENCE_PANEL,\n",
    "                    model_type=EQTL_MODEL,\n",
    "                    use_within_distance=COMPUTE_CORRELATIONS_WITHIN_DISTANCE,\n",
    "                )\n",
    "\n",
    "                if r is None:\n",
    "                    # if r is None, it's very likely because:\n",
    "                    #  * one of the genes has no prediction models\n",
    "                    #  * all the SNPs predictors for the gene are not present in the reference\n",
    "                    #    panel\n",
    "\n",
    "                    r = 0.0\n",
    "\n",
    "                gene_corrs.append(r)\n",
    "\n",
    "                gene_corrs_data[gene1_idx, gene2_idx] = r\n",
    "                gene_corrs_data[gene2_idx, gene1_idx] = r\n",
    "            except Warning as e:\n",
    "                if not DEBUG_MODE:\n",
    "                    raise e\n",
    "\n",
    "                print(\n",
    "                    f\"RuntimeWarning for genes {gene1_obj.ensembl_id} and {gene2_obj.ensembl_id}\",\n",
    "                    flush=True,\n",
    "                )\n",
    "                print(traceback.format_exc(), flush=True)\n",
    "\n",
    "                gene_corrs.append(np.nan)\n",
    "            except Exception as e:\n",
    "                if not DEBUG_MODE:\n",
    "                    raise e\n",
    "\n",
    "                print(\n",
    "                    f\"Exception for genes {gene1_obj.ensembl_id} and {gene2_obj.ensembl_id}\",\n",
    "                    flush=True,\n",
    "                )\n",
    "                print(traceback.format_exc(), flush=True)\n",
    "\n",
    "                gene_corrs.append(np.nan)\n",
    "\n",
    "            pbar.update(1)\n",
    "\n",
    "# create a pandas series\n",
    "gene_corrs_flat = pd.Series(gene_corrs)\n",
    "\n",
    "# save\n",
    "# FIXME: consider saving only the condenced matrix here. See here for\n",
    "# more details: https://github.com/greenelab/phenoplier/pull/38#discussion_r634600813\n",
    "# gene_corrs_data = squareform(np.array(gene_corrs, dtype=np.float64))\n",
    "# np.fill_diagonal(gene_corrs_data, 1.0)\n",
    "\n",
    "gene_chr_ids = [g.ensembl_id for g in gene_chr_objs]\n",
    "gene_corrs_df = pd.DataFrame(\n",
    "    data=gene_corrs_data,\n",
    "    index=gene_chr_ids,\n",
    "    columns=gene_chr_ids,\n",
    ")\n",
    "\n",
    "output_dir.mkdir(exist_ok=True, parents=True)\n",
    "display(output_file)\n",
    "\n",
    "gene_corrs_df.to_pickle(output_file)"
   ]
  },
  {
   "cell_type": "markdown",
   "id": "faa67b51-5373-470f-aa72-2ded53fa6dfe",
   "metadata": {
    "papermill": {
     "duration": 0.697324,
     "end_time": "2023-08-30T04:04:21.254612",
     "exception": false,
     "start_time": "2023-08-30T04:04:20.557288",
     "status": "completed"
    },
    "tags": []
   },
   "source": [
    "# Testing"
   ]
  },
  {
   "cell_type": "code",
   "execution_count": 30,
   "id": "14f7d046-4b55-4896-a56b-990127bcc388",
   "metadata": {
    "execution": {
     "iopub.execute_input": "2023-08-30T04:04:22.659411Z",
     "iopub.status.busy": "2023-08-30T04:04:22.659153Z",
     "iopub.status.idle": "2023-08-30T04:04:22.682151Z",
     "shell.execute_reply": "2023-08-30T04:04:22.681512Z"
    },
    "papermill": {
     "duration": 0.744094,
     "end_time": "2023-08-30T04:04:22.683137",
     "exception": false,
     "start_time": "2023-08-30T04:04:21.939043",
     "status": "completed"
    },
    "tags": []
   },
   "outputs": [
    {
     "data": {
      "text/plain": [
       "(210, 210)"
      ]
     },
     "execution_count": 30,
     "metadata": {},
     "output_type": "execute_result"
    }
   ],
   "source": [
    "gene_corrs_df.shape"
   ]
  },
  {
   "cell_type": "code",
   "execution_count": 31,
   "id": "c7d15414-3297-4537-a7c6-7588c0baeb75",
   "metadata": {
    "execution": {
     "iopub.execute_input": "2023-08-30T04:04:24.119583Z",
     "iopub.status.busy": "2023-08-30T04:04:24.119255Z",
     "iopub.status.idle": "2023-08-30T04:04:24.151605Z",
     "shell.execute_reply": "2023-08-30T04:04:24.150973Z"
    },
    "papermill": {
     "duration": 0.74403,
     "end_time": "2023-08-30T04:04:24.152575",
     "exception": false,
     "start_time": "2023-08-30T04:04:23.408545",
     "status": "completed"
    },
    "tags": []
   },
   "outputs": [
    {
     "data": {
      "text/html": [
       "<div>\n",
       "<style scoped>\n",
       "    .dataframe tbody tr th:only-of-type {\n",
       "        vertical-align: middle;\n",
       "    }\n",
       "\n",
       "    .dataframe tbody tr th {\n",
       "        vertical-align: top;\n",
       "    }\n",
       "\n",
       "    .dataframe thead th {\n",
       "        text-align: right;\n",
       "    }\n",
       "</style>\n",
       "<table border=\"1\" class=\"dataframe\">\n",
       "  <thead>\n",
       "    <tr style=\"text-align: right;\">\n",
       "      <th></th>\n",
       "      <th>ENSG00000136319</th>\n",
       "      <th>ENSG00000129484</th>\n",
       "      <th>ENSG00000129566</th>\n",
       "      <th>ENSG00000100823</th>\n",
       "      <th>ENSG00000198805</th>\n",
       "      <th>ENSG00000214274</th>\n",
       "      <th>ENSG00000258818</th>\n",
       "      <th>ENSG00000169413</th>\n",
       "      <th>ENSG00000169397</th>\n",
       "      <th>ENSG00000169385</th>\n",
       "      <th>...</th>\n",
       "      <th>ENSG00000126215</th>\n",
       "      <th>ENSG00000088808</th>\n",
       "      <th>ENSG00000066735</th>\n",
       "      <th>ENSG00000185100</th>\n",
       "      <th>ENSG00000142208</th>\n",
       "      <th>ENSG00000166428</th>\n",
       "      <th>ENSG00000183484</th>\n",
       "      <th>ENSG00000184916</th>\n",
       "      <th>ENSG00000185024</th>\n",
       "      <th>ENSG00000182979</th>\n",
       "    </tr>\n",
       "  </thead>\n",
       "  <tbody>\n",
       "    <tr>\n",
       "      <th>ENSG00000136319</th>\n",
       "      <td>1.000000</td>\n",
       "      <td>0.430089</td>\n",
       "      <td>0.017833</td>\n",
       "      <td>0.011939</td>\n",
       "      <td>0.009743</td>\n",
       "      <td>0.006008</td>\n",
       "      <td>0.004430</td>\n",
       "      <td>0.010118</td>\n",
       "      <td>0.005727</td>\n",
       "      <td>0.007814</td>\n",
       "      <td>...</td>\n",
       "      <td>0.0</td>\n",
       "      <td>0.0</td>\n",
       "      <td>0.0</td>\n",
       "      <td>0.0</td>\n",
       "      <td>0.0</td>\n",
       "      <td>0.0</td>\n",
       "      <td>0.0</td>\n",
       "      <td>0.0</td>\n",
       "      <td>0.0</td>\n",
       "      <td>0.0</td>\n",
       "    </tr>\n",
       "    <tr>\n",
       "      <th>ENSG00000129484</th>\n",
       "      <td>0.430089</td>\n",
       "      <td>1.000000</td>\n",
       "      <td>0.012698</td>\n",
       "      <td>0.008254</td>\n",
       "      <td>0.007462</td>\n",
       "      <td>0.003745</td>\n",
       "      <td>0.003614</td>\n",
       "      <td>0.005854</td>\n",
       "      <td>0.003454</td>\n",
       "      <td>0.003027</td>\n",
       "      <td>...</td>\n",
       "      <td>0.0</td>\n",
       "      <td>0.0</td>\n",
       "      <td>0.0</td>\n",
       "      <td>0.0</td>\n",
       "      <td>0.0</td>\n",
       "      <td>0.0</td>\n",
       "      <td>0.0</td>\n",
       "      <td>0.0</td>\n",
       "      <td>0.0</td>\n",
       "      <td>0.0</td>\n",
       "    </tr>\n",
       "    <tr>\n",
       "      <th>ENSG00000129566</th>\n",
       "      <td>0.017833</td>\n",
       "      <td>0.012698</td>\n",
       "      <td>1.000000</td>\n",
       "      <td>0.019899</td>\n",
       "      <td>0.008648</td>\n",
       "      <td>0.005030</td>\n",
       "      <td>0.005801</td>\n",
       "      <td>0.006390</td>\n",
       "      <td>0.005780</td>\n",
       "      <td>0.005221</td>\n",
       "      <td>...</td>\n",
       "      <td>0.0</td>\n",
       "      <td>0.0</td>\n",
       "      <td>0.0</td>\n",
       "      <td>0.0</td>\n",
       "      <td>0.0</td>\n",
       "      <td>0.0</td>\n",
       "      <td>0.0</td>\n",
       "      <td>0.0</td>\n",
       "      <td>0.0</td>\n",
       "      <td>0.0</td>\n",
       "    </tr>\n",
       "    <tr>\n",
       "      <th>ENSG00000100823</th>\n",
       "      <td>0.011939</td>\n",
       "      <td>0.008254</td>\n",
       "      <td>0.019899</td>\n",
       "      <td>1.000000</td>\n",
       "      <td>0.318338</td>\n",
       "      <td>0.004400</td>\n",
       "      <td>0.003503</td>\n",
       "      <td>0.010597</td>\n",
       "      <td>0.008825</td>\n",
       "      <td>0.009541</td>\n",
       "      <td>...</td>\n",
       "      <td>0.0</td>\n",
       "      <td>0.0</td>\n",
       "      <td>0.0</td>\n",
       "      <td>0.0</td>\n",
       "      <td>0.0</td>\n",
       "      <td>0.0</td>\n",
       "      <td>0.0</td>\n",
       "      <td>0.0</td>\n",
       "      <td>0.0</td>\n",
       "      <td>0.0</td>\n",
       "    </tr>\n",
       "    <tr>\n",
       "      <th>ENSG00000198805</th>\n",
       "      <td>0.009743</td>\n",
       "      <td>0.007462</td>\n",
       "      <td>0.008648</td>\n",
       "      <td>0.318338</td>\n",
       "      <td>1.000000</td>\n",
       "      <td>0.004675</td>\n",
       "      <td>0.004679</td>\n",
       "      <td>0.010757</td>\n",
       "      <td>0.004944</td>\n",
       "      <td>0.008846</td>\n",
       "      <td>...</td>\n",
       "      <td>0.0</td>\n",
       "      <td>0.0</td>\n",
       "      <td>0.0</td>\n",
       "      <td>0.0</td>\n",
       "      <td>0.0</td>\n",
       "      <td>0.0</td>\n",
       "      <td>0.0</td>\n",
       "      <td>0.0</td>\n",
       "      <td>0.0</td>\n",
       "      <td>0.0</td>\n",
       "    </tr>\n",
       "  </tbody>\n",
       "</table>\n",
       "<p>5 rows × 210 columns</p>\n",
       "</div>"
      ],
      "text/plain": [
       "                 ENSG00000136319  ENSG00000129484  ENSG00000129566  \\\n",
       "ENSG00000136319         1.000000         0.430089         0.017833   \n",
       "ENSG00000129484         0.430089         1.000000         0.012698   \n",
       "ENSG00000129566         0.017833         0.012698         1.000000   \n",
       "ENSG00000100823         0.011939         0.008254         0.019899   \n",
       "ENSG00000198805         0.009743         0.007462         0.008648   \n",
       "\n",
       "                 ENSG00000100823  ENSG00000198805  ENSG00000214274  \\\n",
       "ENSG00000136319         0.011939         0.009743         0.006008   \n",
       "ENSG00000129484         0.008254         0.007462         0.003745   \n",
       "ENSG00000129566         0.019899         0.008648         0.005030   \n",
       "ENSG00000100823         1.000000         0.318338         0.004400   \n",
       "ENSG00000198805         0.318338         1.000000         0.004675   \n",
       "\n",
       "                 ENSG00000258818  ENSG00000169413  ENSG00000169397  \\\n",
       "ENSG00000136319         0.004430         0.010118         0.005727   \n",
       "ENSG00000129484         0.003614         0.005854         0.003454   \n",
       "ENSG00000129566         0.005801         0.006390         0.005780   \n",
       "ENSG00000100823         0.003503         0.010597         0.008825   \n",
       "ENSG00000198805         0.004679         0.010757         0.004944   \n",
       "\n",
       "                 ENSG00000169385  ...  ENSG00000126215  ENSG00000088808  \\\n",
       "ENSG00000136319         0.007814  ...              0.0              0.0   \n",
       "ENSG00000129484         0.003027  ...              0.0              0.0   \n",
       "ENSG00000129566         0.005221  ...              0.0              0.0   \n",
       "ENSG00000100823         0.009541  ...              0.0              0.0   \n",
       "ENSG00000198805         0.008846  ...              0.0              0.0   \n",
       "\n",
       "                 ENSG00000066735  ENSG00000185100  ENSG00000142208  \\\n",
       "ENSG00000136319              0.0              0.0              0.0   \n",
       "ENSG00000129484              0.0              0.0              0.0   \n",
       "ENSG00000129566              0.0              0.0              0.0   \n",
       "ENSG00000100823              0.0              0.0              0.0   \n",
       "ENSG00000198805              0.0              0.0              0.0   \n",
       "\n",
       "                 ENSG00000166428  ENSG00000183484  ENSG00000184916  \\\n",
       "ENSG00000136319              0.0              0.0              0.0   \n",
       "ENSG00000129484              0.0              0.0              0.0   \n",
       "ENSG00000129566              0.0              0.0              0.0   \n",
       "ENSG00000100823              0.0              0.0              0.0   \n",
       "ENSG00000198805              0.0              0.0              0.0   \n",
       "\n",
       "                 ENSG00000185024  ENSG00000182979  \n",
       "ENSG00000136319              0.0              0.0  \n",
       "ENSG00000129484              0.0              0.0  \n",
       "ENSG00000129566              0.0              0.0  \n",
       "ENSG00000100823              0.0              0.0  \n",
       "ENSG00000198805              0.0              0.0  \n",
       "\n",
       "[5 rows x 210 columns]"
      ]
     },
     "execution_count": 31,
     "metadata": {},
     "output_type": "execute_result"
    }
   ],
   "source": [
    "gene_corrs_df.head()"
   ]
  },
  {
   "cell_type": "markdown",
   "id": "dad6603f-01c6-41fb-a6f6-241051207dd8",
   "metadata": {
    "papermill": {
     "duration": 0.696642,
     "end_time": "2023-08-30T04:04:25.534582",
     "exception": false,
     "start_time": "2023-08-30T04:04:24.837940",
     "status": "completed"
    },
    "tags": []
   },
   "source": [
    "## Standard checks and stats"
   ]
  },
  {
   "cell_type": "code",
   "execution_count": 32,
   "id": "286686af-1b7b-4440-8453-6bdcbd8de19c",
   "metadata": {
    "execution": {
     "iopub.execute_input": "2023-08-30T04:04:26.983367Z",
     "iopub.status.busy": "2023-08-30T04:04:26.982986Z",
     "iopub.status.idle": "2023-08-30T04:04:27.002524Z",
     "shell.execute_reply": "2023-08-30T04:04:27.001909Z"
    },
    "papermill": {
     "duration": 0.740414,
     "end_time": "2023-08-30T04:04:27.004022",
     "exception": false,
     "start_time": "2023-08-30T04:04:26.263608",
     "status": "completed"
    },
    "tags": []
   },
   "outputs": [],
   "source": [
    "assert not gene_corrs_df.isna().any(axis=None)"
   ]
  },
  {
   "cell_type": "code",
   "execution_count": 33,
   "id": "00583efc-7068-4270-ad1e-4a418e91db96",
   "metadata": {
    "execution": {
     "iopub.execute_input": "2023-08-30T04:04:28.518968Z",
     "iopub.status.busy": "2023-08-30T04:04:28.518379Z",
     "iopub.status.idle": "2023-08-30T04:04:28.544174Z",
     "shell.execute_reply": "2023-08-30T04:04:28.543606Z"
    },
    "papermill": {
     "duration": 0.804251,
     "end_time": "2023-08-30T04:04:28.545127",
     "exception": false,
     "start_time": "2023-08-30T04:04:27.740876",
     "status": "completed"
    },
    "tags": []
   },
   "outputs": [
    {
     "data": {
      "text/plain": [
       "0.0"
      ]
     },
     "metadata": {},
     "output_type": "display_data"
    }
   ],
   "source": [
    "_min_val = gene_corrs_df.min().min()\n",
    "display(_min_val)\n",
    "assert _min_val >= -0.05"
   ]
  },
  {
   "cell_type": "code",
   "execution_count": 34,
   "id": "d04fb2cf-1050-475b-b855-f5f7cc04092b",
   "metadata": {
    "execution": {
     "iopub.execute_input": "2023-08-30T04:04:30.123383Z",
     "iopub.status.busy": "2023-08-30T04:04:30.122872Z",
     "iopub.status.idle": "2023-08-30T04:04:30.150043Z",
     "shell.execute_reply": "2023-08-30T04:04:30.149342Z"
    },
    "papermill": {
     "duration": 0.832724,
     "end_time": "2023-08-30T04:04:30.151106",
     "exception": false,
     "start_time": "2023-08-30T04:04:29.318382",
     "status": "completed"
    },
    "tags": []
   },
   "outputs": [
    {
     "data": {
      "text/plain": [
       "1.0000000000000038"
      ]
     },
     "metadata": {},
     "output_type": "display_data"
    }
   ],
   "source": [
    "_max_val = gene_corrs_df.max().max()  # this captures the diagonal\n",
    "display(_max_val)\n",
    "assert _max_val <= 1.05"
   ]
  },
  {
   "cell_type": "code",
   "execution_count": 35,
   "id": "fe283586-c348-40e0-8841-f6d97bfb021c",
   "metadata": {
    "execution": {
     "iopub.execute_input": "2023-08-30T04:04:31.538667Z",
     "iopub.status.busy": "2023-08-30T04:04:31.538354Z",
     "iopub.status.idle": "2023-08-30T04:04:31.563849Z",
     "shell.execute_reply": "2023-08-30T04:04:31.563289Z"
    },
    "papermill": {
     "duration": 0.715719,
     "end_time": "2023-08-30T04:04:31.564745",
     "exception": false,
     "start_time": "2023-08-30T04:04:30.849026",
     "status": "completed"
    },
    "tags": []
   },
   "outputs": [
    {
     "data": {
      "text/plain": [
       "count    22155.000000\n",
       "mean         0.013366\n",
       "std          0.102218\n",
       "min          0.000000\n",
       "25%          0.000000\n",
       "50%          0.000000\n",
       "75%          0.000000\n",
       "max          1.000000\n",
       "dtype: float64"
      ]
     },
     "execution_count": 35,
     "metadata": {},
     "output_type": "execute_result"
    }
   ],
   "source": [
    "gene_corrs_flat.describe()"
   ]
  },
  {
   "cell_type": "code",
   "execution_count": 36,
   "id": "b3815678-0f93-4b35-897b-a9d047a2aa78",
   "metadata": {
    "execution": {
     "iopub.execute_input": "2023-08-30T04:04:33.008511Z",
     "iopub.status.busy": "2023-08-30T04:04:33.008142Z",
     "iopub.status.idle": "2023-08-30T04:04:33.033581Z",
     "shell.execute_reply": "2023-08-30T04:04:33.032940Z"
    },
    "papermill": {
     "duration": 0.732604,
     "end_time": "2023-08-30T04:04:33.034606",
     "exception": false,
     "start_time": "2023-08-30T04:04:32.302002",
     "status": "completed"
    },
    "tags": []
   },
   "outputs": [
    {
     "data": {
      "text/plain": [
       "0.00    0.000000\n",
       "0.05    0.000000\n",
       "0.10    0.000000\n",
       "0.15    0.000000\n",
       "0.20    0.000000\n",
       "0.25    0.000000\n",
       "0.30    0.000000\n",
       "0.35    0.000000\n",
       "0.40    0.000000\n",
       "0.45    0.000000\n",
       "0.50    0.000000\n",
       "0.55    0.000000\n",
       "0.60    0.000000\n",
       "0.65    0.000000\n",
       "0.70    0.000000\n",
       "0.75    0.000000\n",
       "0.80    0.000000\n",
       "0.85    0.002116\n",
       "0.90    0.006080\n",
       "0.95    0.010119\n",
       "dtype: float64"
      ]
     },
     "metadata": {},
     "output_type": "display_data"
    }
   ],
   "source": [
    "gene_corrs_quantiles = gene_corrs_flat.quantile(np.arange(0, 1, 0.05))\n",
    "display(gene_corrs_quantiles)"
   ]
  },
  {
   "cell_type": "markdown",
   "id": "87134509-b145-4a10-8bc9-b7e914c2b0fa",
   "metadata": {
    "papermill": {
     "duration": 0.713762,
     "end_time": "2023-08-30T04:04:34.450714",
     "exception": false,
     "start_time": "2023-08-30T04:04:33.736952",
     "status": "completed"
    },
    "tags": []
   },
   "source": [
    "## Positive definiteness"
   ]
  },
  {
   "cell_type": "code",
   "execution_count": 37,
   "id": "07d9a9a1-a4f7-48aa-b916-6d42a8cc6186",
   "metadata": {
    "execution": {
     "iopub.execute_input": "2023-08-30T04:04:35.846853Z",
     "iopub.status.busy": "2023-08-30T04:04:35.846591Z",
     "iopub.status.idle": "2023-08-30T04:04:35.866895Z",
     "shell.execute_reply": "2023-08-30T04:04:35.866502Z"
    },
    "papermill": {
     "duration": 0.719774,
     "end_time": "2023-08-30T04:04:35.868155",
     "exception": false,
     "start_time": "2023-08-30T04:04:35.148381",
     "status": "completed"
    },
    "tags": []
   },
   "outputs": [
    {
     "data": {
      "text/plain": [
       "0"
      ]
     },
     "metadata": {},
     "output_type": "display_data"
    },
    {
     "data": {
      "text/plain": [
       "array([], dtype=float64)"
      ]
     },
     "metadata": {},
     "output_type": "display_data"
    }
   ],
   "source": [
    "# print negative eigenvalues\n",
    "eigs = np.linalg.eigvals(gene_corrs_df.to_numpy())\n",
    "display(len(eigs[eigs < 0]))\n",
    "display(eigs[eigs < 0])"
   ]
  },
  {
   "cell_type": "code",
   "execution_count": 38,
   "id": "6e218436-c3c5-4028-8c94-a4fa6260efce",
   "metadata": {
    "execution": {
     "iopub.execute_input": "2023-08-30T04:04:37.248482Z",
     "iopub.status.busy": "2023-08-30T04:04:37.248158Z",
     "iopub.status.idle": "2023-08-30T04:04:37.270919Z",
     "shell.execute_reply": "2023-08-30T04:04:37.270321Z"
    },
    "papermill": {
     "duration": 0.695891,
     "end_time": "2023-08-30T04:04:37.271862",
     "exception": false,
     "start_time": "2023-08-30T04:04:36.575971",
     "status": "completed"
    },
    "tags": []
   },
   "outputs": [
    {
     "name": "stdout",
     "output_type": "stream",
     "text": [
      "Works!\n"
     ]
    }
   ],
   "source": [
    "try:\n",
    "    chol_mat = np.linalg.cholesky(gene_corrs_df.to_numpy())\n",
    "    cov_inv = np.linalg.inv(chol_mat)\n",
    "    print(\"Works!\")\n",
    "except Exception as e:\n",
    "    print(f\"Cholesky decomposition failed: {str(e)}\")"
   ]
  },
  {
   "cell_type": "code",
   "execution_count": 39,
   "id": "dd8827fb-faf9-4c7c-9454-015e94752706",
   "metadata": {
    "execution": {
     "iopub.execute_input": "2023-08-30T04:04:38.725773Z",
     "iopub.status.busy": "2023-08-30T04:04:38.725222Z",
     "iopub.status.idle": "2023-08-30T04:04:38.750701Z",
     "shell.execute_reply": "2023-08-30T04:04:38.749978Z"
    },
    "papermill": {
     "duration": 0.756207,
     "end_time": "2023-08-30T04:04:38.751796",
     "exception": false,
     "start_time": "2023-08-30T04:04:37.995589",
     "status": "completed"
    },
    "tags": []
   },
   "outputs": [
    {
     "name": "stdout",
     "output_type": "stream",
     "text": [
      "Works!\n"
     ]
    }
   ],
   "source": [
    "try:\n",
    "    # decomposition used by statsmodels.GLS\n",
    "    cholsigmainv = np.linalg.cholesky(np.linalg.inv(gene_corrs_df.to_numpy())).T\n",
    "    print(\"Works!\")\n",
    "except Exception as e:\n",
    "    print(f\"Cholesky decomposition failed (statsmodels.GLS): {str(e)}\")"
   ]
  },
  {
   "cell_type": "markdown",
   "id": "8e60a080-edb2-4e9c-b2ef-22961693200c",
   "metadata": {
    "papermill": {
     "duration": 0.787344,
     "end_time": "2023-08-30T04:04:40.283690",
     "exception": false,
     "start_time": "2023-08-30T04:04:39.496346",
     "status": "completed"
    },
    "tags": []
   },
   "source": [
    "## Plot: distribution"
   ]
  },
  {
   "cell_type": "code",
   "execution_count": 40,
   "id": "8301126b-a7d4-4744-9c7d-f0f86eb6f54c",
   "metadata": {
    "execution": {
     "iopub.execute_input": "2023-08-30T04:04:41.764691Z",
     "iopub.status.busy": "2023-08-30T04:04:41.764222Z",
     "iopub.status.idle": "2023-08-30T04:04:42.090128Z",
     "shell.execute_reply": "2023-08-30T04:04:42.089615Z"
    },
    "papermill": {
     "duration": 1.054439,
     "end_time": "2023-08-30T04:04:42.091395",
     "exception": false,
     "start_time": "2023-08-30T04:04:41.036956",
     "status": "completed"
    },
    "tags": []
   },
   "outputs": [
    {
     "data": {
      "image/png": "[encoded data removed]",
      "text/plain": [
       "<Figure size 700x700 with 1 Axes>"
      ]
     },
     "metadata": {},
     "output_type": "display_data"
    }
   ],
   "source": [
    "with sns.plotting_context(\"paper\", font_scale=1.5):\n",
    "    g = sns.displot(gene_corrs_flat, kde=True, height=7)\n",
    "    g.ax.set_title(\n",
    "        f\"Distribution of gene correlation values in chromosome {CHROMOSOME}\"\n",
    "    )"
   ]
  },
  {
   "cell_type": "markdown",
   "id": "cbd52bca-d878-4a2f-b684-5c83aa3038d4",
   "metadata": {
    "papermill": {
     "duration": 0.73701,
     "end_time": "2023-08-30T04:04:43.561588",
     "exception": false,
     "start_time": "2023-08-30T04:04:42.824578",
     "status": "completed"
    },
    "tags": []
   },
   "source": [
    "## Plot: heatmap"
   ]
  },
  {
   "cell_type": "code",
   "execution_count": 41,
   "id": "d03fe63a-c7b2-4fb9-a53c-db362ce843c9",
   "metadata": {
    "execution": {
     "iopub.execute_input": "2023-08-30T04:04:44.968435Z",
     "iopub.status.busy": "2023-08-30T04:04:44.968118Z",
     "iopub.status.idle": "2023-08-30T04:04:44.990706Z",
     "shell.execute_reply": "2023-08-30T04:04:44.990213Z"
    },
    "papermill": {
     "duration": 0.730456,
     "end_time": "2023-08-30T04:04:44.991627",
     "exception": false,
     "start_time": "2023-08-30T04:04:44.261171",
     "status": "completed"
    },
    "tags": []
   },
   "outputs": [
    {
     "data": {
      "text/plain": [
       "'0.0 / 0.05'"
      ]
     },
     "metadata": {},
     "output_type": "display_data"
    }
   ],
   "source": [
    "vmin_val = min(0.00, gene_corrs_quantiles[0.10])\n",
    "vmax_val = max(0.05, gene_corrs_quantiles[0.90])\n",
    "display(f\"{vmin_val} / {vmax_val}\")"
   ]
  },
  {
   "cell_type": "code",
   "execution_count": 42,
   "id": "dc41b70b-5bcc-4d9e-9f33-a22c4a94dab5",
   "metadata": {
    "execution": {
     "iopub.execute_input": "2023-08-30T04:04:46.350381Z",
     "iopub.status.busy": "2023-08-30T04:04:46.349991Z",
     "iopub.status.idle": "2023-08-30T04:04:46.559181Z",
     "shell.execute_reply": "2023-08-30T04:04:46.558727Z"
    },
    "papermill": {
     "duration": 0.880448,
     "end_time": "2023-08-30T04:04:46.561004",
     "exception": false,
     "start_time": "2023-08-30T04:04:45.680556",
     "status": "completed"
    },
    "tags": []
   },
   "outputs": [
    {
     "data": {
      "text/plain": [
       "Text(0.5, 1.0, 'Gene correlations in chromosome 14')"
      ]
     },
     "execution_count": 42,
     "metadata": {},
     "output_type": "execute_result"
    },
    {
     "data": {
      "image/png": "[encoded data removed]",
      "text/plain": [
       "<Figure size 1000x1000 with 2 Axes>"
      ]
     },
     "metadata": {},
     "output_type": "display_data"
    }
   ],
   "source": [
    "f, ax = plt.subplots(figsize=(10, 10))\n",
    "sns.heatmap(\n",
    "    gene_corrs_df,\n",
    "    xticklabels=False,\n",
    "    yticklabels=False,\n",
    "    square=True,\n",
    "    vmin=vmin_val,\n",
    "    vmax=vmax_val,\n",
    "    cmap=\"rocket_r\",\n",
    "    ax=ax,\n",
    ")\n",
    "ax.set_title(f\"Gene correlations in chromosome {CHROMOSOME}\")"
   ]
  },
  {
   "cell_type": "code",
   "execution_count": null,
   "id": "b25e3ead",
   "metadata": {
    "papermill": {
     "duration": 0.690016,
     "end_time": "2023-08-30T04:04:47.979506",
     "exception": false,
     "start_time": "2023-08-30T04:04:47.289490",
     "status": "completed"
    },
    "tags": []
   },
   "outputs": [],
   "source": []
  }
 ],
 "metadata": {
  "jupytext": {
   "cell_metadata_filter": "all,-execution,-papermill,-trusted",
   "formats": "ipynb,py//py:percent"
  },
  "kernelspec": {
   "display_name": "Python 3 (ipykernel)",
   "language": "python",
   "name": "python3"
  },
  "language_info": {
   "codemirror_mode": {
    "name": "ipython",
    "version": 3
   },
   "file_extension": ".py",
   "mimetype": "text/x-python",
   "name": "python",
   "nbconvert_exporter": "python",
   "pygments_lexer": "ipython3",
   "version": "3.10.6"
  },
  "papermill": {
   "default_parameters": {},
   "duration": 280.853146,
   "end_time": "2023-08-30T04:04:51.970834",
   "environment_variables": {},
   "exception": null,
   "input_path": "projects/chronotype/nbs/20_gene_corrs/jobs/05-gene_expr_correlations.ipynb",
   "output_path": "projects/chronotype/nbs/20_gene_corrs/jobs/../output/chronotype/05-gene_expr_correlations-chr14.run.ipynb",
   "parameters": {
    "CHROMOSOME": 14,
    "COHORT_NAME": "chronotype",
    "OUTPUT_DIR_BASE": "/opt/data/projects/chronotype/results/gls_phenoplier",
    "PHENOPLIER_NOTEBOOK_FILEPATH": "projects/chronotype/nbs/20_gene_corrs/jobs/05-gene_expr_correlations.ipynb"
   },
   "start_time": "2023-08-30T04:00:11.117688",
   "version": "2.2.2"
  }
 },
 "nbformat": 4,
 "nbformat_minor": 5
}
