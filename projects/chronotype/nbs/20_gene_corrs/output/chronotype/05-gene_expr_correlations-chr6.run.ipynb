{
 "cells": [
  {
   "cell_type": "markdown",
   "id": "7a6632fb",
   "metadata": {
    "papermill": {
     "duration": 0.00866,
     "end_time": "2023-08-30T04:00:12.066981",
     "exception": false,
     "start_time": "2023-08-30T04:00:12.058321",
     "status": "completed"
    },
    "tags": []
   },
   "source": [
    "# Description"
   ]
  },
  {
   "cell_type": "markdown",
   "id": "7097c346",
   "metadata": {
    "papermill": {
     "duration": 0.00783,
     "end_time": "2023-08-30T04:00:12.082579",
     "exception": false,
     "start_time": "2023-08-30T04:00:12.074749",
     "status": "completed"
    },
    "tags": []
   },
   "source": [
    "This notebook computes predicted expression correlations between all genes in the MultiPLIER models.\n",
    "\n",
    "It has specicfic parameters for papermill (see under `Settings` below).\n",
    "\n",
    "This notebook should not be directly run. It is used by other notebooks."
   ]
  },
  {
   "cell_type": "markdown",
   "id": "c61d8427",
   "metadata": {
    "papermill": {
     "duration": 0.007639,
     "end_time": "2023-08-30T04:00:12.097893",
     "exception": false,
     "start_time": "2023-08-30T04:00:12.090254",
     "status": "completed"
    },
    "tags": []
   },
   "source": [
    "# Modules"
   ]
  },
  {
   "cell_type": "code",
   "execution_count": 1,
   "id": "bbc0234f",
   "metadata": {
    "execution": {
     "iopub.execute_input": "2023-08-30T04:00:12.115405Z",
     "iopub.status.busy": "2023-08-30T04:00:12.114937Z",
     "iopub.status.idle": "2023-08-30T04:00:12.139571Z",
     "shell.execute_reply": "2023-08-30T04:00:12.138887Z"
    },
    "papermill": {
     "duration": 0.035957,
     "end_time": "2023-08-30T04:00:12.142189",
     "exception": false,
     "start_time": "2023-08-30T04:00:12.106232",
     "status": "completed"
    },
    "tags": []
   },
   "outputs": [],
   "source": [
    "%load_ext autoreload\n",
    "%autoreload 2"
   ]
  },
  {
   "cell_type": "code",
   "execution_count": 2,
   "id": "1d5f5a59",
   "metadata": {
    "execution": {
     "iopub.execute_input": "2023-08-30T04:00:12.170828Z",
     "iopub.status.busy": "2023-08-30T04:00:12.170302Z",
     "iopub.status.idle": "2023-08-30T04:00:12.952522Z",
     "shell.execute_reply": "2023-08-30T04:00:12.952099Z"
    },
    "papermill": {
     "duration": 0.797771,
     "end_time": "2023-08-30T04:00:12.953698",
     "exception": false,
     "start_time": "2023-08-30T04:00:12.155927",
     "status": "completed"
    },
    "tags": []
   },
   "outputs": [],
   "source": [
    "from random import sample, seed\n",
    "import warnings\n",
    "from pathlib import Path\n",
    "import pickle\n",
    "import traceback\n",
    "\n",
    "import numpy as np\n",
    "from scipy.spatial.distance import squareform\n",
    "import pandas as pd\n",
    "from tqdm import tqdm\n",
    "import matplotlib.pyplot as plt\n",
    "import seaborn as sns\n",
    "\n",
    "import conf\n",
    "from entity import Gene"
   ]
  },
  {
   "cell_type": "markdown",
   "id": "1eac24b5",
   "metadata": {
    "papermill": {
     "duration": 0.0054,
     "end_time": "2023-08-30T04:00:12.964397",
     "exception": false,
     "start_time": "2023-08-30T04:00:12.958997",
     "status": "completed"
    },
    "tags": []
   },
   "source": [
    "# Settings"
   ]
  },
  {
   "cell_type": "code",
   "execution_count": 3,
   "id": "ca4560ba",
   "metadata": {
    "execution": {
     "iopub.execute_input": "2023-08-30T04:00:12.977938Z",
     "iopub.status.busy": "2023-08-30T04:00:12.977724Z",
     "iopub.status.idle": "2023-08-30T04:00:13.002816Z",
     "shell.execute_reply": "2023-08-30T04:00:13.002270Z"
    },
    "papermill": {
     "duration": 0.033836,
     "end_time": "2023-08-30T04:00:13.003960",
     "exception": false,
     "start_time": "2023-08-30T04:00:12.970124",
     "status": "completed"
    },
    "tags": [
     "parameters"
    ]
   },
   "outputs": [],
   "source": [
    "# a cohort name (it could be something like UK_BIOBANK, etc)\n",
    "COHORT_NAME = None\n",
    "\n",
    "# reference panel such as 1000G or GTEX_V8\n",
    "REFERENCE_PANEL = \"GTEX_V8\"\n",
    "\n",
    "# predictions models such as MASHR or ELASTIC_NET\n",
    "EQTL_MODEL = \"MASHR\"\n",
    "\n",
    "# this is the default value used in S-MultiXcan to select the\n",
    "# top principal components of the expression correlation matrix\n",
    "SMULTIXCAN_CONDITION_NUMBER = 30\n",
    "\n",
    "# specifies a single chromosome value\n",
    "CHROMOSOME = None\n",
    "\n",
    "# If True, computes the correlation between closeby genes only (see\n",
    "# entity.Gene.within_distance for more details). Otherwise, it computes\n",
    "# correlations for all genes in a chromosome\n",
    "COMPUTE_CORRELATIONS_WITHIN_DISTANCE = True\n",
    "\n",
    "# if True, then it will continue if a gene pair correlation fails,\n",
    "# printing the warning/error for debugging. If False, any warning/error\n",
    "# will be thrown\n",
    "DEBUG_MODE = False\n",
    "\n",
    "# output dir\n",
    "OUTPUT_DIR_BASE = None"
   ]
  },
  {
   "cell_type": "code",
   "execution_count": 4,
   "id": "fdb7d8ba",
   "metadata": {
    "execution": {
     "iopub.execute_input": "2023-08-30T04:00:13.013791Z",
     "iopub.status.busy": "2023-08-30T04:00:13.013561Z",
     "iopub.status.idle": "2023-08-30T04:00:13.039668Z",
     "shell.execute_reply": "2023-08-30T04:00:13.038999Z"
    },
    "papermill": {
     "duration": 0.032241,
     "end_time": "2023-08-30T04:00:13.040810",
     "exception": false,
     "start_time": "2023-08-30T04:00:13.008569",
     "status": "completed"
    },
    "tags": [
     "injected-parameters"
    ]
   },
   "outputs": [],
   "source": [
    "# Parameters\n",
    "PHENOPLIER_NOTEBOOK_FILEPATH = (\n",
    "    \"projects/chronotype/nbs/20_gene_corrs/jobs/05-gene_expr_correlations.ipynb\"\n",
    ")\n",
    "COHORT_NAME = \"chronotype\"\n",
    "CHROMOSOME = 6\n",
    "OUTPUT_DIR_BASE = \"/opt/data/projects/chronotype/results/gls_phenoplier\"\n"
   ]
  },
  {
   "cell_type": "code",
   "execution_count": 5,
   "id": "3190631f-27fc-480f-b18e-571d580425a5",
   "metadata": {
    "execution": {
     "iopub.execute_input": "2023-08-30T04:00:13.050810Z",
     "iopub.status.busy": "2023-08-30T04:00:13.050587Z",
     "iopub.status.idle": "2023-08-30T04:00:13.078133Z",
     "shell.execute_reply": "2023-08-30T04:00:13.077741Z"
    },
    "papermill": {
     "duration": 0.033741,
     "end_time": "2023-08-30T04:00:13.079117",
     "exception": false,
     "start_time": "2023-08-30T04:00:13.045376",
     "status": "completed"
    },
    "tags": []
   },
   "outputs": [
    {
     "data": {
      "text/plain": [
       "'Cohort name: chronotype'"
      ]
     },
     "metadata": {},
     "output_type": "display_data"
    }
   ],
   "source": [
    "assert COHORT_NAME is not None and len(COHORT_NAME) > 0, \"A cohort name must be given\"\n",
    "\n",
    "COHORT_NAME = COHORT_NAME.lower()\n",
    "display(f\"Cohort name: {COHORT_NAME}\")"
   ]
  },
  {
   "cell_type": "code",
   "execution_count": 6,
   "id": "f53ba19b-0f93-4fa2-a047-63b375939d1a",
   "metadata": {
    "execution": {
     "iopub.execute_input": "2023-08-30T04:00:13.089361Z",
     "iopub.status.busy": "2023-08-30T04:00:13.089036Z",
     "iopub.status.idle": "2023-08-30T04:00:13.108630Z",
     "shell.execute_reply": "2023-08-30T04:00:13.108154Z"
    },
    "papermill": {
     "duration": 0.025941,
     "end_time": "2023-08-30T04:00:13.109833",
     "exception": false,
     "start_time": "2023-08-30T04:00:13.083892",
     "status": "completed"
    },
    "tags": []
   },
   "outputs": [
    {
     "data": {
      "text/plain": [
       "'Reference panel: GTEX_V8'"
      ]
     },
     "metadata": {},
     "output_type": "display_data"
    }
   ],
   "source": [
    "assert (\n",
    "    REFERENCE_PANEL is not None and len(REFERENCE_PANEL) > 0\n",
    "), \"A reference panel must be given\"\n",
    "\n",
    "display(f\"Reference panel: {REFERENCE_PANEL}\")"
   ]
  },
  {
   "cell_type": "code",
   "execution_count": 7,
   "id": "e024d130-c139-429a-9c6e-ccf149e297b0",
   "metadata": {
    "execution": {
     "iopub.execute_input": "2023-08-30T04:00:13.122328Z",
     "iopub.status.busy": "2023-08-30T04:00:13.122045Z",
     "iopub.status.idle": "2023-08-30T04:00:13.146596Z",
     "shell.execute_reply": "2023-08-30T04:00:13.146116Z"
    },
    "papermill": {
     "duration": 0.030795,
     "end_time": "2023-08-30T04:00:13.147515",
     "exception": false,
     "start_time": "2023-08-30T04:00:13.116720",
     "status": "completed"
    },
    "tags": []
   },
   "outputs": [
    {
     "data": {
      "text/plain": [
       "'eQTL model: MASHR) / mashr_'"
      ]
     },
     "metadata": {},
     "output_type": "display_data"
    }
   ],
   "source": [
    "assert (\n",
    "    EQTL_MODEL is not None and len(EQTL_MODEL) > 0\n",
    "), \"A prediction/eQTL model must be given\"\n",
    "\n",
    "EQTL_MODEL_FILES_PREFIX = conf.PHENOMEXCAN[\"PREDICTION_MODELS\"][f\"{EQTL_MODEL}_PREFIX\"]\n",
    "display(f\"eQTL model: {EQTL_MODEL}) / {EQTL_MODEL_FILES_PREFIX}\")"
   ]
  },
  {
   "cell_type": "code",
   "execution_count": 8,
   "id": "552a7f63-a18c-4d3e-bb6a-94f99b431291",
   "metadata": {
    "execution": {
     "iopub.execute_input": "2023-08-30T04:00:13.162655Z",
     "iopub.status.busy": "2023-08-30T04:00:13.162450Z",
     "iopub.status.idle": "2023-08-30T04:00:13.191334Z",
     "shell.execute_reply": "2023-08-30T04:00:13.190942Z"
    },
    "papermill": {
     "duration": 0.037496,
     "end_time": "2023-08-30T04:00:13.192194",
     "exception": false,
     "start_time": "2023-08-30T04:00:13.154698",
     "status": "completed"
    },
    "tags": []
   },
   "outputs": [
    {
     "data": {
      "text/plain": [
       "'S-MultiXcan condition number: 30'"
      ]
     },
     "metadata": {},
     "output_type": "display_data"
    }
   ],
   "source": [
    "assert (\n",
    "    SMULTIXCAN_CONDITION_NUMBER is not None and SMULTIXCAN_CONDITION_NUMBER > 0\n",
    "), \"The S-MultiXcan condition number (positive integer) must be given\"\n",
    "\n",
    "display(f\"S-MultiXcan condition number: {SMULTIXCAN_CONDITION_NUMBER}\")"
   ]
  },
  {
   "cell_type": "code",
   "execution_count": 9,
   "id": "f34a336f-548e-4afe-8955-90eaea4f42c6",
   "metadata": {
    "execution": {
     "iopub.execute_input": "2023-08-30T04:00:13.206900Z",
     "iopub.status.busy": "2023-08-30T04:00:13.206626Z",
     "iopub.status.idle": "2023-08-30T04:00:13.233427Z",
     "shell.execute_reply": "2023-08-30T04:00:13.233010Z"
    },
    "papermill": {
     "duration": 0.035642,
     "end_time": "2023-08-30T04:00:13.234307",
     "exception": false,
     "start_time": "2023-08-30T04:00:13.198665",
     "status": "completed"
    },
    "tags": []
   },
   "outputs": [
    {
     "data": {
      "text/plain": [
       "'Working on chromosome 6'"
      ]
     },
     "metadata": {},
     "output_type": "display_data"
    }
   ],
   "source": [
    "assert CHROMOSOME is not None and (\n",
    "    1 <= CHROMOSOME <= 22\n",
    "), \"You have to select one chromosome (format: number between 1 and 22)\"\n",
    "\n",
    "display(f\"Working on chromosome {CHROMOSOME}\")"
   ]
  },
  {
   "cell_type": "code",
   "execution_count": 10,
   "id": "ab8e96e8-06b5-4363-9dcd-dc4d78cc27f7",
   "metadata": {
    "execution": {
     "iopub.execute_input": "2023-08-30T04:00:13.245576Z",
     "iopub.status.busy": "2023-08-30T04:00:13.244973Z",
     "iopub.status.idle": "2023-08-30T04:00:13.270198Z",
     "shell.execute_reply": "2023-08-30T04:00:13.269709Z"
    },
    "papermill": {
     "duration": 0.032061,
     "end_time": "2023-08-30T04:00:13.271123",
     "exception": false,
     "start_time": "2023-08-30T04:00:13.239062",
     "status": "completed"
    },
    "tags": []
   },
   "outputs": [
    {
     "data": {
      "text/plain": [
       "'Compute correlation within distance True'"
      ]
     },
     "metadata": {},
     "output_type": "display_data"
    }
   ],
   "source": [
    "display(f\"Compute correlation within distance {COMPUTE_CORRELATIONS_WITHIN_DISTANCE}\")"
   ]
  },
  {
   "cell_type": "code",
   "execution_count": 11,
   "id": "b393b698-77e3-4ba2-8ac1-e14d51aa988f",
   "metadata": {
    "execution": {
     "iopub.execute_input": "2023-08-30T04:00:13.282915Z",
     "iopub.status.busy": "2023-08-30T04:00:13.282699Z",
     "iopub.status.idle": "2023-08-30T04:00:13.302308Z",
     "shell.execute_reply": "2023-08-30T04:00:13.301902Z"
    },
    "papermill": {
     "duration": 0.028294,
     "end_time": "2023-08-30T04:00:13.304795",
     "exception": false,
     "start_time": "2023-08-30T04:00:13.276501",
     "status": "completed"
    },
    "tags": []
   },
   "outputs": [
    {
     "data": {
      "text/plain": [
       "'Using output dir base: /opt/data/projects/chronotype/results/gls_phenoplier/gene_corrs/chronotype'"
      ]
     },
     "metadata": {},
     "output_type": "display_data"
    }
   ],
   "source": [
    "assert (\n",
    "    OUTPUT_DIR_BASE is not None and len(OUTPUT_DIR_BASE) > 0\n",
    "), \"Output directory path must be given\"\n",
    "\n",
    "OUTPUT_DIR_BASE = (Path(OUTPUT_DIR_BASE) / \"gene_corrs\" / COHORT_NAME).resolve()\n",
    "\n",
    "OUTPUT_DIR_BASE.mkdir(parents=True, exist_ok=True)\n",
    "\n",
    "display(f\"Using output dir base: {OUTPUT_DIR_BASE}\")"
   ]
  },
  {
   "cell_type": "markdown",
   "id": "d2ba085e",
   "metadata": {
    "papermill": {
     "duration": 0.015084,
     "end_time": "2023-08-30T04:00:13.336184",
     "exception": false,
     "start_time": "2023-08-30T04:00:13.321100",
     "status": "completed"
    },
    "tags": []
   },
   "source": [
    "# Load data"
   ]
  },
  {
   "cell_type": "markdown",
   "id": "7dcb8db7",
   "metadata": {
    "papermill": {
     "duration": 0.004963,
     "end_time": "2023-08-30T04:00:13.350454",
     "exception": false,
     "start_time": "2023-08-30T04:00:13.345491",
     "status": "completed"
    },
    "tags": []
   },
   "source": [
    "## GWAS variants"
   ]
  },
  {
   "cell_type": "code",
   "execution_count": 12,
   "id": "29434c4e-8cd3-4b9b-82e4-b5a251d9dd19",
   "metadata": {
    "execution": {
     "iopub.execute_input": "2023-08-30T04:00:13.364396Z",
     "iopub.status.busy": "2023-08-30T04:00:13.364036Z",
     "iopub.status.idle": "2023-08-30T04:00:18.305895Z",
     "shell.execute_reply": "2023-08-30T04:00:18.304846Z"
    },
    "papermill": {
     "duration": 4.952693,
     "end_time": "2023-08-30T04:00:18.308209",
     "exception": false,
     "start_time": "2023-08-30T04:00:13.355516",
     "status": "completed"
    },
    "tags": []
   },
   "outputs": [],
   "source": [
    "with open(OUTPUT_DIR_BASE / \"gwas_variant_ids.pkl\", \"rb\") as handle:\n",
    "    gwas_variants_ids_set = pickle.load(handle)"
   ]
  },
  {
   "cell_type": "code",
   "execution_count": 13,
   "id": "b9d9dec2-4a76-4bf9-bde2-e24c95acb8a0",
   "metadata": {
    "execution": {
     "iopub.execute_input": "2023-08-30T04:00:18.325554Z",
     "iopub.status.busy": "2023-08-30T04:00:18.325198Z",
     "iopub.status.idle": "2023-08-30T04:00:18.345488Z",
     "shell.execute_reply": "2023-08-30T04:00:18.344864Z"
    },
    "papermill": {
     "duration": 0.030583,
     "end_time": "2023-08-30T04:00:18.346609",
     "exception": false,
     "start_time": "2023-08-30T04:00:18.316026",
     "status": "completed"
    },
    "tags": []
   },
   "outputs": [
    {
     "data": {
      "text/plain": [
       "11737794"
      ]
     },
     "execution_count": 13,
     "metadata": {},
     "output_type": "execute_result"
    }
   ],
   "source": [
    "len(gwas_variants_ids_set)"
   ]
  },
  {
   "cell_type": "code",
   "execution_count": 14,
   "id": "4235b06a-6034-4ee4-a0a3-2ae35d122418",
   "metadata": {
    "execution": {
     "iopub.execute_input": "2023-08-30T04:00:18.360239Z",
     "iopub.status.busy": "2023-08-30T04:00:18.359931Z",
     "iopub.status.idle": "2023-08-30T04:00:20.647838Z",
     "shell.execute_reply": "2023-08-30T04:00:20.645984Z"
    },
    "papermill": {
     "duration": 2.296847,
     "end_time": "2023-08-30T04:00:20.650269",
     "exception": false,
     "start_time": "2023-08-30T04:00:18.353422",
     "status": "completed"
    },
    "tags": []
   },
   "outputs": [
    {
     "data": {
      "text/plain": [
       "['chr12_84793732_G_A_b38',\n",
       " 'chr1_98284447_A_G_b38',\n",
       " 'chr4_8332573_A_G_b38',\n",
       " 'chr6_157634456_T_C_b38',\n",
       " 'chr13_53376378_A_G_b38']"
      ]
     },
     "execution_count": 14,
     "metadata": {},
     "output_type": "execute_result"
    }
   ],
   "source": [
    "list(gwas_variants_ids_set)[:5]"
   ]
  },
  {
   "cell_type": "markdown",
   "id": "07866999-2305-41f9-a144-e69c9122c212",
   "metadata": {
    "papermill": {
     "duration": 0.008889,
     "end_time": "2023-08-30T04:00:20.668623",
     "exception": false,
     "start_time": "2023-08-30T04:00:20.659734",
     "status": "completed"
    },
    "tags": []
   },
   "source": [
    "## S-PrediXcan tissue models"
   ]
  },
  {
   "cell_type": "code",
   "execution_count": 15,
   "id": "780611d9-77c8-405f-90a4-f271f7b09397",
   "metadata": {
    "execution": {
     "iopub.execute_input": "2023-08-30T04:00:20.689428Z",
     "iopub.status.busy": "2023-08-30T04:00:20.688687Z",
     "iopub.status.idle": "2023-08-30T04:00:22.686493Z",
     "shell.execute_reply": "2023-08-30T04:00:22.686051Z"
    },
    "papermill": {
     "duration": 2.010373,
     "end_time": "2023-08-30T04:00:22.688277",
     "exception": false,
     "start_time": "2023-08-30T04:00:20.677904",
     "status": "completed"
    },
    "tags": []
   },
   "outputs": [],
   "source": [
    "spredixcan_genes_models = pd.read_pickle(OUTPUT_DIR_BASE / \"gene_tissues.pkl\")"
   ]
  },
  {
   "cell_type": "code",
   "execution_count": 16,
   "id": "726dd1f6-9557-4225-91fa-b3b879ea96e1",
   "metadata": {
    "execution": {
     "iopub.execute_input": "2023-08-30T04:00:22.710744Z",
     "iopub.status.busy": "2023-08-30T04:00:22.710414Z",
     "iopub.status.idle": "2023-08-30T04:00:22.731236Z",
     "shell.execute_reply": "2023-08-30T04:00:22.730830Z"
    },
    "papermill": {
     "duration": 0.034302,
     "end_time": "2023-08-30T04:00:22.732731",
     "exception": false,
     "start_time": "2023-08-30T04:00:22.698429",
     "status": "completed"
    },
    "tags": []
   },
   "outputs": [
    {
     "data": {
      "text/plain": [
       "(6445, 5)"
      ]
     },
     "execution_count": 16,
     "metadata": {},
     "output_type": "execute_result"
    }
   ],
   "source": [
    "spredixcan_genes_models.shape"
   ]
  },
  {
   "cell_type": "code",
   "execution_count": 17,
   "id": "944a1b48-222c-4eb0-b252-b9de2cbca215",
   "metadata": {
    "execution": {
     "iopub.execute_input": "2023-08-30T04:00:22.755612Z",
     "iopub.status.busy": "2023-08-30T04:00:22.755384Z",
     "iopub.status.idle": "2023-08-30T04:00:22.781431Z",
     "shell.execute_reply": "2023-08-30T04:00:22.780917Z"
    },
    "papermill": {
     "duration": 0.036726,
     "end_time": "2023-08-30T04:00:22.782620",
     "exception": false,
     "start_time": "2023-08-30T04:00:22.745894",
     "status": "completed"
    },
    "tags": []
   },
   "outputs": [
    {
     "data": {
      "text/html": [
       "<div>\n",
       "<style scoped>\n",
       "    .dataframe tbody tr th:only-of-type {\n",
       "        vertical-align: middle;\n",
       "    }\n",
       "\n",
       "    .dataframe tbody tr th {\n",
       "        vertical-align: top;\n",
       "    }\n",
       "\n",
       "    .dataframe thead th {\n",
       "        text-align: right;\n",
       "    }\n",
       "</style>\n",
       "<table border=\"1\" class=\"dataframe\">\n",
       "  <thead>\n",
       "    <tr style=\"text-align: right;\">\n",
       "      <th></th>\n",
       "      <th>gene_name</th>\n",
       "      <th>tissue</th>\n",
       "      <th>n_tissues</th>\n",
       "      <th>n_snps_used_sum</th>\n",
       "      <th>n_snps_in_model_sum</th>\n",
       "    </tr>\n",
       "    <tr>\n",
       "      <th>gene_id</th>\n",
       "      <th></th>\n",
       "      <th></th>\n",
       "      <th></th>\n",
       "      <th></th>\n",
       "      <th></th>\n",
       "    </tr>\n",
       "  </thead>\n",
       "  <tbody>\n",
       "    <tr>\n",
       "      <th>ENSG00000000419</th>\n",
       "      <td>DPM1</td>\n",
       "      <td>(Brain_Substantia_nigra, Brain_Hypothalamus)</td>\n",
       "      <td>2</td>\n",
       "      <td>2</td>\n",
       "      <td>2</td>\n",
       "    </tr>\n",
       "    <tr>\n",
       "      <th>ENSG00000000938</th>\n",
       "      <td>FGR</td>\n",
       "      <td>(Skin_Sun_Exposed_Lower_leg, Brain_Caudate_bas...</td>\n",
       "      <td>36</td>\n",
       "      <td>40</td>\n",
       "      <td>40</td>\n",
       "    </tr>\n",
       "    <tr>\n",
       "      <th>ENSG00000000971</th>\n",
       "      <td>CFH</td>\n",
       "      <td>(Skin_Sun_Exposed_Lower_leg, Brain_Caudate_bas...</td>\n",
       "      <td>34</td>\n",
       "      <td>44</td>\n",
       "      <td>44</td>\n",
       "    </tr>\n",
       "    <tr>\n",
       "      <th>ENSG00000001084</th>\n",
       "      <td>GCLC</td>\n",
       "      <td>(Skin_Sun_Exposed_Lower_leg, Whole_Blood, Brai...</td>\n",
       "      <td>32</td>\n",
       "      <td>46</td>\n",
       "      <td>46</td>\n",
       "    </tr>\n",
       "    <tr>\n",
       "      <th>ENSG00000001167</th>\n",
       "      <td>NFYA</td>\n",
       "      <td>(Skin_Sun_Exposed_Lower_leg, Brain_Caudate_bas...</td>\n",
       "      <td>40</td>\n",
       "      <td>47</td>\n",
       "      <td>48</td>\n",
       "    </tr>\n",
       "  </tbody>\n",
       "</table>\n",
       "</div>"
      ],
      "text/plain": [
       "                gene_name                                             tissue  \\\n",
       "gene_id                                                                        \n",
       "ENSG00000000419      DPM1       (Brain_Substantia_nigra, Brain_Hypothalamus)   \n",
       "ENSG00000000938       FGR  (Skin_Sun_Exposed_Lower_leg, Brain_Caudate_bas...   \n",
       "ENSG00000000971       CFH  (Skin_Sun_Exposed_Lower_leg, Brain_Caudate_bas...   \n",
       "ENSG00000001084      GCLC  (Skin_Sun_Exposed_Lower_leg, Whole_Blood, Brai...   \n",
       "ENSG00000001167      NFYA  (Skin_Sun_Exposed_Lower_leg, Brain_Caudate_bas...   \n",
       "\n",
       "                 n_tissues  n_snps_used_sum  n_snps_in_model_sum  \n",
       "gene_id                                                           \n",
       "ENSG00000000419          2                2                    2  \n",
       "ENSG00000000938         36               40                   40  \n",
       "ENSG00000000971         34               44                   44  \n",
       "ENSG00000001084         32               46                   46  \n",
       "ENSG00000001167         40               47                   48  "
      ]
     },
     "execution_count": 17,
     "metadata": {},
     "output_type": "execute_result"
    }
   ],
   "source": [
    "spredixcan_genes_models.head()"
   ]
  },
  {
   "cell_type": "code",
   "execution_count": 18,
   "id": "d1c11bb1-be0b-4f40-b360-633d6827109f",
   "metadata": {
    "execution": {
     "iopub.execute_input": "2023-08-30T04:00:22.801148Z",
     "iopub.status.busy": "2023-08-30T04:00:22.800897Z",
     "iopub.status.idle": "2023-08-30T04:00:22.821930Z",
     "shell.execute_reply": "2023-08-30T04:00:22.821446Z"
    },
    "papermill": {
     "duration": 0.031627,
     "end_time": "2023-08-30T04:00:22.823294",
     "exception": false,
     "start_time": "2023-08-30T04:00:22.791667",
     "status": "completed"
    },
    "tags": []
   },
   "outputs": [],
   "source": [
    "assert spredixcan_genes_models.index.is_unique"
   ]
  },
  {
   "cell_type": "markdown",
   "id": "a5b5092c-a13e-47c4-a92a-480fcc08f3ae",
   "metadata": {
    "papermill": {
     "duration": 0.012186,
     "end_time": "2023-08-30T04:00:22.845835",
     "exception": false,
     "start_time": "2023-08-30T04:00:22.833649",
     "status": "completed"
    },
    "tags": []
   },
   "source": [
    "## Gene info"
   ]
  },
  {
   "cell_type": "code",
   "execution_count": 19,
   "id": "7d6bb224-88e9-4358-ac10-43a41d92cdad",
   "metadata": {
    "execution": {
     "iopub.execute_input": "2023-08-30T04:00:22.870601Z",
     "iopub.status.busy": "2023-08-30T04:00:22.870311Z",
     "iopub.status.idle": "2023-08-30T04:00:22.891573Z",
     "shell.execute_reply": "2023-08-30T04:00:22.890837Z"
    },
    "papermill": {
     "duration": 0.035972,
     "end_time": "2023-08-30T04:00:22.893711",
     "exception": false,
     "start_time": "2023-08-30T04:00:22.857739",
     "status": "completed"
    },
    "tags": []
   },
   "outputs": [],
   "source": [
    "genes_info = pd.read_pickle(OUTPUT_DIR_BASE / \"genes_info.pkl\")"
   ]
  },
  {
   "cell_type": "code",
   "execution_count": 20,
   "id": "9e32abfa-546d-483e-8c18-d526e9e05903",
   "metadata": {
    "execution": {
     "iopub.execute_input": "2023-08-30T04:00:22.924496Z",
     "iopub.status.busy": "2023-08-30T04:00:22.923853Z",
     "iopub.status.idle": "2023-08-30T04:00:22.952974Z",
     "shell.execute_reply": "2023-08-30T04:00:22.952492Z"
    },
    "papermill": {
     "duration": 0.045981,
     "end_time": "2023-08-30T04:00:22.954652",
     "exception": false,
     "start_time": "2023-08-30T04:00:22.908671",
     "status": "completed"
    },
    "tags": []
   },
   "outputs": [
    {
     "data": {
      "text/plain": [
       "(6445, 7)"
      ]
     },
     "execution_count": 20,
     "metadata": {},
     "output_type": "execute_result"
    }
   ],
   "source": [
    "genes_info.shape"
   ]
  },
  {
   "cell_type": "code",
   "execution_count": 21,
   "id": "d16c3e92-85ec-468a-9a56-e25a9774a1cb",
   "metadata": {
    "execution": {
     "iopub.execute_input": "2023-08-30T04:00:22.982398Z",
     "iopub.status.busy": "2023-08-30T04:00:22.982126Z",
     "iopub.status.idle": "2023-08-30T04:00:23.006995Z",
     "shell.execute_reply": "2023-08-30T04:00:23.006344Z"
    },
    "papermill": {
     "duration": 0.039799,
     "end_time": "2023-08-30T04:00:23.008581",
     "exception": false,
     "start_time": "2023-08-30T04:00:22.968782",
     "status": "completed"
    },
    "tags": []
   },
   "outputs": [
    {
     "data": {
      "text/html": [
       "<div>\n",
       "<style scoped>\n",
       "    .dataframe tbody tr th:only-of-type {\n",
       "        vertical-align: middle;\n",
       "    }\n",
       "\n",
       "    .dataframe tbody tr th {\n",
       "        vertical-align: top;\n",
       "    }\n",
       "\n",
       "    .dataframe thead th {\n",
       "        text-align: right;\n",
       "    }\n",
       "</style>\n",
       "<table border=\"1\" class=\"dataframe\">\n",
       "  <thead>\n",
       "    <tr style=\"text-align: right;\">\n",
       "      <th></th>\n",
       "      <th>name</th>\n",
       "      <th>id</th>\n",
       "      <th>chr</th>\n",
       "      <th>band</th>\n",
       "      <th>start_position</th>\n",
       "      <th>end_position</th>\n",
       "      <th>gene_length</th>\n",
       "    </tr>\n",
       "  </thead>\n",
       "  <tbody>\n",
       "    <tr>\n",
       "      <th>0</th>\n",
       "      <td>DUT</td>\n",
       "      <td>ENSG00000128951</td>\n",
       "      <td>15</td>\n",
       "      <td>15q21.1</td>\n",
       "      <td>48331011</td>\n",
       "      <td>48343373</td>\n",
       "      <td>12362</td>\n",
       "    </tr>\n",
       "    <tr>\n",
       "      <th>1</th>\n",
       "      <td>NDUFA4</td>\n",
       "      <td>ENSG00000189043</td>\n",
       "      <td>7</td>\n",
       "      <td>7p21.3</td>\n",
       "      <td>10931943</td>\n",
       "      <td>10940153</td>\n",
       "      <td>8210</td>\n",
       "    </tr>\n",
       "    <tr>\n",
       "      <th>2</th>\n",
       "      <td>EPHB3</td>\n",
       "      <td>ENSG00000182580</td>\n",
       "      <td>3</td>\n",
       "      <td>3q27.1</td>\n",
       "      <td>184561785</td>\n",
       "      <td>184582408</td>\n",
       "      <td>20623</td>\n",
       "    </tr>\n",
       "    <tr>\n",
       "      <th>3</th>\n",
       "      <td>MYLK</td>\n",
       "      <td>ENSG00000065534</td>\n",
       "      <td>3</td>\n",
       "      <td>3q21.1</td>\n",
       "      <td>123610049</td>\n",
       "      <td>123884331</td>\n",
       "      <td>274282</td>\n",
       "    </tr>\n",
       "    <tr>\n",
       "      <th>4</th>\n",
       "      <td>SMPD4</td>\n",
       "      <td>ENSG00000136699</td>\n",
       "      <td>2</td>\n",
       "      <td>2q21.1</td>\n",
       "      <td>130151392</td>\n",
       "      <td>130182750</td>\n",
       "      <td>31358</td>\n",
       "    </tr>\n",
       "  </tbody>\n",
       "</table>\n",
       "</div>"
      ],
      "text/plain": [
       "     name               id  chr     band  start_position  end_position  \\\n",
       "0     DUT  ENSG00000128951   15  15q21.1        48331011      48343373   \n",
       "1  NDUFA4  ENSG00000189043    7   7p21.3        10931943      10940153   \n",
       "2   EPHB3  ENSG00000182580    3   3q27.1       184561785     184582408   \n",
       "3    MYLK  ENSG00000065534    3   3q21.1       123610049     123884331   \n",
       "4   SMPD4  ENSG00000136699    2   2q21.1       130151392     130182750   \n",
       "\n",
       "   gene_length  \n",
       "0        12362  \n",
       "1         8210  \n",
       "2        20623  \n",
       "3       274282  \n",
       "4        31358  "
      ]
     },
     "execution_count": 21,
     "metadata": {},
     "output_type": "execute_result"
    }
   ],
   "source": [
    "genes_info.head()"
   ]
  },
  {
   "cell_type": "markdown",
   "id": "d3843e06",
   "metadata": {
    "papermill": {
     "duration": 0.007553,
     "end_time": "2023-08-30T04:00:23.024640",
     "exception": false,
     "start_time": "2023-08-30T04:00:23.017087",
     "status": "completed"
    },
    "tags": []
   },
   "source": [
    "# Compute correlations"
   ]
  },
  {
   "cell_type": "code",
   "execution_count": 22,
   "id": "cb859c15-d1f3-4006-a74c-2b83c0db9611",
   "metadata": {
    "execution": {
     "iopub.execute_input": "2023-08-30T04:00:23.040898Z",
     "iopub.status.busy": "2023-08-30T04:00:23.040587Z",
     "iopub.status.idle": "2023-08-30T04:00:23.059098Z",
     "shell.execute_reply": "2023-08-30T04:00:23.058621Z"
    },
    "papermill": {
     "duration": 0.026978,
     "end_time": "2023-08-30T04:00:23.060114",
     "exception": false,
     "start_time": "2023-08-30T04:00:23.033136",
     "status": "completed"
    },
    "tags": []
   },
   "outputs": [
    {
     "data": {
      "text/plain": [
       "PosixPath('/opt/data/projects/chronotype/results/gls_phenoplier/gene_corrs/chronotype/by_chr/gene_corrs-chr6.pkl')"
      ]
     },
     "metadata": {},
     "output_type": "display_data"
    }
   ],
   "source": [
    "output_dir = OUTPUT_DIR_BASE / \"by_chr\"\n",
    "output_dir.mkdir(exist_ok=True, parents=True)\n",
    "output_file = output_dir / f\"gene_corrs-chr{CHROMOSOME}.pkl\"\n",
    "display(output_file)"
   ]
  },
  {
   "cell_type": "code",
   "execution_count": 23,
   "id": "aa674fe4-6794-4eed-98fa-32b39d1d4ace",
   "metadata": {
    "execution": {
     "iopub.execute_input": "2023-08-30T04:00:23.072176Z",
     "iopub.status.busy": "2023-08-30T04:00:23.072014Z",
     "iopub.status.idle": "2023-08-30T04:00:23.088152Z",
     "shell.execute_reply": "2023-08-30T04:00:23.087633Z"
    },
    "papermill": {
     "duration": 0.023391,
     "end_time": "2023-08-30T04:00:23.089284",
     "exception": false,
     "start_time": "2023-08-30T04:00:23.065893",
     "status": "completed"
    },
    "tags": []
   },
   "outputs": [],
   "source": [
    "warnings.filterwarnings(\"error\")"
   ]
  },
  {
   "cell_type": "code",
   "execution_count": 24,
   "id": "44d5450b-3baf-43f1-9e2e-4b06f1a785f8",
   "metadata": {
    "execution": {
     "iopub.execute_input": "2023-08-30T04:00:23.104152Z",
     "iopub.status.busy": "2023-08-30T04:00:23.103757Z",
     "iopub.status.idle": "2023-08-30T04:00:23.121239Z",
     "shell.execute_reply": "2023-08-30T04:00:23.120764Z"
    },
    "papermill": {
     "duration": 0.027455,
     "end_time": "2023-08-30T04:00:23.122753",
     "exception": false,
     "start_time": "2023-08-30T04:00:23.095298",
     "status": "completed"
    },
    "tags": []
   },
   "outputs": [],
   "source": [
    "# standard checks\n",
    "all_chrs = genes_info[\"chr\"].dropna().unique()\n",
    "assert all_chrs.shape[0] == 22\n",
    "\n",
    "# select chromosome given by the user\n",
    "assert CHROMOSOME in all_chrs"
   ]
  },
  {
   "cell_type": "code",
   "execution_count": 25,
   "id": "2d7c043c-92a7-4d35-991b-fa69ac1e0268",
   "metadata": {
    "execution": {
     "iopub.execute_input": "2023-08-30T04:00:23.141394Z",
     "iopub.status.busy": "2023-08-30T04:00:23.141042Z",
     "iopub.status.idle": "2023-08-30T04:00:23.161253Z",
     "shell.execute_reply": "2023-08-30T04:00:23.160903Z"
    },
    "papermill": {
     "duration": 0.031203,
     "end_time": "2023-08-30T04:00:23.162753",
     "exception": false,
     "start_time": "2023-08-30T04:00:23.131550",
     "status": "completed"
    },
    "tags": []
   },
   "outputs": [
    {
     "name": "stdout",
     "output_type": "stream",
     "text": [
      "Number of genes in chromosome: 339\n"
     ]
    }
   ],
   "source": [
    "# run only on the chromosome specified\n",
    "all_chrs = [CHROMOSOME]\n",
    "genes_chr = genes_info[genes_info[\"chr\"] == CHROMOSOME]\n",
    "\n",
    "# For testing purposes\n",
    "# genes_chr = genes_chr.sample(n=20)\n",
    "\n",
    "print(f\"Number of genes in chromosome: {genes_chr.shape[0]}\", flush=True)"
   ]
  },
  {
   "cell_type": "code",
   "execution_count": 26,
   "id": "916015d8-2979-46d3-a9b9-1cf5a0932c6a",
   "metadata": {
    "execution": {
     "iopub.execute_input": "2023-08-30T04:00:23.181159Z",
     "iopub.status.busy": "2023-08-30T04:00:23.180810Z",
     "iopub.status.idle": "2023-08-30T04:00:23.204529Z",
     "shell.execute_reply": "2023-08-30T04:00:23.204070Z"
    },
    "papermill": {
     "duration": 0.034762,
     "end_time": "2023-08-30T04:00:23.206146",
     "exception": false,
     "start_time": "2023-08-30T04:00:23.171384",
     "status": "completed"
    },
    "tags": []
   },
   "outputs": [],
   "source": [
    "# sort genes by starting position to make visualizations better later\n",
    "genes_chr = genes_chr.sort_values(\"start_position\")"
   ]
  },
  {
   "cell_type": "code",
   "execution_count": 27,
   "id": "a38aa74a-8ad3-47f6-8ef9-56be0e011774",
   "metadata": {
    "execution": {
     "iopub.execute_input": "2023-08-30T04:00:23.227431Z",
     "iopub.status.busy": "2023-08-30T04:00:23.226998Z",
     "iopub.status.idle": "2023-08-30T04:00:23.246332Z",
     "shell.execute_reply": "2023-08-30T04:00:23.245870Z"
    },
    "papermill": {
     "duration": 0.032909,
     "end_time": "2023-08-30T04:00:23.248482",
     "exception": false,
     "start_time": "2023-08-30T04:00:23.215573",
     "status": "completed"
    },
    "tags": []
   },
   "outputs": [],
   "source": [
    "gene_chr_objs = [Gene(ensembl_id=gene_id) for gene_id in genes_chr[\"id\"]]"
   ]
  },
  {
   "cell_type": "code",
   "execution_count": 28,
   "id": "570f974f-13c3-42b6-ad3a-ce99ca885c1a",
   "metadata": {
    "execution": {
     "iopub.execute_input": "2023-08-30T04:00:23.269268Z",
     "iopub.status.busy": "2023-08-30T04:00:23.268930Z",
     "iopub.status.idle": "2023-08-30T04:00:23.293190Z",
     "shell.execute_reply": "2023-08-30T04:00:23.292687Z"
    },
    "papermill": {
     "duration": 0.035776,
     "end_time": "2023-08-30T04:00:23.294866",
     "exception": false,
     "start_time": "2023-08-30T04:00:23.259090",
     "status": "completed"
    },
    "tags": []
   },
   "outputs": [
    {
     "name": "stdout",
     "output_type": "stream",
     "text": [
      "Number of gene combinations: 57630\n"
     ]
    }
   ],
   "source": [
    "n = len(gene_chr_objs)\n",
    "# diagonal elements + upper triangular matrix\n",
    "n_comb = n + int(n * (n - 1) / 2.0)\n",
    "print(f\"Number of gene combinations: {n_comb}\", flush=True)"
   ]
  },
  {
   "cell_type": "code",
   "execution_count": 29,
   "id": "cdbb90a1",
   "metadata": {
    "execution": {
     "iopub.execute_input": "2023-08-30T04:00:23.315884Z",
     "iopub.status.busy": "2023-08-30T04:00:23.315086Z",
     "iopub.status.idle": "2023-08-30T04:07:40.670963Z",
     "shell.execute_reply": "2023-08-30T04:07:40.670399Z"
    },
    "papermill": {
     "duration": 437.367405,
     "end_time": "2023-08-30T04:07:40.672377",
     "exception": false,
     "start_time": "2023-08-30T04:00:23.304972",
     "status": "completed"
    },
    "tags": []
   },
   "outputs": [
    {
     "name": "stderr",
     "output_type": "stream",
     "text": [
      "ENSG00000112592 / ENSG00000112592: 100%|█████████████████████| 57630/57630 [07:17<00:00, 131.78it/s]\n"
     ]
    },
    {
     "data": {
      "text/plain": [
       "PosixPath('/opt/data/projects/chronotype/results/gls_phenoplier/gene_corrs/chronotype/by_chr/gene_corrs-chr6.pkl')"
      ]
     },
     "metadata": {},
     "output_type": "display_data"
    }
   ],
   "source": [
    "gene_corrs = []\n",
    "gene_corrs_data = np.full(\n",
    "    (n, n),\n",
    "    np.nan,\n",
    "    dtype=np.float64,\n",
    ")\n",
    "\n",
    "i = 0\n",
    "with tqdm(ncols=100, total=n_comb) as pbar:\n",
    "    for gene1_idx in range(0, len(gene_chr_objs)):\n",
    "        gene1_obj = gene_chr_objs[gene1_idx]\n",
    "        gene1_tissues = spredixcan_genes_models.loc[gene1_obj.ensembl_id, \"tissue\"]\n",
    "\n",
    "        for gene2_idx in range(gene1_idx, len(gene_chr_objs)):\n",
    "            gene2_obj = gene_chr_objs[gene2_idx]\n",
    "            gene2_tissues = spredixcan_genes_models.loc[gene2_obj.ensembl_id, \"tissue\"]\n",
    "\n",
    "            pbar.set_description(f\"{gene1_obj.ensembl_id} / {gene2_obj.ensembl_id}\")\n",
    "\n",
    "            try:\n",
    "                r = gene1_obj.get_ssm_correlation(\n",
    "                    other_gene=gene2_obj,\n",
    "                    tissues=gene1_tissues,\n",
    "                    other_tissues=gene2_tissues,\n",
    "                    snps_subset=gwas_variants_ids_set,\n",
    "                    condition_number=SMULTIXCAN_CONDITION_NUMBER,\n",
    "                    reference_panel=REFERENCE_PANEL,\n",
    "                    model_type=EQTL_MODEL,\n",
    "                    use_within_distance=COMPUTE_CORRELATIONS_WITHIN_DISTANCE,\n",
    "                )\n",
    "\n",
    "                if r is None:\n",
    "                    # if r is None, it's very likely because:\n",
    "                    #  * one of the genes has no prediction models\n",
    "                    #  * all the SNPs predictors for the gene are not present in the reference\n",
    "                    #    panel\n",
    "\n",
    "                    r = 0.0\n",
    "\n",
    "                gene_corrs.append(r)\n",
    "\n",
    "                gene_corrs_data[gene1_idx, gene2_idx] = r\n",
    "                gene_corrs_data[gene2_idx, gene1_idx] = r\n",
    "            except Warning as e:\n",
    "                if not DEBUG_MODE:\n",
    "                    raise e\n",
    "\n",
    "                print(\n",
    "                    f\"RuntimeWarning for genes {gene1_obj.ensembl_id} and {gene2_obj.ensembl_id}\",\n",
    "                    flush=True,\n",
    "                )\n",
    "                print(traceback.format_exc(), flush=True)\n",
    "\n",
    "                gene_corrs.append(np.nan)\n",
    "            except Exception as e:\n",
    "                if not DEBUG_MODE:\n",
    "                    raise e\n",
    "\n",
    "                print(\n",
    "                    f\"Exception for genes {gene1_obj.ensembl_id} and {gene2_obj.ensembl_id}\",\n",
    "                    flush=True,\n",
    "                )\n",
    "                print(traceback.format_exc(), flush=True)\n",
    "\n",
    "                gene_corrs.append(np.nan)\n",
    "\n",
    "            pbar.update(1)\n",
    "\n",
    "# create a pandas series\n",
    "gene_corrs_flat = pd.Series(gene_corrs)\n",
    "\n",
    "# save\n",
    "# FIXME: consider saving only the condenced matrix here. See here for\n",
    "# more details: https://github.com/greenelab/phenoplier/pull/38#discussion_r634600813\n",
    "# gene_corrs_data = squareform(np.array(gene_corrs, dtype=np.float64))\n",
    "# np.fill_diagonal(gene_corrs_data, 1.0)\n",
    "\n",
    "gene_chr_ids = [g.ensembl_id for g in gene_chr_objs]\n",
    "gene_corrs_df = pd.DataFrame(\n",
    "    data=gene_corrs_data,\n",
    "    index=gene_chr_ids,\n",
    "    columns=gene_chr_ids,\n",
    ")\n",
    "\n",
    "output_dir.mkdir(exist_ok=True, parents=True)\n",
    "display(output_file)\n",
    "\n",
    "gene_corrs_df.to_pickle(output_file)"
   ]
  },
  {
   "cell_type": "markdown",
   "id": "faa67b51-5373-470f-aa72-2ded53fa6dfe",
   "metadata": {
    "papermill": {
     "duration": 1.839496,
     "end_time": "2023-08-30T04:07:44.342098",
     "exception": false,
     "start_time": "2023-08-30T04:07:42.502602",
     "status": "completed"
    },
    "tags": []
   },
   "source": [
    "# Testing"
   ]
  },
  {
   "cell_type": "code",
   "execution_count": 30,
   "id": "14f7d046-4b55-4896-a56b-990127bcc388",
   "metadata": {
    "execution": {
     "iopub.execute_input": "2023-08-30T04:07:47.951357Z",
     "iopub.status.busy": "2023-08-30T04:07:47.951110Z",
     "iopub.status.idle": "2023-08-30T04:07:47.971360Z",
     "shell.execute_reply": "2023-08-30T04:07:47.970854Z"
    },
    "papermill": {
     "duration": 1.846157,
     "end_time": "2023-08-30T04:07:47.972302",
     "exception": false,
     "start_time": "2023-08-30T04:07:46.126145",
     "status": "completed"
    },
    "tags": []
   },
   "outputs": [
    {
     "data": {
      "text/plain": [
       "(339, 339)"
      ]
     },
     "execution_count": 30,
     "metadata": {},
     "output_type": "execute_result"
    }
   ],
   "source": [
    "gene_corrs_df.shape"
   ]
  },
  {
   "cell_type": "code",
   "execution_count": 31,
   "id": "c7d15414-3297-4537-a7c6-7588c0baeb75",
   "metadata": {
    "execution": {
     "iopub.execute_input": "2023-08-30T04:07:51.479311Z",
     "iopub.status.busy": "2023-08-30T04:07:51.478605Z",
     "iopub.status.idle": "2023-08-30T04:07:51.521339Z",
     "shell.execute_reply": "2023-08-30T04:07:51.520761Z"
    },
    "papermill": {
     "duration": 1.801728,
     "end_time": "2023-08-30T04:07:51.522318",
     "exception": false,
     "start_time": "2023-08-30T04:07:49.720590",
     "status": "completed"
    },
    "tags": []
   },
   "outputs": [
    {
     "data": {
      "text/html": [
       "<div>\n",
       "<style scoped>\n",
       "    .dataframe tbody tr th:only-of-type {\n",
       "        vertical-align: middle;\n",
       "    }\n",
       "\n",
       "    .dataframe tbody tr th {\n",
       "        vertical-align: top;\n",
       "    }\n",
       "\n",
       "    .dataframe thead th {\n",
       "        text-align: right;\n",
       "    }\n",
       "</style>\n",
       "<table border=\"1\" class=\"dataframe\">\n",
       "  <thead>\n",
       "    <tr style=\"text-align: right;\">\n",
       "      <th></th>\n",
       "      <th>ENSG00000137265</th>\n",
       "      <th>ENSG00000112685</th>\n",
       "      <th>ENSG00000112699</th>\n",
       "      <th>ENSG00000124570</th>\n",
       "      <th>ENSG00000137275</th>\n",
       "      <th>ENSG00000137267</th>\n",
       "      <th>ENSG00000112739</th>\n",
       "      <th>ENSG00000153046</th>\n",
       "      <th>ENSG00000145982</th>\n",
       "      <th>ENSG00000124491</th>\n",
       "      <th>...</th>\n",
       "      <th>ENSG00000146477</th>\n",
       "      <th>ENSG00000085511</th>\n",
       "      <th>ENSG00000026652</th>\n",
       "      <th>ENSG00000071242</th>\n",
       "      <th>ENSG00000213066</th>\n",
       "      <th>ENSG00000112486</th>\n",
       "      <th>ENSG00000186340</th>\n",
       "      <th>ENSG00000198719</th>\n",
       "      <th>ENSG00000008018</th>\n",
       "      <th>ENSG00000112592</th>\n",
       "    </tr>\n",
       "  </thead>\n",
       "  <tbody>\n",
       "    <tr>\n",
       "      <th>ENSG00000137265</th>\n",
       "      <td>1.000000</td>\n",
       "      <td>0.025694</td>\n",
       "      <td>0.007447</td>\n",
       "      <td>0.010414</td>\n",
       "      <td>0.008876</td>\n",
       "      <td>0.008347</td>\n",
       "      <td>0.004771</td>\n",
       "      <td>0.006513</td>\n",
       "      <td>0.002387</td>\n",
       "      <td>0.000000</td>\n",
       "      <td>...</td>\n",
       "      <td>0.0</td>\n",
       "      <td>0.0</td>\n",
       "      <td>0.0</td>\n",
       "      <td>0.0</td>\n",
       "      <td>0.0</td>\n",
       "      <td>0.0</td>\n",
       "      <td>0.0</td>\n",
       "      <td>0.0</td>\n",
       "      <td>0.0</td>\n",
       "      <td>0.0</td>\n",
       "    </tr>\n",
       "    <tr>\n",
       "      <th>ENSG00000112685</th>\n",
       "      <td>0.025694</td>\n",
       "      <td>1.000000</td>\n",
       "      <td>0.010854</td>\n",
       "      <td>0.012118</td>\n",
       "      <td>0.011265</td>\n",
       "      <td>0.007632</td>\n",
       "      <td>0.007737</td>\n",
       "      <td>0.009040</td>\n",
       "      <td>0.006144</td>\n",
       "      <td>0.000000</td>\n",
       "      <td>...</td>\n",
       "      <td>0.0</td>\n",
       "      <td>0.0</td>\n",
       "      <td>0.0</td>\n",
       "      <td>0.0</td>\n",
       "      <td>0.0</td>\n",
       "      <td>0.0</td>\n",
       "      <td>0.0</td>\n",
       "      <td>0.0</td>\n",
       "      <td>0.0</td>\n",
       "      <td>0.0</td>\n",
       "    </tr>\n",
       "    <tr>\n",
       "      <th>ENSG00000112699</th>\n",
       "      <td>0.007447</td>\n",
       "      <td>0.010854</td>\n",
       "      <td>1.000000</td>\n",
       "      <td>0.012723</td>\n",
       "      <td>0.005330</td>\n",
       "      <td>0.003385</td>\n",
       "      <td>0.009990</td>\n",
       "      <td>0.009226</td>\n",
       "      <td>0.005002</td>\n",
       "      <td>0.010644</td>\n",
       "      <td>...</td>\n",
       "      <td>0.0</td>\n",
       "      <td>0.0</td>\n",
       "      <td>0.0</td>\n",
       "      <td>0.0</td>\n",
       "      <td>0.0</td>\n",
       "      <td>0.0</td>\n",
       "      <td>0.0</td>\n",
       "      <td>0.0</td>\n",
       "      <td>0.0</td>\n",
       "      <td>0.0</td>\n",
       "    </tr>\n",
       "    <tr>\n",
       "      <th>ENSG00000124570</th>\n",
       "      <td>0.010414</td>\n",
       "      <td>0.012118</td>\n",
       "      <td>0.012723</td>\n",
       "      <td>1.000000</td>\n",
       "      <td>0.108738</td>\n",
       "      <td>0.013058</td>\n",
       "      <td>0.013829</td>\n",
       "      <td>0.011003</td>\n",
       "      <td>0.001829</td>\n",
       "      <td>0.012306</td>\n",
       "      <td>...</td>\n",
       "      <td>0.0</td>\n",
       "      <td>0.0</td>\n",
       "      <td>0.0</td>\n",
       "      <td>0.0</td>\n",
       "      <td>0.0</td>\n",
       "      <td>0.0</td>\n",
       "      <td>0.0</td>\n",
       "      <td>0.0</td>\n",
       "      <td>0.0</td>\n",
       "      <td>0.0</td>\n",
       "    </tr>\n",
       "    <tr>\n",
       "      <th>ENSG00000137275</th>\n",
       "      <td>0.008876</td>\n",
       "      <td>0.011265</td>\n",
       "      <td>0.005330</td>\n",
       "      <td>0.108738</td>\n",
       "      <td>1.000000</td>\n",
       "      <td>0.019379</td>\n",
       "      <td>0.005225</td>\n",
       "      <td>0.009162</td>\n",
       "      <td>0.008165</td>\n",
       "      <td>0.010212</td>\n",
       "      <td>...</td>\n",
       "      <td>0.0</td>\n",
       "      <td>0.0</td>\n",
       "      <td>0.0</td>\n",
       "      <td>0.0</td>\n",
       "      <td>0.0</td>\n",
       "      <td>0.0</td>\n",
       "      <td>0.0</td>\n",
       "      <td>0.0</td>\n",
       "      <td>0.0</td>\n",
       "      <td>0.0</td>\n",
       "    </tr>\n",
       "  </tbody>\n",
       "</table>\n",
       "<p>5 rows × 339 columns</p>\n",
       "</div>"
      ],
      "text/plain": [
       "                 ENSG00000137265  ENSG00000112685  ENSG00000112699  \\\n",
       "ENSG00000137265         1.000000         0.025694         0.007447   \n",
       "ENSG00000112685         0.025694         1.000000         0.010854   \n",
       "ENSG00000112699         0.007447         0.010854         1.000000   \n",
       "ENSG00000124570         0.010414         0.012118         0.012723   \n",
       "ENSG00000137275         0.008876         0.011265         0.005330   \n",
       "\n",
       "                 ENSG00000124570  ENSG00000137275  ENSG00000137267  \\\n",
       "ENSG00000137265         0.010414         0.008876         0.008347   \n",
       "ENSG00000112685         0.012118         0.011265         0.007632   \n",
       "ENSG00000112699         0.012723         0.005330         0.003385   \n",
       "ENSG00000124570         1.000000         0.108738         0.013058   \n",
       "ENSG00000137275         0.108738         1.000000         0.019379   \n",
       "\n",
       "                 ENSG00000112739  ENSG00000153046  ENSG00000145982  \\\n",
       "ENSG00000137265         0.004771         0.006513         0.002387   \n",
       "ENSG00000112685         0.007737         0.009040         0.006144   \n",
       "ENSG00000112699         0.009990         0.009226         0.005002   \n",
       "ENSG00000124570         0.013829         0.011003         0.001829   \n",
       "ENSG00000137275         0.005225         0.009162         0.008165   \n",
       "\n",
       "                 ENSG00000124491  ...  ENSG00000146477  ENSG00000085511  \\\n",
       "ENSG00000137265         0.000000  ...              0.0              0.0   \n",
       "ENSG00000112685         0.000000  ...              0.0              0.0   \n",
       "ENSG00000112699         0.010644  ...              0.0              0.0   \n",
       "ENSG00000124570         0.012306  ...              0.0              0.0   \n",
       "ENSG00000137275         0.010212  ...              0.0              0.0   \n",
       "\n",
       "                 ENSG00000026652  ENSG00000071242  ENSG00000213066  \\\n",
       "ENSG00000137265              0.0              0.0              0.0   \n",
       "ENSG00000112685              0.0              0.0              0.0   \n",
       "ENSG00000112699              0.0              0.0              0.0   \n",
       "ENSG00000124570              0.0              0.0              0.0   \n",
       "ENSG00000137275              0.0              0.0              0.0   \n",
       "\n",
       "                 ENSG00000112486  ENSG00000186340  ENSG00000198719  \\\n",
       "ENSG00000137265              0.0              0.0              0.0   \n",
       "ENSG00000112685              0.0              0.0              0.0   \n",
       "ENSG00000112699              0.0              0.0              0.0   \n",
       "ENSG00000124570              0.0              0.0              0.0   \n",
       "ENSG00000137275              0.0              0.0              0.0   \n",
       "\n",
       "                 ENSG00000008018  ENSG00000112592  \n",
       "ENSG00000137265              0.0              0.0  \n",
       "ENSG00000112685              0.0              0.0  \n",
       "ENSG00000112699              0.0              0.0  \n",
       "ENSG00000124570              0.0              0.0  \n",
       "ENSG00000137275              0.0              0.0  \n",
       "\n",
       "[5 rows x 339 columns]"
      ]
     },
     "execution_count": 31,
     "metadata": {},
     "output_type": "execute_result"
    }
   ],
   "source": [
    "gene_corrs_df.head()"
   ]
  },
  {
   "cell_type": "markdown",
   "id": "dad6603f-01c6-41fb-a6f6-241051207dd8",
   "metadata": {
    "papermill": {
     "duration": 1.817765,
     "end_time": "2023-08-30T04:07:55.145953",
     "exception": false,
     "start_time": "2023-08-30T04:07:53.328188",
     "status": "completed"
    },
    "tags": []
   },
   "source": [
    "## Standard checks and stats"
   ]
  },
  {
   "cell_type": "code",
   "execution_count": 32,
   "id": "286686af-1b7b-4440-8453-6bdcbd8de19c",
   "metadata": {
    "execution": {
     "iopub.execute_input": "2023-08-30T04:07:58.651228Z",
     "iopub.status.busy": "2023-08-30T04:07:58.650503Z",
     "iopub.status.idle": "2023-08-30T04:07:58.674089Z",
     "shell.execute_reply": "2023-08-30T04:07:58.673458Z"
    },
    "papermill": {
     "duration": 1.816226,
     "end_time": "2023-08-30T04:07:58.675064",
     "exception": false,
     "start_time": "2023-08-30T04:07:56.858838",
     "status": "completed"
    },
    "tags": []
   },
   "outputs": [],
   "source": [
    "assert not gene_corrs_df.isna().any(axis=None)"
   ]
  },
  {
   "cell_type": "code",
   "execution_count": 33,
   "id": "00583efc-7068-4270-ad1e-4a418e91db96",
   "metadata": {
    "execution": {
     "iopub.execute_input": "2023-08-30T04:08:02.112312Z",
     "iopub.status.busy": "2023-08-30T04:08:02.111903Z",
     "iopub.status.idle": "2023-08-30T04:08:02.137464Z",
     "shell.execute_reply": "2023-08-30T04:08:02.136819Z"
    },
    "papermill": {
     "duration": 1.777225,
     "end_time": "2023-08-30T04:08:02.138333",
     "exception": false,
     "start_time": "2023-08-30T04:08:00.361108",
     "status": "completed"
    },
    "tags": []
   },
   "outputs": [
    {
     "data": {
      "text/plain": [
       "0.0"
      ]
     },
     "metadata": {},
     "output_type": "display_data"
    }
   ],
   "source": [
    "_min_val = gene_corrs_df.min().min()\n",
    "display(_min_val)\n",
    "assert _min_val >= -0.05"
   ]
  },
  {
   "cell_type": "code",
   "execution_count": 34,
   "id": "d04fb2cf-1050-475b-b855-f5f7cc04092b",
   "metadata": {
    "execution": {
     "iopub.execute_input": "2023-08-30T04:08:05.756681Z",
     "iopub.status.busy": "2023-08-30T04:08:05.756070Z",
     "iopub.status.idle": "2023-08-30T04:08:05.781655Z",
     "shell.execute_reply": "2023-08-30T04:08:05.781008Z"
    },
    "papermill": {
     "duration": 1.866689,
     "end_time": "2023-08-30T04:08:05.782820",
     "exception": false,
     "start_time": "2023-08-30T04:08:03.916131",
     "status": "completed"
    },
    "tags": []
   },
   "outputs": [
    {
     "data": {
      "text/plain": [
       "1.0000000000000029"
      ]
     },
     "metadata": {},
     "output_type": "display_data"
    }
   ],
   "source": [
    "_max_val = gene_corrs_df.max().max()  # this captures the diagonal\n",
    "display(_max_val)\n",
    "assert _max_val <= 1.05"
   ]
  },
  {
   "cell_type": "code",
   "execution_count": 35,
   "id": "fe283586-c348-40e0-8841-f6d97bfb021c",
   "metadata": {
    "execution": {
     "iopub.execute_input": "2023-08-30T04:08:09.310924Z",
     "iopub.status.busy": "2023-08-30T04:08:09.310281Z",
     "iopub.status.idle": "2023-08-30T04:08:09.334854Z",
     "shell.execute_reply": "2023-08-30T04:08:09.334360Z"
    },
    "papermill": {
     "duration": 1.847427,
     "end_time": "2023-08-30T04:08:09.335728",
     "exception": false,
     "start_time": "2023-08-30T04:08:07.488301",
     "status": "completed"
    },
    "tags": []
   },
   "outputs": [
    {
     "data": {
      "text/plain": [
       "count    57630.000000\n",
       "mean         0.010522\n",
       "std          0.083216\n",
       "min          0.000000\n",
       "25%          0.000000\n",
       "50%          0.000000\n",
       "75%          0.000000\n",
       "max          1.000000\n",
       "dtype: float64"
      ]
     },
     "execution_count": 35,
     "metadata": {},
     "output_type": "execute_result"
    }
   ],
   "source": [
    "gene_corrs_flat.describe()"
   ]
  },
  {
   "cell_type": "code",
   "execution_count": 36,
   "id": "b3815678-0f93-4b35-897b-a9d047a2aa78",
   "metadata": {
    "execution": {
     "iopub.execute_input": "2023-08-30T04:08:12.804023Z",
     "iopub.status.busy": "2023-08-30T04:08:12.803490Z",
     "iopub.status.idle": "2023-08-30T04:08:12.834997Z",
     "shell.execute_reply": "2023-08-30T04:08:12.834400Z"
    },
    "papermill": {
     "duration": 1.780549,
     "end_time": "2023-08-30T04:08:12.835959",
     "exception": false,
     "start_time": "2023-08-30T04:08:11.055410",
     "status": "completed"
    },
    "tags": []
   },
   "outputs": [
    {
     "data": {
      "text/plain": [
       "0.00    0.000000\n",
       "0.05    0.000000\n",
       "0.10    0.000000\n",
       "0.15    0.000000\n",
       "0.20    0.000000\n",
       "0.25    0.000000\n",
       "0.30    0.000000\n",
       "0.35    0.000000\n",
       "0.40    0.000000\n",
       "0.45    0.000000\n",
       "0.50    0.000000\n",
       "0.55    0.000000\n",
       "0.60    0.000000\n",
       "0.65    0.000000\n",
       "0.70    0.000000\n",
       "0.75    0.000000\n",
       "0.80    0.000000\n",
       "0.85    0.000000\n",
       "0.90    0.004274\n",
       "0.95    0.011921\n",
       "dtype: float64"
      ]
     },
     "metadata": {},
     "output_type": "display_data"
    }
   ],
   "source": [
    "gene_corrs_quantiles = gene_corrs_flat.quantile(np.arange(0, 1, 0.05))\n",
    "display(gene_corrs_quantiles)"
   ]
  },
  {
   "cell_type": "markdown",
   "id": "87134509-b145-4a10-8bc9-b7e914c2b0fa",
   "metadata": {
    "papermill": {
     "duration": 1.812073,
     "end_time": "2023-08-30T04:08:16.396560",
     "exception": false,
     "start_time": "2023-08-30T04:08:14.584487",
     "status": "completed"
    },
    "tags": []
   },
   "source": [
    "## Positive definiteness"
   ]
  },
  {
   "cell_type": "code",
   "execution_count": 37,
   "id": "07d9a9a1-a4f7-48aa-b916-6d42a8cc6186",
   "metadata": {
    "execution": {
     "iopub.execute_input": "2023-08-30T04:08:19.885056Z",
     "iopub.status.busy": "2023-08-30T04:08:19.884555Z",
     "iopub.status.idle": "2023-08-30T04:08:19.941509Z",
     "shell.execute_reply": "2023-08-30T04:08:19.940790Z"
    },
    "papermill": {
     "duration": 1.853959,
     "end_time": "2023-08-30T04:08:19.942965",
     "exception": false,
     "start_time": "2023-08-30T04:08:18.089006",
     "status": "completed"
    },
    "tags": []
   },
   "outputs": [
    {
     "data": {
      "text/plain": [
       "0"
      ]
     },
     "metadata": {},
     "output_type": "display_data"
    },
    {
     "data": {
      "text/plain": [
       "array([], dtype=float64)"
      ]
     },
     "metadata": {},
     "output_type": "display_data"
    }
   ],
   "source": [
    "# print negative eigenvalues\n",
    "eigs = np.linalg.eigvals(gene_corrs_df.to_numpy())\n",
    "display(len(eigs[eigs < 0]))\n",
    "display(eigs[eigs < 0])"
   ]
  },
  {
   "cell_type": "code",
   "execution_count": 38,
   "id": "6e218436-c3c5-4028-8c94-a4fa6260efce",
   "metadata": {
    "execution": {
     "iopub.execute_input": "2023-08-30T04:08:23.432446Z",
     "iopub.status.busy": "2023-08-30T04:08:23.431913Z",
     "iopub.status.idle": "2023-08-30T04:08:23.464913Z",
     "shell.execute_reply": "2023-08-30T04:08:23.464192Z"
    },
    "papermill": {
     "duration": 1.803115,
     "end_time": "2023-08-30T04:08:23.465954",
     "exception": false,
     "start_time": "2023-08-30T04:08:21.662839",
     "status": "completed"
    },
    "tags": []
   },
   "outputs": [
    {
     "name": "stdout",
     "output_type": "stream",
     "text": [
      "Works!\n"
     ]
    }
   ],
   "source": [
    "try:\n",
    "    chol_mat = np.linalg.cholesky(gene_corrs_df.to_numpy())\n",
    "    cov_inv = np.linalg.inv(chol_mat)\n",
    "    print(\"Works!\")\n",
    "except Exception as e:\n",
    "    print(f\"Cholesky decomposition failed: {str(e)}\")"
   ]
  },
  {
   "cell_type": "code",
   "execution_count": 39,
   "id": "dd8827fb-faf9-4c7c-9454-015e94752706",
   "metadata": {
    "execution": {
     "iopub.execute_input": "2023-08-30T04:08:27.242559Z",
     "iopub.status.busy": "2023-08-30T04:08:27.242054Z",
     "iopub.status.idle": "2023-08-30T04:08:27.274911Z",
     "shell.execute_reply": "2023-08-30T04:08:27.274314Z"
    },
    "papermill": {
     "duration": 1.9418,
     "end_time": "2023-08-30T04:08:27.275792",
     "exception": false,
     "start_time": "2023-08-30T04:08:25.333992",
     "status": "completed"
    },
    "tags": []
   },
   "outputs": [
    {
     "name": "stdout",
     "output_type": "stream",
     "text": [
      "Works!\n"
     ]
    }
   ],
   "source": [
    "try:\n",
    "    # decomposition used by statsmodels.GLS\n",
    "    cholsigmainv = np.linalg.cholesky(np.linalg.inv(gene_corrs_df.to_numpy())).T\n",
    "    print(\"Works!\")\n",
    "except Exception as e:\n",
    "    print(f\"Cholesky decomposition failed (statsmodels.GLS): {str(e)}\")"
   ]
  },
  {
   "cell_type": "markdown",
   "id": "8e60a080-edb2-4e9c-b2ef-22961693200c",
   "metadata": {
    "papermill": {
     "duration": 1.804479,
     "end_time": "2023-08-30T04:08:30.786392",
     "exception": false,
     "start_time": "2023-08-30T04:08:28.981913",
     "status": "completed"
    },
    "tags": []
   },
   "source": [
    "## Plot: distribution"
   ]
  },
  {
   "cell_type": "code",
   "execution_count": 40,
   "id": "8301126b-a7d4-4744-9c7d-f0f86eb6f54c",
   "metadata": {
    "execution": {
     "iopub.execute_input": "2023-08-30T04:08:34.236236Z",
     "iopub.status.busy": "2023-08-30T04:08:34.235916Z",
     "iopub.status.idle": "2023-08-30T04:08:34.651170Z",
     "shell.execute_reply": "2023-08-30T04:08:34.650727Z"
    },
    "papermill": {
     "duration": 2.156955,
     "end_time": "2023-08-30T04:08:34.652126",
     "exception": false,
     "start_time": "2023-08-30T04:08:32.495171",
     "status": "completed"
    },
    "tags": []
   },
   "outputs": [
    {
     "data": {
      "image/png": "[encoded data removed]",
      "text/plain": [
       "<Figure size 700x700 with 1 Axes>"
      ]
     },
     "metadata": {},
     "output_type": "display_data"
    }
   ],
   "source": [
    "with sns.plotting_context(\"paper\", font_scale=1.5):\n",
    "    g = sns.displot(gene_corrs_flat, kde=True, height=7)\n",
    "    g.ax.set_title(\n",
    "        f\"Distribution of gene correlation values in chromosome {CHROMOSOME}\"\n",
    "    )"
   ]
  },
  {
   "cell_type": "markdown",
   "id": "cbd52bca-d878-4a2f-b684-5c83aa3038d4",
   "metadata": {
    "papermill": {
     "duration": 1.871817,
     "end_time": "2023-08-30T04:08:38.290166",
     "exception": false,
     "start_time": "2023-08-30T04:08:36.418349",
     "status": "completed"
    },
    "tags": []
   },
   "source": [
    "## Plot: heatmap"
   ]
  },
  {
   "cell_type": "code",
   "execution_count": 41,
   "id": "d03fe63a-c7b2-4fb9-a53c-db362ce843c9",
   "metadata": {
    "execution": {
     "iopub.execute_input": "2023-08-30T04:08:41.838613Z",
     "iopub.status.busy": "2023-08-30T04:08:41.838226Z",
     "iopub.status.idle": "2023-08-30T04:08:41.861878Z",
     "shell.execute_reply": "2023-08-30T04:08:41.861336Z"
    },
    "papermill": {
     "duration": 1.814124,
     "end_time": "2023-08-30T04:08:41.862839",
     "exception": false,
     "start_time": "2023-08-30T04:08:40.048715",
     "status": "completed"
    },
    "tags": []
   },
   "outputs": [
    {
     "data": {
      "text/plain": [
       "'0.0 / 0.05'"
      ]
     },
     "metadata": {},
     "output_type": "display_data"
    }
   ],
   "source": [
    "vmin_val = min(0.00, gene_corrs_quantiles[0.10])\n",
    "vmax_val = max(0.05, gene_corrs_quantiles[0.90])\n",
    "display(f\"{vmin_val} / {vmax_val}\")"
   ]
  },
  {
   "cell_type": "code",
   "execution_count": 42,
   "id": "dc41b70b-5bcc-4d9e-9f33-a22c4a94dab5",
   "metadata": {
    "execution": {
     "iopub.execute_input": "2023-08-30T04:08:45.391620Z",
     "iopub.status.busy": "2023-08-30T04:08:45.391171Z",
     "iopub.status.idle": "2023-08-30T04:08:45.661002Z",
     "shell.execute_reply": "2023-08-30T04:08:45.660553Z"
    },
    "papermill": {
     "duration": 2.086176,
     "end_time": "2023-08-30T04:08:45.662305",
     "exception": false,
     "start_time": "2023-08-30T04:08:43.576129",
     "status": "completed"
    },
    "tags": []
   },
   "outputs": [
    {
     "data": {
      "text/plain": [
       "Text(0.5, 1.0, 'Gene correlations in chromosome 6')"
      ]
     },
     "execution_count": 42,
     "metadata": {},
     "output_type": "execute_result"
    },
    {
     "data": {
      "image/png": "[encoded data removed]",
      "text/plain": [
       "<Figure size 1000x1000 with 2 Axes>"
      ]
     },
     "metadata": {},
     "output_type": "display_data"
    }
   ],
   "source": [
    "f, ax = plt.subplots(figsize=(10, 10))\n",
    "sns.heatmap(\n",
    "    gene_corrs_df,\n",
    "    xticklabels=False,\n",
    "    yticklabels=False,\n",
    "    square=True,\n",
    "    vmin=vmin_val,\n",
    "    vmax=vmax_val,\n",
    "    cmap=\"rocket_r\",\n",
    "    ax=ax,\n",
    ")\n",
    "ax.set_title(f\"Gene correlations in chromosome {CHROMOSOME}\")"
   ]
  },
  {
   "cell_type": "code",
   "execution_count": null,
   "id": "b25e3ead",
   "metadata": {
    "papermill": {
     "duration": 1.801322,
     "end_time": "2023-08-30T04:08:49.222432",
     "exception": false,
     "start_time": "2023-08-30T04:08:47.421110",
     "status": "completed"
    },
    "tags": []
   },
   "outputs": [],
   "source": []
  }
 ],
 "metadata": {
  "jupytext": {
   "cell_metadata_filter": "all,-execution,-papermill,-trusted",
   "formats": "ipynb,py//py:percent"
  },
  "kernelspec": {
   "display_name": "Python 3 (ipykernel)",
   "language": "python",
   "name": "python3"
  },
  "language_info": {
   "codemirror_mode": {
    "name": "ipython",
    "version": 3
   },
   "file_extension": ".py",
   "mimetype": "text/x-python",
   "name": "python",
   "nbconvert_exporter": "python",
   "pygments_lexer": "ipython3",
   "version": "3.10.6"
  },
  "papermill": {
   "default_parameters": {},
   "duration": 523.00285,
   "end_time": "2023-08-30T04:08:54.124843",
   "environment_variables": {},
   "exception": null,
   "input_path": "projects/chronotype/nbs/20_gene_corrs/jobs/05-gene_expr_correlations.ipynb",
   "output_path": "projects/chronotype/nbs/20_gene_corrs/jobs/../output/chronotype/05-gene_expr_correlations-chr6.run.ipynb",
   "parameters": {
    "CHROMOSOME": 6,
    "COHORT_NAME": "chronotype",
    "OUTPUT_DIR_BASE": "/opt/data/projects/chronotype/results/gls_phenoplier",
    "PHENOPLIER_NOTEBOOK_FILEPATH": "projects/chronotype/nbs/20_gene_corrs/jobs/05-gene_expr_correlations.ipynb"
   },
   "start_time": "2023-08-30T04:00:11.121993",
   "version": "2.2.2"
  }
 },
 "nbformat": 4,
 "nbformat_minor": 5
}
