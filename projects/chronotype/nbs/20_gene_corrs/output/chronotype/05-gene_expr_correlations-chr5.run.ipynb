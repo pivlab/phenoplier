{
 "cells": [
  {
   "cell_type": "markdown",
   "id": "7a6632fb",
   "metadata": {
    "papermill": {
     "duration": 0.014861,
     "end_time": "2023-08-30T04:00:12.068563",
     "exception": false,
     "start_time": "2023-08-30T04:00:12.053702",
     "status": "completed"
    },
    "tags": []
   },
   "source": [
    "# Description"
   ]
  },
  {
   "cell_type": "markdown",
   "id": "7097c346",
   "metadata": {
    "papermill": {
     "duration": 0.010958,
     "end_time": "2023-08-30T04:00:12.090532",
     "exception": false,
     "start_time": "2023-08-30T04:00:12.079574",
     "status": "completed"
    },
    "tags": []
   },
   "source": [
    "This notebook computes predicted expression correlations between all genes in the MultiPLIER models.\n",
    "\n",
    "It has specicfic parameters for papermill (see under `Settings` below).\n",
    "\n",
    "This notebook should not be directly run. It is used by other notebooks."
   ]
  },
  {
   "cell_type": "markdown",
   "id": "c61d8427",
   "metadata": {
    "papermill": {
     "duration": 0.010818,
     "end_time": "2023-08-30T04:00:12.112185",
     "exception": false,
     "start_time": "2023-08-30T04:00:12.101367",
     "status": "completed"
    },
    "tags": []
   },
   "source": [
    "# Modules"
   ]
  },
  {
   "cell_type": "code",
   "execution_count": 1,
   "id": "bbc0234f",
   "metadata": {
    "execution": {
     "iopub.execute_input": "2023-08-30T04:00:12.127685Z",
     "iopub.status.busy": "2023-08-30T04:00:12.127009Z",
     "iopub.status.idle": "2023-08-30T04:00:12.142430Z",
     "shell.execute_reply": "2023-08-30T04:00:12.142007Z"
    },
    "papermill": {
     "duration": 0.02498,
     "end_time": "2023-08-30T04:00:12.144353",
     "exception": false,
     "start_time": "2023-08-30T04:00:12.119373",
     "status": "completed"
    },
    "tags": []
   },
   "outputs": [],
   "source": [
    "%load_ext autoreload\n",
    "%autoreload 2"
   ]
  },
  {
   "cell_type": "code",
   "execution_count": 2,
   "id": "1d5f5a59",
   "metadata": {
    "execution": {
     "iopub.execute_input": "2023-08-30T04:00:12.167464Z",
     "iopub.status.busy": "2023-08-30T04:00:12.167291Z",
     "iopub.status.idle": "2023-08-30T04:00:12.896071Z",
     "shell.execute_reply": "2023-08-30T04:00:12.895501Z"
    },
    "papermill": {
     "duration": 0.741864,
     "end_time": "2023-08-30T04:00:12.897468",
     "exception": false,
     "start_time": "2023-08-30T04:00:12.155604",
     "status": "completed"
    },
    "tags": []
   },
   "outputs": [],
   "source": [
    "from random import sample, seed\n",
    "import warnings\n",
    "from pathlib import Path\n",
    "import pickle\n",
    "import traceback\n",
    "\n",
    "import numpy as np\n",
    "from scipy.spatial.distance import squareform\n",
    "import pandas as pd\n",
    "from tqdm import tqdm\n",
    "import matplotlib.pyplot as plt\n",
    "import seaborn as sns\n",
    "\n",
    "import conf\n",
    "from entity import Gene"
   ]
  },
  {
   "cell_type": "markdown",
   "id": "1eac24b5",
   "metadata": {
    "papermill": {
     "duration": 0.00764,
     "end_time": "2023-08-30T04:00:12.913030",
     "exception": false,
     "start_time": "2023-08-30T04:00:12.905390",
     "status": "completed"
    },
    "tags": []
   },
   "source": [
    "# Settings"
   ]
  },
  {
   "cell_type": "code",
   "execution_count": 3,
   "id": "ca4560ba",
   "metadata": {
    "execution": {
     "iopub.execute_input": "2023-08-30T04:00:12.929630Z",
     "iopub.status.busy": "2023-08-30T04:00:12.928982Z",
     "iopub.status.idle": "2023-08-30T04:00:12.954394Z",
     "shell.execute_reply": "2023-08-30T04:00:12.953871Z"
    },
    "papermill": {
     "duration": 0.035778,
     "end_time": "2023-08-30T04:00:12.956084",
     "exception": false,
     "start_time": "2023-08-30T04:00:12.920306",
     "status": "completed"
    },
    "tags": [
     "parameters"
    ]
   },
   "outputs": [],
   "source": [
    "# a cohort name (it could be something like UK_BIOBANK, etc)\n",
    "COHORT_NAME = None\n",
    "\n",
    "# reference panel such as 1000G or GTEX_V8\n",
    "REFERENCE_PANEL = \"GTEX_V8\"\n",
    "\n",
    "# predictions models such as MASHR or ELASTIC_NET\n",
    "EQTL_MODEL = \"MASHR\"\n",
    "\n",
    "# this is the default value used in S-MultiXcan to select the\n",
    "# top principal components of the expression correlation matrix\n",
    "SMULTIXCAN_CONDITION_NUMBER = 30\n",
    "\n",
    "# specifies a single chromosome value\n",
    "CHROMOSOME = None\n",
    "\n",
    "# If True, computes the correlation between closeby genes only (see\n",
    "# entity.Gene.within_distance for more details). Otherwise, it computes\n",
    "# correlations for all genes in a chromosome\n",
    "COMPUTE_CORRELATIONS_WITHIN_DISTANCE = True\n",
    "\n",
    "# if True, then it will continue if a gene pair correlation fails,\n",
    "# printing the warning/error for debugging. If False, any warning/error\n",
    "# will be thrown\n",
    "DEBUG_MODE = False\n",
    "\n",
    "# output dir\n",
    "OUTPUT_DIR_BASE = None"
   ]
  },
  {
   "cell_type": "code",
   "execution_count": 4,
   "id": "a8cadbf6",
   "metadata": {
    "execution": {
     "iopub.execute_input": "2023-08-30T04:00:12.972966Z",
     "iopub.status.busy": "2023-08-30T04:00:12.972594Z",
     "iopub.status.idle": "2023-08-30T04:00:12.996152Z",
     "shell.execute_reply": "2023-08-30T04:00:12.995571Z"
    },
    "papermill": {
     "duration": 0.033308,
     "end_time": "2023-08-30T04:00:12.997353",
     "exception": false,
     "start_time": "2023-08-30T04:00:12.964045",
     "status": "completed"
    },
    "tags": [
     "injected-parameters"
    ]
   },
   "outputs": [],
   "source": [
    "# Parameters\n",
    "PHENOPLIER_NOTEBOOK_FILEPATH = (\n",
    "    \"projects/chronotype/nbs/20_gene_corrs/jobs/05-gene_expr_correlations.ipynb\"\n",
    ")\n",
    "COHORT_NAME = \"chronotype\"\n",
    "CHROMOSOME = 5\n",
    "OUTPUT_DIR_BASE = \"/opt/data/projects/chronotype/results/gls_phenoplier\"\n"
   ]
  },
  {
   "cell_type": "code",
   "execution_count": 5,
   "id": "3190631f-27fc-480f-b18e-571d580425a5",
   "metadata": {
    "execution": {
     "iopub.execute_input": "2023-08-30T04:00:13.009261Z",
     "iopub.status.busy": "2023-08-30T04:00:13.008941Z",
     "iopub.status.idle": "2023-08-30T04:00:13.053196Z",
     "shell.execute_reply": "2023-08-30T04:00:13.052584Z"
    },
    "papermill": {
     "duration": 0.052225,
     "end_time": "2023-08-30T04:00:13.054187",
     "exception": false,
     "start_time": "2023-08-30T04:00:13.001962",
     "status": "completed"
    },
    "tags": []
   },
   "outputs": [
    {
     "data": {
      "text/plain": [
       "'Cohort name: chronotype'"
      ]
     },
     "metadata": {},
     "output_type": "display_data"
    }
   ],
   "source": [
    "assert COHORT_NAME is not None and len(COHORT_NAME) > 0, \"A cohort name must be given\"\n",
    "\n",
    "COHORT_NAME = COHORT_NAME.lower()\n",
    "display(f\"Cohort name: {COHORT_NAME}\")"
   ]
  },
  {
   "cell_type": "code",
   "execution_count": 6,
   "id": "f53ba19b-0f93-4fa2-a047-63b375939d1a",
   "metadata": {
    "execution": {
     "iopub.execute_input": "2023-08-30T04:00:13.071108Z",
     "iopub.status.busy": "2023-08-30T04:00:13.070580Z",
     "iopub.status.idle": "2023-08-30T04:00:13.101505Z",
     "shell.execute_reply": "2023-08-30T04:00:13.100896Z"
    },
    "papermill": {
     "duration": 0.04093,
     "end_time": "2023-08-30T04:00:13.102887",
     "exception": false,
     "start_time": "2023-08-30T04:00:13.061957",
     "status": "completed"
    },
    "tags": []
   },
   "outputs": [
    {
     "data": {
      "text/plain": [
       "'Reference panel: GTEX_V8'"
      ]
     },
     "metadata": {},
     "output_type": "display_data"
    }
   ],
   "source": [
    "assert (\n",
    "    REFERENCE_PANEL is not None and len(REFERENCE_PANEL) > 0\n",
    "), \"A reference panel must be given\"\n",
    "\n",
    "display(f\"Reference panel: {REFERENCE_PANEL}\")"
   ]
  },
  {
   "cell_type": "code",
   "execution_count": 7,
   "id": "e024d130-c139-429a-9c6e-ccf149e297b0",
   "metadata": {
    "execution": {
     "iopub.execute_input": "2023-08-30T04:00:13.119426Z",
     "iopub.status.busy": "2023-08-30T04:00:13.119219Z",
     "iopub.status.idle": "2023-08-30T04:00:13.144220Z",
     "shell.execute_reply": "2023-08-30T04:00:13.143728Z"
    },
    "papermill": {
     "duration": 0.034638,
     "end_time": "2023-08-30T04:00:13.145540",
     "exception": false,
     "start_time": "2023-08-30T04:00:13.110902",
     "status": "completed"
    },
    "tags": []
   },
   "outputs": [
    {
     "data": {
      "text/plain": [
       "'eQTL model: MASHR) / mashr_'"
      ]
     },
     "metadata": {},
     "output_type": "display_data"
    }
   ],
   "source": [
    "assert (\n",
    "    EQTL_MODEL is not None and len(EQTL_MODEL) > 0\n",
    "), \"A prediction/eQTL model must be given\"\n",
    "\n",
    "EQTL_MODEL_FILES_PREFIX = conf.PHENOMEXCAN[\"PREDICTION_MODELS\"][f\"{EQTL_MODEL}_PREFIX\"]\n",
    "display(f\"eQTL model: {EQTL_MODEL}) / {EQTL_MODEL_FILES_PREFIX}\")"
   ]
  },
  {
   "cell_type": "code",
   "execution_count": 8,
   "id": "552a7f63-a18c-4d3e-bb6a-94f99b431291",
   "metadata": {
    "execution": {
     "iopub.execute_input": "2023-08-30T04:00:13.161837Z",
     "iopub.status.busy": "2023-08-30T04:00:13.161610Z",
     "iopub.status.idle": "2023-08-30T04:00:13.188508Z",
     "shell.execute_reply": "2023-08-30T04:00:13.187768Z"
    },
    "papermill": {
     "duration": 0.036142,
     "end_time": "2023-08-30T04:00:13.189847",
     "exception": false,
     "start_time": "2023-08-30T04:00:13.153705",
     "status": "completed"
    },
    "tags": []
   },
   "outputs": [
    {
     "data": {
      "text/plain": [
       "'S-MultiXcan condition number: 30'"
      ]
     },
     "metadata": {},
     "output_type": "display_data"
    }
   ],
   "source": [
    "assert (\n",
    "    SMULTIXCAN_CONDITION_NUMBER is not None and SMULTIXCAN_CONDITION_NUMBER > 0\n",
    "), \"The S-MultiXcan condition number (positive integer) must be given\"\n",
    "\n",
    "display(f\"S-MultiXcan condition number: {SMULTIXCAN_CONDITION_NUMBER}\")"
   ]
  },
  {
   "cell_type": "code",
   "execution_count": 9,
   "id": "f34a336f-548e-4afe-8955-90eaea4f42c6",
   "metadata": {
    "execution": {
     "iopub.execute_input": "2023-08-30T04:00:13.206205Z",
     "iopub.status.busy": "2023-08-30T04:00:13.205749Z",
     "iopub.status.idle": "2023-08-30T04:00:13.238165Z",
     "shell.execute_reply": "2023-08-30T04:00:13.237492Z"
    },
    "papermill": {
     "duration": 0.042294,
     "end_time": "2023-08-30T04:00:13.239556",
     "exception": false,
     "start_time": "2023-08-30T04:00:13.197262",
     "status": "completed"
    },
    "tags": []
   },
   "outputs": [
    {
     "data": {
      "text/plain": [
       "'Working on chromosome 5'"
      ]
     },
     "metadata": {},
     "output_type": "display_data"
    }
   ],
   "source": [
    "assert CHROMOSOME is not None and (\n",
    "    1 <= CHROMOSOME <= 22\n",
    "), \"You have to select one chromosome (format: number between 1 and 22)\"\n",
    "\n",
    "display(f\"Working on chromosome {CHROMOSOME}\")"
   ]
  },
  {
   "cell_type": "code",
   "execution_count": 10,
   "id": "ab8e96e8-06b5-4363-9dcd-dc4d78cc27f7",
   "metadata": {
    "execution": {
     "iopub.execute_input": "2023-08-30T04:00:13.255895Z",
     "iopub.status.busy": "2023-08-30T04:00:13.255475Z",
     "iopub.status.idle": "2023-08-30T04:00:13.286464Z",
     "shell.execute_reply": "2023-08-30T04:00:13.285775Z"
    },
    "papermill": {
     "duration": 0.0397,
     "end_time": "2023-08-30T04:00:13.287664",
     "exception": false,
     "start_time": "2023-08-30T04:00:13.247964",
     "status": "completed"
    },
    "tags": []
   },
   "outputs": [
    {
     "data": {
      "text/plain": [
       "'Compute correlation within distance True'"
      ]
     },
     "metadata": {},
     "output_type": "display_data"
    }
   ],
   "source": [
    "display(f\"Compute correlation within distance {COMPUTE_CORRELATIONS_WITHIN_DISTANCE}\")"
   ]
  },
  {
   "cell_type": "code",
   "execution_count": 11,
   "id": "b393b698-77e3-4ba2-8ac1-e14d51aa988f",
   "metadata": {
    "execution": {
     "iopub.execute_input": "2023-08-30T04:00:13.299100Z",
     "iopub.status.busy": "2023-08-30T04:00:13.298307Z",
     "iopub.status.idle": "2023-08-30T04:00:13.336223Z",
     "shell.execute_reply": "2023-08-30T04:00:13.335562Z"
    },
    "papermill": {
     "duration": 0.044677,
     "end_time": "2023-08-30T04:00:13.337252",
     "exception": false,
     "start_time": "2023-08-30T04:00:13.292575",
     "status": "completed"
    },
    "tags": []
   },
   "outputs": [
    {
     "data": {
      "text/plain": [
       "'Using output dir base: /opt/data/projects/chronotype/results/gls_phenoplier/gene_corrs/chronotype'"
      ]
     },
     "metadata": {},
     "output_type": "display_data"
    }
   ],
   "source": [
    "assert (\n",
    "    OUTPUT_DIR_BASE is not None and len(OUTPUT_DIR_BASE) > 0\n",
    "), \"Output directory path must be given\"\n",
    "\n",
    "OUTPUT_DIR_BASE = (Path(OUTPUT_DIR_BASE) / \"gene_corrs\" / COHORT_NAME).resolve()\n",
    "\n",
    "OUTPUT_DIR_BASE.mkdir(parents=True, exist_ok=True)\n",
    "\n",
    "display(f\"Using output dir base: {OUTPUT_DIR_BASE}\")"
   ]
  },
  {
   "cell_type": "markdown",
   "id": "d2ba085e",
   "metadata": {
    "papermill": {
     "duration": 0.005102,
     "end_time": "2023-08-30T04:00:13.347589",
     "exception": false,
     "start_time": "2023-08-30T04:00:13.342487",
     "status": "completed"
    },
    "tags": []
   },
   "source": [
    "# Load data"
   ]
  },
  {
   "cell_type": "markdown",
   "id": "7dcb8db7",
   "metadata": {
    "papermill": {
     "duration": 0.004945,
     "end_time": "2023-08-30T04:00:13.357709",
     "exception": false,
     "start_time": "2023-08-30T04:00:13.352764",
     "status": "completed"
    },
    "tags": []
   },
   "source": [
    "## GWAS variants"
   ]
  },
  {
   "cell_type": "code",
   "execution_count": 12,
   "id": "29434c4e-8cd3-4b9b-82e4-b5a251d9dd19",
   "metadata": {
    "execution": {
     "iopub.execute_input": "2023-08-30T04:00:13.368829Z",
     "iopub.status.busy": "2023-08-30T04:00:13.368511Z",
     "iopub.status.idle": "2023-08-30T04:00:18.211514Z",
     "shell.execute_reply": "2023-08-30T04:00:18.210860Z"
    },
    "papermill": {
     "duration": 4.850792,
     "end_time": "2023-08-30T04:00:18.213468",
     "exception": false,
     "start_time": "2023-08-30T04:00:13.362676",
     "status": "completed"
    },
    "tags": []
   },
   "outputs": [],
   "source": [
    "with open(OUTPUT_DIR_BASE / \"gwas_variant_ids.pkl\", \"rb\") as handle:\n",
    "    gwas_variants_ids_set = pickle.load(handle)"
   ]
  },
  {
   "cell_type": "code",
   "execution_count": 13,
   "id": "b9d9dec2-4a76-4bf9-bde2-e24c95acb8a0",
   "metadata": {
    "execution": {
     "iopub.execute_input": "2023-08-30T04:00:18.230838Z",
     "iopub.status.busy": "2023-08-30T04:00:18.230420Z",
     "iopub.status.idle": "2023-08-30T04:00:18.251408Z",
     "shell.execute_reply": "2023-08-30T04:00:18.250958Z"
    },
    "papermill": {
     "duration": 0.032069,
     "end_time": "2023-08-30T04:00:18.253450",
     "exception": false,
     "start_time": "2023-08-30T04:00:18.221381",
     "status": "completed"
    },
    "tags": []
   },
   "outputs": [
    {
     "data": {
      "text/plain": [
       "11737794"
      ]
     },
     "execution_count": 13,
     "metadata": {},
     "output_type": "execute_result"
    }
   ],
   "source": [
    "len(gwas_variants_ids_set)"
   ]
  },
  {
   "cell_type": "code",
   "execution_count": 14,
   "id": "4235b06a-6034-4ee4-a0a3-2ae35d122418",
   "metadata": {
    "execution": {
     "iopub.execute_input": "2023-08-30T04:00:18.274435Z",
     "iopub.status.busy": "2023-08-30T04:00:18.274050Z",
     "iopub.status.idle": "2023-08-30T04:00:20.133294Z",
     "shell.execute_reply": "2023-08-30T04:00:20.132303Z"
    },
    "papermill": {
     "duration": 1.872046,
     "end_time": "2023-08-30T04:00:20.135324",
     "exception": false,
     "start_time": "2023-08-30T04:00:18.263278",
     "status": "completed"
    },
    "tags": []
   },
   "outputs": [
    {
     "data": {
      "text/plain": [
       "['chr20_24727817_G_T_b38',\n",
       " 'chr18_69883539_G_T_b38',\n",
       " 'chr11_5846168_C_A_b38',\n",
       " 'chr16_14194504_A_G_b38',\n",
       " 'chr2_129020096_G_A_b38']"
      ]
     },
     "execution_count": 14,
     "metadata": {},
     "output_type": "execute_result"
    }
   ],
   "source": [
    "list(gwas_variants_ids_set)[:5]"
   ]
  },
  {
   "cell_type": "markdown",
   "id": "07866999-2305-41f9-a144-e69c9122c212",
   "metadata": {
    "papermill": {
     "duration": 0.009327,
     "end_time": "2023-08-30T04:00:20.154856",
     "exception": false,
     "start_time": "2023-08-30T04:00:20.145529",
     "status": "completed"
    },
    "tags": []
   },
   "source": [
    "## S-PrediXcan tissue models"
   ]
  },
  {
   "cell_type": "code",
   "execution_count": 15,
   "id": "780611d9-77c8-405f-90a4-f271f7b09397",
   "metadata": {
    "execution": {
     "iopub.execute_input": "2023-08-30T04:00:20.177638Z",
     "iopub.status.busy": "2023-08-30T04:00:20.176888Z",
     "iopub.status.idle": "2023-08-30T04:00:22.564048Z",
     "shell.execute_reply": "2023-08-30T04:00:22.563570Z"
    },
    "papermill": {
     "duration": 2.400838,
     "end_time": "2023-08-30T04:00:22.565466",
     "exception": false,
     "start_time": "2023-08-30T04:00:20.164628",
     "status": "completed"
    },
    "tags": []
   },
   "outputs": [],
   "source": [
    "spredixcan_genes_models = pd.read_pickle(OUTPUT_DIR_BASE / \"gene_tissues.pkl\")"
   ]
  },
  {
   "cell_type": "code",
   "execution_count": 16,
   "id": "726dd1f6-9557-4225-91fa-b3b879ea96e1",
   "metadata": {
    "execution": {
     "iopub.execute_input": "2023-08-30T04:00:22.578489Z",
     "iopub.status.busy": "2023-08-30T04:00:22.578260Z",
     "iopub.status.idle": "2023-08-30T04:00:22.596172Z",
     "shell.execute_reply": "2023-08-30T04:00:22.595789Z"
    },
    "papermill": {
     "duration": 0.025231,
     "end_time": "2023-08-30T04:00:22.597794",
     "exception": false,
     "start_time": "2023-08-30T04:00:22.572563",
     "status": "completed"
    },
    "tags": []
   },
   "outputs": [
    {
     "data": {
      "text/plain": [
       "(6445, 5)"
      ]
     },
     "execution_count": 16,
     "metadata": {},
     "output_type": "execute_result"
    }
   ],
   "source": [
    "spredixcan_genes_models.shape"
   ]
  },
  {
   "cell_type": "code",
   "execution_count": 17,
   "id": "944a1b48-222c-4eb0-b252-b9de2cbca215",
   "metadata": {
    "execution": {
     "iopub.execute_input": "2023-08-30T04:00:22.624061Z",
     "iopub.status.busy": "2023-08-30T04:00:22.623831Z",
     "iopub.status.idle": "2023-08-30T04:00:22.645870Z",
     "shell.execute_reply": "2023-08-30T04:00:22.645452Z"
    },
    "papermill": {
     "duration": 0.036612,
     "end_time": "2023-08-30T04:00:22.646765",
     "exception": false,
     "start_time": "2023-08-30T04:00:22.610153",
     "status": "completed"
    },
    "tags": []
   },
   "outputs": [
    {
     "data": {
      "text/html": [
       "<div>\n",
       "<style scoped>\n",
       "    .dataframe tbody tr th:only-of-type {\n",
       "        vertical-align: middle;\n",
       "    }\n",
       "\n",
       "    .dataframe tbody tr th {\n",
       "        vertical-align: top;\n",
       "    }\n",
       "\n",
       "    .dataframe thead th {\n",
       "        text-align: right;\n",
       "    }\n",
       "</style>\n",
       "<table border=\"1\" class=\"dataframe\">\n",
       "  <thead>\n",
       "    <tr style=\"text-align: right;\">\n",
       "      <th></th>\n",
       "      <th>gene_name</th>\n",
       "      <th>tissue</th>\n",
       "      <th>n_tissues</th>\n",
       "      <th>n_snps_used_sum</th>\n",
       "      <th>n_snps_in_model_sum</th>\n",
       "    </tr>\n",
       "    <tr>\n",
       "      <th>gene_id</th>\n",
       "      <th></th>\n",
       "      <th></th>\n",
       "      <th></th>\n",
       "      <th></th>\n",
       "      <th></th>\n",
       "    </tr>\n",
       "  </thead>\n",
       "  <tbody>\n",
       "    <tr>\n",
       "      <th>ENSG00000000419</th>\n",
       "      <td>DPM1</td>\n",
       "      <td>(Brain_Substantia_nigra, Brain_Hypothalamus)</td>\n",
       "      <td>2</td>\n",
       "      <td>2</td>\n",
       "      <td>2</td>\n",
       "    </tr>\n",
       "    <tr>\n",
       "      <th>ENSG00000000938</th>\n",
       "      <td>FGR</td>\n",
       "      <td>(Brain_Hippocampus, Brain_Anterior_cingulate_c...</td>\n",
       "      <td>36</td>\n",
       "      <td>40</td>\n",
       "      <td>40</td>\n",
       "    </tr>\n",
       "    <tr>\n",
       "      <th>ENSG00000000971</th>\n",
       "      <td>CFH</td>\n",
       "      <td>(Brain_Hippocampus, Brain_Anterior_cingulate_c...</td>\n",
       "      <td>34</td>\n",
       "      <td>44</td>\n",
       "      <td>44</td>\n",
       "    </tr>\n",
       "    <tr>\n",
       "      <th>ENSG00000001084</th>\n",
       "      <td>GCLC</td>\n",
       "      <td>(Brain_Hippocampus, Brain_Anterior_cingulate_c...</td>\n",
       "      <td>32</td>\n",
       "      <td>46</td>\n",
       "      <td>46</td>\n",
       "    </tr>\n",
       "    <tr>\n",
       "      <th>ENSG00000001167</th>\n",
       "      <td>NFYA</td>\n",
       "      <td>(Brain_Hippocampus, Brain_Anterior_cingulate_c...</td>\n",
       "      <td>40</td>\n",
       "      <td>47</td>\n",
       "      <td>48</td>\n",
       "    </tr>\n",
       "  </tbody>\n",
       "</table>\n",
       "</div>"
      ],
      "text/plain": [
       "                gene_name                                             tissue  \\\n",
       "gene_id                                                                        \n",
       "ENSG00000000419      DPM1       (Brain_Substantia_nigra, Brain_Hypothalamus)   \n",
       "ENSG00000000938       FGR  (Brain_Hippocampus, Brain_Anterior_cingulate_c...   \n",
       "ENSG00000000971       CFH  (Brain_Hippocampus, Brain_Anterior_cingulate_c...   \n",
       "ENSG00000001084      GCLC  (Brain_Hippocampus, Brain_Anterior_cingulate_c...   \n",
       "ENSG00000001167      NFYA  (Brain_Hippocampus, Brain_Anterior_cingulate_c...   \n",
       "\n",
       "                 n_tissues  n_snps_used_sum  n_snps_in_model_sum  \n",
       "gene_id                                                           \n",
       "ENSG00000000419          2                2                    2  \n",
       "ENSG00000000938         36               40                   40  \n",
       "ENSG00000000971         34               44                   44  \n",
       "ENSG00000001084         32               46                   46  \n",
       "ENSG00000001167         40               47                   48  "
      ]
     },
     "execution_count": 17,
     "metadata": {},
     "output_type": "execute_result"
    }
   ],
   "source": [
    "spredixcan_genes_models.head()"
   ]
  },
  {
   "cell_type": "code",
   "execution_count": 18,
   "id": "d1c11bb1-be0b-4f40-b360-633d6827109f",
   "metadata": {
    "execution": {
     "iopub.execute_input": "2023-08-30T04:00:22.663111Z",
     "iopub.status.busy": "2023-08-30T04:00:22.662945Z",
     "iopub.status.idle": "2023-08-30T04:00:22.680418Z",
     "shell.execute_reply": "2023-08-30T04:00:22.680072Z"
    },
    "papermill": {
     "duration": 0.026877,
     "end_time": "2023-08-30T04:00:22.681596",
     "exception": false,
     "start_time": "2023-08-30T04:00:22.654719",
     "status": "completed"
    },
    "tags": []
   },
   "outputs": [],
   "source": [
    "assert spredixcan_genes_models.index.is_unique"
   ]
  },
  {
   "cell_type": "markdown",
   "id": "a5b5092c-a13e-47c4-a92a-480fcc08f3ae",
   "metadata": {
    "papermill": {
     "duration": 0.005654,
     "end_time": "2023-08-30T04:00:22.693165",
     "exception": false,
     "start_time": "2023-08-30T04:00:22.687511",
     "status": "completed"
    },
    "tags": []
   },
   "source": [
    "## Gene info"
   ]
  },
  {
   "cell_type": "code",
   "execution_count": 19,
   "id": "7d6bb224-88e9-4358-ac10-43a41d92cdad",
   "metadata": {
    "execution": {
     "iopub.execute_input": "2023-08-30T04:00:22.705638Z",
     "iopub.status.busy": "2023-08-30T04:00:22.705302Z",
     "iopub.status.idle": "2023-08-30T04:00:22.732549Z",
     "shell.execute_reply": "2023-08-30T04:00:22.732146Z"
    },
    "papermill": {
     "duration": 0.035012,
     "end_time": "2023-08-30T04:00:22.733762",
     "exception": false,
     "start_time": "2023-08-30T04:00:22.698750",
     "status": "completed"
    },
    "tags": []
   },
   "outputs": [],
   "source": [
    "genes_info = pd.read_pickle(OUTPUT_DIR_BASE / \"genes_info.pkl\")"
   ]
  },
  {
   "cell_type": "code",
   "execution_count": 20,
   "id": "9e32abfa-546d-483e-8c18-d526e9e05903",
   "metadata": {
    "execution": {
     "iopub.execute_input": "2023-08-30T04:00:22.747157Z",
     "iopub.status.busy": "2023-08-30T04:00:22.746791Z",
     "iopub.status.idle": "2023-08-30T04:00:22.765765Z",
     "shell.execute_reply": "2023-08-30T04:00:22.765280Z"
    },
    "papermill": {
     "duration": 0.026791,
     "end_time": "2023-08-30T04:00:22.766927",
     "exception": false,
     "start_time": "2023-08-30T04:00:22.740136",
     "status": "completed"
    },
    "tags": []
   },
   "outputs": [
    {
     "data": {
      "text/plain": [
       "(6445, 7)"
      ]
     },
     "execution_count": 20,
     "metadata": {},
     "output_type": "execute_result"
    }
   ],
   "source": [
    "genes_info.shape"
   ]
  },
  {
   "cell_type": "code",
   "execution_count": 21,
   "id": "d16c3e92-85ec-468a-9a56-e25a9774a1cb",
   "metadata": {
    "execution": {
     "iopub.execute_input": "2023-08-30T04:00:22.779931Z",
     "iopub.status.busy": "2023-08-30T04:00:22.779691Z",
     "iopub.status.idle": "2023-08-30T04:00:22.805548Z",
     "shell.execute_reply": "2023-08-30T04:00:22.804802Z"
    },
    "papermill": {
     "duration": 0.033727,
     "end_time": "2023-08-30T04:00:22.806649",
     "exception": false,
     "start_time": "2023-08-30T04:00:22.772922",
     "status": "completed"
    },
    "tags": []
   },
   "outputs": [
    {
     "data": {
      "text/html": [
       "<div>\n",
       "<style scoped>\n",
       "    .dataframe tbody tr th:only-of-type {\n",
       "        vertical-align: middle;\n",
       "    }\n",
       "\n",
       "    .dataframe tbody tr th {\n",
       "        vertical-align: top;\n",
       "    }\n",
       "\n",
       "    .dataframe thead th {\n",
       "        text-align: right;\n",
       "    }\n",
       "</style>\n",
       "<table border=\"1\" class=\"dataframe\">\n",
       "  <thead>\n",
       "    <tr style=\"text-align: right;\">\n",
       "      <th></th>\n",
       "      <th>name</th>\n",
       "      <th>id</th>\n",
       "      <th>chr</th>\n",
       "      <th>band</th>\n",
       "      <th>start_position</th>\n",
       "      <th>end_position</th>\n",
       "      <th>gene_length</th>\n",
       "    </tr>\n",
       "  </thead>\n",
       "  <tbody>\n",
       "    <tr>\n",
       "      <th>0</th>\n",
       "      <td>DUT</td>\n",
       "      <td>ENSG00000128951</td>\n",
       "      <td>15</td>\n",
       "      <td>15q21.1</td>\n",
       "      <td>48331011</td>\n",
       "      <td>48343373</td>\n",
       "      <td>12362</td>\n",
       "    </tr>\n",
       "    <tr>\n",
       "      <th>1</th>\n",
       "      <td>NDUFA4</td>\n",
       "      <td>ENSG00000189043</td>\n",
       "      <td>7</td>\n",
       "      <td>7p21.3</td>\n",
       "      <td>10931943</td>\n",
       "      <td>10940153</td>\n",
       "      <td>8210</td>\n",
       "    </tr>\n",
       "    <tr>\n",
       "      <th>2</th>\n",
       "      <td>EPHB3</td>\n",
       "      <td>ENSG00000182580</td>\n",
       "      <td>3</td>\n",
       "      <td>3q27.1</td>\n",
       "      <td>184561785</td>\n",
       "      <td>184582408</td>\n",
       "      <td>20623</td>\n",
       "    </tr>\n",
       "    <tr>\n",
       "      <th>3</th>\n",
       "      <td>MYLK</td>\n",
       "      <td>ENSG00000065534</td>\n",
       "      <td>3</td>\n",
       "      <td>3q21.1</td>\n",
       "      <td>123610049</td>\n",
       "      <td>123884331</td>\n",
       "      <td>274282</td>\n",
       "    </tr>\n",
       "    <tr>\n",
       "      <th>4</th>\n",
       "      <td>SMPD4</td>\n",
       "      <td>ENSG00000136699</td>\n",
       "      <td>2</td>\n",
       "      <td>2q21.1</td>\n",
       "      <td>130151392</td>\n",
       "      <td>130182750</td>\n",
       "      <td>31358</td>\n",
       "    </tr>\n",
       "  </tbody>\n",
       "</table>\n",
       "</div>"
      ],
      "text/plain": [
       "     name               id  chr     band  start_position  end_position  \\\n",
       "0     DUT  ENSG00000128951   15  15q21.1        48331011      48343373   \n",
       "1  NDUFA4  ENSG00000189043    7   7p21.3        10931943      10940153   \n",
       "2   EPHB3  ENSG00000182580    3   3q27.1       184561785     184582408   \n",
       "3    MYLK  ENSG00000065534    3   3q21.1       123610049     123884331   \n",
       "4   SMPD4  ENSG00000136699    2   2q21.1       130151392     130182750   \n",
       "\n",
       "   gene_length  \n",
       "0        12362  \n",
       "1         8210  \n",
       "2        20623  \n",
       "3       274282  \n",
       "4        31358  "
      ]
     },
     "execution_count": 21,
     "metadata": {},
     "output_type": "execute_result"
    }
   ],
   "source": [
    "genes_info.head()"
   ]
  },
  {
   "cell_type": "markdown",
   "id": "d3843e06",
   "metadata": {
    "papermill": {
     "duration": 0.005924,
     "end_time": "2023-08-30T04:00:22.818616",
     "exception": false,
     "start_time": "2023-08-30T04:00:22.812692",
     "status": "completed"
    },
    "tags": []
   },
   "source": [
    "# Compute correlations"
   ]
  },
  {
   "cell_type": "code",
   "execution_count": 22,
   "id": "cb859c15-d1f3-4006-a74c-2b83c0db9611",
   "metadata": {
    "execution": {
     "iopub.execute_input": "2023-08-30T04:00:22.832490Z",
     "iopub.status.busy": "2023-08-30T04:00:22.831973Z",
     "iopub.status.idle": "2023-08-30T04:00:22.863887Z",
     "shell.execute_reply": "2023-08-30T04:00:22.863246Z"
    },
    "papermill": {
     "duration": 0.040448,
     "end_time": "2023-08-30T04:00:22.864993",
     "exception": false,
     "start_time": "2023-08-30T04:00:22.824545",
     "status": "completed"
    },
    "tags": []
   },
   "outputs": [
    {
     "data": {
      "text/plain": [
       "PosixPath('/opt/data/projects/chronotype/results/gls_phenoplier/gene_corrs/chronotype/by_chr/gene_corrs-chr5.pkl')"
      ]
     },
     "metadata": {},
     "output_type": "display_data"
    }
   ],
   "source": [
    "output_dir = OUTPUT_DIR_BASE / \"by_chr\"\n",
    "output_dir.mkdir(exist_ok=True, parents=True)\n",
    "output_file = output_dir / f\"gene_corrs-chr{CHROMOSOME}.pkl\"\n",
    "display(output_file)"
   ]
  },
  {
   "cell_type": "code",
   "execution_count": 23,
   "id": "aa674fe4-6794-4eed-98fa-32b39d1d4ace",
   "metadata": {
    "execution": {
     "iopub.execute_input": "2023-08-30T04:00:22.878781Z",
     "iopub.status.busy": "2023-08-30T04:00:22.878237Z",
     "iopub.status.idle": "2023-08-30T04:00:22.908039Z",
     "shell.execute_reply": "2023-08-30T04:00:22.907130Z"
    },
    "papermill": {
     "duration": 0.038518,
     "end_time": "2023-08-30T04:00:22.909488",
     "exception": false,
     "start_time": "2023-08-30T04:00:22.870970",
     "status": "completed"
    },
    "tags": []
   },
   "outputs": [],
   "source": [
    "warnings.filterwarnings(\"error\")"
   ]
  },
  {
   "cell_type": "code",
   "execution_count": 24,
   "id": "44d5450b-3baf-43f1-9e2e-4b06f1a785f8",
   "metadata": {
    "execution": {
     "iopub.execute_input": "2023-08-30T04:00:22.923655Z",
     "iopub.status.busy": "2023-08-30T04:00:22.923027Z",
     "iopub.status.idle": "2023-08-30T04:00:22.952804Z",
     "shell.execute_reply": "2023-08-30T04:00:22.951995Z"
    },
    "papermill": {
     "duration": 0.038703,
     "end_time": "2023-08-30T04:00:22.954266",
     "exception": false,
     "start_time": "2023-08-30T04:00:22.915563",
     "status": "completed"
    },
    "tags": []
   },
   "outputs": [],
   "source": [
    "# standard checks\n",
    "all_chrs = genes_info[\"chr\"].dropna().unique()\n",
    "assert all_chrs.shape[0] == 22\n",
    "\n",
    "# select chromosome given by the user\n",
    "assert CHROMOSOME in all_chrs"
   ]
  },
  {
   "cell_type": "code",
   "execution_count": 25,
   "id": "2d7c043c-92a7-4d35-991b-fa69ac1e0268",
   "metadata": {
    "execution": {
     "iopub.execute_input": "2023-08-30T04:00:22.972979Z",
     "iopub.status.busy": "2023-08-30T04:00:22.972673Z",
     "iopub.status.idle": "2023-08-30T04:00:23.004304Z",
     "shell.execute_reply": "2023-08-30T04:00:23.003642Z"
    },
    "papermill": {
     "duration": 0.042639,
     "end_time": "2023-08-30T04:00:23.005633",
     "exception": false,
     "start_time": "2023-08-30T04:00:22.962994",
     "status": "completed"
    },
    "tags": []
   },
   "outputs": [
    {
     "name": "stdout",
     "output_type": "stream",
     "text": [
      "Number of genes in chromosome: 305\n"
     ]
    }
   ],
   "source": [
    "# run only on the chromosome specified\n",
    "all_chrs = [CHROMOSOME]\n",
    "genes_chr = genes_info[genes_info[\"chr\"] == CHROMOSOME]\n",
    "\n",
    "# For testing purposes\n",
    "# genes_chr = genes_chr.sample(n=20)\n",
    "\n",
    "print(f\"Number of genes in chromosome: {genes_chr.shape[0]}\", flush=True)"
   ]
  },
  {
   "cell_type": "code",
   "execution_count": 26,
   "id": "916015d8-2979-46d3-a9b9-1cf5a0932c6a",
   "metadata": {
    "execution": {
     "iopub.execute_input": "2023-08-30T04:00:23.024708Z",
     "iopub.status.busy": "2023-08-30T04:00:23.024318Z",
     "iopub.status.idle": "2023-08-30T04:00:23.044916Z",
     "shell.execute_reply": "2023-08-30T04:00:23.044399Z"
    },
    "papermill": {
     "duration": 0.031659,
     "end_time": "2023-08-30T04:00:23.046437",
     "exception": false,
     "start_time": "2023-08-30T04:00:23.014778",
     "status": "completed"
    },
    "tags": []
   },
   "outputs": [],
   "source": [
    "# sort genes by starting position to make visualizations better later\n",
    "genes_chr = genes_chr.sort_values(\"start_position\")"
   ]
  },
  {
   "cell_type": "code",
   "execution_count": 27,
   "id": "a38aa74a-8ad3-47f6-8ef9-56be0e011774",
   "metadata": {
    "execution": {
     "iopub.execute_input": "2023-08-30T04:00:23.064763Z",
     "iopub.status.busy": "2023-08-30T04:00:23.064399Z",
     "iopub.status.idle": "2023-08-30T04:00:23.094647Z",
     "shell.execute_reply": "2023-08-30T04:00:23.093937Z"
    },
    "papermill": {
     "duration": 0.041195,
     "end_time": "2023-08-30T04:00:23.096261",
     "exception": false,
     "start_time": "2023-08-30T04:00:23.055066",
     "status": "completed"
    },
    "tags": []
   },
   "outputs": [],
   "source": [
    "gene_chr_objs = [Gene(ensembl_id=gene_id) for gene_id in genes_chr[\"id\"]]"
   ]
  },
  {
   "cell_type": "code",
   "execution_count": 28,
   "id": "570f974f-13c3-42b6-ad3a-ce99ca885c1a",
   "metadata": {
    "execution": {
     "iopub.execute_input": "2023-08-30T04:00:23.114878Z",
     "iopub.status.busy": "2023-08-30T04:00:23.114454Z",
     "iopub.status.idle": "2023-08-30T04:00:23.141460Z",
     "shell.execute_reply": "2023-08-30T04:00:23.140916Z"
    },
    "papermill": {
     "duration": 0.037595,
     "end_time": "2023-08-30T04:00:23.142590",
     "exception": false,
     "start_time": "2023-08-30T04:00:23.104995",
     "status": "completed"
    },
    "tags": []
   },
   "outputs": [
    {
     "name": "stdout",
     "output_type": "stream",
     "text": [
      "Number of gene combinations: 46665\n"
     ]
    }
   ],
   "source": [
    "n = len(gene_chr_objs)\n",
    "# diagonal elements + upper triangular matrix\n",
    "n_comb = n + int(n * (n - 1) / 2.0)\n",
    "print(f\"Number of gene combinations: {n_comb}\", flush=True)"
   ]
  },
  {
   "cell_type": "code",
   "execution_count": 29,
   "id": "cdbb90a1",
   "metadata": {
    "execution": {
     "iopub.execute_input": "2023-08-30T04:00:23.161145Z",
     "iopub.status.busy": "2023-08-30T04:00:23.160732Z",
     "iopub.status.idle": "2023-08-30T04:04:59.363937Z",
     "shell.execute_reply": "2023-08-30T04:04:59.363395Z"
    },
    "papermill": {
     "duration": 276.214251,
     "end_time": "2023-08-30T04:04:59.365244",
     "exception": false,
     "start_time": "2023-08-30T04:00:23.150993",
     "status": "completed"
    },
    "tags": []
   },
   "outputs": [
    {
     "name": "stderr",
     "output_type": "stream",
     "text": [
      "ENSG00000165810 / ENSG00000165810: 100%|█████████████████████| 46665/46665 [04:36<00:00, 168.98it/s]\n"
     ]
    },
    {
     "data": {
      "text/plain": [
       "PosixPath('/opt/data/projects/chronotype/results/gls_phenoplier/gene_corrs/chronotype/by_chr/gene_corrs-chr5.pkl')"
      ]
     },
     "metadata": {},
     "output_type": "display_data"
    }
   ],
   "source": [
    "gene_corrs = []\n",
    "gene_corrs_data = np.full(\n",
    "    (n, n),\n",
    "    np.nan,\n",
    "    dtype=np.float64,\n",
    ")\n",
    "\n",
    "i = 0\n",
    "with tqdm(ncols=100, total=n_comb) as pbar:\n",
    "    for gene1_idx in range(0, len(gene_chr_objs)):\n",
    "        gene1_obj = gene_chr_objs[gene1_idx]\n",
    "        gene1_tissues = spredixcan_genes_models.loc[gene1_obj.ensembl_id, \"tissue\"]\n",
    "\n",
    "        for gene2_idx in range(gene1_idx, len(gene_chr_objs)):\n",
    "            gene2_obj = gene_chr_objs[gene2_idx]\n",
    "            gene2_tissues = spredixcan_genes_models.loc[gene2_obj.ensembl_id, \"tissue\"]\n",
    "\n",
    "            pbar.set_description(f\"{gene1_obj.ensembl_id} / {gene2_obj.ensembl_id}\")\n",
    "\n",
    "            try:\n",
    "                r = gene1_obj.get_ssm_correlation(\n",
    "                    other_gene=gene2_obj,\n",
    "                    tissues=gene1_tissues,\n",
    "                    other_tissues=gene2_tissues,\n",
    "                    snps_subset=gwas_variants_ids_set,\n",
    "                    condition_number=SMULTIXCAN_CONDITION_NUMBER,\n",
    "                    reference_panel=REFERENCE_PANEL,\n",
    "                    model_type=EQTL_MODEL,\n",
    "                    use_within_distance=COMPUTE_CORRELATIONS_WITHIN_DISTANCE,\n",
    "                )\n",
    "\n",
    "                if r is None:\n",
    "                    # if r is None, it's very likely because:\n",
    "                    #  * one of the genes has no prediction models\n",
    "                    #  * all the SNPs predictors for the gene are not present in the reference\n",
    "                    #    panel\n",
    "\n",
    "                    r = 0.0\n",
    "\n",
    "                gene_corrs.append(r)\n",
    "\n",
    "                gene_corrs_data[gene1_idx, gene2_idx] = r\n",
    "                gene_corrs_data[gene2_idx, gene1_idx] = r\n",
    "            except Warning as e:\n",
    "                if not DEBUG_MODE:\n",
    "                    raise e\n",
    "\n",
    "                print(\n",
    "                    f\"RuntimeWarning for genes {gene1_obj.ensembl_id} and {gene2_obj.ensembl_id}\",\n",
    "                    flush=True,\n",
    "                )\n",
    "                print(traceback.format_exc(), flush=True)\n",
    "\n",
    "                gene_corrs.append(np.nan)\n",
    "            except Exception as e:\n",
    "                if not DEBUG_MODE:\n",
    "                    raise e\n",
    "\n",
    "                print(\n",
    "                    f\"Exception for genes {gene1_obj.ensembl_id} and {gene2_obj.ensembl_id}\",\n",
    "                    flush=True,\n",
    "                )\n",
    "                print(traceback.format_exc(), flush=True)\n",
    "\n",
    "                gene_corrs.append(np.nan)\n",
    "\n",
    "            pbar.update(1)\n",
    "\n",
    "# create a pandas series\n",
    "gene_corrs_flat = pd.Series(gene_corrs)\n",
    "\n",
    "# save\n",
    "# FIXME: consider saving only the condenced matrix here. See here for\n",
    "# more details: https://github.com/greenelab/phenoplier/pull/38#discussion_r634600813\n",
    "# gene_corrs_data = squareform(np.array(gene_corrs, dtype=np.float64))\n",
    "# np.fill_diagonal(gene_corrs_data, 1.0)\n",
    "\n",
    "gene_chr_ids = [g.ensembl_id for g in gene_chr_objs]\n",
    "gene_corrs_df = pd.DataFrame(\n",
    "    data=gene_corrs_data,\n",
    "    index=gene_chr_ids,\n",
    "    columns=gene_chr_ids,\n",
    ")\n",
    "\n",
    "output_dir.mkdir(exist_ok=True, parents=True)\n",
    "display(output_file)\n",
    "\n",
    "gene_corrs_df.to_pickle(output_file)"
   ]
  },
  {
   "cell_type": "markdown",
   "id": "faa67b51-5373-470f-aa72-2ded53fa6dfe",
   "metadata": {
    "papermill": {
     "duration": 1.547181,
     "end_time": "2023-08-30T04:05:02.427669",
     "exception": false,
     "start_time": "2023-08-30T04:05:00.880488",
     "status": "completed"
    },
    "tags": []
   },
   "source": [
    "# Testing"
   ]
  },
  {
   "cell_type": "code",
   "execution_count": 30,
   "id": "14f7d046-4b55-4896-a56b-990127bcc388",
   "metadata": {
    "execution": {
     "iopub.execute_input": "2023-08-30T04:05:05.421239Z",
     "iopub.status.busy": "2023-08-30T04:05:05.420371Z",
     "iopub.status.idle": "2023-08-30T04:05:05.448161Z",
     "shell.execute_reply": "2023-08-30T04:05:05.447543Z"
    },
    "papermill": {
     "duration": 1.508569,
     "end_time": "2023-08-30T04:05:05.449130",
     "exception": false,
     "start_time": "2023-08-30T04:05:03.940561",
     "status": "completed"
    },
    "tags": []
   },
   "outputs": [
    {
     "data": {
      "text/plain": [
       "(305, 305)"
      ]
     },
     "execution_count": 30,
     "metadata": {},
     "output_type": "execute_result"
    }
   ],
   "source": [
    "gene_corrs_df.shape"
   ]
  },
  {
   "cell_type": "code",
   "execution_count": 31,
   "id": "c7d15414-3297-4537-a7c6-7588c0baeb75",
   "metadata": {
    "execution": {
     "iopub.execute_input": "2023-08-30T04:05:08.484234Z",
     "iopub.status.busy": "2023-08-30T04:05:08.483784Z",
     "iopub.status.idle": "2023-08-30T04:05:08.535102Z",
     "shell.execute_reply": "2023-08-30T04:05:08.534398Z"
    },
    "papermill": {
     "duration": 1.586353,
     "end_time": "2023-08-30T04:05:08.536137",
     "exception": false,
     "start_time": "2023-08-30T04:05:06.949784",
     "status": "completed"
    },
    "tags": []
   },
   "outputs": [
    {
     "data": {
      "text/html": [
       "<div>\n",
       "<style scoped>\n",
       "    .dataframe tbody tr th:only-of-type {\n",
       "        vertical-align: middle;\n",
       "    }\n",
       "\n",
       "    .dataframe tbody tr th {\n",
       "        vertical-align: top;\n",
       "    }\n",
       "\n",
       "    .dataframe thead th {\n",
       "        text-align: right;\n",
       "    }\n",
       "</style>\n",
       "<table border=\"1\" class=\"dataframe\">\n",
       "  <thead>\n",
       "    <tr style=\"text-align: right;\">\n",
       "      <th></th>\n",
       "      <th>ENSG00000073578</th>\n",
       "      <th>ENSG00000180104</th>\n",
       "      <th>ENSG00000066230</th>\n",
       "      <th>ENSG00000112877</th>\n",
       "      <th>ENSG00000113504</th>\n",
       "      <th>ENSG00000174358</th>\n",
       "      <th>ENSG00000164362</th>\n",
       "      <th>ENSG00000049656</th>\n",
       "      <th>ENSG00000153395</th>\n",
       "      <th>ENSG00000171421</th>\n",
       "      <th>...</th>\n",
       "      <th>ENSG00000161021</th>\n",
       "      <th>ENSG00000161013</th>\n",
       "      <th>ENSG00000161011</th>\n",
       "      <th>ENSG00000050748</th>\n",
       "      <th>ENSG00000131459</th>\n",
       "      <th>ENSG00000113300</th>\n",
       "      <th>ENSG00000037280</th>\n",
       "      <th>ENSG00000131446</th>\n",
       "      <th>ENSG00000113303</th>\n",
       "      <th>ENSG00000165810</th>\n",
       "    </tr>\n",
       "  </thead>\n",
       "  <tbody>\n",
       "    <tr>\n",
       "      <th>ENSG00000073578</th>\n",
       "      <td>1.000000</td>\n",
       "      <td>0.240799</td>\n",
       "      <td>0.161150</td>\n",
       "      <td>0.049611</td>\n",
       "      <td>0.015151</td>\n",
       "      <td>0.011679</td>\n",
       "      <td>0.008640</td>\n",
       "      <td>0.010104</td>\n",
       "      <td>0.012698</td>\n",
       "      <td>0.008122</td>\n",
       "      <td>...</td>\n",
       "      <td>0.0</td>\n",
       "      <td>0.0</td>\n",
       "      <td>0.0</td>\n",
       "      <td>0.0</td>\n",
       "      <td>0.0</td>\n",
       "      <td>0.0</td>\n",
       "      <td>0.0</td>\n",
       "      <td>0.0</td>\n",
       "      <td>0.0</td>\n",
       "      <td>0.0</td>\n",
       "    </tr>\n",
       "    <tr>\n",
       "      <th>ENSG00000180104</th>\n",
       "      <td>0.240799</td>\n",
       "      <td>1.000000</td>\n",
       "      <td>0.393918</td>\n",
       "      <td>0.092390</td>\n",
       "      <td>0.006060</td>\n",
       "      <td>0.010582</td>\n",
       "      <td>0.007396</td>\n",
       "      <td>0.004408</td>\n",
       "      <td>0.004103</td>\n",
       "      <td>0.006100</td>\n",
       "      <td>...</td>\n",
       "      <td>0.0</td>\n",
       "      <td>0.0</td>\n",
       "      <td>0.0</td>\n",
       "      <td>0.0</td>\n",
       "      <td>0.0</td>\n",
       "      <td>0.0</td>\n",
       "      <td>0.0</td>\n",
       "      <td>0.0</td>\n",
       "      <td>0.0</td>\n",
       "      <td>0.0</td>\n",
       "    </tr>\n",
       "    <tr>\n",
       "      <th>ENSG00000066230</th>\n",
       "      <td>0.161150</td>\n",
       "      <td>0.393918</td>\n",
       "      <td>1.000000</td>\n",
       "      <td>0.216369</td>\n",
       "      <td>0.012961</td>\n",
       "      <td>0.008745</td>\n",
       "      <td>0.006762</td>\n",
       "      <td>0.009393</td>\n",
       "      <td>0.012246</td>\n",
       "      <td>0.008238</td>\n",
       "      <td>...</td>\n",
       "      <td>0.0</td>\n",
       "      <td>0.0</td>\n",
       "      <td>0.0</td>\n",
       "      <td>0.0</td>\n",
       "      <td>0.0</td>\n",
       "      <td>0.0</td>\n",
       "      <td>0.0</td>\n",
       "      <td>0.0</td>\n",
       "      <td>0.0</td>\n",
       "      <td>0.0</td>\n",
       "    </tr>\n",
       "    <tr>\n",
       "      <th>ENSG00000112877</th>\n",
       "      <td>0.049611</td>\n",
       "      <td>0.092390</td>\n",
       "      <td>0.216369</td>\n",
       "      <td>1.000000</td>\n",
       "      <td>0.021994</td>\n",
       "      <td>0.007444</td>\n",
       "      <td>0.007431</td>\n",
       "      <td>0.008093</td>\n",
       "      <td>0.011573</td>\n",
       "      <td>0.003085</td>\n",
       "      <td>...</td>\n",
       "      <td>0.0</td>\n",
       "      <td>0.0</td>\n",
       "      <td>0.0</td>\n",
       "      <td>0.0</td>\n",
       "      <td>0.0</td>\n",
       "      <td>0.0</td>\n",
       "      <td>0.0</td>\n",
       "      <td>0.0</td>\n",
       "      <td>0.0</td>\n",
       "      <td>0.0</td>\n",
       "    </tr>\n",
       "    <tr>\n",
       "      <th>ENSG00000113504</th>\n",
       "      <td>0.015151</td>\n",
       "      <td>0.006060</td>\n",
       "      <td>0.012961</td>\n",
       "      <td>0.021994</td>\n",
       "      <td>1.000000</td>\n",
       "      <td>0.023249</td>\n",
       "      <td>0.009773</td>\n",
       "      <td>0.008319</td>\n",
       "      <td>0.114610</td>\n",
       "      <td>0.008152</td>\n",
       "      <td>...</td>\n",
       "      <td>0.0</td>\n",
       "      <td>0.0</td>\n",
       "      <td>0.0</td>\n",
       "      <td>0.0</td>\n",
       "      <td>0.0</td>\n",
       "      <td>0.0</td>\n",
       "      <td>0.0</td>\n",
       "      <td>0.0</td>\n",
       "      <td>0.0</td>\n",
       "      <td>0.0</td>\n",
       "    </tr>\n",
       "  </tbody>\n",
       "</table>\n",
       "<p>5 rows × 305 columns</p>\n",
       "</div>"
      ],
      "text/plain": [
       "                 ENSG00000073578  ENSG00000180104  ENSG00000066230  \\\n",
       "ENSG00000073578         1.000000         0.240799         0.161150   \n",
       "ENSG00000180104         0.240799         1.000000         0.393918   \n",
       "ENSG00000066230         0.161150         0.393918         1.000000   \n",
       "ENSG00000112877         0.049611         0.092390         0.216369   \n",
       "ENSG00000113504         0.015151         0.006060         0.012961   \n",
       "\n",
       "                 ENSG00000112877  ENSG00000113504  ENSG00000174358  \\\n",
       "ENSG00000073578         0.049611         0.015151         0.011679   \n",
       "ENSG00000180104         0.092390         0.006060         0.010582   \n",
       "ENSG00000066230         0.216369         0.012961         0.008745   \n",
       "ENSG00000112877         1.000000         0.021994         0.007444   \n",
       "ENSG00000113504         0.021994         1.000000         0.023249   \n",
       "\n",
       "                 ENSG00000164362  ENSG00000049656  ENSG00000153395  \\\n",
       "ENSG00000073578         0.008640         0.010104         0.012698   \n",
       "ENSG00000180104         0.007396         0.004408         0.004103   \n",
       "ENSG00000066230         0.006762         0.009393         0.012246   \n",
       "ENSG00000112877         0.007431         0.008093         0.011573   \n",
       "ENSG00000113504         0.009773         0.008319         0.114610   \n",
       "\n",
       "                 ENSG00000171421  ...  ENSG00000161021  ENSG00000161013  \\\n",
       "ENSG00000073578         0.008122  ...              0.0              0.0   \n",
       "ENSG00000180104         0.006100  ...              0.0              0.0   \n",
       "ENSG00000066230         0.008238  ...              0.0              0.0   \n",
       "ENSG00000112877         0.003085  ...              0.0              0.0   \n",
       "ENSG00000113504         0.008152  ...              0.0              0.0   \n",
       "\n",
       "                 ENSG00000161011  ENSG00000050748  ENSG00000131459  \\\n",
       "ENSG00000073578              0.0              0.0              0.0   \n",
       "ENSG00000180104              0.0              0.0              0.0   \n",
       "ENSG00000066230              0.0              0.0              0.0   \n",
       "ENSG00000112877              0.0              0.0              0.0   \n",
       "ENSG00000113504              0.0              0.0              0.0   \n",
       "\n",
       "                 ENSG00000113300  ENSG00000037280  ENSG00000131446  \\\n",
       "ENSG00000073578              0.0              0.0              0.0   \n",
       "ENSG00000180104              0.0              0.0              0.0   \n",
       "ENSG00000066230              0.0              0.0              0.0   \n",
       "ENSG00000112877              0.0              0.0              0.0   \n",
       "ENSG00000113504              0.0              0.0              0.0   \n",
       "\n",
       "                 ENSG00000113303  ENSG00000165810  \n",
       "ENSG00000073578              0.0              0.0  \n",
       "ENSG00000180104              0.0              0.0  \n",
       "ENSG00000066230              0.0              0.0  \n",
       "ENSG00000112877              0.0              0.0  \n",
       "ENSG00000113504              0.0              0.0  \n",
       "\n",
       "[5 rows x 305 columns]"
      ]
     },
     "execution_count": 31,
     "metadata": {},
     "output_type": "execute_result"
    }
   ],
   "source": [
    "gene_corrs_df.head()"
   ]
  },
  {
   "cell_type": "markdown",
   "id": "dad6603f-01c6-41fb-a6f6-241051207dd8",
   "metadata": {
    "papermill": {
     "duration": 1.524239,
     "end_time": "2023-08-30T04:05:11.648155",
     "exception": false,
     "start_time": "2023-08-30T04:05:10.123916",
     "status": "completed"
    },
    "tags": []
   },
   "source": [
    "## Standard checks and stats"
   ]
  },
  {
   "cell_type": "code",
   "execution_count": 32,
   "id": "286686af-1b7b-4440-8453-6bdcbd8de19c",
   "metadata": {
    "execution": {
     "iopub.execute_input": "2023-08-30T04:05:14.566783Z",
     "iopub.status.busy": "2023-08-30T04:05:14.566203Z",
     "iopub.status.idle": "2023-08-30T04:05:14.589036Z",
     "shell.execute_reply": "2023-08-30T04:05:14.588437Z"
    },
    "papermill": {
     "duration": 1.458625,
     "end_time": "2023-08-30T04:05:14.589935",
     "exception": false,
     "start_time": "2023-08-30T04:05:13.131310",
     "status": "completed"
    },
    "tags": []
   },
   "outputs": [],
   "source": [
    "assert not gene_corrs_df.isna().any(axis=None)"
   ]
  },
  {
   "cell_type": "code",
   "execution_count": 33,
   "id": "00583efc-7068-4270-ad1e-4a418e91db96",
   "metadata": {
    "execution": {
     "iopub.execute_input": "2023-08-30T04:05:17.616658Z",
     "iopub.status.busy": "2023-08-30T04:05:17.615962Z",
     "iopub.status.idle": "2023-08-30T04:05:17.641234Z",
     "shell.execute_reply": "2023-08-30T04:05:17.640689Z"
    },
    "papermill": {
     "duration": 1.548204,
     "end_time": "2023-08-30T04:05:17.642095",
     "exception": false,
     "start_time": "2023-08-30T04:05:16.093891",
     "status": "completed"
    },
    "tags": []
   },
   "outputs": [
    {
     "data": {
      "text/plain": [
       "0.0"
      ]
     },
     "metadata": {},
     "output_type": "display_data"
    }
   ],
   "source": [
    "_min_val = gene_corrs_df.min().min()\n",
    "display(_min_val)\n",
    "assert _min_val >= -0.05"
   ]
  },
  {
   "cell_type": "code",
   "execution_count": 34,
   "id": "d04fb2cf-1050-475b-b855-f5f7cc04092b",
   "metadata": {
    "execution": {
     "iopub.execute_input": "2023-08-30T04:05:20.587131Z",
     "iopub.status.busy": "2023-08-30T04:05:20.586277Z",
     "iopub.status.idle": "2023-08-30T04:05:20.615377Z",
     "shell.execute_reply": "2023-08-30T04:05:20.614691Z"
    },
    "papermill": {
     "duration": 1.479233,
     "end_time": "2023-08-30T04:05:20.616292",
     "exception": false,
     "start_time": "2023-08-30T04:05:19.137059",
     "status": "completed"
    },
    "tags": []
   },
   "outputs": [
    {
     "data": {
      "text/plain": [
       "1.0000000000000027"
      ]
     },
     "metadata": {},
     "output_type": "display_data"
    }
   ],
   "source": [
    "_max_val = gene_corrs_df.max().max()  # this captures the diagonal\n",
    "display(_max_val)\n",
    "assert _max_val <= 1.05"
   ]
  },
  {
   "cell_type": "code",
   "execution_count": 35,
   "id": "fe283586-c348-40e0-8841-f6d97bfb021c",
   "metadata": {
    "execution": {
     "iopub.execute_input": "2023-08-30T04:05:23.560457Z",
     "iopub.status.busy": "2023-08-30T04:05:23.560050Z",
     "iopub.status.idle": "2023-08-30T04:05:23.589016Z",
     "shell.execute_reply": "2023-08-30T04:05:23.588457Z"
    },
    "papermill": {
     "duration": 1.523385,
     "end_time": "2023-08-30T04:05:23.589957",
     "exception": false,
     "start_time": "2023-08-30T04:05:22.066572",
     "status": "completed"
    },
    "tags": []
   },
   "outputs": [
    {
     "data": {
      "text/plain": [
       "count    46665.000000\n",
       "mean         0.009064\n",
       "std          0.085648\n",
       "min          0.000000\n",
       "25%          0.000000\n",
       "50%          0.000000\n",
       "75%          0.000000\n",
       "max          1.000000\n",
       "dtype: float64"
      ]
     },
     "execution_count": 35,
     "metadata": {},
     "output_type": "execute_result"
    }
   ],
   "source": [
    "gene_corrs_flat.describe()"
   ]
  },
  {
   "cell_type": "code",
   "execution_count": 36,
   "id": "b3815678-0f93-4b35-897b-a9d047a2aa78",
   "metadata": {
    "execution": {
     "iopub.execute_input": "2023-08-30T04:05:26.445936Z",
     "iopub.status.busy": "2023-08-30T04:05:26.445567Z",
     "iopub.status.idle": "2023-08-30T04:05:26.471222Z",
     "shell.execute_reply": "2023-08-30T04:05:26.470691Z"
    },
    "papermill": {
     "duration": 1.436368,
     "end_time": "2023-08-30T04:05:26.472100",
     "exception": false,
     "start_time": "2023-08-30T04:05:25.035732",
     "status": "completed"
    },
    "tags": []
   },
   "outputs": [
    {
     "data": {
      "text/plain": [
       "0.00    0.00000\n",
       "0.05    0.00000\n",
       "0.10    0.00000\n",
       "0.15    0.00000\n",
       "0.20    0.00000\n",
       "0.25    0.00000\n",
       "0.30    0.00000\n",
       "0.35    0.00000\n",
       "0.40    0.00000\n",
       "0.45    0.00000\n",
       "0.50    0.00000\n",
       "0.55    0.00000\n",
       "0.60    0.00000\n",
       "0.65    0.00000\n",
       "0.70    0.00000\n",
       "0.75    0.00000\n",
       "0.80    0.00000\n",
       "0.85    0.00000\n",
       "0.90    0.00000\n",
       "0.95    0.00635\n",
       "dtype: float64"
      ]
     },
     "metadata": {},
     "output_type": "display_data"
    }
   ],
   "source": [
    "gene_corrs_quantiles = gene_corrs_flat.quantile(np.arange(0, 1, 0.05))\n",
    "display(gene_corrs_quantiles)"
   ]
  },
  {
   "cell_type": "markdown",
   "id": "87134509-b145-4a10-8bc9-b7e914c2b0fa",
   "metadata": {
    "papermill": {
     "duration": 1.552704,
     "end_time": "2023-08-30T04:05:29.476235",
     "exception": false,
     "start_time": "2023-08-30T04:05:27.923531",
     "status": "completed"
    },
    "tags": []
   },
   "source": [
    "## Positive definiteness"
   ]
  },
  {
   "cell_type": "code",
   "execution_count": 37,
   "id": "07d9a9a1-a4f7-48aa-b916-6d42a8cc6186",
   "metadata": {
    "execution": {
     "iopub.execute_input": "2023-08-30T04:05:32.430046Z",
     "iopub.status.busy": "2023-08-30T04:05:32.429418Z",
     "iopub.status.idle": "2023-08-30T04:05:32.484634Z",
     "shell.execute_reply": "2023-08-30T04:05:32.484042Z"
    },
    "papermill": {
     "duration": 1.498976,
     "end_time": "2023-08-30T04:05:32.485811",
     "exception": false,
     "start_time": "2023-08-30T04:05:30.986835",
     "status": "completed"
    },
    "tags": []
   },
   "outputs": [
    {
     "data": {
      "text/plain": [
       "0"
      ]
     },
     "metadata": {},
     "output_type": "display_data"
    },
    {
     "data": {
      "text/plain": [
       "array([], dtype=float64)"
      ]
     },
     "metadata": {},
     "output_type": "display_data"
    }
   ],
   "source": [
    "# print negative eigenvalues\n",
    "eigs = np.linalg.eigvals(gene_corrs_df.to_numpy())\n",
    "display(len(eigs[eigs < 0]))\n",
    "display(eigs[eigs < 0])"
   ]
  },
  {
   "cell_type": "code",
   "execution_count": 38,
   "id": "6e218436-c3c5-4028-8c94-a4fa6260efce",
   "metadata": {
    "execution": {
     "iopub.execute_input": "2023-08-30T04:05:35.611476Z",
     "iopub.status.busy": "2023-08-30T04:05:35.611104Z",
     "iopub.status.idle": "2023-08-30T04:05:35.639815Z",
     "shell.execute_reply": "2023-08-30T04:05:35.639278Z"
    },
    "papermill": {
     "duration": 1.635026,
     "end_time": "2023-08-30T04:05:35.640772",
     "exception": false,
     "start_time": "2023-08-30T04:05:34.005746",
     "status": "completed"
    },
    "tags": []
   },
   "outputs": [
    {
     "name": "stdout",
     "output_type": "stream",
     "text": [
      "Works!\n"
     ]
    }
   ],
   "source": [
    "try:\n",
    "    chol_mat = np.linalg.cholesky(gene_corrs_df.to_numpy())\n",
    "    cov_inv = np.linalg.inv(chol_mat)\n",
    "    print(\"Works!\")\n",
    "except Exception as e:\n",
    "    print(f\"Cholesky decomposition failed: {str(e)}\")"
   ]
  },
  {
   "cell_type": "code",
   "execution_count": 39,
   "id": "dd8827fb-faf9-4c7c-9454-015e94752706",
   "metadata": {
    "execution": {
     "iopub.execute_input": "2023-08-30T04:05:38.639848Z",
     "iopub.status.busy": "2023-08-30T04:05:38.639493Z",
     "iopub.status.idle": "2023-08-30T04:05:38.673603Z",
     "shell.execute_reply": "2023-08-30T04:05:38.672900Z"
    },
    "papermill": {
     "duration": 1.487328,
     "end_time": "2023-08-30T04:05:38.674625",
     "exception": false,
     "start_time": "2023-08-30T04:05:37.187297",
     "status": "completed"
    },
    "tags": []
   },
   "outputs": [
    {
     "name": "stdout",
     "output_type": "stream",
     "text": [
      "Works!\n"
     ]
    }
   ],
   "source": [
    "try:\n",
    "    # decomposition used by statsmodels.GLS\n",
    "    cholsigmainv = np.linalg.cholesky(np.linalg.inv(gene_corrs_df.to_numpy())).T\n",
    "    print(\"Works!\")\n",
    "except Exception as e:\n",
    "    print(f\"Cholesky decomposition failed (statsmodels.GLS): {str(e)}\")"
   ]
  },
  {
   "cell_type": "markdown",
   "id": "8e60a080-edb2-4e9c-b2ef-22961693200c",
   "metadata": {
    "papermill": {
     "duration": 1.673104,
     "end_time": "2023-08-30T04:05:41.939028",
     "exception": false,
     "start_time": "2023-08-30T04:05:40.265924",
     "status": "completed"
    },
    "tags": []
   },
   "source": [
    "## Plot: distribution"
   ]
  },
  {
   "cell_type": "code",
   "execution_count": 40,
   "id": "8301126b-a7d4-4744-9c7d-f0f86eb6f54c",
   "metadata": {
    "execution": {
     "iopub.execute_input": "2023-08-30T04:05:44.898567Z",
     "iopub.status.busy": "2023-08-30T04:05:44.898119Z",
     "iopub.status.idle": "2023-08-30T04:05:45.282834Z",
     "shell.execute_reply": "2023-08-30T04:05:45.282342Z"
    },
    "papermill": {
     "duration": 1.795322,
     "end_time": "2023-08-30T04:05:45.284094",
     "exception": false,
     "start_time": "2023-08-30T04:05:43.488772",
     "status": "completed"
    },
    "tags": []
   },
   "outputs": [
    {
     "data": {
      "image/png": "[encoded data removed]",
      "text/plain": [
       "<Figure size 700x700 with 1 Axes>"
      ]
     },
     "metadata": {},
     "output_type": "display_data"
    }
   ],
   "source": [
    "with sns.plotting_context(\"paper\", font_scale=1.5):\n",
    "    g = sns.displot(gene_corrs_flat, kde=True, height=7)\n",
    "    g.ax.set_title(\n",
    "        f\"Distribution of gene correlation values in chromosome {CHROMOSOME}\"\n",
    "    )"
   ]
  },
  {
   "cell_type": "markdown",
   "id": "cbd52bca-d878-4a2f-b684-5c83aa3038d4",
   "metadata": {
    "papermill": {
     "duration": 1.443371,
     "end_time": "2023-08-30T04:05:48.180017",
     "exception": false,
     "start_time": "2023-08-30T04:05:46.736646",
     "status": "completed"
    },
    "tags": []
   },
   "source": [
    "## Plot: heatmap"
   ]
  },
  {
   "cell_type": "code",
   "execution_count": 41,
   "id": "d03fe63a-c7b2-4fb9-a53c-db362ce843c9",
   "metadata": {
    "execution": {
     "iopub.execute_input": "2023-08-30T04:05:51.070486Z",
     "iopub.status.busy": "2023-08-30T04:05:51.070181Z",
     "iopub.status.idle": "2023-08-30T04:05:51.085227Z",
     "shell.execute_reply": "2023-08-30T04:05:51.084834Z"
    },
    "papermill": {
     "duration": 1.450627,
     "end_time": "2023-08-30T04:05:51.086060",
     "exception": false,
     "start_time": "2023-08-30T04:05:49.635433",
     "status": "completed"
    },
    "tags": []
   },
   "outputs": [
    {
     "data": {
      "text/plain": [
       "'0.0 / 0.05'"
      ]
     },
     "metadata": {},
     "output_type": "display_data"
    }
   ],
   "source": [
    "vmin_val = min(0.00, gene_corrs_quantiles[0.10])\n",
    "vmax_val = max(0.05, gene_corrs_quantiles[0.90])\n",
    "display(f\"{vmin_val} / {vmax_val}\")"
   ]
  },
  {
   "cell_type": "code",
   "execution_count": 42,
   "id": "dc41b70b-5bcc-4d9e-9f33-a22c4a94dab5",
   "metadata": {
    "execution": {
     "iopub.execute_input": "2023-08-30T04:05:54.114047Z",
     "iopub.status.busy": "2023-08-30T04:05:54.113745Z",
     "iopub.status.idle": "2023-08-30T04:05:54.341436Z",
     "shell.execute_reply": "2023-08-30T04:05:54.340891Z"
    },
    "papermill": {
     "duration": 1.778801,
     "end_time": "2023-08-30T04:05:54.342999",
     "exception": false,
     "start_time": "2023-08-30T04:05:52.564198",
     "status": "completed"
    },
    "tags": []
   },
   "outputs": [
    {
     "data": {
      "text/plain": [
       "Text(0.5, 1.0, 'Gene correlations in chromosome 5')"
      ]
     },
     "execution_count": 42,
     "metadata": {},
     "output_type": "execute_result"
    },
    {
     "data": {
      "image/png": "[encoded data removed]",
      "text/plain": [
       "<Figure size 1000x1000 with 2 Axes>"
      ]
     },
     "metadata": {},
     "output_type": "display_data"
    }
   ],
   "source": [
    "f, ax = plt.subplots(figsize=(10, 10))\n",
    "sns.heatmap(\n",
    "    gene_corrs_df,\n",
    "    xticklabels=False,\n",
    "    yticklabels=False,\n",
    "    square=True,\n",
    "    vmin=vmin_val,\n",
    "    vmax=vmax_val,\n",
    "    cmap=\"rocket_r\",\n",
    "    ax=ax,\n",
    ")\n",
    "ax.set_title(f\"Gene correlations in chromosome {CHROMOSOME}\")"
   ]
  },
  {
   "cell_type": "code",
   "execution_count": null,
   "id": "b25e3ead",
   "metadata": {
    "papermill": {
     "duration": 1.439326,
     "end_time": "2023-08-30T04:05:57.347572",
     "exception": false,
     "start_time": "2023-08-30T04:05:55.908246",
     "status": "completed"
    },
    "tags": []
   },
   "outputs": [],
   "source": []
  }
 ],
 "metadata": {
  "jupytext": {
   "cell_metadata_filter": "all,-execution,-papermill,-trusted",
   "formats": "ipynb,py//py:percent"
  },
  "kernelspec": {
   "display_name": "Python 3 (ipykernel)",
   "language": "python",
   "name": "python3"
  },
  "language_info": {
   "codemirror_mode": {
    "name": "ipython",
    "version": 3
   },
   "file_extension": ".py",
   "mimetype": "text/x-python",
   "name": "python",
   "nbconvert_exporter": "python",
   "pygments_lexer": "ipython3",
   "version": "3.10.6"
  },
  "papermill": {
   "default_parameters": {},
   "duration": 351.4672,
   "end_time": "2023-08-30T04:06:02.588564",
   "environment_variables": {},
   "exception": null,
   "input_path": "projects/chronotype/nbs/20_gene_corrs/jobs/05-gene_expr_correlations.ipynb",
   "output_path": "projects/chronotype/nbs/20_gene_corrs/jobs/../output/chronotype/05-gene_expr_correlations-chr5.run.ipynb",
   "parameters": {
    "CHROMOSOME": 5,
    "COHORT_NAME": "chronotype",
    "OUTPUT_DIR_BASE": "/opt/data/projects/chronotype/results/gls_phenoplier",
    "PHENOPLIER_NOTEBOOK_FILEPATH": "projects/chronotype/nbs/20_gene_corrs/jobs/05-gene_expr_correlations.ipynb"
   },
   "start_time": "2023-08-30T04:00:11.121364",
   "version": "2.2.2"
  }
 },
 "nbformat": 4,
 "nbformat_minor": 5
}
