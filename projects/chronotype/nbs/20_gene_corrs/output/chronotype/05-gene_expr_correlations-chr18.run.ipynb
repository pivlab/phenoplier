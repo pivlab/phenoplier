{
 "cells": [
  {
   "cell_type": "markdown",
   "id": "7a6632fb",
   "metadata": {
    "papermill": {
     "duration": 0.01229,
     "end_time": "2023-08-30T04:00:12.066125",
     "exception": false,
     "start_time": "2023-08-30T04:00:12.053835",
     "status": "completed"
    },
    "tags": []
   },
   "source": [
    "# Description"
   ]
  },
  {
   "cell_type": "markdown",
   "id": "7097c346",
   "metadata": {
    "papermill": {
     "duration": 0.008399,
     "end_time": "2023-08-30T04:00:12.085059",
     "exception": false,
     "start_time": "2023-08-30T04:00:12.076660",
     "status": "completed"
    },
    "tags": []
   },
   "source": [
    "This notebook computes predicted expression correlations between all genes in the MultiPLIER models.\n",
    "\n",
    "It has specicfic parameters for papermill (see under `Settings` below).\n",
    "\n",
    "This notebook should not be directly run. It is used by other notebooks."
   ]
  },
  {
   "cell_type": "markdown",
   "id": "c61d8427",
   "metadata": {
    "papermill": {
     "duration": 0.008368,
     "end_time": "2023-08-30T04:00:12.101667",
     "exception": false,
     "start_time": "2023-08-30T04:00:12.093299",
     "status": "completed"
    },
    "tags": []
   },
   "source": [
    "# Modules"
   ]
  },
  {
   "cell_type": "code",
   "execution_count": 1,
   "id": "bbc0234f",
   "metadata": {
    "execution": {
     "iopub.execute_input": "2023-08-30T04:00:12.120960Z",
     "iopub.status.busy": "2023-08-30T04:00:12.120363Z",
     "iopub.status.idle": "2023-08-30T04:00:12.144313Z",
     "shell.execute_reply": "2023-08-30T04:00:12.143667Z"
    },
    "papermill": {
     "duration": 0.036199,
     "end_time": "2023-08-30T04:00:12.146887",
     "exception": false,
     "start_time": "2023-08-30T04:00:12.110688",
     "status": "completed"
    },
    "tags": []
   },
   "outputs": [],
   "source": [
    "%load_ext autoreload\n",
    "%autoreload 2"
   ]
  },
  {
   "cell_type": "code",
   "execution_count": 2,
   "id": "1d5f5a59",
   "metadata": {
    "execution": {
     "iopub.execute_input": "2023-08-30T04:00:12.168819Z",
     "iopub.status.busy": "2023-08-30T04:00:12.168532Z",
     "iopub.status.idle": "2023-08-30T04:00:12.884830Z",
     "shell.execute_reply": "2023-08-30T04:00:12.884393Z"
    },
    "papermill": {
     "duration": 0.727263,
     "end_time": "2023-08-30T04:00:12.886414",
     "exception": false,
     "start_time": "2023-08-30T04:00:12.159151",
     "status": "completed"
    },
    "tags": []
   },
   "outputs": [],
   "source": [
    "from random import sample, seed\n",
    "import warnings\n",
    "from pathlib import Path\n",
    "import pickle\n",
    "import traceback\n",
    "\n",
    "import numpy as np\n",
    "from scipy.spatial.distance import squareform\n",
    "import pandas as pd\n",
    "from tqdm import tqdm\n",
    "import matplotlib.pyplot as plt\n",
    "import seaborn as sns\n",
    "\n",
    "import conf\n",
    "from entity import Gene"
   ]
  },
  {
   "cell_type": "markdown",
   "id": "1eac24b5",
   "metadata": {
    "papermill": {
     "duration": 0.007446,
     "end_time": "2023-08-30T04:00:12.901519",
     "exception": false,
     "start_time": "2023-08-30T04:00:12.894073",
     "status": "completed"
    },
    "tags": []
   },
   "source": [
    "# Settings"
   ]
  },
  {
   "cell_type": "code",
   "execution_count": 3,
   "id": "ca4560ba",
   "metadata": {
    "execution": {
     "iopub.execute_input": "2023-08-30T04:00:12.912396Z",
     "iopub.status.busy": "2023-08-30T04:00:12.912205Z",
     "iopub.status.idle": "2023-08-30T04:00:12.929096Z",
     "shell.execute_reply": "2023-08-30T04:00:12.928737Z"
    },
    "papermill": {
     "duration": 0.023961,
     "end_time": "2023-08-30T04:00:12.930765",
     "exception": false,
     "start_time": "2023-08-30T04:00:12.906804",
     "status": "completed"
    },
    "tags": [
     "parameters"
    ]
   },
   "outputs": [],
   "source": [
    "# a cohort name (it could be something like UK_BIOBANK, etc)\n",
    "COHORT_NAME = None\n",
    "\n",
    "# reference panel such as 1000G or GTEX_V8\n",
    "REFERENCE_PANEL = \"GTEX_V8\"\n",
    "\n",
    "# predictions models such as MASHR or ELASTIC_NET\n",
    "EQTL_MODEL = \"MASHR\"\n",
    "\n",
    "# this is the default value used in S-MultiXcan to select the\n",
    "# top principal components of the expression correlation matrix\n",
    "SMULTIXCAN_CONDITION_NUMBER = 30\n",
    "\n",
    "# specifies a single chromosome value\n",
    "CHROMOSOME = None\n",
    "\n",
    "# If True, computes the correlation between closeby genes only (see\n",
    "# entity.Gene.within_distance for more details). Otherwise, it computes\n",
    "# correlations for all genes in a chromosome\n",
    "COMPUTE_CORRELATIONS_WITHIN_DISTANCE = True\n",
    "\n",
    "# if True, then it will continue if a gene pair correlation fails,\n",
    "# printing the warning/error for debugging. If False, any warning/error\n",
    "# will be thrown\n",
    "DEBUG_MODE = False\n",
    "\n",
    "# output dir\n",
    "OUTPUT_DIR_BASE = None"
   ]
  },
  {
   "cell_type": "code",
   "execution_count": 4,
   "id": "f5f1277d",
   "metadata": {
    "execution": {
     "iopub.execute_input": "2023-08-30T04:00:12.945462Z",
     "iopub.status.busy": "2023-08-30T04:00:12.944964Z",
     "iopub.status.idle": "2023-08-30T04:00:12.971336Z",
     "shell.execute_reply": "2023-08-30T04:00:12.970935Z"
    },
    "papermill": {
     "duration": 0.035098,
     "end_time": "2023-08-30T04:00:12.972849",
     "exception": false,
     "start_time": "2023-08-30T04:00:12.937751",
     "status": "completed"
    },
    "tags": [
     "injected-parameters"
    ]
   },
   "outputs": [],
   "source": [
    "# Parameters\n",
    "PHENOPLIER_NOTEBOOK_FILEPATH = (\n",
    "    \"projects/chronotype/nbs/20_gene_corrs/jobs/05-gene_expr_correlations.ipynb\"\n",
    ")\n",
    "COHORT_NAME = \"chronotype\"\n",
    "CHROMOSOME = 18\n",
    "OUTPUT_DIR_BASE = \"/opt/data/projects/chronotype/results/gls_phenoplier\"\n"
   ]
  },
  {
   "cell_type": "code",
   "execution_count": 5,
   "id": "3190631f-27fc-480f-b18e-571d580425a5",
   "metadata": {
    "execution": {
     "iopub.execute_input": "2023-08-30T04:00:12.987419Z",
     "iopub.status.busy": "2023-08-30T04:00:12.987226Z",
     "iopub.status.idle": "2023-08-30T04:00:13.011350Z",
     "shell.execute_reply": "2023-08-30T04:00:13.010858Z"
    },
    "papermill": {
     "duration": 0.032214,
     "end_time": "2023-08-30T04:00:13.012300",
     "exception": false,
     "start_time": "2023-08-30T04:00:12.980086",
     "status": "completed"
    },
    "tags": []
   },
   "outputs": [
    {
     "data": {
      "text/plain": [
       "'Cohort name: chronotype'"
      ]
     },
     "metadata": {},
     "output_type": "display_data"
    }
   ],
   "source": [
    "assert COHORT_NAME is not None and len(COHORT_NAME) > 0, \"A cohort name must be given\"\n",
    "\n",
    "COHORT_NAME = COHORT_NAME.lower()\n",
    "display(f\"Cohort name: {COHORT_NAME}\")"
   ]
  },
  {
   "cell_type": "code",
   "execution_count": 6,
   "id": "f53ba19b-0f93-4fa2-a047-63b375939d1a",
   "metadata": {
    "execution": {
     "iopub.execute_input": "2023-08-30T04:00:13.022531Z",
     "iopub.status.busy": "2023-08-30T04:00:13.022232Z",
     "iopub.status.idle": "2023-08-30T04:00:13.046506Z",
     "shell.execute_reply": "2023-08-30T04:00:13.045906Z"
    },
    "papermill": {
     "duration": 0.030214,
     "end_time": "2023-08-30T04:00:13.047515",
     "exception": false,
     "start_time": "2023-08-30T04:00:13.017301",
     "status": "completed"
    },
    "tags": []
   },
   "outputs": [
    {
     "data": {
      "text/plain": [
       "'Reference panel: GTEX_V8'"
      ]
     },
     "metadata": {},
     "output_type": "display_data"
    }
   ],
   "source": [
    "assert (\n",
    "    REFERENCE_PANEL is not None and len(REFERENCE_PANEL) > 0\n",
    "), \"A reference panel must be given\"\n",
    "\n",
    "display(f\"Reference panel: {REFERENCE_PANEL}\")"
   ]
  },
  {
   "cell_type": "code",
   "execution_count": 7,
   "id": "e024d130-c139-429a-9c6e-ccf149e297b0",
   "metadata": {
    "execution": {
     "iopub.execute_input": "2023-08-30T04:00:13.063580Z",
     "iopub.status.busy": "2023-08-30T04:00:13.063129Z",
     "iopub.status.idle": "2023-08-30T04:00:13.089468Z",
     "shell.execute_reply": "2023-08-30T04:00:13.088762Z"
    },
    "papermill": {
     "duration": 0.037164,
     "end_time": "2023-08-30T04:00:13.090511",
     "exception": false,
     "start_time": "2023-08-30T04:00:13.053347",
     "status": "completed"
    },
    "tags": []
   },
   "outputs": [
    {
     "data": {
      "text/plain": [
       "'eQTL model: MASHR) / mashr_'"
      ]
     },
     "metadata": {},
     "output_type": "display_data"
    }
   ],
   "source": [
    "assert (\n",
    "    EQTL_MODEL is not None and len(EQTL_MODEL) > 0\n",
    "), \"A prediction/eQTL model must be given\"\n",
    "\n",
    "EQTL_MODEL_FILES_PREFIX = conf.PHENOMEXCAN[\"PREDICTION_MODELS\"][f\"{EQTL_MODEL}_PREFIX\"]\n",
    "display(f\"eQTL model: {EQTL_MODEL}) / {EQTL_MODEL_FILES_PREFIX}\")"
   ]
  },
  {
   "cell_type": "code",
   "execution_count": 8,
   "id": "552a7f63-a18c-4d3e-bb6a-94f99b431291",
   "metadata": {
    "execution": {
     "iopub.execute_input": "2023-08-30T04:00:13.101039Z",
     "iopub.status.busy": "2023-08-30T04:00:13.100687Z",
     "iopub.status.idle": "2023-08-30T04:00:13.123292Z",
     "shell.execute_reply": "2023-08-30T04:00:13.122687Z"
    },
    "papermill": {
     "duration": 0.029051,
     "end_time": "2023-08-30T04:00:13.124322",
     "exception": false,
     "start_time": "2023-08-30T04:00:13.095271",
     "status": "completed"
    },
    "tags": []
   },
   "outputs": [
    {
     "data": {
      "text/plain": [
       "'S-MultiXcan condition number: 30'"
      ]
     },
     "metadata": {},
     "output_type": "display_data"
    }
   ],
   "source": [
    "assert (\n",
    "    SMULTIXCAN_CONDITION_NUMBER is not None and SMULTIXCAN_CONDITION_NUMBER > 0\n",
    "), \"The S-MultiXcan condition number (positive integer) must be given\"\n",
    "\n",
    "display(f\"S-MultiXcan condition number: {SMULTIXCAN_CONDITION_NUMBER}\")"
   ]
  },
  {
   "cell_type": "code",
   "execution_count": 9,
   "id": "f34a336f-548e-4afe-8955-90eaea4f42c6",
   "metadata": {
    "execution": {
     "iopub.execute_input": "2023-08-30T04:00:13.134753Z",
     "iopub.status.busy": "2023-08-30T04:00:13.134394Z",
     "iopub.status.idle": "2023-08-30T04:00:13.154586Z",
     "shell.execute_reply": "2023-08-30T04:00:13.154063Z"
    },
    "papermill": {
     "duration": 0.026807,
     "end_time": "2023-08-30T04:00:13.155975",
     "exception": false,
     "start_time": "2023-08-30T04:00:13.129168",
     "status": "completed"
    },
    "tags": []
   },
   "outputs": [
    {
     "data": {
      "text/plain": [
       "'Working on chromosome 18'"
      ]
     },
     "metadata": {},
     "output_type": "display_data"
    }
   ],
   "source": [
    "assert CHROMOSOME is not None and (\n",
    "    1 <= CHROMOSOME <= 22\n",
    "), \"You have to select one chromosome (format: number between 1 and 22)\"\n",
    "\n",
    "display(f\"Working on chromosome {CHROMOSOME}\")"
   ]
  },
  {
   "cell_type": "code",
   "execution_count": 10,
   "id": "ab8e96e8-06b5-4363-9dcd-dc4d78cc27f7",
   "metadata": {
    "execution": {
     "iopub.execute_input": "2023-08-30T04:00:13.171533Z",
     "iopub.status.busy": "2023-08-30T04:00:13.171096Z",
     "iopub.status.idle": "2023-08-30T04:00:13.198760Z",
     "shell.execute_reply": "2023-08-30T04:00:13.198104Z"
    },
    "papermill": {
     "duration": 0.036967,
     "end_time": "2023-08-30T04:00:13.200057",
     "exception": false,
     "start_time": "2023-08-30T04:00:13.163090",
     "status": "completed"
    },
    "tags": []
   },
   "outputs": [
    {
     "data": {
      "text/plain": [
       "'Compute correlation within distance True'"
      ]
     },
     "metadata": {},
     "output_type": "display_data"
    }
   ],
   "source": [
    "display(f\"Compute correlation within distance {COMPUTE_CORRELATIONS_WITHIN_DISTANCE}\")"
   ]
  },
  {
   "cell_type": "code",
   "execution_count": 11,
   "id": "b393b698-77e3-4ba2-8ac1-e14d51aa988f",
   "metadata": {
    "execution": {
     "iopub.execute_input": "2023-08-30T04:00:13.213315Z",
     "iopub.status.busy": "2023-08-30T04:00:13.213105Z",
     "iopub.status.idle": "2023-08-30T04:00:13.237806Z",
     "shell.execute_reply": "2023-08-30T04:00:13.237092Z"
    },
    "papermill": {
     "duration": 0.031557,
     "end_time": "2023-08-30T04:00:13.239127",
     "exception": false,
     "start_time": "2023-08-30T04:00:13.207570",
     "status": "completed"
    },
    "tags": []
   },
   "outputs": [
    {
     "data": {
      "text/plain": [
       "'Using output dir base: /opt/data/projects/chronotype/results/gls_phenoplier/gene_corrs/chronotype'"
      ]
     },
     "metadata": {},
     "output_type": "display_data"
    }
   ],
   "source": [
    "assert (\n",
    "    OUTPUT_DIR_BASE is not None and len(OUTPUT_DIR_BASE) > 0\n",
    "), \"Output directory path must be given\"\n",
    "\n",
    "OUTPUT_DIR_BASE = (Path(OUTPUT_DIR_BASE) / \"gene_corrs\" / COHORT_NAME).resolve()\n",
    "\n",
    "OUTPUT_DIR_BASE.mkdir(parents=True, exist_ok=True)\n",
    "\n",
    "display(f\"Using output dir base: {OUTPUT_DIR_BASE}\")"
   ]
  },
  {
   "cell_type": "markdown",
   "id": "d2ba085e",
   "metadata": {
    "papermill": {
     "duration": 0.004958,
     "end_time": "2023-08-30T04:00:13.249226",
     "exception": false,
     "start_time": "2023-08-30T04:00:13.244268",
     "status": "completed"
    },
    "tags": []
   },
   "source": [
    "# Load data"
   ]
  },
  {
   "cell_type": "markdown",
   "id": "7dcb8db7",
   "metadata": {
    "papermill": {
     "duration": 0.004702,
     "end_time": "2023-08-30T04:00:13.258753",
     "exception": false,
     "start_time": "2023-08-30T04:00:13.254051",
     "status": "completed"
    },
    "tags": []
   },
   "source": [
    "## GWAS variants"
   ]
  },
  {
   "cell_type": "code",
   "execution_count": 12,
   "id": "29434c4e-8cd3-4b9b-82e4-b5a251d9dd19",
   "metadata": {
    "execution": {
     "iopub.execute_input": "2023-08-30T04:00:13.269124Z",
     "iopub.status.busy": "2023-08-30T04:00:13.268902Z",
     "iopub.status.idle": "2023-08-30T04:00:17.777371Z",
     "shell.execute_reply": "2023-08-30T04:00:17.776653Z"
    },
    "papermill": {
     "duration": 4.516061,
     "end_time": "2023-08-30T04:00:17.779571",
     "exception": false,
     "start_time": "2023-08-30T04:00:13.263510",
     "status": "completed"
    },
    "tags": []
   },
   "outputs": [],
   "source": [
    "with open(OUTPUT_DIR_BASE / \"gwas_variant_ids.pkl\", \"rb\") as handle:\n",
    "    gwas_variants_ids_set = pickle.load(handle)"
   ]
  },
  {
   "cell_type": "code",
   "execution_count": 13,
   "id": "b9d9dec2-4a76-4bf9-bde2-e24c95acb8a0",
   "metadata": {
    "execution": {
     "iopub.execute_input": "2023-08-30T04:00:17.797378Z",
     "iopub.status.busy": "2023-08-30T04:00:17.796959Z",
     "iopub.status.idle": "2023-08-30T04:00:17.819858Z",
     "shell.execute_reply": "2023-08-30T04:00:17.819316Z"
    },
    "papermill": {
     "duration": 0.033939,
     "end_time": "2023-08-30T04:00:17.821507",
     "exception": false,
     "start_time": "2023-08-30T04:00:17.787568",
     "status": "completed"
    },
    "tags": []
   },
   "outputs": [
    {
     "data": {
      "text/plain": [
       "11737794"
      ]
     },
     "execution_count": 13,
     "metadata": {},
     "output_type": "execute_result"
    }
   ],
   "source": [
    "len(gwas_variants_ids_set)"
   ]
  },
  {
   "cell_type": "code",
   "execution_count": 14,
   "id": "4235b06a-6034-4ee4-a0a3-2ae35d122418",
   "metadata": {
    "execution": {
     "iopub.execute_input": "2023-08-30T04:00:17.838431Z",
     "iopub.status.busy": "2023-08-30T04:00:17.838002Z",
     "iopub.status.idle": "2023-08-30T04:00:19.760328Z",
     "shell.execute_reply": "2023-08-30T04:00:19.759692Z"
    },
    "papermill": {
     "duration": 1.932262,
     "end_time": "2023-08-30T04:00:19.761522",
     "exception": false,
     "start_time": "2023-08-30T04:00:17.829260",
     "status": "completed"
    },
    "tags": []
   },
   "outputs": [
    {
     "data": {
      "text/plain": [
       "['chr4_79326034_C_G_b38',\n",
       " 'chr5_108565551_A_G_b38',\n",
       " 'chr14_76926198_G_A_b38',\n",
       " 'chr10_132890387_C_G_b38',\n",
       " 'chr1_237749981_G_A_b38']"
      ]
     },
     "execution_count": 14,
     "metadata": {},
     "output_type": "execute_result"
    }
   ],
   "source": [
    "list(gwas_variants_ids_set)[:5]"
   ]
  },
  {
   "cell_type": "markdown",
   "id": "07866999-2305-41f9-a144-e69c9122c212",
   "metadata": {
    "papermill": {
     "duration": 0.006763,
     "end_time": "2023-08-30T04:00:19.775080",
     "exception": false,
     "start_time": "2023-08-30T04:00:19.768317",
     "status": "completed"
    },
    "tags": []
   },
   "source": [
    "## S-PrediXcan tissue models"
   ]
  },
  {
   "cell_type": "code",
   "execution_count": 15,
   "id": "780611d9-77c8-405f-90a4-f271f7b09397",
   "metadata": {
    "execution": {
     "iopub.execute_input": "2023-08-30T04:00:19.791617Z",
     "iopub.status.busy": "2023-08-30T04:00:19.790979Z",
     "iopub.status.idle": "2023-08-30T04:00:22.204390Z",
     "shell.execute_reply": "2023-08-30T04:00:22.203766Z"
    },
    "papermill": {
     "duration": 2.423539,
     "end_time": "2023-08-30T04:00:22.205744",
     "exception": false,
     "start_time": "2023-08-30T04:00:19.782205",
     "status": "completed"
    },
    "tags": []
   },
   "outputs": [],
   "source": [
    "spredixcan_genes_models = pd.read_pickle(OUTPUT_DIR_BASE / \"gene_tissues.pkl\")"
   ]
  },
  {
   "cell_type": "code",
   "execution_count": 16,
   "id": "726dd1f6-9557-4225-91fa-b3b879ea96e1",
   "metadata": {
    "execution": {
     "iopub.execute_input": "2023-08-30T04:00:22.218326Z",
     "iopub.status.busy": "2023-08-30T04:00:22.217972Z",
     "iopub.status.idle": "2023-08-30T04:00:22.233930Z",
     "shell.execute_reply": "2023-08-30T04:00:22.233543Z"
    },
    "papermill": {
     "duration": 0.023389,
     "end_time": "2023-08-30T04:00:22.234894",
     "exception": false,
     "start_time": "2023-08-30T04:00:22.211505",
     "status": "completed"
    },
    "tags": []
   },
   "outputs": [
    {
     "data": {
      "text/plain": [
       "(6445, 5)"
      ]
     },
     "execution_count": 16,
     "metadata": {},
     "output_type": "execute_result"
    }
   ],
   "source": [
    "spredixcan_genes_models.shape"
   ]
  },
  {
   "cell_type": "code",
   "execution_count": 17,
   "id": "944a1b48-222c-4eb0-b252-b9de2cbca215",
   "metadata": {
    "execution": {
     "iopub.execute_input": "2023-08-30T04:00:22.247382Z",
     "iopub.status.busy": "2023-08-30T04:00:22.247131Z",
     "iopub.status.idle": "2023-08-30T04:00:22.273329Z",
     "shell.execute_reply": "2023-08-30T04:00:22.272654Z"
    },
    "papermill": {
     "duration": 0.034333,
     "end_time": "2023-08-30T04:00:22.274955",
     "exception": false,
     "start_time": "2023-08-30T04:00:22.240622",
     "status": "completed"
    },
    "tags": []
   },
   "outputs": [
    {
     "data": {
      "text/html": [
       "<div>\n",
       "<style scoped>\n",
       "    .dataframe tbody tr th:only-of-type {\n",
       "        vertical-align: middle;\n",
       "    }\n",
       "\n",
       "    .dataframe tbody tr th {\n",
       "        vertical-align: top;\n",
       "    }\n",
       "\n",
       "    .dataframe thead th {\n",
       "        text-align: right;\n",
       "    }\n",
       "</style>\n",
       "<table border=\"1\" class=\"dataframe\">\n",
       "  <thead>\n",
       "    <tr style=\"text-align: right;\">\n",
       "      <th></th>\n",
       "      <th>gene_name</th>\n",
       "      <th>tissue</th>\n",
       "      <th>n_tissues</th>\n",
       "      <th>n_snps_used_sum</th>\n",
       "      <th>n_snps_in_model_sum</th>\n",
       "    </tr>\n",
       "    <tr>\n",
       "      <th>gene_id</th>\n",
       "      <th></th>\n",
       "      <th></th>\n",
       "      <th></th>\n",
       "      <th></th>\n",
       "      <th></th>\n",
       "    </tr>\n",
       "  </thead>\n",
       "  <tbody>\n",
       "    <tr>\n",
       "      <th>ENSG00000000419</th>\n",
       "      <td>DPM1</td>\n",
       "      <td>(Brain_Hypothalamus, Brain_Substantia_nigra)</td>\n",
       "      <td>2</td>\n",
       "      <td>2</td>\n",
       "      <td>2</td>\n",
       "    </tr>\n",
       "    <tr>\n",
       "      <th>ENSG00000000938</th>\n",
       "      <td>FGR</td>\n",
       "      <td>(Artery_Aorta, Brain_Cerebellum, Colon_Transve...</td>\n",
       "      <td>36</td>\n",
       "      <td>40</td>\n",
       "      <td>40</td>\n",
       "    </tr>\n",
       "    <tr>\n",
       "      <th>ENSG00000000971</th>\n",
       "      <td>CFH</td>\n",
       "      <td>(Artery_Aorta, Brain_Cerebellum, Colon_Transve...</td>\n",
       "      <td>34</td>\n",
       "      <td>44</td>\n",
       "      <td>44</td>\n",
       "    </tr>\n",
       "    <tr>\n",
       "      <th>ENSG00000001084</th>\n",
       "      <td>GCLC</td>\n",
       "      <td>(Artery_Aorta, Brain_Cerebellum, Colon_Transve...</td>\n",
       "      <td>32</td>\n",
       "      <td>46</td>\n",
       "      <td>46</td>\n",
       "    </tr>\n",
       "    <tr>\n",
       "      <th>ENSG00000001167</th>\n",
       "      <td>NFYA</td>\n",
       "      <td>(Artery_Aorta, Brain_Cerebellum, Colon_Transve...</td>\n",
       "      <td>40</td>\n",
       "      <td>47</td>\n",
       "      <td>48</td>\n",
       "    </tr>\n",
       "  </tbody>\n",
       "</table>\n",
       "</div>"
      ],
      "text/plain": [
       "                gene_name                                             tissue  \\\n",
       "gene_id                                                                        \n",
       "ENSG00000000419      DPM1       (Brain_Hypothalamus, Brain_Substantia_nigra)   \n",
       "ENSG00000000938       FGR  (Artery_Aorta, Brain_Cerebellum, Colon_Transve...   \n",
       "ENSG00000000971       CFH  (Artery_Aorta, Brain_Cerebellum, Colon_Transve...   \n",
       "ENSG00000001084      GCLC  (Artery_Aorta, Brain_Cerebellum, Colon_Transve...   \n",
       "ENSG00000001167      NFYA  (Artery_Aorta, Brain_Cerebellum, Colon_Transve...   \n",
       "\n",
       "                 n_tissues  n_snps_used_sum  n_snps_in_model_sum  \n",
       "gene_id                                                           \n",
       "ENSG00000000419          2                2                    2  \n",
       "ENSG00000000938         36               40                   40  \n",
       "ENSG00000000971         34               44                   44  \n",
       "ENSG00000001084         32               46                   46  \n",
       "ENSG00000001167         40               47                   48  "
      ]
     },
     "execution_count": 17,
     "metadata": {},
     "output_type": "execute_result"
    }
   ],
   "source": [
    "spredixcan_genes_models.head()"
   ]
  },
  {
   "cell_type": "code",
   "execution_count": 18,
   "id": "d1c11bb1-be0b-4f40-b360-633d6827109f",
   "metadata": {
    "execution": {
     "iopub.execute_input": "2023-08-30T04:00:22.297813Z",
     "iopub.status.busy": "2023-08-30T04:00:22.297568Z",
     "iopub.status.idle": "2023-08-30T04:00:22.314979Z",
     "shell.execute_reply": "2023-08-30T04:00:22.314490Z"
    },
    "papermill": {
     "duration": 0.030771,
     "end_time": "2023-08-30T04:00:22.316709",
     "exception": false,
     "start_time": "2023-08-30T04:00:22.285938",
     "status": "completed"
    },
    "tags": []
   },
   "outputs": [],
   "source": [
    "assert spredixcan_genes_models.index.is_unique"
   ]
  },
  {
   "cell_type": "markdown",
   "id": "a5b5092c-a13e-47c4-a92a-480fcc08f3ae",
   "metadata": {
    "papermill": {
     "duration": 0.010559,
     "end_time": "2023-08-30T04:00:22.338048",
     "exception": false,
     "start_time": "2023-08-30T04:00:22.327489",
     "status": "completed"
    },
    "tags": []
   },
   "source": [
    "## Gene info"
   ]
  },
  {
   "cell_type": "code",
   "execution_count": 19,
   "id": "7d6bb224-88e9-4358-ac10-43a41d92cdad",
   "metadata": {
    "execution": {
     "iopub.execute_input": "2023-08-30T04:00:22.361197Z",
     "iopub.status.busy": "2023-08-30T04:00:22.360547Z",
     "iopub.status.idle": "2023-08-30T04:00:22.389145Z",
     "shell.execute_reply": "2023-08-30T04:00:22.388539Z"
    },
    "papermill": {
     "duration": 0.042199,
     "end_time": "2023-08-30T04:00:22.391009",
     "exception": false,
     "start_time": "2023-08-30T04:00:22.348810",
     "status": "completed"
    },
    "tags": []
   },
   "outputs": [],
   "source": [
    "genes_info = pd.read_pickle(OUTPUT_DIR_BASE / \"genes_info.pkl\")"
   ]
  },
  {
   "cell_type": "code",
   "execution_count": 20,
   "id": "9e32abfa-546d-483e-8c18-d526e9e05903",
   "metadata": {
    "execution": {
     "iopub.execute_input": "2023-08-30T04:00:22.414557Z",
     "iopub.status.busy": "2023-08-30T04:00:22.414160Z",
     "iopub.status.idle": "2023-08-30T04:00:22.440619Z",
     "shell.execute_reply": "2023-08-30T04:00:22.439928Z"
    },
    "papermill": {
     "duration": 0.040033,
     "end_time": "2023-08-30T04:00:22.442282",
     "exception": false,
     "start_time": "2023-08-30T04:00:22.402249",
     "status": "completed"
    },
    "tags": []
   },
   "outputs": [
    {
     "data": {
      "text/plain": [
       "(6445, 7)"
      ]
     },
     "execution_count": 20,
     "metadata": {},
     "output_type": "execute_result"
    }
   ],
   "source": [
    "genes_info.shape"
   ]
  },
  {
   "cell_type": "code",
   "execution_count": 21,
   "id": "d16c3e92-85ec-468a-9a56-e25a9774a1cb",
   "metadata": {
    "execution": {
     "iopub.execute_input": "2023-08-30T04:00:22.465814Z",
     "iopub.status.busy": "2023-08-30T04:00:22.465344Z",
     "iopub.status.idle": "2023-08-30T04:00:22.499085Z",
     "shell.execute_reply": "2023-08-30T04:00:22.498303Z"
    },
    "papermill": {
     "duration": 0.047474,
     "end_time": "2023-08-30T04:00:22.500812",
     "exception": false,
     "start_time": "2023-08-30T04:00:22.453338",
     "status": "completed"
    },
    "tags": []
   },
   "outputs": [
    {
     "data": {
      "text/html": [
       "<div>\n",
       "<style scoped>\n",
       "    .dataframe tbody tr th:only-of-type {\n",
       "        vertical-align: middle;\n",
       "    }\n",
       "\n",
       "    .dataframe tbody tr th {\n",
       "        vertical-align: top;\n",
       "    }\n",
       "\n",
       "    .dataframe thead th {\n",
       "        text-align: right;\n",
       "    }\n",
       "</style>\n",
       "<table border=\"1\" class=\"dataframe\">\n",
       "  <thead>\n",
       "    <tr style=\"text-align: right;\">\n",
       "      <th></th>\n",
       "      <th>name</th>\n",
       "      <th>id</th>\n",
       "      <th>chr</th>\n",
       "      <th>band</th>\n",
       "      <th>start_position</th>\n",
       "      <th>end_position</th>\n",
       "      <th>gene_length</th>\n",
       "    </tr>\n",
       "  </thead>\n",
       "  <tbody>\n",
       "    <tr>\n",
       "      <th>0</th>\n",
       "      <td>DUT</td>\n",
       "      <td>ENSG00000128951</td>\n",
       "      <td>15</td>\n",
       "      <td>15q21.1</td>\n",
       "      <td>48331011</td>\n",
       "      <td>48343373</td>\n",
       "      <td>12362</td>\n",
       "    </tr>\n",
       "    <tr>\n",
       "      <th>1</th>\n",
       "      <td>NDUFA4</td>\n",
       "      <td>ENSG00000189043</td>\n",
       "      <td>7</td>\n",
       "      <td>7p21.3</td>\n",
       "      <td>10931943</td>\n",
       "      <td>10940153</td>\n",
       "      <td>8210</td>\n",
       "    </tr>\n",
       "    <tr>\n",
       "      <th>2</th>\n",
       "      <td>EPHB3</td>\n",
       "      <td>ENSG00000182580</td>\n",
       "      <td>3</td>\n",
       "      <td>3q27.1</td>\n",
       "      <td>184561785</td>\n",
       "      <td>184582408</td>\n",
       "      <td>20623</td>\n",
       "    </tr>\n",
       "    <tr>\n",
       "      <th>3</th>\n",
       "      <td>MYLK</td>\n",
       "      <td>ENSG00000065534</td>\n",
       "      <td>3</td>\n",
       "      <td>3q21.1</td>\n",
       "      <td>123610049</td>\n",
       "      <td>123884331</td>\n",
       "      <td>274282</td>\n",
       "    </tr>\n",
       "    <tr>\n",
       "      <th>4</th>\n",
       "      <td>SMPD4</td>\n",
       "      <td>ENSG00000136699</td>\n",
       "      <td>2</td>\n",
       "      <td>2q21.1</td>\n",
       "      <td>130151392</td>\n",
       "      <td>130182750</td>\n",
       "      <td>31358</td>\n",
       "    </tr>\n",
       "  </tbody>\n",
       "</table>\n",
       "</div>"
      ],
      "text/plain": [
       "     name               id  chr     band  start_position  end_position  \\\n",
       "0     DUT  ENSG00000128951   15  15q21.1        48331011      48343373   \n",
       "1  NDUFA4  ENSG00000189043    7   7p21.3        10931943      10940153   \n",
       "2   EPHB3  ENSG00000182580    3   3q27.1       184561785     184582408   \n",
       "3    MYLK  ENSG00000065534    3   3q21.1       123610049     123884331   \n",
       "4   SMPD4  ENSG00000136699    2   2q21.1       130151392     130182750   \n",
       "\n",
       "   gene_length  \n",
       "0        12362  \n",
       "1         8210  \n",
       "2        20623  \n",
       "3       274282  \n",
       "4        31358  "
      ]
     },
     "execution_count": 21,
     "metadata": {},
     "output_type": "execute_result"
    }
   ],
   "source": [
    "genes_info.head()"
   ]
  },
  {
   "cell_type": "markdown",
   "id": "d3843e06",
   "metadata": {
    "papermill": {
     "duration": 0.011001,
     "end_time": "2023-08-30T04:00:22.523229",
     "exception": false,
     "start_time": "2023-08-30T04:00:22.512228",
     "status": "completed"
    },
    "tags": []
   },
   "source": [
    "# Compute correlations"
   ]
  },
  {
   "cell_type": "code",
   "execution_count": 22,
   "id": "cb859c15-d1f3-4006-a74c-2b83c0db9611",
   "metadata": {
    "execution": {
     "iopub.execute_input": "2023-08-30T04:00:22.546788Z",
     "iopub.status.busy": "2023-08-30T04:00:22.546241Z",
     "iopub.status.idle": "2023-08-30T04:00:22.572740Z",
     "shell.execute_reply": "2023-08-30T04:00:22.572291Z"
    },
    "papermill": {
     "duration": 0.039371,
     "end_time": "2023-08-30T04:00:22.573660",
     "exception": false,
     "start_time": "2023-08-30T04:00:22.534289",
     "status": "completed"
    },
    "tags": []
   },
   "outputs": [
    {
     "data": {
      "text/plain": [
       "PosixPath('/opt/data/projects/chronotype/results/gls_phenoplier/gene_corrs/chronotype/by_chr/gene_corrs-chr18.pkl')"
      ]
     },
     "metadata": {},
     "output_type": "display_data"
    }
   ],
   "source": [
    "output_dir = OUTPUT_DIR_BASE / \"by_chr\"\n",
    "output_dir.mkdir(exist_ok=True, parents=True)\n",
    "output_file = output_dir / f\"gene_corrs-chr{CHROMOSOME}.pkl\"\n",
    "display(output_file)"
   ]
  },
  {
   "cell_type": "code",
   "execution_count": 23,
   "id": "aa674fe4-6794-4eed-98fa-32b39d1d4ace",
   "metadata": {
    "execution": {
     "iopub.execute_input": "2023-08-30T04:00:22.586022Z",
     "iopub.status.busy": "2023-08-30T04:00:22.585865Z",
     "iopub.status.idle": "2023-08-30T04:00:22.605252Z",
     "shell.execute_reply": "2023-08-30T04:00:22.604833Z"
    },
    "papermill": {
     "duration": 0.026626,
     "end_time": "2023-08-30T04:00:22.606364",
     "exception": false,
     "start_time": "2023-08-30T04:00:22.579738",
     "status": "completed"
    },
    "tags": []
   },
   "outputs": [],
   "source": [
    "warnings.filterwarnings(\"error\")"
   ]
  },
  {
   "cell_type": "code",
   "execution_count": 24,
   "id": "44d5450b-3baf-43f1-9e2e-4b06f1a785f8",
   "metadata": {
    "execution": {
     "iopub.execute_input": "2023-08-30T04:00:22.619491Z",
     "iopub.status.busy": "2023-08-30T04:00:22.619267Z",
     "iopub.status.idle": "2023-08-30T04:00:22.637482Z",
     "shell.execute_reply": "2023-08-30T04:00:22.637071Z"
    },
    "papermill": {
     "duration": 0.026367,
     "end_time": "2023-08-30T04:00:22.638556",
     "exception": false,
     "start_time": "2023-08-30T04:00:22.612189",
     "status": "completed"
    },
    "tags": []
   },
   "outputs": [],
   "source": [
    "# standard checks\n",
    "all_chrs = genes_info[\"chr\"].dropna().unique()\n",
    "assert all_chrs.shape[0] == 22\n",
    "\n",
    "# select chromosome given by the user\n",
    "assert CHROMOSOME in all_chrs"
   ]
  },
  {
   "cell_type": "code",
   "execution_count": 25,
   "id": "2d7c043c-92a7-4d35-991b-fa69ac1e0268",
   "metadata": {
    "execution": {
     "iopub.execute_input": "2023-08-30T04:00:22.651070Z",
     "iopub.status.busy": "2023-08-30T04:00:22.650863Z",
     "iopub.status.idle": "2023-08-30T04:00:22.668984Z",
     "shell.execute_reply": "2023-08-30T04:00:22.668653Z"
    },
    "papermill": {
     "duration": 0.025533,
     "end_time": "2023-08-30T04:00:22.670073",
     "exception": false,
     "start_time": "2023-08-30T04:00:22.644540",
     "status": "completed"
    },
    "tags": []
   },
   "outputs": [
    {
     "name": "stdout",
     "output_type": "stream",
     "text": [
      "Number of genes in chromosome: 96\n"
     ]
    }
   ],
   "source": [
    "# run only on the chromosome specified\n",
    "all_chrs = [CHROMOSOME]\n",
    "genes_chr = genes_info[genes_info[\"chr\"] == CHROMOSOME]\n",
    "\n",
    "# For testing purposes\n",
    "# genes_chr = genes_chr.sample(n=20)\n",
    "\n",
    "print(f\"Number of genes in chromosome: {genes_chr.shape[0]}\", flush=True)"
   ]
  },
  {
   "cell_type": "code",
   "execution_count": 26,
   "id": "916015d8-2979-46d3-a9b9-1cf5a0932c6a",
   "metadata": {
    "execution": {
     "iopub.execute_input": "2023-08-30T04:00:22.683270Z",
     "iopub.status.busy": "2023-08-30T04:00:22.682898Z",
     "iopub.status.idle": "2023-08-30T04:00:22.701711Z",
     "shell.execute_reply": "2023-08-30T04:00:22.701076Z"
    },
    "papermill": {
     "duration": 0.026352,
     "end_time": "2023-08-30T04:00:22.703110",
     "exception": false,
     "start_time": "2023-08-30T04:00:22.676758",
     "status": "completed"
    },
    "tags": []
   },
   "outputs": [],
   "source": [
    "# sort genes by starting position to make visualizations better later\n",
    "genes_chr = genes_chr.sort_values(\"start_position\")"
   ]
  },
  {
   "cell_type": "code",
   "execution_count": 27,
   "id": "a38aa74a-8ad3-47f6-8ef9-56be0e011774",
   "metadata": {
    "execution": {
     "iopub.execute_input": "2023-08-30T04:00:22.721810Z",
     "iopub.status.busy": "2023-08-30T04:00:22.721395Z",
     "iopub.status.idle": "2023-08-30T04:00:22.746782Z",
     "shell.execute_reply": "2023-08-30T04:00:22.746106Z"
    },
    "papermill": {
     "duration": 0.035718,
     "end_time": "2023-08-30T04:00:22.748322",
     "exception": false,
     "start_time": "2023-08-30T04:00:22.712604",
     "status": "completed"
    },
    "tags": []
   },
   "outputs": [],
   "source": [
    "gene_chr_objs = [Gene(ensembl_id=gene_id) for gene_id in genes_chr[\"id\"]]"
   ]
  },
  {
   "cell_type": "code",
   "execution_count": 28,
   "id": "570f974f-13c3-42b6-ad3a-ce99ca885c1a",
   "metadata": {
    "execution": {
     "iopub.execute_input": "2023-08-30T04:00:22.766205Z",
     "iopub.status.busy": "2023-08-30T04:00:22.766000Z",
     "iopub.status.idle": "2023-08-30T04:00:22.786549Z",
     "shell.execute_reply": "2023-08-30T04:00:22.785952Z"
    },
    "papermill": {
     "duration": 0.030042,
     "end_time": "2023-08-30T04:00:22.787707",
     "exception": false,
     "start_time": "2023-08-30T04:00:22.757665",
     "status": "completed"
    },
    "tags": []
   },
   "outputs": [
    {
     "name": "stdout",
     "output_type": "stream",
     "text": [
      "Number of gene combinations: 4656\n"
     ]
    }
   ],
   "source": [
    "n = len(gene_chr_objs)\n",
    "# diagonal elements + upper triangular matrix\n",
    "n_comb = n + int(n * (n - 1) / 2.0)\n",
    "print(f\"Number of gene combinations: {n_comb}\", flush=True)"
   ]
  },
  {
   "cell_type": "code",
   "execution_count": 29,
   "id": "cdbb90a1",
   "metadata": {
    "execution": {
     "iopub.execute_input": "2023-08-30T04:00:22.805137Z",
     "iopub.status.busy": "2023-08-30T04:00:22.804930Z",
     "iopub.status.idle": "2023-08-30T04:01:22.067647Z",
     "shell.execute_reply": "2023-08-30T04:01:22.066957Z"
    },
    "papermill": {
     "duration": 59.271732,
     "end_time": "2023-08-30T04:01:22.069021",
     "exception": false,
     "start_time": "2023-08-30T04:00:22.797289",
     "status": "completed"
    },
    "tags": []
   },
   "outputs": [
    {
     "name": "stderr",
     "output_type": "stream",
     "text": [
      "ENSG00000178184 / ENSG00000178184: 100%|████████████████████████| 4656/4656 [00:59<00:00, 78.62it/s]\n"
     ]
    },
    {
     "data": {
      "text/plain": [
       "PosixPath('/opt/data/projects/chronotype/results/gls_phenoplier/gene_corrs/chronotype/by_chr/gene_corrs-chr18.pkl')"
      ]
     },
     "metadata": {},
     "output_type": "display_data"
    }
   ],
   "source": [
    "gene_corrs = []\n",
    "gene_corrs_data = np.full(\n",
    "    (n, n),\n",
    "    np.nan,\n",
    "    dtype=np.float64,\n",
    ")\n",
    "\n",
    "i = 0\n",
    "with tqdm(ncols=100, total=n_comb) as pbar:\n",
    "    for gene1_idx in range(0, len(gene_chr_objs)):\n",
    "        gene1_obj = gene_chr_objs[gene1_idx]\n",
    "        gene1_tissues = spredixcan_genes_models.loc[gene1_obj.ensembl_id, \"tissue\"]\n",
    "\n",
    "        for gene2_idx in range(gene1_idx, len(gene_chr_objs)):\n",
    "            gene2_obj = gene_chr_objs[gene2_idx]\n",
    "            gene2_tissues = spredixcan_genes_models.loc[gene2_obj.ensembl_id, \"tissue\"]\n",
    "\n",
    "            pbar.set_description(f\"{gene1_obj.ensembl_id} / {gene2_obj.ensembl_id}\")\n",
    "\n",
    "            try:\n",
    "                r = gene1_obj.get_ssm_correlation(\n",
    "                    other_gene=gene2_obj,\n",
    "                    tissues=gene1_tissues,\n",
    "                    other_tissues=gene2_tissues,\n",
    "                    snps_subset=gwas_variants_ids_set,\n",
    "                    condition_number=SMULTIXCAN_CONDITION_NUMBER,\n",
    "                    reference_panel=REFERENCE_PANEL,\n",
    "                    model_type=EQTL_MODEL,\n",
    "                    use_within_distance=COMPUTE_CORRELATIONS_WITHIN_DISTANCE,\n",
    "                )\n",
    "\n",
    "                if r is None:\n",
    "                    # if r is None, it's very likely because:\n",
    "                    #  * one of the genes has no prediction models\n",
    "                    #  * all the SNPs predictors for the gene are not present in the reference\n",
    "                    #    panel\n",
    "\n",
    "                    r = 0.0\n",
    "\n",
    "                gene_corrs.append(r)\n",
    "\n",
    "                gene_corrs_data[gene1_idx, gene2_idx] = r\n",
    "                gene_corrs_data[gene2_idx, gene1_idx] = r\n",
    "            except Warning as e:\n",
    "                if not DEBUG_MODE:\n",
    "                    raise e\n",
    "\n",
    "                print(\n",
    "                    f\"RuntimeWarning for genes {gene1_obj.ensembl_id} and {gene2_obj.ensembl_id}\",\n",
    "                    flush=True,\n",
    "                )\n",
    "                print(traceback.format_exc(), flush=True)\n",
    "\n",
    "                gene_corrs.append(np.nan)\n",
    "            except Exception as e:\n",
    "                if not DEBUG_MODE:\n",
    "                    raise e\n",
    "\n",
    "                print(\n",
    "                    f\"Exception for genes {gene1_obj.ensembl_id} and {gene2_obj.ensembl_id}\",\n",
    "                    flush=True,\n",
    "                )\n",
    "                print(traceback.format_exc(), flush=True)\n",
    "\n",
    "                gene_corrs.append(np.nan)\n",
    "\n",
    "            pbar.update(1)\n",
    "\n",
    "# create a pandas series\n",
    "gene_corrs_flat = pd.Series(gene_corrs)\n",
    "\n",
    "# save\n",
    "# FIXME: consider saving only the condenced matrix here. See here for\n",
    "# more details: https://github.com/greenelab/phenoplier/pull/38#discussion_r634600813\n",
    "# gene_corrs_data = squareform(np.array(gene_corrs, dtype=np.float64))\n",
    "# np.fill_diagonal(gene_corrs_data, 1.0)\n",
    "\n",
    "gene_chr_ids = [g.ensembl_id for g in gene_chr_objs]\n",
    "gene_corrs_df = pd.DataFrame(\n",
    "    data=gene_corrs_data,\n",
    "    index=gene_chr_ids,\n",
    "    columns=gene_chr_ids,\n",
    ")\n",
    "\n",
    "output_dir.mkdir(exist_ok=True, parents=True)\n",
    "display(output_file)\n",
    "\n",
    "gene_corrs_df.to_pickle(output_file)"
   ]
  },
  {
   "cell_type": "markdown",
   "id": "faa67b51-5373-470f-aa72-2ded53fa6dfe",
   "metadata": {
    "papermill": {
     "duration": 0.211962,
     "end_time": "2023-08-30T04:01:22.442666",
     "exception": false,
     "start_time": "2023-08-30T04:01:22.230704",
     "status": "completed"
    },
    "tags": []
   },
   "source": [
    "# Testing"
   ]
  },
  {
   "cell_type": "code",
   "execution_count": 30,
   "id": "14f7d046-4b55-4896-a56b-990127bcc388",
   "metadata": {
    "execution": {
     "iopub.execute_input": "2023-08-30T04:01:22.760791Z",
     "iopub.status.busy": "2023-08-30T04:01:22.760423Z",
     "iopub.status.idle": "2023-08-30T04:01:22.782702Z",
     "shell.execute_reply": "2023-08-30T04:01:22.782294Z"
    },
    "papermill": {
     "duration": 0.185489,
     "end_time": "2023-08-30T04:01:22.783641",
     "exception": false,
     "start_time": "2023-08-30T04:01:22.598152",
     "status": "completed"
    },
    "tags": []
   },
   "outputs": [
    {
     "data": {
      "text/plain": [
       "(96, 96)"
      ]
     },
     "execution_count": 30,
     "metadata": {},
     "output_type": "execute_result"
    }
   ],
   "source": [
    "gene_corrs_df.shape"
   ]
  },
  {
   "cell_type": "code",
   "execution_count": 31,
   "id": "c7d15414-3297-4537-a7c6-7588c0baeb75",
   "metadata": {
    "execution": {
     "iopub.execute_input": "2023-08-30T04:01:23.170162Z",
     "iopub.status.busy": "2023-08-30T04:01:23.169811Z",
     "iopub.status.idle": "2023-08-30T04:01:23.204936Z",
     "shell.execute_reply": "2023-08-30T04:01:23.204433Z"
    },
    "papermill": {
     "duration": 0.265461,
     "end_time": "2023-08-30T04:01:23.206776",
     "exception": false,
     "start_time": "2023-08-30T04:01:22.941315",
     "status": "completed"
    },
    "tags": []
   },
   "outputs": [
    {
     "data": {
      "text/html": [
       "<div>\n",
       "<style scoped>\n",
       "    .dataframe tbody tr th:only-of-type {\n",
       "        vertical-align: middle;\n",
       "    }\n",
       "\n",
       "    .dataframe tbody tr th {\n",
       "        vertical-align: top;\n",
       "    }\n",
       "\n",
       "    .dataframe thead th {\n",
       "        text-align: right;\n",
       "    }\n",
       "</style>\n",
       "<table border=\"1\" class=\"dataframe\">\n",
       "  <thead>\n",
       "    <tr style=\"text-align: right;\">\n",
       "      <th></th>\n",
       "      <th>ENSG00000079134</th>\n",
       "      <th>ENSG00000158270</th>\n",
       "      <th>ENSG00000176890</th>\n",
       "      <th>ENSG00000176105</th>\n",
       "      <th>ENSG00000080986</th>\n",
       "      <th>ENSG00000132205</th>\n",
       "      <th>ENSG00000101577</th>\n",
       "      <th>ENSG00000101608</th>\n",
       "      <th>ENSG00000118680</th>\n",
       "      <th>ENSG00000177426</th>\n",
       "      <th>...</th>\n",
       "      <th>ENSG00000166347</th>\n",
       "      <th>ENSG00000133313</th>\n",
       "      <th>ENSG00000166573</th>\n",
       "      <th>ENSG00000166377</th>\n",
       "      <th>ENSG00000131196</th>\n",
       "      <th>ENSG00000060069</th>\n",
       "      <th>ENSG00000178342</th>\n",
       "      <th>ENSG00000122490</th>\n",
       "      <th>ENSG00000141759</th>\n",
       "      <th>ENSG00000178184</th>\n",
       "    </tr>\n",
       "  </thead>\n",
       "  <tbody>\n",
       "    <tr>\n",
       "      <th>ENSG00000079134</th>\n",
       "      <td>1.000000</td>\n",
       "      <td>0.029305</td>\n",
       "      <td>0.013882</td>\n",
       "      <td>0.005950</td>\n",
       "      <td>0.005183</td>\n",
       "      <td>0.012414</td>\n",
       "      <td>0.009022</td>\n",
       "      <td>0.009353</td>\n",
       "      <td>0.007307</td>\n",
       "      <td>0.010012</td>\n",
       "      <td>...</td>\n",
       "      <td>0.0</td>\n",
       "      <td>0.0</td>\n",
       "      <td>0.0</td>\n",
       "      <td>0.0</td>\n",
       "      <td>0.0</td>\n",
       "      <td>0.0</td>\n",
       "      <td>0.0</td>\n",
       "      <td>0.0</td>\n",
       "      <td>0.0</td>\n",
       "      <td>0.0</td>\n",
       "    </tr>\n",
       "    <tr>\n",
       "      <th>ENSG00000158270</th>\n",
       "      <td>0.029305</td>\n",
       "      <td>1.000000</td>\n",
       "      <td>0.019775</td>\n",
       "      <td>0.012679</td>\n",
       "      <td>0.009545</td>\n",
       "      <td>0.014981</td>\n",
       "      <td>0.015845</td>\n",
       "      <td>0.010495</td>\n",
       "      <td>0.009077</td>\n",
       "      <td>0.013425</td>\n",
       "      <td>...</td>\n",
       "      <td>0.0</td>\n",
       "      <td>0.0</td>\n",
       "      <td>0.0</td>\n",
       "      <td>0.0</td>\n",
       "      <td>0.0</td>\n",
       "      <td>0.0</td>\n",
       "      <td>0.0</td>\n",
       "      <td>0.0</td>\n",
       "      <td>0.0</td>\n",
       "      <td>0.0</td>\n",
       "    </tr>\n",
       "    <tr>\n",
       "      <th>ENSG00000176890</th>\n",
       "      <td>0.013882</td>\n",
       "      <td>0.019775</td>\n",
       "      <td>1.000000</td>\n",
       "      <td>0.146938</td>\n",
       "      <td>0.013808</td>\n",
       "      <td>0.013387</td>\n",
       "      <td>0.012297</td>\n",
       "      <td>0.009375</td>\n",
       "      <td>0.009894</td>\n",
       "      <td>0.009753</td>\n",
       "      <td>...</td>\n",
       "      <td>0.0</td>\n",
       "      <td>0.0</td>\n",
       "      <td>0.0</td>\n",
       "      <td>0.0</td>\n",
       "      <td>0.0</td>\n",
       "      <td>0.0</td>\n",
       "      <td>0.0</td>\n",
       "      <td>0.0</td>\n",
       "      <td>0.0</td>\n",
       "      <td>0.0</td>\n",
       "    </tr>\n",
       "    <tr>\n",
       "      <th>ENSG00000176105</th>\n",
       "      <td>0.005950</td>\n",
       "      <td>0.012679</td>\n",
       "      <td>0.146938</td>\n",
       "      <td>1.000000</td>\n",
       "      <td>0.006168</td>\n",
       "      <td>0.004426</td>\n",
       "      <td>0.007289</td>\n",
       "      <td>0.005115</td>\n",
       "      <td>0.001838</td>\n",
       "      <td>0.009098</td>\n",
       "      <td>...</td>\n",
       "      <td>0.0</td>\n",
       "      <td>0.0</td>\n",
       "      <td>0.0</td>\n",
       "      <td>0.0</td>\n",
       "      <td>0.0</td>\n",
       "      <td>0.0</td>\n",
       "      <td>0.0</td>\n",
       "      <td>0.0</td>\n",
       "      <td>0.0</td>\n",
       "      <td>0.0</td>\n",
       "    </tr>\n",
       "    <tr>\n",
       "      <th>ENSG00000080986</th>\n",
       "      <td>0.005183</td>\n",
       "      <td>0.009545</td>\n",
       "      <td>0.013808</td>\n",
       "      <td>0.006168</td>\n",
       "      <td>1.000000</td>\n",
       "      <td>0.014786</td>\n",
       "      <td>0.015237</td>\n",
       "      <td>0.005943</td>\n",
       "      <td>0.007946</td>\n",
       "      <td>0.004584</td>\n",
       "      <td>...</td>\n",
       "      <td>0.0</td>\n",
       "      <td>0.0</td>\n",
       "      <td>0.0</td>\n",
       "      <td>0.0</td>\n",
       "      <td>0.0</td>\n",
       "      <td>0.0</td>\n",
       "      <td>0.0</td>\n",
       "      <td>0.0</td>\n",
       "      <td>0.0</td>\n",
       "      <td>0.0</td>\n",
       "    </tr>\n",
       "  </tbody>\n",
       "</table>\n",
       "<p>5 rows × 96 columns</p>\n",
       "</div>"
      ],
      "text/plain": [
       "                 ENSG00000079134  ENSG00000158270  ENSG00000176890  \\\n",
       "ENSG00000079134         1.000000         0.029305         0.013882   \n",
       "ENSG00000158270         0.029305         1.000000         0.019775   \n",
       "ENSG00000176890         0.013882         0.019775         1.000000   \n",
       "ENSG00000176105         0.005950         0.012679         0.146938   \n",
       "ENSG00000080986         0.005183         0.009545         0.013808   \n",
       "\n",
       "                 ENSG00000176105  ENSG00000080986  ENSG00000132205  \\\n",
       "ENSG00000079134         0.005950         0.005183         0.012414   \n",
       "ENSG00000158270         0.012679         0.009545         0.014981   \n",
       "ENSG00000176890         0.146938         0.013808         0.013387   \n",
       "ENSG00000176105         1.000000         0.006168         0.004426   \n",
       "ENSG00000080986         0.006168         1.000000         0.014786   \n",
       "\n",
       "                 ENSG00000101577  ENSG00000101608  ENSG00000118680  \\\n",
       "ENSG00000079134         0.009022         0.009353         0.007307   \n",
       "ENSG00000158270         0.015845         0.010495         0.009077   \n",
       "ENSG00000176890         0.012297         0.009375         0.009894   \n",
       "ENSG00000176105         0.007289         0.005115         0.001838   \n",
       "ENSG00000080986         0.015237         0.005943         0.007946   \n",
       "\n",
       "                 ENSG00000177426  ...  ENSG00000166347  ENSG00000133313  \\\n",
       "ENSG00000079134         0.010012  ...              0.0              0.0   \n",
       "ENSG00000158270         0.013425  ...              0.0              0.0   \n",
       "ENSG00000176890         0.009753  ...              0.0              0.0   \n",
       "ENSG00000176105         0.009098  ...              0.0              0.0   \n",
       "ENSG00000080986         0.004584  ...              0.0              0.0   \n",
       "\n",
       "                 ENSG00000166573  ENSG00000166377  ENSG00000131196  \\\n",
       "ENSG00000079134              0.0              0.0              0.0   \n",
       "ENSG00000158270              0.0              0.0              0.0   \n",
       "ENSG00000176890              0.0              0.0              0.0   \n",
       "ENSG00000176105              0.0              0.0              0.0   \n",
       "ENSG00000080986              0.0              0.0              0.0   \n",
       "\n",
       "                 ENSG00000060069  ENSG00000178342  ENSG00000122490  \\\n",
       "ENSG00000079134              0.0              0.0              0.0   \n",
       "ENSG00000158270              0.0              0.0              0.0   \n",
       "ENSG00000176890              0.0              0.0              0.0   \n",
       "ENSG00000176105              0.0              0.0              0.0   \n",
       "ENSG00000080986              0.0              0.0              0.0   \n",
       "\n",
       "                 ENSG00000141759  ENSG00000178184  \n",
       "ENSG00000079134              0.0              0.0  \n",
       "ENSG00000158270              0.0              0.0  \n",
       "ENSG00000176890              0.0              0.0  \n",
       "ENSG00000176105              0.0              0.0  \n",
       "ENSG00000080986              0.0              0.0  \n",
       "\n",
       "[5 rows x 96 columns]"
      ]
     },
     "execution_count": 31,
     "metadata": {},
     "output_type": "execute_result"
    }
   ],
   "source": [
    "gene_corrs_df.head()"
   ]
  },
  {
   "cell_type": "markdown",
   "id": "dad6603f-01c6-41fb-a6f6-241051207dd8",
   "metadata": {
    "papermill": {
     "duration": 0.144999,
     "end_time": "2023-08-30T04:01:23.503929",
     "exception": false,
     "start_time": "2023-08-30T04:01:23.358930",
     "status": "completed"
    },
    "tags": []
   },
   "source": [
    "## Standard checks and stats"
   ]
  },
  {
   "cell_type": "code",
   "execution_count": 32,
   "id": "286686af-1b7b-4440-8453-6bdcbd8de19c",
   "metadata": {
    "execution": {
     "iopub.execute_input": "2023-08-30T04:01:23.810462Z",
     "iopub.status.busy": "2023-08-30T04:01:23.810114Z",
     "iopub.status.idle": "2023-08-30T04:01:23.830671Z",
     "shell.execute_reply": "2023-08-30T04:01:23.830247Z"
    },
    "papermill": {
     "duration": 0.171062,
     "end_time": "2023-08-30T04:01:23.832129",
     "exception": false,
     "start_time": "2023-08-30T04:01:23.661067",
     "status": "completed"
    },
    "tags": []
   },
   "outputs": [],
   "source": [
    "assert not gene_corrs_df.isna().any(axis=None)"
   ]
  },
  {
   "cell_type": "code",
   "execution_count": 33,
   "id": "00583efc-7068-4270-ad1e-4a418e91db96",
   "metadata": {
    "execution": {
     "iopub.execute_input": "2023-08-30T04:01:24.199881Z",
     "iopub.status.busy": "2023-08-30T04:01:24.199286Z",
     "iopub.status.idle": "2023-08-30T04:01:24.223829Z",
     "shell.execute_reply": "2023-08-30T04:01:24.223136Z"
    },
    "papermill": {
     "duration": 0.174835,
     "end_time": "2023-08-30T04:01:24.224854",
     "exception": false,
     "start_time": "2023-08-30T04:01:24.050019",
     "status": "completed"
    },
    "tags": []
   },
   "outputs": [
    {
     "data": {
      "text/plain": [
       "0.0"
      ]
     },
     "metadata": {},
     "output_type": "display_data"
    }
   ],
   "source": [
    "_min_val = gene_corrs_df.min().min()\n",
    "display(_min_val)\n",
    "assert _min_val >= -0.05"
   ]
  },
  {
   "cell_type": "code",
   "execution_count": 34,
   "id": "d04fb2cf-1050-475b-b855-f5f7cc04092b",
   "metadata": {
    "execution": {
     "iopub.execute_input": "2023-08-30T04:01:24.627602Z",
     "iopub.status.busy": "2023-08-30T04:01:24.627091Z",
     "iopub.status.idle": "2023-08-30T04:01:24.650858Z",
     "shell.execute_reply": "2023-08-30T04:01:24.650313Z"
    },
    "papermill": {
     "duration": 0.238179,
     "end_time": "2023-08-30T04:01:24.651819",
     "exception": false,
     "start_time": "2023-08-30T04:01:24.413640",
     "status": "completed"
    },
    "tags": []
   },
   "outputs": [
    {
     "data": {
      "text/plain": [
       "1.0000000000000024"
      ]
     },
     "metadata": {},
     "output_type": "display_data"
    }
   ],
   "source": [
    "_max_val = gene_corrs_df.max().max()  # this captures the diagonal\n",
    "display(_max_val)\n",
    "assert _max_val <= 1.05"
   ]
  },
  {
   "cell_type": "code",
   "execution_count": 35,
   "id": "fe283586-c348-40e0-8841-f6d97bfb021c",
   "metadata": {
    "execution": {
     "iopub.execute_input": "2023-08-30T04:01:24.989779Z",
     "iopub.status.busy": "2023-08-30T04:01:24.989414Z",
     "iopub.status.idle": "2023-08-30T04:01:25.013604Z",
     "shell.execute_reply": "2023-08-30T04:01:25.013029Z"
    },
    "papermill": {
     "duration": 0.178315,
     "end_time": "2023-08-30T04:01:25.014788",
     "exception": false,
     "start_time": "2023-08-30T04:01:24.836473",
     "status": "completed"
    },
    "tags": []
   },
   "outputs": [
    {
     "data": {
      "text/plain": [
       "count    4656.000000\n",
       "mean        0.023289\n",
       "std         0.143461\n",
       "min         0.000000\n",
       "25%         0.000000\n",
       "50%         0.000000\n",
       "75%         0.000000\n",
       "max         1.000000\n",
       "dtype: float64"
      ]
     },
     "execution_count": 35,
     "metadata": {},
     "output_type": "execute_result"
    }
   ],
   "source": [
    "gene_corrs_flat.describe()"
   ]
  },
  {
   "cell_type": "code",
   "execution_count": 36,
   "id": "b3815678-0f93-4b35-897b-a9d047a2aa78",
   "metadata": {
    "execution": {
     "iopub.execute_input": "2023-08-30T04:01:25.411195Z",
     "iopub.status.busy": "2023-08-30T04:01:25.410857Z",
     "iopub.status.idle": "2023-08-30T04:01:25.427641Z",
     "shell.execute_reply": "2023-08-30T04:01:25.427209Z"
    },
    "papermill": {
     "duration": 0.193845,
     "end_time": "2023-08-30T04:01:25.428783",
     "exception": false,
     "start_time": "2023-08-30T04:01:25.234938",
     "status": "completed"
    },
    "tags": []
   },
   "outputs": [
    {
     "data": {
      "text/plain": [
       "0.00    0.000000\n",
       "0.05    0.000000\n",
       "0.10    0.000000\n",
       "0.15    0.000000\n",
       "0.20    0.000000\n",
       "0.25    0.000000\n",
       "0.30    0.000000\n",
       "0.35    0.000000\n",
       "0.40    0.000000\n",
       "0.45    0.000000\n",
       "0.50    0.000000\n",
       "0.55    0.000000\n",
       "0.60    0.000000\n",
       "0.65    0.000000\n",
       "0.70    0.000000\n",
       "0.75    0.000000\n",
       "0.80    0.000000\n",
       "0.85    0.000000\n",
       "0.90    0.006293\n",
       "0.95    0.011417\n",
       "dtype: float64"
      ]
     },
     "metadata": {},
     "output_type": "display_data"
    }
   ],
   "source": [
    "gene_corrs_quantiles = gene_corrs_flat.quantile(np.arange(0, 1, 0.05))\n",
    "display(gene_corrs_quantiles)"
   ]
  },
  {
   "cell_type": "markdown",
   "id": "87134509-b145-4a10-8bc9-b7e914c2b0fa",
   "metadata": {
    "papermill": {
     "duration": 0.189768,
     "end_time": "2023-08-30T04:01:25.775459",
     "exception": false,
     "start_time": "2023-08-30T04:01:25.585691",
     "status": "completed"
    },
    "tags": []
   },
   "source": [
    "## Positive definiteness"
   ]
  },
  {
   "cell_type": "code",
   "execution_count": 37,
   "id": "07d9a9a1-a4f7-48aa-b916-6d42a8cc6186",
   "metadata": {
    "execution": {
     "iopub.execute_input": "2023-08-30T04:01:26.165975Z",
     "iopub.status.busy": "2023-08-30T04:01:26.165740Z",
     "iopub.status.idle": "2023-08-30T04:01:26.191693Z",
     "shell.execute_reply": "2023-08-30T04:01:26.191259Z"
    },
    "papermill": {
     "duration": 0.201008,
     "end_time": "2023-08-30T04:01:26.192649",
     "exception": false,
     "start_time": "2023-08-30T04:01:25.991641",
     "status": "completed"
    },
    "tags": []
   },
   "outputs": [
    {
     "data": {
      "text/plain": [
       "0"
      ]
     },
     "metadata": {},
     "output_type": "display_data"
    },
    {
     "data": {
      "text/plain": [
       "array([], dtype=float64)"
      ]
     },
     "metadata": {},
     "output_type": "display_data"
    }
   ],
   "source": [
    "# print negative eigenvalues\n",
    "eigs = np.linalg.eigvals(gene_corrs_df.to_numpy())\n",
    "display(len(eigs[eigs < 0]))\n",
    "display(eigs[eigs < 0])"
   ]
  },
  {
   "cell_type": "code",
   "execution_count": 38,
   "id": "6e218436-c3c5-4028-8c94-a4fa6260efce",
   "metadata": {
    "execution": {
     "iopub.execute_input": "2023-08-30T04:01:26.588927Z",
     "iopub.status.busy": "2023-08-30T04:01:26.588689Z",
     "iopub.status.idle": "2023-08-30T04:01:26.605245Z",
     "shell.execute_reply": "2023-08-30T04:01:26.604587Z"
    },
    "papermill": {
     "duration": 0.264137,
     "end_time": "2023-08-30T04:01:26.606616",
     "exception": false,
     "start_time": "2023-08-30T04:01:26.342479",
     "status": "completed"
    },
    "tags": []
   },
   "outputs": [
    {
     "name": "stdout",
     "output_type": "stream",
     "text": [
      "Works!\n"
     ]
    }
   ],
   "source": [
    "try:\n",
    "    chol_mat = np.linalg.cholesky(gene_corrs_df.to_numpy())\n",
    "    cov_inv = np.linalg.inv(chol_mat)\n",
    "    print(\"Works!\")\n",
    "except Exception as e:\n",
    "    print(f\"Cholesky decomposition failed: {str(e)}\")"
   ]
  },
  {
   "cell_type": "code",
   "execution_count": 39,
   "id": "dd8827fb-faf9-4c7c-9454-015e94752706",
   "metadata": {
    "execution": {
     "iopub.execute_input": "2023-08-30T04:01:26.968539Z",
     "iopub.status.busy": "2023-08-30T04:01:26.968076Z",
     "iopub.status.idle": "2023-08-30T04:01:26.994334Z",
     "shell.execute_reply": "2023-08-30T04:01:26.993851Z"
    },
    "papermill": {
     "duration": 0.173981,
     "end_time": "2023-08-30T04:01:26.995323",
     "exception": false,
     "start_time": "2023-08-30T04:01:26.821342",
     "status": "completed"
    },
    "tags": []
   },
   "outputs": [
    {
     "name": "stdout",
     "output_type": "stream",
     "text": [
      "Works!\n"
     ]
    }
   ],
   "source": [
    "try:\n",
    "    # decomposition used by statsmodels.GLS\n",
    "    cholsigmainv = np.linalg.cholesky(np.linalg.inv(gene_corrs_df.to_numpy())).T\n",
    "    print(\"Works!\")\n",
    "except Exception as e:\n",
    "    print(f\"Cholesky decomposition failed (statsmodels.GLS): {str(e)}\")"
   ]
  },
  {
   "cell_type": "markdown",
   "id": "8e60a080-edb2-4e9c-b2ef-22961693200c",
   "metadata": {
    "papermill": {
     "duration": 0.146096,
     "end_time": "2023-08-30T04:01:27.289938",
     "exception": false,
     "start_time": "2023-08-30T04:01:27.143842",
     "status": "completed"
    },
    "tags": []
   },
   "source": [
    "## Plot: distribution"
   ]
  },
  {
   "cell_type": "code",
   "execution_count": 40,
   "id": "8301126b-a7d4-4744-9c7d-f0f86eb6f54c",
   "metadata": {
    "execution": {
     "iopub.execute_input": "2023-08-30T04:01:27.643298Z",
     "iopub.status.busy": "2023-08-30T04:01:27.642933Z",
     "iopub.status.idle": "2023-08-30T04:01:27.948620Z",
     "shell.execute_reply": "2023-08-30T04:01:27.947974Z"
    },
    "papermill": {
     "duration": 0.480896,
     "end_time": "2023-08-30T04:01:27.950103",
     "exception": false,
     "start_time": "2023-08-30T04:01:27.469207",
     "status": "completed"
    },
    "tags": []
   },
   "outputs": [
    {
     "data": {
      "image/png": "[encoded data removed]",
      "text/plain": [
       "<Figure size 700x700 with 1 Axes>"
      ]
     },
     "metadata": {},
     "output_type": "display_data"
    }
   ],
   "source": [
    "with sns.plotting_context(\"paper\", font_scale=1.5):\n",
    "    g = sns.displot(gene_corrs_flat, kde=True, height=7)\n",
    "    g.ax.set_title(\n",
    "        f\"Distribution of gene correlation values in chromosome {CHROMOSOME}\"\n",
    "    )"
   ]
  },
  {
   "cell_type": "markdown",
   "id": "cbd52bca-d878-4a2f-b684-5c83aa3038d4",
   "metadata": {
    "papermill": {
     "duration": 0.194366,
     "end_time": "2023-08-30T04:01:28.337238",
     "exception": false,
     "start_time": "2023-08-30T04:01:28.142872",
     "status": "completed"
    },
    "tags": []
   },
   "source": [
    "## Plot: heatmap"
   ]
  },
  {
   "cell_type": "code",
   "execution_count": 41,
   "id": "d03fe63a-c7b2-4fb9-a53c-db362ce843c9",
   "metadata": {
    "execution": {
     "iopub.execute_input": "2023-08-30T04:01:28.717190Z",
     "iopub.status.busy": "2023-08-30T04:01:28.716830Z",
     "iopub.status.idle": "2023-08-30T04:01:28.734344Z",
     "shell.execute_reply": "2023-08-30T04:01:28.733987Z"
    },
    "papermill": {
     "duration": 0.170836,
     "end_time": "2023-08-30T04:01:28.735243",
     "exception": false,
     "start_time": "2023-08-30T04:01:28.564407",
     "status": "completed"
    },
    "tags": []
   },
   "outputs": [
    {
     "data": {
      "text/plain": [
       "'0.0 / 0.05'"
      ]
     },
     "metadata": {},
     "output_type": "display_data"
    }
   ],
   "source": [
    "vmin_val = min(0.00, gene_corrs_quantiles[0.10])\n",
    "vmax_val = max(0.05, gene_corrs_quantiles[0.90])\n",
    "display(f\"{vmin_val} / {vmax_val}\")"
   ]
  },
  {
   "cell_type": "code",
   "execution_count": 42,
   "id": "dc41b70b-5bcc-4d9e-9f33-a22c4a94dab5",
   "metadata": {
    "execution": {
     "iopub.execute_input": "2023-08-30T04:01:29.031077Z",
     "iopub.status.busy": "2023-08-30T04:01:29.030743Z",
     "iopub.status.idle": "2023-08-30T04:01:29.202971Z",
     "shell.execute_reply": "2023-08-30T04:01:29.202534Z"
    },
    "papermill": {
     "duration": 0.324916,
     "end_time": "2023-08-30T04:01:29.204433",
     "exception": false,
     "start_time": "2023-08-30T04:01:28.879517",
     "status": "completed"
    },
    "tags": []
   },
   "outputs": [
    {
     "data": {
      "text/plain": [
       "Text(0.5, 1.0, 'Gene correlations in chromosome 18')"
      ]
     },
     "execution_count": 42,
     "metadata": {},
     "output_type": "execute_result"
    },
    {
     "data": {
      "image/png": "[encoded data removed]",
      "text/plain": [
       "<Figure size 1000x1000 with 2 Axes>"
      ]
     },
     "metadata": {},
     "output_type": "display_data"
    }
   ],
   "source": [
    "f, ax = plt.subplots(figsize=(10, 10))\n",
    "sns.heatmap(\n",
    "    gene_corrs_df,\n",
    "    xticklabels=False,\n",
    "    yticklabels=False,\n",
    "    square=True,\n",
    "    vmin=vmin_val,\n",
    "    vmax=vmax_val,\n",
    "    cmap=\"rocket_r\",\n",
    "    ax=ax,\n",
    ")\n",
    "ax.set_title(f\"Gene correlations in chromosome {CHROMOSOME}\")"
   ]
  },
  {
   "cell_type": "code",
   "execution_count": null,
   "id": "b25e3ead",
   "metadata": {
    "papermill": {
     "duration": 0.145883,
     "end_time": "2023-08-30T04:01:29.532056",
     "exception": false,
     "start_time": "2023-08-30T04:01:29.386173",
     "status": "completed"
    },
    "tags": []
   },
   "outputs": [],
   "source": []
  }
 ],
 "metadata": {
  "jupytext": {
   "cell_metadata_filter": "all,-execution,-papermill,-trusted",
   "formats": "ipynb,py//py:percent"
  },
  "kernelspec": {
   "display_name": "Python 3 (ipykernel)",
   "language": "python",
   "name": "python3"
  },
  "language_info": {
   "codemirror_mode": {
    "name": "ipython",
    "version": 3
   },
   "file_extension": ".py",
   "mimetype": "text/x-python",
   "name": "python",
   "nbconvert_exporter": "python",
   "pygments_lexer": "ipython3",
   "version": "3.10.6"
  },
  "papermill": {
   "default_parameters": {},
   "duration": 81.440336,
   "end_time": "2023-08-30T04:01:32.572351",
   "environment_variables": {},
   "exception": null,
   "input_path": "projects/chronotype/nbs/20_gene_corrs/jobs/05-gene_expr_correlations.ipynb",
   "output_path": "projects/chronotype/nbs/20_gene_corrs/jobs/../output/chronotype/05-gene_expr_correlations-chr18.run.ipynb",
   "parameters": {
    "CHROMOSOME": 18,
    "COHORT_NAME": "chronotype",
    "OUTPUT_DIR_BASE": "/opt/data/projects/chronotype/results/gls_phenoplier",
    "PHENOPLIER_NOTEBOOK_FILEPATH": "projects/chronotype/nbs/20_gene_corrs/jobs/05-gene_expr_correlations.ipynb"
   },
   "start_time": "2023-08-30T04:00:11.132015",
   "version": "2.2.2"
  }
 },
 "nbformat": 4,
 "nbformat_minor": 5
}
