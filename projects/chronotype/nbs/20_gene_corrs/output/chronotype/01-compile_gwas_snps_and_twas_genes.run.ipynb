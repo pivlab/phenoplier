{
 "cells": [
  {
   "cell_type": "markdown",
   "id": "7a6632fb",
   "metadata": {
    "papermill": {
     "duration": 0.014165,
     "end_time": "2023-08-30T03:48:54.889156",
     "exception": false,
     "start_time": "2023-08-30T03:48:54.874991",
     "status": "completed"
    },
    "tags": []
   },
   "source": [
    "# Description"
   ]
  },
  {
   "cell_type": "markdown",
   "id": "7097c346",
   "metadata": {
    "papermill": {
     "duration": 0.016295,
     "end_time": "2023-08-30T03:48:54.919119",
     "exception": false,
     "start_time": "2023-08-30T03:48:54.902824",
     "status": "completed"
    },
    "tags": []
   },
   "source": [
    "This notebook compiles information about the GWAS and TWAS for a particular cohort. For example, the set of GWAS variants, variance of predicted expression of genes, etc.\n",
    "\n",
    "It has specicfic parameters for papermill (see under `Settings` below).\n",
    "\n",
    "This notebook should not be directly run. It is used by other notebooks."
   ]
  },
  {
   "cell_type": "markdown",
   "id": "c61d8427",
   "metadata": {
    "papermill": {
     "duration": 0.016331,
     "end_time": "2023-08-30T03:48:54.952529",
     "exception": false,
     "start_time": "2023-08-30T03:48:54.936198",
     "status": "completed"
    },
    "tags": []
   },
   "source": [
    "# Modules"
   ]
  },
  {
   "cell_type": "code",
   "execution_count": 1,
   "id": "bbc0234f",
   "metadata": {
    "execution": {
     "iopub.execute_input": "2023-08-30T03:48:54.974159Z",
     "iopub.status.busy": "2023-08-30T03:48:54.973544Z",
     "iopub.status.idle": "2023-08-30T03:48:54.992434Z",
     "shell.execute_reply": "2023-08-30T03:48:54.991763Z"
    },
    "papermill": {
     "duration": 0.029363,
     "end_time": "2023-08-30T03:48:54.993345",
     "exception": false,
     "start_time": "2023-08-30T03:48:54.963982",
     "status": "completed"
    },
    "tags": []
   },
   "outputs": [],
   "source": [
    "%load_ext autoreload\n",
    "%autoreload 2"
   ]
  },
  {
   "cell_type": "code",
   "execution_count": 2,
   "id": "1d5f5a59",
   "metadata": {
    "execution": {
     "iopub.execute_input": "2023-08-30T03:48:55.011652Z",
     "iopub.status.busy": "2023-08-30T03:48:55.011144Z",
     "iopub.status.idle": "2023-08-30T03:48:55.447677Z",
     "shell.execute_reply": "2023-08-30T03:48:55.447129Z"
    },
    "papermill": {
     "duration": 0.447692,
     "end_time": "2023-08-30T03:48:55.449545",
     "exception": false,
     "start_time": "2023-08-30T03:48:55.001853",
     "status": "completed"
    },
    "tags": []
   },
   "outputs": [],
   "source": [
    "from pathlib import Path\n",
    "import pickle\n",
    "\n",
    "import numpy as np\n",
    "import pandas as pd\n",
    "\n",
    "import conf\n",
    "from entity import Gene"
   ]
  },
  {
   "cell_type": "markdown",
   "id": "1eac24b5",
   "metadata": {
    "papermill": {
     "duration": 0.01905,
     "end_time": "2023-08-30T03:48:55.488306",
     "exception": false,
     "start_time": "2023-08-30T03:48:55.469256",
     "status": "completed"
    },
    "tags": []
   },
   "source": [
    "# Settings"
   ]
  },
  {
   "cell_type": "code",
   "execution_count": 3,
   "id": "ca4560ba",
   "metadata": {
    "execution": {
     "iopub.execute_input": "2023-08-30T03:48:55.527601Z",
     "iopub.status.busy": "2023-08-30T03:48:55.527464Z",
     "iopub.status.idle": "2023-08-30T03:48:55.537830Z",
     "shell.execute_reply": "2023-08-30T03:48:55.537391Z"
    },
    "papermill": {
     "duration": 0.030859,
     "end_time": "2023-08-30T03:48:55.538738",
     "exception": false,
     "start_time": "2023-08-30T03:48:55.507879",
     "status": "completed"
    },
    "tags": [
     "parameters"
    ]
   },
   "outputs": [],
   "source": [
    "# a cohort name (it could be something like UK_BIOBANK, etc)\n",
    "COHORT_NAME = None\n",
    "\n",
    "# reference panel such as 1000G or GTEX_V8\n",
    "REFERENCE_PANEL = \"GTEX_V8\"\n",
    "\n",
    "# predictions models such as MASHR or ELASTIC_NET\n",
    "EQTL_MODEL = \"MASHR\"\n",
    "\n",
    "# a string with a path pointing to an imputed GWAS\n",
    "GWAS_FILE = None\n",
    "\n",
    "# a string with a path pointing where S-PrediXcan results (tissue-specific are located\n",
    "SPREDIXCAN_FOLDER = None\n",
    "\n",
    "# an f-string with one placeholder {tissue}\n",
    "SPREDIXCAN_FILE_PATTERN = None\n",
    "\n",
    "# a string with a path pointing to an S-MultiXcan result\n",
    "SMULTIXCAN_FILE = None\n",
    "\n",
    "# output dir\n",
    "OUTPUT_DIR_BASE = None"
   ]
  },
  {
   "cell_type": "code",
   "execution_count": 4,
   "id": "94d1c640",
   "metadata": {
    "execution": {
     "iopub.execute_input": "2023-08-30T03:48:55.556448Z",
     "iopub.status.busy": "2023-08-30T03:48:55.556298Z",
     "iopub.status.idle": "2023-08-30T03:48:55.565424Z",
     "shell.execute_reply": "2023-08-30T03:48:55.564985Z"
    },
    "papermill": {
     "duration": 0.018972,
     "end_time": "2023-08-30T03:48:55.566272",
     "exception": false,
     "start_time": "2023-08-30T03:48:55.547300",
     "status": "completed"
    },
    "tags": [
     "injected-parameters"
    ]
   },
   "outputs": [],
   "source": [
    "# Parameters\n",
    "PHENOPLIER_NOTEBOOK_FILEPATH = \"projects/chronotype/nbs/20_gene_corrs/jobs/01-compile_gwas_snps_and_twas_genes.ipynb\"\n",
    "COHORT_NAME = \"chronotype\"\n",
    "GWAS_FILE = \"/opt/data/projects/chronotype/results/final_imputed_gwas/chronotype_raw_BOLT.output_HRC.only_plus.metrics_maf0.001_hwep1em12_info0.3.txt-harmonized-imputed.txt.gz\"\n",
    "SPREDIXCAN_FOLDER = \"/opt/data/projects/chronotype/results/twas/spredixcan\"\n",
    "SPREDIXCAN_FILE_PATTERN = \"chronotype_raw_BOLT.output_HRC.only_plus.metrics_maf0.001_hwep1em12_info0.3.txt-gtex_v8-mashr-{tissue}.csv\"\n",
    "SMULTIXCAN_FILE = \"/opt/data/projects/chronotype/results/twas/smultixcan/chronotype_raw_BOLT.output_HRC.only_plus.metrics_maf0.001_hwep1em12_info0.3.txt-gtex_v8-mashr-smultixcan.txt\"\n",
    "OUTPUT_DIR_BASE = \"/opt/data/projects/chronotype/results/gls_phenoplier\"\n"
   ]
  },
  {
   "cell_type": "code",
   "execution_count": 5,
   "id": "8fe24bef",
   "metadata": {
    "execution": {
     "iopub.execute_input": "2023-08-30T03:48:55.584394Z",
     "iopub.status.busy": "2023-08-30T03:48:55.584082Z",
     "iopub.status.idle": "2023-08-30T03:48:55.596617Z",
     "shell.execute_reply": "2023-08-30T03:48:55.596180Z"
    },
    "papermill": {
     "duration": 0.022336,
     "end_time": "2023-08-30T03:48:55.597438",
     "exception": false,
     "start_time": "2023-08-30T03:48:55.575102",
     "status": "completed"
    },
    "tags": []
   },
   "outputs": [
    {
     "data": {
      "text/plain": [
       "'Cohort name: chronotype'"
      ]
     },
     "metadata": {},
     "output_type": "display_data"
    }
   ],
   "source": [
    "assert COHORT_NAME is not None and len(COHORT_NAME) > 0, \"A cohort name must be given\"\n",
    "\n",
    "COHORT_NAME = COHORT_NAME.lower()\n",
    "display(f\"Cohort name: {COHORT_NAME}\")"
   ]
  },
  {
   "cell_type": "code",
   "execution_count": 6,
   "id": "f53ba19b-0f93-4fa2-a047-63b375939d1a",
   "metadata": {
    "execution": {
     "iopub.execute_input": "2023-08-30T03:48:55.615592Z",
     "iopub.status.busy": "2023-08-30T03:48:55.615387Z",
     "iopub.status.idle": "2023-08-30T03:48:55.625111Z",
     "shell.execute_reply": "2023-08-30T03:48:55.624684Z"
    },
    "papermill": {
     "duration": 0.019494,
     "end_time": "2023-08-30T03:48:55.625835",
     "exception": false,
     "start_time": "2023-08-30T03:48:55.606341",
     "status": "completed"
    },
    "tags": []
   },
   "outputs": [
    {
     "data": {
      "text/plain": [
       "'Reference panel: GTEX_V8'"
      ]
     },
     "metadata": {},
     "output_type": "display_data"
    }
   ],
   "source": [
    "assert (\n",
    "    REFERENCE_PANEL is not None and len(REFERENCE_PANEL) > 0\n",
    "), \"A reference panel must be given\"\n",
    "\n",
    "display(f\"Reference panel: {REFERENCE_PANEL}\")"
   ]
  },
  {
   "cell_type": "code",
   "execution_count": 7,
   "id": "7a970044-2d34-4e5b-a850-eff44079afe8",
   "metadata": {
    "execution": {
     "iopub.execute_input": "2023-08-30T03:48:55.644204Z",
     "iopub.status.busy": "2023-08-30T03:48:55.643792Z",
     "iopub.status.idle": "2023-08-30T03:48:55.660579Z",
     "shell.execute_reply": "2023-08-30T03:48:55.660023Z"
    },
    "papermill": {
     "duration": 0.026801,
     "end_time": "2023-08-30T03:48:55.661480",
     "exception": false,
     "start_time": "2023-08-30T03:48:55.634679",
     "status": "completed"
    },
    "tags": []
   },
   "outputs": [
    {
     "data": {
      "text/plain": [
       "'GWAS file path: /opt/data/projects/chronotype/results/final_imputed_gwas/chronotype_raw_BOLT.output_HRC.only_plus.metrics_maf0.001_hwep1em12_info0.3.txt-harmonized-imputed.txt.gz'"
      ]
     },
     "metadata": {},
     "output_type": "display_data"
    }
   ],
   "source": [
    "assert GWAS_FILE is not None and len(GWAS_FILE) > 0, \"A GWAS file path must be given\"\n",
    "GWAS_FILE = Path(GWAS_FILE).resolve()\n",
    "assert GWAS_FILE.exists(), \"GWAS file does not exist\"\n",
    "\n",
    "display(f\"GWAS file path: {str(GWAS_FILE)}\")"
   ]
  },
  {
   "cell_type": "code",
   "execution_count": 8,
   "id": "552a7f63-a18c-4d3e-bb6a-94f99b431291",
   "metadata": {
    "execution": {
     "iopub.execute_input": "2023-08-30T03:48:55.680365Z",
     "iopub.status.busy": "2023-08-30T03:48:55.680043Z",
     "iopub.status.idle": "2023-08-30T03:48:55.696879Z",
     "shell.execute_reply": "2023-08-30T03:48:55.696326Z"
    },
    "papermill": {
     "duration": 0.027303,
     "end_time": "2023-08-30T03:48:55.697778",
     "exception": false,
     "start_time": "2023-08-30T03:48:55.670475",
     "status": "completed"
    },
    "tags": []
   },
   "outputs": [
    {
     "data": {
      "text/plain": [
       "'S-PrediXcan folder path: /opt/data/projects/chronotype/results/twas/spredixcan'"
      ]
     },
     "metadata": {},
     "output_type": "display_data"
    }
   ],
   "source": [
    "assert (\n",
    "    SPREDIXCAN_FOLDER is not None and len(SPREDIXCAN_FOLDER) > 0\n",
    "), \"An S-PrediXcan folder path must be given\"\n",
    "SPREDIXCAN_FOLDER = Path(SPREDIXCAN_FOLDER).resolve()\n",
    "assert (\n",
    "    SPREDIXCAN_FOLDER.exists()\n",
    "), f\"S-PrediXcan folder does not exist: {str(SPREDIXCAN_FOLDER)}\"\n",
    "\n",
    "display(f\"S-PrediXcan folder path: {str(SPREDIXCAN_FOLDER)}\")"
   ]
  },
  {
   "cell_type": "code",
   "execution_count": 9,
   "id": "6e2000dc-f1dc-4db8-93d5-9a7209a2e121",
   "metadata": {
    "execution": {
     "iopub.execute_input": "2023-08-30T03:48:55.716463Z",
     "iopub.status.busy": "2023-08-30T03:48:55.716143Z",
     "iopub.status.idle": "2023-08-30T03:48:55.732637Z",
     "shell.execute_reply": "2023-08-30T03:48:55.732083Z"
    },
    "papermill": {
     "duration": 0.026901,
     "end_time": "2023-08-30T03:48:55.733541",
     "exception": false,
     "start_time": "2023-08-30T03:48:55.706640",
     "status": "completed"
    },
    "tags": []
   },
   "outputs": [
    {
     "data": {
      "text/plain": [
       "'S-PrediXcan file template: chronotype_raw_BOLT.output_HRC.only_plus.metrics_maf0.001_hwep1em12_info0.3.txt-gtex_v8-mashr-{tissue}.csv'"
      ]
     },
     "metadata": {},
     "output_type": "display_data"
    }
   ],
   "source": [
    "assert (\n",
    "    SPREDIXCAN_FILE_PATTERN is not None and len(SPREDIXCAN_FILE_PATTERN) > 0\n",
    "), \"An S-PrediXcan file pattern must be given\"\n",
    "assert (\n",
    "    \"{tissue}\" in SPREDIXCAN_FILE_PATTERN\n",
    "), \"S-PrediXcan file pattern must have a '{tissue}' placeholder\"\n",
    "\n",
    "display(f\"S-PrediXcan file template: {SPREDIXCAN_FILE_PATTERN}\")"
   ]
  },
  {
   "cell_type": "code",
   "execution_count": 10,
   "id": "f5a5aa9d-c6f3-4fb5-9351-37382b6e67bc",
   "metadata": {
    "execution": {
     "iopub.execute_input": "2023-08-30T03:48:55.752288Z",
     "iopub.status.busy": "2023-08-30T03:48:55.751967Z",
     "iopub.status.idle": "2023-08-30T03:48:55.768848Z",
     "shell.execute_reply": "2023-08-30T03:48:55.768295Z"
    },
    "papermill": {
     "duration": 0.027268,
     "end_time": "2023-08-30T03:48:55.769738",
     "exception": false,
     "start_time": "2023-08-30T03:48:55.742470",
     "status": "completed"
    },
    "tags": []
   },
   "outputs": [
    {
     "data": {
      "text/plain": [
       "'S-MultiXcan file path: /opt/data/projects/chronotype/results/twas/smultixcan/chronotype_raw_BOLT.output_HRC.only_plus.metrics_maf0.001_hwep1em12_info0.3.txt-gtex_v8-mashr-smultixcan.txt'"
      ]
     },
     "metadata": {},
     "output_type": "display_data"
    }
   ],
   "source": [
    "assert (\n",
    "    SMULTIXCAN_FILE is not None and len(SMULTIXCAN_FILE) > 0\n",
    "), \"An S-MultiXcan result file path must be given\"\n",
    "SMULTIXCAN_FILE = Path(SMULTIXCAN_FILE).resolve()\n",
    "assert (\n",
    "    SMULTIXCAN_FILE.exists()\n",
    "), f\"S-MultiXcan result file does not exist: {str(SMULTIXCAN_FILE)}\"\n",
    "\n",
    "display(f\"S-MultiXcan file path: {str(SMULTIXCAN_FILE)}\")"
   ]
  },
  {
   "cell_type": "code",
   "execution_count": 11,
   "id": "0723dc2f-34d1-407c-a55b-d6d13c55d63d",
   "metadata": {
    "execution": {
     "iopub.execute_input": "2023-08-30T03:48:55.789170Z",
     "iopub.status.busy": "2023-08-30T03:48:55.788778Z",
     "iopub.status.idle": "2023-08-30T03:48:55.804956Z",
     "shell.execute_reply": "2023-08-30T03:48:55.804400Z"
    },
    "papermill": {
     "duration": 0.026891,
     "end_time": "2023-08-30T03:48:55.805887",
     "exception": false,
     "start_time": "2023-08-30T03:48:55.778996",
     "status": "completed"
    },
    "tags": []
   },
   "outputs": [
    {
     "data": {
      "text/plain": [
       "'eQTL model: MASHR'"
      ]
     },
     "metadata": {},
     "output_type": "display_data"
    }
   ],
   "source": [
    "assert (\n",
    "    EQTL_MODEL is not None and len(EQTL_MODEL) > 0\n",
    "), \"A prediction/eQTL model must be given\"\n",
    "\n",
    "display(f\"eQTL model: {EQTL_MODEL}\")"
   ]
  },
  {
   "cell_type": "code",
   "execution_count": 12,
   "id": "46b9ec52-9c96-4062-b57a-783dfeea33c4",
   "metadata": {
    "execution": {
     "iopub.execute_input": "2023-08-30T03:48:55.825358Z",
     "iopub.status.busy": "2023-08-30T03:48:55.824836Z",
     "iopub.status.idle": "2023-08-30T03:48:55.842042Z",
     "shell.execute_reply": "2023-08-30T03:48:55.841487Z"
    },
    "papermill": {
     "duration": 0.027943,
     "end_time": "2023-08-30T03:48:55.842968",
     "exception": false,
     "start_time": "2023-08-30T03:48:55.815025",
     "status": "completed"
    },
    "tags": []
   },
   "outputs": [
    {
     "data": {
      "text/plain": [
       "'Using output dir base: /opt/data/projects/chronotype/results/gls_phenoplier/gene_corrs/chronotype'"
      ]
     },
     "metadata": {},
     "output_type": "display_data"
    }
   ],
   "source": [
    "assert (\n",
    "    OUTPUT_DIR_BASE is not None and len(OUTPUT_DIR_BASE) > 0\n",
    "), \"Output directory path must be given\"\n",
    "\n",
    "OUTPUT_DIR_BASE = (Path(OUTPUT_DIR_BASE) / \"gene_corrs\" / COHORT_NAME).resolve()\n",
    "\n",
    "OUTPUT_DIR_BASE.mkdir(parents=True, exist_ok=True)\n",
    "\n",
    "display(f\"Using output dir base: {OUTPUT_DIR_BASE}\")"
   ]
  },
  {
   "cell_type": "markdown",
   "id": "b6ebb422-8204-494b-8c72-360a71ce9863",
   "metadata": {
    "papermill": {
     "duration": 0.009111,
     "end_time": "2023-08-30T03:48:55.861260",
     "exception": false,
     "start_time": "2023-08-30T03:48:55.852149",
     "status": "completed"
    },
    "tags": []
   },
   "source": [
    "# Load MultiPLIER Z genes"
   ]
  },
  {
   "cell_type": "code",
   "execution_count": 13,
   "id": "c48ef527",
   "metadata": {
    "execution": {
     "iopub.execute_input": "2023-08-30T03:48:55.880721Z",
     "iopub.status.busy": "2023-08-30T03:48:55.880237Z",
     "iopub.status.idle": "2023-08-30T03:48:55.924743Z",
     "shell.execute_reply": "2023-08-30T03:48:55.924086Z"
    },
    "papermill": {
     "duration": 0.05532,
     "end_time": "2023-08-30T03:48:55.925797",
     "exception": false,
     "start_time": "2023-08-30T03:48:55.870477",
     "status": "completed"
    },
    "tags": []
   },
   "outputs": [],
   "source": [
    "multiplier_z_genes = pd.read_pickle(\n",
    "    conf.MULTIPLIER[\"MODEL_Z_MATRIX_FILE\"]\n",
    ").index.tolist()"
   ]
  },
  {
   "cell_type": "code",
   "execution_count": 14,
   "id": "0a4ecbd9",
   "metadata": {
    "execution": {
     "iopub.execute_input": "2023-08-30T03:48:55.945208Z",
     "iopub.status.busy": "2023-08-30T03:48:55.944864Z",
     "iopub.status.idle": "2023-08-30T03:48:55.962482Z",
     "shell.execute_reply": "2023-08-30T03:48:55.961926Z"
    },
    "papermill": {
     "duration": 0.02843,
     "end_time": "2023-08-30T03:48:55.963393",
     "exception": false,
     "start_time": "2023-08-30T03:48:55.934963",
     "status": "completed"
    },
    "tags": []
   },
   "outputs": [
    {
     "data": {
      "text/plain": [
       "6750"
      ]
     },
     "execution_count": 14,
     "metadata": {},
     "output_type": "execute_result"
    }
   ],
   "source": [
    "len(multiplier_z_genes)"
   ]
  },
  {
   "cell_type": "code",
   "execution_count": 15,
   "id": "a18ce359-0759-4260-ae6f-053e8c0041b7",
   "metadata": {
    "execution": {
     "iopub.execute_input": "2023-08-30T03:48:55.982995Z",
     "iopub.status.busy": "2023-08-30T03:48:55.982633Z",
     "iopub.status.idle": "2023-08-30T03:48:55.998581Z",
     "shell.execute_reply": "2023-08-30T03:48:55.998015Z"
    },
    "papermill": {
     "duration": 0.026775,
     "end_time": "2023-08-30T03:48:55.999576",
     "exception": false,
     "start_time": "2023-08-30T03:48:55.972801",
     "status": "completed"
    },
    "tags": []
   },
   "outputs": [],
   "source": [
    "assert len(multiplier_z_genes) == len(set(multiplier_z_genes))"
   ]
  },
  {
   "cell_type": "code",
   "execution_count": 16,
   "id": "115e8864",
   "metadata": {
    "execution": {
     "iopub.execute_input": "2023-08-30T03:48:56.019297Z",
     "iopub.status.busy": "2023-08-30T03:48:56.018899Z",
     "iopub.status.idle": "2023-08-30T03:48:56.035094Z",
     "shell.execute_reply": "2023-08-30T03:48:56.034533Z"
    },
    "papermill": {
     "duration": 0.027032,
     "end_time": "2023-08-30T03:48:56.035979",
     "exception": false,
     "start_time": "2023-08-30T03:48:56.008947",
     "status": "completed"
    },
    "tags": []
   },
   "outputs": [
    {
     "data": {
      "text/plain": [
       "['GAS6', 'MMP14', 'DSP', 'MARCKSL1', 'SPARC']"
      ]
     },
     "execution_count": 16,
     "metadata": {},
     "output_type": "execute_result"
    }
   ],
   "source": [
    "multiplier_z_genes[:5]"
   ]
  },
  {
   "cell_type": "markdown",
   "id": "7bed0ce0-e7c7-4300-9a61-5412450b1904",
   "metadata": {
    "papermill": {
     "duration": 0.009531,
     "end_time": "2023-08-30T03:48:56.054865",
     "exception": false,
     "start_time": "2023-08-30T03:48:56.045334",
     "status": "completed"
    },
    "tags": []
   },
   "source": [
    "# GWAS"
   ]
  },
  {
   "cell_type": "code",
   "execution_count": 17,
   "id": "331e5691-c014-43e4-b94c-060c64d329df",
   "metadata": {
    "execution": {
     "iopub.execute_input": "2023-08-30T03:48:56.074599Z",
     "iopub.status.busy": "2023-08-30T03:48:56.074113Z",
     "iopub.status.idle": "2023-08-30T03:48:56.095580Z",
     "shell.execute_reply": "2023-08-30T03:48:56.094975Z"
    },
    "papermill": {
     "duration": 0.032323,
     "end_time": "2023-08-30T03:48:56.096473",
     "exception": false,
     "start_time": "2023-08-30T03:48:56.064150",
     "status": "completed"
    },
    "tags": []
   },
   "outputs": [],
   "source": [
    "gwas_file_columns = pd.read_csv(GWAS_FILE, sep=\"\\t\", nrows=2).columns\n",
    "\n",
    "assert (\n",
    "    \"panel_variant_id\" in gwas_file_columns\n",
    "), \"The GWAS file must be the final imputed one using the TWAS imputation tools with column 'panel_variant_id'\"\n",
    "\n",
    "assert (\n",
    "    \"pvalue\" in gwas_file_columns\n",
    "), \"The GWAS file must be the final imputed one using the TWAS imputation tools with column 'pvalue'\"\n",
    "\n",
    "assert (\n",
    "    \"zscore\" in gwas_file_columns\n",
    "), \"The GWAS file must be the final imputed one using the TWAS imputation tools with column 'zscore'\""
   ]
  },
  {
   "cell_type": "code",
   "execution_count": 18,
   "id": "8d419629-8f4d-4c83-bed3-cfc071a58090",
   "metadata": {
    "execution": {
     "iopub.execute_input": "2023-08-30T03:48:56.116140Z",
     "iopub.status.busy": "2023-08-30T03:48:56.115805Z",
     "iopub.status.idle": "2023-08-30T03:49:07.917672Z",
     "shell.execute_reply": "2023-08-30T03:49:07.917055Z"
    },
    "papermill": {
     "duration": 11.814024,
     "end_time": "2023-08-30T03:49:07.919907",
     "exception": false,
     "start_time": "2023-08-30T03:48:56.105883",
     "status": "completed"
    },
    "tags": []
   },
   "outputs": [],
   "source": [
    "gwas_data = pd.read_csv(\n",
    "    GWAS_FILE,\n",
    "    sep=\"\\t\",\n",
    "    usecols=[\"panel_variant_id\", \"pvalue\", \"zscore\"],\n",
    ")"
   ]
  },
  {
   "cell_type": "code",
   "execution_count": 19,
   "id": "3f4e814e-6b41-407e-9099-86795eec6ed9",
   "metadata": {
    "execution": {
     "iopub.execute_input": "2023-08-30T03:49:07.957102Z",
     "iopub.status.busy": "2023-08-30T03:49:07.956986Z",
     "iopub.status.idle": "2023-08-30T03:49:07.968215Z",
     "shell.execute_reply": "2023-08-30T03:49:07.967711Z"
    },
    "papermill": {
     "duration": 0.0309,
     "end_time": "2023-08-30T03:49:07.969533",
     "exception": false,
     "start_time": "2023-08-30T03:49:07.938633",
     "status": "completed"
    },
    "tags": []
   },
   "outputs": [
    {
     "data": {
      "text/plain": [
       "(11742680, 3)"
      ]
     },
     "execution_count": 19,
     "metadata": {},
     "output_type": "execute_result"
    }
   ],
   "source": [
    "gwas_data.shape"
   ]
  },
  {
   "cell_type": "code",
   "execution_count": 20,
   "id": "b4a906e9-c80a-47fc-9d73-5adb046f8b76",
   "metadata": {
    "execution": {
     "iopub.execute_input": "2023-08-30T03:49:08.006384Z",
     "iopub.status.busy": "2023-08-30T03:49:08.006178Z",
     "iopub.status.idle": "2023-08-30T03:49:08.027736Z",
     "shell.execute_reply": "2023-08-30T03:49:08.027091Z"
    },
    "papermill": {
     "duration": 0.04145,
     "end_time": "2023-08-30T03:49:08.029189",
     "exception": false,
     "start_time": "2023-08-30T03:49:07.987739",
     "status": "completed"
    },
    "tags": []
   },
   "outputs": [
    {
     "data": {
      "text/html": [
       "<div>\n",
       "<style scoped>\n",
       "    .dataframe tbody tr th:only-of-type {\n",
       "        vertical-align: middle;\n",
       "    }\n",
       "\n",
       "    .dataframe tbody tr th {\n",
       "        vertical-align: top;\n",
       "    }\n",
       "\n",
       "    .dataframe thead th {\n",
       "        text-align: right;\n",
       "    }\n",
       "</style>\n",
       "<table border=\"1\" class=\"dataframe\">\n",
       "  <thead>\n",
       "    <tr style=\"text-align: right;\">\n",
       "      <th></th>\n",
       "      <th>panel_variant_id</th>\n",
       "      <th>zscore</th>\n",
       "      <th>pvalue</th>\n",
       "    </tr>\n",
       "  </thead>\n",
       "  <tbody>\n",
       "    <tr>\n",
       "      <th>0</th>\n",
       "      <td>chr1_54490_G_A_b38</td>\n",
       "      <td>-2.453583</td>\n",
       "      <td>0.014144</td>\n",
       "    </tr>\n",
       "    <tr>\n",
       "      <th>1</th>\n",
       "      <td>chr1_87021_T_C_b38</td>\n",
       "      <td>-1.642399</td>\n",
       "      <td>0.100507</td>\n",
       "    </tr>\n",
       "    <tr>\n",
       "      <th>2</th>\n",
       "      <td>chr1_263722_C_G_b38</td>\n",
       "      <td>0.608545</td>\n",
       "      <td>0.542826</td>\n",
       "    </tr>\n",
       "    <tr>\n",
       "      <th>3</th>\n",
       "      <td>chr1_594402_C_T_b38</td>\n",
       "      <td>0.309907</td>\n",
       "      <td>0.756631</td>\n",
       "    </tr>\n",
       "    <tr>\n",
       "      <th>4</th>\n",
       "      <td>chr1_630089_C_T_b38</td>\n",
       "      <td>0.292375</td>\n",
       "      <td>0.770000</td>\n",
       "    </tr>\n",
       "  </tbody>\n",
       "</table>\n",
       "</div>"
      ],
      "text/plain": [
       "      panel_variant_id    zscore    pvalue\n",
       "0   chr1_54490_G_A_b38 -2.453583  0.014144\n",
       "1   chr1_87021_T_C_b38 -1.642399  0.100507\n",
       "2  chr1_263722_C_G_b38  0.608545  0.542826\n",
       "3  chr1_594402_C_T_b38  0.309907  0.756631\n",
       "4  chr1_630089_C_T_b38  0.292375  0.770000"
      ]
     },
     "execution_count": 20,
     "metadata": {},
     "output_type": "execute_result"
    }
   ],
   "source": [
    "gwas_data.head()"
   ]
  },
  {
   "cell_type": "code",
   "execution_count": 21,
   "id": "033c24fb-9c60-4ffd-929e-b0e6089820ae",
   "metadata": {
    "execution": {
     "iopub.execute_input": "2023-08-30T03:49:08.066954Z",
     "iopub.status.busy": "2023-08-30T03:49:08.066590Z",
     "iopub.status.idle": "2023-08-30T03:49:09.323482Z",
     "shell.execute_reply": "2023-08-30T03:49:09.322989Z"
    },
    "papermill": {
     "duration": 1.277356,
     "end_time": "2023-08-30T03:49:09.325024",
     "exception": false,
     "start_time": "2023-08-30T03:49:08.047668",
     "status": "completed"
    },
    "tags": []
   },
   "outputs": [
    {
     "data": {
      "text/plain": [
       "(11737794, 3)"
      ]
     },
     "execution_count": 21,
     "metadata": {},
     "output_type": "execute_result"
    }
   ],
   "source": [
    "gwas_data.dropna().shape"
   ]
  },
  {
   "cell_type": "code",
   "execution_count": 22,
   "id": "28232ce5-0afd-464e-9be3-64c3a68c2b25",
   "metadata": {
    "execution": {
     "iopub.execute_input": "2023-08-30T03:49:09.363139Z",
     "iopub.status.busy": "2023-08-30T03:49:09.363024Z",
     "iopub.status.idle": "2023-08-30T03:49:10.478695Z",
     "shell.execute_reply": "2023-08-30T03:49:10.478146Z"
    },
    "papermill": {
     "duration": 1.136647,
     "end_time": "2023-08-30T03:49:10.480350",
     "exception": false,
     "start_time": "2023-08-30T03:49:09.343703",
     "status": "completed"
    },
    "tags": []
   },
   "outputs": [],
   "source": [
    "# remove SNPs with no results\n",
    "gwas_data = gwas_data.dropna()"
   ]
  },
  {
   "cell_type": "code",
   "execution_count": 23,
   "id": "d9a6c31f-eedd-43e5-b762-5a9663be1b77",
   "metadata": {
    "execution": {
     "iopub.execute_input": "2023-08-30T03:49:10.518638Z",
     "iopub.status.busy": "2023-08-30T03:49:10.518475Z",
     "iopub.status.idle": "2023-08-30T03:49:10.529350Z",
     "shell.execute_reply": "2023-08-30T03:49:10.528922Z"
    },
    "papermill": {
     "duration": 0.031528,
     "end_time": "2023-08-30T03:49:10.530621",
     "exception": false,
     "start_time": "2023-08-30T03:49:10.499093",
     "status": "completed"
    },
    "tags": []
   },
   "outputs": [
    {
     "data": {
      "text/plain": [
       "(11737794, 3)"
      ]
     },
     "execution_count": 23,
     "metadata": {},
     "output_type": "execute_result"
    }
   ],
   "source": [
    "gwas_data.shape"
   ]
  },
  {
   "cell_type": "markdown",
   "id": "8da344de-2aa5-48a9-98ec-e8c3397ae7e6",
   "metadata": {
    "papermill": {
     "duration": 0.018498,
     "end_time": "2023-08-30T03:49:10.567849",
     "exception": false,
     "start_time": "2023-08-30T03:49:10.549351",
     "status": "completed"
    },
    "tags": []
   },
   "source": [
    "## Save GWAS variants"
   ]
  },
  {
   "cell_type": "code",
   "execution_count": 24,
   "id": "ac11fb33-ea3c-4d5c-a90b-0ceebdac43d3",
   "metadata": {
    "execution": {
     "iopub.execute_input": "2023-08-30T03:49:10.594783Z",
     "iopub.status.busy": "2023-08-30T03:49:10.594605Z",
     "iopub.status.idle": "2023-08-30T03:49:10.606081Z",
     "shell.execute_reply": "2023-08-30T03:49:10.605653Z"
    },
    "papermill": {
     "duration": 0.022197,
     "end_time": "2023-08-30T03:49:10.606850",
     "exception": false,
     "start_time": "2023-08-30T03:49:10.584653",
     "status": "completed"
    },
    "tags": []
   },
   "outputs": [
    {
     "data": {
      "text/html": [
       "<div>\n",
       "<style scoped>\n",
       "    .dataframe tbody tr th:only-of-type {\n",
       "        vertical-align: middle;\n",
       "    }\n",
       "\n",
       "    .dataframe tbody tr th {\n",
       "        vertical-align: top;\n",
       "    }\n",
       "\n",
       "    .dataframe thead th {\n",
       "        text-align: right;\n",
       "    }\n",
       "</style>\n",
       "<table border=\"1\" class=\"dataframe\">\n",
       "  <thead>\n",
       "    <tr style=\"text-align: right;\">\n",
       "      <th></th>\n",
       "      <th>panel_variant_id</th>\n",
       "      <th>zscore</th>\n",
       "      <th>pvalue</th>\n",
       "    </tr>\n",
       "  </thead>\n",
       "  <tbody>\n",
       "    <tr>\n",
       "      <th>0</th>\n",
       "      <td>chr1_54490_G_A_b38</td>\n",
       "      <td>-2.453583</td>\n",
       "      <td>0.014144</td>\n",
       "    </tr>\n",
       "    <tr>\n",
       "      <th>1</th>\n",
       "      <td>chr1_87021_T_C_b38</td>\n",
       "      <td>-1.642399</td>\n",
       "      <td>0.100507</td>\n",
       "    </tr>\n",
       "    <tr>\n",
       "      <th>2</th>\n",
       "      <td>chr1_263722_C_G_b38</td>\n",
       "      <td>0.608545</td>\n",
       "      <td>0.542826</td>\n",
       "    </tr>\n",
       "    <tr>\n",
       "      <th>3</th>\n",
       "      <td>chr1_594402_C_T_b38</td>\n",
       "      <td>0.309907</td>\n",
       "      <td>0.756631</td>\n",
       "    </tr>\n",
       "    <tr>\n",
       "      <th>4</th>\n",
       "      <td>chr1_630089_C_T_b38</td>\n",
       "      <td>0.292375</td>\n",
       "      <td>0.770000</td>\n",
       "    </tr>\n",
       "  </tbody>\n",
       "</table>\n",
       "</div>"
      ],
      "text/plain": [
       "      panel_variant_id    zscore    pvalue\n",
       "0   chr1_54490_G_A_b38 -2.453583  0.014144\n",
       "1   chr1_87021_T_C_b38 -1.642399  0.100507\n",
       "2  chr1_263722_C_G_b38  0.608545  0.542826\n",
       "3  chr1_594402_C_T_b38  0.309907  0.756631\n",
       "4  chr1_630089_C_T_b38  0.292375  0.770000"
      ]
     },
     "execution_count": 24,
     "metadata": {},
     "output_type": "execute_result"
    }
   ],
   "source": [
    "gwas_data.head()"
   ]
  },
  {
   "cell_type": "code",
   "execution_count": 25,
   "id": "5f34bb3d-761a-4860-a179-77ea5f5784ad",
   "metadata": {
    "execution": {
     "iopub.execute_input": "2023-08-30T03:49:10.627164Z",
     "iopub.status.busy": "2023-08-30T03:49:10.627010Z",
     "iopub.status.idle": "2023-08-30T03:49:15.275104Z",
     "shell.execute_reply": "2023-08-30T03:49:15.274534Z"
    },
    "papermill": {
     "duration": 4.659708,
     "end_time": "2023-08-30T03:49:15.276454",
     "exception": false,
     "start_time": "2023-08-30T03:49:10.616746",
     "status": "completed"
    },
    "tags": []
   },
   "outputs": [
    {
     "data": {
      "text/plain": [
       "True"
      ]
     },
     "execution_count": 25,
     "metadata": {},
     "output_type": "execute_result"
    }
   ],
   "source": [
    "# in eMERGE's results, some values here are repeated (will be removed later by taking the unique set of variant IDs).\n",
    "gwas_data[\"panel_variant_id\"].is_unique"
   ]
  },
  {
   "cell_type": "code",
   "execution_count": 26,
   "id": "d4f23b2f-01a3-4a45-a2b6-31b245b5778e",
   "metadata": {
    "execution": {
     "iopub.execute_input": "2023-08-30T03:49:15.316100Z",
     "iopub.status.busy": "2023-08-30T03:49:15.315967Z",
     "iopub.status.idle": "2023-08-30T03:49:18.260632Z",
     "shell.execute_reply": "2023-08-30T03:49:18.259952Z"
    },
    "papermill": {
     "duration": 2.965825,
     "end_time": "2023-08-30T03:49:18.262293",
     "exception": false,
     "start_time": "2023-08-30T03:49:15.296468",
     "status": "completed"
    },
    "tags": []
   },
   "outputs": [
    {
     "data": {
      "text/plain": [
       "['chr19_11624698_T_C_b38',\n",
       " 'chr3_35831568_G_A_b38',\n",
       " 'chr7_142815214_C_T_b38',\n",
       " 'chr6_138257481_C_T_b38',\n",
       " 'chr2_186001806_C_A_b38']"
      ]
     },
     "execution_count": 26,
     "metadata": {},
     "output_type": "execute_result"
    }
   ],
   "source": [
    "gwas_variants_ids_set = frozenset(gwas_data[\"panel_variant_id\"])\n",
    "list(gwas_variants_ids_set)[:5]"
   ]
  },
  {
   "cell_type": "code",
   "execution_count": 27,
   "id": "b4a441df-07d7-48dc-be36-cdb3f92be651",
   "metadata": {
    "execution": {
     "iopub.execute_input": "2023-08-30T03:49:18.302767Z",
     "iopub.status.busy": "2023-08-30T03:49:18.302432Z",
     "iopub.status.idle": "2023-08-30T03:49:22.776303Z",
     "shell.execute_reply": "2023-08-30T03:49:22.775759Z"
    },
    "papermill": {
     "duration": 4.495476,
     "end_time": "2023-08-30T03:49:22.778094",
     "exception": false,
     "start_time": "2023-08-30T03:49:18.282618",
     "status": "completed"
    },
    "tags": []
   },
   "outputs": [],
   "source": [
    "with open(OUTPUT_DIR_BASE / \"gwas_variant_ids.pkl\", \"wb\") as handle:\n",
    "    pickle.dump(gwas_variants_ids_set, handle, protocol=pickle.HIGHEST_PROTOCOL)"
   ]
  },
  {
   "cell_type": "markdown",
   "id": "abcc4b3d",
   "metadata": {
    "papermill": {
     "duration": 0.019722,
     "end_time": "2023-08-30T03:49:22.817952",
     "exception": false,
     "start_time": "2023-08-30T03:49:22.798230",
     "status": "completed"
    },
    "tags": []
   },
   "source": [
    "# TWAS"
   ]
  },
  {
   "cell_type": "markdown",
   "id": "2fbc7358-0563-4fc6-bc47-a0fbcc5cdfd4",
   "metadata": {
    "papermill": {
     "duration": 0.01934,
     "end_time": "2023-08-30T03:49:22.857994",
     "exception": false,
     "start_time": "2023-08-30T03:49:22.838654",
     "status": "completed"
    },
    "tags": []
   },
   "source": [
    "## Available tissues for eQTL model"
   ]
  },
  {
   "cell_type": "code",
   "execution_count": 28,
   "id": "f32c0a84-030a-436b-b597-852b6150d2ac",
   "metadata": {
    "execution": {
     "iopub.execute_input": "2023-08-30T03:49:22.880515Z",
     "iopub.status.busy": "2023-08-30T03:49:22.879914Z",
     "iopub.status.idle": "2023-08-30T03:49:22.896734Z",
     "shell.execute_reply": "2023-08-30T03:49:22.896167Z"
    },
    "papermill": {
     "duration": 0.02922,
     "end_time": "2023-08-30T03:49:22.897767",
     "exception": false,
     "start_time": "2023-08-30T03:49:22.868547",
     "status": "completed"
    },
    "tags": []
   },
   "outputs": [],
   "source": [
    "prediction_model_tissues = conf.PHENOMEXCAN[\"PREDICTION_MODELS\"][\n",
    "    f\"{EQTL_MODEL}_TISSUES\"\n",
    "].split(\" \")"
   ]
  },
  {
   "cell_type": "code",
   "execution_count": 29,
   "id": "0e760d0e-f23d-4590-abfb-811a43f7c237",
   "metadata": {
    "execution": {
     "iopub.execute_input": "2023-08-30T03:49:22.920149Z",
     "iopub.status.busy": "2023-08-30T03:49:22.919940Z",
     "iopub.status.idle": "2023-08-30T03:49:22.936496Z",
     "shell.execute_reply": "2023-08-30T03:49:22.936016Z"
    },
    "papermill": {
     "duration": 0.029049,
     "end_time": "2023-08-30T03:49:22.937424",
     "exception": false,
     "start_time": "2023-08-30T03:49:22.908375",
     "status": "completed"
    },
    "tags": []
   },
   "outputs": [
    {
     "data": {
      "text/plain": [
       "49"
      ]
     },
     "execution_count": 29,
     "metadata": {},
     "output_type": "execute_result"
    }
   ],
   "source": [
    "len(prediction_model_tissues)"
   ]
  },
  {
   "cell_type": "code",
   "execution_count": 30,
   "id": "fa4d942c-cd67-4b31-9491-585c887c0ee3",
   "metadata": {
    "execution": {
     "iopub.execute_input": "2023-08-30T03:49:22.961037Z",
     "iopub.status.busy": "2023-08-30T03:49:22.960646Z",
     "iopub.status.idle": "2023-08-30T03:49:22.980571Z",
     "shell.execute_reply": "2023-08-30T03:49:22.980050Z"
    },
    "papermill": {
     "duration": 0.033108,
     "end_time": "2023-08-30T03:49:22.981513",
     "exception": false,
     "start_time": "2023-08-30T03:49:22.948405",
     "status": "completed"
    },
    "tags": []
   },
   "outputs": [
    {
     "data": {
      "text/plain": [
       "['Thyroid',\n",
       " 'Artery_Aorta',\n",
       " 'Heart_Atrial_Appendage',\n",
       " 'Liver',\n",
       " 'Heart_Left_Ventricle']"
      ]
     },
     "execution_count": 30,
     "metadata": {},
     "output_type": "execute_result"
    }
   ],
   "source": [
    "prediction_model_tissues[:5]"
   ]
  },
  {
   "cell_type": "markdown",
   "id": "fab4814d-757c-4247-b5e4-891bc4863db7",
   "metadata": {
    "papermill": {
     "duration": 0.011174,
     "end_time": "2023-08-30T03:49:23.003885",
     "exception": false,
     "start_time": "2023-08-30T03:49:22.992711",
     "status": "completed"
    },
    "tags": []
   },
   "source": [
    "## S-MultiXcan results"
   ]
  },
  {
   "cell_type": "code",
   "execution_count": 31,
   "id": "2b73c11e-9aa2-410e-84b4-a70be34d02e4",
   "metadata": {
    "execution": {
     "iopub.execute_input": "2023-08-30T03:49:23.027909Z",
     "iopub.status.busy": "2023-08-30T03:49:23.027425Z",
     "iopub.status.idle": "2023-08-30T03:49:23.096312Z",
     "shell.execute_reply": "2023-08-30T03:49:23.095811Z"
    },
    "papermill": {
     "duration": 0.082878,
     "end_time": "2023-08-30T03:49:23.097960",
     "exception": false,
     "start_time": "2023-08-30T03:49:23.015082",
     "status": "completed"
    },
    "tags": []
   },
   "outputs": [],
   "source": [
    "smultixcan_results = pd.read_csv(\n",
    "    SMULTIXCAN_FILE, sep=\"\\t\", usecols=[\"gene\", \"gene_name\", \"pvalue\", \"n\", \"n_indep\"]\n",
    ")"
   ]
  },
  {
   "cell_type": "code",
   "execution_count": 32,
   "id": "8b5abebd-baab-4188-9e3d-655ebbe32401",
   "metadata": {
    "execution": {
     "iopub.execute_input": "2023-08-30T03:49:23.140652Z",
     "iopub.status.busy": "2023-08-30T03:49:23.140426Z",
     "iopub.status.idle": "2023-08-30T03:49:23.153650Z",
     "shell.execute_reply": "2023-08-30T03:49:23.153264Z"
    },
    "papermill": {
     "duration": 0.03624,
     "end_time": "2023-08-30T03:49:23.155158",
     "exception": false,
     "start_time": "2023-08-30T03:49:23.118918",
     "status": "completed"
    },
    "tags": []
   },
   "outputs": [
    {
     "data": {
      "text/plain": [
       "(22338, 5)"
      ]
     },
     "execution_count": 32,
     "metadata": {},
     "output_type": "execute_result"
    }
   ],
   "source": [
    "smultixcan_results.shape"
   ]
  },
  {
   "cell_type": "code",
   "execution_count": 33,
   "id": "c65e233f-9ef6-4883-9386-7abf1d6d1cbd",
   "metadata": {
    "execution": {
     "iopub.execute_input": "2023-08-30T03:49:23.197513Z",
     "iopub.status.busy": "2023-08-30T03:49:23.197403Z",
     "iopub.status.idle": "2023-08-30T03:49:23.216486Z",
     "shell.execute_reply": "2023-08-30T03:49:23.216008Z"
    },
    "papermill": {
     "duration": 0.041121,
     "end_time": "2023-08-30T03:49:23.217391",
     "exception": false,
     "start_time": "2023-08-30T03:49:23.176270",
     "status": "completed"
    },
    "tags": []
   },
   "outputs": [],
   "source": [
    "smultixcan_results = smultixcan_results.dropna()"
   ]
  },
  {
   "cell_type": "code",
   "execution_count": 34,
   "id": "57d2d311-4a42-4725-9e37-b124ed13ad33",
   "metadata": {
    "execution": {
     "iopub.execute_input": "2023-08-30T03:49:23.239004Z",
     "iopub.status.busy": "2023-08-30T03:49:23.238797Z",
     "iopub.status.idle": "2023-08-30T03:49:23.252684Z",
     "shell.execute_reply": "2023-08-30T03:49:23.252235Z"
    },
    "papermill": {
     "duration": 0.025688,
     "end_time": "2023-08-30T03:49:23.253499",
     "exception": false,
     "start_time": "2023-08-30T03:49:23.227811",
     "status": "completed"
    },
    "tags": []
   },
   "outputs": [
    {
     "data": {
      "text/plain": [
       "(22332, 5)"
      ]
     },
     "execution_count": 34,
     "metadata": {},
     "output_type": "execute_result"
    }
   ],
   "source": [
    "smultixcan_results.shape"
   ]
  },
  {
   "cell_type": "code",
   "execution_count": 35,
   "id": "a36b5b59-f4b6-45bf-b241-ffc9671b357f",
   "metadata": {
    "execution": {
     "iopub.execute_input": "2023-08-30T03:49:23.275598Z",
     "iopub.status.busy": "2023-08-30T03:49:23.275181Z",
     "iopub.status.idle": "2023-08-30T03:49:23.299204Z",
     "shell.execute_reply": "2023-08-30T03:49:23.298670Z"
    },
    "papermill": {
     "duration": 0.036114,
     "end_time": "2023-08-30T03:49:23.300102",
     "exception": false,
     "start_time": "2023-08-30T03:49:23.263988",
     "status": "completed"
    },
    "tags": []
   },
   "outputs": [],
   "source": [
    "smultixcan_results = smultixcan_results.assign(\n",
    "    gene_id=smultixcan_results[\"gene\"].apply(lambda g: g.split(\".\")[0])\n",
    ")"
   ]
  },
  {
   "cell_type": "code",
   "execution_count": 36,
   "id": "c49f62a9-a01a-44af-87da-47d195b0ef7e",
   "metadata": {
    "execution": {
     "iopub.execute_input": "2023-08-30T03:49:23.322349Z",
     "iopub.status.busy": "2023-08-30T03:49:23.321988Z",
     "iopub.status.idle": "2023-08-30T03:49:23.344595Z",
     "shell.execute_reply": "2023-08-30T03:49:23.344114Z"
    },
    "papermill": {
     "duration": 0.034809,
     "end_time": "2023-08-30T03:49:23.345451",
     "exception": false,
     "start_time": "2023-08-30T03:49:23.310642",
     "status": "completed"
    },
    "tags": []
   },
   "outputs": [
    {
     "data": {
      "text/html": [
       "<div>\n",
       "<style scoped>\n",
       "    .dataframe tbody tr th:only-of-type {\n",
       "        vertical-align: middle;\n",
       "    }\n",
       "\n",
       "    .dataframe tbody tr th {\n",
       "        vertical-align: top;\n",
       "    }\n",
       "\n",
       "    .dataframe thead th {\n",
       "        text-align: right;\n",
       "    }\n",
       "</style>\n",
       "<table border=\"1\" class=\"dataframe\">\n",
       "  <thead>\n",
       "    <tr style=\"text-align: right;\">\n",
       "      <th></th>\n",
       "      <th>gene</th>\n",
       "      <th>gene_name</th>\n",
       "      <th>pvalue</th>\n",
       "      <th>n</th>\n",
       "      <th>n_indep</th>\n",
       "      <th>gene_id</th>\n",
       "    </tr>\n",
       "  </thead>\n",
       "  <tbody>\n",
       "    <tr>\n",
       "      <th>0</th>\n",
       "      <td>ENSG00000143333.6</td>\n",
       "      <td>RGS16</td>\n",
       "      <td>5.800109e-44</td>\n",
       "      <td>38.0</td>\n",
       "      <td>4.0</td>\n",
       "      <td>ENSG00000143333</td>\n",
       "    </tr>\n",
       "    <tr>\n",
       "      <th>1</th>\n",
       "      <td>ENSG00000170667.14</td>\n",
       "      <td>RASA4B</td>\n",
       "      <td>3.372056e-29</td>\n",
       "      <td>28.0</td>\n",
       "      <td>9.0</td>\n",
       "      <td>ENSG00000170667</td>\n",
       "    </tr>\n",
       "    <tr>\n",
       "      <th>2</th>\n",
       "      <td>ENSG00000105808.17</td>\n",
       "      <td>RASA4</td>\n",
       "      <td>1.485914e-27</td>\n",
       "      <td>29.0</td>\n",
       "      <td>7.0</td>\n",
       "      <td>ENSG00000105808</td>\n",
       "    </tr>\n",
       "    <tr>\n",
       "      <th>3</th>\n",
       "      <td>ENSG00000175548.8</td>\n",
       "      <td>ALG10B</td>\n",
       "      <td>1.259923e-26</td>\n",
       "      <td>47.0</td>\n",
       "      <td>5.0</td>\n",
       "      <td>ENSG00000175548</td>\n",
       "    </tr>\n",
       "    <tr>\n",
       "      <th>4</th>\n",
       "      <td>ENSG00000204104.11</td>\n",
       "      <td>TRAF3IP1</td>\n",
       "      <td>8.160990e-26</td>\n",
       "      <td>48.0</td>\n",
       "      <td>6.0</td>\n",
       "      <td>ENSG00000204104</td>\n",
       "    </tr>\n",
       "  </tbody>\n",
       "</table>\n",
       "</div>"
      ],
      "text/plain": [
       "                 gene gene_name        pvalue     n  n_indep          gene_id\n",
       "0   ENSG00000143333.6     RGS16  5.800109e-44  38.0      4.0  ENSG00000143333\n",
       "1  ENSG00000170667.14    RASA4B  3.372056e-29  28.0      9.0  ENSG00000170667\n",
       "2  ENSG00000105808.17     RASA4  1.485914e-27  29.0      7.0  ENSG00000105808\n",
       "3   ENSG00000175548.8    ALG10B  1.259923e-26  47.0      5.0  ENSG00000175548\n",
       "4  ENSG00000204104.11  TRAF3IP1  8.160990e-26  48.0      6.0  ENSG00000204104"
      ]
     },
     "execution_count": 36,
     "metadata": {},
     "output_type": "execute_result"
    }
   ],
   "source": [
    "smultixcan_results.head()"
   ]
  },
  {
   "cell_type": "code",
   "execution_count": 37,
   "id": "9c4c023c-86d6-4c4b-8d57-c2b6b93aaf84",
   "metadata": {
    "execution": {
     "iopub.execute_input": "2023-08-30T03:49:23.368064Z",
     "iopub.status.busy": "2023-08-30T03:49:23.367767Z",
     "iopub.status.idle": "2023-08-30T03:49:23.386343Z",
     "shell.execute_reply": "2023-08-30T03:49:23.385851Z"
    },
    "papermill": {
     "duration": 0.030756,
     "end_time": "2023-08-30T03:49:23.387288",
     "exception": false,
     "start_time": "2023-08-30T03:49:23.356532",
     "status": "completed"
    },
    "tags": []
   },
   "outputs": [],
   "source": [
    "assert smultixcan_results[\"gene_id\"].is_unique"
   ]
  },
  {
   "cell_type": "markdown",
   "id": "1f9939f1-4200-40d9-a8bf-8e4fd68bee48",
   "metadata": {
    "papermill": {
     "duration": 0.0107,
     "end_time": "2023-08-30T03:49:23.408724",
     "exception": false,
     "start_time": "2023-08-30T03:49:23.398024",
     "status": "completed"
    },
    "tags": []
   },
   "source": [
    "### Get common genes with MultiPLIER"
   ]
  },
  {
   "cell_type": "code",
   "execution_count": 38,
   "id": "c820e6cf-6350-45af-b49a-0abd94f570ff",
   "metadata": {
    "execution": {
     "iopub.execute_input": "2023-08-30T03:49:23.430753Z",
     "iopub.status.busy": "2023-08-30T03:49:23.430388Z",
     "iopub.status.idle": "2023-08-30T03:49:23.451180Z",
     "shell.execute_reply": "2023-08-30T03:49:23.450649Z"
    },
    "papermill": {
     "duration": 0.032808,
     "end_time": "2023-08-30T03:49:23.452115",
     "exception": false,
     "start_time": "2023-08-30T03:49:23.419307",
     "status": "completed"
    },
    "tags": []
   },
   "outputs": [],
   "source": [
    "common_genes = set(multiplier_z_genes).intersection(\n",
    "    set(smultixcan_results[\"gene_name\"])\n",
    ")"
   ]
  },
  {
   "cell_type": "code",
   "execution_count": 39,
   "id": "0a7328f9-96c7-4ac6-a9a6-ae4fa121a4cd",
   "metadata": {
    "execution": {
     "iopub.execute_input": "2023-08-30T03:49:23.474569Z",
     "iopub.status.busy": "2023-08-30T03:49:23.474213Z",
     "iopub.status.idle": "2023-08-30T03:49:23.490789Z",
     "shell.execute_reply": "2023-08-30T03:49:23.490308Z"
    },
    "papermill": {
     "duration": 0.028741,
     "end_time": "2023-08-30T03:49:23.491662",
     "exception": false,
     "start_time": "2023-08-30T03:49:23.462921",
     "status": "completed"
    },
    "tags": []
   },
   "outputs": [
    {
     "data": {
      "text/plain": [
       "6447"
      ]
     },
     "execution_count": 39,
     "metadata": {},
     "output_type": "execute_result"
    }
   ],
   "source": [
    "len(common_genes)"
   ]
  },
  {
   "cell_type": "code",
   "execution_count": 40,
   "id": "5b08d362-44c8-4db2-9258-670e2e2a9cc0",
   "metadata": {
    "execution": {
     "iopub.execute_input": "2023-08-30T03:49:23.513859Z",
     "iopub.status.busy": "2023-08-30T03:49:23.513569Z",
     "iopub.status.idle": "2023-08-30T03:49:23.531347Z",
     "shell.execute_reply": "2023-08-30T03:49:23.530867Z"
    },
    "papermill": {
     "duration": 0.029981,
     "end_time": "2023-08-30T03:49:23.532206",
     "exception": false,
     "start_time": "2023-08-30T03:49:23.502225",
     "status": "completed"
    },
    "tags": []
   },
   "outputs": [
    {
     "data": {
      "text/plain": [
       "['A2M', 'AAAS', 'AANAT', 'AARS', 'AARS2']"
      ]
     },
     "execution_count": 40,
     "metadata": {},
     "output_type": "execute_result"
    }
   ],
   "source": [
    "sorted(list(common_genes))[:5]"
   ]
  },
  {
   "cell_type": "markdown",
   "id": "7f51338b-8a75-42c3-a7e5-a0961cefb663",
   "metadata": {
    "papermill": {
     "duration": 0.010802,
     "end_time": "2023-08-30T03:49:23.553728",
     "exception": false,
     "start_time": "2023-08-30T03:49:23.542926",
     "status": "completed"
    },
    "tags": []
   },
   "source": [
    "## Genes info"
   ]
  },
  {
   "cell_type": "code",
   "execution_count": 41,
   "id": "bb932812",
   "metadata": {
    "execution": {
     "iopub.execute_input": "2023-08-30T03:49:23.576107Z",
     "iopub.status.busy": "2023-08-30T03:49:23.575755Z",
     "iopub.status.idle": "2023-08-30T03:49:24.608412Z",
     "shell.execute_reply": "2023-08-30T03:49:24.607902Z"
    },
    "papermill": {
     "duration": 1.045713,
     "end_time": "2023-08-30T03:49:24.610130",
     "exception": false,
     "start_time": "2023-08-30T03:49:23.564417",
     "status": "completed"
    },
    "tags": []
   },
   "outputs": [],
   "source": [
    "multiplier_gene_obj = {\n",
    "    gene_name: Gene(name=gene_name)\n",
    "    for gene_name in common_genes\n",
    "    if gene_name in Gene.GENE_NAME_TO_ID_MAP\n",
    "}"
   ]
  },
  {
   "cell_type": "code",
   "execution_count": 42,
   "id": "cb9d7a45-2b7d-4d10-80dc-212a625b5ae7",
   "metadata": {
    "execution": {
     "iopub.execute_input": "2023-08-30T03:49:24.652367Z",
     "iopub.status.busy": "2023-08-30T03:49:24.652256Z",
     "iopub.status.idle": "2023-08-30T03:49:24.662361Z",
     "shell.execute_reply": "2023-08-30T03:49:24.661931Z"
    },
    "papermill": {
     "duration": 0.032943,
     "end_time": "2023-08-30T03:49:24.663689",
     "exception": false,
     "start_time": "2023-08-30T03:49:24.630746",
     "status": "completed"
    },
    "tags": []
   },
   "outputs": [],
   "source": [
    "# delete common_genes, from now on, genes_info should be used for common genes\n",
    "del common_genes"
   ]
  },
  {
   "cell_type": "code",
   "execution_count": 43,
   "id": "39533214",
   "metadata": {
    "execution": {
     "iopub.execute_input": "2023-08-30T03:49:24.705076Z",
     "iopub.status.busy": "2023-08-30T03:49:24.704953Z",
     "iopub.status.idle": "2023-08-30T03:49:24.714574Z",
     "shell.execute_reply": "2023-08-30T03:49:24.714138Z"
    },
    "papermill": {
     "duration": 0.031925,
     "end_time": "2023-08-30T03:49:24.715894",
     "exception": false,
     "start_time": "2023-08-30T03:49:24.683969",
     "status": "completed"
    },
    "tags": []
   },
   "outputs": [
    {
     "data": {
      "text/plain": [
       "6447"
      ]
     },
     "execution_count": 43,
     "metadata": {},
     "output_type": "execute_result"
    }
   ],
   "source": [
    "len(multiplier_gene_obj)"
   ]
  },
  {
   "cell_type": "code",
   "execution_count": 44,
   "id": "9a5d0b84",
   "metadata": {
    "execution": {
     "iopub.execute_input": "2023-08-30T03:49:24.750789Z",
     "iopub.status.busy": "2023-08-30T03:49:24.750678Z",
     "iopub.status.idle": "2023-08-30T03:49:24.765165Z",
     "shell.execute_reply": "2023-08-30T03:49:24.764690Z"
    },
    "papermill": {
     "duration": 0.029533,
     "end_time": "2023-08-30T03:49:24.766090",
     "exception": false,
     "start_time": "2023-08-30T03:49:24.736557",
     "status": "completed"
    },
    "tags": []
   },
   "outputs": [],
   "source": [
    "assert multiplier_gene_obj[\"GAS6\"].ensembl_id == \"ENSG00000183087\""
   ]
  },
  {
   "cell_type": "code",
   "execution_count": 45,
   "id": "e3ffabc7",
   "metadata": {
    "execution": {
     "iopub.execute_input": "2023-08-30T03:49:24.789228Z",
     "iopub.status.busy": "2023-08-30T03:49:24.788845Z",
     "iopub.status.idle": "2023-08-30T03:49:26.708597Z",
     "shell.execute_reply": "2023-08-30T03:49:26.708096Z"
    },
    "papermill": {
     "duration": 1.93313,
     "end_time": "2023-08-30T03:49:26.710237",
     "exception": false,
     "start_time": "2023-08-30T03:49:24.777107",
     "status": "completed"
    },
    "tags": []
   },
   "outputs": [],
   "source": [
    "_gene_obj = list(multiplier_gene_obj.values())\n",
    "\n",
    "genes_info = pd.DataFrame(\n",
    "    {\n",
    "        \"name\": [g.name for g in _gene_obj],\n",
    "        \"id\": [g.ensembl_id for g in _gene_obj],\n",
    "        \"chr\": [g.chromosome for g in _gene_obj],\n",
    "        \"band\": [g.band for g in _gene_obj],\n",
    "        \"start_position\": [g.get_attribute(\"start_position\") for g in _gene_obj],\n",
    "        \"end_position\": [g.get_attribute(\"end_position\") for g in _gene_obj],\n",
    "    }\n",
    ")"
   ]
  },
  {
   "cell_type": "code",
   "execution_count": 46,
   "id": "00475e72-1cfc-485f-8b4e-1d9cce695f58",
   "metadata": {
    "execution": {
     "iopub.execute_input": "2023-08-30T03:49:26.753162Z",
     "iopub.status.busy": "2023-08-30T03:49:26.753036Z",
     "iopub.status.idle": "2023-08-30T03:49:26.795353Z",
     "shell.execute_reply": "2023-08-30T03:49:26.794893Z"
    },
    "papermill": {
     "duration": 0.065427,
     "end_time": "2023-08-30T03:49:26.796632",
     "exception": false,
     "start_time": "2023-08-30T03:49:26.731205",
     "status": "completed"
    },
    "tags": []
   },
   "outputs": [],
   "source": [
    "genes_info = genes_info.assign(\n",
    "    gene_length=genes_info.apply(\n",
    "        lambda x: x[\"end_position\"] - x[\"start_position\"], axis=1\n",
    "    )\n",
    ")"
   ]
  },
  {
   "cell_type": "code",
   "execution_count": 47,
   "id": "3af1a166-08a0-4333-bc09-b8bc762aa7ef",
   "metadata": {
    "execution": {
     "iopub.execute_input": "2023-08-30T03:49:26.838793Z",
     "iopub.status.busy": "2023-08-30T03:49:26.838644Z",
     "iopub.status.idle": "2023-08-30T03:49:26.849561Z",
     "shell.execute_reply": "2023-08-30T03:49:26.849132Z"
    },
    "papermill": {
     "duration": 0.033543,
     "end_time": "2023-08-30T03:49:26.850905",
     "exception": false,
     "start_time": "2023-08-30T03:49:26.817362",
     "status": "completed"
    },
    "tags": []
   },
   "outputs": [
    {
     "data": {
      "text/plain": [
       "name               object\n",
       "id                 object\n",
       "chr                object\n",
       "band               object\n",
       "start_position    float64\n",
       "end_position      float64\n",
       "gene_length       float64\n",
       "dtype: object"
      ]
     },
     "execution_count": 47,
     "metadata": {},
     "output_type": "execute_result"
    }
   ],
   "source": [
    "genes_info.dtypes"
   ]
  },
  {
   "cell_type": "code",
   "execution_count": 48,
   "id": "08a23f6f-87f6-4072-88c8-010b90a411cd",
   "metadata": {
    "execution": {
     "iopub.execute_input": "2023-08-30T03:49:26.892123Z",
     "iopub.status.busy": "2023-08-30T03:49:26.891946Z",
     "iopub.status.idle": "2023-08-30T03:49:26.913319Z",
     "shell.execute_reply": "2023-08-30T03:49:26.912857Z"
    },
    "papermill": {
     "duration": 0.042622,
     "end_time": "2023-08-30T03:49:26.914172",
     "exception": false,
     "start_time": "2023-08-30T03:49:26.871550",
     "status": "completed"
    },
    "tags": []
   },
   "outputs": [
    {
     "data": {
      "text/html": [
       "<div>\n",
       "<style scoped>\n",
       "    .dataframe tbody tr th:only-of-type {\n",
       "        vertical-align: middle;\n",
       "    }\n",
       "\n",
       "    .dataframe tbody tr th {\n",
       "        vertical-align: top;\n",
       "    }\n",
       "\n",
       "    .dataframe thead th {\n",
       "        text-align: right;\n",
       "    }\n",
       "</style>\n",
       "<table border=\"1\" class=\"dataframe\">\n",
       "  <thead>\n",
       "    <tr style=\"text-align: right;\">\n",
       "      <th></th>\n",
       "      <th>name</th>\n",
       "      <th>id</th>\n",
       "      <th>chr</th>\n",
       "      <th>band</th>\n",
       "      <th>start_position</th>\n",
       "      <th>end_position</th>\n",
       "      <th>gene_length</th>\n",
       "    </tr>\n",
       "  </thead>\n",
       "  <tbody>\n",
       "    <tr>\n",
       "      <th>1041</th>\n",
       "      <td>TBCE</td>\n",
       "      <td>ENSG00000116957</td>\n",
       "      <td>None</td>\n",
       "      <td>None</td>\n",
       "      <td>NaN</td>\n",
       "      <td>NaN</td>\n",
       "      <td>NaN</td>\n",
       "    </tr>\n",
       "    <tr>\n",
       "      <th>3460</th>\n",
       "      <td>TMEM133</td>\n",
       "      <td>ENSG00000170647</td>\n",
       "      <td>None</td>\n",
       "      <td>None</td>\n",
       "      <td>NaN</td>\n",
       "      <td>NaN</td>\n",
       "      <td>NaN</td>\n",
       "    </tr>\n",
       "  </tbody>\n",
       "</table>\n",
       "</div>"
      ],
      "text/plain": [
       "         name               id   chr  band  start_position  end_position  \\\n",
       "1041     TBCE  ENSG00000116957  None  None             NaN           NaN   \n",
       "3460  TMEM133  ENSG00000170647  None  None             NaN           NaN   \n",
       "\n",
       "      gene_length  \n",
       "1041          NaN  \n",
       "3460          NaN  "
      ]
     },
     "metadata": {},
     "output_type": "display_data"
    }
   ],
   "source": [
    "_tmp = genes_info[genes_info.isna().any(axis=1)]\n",
    "display(_tmp)\n",
    "assert _tmp.shape[0] < 5"
   ]
  },
  {
   "cell_type": "code",
   "execution_count": 49,
   "id": "87c010f0-8ad9-4bf0-b12d-02f37a93853a",
   "metadata": {
    "execution": {
     "iopub.execute_input": "2023-08-30T03:49:26.936963Z",
     "iopub.status.busy": "2023-08-30T03:49:26.936746Z",
     "iopub.status.idle": "2023-08-30T03:49:26.953796Z",
     "shell.execute_reply": "2023-08-30T03:49:26.953329Z"
    },
    "papermill": {
     "duration": 0.029581,
     "end_time": "2023-08-30T03:49:26.954714",
     "exception": false,
     "start_time": "2023-08-30T03:49:26.925133",
     "status": "completed"
    },
    "tags": []
   },
   "outputs": [],
   "source": [
    "genes_info = genes_info.dropna()"
   ]
  },
  {
   "cell_type": "code",
   "execution_count": 50,
   "id": "61833f43-3a92-47e9-bca3-e05b6673c7d9",
   "metadata": {
    "execution": {
     "iopub.execute_input": "2023-08-30T03:49:26.977682Z",
     "iopub.status.busy": "2023-08-30T03:49:26.977467Z",
     "iopub.status.idle": "2023-08-30T03:49:27.379535Z",
     "shell.execute_reply": "2023-08-30T03:49:27.379065Z"
    },
    "papermill": {
     "duration": 0.415237,
     "end_time": "2023-08-30T03:49:27.380937",
     "exception": false,
     "start_time": "2023-08-30T03:49:26.965700",
     "status": "completed"
    },
    "tags": []
   },
   "outputs": [],
   "source": [
    "genes_info[\"chr\"] = genes_info[\"chr\"].apply(pd.to_numeric, downcast=\"integer\")\n",
    "genes_info[\"start_position\"] = genes_info[\"start_position\"].astype(int)\n",
    "genes_info[\"end_position\"] = genes_info[\"end_position\"].astype(int)\n",
    "genes_info[\"gene_length\"] = genes_info[\"gene_length\"].astype(int)"
   ]
  },
  {
   "cell_type": "code",
   "execution_count": 51,
   "id": "e4b9ae23-3edb-41a4-97aa-80cc7db6d393",
   "metadata": {
    "execution": {
     "iopub.execute_input": "2023-08-30T03:49:27.423968Z",
     "iopub.status.busy": "2023-08-30T03:49:27.423839Z",
     "iopub.status.idle": "2023-08-30T03:49:27.434651Z",
     "shell.execute_reply": "2023-08-30T03:49:27.434226Z"
    },
    "papermill": {
     "duration": 0.033399,
     "end_time": "2023-08-30T03:49:27.435901",
     "exception": false,
     "start_time": "2023-08-30T03:49:27.402502",
     "status": "completed"
    },
    "tags": []
   },
   "outputs": [
    {
     "data": {
      "text/plain": [
       "name              object\n",
       "id                object\n",
       "chr                 int8\n",
       "band              object\n",
       "start_position     int64\n",
       "end_position       int64\n",
       "gene_length        int64\n",
       "dtype: object"
      ]
     },
     "execution_count": 51,
     "metadata": {},
     "output_type": "execute_result"
    }
   ],
   "source": [
    "genes_info.dtypes"
   ]
  },
  {
   "cell_type": "code",
   "execution_count": 52,
   "id": "09d6320a-b1c4-4200-a23e-184bc4be69c7",
   "metadata": {
    "execution": {
     "iopub.execute_input": "2023-08-30T03:49:27.478667Z",
     "iopub.status.busy": "2023-08-30T03:49:27.478549Z",
     "iopub.status.idle": "2023-08-30T03:49:27.487939Z",
     "shell.execute_reply": "2023-08-30T03:49:27.487585Z"
    },
    "papermill": {
     "duration": 0.031879,
     "end_time": "2023-08-30T03:49:27.488844",
     "exception": false,
     "start_time": "2023-08-30T03:49:27.456965",
     "status": "completed"
    },
    "tags": []
   },
   "outputs": [],
   "source": [
    "assert genes_info[\"name\"].is_unique"
   ]
  },
  {
   "cell_type": "code",
   "execution_count": 53,
   "id": "009d11e4-f8cb-4a81-823d-c7f10b906d3b",
   "metadata": {
    "execution": {
     "iopub.execute_input": "2023-08-30T03:49:27.533971Z",
     "iopub.status.busy": "2023-08-30T03:49:27.533849Z",
     "iopub.status.idle": "2023-08-30T03:49:27.550041Z",
     "shell.execute_reply": "2023-08-30T03:49:27.549489Z"
    },
    "papermill": {
     "duration": 0.028997,
     "end_time": "2023-08-30T03:49:27.550970",
     "exception": false,
     "start_time": "2023-08-30T03:49:27.521973",
     "status": "completed"
    },
    "tags": []
   },
   "outputs": [],
   "source": [
    "assert genes_info[\"id\"].is_unique"
   ]
  },
  {
   "cell_type": "code",
   "execution_count": 54,
   "id": "e23519b8",
   "metadata": {
    "execution": {
     "iopub.execute_input": "2023-08-30T03:49:27.574407Z",
     "iopub.status.busy": "2023-08-30T03:49:27.573987Z",
     "iopub.status.idle": "2023-08-30T03:49:27.590201Z",
     "shell.execute_reply": "2023-08-30T03:49:27.589685Z"
    },
    "papermill": {
     "duration": 0.028872,
     "end_time": "2023-08-30T03:49:27.591083",
     "exception": false,
     "start_time": "2023-08-30T03:49:27.562211",
     "status": "completed"
    },
    "tags": []
   },
   "outputs": [
    {
     "data": {
      "text/plain": [
       "(6445, 7)"
      ]
     },
     "execution_count": 54,
     "metadata": {},
     "output_type": "execute_result"
    }
   ],
   "source": [
    "genes_info.shape"
   ]
  },
  {
   "cell_type": "code",
   "execution_count": 55,
   "id": "0d71881c",
   "metadata": {
    "execution": {
     "iopub.execute_input": "2023-08-30T03:49:27.614877Z",
     "iopub.status.busy": "2023-08-30T03:49:27.614470Z",
     "iopub.status.idle": "2023-08-30T03:49:27.634580Z",
     "shell.execute_reply": "2023-08-30T03:49:27.634092Z"
    },
    "papermill": {
     "duration": 0.032886,
     "end_time": "2023-08-30T03:49:27.635416",
     "exception": false,
     "start_time": "2023-08-30T03:49:27.602530",
     "status": "completed"
    },
    "tags": []
   },
   "outputs": [
    {
     "data": {
      "text/html": [
       "<div>\n",
       "<style scoped>\n",
       "    .dataframe tbody tr th:only-of-type {\n",
       "        vertical-align: middle;\n",
       "    }\n",
       "\n",
       "    .dataframe tbody tr th {\n",
       "        vertical-align: top;\n",
       "    }\n",
       "\n",
       "    .dataframe thead th {\n",
       "        text-align: right;\n",
       "    }\n",
       "</style>\n",
       "<table border=\"1\" class=\"dataframe\">\n",
       "  <thead>\n",
       "    <tr style=\"text-align: right;\">\n",
       "      <th></th>\n",
       "      <th>name</th>\n",
       "      <th>id</th>\n",
       "      <th>chr</th>\n",
       "      <th>band</th>\n",
       "      <th>start_position</th>\n",
       "      <th>end_position</th>\n",
       "      <th>gene_length</th>\n",
       "    </tr>\n",
       "  </thead>\n",
       "  <tbody>\n",
       "    <tr>\n",
       "      <th>0</th>\n",
       "      <td>DUT</td>\n",
       "      <td>ENSG00000128951</td>\n",
       "      <td>15</td>\n",
       "      <td>15q21.1</td>\n",
       "      <td>48331011</td>\n",
       "      <td>48343373</td>\n",
       "      <td>12362</td>\n",
       "    </tr>\n",
       "    <tr>\n",
       "      <th>1</th>\n",
       "      <td>NDUFA4</td>\n",
       "      <td>ENSG00000189043</td>\n",
       "      <td>7</td>\n",
       "      <td>7p21.3</td>\n",
       "      <td>10931943</td>\n",
       "      <td>10940153</td>\n",
       "      <td>8210</td>\n",
       "    </tr>\n",
       "    <tr>\n",
       "      <th>2</th>\n",
       "      <td>EPHB3</td>\n",
       "      <td>ENSG00000182580</td>\n",
       "      <td>3</td>\n",
       "      <td>3q27.1</td>\n",
       "      <td>184561785</td>\n",
       "      <td>184582408</td>\n",
       "      <td>20623</td>\n",
       "    </tr>\n",
       "    <tr>\n",
       "      <th>3</th>\n",
       "      <td>MYLK</td>\n",
       "      <td>ENSG00000065534</td>\n",
       "      <td>3</td>\n",
       "      <td>3q21.1</td>\n",
       "      <td>123610049</td>\n",
       "      <td>123884331</td>\n",
       "      <td>274282</td>\n",
       "    </tr>\n",
       "    <tr>\n",
       "      <th>4</th>\n",
       "      <td>SMPD4</td>\n",
       "      <td>ENSG00000136699</td>\n",
       "      <td>2</td>\n",
       "      <td>2q21.1</td>\n",
       "      <td>130151392</td>\n",
       "      <td>130182750</td>\n",
       "      <td>31358</td>\n",
       "    </tr>\n",
       "  </tbody>\n",
       "</table>\n",
       "</div>"
      ],
      "text/plain": [
       "     name               id  chr     band  start_position  end_position  \\\n",
       "0     DUT  ENSG00000128951   15  15q21.1        48331011      48343373   \n",
       "1  NDUFA4  ENSG00000189043    7   7p21.3        10931943      10940153   \n",
       "2   EPHB3  ENSG00000182580    3   3q27.1       184561785     184582408   \n",
       "3    MYLK  ENSG00000065534    3   3q21.1       123610049     123884331   \n",
       "4   SMPD4  ENSG00000136699    2   2q21.1       130151392     130182750   \n",
       "\n",
       "   gene_length  \n",
       "0        12362  \n",
       "1         8210  \n",
       "2        20623  \n",
       "3       274282  \n",
       "4        31358  "
      ]
     },
     "execution_count": 55,
     "metadata": {},
     "output_type": "execute_result"
    }
   ],
   "source": [
    "genes_info.head()"
   ]
  },
  {
   "cell_type": "code",
   "execution_count": 56,
   "id": "eb968287-d9cf-40f6-a93e-6b322b844404",
   "metadata": {
    "execution": {
     "iopub.execute_input": "2023-08-30T03:49:27.658993Z",
     "iopub.status.busy": "2023-08-30T03:49:27.658678Z",
     "iopub.status.idle": "2023-08-30T03:49:27.682828Z",
     "shell.execute_reply": "2023-08-30T03:49:27.682313Z"
    },
    "papermill": {
     "duration": 0.036878,
     "end_time": "2023-08-30T03:49:27.683691",
     "exception": false,
     "start_time": "2023-08-30T03:49:27.646813",
     "status": "completed"
    },
    "tags": []
   },
   "outputs": [
    {
     "data": {
      "text/html": [
       "<div>\n",
       "<style scoped>\n",
       "    .dataframe tbody tr th:only-of-type {\n",
       "        vertical-align: middle;\n",
       "    }\n",
       "\n",
       "    .dataframe tbody tr th {\n",
       "        vertical-align: top;\n",
       "    }\n",
       "\n",
       "    .dataframe thead th {\n",
       "        text-align: right;\n",
       "    }\n",
       "</style>\n",
       "<table border=\"1\" class=\"dataframe\">\n",
       "  <thead>\n",
       "    <tr style=\"text-align: right;\">\n",
       "      <th></th>\n",
       "      <th>name</th>\n",
       "      <th>id</th>\n",
       "      <th>chr</th>\n",
       "      <th>band</th>\n",
       "      <th>start_position</th>\n",
       "      <th>end_position</th>\n",
       "      <th>gene_length</th>\n",
       "    </tr>\n",
       "  </thead>\n",
       "  <tbody>\n",
       "    <tr>\n",
       "      <th>3223</th>\n",
       "      <td>PPM1J</td>\n",
       "      <td>ENSG00000155367</td>\n",
       "      <td>1</td>\n",
       "      <td>1p13.2</td>\n",
       "      <td>112709994</td>\n",
       "      <td>112715477</td>\n",
       "      <td>5483</td>\n",
       "    </tr>\n",
       "    <tr>\n",
       "      <th>5053</th>\n",
       "      <td>SH2D1B</td>\n",
       "      <td>ENSG00000198574</td>\n",
       "      <td>1</td>\n",
       "      <td>1q23.3</td>\n",
       "      <td>162395268</td>\n",
       "      <td>162412138</td>\n",
       "      <td>16870</td>\n",
       "    </tr>\n",
       "    <tr>\n",
       "      <th>1070</th>\n",
       "      <td>TNFRSF18</td>\n",
       "      <td>ENSG00000186891</td>\n",
       "      <td>1</td>\n",
       "      <td>1p36.33</td>\n",
       "      <td>1203508</td>\n",
       "      <td>1206592</td>\n",
       "      <td>3084</td>\n",
       "    </tr>\n",
       "    <tr>\n",
       "      <th>1069</th>\n",
       "      <td>MTOR</td>\n",
       "      <td>ENSG00000198793</td>\n",
       "      <td>1</td>\n",
       "      <td>1p36.22</td>\n",
       "      <td>11106535</td>\n",
       "      <td>11262507</td>\n",
       "      <td>155972</td>\n",
       "    </tr>\n",
       "    <tr>\n",
       "      <th>3344</th>\n",
       "      <td>EVI5</td>\n",
       "      <td>ENSG00000067208</td>\n",
       "      <td>1</td>\n",
       "      <td>1p22.1</td>\n",
       "      <td>92508696</td>\n",
       "      <td>92792404</td>\n",
       "      <td>283708</td>\n",
       "    </tr>\n",
       "    <tr>\n",
       "      <th>...</th>\n",
       "      <td>...</td>\n",
       "      <td>...</td>\n",
       "      <td>...</td>\n",
       "      <td>...</td>\n",
       "      <td>...</td>\n",
       "      <td>...</td>\n",
       "      <td>...</td>\n",
       "    </tr>\n",
       "    <tr>\n",
       "      <th>5381</th>\n",
       "      <td>CHKB</td>\n",
       "      <td>ENSG00000100288</td>\n",
       "      <td>22</td>\n",
       "      <td>22q13.33</td>\n",
       "      <td>50578949</td>\n",
       "      <td>50601455</td>\n",
       "      <td>22506</td>\n",
       "    </tr>\n",
       "    <tr>\n",
       "      <th>455</th>\n",
       "      <td>SEZ6L</td>\n",
       "      <td>ENSG00000100095</td>\n",
       "      <td>22</td>\n",
       "      <td>22q12.1</td>\n",
       "      <td>26169462</td>\n",
       "      <td>26383597</td>\n",
       "      <td>214135</td>\n",
       "    </tr>\n",
       "    <tr>\n",
       "      <th>3884</th>\n",
       "      <td>TNRC6B</td>\n",
       "      <td>ENSG00000100354</td>\n",
       "      <td>22</td>\n",
       "      <td>22q13.1</td>\n",
       "      <td>40044817</td>\n",
       "      <td>40335808</td>\n",
       "      <td>290991</td>\n",
       "    </tr>\n",
       "    <tr>\n",
       "      <th>1219</th>\n",
       "      <td>COMT</td>\n",
       "      <td>ENSG00000093010</td>\n",
       "      <td>22</td>\n",
       "      <td>22q11.21</td>\n",
       "      <td>19941607</td>\n",
       "      <td>19969975</td>\n",
       "      <td>28368</td>\n",
       "    </tr>\n",
       "    <tr>\n",
       "      <th>2529</th>\n",
       "      <td>RANBP1</td>\n",
       "      <td>ENSG00000099901</td>\n",
       "      <td>22</td>\n",
       "      <td>22q11.21</td>\n",
       "      <td>20115938</td>\n",
       "      <td>20127355</td>\n",
       "      <td>11417</td>\n",
       "    </tr>\n",
       "  </tbody>\n",
       "</table>\n",
       "<p>6445 rows × 7 columns</p>\n",
       "</div>"
      ],
      "text/plain": [
       "          name               id  chr      band  start_position  end_position  \\\n",
       "3223     PPM1J  ENSG00000155367    1    1p13.2       112709994     112715477   \n",
       "5053    SH2D1B  ENSG00000198574    1    1q23.3       162395268     162412138   \n",
       "1070  TNFRSF18  ENSG00000186891    1   1p36.33         1203508       1206592   \n",
       "1069      MTOR  ENSG00000198793    1   1p36.22        11106535      11262507   \n",
       "3344      EVI5  ENSG00000067208    1    1p22.1        92508696      92792404   \n",
       "...        ...              ...  ...       ...             ...           ...   \n",
       "5381      CHKB  ENSG00000100288   22  22q13.33        50578949      50601455   \n",
       "455      SEZ6L  ENSG00000100095   22   22q12.1        26169462      26383597   \n",
       "3884    TNRC6B  ENSG00000100354   22   22q13.1        40044817      40335808   \n",
       "1219      COMT  ENSG00000093010   22  22q11.21        19941607      19969975   \n",
       "2529    RANBP1  ENSG00000099901   22  22q11.21        20115938      20127355   \n",
       "\n",
       "      gene_length  \n",
       "3223         5483  \n",
       "5053        16870  \n",
       "1070         3084  \n",
       "1069       155972  \n",
       "3344       283708  \n",
       "...           ...  \n",
       "5381        22506  \n",
       "455        214135  \n",
       "3884       290991  \n",
       "1219        28368  \n",
       "2529        11417  \n",
       "\n",
       "[6445 rows x 7 columns]"
      ]
     },
     "execution_count": 56,
     "metadata": {},
     "output_type": "execute_result"
    }
   ],
   "source": [
    "genes_info.sort_values(\"chr\")"
   ]
  },
  {
   "cell_type": "markdown",
   "id": "7282b84d-f4f3-4e8c-9dd8-6319505ed4b5",
   "metadata": {
    "papermill": {
     "duration": 0.011665,
     "end_time": "2023-08-30T03:49:27.706969",
     "exception": false,
     "start_time": "2023-08-30T03:49:27.695304",
     "status": "completed"
    },
    "tags": []
   },
   "source": [
    "### Save"
   ]
  },
  {
   "cell_type": "code",
   "execution_count": 57,
   "id": "32cf6566-03bb-4a85-81e1-da46fc9f37ad",
   "metadata": {
    "execution": {
     "iopub.execute_input": "2023-08-30T03:49:27.730971Z",
     "iopub.status.busy": "2023-08-30T03:49:27.730587Z",
     "iopub.status.idle": "2023-08-30T03:49:27.749692Z",
     "shell.execute_reply": "2023-08-30T03:49:27.749187Z"
    },
    "papermill": {
     "duration": 0.032257,
     "end_time": "2023-08-30T03:49:27.750698",
     "exception": false,
     "start_time": "2023-08-30T03:49:27.718441",
     "status": "completed"
    },
    "tags": []
   },
   "outputs": [],
   "source": [
    "genes_info.to_pickle(OUTPUT_DIR_BASE / \"genes_info.pkl\")"
   ]
  },
  {
   "cell_type": "markdown",
   "id": "5b9f384a-5a91-4a8d-9007-cfe43f2d86f8",
   "metadata": {
    "papermill": {
     "duration": 0.01163,
     "end_time": "2023-08-30T03:49:27.774099",
     "exception": false,
     "start_time": "2023-08-30T03:49:27.762469",
     "status": "completed"
    },
    "tags": []
   },
   "source": [
    "## S-PrediXcan results"
   ]
  },
  {
   "cell_type": "markdown",
   "id": "fc0a2a4c-960c-4a0a-9b23-b66c3d5d6e07",
   "metadata": {
    "papermill": {
     "duration": 0.01157,
     "end_time": "2023-08-30T03:49:27.797265",
     "exception": false,
     "start_time": "2023-08-30T03:49:27.785695",
     "status": "completed"
    },
    "tags": []
   },
   "source": [
    "### Load results across all tissues"
   ]
  },
  {
   "cell_type": "code",
   "execution_count": 58,
   "id": "0b4867d7-a608-4b08-9d77-1782be3a0c94",
   "metadata": {
    "execution": {
     "iopub.execute_input": "2023-08-30T03:49:27.821541Z",
     "iopub.status.busy": "2023-08-30T03:49:27.821173Z",
     "iopub.status.idle": "2023-08-30T03:49:27.837137Z",
     "shell.execute_reply": "2023-08-30T03:49:27.836654Z"
    },
    "papermill": {
     "duration": 0.029211,
     "end_time": "2023-08-30T03:49:27.838134",
     "exception": false,
     "start_time": "2023-08-30T03:49:27.808923",
     "status": "completed"
    },
    "tags": []
   },
   "outputs": [],
   "source": [
    "spredixcan_result_files = {\n",
    "    t: SPREDIXCAN_FOLDER / SPREDIXCAN_FILE_PATTERN.format(tissue=t)\n",
    "    for t in prediction_model_tissues\n",
    "}"
   ]
  },
  {
   "cell_type": "code",
   "execution_count": 59,
   "id": "0ce270dd-46ac-4eaa-9d86-2b201d67d82f",
   "metadata": {
    "execution": {
     "iopub.execute_input": "2023-08-30T03:49:27.862123Z",
     "iopub.status.busy": "2023-08-30T03:49:27.861836Z",
     "iopub.status.idle": "2023-08-30T03:49:27.877938Z",
     "shell.execute_reply": "2023-08-30T03:49:27.877465Z"
    },
    "papermill": {
     "duration": 0.029133,
     "end_time": "2023-08-30T03:49:27.878766",
     "exception": false,
     "start_time": "2023-08-30T03:49:27.849633",
     "status": "completed"
    },
    "tags": []
   },
   "outputs": [
    {
     "data": {
      "text/plain": [
       "[PosixPath('/opt/data/projects/chronotype/results/twas/spredixcan/chronotype_raw_BOLT.output_HRC.only_plus.metrics_maf0.001_hwep1em12_info0.3.txt-gtex_v8-mashr-Thyroid.csv'),\n",
       " PosixPath('/opt/data/projects/chronotype/results/twas/spredixcan/chronotype_raw_BOLT.output_HRC.only_plus.metrics_maf0.001_hwep1em12_info0.3.txt-gtex_v8-mashr-Artery_Aorta.csv'),\n",
       " PosixPath('/opt/data/projects/chronotype/results/twas/spredixcan/chronotype_raw_BOLT.output_HRC.only_plus.metrics_maf0.001_hwep1em12_info0.3.txt-gtex_v8-mashr-Heart_Atrial_Appendage.csv'),\n",
       " PosixPath('/opt/data/projects/chronotype/results/twas/spredixcan/chronotype_raw_BOLT.output_HRC.only_plus.metrics_maf0.001_hwep1em12_info0.3.txt-gtex_v8-mashr-Liver.csv'),\n",
       " PosixPath('/opt/data/projects/chronotype/results/twas/spredixcan/chronotype_raw_BOLT.output_HRC.only_plus.metrics_maf0.001_hwep1em12_info0.3.txt-gtex_v8-mashr-Heart_Left_Ventricle.csv')]"
      ]
     },
     "metadata": {},
     "output_type": "display_data"
    }
   ],
   "source": [
    "assert len(spredixcan_result_files) == len(prediction_model_tissues)\n",
    "display(list(spredixcan_result_files.values())[:5])"
   ]
  },
  {
   "cell_type": "code",
   "execution_count": 60,
   "id": "aa140259-303e-4912-b2bf-e7adce662f88",
   "metadata": {
    "execution": {
     "iopub.execute_input": "2023-08-30T03:49:27.903121Z",
     "iopub.status.busy": "2023-08-30T03:49:27.902827Z",
     "iopub.status.idle": "2023-08-30T03:49:27.950855Z",
     "shell.execute_reply": "2023-08-30T03:49:27.950331Z"
    },
    "papermill": {
     "duration": 0.06119,
     "end_time": "2023-08-30T03:49:27.951720",
     "exception": false,
     "start_time": "2023-08-30T03:49:27.890530",
     "status": "completed"
    },
    "tags": []
   },
   "outputs": [
    {
     "data": {
      "text/html": [
       "<div>\n",
       "<style scoped>\n",
       "    .dataframe tbody tr th:only-of-type {\n",
       "        vertical-align: middle;\n",
       "    }\n",
       "\n",
       "    .dataframe tbody tr th {\n",
       "        vertical-align: top;\n",
       "    }\n",
       "\n",
       "    .dataframe thead th {\n",
       "        text-align: right;\n",
       "    }\n",
       "</style>\n",
       "<table border=\"1\" class=\"dataframe\">\n",
       "  <thead>\n",
       "    <tr style=\"text-align: right;\">\n",
       "      <th></th>\n",
       "      <th>gene</th>\n",
       "      <th>gene_name</th>\n",
       "      <th>zscore</th>\n",
       "      <th>effect_size</th>\n",
       "      <th>pvalue</th>\n",
       "      <th>var_g</th>\n",
       "      <th>pred_perf_r2</th>\n",
       "      <th>pred_perf_pval</th>\n",
       "      <th>pred_perf_qval</th>\n",
       "      <th>n_snps_used</th>\n",
       "      <th>n_snps_in_cov</th>\n",
       "      <th>n_snps_in_model</th>\n",
       "      <th>best_gwas_p</th>\n",
       "      <th>largest_weight</th>\n",
       "    </tr>\n",
       "  </thead>\n",
       "  <tbody>\n",
       "    <tr>\n",
       "      <th>0</th>\n",
       "      <td>ENSG00000049245.12</td>\n",
       "      <td>VAMP3</td>\n",
       "      <td>10.924968</td>\n",
       "      <td>NaN</td>\n",
       "      <td>8.757088e-28</td>\n",
       "      <td>0.039270</td>\n",
       "      <td>NaN</td>\n",
       "      <td>NaN</td>\n",
       "      <td>NaN</td>\n",
       "      <td>4</td>\n",
       "      <td>5</td>\n",
       "      <td>5</td>\n",
       "      <td>1.099995e-21</td>\n",
       "      <td>0.198363</td>\n",
       "    </tr>\n",
       "    <tr>\n",
       "      <th>1</th>\n",
       "      <td>ENSG00000175548.8</td>\n",
       "      <td>ALG10B</td>\n",
       "      <td>10.319145</td>\n",
       "      <td>NaN</td>\n",
       "      <td>5.773512e-25</td>\n",
       "      <td>0.027215</td>\n",
       "      <td>NaN</td>\n",
       "      <td>NaN</td>\n",
       "      <td>NaN</td>\n",
       "      <td>2</td>\n",
       "      <td>3</td>\n",
       "      <td>3</td>\n",
       "      <td>1.200001e-24</td>\n",
       "      <td>0.132345</td>\n",
       "    </tr>\n",
       "    <tr>\n",
       "      <th>2</th>\n",
       "      <td>ENSG00000102805.14</td>\n",
       "      <td>CLN5</td>\n",
       "      <td>-9.549758</td>\n",
       "      <td>NaN</td>\n",
       "      <td>1.299997e-21</td>\n",
       "      <td>0.000001</td>\n",
       "      <td>NaN</td>\n",
       "      <td>NaN</td>\n",
       "      <td>NaN</td>\n",
       "      <td>1</td>\n",
       "      <td>2</td>\n",
       "      <td>2</td>\n",
       "      <td>1.299997e-21</td>\n",
       "      <td>0.004723</td>\n",
       "    </tr>\n",
       "    <tr>\n",
       "      <th>3</th>\n",
       "      <td>ENSG00000204104.11</td>\n",
       "      <td>TRAF3IP1</td>\n",
       "      <td>-9.483733</td>\n",
       "      <td>NaN</td>\n",
       "      <td>2.453452e-21</td>\n",
       "      <td>0.001201</td>\n",
       "      <td>NaN</td>\n",
       "      <td>NaN</td>\n",
       "      <td>NaN</td>\n",
       "      <td>2</td>\n",
       "      <td>2</td>\n",
       "      <td>2</td>\n",
       "      <td>8.199969e-30</td>\n",
       "      <td>0.080102</td>\n",
       "    </tr>\n",
       "    <tr>\n",
       "      <th>4</th>\n",
       "      <td>ENSG00000163125.15</td>\n",
       "      <td>RPRD2</td>\n",
       "      <td>-8.835110</td>\n",
       "      <td>NaN</td>\n",
       "      <td>1.000001e-18</td>\n",
       "      <td>0.004371</td>\n",
       "      <td>NaN</td>\n",
       "      <td>NaN</td>\n",
       "      <td>NaN</td>\n",
       "      <td>1</td>\n",
       "      <td>2</td>\n",
       "      <td>2</td>\n",
       "      <td>1.000001e-18</td>\n",
       "      <td>0.096367</td>\n",
       "    </tr>\n",
       "  </tbody>\n",
       "</table>\n",
       "</div>"
      ],
      "text/plain": [
       "                 gene gene_name     zscore  effect_size        pvalue  \\\n",
       "0  ENSG00000049245.12     VAMP3  10.924968          NaN  8.757088e-28   \n",
       "1   ENSG00000175548.8    ALG10B  10.319145          NaN  5.773512e-25   \n",
       "2  ENSG00000102805.14      CLN5  -9.549758          NaN  1.299997e-21   \n",
       "3  ENSG00000204104.11  TRAF3IP1  -9.483733          NaN  2.453452e-21   \n",
       "4  ENSG00000163125.15     RPRD2  -8.835110          NaN  1.000001e-18   \n",
       "\n",
       "      var_g  pred_perf_r2  pred_perf_pval  pred_perf_qval  n_snps_used  \\\n",
       "0  0.039270           NaN             NaN             NaN            4   \n",
       "1  0.027215           NaN             NaN             NaN            2   \n",
       "2  0.000001           NaN             NaN             NaN            1   \n",
       "3  0.001201           NaN             NaN             NaN            2   \n",
       "4  0.004371           NaN             NaN             NaN            1   \n",
       "\n",
       "   n_snps_in_cov  n_snps_in_model   best_gwas_p  largest_weight  \n",
       "0              5                5  1.099995e-21        0.198363  \n",
       "1              3                3  1.200001e-24        0.132345  \n",
       "2              2                2  1.299997e-21        0.004723  \n",
       "3              2                2  8.199969e-30        0.080102  \n",
       "4              2                2  1.000001e-18        0.096367  "
      ]
     },
     "execution_count": 60,
     "metadata": {},
     "output_type": "execute_result"
    }
   ],
   "source": [
    "# look at the structure of one result\n",
    "pd.read_csv(spredixcan_result_files[\"Whole_Blood\"]).head()"
   ]
  },
  {
   "cell_type": "code",
   "execution_count": 61,
   "id": "4381b9ff-6ab5-47f1-89d1-560f88fdf07f",
   "metadata": {
    "execution": {
     "iopub.execute_input": "2023-08-30T03:49:27.980078Z",
     "iopub.status.busy": "2023-08-30T03:49:27.979470Z",
     "iopub.status.idle": "2023-08-30T03:49:27.999587Z",
     "shell.execute_reply": "2023-08-30T03:49:27.999043Z"
    },
    "papermill": {
     "duration": 0.035289,
     "end_time": "2023-08-30T03:49:28.000518",
     "exception": false,
     "start_time": "2023-08-30T03:49:27.965229",
     "status": "completed"
    },
    "tags": []
   },
   "outputs": [],
   "source": [
    "assert all(f.exists() for f in spredixcan_result_files.values())"
   ]
  },
  {
   "cell_type": "code",
   "execution_count": 62,
   "id": "d477157f-51e9-4c7c-b826-7ab5f4fdf3e3",
   "metadata": {
    "execution": {
     "iopub.execute_input": "2023-08-30T03:49:28.025812Z",
     "iopub.status.busy": "2023-08-30T03:49:28.025418Z",
     "iopub.status.idle": "2023-08-30T03:49:28.695440Z",
     "shell.execute_reply": "2023-08-30T03:49:28.695007Z"
    },
    "papermill": {
     "duration": 0.684575,
     "end_time": "2023-08-30T03:49:28.697197",
     "exception": false,
     "start_time": "2023-08-30T03:49:28.012622",
     "status": "completed"
    },
    "tags": []
   },
   "outputs": [],
   "source": [
    "spredixcan_dfs = [\n",
    "    pd.read_csv(\n",
    "        f,\n",
    "        usecols=[\n",
    "            \"gene\",\n",
    "            \"zscore\",\n",
    "            \"pvalue\",\n",
    "            \"n_snps_used\",\n",
    "            \"n_snps_in_model\",\n",
    "        ],\n",
    "    )\n",
    "    .dropna(subset=[\"gene\", \"zscore\", \"pvalue\"])\n",
    "    .assign(tissue=t)\n",
    "    for t, f in spredixcan_result_files.items()\n",
    "]"
   ]
  },
  {
   "cell_type": "code",
   "execution_count": 63,
   "id": "9730bd37-b769-411f-bb6b-bb658d1ff88c",
   "metadata": {
    "execution": {
     "iopub.execute_input": "2023-08-30T03:49:28.743469Z",
     "iopub.status.busy": "2023-08-30T03:49:28.743360Z",
     "iopub.status.idle": "2023-08-30T03:49:28.755382Z",
     "shell.execute_reply": "2023-08-30T03:49:28.755019Z"
    },
    "papermill": {
     "duration": 0.036092,
     "end_time": "2023-08-30T03:49:28.756628",
     "exception": false,
     "start_time": "2023-08-30T03:49:28.720536",
     "status": "completed"
    },
    "tags": []
   },
   "outputs": [],
   "source": [
    "assert len(spredixcan_dfs) == len(prediction_model_tissues)"
   ]
  },
  {
   "cell_type": "code",
   "execution_count": 64,
   "id": "bcd73f53-1283-4ff6-bbb5-25fb71f5cb72",
   "metadata": {
    "execution": {
     "iopub.execute_input": "2023-08-30T03:49:28.802713Z",
     "iopub.status.busy": "2023-08-30T03:49:28.802535Z",
     "iopub.status.idle": "2023-08-30T03:49:28.825451Z",
     "shell.execute_reply": "2023-08-30T03:49:28.825012Z"
    },
    "papermill": {
     "duration": 0.046926,
     "end_time": "2023-08-30T03:49:28.826385",
     "exception": false,
     "start_time": "2023-08-30T03:49:28.779459",
     "status": "completed"
    },
    "tags": []
   },
   "outputs": [],
   "source": [
    "spredixcan_dfs = pd.concat(spredixcan_dfs)"
   ]
  },
  {
   "cell_type": "code",
   "execution_count": 65,
   "id": "ae99c7b5-14fc-4b39-a6b2-40fc703acd0a",
   "metadata": {
    "execution": {
     "iopub.execute_input": "2023-08-30T03:49:28.850775Z",
     "iopub.status.busy": "2023-08-30T03:49:28.850622Z",
     "iopub.status.idle": "2023-08-30T03:49:28.894910Z",
     "shell.execute_reply": "2023-08-30T03:49:28.894397Z"
    },
    "papermill": {
     "duration": 0.057716,
     "end_time": "2023-08-30T03:49:28.895924",
     "exception": false,
     "start_time": "2023-08-30T03:49:28.838208",
     "status": "completed"
    },
    "tags": []
   },
   "outputs": [],
   "source": [
    "assert spredixcan_dfs[\"tissue\"].unique().shape[0] == len(prediction_model_tissues)"
   ]
  },
  {
   "cell_type": "code",
   "execution_count": 66,
   "id": "b7223a23-e40f-4cd3-8988-72033f8739bd",
   "metadata": {
    "execution": {
     "iopub.execute_input": "2023-08-30T03:49:28.921086Z",
     "iopub.status.busy": "2023-08-30T03:49:28.920927Z",
     "iopub.status.idle": "2023-08-30T03:49:28.935178Z",
     "shell.execute_reply": "2023-08-30T03:49:28.934728Z"
    },
    "papermill": {
     "duration": 0.02756,
     "end_time": "2023-08-30T03:49:28.935967",
     "exception": false,
     "start_time": "2023-08-30T03:49:28.908407",
     "status": "completed"
    },
    "tags": []
   },
   "outputs": [
    {
     "data": {
      "text/plain": [
       "(661334, 6)"
      ]
     },
     "execution_count": 66,
     "metadata": {},
     "output_type": "execute_result"
    }
   ],
   "source": [
    "spredixcan_dfs.shape"
   ]
  },
  {
   "cell_type": "code",
   "execution_count": 67,
   "id": "4987073a-3b70-4162-93fb-beeb351ebfe0",
   "metadata": {
    "execution": {
     "iopub.execute_input": "2023-08-30T03:49:28.961351Z",
     "iopub.status.busy": "2023-08-30T03:49:28.960977Z",
     "iopub.status.idle": "2023-08-30T03:49:29.153437Z",
     "shell.execute_reply": "2023-08-30T03:49:29.152999Z"
    },
    "papermill": {
     "duration": 0.207243,
     "end_time": "2023-08-30T03:49:29.155212",
     "exception": false,
     "start_time": "2023-08-30T03:49:28.947969",
     "status": "completed"
    },
    "tags": []
   },
   "outputs": [],
   "source": [
    "spredixcan_dfs = spredixcan_dfs.assign(\n",
    "    gene_id=spredixcan_dfs[\"gene\"].apply(lambda g: g.split(\".\")[0])\n",
    ")"
   ]
  },
  {
   "cell_type": "code",
   "execution_count": 68,
   "id": "6b47d026-01c0-4f7c-a90e-f0baa13235f4",
   "metadata": {
    "execution": {
     "iopub.execute_input": "2023-08-30T03:49:29.207663Z",
     "iopub.status.busy": "2023-08-30T03:49:29.207479Z",
     "iopub.status.idle": "2023-08-30T03:49:29.220975Z",
     "shell.execute_reply": "2023-08-30T03:49:29.220622Z"
    },
    "papermill": {
     "duration": 0.040265,
     "end_time": "2023-08-30T03:49:29.222283",
     "exception": false,
     "start_time": "2023-08-30T03:49:29.182018",
     "status": "completed"
    },
    "tags": []
   },
   "outputs": [
    {
     "data": {
      "text/html": [
       "<div>\n",
       "<style scoped>\n",
       "    .dataframe tbody tr th:only-of-type {\n",
       "        vertical-align: middle;\n",
       "    }\n",
       "\n",
       "    .dataframe tbody tr th {\n",
       "        vertical-align: top;\n",
       "    }\n",
       "\n",
       "    .dataframe thead th {\n",
       "        text-align: right;\n",
       "    }\n",
       "</style>\n",
       "<table border=\"1\" class=\"dataframe\">\n",
       "  <thead>\n",
       "    <tr style=\"text-align: right;\">\n",
       "      <th></th>\n",
       "      <th>gene</th>\n",
       "      <th>zscore</th>\n",
       "      <th>pvalue</th>\n",
       "      <th>n_snps_used</th>\n",
       "      <th>n_snps_in_model</th>\n",
       "      <th>tissue</th>\n",
       "      <th>gene_id</th>\n",
       "    </tr>\n",
       "  </thead>\n",
       "  <tbody>\n",
       "    <tr>\n",
       "      <th>0</th>\n",
       "      <td>ENSG00000175548.8</td>\n",
       "      <td>10.254131</td>\n",
       "      <td>1.133910e-24</td>\n",
       "      <td>2</td>\n",
       "      <td>3</td>\n",
       "      <td>Thyroid</td>\n",
       "      <td>ENSG00000175548</td>\n",
       "    </tr>\n",
       "    <tr>\n",
       "      <th>1</th>\n",
       "      <td>ENSG00000102805.14</td>\n",
       "      <td>9.542077</td>\n",
       "      <td>1.399998e-21</td>\n",
       "      <td>1</td>\n",
       "      <td>2</td>\n",
       "      <td>Thyroid</td>\n",
       "      <td>ENSG00000102805</td>\n",
       "    </tr>\n",
       "    <tr>\n",
       "      <th>2</th>\n",
       "      <td>ENSG00000163125.15</td>\n",
       "      <td>-8.835110</td>\n",
       "      <td>1.000001e-18</td>\n",
       "      <td>1</td>\n",
       "      <td>2</td>\n",
       "      <td>Thyroid</td>\n",
       "      <td>ENSG00000163125</td>\n",
       "    </tr>\n",
       "    <tr>\n",
       "      <th>3</th>\n",
       "      <td>ENSG00000065802.11</td>\n",
       "      <td>8.377937</td>\n",
       "      <td>5.386350e-17</td>\n",
       "      <td>2</td>\n",
       "      <td>3</td>\n",
       "      <td>Thyroid</td>\n",
       "      <td>ENSG00000065802</td>\n",
       "    </tr>\n",
       "    <tr>\n",
       "      <th>4</th>\n",
       "      <td>ENSG00000143401.14</td>\n",
       "      <td>-7.727128</td>\n",
       "      <td>1.100000e-14</td>\n",
       "      <td>1</td>\n",
       "      <td>1</td>\n",
       "      <td>Thyroid</td>\n",
       "      <td>ENSG00000143401</td>\n",
       "    </tr>\n",
       "  </tbody>\n",
       "</table>\n",
       "</div>"
      ],
      "text/plain": [
       "                 gene     zscore        pvalue  n_snps_used  n_snps_in_model  \\\n",
       "0   ENSG00000175548.8  10.254131  1.133910e-24            2                3   \n",
       "1  ENSG00000102805.14   9.542077  1.399998e-21            1                2   \n",
       "2  ENSG00000163125.15  -8.835110  1.000001e-18            1                2   \n",
       "3  ENSG00000065802.11   8.377937  5.386350e-17            2                3   \n",
       "4  ENSG00000143401.14  -7.727128  1.100000e-14            1                1   \n",
       "\n",
       "    tissue          gene_id  \n",
       "0  Thyroid  ENSG00000175548  \n",
       "1  Thyroid  ENSG00000102805  \n",
       "2  Thyroid  ENSG00000163125  \n",
       "3  Thyroid  ENSG00000065802  \n",
       "4  Thyroid  ENSG00000143401  "
      ]
     },
     "execution_count": 68,
     "metadata": {},
     "output_type": "execute_result"
    }
   ],
   "source": [
    "spredixcan_dfs.head()"
   ]
  },
  {
   "cell_type": "code",
   "execution_count": 69,
   "id": "d5dbdb2e-b7eb-4665-9fd4-9ce714d6af0c",
   "metadata": {
    "execution": {
     "iopub.execute_input": "2023-08-30T03:49:29.269231Z",
     "iopub.status.busy": "2023-08-30T03:49:29.269078Z",
     "iopub.status.idle": "2023-08-30T03:49:29.378354Z",
     "shell.execute_reply": "2023-08-30T03:49:29.377920Z"
    },
    "papermill": {
     "duration": 0.131264,
     "end_time": "2023-08-30T03:49:29.379816",
     "exception": false,
     "start_time": "2023-08-30T03:49:29.248552",
     "status": "completed"
    },
    "tags": []
   },
   "outputs": [],
   "source": [
    "# leave only common genes\n",
    "spredixcan_dfs = spredixcan_dfs[spredixcan_dfs[\"gene_id\"].isin(set(genes_info[\"id\"]))]"
   ]
  },
  {
   "cell_type": "code",
   "execution_count": 70,
   "id": "8d34f99a-6b43-47aa-bb07-dfc67e169538",
   "metadata": {
    "execution": {
     "iopub.execute_input": "2023-08-30T03:49:29.419526Z",
     "iopub.status.busy": "2023-08-30T03:49:29.419369Z",
     "iopub.status.idle": "2023-08-30T03:49:29.436128Z",
     "shell.execute_reply": "2023-08-30T03:49:29.435652Z"
    },
    "papermill": {
     "duration": 0.04167,
     "end_time": "2023-08-30T03:49:29.437348",
     "exception": false,
     "start_time": "2023-08-30T03:49:29.395678",
     "status": "completed"
    },
    "tags": []
   },
   "outputs": [
    {
     "data": {
      "text/plain": [
       "(236635, 7)"
      ]
     },
     "execution_count": 70,
     "metadata": {},
     "output_type": "execute_result"
    }
   ],
   "source": [
    "spredixcan_dfs.shape"
   ]
  },
  {
   "cell_type": "markdown",
   "id": "5ecfd141-ecb8-47cf-905e-25cc1b4d3f9d",
   "metadata": {
    "papermill": {
     "duration": 0.018454,
     "end_time": "2023-08-30T03:49:29.475316",
     "exception": false,
     "start_time": "2023-08-30T03:49:29.456862",
     "status": "completed"
    },
    "tags": []
   },
   "source": [
    "### Count number of tissues available per gene"
   ]
  },
  {
   "cell_type": "code",
   "execution_count": 71,
   "id": "86fe37e1-a303-4221-a12e-3a54a04dd510",
   "metadata": {
    "execution": {
     "iopub.execute_input": "2023-08-30T03:49:29.504785Z",
     "iopub.status.busy": "2023-08-30T03:49:29.504372Z",
     "iopub.status.idle": "2023-08-30T03:49:29.590906Z",
     "shell.execute_reply": "2023-08-30T03:49:29.590464Z"
    },
    "papermill": {
     "duration": 0.100497,
     "end_time": "2023-08-30T03:49:29.591992",
     "exception": false,
     "start_time": "2023-08-30T03:49:29.491495",
     "status": "completed"
    },
    "tags": []
   },
   "outputs": [],
   "source": [
    "spredixcan_genes_n_models = spredixcan_dfs.groupby(\"gene_id\")[\"tissue\"].nunique()"
   ]
  },
  {
   "cell_type": "code",
   "execution_count": 72,
   "id": "31416d48-1e4d-463f-9a5c-34d29803c3f8",
   "metadata": {
    "execution": {
     "iopub.execute_input": "2023-08-30T03:49:29.617953Z",
     "iopub.status.busy": "2023-08-30T03:49:29.617778Z",
     "iopub.status.idle": "2023-08-30T03:49:29.629702Z",
     "shell.execute_reply": "2023-08-30T03:49:29.629344Z"
    },
    "papermill": {
     "duration": 0.025697,
     "end_time": "2023-08-30T03:49:29.630489",
     "exception": false,
     "start_time": "2023-08-30T03:49:29.604792",
     "status": "completed"
    },
    "tags": []
   },
   "outputs": [
    {
     "data": {
      "text/plain": [
       "gene_id\n",
       "ENSG00000000419     2\n",
       "ENSG00000000938    36\n",
       "ENSG00000000971    34\n",
       "ENSG00000001084    32\n",
       "ENSG00000001167    40\n",
       "                   ..\n",
       "ENSG00000278540    36\n",
       "ENSG00000278828     4\n",
       "ENSG00000278845    49\n",
       "ENSG00000281005    49\n",
       "ENSG00000282608    36\n",
       "Name: tissue, Length: 6445, dtype: int64"
      ]
     },
     "execution_count": 72,
     "metadata": {},
     "output_type": "execute_result"
    }
   ],
   "source": [
    "spredixcan_genes_n_models"
   ]
  },
  {
   "cell_type": "code",
   "execution_count": 73,
   "id": "d737ad4f-f821-4546-9a3e-6703fe264b49",
   "metadata": {
    "execution": {
     "iopub.execute_input": "2023-08-30T03:49:29.656304Z",
     "iopub.status.busy": "2023-08-30T03:49:29.656198Z",
     "iopub.status.idle": "2023-08-30T03:49:29.676647Z",
     "shell.execute_reply": "2023-08-30T03:49:29.676144Z"
    },
    "papermill": {
     "duration": 0.034367,
     "end_time": "2023-08-30T03:49:29.677639",
     "exception": false,
     "start_time": "2023-08-30T03:49:29.643272",
     "status": "completed"
    },
    "tags": []
   },
   "outputs": [],
   "source": [
    "# testing that in S-MultiXcan I get the same number of tissues per gene\n",
    "_tmp_smultixcan_results_n_models = (\n",
    "    smultixcan_results.set_index(\"gene_id\")[\"n\"].astype(int).rename(\"tissue\")\n",
    ")\n",
    "\n",
    "_cg = _tmp_smultixcan_results_n_models.index.intersection(\n",
    "    spredixcan_genes_n_models.index\n",
    ")\n",
    "_tmp_smultixcan_results_n_models = _tmp_smultixcan_results_n_models.loc[_cg]\n",
    "_spredixcan = spredixcan_genes_n_models.loc[_cg]\n",
    "\n",
    "assert _spredixcan.shape[0] == _tmp_smultixcan_results_n_models.shape[0]\n",
    "assert _spredixcan.equals(_tmp_smultixcan_results_n_models.loc[_spredixcan.index])"
   ]
  },
  {
   "cell_type": "markdown",
   "id": "904d7d30-9c2d-4c3e-b674-3f081954fe8b",
   "metadata": {
    "papermill": {
     "duration": 0.012533,
     "end_time": "2023-08-30T03:49:29.702944",
     "exception": false,
     "start_time": "2023-08-30T03:49:29.690411",
     "status": "completed"
    },
    "tags": []
   },
   "source": [
    "### Get tissues available per gene"
   ]
  },
  {
   "cell_type": "code",
   "execution_count": 74,
   "id": "cf014e81-4b4e-4c46-9265-67718b3ab08e",
   "metadata": {
    "execution": {
     "iopub.execute_input": "2023-08-30T03:49:29.729072Z",
     "iopub.status.busy": "2023-08-30T03:49:29.728818Z",
     "iopub.status.idle": "2023-08-30T03:49:29.867161Z",
     "shell.execute_reply": "2023-08-30T03:49:29.866733Z"
    },
    "papermill": {
     "duration": 0.153221,
     "end_time": "2023-08-30T03:49:29.868835",
     "exception": false,
     "start_time": "2023-08-30T03:49:29.715614",
     "status": "completed"
    },
    "tags": []
   },
   "outputs": [],
   "source": [
    "spredixcan_genes_models = spredixcan_dfs.groupby(\"gene_id\")[\"tissue\"].apply(\n",
    "    lambda x: frozenset(x.tolist())\n",
    ")"
   ]
  },
  {
   "cell_type": "code",
   "execution_count": 75,
   "id": "5df09d7f-39c9-408f-9fef-5189e8ca1c87",
   "metadata": {
    "execution": {
     "iopub.execute_input": "2023-08-30T03:49:29.917528Z",
     "iopub.status.busy": "2023-08-30T03:49:29.917350Z",
     "iopub.status.idle": "2023-08-30T03:49:29.930043Z",
     "shell.execute_reply": "2023-08-30T03:49:29.929697Z"
    },
    "papermill": {
     "duration": 0.038141,
     "end_time": "2023-08-30T03:49:29.931286",
     "exception": false,
     "start_time": "2023-08-30T03:49:29.893145",
     "status": "completed"
    },
    "tags": []
   },
   "outputs": [
    {
     "data": {
      "text/plain": [
       "gene_id\n",
       "ENSG00000000419         (Brain_Hypothalamus, Brain_Substantia_nigra)\n",
       "ENSG00000000938    (Thyroid, Artery_Tibial, Stomach, Brain_Cortex...\n",
       "ENSG00000000971    (Thyroid, Artery_Tibial, Brain_Cortex, Brain_S...\n",
       "ENSG00000001084    (Thyroid, Artery_Tibial, Brain_Cortex, Pancrea...\n",
       "ENSG00000001167    (Thyroid, Artery_Tibial, Brain_Cortex, Brain_S...\n",
       "                                         ...                        \n",
       "ENSG00000278540    (Thyroid, Artery_Tibial, Brain_Cortex, Stomach...\n",
       "ENSG00000278828    (Cells_EBV-transformed_lymphocytes, Artery_Cor...\n",
       "ENSG00000278845    (Thyroid, Artery_Tibial, Brain_Cortex, Brain_S...\n",
       "ENSG00000281005    (Thyroid, Artery_Tibial, Brain_Cortex, Brain_S...\n",
       "ENSG00000282608    (Artery_Tibial, Brain_Cortex, Brain_Spinal_cor...\n",
       "Name: tissue, Length: 6445, dtype: object"
      ]
     },
     "execution_count": 75,
     "metadata": {},
     "output_type": "execute_result"
    }
   ],
   "source": [
    "spredixcan_genes_models"
   ]
  },
  {
   "cell_type": "code",
   "execution_count": 76,
   "id": "97c46886-5a48-4813-b890-1dcdb09ec09d",
   "metadata": {
    "execution": {
     "iopub.execute_input": "2023-08-30T03:49:29.979993Z",
     "iopub.status.busy": "2023-08-30T03:49:29.979715Z",
     "iopub.status.idle": "2023-08-30T03:49:29.995161Z",
     "shell.execute_reply": "2023-08-30T03:49:29.994665Z"
    },
    "papermill": {
     "duration": 0.040294,
     "end_time": "2023-08-30T03:49:29.996032",
     "exception": false,
     "start_time": "2023-08-30T03:49:29.955738",
     "status": "completed"
    },
    "tags": []
   },
   "outputs": [],
   "source": [
    "assert spredixcan_genes_n_models.shape[0] == spredixcan_genes_models.shape[0]"
   ]
  },
  {
   "cell_type": "code",
   "execution_count": 77,
   "id": "abc13913-a681-4297-a0e6-dde62f43c36f",
   "metadata": {
    "execution": {
     "iopub.execute_input": "2023-08-30T03:49:30.022657Z",
     "iopub.status.busy": "2023-08-30T03:49:30.022324Z",
     "iopub.status.idle": "2023-08-30T03:49:30.038138Z",
     "shell.execute_reply": "2023-08-30T03:49:30.037656Z"
    },
    "papermill": {
     "duration": 0.030784,
     "end_time": "2023-08-30T03:49:30.039354",
     "exception": false,
     "start_time": "2023-08-30T03:49:30.008570",
     "status": "completed"
    },
    "tags": []
   },
   "outputs": [],
   "source": [
    "assert spredixcan_genes_n_models.index.equals(spredixcan_genes_models.index)"
   ]
  },
  {
   "cell_type": "code",
   "execution_count": 78,
   "id": "995a02e7-b836-471b-b438-17c8c46e4fde",
   "metadata": {
    "execution": {
     "iopub.execute_input": "2023-08-30T03:49:30.066431Z",
     "iopub.status.busy": "2023-08-30T03:49:30.066014Z",
     "iopub.status.idle": "2023-08-30T03:49:30.083754Z",
     "shell.execute_reply": "2023-08-30T03:49:30.083263Z"
    },
    "papermill": {
     "duration": 0.031876,
     "end_time": "2023-08-30T03:49:30.084648",
     "exception": false,
     "start_time": "2023-08-30T03:49:30.052772",
     "status": "completed"
    },
    "tags": []
   },
   "outputs": [],
   "source": [
    "assert (spredixcan_genes_models.apply(len) <= len(prediction_model_tissues)).all()"
   ]
  },
  {
   "cell_type": "code",
   "execution_count": 79,
   "id": "0c1d0c68-1a06-480c-b6d6-d3c4fdf0f5aa",
   "metadata": {
    "execution": {
     "iopub.execute_input": "2023-08-30T03:49:30.110941Z",
     "iopub.status.busy": "2023-08-30T03:49:30.110493Z",
     "iopub.status.idle": "2023-08-30T03:49:30.132099Z",
     "shell.execute_reply": "2023-08-30T03:49:30.131614Z"
    },
    "papermill": {
     "duration": 0.035687,
     "end_time": "2023-08-30T03:49:30.132926",
     "exception": false,
     "start_time": "2023-08-30T03:49:30.097239",
     "status": "completed"
    },
    "tags": []
   },
   "outputs": [
    {
     "data": {
      "text/plain": [
       "count    6445.000000\n",
       "mean       36.716059\n",
       "std        12.847385\n",
       "min         1.000000\n",
       "25%        30.000000\n",
       "50%        42.000000\n",
       "75%        47.000000\n",
       "max        49.000000\n",
       "Name: tissue, dtype: float64"
      ]
     },
     "execution_count": 79,
     "metadata": {},
     "output_type": "execute_result"
    }
   ],
   "source": [
    "spredixcan_genes_models.apply(len).describe()"
   ]
  },
  {
   "cell_type": "code",
   "execution_count": 80,
   "id": "991b9441-6bb5-4b72-9285-5fd579875e40",
   "metadata": {
    "execution": {
     "iopub.execute_input": "2023-08-30T03:49:30.159302Z",
     "iopub.status.busy": "2023-08-30T03:49:30.158842Z",
     "iopub.status.idle": "2023-08-30T03:49:30.178737Z",
     "shell.execute_reply": "2023-08-30T03:49:30.178245Z"
    },
    "papermill": {
     "duration": 0.033972,
     "end_time": "2023-08-30T03:49:30.179604",
     "exception": false,
     "start_time": "2023-08-30T03:49:30.145632",
     "status": "completed"
    },
    "tags": []
   },
   "outputs": [],
   "source": [
    "# testing that I obtained the right number of tissues\n",
    "assert (\n",
    "    spredixcan_genes_models.loc[spredixcan_genes_n_models.index]\n",
    "    .apply(len)\n",
    "    .equals(spredixcan_genes_n_models)\n",
    ")"
   ]
  },
  {
   "cell_type": "markdown",
   "id": "3042b22d-9d88-4e21-b112-ab23cf8d24ea",
   "metadata": {
    "papermill": {
     "duration": 0.012828,
     "end_time": "2023-08-30T03:49:30.205122",
     "exception": false,
     "start_time": "2023-08-30T03:49:30.192294",
     "status": "completed"
    },
    "tags": []
   },
   "source": [
    "### Add gene name and set index"
   ]
  },
  {
   "cell_type": "code",
   "execution_count": 81,
   "id": "3b7b0e76-7aca-44bf-beff-5f1c1b6193ee",
   "metadata": {
    "execution": {
     "iopub.execute_input": "2023-08-30T03:49:30.231555Z",
     "iopub.status.busy": "2023-08-30T03:49:30.231095Z",
     "iopub.status.idle": "2023-08-30T03:49:30.247073Z",
     "shell.execute_reply": "2023-08-30T03:49:30.246581Z"
    },
    "papermill": {
     "duration": 0.030067,
     "end_time": "2023-08-30T03:49:30.247950",
     "exception": false,
     "start_time": "2023-08-30T03:49:30.217883",
     "status": "completed"
    },
    "tags": []
   },
   "outputs": [],
   "source": [
    "spredixcan_genes_models = spredixcan_genes_models.to_frame().reset_index()"
   ]
  },
  {
   "cell_type": "code",
   "execution_count": 82,
   "id": "ffab4b61-c2d4-4bcc-a147-23a4bf30f715",
   "metadata": {
    "execution": {
     "iopub.execute_input": "2023-08-30T03:49:30.274481Z",
     "iopub.status.busy": "2023-08-30T03:49:30.274022Z",
     "iopub.status.idle": "2023-08-30T03:49:30.294187Z",
     "shell.execute_reply": "2023-08-30T03:49:30.293713Z"
    },
    "papermill": {
     "duration": 0.034469,
     "end_time": "2023-08-30T03:49:30.295058",
     "exception": false,
     "start_time": "2023-08-30T03:49:30.260589",
     "status": "completed"
    },
    "tags": []
   },
   "outputs": [
    {
     "data": {
      "text/html": [
       "<div>\n",
       "<style scoped>\n",
       "    .dataframe tbody tr th:only-of-type {\n",
       "        vertical-align: middle;\n",
       "    }\n",
       "\n",
       "    .dataframe tbody tr th {\n",
       "        vertical-align: top;\n",
       "    }\n",
       "\n",
       "    .dataframe thead th {\n",
       "        text-align: right;\n",
       "    }\n",
       "</style>\n",
       "<table border=\"1\" class=\"dataframe\">\n",
       "  <thead>\n",
       "    <tr style=\"text-align: right;\">\n",
       "      <th></th>\n",
       "      <th>gene_id</th>\n",
       "      <th>tissue</th>\n",
       "    </tr>\n",
       "  </thead>\n",
       "  <tbody>\n",
       "    <tr>\n",
       "      <th>0</th>\n",
       "      <td>ENSG00000000419</td>\n",
       "      <td>(Brain_Hypothalamus, Brain_Substantia_nigra)</td>\n",
       "    </tr>\n",
       "    <tr>\n",
       "      <th>1</th>\n",
       "      <td>ENSG00000000938</td>\n",
       "      <td>(Thyroid, Artery_Tibial, Stomach, Brain_Cortex...</td>\n",
       "    </tr>\n",
       "    <tr>\n",
       "      <th>2</th>\n",
       "      <td>ENSG00000000971</td>\n",
       "      <td>(Thyroid, Artery_Tibial, Brain_Cortex, Brain_S...</td>\n",
       "    </tr>\n",
       "    <tr>\n",
       "      <th>3</th>\n",
       "      <td>ENSG00000001084</td>\n",
       "      <td>(Thyroid, Artery_Tibial, Brain_Cortex, Pancrea...</td>\n",
       "    </tr>\n",
       "    <tr>\n",
       "      <th>4</th>\n",
       "      <td>ENSG00000001167</td>\n",
       "      <td>(Thyroid, Artery_Tibial, Brain_Cortex, Brain_S...</td>\n",
       "    </tr>\n",
       "  </tbody>\n",
       "</table>\n",
       "</div>"
      ],
      "text/plain": [
       "           gene_id                                             tissue\n",
       "0  ENSG00000000419       (Brain_Hypothalamus, Brain_Substantia_nigra)\n",
       "1  ENSG00000000938  (Thyroid, Artery_Tibial, Stomach, Brain_Cortex...\n",
       "2  ENSG00000000971  (Thyroid, Artery_Tibial, Brain_Cortex, Brain_S...\n",
       "3  ENSG00000001084  (Thyroid, Artery_Tibial, Brain_Cortex, Pancrea...\n",
       "4  ENSG00000001167  (Thyroid, Artery_Tibial, Brain_Cortex, Brain_S..."
      ]
     },
     "execution_count": 82,
     "metadata": {},
     "output_type": "execute_result"
    }
   ],
   "source": [
    "spredixcan_genes_models.head()"
   ]
  },
  {
   "cell_type": "code",
   "execution_count": 83,
   "id": "e1cb2fe5-969f-4526-bca7-a3b8919b3509",
   "metadata": {
    "execution": {
     "iopub.execute_input": "2023-08-30T03:49:30.321719Z",
     "iopub.status.busy": "2023-08-30T03:49:30.321263Z",
     "iopub.status.idle": "2023-08-30T03:49:30.339749Z",
     "shell.execute_reply": "2023-08-30T03:49:30.339246Z"
    },
    "papermill": {
     "duration": 0.032642,
     "end_time": "2023-08-30T03:49:30.340608",
     "exception": false,
     "start_time": "2023-08-30T03:49:30.307966",
     "status": "completed"
    },
    "tags": []
   },
   "outputs": [],
   "source": [
    "spredixcan_genes_models = spredixcan_genes_models.assign(\n",
    "    gene_name=spredixcan_genes_models[\"gene_id\"].apply(\n",
    "        lambda g: Gene.GENE_ID_TO_NAME_MAP[g]\n",
    "    )\n",
    ")"
   ]
  },
  {
   "cell_type": "code",
   "execution_count": 84,
   "id": "ff078ce5-3f18-442e-a593-3326436c758e",
   "metadata": {
    "execution": {
     "iopub.execute_input": "2023-08-30T03:49:30.367407Z",
     "iopub.status.busy": "2023-08-30T03:49:30.366946Z",
     "iopub.status.idle": "2023-08-30T03:49:30.383755Z",
     "shell.execute_reply": "2023-08-30T03:49:30.383257Z"
    },
    "papermill": {
     "duration": 0.03122,
     "end_time": "2023-08-30T03:49:30.384705",
     "exception": false,
     "start_time": "2023-08-30T03:49:30.353485",
     "status": "completed"
    },
    "tags": []
   },
   "outputs": [],
   "source": [
    "spredixcan_genes_models = spredixcan_genes_models[[\"gene_id\", \"gene_name\", \"tissue\"]]"
   ]
  },
  {
   "cell_type": "code",
   "execution_count": 85,
   "id": "a65c8bf2-5ecd-4f80-a857-11f8a0c019c4",
   "metadata": {
    "execution": {
     "iopub.execute_input": "2023-08-30T03:49:30.411549Z",
     "iopub.status.busy": "2023-08-30T03:49:30.411056Z",
     "iopub.status.idle": "2023-08-30T03:49:30.427026Z",
     "shell.execute_reply": "2023-08-30T03:49:30.426529Z"
    },
    "papermill": {
     "duration": 0.030304,
     "end_time": "2023-08-30T03:49:30.427989",
     "exception": false,
     "start_time": "2023-08-30T03:49:30.397685",
     "status": "completed"
    },
    "tags": []
   },
   "outputs": [],
   "source": [
    "spredixcan_genes_models = spredixcan_genes_models.set_index(\"gene_id\")"
   ]
  },
  {
   "cell_type": "code",
   "execution_count": 86,
   "id": "af6b40b9-fc58-47a1-a1b5-4404034b008b",
   "metadata": {
    "execution": {
     "iopub.execute_input": "2023-08-30T03:49:30.454865Z",
     "iopub.status.busy": "2023-08-30T03:49:30.454334Z",
     "iopub.status.idle": "2023-08-30T03:49:30.474788Z",
     "shell.execute_reply": "2023-08-30T03:49:30.474299Z"
    },
    "papermill": {
     "duration": 0.034803,
     "end_time": "2023-08-30T03:49:30.475631",
     "exception": false,
     "start_time": "2023-08-30T03:49:30.440828",
     "status": "completed"
    },
    "tags": []
   },
   "outputs": [
    {
     "data": {
      "text/html": [
       "<div>\n",
       "<style scoped>\n",
       "    .dataframe tbody tr th:only-of-type {\n",
       "        vertical-align: middle;\n",
       "    }\n",
       "\n",
       "    .dataframe tbody tr th {\n",
       "        vertical-align: top;\n",
       "    }\n",
       "\n",
       "    .dataframe thead th {\n",
       "        text-align: right;\n",
       "    }\n",
       "</style>\n",
       "<table border=\"1\" class=\"dataframe\">\n",
       "  <thead>\n",
       "    <tr style=\"text-align: right;\">\n",
       "      <th></th>\n",
       "      <th>gene_name</th>\n",
       "      <th>tissue</th>\n",
       "    </tr>\n",
       "    <tr>\n",
       "      <th>gene_id</th>\n",
       "      <th></th>\n",
       "      <th></th>\n",
       "    </tr>\n",
       "  </thead>\n",
       "  <tbody>\n",
       "    <tr>\n",
       "      <th>ENSG00000000419</th>\n",
       "      <td>DPM1</td>\n",
       "      <td>(Brain_Hypothalamus, Brain_Substantia_nigra)</td>\n",
       "    </tr>\n",
       "    <tr>\n",
       "      <th>ENSG00000000938</th>\n",
       "      <td>FGR</td>\n",
       "      <td>(Thyroid, Artery_Tibial, Stomach, Brain_Cortex...</td>\n",
       "    </tr>\n",
       "    <tr>\n",
       "      <th>ENSG00000000971</th>\n",
       "      <td>CFH</td>\n",
       "      <td>(Thyroid, Artery_Tibial, Brain_Cortex, Brain_S...</td>\n",
       "    </tr>\n",
       "    <tr>\n",
       "      <th>ENSG00000001084</th>\n",
       "      <td>GCLC</td>\n",
       "      <td>(Thyroid, Artery_Tibial, Brain_Cortex, Pancrea...</td>\n",
       "    </tr>\n",
       "    <tr>\n",
       "      <th>ENSG00000001167</th>\n",
       "      <td>NFYA</td>\n",
       "      <td>(Thyroid, Artery_Tibial, Brain_Cortex, Brain_S...</td>\n",
       "    </tr>\n",
       "  </tbody>\n",
       "</table>\n",
       "</div>"
      ],
      "text/plain": [
       "                gene_name                                             tissue\n",
       "gene_id                                                                     \n",
       "ENSG00000000419      DPM1       (Brain_Hypothalamus, Brain_Substantia_nigra)\n",
       "ENSG00000000938       FGR  (Thyroid, Artery_Tibial, Stomach, Brain_Cortex...\n",
       "ENSG00000000971       CFH  (Thyroid, Artery_Tibial, Brain_Cortex, Brain_S...\n",
       "ENSG00000001084      GCLC  (Thyroid, Artery_Tibial, Brain_Cortex, Pancrea...\n",
       "ENSG00000001167      NFYA  (Thyroid, Artery_Tibial, Brain_Cortex, Brain_S..."
      ]
     },
     "execution_count": 86,
     "metadata": {},
     "output_type": "execute_result"
    }
   ],
   "source": [
    "spredixcan_genes_models.head()"
   ]
  },
  {
   "cell_type": "markdown",
   "id": "d1e67be9-9094-4a07-b89d-3a0815d503e6",
   "metadata": {
    "papermill": {
     "duration": 0.012963,
     "end_time": "2023-08-30T03:49:30.501567",
     "exception": false,
     "start_time": "2023-08-30T03:49:30.488604",
     "status": "completed"
    },
    "tags": []
   },
   "source": [
    "### Add number of tissues"
   ]
  },
  {
   "cell_type": "code",
   "execution_count": 87,
   "id": "b2702bdb-b3bc-48e6-9c3e-855924d9e74b",
   "metadata": {
    "execution": {
     "iopub.execute_input": "2023-08-30T03:49:30.528527Z",
     "iopub.status.busy": "2023-08-30T03:49:30.528071Z",
     "iopub.status.idle": "2023-08-30T03:49:30.546231Z",
     "shell.execute_reply": "2023-08-30T03:49:30.545745Z"
    },
    "papermill": {
     "duration": 0.032725,
     "end_time": "2023-08-30T03:49:30.547235",
     "exception": false,
     "start_time": "2023-08-30T03:49:30.514510",
     "status": "completed"
    },
    "tags": []
   },
   "outputs": [],
   "source": [
    "spredixcan_genes_models = spredixcan_genes_models.assign(\n",
    "    n_tissues=spredixcan_genes_models[\"tissue\"].apply(len)\n",
    ")"
   ]
  },
  {
   "cell_type": "code",
   "execution_count": 88,
   "id": "4a5eb4b8-5e11-45a3-a991-0515bd83fc03",
   "metadata": {
    "execution": {
     "iopub.execute_input": "2023-08-30T03:49:30.574468Z",
     "iopub.status.busy": "2023-08-30T03:49:30.574137Z",
     "iopub.status.idle": "2023-08-30T03:49:30.594901Z",
     "shell.execute_reply": "2023-08-30T03:49:30.594415Z"
    },
    "papermill": {
     "duration": 0.035203,
     "end_time": "2023-08-30T03:49:30.595779",
     "exception": false,
     "start_time": "2023-08-30T03:49:30.560576",
     "status": "completed"
    },
    "tags": []
   },
   "outputs": [
    {
     "data": {
      "text/html": [
       "<div>\n",
       "<style scoped>\n",
       "    .dataframe tbody tr th:only-of-type {\n",
       "        vertical-align: middle;\n",
       "    }\n",
       "\n",
       "    .dataframe tbody tr th {\n",
       "        vertical-align: top;\n",
       "    }\n",
       "\n",
       "    .dataframe thead th {\n",
       "        text-align: right;\n",
       "    }\n",
       "</style>\n",
       "<table border=\"1\" class=\"dataframe\">\n",
       "  <thead>\n",
       "    <tr style=\"text-align: right;\">\n",
       "      <th></th>\n",
       "      <th>gene_name</th>\n",
       "      <th>tissue</th>\n",
       "      <th>n_tissues</th>\n",
       "    </tr>\n",
       "    <tr>\n",
       "      <th>gene_id</th>\n",
       "      <th></th>\n",
       "      <th></th>\n",
       "      <th></th>\n",
       "    </tr>\n",
       "  </thead>\n",
       "  <tbody>\n",
       "    <tr>\n",
       "      <th>ENSG00000000419</th>\n",
       "      <td>DPM1</td>\n",
       "      <td>(Brain_Hypothalamus, Brain_Substantia_nigra)</td>\n",
       "      <td>2</td>\n",
       "    </tr>\n",
       "    <tr>\n",
       "      <th>ENSG00000000938</th>\n",
       "      <td>FGR</td>\n",
       "      <td>(Thyroid, Artery_Tibial, Stomach, Brain_Cortex...</td>\n",
       "      <td>36</td>\n",
       "    </tr>\n",
       "    <tr>\n",
       "      <th>ENSG00000000971</th>\n",
       "      <td>CFH</td>\n",
       "      <td>(Thyroid, Artery_Tibial, Brain_Cortex, Brain_S...</td>\n",
       "      <td>34</td>\n",
       "    </tr>\n",
       "    <tr>\n",
       "      <th>ENSG00000001084</th>\n",
       "      <td>GCLC</td>\n",
       "      <td>(Thyroid, Artery_Tibial, Brain_Cortex, Pancrea...</td>\n",
       "      <td>32</td>\n",
       "    </tr>\n",
       "    <tr>\n",
       "      <th>ENSG00000001167</th>\n",
       "      <td>NFYA</td>\n",
       "      <td>(Thyroid, Artery_Tibial, Brain_Cortex, Brain_S...</td>\n",
       "      <td>40</td>\n",
       "    </tr>\n",
       "  </tbody>\n",
       "</table>\n",
       "</div>"
      ],
      "text/plain": [
       "                gene_name                                             tissue  \\\n",
       "gene_id                                                                        \n",
       "ENSG00000000419      DPM1       (Brain_Hypothalamus, Brain_Substantia_nigra)   \n",
       "ENSG00000000938       FGR  (Thyroid, Artery_Tibial, Stomach, Brain_Cortex...   \n",
       "ENSG00000000971       CFH  (Thyroid, Artery_Tibial, Brain_Cortex, Brain_S...   \n",
       "ENSG00000001084      GCLC  (Thyroid, Artery_Tibial, Brain_Cortex, Pancrea...   \n",
       "ENSG00000001167      NFYA  (Thyroid, Artery_Tibial, Brain_Cortex, Brain_S...   \n",
       "\n",
       "                 n_tissues  \n",
       "gene_id                     \n",
       "ENSG00000000419          2  \n",
       "ENSG00000000938         36  \n",
       "ENSG00000000971         34  \n",
       "ENSG00000001084         32  \n",
       "ENSG00000001167         40  "
      ]
     },
     "execution_count": 88,
     "metadata": {},
     "output_type": "execute_result"
    }
   ],
   "source": [
    "spredixcan_genes_models.head()"
   ]
  },
  {
   "cell_type": "markdown",
   "id": "2abce820-1cb4-4a58-9dc5-b3e37d3ff037",
   "metadata": {
    "papermill": {
     "duration": 0.013376,
     "end_time": "2023-08-30T03:49:30.622571",
     "exception": false,
     "start_time": "2023-08-30T03:49:30.609195",
     "status": "completed"
    },
    "tags": []
   },
   "source": [
    "### Save"
   ]
  },
  {
   "cell_type": "markdown",
   "id": "28462e2a-da49-44c4-ae71-b3830a2b108f",
   "metadata": {
    "papermill": {
     "duration": 0.013456,
     "end_time": "2023-08-30T03:49:30.649377",
     "exception": false,
     "start_time": "2023-08-30T03:49:30.635921",
     "status": "completed"
    },
    "tags": []
   },
   "source": [
    "Here I quickly save these results to a file, given that the next steps (covariates) are slow to compute."
   ]
  },
  {
   "cell_type": "code",
   "execution_count": 89,
   "id": "9cfb687d-5ab2-4e85-9944-f5c685de8046",
   "metadata": {
    "execution": {
     "iopub.execute_input": "2023-08-30T03:49:30.677115Z",
     "iopub.status.busy": "2023-08-30T03:49:30.676616Z",
     "iopub.status.idle": "2023-08-30T03:49:30.692763Z",
     "shell.execute_reply": "2023-08-30T03:49:30.692285Z"
    },
    "papermill": {
     "duration": 0.030856,
     "end_time": "2023-08-30T03:49:30.693626",
     "exception": false,
     "start_time": "2023-08-30T03:49:30.662770",
     "status": "completed"
    },
    "tags": []
   },
   "outputs": [],
   "source": [
    "# this is important, other scripts depend on gene_name to be unique\n",
    "assert spredixcan_genes_models[\"gene_name\"].is_unique"
   ]
  },
  {
   "cell_type": "code",
   "execution_count": 90,
   "id": "b2d9bd26-afaa-4aff-a707-3109e13af9bb",
   "metadata": {
    "execution": {
     "iopub.execute_input": "2023-08-30T03:49:30.721474Z",
     "iopub.status.busy": "2023-08-30T03:49:30.721055Z",
     "iopub.status.idle": "2023-08-30T03:49:30.738973Z",
     "shell.execute_reply": "2023-08-30T03:49:30.738475Z"
    },
    "papermill": {
     "duration": 0.032639,
     "end_time": "2023-08-30T03:49:30.739859",
     "exception": false,
     "start_time": "2023-08-30T03:49:30.707220",
     "status": "completed"
    },
    "tags": []
   },
   "outputs": [],
   "source": [
    "assert not spredixcan_genes_models.isna().any(axis=None)"
   ]
  },
  {
   "cell_type": "code",
   "execution_count": 91,
   "id": "074b103c-2960-4299-a3ac-fa37ab6f2784",
   "metadata": {
    "execution": {
     "iopub.execute_input": "2023-08-30T03:49:30.767399Z",
     "iopub.status.busy": "2023-08-30T03:49:30.767066Z",
     "iopub.status.idle": "2023-08-30T03:49:30.796604Z",
     "shell.execute_reply": "2023-08-30T03:49:30.796053Z"
    },
    "papermill": {
     "duration": 0.044174,
     "end_time": "2023-08-30T03:49:30.797511",
     "exception": false,
     "start_time": "2023-08-30T03:49:30.753337",
     "status": "completed"
    },
    "tags": []
   },
   "outputs": [],
   "source": [
    "spredixcan_genes_models.to_pickle(OUTPUT_DIR_BASE / \"gene_tissues.pkl\")"
   ]
  },
  {
   "cell_type": "markdown",
   "id": "ae18f693-4da8-48ae-85b6-8194abcca684",
   "metadata": {
    "papermill": {
     "duration": 0.013207,
     "end_time": "2023-08-30T03:49:30.823657",
     "exception": false,
     "start_time": "2023-08-30T03:49:30.810450",
     "status": "completed"
    },
    "tags": []
   },
   "source": [
    "## Add covariates based on S-PrediXcan results"
   ]
  },
  {
   "cell_type": "markdown",
   "id": "bed7a46c-4906-40b9-9dd8-0bfb584e6d2a",
   "metadata": {
    "papermill": {
     "duration": 0.013031,
     "end_time": "2023-08-30T03:49:30.849755",
     "exception": false,
     "start_time": "2023-08-30T03:49:30.836724",
     "status": "completed"
    },
    "tags": []
   },
   "source": [
    "This extend the previous file with more columns"
   ]
  },
  {
   "cell_type": "markdown",
   "id": "850c554f-2ace-40a3-a33a-477246bb07c7",
   "metadata": {
    "papermill": {
     "duration": 0.012972,
     "end_time": "2023-08-30T03:49:30.875720",
     "exception": false,
     "start_time": "2023-08-30T03:49:30.862748",
     "status": "completed"
    },
    "tags": []
   },
   "source": [
    "### Get gene's objects"
   ]
  },
  {
   "cell_type": "code",
   "execution_count": 92,
   "id": "dfd93711-5c91-4cb6-8561-f366e270b6b1",
   "metadata": {
    "execution": {
     "iopub.execute_input": "2023-08-30T03:49:30.903137Z",
     "iopub.status.busy": "2023-08-30T03:49:30.902679Z",
     "iopub.status.idle": "2023-08-30T03:49:30.931295Z",
     "shell.execute_reply": "2023-08-30T03:49:30.930741Z"
    },
    "papermill": {
     "duration": 0.043302,
     "end_time": "2023-08-30T03:49:30.932195",
     "exception": false,
     "start_time": "2023-08-30T03:49:30.888893",
     "status": "completed"
    },
    "tags": []
   },
   "outputs": [],
   "source": [
    "spredixcan_gene_obj = {\n",
    "    gene_id: Gene(ensembl_id=gene_id) for gene_id in spredixcan_genes_models.index\n",
    "}"
   ]
  },
  {
   "cell_type": "code",
   "execution_count": 93,
   "id": "59efbedc-0b5d-4d0b-bd82-95e74c0ba793",
   "metadata": {
    "execution": {
     "iopub.execute_input": "2023-08-30T03:49:30.960202Z",
     "iopub.status.busy": "2023-08-30T03:49:30.959745Z",
     "iopub.status.idle": "2023-08-30T03:49:30.976742Z",
     "shell.execute_reply": "2023-08-30T03:49:30.976275Z"
    },
    "papermill": {
     "duration": 0.032192,
     "end_time": "2023-08-30T03:49:30.977602",
     "exception": false,
     "start_time": "2023-08-30T03:49:30.945410",
     "status": "completed"
    },
    "tags": []
   },
   "outputs": [
    {
     "data": {
      "text/plain": [
       "6445"
      ]
     },
     "execution_count": 93,
     "metadata": {},
     "output_type": "execute_result"
    }
   ],
   "source": [
    "len(spredixcan_gene_obj)"
   ]
  },
  {
   "cell_type": "markdown",
   "id": "ab6ff41a-0949-4eea-abef-7dc4f0b373fc",
   "metadata": {
    "papermill": {
     "duration": 0.01348,
     "end_time": "2023-08-30T03:49:31.004656",
     "exception": false,
     "start_time": "2023-08-30T03:49:30.991176",
     "status": "completed"
    },
    "tags": []
   },
   "source": [
    "### Count number of SNPs predictors used across tissue models"
   ]
  },
  {
   "cell_type": "code",
   "execution_count": 94,
   "id": "c8f6cc6f-5812-45c9-b775-6f2193f8a360",
   "metadata": {
    "execution": {
     "iopub.execute_input": "2023-08-30T03:49:31.032992Z",
     "iopub.status.busy": "2023-08-30T03:49:31.032530Z",
     "iopub.status.idle": "2023-08-30T03:49:31.087707Z",
     "shell.execute_reply": "2023-08-30T03:49:31.087153Z"
    },
    "papermill": {
     "duration": 0.070621,
     "end_time": "2023-08-30T03:49:31.088863",
     "exception": false,
     "start_time": "2023-08-30T03:49:31.018242",
     "status": "completed"
    },
    "tags": []
   },
   "outputs": [],
   "source": [
    "spredixcan_genes_sum_of_n_snps_used = (\n",
    "    spredixcan_dfs.groupby(\"gene_id\")[\"n_snps_used\"].sum().rename(\"n_snps_used_sum\")\n",
    ")"
   ]
  },
  {
   "cell_type": "code",
   "execution_count": 95,
   "id": "7255df64-7b9f-4504-a4fa-1f2a9aa56ec0",
   "metadata": {
    "execution": {
     "iopub.execute_input": "2023-08-30T03:49:31.117141Z",
     "iopub.status.busy": "2023-08-30T03:49:31.116638Z",
     "iopub.status.idle": "2023-08-30T03:49:31.135208Z",
     "shell.execute_reply": "2023-08-30T03:49:31.134732Z"
    },
    "papermill": {
     "duration": 0.033422,
     "end_time": "2023-08-30T03:49:31.136082",
     "exception": false,
     "start_time": "2023-08-30T03:49:31.102660",
     "status": "completed"
    },
    "tags": []
   },
   "outputs": [
    {
     "data": {
      "text/plain": [
       "gene_id\n",
       "ENSG00000000419     2\n",
       "ENSG00000000938    40\n",
       "ENSG00000000971    44\n",
       "ENSG00000001084    46\n",
       "ENSG00000001167    47\n",
       "                   ..\n",
       "ENSG00000278540    44\n",
       "ENSG00000278828     5\n",
       "ENSG00000278845    89\n",
       "ENSG00000281005    81\n",
       "ENSG00000282608    40\n",
       "Name: n_snps_used_sum, Length: 6445, dtype: int64"
      ]
     },
     "execution_count": 95,
     "metadata": {},
     "output_type": "execute_result"
    }
   ],
   "source": [
    "spredixcan_genes_sum_of_n_snps_used"
   ]
  },
  {
   "cell_type": "code",
   "execution_count": 96,
   "id": "44bc1222-b334-4ce2-8997-494d0e584cf9",
   "metadata": {
    "execution": {
     "iopub.execute_input": "2023-08-30T03:49:31.164675Z",
     "iopub.status.busy": "2023-08-30T03:49:31.164194Z",
     "iopub.status.idle": "2023-08-30T03:49:31.183369Z",
     "shell.execute_reply": "2023-08-30T03:49:31.182864Z"
    },
    "papermill": {
     "duration": 0.034576,
     "end_time": "2023-08-30T03:49:31.184407",
     "exception": false,
     "start_time": "2023-08-30T03:49:31.149831",
     "status": "completed"
    },
    "tags": []
   },
   "outputs": [],
   "source": [
    "# add sum of snps used to spredixcan_genes_models\n",
    "spredixcan_genes_models = spredixcan_genes_models.join(\n",
    "    spredixcan_genes_sum_of_n_snps_used\n",
    ")"
   ]
  },
  {
   "cell_type": "code",
   "execution_count": 97,
   "id": "5e5e6d7f-b970-4f21-9322-b76bc22afd71",
   "metadata": {
    "execution": {
     "iopub.execute_input": "2023-08-30T03:49:31.214008Z",
     "iopub.status.busy": "2023-08-30T03:49:31.213584Z",
     "iopub.status.idle": "2023-08-30T03:49:31.230406Z",
     "shell.execute_reply": "2023-08-30T03:49:31.229925Z"
    },
    "papermill": {
     "duration": 0.032041,
     "end_time": "2023-08-30T03:49:31.231244",
     "exception": false,
     "start_time": "2023-08-30T03:49:31.199203",
     "status": "completed"
    },
    "tags": []
   },
   "outputs": [
    {
     "data": {
      "text/plain": [
       "(6445, 4)"
      ]
     },
     "execution_count": 97,
     "metadata": {},
     "output_type": "execute_result"
    }
   ],
   "source": [
    "spredixcan_genes_models.shape"
   ]
  },
  {
   "cell_type": "code",
   "execution_count": 98,
   "id": "22c096c2-213a-4001-8454-1633997d404f",
   "metadata": {
    "execution": {
     "iopub.execute_input": "2023-08-30T03:49:31.259916Z",
     "iopub.status.busy": "2023-08-30T03:49:31.259510Z",
     "iopub.status.idle": "2023-08-30T03:49:31.280565Z",
     "shell.execute_reply": "2023-08-30T03:49:31.280076Z"
    },
    "papermill": {
     "duration": 0.036052,
     "end_time": "2023-08-30T03:49:31.281406",
     "exception": false,
     "start_time": "2023-08-30T03:49:31.245354",
     "status": "completed"
    },
    "tags": []
   },
   "outputs": [
    {
     "data": {
      "text/html": [
       "<div>\n",
       "<style scoped>\n",
       "    .dataframe tbody tr th:only-of-type {\n",
       "        vertical-align: middle;\n",
       "    }\n",
       "\n",
       "    .dataframe tbody tr th {\n",
       "        vertical-align: top;\n",
       "    }\n",
       "\n",
       "    .dataframe thead th {\n",
       "        text-align: right;\n",
       "    }\n",
       "</style>\n",
       "<table border=\"1\" class=\"dataframe\">\n",
       "  <thead>\n",
       "    <tr style=\"text-align: right;\">\n",
       "      <th></th>\n",
       "      <th>gene_name</th>\n",
       "      <th>tissue</th>\n",
       "      <th>n_tissues</th>\n",
       "      <th>n_snps_used_sum</th>\n",
       "    </tr>\n",
       "    <tr>\n",
       "      <th>gene_id</th>\n",
       "      <th></th>\n",
       "      <th></th>\n",
       "      <th></th>\n",
       "      <th></th>\n",
       "    </tr>\n",
       "  </thead>\n",
       "  <tbody>\n",
       "    <tr>\n",
       "      <th>ENSG00000000419</th>\n",
       "      <td>DPM1</td>\n",
       "      <td>(Brain_Hypothalamus, Brain_Substantia_nigra)</td>\n",
       "      <td>2</td>\n",
       "      <td>2</td>\n",
       "    </tr>\n",
       "    <tr>\n",
       "      <th>ENSG00000000938</th>\n",
       "      <td>FGR</td>\n",
       "      <td>(Thyroid, Artery_Tibial, Stomach, Brain_Cortex...</td>\n",
       "      <td>36</td>\n",
       "      <td>40</td>\n",
       "    </tr>\n",
       "    <tr>\n",
       "      <th>ENSG00000000971</th>\n",
       "      <td>CFH</td>\n",
       "      <td>(Thyroid, Artery_Tibial, Brain_Cortex, Brain_S...</td>\n",
       "      <td>34</td>\n",
       "      <td>44</td>\n",
       "    </tr>\n",
       "    <tr>\n",
       "      <th>ENSG00000001084</th>\n",
       "      <td>GCLC</td>\n",
       "      <td>(Thyroid, Artery_Tibial, Brain_Cortex, Pancrea...</td>\n",
       "      <td>32</td>\n",
       "      <td>46</td>\n",
       "    </tr>\n",
       "    <tr>\n",
       "      <th>ENSG00000001167</th>\n",
       "      <td>NFYA</td>\n",
       "      <td>(Thyroid, Artery_Tibial, Brain_Cortex, Brain_S...</td>\n",
       "      <td>40</td>\n",
       "      <td>47</td>\n",
       "    </tr>\n",
       "  </tbody>\n",
       "</table>\n",
       "</div>"
      ],
      "text/plain": [
       "                gene_name                                             tissue  \\\n",
       "gene_id                                                                        \n",
       "ENSG00000000419      DPM1       (Brain_Hypothalamus, Brain_Substantia_nigra)   \n",
       "ENSG00000000938       FGR  (Thyroid, Artery_Tibial, Stomach, Brain_Cortex...   \n",
       "ENSG00000000971       CFH  (Thyroid, Artery_Tibial, Brain_Cortex, Brain_S...   \n",
       "ENSG00000001084      GCLC  (Thyroid, Artery_Tibial, Brain_Cortex, Pancrea...   \n",
       "ENSG00000001167      NFYA  (Thyroid, Artery_Tibial, Brain_Cortex, Brain_S...   \n",
       "\n",
       "                 n_tissues  n_snps_used_sum  \n",
       "gene_id                                      \n",
       "ENSG00000000419          2                2  \n",
       "ENSG00000000938         36               40  \n",
       "ENSG00000000971         34               44  \n",
       "ENSG00000001084         32               46  \n",
       "ENSG00000001167         40               47  "
      ]
     },
     "execution_count": 98,
     "metadata": {},
     "output_type": "execute_result"
    }
   ],
   "source": [
    "spredixcan_genes_models.head()"
   ]
  },
  {
   "cell_type": "markdown",
   "id": "f4692315-d7be-465e-b756-f6d76fec949e",
   "metadata": {
    "papermill": {
     "duration": 0.013694,
     "end_time": "2023-08-30T03:49:31.309184",
     "exception": false,
     "start_time": "2023-08-30T03:49:31.295490",
     "status": "completed"
    },
    "tags": []
   },
   "source": [
    "### Count number of SNPs predictors in models across tissue models"
   ]
  },
  {
   "cell_type": "code",
   "execution_count": 99,
   "id": "08eed385-36eb-4e42-b28e-51333f9cfcd3",
   "metadata": {
    "execution": {
     "iopub.execute_input": "2023-08-30T03:49:31.342164Z",
     "iopub.status.busy": "2023-08-30T03:49:31.341798Z",
     "iopub.status.idle": "2023-08-30T03:49:31.395948Z",
     "shell.execute_reply": "2023-08-30T03:49:31.395402Z"
    },
    "papermill": {
     "duration": 0.074025,
     "end_time": "2023-08-30T03:49:31.397107",
     "exception": false,
     "start_time": "2023-08-30T03:49:31.323082",
     "status": "completed"
    },
    "tags": []
   },
   "outputs": [],
   "source": [
    "spredixcan_genes_sum_of_n_snps_in_model = (\n",
    "    spredixcan_dfs.groupby(\"gene_id\")[\"n_snps_in_model\"]\n",
    "    .sum()\n",
    "    .rename(\"n_snps_in_model_sum\")\n",
    ")"
   ]
  },
  {
   "cell_type": "code",
   "execution_count": 100,
   "id": "10431f5c-1f56-4664-a09f-53c608bec631",
   "metadata": {
    "execution": {
     "iopub.execute_input": "2023-08-30T03:49:31.425936Z",
     "iopub.status.busy": "2023-08-30T03:49:31.425639Z",
     "iopub.status.idle": "2023-08-30T03:49:31.445161Z",
     "shell.execute_reply": "2023-08-30T03:49:31.444679Z"
    },
    "papermill": {
     "duration": 0.034693,
     "end_time": "2023-08-30T03:49:31.446065",
     "exception": false,
     "start_time": "2023-08-30T03:49:31.411372",
     "status": "completed"
    },
    "tags": []
   },
   "outputs": [
    {
     "data": {
      "text/plain": [
       "gene_id\n",
       "ENSG00000000419     2\n",
       "ENSG00000000938    40\n",
       "ENSG00000000971    44\n",
       "ENSG00000001084    46\n",
       "ENSG00000001167    48\n",
       "                   ..\n",
       "ENSG00000278540    44\n",
       "ENSG00000278828     5\n",
       "ENSG00000278845    91\n",
       "ENSG00000281005    81\n",
       "ENSG00000282608    40\n",
       "Name: n_snps_in_model_sum, Length: 6445, dtype: int64"
      ]
     },
     "execution_count": 100,
     "metadata": {},
     "output_type": "execute_result"
    }
   ],
   "source": [
    "spredixcan_genes_sum_of_n_snps_in_model"
   ]
  },
  {
   "cell_type": "code",
   "execution_count": 101,
   "id": "d13e1d65-0dcb-4a94-aba8-bcdcd09d17c3",
   "metadata": {
    "execution": {
     "iopub.execute_input": "2023-08-30T03:49:31.474843Z",
     "iopub.status.busy": "2023-08-30T03:49:31.474449Z",
     "iopub.status.idle": "2023-08-30T03:49:31.494491Z",
     "shell.execute_reply": "2023-08-30T03:49:31.493966Z"
    },
    "papermill": {
     "duration": 0.035358,
     "end_time": "2023-08-30T03:49:31.495461",
     "exception": false,
     "start_time": "2023-08-30T03:49:31.460103",
     "status": "completed"
    },
    "tags": []
   },
   "outputs": [],
   "source": [
    "# add sum of snps in model to spredixcan_genes_models\n",
    "spredixcan_genes_models = spredixcan_genes_models.join(\n",
    "    spredixcan_genes_sum_of_n_snps_in_model\n",
    ")"
   ]
  },
  {
   "cell_type": "code",
   "execution_count": 102,
   "id": "0d3973d8-5da2-4c9d-b406-2525f615035c",
   "metadata": {
    "execution": {
     "iopub.execute_input": "2023-08-30T03:49:31.524358Z",
     "iopub.status.busy": "2023-08-30T03:49:31.524065Z",
     "iopub.status.idle": "2023-08-30T03:49:31.541611Z",
     "shell.execute_reply": "2023-08-30T03:49:31.541237Z"
    },
    "papermill": {
     "duration": 0.032761,
     "end_time": "2023-08-30T03:49:31.542449",
     "exception": false,
     "start_time": "2023-08-30T03:49:31.509688",
     "status": "completed"
    },
    "tags": []
   },
   "outputs": [
    {
     "data": {
      "text/plain": [
       "(6445, 5)"
      ]
     },
     "execution_count": 102,
     "metadata": {},
     "output_type": "execute_result"
    }
   ],
   "source": [
    "spredixcan_genes_models.shape"
   ]
  },
  {
   "cell_type": "code",
   "execution_count": 103,
   "id": "76c27f05-c5c6-4ed9-9363-fcba871a3572",
   "metadata": {
    "execution": {
     "iopub.execute_input": "2023-08-30T03:49:31.571224Z",
     "iopub.status.busy": "2023-08-30T03:49:31.571064Z",
     "iopub.status.idle": "2023-08-30T03:49:31.585089Z",
     "shell.execute_reply": "2023-08-30T03:49:31.584714Z"
    },
    "papermill": {
     "duration": 0.029079,
     "end_time": "2023-08-30T03:49:31.585910",
     "exception": false,
     "start_time": "2023-08-30T03:49:31.556831",
     "status": "completed"
    },
    "tags": []
   },
   "outputs": [
    {
     "data": {
      "text/html": [
       "<div>\n",
       "<style scoped>\n",
       "    .dataframe tbody tr th:only-of-type {\n",
       "        vertical-align: middle;\n",
       "    }\n",
       "\n",
       "    .dataframe tbody tr th {\n",
       "        vertical-align: top;\n",
       "    }\n",
       "\n",
       "    .dataframe thead th {\n",
       "        text-align: right;\n",
       "    }\n",
       "</style>\n",
       "<table border=\"1\" class=\"dataframe\">\n",
       "  <thead>\n",
       "    <tr style=\"text-align: right;\">\n",
       "      <th></th>\n",
       "      <th>gene_name</th>\n",
       "      <th>tissue</th>\n",
       "      <th>n_tissues</th>\n",
       "      <th>n_snps_used_sum</th>\n",
       "      <th>n_snps_in_model_sum</th>\n",
       "    </tr>\n",
       "    <tr>\n",
       "      <th>gene_id</th>\n",
       "      <th></th>\n",
       "      <th></th>\n",
       "      <th></th>\n",
       "      <th></th>\n",
       "      <th></th>\n",
       "    </tr>\n",
       "  </thead>\n",
       "  <tbody>\n",
       "    <tr>\n",
       "      <th>ENSG00000000419</th>\n",
       "      <td>DPM1</td>\n",
       "      <td>(Brain_Hypothalamus, Brain_Substantia_nigra)</td>\n",
       "      <td>2</td>\n",
       "      <td>2</td>\n",
       "      <td>2</td>\n",
       "    </tr>\n",
       "    <tr>\n",
       "      <th>ENSG00000000938</th>\n",
       "      <td>FGR</td>\n",
       "      <td>(Thyroid, Artery_Tibial, Stomach, Brain_Cortex...</td>\n",
       "      <td>36</td>\n",
       "      <td>40</td>\n",
       "      <td>40</td>\n",
       "    </tr>\n",
       "    <tr>\n",
       "      <th>ENSG00000000971</th>\n",
       "      <td>CFH</td>\n",
       "      <td>(Thyroid, Artery_Tibial, Brain_Cortex, Brain_S...</td>\n",
       "      <td>34</td>\n",
       "      <td>44</td>\n",
       "      <td>44</td>\n",
       "    </tr>\n",
       "    <tr>\n",
       "      <th>ENSG00000001084</th>\n",
       "      <td>GCLC</td>\n",
       "      <td>(Thyroid, Artery_Tibial, Brain_Cortex, Pancrea...</td>\n",
       "      <td>32</td>\n",
       "      <td>46</td>\n",
       "      <td>46</td>\n",
       "    </tr>\n",
       "    <tr>\n",
       "      <th>ENSG00000001167</th>\n",
       "      <td>NFYA</td>\n",
       "      <td>(Thyroid, Artery_Tibial, Brain_Cortex, Brain_S...</td>\n",
       "      <td>40</td>\n",
       "      <td>47</td>\n",
       "      <td>48</td>\n",
       "    </tr>\n",
       "  </tbody>\n",
       "</table>\n",
       "</div>"
      ],
      "text/plain": [
       "                gene_name                                             tissue  \\\n",
       "gene_id                                                                        \n",
       "ENSG00000000419      DPM1       (Brain_Hypothalamus, Brain_Substantia_nigra)   \n",
       "ENSG00000000938       FGR  (Thyroid, Artery_Tibial, Stomach, Brain_Cortex...   \n",
       "ENSG00000000971       CFH  (Thyroid, Artery_Tibial, Brain_Cortex, Brain_S...   \n",
       "ENSG00000001084      GCLC  (Thyroid, Artery_Tibial, Brain_Cortex, Pancrea...   \n",
       "ENSG00000001167      NFYA  (Thyroid, Artery_Tibial, Brain_Cortex, Brain_S...   \n",
       "\n",
       "                 n_tissues  n_snps_used_sum  n_snps_in_model_sum  \n",
       "gene_id                                                           \n",
       "ENSG00000000419          2                2                    2  \n",
       "ENSG00000000938         36               40                   40  \n",
       "ENSG00000000971         34               44                   44  \n",
       "ENSG00000001084         32               46                   46  \n",
       "ENSG00000001167         40               47                   48  "
      ]
     },
     "execution_count": 103,
     "metadata": {},
     "output_type": "execute_result"
    }
   ],
   "source": [
    "spredixcan_genes_models.head()"
   ]
  },
  {
   "cell_type": "markdown",
   "id": "d6947d45-ea78-4c6b-bf71-f7413d1687e3",
   "metadata": {
    "papermill": {
     "duration": 0.0137,
     "end_time": "2023-08-30T03:49:31.614077",
     "exception": false,
     "start_time": "2023-08-30T03:49:31.600377",
     "status": "completed"
    },
    "tags": []
   },
   "source": [
    "### Save"
   ]
  },
  {
   "cell_type": "code",
   "execution_count": 104,
   "id": "ebc3a430-7bd5-4099-8b01-aa77e704e3e7",
   "metadata": {
    "execution": {
     "iopub.execute_input": "2023-08-30T03:49:31.642481Z",
     "iopub.status.busy": "2023-08-30T03:49:31.642318Z",
     "iopub.status.idle": "2023-08-30T03:49:31.653310Z",
     "shell.execute_reply": "2023-08-30T03:49:31.652934Z"
    },
    "papermill": {
     "duration": 0.026165,
     "end_time": "2023-08-30T03:49:31.654183",
     "exception": false,
     "start_time": "2023-08-30T03:49:31.628018",
     "status": "completed"
    },
    "tags": []
   },
   "outputs": [],
   "source": [
    "# this is important, other scripts depend on gene_name to be unique\n",
    "assert spredixcan_genes_models[\"gene_name\"].is_unique"
   ]
  },
  {
   "cell_type": "code",
   "execution_count": 105,
   "id": "e2db5302-3051-4492-97e1-e759d2fb512f",
   "metadata": {
    "execution": {
     "iopub.execute_input": "2023-08-30T03:49:31.683263Z",
     "iopub.status.busy": "2023-08-30T03:49:31.683107Z",
     "iopub.status.idle": "2023-08-30T03:49:31.695166Z",
     "shell.execute_reply": "2023-08-30T03:49:31.694778Z"
    },
    "papermill": {
     "duration": 0.027492,
     "end_time": "2023-08-30T03:49:31.696062",
     "exception": false,
     "start_time": "2023-08-30T03:49:31.668570",
     "status": "completed"
    },
    "tags": []
   },
   "outputs": [],
   "source": [
    "assert not spredixcan_genes_models.isna().any(axis=None)"
   ]
  },
  {
   "cell_type": "code",
   "execution_count": 106,
   "id": "10e19441-8390-4eb1-8da4-24752597bb54",
   "metadata": {
    "execution": {
     "iopub.execute_input": "2023-08-30T03:49:31.725121Z",
     "iopub.status.busy": "2023-08-30T03:49:31.724965Z",
     "iopub.status.idle": "2023-08-30T03:49:31.743749Z",
     "shell.execute_reply": "2023-08-30T03:49:31.743311Z"
    },
    "papermill": {
     "duration": 0.034294,
     "end_time": "2023-08-30T03:49:31.744845",
     "exception": false,
     "start_time": "2023-08-30T03:49:31.710551",
     "status": "completed"
    },
    "tags": []
   },
   "outputs": [],
   "source": [
    "spredixcan_genes_models.to_pickle(OUTPUT_DIR_BASE / \"gene_tissues.pkl\")"
   ]
  },
  {
   "cell_type": "code",
   "execution_count": null,
   "id": "b25e3ead",
   "metadata": {
    "papermill": {
     "duration": 0.014164,
     "end_time": "2023-08-30T03:49:31.773558",
     "exception": false,
     "start_time": "2023-08-30T03:49:31.759394",
     "status": "completed"
    },
    "tags": []
   },
   "outputs": [],
   "source": []
  }
 ],
 "metadata": {
  "jupytext": {
   "cell_metadata_filter": "all,-execution,-papermill,-trusted",
   "formats": "ipynb,py//py:percent"
  },
  "kernelspec": {
   "display_name": "Python 3 (ipykernel)",
   "language": "python",
   "name": "python3"
  },
  "language_info": {
   "codemirror_mode": {
    "name": "ipython",
    "version": 3
   },
   "file_extension": ".py",
   "mimetype": "text/x-python",
   "name": "python",
   "nbconvert_exporter": "python",
   "pygments_lexer": "ipython3",
   "version": "3.10.6"
  },
  "papermill": {
   "default_parameters": {},
   "duration": 39.011372,
   "end_time": "2023-08-30T03:49:33.006073",
   "environment_variables": {},
   "exception": null,
   "input_path": "projects/chronotype/nbs/20_gene_corrs/jobs/01-compile_gwas_snps_and_twas_genes.ipynb",
   "output_path": "projects/chronotype/nbs/20_gene_corrs/jobs/../output/chronotype/01-compile_gwas_snps_and_twas_genes.run.ipynb",
   "parameters": {
    "COHORT_NAME": "chronotype",
    "GWAS_FILE": "/opt/data/projects/chronotype/results/final_imputed_gwas/chronotype_raw_BOLT.output_HRC.only_plus.metrics_maf0.001_hwep1em12_info0.3.txt-harmonized-imputed.txt.gz",
    "OUTPUT_DIR_BASE": "/opt/data/projects/chronotype/results/gls_phenoplier",
    "PHENOPLIER_NOTEBOOK_FILEPATH": "projects/chronotype/nbs/20_gene_corrs/jobs/01-compile_gwas_snps_and_twas_genes.ipynb",
    "SMULTIXCAN_FILE": "/opt/data/projects/chronotype/results/twas/smultixcan/chronotype_raw_BOLT.output_HRC.only_plus.metrics_maf0.001_hwep1em12_info0.3.txt-gtex_v8-mashr-smultixcan.txt",
    "SPREDIXCAN_FILE_PATTERN": "chronotype_raw_BOLT.output_HRC.only_plus.metrics_maf0.001_hwep1em12_info0.3.txt-gtex_v8-mashr-{tissue}.csv",
    "SPREDIXCAN_FOLDER": "/opt/data/projects/chronotype/results/twas/spredixcan"
   },
   "start_time": "2023-08-30T03:48:53.994701",
   "version": "2.2.2"
  },
  "toc-autonumbering": true
 },
 "nbformat": 4,
 "nbformat_minor": 5
}
