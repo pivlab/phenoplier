{
 "cells": [
  {
   "cell_type": "markdown",
   "id": "7a6632fb",
   "metadata": {
    "papermill": {
     "duration": 0.008833,
     "end_time": "2023-08-30T04:00:12.065229",
     "exception": false,
     "start_time": "2023-08-30T04:00:12.056396",
     "status": "completed"
    },
    "tags": []
   },
   "source": [
    "# Description"
   ]
  },
  {
   "cell_type": "markdown",
   "id": "7097c346",
   "metadata": {
    "papermill": {
     "duration": 0.008344,
     "end_time": "2023-08-30T04:00:12.081651",
     "exception": false,
     "start_time": "2023-08-30T04:00:12.073307",
     "status": "completed"
    },
    "tags": []
   },
   "source": [
    "This notebook computes predicted expression correlations between all genes in the MultiPLIER models.\n",
    "\n",
    "It has specicfic parameters for papermill (see under `Settings` below).\n",
    "\n",
    "This notebook should not be directly run. It is used by other notebooks."
   ]
  },
  {
   "cell_type": "markdown",
   "id": "c61d8427",
   "metadata": {
    "papermill": {
     "duration": 0.011781,
     "end_time": "2023-08-30T04:00:12.101342",
     "exception": false,
     "start_time": "2023-08-30T04:00:12.089561",
     "status": "completed"
    },
    "tags": []
   },
   "source": [
    "# Modules"
   ]
  },
  {
   "cell_type": "code",
   "execution_count": 1,
   "id": "bbc0234f",
   "metadata": {
    "execution": {
     "iopub.execute_input": "2023-08-30T04:00:12.129137Z",
     "iopub.status.busy": "2023-08-30T04:00:12.128827Z",
     "iopub.status.idle": "2023-08-30T04:00:12.153371Z",
     "shell.execute_reply": "2023-08-30T04:00:12.152530Z"
    },
    "papermill": {
     "duration": 0.040311,
     "end_time": "2023-08-30T04:00:12.155711",
     "exception": false,
     "start_time": "2023-08-30T04:00:12.115400",
     "status": "completed"
    },
    "tags": []
   },
   "outputs": [],
   "source": [
    "%load_ext autoreload\n",
    "%autoreload 2"
   ]
  },
  {
   "cell_type": "code",
   "execution_count": 2,
   "id": "1d5f5a59",
   "metadata": {
    "execution": {
     "iopub.execute_input": "2023-08-30T04:00:12.176180Z",
     "iopub.status.busy": "2023-08-30T04:00:12.175893Z",
     "iopub.status.idle": "2023-08-30T04:00:12.942899Z",
     "shell.execute_reply": "2023-08-30T04:00:12.942131Z"
    },
    "papermill": {
     "duration": 0.776281,
     "end_time": "2023-08-30T04:00:12.944174",
     "exception": false,
     "start_time": "2023-08-30T04:00:12.167893",
     "status": "completed"
    },
    "tags": []
   },
   "outputs": [],
   "source": [
    "from random import sample, seed\n",
    "import warnings\n",
    "from pathlib import Path\n",
    "import pickle\n",
    "import traceback\n",
    "\n",
    "import numpy as np\n",
    "from scipy.spatial.distance import squareform\n",
    "import pandas as pd\n",
    "from tqdm import tqdm\n",
    "import matplotlib.pyplot as plt\n",
    "import seaborn as sns\n",
    "\n",
    "import conf\n",
    "from entity import Gene"
   ]
  },
  {
   "cell_type": "markdown",
   "id": "1eac24b5",
   "metadata": {
    "papermill": {
     "duration": 0.013597,
     "end_time": "2023-08-30T04:00:12.965782",
     "exception": false,
     "start_time": "2023-08-30T04:00:12.952185",
     "status": "completed"
    },
    "tags": []
   },
   "source": [
    "# Settings"
   ]
  },
  {
   "cell_type": "code",
   "execution_count": 3,
   "id": "ca4560ba",
   "metadata": {
    "execution": {
     "iopub.execute_input": "2023-08-30T04:00:12.993377Z",
     "iopub.status.busy": "2023-08-30T04:00:12.992857Z",
     "iopub.status.idle": "2023-08-30T04:00:13.021742Z",
     "shell.execute_reply": "2023-08-30T04:00:13.020971Z"
    },
    "papermill": {
     "duration": 0.042084,
     "end_time": "2023-08-30T04:00:13.023381",
     "exception": false,
     "start_time": "2023-08-30T04:00:12.981297",
     "status": "completed"
    },
    "tags": [
     "parameters"
    ]
   },
   "outputs": [],
   "source": [
    "# a cohort name (it could be something like UK_BIOBANK, etc)\n",
    "COHORT_NAME = None\n",
    "\n",
    "# reference panel such as 1000G or GTEX_V8\n",
    "REFERENCE_PANEL = \"GTEX_V8\"\n",
    "\n",
    "# predictions models such as MASHR or ELASTIC_NET\n",
    "EQTL_MODEL = \"MASHR\"\n",
    "\n",
    "# this is the default value used in S-MultiXcan to select the\n",
    "# top principal components of the expression correlation matrix\n",
    "SMULTIXCAN_CONDITION_NUMBER = 30\n",
    "\n",
    "# specifies a single chromosome value\n",
    "CHROMOSOME = None\n",
    "\n",
    "# If True, computes the correlation between closeby genes only (see\n",
    "# entity.Gene.within_distance for more details). Otherwise, it computes\n",
    "# correlations for all genes in a chromosome\n",
    "COMPUTE_CORRELATIONS_WITHIN_DISTANCE = True\n",
    "\n",
    "# if True, then it will continue if a gene pair correlation fails,\n",
    "# printing the warning/error for debugging. If False, any warning/error\n",
    "# will be thrown\n",
    "DEBUG_MODE = False\n",
    "\n",
    "# output dir\n",
    "OUTPUT_DIR_BASE = None"
   ]
  },
  {
   "cell_type": "code",
   "execution_count": 4,
   "id": "11b56330",
   "metadata": {
    "execution": {
     "iopub.execute_input": "2023-08-30T04:00:13.035930Z",
     "iopub.status.busy": "2023-08-30T04:00:13.035365Z",
     "iopub.status.idle": "2023-08-30T04:00:13.064378Z",
     "shell.execute_reply": "2023-08-30T04:00:13.063775Z"
    },
    "papermill": {
     "duration": 0.035816,
     "end_time": "2023-08-30T04:00:13.065810",
     "exception": false,
     "start_time": "2023-08-30T04:00:13.029994",
     "status": "completed"
    },
    "tags": [
     "injected-parameters"
    ]
   },
   "outputs": [],
   "source": [
    "# Parameters\n",
    "PHENOPLIER_NOTEBOOK_FILEPATH = (\n",
    "    \"projects/chronotype/nbs/20_gene_corrs/jobs/05-gene_expr_correlations.ipynb\"\n",
    ")\n",
    "COHORT_NAME = \"chronotype\"\n",
    "CHROMOSOME = 15\n",
    "OUTPUT_DIR_BASE = \"/opt/data/projects/chronotype/results/gls_phenoplier\"\n"
   ]
  },
  {
   "cell_type": "code",
   "execution_count": 5,
   "id": "3190631f-27fc-480f-b18e-571d580425a5",
   "metadata": {
    "execution": {
     "iopub.execute_input": "2023-08-30T04:00:13.080713Z",
     "iopub.status.busy": "2023-08-30T04:00:13.080508Z",
     "iopub.status.idle": "2023-08-30T04:00:13.111782Z",
     "shell.execute_reply": "2023-08-30T04:00:13.111340Z"
    },
    "papermill": {
     "duration": 0.039237,
     "end_time": "2023-08-30T04:00:13.112679",
     "exception": false,
     "start_time": "2023-08-30T04:00:13.073442",
     "status": "completed"
    },
    "tags": []
   },
   "outputs": [
    {
     "data": {
      "text/plain": [
       "'Cohort name: chronotype'"
      ]
     },
     "metadata": {},
     "output_type": "display_data"
    }
   ],
   "source": [
    "assert COHORT_NAME is not None and len(COHORT_NAME) > 0, \"A cohort name must be given\"\n",
    "\n",
    "COHORT_NAME = COHORT_NAME.lower()\n",
    "display(f\"Cohort name: {COHORT_NAME}\")"
   ]
  },
  {
   "cell_type": "code",
   "execution_count": 6,
   "id": "f53ba19b-0f93-4fa2-a047-63b375939d1a",
   "metadata": {
    "execution": {
     "iopub.execute_input": "2023-08-30T04:00:13.122898Z",
     "iopub.status.busy": "2023-08-30T04:00:13.122574Z",
     "iopub.status.idle": "2023-08-30T04:00:13.148618Z",
     "shell.execute_reply": "2023-08-30T04:00:13.148172Z"
    },
    "papermill": {
     "duration": 0.032065,
     "end_time": "2023-08-30T04:00:13.149527",
     "exception": false,
     "start_time": "2023-08-30T04:00:13.117462",
     "status": "completed"
    },
    "tags": []
   },
   "outputs": [
    {
     "data": {
      "text/plain": [
       "'Reference panel: GTEX_V8'"
      ]
     },
     "metadata": {},
     "output_type": "display_data"
    }
   ],
   "source": [
    "assert (\n",
    "    REFERENCE_PANEL is not None and len(REFERENCE_PANEL) > 0\n",
    "), \"A reference panel must be given\"\n",
    "\n",
    "display(f\"Reference panel: {REFERENCE_PANEL}\")"
   ]
  },
  {
   "cell_type": "code",
   "execution_count": 7,
   "id": "e024d130-c139-429a-9c6e-ccf149e297b0",
   "metadata": {
    "execution": {
     "iopub.execute_input": "2023-08-30T04:00:13.160638Z",
     "iopub.status.busy": "2023-08-30T04:00:13.160394Z",
     "iopub.status.idle": "2023-08-30T04:00:13.189510Z",
     "shell.execute_reply": "2023-08-30T04:00:13.189093Z"
    },
    "papermill": {
     "duration": 0.036393,
     "end_time": "2023-08-30T04:00:13.191022",
     "exception": false,
     "start_time": "2023-08-30T04:00:13.154629",
     "status": "completed"
    },
    "tags": []
   },
   "outputs": [
    {
     "data": {
      "text/plain": [
       "'eQTL model: MASHR) / mashr_'"
      ]
     },
     "metadata": {},
     "output_type": "display_data"
    }
   ],
   "source": [
    "assert (\n",
    "    EQTL_MODEL is not None and len(EQTL_MODEL) > 0\n",
    "), \"A prediction/eQTL model must be given\"\n",
    "\n",
    "EQTL_MODEL_FILES_PREFIX = conf.PHENOMEXCAN[\"PREDICTION_MODELS\"][f\"{EQTL_MODEL}_PREFIX\"]\n",
    "display(f\"eQTL model: {EQTL_MODEL}) / {EQTL_MODEL_FILES_PREFIX}\")"
   ]
  },
  {
   "cell_type": "code",
   "execution_count": 8,
   "id": "552a7f63-a18c-4d3e-bb6a-94f99b431291",
   "metadata": {
    "execution": {
     "iopub.execute_input": "2023-08-30T04:00:13.201561Z",
     "iopub.status.busy": "2023-08-30T04:00:13.201381Z",
     "iopub.status.idle": "2023-08-30T04:00:13.226684Z",
     "shell.execute_reply": "2023-08-30T04:00:13.226038Z"
    },
    "papermill": {
     "duration": 0.031617,
     "end_time": "2023-08-30T04:00:13.227846",
     "exception": false,
     "start_time": "2023-08-30T04:00:13.196229",
     "status": "completed"
    },
    "tags": []
   },
   "outputs": [
    {
     "data": {
      "text/plain": [
       "'S-MultiXcan condition number: 30'"
      ]
     },
     "metadata": {},
     "output_type": "display_data"
    }
   ],
   "source": [
    "assert (\n",
    "    SMULTIXCAN_CONDITION_NUMBER is not None and SMULTIXCAN_CONDITION_NUMBER > 0\n",
    "), \"The S-MultiXcan condition number (positive integer) must be given\"\n",
    "\n",
    "display(f\"S-MultiXcan condition number: {SMULTIXCAN_CONDITION_NUMBER}\")"
   ]
  },
  {
   "cell_type": "code",
   "execution_count": 9,
   "id": "f34a336f-548e-4afe-8955-90eaea4f42c6",
   "metadata": {
    "execution": {
     "iopub.execute_input": "2023-08-30T04:00:13.244936Z",
     "iopub.status.busy": "2023-08-30T04:00:13.244296Z",
     "iopub.status.idle": "2023-08-30T04:00:13.273041Z",
     "shell.execute_reply": "2023-08-30T04:00:13.272610Z"
    },
    "papermill": {
     "duration": 0.037654,
     "end_time": "2023-08-30T04:00:13.273945",
     "exception": false,
     "start_time": "2023-08-30T04:00:13.236291",
     "status": "completed"
    },
    "tags": []
   },
   "outputs": [
    {
     "data": {
      "text/plain": [
       "'Working on chromosome 15'"
      ]
     },
     "metadata": {},
     "output_type": "display_data"
    }
   ],
   "source": [
    "assert CHROMOSOME is not None and (\n",
    "    1 <= CHROMOSOME <= 22\n",
    "), \"You have to select one chromosome (format: number between 1 and 22)\"\n",
    "\n",
    "display(f\"Working on chromosome {CHROMOSOME}\")"
   ]
  },
  {
   "cell_type": "code",
   "execution_count": 10,
   "id": "ab8e96e8-06b5-4363-9dcd-dc4d78cc27f7",
   "metadata": {
    "execution": {
     "iopub.execute_input": "2023-08-30T04:00:13.285013Z",
     "iopub.status.busy": "2023-08-30T04:00:13.284519Z",
     "iopub.status.idle": "2023-08-30T04:00:13.307495Z",
     "shell.execute_reply": "2023-08-30T04:00:13.307114Z"
    },
    "papermill": {
     "duration": 0.02944,
     "end_time": "2023-08-30T04:00:13.308359",
     "exception": false,
     "start_time": "2023-08-30T04:00:13.278919",
     "status": "completed"
    },
    "tags": []
   },
   "outputs": [
    {
     "data": {
      "text/plain": [
       "'Compute correlation within distance True'"
      ]
     },
     "metadata": {},
     "output_type": "display_data"
    }
   ],
   "source": [
    "display(f\"Compute correlation within distance {COMPUTE_CORRELATIONS_WITHIN_DISTANCE}\")"
   ]
  },
  {
   "cell_type": "code",
   "execution_count": 11,
   "id": "b393b698-77e3-4ba2-8ac1-e14d51aa988f",
   "metadata": {
    "execution": {
     "iopub.execute_input": "2023-08-30T04:00:13.319066Z",
     "iopub.status.busy": "2023-08-30T04:00:13.318837Z",
     "iopub.status.idle": "2023-08-30T04:00:13.338111Z",
     "shell.execute_reply": "2023-08-30T04:00:13.337717Z"
    },
    "papermill": {
     "duration": 0.025714,
     "end_time": "2023-08-30T04:00:13.339039",
     "exception": false,
     "start_time": "2023-08-30T04:00:13.313325",
     "status": "completed"
    },
    "tags": []
   },
   "outputs": [
    {
     "data": {
      "text/plain": [
       "'Using output dir base: /opt/data/projects/chronotype/results/gls_phenoplier/gene_corrs/chronotype'"
      ]
     },
     "metadata": {},
     "output_type": "display_data"
    }
   ],
   "source": [
    "assert (\n",
    "    OUTPUT_DIR_BASE is not None and len(OUTPUT_DIR_BASE) > 0\n",
    "), \"Output directory path must be given\"\n",
    "\n",
    "OUTPUT_DIR_BASE = (Path(OUTPUT_DIR_BASE) / \"gene_corrs\" / COHORT_NAME).resolve()\n",
    "\n",
    "OUTPUT_DIR_BASE.mkdir(parents=True, exist_ok=True)\n",
    "\n",
    "display(f\"Using output dir base: {OUTPUT_DIR_BASE}\")"
   ]
  },
  {
   "cell_type": "markdown",
   "id": "d2ba085e",
   "metadata": {
    "papermill": {
     "duration": 0.004869,
     "end_time": "2023-08-30T04:00:13.349059",
     "exception": false,
     "start_time": "2023-08-30T04:00:13.344190",
     "status": "completed"
    },
    "tags": []
   },
   "source": [
    "# Load data"
   ]
  },
  {
   "cell_type": "markdown",
   "id": "7dcb8db7",
   "metadata": {
    "papermill": {
     "duration": 0.004733,
     "end_time": "2023-08-30T04:00:13.358635",
     "exception": false,
     "start_time": "2023-08-30T04:00:13.353902",
     "status": "completed"
    },
    "tags": []
   },
   "source": [
    "## GWAS variants"
   ]
  },
  {
   "cell_type": "code",
   "execution_count": 12,
   "id": "29434c4e-8cd3-4b9b-82e4-b5a251d9dd19",
   "metadata": {
    "execution": {
     "iopub.execute_input": "2023-08-30T04:00:13.369523Z",
     "iopub.status.busy": "2023-08-30T04:00:13.369111Z",
     "iopub.status.idle": "2023-08-30T04:00:18.045378Z",
     "shell.execute_reply": "2023-08-30T04:00:18.044641Z"
    },
    "papermill": {
     "duration": 4.68424,
     "end_time": "2023-08-30T04:00:18.047622",
     "exception": false,
     "start_time": "2023-08-30T04:00:13.363382",
     "status": "completed"
    },
    "tags": []
   },
   "outputs": [],
   "source": [
    "with open(OUTPUT_DIR_BASE / \"gwas_variant_ids.pkl\", \"rb\") as handle:\n",
    "    gwas_variants_ids_set = pickle.load(handle)"
   ]
  },
  {
   "cell_type": "code",
   "execution_count": 13,
   "id": "b9d9dec2-4a76-4bf9-bde2-e24c95acb8a0",
   "metadata": {
    "execution": {
     "iopub.execute_input": "2023-08-30T04:00:18.067355Z",
     "iopub.status.busy": "2023-08-30T04:00:18.066996Z",
     "iopub.status.idle": "2023-08-30T04:00:18.087168Z",
     "shell.execute_reply": "2023-08-30T04:00:18.086635Z"
    },
    "papermill": {
     "duration": 0.031485,
     "end_time": "2023-08-30T04:00:18.088567",
     "exception": false,
     "start_time": "2023-08-30T04:00:18.057082",
     "status": "completed"
    },
    "tags": []
   },
   "outputs": [
    {
     "data": {
      "text/plain": [
       "11737794"
      ]
     },
     "execution_count": 13,
     "metadata": {},
     "output_type": "execute_result"
    }
   ],
   "source": [
    "len(gwas_variants_ids_set)"
   ]
  },
  {
   "cell_type": "code",
   "execution_count": 14,
   "id": "4235b06a-6034-4ee4-a0a3-2ae35d122418",
   "metadata": {
    "execution": {
     "iopub.execute_input": "2023-08-30T04:00:18.105137Z",
     "iopub.status.busy": "2023-08-30T04:00:18.104943Z",
     "iopub.status.idle": "2023-08-30T04:00:19.629023Z",
     "shell.execute_reply": "2023-08-30T04:00:19.628009Z"
    },
    "papermill": {
     "duration": 1.53419,
     "end_time": "2023-08-30T04:00:19.630866",
     "exception": false,
     "start_time": "2023-08-30T04:00:18.096676",
     "status": "completed"
    },
    "tags": []
   },
   "outputs": [
    {
     "data": {
      "text/plain": [
       "['chr21_38403451_A_G_b38',\n",
       " 'chr18_28559224_A_G_b38',\n",
       " 'chr5_43712777_A_G_b38',\n",
       " 'chr11_31590459_T_C_b38',\n",
       " 'chr8_125142407_G_A_b38']"
      ]
     },
     "execution_count": 14,
     "metadata": {},
     "output_type": "execute_result"
    }
   ],
   "source": [
    "list(gwas_variants_ids_set)[:5]"
   ]
  },
  {
   "cell_type": "markdown",
   "id": "07866999-2305-41f9-a144-e69c9122c212",
   "metadata": {
    "papermill": {
     "duration": 0.008625,
     "end_time": "2023-08-30T04:00:19.647346",
     "exception": false,
     "start_time": "2023-08-30T04:00:19.638721",
     "status": "completed"
    },
    "tags": []
   },
   "source": [
    "## S-PrediXcan tissue models"
   ]
  },
  {
   "cell_type": "code",
   "execution_count": 15,
   "id": "780611d9-77c8-405f-90a4-f271f7b09397",
   "metadata": {
    "execution": {
     "iopub.execute_input": "2023-08-30T04:00:19.665020Z",
     "iopub.status.busy": "2023-08-30T04:00:19.664020Z",
     "iopub.status.idle": "2023-08-30T04:00:22.100376Z",
     "shell.execute_reply": "2023-08-30T04:00:22.099964Z"
    },
    "papermill": {
     "duration": 2.448021,
     "end_time": "2023-08-30T04:00:22.103039",
     "exception": false,
     "start_time": "2023-08-30T04:00:19.655018",
     "status": "completed"
    },
    "tags": []
   },
   "outputs": [],
   "source": [
    "spredixcan_genes_models = pd.read_pickle(OUTPUT_DIR_BASE / \"gene_tissues.pkl\")"
   ]
  },
  {
   "cell_type": "code",
   "execution_count": 16,
   "id": "726dd1f6-9557-4225-91fa-b3b879ea96e1",
   "metadata": {
    "execution": {
     "iopub.execute_input": "2023-08-30T04:00:22.132290Z",
     "iopub.status.busy": "2023-08-30T04:00:22.131968Z",
     "iopub.status.idle": "2023-08-30T04:00:22.154153Z",
     "shell.execute_reply": "2023-08-30T04:00:22.153597Z"
    },
    "papermill": {
     "duration": 0.035257,
     "end_time": "2023-08-30T04:00:22.155759",
     "exception": false,
     "start_time": "2023-08-30T04:00:22.120502",
     "status": "completed"
    },
    "tags": []
   },
   "outputs": [
    {
     "data": {
      "text/plain": [
       "(6445, 5)"
      ]
     },
     "execution_count": 16,
     "metadata": {},
     "output_type": "execute_result"
    }
   ],
   "source": [
    "spredixcan_genes_models.shape"
   ]
  },
  {
   "cell_type": "code",
   "execution_count": 17,
   "id": "944a1b48-222c-4eb0-b252-b9de2cbca215",
   "metadata": {
    "execution": {
     "iopub.execute_input": "2023-08-30T04:00:22.177312Z",
     "iopub.status.busy": "2023-08-30T04:00:22.176954Z",
     "iopub.status.idle": "2023-08-30T04:00:22.206415Z",
     "shell.execute_reply": "2023-08-30T04:00:22.205879Z"
    },
    "papermill": {
     "duration": 0.041637,
     "end_time": "2023-08-30T04:00:22.207690",
     "exception": false,
     "start_time": "2023-08-30T04:00:22.166053",
     "status": "completed"
    },
    "tags": []
   },
   "outputs": [
    {
     "data": {
      "text/html": [
       "<div>\n",
       "<style scoped>\n",
       "    .dataframe tbody tr th:only-of-type {\n",
       "        vertical-align: middle;\n",
       "    }\n",
       "\n",
       "    .dataframe tbody tr th {\n",
       "        vertical-align: top;\n",
       "    }\n",
       "\n",
       "    .dataframe thead th {\n",
       "        text-align: right;\n",
       "    }\n",
       "</style>\n",
       "<table border=\"1\" class=\"dataframe\">\n",
       "  <thead>\n",
       "    <tr style=\"text-align: right;\">\n",
       "      <th></th>\n",
       "      <th>gene_name</th>\n",
       "      <th>tissue</th>\n",
       "      <th>n_tissues</th>\n",
       "      <th>n_snps_used_sum</th>\n",
       "      <th>n_snps_in_model_sum</th>\n",
       "    </tr>\n",
       "    <tr>\n",
       "      <th>gene_id</th>\n",
       "      <th></th>\n",
       "      <th></th>\n",
       "      <th></th>\n",
       "      <th></th>\n",
       "      <th></th>\n",
       "    </tr>\n",
       "  </thead>\n",
       "  <tbody>\n",
       "    <tr>\n",
       "      <th>ENSG00000000419</th>\n",
       "      <td>DPM1</td>\n",
       "      <td>(Brain_Substantia_nigra, Brain_Hypothalamus)</td>\n",
       "      <td>2</td>\n",
       "      <td>2</td>\n",
       "      <td>2</td>\n",
       "    </tr>\n",
       "    <tr>\n",
       "      <th>ENSG00000000938</th>\n",
       "      <td>FGR</td>\n",
       "      <td>(Esophagus_Mucosa, Breast_Mammary_Tissue, Whol...</td>\n",
       "      <td>36</td>\n",
       "      <td>40</td>\n",
       "      <td>40</td>\n",
       "    </tr>\n",
       "    <tr>\n",
       "      <th>ENSG00000000971</th>\n",
       "      <td>CFH</td>\n",
       "      <td>(Heart_Atrial_Appendage, Artery_Coronary, Brea...</td>\n",
       "      <td>34</td>\n",
       "      <td>44</td>\n",
       "      <td>44</td>\n",
       "    </tr>\n",
       "    <tr>\n",
       "      <th>ENSG00000001084</th>\n",
       "      <td>GCLC</td>\n",
       "      <td>(Heart_Atrial_Appendage, Artery_Coronary, Smal...</td>\n",
       "      <td>32</td>\n",
       "      <td>46</td>\n",
       "      <td>46</td>\n",
       "    </tr>\n",
       "    <tr>\n",
       "      <th>ENSG00000001167</th>\n",
       "      <td>NFYA</td>\n",
       "      <td>(Heart_Atrial_Appendage, Esophagus_Mucosa, Art...</td>\n",
       "      <td>40</td>\n",
       "      <td>47</td>\n",
       "      <td>48</td>\n",
       "    </tr>\n",
       "  </tbody>\n",
       "</table>\n",
       "</div>"
      ],
      "text/plain": [
       "                gene_name                                             tissue  \\\n",
       "gene_id                                                                        \n",
       "ENSG00000000419      DPM1       (Brain_Substantia_nigra, Brain_Hypothalamus)   \n",
       "ENSG00000000938       FGR  (Esophagus_Mucosa, Breast_Mammary_Tissue, Whol...   \n",
       "ENSG00000000971       CFH  (Heart_Atrial_Appendage, Artery_Coronary, Brea...   \n",
       "ENSG00000001084      GCLC  (Heart_Atrial_Appendage, Artery_Coronary, Smal...   \n",
       "ENSG00000001167      NFYA  (Heart_Atrial_Appendage, Esophagus_Mucosa, Art...   \n",
       "\n",
       "                 n_tissues  n_snps_used_sum  n_snps_in_model_sum  \n",
       "gene_id                                                           \n",
       "ENSG00000000419          2                2                    2  \n",
       "ENSG00000000938         36               40                   40  \n",
       "ENSG00000000971         34               44                   44  \n",
       "ENSG00000001084         32               46                   46  \n",
       "ENSG00000001167         40               47                   48  "
      ]
     },
     "execution_count": 17,
     "metadata": {},
     "output_type": "execute_result"
    }
   ],
   "source": [
    "spredixcan_genes_models.head()"
   ]
  },
  {
   "cell_type": "code",
   "execution_count": 18,
   "id": "d1c11bb1-be0b-4f40-b360-633d6827109f",
   "metadata": {
    "execution": {
     "iopub.execute_input": "2023-08-30T04:00:22.240731Z",
     "iopub.status.busy": "2023-08-30T04:00:22.240423Z",
     "iopub.status.idle": "2023-08-30T04:00:22.262886Z",
     "shell.execute_reply": "2023-08-30T04:00:22.262256Z"
    },
    "papermill": {
     "duration": 0.041944,
     "end_time": "2023-08-30T04:00:22.264310",
     "exception": false,
     "start_time": "2023-08-30T04:00:22.222366",
     "status": "completed"
    },
    "tags": []
   },
   "outputs": [],
   "source": [
    "assert spredixcan_genes_models.index.is_unique"
   ]
  },
  {
   "cell_type": "markdown",
   "id": "a5b5092c-a13e-47c4-a92a-480fcc08f3ae",
   "metadata": {
    "papermill": {
     "duration": 0.005577,
     "end_time": "2023-08-30T04:00:22.275769",
     "exception": false,
     "start_time": "2023-08-30T04:00:22.270192",
     "status": "completed"
    },
    "tags": []
   },
   "source": [
    "## Gene info"
   ]
  },
  {
   "cell_type": "code",
   "execution_count": 19,
   "id": "7d6bb224-88e9-4358-ac10-43a41d92cdad",
   "metadata": {
    "execution": {
     "iopub.execute_input": "2023-08-30T04:00:22.287729Z",
     "iopub.status.busy": "2023-08-30T04:00:22.287451Z",
     "iopub.status.idle": "2023-08-30T04:00:22.311210Z",
     "shell.execute_reply": "2023-08-30T04:00:22.310677Z"
    },
    "papermill": {
     "duration": 0.03131,
     "end_time": "2023-08-30T04:00:22.312396",
     "exception": false,
     "start_time": "2023-08-30T04:00:22.281086",
     "status": "completed"
    },
    "tags": []
   },
   "outputs": [],
   "source": [
    "genes_info = pd.read_pickle(OUTPUT_DIR_BASE / \"genes_info.pkl\")"
   ]
  },
  {
   "cell_type": "code",
   "execution_count": 20,
   "id": "9e32abfa-546d-483e-8c18-d526e9e05903",
   "metadata": {
    "execution": {
     "iopub.execute_input": "2023-08-30T04:00:22.325374Z",
     "iopub.status.busy": "2023-08-30T04:00:22.325102Z",
     "iopub.status.idle": "2023-08-30T04:00:22.347350Z",
     "shell.execute_reply": "2023-08-30T04:00:22.346809Z"
    },
    "papermill": {
     "duration": 0.029907,
     "end_time": "2023-08-30T04:00:22.348278",
     "exception": false,
     "start_time": "2023-08-30T04:00:22.318371",
     "status": "completed"
    },
    "tags": []
   },
   "outputs": [
    {
     "data": {
      "text/plain": [
       "(6445, 7)"
      ]
     },
     "execution_count": 20,
     "metadata": {},
     "output_type": "execute_result"
    }
   ],
   "source": [
    "genes_info.shape"
   ]
  },
  {
   "cell_type": "code",
   "execution_count": 21,
   "id": "d16c3e92-85ec-468a-9a56-e25a9774a1cb",
   "metadata": {
    "execution": {
     "iopub.execute_input": "2023-08-30T04:00:22.363255Z",
     "iopub.status.busy": "2023-08-30T04:00:22.362970Z",
     "iopub.status.idle": "2023-08-30T04:00:22.389863Z",
     "shell.execute_reply": "2023-08-30T04:00:22.389361Z"
    },
    "papermill": {
     "duration": 0.03714,
     "end_time": "2023-08-30T04:00:22.391057",
     "exception": false,
     "start_time": "2023-08-30T04:00:22.353917",
     "status": "completed"
    },
    "tags": []
   },
   "outputs": [
    {
     "data": {
      "text/html": [
       "<div>\n",
       "<style scoped>\n",
       "    .dataframe tbody tr th:only-of-type {\n",
       "        vertical-align: middle;\n",
       "    }\n",
       "\n",
       "    .dataframe tbody tr th {\n",
       "        vertical-align: top;\n",
       "    }\n",
       "\n",
       "    .dataframe thead th {\n",
       "        text-align: right;\n",
       "    }\n",
       "</style>\n",
       "<table border=\"1\" class=\"dataframe\">\n",
       "  <thead>\n",
       "    <tr style=\"text-align: right;\">\n",
       "      <th></th>\n",
       "      <th>name</th>\n",
       "      <th>id</th>\n",
       "      <th>chr</th>\n",
       "      <th>band</th>\n",
       "      <th>start_position</th>\n",
       "      <th>end_position</th>\n",
       "      <th>gene_length</th>\n",
       "    </tr>\n",
       "  </thead>\n",
       "  <tbody>\n",
       "    <tr>\n",
       "      <th>0</th>\n",
       "      <td>DUT</td>\n",
       "      <td>ENSG00000128951</td>\n",
       "      <td>15</td>\n",
       "      <td>15q21.1</td>\n",
       "      <td>48331011</td>\n",
       "      <td>48343373</td>\n",
       "      <td>12362</td>\n",
       "    </tr>\n",
       "    <tr>\n",
       "      <th>1</th>\n",
       "      <td>NDUFA4</td>\n",
       "      <td>ENSG00000189043</td>\n",
       "      <td>7</td>\n",
       "      <td>7p21.3</td>\n",
       "      <td>10931943</td>\n",
       "      <td>10940153</td>\n",
       "      <td>8210</td>\n",
       "    </tr>\n",
       "    <tr>\n",
       "      <th>2</th>\n",
       "      <td>EPHB3</td>\n",
       "      <td>ENSG00000182580</td>\n",
       "      <td>3</td>\n",
       "      <td>3q27.1</td>\n",
       "      <td>184561785</td>\n",
       "      <td>184582408</td>\n",
       "      <td>20623</td>\n",
       "    </tr>\n",
       "    <tr>\n",
       "      <th>3</th>\n",
       "      <td>MYLK</td>\n",
       "      <td>ENSG00000065534</td>\n",
       "      <td>3</td>\n",
       "      <td>3q21.1</td>\n",
       "      <td>123610049</td>\n",
       "      <td>123884331</td>\n",
       "      <td>274282</td>\n",
       "    </tr>\n",
       "    <tr>\n",
       "      <th>4</th>\n",
       "      <td>SMPD4</td>\n",
       "      <td>ENSG00000136699</td>\n",
       "      <td>2</td>\n",
       "      <td>2q21.1</td>\n",
       "      <td>130151392</td>\n",
       "      <td>130182750</td>\n",
       "      <td>31358</td>\n",
       "    </tr>\n",
       "  </tbody>\n",
       "</table>\n",
       "</div>"
      ],
      "text/plain": [
       "     name               id  chr     band  start_position  end_position  \\\n",
       "0     DUT  ENSG00000128951   15  15q21.1        48331011      48343373   \n",
       "1  NDUFA4  ENSG00000189043    7   7p21.3        10931943      10940153   \n",
       "2   EPHB3  ENSG00000182580    3   3q27.1       184561785     184582408   \n",
       "3    MYLK  ENSG00000065534    3   3q21.1       123610049     123884331   \n",
       "4   SMPD4  ENSG00000136699    2   2q21.1       130151392     130182750   \n",
       "\n",
       "   gene_length  \n",
       "0        12362  \n",
       "1         8210  \n",
       "2        20623  \n",
       "3       274282  \n",
       "4        31358  "
      ]
     },
     "execution_count": 21,
     "metadata": {},
     "output_type": "execute_result"
    }
   ],
   "source": [
    "genes_info.head()"
   ]
  },
  {
   "cell_type": "markdown",
   "id": "d3843e06",
   "metadata": {
    "papermill": {
     "duration": 0.009566,
     "end_time": "2023-08-30T04:00:22.410580",
     "exception": false,
     "start_time": "2023-08-30T04:00:22.401014",
     "status": "completed"
    },
    "tags": []
   },
   "source": [
    "# Compute correlations"
   ]
  },
  {
   "cell_type": "code",
   "execution_count": 22,
   "id": "cb859c15-d1f3-4006-a74c-2b83c0db9611",
   "metadata": {
    "execution": {
     "iopub.execute_input": "2023-08-30T04:00:22.424171Z",
     "iopub.status.busy": "2023-08-30T04:00:22.423883Z",
     "iopub.status.idle": "2023-08-30T04:00:22.447940Z",
     "shell.execute_reply": "2023-08-30T04:00:22.447068Z"
    },
    "papermill": {
     "duration": 0.032117,
     "end_time": "2023-08-30T04:00:22.449232",
     "exception": false,
     "start_time": "2023-08-30T04:00:22.417115",
     "status": "completed"
    },
    "tags": []
   },
   "outputs": [
    {
     "data": {
      "text/plain": [
       "PosixPath('/opt/data/projects/chronotype/results/gls_phenoplier/gene_corrs/chronotype/by_chr/gene_corrs-chr15.pkl')"
      ]
     },
     "metadata": {},
     "output_type": "display_data"
    }
   ],
   "source": [
    "output_dir = OUTPUT_DIR_BASE / \"by_chr\"\n",
    "output_dir.mkdir(exist_ok=True, parents=True)\n",
    "output_file = output_dir / f\"gene_corrs-chr{CHROMOSOME}.pkl\"\n",
    "display(output_file)"
   ]
  },
  {
   "cell_type": "code",
   "execution_count": 23,
   "id": "aa674fe4-6794-4eed-98fa-32b39d1d4ace",
   "metadata": {
    "execution": {
     "iopub.execute_input": "2023-08-30T04:00:22.464206Z",
     "iopub.status.busy": "2023-08-30T04:00:22.463922Z",
     "iopub.status.idle": "2023-08-30T04:00:22.488847Z",
     "shell.execute_reply": "2023-08-30T04:00:22.487961Z"
    },
    "papermill": {
     "duration": 0.033239,
     "end_time": "2023-08-30T04:00:22.490475",
     "exception": false,
     "start_time": "2023-08-30T04:00:22.457236",
     "status": "completed"
    },
    "tags": []
   },
   "outputs": [],
   "source": [
    "warnings.filterwarnings(\"error\")"
   ]
  },
  {
   "cell_type": "code",
   "execution_count": 24,
   "id": "44d5450b-3baf-43f1-9e2e-4b06f1a785f8",
   "metadata": {
    "execution": {
     "iopub.execute_input": "2023-08-30T04:00:22.511634Z",
     "iopub.status.busy": "2023-08-30T04:00:22.511345Z",
     "iopub.status.idle": "2023-08-30T04:00:22.536851Z",
     "shell.execute_reply": "2023-08-30T04:00:22.535969Z"
    },
    "papermill": {
     "duration": 0.037936,
     "end_time": "2023-08-30T04:00:22.538313",
     "exception": false,
     "start_time": "2023-08-30T04:00:22.500377",
     "status": "completed"
    },
    "tags": []
   },
   "outputs": [],
   "source": [
    "# standard checks\n",
    "all_chrs = genes_info[\"chr\"].dropna().unique()\n",
    "assert all_chrs.shape[0] == 22\n",
    "\n",
    "# select chromosome given by the user\n",
    "assert CHROMOSOME in all_chrs"
   ]
  },
  {
   "cell_type": "code",
   "execution_count": 25,
   "id": "2d7c043c-92a7-4d35-991b-fa69ac1e0268",
   "metadata": {
    "execution": {
     "iopub.execute_input": "2023-08-30T04:00:22.559526Z",
     "iopub.status.busy": "2023-08-30T04:00:22.559169Z",
     "iopub.status.idle": "2023-08-30T04:00:22.585957Z",
     "shell.execute_reply": "2023-08-30T04:00:22.585379Z"
    },
    "papermill": {
     "duration": 0.038688,
     "end_time": "2023-08-30T04:00:22.587103",
     "exception": false,
     "start_time": "2023-08-30T04:00:22.548415",
     "status": "completed"
    },
    "tags": []
   },
   "outputs": [
    {
     "name": "stdout",
     "output_type": "stream",
     "text": [
      "Number of genes in chromosome: 187\n"
     ]
    }
   ],
   "source": [
    "# run only on the chromosome specified\n",
    "all_chrs = [CHROMOSOME]\n",
    "genes_chr = genes_info[genes_info[\"chr\"] == CHROMOSOME]\n",
    "\n",
    "# For testing purposes\n",
    "# genes_chr = genes_chr.sample(n=20)\n",
    "\n",
    "print(f\"Number of genes in chromosome: {genes_chr.shape[0]}\", flush=True)"
   ]
  },
  {
   "cell_type": "code",
   "execution_count": 26,
   "id": "916015d8-2979-46d3-a9b9-1cf5a0932c6a",
   "metadata": {
    "execution": {
     "iopub.execute_input": "2023-08-30T04:00:22.608682Z",
     "iopub.status.busy": "2023-08-30T04:00:22.608181Z",
     "iopub.status.idle": "2023-08-30T04:00:22.631259Z",
     "shell.execute_reply": "2023-08-30T04:00:22.630656Z"
    },
    "papermill": {
     "duration": 0.035281,
     "end_time": "2023-08-30T04:00:22.632523",
     "exception": false,
     "start_time": "2023-08-30T04:00:22.597242",
     "status": "completed"
    },
    "tags": []
   },
   "outputs": [],
   "source": [
    "# sort genes by starting position to make visualizations better later\n",
    "genes_chr = genes_chr.sort_values(\"start_position\")"
   ]
  },
  {
   "cell_type": "code",
   "execution_count": 27,
   "id": "a38aa74a-8ad3-47f6-8ef9-56be0e011774",
   "metadata": {
    "execution": {
     "iopub.execute_input": "2023-08-30T04:00:22.645139Z",
     "iopub.status.busy": "2023-08-30T04:00:22.644829Z",
     "iopub.status.idle": "2023-08-30T04:00:22.666911Z",
     "shell.execute_reply": "2023-08-30T04:00:22.666309Z"
    },
    "papermill": {
     "duration": 0.029615,
     "end_time": "2023-08-30T04:00:22.668081",
     "exception": false,
     "start_time": "2023-08-30T04:00:22.638466",
     "status": "completed"
    },
    "tags": []
   },
   "outputs": [],
   "source": [
    "gene_chr_objs = [Gene(ensembl_id=gene_id) for gene_id in genes_chr[\"id\"]]"
   ]
  },
  {
   "cell_type": "code",
   "execution_count": 28,
   "id": "570f974f-13c3-42b6-ad3a-ce99ca885c1a",
   "metadata": {
    "execution": {
     "iopub.execute_input": "2023-08-30T04:00:22.682670Z",
     "iopub.status.busy": "2023-08-30T04:00:22.682298Z",
     "iopub.status.idle": "2023-08-30T04:00:22.708601Z",
     "shell.execute_reply": "2023-08-30T04:00:22.708157Z"
    },
    "papermill": {
     "duration": 0.035349,
     "end_time": "2023-08-30T04:00:22.709466",
     "exception": false,
     "start_time": "2023-08-30T04:00:22.674117",
     "status": "completed"
    },
    "tags": []
   },
   "outputs": [
    {
     "name": "stdout",
     "output_type": "stream",
     "text": [
      "Number of gene combinations: 17578\n"
     ]
    }
   ],
   "source": [
    "n = len(gene_chr_objs)\n",
    "# diagonal elements + upper triangular matrix\n",
    "n_comb = n + int(n * (n - 1) / 2.0)\n",
    "print(f\"Number of gene combinations: {n_comb}\", flush=True)"
   ]
  },
  {
   "cell_type": "code",
   "execution_count": 29,
   "id": "cdbb90a1",
   "metadata": {
    "execution": {
     "iopub.execute_input": "2023-08-30T04:00:22.728287Z",
     "iopub.status.busy": "2023-08-30T04:00:22.727917Z",
     "iopub.status.idle": "2023-08-30T04:03:31.452373Z",
     "shell.execute_reply": "2023-08-30T04:03:31.451907Z"
    },
    "papermill": {
     "duration": 188.735849,
     "end_time": "2023-08-30T04:03:31.453592",
     "exception": false,
     "start_time": "2023-08-30T04:00:22.717743",
     "status": "completed"
    },
    "tags": []
   },
   "outputs": [
    {
     "name": "stderr",
     "output_type": "stream",
     "text": [
      "ENSG00000185418 / ENSG00000185418: 100%|██████████████████████| 17578/17578 [03:08<00:00, 93.16it/s]\n"
     ]
    },
    {
     "data": {
      "text/plain": [
       "PosixPath('/opt/data/projects/chronotype/results/gls_phenoplier/gene_corrs/chronotype/by_chr/gene_corrs-chr15.pkl')"
      ]
     },
     "metadata": {},
     "output_type": "display_data"
    }
   ],
   "source": [
    "gene_corrs = []\n",
    "gene_corrs_data = np.full(\n",
    "    (n, n),\n",
    "    np.nan,\n",
    "    dtype=np.float64,\n",
    ")\n",
    "\n",
    "i = 0\n",
    "with tqdm(ncols=100, total=n_comb) as pbar:\n",
    "    for gene1_idx in range(0, len(gene_chr_objs)):\n",
    "        gene1_obj = gene_chr_objs[gene1_idx]\n",
    "        gene1_tissues = spredixcan_genes_models.loc[gene1_obj.ensembl_id, \"tissue\"]\n",
    "\n",
    "        for gene2_idx in range(gene1_idx, len(gene_chr_objs)):\n",
    "            gene2_obj = gene_chr_objs[gene2_idx]\n",
    "            gene2_tissues = spredixcan_genes_models.loc[gene2_obj.ensembl_id, \"tissue\"]\n",
    "\n",
    "            pbar.set_description(f\"{gene1_obj.ensembl_id} / {gene2_obj.ensembl_id}\")\n",
    "\n",
    "            try:\n",
    "                r = gene1_obj.get_ssm_correlation(\n",
    "                    other_gene=gene2_obj,\n",
    "                    tissues=gene1_tissues,\n",
    "                    other_tissues=gene2_tissues,\n",
    "                    snps_subset=gwas_variants_ids_set,\n",
    "                    condition_number=SMULTIXCAN_CONDITION_NUMBER,\n",
    "                    reference_panel=REFERENCE_PANEL,\n",
    "                    model_type=EQTL_MODEL,\n",
    "                    use_within_distance=COMPUTE_CORRELATIONS_WITHIN_DISTANCE,\n",
    "                )\n",
    "\n",
    "                if r is None:\n",
    "                    # if r is None, it's very likely because:\n",
    "                    #  * one of the genes has no prediction models\n",
    "                    #  * all the SNPs predictors for the gene are not present in the reference\n",
    "                    #    panel\n",
    "\n",
    "                    r = 0.0\n",
    "\n",
    "                gene_corrs.append(r)\n",
    "\n",
    "                gene_corrs_data[gene1_idx, gene2_idx] = r\n",
    "                gene_corrs_data[gene2_idx, gene1_idx] = r\n",
    "            except Warning as e:\n",
    "                if not DEBUG_MODE:\n",
    "                    raise e\n",
    "\n",
    "                print(\n",
    "                    f\"RuntimeWarning for genes {gene1_obj.ensembl_id} and {gene2_obj.ensembl_id}\",\n",
    "                    flush=True,\n",
    "                )\n",
    "                print(traceback.format_exc(), flush=True)\n",
    "\n",
    "                gene_corrs.append(np.nan)\n",
    "            except Exception as e:\n",
    "                if not DEBUG_MODE:\n",
    "                    raise e\n",
    "\n",
    "                print(\n",
    "                    f\"Exception for genes {gene1_obj.ensembl_id} and {gene2_obj.ensembl_id}\",\n",
    "                    flush=True,\n",
    "                )\n",
    "                print(traceback.format_exc(), flush=True)\n",
    "\n",
    "                gene_corrs.append(np.nan)\n",
    "\n",
    "            pbar.update(1)\n",
    "\n",
    "# create a pandas series\n",
    "gene_corrs_flat = pd.Series(gene_corrs)\n",
    "\n",
    "# save\n",
    "# FIXME: consider saving only the condenced matrix here. See here for\n",
    "# more details: https://github.com/greenelab/phenoplier/pull/38#discussion_r634600813\n",
    "# gene_corrs_data = squareform(np.array(gene_corrs, dtype=np.float64))\n",
    "# np.fill_diagonal(gene_corrs_data, 1.0)\n",
    "\n",
    "gene_chr_ids = [g.ensembl_id for g in gene_chr_objs]\n",
    "gene_corrs_df = pd.DataFrame(\n",
    "    data=gene_corrs_data,\n",
    "    index=gene_chr_ids,\n",
    "    columns=gene_chr_ids,\n",
    ")\n",
    "\n",
    "output_dir.mkdir(exist_ok=True, parents=True)\n",
    "display(output_file)\n",
    "\n",
    "gene_corrs_df.to_pickle(output_file)"
   ]
  },
  {
   "cell_type": "markdown",
   "id": "faa67b51-5373-470f-aa72-2ded53fa6dfe",
   "metadata": {
    "papermill": {
     "duration": 0.541314,
     "end_time": "2023-08-30T04:03:32.621520",
     "exception": false,
     "start_time": "2023-08-30T04:03:32.080206",
     "status": "completed"
    },
    "tags": []
   },
   "source": [
    "# Testing"
   ]
  },
  {
   "cell_type": "code",
   "execution_count": 30,
   "id": "14f7d046-4b55-4896-a56b-990127bcc388",
   "metadata": {
    "execution": {
     "iopub.execute_input": "2023-08-30T04:03:33.801106Z",
     "iopub.status.busy": "2023-08-30T04:03:33.800839Z",
     "iopub.status.idle": "2023-08-30T04:03:33.816882Z",
     "shell.execute_reply": "2023-08-30T04:03:33.816097Z"
    },
    "papermill": {
     "duration": 0.612795,
     "end_time": "2023-08-30T04:03:33.817839",
     "exception": false,
     "start_time": "2023-08-30T04:03:33.205044",
     "status": "completed"
    },
    "tags": []
   },
   "outputs": [
    {
     "data": {
      "text/plain": [
       "(187, 187)"
      ]
     },
     "execution_count": 30,
     "metadata": {},
     "output_type": "execute_result"
    }
   ],
   "source": [
    "gene_corrs_df.shape"
   ]
  },
  {
   "cell_type": "code",
   "execution_count": 31,
   "id": "c7d15414-3297-4537-a7c6-7588c0baeb75",
   "metadata": {
    "execution": {
     "iopub.execute_input": "2023-08-30T04:03:35.061618Z",
     "iopub.status.busy": "2023-08-30T04:03:35.061388Z",
     "iopub.status.idle": "2023-08-30T04:03:35.103491Z",
     "shell.execute_reply": "2023-08-30T04:03:35.102677Z"
    },
    "papermill": {
     "duration": 0.645738,
     "end_time": "2023-08-30T04:03:35.104954",
     "exception": false,
     "start_time": "2023-08-30T04:03:34.459216",
     "status": "completed"
    },
    "tags": []
   },
   "outputs": [
    {
     "data": {
      "text/html": [
       "<div>\n",
       "<style scoped>\n",
       "    .dataframe tbody tr th:only-of-type {\n",
       "        vertical-align: middle;\n",
       "    }\n",
       "\n",
       "    .dataframe tbody tr th {\n",
       "        vertical-align: top;\n",
       "    }\n",
       "\n",
       "    .dataframe thead th {\n",
       "        text-align: right;\n",
       "    }\n",
       "</style>\n",
       "<table border=\"1\" class=\"dataframe\">\n",
       "  <thead>\n",
       "    <tr style=\"text-align: right;\">\n",
       "      <th></th>\n",
       "      <th>ENSG00000273749</th>\n",
       "      <th>ENSG00000275835</th>\n",
       "      <th>ENSG00000182636</th>\n",
       "      <th>ENSG00000273173</th>\n",
       "      <th>ENSG00000114062</th>\n",
       "      <th>ENSG00000206190</th>\n",
       "      <th>ENSG00000128731</th>\n",
       "      <th>ENSG00000034053</th>\n",
       "      <th>ENSG00000198690</th>\n",
       "      <th>ENSG00000166912</th>\n",
       "      <th>...</th>\n",
       "      <th>ENSG00000182175</th>\n",
       "      <th>ENSG00000140450</th>\n",
       "      <th>ENSG00000140443</th>\n",
       "      <th>ENSG00000068305</th>\n",
       "      <th>ENSG00000183475</th>\n",
       "      <th>ENSG00000184254</th>\n",
       "      <th>ENSG00000131873</th>\n",
       "      <th>ENSG00000131876</th>\n",
       "      <th>ENSG00000140479</th>\n",
       "      <th>ENSG00000185418</th>\n",
       "    </tr>\n",
       "  </thead>\n",
       "  <tbody>\n",
       "    <tr>\n",
       "      <th>ENSG00000273749</th>\n",
       "      <td>1.000000</td>\n",
       "      <td>0.068873</td>\n",
       "      <td>0.008446</td>\n",
       "      <td>0.008907</td>\n",
       "      <td>0.009432</td>\n",
       "      <td>0.017126</td>\n",
       "      <td>0.000000</td>\n",
       "      <td>0.000000</td>\n",
       "      <td>0.0</td>\n",
       "      <td>0.0</td>\n",
       "      <td>...</td>\n",
       "      <td>0.0</td>\n",
       "      <td>0.0</td>\n",
       "      <td>0.0</td>\n",
       "      <td>0.0</td>\n",
       "      <td>0.0</td>\n",
       "      <td>0.0</td>\n",
       "      <td>0.0</td>\n",
       "      <td>0.0</td>\n",
       "      <td>0.0</td>\n",
       "      <td>0.0</td>\n",
       "    </tr>\n",
       "    <tr>\n",
       "      <th>ENSG00000275835</th>\n",
       "      <td>0.068873</td>\n",
       "      <td>1.000000</td>\n",
       "      <td>0.005037</td>\n",
       "      <td>0.002480</td>\n",
       "      <td>0.013665</td>\n",
       "      <td>0.008140</td>\n",
       "      <td>0.000000</td>\n",
       "      <td>0.000000</td>\n",
       "      <td>0.0</td>\n",
       "      <td>0.0</td>\n",
       "      <td>...</td>\n",
       "      <td>0.0</td>\n",
       "      <td>0.0</td>\n",
       "      <td>0.0</td>\n",
       "      <td>0.0</td>\n",
       "      <td>0.0</td>\n",
       "      <td>0.0</td>\n",
       "      <td>0.0</td>\n",
       "      <td>0.0</td>\n",
       "      <td>0.0</td>\n",
       "      <td>0.0</td>\n",
       "    </tr>\n",
       "    <tr>\n",
       "      <th>ENSG00000182636</th>\n",
       "      <td>0.008446</td>\n",
       "      <td>0.005037</td>\n",
       "      <td>1.000000</td>\n",
       "      <td>0.006649</td>\n",
       "      <td>0.002525</td>\n",
       "      <td>0.006553</td>\n",
       "      <td>0.002722</td>\n",
       "      <td>0.000000</td>\n",
       "      <td>0.0</td>\n",
       "      <td>0.0</td>\n",
       "      <td>...</td>\n",
       "      <td>0.0</td>\n",
       "      <td>0.0</td>\n",
       "      <td>0.0</td>\n",
       "      <td>0.0</td>\n",
       "      <td>0.0</td>\n",
       "      <td>0.0</td>\n",
       "      <td>0.0</td>\n",
       "      <td>0.0</td>\n",
       "      <td>0.0</td>\n",
       "      <td>0.0</td>\n",
       "    </tr>\n",
       "    <tr>\n",
       "      <th>ENSG00000273173</th>\n",
       "      <td>0.008907</td>\n",
       "      <td>0.002480</td>\n",
       "      <td>0.006649</td>\n",
       "      <td>1.000000</td>\n",
       "      <td>0.003555</td>\n",
       "      <td>0.010707</td>\n",
       "      <td>0.001674</td>\n",
       "      <td>0.005661</td>\n",
       "      <td>0.0</td>\n",
       "      <td>0.0</td>\n",
       "      <td>...</td>\n",
       "      <td>0.0</td>\n",
       "      <td>0.0</td>\n",
       "      <td>0.0</td>\n",
       "      <td>0.0</td>\n",
       "      <td>0.0</td>\n",
       "      <td>0.0</td>\n",
       "      <td>0.0</td>\n",
       "      <td>0.0</td>\n",
       "      <td>0.0</td>\n",
       "      <td>0.0</td>\n",
       "    </tr>\n",
       "    <tr>\n",
       "      <th>ENSG00000114062</th>\n",
       "      <td>0.009432</td>\n",
       "      <td>0.013665</td>\n",
       "      <td>0.002525</td>\n",
       "      <td>0.003555</td>\n",
       "      <td>1.000000</td>\n",
       "      <td>0.006857</td>\n",
       "      <td>0.001057</td>\n",
       "      <td>0.002283</td>\n",
       "      <td>0.0</td>\n",
       "      <td>0.0</td>\n",
       "      <td>...</td>\n",
       "      <td>0.0</td>\n",
       "      <td>0.0</td>\n",
       "      <td>0.0</td>\n",
       "      <td>0.0</td>\n",
       "      <td>0.0</td>\n",
       "      <td>0.0</td>\n",
       "      <td>0.0</td>\n",
       "      <td>0.0</td>\n",
       "      <td>0.0</td>\n",
       "      <td>0.0</td>\n",
       "    </tr>\n",
       "  </tbody>\n",
       "</table>\n",
       "<p>5 rows × 187 columns</p>\n",
       "</div>"
      ],
      "text/plain": [
       "                 ENSG00000273749  ENSG00000275835  ENSG00000182636  \\\n",
       "ENSG00000273749         1.000000         0.068873         0.008446   \n",
       "ENSG00000275835         0.068873         1.000000         0.005037   \n",
       "ENSG00000182636         0.008446         0.005037         1.000000   \n",
       "ENSG00000273173         0.008907         0.002480         0.006649   \n",
       "ENSG00000114062         0.009432         0.013665         0.002525   \n",
       "\n",
       "                 ENSG00000273173  ENSG00000114062  ENSG00000206190  \\\n",
       "ENSG00000273749         0.008907         0.009432         0.017126   \n",
       "ENSG00000275835         0.002480         0.013665         0.008140   \n",
       "ENSG00000182636         0.006649         0.002525         0.006553   \n",
       "ENSG00000273173         1.000000         0.003555         0.010707   \n",
       "ENSG00000114062         0.003555         1.000000         0.006857   \n",
       "\n",
       "                 ENSG00000128731  ENSG00000034053  ENSG00000198690  \\\n",
       "ENSG00000273749         0.000000         0.000000              0.0   \n",
       "ENSG00000275835         0.000000         0.000000              0.0   \n",
       "ENSG00000182636         0.002722         0.000000              0.0   \n",
       "ENSG00000273173         0.001674         0.005661              0.0   \n",
       "ENSG00000114062         0.001057         0.002283              0.0   \n",
       "\n",
       "                 ENSG00000166912  ...  ENSG00000182175  ENSG00000140450  \\\n",
       "ENSG00000273749              0.0  ...              0.0              0.0   \n",
       "ENSG00000275835              0.0  ...              0.0              0.0   \n",
       "ENSG00000182636              0.0  ...              0.0              0.0   \n",
       "ENSG00000273173              0.0  ...              0.0              0.0   \n",
       "ENSG00000114062              0.0  ...              0.0              0.0   \n",
       "\n",
       "                 ENSG00000140443  ENSG00000068305  ENSG00000183475  \\\n",
       "ENSG00000273749              0.0              0.0              0.0   \n",
       "ENSG00000275835              0.0              0.0              0.0   \n",
       "ENSG00000182636              0.0              0.0              0.0   \n",
       "ENSG00000273173              0.0              0.0              0.0   \n",
       "ENSG00000114062              0.0              0.0              0.0   \n",
       "\n",
       "                 ENSG00000184254  ENSG00000131873  ENSG00000131876  \\\n",
       "ENSG00000273749              0.0              0.0              0.0   \n",
       "ENSG00000275835              0.0              0.0              0.0   \n",
       "ENSG00000182636              0.0              0.0              0.0   \n",
       "ENSG00000273173              0.0              0.0              0.0   \n",
       "ENSG00000114062              0.0              0.0              0.0   \n",
       "\n",
       "                 ENSG00000140479  ENSG00000185418  \n",
       "ENSG00000273749              0.0              0.0  \n",
       "ENSG00000275835              0.0              0.0  \n",
       "ENSG00000182636              0.0              0.0  \n",
       "ENSG00000273173              0.0              0.0  \n",
       "ENSG00000114062              0.0              0.0  \n",
       "\n",
       "[5 rows x 187 columns]"
      ]
     },
     "execution_count": 31,
     "metadata": {},
     "output_type": "execute_result"
    }
   ],
   "source": [
    "gene_corrs_df.head()"
   ]
  },
  {
   "cell_type": "markdown",
   "id": "dad6603f-01c6-41fb-a6f6-241051207dd8",
   "metadata": {
    "papermill": {
     "duration": 0.577571,
     "end_time": "2023-08-30T04:03:36.289476",
     "exception": false,
     "start_time": "2023-08-30T04:03:35.711905",
     "status": "completed"
    },
    "tags": []
   },
   "source": [
    "## Standard checks and stats"
   ]
  },
  {
   "cell_type": "code",
   "execution_count": 32,
   "id": "286686af-1b7b-4440-8453-6bdcbd8de19c",
   "metadata": {
    "execution": {
     "iopub.execute_input": "2023-08-30T04:03:37.719049Z",
     "iopub.status.busy": "2023-08-30T04:03:37.718704Z",
     "iopub.status.idle": "2023-08-30T04:03:37.738212Z",
     "shell.execute_reply": "2023-08-30T04:03:37.737782Z"
    },
    "papermill": {
     "duration": 0.637049,
     "end_time": "2023-08-30T04:03:37.739801",
     "exception": false,
     "start_time": "2023-08-30T04:03:37.102752",
     "status": "completed"
    },
    "tags": []
   },
   "outputs": [],
   "source": [
    "assert not gene_corrs_df.isna().any(axis=None)"
   ]
  },
  {
   "cell_type": "code",
   "execution_count": 33,
   "id": "00583efc-7068-4270-ad1e-4a418e91db96",
   "metadata": {
    "execution": {
     "iopub.execute_input": "2023-08-30T04:03:39.159263Z",
     "iopub.status.busy": "2023-08-30T04:03:39.158897Z",
     "iopub.status.idle": "2023-08-30T04:03:39.182249Z",
     "shell.execute_reply": "2023-08-30T04:03:39.181788Z"
    },
    "papermill": {
     "duration": 0.564606,
     "end_time": "2023-08-30T04:03:39.183181",
     "exception": false,
     "start_time": "2023-08-30T04:03:38.618575",
     "status": "completed"
    },
    "tags": []
   },
   "outputs": [
    {
     "data": {
      "text/plain": [
       "0.0"
      ]
     },
     "metadata": {},
     "output_type": "display_data"
    }
   ],
   "source": [
    "_min_val = gene_corrs_df.min().min()\n",
    "display(_min_val)\n",
    "assert _min_val >= -0.05"
   ]
  },
  {
   "cell_type": "code",
   "execution_count": 34,
   "id": "d04fb2cf-1050-475b-b855-f5f7cc04092b",
   "metadata": {
    "execution": {
     "iopub.execute_input": "2023-08-30T04:03:40.430600Z",
     "iopub.status.busy": "2023-08-30T04:03:40.430093Z",
     "iopub.status.idle": "2023-08-30T04:03:40.450870Z",
     "shell.execute_reply": "2023-08-30T04:03:40.450374Z"
    },
    "papermill": {
     "duration": 0.68123,
     "end_time": "2023-08-30T04:03:40.451739",
     "exception": false,
     "start_time": "2023-08-30T04:03:39.770509",
     "status": "completed"
    },
    "tags": []
   },
   "outputs": [
    {
     "data": {
      "text/plain": [
       "1.0000000000000038"
      ]
     },
     "metadata": {},
     "output_type": "display_data"
    }
   ],
   "source": [
    "_max_val = gene_corrs_df.max().max()  # this captures the diagonal\n",
    "display(_max_val)\n",
    "assert _max_val <= 1.05"
   ]
  },
  {
   "cell_type": "code",
   "execution_count": 35,
   "id": "fe283586-c348-40e0-8841-f6d97bfb021c",
   "metadata": {
    "execution": {
     "iopub.execute_input": "2023-08-30T04:03:41.646262Z",
     "iopub.status.busy": "2023-08-30T04:03:41.645590Z",
     "iopub.status.idle": "2023-08-30T04:03:41.674726Z",
     "shell.execute_reply": "2023-08-30T04:03:41.674029Z"
    },
    "papermill": {
     "duration": 0.598269,
     "end_time": "2023-08-30T04:03:41.675935",
     "exception": false,
     "start_time": "2023-08-30T04:03:41.077666",
     "status": "completed"
    },
    "tags": []
   },
   "outputs": [
    {
     "data": {
      "text/plain": [
       "count    17578.000000\n",
       "mean         0.015310\n",
       "std          0.108991\n",
       "min          0.000000\n",
       "25%          0.000000\n",
       "50%          0.000000\n",
       "75%          0.000000\n",
       "max          1.000000\n",
       "dtype: float64"
      ]
     },
     "execution_count": 35,
     "metadata": {},
     "output_type": "execute_result"
    }
   ],
   "source": [
    "gene_corrs_flat.describe()"
   ]
  },
  {
   "cell_type": "code",
   "execution_count": 36,
   "id": "b3815678-0f93-4b35-897b-a9d047a2aa78",
   "metadata": {
    "execution": {
     "iopub.execute_input": "2023-08-30T04:03:42.794183Z",
     "iopub.status.busy": "2023-08-30T04:03:42.793987Z",
     "iopub.status.idle": "2023-08-30T04:03:42.811446Z",
     "shell.execute_reply": "2023-08-30T04:03:42.810956Z"
    },
    "papermill": {
     "duration": 0.594435,
     "end_time": "2023-08-30T04:03:42.812368",
     "exception": false,
     "start_time": "2023-08-30T04:03:42.217933",
     "status": "completed"
    },
    "tags": []
   },
   "outputs": [
    {
     "data": {
      "text/plain": [
       "0.00    0.000000\n",
       "0.05    0.000000\n",
       "0.10    0.000000\n",
       "0.15    0.000000\n",
       "0.20    0.000000\n",
       "0.25    0.000000\n",
       "0.30    0.000000\n",
       "0.35    0.000000\n",
       "0.40    0.000000\n",
       "0.45    0.000000\n",
       "0.50    0.000000\n",
       "0.55    0.000000\n",
       "0.60    0.000000\n",
       "0.65    0.000000\n",
       "0.70    0.000000\n",
       "0.75    0.000000\n",
       "0.80    0.000000\n",
       "0.85    0.000000\n",
       "0.90    0.005457\n",
       "0.95    0.010619\n",
       "dtype: float64"
      ]
     },
     "metadata": {},
     "output_type": "display_data"
    }
   ],
   "source": [
    "gene_corrs_quantiles = gene_corrs_flat.quantile(np.arange(0, 1, 0.05))\n",
    "display(gene_corrs_quantiles)"
   ]
  },
  {
   "cell_type": "markdown",
   "id": "87134509-b145-4a10-8bc9-b7e914c2b0fa",
   "metadata": {
    "papermill": {
     "duration": 0.555505,
     "end_time": "2023-08-30T04:03:43.937576",
     "exception": false,
     "start_time": "2023-08-30T04:03:43.382071",
     "status": "completed"
    },
    "tags": []
   },
   "source": [
    "## Positive definiteness"
   ]
  },
  {
   "cell_type": "code",
   "execution_count": 37,
   "id": "07d9a9a1-a4f7-48aa-b916-6d42a8cc6186",
   "metadata": {
    "execution": {
     "iopub.execute_input": "2023-08-30T04:03:45.017811Z",
     "iopub.status.busy": "2023-08-30T04:03:45.017445Z",
     "iopub.status.idle": "2023-08-30T04:03:45.052010Z",
     "shell.execute_reply": "2023-08-30T04:03:45.051483Z"
    },
    "papermill": {
     "duration": 0.559916,
     "end_time": "2023-08-30T04:03:45.052906",
     "exception": false,
     "start_time": "2023-08-30T04:03:44.492990",
     "status": "completed"
    },
    "tags": []
   },
   "outputs": [
    {
     "data": {
      "text/plain": [
       "0"
      ]
     },
     "metadata": {},
     "output_type": "display_data"
    },
    {
     "data": {
      "text/plain": [
       "array([], dtype=float64)"
      ]
     },
     "metadata": {},
     "output_type": "display_data"
    }
   ],
   "source": [
    "# print negative eigenvalues\n",
    "eigs = np.linalg.eigvals(gene_corrs_df.to_numpy())\n",
    "display(len(eigs[eigs < 0]))\n",
    "display(eigs[eigs < 0])"
   ]
  },
  {
   "cell_type": "code",
   "execution_count": 38,
   "id": "6e218436-c3c5-4028-8c94-a4fa6260efce",
   "metadata": {
    "execution": {
     "iopub.execute_input": "2023-08-30T04:03:46.233977Z",
     "iopub.status.busy": "2023-08-30T04:03:46.233207Z",
     "iopub.status.idle": "2023-08-30T04:03:46.256032Z",
     "shell.execute_reply": "2023-08-30T04:03:46.255525Z"
    },
    "papermill": {
     "duration": 0.620205,
     "end_time": "2023-08-30T04:03:46.257178",
     "exception": false,
     "start_time": "2023-08-30T04:03:45.636973",
     "status": "completed"
    },
    "tags": []
   },
   "outputs": [
    {
     "name": "stdout",
     "output_type": "stream",
     "text": [
      "Works!\n"
     ]
    }
   ],
   "source": [
    "try:\n",
    "    chol_mat = np.linalg.cholesky(gene_corrs_df.to_numpy())\n",
    "    cov_inv = np.linalg.inv(chol_mat)\n",
    "    print(\"Works!\")\n",
    "except Exception as e:\n",
    "    print(f\"Cholesky decomposition failed: {str(e)}\")"
   ]
  },
  {
   "cell_type": "code",
   "execution_count": 39,
   "id": "dd8827fb-faf9-4c7c-9454-015e94752706",
   "metadata": {
    "execution": {
     "iopub.execute_input": "2023-08-30T04:03:47.403342Z",
     "iopub.status.busy": "2023-08-30T04:03:47.402988Z",
     "iopub.status.idle": "2023-08-30T04:03:47.422616Z",
     "shell.execute_reply": "2023-08-30T04:03:47.422025Z"
    },
    "papermill": {
     "duration": 0.595644,
     "end_time": "2023-08-30T04:03:47.423534",
     "exception": false,
     "start_time": "2023-08-30T04:03:46.827890",
     "status": "completed"
    },
    "tags": []
   },
   "outputs": [
    {
     "name": "stdout",
     "output_type": "stream",
     "text": [
      "Works!\n"
     ]
    }
   ],
   "source": [
    "try:\n",
    "    # decomposition used by statsmodels.GLS\n",
    "    cholsigmainv = np.linalg.cholesky(np.linalg.inv(gene_corrs_df.to_numpy())).T\n",
    "    print(\"Works!\")\n",
    "except Exception as e:\n",
    "    print(f\"Cholesky decomposition failed (statsmodels.GLS): {str(e)}\")"
   ]
  },
  {
   "cell_type": "markdown",
   "id": "8e60a080-edb2-4e9c-b2ef-22961693200c",
   "metadata": {
    "papermill": {
     "duration": 0.834467,
     "end_time": "2023-08-30T04:03:48.803494",
     "exception": false,
     "start_time": "2023-08-30T04:03:47.969027",
     "status": "completed"
    },
    "tags": []
   },
   "source": [
    "## Plot: distribution"
   ]
  },
  {
   "cell_type": "code",
   "execution_count": 40,
   "id": "8301126b-a7d4-4744-9c7d-f0f86eb6f54c",
   "metadata": {
    "execution": {
     "iopub.execute_input": "2023-08-30T04:03:50.079233Z",
     "iopub.status.busy": "2023-08-30T04:03:50.079004Z",
     "iopub.status.idle": "2023-08-30T04:03:50.343334Z",
     "shell.execute_reply": "2023-08-30T04:03:50.342915Z"
    },
    "papermill": {
     "duration": 0.878646,
     "end_time": "2023-08-30T04:03:50.344404",
     "exception": false,
     "start_time": "2023-08-30T04:03:49.465758",
     "status": "completed"
    },
    "tags": []
   },
   "outputs": [
    {
     "data": {
      "image/png": "[encoded data removed]",
      "text/plain": [
       "<Figure size 700x700 with 1 Axes>"
      ]
     },
     "metadata": {},
     "output_type": "display_data"
    }
   ],
   "source": [
    "with sns.plotting_context(\"paper\", font_scale=1.5):\n",
    "    g = sns.displot(gene_corrs_flat, kde=True, height=7)\n",
    "    g.ax.set_title(\n",
    "        f\"Distribution of gene correlation values in chromosome {CHROMOSOME}\"\n",
    "    )"
   ]
  },
  {
   "cell_type": "markdown",
   "id": "cbd52bca-d878-4a2f-b684-5c83aa3038d4",
   "metadata": {
    "papermill": {
     "duration": 0.53948,
     "end_time": "2023-08-30T04:03:51.531706",
     "exception": false,
     "start_time": "2023-08-30T04:03:50.992226",
     "status": "completed"
    },
    "tags": []
   },
   "source": [
    "## Plot: heatmap"
   ]
  },
  {
   "cell_type": "code",
   "execution_count": 41,
   "id": "d03fe63a-c7b2-4fb9-a53c-db362ce843c9",
   "metadata": {
    "execution": {
     "iopub.execute_input": "2023-08-30T04:03:52.727767Z",
     "iopub.status.busy": "2023-08-30T04:03:52.727470Z",
     "iopub.status.idle": "2023-08-30T04:03:52.743976Z",
     "shell.execute_reply": "2023-08-30T04:03:52.743542Z"
    },
    "papermill": {
     "duration": 0.61586,
     "end_time": "2023-08-30T04:03:52.745251",
     "exception": false,
     "start_time": "2023-08-30T04:03:52.129391",
     "status": "completed"
    },
    "tags": []
   },
   "outputs": [
    {
     "data": {
      "text/plain": [
       "'0.0 / 0.05'"
      ]
     },
     "metadata": {},
     "output_type": "display_data"
    }
   ],
   "source": [
    "vmin_val = min(0.00, gene_corrs_quantiles[0.10])\n",
    "vmax_val = max(0.05, gene_corrs_quantiles[0.90])\n",
    "display(f\"{vmin_val} / {vmax_val}\")"
   ]
  },
  {
   "cell_type": "code",
   "execution_count": 42,
   "id": "dc41b70b-5bcc-4d9e-9f33-a22c4a94dab5",
   "metadata": {
    "execution": {
     "iopub.execute_input": "2023-08-30T04:03:54.088006Z",
     "iopub.status.busy": "2023-08-30T04:03:54.087713Z",
     "iopub.status.idle": "2023-08-30T04:03:55.093261Z",
     "shell.execute_reply": "2023-08-30T04:03:55.092867Z"
    },
    "papermill": {
     "duration": 1.693307,
     "end_time": "2023-08-30T04:03:55.094607",
     "exception": false,
     "start_time": "2023-08-30T04:03:53.401300",
     "status": "completed"
    },
    "tags": []
   },
   "outputs": [
    {
     "data": {
      "text/plain": [
       "Text(0.5, 1.0, 'Gene correlations in chromosome 15')"
      ]
     },
     "execution_count": 42,
     "metadata": {},
     "output_type": "execute_result"
    },
    {
     "data": {
      "image/png": "[encoded data removed]",
      "text/plain": [
       "<Figure size 1000x1000 with 2 Axes>"
      ]
     },
     "metadata": {},
     "output_type": "display_data"
    }
   ],
   "source": [
    "f, ax = plt.subplots(figsize=(10, 10))\n",
    "sns.heatmap(\n",
    "    gene_corrs_df,\n",
    "    xticklabels=False,\n",
    "    yticklabels=False,\n",
    "    square=True,\n",
    "    vmin=vmin_val,\n",
    "    vmax=vmax_val,\n",
    "    cmap=\"rocket_r\",\n",
    "    ax=ax,\n",
    ")\n",
    "ax.set_title(f\"Gene correlations in chromosome {CHROMOSOME}\")"
   ]
  },
  {
   "cell_type": "code",
   "execution_count": null,
   "id": "b25e3ead",
   "metadata": {
    "papermill": {
     "duration": 0.573027,
     "end_time": "2023-08-30T04:03:56.241088",
     "exception": false,
     "start_time": "2023-08-30T04:03:55.668061",
     "status": "completed"
    },
    "tags": []
   },
   "outputs": [],
   "source": []
  }
 ],
 "metadata": {
  "jupytext": {
   "cell_metadata_filter": "all,-execution,-papermill,-trusted",
   "formats": "ipynb,py//py:percent"
  },
  "kernelspec": {
   "display_name": "Python 3 (ipykernel)",
   "language": "python",
   "name": "python3"
  },
  "language_info": {
   "codemirror_mode": {
    "name": "ipython",
    "version": 3
   },
   "file_extension": ".py",
   "mimetype": "text/x-python",
   "name": "python",
   "nbconvert_exporter": "python",
   "pygments_lexer": "ipython3",
   "version": "3.10.6"
  },
  "papermill": {
   "default_parameters": {},
   "duration": 228.831215,
   "end_time": "2023-08-30T04:03:59.954556",
   "environment_variables": {},
   "exception": null,
   "input_path": "projects/chronotype/nbs/20_gene_corrs/jobs/05-gene_expr_correlations.ipynb",
   "output_path": "projects/chronotype/nbs/20_gene_corrs/jobs/../output/chronotype/05-gene_expr_correlations-chr15.run.ipynb",
   "parameters": {
    "CHROMOSOME": 15,
    "COHORT_NAME": "chronotype",
    "OUTPUT_DIR_BASE": "/opt/data/projects/chronotype/results/gls_phenoplier",
    "PHENOPLIER_NOTEBOOK_FILEPATH": "projects/chronotype/nbs/20_gene_corrs/jobs/05-gene_expr_correlations.ipynb"
   },
   "start_time": "2023-08-30T04:00:11.123341",
   "version": "2.2.2"
  }
 },
 "nbformat": 4,
 "nbformat_minor": 5
}
