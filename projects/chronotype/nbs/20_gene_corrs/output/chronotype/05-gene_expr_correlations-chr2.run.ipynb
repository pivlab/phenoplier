{
 "cells": [
  {
   "cell_type": "markdown",
   "id": "7a6632fb",
   "metadata": {
    "papermill": {
     "duration": 0.008621,
     "end_time": "2023-08-30T04:00:12.002129",
     "exception": false,
     "start_time": "2023-08-30T04:00:11.993508",
     "status": "completed"
    },
    "tags": []
   },
   "source": [
    "# Description"
   ]
  },
  {
   "cell_type": "markdown",
   "id": "7097c346",
   "metadata": {
    "papermill": {
     "duration": 0.007597,
     "end_time": "2023-08-30T04:00:12.017589",
     "exception": false,
     "start_time": "2023-08-30T04:00:12.009992",
     "status": "completed"
    },
    "tags": []
   },
   "source": [
    "This notebook computes predicted expression correlations between all genes in the MultiPLIER models.\n",
    "\n",
    "It has specicfic parameters for papermill (see under `Settings` below).\n",
    "\n",
    "This notebook should not be directly run. It is used by other notebooks."
   ]
  },
  {
   "cell_type": "markdown",
   "id": "c61d8427",
   "metadata": {
    "papermill": {
     "duration": 0.007539,
     "end_time": "2023-08-30T04:00:12.032727",
     "exception": false,
     "start_time": "2023-08-30T04:00:12.025188",
     "status": "completed"
    },
    "tags": []
   },
   "source": [
    "# Modules"
   ]
  },
  {
   "cell_type": "code",
   "execution_count": 1,
   "id": "bbc0234f",
   "metadata": {
    "execution": {
     "iopub.execute_input": "2023-08-30T04:00:12.050347Z",
     "iopub.status.busy": "2023-08-30T04:00:12.049776Z",
     "iopub.status.idle": "2023-08-30T04:00:12.068493Z",
     "shell.execute_reply": "2023-08-30T04:00:12.067947Z"
    },
    "papermill": {
     "duration": 0.029291,
     "end_time": "2023-08-30T04:00:12.070252",
     "exception": false,
     "start_time": "2023-08-30T04:00:12.040961",
     "status": "completed"
    },
    "tags": []
   },
   "outputs": [],
   "source": [
    "%load_ext autoreload\n",
    "%autoreload 2"
   ]
  },
  {
   "cell_type": "code",
   "execution_count": 2,
   "id": "1d5f5a59",
   "metadata": {
    "execution": {
     "iopub.execute_input": "2023-08-30T04:00:12.092989Z",
     "iopub.status.busy": "2023-08-30T04:00:12.092386Z",
     "iopub.status.idle": "2023-08-30T04:00:12.867610Z",
     "shell.execute_reply": "2023-08-30T04:00:12.867140Z"
    },
    "papermill": {
     "duration": 0.790227,
     "end_time": "2023-08-30T04:00:12.869087",
     "exception": false,
     "start_time": "2023-08-30T04:00:12.078860",
     "status": "completed"
    },
    "tags": []
   },
   "outputs": [],
   "source": [
    "from random import sample, seed\n",
    "import warnings\n",
    "from pathlib import Path\n",
    "import pickle\n",
    "import traceback\n",
    "\n",
    "import numpy as np\n",
    "from scipy.spatial.distance import squareform\n",
    "import pandas as pd\n",
    "from tqdm import tqdm\n",
    "import matplotlib.pyplot as plt\n",
    "import seaborn as sns\n",
    "\n",
    "import conf\n",
    "from entity import Gene"
   ]
  },
  {
   "cell_type": "markdown",
   "id": "1eac24b5",
   "metadata": {
    "papermill": {
     "duration": 0.006491,
     "end_time": "2023-08-30T04:00:12.882542",
     "exception": false,
     "start_time": "2023-08-30T04:00:12.876051",
     "status": "completed"
    },
    "tags": []
   },
   "source": [
    "# Settings"
   ]
  },
  {
   "cell_type": "code",
   "execution_count": 3,
   "id": "ca4560ba",
   "metadata": {
    "execution": {
     "iopub.execute_input": "2023-08-30T04:00:12.897618Z",
     "iopub.status.busy": "2023-08-30T04:00:12.897384Z",
     "iopub.status.idle": "2023-08-30T04:00:12.918085Z",
     "shell.execute_reply": "2023-08-30T04:00:12.917539Z"
    },
    "papermill": {
     "duration": 0.03002,
     "end_time": "2023-08-30T04:00:12.919607",
     "exception": false,
     "start_time": "2023-08-30T04:00:12.889587",
     "status": "completed"
    },
    "tags": [
     "parameters"
    ]
   },
   "outputs": [],
   "source": [
    "# a cohort name (it could be something like UK_BIOBANK, etc)\n",
    "COHORT_NAME = None\n",
    "\n",
    "# reference panel such as 1000G or GTEX_V8\n",
    "REFERENCE_PANEL = \"GTEX_V8\"\n",
    "\n",
    "# predictions models such as MASHR or ELASTIC_NET\n",
    "EQTL_MODEL = \"MASHR\"\n",
    "\n",
    "# this is the default value used in S-MultiXcan to select the\n",
    "# top principal components of the expression correlation matrix\n",
    "SMULTIXCAN_CONDITION_NUMBER = 30\n",
    "\n",
    "# specifies a single chromosome value\n",
    "CHROMOSOME = None\n",
    "\n",
    "# If True, computes the correlation between closeby genes only (see\n",
    "# entity.Gene.within_distance for more details). Otherwise, it computes\n",
    "# correlations for all genes in a chromosome\n",
    "COMPUTE_CORRELATIONS_WITHIN_DISTANCE = True\n",
    "\n",
    "# if True, then it will continue if a gene pair correlation fails,\n",
    "# printing the warning/error for debugging. If False, any warning/error\n",
    "# will be thrown\n",
    "DEBUG_MODE = False\n",
    "\n",
    "# output dir\n",
    "OUTPUT_DIR_BASE = None"
   ]
  },
  {
   "cell_type": "code",
   "execution_count": 4,
   "id": "62cc69fa",
   "metadata": {
    "execution": {
     "iopub.execute_input": "2023-08-30T04:00:12.937274Z",
     "iopub.status.busy": "2023-08-30T04:00:12.936994Z",
     "iopub.status.idle": "2023-08-30T04:00:12.959292Z",
     "shell.execute_reply": "2023-08-30T04:00:12.958852Z"
    },
    "papermill": {
     "duration": 0.033452,
     "end_time": "2023-08-30T04:00:12.960465",
     "exception": false,
     "start_time": "2023-08-30T04:00:12.927013",
     "status": "completed"
    },
    "tags": [
     "injected-parameters"
    ]
   },
   "outputs": [],
   "source": [
    "# Parameters\n",
    "PHENOPLIER_NOTEBOOK_FILEPATH = (\n",
    "    \"projects/chronotype/nbs/20_gene_corrs/jobs/05-gene_expr_correlations.ipynb\"\n",
    ")\n",
    "COHORT_NAME = \"chronotype\"\n",
    "CHROMOSOME = 2\n",
    "OUTPUT_DIR_BASE = \"/opt/data/projects/chronotype/results/gls_phenoplier\"\n"
   ]
  },
  {
   "cell_type": "code",
   "execution_count": 5,
   "id": "3190631f-27fc-480f-b18e-571d580425a5",
   "metadata": {
    "execution": {
     "iopub.execute_input": "2023-08-30T04:00:12.970898Z",
     "iopub.status.busy": "2023-08-30T04:00:12.970514Z",
     "iopub.status.idle": "2023-08-30T04:00:13.001297Z",
     "shell.execute_reply": "2023-08-30T04:00:13.000829Z"
    },
    "papermill": {
     "duration": 0.036865,
     "end_time": "2023-08-30T04:00:13.002272",
     "exception": false,
     "start_time": "2023-08-30T04:00:12.965407",
     "status": "completed"
    },
    "tags": []
   },
   "outputs": [
    {
     "data": {
      "text/plain": [
       "'Cohort name: chronotype'"
      ]
     },
     "metadata": {},
     "output_type": "display_data"
    }
   ],
   "source": [
    "assert COHORT_NAME is not None and len(COHORT_NAME) > 0, \"A cohort name must be given\"\n",
    "\n",
    "COHORT_NAME = COHORT_NAME.lower()\n",
    "display(f\"Cohort name: {COHORT_NAME}\")"
   ]
  },
  {
   "cell_type": "code",
   "execution_count": 6,
   "id": "f53ba19b-0f93-4fa2-a047-63b375939d1a",
   "metadata": {
    "execution": {
     "iopub.execute_input": "2023-08-30T04:00:13.012680Z",
     "iopub.status.busy": "2023-08-30T04:00:13.012505Z",
     "iopub.status.idle": "2023-08-30T04:00:13.043038Z",
     "shell.execute_reply": "2023-08-30T04:00:13.042456Z"
    },
    "papermill": {
     "duration": 0.03644,
     "end_time": "2023-08-30T04:00:13.044021",
     "exception": false,
     "start_time": "2023-08-30T04:00:13.007581",
     "status": "completed"
    },
    "tags": []
   },
   "outputs": [
    {
     "data": {
      "text/plain": [
       "'Reference panel: GTEX_V8'"
      ]
     },
     "metadata": {},
     "output_type": "display_data"
    }
   ],
   "source": [
    "assert (\n",
    "    REFERENCE_PANEL is not None and len(REFERENCE_PANEL) > 0\n",
    "), \"A reference panel must be given\"\n",
    "\n",
    "display(f\"Reference panel: {REFERENCE_PANEL}\")"
   ]
  },
  {
   "cell_type": "code",
   "execution_count": 7,
   "id": "e024d130-c139-429a-9c6e-ccf149e297b0",
   "metadata": {
    "execution": {
     "iopub.execute_input": "2023-08-30T04:00:13.054275Z",
     "iopub.status.busy": "2023-08-30T04:00:13.054069Z",
     "iopub.status.idle": "2023-08-30T04:00:13.077350Z",
     "shell.execute_reply": "2023-08-30T04:00:13.076957Z"
    },
    "papermill": {
     "duration": 0.029748,
     "end_time": "2023-08-30T04:00:13.078463",
     "exception": false,
     "start_time": "2023-08-30T04:00:13.048715",
     "status": "completed"
    },
    "tags": []
   },
   "outputs": [
    {
     "data": {
      "text/plain": [
       "'eQTL model: MASHR) / mashr_'"
      ]
     },
     "metadata": {},
     "output_type": "display_data"
    }
   ],
   "source": [
    "assert (\n",
    "    EQTL_MODEL is not None and len(EQTL_MODEL) > 0\n",
    "), \"A prediction/eQTL model must be given\"\n",
    "\n",
    "EQTL_MODEL_FILES_PREFIX = conf.PHENOMEXCAN[\"PREDICTION_MODELS\"][f\"{EQTL_MODEL}_PREFIX\"]\n",
    "display(f\"eQTL model: {EQTL_MODEL}) / {EQTL_MODEL_FILES_PREFIX}\")"
   ]
  },
  {
   "cell_type": "code",
   "execution_count": 8,
   "id": "552a7f63-a18c-4d3e-bb6a-94f99b431291",
   "metadata": {
    "execution": {
     "iopub.execute_input": "2023-08-30T04:00:13.093707Z",
     "iopub.status.busy": "2023-08-30T04:00:13.093492Z",
     "iopub.status.idle": "2023-08-30T04:00:13.115110Z",
     "shell.execute_reply": "2023-08-30T04:00:13.114551Z"
    },
    "papermill": {
     "duration": 0.031605,
     "end_time": "2023-08-30T04:00:13.117441",
     "exception": false,
     "start_time": "2023-08-30T04:00:13.085836",
     "status": "completed"
    },
    "tags": []
   },
   "outputs": [
    {
     "data": {
      "text/plain": [
       "'S-MultiXcan condition number: 30'"
      ]
     },
     "metadata": {},
     "output_type": "display_data"
    }
   ],
   "source": [
    "assert (\n",
    "    SMULTIXCAN_CONDITION_NUMBER is not None and SMULTIXCAN_CONDITION_NUMBER > 0\n",
    "), \"The S-MultiXcan condition number (positive integer) must be given\"\n",
    "\n",
    "display(f\"S-MultiXcan condition number: {SMULTIXCAN_CONDITION_NUMBER}\")"
   ]
  },
  {
   "cell_type": "code",
   "execution_count": 9,
   "id": "f34a336f-548e-4afe-8955-90eaea4f42c6",
   "metadata": {
    "execution": {
     "iopub.execute_input": "2023-08-30T04:00:13.145272Z",
     "iopub.status.busy": "2023-08-30T04:00:13.144285Z",
     "iopub.status.idle": "2023-08-30T04:00:13.164960Z",
     "shell.execute_reply": "2023-08-30T04:00:13.164539Z"
    },
    "papermill": {
     "duration": 0.033425,
     "end_time": "2023-08-30T04:00:13.165902",
     "exception": false,
     "start_time": "2023-08-30T04:00:13.132477",
     "status": "completed"
    },
    "tags": []
   },
   "outputs": [
    {
     "data": {
      "text/plain": [
       "'Working on chromosome 2'"
      ]
     },
     "metadata": {},
     "output_type": "display_data"
    }
   ],
   "source": [
    "assert CHROMOSOME is not None and (\n",
    "    1 <= CHROMOSOME <= 22\n",
    "), \"You have to select one chromosome (format: number between 1 and 22)\"\n",
    "\n",
    "display(f\"Working on chromosome {CHROMOSOME}\")"
   ]
  },
  {
   "cell_type": "code",
   "execution_count": 10,
   "id": "ab8e96e8-06b5-4363-9dcd-dc4d78cc27f7",
   "metadata": {
    "execution": {
     "iopub.execute_input": "2023-08-30T04:00:13.182955Z",
     "iopub.status.busy": "2023-08-30T04:00:13.182664Z",
     "iopub.status.idle": "2023-08-30T04:00:13.208777Z",
     "shell.execute_reply": "2023-08-30T04:00:13.208334Z"
    },
    "papermill": {
     "duration": 0.039245,
     "end_time": "2023-08-30T04:00:13.210127",
     "exception": false,
     "start_time": "2023-08-30T04:00:13.170882",
     "status": "completed"
    },
    "tags": []
   },
   "outputs": [
    {
     "data": {
      "text/plain": [
       "'Compute correlation within distance True'"
      ]
     },
     "metadata": {},
     "output_type": "display_data"
    }
   ],
   "source": [
    "display(f\"Compute correlation within distance {COMPUTE_CORRELATIONS_WITHIN_DISTANCE}\")"
   ]
  },
  {
   "cell_type": "code",
   "execution_count": 11,
   "id": "b393b698-77e3-4ba2-8ac1-e14d51aa988f",
   "metadata": {
    "execution": {
     "iopub.execute_input": "2023-08-30T04:00:13.227764Z",
     "iopub.status.busy": "2023-08-30T04:00:13.227418Z",
     "iopub.status.idle": "2023-08-30T04:00:13.253211Z",
     "shell.execute_reply": "2023-08-30T04:00:13.252346Z"
    },
    "papermill": {
     "duration": 0.036142,
     "end_time": "2023-08-30T04:00:13.254735",
     "exception": false,
     "start_time": "2023-08-30T04:00:13.218593",
     "status": "completed"
    },
    "tags": []
   },
   "outputs": [
    {
     "data": {
      "text/plain": [
       "'Using output dir base: /opt/data/projects/chronotype/results/gls_phenoplier/gene_corrs/chronotype'"
      ]
     },
     "metadata": {},
     "output_type": "display_data"
    }
   ],
   "source": [
    "assert (\n",
    "    OUTPUT_DIR_BASE is not None and len(OUTPUT_DIR_BASE) > 0\n",
    "), \"Output directory path must be given\"\n",
    "\n",
    "OUTPUT_DIR_BASE = (Path(OUTPUT_DIR_BASE) / \"gene_corrs\" / COHORT_NAME).resolve()\n",
    "\n",
    "OUTPUT_DIR_BASE.mkdir(parents=True, exist_ok=True)\n",
    "\n",
    "display(f\"Using output dir base: {OUTPUT_DIR_BASE}\")"
   ]
  },
  {
   "cell_type": "markdown",
   "id": "d2ba085e",
   "metadata": {
    "papermill": {
     "duration": 0.004782,
     "end_time": "2023-08-30T04:00:13.265485",
     "exception": false,
     "start_time": "2023-08-30T04:00:13.260703",
     "status": "completed"
    },
    "tags": []
   },
   "source": [
    "# Load data"
   ]
  },
  {
   "cell_type": "markdown",
   "id": "7dcb8db7",
   "metadata": {
    "papermill": {
     "duration": 0.004728,
     "end_time": "2023-08-30T04:00:13.275030",
     "exception": false,
     "start_time": "2023-08-30T04:00:13.270302",
     "status": "completed"
    },
    "tags": []
   },
   "source": [
    "## GWAS variants"
   ]
  },
  {
   "cell_type": "code",
   "execution_count": 12,
   "id": "29434c4e-8cd3-4b9b-82e4-b5a251d9dd19",
   "metadata": {
    "execution": {
     "iopub.execute_input": "2023-08-30T04:00:13.286155Z",
     "iopub.status.busy": "2023-08-30T04:00:13.285701Z",
     "iopub.status.idle": "2023-08-30T04:00:18.415812Z",
     "shell.execute_reply": "2023-08-30T04:00:18.415116Z"
    },
    "papermill": {
     "duration": 5.138118,
     "end_time": "2023-08-30T04:00:18.417930",
     "exception": false,
     "start_time": "2023-08-30T04:00:13.279812",
     "status": "completed"
    },
    "tags": []
   },
   "outputs": [],
   "source": [
    "with open(OUTPUT_DIR_BASE / \"gwas_variant_ids.pkl\", \"rb\") as handle:\n",
    "    gwas_variants_ids_set = pickle.load(handle)"
   ]
  },
  {
   "cell_type": "code",
   "execution_count": 13,
   "id": "b9d9dec2-4a76-4bf9-bde2-e24c95acb8a0",
   "metadata": {
    "execution": {
     "iopub.execute_input": "2023-08-30T04:00:18.438681Z",
     "iopub.status.busy": "2023-08-30T04:00:18.438200Z",
     "iopub.status.idle": "2023-08-30T04:00:18.459822Z",
     "shell.execute_reply": "2023-08-30T04:00:18.459361Z"
    },
    "papermill": {
     "duration": 0.034034,
     "end_time": "2023-08-30T04:00:18.461689",
     "exception": false,
     "start_time": "2023-08-30T04:00:18.427655",
     "status": "completed"
    },
    "tags": []
   },
   "outputs": [
    {
     "data": {
      "text/plain": [
       "11737794"
      ]
     },
     "execution_count": 13,
     "metadata": {},
     "output_type": "execute_result"
    }
   ],
   "source": [
    "len(gwas_variants_ids_set)"
   ]
  },
  {
   "cell_type": "code",
   "execution_count": 14,
   "id": "4235b06a-6034-4ee4-a0a3-2ae35d122418",
   "metadata": {
    "execution": {
     "iopub.execute_input": "2023-08-30T04:00:18.481199Z",
     "iopub.status.busy": "2023-08-30T04:00:18.480866Z",
     "iopub.status.idle": "2023-08-30T04:00:20.510207Z",
     "shell.execute_reply": "2023-08-30T04:00:20.509494Z"
    },
    "papermill": {
     "duration": 2.045148,
     "end_time": "2023-08-30T04:00:20.515744",
     "exception": false,
     "start_time": "2023-08-30T04:00:18.470596",
     "status": "completed"
    },
    "tags": []
   },
   "outputs": [
    {
     "data": {
      "text/plain": [
       "['chr1_239746351_C_T_b38',\n",
       " 'chr15_86979228_C_T_b38',\n",
       " 'chr17_76718054_T_C_b38',\n",
       " 'chr18_2166686_T_C_b38',\n",
       " 'chr14_106198881_T_G_b38']"
      ]
     },
     "execution_count": 14,
     "metadata": {},
     "output_type": "execute_result"
    }
   ],
   "source": [
    "list(gwas_variants_ids_set)[:5]"
   ]
  },
  {
   "cell_type": "markdown",
   "id": "07866999-2305-41f9-a144-e69c9122c212",
   "metadata": {
    "papermill": {
     "duration": 0.019636,
     "end_time": "2023-08-30T04:00:20.551414",
     "exception": false,
     "start_time": "2023-08-30T04:00:20.531778",
     "status": "completed"
    },
    "tags": []
   },
   "source": [
    "## S-PrediXcan tissue models"
   ]
  },
  {
   "cell_type": "code",
   "execution_count": 15,
   "id": "780611d9-77c8-405f-90a4-f271f7b09397",
   "metadata": {
    "execution": {
     "iopub.execute_input": "2023-08-30T04:00:20.585315Z",
     "iopub.status.busy": "2023-08-30T04:00:20.584692Z",
     "iopub.status.idle": "2023-08-30T04:00:22.540133Z",
     "shell.execute_reply": "2023-08-30T04:00:22.539592Z"
    },
    "papermill": {
     "duration": 1.973728,
     "end_time": "2023-08-30T04:00:22.541546",
     "exception": false,
     "start_time": "2023-08-30T04:00:20.567818",
     "status": "completed"
    },
    "tags": []
   },
   "outputs": [],
   "source": [
    "spredixcan_genes_models = pd.read_pickle(OUTPUT_DIR_BASE / \"gene_tissues.pkl\")"
   ]
  },
  {
   "cell_type": "code",
   "execution_count": 16,
   "id": "726dd1f6-9557-4225-91fa-b3b879ea96e1",
   "metadata": {
    "execution": {
     "iopub.execute_input": "2023-08-30T04:00:22.557108Z",
     "iopub.status.busy": "2023-08-30T04:00:22.556952Z",
     "iopub.status.idle": "2023-08-30T04:00:22.578101Z",
     "shell.execute_reply": "2023-08-30T04:00:22.577547Z"
    },
    "papermill": {
     "duration": 0.030298,
     "end_time": "2023-08-30T04:00:22.579085",
     "exception": false,
     "start_time": "2023-08-30T04:00:22.548787",
     "status": "completed"
    },
    "tags": []
   },
   "outputs": [
    {
     "data": {
      "text/plain": [
       "(6445, 5)"
      ]
     },
     "execution_count": 16,
     "metadata": {},
     "output_type": "execute_result"
    }
   ],
   "source": [
    "spredixcan_genes_models.shape"
   ]
  },
  {
   "cell_type": "code",
   "execution_count": 17,
   "id": "944a1b48-222c-4eb0-b252-b9de2cbca215",
   "metadata": {
    "execution": {
     "iopub.execute_input": "2023-08-30T04:00:22.594748Z",
     "iopub.status.busy": "2023-08-30T04:00:22.594182Z",
     "iopub.status.idle": "2023-08-30T04:00:22.619472Z",
     "shell.execute_reply": "2023-08-30T04:00:22.618738Z"
    },
    "papermill": {
     "duration": 0.036073,
     "end_time": "2023-08-30T04:00:22.620963",
     "exception": false,
     "start_time": "2023-08-30T04:00:22.584890",
     "status": "completed"
    },
    "tags": []
   },
   "outputs": [
    {
     "data": {
      "text/html": [
       "<div>\n",
       "<style scoped>\n",
       "    .dataframe tbody tr th:only-of-type {\n",
       "        vertical-align: middle;\n",
       "    }\n",
       "\n",
       "    .dataframe tbody tr th {\n",
       "        vertical-align: top;\n",
       "    }\n",
       "\n",
       "    .dataframe thead th {\n",
       "        text-align: right;\n",
       "    }\n",
       "</style>\n",
       "<table border=\"1\" class=\"dataframe\">\n",
       "  <thead>\n",
       "    <tr style=\"text-align: right;\">\n",
       "      <th></th>\n",
       "      <th>gene_name</th>\n",
       "      <th>tissue</th>\n",
       "      <th>n_tissues</th>\n",
       "      <th>n_snps_used_sum</th>\n",
       "      <th>n_snps_in_model_sum</th>\n",
       "    </tr>\n",
       "    <tr>\n",
       "      <th>gene_id</th>\n",
       "      <th></th>\n",
       "      <th></th>\n",
       "      <th></th>\n",
       "      <th></th>\n",
       "      <th></th>\n",
       "    </tr>\n",
       "  </thead>\n",
       "  <tbody>\n",
       "    <tr>\n",
       "      <th>ENSG00000000419</th>\n",
       "      <td>DPM1</td>\n",
       "      <td>(Brain_Hypothalamus, Brain_Substantia_nigra)</td>\n",
       "      <td>2</td>\n",
       "      <td>2</td>\n",
       "      <td>2</td>\n",
       "    </tr>\n",
       "    <tr>\n",
       "      <th>ENSG00000000938</th>\n",
       "      <td>FGR</td>\n",
       "      <td>(Brain_Spinal_cord_cervical_c-1, Testis, Prost...</td>\n",
       "      <td>36</td>\n",
       "      <td>40</td>\n",
       "      <td>40</td>\n",
       "    </tr>\n",
       "    <tr>\n",
       "      <th>ENSG00000000971</th>\n",
       "      <td>CFH</td>\n",
       "      <td>(Brain_Spinal_cord_cervical_c-1, Testis, Cells...</td>\n",
       "      <td>34</td>\n",
       "      <td>44</td>\n",
       "      <td>44</td>\n",
       "    </tr>\n",
       "    <tr>\n",
       "      <th>ENSG00000001084</th>\n",
       "      <td>GCLC</td>\n",
       "      <td>(Testis, Cells_Cultured_fibroblasts, Brain_Sub...</td>\n",
       "      <td>32</td>\n",
       "      <td>46</td>\n",
       "      <td>46</td>\n",
       "    </tr>\n",
       "    <tr>\n",
       "      <th>ENSG00000001167</th>\n",
       "      <td>NFYA</td>\n",
       "      <td>(Brain_Spinal_cord_cervical_c-1, Testis, Cells...</td>\n",
       "      <td>40</td>\n",
       "      <td>47</td>\n",
       "      <td>48</td>\n",
       "    </tr>\n",
       "  </tbody>\n",
       "</table>\n",
       "</div>"
      ],
      "text/plain": [
       "                gene_name                                             tissue  \\\n",
       "gene_id                                                                        \n",
       "ENSG00000000419      DPM1       (Brain_Hypothalamus, Brain_Substantia_nigra)   \n",
       "ENSG00000000938       FGR  (Brain_Spinal_cord_cervical_c-1, Testis, Prost...   \n",
       "ENSG00000000971       CFH  (Brain_Spinal_cord_cervical_c-1, Testis, Cells...   \n",
       "ENSG00000001084      GCLC  (Testis, Cells_Cultured_fibroblasts, Brain_Sub...   \n",
       "ENSG00000001167      NFYA  (Brain_Spinal_cord_cervical_c-1, Testis, Cells...   \n",
       "\n",
       "                 n_tissues  n_snps_used_sum  n_snps_in_model_sum  \n",
       "gene_id                                                           \n",
       "ENSG00000000419          2                2                    2  \n",
       "ENSG00000000938         36               40                   40  \n",
       "ENSG00000000971         34               44                   44  \n",
       "ENSG00000001084         32               46                   46  \n",
       "ENSG00000001167         40               47                   48  "
      ]
     },
     "execution_count": 17,
     "metadata": {},
     "output_type": "execute_result"
    }
   ],
   "source": [
    "spredixcan_genes_models.head()"
   ]
  },
  {
   "cell_type": "code",
   "execution_count": 18,
   "id": "d1c11bb1-be0b-4f40-b360-633d6827109f",
   "metadata": {
    "execution": {
     "iopub.execute_input": "2023-08-30T04:00:22.637415Z",
     "iopub.status.busy": "2023-08-30T04:00:22.637111Z",
     "iopub.status.idle": "2023-08-30T04:00:22.656986Z",
     "shell.execute_reply": "2023-08-30T04:00:22.656541Z"
    },
    "papermill": {
     "duration": 0.030137,
     "end_time": "2023-08-30T04:00:22.659030",
     "exception": false,
     "start_time": "2023-08-30T04:00:22.628893",
     "status": "completed"
    },
    "tags": []
   },
   "outputs": [],
   "source": [
    "assert spredixcan_genes_models.index.is_unique"
   ]
  },
  {
   "cell_type": "markdown",
   "id": "a5b5092c-a13e-47c4-a92a-480fcc08f3ae",
   "metadata": {
    "papermill": {
     "duration": 0.008383,
     "end_time": "2023-08-30T04:00:22.680228",
     "exception": false,
     "start_time": "2023-08-30T04:00:22.671845",
     "status": "completed"
    },
    "tags": []
   },
   "source": [
    "## Gene info"
   ]
  },
  {
   "cell_type": "code",
   "execution_count": 19,
   "id": "7d6bb224-88e9-4358-ac10-43a41d92cdad",
   "metadata": {
    "execution": {
     "iopub.execute_input": "2023-08-30T04:00:22.704102Z",
     "iopub.status.busy": "2023-08-30T04:00:22.703784Z",
     "iopub.status.idle": "2023-08-30T04:00:22.724313Z",
     "shell.execute_reply": "2023-08-30T04:00:22.723686Z"
    },
    "papermill": {
     "duration": 0.036538,
     "end_time": "2023-08-30T04:00:22.725700",
     "exception": false,
     "start_time": "2023-08-30T04:00:22.689162",
     "status": "completed"
    },
    "tags": []
   },
   "outputs": [],
   "source": [
    "genes_info = pd.read_pickle(OUTPUT_DIR_BASE / \"genes_info.pkl\")"
   ]
  },
  {
   "cell_type": "code",
   "execution_count": 20,
   "id": "9e32abfa-546d-483e-8c18-d526e9e05903",
   "metadata": {
    "execution": {
     "iopub.execute_input": "2023-08-30T04:00:22.738449Z",
     "iopub.status.busy": "2023-08-30T04:00:22.737931Z",
     "iopub.status.idle": "2023-08-30T04:00:22.762624Z",
     "shell.execute_reply": "2023-08-30T04:00:22.762185Z"
    },
    "papermill": {
     "duration": 0.032041,
     "end_time": "2023-08-30T04:00:22.763511",
     "exception": false,
     "start_time": "2023-08-30T04:00:22.731470",
     "status": "completed"
    },
    "tags": []
   },
   "outputs": [
    {
     "data": {
      "text/plain": [
       "(6445, 7)"
      ]
     },
     "execution_count": 20,
     "metadata": {},
     "output_type": "execute_result"
    }
   ],
   "source": [
    "genes_info.shape"
   ]
  },
  {
   "cell_type": "code",
   "execution_count": 21,
   "id": "d16c3e92-85ec-468a-9a56-e25a9774a1cb",
   "metadata": {
    "execution": {
     "iopub.execute_input": "2023-08-30T04:00:22.775912Z",
     "iopub.status.busy": "2023-08-30T04:00:22.775692Z",
     "iopub.status.idle": "2023-08-30T04:00:22.801440Z",
     "shell.execute_reply": "2023-08-30T04:00:22.801044Z"
    },
    "papermill": {
     "duration": 0.033232,
     "end_time": "2023-08-30T04:00:22.802350",
     "exception": false,
     "start_time": "2023-08-30T04:00:22.769118",
     "status": "completed"
    },
    "tags": []
   },
   "outputs": [
    {
     "data": {
      "text/html": [
       "<div>\n",
       "<style scoped>\n",
       "    .dataframe tbody tr th:only-of-type {\n",
       "        vertical-align: middle;\n",
       "    }\n",
       "\n",
       "    .dataframe tbody tr th {\n",
       "        vertical-align: top;\n",
       "    }\n",
       "\n",
       "    .dataframe thead th {\n",
       "        text-align: right;\n",
       "    }\n",
       "</style>\n",
       "<table border=\"1\" class=\"dataframe\">\n",
       "  <thead>\n",
       "    <tr style=\"text-align: right;\">\n",
       "      <th></th>\n",
       "      <th>name</th>\n",
       "      <th>id</th>\n",
       "      <th>chr</th>\n",
       "      <th>band</th>\n",
       "      <th>start_position</th>\n",
       "      <th>end_position</th>\n",
       "      <th>gene_length</th>\n",
       "    </tr>\n",
       "  </thead>\n",
       "  <tbody>\n",
       "    <tr>\n",
       "      <th>0</th>\n",
       "      <td>DUT</td>\n",
       "      <td>ENSG00000128951</td>\n",
       "      <td>15</td>\n",
       "      <td>15q21.1</td>\n",
       "      <td>48331011</td>\n",
       "      <td>48343373</td>\n",
       "      <td>12362</td>\n",
       "    </tr>\n",
       "    <tr>\n",
       "      <th>1</th>\n",
       "      <td>NDUFA4</td>\n",
       "      <td>ENSG00000189043</td>\n",
       "      <td>7</td>\n",
       "      <td>7p21.3</td>\n",
       "      <td>10931943</td>\n",
       "      <td>10940153</td>\n",
       "      <td>8210</td>\n",
       "    </tr>\n",
       "    <tr>\n",
       "      <th>2</th>\n",
       "      <td>EPHB3</td>\n",
       "      <td>ENSG00000182580</td>\n",
       "      <td>3</td>\n",
       "      <td>3q27.1</td>\n",
       "      <td>184561785</td>\n",
       "      <td>184582408</td>\n",
       "      <td>20623</td>\n",
       "    </tr>\n",
       "    <tr>\n",
       "      <th>3</th>\n",
       "      <td>MYLK</td>\n",
       "      <td>ENSG00000065534</td>\n",
       "      <td>3</td>\n",
       "      <td>3q21.1</td>\n",
       "      <td>123610049</td>\n",
       "      <td>123884331</td>\n",
       "      <td>274282</td>\n",
       "    </tr>\n",
       "    <tr>\n",
       "      <th>4</th>\n",
       "      <td>SMPD4</td>\n",
       "      <td>ENSG00000136699</td>\n",
       "      <td>2</td>\n",
       "      <td>2q21.1</td>\n",
       "      <td>130151392</td>\n",
       "      <td>130182750</td>\n",
       "      <td>31358</td>\n",
       "    </tr>\n",
       "  </tbody>\n",
       "</table>\n",
       "</div>"
      ],
      "text/plain": [
       "     name               id  chr     band  start_position  end_position  \\\n",
       "0     DUT  ENSG00000128951   15  15q21.1        48331011      48343373   \n",
       "1  NDUFA4  ENSG00000189043    7   7p21.3        10931943      10940153   \n",
       "2   EPHB3  ENSG00000182580    3   3q27.1       184561785     184582408   \n",
       "3    MYLK  ENSG00000065534    3   3q21.1       123610049     123884331   \n",
       "4   SMPD4  ENSG00000136699    2   2q21.1       130151392     130182750   \n",
       "\n",
       "   gene_length  \n",
       "0        12362  \n",
       "1         8210  \n",
       "2        20623  \n",
       "3       274282  \n",
       "4        31358  "
      ]
     },
     "execution_count": 21,
     "metadata": {},
     "output_type": "execute_result"
    }
   ],
   "source": [
    "genes_info.head()"
   ]
  },
  {
   "cell_type": "markdown",
   "id": "d3843e06",
   "metadata": {
    "papermill": {
     "duration": 0.005466,
     "end_time": "2023-08-30T04:00:22.814679",
     "exception": false,
     "start_time": "2023-08-30T04:00:22.809213",
     "status": "completed"
    },
    "tags": []
   },
   "source": [
    "# Compute correlations"
   ]
  },
  {
   "cell_type": "code",
   "execution_count": 22,
   "id": "cb859c15-d1f3-4006-a74c-2b83c0db9611",
   "metadata": {
    "execution": {
     "iopub.execute_input": "2023-08-30T04:00:22.833752Z",
     "iopub.status.busy": "2023-08-30T04:00:22.833535Z",
     "iopub.status.idle": "2023-08-30T04:00:22.852443Z",
     "shell.execute_reply": "2023-08-30T04:00:22.851637Z"
    },
    "papermill": {
     "duration": 0.033522,
     "end_time": "2023-08-30T04:00:22.853857",
     "exception": false,
     "start_time": "2023-08-30T04:00:22.820335",
     "status": "completed"
    },
    "tags": []
   },
   "outputs": [
    {
     "data": {
      "text/plain": [
       "PosixPath('/opt/data/projects/chronotype/results/gls_phenoplier/gene_corrs/chronotype/by_chr/gene_corrs-chr2.pkl')"
      ]
     },
     "metadata": {},
     "output_type": "display_data"
    }
   ],
   "source": [
    "output_dir = OUTPUT_DIR_BASE / \"by_chr\"\n",
    "output_dir.mkdir(exist_ok=True, parents=True)\n",
    "output_file = output_dir / f\"gene_corrs-chr{CHROMOSOME}.pkl\"\n",
    "display(output_file)"
   ]
  },
  {
   "cell_type": "code",
   "execution_count": 23,
   "id": "aa674fe4-6794-4eed-98fa-32b39d1d4ace",
   "metadata": {
    "execution": {
     "iopub.execute_input": "2023-08-30T04:00:22.877704Z",
     "iopub.status.busy": "2023-08-30T04:00:22.877094Z",
     "iopub.status.idle": "2023-08-30T04:00:22.903159Z",
     "shell.execute_reply": "2023-08-30T04:00:22.902393Z"
    },
    "papermill": {
     "duration": 0.042642,
     "end_time": "2023-08-30T04:00:22.905213",
     "exception": false,
     "start_time": "2023-08-30T04:00:22.862571",
     "status": "completed"
    },
    "tags": []
   },
   "outputs": [],
   "source": [
    "warnings.filterwarnings(\"error\")"
   ]
  },
  {
   "cell_type": "code",
   "execution_count": 24,
   "id": "44d5450b-3baf-43f1-9e2e-4b06f1a785f8",
   "metadata": {
    "execution": {
     "iopub.execute_input": "2023-08-30T04:00:22.929194Z",
     "iopub.status.busy": "2023-08-30T04:00:22.928620Z",
     "iopub.status.idle": "2023-08-30T04:00:22.956035Z",
     "shell.execute_reply": "2023-08-30T04:00:22.955454Z"
    },
    "papermill": {
     "duration": 0.038428,
     "end_time": "2023-08-30T04:00:22.957270",
     "exception": false,
     "start_time": "2023-08-30T04:00:22.918842",
     "status": "completed"
    },
    "tags": []
   },
   "outputs": [],
   "source": [
    "# standard checks\n",
    "all_chrs = genes_info[\"chr\"].dropna().unique()\n",
    "assert all_chrs.shape[0] == 22\n",
    "\n",
    "# select chromosome given by the user\n",
    "assert CHROMOSOME in all_chrs"
   ]
  },
  {
   "cell_type": "code",
   "execution_count": 25,
   "id": "2d7c043c-92a7-4d35-991b-fa69ac1e0268",
   "metadata": {
    "execution": {
     "iopub.execute_input": "2023-08-30T04:00:22.972382Z",
     "iopub.status.busy": "2023-08-30T04:00:22.971737Z",
     "iopub.status.idle": "2023-08-30T04:00:23.000864Z",
     "shell.execute_reply": "2023-08-30T04:00:23.000307Z"
    },
    "papermill": {
     "duration": 0.039956,
     "end_time": "2023-08-30T04:00:23.003169",
     "exception": false,
     "start_time": "2023-08-30T04:00:22.963213",
     "status": "completed"
    },
    "tags": []
   },
   "outputs": [
    {
     "name": "stdout",
     "output_type": "stream",
     "text": [
      "Number of genes in chromosome: 444\n"
     ]
    }
   ],
   "source": [
    "# run only on the chromosome specified\n",
    "all_chrs = [CHROMOSOME]\n",
    "genes_chr = genes_info[genes_info[\"chr\"] == CHROMOSOME]\n",
    "\n",
    "# For testing purposes\n",
    "# genes_chr = genes_chr.sample(n=20)\n",
    "\n",
    "print(f\"Number of genes in chromosome: {genes_chr.shape[0]}\", flush=True)"
   ]
  },
  {
   "cell_type": "code",
   "execution_count": 26,
   "id": "916015d8-2979-46d3-a9b9-1cf5a0932c6a",
   "metadata": {
    "execution": {
     "iopub.execute_input": "2023-08-30T04:00:23.032154Z",
     "iopub.status.busy": "2023-08-30T04:00:23.031611Z",
     "iopub.status.idle": "2023-08-30T04:00:23.058432Z",
     "shell.execute_reply": "2023-08-30T04:00:23.057831Z"
    },
    "papermill": {
     "duration": 0.039497,
     "end_time": "2023-08-30T04:00:23.060087",
     "exception": false,
     "start_time": "2023-08-30T04:00:23.020590",
     "status": "completed"
    },
    "tags": []
   },
   "outputs": [],
   "source": [
    "# sort genes by starting position to make visualizations better later\n",
    "genes_chr = genes_chr.sort_values(\"start_position\")"
   ]
  },
  {
   "cell_type": "code",
   "execution_count": 27,
   "id": "a38aa74a-8ad3-47f6-8ef9-56be0e011774",
   "metadata": {
    "execution": {
     "iopub.execute_input": "2023-08-30T04:00:23.079652Z",
     "iopub.status.busy": "2023-08-30T04:00:23.079268Z",
     "iopub.status.idle": "2023-08-30T04:00:23.097676Z",
     "shell.execute_reply": "2023-08-30T04:00:23.097251Z"
    },
    "papermill": {
     "duration": 0.028091,
     "end_time": "2023-08-30T04:00:23.098834",
     "exception": false,
     "start_time": "2023-08-30T04:00:23.070743",
     "status": "completed"
    },
    "tags": []
   },
   "outputs": [],
   "source": [
    "gene_chr_objs = [Gene(ensembl_id=gene_id) for gene_id in genes_chr[\"id\"]]"
   ]
  },
  {
   "cell_type": "code",
   "execution_count": 28,
   "id": "570f974f-13c3-42b6-ad3a-ce99ca885c1a",
   "metadata": {
    "execution": {
     "iopub.execute_input": "2023-08-30T04:00:23.114008Z",
     "iopub.status.busy": "2023-08-30T04:00:23.113666Z",
     "iopub.status.idle": "2023-08-30T04:00:23.145120Z",
     "shell.execute_reply": "2023-08-30T04:00:23.144498Z"
    },
    "papermill": {
     "duration": 0.041272,
     "end_time": "2023-08-30T04:00:23.146159",
     "exception": false,
     "start_time": "2023-08-30T04:00:23.104887",
     "status": "completed"
    },
    "tags": []
   },
   "outputs": [
    {
     "name": "stdout",
     "output_type": "stream",
     "text": [
      "Number of gene combinations: 98790\n"
     ]
    }
   ],
   "source": [
    "n = len(gene_chr_objs)\n",
    "# diagonal elements + upper triangular matrix\n",
    "n_comb = n + int(n * (n - 1) / 2.0)\n",
    "print(f\"Number of gene combinations: {n_comb}\", flush=True)"
   ]
  },
  {
   "cell_type": "code",
   "execution_count": 29,
   "id": "cdbb90a1",
   "metadata": {
    "execution": {
     "iopub.execute_input": "2023-08-30T04:00:23.168446Z",
     "iopub.status.busy": "2023-08-30T04:00:23.168219Z",
     "iopub.status.idle": "2023-08-30T04:06:49.645289Z",
     "shell.execute_reply": "2023-08-30T04:06:49.644712Z"
    },
    "papermill": {
     "duration": 387.161972,
     "end_time": "2023-08-30T04:06:50.318565",
     "exception": false,
     "start_time": "2023-08-30T04:00:23.156593",
     "status": "completed"
    },
    "tags": []
   },
   "outputs": [
    {
     "name": "stderr",
     "output_type": "stream",
     "text": [
      "ENSG00000188389 / ENSG00000188389: 100%|█████████████████████| 98790/98790 [06:26<00:00, 255.65it/s]\n"
     ]
    },
    {
     "data": {
      "text/plain": [
       "PosixPath('/opt/data/projects/chronotype/results/gls_phenoplier/gene_corrs/chronotype/by_chr/gene_corrs-chr2.pkl')"
      ]
     },
     "metadata": {},
     "output_type": "display_data"
    }
   ],
   "source": [
    "gene_corrs = []\n",
    "gene_corrs_data = np.full(\n",
    "    (n, n),\n",
    "    np.nan,\n",
    "    dtype=np.float64,\n",
    ")\n",
    "\n",
    "i = 0\n",
    "with tqdm(ncols=100, total=n_comb) as pbar:\n",
    "    for gene1_idx in range(0, len(gene_chr_objs)):\n",
    "        gene1_obj = gene_chr_objs[gene1_idx]\n",
    "        gene1_tissues = spredixcan_genes_models.loc[gene1_obj.ensembl_id, \"tissue\"]\n",
    "\n",
    "        for gene2_idx in range(gene1_idx, len(gene_chr_objs)):\n",
    "            gene2_obj = gene_chr_objs[gene2_idx]\n",
    "            gene2_tissues = spredixcan_genes_models.loc[gene2_obj.ensembl_id, \"tissue\"]\n",
    "\n",
    "            pbar.set_description(f\"{gene1_obj.ensembl_id} / {gene2_obj.ensembl_id}\")\n",
    "\n",
    "            try:\n",
    "                r = gene1_obj.get_ssm_correlation(\n",
    "                    other_gene=gene2_obj,\n",
    "                    tissues=gene1_tissues,\n",
    "                    other_tissues=gene2_tissues,\n",
    "                    snps_subset=gwas_variants_ids_set,\n",
    "                    condition_number=SMULTIXCAN_CONDITION_NUMBER,\n",
    "                    reference_panel=REFERENCE_PANEL,\n",
    "                    model_type=EQTL_MODEL,\n",
    "                    use_within_distance=COMPUTE_CORRELATIONS_WITHIN_DISTANCE,\n",
    "                )\n",
    "\n",
    "                if r is None:\n",
    "                    # if r is None, it's very likely because:\n",
    "                    #  * one of the genes has no prediction models\n",
    "                    #  * all the SNPs predictors for the gene are not present in the reference\n",
    "                    #    panel\n",
    "\n",
    "                    r = 0.0\n",
    "\n",
    "                gene_corrs.append(r)\n",
    "\n",
    "                gene_corrs_data[gene1_idx, gene2_idx] = r\n",
    "                gene_corrs_data[gene2_idx, gene1_idx] = r\n",
    "            except Warning as e:\n",
    "                if not DEBUG_MODE:\n",
    "                    raise e\n",
    "\n",
    "                print(\n",
    "                    f\"RuntimeWarning for genes {gene1_obj.ensembl_id} and {gene2_obj.ensembl_id}\",\n",
    "                    flush=True,\n",
    "                )\n",
    "                print(traceback.format_exc(), flush=True)\n",
    "\n",
    "                gene_corrs.append(np.nan)\n",
    "            except Exception as e:\n",
    "                if not DEBUG_MODE:\n",
    "                    raise e\n",
    "\n",
    "                print(\n",
    "                    f\"Exception for genes {gene1_obj.ensembl_id} and {gene2_obj.ensembl_id}\",\n",
    "                    flush=True,\n",
    "                )\n",
    "                print(traceback.format_exc(), flush=True)\n",
    "\n",
    "                gene_corrs.append(np.nan)\n",
    "\n",
    "            pbar.update(1)\n",
    "\n",
    "# create a pandas series\n",
    "gene_corrs_flat = pd.Series(gene_corrs)\n",
    "\n",
    "# save\n",
    "# FIXME: consider saving only the condenced matrix here. See here for\n",
    "# more details: https://github.com/greenelab/phenoplier/pull/38#discussion_r634600813\n",
    "# gene_corrs_data = squareform(np.array(gene_corrs, dtype=np.float64))\n",
    "# np.fill_diagonal(gene_corrs_data, 1.0)\n",
    "\n",
    "gene_chr_ids = [g.ensembl_id for g in gene_chr_objs]\n",
    "gene_corrs_df = pd.DataFrame(\n",
    "    data=gene_corrs_data,\n",
    "    index=gene_chr_ids,\n",
    "    columns=gene_chr_ids,\n",
    ")\n",
    "\n",
    "output_dir.mkdir(exist_ok=True, parents=True)\n",
    "display(output_file)\n",
    "\n",
    "gene_corrs_df.to_pickle(output_file)"
   ]
  },
  {
   "cell_type": "markdown",
   "id": "faa67b51-5373-470f-aa72-2ded53fa6dfe",
   "metadata": {
    "papermill": {
     "duration": 3.093427,
     "end_time": "2023-08-30T04:06:56.521645",
     "exception": false,
     "start_time": "2023-08-30T04:06:53.428218",
     "status": "completed"
    },
    "tags": []
   },
   "source": [
    "# Testing"
   ]
  },
  {
   "cell_type": "code",
   "execution_count": 30,
   "id": "14f7d046-4b55-4896-a56b-990127bcc388",
   "metadata": {
    "execution": {
     "iopub.execute_input": "2023-08-30T04:07:02.624085Z",
     "iopub.status.busy": "2023-08-30T04:07:02.623808Z",
     "iopub.status.idle": "2023-08-30T04:07:02.645457Z",
     "shell.execute_reply": "2023-08-30T04:07:02.644837Z"
    },
    "papermill": {
     "duration": 3.060875,
     "end_time": "2023-08-30T04:07:02.646439",
     "exception": false,
     "start_time": "2023-08-30T04:06:59.585564",
     "status": "completed"
    },
    "tags": []
   },
   "outputs": [
    {
     "data": {
      "text/plain": [
       "(444, 444)"
      ]
     },
     "execution_count": 30,
     "metadata": {},
     "output_type": "execute_result"
    }
   ],
   "source": [
    "gene_corrs_df.shape"
   ]
  },
  {
   "cell_type": "code",
   "execution_count": 31,
   "id": "c7d15414-3297-4537-a7c6-7588c0baeb75",
   "metadata": {
    "execution": {
     "iopub.execute_input": "2023-08-30T04:07:08.654214Z",
     "iopub.status.busy": "2023-08-30T04:07:08.653502Z",
     "iopub.status.idle": "2023-08-30T04:07:08.703435Z",
     "shell.execute_reply": "2023-08-30T04:07:08.702747Z"
    },
    "papermill": {
     "duration": 3.081393,
     "end_time": "2023-08-30T04:07:08.704454",
     "exception": false,
     "start_time": "2023-08-30T04:07:05.623061",
     "status": "completed"
    },
    "tags": []
   },
   "outputs": [
    {
     "data": {
      "text/html": [
       "<div>\n",
       "<style scoped>\n",
       "    .dataframe tbody tr th:only-of-type {\n",
       "        vertical-align: middle;\n",
       "    }\n",
       "\n",
       "    .dataframe tbody tr th {\n",
       "        vertical-align: top;\n",
       "    }\n",
       "\n",
       "    .dataframe thead th {\n",
       "        text-align: right;\n",
       "    }\n",
       "</style>\n",
       "<table border=\"1\" class=\"dataframe\">\n",
       "  <thead>\n",
       "    <tr style=\"text-align: right;\">\n",
       "      <th></th>\n",
       "      <th>ENSG00000143727</th>\n",
       "      <th>ENSG00000115705</th>\n",
       "      <th>ENSG00000130508</th>\n",
       "      <th>ENSG00000182551</th>\n",
       "      <th>ENSG00000171865</th>\n",
       "      <th>ENSG00000171863</th>\n",
       "      <th>ENSG00000134326</th>\n",
       "      <th>ENSG00000134321</th>\n",
       "      <th>ENSG00000115738</th>\n",
       "      <th>ENSG00000134313</th>\n",
       "      <th>...</th>\n",
       "      <th>ENSG00000068024</th>\n",
       "      <th>ENSG00000130414</th>\n",
       "      <th>ENSG00000063660</th>\n",
       "      <th>ENSG00000178623</th>\n",
       "      <th>ENSG00000115687</th>\n",
       "      <th>ENSG00000168385</th>\n",
       "      <th>ENSG00000006607</th>\n",
       "      <th>ENSG00000168393</th>\n",
       "      <th>ENSG00000180902</th>\n",
       "      <th>ENSG00000188389</th>\n",
       "    </tr>\n",
       "  </thead>\n",
       "  <tbody>\n",
       "    <tr>\n",
       "      <th>ENSG00000143727</th>\n",
       "      <td>1.000000</td>\n",
       "      <td>0.008300</td>\n",
       "      <td>0.008055</td>\n",
       "      <td>0.003027</td>\n",
       "      <td>0.008433</td>\n",
       "      <td>0.003120</td>\n",
       "      <td>0.000000</td>\n",
       "      <td>0.000000</td>\n",
       "      <td>0.0</td>\n",
       "      <td>0.0</td>\n",
       "      <td>...</td>\n",
       "      <td>0.0</td>\n",
       "      <td>0.0</td>\n",
       "      <td>0.0</td>\n",
       "      <td>0.0</td>\n",
       "      <td>0.0</td>\n",
       "      <td>0.0</td>\n",
       "      <td>0.0</td>\n",
       "      <td>0.0</td>\n",
       "      <td>0.0</td>\n",
       "      <td>0.0</td>\n",
       "    </tr>\n",
       "    <tr>\n",
       "      <th>ENSG00000115705</th>\n",
       "      <td>0.008300</td>\n",
       "      <td>1.000000</td>\n",
       "      <td>0.016309</td>\n",
       "      <td>0.010550</td>\n",
       "      <td>0.012934</td>\n",
       "      <td>0.011270</td>\n",
       "      <td>0.000000</td>\n",
       "      <td>0.000000</td>\n",
       "      <td>0.0</td>\n",
       "      <td>0.0</td>\n",
       "      <td>...</td>\n",
       "      <td>0.0</td>\n",
       "      <td>0.0</td>\n",
       "      <td>0.0</td>\n",
       "      <td>0.0</td>\n",
       "      <td>0.0</td>\n",
       "      <td>0.0</td>\n",
       "      <td>0.0</td>\n",
       "      <td>0.0</td>\n",
       "      <td>0.0</td>\n",
       "      <td>0.0</td>\n",
       "    </tr>\n",
       "    <tr>\n",
       "      <th>ENSG00000130508</th>\n",
       "      <td>0.008055</td>\n",
       "      <td>0.016309</td>\n",
       "      <td>1.000000</td>\n",
       "      <td>0.010958</td>\n",
       "      <td>0.008181</td>\n",
       "      <td>0.007399</td>\n",
       "      <td>0.000000</td>\n",
       "      <td>0.000000</td>\n",
       "      <td>0.0</td>\n",
       "      <td>0.0</td>\n",
       "      <td>...</td>\n",
       "      <td>0.0</td>\n",
       "      <td>0.0</td>\n",
       "      <td>0.0</td>\n",
       "      <td>0.0</td>\n",
       "      <td>0.0</td>\n",
       "      <td>0.0</td>\n",
       "      <td>0.0</td>\n",
       "      <td>0.0</td>\n",
       "      <td>0.0</td>\n",
       "      <td>0.0</td>\n",
       "    </tr>\n",
       "    <tr>\n",
       "      <th>ENSG00000182551</th>\n",
       "      <td>0.003027</td>\n",
       "      <td>0.010550</td>\n",
       "      <td>0.010958</td>\n",
       "      <td>1.000000</td>\n",
       "      <td>0.135310</td>\n",
       "      <td>0.222487</td>\n",
       "      <td>0.007158</td>\n",
       "      <td>0.008068</td>\n",
       "      <td>0.0</td>\n",
       "      <td>0.0</td>\n",
       "      <td>...</td>\n",
       "      <td>0.0</td>\n",
       "      <td>0.0</td>\n",
       "      <td>0.0</td>\n",
       "      <td>0.0</td>\n",
       "      <td>0.0</td>\n",
       "      <td>0.0</td>\n",
       "      <td>0.0</td>\n",
       "      <td>0.0</td>\n",
       "      <td>0.0</td>\n",
       "      <td>0.0</td>\n",
       "    </tr>\n",
       "    <tr>\n",
       "      <th>ENSG00000171865</th>\n",
       "      <td>0.008433</td>\n",
       "      <td>0.012934</td>\n",
       "      <td>0.008181</td>\n",
       "      <td>0.135310</td>\n",
       "      <td>1.000000</td>\n",
       "      <td>0.115207</td>\n",
       "      <td>0.009295</td>\n",
       "      <td>0.005103</td>\n",
       "      <td>0.0</td>\n",
       "      <td>0.0</td>\n",
       "      <td>...</td>\n",
       "      <td>0.0</td>\n",
       "      <td>0.0</td>\n",
       "      <td>0.0</td>\n",
       "      <td>0.0</td>\n",
       "      <td>0.0</td>\n",
       "      <td>0.0</td>\n",
       "      <td>0.0</td>\n",
       "      <td>0.0</td>\n",
       "      <td>0.0</td>\n",
       "      <td>0.0</td>\n",
       "    </tr>\n",
       "  </tbody>\n",
       "</table>\n",
       "<p>5 rows × 444 columns</p>\n",
       "</div>"
      ],
      "text/plain": [
       "                 ENSG00000143727  ENSG00000115705  ENSG00000130508  \\\n",
       "ENSG00000143727         1.000000         0.008300         0.008055   \n",
       "ENSG00000115705         0.008300         1.000000         0.016309   \n",
       "ENSG00000130508         0.008055         0.016309         1.000000   \n",
       "ENSG00000182551         0.003027         0.010550         0.010958   \n",
       "ENSG00000171865         0.008433         0.012934         0.008181   \n",
       "\n",
       "                 ENSG00000182551  ENSG00000171865  ENSG00000171863  \\\n",
       "ENSG00000143727         0.003027         0.008433         0.003120   \n",
       "ENSG00000115705         0.010550         0.012934         0.011270   \n",
       "ENSG00000130508         0.010958         0.008181         0.007399   \n",
       "ENSG00000182551         1.000000         0.135310         0.222487   \n",
       "ENSG00000171865         0.135310         1.000000         0.115207   \n",
       "\n",
       "                 ENSG00000134326  ENSG00000134321  ENSG00000115738  \\\n",
       "ENSG00000143727         0.000000         0.000000              0.0   \n",
       "ENSG00000115705         0.000000         0.000000              0.0   \n",
       "ENSG00000130508         0.000000         0.000000              0.0   \n",
       "ENSG00000182551         0.007158         0.008068              0.0   \n",
       "ENSG00000171865         0.009295         0.005103              0.0   \n",
       "\n",
       "                 ENSG00000134313  ...  ENSG00000068024  ENSG00000130414  \\\n",
       "ENSG00000143727              0.0  ...              0.0              0.0   \n",
       "ENSG00000115705              0.0  ...              0.0              0.0   \n",
       "ENSG00000130508              0.0  ...              0.0              0.0   \n",
       "ENSG00000182551              0.0  ...              0.0              0.0   \n",
       "ENSG00000171865              0.0  ...              0.0              0.0   \n",
       "\n",
       "                 ENSG00000063660  ENSG00000178623  ENSG00000115687  \\\n",
       "ENSG00000143727              0.0              0.0              0.0   \n",
       "ENSG00000115705              0.0              0.0              0.0   \n",
       "ENSG00000130508              0.0              0.0              0.0   \n",
       "ENSG00000182551              0.0              0.0              0.0   \n",
       "ENSG00000171865              0.0              0.0              0.0   \n",
       "\n",
       "                 ENSG00000168385  ENSG00000006607  ENSG00000168393  \\\n",
       "ENSG00000143727              0.0              0.0              0.0   \n",
       "ENSG00000115705              0.0              0.0              0.0   \n",
       "ENSG00000130508              0.0              0.0              0.0   \n",
       "ENSG00000182551              0.0              0.0              0.0   \n",
       "ENSG00000171865              0.0              0.0              0.0   \n",
       "\n",
       "                 ENSG00000180902  ENSG00000188389  \n",
       "ENSG00000143727              0.0              0.0  \n",
       "ENSG00000115705              0.0              0.0  \n",
       "ENSG00000130508              0.0              0.0  \n",
       "ENSG00000182551              0.0              0.0  \n",
       "ENSG00000171865              0.0              0.0  \n",
       "\n",
       "[5 rows x 444 columns]"
      ]
     },
     "execution_count": 31,
     "metadata": {},
     "output_type": "execute_result"
    }
   ],
   "source": [
    "gene_corrs_df.head()"
   ]
  },
  {
   "cell_type": "markdown",
   "id": "dad6603f-01c6-41fb-a6f6-241051207dd8",
   "metadata": {
    "papermill": {
     "duration": 3.055047,
     "end_time": "2023-08-30T04:07:14.777783",
     "exception": false,
     "start_time": "2023-08-30T04:07:11.722736",
     "status": "completed"
    },
    "tags": []
   },
   "source": [
    "## Standard checks and stats"
   ]
  },
  {
   "cell_type": "code",
   "execution_count": 32,
   "id": "286686af-1b7b-4440-8453-6bdcbd8de19c",
   "metadata": {
    "execution": {
     "iopub.execute_input": "2023-08-30T04:07:20.881219Z",
     "iopub.status.busy": "2023-08-30T04:07:20.880559Z",
     "iopub.status.idle": "2023-08-30T04:07:20.903108Z",
     "shell.execute_reply": "2023-08-30T04:07:20.902453Z"
    },
    "papermill": {
     "duration": 3.078914,
     "end_time": "2023-08-30T04:07:20.904191",
     "exception": false,
     "start_time": "2023-08-30T04:07:17.825277",
     "status": "completed"
    },
    "tags": []
   },
   "outputs": [],
   "source": [
    "assert not gene_corrs_df.isna().any(axis=None)"
   ]
  },
  {
   "cell_type": "code",
   "execution_count": 33,
   "id": "00583efc-7068-4270-ad1e-4a418e91db96",
   "metadata": {
    "execution": {
     "iopub.execute_input": "2023-08-30T04:07:26.943401Z",
     "iopub.status.busy": "2023-08-30T04:07:26.943103Z",
     "iopub.status.idle": "2023-08-30T04:07:26.969181Z",
     "shell.execute_reply": "2023-08-30T04:07:26.968566Z"
    },
    "papermill": {
     "duration": 3.112227,
     "end_time": "2023-08-30T04:07:26.970075",
     "exception": false,
     "start_time": "2023-08-30T04:07:23.857848",
     "status": "completed"
    },
    "tags": []
   },
   "outputs": [
    {
     "data": {
      "text/plain": [
       "0.0"
      ]
     },
     "metadata": {},
     "output_type": "display_data"
    }
   ],
   "source": [
    "_min_val = gene_corrs_df.min().min()\n",
    "display(_min_val)\n",
    "assert _min_val >= -0.05"
   ]
  },
  {
   "cell_type": "code",
   "execution_count": 34,
   "id": "d04fb2cf-1050-475b-b855-f5f7cc04092b",
   "metadata": {
    "execution": {
     "iopub.execute_input": "2023-08-30T04:07:33.062201Z",
     "iopub.status.busy": "2023-08-30T04:07:33.061849Z",
     "iopub.status.idle": "2023-08-30T04:07:33.082451Z",
     "shell.execute_reply": "2023-08-30T04:07:33.082025Z"
    },
    "papermill": {
     "duration": 3.021603,
     "end_time": "2023-08-30T04:07:33.083237",
     "exception": false,
     "start_time": "2023-08-30T04:07:30.061634",
     "status": "completed"
    },
    "tags": []
   },
   "outputs": [
    {
     "data": {
      "text/plain": [
       "1.0000000000000033"
      ]
     },
     "metadata": {},
     "output_type": "display_data"
    }
   ],
   "source": [
    "_max_val = gene_corrs_df.max().max()  # this captures the diagonal\n",
    "display(_max_val)\n",
    "assert _max_val <= 1.05"
   ]
  },
  {
   "cell_type": "code",
   "execution_count": 35,
   "id": "fe283586-c348-40e0-8841-f6d97bfb021c",
   "metadata": {
    "execution": {
     "iopub.execute_input": "2023-08-30T04:07:39.238254Z",
     "iopub.status.busy": "2023-08-30T04:07:39.237839Z",
     "iopub.status.idle": "2023-08-30T04:07:39.264324Z",
     "shell.execute_reply": "2023-08-30T04:07:39.263763Z"
    },
    "papermill": {
     "duration": 3.13114,
     "end_time": "2023-08-30T04:07:39.265218",
     "exception": false,
     "start_time": "2023-08-30T04:07:36.134078",
     "status": "completed"
    },
    "tags": []
   },
   "outputs": [
    {
     "data": {
      "text/plain": [
       "count    98790.000000\n",
       "mean         0.006089\n",
       "std          0.070578\n",
       "min          0.000000\n",
       "25%          0.000000\n",
       "50%          0.000000\n",
       "75%          0.000000\n",
       "max          1.000000\n",
       "dtype: float64"
      ]
     },
     "execution_count": 35,
     "metadata": {},
     "output_type": "execute_result"
    }
   ],
   "source": [
    "gene_corrs_flat.describe()"
   ]
  },
  {
   "cell_type": "code",
   "execution_count": 36,
   "id": "b3815678-0f93-4b35-897b-a9d047a2aa78",
   "metadata": {
    "execution": {
     "iopub.execute_input": "2023-08-30T04:07:45.457271Z",
     "iopub.status.busy": "2023-08-30T04:07:45.456971Z",
     "iopub.status.idle": "2023-08-30T04:07:45.484633Z",
     "shell.execute_reply": "2023-08-30T04:07:45.484039Z"
    },
    "papermill": {
     "duration": 3.170427,
     "end_time": "2023-08-30T04:07:45.486465",
     "exception": false,
     "start_time": "2023-08-30T04:07:42.316038",
     "status": "completed"
    },
    "tags": []
   },
   "outputs": [
    {
     "data": {
      "text/plain": [
       "0.00    0.000000\n",
       "0.05    0.000000\n",
       "0.10    0.000000\n",
       "0.15    0.000000\n",
       "0.20    0.000000\n",
       "0.25    0.000000\n",
       "0.30    0.000000\n",
       "0.35    0.000000\n",
       "0.40    0.000000\n",
       "0.45    0.000000\n",
       "0.50    0.000000\n",
       "0.55    0.000000\n",
       "0.60    0.000000\n",
       "0.65    0.000000\n",
       "0.70    0.000000\n",
       "0.75    0.000000\n",
       "0.80    0.000000\n",
       "0.85    0.000000\n",
       "0.90    0.000000\n",
       "0.95    0.001502\n",
       "dtype: float64"
      ]
     },
     "metadata": {},
     "output_type": "display_data"
    }
   ],
   "source": [
    "gene_corrs_quantiles = gene_corrs_flat.quantile(np.arange(0, 1, 0.05))\n",
    "display(gene_corrs_quantiles)"
   ]
  },
  {
   "cell_type": "markdown",
   "id": "87134509-b145-4a10-8bc9-b7e914c2b0fa",
   "metadata": {
    "papermill": {
     "duration": 3.119413,
     "end_time": "2023-08-30T04:07:51.739421",
     "exception": false,
     "start_time": "2023-08-30T04:07:48.620008",
     "status": "completed"
    },
    "tags": []
   },
   "source": [
    "## Positive definiteness"
   ]
  },
  {
   "cell_type": "code",
   "execution_count": 37,
   "id": "07d9a9a1-a4f7-48aa-b916-6d42a8cc6186",
   "metadata": {
    "execution": {
     "iopub.execute_input": "2023-08-30T04:07:57.822398Z",
     "iopub.status.busy": "2023-08-30T04:07:57.821989Z",
     "iopub.status.idle": "2023-08-30T04:07:57.884618Z",
     "shell.execute_reply": "2023-08-30T04:07:57.883939Z"
    },
    "papermill": {
     "duration": 3.137698,
     "end_time": "2023-08-30T04:07:57.886037",
     "exception": false,
     "start_time": "2023-08-30T04:07:54.748339",
     "status": "completed"
    },
    "tags": []
   },
   "outputs": [
    {
     "data": {
      "text/plain": [
       "0"
      ]
     },
     "metadata": {},
     "output_type": "display_data"
    },
    {
     "data": {
      "text/plain": [
       "array([], dtype=float64)"
      ]
     },
     "metadata": {},
     "output_type": "display_data"
    }
   ],
   "source": [
    "# print negative eigenvalues\n",
    "eigs = np.linalg.eigvals(gene_corrs_df.to_numpy())\n",
    "display(len(eigs[eigs < 0]))\n",
    "display(eigs[eigs < 0])"
   ]
  },
  {
   "cell_type": "code",
   "execution_count": 38,
   "id": "6e218436-c3c5-4028-8c94-a4fa6260efce",
   "metadata": {
    "execution": {
     "iopub.execute_input": "2023-08-30T04:08:03.921757Z",
     "iopub.status.busy": "2023-08-30T04:08:03.921290Z",
     "iopub.status.idle": "2023-08-30T04:08:03.964094Z",
     "shell.execute_reply": "2023-08-30T04:08:03.963392Z"
    },
    "papermill": {
     "duration": 3.060171,
     "end_time": "2023-08-30T04:08:03.965581",
     "exception": false,
     "start_time": "2023-08-30T04:08:00.905410",
     "status": "completed"
    },
    "tags": []
   },
   "outputs": [
    {
     "name": "stdout",
     "output_type": "stream",
     "text": [
      "Works!\n"
     ]
    }
   ],
   "source": [
    "try:\n",
    "    chol_mat = np.linalg.cholesky(gene_corrs_df.to_numpy())\n",
    "    cov_inv = np.linalg.inv(chol_mat)\n",
    "    print(\"Works!\")\n",
    "except Exception as e:\n",
    "    print(f\"Cholesky decomposition failed: {str(e)}\")"
   ]
  },
  {
   "cell_type": "code",
   "execution_count": 39,
   "id": "dd8827fb-faf9-4c7c-9454-015e94752706",
   "metadata": {
    "execution": {
     "iopub.execute_input": "2023-08-30T04:08:10.001627Z",
     "iopub.status.busy": "2023-08-30T04:08:10.001332Z",
     "iopub.status.idle": "2023-08-30T04:08:10.043213Z",
     "shell.execute_reply": "2023-08-30T04:08:10.042520Z"
    },
    "papermill": {
     "duration": 3.036388,
     "end_time": "2023-08-30T04:08:10.044493",
     "exception": false,
     "start_time": "2023-08-30T04:08:07.008105",
     "status": "completed"
    },
    "tags": []
   },
   "outputs": [
    {
     "name": "stdout",
     "output_type": "stream",
     "text": [
      "Works!\n"
     ]
    }
   ],
   "source": [
    "try:\n",
    "    # decomposition used by statsmodels.GLS\n",
    "    cholsigmainv = np.linalg.cholesky(np.linalg.inv(gene_corrs_df.to_numpy())).T\n",
    "    print(\"Works!\")\n",
    "except Exception as e:\n",
    "    print(f\"Cholesky decomposition failed (statsmodels.GLS): {str(e)}\")"
   ]
  },
  {
   "cell_type": "markdown",
   "id": "8e60a080-edb2-4e9c-b2ef-22961693200c",
   "metadata": {
    "papermill": {
     "duration": 3.145154,
     "end_time": "2023-08-30T04:08:16.248339",
     "exception": false,
     "start_time": "2023-08-30T04:08:13.103185",
     "status": "completed"
    },
    "tags": []
   },
   "source": [
    "## Plot: distribution"
   ]
  },
  {
   "cell_type": "code",
   "execution_count": 40,
   "id": "8301126b-a7d4-4744-9c7d-f0f86eb6f54c",
   "metadata": {
    "execution": {
     "iopub.execute_input": "2023-08-30T04:08:22.585221Z",
     "iopub.status.busy": "2023-08-30T04:08:22.584910Z",
     "iopub.status.idle": "2023-08-30T04:08:23.818125Z",
     "shell.execute_reply": "2023-08-30T04:08:23.817605Z"
    },
    "papermill": {
     "duration": 4.417891,
     "end_time": "2023-08-30T04:08:23.819794",
     "exception": false,
     "start_time": "2023-08-30T04:08:19.401903",
     "status": "completed"
    },
    "tags": []
   },
   "outputs": [
    {
     "data": {
      "image/png": "[encoded data removed]",
      "text/plain": [
       "<Figure size 700x700 with 1 Axes>"
      ]
     },
     "metadata": {},
     "output_type": "display_data"
    }
   ],
   "source": [
    "with sns.plotting_context(\"paper\", font_scale=1.5):\n",
    "    g = sns.displot(gene_corrs_flat, kde=True, height=7)\n",
    "    g.ax.set_title(\n",
    "        f\"Distribution of gene correlation values in chromosome {CHROMOSOME}\"\n",
    "    )"
   ]
  },
  {
   "cell_type": "markdown",
   "id": "cbd52bca-d878-4a2f-b684-5c83aa3038d4",
   "metadata": {
    "papermill": {
     "duration": 2.962829,
     "end_time": "2023-08-30T04:08:29.865794",
     "exception": false,
     "start_time": "2023-08-30T04:08:26.902965",
     "status": "completed"
    },
    "tags": []
   },
   "source": [
    "## Plot: heatmap"
   ]
  },
  {
   "cell_type": "code",
   "execution_count": 41,
   "id": "d03fe63a-c7b2-4fb9-a53c-db362ce843c9",
   "metadata": {
    "execution": {
     "iopub.execute_input": "2023-08-30T04:08:35.958172Z",
     "iopub.status.busy": "2023-08-30T04:08:35.957848Z",
     "iopub.status.idle": "2023-08-30T04:08:35.981421Z",
     "shell.execute_reply": "2023-08-30T04:08:35.980760Z"
    },
    "papermill": {
     "duration": 3.096368,
     "end_time": "2023-08-30T04:08:35.982425",
     "exception": false,
     "start_time": "2023-08-30T04:08:32.886057",
     "status": "completed"
    },
    "tags": []
   },
   "outputs": [
    {
     "data": {
      "text/plain": [
       "'0.0 / 0.05'"
      ]
     },
     "metadata": {},
     "output_type": "display_data"
    }
   ],
   "source": [
    "vmin_val = min(0.00, gene_corrs_quantiles[0.10])\n",
    "vmax_val = max(0.05, gene_corrs_quantiles[0.90])\n",
    "display(f\"{vmin_val} / {vmax_val}\")"
   ]
  },
  {
   "cell_type": "code",
   "execution_count": 42,
   "id": "dc41b70b-5bcc-4d9e-9f33-a22c4a94dab5",
   "metadata": {
    "execution": {
     "iopub.execute_input": "2023-08-30T04:08:42.029995Z",
     "iopub.status.busy": "2023-08-30T04:08:42.029224Z",
     "iopub.status.idle": "2023-08-30T04:08:42.364004Z",
     "shell.execute_reply": "2023-08-30T04:08:42.363596Z"
    },
    "papermill": {
     "duration": 3.300012,
     "end_time": "2023-08-30T04:08:42.365836",
     "exception": false,
     "start_time": "2023-08-30T04:08:39.065824",
     "status": "completed"
    },
    "tags": []
   },
   "outputs": [
    {
     "data": {
      "text/plain": [
       "Text(0.5, 1.0, 'Gene correlations in chromosome 2')"
      ]
     },
     "execution_count": 42,
     "metadata": {},
     "output_type": "execute_result"
    },
    {
     "data": {
      "image/png": "[encoded data removed]",
      "text/plain": [
       "<Figure size 1000x1000 with 2 Axes>"
      ]
     },
     "metadata": {},
     "output_type": "display_data"
    }
   ],
   "source": [
    "f, ax = plt.subplots(figsize=(10, 10))\n",
    "sns.heatmap(\n",
    "    gene_corrs_df,\n",
    "    xticklabels=False,\n",
    "    yticklabels=False,\n",
    "    square=True,\n",
    "    vmin=vmin_val,\n",
    "    vmax=vmax_val,\n",
    "    cmap=\"rocket_r\",\n",
    "    ax=ax,\n",
    ")\n",
    "ax.set_title(f\"Gene correlations in chromosome {CHROMOSOME}\")"
   ]
  },
  {
   "cell_type": "code",
   "execution_count": null,
   "id": "b25e3ead",
   "metadata": {
    "papermill": {
     "duration": 2.997745,
     "end_time": "2023-08-30T04:08:48.491792",
     "exception": false,
     "start_time": "2023-08-30T04:08:45.494047",
     "status": "completed"
    },
    "tags": []
   },
   "outputs": [],
   "source": []
  }
 ],
 "metadata": {
  "jupytext": {
   "cell_metadata_filter": "all,-execution,-papermill,-trusted",
   "formats": "ipynb,py//py:percent"
  },
  "kernelspec": {
   "display_name": "Python 3 (ipykernel)",
   "language": "python",
   "name": "python3"
  },
  "language_info": {
   "codemirror_mode": {
    "name": "ipython",
    "version": 3
   },
   "file_extension": ".py",
   "mimetype": "text/x-python",
   "name": "python",
   "nbconvert_exporter": "python",
   "pygments_lexer": "ipython3",
   "version": "3.10.6"
  },
  "papermill": {
   "default_parameters": {},
   "duration": 523.725557,
   "end_time": "2023-08-30T04:08:54.812560",
   "environment_variables": {},
   "exception": null,
   "input_path": "projects/chronotype/nbs/20_gene_corrs/jobs/05-gene_expr_correlations.ipynb",
   "output_path": "projects/chronotype/nbs/20_gene_corrs/jobs/../output/chronotype/05-gene_expr_correlations-chr2.run.ipynb",
   "parameters": {
    "CHROMOSOME": 2,
    "COHORT_NAME": "chronotype",
    "OUTPUT_DIR_BASE": "/opt/data/projects/chronotype/results/gls_phenoplier",
    "PHENOPLIER_NOTEBOOK_FILEPATH": "projects/chronotype/nbs/20_gene_corrs/jobs/05-gene_expr_correlations.ipynb"
   },
   "start_time": "2023-08-30T04:00:11.087003",
   "version": "2.2.2"
  }
 },
 "nbformat": 4,
 "nbformat_minor": 5
}
