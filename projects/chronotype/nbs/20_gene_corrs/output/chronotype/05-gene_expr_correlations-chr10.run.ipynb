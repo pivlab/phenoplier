{
 "cells": [
  {
   "cell_type": "markdown",
   "id": "7a6632fb",
   "metadata": {
    "papermill": {
     "duration": 0.007468,
     "end_time": "2023-08-30T04:00:12.058994",
     "exception": false,
     "start_time": "2023-08-30T04:00:12.051526",
     "status": "completed"
    },
    "tags": []
   },
   "source": [
    "# Description"
   ]
  },
  {
   "cell_type": "markdown",
   "id": "7097c346",
   "metadata": {
    "papermill": {
     "duration": 0.006384,
     "end_time": "2023-08-30T04:00:12.072312",
     "exception": false,
     "start_time": "2023-08-30T04:00:12.065928",
     "status": "completed"
    },
    "tags": []
   },
   "source": [
    "This notebook computes predicted expression correlations between all genes in the MultiPLIER models.\n",
    "\n",
    "It has specicfic parameters for papermill (see under `Settings` below).\n",
    "\n",
    "This notebook should not be directly run. It is used by other notebooks."
   ]
  },
  {
   "cell_type": "markdown",
   "id": "c61d8427",
   "metadata": {
    "papermill": {
     "duration": 0.004147,
     "end_time": "2023-08-30T04:00:12.081257",
     "exception": false,
     "start_time": "2023-08-30T04:00:12.077110",
     "status": "completed"
    },
    "tags": []
   },
   "source": [
    "# Modules"
   ]
  },
  {
   "cell_type": "code",
   "execution_count": 1,
   "id": "bbc0234f",
   "metadata": {
    "execution": {
     "iopub.execute_input": "2023-08-30T04:00:12.092235Z",
     "iopub.status.busy": "2023-08-30T04:00:12.091664Z",
     "iopub.status.idle": "2023-08-30T04:00:12.122202Z",
     "shell.execute_reply": "2023-08-30T04:00:12.121296Z"
    },
    "papermill": {
     "duration": 0.037925,
     "end_time": "2023-08-30T04:00:12.123889",
     "exception": false,
     "start_time": "2023-08-30T04:00:12.085964",
     "status": "completed"
    },
    "tags": []
   },
   "outputs": [],
   "source": [
    "%load_ext autoreload\n",
    "%autoreload 2"
   ]
  },
  {
   "cell_type": "code",
   "execution_count": 2,
   "id": "1d5f5a59",
   "metadata": {
    "execution": {
     "iopub.execute_input": "2023-08-30T04:00:12.140260Z",
     "iopub.status.busy": "2023-08-30T04:00:12.139486Z",
     "iopub.status.idle": "2023-08-30T04:00:12.892690Z",
     "shell.execute_reply": "2023-08-30T04:00:12.892192Z"
    },
    "papermill": {
     "duration": 0.763034,
     "end_time": "2023-08-30T04:00:12.894156",
     "exception": false,
     "start_time": "2023-08-30T04:00:12.131122",
     "status": "completed"
    },
    "tags": []
   },
   "outputs": [],
   "source": [
    "from random import sample, seed\n",
    "import warnings\n",
    "from pathlib import Path\n",
    "import pickle\n",
    "import traceback\n",
    "\n",
    "import numpy as np\n",
    "from scipy.spatial.distance import squareform\n",
    "import pandas as pd\n",
    "from tqdm import tqdm\n",
    "import matplotlib.pyplot as plt\n",
    "import seaborn as sns\n",
    "\n",
    "import conf\n",
    "from entity import Gene"
   ]
  },
  {
   "cell_type": "markdown",
   "id": "1eac24b5",
   "metadata": {
    "papermill": {
     "duration": 0.006983,
     "end_time": "2023-08-30T04:00:12.908367",
     "exception": false,
     "start_time": "2023-08-30T04:00:12.901384",
     "status": "completed"
    },
    "tags": []
   },
   "source": [
    "# Settings"
   ]
  },
  {
   "cell_type": "code",
   "execution_count": 3,
   "id": "ca4560ba",
   "metadata": {
    "execution": {
     "iopub.execute_input": "2023-08-30T04:00:12.924481Z",
     "iopub.status.busy": "2023-08-30T04:00:12.924289Z",
     "iopub.status.idle": "2023-08-30T04:00:12.950182Z",
     "shell.execute_reply": "2023-08-30T04:00:12.949202Z"
    },
    "papermill": {
     "duration": 0.035993,
     "end_time": "2023-08-30T04:00:12.951784",
     "exception": false,
     "start_time": "2023-08-30T04:00:12.915791",
     "status": "completed"
    },
    "tags": [
     "parameters"
    ]
   },
   "outputs": [],
   "source": [
    "# a cohort name (it could be something like UK_BIOBANK, etc)\n",
    "COHORT_NAME = None\n",
    "\n",
    "# reference panel such as 1000G or GTEX_V8\n",
    "REFERENCE_PANEL = \"GTEX_V8\"\n",
    "\n",
    "# predictions models such as MASHR or ELASTIC_NET\n",
    "EQTL_MODEL = \"MASHR\"\n",
    "\n",
    "# this is the default value used in S-MultiXcan to select the\n",
    "# top principal components of the expression correlation matrix\n",
    "SMULTIXCAN_CONDITION_NUMBER = 30\n",
    "\n",
    "# specifies a single chromosome value\n",
    "CHROMOSOME = None\n",
    "\n",
    "# If True, computes the correlation between closeby genes only (see\n",
    "# entity.Gene.within_distance for more details). Otherwise, it computes\n",
    "# correlations for all genes in a chromosome\n",
    "COMPUTE_CORRELATIONS_WITHIN_DISTANCE = True\n",
    "\n",
    "# if True, then it will continue if a gene pair correlation fails,\n",
    "# printing the warning/error for debugging. If False, any warning/error\n",
    "# will be thrown\n",
    "DEBUG_MODE = False\n",
    "\n",
    "# output dir\n",
    "OUTPUT_DIR_BASE = None"
   ]
  },
  {
   "cell_type": "code",
   "execution_count": 4,
   "id": "b719d5b3",
   "metadata": {
    "execution": {
     "iopub.execute_input": "2023-08-30T04:00:12.967433Z",
     "iopub.status.busy": "2023-08-30T04:00:12.967134Z",
     "iopub.status.idle": "2023-08-30T04:00:12.992277Z",
     "shell.execute_reply": "2023-08-30T04:00:12.991867Z"
    },
    "papermill": {
     "duration": 0.034254,
     "end_time": "2023-08-30T04:00:12.993286",
     "exception": false,
     "start_time": "2023-08-30T04:00:12.959032",
     "status": "completed"
    },
    "tags": [
     "injected-parameters"
    ]
   },
   "outputs": [],
   "source": [
    "# Parameters\n",
    "PHENOPLIER_NOTEBOOK_FILEPATH = (\n",
    "    \"projects/chronotype/nbs/20_gene_corrs/jobs/05-gene_expr_correlations.ipynb\"\n",
    ")\n",
    "COHORT_NAME = \"chronotype\"\n",
    "CHROMOSOME = 10\n",
    "OUTPUT_DIR_BASE = \"/opt/data/projects/chronotype/results/gls_phenoplier\"\n"
   ]
  },
  {
   "cell_type": "code",
   "execution_count": 5,
   "id": "3190631f-27fc-480f-b18e-571d580425a5",
   "metadata": {
    "execution": {
     "iopub.execute_input": "2023-08-30T04:00:13.003589Z",
     "iopub.status.busy": "2023-08-30T04:00:13.003313Z",
     "iopub.status.idle": "2023-08-30T04:00:13.029175Z",
     "shell.execute_reply": "2023-08-30T04:00:13.028736Z"
    },
    "papermill": {
     "duration": 0.031993,
     "end_time": "2023-08-30T04:00:13.030275",
     "exception": false,
     "start_time": "2023-08-30T04:00:12.998282",
     "status": "completed"
    },
    "tags": []
   },
   "outputs": [
    {
     "data": {
      "text/plain": [
       "'Cohort name: chronotype'"
      ]
     },
     "metadata": {},
     "output_type": "display_data"
    }
   ],
   "source": [
    "assert COHORT_NAME is not None and len(COHORT_NAME) > 0, \"A cohort name must be given\"\n",
    "\n",
    "COHORT_NAME = COHORT_NAME.lower()\n",
    "display(f\"Cohort name: {COHORT_NAME}\")"
   ]
  },
  {
   "cell_type": "code",
   "execution_count": 6,
   "id": "f53ba19b-0f93-4fa2-a047-63b375939d1a",
   "metadata": {
    "execution": {
     "iopub.execute_input": "2023-08-30T04:00:13.045667Z",
     "iopub.status.busy": "2023-08-30T04:00:13.045307Z",
     "iopub.status.idle": "2023-08-30T04:00:13.070082Z",
     "shell.execute_reply": "2023-08-30T04:00:13.069632Z"
    },
    "papermill": {
     "duration": 0.033511,
     "end_time": "2023-08-30T04:00:13.071217",
     "exception": false,
     "start_time": "2023-08-30T04:00:13.037706",
     "status": "completed"
    },
    "tags": []
   },
   "outputs": [
    {
     "data": {
      "text/plain": [
       "'Reference panel: GTEX_V8'"
      ]
     },
     "metadata": {},
     "output_type": "display_data"
    }
   ],
   "source": [
    "assert (\n",
    "    REFERENCE_PANEL is not None and len(REFERENCE_PANEL) > 0\n",
    "), \"A reference panel must be given\"\n",
    "\n",
    "display(f\"Reference panel: {REFERENCE_PANEL}\")"
   ]
  },
  {
   "cell_type": "code",
   "execution_count": 7,
   "id": "e024d130-c139-429a-9c6e-ccf149e297b0",
   "metadata": {
    "execution": {
     "iopub.execute_input": "2023-08-30T04:00:13.086119Z",
     "iopub.status.busy": "2023-08-30T04:00:13.085835Z",
     "iopub.status.idle": "2023-08-30T04:00:13.111011Z",
     "shell.execute_reply": "2023-08-30T04:00:13.110607Z"
    },
    "papermill": {
     "duration": 0.034327,
     "end_time": "2023-08-30T04:00:13.112559",
     "exception": false,
     "start_time": "2023-08-30T04:00:13.078232",
     "status": "completed"
    },
    "tags": []
   },
   "outputs": [
    {
     "data": {
      "text/plain": [
       "'eQTL model: MASHR) / mashr_'"
      ]
     },
     "metadata": {},
     "output_type": "display_data"
    }
   ],
   "source": [
    "assert (\n",
    "    EQTL_MODEL is not None and len(EQTL_MODEL) > 0\n",
    "), \"A prediction/eQTL model must be given\"\n",
    "\n",
    "EQTL_MODEL_FILES_PREFIX = conf.PHENOMEXCAN[\"PREDICTION_MODELS\"][f\"{EQTL_MODEL}_PREFIX\"]\n",
    "display(f\"eQTL model: {EQTL_MODEL}) / {EQTL_MODEL_FILES_PREFIX}\")"
   ]
  },
  {
   "cell_type": "code",
   "execution_count": 8,
   "id": "552a7f63-a18c-4d3e-bb6a-94f99b431291",
   "metadata": {
    "execution": {
     "iopub.execute_input": "2023-08-30T04:00:13.135509Z",
     "iopub.status.busy": "2023-08-30T04:00:13.135192Z",
     "iopub.status.idle": "2023-08-30T04:00:13.155230Z",
     "shell.execute_reply": "2023-08-30T04:00:13.154806Z"
    },
    "papermill": {
     "duration": 0.032648,
     "end_time": "2023-08-30T04:00:13.156108",
     "exception": false,
     "start_time": "2023-08-30T04:00:13.123460",
     "status": "completed"
    },
    "tags": []
   },
   "outputs": [
    {
     "data": {
      "text/plain": [
       "'S-MultiXcan condition number: 30'"
      ]
     },
     "metadata": {},
     "output_type": "display_data"
    }
   ],
   "source": [
    "assert (\n",
    "    SMULTIXCAN_CONDITION_NUMBER is not None and SMULTIXCAN_CONDITION_NUMBER > 0\n",
    "), \"The S-MultiXcan condition number (positive integer) must be given\"\n",
    "\n",
    "display(f\"S-MultiXcan condition number: {SMULTIXCAN_CONDITION_NUMBER}\")"
   ]
  },
  {
   "cell_type": "code",
   "execution_count": 9,
   "id": "f34a336f-548e-4afe-8955-90eaea4f42c6",
   "metadata": {
    "execution": {
     "iopub.execute_input": "2023-08-30T04:00:13.168829Z",
     "iopub.status.busy": "2023-08-30T04:00:13.168536Z",
     "iopub.status.idle": "2023-08-30T04:00:13.195432Z",
     "shell.execute_reply": "2023-08-30T04:00:13.195053Z"
    },
    "papermill": {
     "duration": 0.035388,
     "end_time": "2023-08-30T04:00:13.196380",
     "exception": false,
     "start_time": "2023-08-30T04:00:13.160992",
     "status": "completed"
    },
    "tags": []
   },
   "outputs": [
    {
     "data": {
      "text/plain": [
       "'Working on chromosome 10'"
      ]
     },
     "metadata": {},
     "output_type": "display_data"
    }
   ],
   "source": [
    "assert CHROMOSOME is not None and (\n",
    "    1 <= CHROMOSOME <= 22\n",
    "), \"You have to select one chromosome (format: number between 1 and 22)\"\n",
    "\n",
    "display(f\"Working on chromosome {CHROMOSOME}\")"
   ]
  },
  {
   "cell_type": "code",
   "execution_count": 10,
   "id": "ab8e96e8-06b5-4363-9dcd-dc4d78cc27f7",
   "metadata": {
    "execution": {
     "iopub.execute_input": "2023-08-30T04:00:13.210070Z",
     "iopub.status.busy": "2023-08-30T04:00:13.209744Z",
     "iopub.status.idle": "2023-08-30T04:00:13.235072Z",
     "shell.execute_reply": "2023-08-30T04:00:13.234588Z"
    },
    "papermill": {
     "duration": 0.034268,
     "end_time": "2023-08-30T04:00:13.235937",
     "exception": false,
     "start_time": "2023-08-30T04:00:13.201669",
     "status": "completed"
    },
    "tags": []
   },
   "outputs": [
    {
     "data": {
      "text/plain": [
       "'Compute correlation within distance True'"
      ]
     },
     "metadata": {},
     "output_type": "display_data"
    }
   ],
   "source": [
    "display(f\"Compute correlation within distance {COMPUTE_CORRELATIONS_WITHIN_DISTANCE}\")"
   ]
  },
  {
   "cell_type": "code",
   "execution_count": 11,
   "id": "b393b698-77e3-4ba2-8ac1-e14d51aa988f",
   "metadata": {
    "execution": {
     "iopub.execute_input": "2023-08-30T04:00:13.247623Z",
     "iopub.status.busy": "2023-08-30T04:00:13.247335Z",
     "iopub.status.idle": "2023-08-30T04:00:13.275003Z",
     "shell.execute_reply": "2023-08-30T04:00:13.274600Z"
    },
    "papermill": {
     "duration": 0.034117,
     "end_time": "2023-08-30T04:00:13.275837",
     "exception": false,
     "start_time": "2023-08-30T04:00:13.241720",
     "status": "completed"
    },
    "tags": []
   },
   "outputs": [
    {
     "data": {
      "text/plain": [
       "'Using output dir base: /opt/data/projects/chronotype/results/gls_phenoplier/gene_corrs/chronotype'"
      ]
     },
     "metadata": {},
     "output_type": "display_data"
    }
   ],
   "source": [
    "assert (\n",
    "    OUTPUT_DIR_BASE is not None and len(OUTPUT_DIR_BASE) > 0\n",
    "), \"Output directory path must be given\"\n",
    "\n",
    "OUTPUT_DIR_BASE = (Path(OUTPUT_DIR_BASE) / \"gene_corrs\" / COHORT_NAME).resolve()\n",
    "\n",
    "OUTPUT_DIR_BASE.mkdir(parents=True, exist_ok=True)\n",
    "\n",
    "display(f\"Using output dir base: {OUTPUT_DIR_BASE}\")"
   ]
  },
  {
   "cell_type": "markdown",
   "id": "d2ba085e",
   "metadata": {
    "papermill": {
     "duration": 0.006168,
     "end_time": "2023-08-30T04:00:13.287253",
     "exception": false,
     "start_time": "2023-08-30T04:00:13.281085",
     "status": "completed"
    },
    "tags": []
   },
   "source": [
    "# Load data"
   ]
  },
  {
   "cell_type": "markdown",
   "id": "7dcb8db7",
   "metadata": {
    "papermill": {
     "duration": 0.007796,
     "end_time": "2023-08-30T04:00:13.303096",
     "exception": false,
     "start_time": "2023-08-30T04:00:13.295300",
     "status": "completed"
    },
    "tags": []
   },
   "source": [
    "## GWAS variants"
   ]
  },
  {
   "cell_type": "code",
   "execution_count": 12,
   "id": "29434c4e-8cd3-4b9b-82e4-b5a251d9dd19",
   "metadata": {
    "execution": {
     "iopub.execute_input": "2023-08-30T04:00:13.316711Z",
     "iopub.status.busy": "2023-08-30T04:00:13.316483Z",
     "iopub.status.idle": "2023-08-30T04:00:18.496057Z",
     "shell.execute_reply": "2023-08-30T04:00:18.495434Z"
    },
    "papermill": {
     "duration": 5.18757,
     "end_time": "2023-08-30T04:00:18.498070",
     "exception": false,
     "start_time": "2023-08-30T04:00:13.310500",
     "status": "completed"
    },
    "tags": []
   },
   "outputs": [],
   "source": [
    "with open(OUTPUT_DIR_BASE / \"gwas_variant_ids.pkl\", \"rb\") as handle:\n",
    "    gwas_variants_ids_set = pickle.load(handle)"
   ]
  },
  {
   "cell_type": "code",
   "execution_count": 13,
   "id": "b9d9dec2-4a76-4bf9-bde2-e24c95acb8a0",
   "metadata": {
    "execution": {
     "iopub.execute_input": "2023-08-30T04:00:18.517082Z",
     "iopub.status.busy": "2023-08-30T04:00:18.516812Z",
     "iopub.status.idle": "2023-08-30T04:00:18.532994Z",
     "shell.execute_reply": "2023-08-30T04:00:18.532669Z"
    },
    "papermill": {
     "duration": 0.027738,
     "end_time": "2023-08-30T04:00:18.534642",
     "exception": false,
     "start_time": "2023-08-30T04:00:18.506904",
     "status": "completed"
    },
    "tags": []
   },
   "outputs": [
    {
     "data": {
      "text/plain": [
       "11737794"
      ]
     },
     "execution_count": 13,
     "metadata": {},
     "output_type": "execute_result"
    }
   ],
   "source": [
    "len(gwas_variants_ids_set)"
   ]
  },
  {
   "cell_type": "code",
   "execution_count": 14,
   "id": "4235b06a-6034-4ee4-a0a3-2ae35d122418",
   "metadata": {
    "execution": {
     "iopub.execute_input": "2023-08-30T04:00:18.553254Z",
     "iopub.status.busy": "2023-08-30T04:00:18.553014Z",
     "iopub.status.idle": "2023-08-30T04:00:20.758401Z",
     "shell.execute_reply": "2023-08-30T04:00:20.757840Z"
    },
    "papermill": {
     "duration": 2.216284,
     "end_time": "2023-08-30T04:00:20.759671",
     "exception": false,
     "start_time": "2023-08-30T04:00:18.543387",
     "status": "completed"
    },
    "tags": []
   },
   "outputs": [
    {
     "data": {
      "text/plain": [
       "['chr1_234739856_A_G_b38',\n",
       " 'chr11_2734318_A_G_b38',\n",
       " 'chr15_76293991_C_CA_b38',\n",
       " 'chr1_150722424_A_G_b38',\n",
       " 'chr3_75332305_A_G_b38']"
      ]
     },
     "execution_count": 14,
     "metadata": {},
     "output_type": "execute_result"
    }
   ],
   "source": [
    "list(gwas_variants_ids_set)[:5]"
   ]
  },
  {
   "cell_type": "markdown",
   "id": "07866999-2305-41f9-a144-e69c9122c212",
   "metadata": {
    "papermill": {
     "duration": 0.007741,
     "end_time": "2023-08-30T04:00:20.775313",
     "exception": false,
     "start_time": "2023-08-30T04:00:20.767572",
     "status": "completed"
    },
    "tags": []
   },
   "source": [
    "## S-PrediXcan tissue models"
   ]
  },
  {
   "cell_type": "code",
   "execution_count": 15,
   "id": "780611d9-77c8-405f-90a4-f271f7b09397",
   "metadata": {
    "execution": {
     "iopub.execute_input": "2023-08-30T04:00:20.793336Z",
     "iopub.status.busy": "2023-08-30T04:00:20.792920Z",
     "iopub.status.idle": "2023-08-30T04:00:23.061383Z",
     "shell.execute_reply": "2023-08-30T04:00:23.060858Z"
    },
    "papermill": {
     "duration": 2.279581,
     "end_time": "2023-08-30T04:00:23.063178",
     "exception": false,
     "start_time": "2023-08-30T04:00:20.783597",
     "status": "completed"
    },
    "tags": []
   },
   "outputs": [],
   "source": [
    "spredixcan_genes_models = pd.read_pickle(OUTPUT_DIR_BASE / \"gene_tissues.pkl\")"
   ]
  },
  {
   "cell_type": "code",
   "execution_count": 16,
   "id": "726dd1f6-9557-4225-91fa-b3b879ea96e1",
   "metadata": {
    "execution": {
     "iopub.execute_input": "2023-08-30T04:00:23.082114Z",
     "iopub.status.busy": "2023-08-30T04:00:23.081809Z",
     "iopub.status.idle": "2023-08-30T04:00:23.101044Z",
     "shell.execute_reply": "2023-08-30T04:00:23.100546Z"
    },
    "papermill": {
     "duration": 0.029865,
     "end_time": "2023-08-30T04:00:23.101927",
     "exception": false,
     "start_time": "2023-08-30T04:00:23.072062",
     "status": "completed"
    },
    "tags": []
   },
   "outputs": [
    {
     "data": {
      "text/plain": [
       "(6445, 5)"
      ]
     },
     "execution_count": 16,
     "metadata": {},
     "output_type": "execute_result"
    }
   ],
   "source": [
    "spredixcan_genes_models.shape"
   ]
  },
  {
   "cell_type": "code",
   "execution_count": 17,
   "id": "944a1b48-222c-4eb0-b252-b9de2cbca215",
   "metadata": {
    "execution": {
     "iopub.execute_input": "2023-08-30T04:00:23.114086Z",
     "iopub.status.busy": "2023-08-30T04:00:23.113813Z",
     "iopub.status.idle": "2023-08-30T04:00:23.136833Z",
     "shell.execute_reply": "2023-08-30T04:00:23.136442Z"
    },
    "papermill": {
     "duration": 0.030326,
     "end_time": "2023-08-30T04:00:23.137756",
     "exception": false,
     "start_time": "2023-08-30T04:00:23.107430",
     "status": "completed"
    },
    "tags": []
   },
   "outputs": [
    {
     "data": {
      "text/html": [
       "<div>\n",
       "<style scoped>\n",
       "    .dataframe tbody tr th:only-of-type {\n",
       "        vertical-align: middle;\n",
       "    }\n",
       "\n",
       "    .dataframe tbody tr th {\n",
       "        vertical-align: top;\n",
       "    }\n",
       "\n",
       "    .dataframe thead th {\n",
       "        text-align: right;\n",
       "    }\n",
       "</style>\n",
       "<table border=\"1\" class=\"dataframe\">\n",
       "  <thead>\n",
       "    <tr style=\"text-align: right;\">\n",
       "      <th></th>\n",
       "      <th>gene_name</th>\n",
       "      <th>tissue</th>\n",
       "      <th>n_tissues</th>\n",
       "      <th>n_snps_used_sum</th>\n",
       "      <th>n_snps_in_model_sum</th>\n",
       "    </tr>\n",
       "    <tr>\n",
       "      <th>gene_id</th>\n",
       "      <th></th>\n",
       "      <th></th>\n",
       "      <th></th>\n",
       "      <th></th>\n",
       "      <th></th>\n",
       "    </tr>\n",
       "  </thead>\n",
       "  <tbody>\n",
       "    <tr>\n",
       "      <th>ENSG00000000419</th>\n",
       "      <td>DPM1</td>\n",
       "      <td>(Brain_Hypothalamus, Brain_Substantia_nigra)</td>\n",
       "      <td>2</td>\n",
       "      <td>2</td>\n",
       "      <td>2</td>\n",
       "    </tr>\n",
       "    <tr>\n",
       "      <th>ENSG00000000938</th>\n",
       "      <td>FGR</td>\n",
       "      <td>(Skin_Not_Sun_Exposed_Suprapubic, Stomach, Bre...</td>\n",
       "      <td>36</td>\n",
       "      <td>40</td>\n",
       "      <td>40</td>\n",
       "    </tr>\n",
       "    <tr>\n",
       "      <th>ENSG00000000971</th>\n",
       "      <td>CFH</td>\n",
       "      <td>(Skin_Not_Sun_Exposed_Suprapubic, Breast_Mamma...</td>\n",
       "      <td>34</td>\n",
       "      <td>44</td>\n",
       "      <td>44</td>\n",
       "    </tr>\n",
       "    <tr>\n",
       "      <th>ENSG00000001084</th>\n",
       "      <td>GCLC</td>\n",
       "      <td>(Skin_Not_Sun_Exposed_Suprapubic, Nerve_Tibial...</td>\n",
       "      <td>32</td>\n",
       "      <td>46</td>\n",
       "      <td>46</td>\n",
       "    </tr>\n",
       "    <tr>\n",
       "      <th>ENSG00000001167</th>\n",
       "      <td>NFYA</td>\n",
       "      <td>(Skin_Not_Sun_Exposed_Suprapubic, Breast_Mamma...</td>\n",
       "      <td>40</td>\n",
       "      <td>47</td>\n",
       "      <td>48</td>\n",
       "    </tr>\n",
       "  </tbody>\n",
       "</table>\n",
       "</div>"
      ],
      "text/plain": [
       "                gene_name                                             tissue  \\\n",
       "gene_id                                                                        \n",
       "ENSG00000000419      DPM1       (Brain_Hypothalamus, Brain_Substantia_nigra)   \n",
       "ENSG00000000938       FGR  (Skin_Not_Sun_Exposed_Suprapubic, Stomach, Bre...   \n",
       "ENSG00000000971       CFH  (Skin_Not_Sun_Exposed_Suprapubic, Breast_Mamma...   \n",
       "ENSG00000001084      GCLC  (Skin_Not_Sun_Exposed_Suprapubic, Nerve_Tibial...   \n",
       "ENSG00000001167      NFYA  (Skin_Not_Sun_Exposed_Suprapubic, Breast_Mamma...   \n",
       "\n",
       "                 n_tissues  n_snps_used_sum  n_snps_in_model_sum  \n",
       "gene_id                                                           \n",
       "ENSG00000000419          2                2                    2  \n",
       "ENSG00000000938         36               40                   40  \n",
       "ENSG00000000971         34               44                   44  \n",
       "ENSG00000001084         32               46                   46  \n",
       "ENSG00000001167         40               47                   48  "
      ]
     },
     "execution_count": 17,
     "metadata": {},
     "output_type": "execute_result"
    }
   ],
   "source": [
    "spredixcan_genes_models.head()"
   ]
  },
  {
   "cell_type": "code",
   "execution_count": 18,
   "id": "d1c11bb1-be0b-4f40-b360-633d6827109f",
   "metadata": {
    "execution": {
     "iopub.execute_input": "2023-08-30T04:00:23.150665Z",
     "iopub.status.busy": "2023-08-30T04:00:23.150376Z",
     "iopub.status.idle": "2023-08-30T04:00:23.168272Z",
     "shell.execute_reply": "2023-08-30T04:00:23.167844Z"
    },
    "papermill": {
     "duration": 0.025928,
     "end_time": "2023-08-30T04:00:23.169605",
     "exception": false,
     "start_time": "2023-08-30T04:00:23.143677",
     "status": "completed"
    },
    "tags": []
   },
   "outputs": [],
   "source": [
    "assert spredixcan_genes_models.index.is_unique"
   ]
  },
  {
   "cell_type": "markdown",
   "id": "a5b5092c-a13e-47c4-a92a-480fcc08f3ae",
   "metadata": {
    "papermill": {
     "duration": 0.006333,
     "end_time": "2023-08-30T04:00:23.182022",
     "exception": false,
     "start_time": "2023-08-30T04:00:23.175689",
     "status": "completed"
    },
    "tags": []
   },
   "source": [
    "## Gene info"
   ]
  },
  {
   "cell_type": "code",
   "execution_count": 19,
   "id": "7d6bb224-88e9-4358-ac10-43a41d92cdad",
   "metadata": {
    "execution": {
     "iopub.execute_input": "2023-08-30T04:00:23.201335Z",
     "iopub.status.busy": "2023-08-30T04:00:23.201011Z",
     "iopub.status.idle": "2023-08-30T04:00:23.219734Z",
     "shell.execute_reply": "2023-08-30T04:00:23.219271Z"
    },
    "papermill": {
     "duration": 0.029961,
     "end_time": "2023-08-30T04:00:23.221147",
     "exception": false,
     "start_time": "2023-08-30T04:00:23.191186",
     "status": "completed"
    },
    "tags": []
   },
   "outputs": [],
   "source": [
    "genes_info = pd.read_pickle(OUTPUT_DIR_BASE / \"genes_info.pkl\")"
   ]
  },
  {
   "cell_type": "code",
   "execution_count": 20,
   "id": "9e32abfa-546d-483e-8c18-d526e9e05903",
   "metadata": {
    "execution": {
     "iopub.execute_input": "2023-08-30T04:00:23.234939Z",
     "iopub.status.busy": "2023-08-30T04:00:23.234507Z",
     "iopub.status.idle": "2023-08-30T04:00:23.252777Z",
     "shell.execute_reply": "2023-08-30T04:00:23.252375Z"
    },
    "papermill": {
     "duration": 0.026352,
     "end_time": "2023-08-30T04:00:23.253989",
     "exception": false,
     "start_time": "2023-08-30T04:00:23.227637",
     "status": "completed"
    },
    "tags": []
   },
   "outputs": [
    {
     "data": {
      "text/plain": [
       "(6445, 7)"
      ]
     },
     "execution_count": 20,
     "metadata": {},
     "output_type": "execute_result"
    }
   ],
   "source": [
    "genes_info.shape"
   ]
  },
  {
   "cell_type": "code",
   "execution_count": 21,
   "id": "d16c3e92-85ec-468a-9a56-e25a9774a1cb",
   "metadata": {
    "execution": {
     "iopub.execute_input": "2023-08-30T04:00:23.274595Z",
     "iopub.status.busy": "2023-08-30T04:00:23.274254Z",
     "iopub.status.idle": "2023-08-30T04:00:23.300938Z",
     "shell.execute_reply": "2023-08-30T04:00:23.300419Z"
    },
    "papermill": {
     "duration": 0.038423,
     "end_time": "2023-08-30T04:00:23.302208",
     "exception": false,
     "start_time": "2023-08-30T04:00:23.263785",
     "status": "completed"
    },
    "tags": []
   },
   "outputs": [
    {
     "data": {
      "text/html": [
       "<div>\n",
       "<style scoped>\n",
       "    .dataframe tbody tr th:only-of-type {\n",
       "        vertical-align: middle;\n",
       "    }\n",
       "\n",
       "    .dataframe tbody tr th {\n",
       "        vertical-align: top;\n",
       "    }\n",
       "\n",
       "    .dataframe thead th {\n",
       "        text-align: right;\n",
       "    }\n",
       "</style>\n",
       "<table border=\"1\" class=\"dataframe\">\n",
       "  <thead>\n",
       "    <tr style=\"text-align: right;\">\n",
       "      <th></th>\n",
       "      <th>name</th>\n",
       "      <th>id</th>\n",
       "      <th>chr</th>\n",
       "      <th>band</th>\n",
       "      <th>start_position</th>\n",
       "      <th>end_position</th>\n",
       "      <th>gene_length</th>\n",
       "    </tr>\n",
       "  </thead>\n",
       "  <tbody>\n",
       "    <tr>\n",
       "      <th>0</th>\n",
       "      <td>DUT</td>\n",
       "      <td>ENSG00000128951</td>\n",
       "      <td>15</td>\n",
       "      <td>15q21.1</td>\n",
       "      <td>48331011</td>\n",
       "      <td>48343373</td>\n",
       "      <td>12362</td>\n",
       "    </tr>\n",
       "    <tr>\n",
       "      <th>1</th>\n",
       "      <td>NDUFA4</td>\n",
       "      <td>ENSG00000189043</td>\n",
       "      <td>7</td>\n",
       "      <td>7p21.3</td>\n",
       "      <td>10931943</td>\n",
       "      <td>10940153</td>\n",
       "      <td>8210</td>\n",
       "    </tr>\n",
       "    <tr>\n",
       "      <th>2</th>\n",
       "      <td>EPHB3</td>\n",
       "      <td>ENSG00000182580</td>\n",
       "      <td>3</td>\n",
       "      <td>3q27.1</td>\n",
       "      <td>184561785</td>\n",
       "      <td>184582408</td>\n",
       "      <td>20623</td>\n",
       "    </tr>\n",
       "    <tr>\n",
       "      <th>3</th>\n",
       "      <td>MYLK</td>\n",
       "      <td>ENSG00000065534</td>\n",
       "      <td>3</td>\n",
       "      <td>3q21.1</td>\n",
       "      <td>123610049</td>\n",
       "      <td>123884331</td>\n",
       "      <td>274282</td>\n",
       "    </tr>\n",
       "    <tr>\n",
       "      <th>4</th>\n",
       "      <td>SMPD4</td>\n",
       "      <td>ENSG00000136699</td>\n",
       "      <td>2</td>\n",
       "      <td>2q21.1</td>\n",
       "      <td>130151392</td>\n",
       "      <td>130182750</td>\n",
       "      <td>31358</td>\n",
       "    </tr>\n",
       "  </tbody>\n",
       "</table>\n",
       "</div>"
      ],
      "text/plain": [
       "     name               id  chr     band  start_position  end_position  \\\n",
       "0     DUT  ENSG00000128951   15  15q21.1        48331011      48343373   \n",
       "1  NDUFA4  ENSG00000189043    7   7p21.3        10931943      10940153   \n",
       "2   EPHB3  ENSG00000182580    3   3q27.1       184561785     184582408   \n",
       "3    MYLK  ENSG00000065534    3   3q21.1       123610049     123884331   \n",
       "4   SMPD4  ENSG00000136699    2   2q21.1       130151392     130182750   \n",
       "\n",
       "   gene_length  \n",
       "0        12362  \n",
       "1         8210  \n",
       "2        20623  \n",
       "3       274282  \n",
       "4        31358  "
      ]
     },
     "execution_count": 21,
     "metadata": {},
     "output_type": "execute_result"
    }
   ],
   "source": [
    "genes_info.head()"
   ]
  },
  {
   "cell_type": "markdown",
   "id": "d3843e06",
   "metadata": {
    "papermill": {
     "duration": 0.009793,
     "end_time": "2023-08-30T04:00:23.321627",
     "exception": false,
     "start_time": "2023-08-30T04:00:23.311834",
     "status": "completed"
    },
    "tags": []
   },
   "source": [
    "# Compute correlations"
   ]
  },
  {
   "cell_type": "code",
   "execution_count": 22,
   "id": "cb859c15-d1f3-4006-a74c-2b83c0db9611",
   "metadata": {
    "execution": {
     "iopub.execute_input": "2023-08-30T04:00:23.335867Z",
     "iopub.status.busy": "2023-08-30T04:00:23.335422Z",
     "iopub.status.idle": "2023-08-30T04:00:23.361710Z",
     "shell.execute_reply": "2023-08-30T04:00:23.361179Z"
    },
    "papermill": {
     "duration": 0.03462,
     "end_time": "2023-08-30T04:00:23.362964",
     "exception": false,
     "start_time": "2023-08-30T04:00:23.328344",
     "status": "completed"
    },
    "tags": []
   },
   "outputs": [
    {
     "data": {
      "text/plain": [
       "PosixPath('/opt/data/projects/chronotype/results/gls_phenoplier/gene_corrs/chronotype/by_chr/gene_corrs-chr10.pkl')"
      ]
     },
     "metadata": {},
     "output_type": "display_data"
    }
   ],
   "source": [
    "output_dir = OUTPUT_DIR_BASE / \"by_chr\"\n",
    "output_dir.mkdir(exist_ok=True, parents=True)\n",
    "output_file = output_dir / f\"gene_corrs-chr{CHROMOSOME}.pkl\"\n",
    "display(output_file)"
   ]
  },
  {
   "cell_type": "code",
   "execution_count": 23,
   "id": "aa674fe4-6794-4eed-98fa-32b39d1d4ace",
   "metadata": {
    "execution": {
     "iopub.execute_input": "2023-08-30T04:00:23.380396Z",
     "iopub.status.busy": "2023-08-30T04:00:23.379944Z",
     "iopub.status.idle": "2023-08-30T04:00:23.405347Z",
     "shell.execute_reply": "2023-08-30T04:00:23.404760Z"
    },
    "papermill": {
     "duration": 0.037039,
     "end_time": "2023-08-30T04:00:23.406852",
     "exception": false,
     "start_time": "2023-08-30T04:00:23.369813",
     "status": "completed"
    },
    "tags": []
   },
   "outputs": [],
   "source": [
    "warnings.filterwarnings(\"error\")"
   ]
  },
  {
   "cell_type": "code",
   "execution_count": 24,
   "id": "44d5450b-3baf-43f1-9e2e-4b06f1a785f8",
   "metadata": {
    "execution": {
     "iopub.execute_input": "2023-08-30T04:00:23.421536Z",
     "iopub.status.busy": "2023-08-30T04:00:23.421062Z",
     "iopub.status.idle": "2023-08-30T04:00:23.447718Z",
     "shell.execute_reply": "2023-08-30T04:00:23.447121Z"
    },
    "papermill": {
     "duration": 0.036108,
     "end_time": "2023-08-30T04:00:23.449272",
     "exception": false,
     "start_time": "2023-08-30T04:00:23.413164",
     "status": "completed"
    },
    "tags": []
   },
   "outputs": [],
   "source": [
    "# standard checks\n",
    "all_chrs = genes_info[\"chr\"].dropna().unique()\n",
    "assert all_chrs.shape[0] == 22\n",
    "\n",
    "# select chromosome given by the user\n",
    "assert CHROMOSOME in all_chrs"
   ]
  },
  {
   "cell_type": "code",
   "execution_count": 25,
   "id": "2d7c043c-92a7-4d35-991b-fa69ac1e0268",
   "metadata": {
    "execution": {
     "iopub.execute_input": "2023-08-30T04:00:23.465620Z",
     "iopub.status.busy": "2023-08-30T04:00:23.465113Z",
     "iopub.status.idle": "2023-08-30T04:00:23.492648Z",
     "shell.execute_reply": "2023-08-30T04:00:23.492057Z"
    },
    "papermill": {
     "duration": 0.03705,
     "end_time": "2023-08-30T04:00:23.493914",
     "exception": false,
     "start_time": "2023-08-30T04:00:23.456864",
     "status": "completed"
    },
    "tags": []
   },
   "outputs": [
    {
     "name": "stdout",
     "output_type": "stream",
     "text": [
      "Number of genes in chromosome: 245\n"
     ]
    }
   ],
   "source": [
    "# run only on the chromosome specified\n",
    "all_chrs = [CHROMOSOME]\n",
    "genes_chr = genes_info[genes_info[\"chr\"] == CHROMOSOME]\n",
    "\n",
    "# For testing purposes\n",
    "# genes_chr = genes_chr.sample(n=20)\n",
    "\n",
    "print(f\"Number of genes in chromosome: {genes_chr.shape[0]}\", flush=True)"
   ]
  },
  {
   "cell_type": "code",
   "execution_count": 26,
   "id": "916015d8-2979-46d3-a9b9-1cf5a0932c6a",
   "metadata": {
    "execution": {
     "iopub.execute_input": "2023-08-30T04:00:23.509880Z",
     "iopub.status.busy": "2023-08-30T04:00:23.509415Z",
     "iopub.status.idle": "2023-08-30T04:00:23.534990Z",
     "shell.execute_reply": "2023-08-30T04:00:23.534163Z"
    },
    "papermill": {
     "duration": 0.035696,
     "end_time": "2023-08-30T04:00:23.536596",
     "exception": false,
     "start_time": "2023-08-30T04:00:23.500900",
     "status": "completed"
    },
    "tags": []
   },
   "outputs": [],
   "source": [
    "# sort genes by starting position to make visualizations better later\n",
    "genes_chr = genes_chr.sort_values(\"start_position\")"
   ]
  },
  {
   "cell_type": "code",
   "execution_count": 27,
   "id": "a38aa74a-8ad3-47f6-8ef9-56be0e011774",
   "metadata": {
    "execution": {
     "iopub.execute_input": "2023-08-30T04:00:23.552390Z",
     "iopub.status.busy": "2023-08-30T04:00:23.551933Z",
     "iopub.status.idle": "2023-08-30T04:00:23.577897Z",
     "shell.execute_reply": "2023-08-30T04:00:23.577137Z"
    },
    "papermill": {
     "duration": 0.035781,
     "end_time": "2023-08-30T04:00:23.579616",
     "exception": false,
     "start_time": "2023-08-30T04:00:23.543835",
     "status": "completed"
    },
    "tags": []
   },
   "outputs": [],
   "source": [
    "gene_chr_objs = [Gene(ensembl_id=gene_id) for gene_id in genes_chr[\"id\"]]"
   ]
  },
  {
   "cell_type": "code",
   "execution_count": 28,
   "id": "570f974f-13c3-42b6-ad3a-ce99ca885c1a",
   "metadata": {
    "execution": {
     "iopub.execute_input": "2023-08-30T04:00:23.595415Z",
     "iopub.status.busy": "2023-08-30T04:00:23.594956Z",
     "iopub.status.idle": "2023-08-30T04:00:23.621921Z",
     "shell.execute_reply": "2023-08-30T04:00:23.621154Z"
    },
    "papermill": {
     "duration": 0.037037,
     "end_time": "2023-08-30T04:00:23.623616",
     "exception": false,
     "start_time": "2023-08-30T04:00:23.586579",
     "status": "completed"
    },
    "tags": []
   },
   "outputs": [
    {
     "name": "stdout",
     "output_type": "stream",
     "text": [
      "Number of gene combinations: 30135\n"
     ]
    }
   ],
   "source": [
    "n = len(gene_chr_objs)\n",
    "# diagonal elements + upper triangular matrix\n",
    "n_comb = n + int(n * (n - 1) / 2.0)\n",
    "print(f\"Number of gene combinations: {n_comb}\", flush=True)"
   ]
  },
  {
   "cell_type": "code",
   "execution_count": 29,
   "id": "cdbb90a1",
   "metadata": {
    "execution": {
     "iopub.execute_input": "2023-08-30T04:00:23.640724Z",
     "iopub.status.busy": "2023-08-30T04:00:23.640267Z",
     "iopub.status.idle": "2023-08-30T04:04:24.909988Z",
     "shell.execute_reply": "2023-08-30T04:04:24.909500Z"
    },
    "papermill": {
     "duration": 241.280493,
     "end_time": "2023-08-30T04:04:24.911274",
     "exception": false,
     "start_time": "2023-08-30T04:00:23.630781",
     "status": "completed"
    },
    "tags": []
   },
   "outputs": [
    {
     "name": "stderr",
     "output_type": "stream",
     "text": [
      "ENSG00000130649 / ENSG00000130649: 100%|█████████████████████| 30135/30135 [04:01<00:00, 124.93it/s]\n"
     ]
    },
    {
     "data": {
      "text/plain": [
       "PosixPath('/opt/data/projects/chronotype/results/gls_phenoplier/gene_corrs/chronotype/by_chr/gene_corrs-chr10.pkl')"
      ]
     },
     "metadata": {},
     "output_type": "display_data"
    }
   ],
   "source": [
    "gene_corrs = []\n",
    "gene_corrs_data = np.full(\n",
    "    (n, n),\n",
    "    np.nan,\n",
    "    dtype=np.float64,\n",
    ")\n",
    "\n",
    "i = 0\n",
    "with tqdm(ncols=100, total=n_comb) as pbar:\n",
    "    for gene1_idx in range(0, len(gene_chr_objs)):\n",
    "        gene1_obj = gene_chr_objs[gene1_idx]\n",
    "        gene1_tissues = spredixcan_genes_models.loc[gene1_obj.ensembl_id, \"tissue\"]\n",
    "\n",
    "        for gene2_idx in range(gene1_idx, len(gene_chr_objs)):\n",
    "            gene2_obj = gene_chr_objs[gene2_idx]\n",
    "            gene2_tissues = spredixcan_genes_models.loc[gene2_obj.ensembl_id, \"tissue\"]\n",
    "\n",
    "            pbar.set_description(f\"{gene1_obj.ensembl_id} / {gene2_obj.ensembl_id}\")\n",
    "\n",
    "            try:\n",
    "                r = gene1_obj.get_ssm_correlation(\n",
    "                    other_gene=gene2_obj,\n",
    "                    tissues=gene1_tissues,\n",
    "                    other_tissues=gene2_tissues,\n",
    "                    snps_subset=gwas_variants_ids_set,\n",
    "                    condition_number=SMULTIXCAN_CONDITION_NUMBER,\n",
    "                    reference_panel=REFERENCE_PANEL,\n",
    "                    model_type=EQTL_MODEL,\n",
    "                    use_within_distance=COMPUTE_CORRELATIONS_WITHIN_DISTANCE,\n",
    "                )\n",
    "\n",
    "                if r is None:\n",
    "                    # if r is None, it's very likely because:\n",
    "                    #  * one of the genes has no prediction models\n",
    "                    #  * all the SNPs predictors for the gene are not present in the reference\n",
    "                    #    panel\n",
    "\n",
    "                    r = 0.0\n",
    "\n",
    "                gene_corrs.append(r)\n",
    "\n",
    "                gene_corrs_data[gene1_idx, gene2_idx] = r\n",
    "                gene_corrs_data[gene2_idx, gene1_idx] = r\n",
    "            except Warning as e:\n",
    "                if not DEBUG_MODE:\n",
    "                    raise e\n",
    "\n",
    "                print(\n",
    "                    f\"RuntimeWarning for genes {gene1_obj.ensembl_id} and {gene2_obj.ensembl_id}\",\n",
    "                    flush=True,\n",
    "                )\n",
    "                print(traceback.format_exc(), flush=True)\n",
    "\n",
    "                gene_corrs.append(np.nan)\n",
    "            except Exception as e:\n",
    "                if not DEBUG_MODE:\n",
    "                    raise e\n",
    "\n",
    "                print(\n",
    "                    f\"Exception for genes {gene1_obj.ensembl_id} and {gene2_obj.ensembl_id}\",\n",
    "                    flush=True,\n",
    "                )\n",
    "                print(traceback.format_exc(), flush=True)\n",
    "\n",
    "                gene_corrs.append(np.nan)\n",
    "\n",
    "            pbar.update(1)\n",
    "\n",
    "# create a pandas series\n",
    "gene_corrs_flat = pd.Series(gene_corrs)\n",
    "\n",
    "# save\n",
    "# FIXME: consider saving only the condenced matrix here. See here for\n",
    "# more details: https://github.com/greenelab/phenoplier/pull/38#discussion_r634600813\n",
    "# gene_corrs_data = squareform(np.array(gene_corrs, dtype=np.float64))\n",
    "# np.fill_diagonal(gene_corrs_data, 1.0)\n",
    "\n",
    "gene_chr_ids = [g.ensembl_id for g in gene_chr_objs]\n",
    "gene_corrs_df = pd.DataFrame(\n",
    "    data=gene_corrs_data,\n",
    "    index=gene_chr_ids,\n",
    "    columns=gene_chr_ids,\n",
    ")\n",
    "\n",
    "output_dir.mkdir(exist_ok=True, parents=True)\n",
    "display(output_file)\n",
    "\n",
    "gene_corrs_df.to_pickle(output_file)"
   ]
  },
  {
   "cell_type": "markdown",
   "id": "faa67b51-5373-470f-aa72-2ded53fa6dfe",
   "metadata": {
    "papermill": {
     "duration": 0.965931,
     "end_time": "2023-08-30T04:04:26.904457",
     "exception": false,
     "start_time": "2023-08-30T04:04:25.938526",
     "status": "completed"
    },
    "tags": []
   },
   "source": [
    "# Testing"
   ]
  },
  {
   "cell_type": "code",
   "execution_count": 30,
   "id": "14f7d046-4b55-4896-a56b-990127bcc388",
   "metadata": {
    "execution": {
     "iopub.execute_input": "2023-08-30T04:04:28.964125Z",
     "iopub.status.busy": "2023-08-30T04:04:28.963738Z",
     "iopub.status.idle": "2023-08-30T04:04:28.986851Z",
     "shell.execute_reply": "2023-08-30T04:04:28.986165Z"
    },
    "papermill": {
     "duration": 1.125972,
     "end_time": "2023-08-30T04:04:28.988045",
     "exception": false,
     "start_time": "2023-08-30T04:04:27.862073",
     "status": "completed"
    },
    "tags": []
   },
   "outputs": [
    {
     "data": {
      "text/plain": [
       "(245, 245)"
      ]
     },
     "execution_count": 30,
     "metadata": {},
     "output_type": "execute_result"
    }
   ],
   "source": [
    "gene_corrs_df.shape"
   ]
  },
  {
   "cell_type": "code",
   "execution_count": 31,
   "id": "c7d15414-3297-4537-a7c6-7588c0baeb75",
   "metadata": {
    "execution": {
     "iopub.execute_input": "2023-08-30T04:04:31.013910Z",
     "iopub.status.busy": "2023-08-30T04:04:31.013189Z",
     "iopub.status.idle": "2023-08-30T04:04:31.058563Z",
     "shell.execute_reply": "2023-08-30T04:04:31.057747Z"
    },
    "papermill": {
     "duration": 0.986655,
     "end_time": "2023-08-30T04:04:31.059602",
     "exception": false,
     "start_time": "2023-08-30T04:04:30.072947",
     "status": "completed"
    },
    "tags": []
   },
   "outputs": [
    {
     "data": {
      "text/html": [
       "<div>\n",
       "<style scoped>\n",
       "    .dataframe tbody tr th:only-of-type {\n",
       "        vertical-align: middle;\n",
       "    }\n",
       "\n",
       "    .dataframe tbody tr th {\n",
       "        vertical-align: top;\n",
       "    }\n",
       "\n",
       "    .dataframe thead th {\n",
       "        text-align: right;\n",
       "    }\n",
       "</style>\n",
       "<table border=\"1\" class=\"dataframe\">\n",
       "  <thead>\n",
       "    <tr style=\"text-align: right;\">\n",
       "      <th></th>\n",
       "      <th>ENSG00000261456</th>\n",
       "      <th>ENSG00000148377</th>\n",
       "      <th>ENSG00000067064</th>\n",
       "      <th>ENSG00000067057</th>\n",
       "      <th>ENSG00000067082</th>\n",
       "      <th>ENSG00000187134</th>\n",
       "      <th>ENSG00000151632</th>\n",
       "      <th>ENSG00000196139</th>\n",
       "      <th>ENSG00000173848</th>\n",
       "      <th>ENSG00000196372</th>\n",
       "      <th>...</th>\n",
       "      <th>ENSG00000148773</th>\n",
       "      <th>ENSG00000170430</th>\n",
       "      <th>ENSG00000175470</th>\n",
       "      <th>ENSG00000176171</th>\n",
       "      <th>ENSG00000151640</th>\n",
       "      <th>ENSG00000068383</th>\n",
       "      <th>ENSG00000130640</th>\n",
       "      <th>ENSG00000127884</th>\n",
       "      <th>ENSG00000148832</th>\n",
       "      <th>ENSG00000130649</th>\n",
       "    </tr>\n",
       "  </thead>\n",
       "  <tbody>\n",
       "    <tr>\n",
       "      <th>ENSG00000261456</th>\n",
       "      <td>1.000000</td>\n",
       "      <td>0.003790</td>\n",
       "      <td>0.012337</td>\n",
       "      <td>0.007815</td>\n",
       "      <td>0.005915</td>\n",
       "      <td>0.007852</td>\n",
       "      <td>0.010083</td>\n",
       "      <td>0.011510</td>\n",
       "      <td>0.000000</td>\n",
       "      <td>0.000000</td>\n",
       "      <td>...</td>\n",
       "      <td>0.0</td>\n",
       "      <td>0.0</td>\n",
       "      <td>0.0</td>\n",
       "      <td>0.0</td>\n",
       "      <td>0.0</td>\n",
       "      <td>0.0</td>\n",
       "      <td>0.0</td>\n",
       "      <td>0.0</td>\n",
       "      <td>0.0</td>\n",
       "      <td>0.0</td>\n",
       "    </tr>\n",
       "    <tr>\n",
       "      <th>ENSG00000148377</th>\n",
       "      <td>0.003790</td>\n",
       "      <td>1.000000</td>\n",
       "      <td>0.084105</td>\n",
       "      <td>0.004528</td>\n",
       "      <td>0.003054</td>\n",
       "      <td>0.006786</td>\n",
       "      <td>0.005735</td>\n",
       "      <td>0.001551</td>\n",
       "      <td>0.000925</td>\n",
       "      <td>0.000890</td>\n",
       "      <td>...</td>\n",
       "      <td>0.0</td>\n",
       "      <td>0.0</td>\n",
       "      <td>0.0</td>\n",
       "      <td>0.0</td>\n",
       "      <td>0.0</td>\n",
       "      <td>0.0</td>\n",
       "      <td>0.0</td>\n",
       "      <td>0.0</td>\n",
       "      <td>0.0</td>\n",
       "      <td>0.0</td>\n",
       "    </tr>\n",
       "    <tr>\n",
       "      <th>ENSG00000067064</th>\n",
       "      <td>0.012337</td>\n",
       "      <td>0.084105</td>\n",
       "      <td>1.000000</td>\n",
       "      <td>0.014470</td>\n",
       "      <td>0.010029</td>\n",
       "      <td>0.010480</td>\n",
       "      <td>0.008932</td>\n",
       "      <td>0.007868</td>\n",
       "      <td>0.006230</td>\n",
       "      <td>0.009131</td>\n",
       "      <td>...</td>\n",
       "      <td>0.0</td>\n",
       "      <td>0.0</td>\n",
       "      <td>0.0</td>\n",
       "      <td>0.0</td>\n",
       "      <td>0.0</td>\n",
       "      <td>0.0</td>\n",
       "      <td>0.0</td>\n",
       "      <td>0.0</td>\n",
       "      <td>0.0</td>\n",
       "      <td>0.0</td>\n",
       "    </tr>\n",
       "    <tr>\n",
       "      <th>ENSG00000067057</th>\n",
       "      <td>0.007815</td>\n",
       "      <td>0.004528</td>\n",
       "      <td>0.014470</td>\n",
       "      <td>1.000000</td>\n",
       "      <td>0.010449</td>\n",
       "      <td>0.012528</td>\n",
       "      <td>0.017848</td>\n",
       "      <td>0.015077</td>\n",
       "      <td>0.011976</td>\n",
       "      <td>0.015208</td>\n",
       "      <td>...</td>\n",
       "      <td>0.0</td>\n",
       "      <td>0.0</td>\n",
       "      <td>0.0</td>\n",
       "      <td>0.0</td>\n",
       "      <td>0.0</td>\n",
       "      <td>0.0</td>\n",
       "      <td>0.0</td>\n",
       "      <td>0.0</td>\n",
       "      <td>0.0</td>\n",
       "      <td>0.0</td>\n",
       "    </tr>\n",
       "    <tr>\n",
       "      <th>ENSG00000067082</th>\n",
       "      <td>0.005915</td>\n",
       "      <td>0.003054</td>\n",
       "      <td>0.010029</td>\n",
       "      <td>0.010449</td>\n",
       "      <td>1.000000</td>\n",
       "      <td>0.005393</td>\n",
       "      <td>0.012874</td>\n",
       "      <td>0.010219</td>\n",
       "      <td>0.007214</td>\n",
       "      <td>0.011455</td>\n",
       "      <td>...</td>\n",
       "      <td>0.0</td>\n",
       "      <td>0.0</td>\n",
       "      <td>0.0</td>\n",
       "      <td>0.0</td>\n",
       "      <td>0.0</td>\n",
       "      <td>0.0</td>\n",
       "      <td>0.0</td>\n",
       "      <td>0.0</td>\n",
       "      <td>0.0</td>\n",
       "      <td>0.0</td>\n",
       "    </tr>\n",
       "  </tbody>\n",
       "</table>\n",
       "<p>5 rows × 245 columns</p>\n",
       "</div>"
      ],
      "text/plain": [
       "                 ENSG00000261456  ENSG00000148377  ENSG00000067064  \\\n",
       "ENSG00000261456         1.000000         0.003790         0.012337   \n",
       "ENSG00000148377         0.003790         1.000000         0.084105   \n",
       "ENSG00000067064         0.012337         0.084105         1.000000   \n",
       "ENSG00000067057         0.007815         0.004528         0.014470   \n",
       "ENSG00000067082         0.005915         0.003054         0.010029   \n",
       "\n",
       "                 ENSG00000067057  ENSG00000067082  ENSG00000187134  \\\n",
       "ENSG00000261456         0.007815         0.005915         0.007852   \n",
       "ENSG00000148377         0.004528         0.003054         0.006786   \n",
       "ENSG00000067064         0.014470         0.010029         0.010480   \n",
       "ENSG00000067057         1.000000         0.010449         0.012528   \n",
       "ENSG00000067082         0.010449         1.000000         0.005393   \n",
       "\n",
       "                 ENSG00000151632  ENSG00000196139  ENSG00000173848  \\\n",
       "ENSG00000261456         0.010083         0.011510         0.000000   \n",
       "ENSG00000148377         0.005735         0.001551         0.000925   \n",
       "ENSG00000067064         0.008932         0.007868         0.006230   \n",
       "ENSG00000067057         0.017848         0.015077         0.011976   \n",
       "ENSG00000067082         0.012874         0.010219         0.007214   \n",
       "\n",
       "                 ENSG00000196372  ...  ENSG00000148773  ENSG00000170430  \\\n",
       "ENSG00000261456         0.000000  ...              0.0              0.0   \n",
       "ENSG00000148377         0.000890  ...              0.0              0.0   \n",
       "ENSG00000067064         0.009131  ...              0.0              0.0   \n",
       "ENSG00000067057         0.015208  ...              0.0              0.0   \n",
       "ENSG00000067082         0.011455  ...              0.0              0.0   \n",
       "\n",
       "                 ENSG00000175470  ENSG00000176171  ENSG00000151640  \\\n",
       "ENSG00000261456              0.0              0.0              0.0   \n",
       "ENSG00000148377              0.0              0.0              0.0   \n",
       "ENSG00000067064              0.0              0.0              0.0   \n",
       "ENSG00000067057              0.0              0.0              0.0   \n",
       "ENSG00000067082              0.0              0.0              0.0   \n",
       "\n",
       "                 ENSG00000068383  ENSG00000130640  ENSG00000127884  \\\n",
       "ENSG00000261456              0.0              0.0              0.0   \n",
       "ENSG00000148377              0.0              0.0              0.0   \n",
       "ENSG00000067064              0.0              0.0              0.0   \n",
       "ENSG00000067057              0.0              0.0              0.0   \n",
       "ENSG00000067082              0.0              0.0              0.0   \n",
       "\n",
       "                 ENSG00000148832  ENSG00000130649  \n",
       "ENSG00000261456              0.0              0.0  \n",
       "ENSG00000148377              0.0              0.0  \n",
       "ENSG00000067064              0.0              0.0  \n",
       "ENSG00000067057              0.0              0.0  \n",
       "ENSG00000067082              0.0              0.0  \n",
       "\n",
       "[5 rows x 245 columns]"
      ]
     },
     "execution_count": 31,
     "metadata": {},
     "output_type": "execute_result"
    }
   ],
   "source": [
    "gene_corrs_df.head()"
   ]
  },
  {
   "cell_type": "markdown",
   "id": "dad6603f-01c6-41fb-a6f6-241051207dd8",
   "metadata": {
    "papermill": {
     "duration": 0.931299,
     "end_time": "2023-08-30T04:04:32.985722",
     "exception": false,
     "start_time": "2023-08-30T04:04:32.054423",
     "status": "completed"
    },
    "tags": []
   },
   "source": [
    "## Standard checks and stats"
   ]
  },
  {
   "cell_type": "code",
   "execution_count": 32,
   "id": "286686af-1b7b-4440-8453-6bdcbd8de19c",
   "metadata": {
    "execution": {
     "iopub.execute_input": "2023-08-30T04:04:34.885850Z",
     "iopub.status.busy": "2023-08-30T04:04:34.885422Z",
     "iopub.status.idle": "2023-08-30T04:04:34.907967Z",
     "shell.execute_reply": "2023-08-30T04:04:34.907236Z"
    },
    "papermill": {
     "duration": 0.993226,
     "end_time": "2023-08-30T04:04:34.909113",
     "exception": false,
     "start_time": "2023-08-30T04:04:33.915887",
     "status": "completed"
    },
    "tags": []
   },
   "outputs": [],
   "source": [
    "assert not gene_corrs_df.isna().any(axis=None)"
   ]
  },
  {
   "cell_type": "code",
   "execution_count": 33,
   "id": "00583efc-7068-4270-ad1e-4a418e91db96",
   "metadata": {
    "execution": {
     "iopub.execute_input": "2023-08-30T04:04:36.777895Z",
     "iopub.status.busy": "2023-08-30T04:04:36.777518Z",
     "iopub.status.idle": "2023-08-30T04:04:36.813830Z",
     "shell.execute_reply": "2023-08-30T04:04:36.813037Z"
    },
    "papermill": {
     "duration": 0.983808,
     "end_time": "2023-08-30T04:04:36.814914",
     "exception": false,
     "start_time": "2023-08-30T04:04:35.831106",
     "status": "completed"
    },
    "tags": []
   },
   "outputs": [
    {
     "data": {
      "text/plain": [
       "0.0"
      ]
     },
     "metadata": {},
     "output_type": "display_data"
    }
   ],
   "source": [
    "_min_val = gene_corrs_df.min().min()\n",
    "display(_min_val)\n",
    "assert _min_val >= -0.05"
   ]
  },
  {
   "cell_type": "code",
   "execution_count": 34,
   "id": "d04fb2cf-1050-475b-b855-f5f7cc04092b",
   "metadata": {
    "execution": {
     "iopub.execute_input": "2023-08-30T04:04:38.764880Z",
     "iopub.status.busy": "2023-08-30T04:04:38.764510Z",
     "iopub.status.idle": "2023-08-30T04:04:38.788367Z",
     "shell.execute_reply": "2023-08-30T04:04:38.787761Z"
    },
    "papermill": {
     "duration": 0.969081,
     "end_time": "2023-08-30T04:04:38.789277",
     "exception": false,
     "start_time": "2023-08-30T04:04:37.820196",
     "status": "completed"
    },
    "tags": []
   },
   "outputs": [
    {
     "data": {
      "text/plain": [
       "1.0000000000000042"
      ]
     },
     "metadata": {},
     "output_type": "display_data"
    }
   ],
   "source": [
    "_max_val = gene_corrs_df.max().max()  # this captures the diagonal\n",
    "display(_max_val)\n",
    "assert _max_val <= 1.05"
   ]
  },
  {
   "cell_type": "code",
   "execution_count": 35,
   "id": "fe283586-c348-40e0-8841-f6d97bfb021c",
   "metadata": {
    "execution": {
     "iopub.execute_input": "2023-08-30T04:04:40.856032Z",
     "iopub.status.busy": "2023-08-30T04:04:40.855727Z",
     "iopub.status.idle": "2023-08-30T04:04:40.872978Z",
     "shell.execute_reply": "2023-08-30T04:04:40.872564Z"
    },
    "papermill": {
     "duration": 1.060833,
     "end_time": "2023-08-30T04:04:40.874014",
     "exception": false,
     "start_time": "2023-08-30T04:04:39.813181",
     "status": "completed"
    },
    "tags": []
   },
   "outputs": [
    {
     "data": {
      "text/plain": [
       "count    30135.000000\n",
       "mean         0.010733\n",
       "std          0.094167\n",
       "min          0.000000\n",
       "25%          0.000000\n",
       "50%          0.000000\n",
       "75%          0.000000\n",
       "max          1.000000\n",
       "dtype: float64"
      ]
     },
     "execution_count": 35,
     "metadata": {},
     "output_type": "execute_result"
    }
   ],
   "source": [
    "gene_corrs_flat.describe()"
   ]
  },
  {
   "cell_type": "code",
   "execution_count": 36,
   "id": "b3815678-0f93-4b35-897b-a9d047a2aa78",
   "metadata": {
    "execution": {
     "iopub.execute_input": "2023-08-30T04:04:42.814262Z",
     "iopub.status.busy": "2023-08-30T04:04:42.813537Z",
     "iopub.status.idle": "2023-08-30T04:04:42.839885Z",
     "shell.execute_reply": "2023-08-30T04:04:42.839490Z"
    },
    "papermill": {
     "duration": 0.960467,
     "end_time": "2023-08-30T04:04:42.840750",
     "exception": false,
     "start_time": "2023-08-30T04:04:41.880283",
     "status": "completed"
    },
    "tags": []
   },
   "outputs": [
    {
     "data": {
      "text/plain": [
       "0.00    0.000000\n",
       "0.05    0.000000\n",
       "0.10    0.000000\n",
       "0.15    0.000000\n",
       "0.20    0.000000\n",
       "0.25    0.000000\n",
       "0.30    0.000000\n",
       "0.35    0.000000\n",
       "0.40    0.000000\n",
       "0.45    0.000000\n",
       "0.50    0.000000\n",
       "0.55    0.000000\n",
       "0.60    0.000000\n",
       "0.65    0.000000\n",
       "0.70    0.000000\n",
       "0.75    0.000000\n",
       "0.80    0.000000\n",
       "0.85    0.000000\n",
       "0.90    0.000940\n",
       "0.95    0.008057\n",
       "dtype: float64"
      ]
     },
     "metadata": {},
     "output_type": "display_data"
    }
   ],
   "source": [
    "gene_corrs_quantiles = gene_corrs_flat.quantile(np.arange(0, 1, 0.05))\n",
    "display(gene_corrs_quantiles)"
   ]
  },
  {
   "cell_type": "markdown",
   "id": "87134509-b145-4a10-8bc9-b7e914c2b0fa",
   "metadata": {
    "papermill": {
     "duration": 0.916425,
     "end_time": "2023-08-30T04:04:44.714869",
     "exception": false,
     "start_time": "2023-08-30T04:04:43.798444",
     "status": "completed"
    },
    "tags": []
   },
   "source": [
    "## Positive definiteness"
   ]
  },
  {
   "cell_type": "code",
   "execution_count": 37,
   "id": "07d9a9a1-a4f7-48aa-b916-6d42a8cc6186",
   "metadata": {
    "execution": {
     "iopub.execute_input": "2023-08-30T04:04:46.599994Z",
     "iopub.status.busy": "2023-08-30T04:04:46.599705Z",
     "iopub.status.idle": "2023-08-30T04:04:46.636555Z",
     "shell.execute_reply": "2023-08-30T04:04:46.635825Z"
    },
    "papermill": {
     "duration": 0.991453,
     "end_time": "2023-08-30T04:04:46.637509",
     "exception": false,
     "start_time": "2023-08-30T04:04:45.646056",
     "status": "completed"
    },
    "tags": []
   },
   "outputs": [
    {
     "data": {
      "text/plain": [
       "0"
      ]
     },
     "metadata": {},
     "output_type": "display_data"
    },
    {
     "data": {
      "text/plain": [
       "array([], dtype=float64)"
      ]
     },
     "metadata": {},
     "output_type": "display_data"
    }
   ],
   "source": [
    "# print negative eigenvalues\n",
    "eigs = np.linalg.eigvals(gene_corrs_df.to_numpy())\n",
    "display(len(eigs[eigs < 0]))\n",
    "display(eigs[eigs < 0])"
   ]
  },
  {
   "cell_type": "code",
   "execution_count": 38,
   "id": "6e218436-c3c5-4028-8c94-a4fa6260efce",
   "metadata": {
    "execution": {
     "iopub.execute_input": "2023-08-30T04:04:48.463135Z",
     "iopub.status.busy": "2023-08-30T04:04:48.462602Z",
     "iopub.status.idle": "2023-08-30T04:04:48.491320Z",
     "shell.execute_reply": "2023-08-30T04:04:48.490740Z"
    },
    "papermill": {
     "duration": 0.941492,
     "end_time": "2023-08-30T04:04:48.492225",
     "exception": false,
     "start_time": "2023-08-30T04:04:47.550733",
     "status": "completed"
    },
    "tags": []
   },
   "outputs": [
    {
     "name": "stdout",
     "output_type": "stream",
     "text": [
      "Works!\n"
     ]
    }
   ],
   "source": [
    "try:\n",
    "    chol_mat = np.linalg.cholesky(gene_corrs_df.to_numpy())\n",
    "    cov_inv = np.linalg.inv(chol_mat)\n",
    "    print(\"Works!\")\n",
    "except Exception as e:\n",
    "    print(f\"Cholesky decomposition failed: {str(e)}\")"
   ]
  },
  {
   "cell_type": "code",
   "execution_count": 39,
   "id": "dd8827fb-faf9-4c7c-9454-015e94752706",
   "metadata": {
    "execution": {
     "iopub.execute_input": "2023-08-30T04:04:50.402380Z",
     "iopub.status.busy": "2023-08-30T04:04:50.402058Z",
     "iopub.status.idle": "2023-08-30T04:04:50.427739Z",
     "shell.execute_reply": "2023-08-30T04:04:50.427240Z"
    },
    "papermill": {
     "duration": 0.967211,
     "end_time": "2023-08-30T04:04:50.428685",
     "exception": false,
     "start_time": "2023-08-30T04:04:49.461474",
     "status": "completed"
    },
    "tags": []
   },
   "outputs": [
    {
     "name": "stdout",
     "output_type": "stream",
     "text": [
      "Works!\n"
     ]
    }
   ],
   "source": [
    "try:\n",
    "    # decomposition used by statsmodels.GLS\n",
    "    cholsigmainv = np.linalg.cholesky(np.linalg.inv(gene_corrs_df.to_numpy())).T\n",
    "    print(\"Works!\")\n",
    "except Exception as e:\n",
    "    print(f\"Cholesky decomposition failed (statsmodels.GLS): {str(e)}\")"
   ]
  },
  {
   "cell_type": "markdown",
   "id": "8e60a080-edb2-4e9c-b2ef-22961693200c",
   "metadata": {
    "papermill": {
     "duration": 1.002977,
     "end_time": "2023-08-30T04:04:52.375267",
     "exception": false,
     "start_time": "2023-08-30T04:04:51.372290",
     "status": "completed"
    },
    "tags": []
   },
   "source": [
    "## Plot: distribution"
   ]
  },
  {
   "cell_type": "code",
   "execution_count": 40,
   "id": "8301126b-a7d4-4744-9c7d-f0f86eb6f54c",
   "metadata": {
    "execution": {
     "iopub.execute_input": "2023-08-30T04:04:54.261649Z",
     "iopub.status.busy": "2023-08-30T04:04:54.261394Z",
     "iopub.status.idle": "2023-08-30T04:04:54.573317Z",
     "shell.execute_reply": "2023-08-30T04:04:54.572885Z"
    },
    "papermill": {
     "duration": 1.230788,
     "end_time": "2023-08-30T04:04:54.574566",
     "exception": false,
     "start_time": "2023-08-30T04:04:53.343778",
     "status": "completed"
    },
    "tags": []
   },
   "outputs": [
    {
     "data": {
      "image/png": "[encoded data removed]",
      "text/plain": [
       "<Figure size 700x700 with 1 Axes>"
      ]
     },
     "metadata": {},
     "output_type": "display_data"
    }
   ],
   "source": [
    "with sns.plotting_context(\"paper\", font_scale=1.5):\n",
    "    g = sns.displot(gene_corrs_flat, kde=True, height=7)\n",
    "    g.ax.set_title(\n",
    "        f\"Distribution of gene correlation values in chromosome {CHROMOSOME}\"\n",
    "    )"
   ]
  },
  {
   "cell_type": "markdown",
   "id": "cbd52bca-d878-4a2f-b684-5c83aa3038d4",
   "metadata": {
    "papermill": {
     "duration": 0.922218,
     "end_time": "2023-08-30T04:04:56.546538",
     "exception": false,
     "start_time": "2023-08-30T04:04:55.624320",
     "status": "completed"
    },
    "tags": []
   },
   "source": [
    "## Plot: heatmap"
   ]
  },
  {
   "cell_type": "code",
   "execution_count": 41,
   "id": "d03fe63a-c7b2-4fb9-a53c-db362ce843c9",
   "metadata": {
    "execution": {
     "iopub.execute_input": "2023-08-30T04:04:58.448788Z",
     "iopub.status.busy": "2023-08-30T04:04:58.448455Z",
     "iopub.status.idle": "2023-08-30T04:04:58.483001Z",
     "shell.execute_reply": "2023-08-30T04:04:58.482270Z"
    },
    "papermill": {
     "duration": 1.005504,
     "end_time": "2023-08-30T04:04:58.483802",
     "exception": false,
     "start_time": "2023-08-30T04:04:57.478298",
     "status": "completed"
    },
    "tags": []
   },
   "outputs": [
    {
     "data": {
      "text/plain": [
       "'0.0 / 0.05'"
      ]
     },
     "metadata": {},
     "output_type": "display_data"
    }
   ],
   "source": [
    "vmin_val = min(0.00, gene_corrs_quantiles[0.10])\n",
    "vmax_val = max(0.05, gene_corrs_quantiles[0.90])\n",
    "display(f\"{vmin_val} / {vmax_val}\")"
   ]
  },
  {
   "cell_type": "code",
   "execution_count": 42,
   "id": "dc41b70b-5bcc-4d9e-9f33-a22c4a94dab5",
   "metadata": {
    "execution": {
     "iopub.execute_input": "2023-08-30T04:05:00.330706Z",
     "iopub.status.busy": "2023-08-30T04:05:00.330429Z",
     "iopub.status.idle": "2023-08-30T04:05:00.535371Z",
     "shell.execute_reply": "2023-08-30T04:05:00.534921Z"
    },
    "papermill": {
     "duration": 1.129379,
     "end_time": "2023-08-30T04:05:00.536188",
     "exception": false,
     "start_time": "2023-08-30T04:04:59.406809",
     "status": "completed"
    },
    "tags": []
   },
   "outputs": [
    {
     "data": {
      "text/plain": [
       "Text(0.5, 1.0, 'Gene correlations in chromosome 10')"
      ]
     },
     "execution_count": 42,
     "metadata": {},
     "output_type": "execute_result"
    },
    {
     "data": {
      "image/png": "[encoded data removed]",
      "text/plain": [
       "<Figure size 1000x1000 with 2 Axes>"
      ]
     },
     "metadata": {},
     "output_type": "display_data"
    }
   ],
   "source": [
    "f, ax = plt.subplots(figsize=(10, 10))\n",
    "sns.heatmap(\n",
    "    gene_corrs_df,\n",
    "    xticklabels=False,\n",
    "    yticklabels=False,\n",
    "    square=True,\n",
    "    vmin=vmin_val,\n",
    "    vmax=vmax_val,\n",
    "    cmap=\"rocket_r\",\n",
    "    ax=ax,\n",
    ")\n",
    "ax.set_title(f\"Gene correlations in chromosome {CHROMOSOME}\")"
   ]
  },
  {
   "cell_type": "code",
   "execution_count": null,
   "id": "b25e3ead",
   "metadata": {
    "papermill": {
     "duration": 0.911515,
     "end_time": "2023-08-30T04:05:02.413121",
     "exception": false,
     "start_time": "2023-08-30T04:05:01.501606",
     "status": "completed"
    },
    "tags": []
   },
   "outputs": [],
   "source": []
  }
 ],
 "metadata": {
  "jupytext": {
   "cell_metadata_filter": "all,-execution,-papermill,-trusted",
   "formats": "ipynb,py//py:percent"
  },
  "kernelspec": {
   "display_name": "Python 3 (ipykernel)",
   "language": "python",
   "name": "python3"
  },
  "language_info": {
   "codemirror_mode": {
    "name": "ipython",
    "version": 3
   },
   "file_extension": ".py",
   "mimetype": "text/x-python",
   "name": "python",
   "nbconvert_exporter": "python",
   "pygments_lexer": "ipython3",
   "version": "3.10.6"
  },
  "papermill": {
   "default_parameters": {},
   "duration": 295.20034,
   "end_time": "2023-08-30T04:05:06.312525",
   "environment_variables": {},
   "exception": null,
   "input_path": "projects/chronotype/nbs/20_gene_corrs/jobs/05-gene_expr_correlations.ipynb",
   "output_path": "projects/chronotype/nbs/20_gene_corrs/jobs/../output/chronotype/05-gene_expr_correlations-chr10.run.ipynb",
   "parameters": {
    "CHROMOSOME": 10,
    "COHORT_NAME": "chronotype",
    "OUTPUT_DIR_BASE": "/opt/data/projects/chronotype/results/gls_phenoplier",
    "PHENOPLIER_NOTEBOOK_FILEPATH": "projects/chronotype/nbs/20_gene_corrs/jobs/05-gene_expr_correlations.ipynb"
   },
   "start_time": "2023-08-30T04:00:11.112185",
   "version": "2.2.2"
  }
 },
 "nbformat": 4,
 "nbformat_minor": 5
}
