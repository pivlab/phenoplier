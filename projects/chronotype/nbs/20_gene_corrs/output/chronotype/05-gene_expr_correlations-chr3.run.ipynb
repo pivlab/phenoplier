{
 "cells": [
  {
   "cell_type": "markdown",
   "id": "7a6632fb",
   "metadata": {
    "papermill": {
     "duration": 0.00861,
     "end_time": "2023-08-30T04:00:12.014468",
     "exception": false,
     "start_time": "2023-08-30T04:00:12.005858",
     "status": "completed"
    },
    "tags": []
   },
   "source": [
    "# Description"
   ]
  },
  {
   "cell_type": "markdown",
   "id": "7097c346",
   "metadata": {
    "papermill": {
     "duration": 0.007611,
     "end_time": "2023-08-30T04:00:12.029848",
     "exception": false,
     "start_time": "2023-08-30T04:00:12.022237",
     "status": "completed"
    },
    "tags": []
   },
   "source": [
    "This notebook computes predicted expression correlations between all genes in the MultiPLIER models.\n",
    "\n",
    "It has specicfic parameters for papermill (see under `Settings` below).\n",
    "\n",
    "This notebook should not be directly run. It is used by other notebooks."
   ]
  },
  {
   "cell_type": "markdown",
   "id": "c61d8427",
   "metadata": {
    "papermill": {
     "duration": 0.007793,
     "end_time": "2023-08-30T04:00:12.045357",
     "exception": false,
     "start_time": "2023-08-30T04:00:12.037564",
     "status": "completed"
    },
    "tags": []
   },
   "source": [
    "# Modules"
   ]
  },
  {
   "cell_type": "code",
   "execution_count": 1,
   "id": "bbc0234f",
   "metadata": {
    "execution": {
     "iopub.execute_input": "2023-08-30T04:00:12.064242Z",
     "iopub.status.busy": "2023-08-30T04:00:12.063383Z",
     "iopub.status.idle": "2023-08-30T04:00:12.087837Z",
     "shell.execute_reply": "2023-08-30T04:00:12.087127Z"
    },
    "papermill": {
     "duration": 0.035721,
     "end_time": "2023-08-30T04:00:12.089638",
     "exception": false,
     "start_time": "2023-08-30T04:00:12.053917",
     "status": "completed"
    },
    "tags": []
   },
   "outputs": [],
   "source": [
    "%load_ext autoreload\n",
    "%autoreload 2"
   ]
  },
  {
   "cell_type": "code",
   "execution_count": 2,
   "id": "1d5f5a59",
   "metadata": {
    "execution": {
     "iopub.execute_input": "2023-08-30T04:00:12.105279Z",
     "iopub.status.busy": "2023-08-30T04:00:12.104584Z",
     "iopub.status.idle": "2023-08-30T04:00:12.887522Z",
     "shell.execute_reply": "2023-08-30T04:00:12.886929Z"
    },
    "papermill": {
     "duration": 0.792175,
     "end_time": "2023-08-30T04:00:12.888699",
     "exception": false,
     "start_time": "2023-08-30T04:00:12.096524",
     "status": "completed"
    },
    "tags": []
   },
   "outputs": [],
   "source": [
    "from random import sample, seed\n",
    "import warnings\n",
    "from pathlib import Path\n",
    "import pickle\n",
    "import traceback\n",
    "\n",
    "import numpy as np\n",
    "from scipy.spatial.distance import squareform\n",
    "import pandas as pd\n",
    "from tqdm import tqdm\n",
    "import matplotlib.pyplot as plt\n",
    "import seaborn as sns\n",
    "\n",
    "import conf\n",
    "from entity import Gene"
   ]
  },
  {
   "cell_type": "markdown",
   "id": "1eac24b5",
   "metadata": {
    "papermill": {
     "duration": 0.007181,
     "end_time": "2023-08-30T04:00:12.902551",
     "exception": false,
     "start_time": "2023-08-30T04:00:12.895370",
     "status": "completed"
    },
    "tags": []
   },
   "source": [
    "# Settings"
   ]
  },
  {
   "cell_type": "code",
   "execution_count": 3,
   "id": "ca4560ba",
   "metadata": {
    "execution": {
     "iopub.execute_input": "2023-08-30T04:00:12.916510Z",
     "iopub.status.busy": "2023-08-30T04:00:12.916233Z",
     "iopub.status.idle": "2023-08-30T04:00:12.938694Z",
     "shell.execute_reply": "2023-08-30T04:00:12.938057Z"
    },
    "papermill": {
     "duration": 0.031347,
     "end_time": "2023-08-30T04:00:12.940997",
     "exception": false,
     "start_time": "2023-08-30T04:00:12.909650",
     "status": "completed"
    },
    "tags": [
     "parameters"
    ]
   },
   "outputs": [],
   "source": [
    "# a cohort name (it could be something like UK_BIOBANK, etc)\n",
    "COHORT_NAME = None\n",
    "\n",
    "# reference panel such as 1000G or GTEX_V8\n",
    "REFERENCE_PANEL = \"GTEX_V8\"\n",
    "\n",
    "# predictions models such as MASHR or ELASTIC_NET\n",
    "EQTL_MODEL = \"MASHR\"\n",
    "\n",
    "# this is the default value used in S-MultiXcan to select the\n",
    "# top principal components of the expression correlation matrix\n",
    "SMULTIXCAN_CONDITION_NUMBER = 30\n",
    "\n",
    "# specifies a single chromosome value\n",
    "CHROMOSOME = None\n",
    "\n",
    "# If True, computes the correlation between closeby genes only (see\n",
    "# entity.Gene.within_distance for more details). Otherwise, it computes\n",
    "# correlations for all genes in a chromosome\n",
    "COMPUTE_CORRELATIONS_WITHIN_DISTANCE = True\n",
    "\n",
    "# if True, then it will continue if a gene pair correlation fails,\n",
    "# printing the warning/error for debugging. If False, any warning/error\n",
    "# will be thrown\n",
    "DEBUG_MODE = False\n",
    "\n",
    "# output dir\n",
    "OUTPUT_DIR_BASE = None"
   ]
  },
  {
   "cell_type": "code",
   "execution_count": 4,
   "id": "3bcdadab",
   "metadata": {
    "execution": {
     "iopub.execute_input": "2023-08-30T04:00:12.969662Z",
     "iopub.status.busy": "2023-08-30T04:00:12.969255Z",
     "iopub.status.idle": "2023-08-30T04:00:12.994680Z",
     "shell.execute_reply": "2023-08-30T04:00:12.994356Z"
    },
    "papermill": {
     "duration": 0.040741,
     "end_time": "2023-08-30T04:00:12.995953",
     "exception": false,
     "start_time": "2023-08-30T04:00:12.955212",
     "status": "completed"
    },
    "tags": [
     "injected-parameters"
    ]
   },
   "outputs": [],
   "source": [
    "# Parameters\n",
    "PHENOPLIER_NOTEBOOK_FILEPATH = (\n",
    "    \"projects/chronotype/nbs/20_gene_corrs/jobs/05-gene_expr_correlations.ipynb\"\n",
    ")\n",
    "COHORT_NAME = \"chronotype\"\n",
    "CHROMOSOME = 3\n",
    "OUTPUT_DIR_BASE = \"/opt/data/projects/chronotype/results/gls_phenoplier\"\n"
   ]
  },
  {
   "cell_type": "code",
   "execution_count": 5,
   "id": "3190631f-27fc-480f-b18e-571d580425a5",
   "metadata": {
    "execution": {
     "iopub.execute_input": "2023-08-30T04:00:13.006147Z",
     "iopub.status.busy": "2023-08-30T04:00:13.005904Z",
     "iopub.status.idle": "2023-08-30T04:00:13.034576Z",
     "shell.execute_reply": "2023-08-30T04:00:13.034119Z"
    },
    "papermill": {
     "duration": 0.036258,
     "end_time": "2023-08-30T04:00:13.037119",
     "exception": false,
     "start_time": "2023-08-30T04:00:13.000861",
     "status": "completed"
    },
    "tags": []
   },
   "outputs": [
    {
     "data": {
      "text/plain": [
       "'Cohort name: chronotype'"
      ]
     },
     "metadata": {},
     "output_type": "display_data"
    }
   ],
   "source": [
    "assert COHORT_NAME is not None and len(COHORT_NAME) > 0, \"A cohort name must be given\"\n",
    "\n",
    "COHORT_NAME = COHORT_NAME.lower()\n",
    "display(f\"Cohort name: {COHORT_NAME}\")"
   ]
  },
  {
   "cell_type": "code",
   "execution_count": 6,
   "id": "f53ba19b-0f93-4fa2-a047-63b375939d1a",
   "metadata": {
    "execution": {
     "iopub.execute_input": "2023-08-30T04:00:13.063254Z",
     "iopub.status.busy": "2023-08-30T04:00:13.062705Z",
     "iopub.status.idle": "2023-08-30T04:00:13.095617Z",
     "shell.execute_reply": "2023-08-30T04:00:13.094936Z"
    },
    "papermill": {
     "duration": 0.044207,
     "end_time": "2023-08-30T04:00:13.096620",
     "exception": false,
     "start_time": "2023-08-30T04:00:13.052413",
     "status": "completed"
    },
    "tags": []
   },
   "outputs": [
    {
     "data": {
      "text/plain": [
       "'Reference panel: GTEX_V8'"
      ]
     },
     "metadata": {},
     "output_type": "display_data"
    }
   ],
   "source": [
    "assert (\n",
    "    REFERENCE_PANEL is not None and len(REFERENCE_PANEL) > 0\n",
    "), \"A reference panel must be given\"\n",
    "\n",
    "display(f\"Reference panel: {REFERENCE_PANEL}\")"
   ]
  },
  {
   "cell_type": "code",
   "execution_count": 7,
   "id": "e024d130-c139-429a-9c6e-ccf149e297b0",
   "metadata": {
    "execution": {
     "iopub.execute_input": "2023-08-30T04:00:13.108039Z",
     "iopub.status.busy": "2023-08-30T04:00:13.107499Z",
     "iopub.status.idle": "2023-08-30T04:00:13.141499Z",
     "shell.execute_reply": "2023-08-30T04:00:13.140883Z"
    },
    "papermill": {
     "duration": 0.040578,
     "end_time": "2023-08-30T04:00:13.142514",
     "exception": false,
     "start_time": "2023-08-30T04:00:13.101936",
     "status": "completed"
    },
    "tags": []
   },
   "outputs": [
    {
     "data": {
      "text/plain": [
       "'eQTL model: MASHR) / mashr_'"
      ]
     },
     "metadata": {},
     "output_type": "display_data"
    }
   ],
   "source": [
    "assert (\n",
    "    EQTL_MODEL is not None and len(EQTL_MODEL) > 0\n",
    "), \"A prediction/eQTL model must be given\"\n",
    "\n",
    "EQTL_MODEL_FILES_PREFIX = conf.PHENOMEXCAN[\"PREDICTION_MODELS\"][f\"{EQTL_MODEL}_PREFIX\"]\n",
    "display(f\"eQTL model: {EQTL_MODEL}) / {EQTL_MODEL_FILES_PREFIX}\")"
   ]
  },
  {
   "cell_type": "code",
   "execution_count": 8,
   "id": "552a7f63-a18c-4d3e-bb6a-94f99b431291",
   "metadata": {
    "execution": {
     "iopub.execute_input": "2023-08-30T04:00:13.159499Z",
     "iopub.status.busy": "2023-08-30T04:00:13.159327Z",
     "iopub.status.idle": "2023-08-30T04:00:13.188542Z",
     "shell.execute_reply": "2023-08-30T04:00:13.187966Z"
    },
    "papermill": {
     "duration": 0.039418,
     "end_time": "2023-08-30T04:00:13.189802",
     "exception": false,
     "start_time": "2023-08-30T04:00:13.150384",
     "status": "completed"
    },
    "tags": []
   },
   "outputs": [
    {
     "data": {
      "text/plain": [
       "'S-MultiXcan condition number: 30'"
      ]
     },
     "metadata": {},
     "output_type": "display_data"
    }
   ],
   "source": [
    "assert (\n",
    "    SMULTIXCAN_CONDITION_NUMBER is not None and SMULTIXCAN_CONDITION_NUMBER > 0\n",
    "), \"The S-MultiXcan condition number (positive integer) must be given\"\n",
    "\n",
    "display(f\"S-MultiXcan condition number: {SMULTIXCAN_CONDITION_NUMBER}\")"
   ]
  },
  {
   "cell_type": "code",
   "execution_count": 9,
   "id": "f34a336f-548e-4afe-8955-90eaea4f42c6",
   "metadata": {
    "execution": {
     "iopub.execute_input": "2023-08-30T04:00:13.207432Z",
     "iopub.status.busy": "2023-08-30T04:00:13.207024Z",
     "iopub.status.idle": "2023-08-30T04:00:13.232049Z",
     "shell.execute_reply": "2023-08-30T04:00:13.231568Z"
    },
    "papermill": {
     "duration": 0.03476,
     "end_time": "2023-08-30T04:00:13.233131",
     "exception": false,
     "start_time": "2023-08-30T04:00:13.198371",
     "status": "completed"
    },
    "tags": []
   },
   "outputs": [
    {
     "data": {
      "text/plain": [
       "'Working on chromosome 3'"
      ]
     },
     "metadata": {},
     "output_type": "display_data"
    }
   ],
   "source": [
    "assert CHROMOSOME is not None and (\n",
    "    1 <= CHROMOSOME <= 22\n",
    "), \"You have to select one chromosome (format: number between 1 and 22)\"\n",
    "\n",
    "display(f\"Working on chromosome {CHROMOSOME}\")"
   ]
  },
  {
   "cell_type": "code",
   "execution_count": 10,
   "id": "ab8e96e8-06b5-4363-9dcd-dc4d78cc27f7",
   "metadata": {
    "execution": {
     "iopub.execute_input": "2023-08-30T04:00:13.249684Z",
     "iopub.status.busy": "2023-08-30T04:00:13.249274Z",
     "iopub.status.idle": "2023-08-30T04:00:13.281118Z",
     "shell.execute_reply": "2023-08-30T04:00:13.280688Z"
    },
    "papermill": {
     "duration": 0.04138,
     "end_time": "2023-08-30T04:00:13.282321",
     "exception": false,
     "start_time": "2023-08-30T04:00:13.240941",
     "status": "completed"
    },
    "tags": []
   },
   "outputs": [
    {
     "data": {
      "text/plain": [
       "'Compute correlation within distance True'"
      ]
     },
     "metadata": {},
     "output_type": "display_data"
    }
   ],
   "source": [
    "display(f\"Compute correlation within distance {COMPUTE_CORRELATIONS_WITHIN_DISTANCE}\")"
   ]
  },
  {
   "cell_type": "code",
   "execution_count": 11,
   "id": "b393b698-77e3-4ba2-8ac1-e14d51aa988f",
   "metadata": {
    "execution": {
     "iopub.execute_input": "2023-08-30T04:00:13.298517Z",
     "iopub.status.busy": "2023-08-30T04:00:13.297930Z",
     "iopub.status.idle": "2023-08-30T04:00:13.335905Z",
     "shell.execute_reply": "2023-08-30T04:00:13.335472Z"
    },
    "papermill": {
     "duration": 0.046023,
     "end_time": "2023-08-30T04:00:13.337130",
     "exception": false,
     "start_time": "2023-08-30T04:00:13.291107",
     "status": "completed"
    },
    "tags": []
   },
   "outputs": [
    {
     "data": {
      "text/plain": [
       "'Using output dir base: /opt/data/projects/chronotype/results/gls_phenoplier/gene_corrs/chronotype'"
      ]
     },
     "metadata": {},
     "output_type": "display_data"
    }
   ],
   "source": [
    "assert (\n",
    "    OUTPUT_DIR_BASE is not None and len(OUTPUT_DIR_BASE) > 0\n",
    "), \"Output directory path must be given\"\n",
    "\n",
    "OUTPUT_DIR_BASE = (Path(OUTPUT_DIR_BASE) / \"gene_corrs\" / COHORT_NAME).resolve()\n",
    "\n",
    "OUTPUT_DIR_BASE.mkdir(parents=True, exist_ok=True)\n",
    "\n",
    "display(f\"Using output dir base: {OUTPUT_DIR_BASE}\")"
   ]
  },
  {
   "cell_type": "markdown",
   "id": "d2ba085e",
   "metadata": {
    "papermill": {
     "duration": 0.008791,
     "end_time": "2023-08-30T04:00:13.355000",
     "exception": false,
     "start_time": "2023-08-30T04:00:13.346209",
     "status": "completed"
    },
    "tags": []
   },
   "source": [
    "# Load data"
   ]
  },
  {
   "cell_type": "markdown",
   "id": "7dcb8db7",
   "metadata": {
    "papermill": {
     "duration": 0.006258,
     "end_time": "2023-08-30T04:00:13.370096",
     "exception": false,
     "start_time": "2023-08-30T04:00:13.363838",
     "status": "completed"
    },
    "tags": []
   },
   "source": [
    "## GWAS variants"
   ]
  },
  {
   "cell_type": "code",
   "execution_count": 12,
   "id": "29434c4e-8cd3-4b9b-82e4-b5a251d9dd19",
   "metadata": {
    "execution": {
     "iopub.execute_input": "2023-08-30T04:00:13.382573Z",
     "iopub.status.busy": "2023-08-30T04:00:13.382214Z",
     "iopub.status.idle": "2023-08-30T04:00:18.080146Z",
     "shell.execute_reply": "2023-08-30T04:00:18.079555Z"
    },
    "papermill": {
     "duration": 4.70662,
     "end_time": "2023-08-30T04:00:18.082545",
     "exception": false,
     "start_time": "2023-08-30T04:00:13.375925",
     "status": "completed"
    },
    "tags": []
   },
   "outputs": [],
   "source": [
    "with open(OUTPUT_DIR_BASE / \"gwas_variant_ids.pkl\", \"rb\") as handle:\n",
    "    gwas_variants_ids_set = pickle.load(handle)"
   ]
  },
  {
   "cell_type": "code",
   "execution_count": 13,
   "id": "b9d9dec2-4a76-4bf9-bde2-e24c95acb8a0",
   "metadata": {
    "execution": {
     "iopub.execute_input": "2023-08-30T04:00:18.101758Z",
     "iopub.status.busy": "2023-08-30T04:00:18.101580Z",
     "iopub.status.idle": "2023-08-30T04:00:18.118657Z",
     "shell.execute_reply": "2023-08-30T04:00:18.118278Z"
    },
    "papermill": {
     "duration": 0.029127,
     "end_time": "2023-08-30T04:00:18.121317",
     "exception": false,
     "start_time": "2023-08-30T04:00:18.092190",
     "status": "completed"
    },
    "tags": []
   },
   "outputs": [
    {
     "data": {
      "text/plain": [
       "11737794"
      ]
     },
     "execution_count": 13,
     "metadata": {},
     "output_type": "execute_result"
    }
   ],
   "source": [
    "len(gwas_variants_ids_set)"
   ]
  },
  {
   "cell_type": "code",
   "execution_count": 14,
   "id": "4235b06a-6034-4ee4-a0a3-2ae35d122418",
   "metadata": {
    "execution": {
     "iopub.execute_input": "2023-08-30T04:00:18.142269Z",
     "iopub.status.busy": "2023-08-30T04:00:18.141888Z",
     "iopub.status.idle": "2023-08-30T04:00:19.706645Z",
     "shell.execute_reply": "2023-08-30T04:00:19.705988Z"
    },
    "papermill": {
     "duration": 1.577594,
     "end_time": "2023-08-30T04:00:19.708350",
     "exception": false,
     "start_time": "2023-08-30T04:00:18.130756",
     "status": "completed"
    },
    "tags": []
   },
   "outputs": [
    {
     "data": {
      "text/plain": [
       "['chr2_204901970_A_G_b38',\n",
       " 'chr5_27972661_A_C_b38',\n",
       " 'chr6_37115222_C_T_b38',\n",
       " 'chr9_112920436_A_T_b38',\n",
       " 'chr16_73168667_C_T_b38']"
      ]
     },
     "execution_count": 14,
     "metadata": {},
     "output_type": "execute_result"
    }
   ],
   "source": [
    "list(gwas_variants_ids_set)[:5]"
   ]
  },
  {
   "cell_type": "markdown",
   "id": "07866999-2305-41f9-a144-e69c9122c212",
   "metadata": {
    "papermill": {
     "duration": 0.006535,
     "end_time": "2023-08-30T04:00:19.722879",
     "exception": false,
     "start_time": "2023-08-30T04:00:19.716344",
     "status": "completed"
    },
    "tags": []
   },
   "source": [
    "## S-PrediXcan tissue models"
   ]
  },
  {
   "cell_type": "code",
   "execution_count": 15,
   "id": "780611d9-77c8-405f-90a4-f271f7b09397",
   "metadata": {
    "execution": {
     "iopub.execute_input": "2023-08-30T04:00:19.738816Z",
     "iopub.status.busy": "2023-08-30T04:00:19.738380Z",
     "iopub.status.idle": "2023-08-30T04:00:22.093447Z",
     "shell.execute_reply": "2023-08-30T04:00:22.092930Z"
    },
    "papermill": {
     "duration": 2.365605,
     "end_time": "2023-08-30T04:00:22.095516",
     "exception": false,
     "start_time": "2023-08-30T04:00:19.729911",
     "status": "completed"
    },
    "tags": []
   },
   "outputs": [],
   "source": [
    "spredixcan_genes_models = pd.read_pickle(OUTPUT_DIR_BASE / \"gene_tissues.pkl\")"
   ]
  },
  {
   "cell_type": "code",
   "execution_count": 16,
   "id": "726dd1f6-9557-4225-91fa-b3b879ea96e1",
   "metadata": {
    "execution": {
     "iopub.execute_input": "2023-08-30T04:00:22.128148Z",
     "iopub.status.busy": "2023-08-30T04:00:22.127739Z",
     "iopub.status.idle": "2023-08-30T04:00:22.153890Z",
     "shell.execute_reply": "2023-08-30T04:00:22.153262Z"
    },
    "papermill": {
     "duration": 0.045733,
     "end_time": "2023-08-30T04:00:22.155533",
     "exception": false,
     "start_time": "2023-08-30T04:00:22.109800",
     "status": "completed"
    },
    "tags": []
   },
   "outputs": [
    {
     "data": {
      "text/plain": [
       "(6445, 5)"
      ]
     },
     "execution_count": 16,
     "metadata": {},
     "output_type": "execute_result"
    }
   ],
   "source": [
    "spredixcan_genes_models.shape"
   ]
  },
  {
   "cell_type": "code",
   "execution_count": 17,
   "id": "944a1b48-222c-4eb0-b252-b9de2cbca215",
   "metadata": {
    "execution": {
     "iopub.execute_input": "2023-08-30T04:00:22.177824Z",
     "iopub.status.busy": "2023-08-30T04:00:22.177542Z",
     "iopub.status.idle": "2023-08-30T04:00:22.211838Z",
     "shell.execute_reply": "2023-08-30T04:00:22.211161Z"
    },
    "papermill": {
     "duration": 0.047582,
     "end_time": "2023-08-30T04:00:22.214064",
     "exception": false,
     "start_time": "2023-08-30T04:00:22.166482",
     "status": "completed"
    },
    "tags": []
   },
   "outputs": [
    {
     "data": {
      "text/html": [
       "<div>\n",
       "<style scoped>\n",
       "    .dataframe tbody tr th:only-of-type {\n",
       "        vertical-align: middle;\n",
       "    }\n",
       "\n",
       "    .dataframe tbody tr th {\n",
       "        vertical-align: top;\n",
       "    }\n",
       "\n",
       "    .dataframe thead th {\n",
       "        text-align: right;\n",
       "    }\n",
       "</style>\n",
       "<table border=\"1\" class=\"dataframe\">\n",
       "  <thead>\n",
       "    <tr style=\"text-align: right;\">\n",
       "      <th></th>\n",
       "      <th>gene_name</th>\n",
       "      <th>tissue</th>\n",
       "      <th>n_tissues</th>\n",
       "      <th>n_snps_used_sum</th>\n",
       "      <th>n_snps_in_model_sum</th>\n",
       "    </tr>\n",
       "    <tr>\n",
       "      <th>gene_id</th>\n",
       "      <th></th>\n",
       "      <th></th>\n",
       "      <th></th>\n",
       "      <th></th>\n",
       "      <th></th>\n",
       "    </tr>\n",
       "  </thead>\n",
       "  <tbody>\n",
       "    <tr>\n",
       "      <th>ENSG00000000419</th>\n",
       "      <td>DPM1</td>\n",
       "      <td>(Brain_Substantia_nigra, Brain_Hypothalamus)</td>\n",
       "      <td>2</td>\n",
       "      <td>2</td>\n",
       "      <td>2</td>\n",
       "    </tr>\n",
       "    <tr>\n",
       "      <th>ENSG00000000938</th>\n",
       "      <td>FGR</td>\n",
       "      <td>(Artery_Tibial, Stomach, Brain_Hypothalamus, S...</td>\n",
       "      <td>36</td>\n",
       "      <td>40</td>\n",
       "      <td>40</td>\n",
       "    </tr>\n",
       "    <tr>\n",
       "      <th>ENSG00000000971</th>\n",
       "      <td>CFH</td>\n",
       "      <td>(Heart_Atrial_Appendage, Artery_Tibial, Stomac...</td>\n",
       "      <td>34</td>\n",
       "      <td>44</td>\n",
       "      <td>44</td>\n",
       "    </tr>\n",
       "    <tr>\n",
       "      <th>ENSG00000001084</th>\n",
       "      <td>GCLC</td>\n",
       "      <td>(Brain_Amygdala, Heart_Atrial_Appendage, Arter...</td>\n",
       "      <td>32</td>\n",
       "      <td>46</td>\n",
       "      <td>46</td>\n",
       "    </tr>\n",
       "    <tr>\n",
       "      <th>ENSG00000001167</th>\n",
       "      <td>NFYA</td>\n",
       "      <td>(Heart_Atrial_Appendage, Artery_Tibial, Stomac...</td>\n",
       "      <td>40</td>\n",
       "      <td>47</td>\n",
       "      <td>48</td>\n",
       "    </tr>\n",
       "  </tbody>\n",
       "</table>\n",
       "</div>"
      ],
      "text/plain": [
       "                gene_name                                             tissue  \\\n",
       "gene_id                                                                        \n",
       "ENSG00000000419      DPM1       (Brain_Substantia_nigra, Brain_Hypothalamus)   \n",
       "ENSG00000000938       FGR  (Artery_Tibial, Stomach, Brain_Hypothalamus, S...   \n",
       "ENSG00000000971       CFH  (Heart_Atrial_Appendage, Artery_Tibial, Stomac...   \n",
       "ENSG00000001084      GCLC  (Brain_Amygdala, Heart_Atrial_Appendage, Arter...   \n",
       "ENSG00000001167      NFYA  (Heart_Atrial_Appendage, Artery_Tibial, Stomac...   \n",
       "\n",
       "                 n_tissues  n_snps_used_sum  n_snps_in_model_sum  \n",
       "gene_id                                                           \n",
       "ENSG00000000419          2                2                    2  \n",
       "ENSG00000000938         36               40                   40  \n",
       "ENSG00000000971         34               44                   44  \n",
       "ENSG00000001084         32               46                   46  \n",
       "ENSG00000001167         40               47                   48  "
      ]
     },
     "execution_count": 17,
     "metadata": {},
     "output_type": "execute_result"
    }
   ],
   "source": [
    "spredixcan_genes_models.head()"
   ]
  },
  {
   "cell_type": "code",
   "execution_count": 18,
   "id": "d1c11bb1-be0b-4f40-b360-633d6827109f",
   "metadata": {
    "execution": {
     "iopub.execute_input": "2023-08-30T04:00:22.246077Z",
     "iopub.status.busy": "2023-08-30T04:00:22.245718Z",
     "iopub.status.idle": "2023-08-30T04:00:22.264174Z",
     "shell.execute_reply": "2023-08-30T04:00:22.263694Z"
    },
    "papermill": {
     "duration": 0.033928,
     "end_time": "2023-08-30T04:00:22.265336",
     "exception": false,
     "start_time": "2023-08-30T04:00:22.231408",
     "status": "completed"
    },
    "tags": []
   },
   "outputs": [],
   "source": [
    "assert spredixcan_genes_models.index.is_unique"
   ]
  },
  {
   "cell_type": "markdown",
   "id": "a5b5092c-a13e-47c4-a92a-480fcc08f3ae",
   "metadata": {
    "papermill": {
     "duration": 0.005369,
     "end_time": "2023-08-30T04:00:22.276582",
     "exception": false,
     "start_time": "2023-08-30T04:00:22.271213",
     "status": "completed"
    },
    "tags": []
   },
   "source": [
    "## Gene info"
   ]
  },
  {
   "cell_type": "code",
   "execution_count": 19,
   "id": "7d6bb224-88e9-4358-ac10-43a41d92cdad",
   "metadata": {
    "execution": {
     "iopub.execute_input": "2023-08-30T04:00:22.290976Z",
     "iopub.status.busy": "2023-08-30T04:00:22.290602Z",
     "iopub.status.idle": "2023-08-30T04:00:22.308551Z",
     "shell.execute_reply": "2023-08-30T04:00:22.308210Z"
    },
    "papermill": {
     "duration": 0.027735,
     "end_time": "2023-08-30T04:00:22.309730",
     "exception": false,
     "start_time": "2023-08-30T04:00:22.281995",
     "status": "completed"
    },
    "tags": []
   },
   "outputs": [],
   "source": [
    "genes_info = pd.read_pickle(OUTPUT_DIR_BASE / \"genes_info.pkl\")"
   ]
  },
  {
   "cell_type": "code",
   "execution_count": 20,
   "id": "9e32abfa-546d-483e-8c18-d526e9e05903",
   "metadata": {
    "execution": {
     "iopub.execute_input": "2023-08-30T04:00:22.321990Z",
     "iopub.status.busy": "2023-08-30T04:00:22.321787Z",
     "iopub.status.idle": "2023-08-30T04:00:22.343093Z",
     "shell.execute_reply": "2023-08-30T04:00:22.342702Z"
    },
    "papermill": {
     "duration": 0.028266,
     "end_time": "2023-08-30T04:00:22.344000",
     "exception": false,
     "start_time": "2023-08-30T04:00:22.315734",
     "status": "completed"
    },
    "tags": []
   },
   "outputs": [
    {
     "data": {
      "text/plain": [
       "(6445, 7)"
      ]
     },
     "execution_count": 20,
     "metadata": {},
     "output_type": "execute_result"
    }
   ],
   "source": [
    "genes_info.shape"
   ]
  },
  {
   "cell_type": "code",
   "execution_count": 21,
   "id": "d16c3e92-85ec-468a-9a56-e25a9774a1cb",
   "metadata": {
    "execution": {
     "iopub.execute_input": "2023-08-30T04:00:22.356121Z",
     "iopub.status.busy": "2023-08-30T04:00:22.355806Z",
     "iopub.status.idle": "2023-08-30T04:00:22.377546Z",
     "shell.execute_reply": "2023-08-30T04:00:22.377165Z"
    },
    "papermill": {
     "duration": 0.028737,
     "end_time": "2023-08-30T04:00:22.378470",
     "exception": false,
     "start_time": "2023-08-30T04:00:22.349733",
     "status": "completed"
    },
    "tags": []
   },
   "outputs": [
    {
     "data": {
      "text/html": [
       "<div>\n",
       "<style scoped>\n",
       "    .dataframe tbody tr th:only-of-type {\n",
       "        vertical-align: middle;\n",
       "    }\n",
       "\n",
       "    .dataframe tbody tr th {\n",
       "        vertical-align: top;\n",
       "    }\n",
       "\n",
       "    .dataframe thead th {\n",
       "        text-align: right;\n",
       "    }\n",
       "</style>\n",
       "<table border=\"1\" class=\"dataframe\">\n",
       "  <thead>\n",
       "    <tr style=\"text-align: right;\">\n",
       "      <th></th>\n",
       "      <th>name</th>\n",
       "      <th>id</th>\n",
       "      <th>chr</th>\n",
       "      <th>band</th>\n",
       "      <th>start_position</th>\n",
       "      <th>end_position</th>\n",
       "      <th>gene_length</th>\n",
       "    </tr>\n",
       "  </thead>\n",
       "  <tbody>\n",
       "    <tr>\n",
       "      <th>0</th>\n",
       "      <td>DUT</td>\n",
       "      <td>ENSG00000128951</td>\n",
       "      <td>15</td>\n",
       "      <td>15q21.1</td>\n",
       "      <td>48331011</td>\n",
       "      <td>48343373</td>\n",
       "      <td>12362</td>\n",
       "    </tr>\n",
       "    <tr>\n",
       "      <th>1</th>\n",
       "      <td>NDUFA4</td>\n",
       "      <td>ENSG00000189043</td>\n",
       "      <td>7</td>\n",
       "      <td>7p21.3</td>\n",
       "      <td>10931943</td>\n",
       "      <td>10940153</td>\n",
       "      <td>8210</td>\n",
       "    </tr>\n",
       "    <tr>\n",
       "      <th>2</th>\n",
       "      <td>EPHB3</td>\n",
       "      <td>ENSG00000182580</td>\n",
       "      <td>3</td>\n",
       "      <td>3q27.1</td>\n",
       "      <td>184561785</td>\n",
       "      <td>184582408</td>\n",
       "      <td>20623</td>\n",
       "    </tr>\n",
       "    <tr>\n",
       "      <th>3</th>\n",
       "      <td>MYLK</td>\n",
       "      <td>ENSG00000065534</td>\n",
       "      <td>3</td>\n",
       "      <td>3q21.1</td>\n",
       "      <td>123610049</td>\n",
       "      <td>123884331</td>\n",
       "      <td>274282</td>\n",
       "    </tr>\n",
       "    <tr>\n",
       "      <th>4</th>\n",
       "      <td>SMPD4</td>\n",
       "      <td>ENSG00000136699</td>\n",
       "      <td>2</td>\n",
       "      <td>2q21.1</td>\n",
       "      <td>130151392</td>\n",
       "      <td>130182750</td>\n",
       "      <td>31358</td>\n",
       "    </tr>\n",
       "  </tbody>\n",
       "</table>\n",
       "</div>"
      ],
      "text/plain": [
       "     name               id  chr     band  start_position  end_position  \\\n",
       "0     DUT  ENSG00000128951   15  15q21.1        48331011      48343373   \n",
       "1  NDUFA4  ENSG00000189043    7   7p21.3        10931943      10940153   \n",
       "2   EPHB3  ENSG00000182580    3   3q27.1       184561785     184582408   \n",
       "3    MYLK  ENSG00000065534    3   3q21.1       123610049     123884331   \n",
       "4   SMPD4  ENSG00000136699    2   2q21.1       130151392     130182750   \n",
       "\n",
       "   gene_length  \n",
       "0        12362  \n",
       "1         8210  \n",
       "2        20623  \n",
       "3       274282  \n",
       "4        31358  "
      ]
     },
     "execution_count": 21,
     "metadata": {},
     "output_type": "execute_result"
    }
   ],
   "source": [
    "genes_info.head()"
   ]
  },
  {
   "cell_type": "markdown",
   "id": "d3843e06",
   "metadata": {
    "papermill": {
     "duration": 0.006405,
     "end_time": "2023-08-30T04:00:22.390846",
     "exception": false,
     "start_time": "2023-08-30T04:00:22.384441",
     "status": "completed"
    },
    "tags": []
   },
   "source": [
    "# Compute correlations"
   ]
  },
  {
   "cell_type": "code",
   "execution_count": 22,
   "id": "cb859c15-d1f3-4006-a74c-2b83c0db9611",
   "metadata": {
    "execution": {
     "iopub.execute_input": "2023-08-30T04:00:22.411038Z",
     "iopub.status.busy": "2023-08-30T04:00:22.410820Z",
     "iopub.status.idle": "2023-08-30T04:00:22.437468Z",
     "shell.execute_reply": "2023-08-30T04:00:22.436867Z"
    },
    "papermill": {
     "duration": 0.038202,
     "end_time": "2023-08-30T04:00:22.438673",
     "exception": false,
     "start_time": "2023-08-30T04:00:22.400471",
     "status": "completed"
    },
    "tags": []
   },
   "outputs": [
    {
     "data": {
      "text/plain": [
       "PosixPath('/opt/data/projects/chronotype/results/gls_phenoplier/gene_corrs/chronotype/by_chr/gene_corrs-chr3.pkl')"
      ]
     },
     "metadata": {},
     "output_type": "display_data"
    }
   ],
   "source": [
    "output_dir = OUTPUT_DIR_BASE / \"by_chr\"\n",
    "output_dir.mkdir(exist_ok=True, parents=True)\n",
    "output_file = output_dir / f\"gene_corrs-chr{CHROMOSOME}.pkl\"\n",
    "display(output_file)"
   ]
  },
  {
   "cell_type": "code",
   "execution_count": 23,
   "id": "aa674fe4-6794-4eed-98fa-32b39d1d4ace",
   "metadata": {
    "execution": {
     "iopub.execute_input": "2023-08-30T04:00:22.453677Z",
     "iopub.status.busy": "2023-08-30T04:00:22.453272Z",
     "iopub.status.idle": "2023-08-30T04:00:22.487850Z",
     "shell.execute_reply": "2023-08-30T04:00:22.487148Z"
    },
    "papermill": {
     "duration": 0.044698,
     "end_time": "2023-08-30T04:00:22.489184",
     "exception": false,
     "start_time": "2023-08-30T04:00:22.444486",
     "status": "completed"
    },
    "tags": []
   },
   "outputs": [],
   "source": [
    "warnings.filterwarnings(\"error\")"
   ]
  },
  {
   "cell_type": "code",
   "execution_count": 24,
   "id": "44d5450b-3baf-43f1-9e2e-4b06f1a785f8",
   "metadata": {
    "execution": {
     "iopub.execute_input": "2023-08-30T04:00:22.510600Z",
     "iopub.status.busy": "2023-08-30T04:00:22.510103Z",
     "iopub.status.idle": "2023-08-30T04:00:22.536608Z",
     "shell.execute_reply": "2023-08-30T04:00:22.536279Z"
    },
    "papermill": {
     "duration": 0.03854,
     "end_time": "2023-08-30T04:00:22.537864",
     "exception": false,
     "start_time": "2023-08-30T04:00:22.499324",
     "status": "completed"
    },
    "tags": []
   },
   "outputs": [],
   "source": [
    "# standard checks\n",
    "all_chrs = genes_info[\"chr\"].dropna().unique()\n",
    "assert all_chrs.shape[0] == 22\n",
    "\n",
    "# select chromosome given by the user\n",
    "assert CHROMOSOME in all_chrs"
   ]
  },
  {
   "cell_type": "code",
   "execution_count": 25,
   "id": "2d7c043c-92a7-4d35-991b-fa69ac1e0268",
   "metadata": {
    "execution": {
     "iopub.execute_input": "2023-08-30T04:00:22.559645Z",
     "iopub.status.busy": "2023-08-30T04:00:22.559260Z",
     "iopub.status.idle": "2023-08-30T04:00:22.587995Z",
     "shell.execute_reply": "2023-08-30T04:00:22.587428Z"
    },
    "papermill": {
     "duration": 0.041075,
     "end_time": "2023-08-30T04:00:22.589352",
     "exception": false,
     "start_time": "2023-08-30T04:00:22.548277",
     "status": "completed"
    },
    "tags": []
   },
   "outputs": [
    {
     "name": "stdout",
     "output_type": "stream",
     "text": [
      "Number of genes in chromosome: 393\n"
     ]
    }
   ],
   "source": [
    "# run only on the chromosome specified\n",
    "all_chrs = [CHROMOSOME]\n",
    "genes_chr = genes_info[genes_info[\"chr\"] == CHROMOSOME]\n",
    "\n",
    "# For testing purposes\n",
    "# genes_chr = genes_chr.sample(n=20)\n",
    "\n",
    "print(f\"Number of genes in chromosome: {genes_chr.shape[0]}\", flush=True)"
   ]
  },
  {
   "cell_type": "code",
   "execution_count": 26,
   "id": "916015d8-2979-46d3-a9b9-1cf5a0932c6a",
   "metadata": {
    "execution": {
     "iopub.execute_input": "2023-08-30T04:00:22.609767Z",
     "iopub.status.busy": "2023-08-30T04:00:22.609544Z",
     "iopub.status.idle": "2023-08-30T04:00:22.628403Z",
     "shell.execute_reply": "2023-08-30T04:00:22.627939Z"
    },
    "papermill": {
     "duration": 0.030535,
     "end_time": "2023-08-30T04:00:22.629857",
     "exception": false,
     "start_time": "2023-08-30T04:00:22.599322",
     "status": "completed"
    },
    "tags": []
   },
   "outputs": [],
   "source": [
    "# sort genes by starting position to make visualizations better later\n",
    "genes_chr = genes_chr.sort_values(\"start_position\")"
   ]
  },
  {
   "cell_type": "code",
   "execution_count": 27,
   "id": "a38aa74a-8ad3-47f6-8ef9-56be0e011774",
   "metadata": {
    "execution": {
     "iopub.execute_input": "2023-08-30T04:00:22.649269Z",
     "iopub.status.busy": "2023-08-30T04:00:22.648708Z",
     "iopub.status.idle": "2023-08-30T04:00:22.672781Z",
     "shell.execute_reply": "2023-08-30T04:00:22.672255Z"
    },
    "papermill": {
     "duration": 0.03482,
     "end_time": "2023-08-30T04:00:22.674224",
     "exception": false,
     "start_time": "2023-08-30T04:00:22.639404",
     "status": "completed"
    },
    "tags": []
   },
   "outputs": [],
   "source": [
    "gene_chr_objs = [Gene(ensembl_id=gene_id) for gene_id in genes_chr[\"id\"]]"
   ]
  },
  {
   "cell_type": "code",
   "execution_count": 28,
   "id": "570f974f-13c3-42b6-ad3a-ce99ca885c1a",
   "metadata": {
    "execution": {
     "iopub.execute_input": "2023-08-30T04:00:22.693291Z",
     "iopub.status.busy": "2023-08-30T04:00:22.692731Z",
     "iopub.status.idle": "2023-08-30T04:00:22.719035Z",
     "shell.execute_reply": "2023-08-30T04:00:22.718507Z"
    },
    "papermill": {
     "duration": 0.036589,
     "end_time": "2023-08-30T04:00:22.720190",
     "exception": false,
     "start_time": "2023-08-30T04:00:22.683601",
     "status": "completed"
    },
    "tags": []
   },
   "outputs": [
    {
     "name": "stdout",
     "output_type": "stream",
     "text": [
      "Number of gene combinations: 77421\n"
     ]
    }
   ],
   "source": [
    "n = len(gene_chr_objs)\n",
    "# diagonal elements + upper triangular matrix\n",
    "n_comb = n + int(n * (n - 1) / 2.0)\n",
    "print(f\"Number of gene combinations: {n_comb}\", flush=True)"
   ]
  },
  {
   "cell_type": "code",
   "execution_count": 29,
   "id": "cdbb90a1",
   "metadata": {
    "execution": {
     "iopub.execute_input": "2023-08-30T04:00:22.740103Z",
     "iopub.status.busy": "2023-08-30T04:00:22.739490Z",
     "iopub.status.idle": "2023-08-30T04:07:30.093773Z",
     "shell.execute_reply": "2023-08-30T04:07:30.093258Z"
    },
    "papermill": {
     "duration": 427.365719,
     "end_time": "2023-08-30T04:07:30.095183",
     "exception": false,
     "start_time": "2023-08-30T04:00:22.729464",
     "status": "completed"
    },
    "tags": []
   },
   "outputs": [
    {
     "name": "stderr",
     "output_type": "stream",
     "text": [
      "ENSG00000182899 / ENSG00000182899: 100%|█████████████████████| 77421/77421 [07:07<00:00, 181.18it/s]\n"
     ]
    },
    {
     "data": {
      "text/plain": [
       "PosixPath('/opt/data/projects/chronotype/results/gls_phenoplier/gene_corrs/chronotype/by_chr/gene_corrs-chr3.pkl')"
      ]
     },
     "metadata": {},
     "output_type": "display_data"
    }
   ],
   "source": [
    "gene_corrs = []\n",
    "gene_corrs_data = np.full(\n",
    "    (n, n),\n",
    "    np.nan,\n",
    "    dtype=np.float64,\n",
    ")\n",
    "\n",
    "i = 0\n",
    "with tqdm(ncols=100, total=n_comb) as pbar:\n",
    "    for gene1_idx in range(0, len(gene_chr_objs)):\n",
    "        gene1_obj = gene_chr_objs[gene1_idx]\n",
    "        gene1_tissues = spredixcan_genes_models.loc[gene1_obj.ensembl_id, \"tissue\"]\n",
    "\n",
    "        for gene2_idx in range(gene1_idx, len(gene_chr_objs)):\n",
    "            gene2_obj = gene_chr_objs[gene2_idx]\n",
    "            gene2_tissues = spredixcan_genes_models.loc[gene2_obj.ensembl_id, \"tissue\"]\n",
    "\n",
    "            pbar.set_description(f\"{gene1_obj.ensembl_id} / {gene2_obj.ensembl_id}\")\n",
    "\n",
    "            try:\n",
    "                r = gene1_obj.get_ssm_correlation(\n",
    "                    other_gene=gene2_obj,\n",
    "                    tissues=gene1_tissues,\n",
    "                    other_tissues=gene2_tissues,\n",
    "                    snps_subset=gwas_variants_ids_set,\n",
    "                    condition_number=SMULTIXCAN_CONDITION_NUMBER,\n",
    "                    reference_panel=REFERENCE_PANEL,\n",
    "                    model_type=EQTL_MODEL,\n",
    "                    use_within_distance=COMPUTE_CORRELATIONS_WITHIN_DISTANCE,\n",
    "                )\n",
    "\n",
    "                if r is None:\n",
    "                    # if r is None, it's very likely because:\n",
    "                    #  * one of the genes has no prediction models\n",
    "                    #  * all the SNPs predictors for the gene are not present in the reference\n",
    "                    #    panel\n",
    "\n",
    "                    r = 0.0\n",
    "\n",
    "                gene_corrs.append(r)\n",
    "\n",
    "                gene_corrs_data[gene1_idx, gene2_idx] = r\n",
    "                gene_corrs_data[gene2_idx, gene1_idx] = r\n",
    "            except Warning as e:\n",
    "                if not DEBUG_MODE:\n",
    "                    raise e\n",
    "\n",
    "                print(\n",
    "                    f\"RuntimeWarning for genes {gene1_obj.ensembl_id} and {gene2_obj.ensembl_id}\",\n",
    "                    flush=True,\n",
    "                )\n",
    "                print(traceback.format_exc(), flush=True)\n",
    "\n",
    "                gene_corrs.append(np.nan)\n",
    "            except Exception as e:\n",
    "                if not DEBUG_MODE:\n",
    "                    raise e\n",
    "\n",
    "                print(\n",
    "                    f\"Exception for genes {gene1_obj.ensembl_id} and {gene2_obj.ensembl_id}\",\n",
    "                    flush=True,\n",
    "                )\n",
    "                print(traceback.format_exc(), flush=True)\n",
    "\n",
    "                gene_corrs.append(np.nan)\n",
    "\n",
    "            pbar.update(1)\n",
    "\n",
    "# create a pandas series\n",
    "gene_corrs_flat = pd.Series(gene_corrs)\n",
    "\n",
    "# save\n",
    "# FIXME: consider saving only the condenced matrix here. See here for\n",
    "# more details: https://github.com/greenelab/phenoplier/pull/38#discussion_r634600813\n",
    "# gene_corrs_data = squareform(np.array(gene_corrs, dtype=np.float64))\n",
    "# np.fill_diagonal(gene_corrs_data, 1.0)\n",
    "\n",
    "gene_chr_ids = [g.ensembl_id for g in gene_chr_objs]\n",
    "gene_corrs_df = pd.DataFrame(\n",
    "    data=gene_corrs_data,\n",
    "    index=gene_chr_ids,\n",
    "    columns=gene_chr_ids,\n",
    ")\n",
    "\n",
    "output_dir.mkdir(exist_ok=True, parents=True)\n",
    "display(output_file)\n",
    "\n",
    "gene_corrs_df.to_pickle(output_file)"
   ]
  },
  {
   "cell_type": "markdown",
   "id": "faa67b51-5373-470f-aa72-2ded53fa6dfe",
   "metadata": {
    "papermill": {
     "duration": 2.328121,
     "end_time": "2023-08-30T04:07:34.856415",
     "exception": false,
     "start_time": "2023-08-30T04:07:32.528294",
     "status": "completed"
    },
    "tags": []
   },
   "source": [
    "# Testing"
   ]
  },
  {
   "cell_type": "code",
   "execution_count": 30,
   "id": "14f7d046-4b55-4896-a56b-990127bcc388",
   "metadata": {
    "execution": {
     "iopub.execute_input": "2023-08-30T04:07:39.597809Z",
     "iopub.status.busy": "2023-08-30T04:07:39.597536Z",
     "iopub.status.idle": "2023-08-30T04:07:39.617774Z",
     "shell.execute_reply": "2023-08-30T04:07:39.617258Z"
    },
    "papermill": {
     "duration": 2.385825,
     "end_time": "2023-08-30T04:07:39.618701",
     "exception": false,
     "start_time": "2023-08-30T04:07:37.232876",
     "status": "completed"
    },
    "tags": []
   },
   "outputs": [
    {
     "data": {
      "text/plain": [
       "(393, 393)"
      ]
     },
     "execution_count": 30,
     "metadata": {},
     "output_type": "execute_result"
    }
   ],
   "source": [
    "gene_corrs_df.shape"
   ]
  },
  {
   "cell_type": "code",
   "execution_count": 31,
   "id": "c7d15414-3297-4537-a7c6-7588c0baeb75",
   "metadata": {
    "execution": {
     "iopub.execute_input": "2023-08-30T04:07:44.677664Z",
     "iopub.status.busy": "2023-08-30T04:07:44.677270Z",
     "iopub.status.idle": "2023-08-30T04:07:44.719228Z",
     "shell.execute_reply": "2023-08-30T04:07:44.718518Z"
    },
    "papermill": {
     "duration": 2.526979,
     "end_time": "2023-08-30T04:07:44.720184",
     "exception": false,
     "start_time": "2023-08-30T04:07:42.193205",
     "status": "completed"
    },
    "tags": []
   },
   "outputs": [
    {
     "data": {
      "text/html": [
       "<div>\n",
       "<style scoped>\n",
       "    .dataframe tbody tr th:only-of-type {\n",
       "        vertical-align: middle;\n",
       "    }\n",
       "\n",
       "    .dataframe tbody tr th {\n",
       "        vertical-align: top;\n",
       "    }\n",
       "\n",
       "    .dataframe thead th {\n",
       "        text-align: right;\n",
       "    }\n",
       "</style>\n",
       "<table border=\"1\" class=\"dataframe\">\n",
       "  <thead>\n",
       "    <tr style=\"text-align: right;\">\n",
       "      <th></th>\n",
       "      <th>ENSG00000134121</th>\n",
       "      <th>ENSG00000091181</th>\n",
       "      <th>ENSG00000144455</th>\n",
       "      <th>ENSG00000170364</th>\n",
       "      <th>ENSG00000150995</th>\n",
       "      <th>ENSG00000134107</th>\n",
       "      <th>ENSG00000134109</th>\n",
       "      <th>ENSG00000180914</th>\n",
       "      <th>ENSG00000196220</th>\n",
       "      <th>ENSG00000163719</th>\n",
       "      <th>...</th>\n",
       "      <th>ENSG00000061938</th>\n",
       "      <th>ENSG00000072274</th>\n",
       "      <th>ENSG00000161217</th>\n",
       "      <th>ENSG00000174013</th>\n",
       "      <th>ENSG00000163964</th>\n",
       "      <th>ENSG00000180370</th>\n",
       "      <th>ENSG00000114503</th>\n",
       "      <th>ENSG00000075711</th>\n",
       "      <th>ENSG00000161267</th>\n",
       "      <th>ENSG00000182899</th>\n",
       "    </tr>\n",
       "  </thead>\n",
       "  <tbody>\n",
       "    <tr>\n",
       "      <th>ENSG00000134121</th>\n",
       "      <td>1.000000</td>\n",
       "      <td>0.009219</td>\n",
       "      <td>0.005425</td>\n",
       "      <td>0.008632</td>\n",
       "      <td>0.014601</td>\n",
       "      <td>0.012164</td>\n",
       "      <td>0.011181</td>\n",
       "      <td>0.000000</td>\n",
       "      <td>0.000000</td>\n",
       "      <td>0.000000</td>\n",
       "      <td>...</td>\n",
       "      <td>0.0</td>\n",
       "      <td>0.0</td>\n",
       "      <td>0.0</td>\n",
       "      <td>0.0</td>\n",
       "      <td>0.0</td>\n",
       "      <td>0.0</td>\n",
       "      <td>0.0</td>\n",
       "      <td>0.0</td>\n",
       "      <td>0.0</td>\n",
       "      <td>0.0</td>\n",
       "    </tr>\n",
       "    <tr>\n",
       "      <th>ENSG00000091181</th>\n",
       "      <td>0.009219</td>\n",
       "      <td>1.000000</td>\n",
       "      <td>0.007989</td>\n",
       "      <td>0.008156</td>\n",
       "      <td>0.010344</td>\n",
       "      <td>0.007029</td>\n",
       "      <td>0.006443</td>\n",
       "      <td>0.000000</td>\n",
       "      <td>0.000000</td>\n",
       "      <td>0.000000</td>\n",
       "      <td>...</td>\n",
       "      <td>0.0</td>\n",
       "      <td>0.0</td>\n",
       "      <td>0.0</td>\n",
       "      <td>0.0</td>\n",
       "      <td>0.0</td>\n",
       "      <td>0.0</td>\n",
       "      <td>0.0</td>\n",
       "      <td>0.0</td>\n",
       "      <td>0.0</td>\n",
       "      <td>0.0</td>\n",
       "    </tr>\n",
       "    <tr>\n",
       "      <th>ENSG00000144455</th>\n",
       "      <td>0.005425</td>\n",
       "      <td>0.007989</td>\n",
       "      <td>1.000000</td>\n",
       "      <td>0.080210</td>\n",
       "      <td>0.253037</td>\n",
       "      <td>0.009347</td>\n",
       "      <td>0.005872</td>\n",
       "      <td>0.005822</td>\n",
       "      <td>0.003135</td>\n",
       "      <td>0.000000</td>\n",
       "      <td>...</td>\n",
       "      <td>0.0</td>\n",
       "      <td>0.0</td>\n",
       "      <td>0.0</td>\n",
       "      <td>0.0</td>\n",
       "      <td>0.0</td>\n",
       "      <td>0.0</td>\n",
       "      <td>0.0</td>\n",
       "      <td>0.0</td>\n",
       "      <td>0.0</td>\n",
       "      <td>0.0</td>\n",
       "    </tr>\n",
       "    <tr>\n",
       "      <th>ENSG00000170364</th>\n",
       "      <td>0.008632</td>\n",
       "      <td>0.008156</td>\n",
       "      <td>0.080210</td>\n",
       "      <td>1.000000</td>\n",
       "      <td>0.021071</td>\n",
       "      <td>0.007812</td>\n",
       "      <td>0.008491</td>\n",
       "      <td>0.012544</td>\n",
       "      <td>0.008299</td>\n",
       "      <td>0.000000</td>\n",
       "      <td>...</td>\n",
       "      <td>0.0</td>\n",
       "      <td>0.0</td>\n",
       "      <td>0.0</td>\n",
       "      <td>0.0</td>\n",
       "      <td>0.0</td>\n",
       "      <td>0.0</td>\n",
       "      <td>0.0</td>\n",
       "      <td>0.0</td>\n",
       "      <td>0.0</td>\n",
       "      <td>0.0</td>\n",
       "    </tr>\n",
       "    <tr>\n",
       "      <th>ENSG00000150995</th>\n",
       "      <td>0.014601</td>\n",
       "      <td>0.010344</td>\n",
       "      <td>0.253037</td>\n",
       "      <td>0.021071</td>\n",
       "      <td>1.000000</td>\n",
       "      <td>0.054534</td>\n",
       "      <td>0.010422</td>\n",
       "      <td>0.007584</td>\n",
       "      <td>0.002590</td>\n",
       "      <td>0.001889</td>\n",
       "      <td>...</td>\n",
       "      <td>0.0</td>\n",
       "      <td>0.0</td>\n",
       "      <td>0.0</td>\n",
       "      <td>0.0</td>\n",
       "      <td>0.0</td>\n",
       "      <td>0.0</td>\n",
       "      <td>0.0</td>\n",
       "      <td>0.0</td>\n",
       "      <td>0.0</td>\n",
       "      <td>0.0</td>\n",
       "    </tr>\n",
       "  </tbody>\n",
       "</table>\n",
       "<p>5 rows × 393 columns</p>\n",
       "</div>"
      ],
      "text/plain": [
       "                 ENSG00000134121  ENSG00000091181  ENSG00000144455  \\\n",
       "ENSG00000134121         1.000000         0.009219         0.005425   \n",
       "ENSG00000091181         0.009219         1.000000         0.007989   \n",
       "ENSG00000144455         0.005425         0.007989         1.000000   \n",
       "ENSG00000170364         0.008632         0.008156         0.080210   \n",
       "ENSG00000150995         0.014601         0.010344         0.253037   \n",
       "\n",
       "                 ENSG00000170364  ENSG00000150995  ENSG00000134107  \\\n",
       "ENSG00000134121         0.008632         0.014601         0.012164   \n",
       "ENSG00000091181         0.008156         0.010344         0.007029   \n",
       "ENSG00000144455         0.080210         0.253037         0.009347   \n",
       "ENSG00000170364         1.000000         0.021071         0.007812   \n",
       "ENSG00000150995         0.021071         1.000000         0.054534   \n",
       "\n",
       "                 ENSG00000134109  ENSG00000180914  ENSG00000196220  \\\n",
       "ENSG00000134121         0.011181         0.000000         0.000000   \n",
       "ENSG00000091181         0.006443         0.000000         0.000000   \n",
       "ENSG00000144455         0.005872         0.005822         0.003135   \n",
       "ENSG00000170364         0.008491         0.012544         0.008299   \n",
       "ENSG00000150995         0.010422         0.007584         0.002590   \n",
       "\n",
       "                 ENSG00000163719  ...  ENSG00000061938  ENSG00000072274  \\\n",
       "ENSG00000134121         0.000000  ...              0.0              0.0   \n",
       "ENSG00000091181         0.000000  ...              0.0              0.0   \n",
       "ENSG00000144455         0.000000  ...              0.0              0.0   \n",
       "ENSG00000170364         0.000000  ...              0.0              0.0   \n",
       "ENSG00000150995         0.001889  ...              0.0              0.0   \n",
       "\n",
       "                 ENSG00000161217  ENSG00000174013  ENSG00000163964  \\\n",
       "ENSG00000134121              0.0              0.0              0.0   \n",
       "ENSG00000091181              0.0              0.0              0.0   \n",
       "ENSG00000144455              0.0              0.0              0.0   \n",
       "ENSG00000170364              0.0              0.0              0.0   \n",
       "ENSG00000150995              0.0              0.0              0.0   \n",
       "\n",
       "                 ENSG00000180370  ENSG00000114503  ENSG00000075711  \\\n",
       "ENSG00000134121              0.0              0.0              0.0   \n",
       "ENSG00000091181              0.0              0.0              0.0   \n",
       "ENSG00000144455              0.0              0.0              0.0   \n",
       "ENSG00000170364              0.0              0.0              0.0   \n",
       "ENSG00000150995              0.0              0.0              0.0   \n",
       "\n",
       "                 ENSG00000161267  ENSG00000182899  \n",
       "ENSG00000134121              0.0              0.0  \n",
       "ENSG00000091181              0.0              0.0  \n",
       "ENSG00000144455              0.0              0.0  \n",
       "ENSG00000170364              0.0              0.0  \n",
       "ENSG00000150995              0.0              0.0  \n",
       "\n",
       "[5 rows x 393 columns]"
      ]
     },
     "execution_count": 31,
     "metadata": {},
     "output_type": "execute_result"
    }
   ],
   "source": [
    "gene_corrs_df.head()"
   ]
  },
  {
   "cell_type": "markdown",
   "id": "dad6603f-01c6-41fb-a6f6-241051207dd8",
   "metadata": {
    "papermill": {
     "duration": 2.398307,
     "end_time": "2023-08-30T04:07:49.401441",
     "exception": false,
     "start_time": "2023-08-30T04:07:47.003134",
     "status": "completed"
    },
    "tags": []
   },
   "source": [
    "## Standard checks and stats"
   ]
  },
  {
   "cell_type": "code",
   "execution_count": 32,
   "id": "286686af-1b7b-4440-8453-6bdcbd8de19c",
   "metadata": {
    "execution": {
     "iopub.execute_input": "2023-08-30T04:07:54.183681Z",
     "iopub.status.busy": "2023-08-30T04:07:54.183126Z",
     "iopub.status.idle": "2023-08-30T04:07:54.207253Z",
     "shell.execute_reply": "2023-08-30T04:07:54.206518Z"
    },
    "papermill": {
     "duration": 2.464042,
     "end_time": "2023-08-30T04:07:54.208253",
     "exception": false,
     "start_time": "2023-08-30T04:07:51.744211",
     "status": "completed"
    },
    "tags": []
   },
   "outputs": [],
   "source": [
    "assert not gene_corrs_df.isna().any(axis=None)"
   ]
  },
  {
   "cell_type": "code",
   "execution_count": 33,
   "id": "00583efc-7068-4270-ad1e-4a418e91db96",
   "metadata": {
    "execution": {
     "iopub.execute_input": "2023-08-30T04:07:58.887666Z",
     "iopub.status.busy": "2023-08-30T04:07:58.887280Z",
     "iopub.status.idle": "2023-08-30T04:07:58.912953Z",
     "shell.execute_reply": "2023-08-30T04:07:58.912269Z"
    },
    "papermill": {
     "duration": 2.336105,
     "end_time": "2023-08-30T04:07:58.913870",
     "exception": false,
     "start_time": "2023-08-30T04:07:56.577765",
     "status": "completed"
    },
    "tags": []
   },
   "outputs": [
    {
     "data": {
      "text/plain": [
       "0.0"
      ]
     },
     "metadata": {},
     "output_type": "display_data"
    }
   ],
   "source": [
    "_min_val = gene_corrs_df.min().min()\n",
    "display(_min_val)\n",
    "assert _min_val >= -0.05"
   ]
  },
  {
   "cell_type": "code",
   "execution_count": 34,
   "id": "d04fb2cf-1050-475b-b855-f5f7cc04092b",
   "metadata": {
    "execution": {
     "iopub.execute_input": "2023-08-30T04:08:03.686405Z",
     "iopub.status.busy": "2023-08-30T04:08:03.686009Z",
     "iopub.status.idle": "2023-08-30T04:08:03.710846Z",
     "shell.execute_reply": "2023-08-30T04:08:03.710294Z"
    },
    "papermill": {
     "duration": 2.386171,
     "end_time": "2023-08-30T04:08:03.711728",
     "exception": false,
     "start_time": "2023-08-30T04:08:01.325557",
     "status": "completed"
    },
    "tags": []
   },
   "outputs": [
    {
     "data": {
      "text/plain": [
       "1.0000000000000033"
      ]
     },
     "metadata": {},
     "output_type": "display_data"
    }
   ],
   "source": [
    "_max_val = gene_corrs_df.max().max()  # this captures the diagonal\n",
    "display(_max_val)\n",
    "assert _max_val <= 1.05"
   ]
  },
  {
   "cell_type": "code",
   "execution_count": 35,
   "id": "fe283586-c348-40e0-8841-f6d97bfb021c",
   "metadata": {
    "execution": {
     "iopub.execute_input": "2023-08-30T04:08:08.417298Z",
     "iopub.status.busy": "2023-08-30T04:08:08.416625Z",
     "iopub.status.idle": "2023-08-30T04:08:08.445692Z",
     "shell.execute_reply": "2023-08-30T04:08:08.445009Z"
    },
    "papermill": {
     "duration": 2.356313,
     "end_time": "2023-08-30T04:08:08.446616",
     "exception": false,
     "start_time": "2023-08-30T04:08:06.090303",
     "status": "completed"
    },
    "tags": []
   },
   "outputs": [
    {
     "data": {
      "text/plain": [
       "count    77421.000000\n",
       "mean         0.007998\n",
       "std          0.076404\n",
       "min          0.000000\n",
       "25%          0.000000\n",
       "50%          0.000000\n",
       "75%          0.000000\n",
       "max          1.000000\n",
       "dtype: float64"
      ]
     },
     "execution_count": 35,
     "metadata": {},
     "output_type": "execute_result"
    }
   ],
   "source": [
    "gene_corrs_flat.describe()"
   ]
  },
  {
   "cell_type": "code",
   "execution_count": 36,
   "id": "b3815678-0f93-4b35-897b-a9d047a2aa78",
   "metadata": {
    "execution": {
     "iopub.execute_input": "2023-08-30T04:08:13.210084Z",
     "iopub.status.busy": "2023-08-30T04:08:13.209822Z",
     "iopub.status.idle": "2023-08-30T04:08:13.227081Z",
     "shell.execute_reply": "2023-08-30T04:08:13.226647Z"
    },
    "papermill": {
     "duration": 2.37088,
     "end_time": "2023-08-30T04:08:13.227962",
     "exception": false,
     "start_time": "2023-08-30T04:08:10.857082",
     "status": "completed"
    },
    "tags": []
   },
   "outputs": [
    {
     "data": {
      "text/plain": [
       "0.00    0.000000\n",
       "0.05    0.000000\n",
       "0.10    0.000000\n",
       "0.15    0.000000\n",
       "0.20    0.000000\n",
       "0.25    0.000000\n",
       "0.30    0.000000\n",
       "0.35    0.000000\n",
       "0.40    0.000000\n",
       "0.45    0.000000\n",
       "0.50    0.000000\n",
       "0.55    0.000000\n",
       "0.60    0.000000\n",
       "0.65    0.000000\n",
       "0.70    0.000000\n",
       "0.75    0.000000\n",
       "0.80    0.000000\n",
       "0.85    0.000000\n",
       "0.90    0.000000\n",
       "0.95    0.007423\n",
       "dtype: float64"
      ]
     },
     "metadata": {},
     "output_type": "display_data"
    }
   ],
   "source": [
    "gene_corrs_quantiles = gene_corrs_flat.quantile(np.arange(0, 1, 0.05))\n",
    "display(gene_corrs_quantiles)"
   ]
  },
  {
   "cell_type": "markdown",
   "id": "87134509-b145-4a10-8bc9-b7e914c2b0fa",
   "metadata": {
    "papermill": {
     "duration": 2.348925,
     "end_time": "2023-08-30T04:08:17.990551",
     "exception": false,
     "start_time": "2023-08-30T04:08:15.641626",
     "status": "completed"
    },
    "tags": []
   },
   "source": [
    "## Positive definiteness"
   ]
  },
  {
   "cell_type": "code",
   "execution_count": 37,
   "id": "07d9a9a1-a4f7-48aa-b916-6d42a8cc6186",
   "metadata": {
    "execution": {
     "iopub.execute_input": "2023-08-30T04:08:22.722261Z",
     "iopub.status.busy": "2023-08-30T04:08:22.721441Z",
     "iopub.status.idle": "2023-08-30T04:08:22.755708Z",
     "shell.execute_reply": "2023-08-30T04:08:22.755339Z"
    },
    "papermill": {
     "duration": 2.366434,
     "end_time": "2023-08-30T04:08:22.756522",
     "exception": false,
     "start_time": "2023-08-30T04:08:20.390088",
     "status": "completed"
    },
    "tags": []
   },
   "outputs": [
    {
     "data": {
      "text/plain": [
       "0"
      ]
     },
     "metadata": {},
     "output_type": "display_data"
    },
    {
     "data": {
      "text/plain": [
       "array([], dtype=float64)"
      ]
     },
     "metadata": {},
     "output_type": "display_data"
    }
   ],
   "source": [
    "# print negative eigenvalues\n",
    "eigs = np.linalg.eigvals(gene_corrs_df.to_numpy())\n",
    "display(len(eigs[eigs < 0]))\n",
    "display(eigs[eigs < 0])"
   ]
  },
  {
   "cell_type": "code",
   "execution_count": 38,
   "id": "6e218436-c3c5-4028-8c94-a4fa6260efce",
   "metadata": {
    "execution": {
     "iopub.execute_input": "2023-08-30T04:08:27.464274Z",
     "iopub.status.busy": "2023-08-30T04:08:27.463728Z",
     "iopub.status.idle": "2023-08-30T04:08:27.503862Z",
     "shell.execute_reply": "2023-08-30T04:08:27.503402Z"
    },
    "papermill": {
     "duration": 2.36563,
     "end_time": "2023-08-30T04:08:27.504740",
     "exception": false,
     "start_time": "2023-08-30T04:08:25.139110",
     "status": "completed"
    },
    "tags": []
   },
   "outputs": [
    {
     "name": "stdout",
     "output_type": "stream",
     "text": [
      "Works!\n"
     ]
    }
   ],
   "source": [
    "try:\n",
    "    chol_mat = np.linalg.cholesky(gene_corrs_df.to_numpy())\n",
    "    cov_inv = np.linalg.inv(chol_mat)\n",
    "    print(\"Works!\")\n",
    "except Exception as e:\n",
    "    print(f\"Cholesky decomposition failed: {str(e)}\")"
   ]
  },
  {
   "cell_type": "code",
   "execution_count": 39,
   "id": "dd8827fb-faf9-4c7c-9454-015e94752706",
   "metadata": {
    "execution": {
     "iopub.execute_input": "2023-08-30T04:08:32.232737Z",
     "iopub.status.busy": "2023-08-30T04:08:32.232431Z",
     "iopub.status.idle": "2023-08-30T04:08:32.265318Z",
     "shell.execute_reply": "2023-08-30T04:08:32.264823Z"
    },
    "papermill": {
     "duration": 2.370014,
     "end_time": "2023-08-30T04:08:32.266145",
     "exception": false,
     "start_time": "2023-08-30T04:08:29.896131",
     "status": "completed"
    },
    "tags": []
   },
   "outputs": [
    {
     "name": "stdout",
     "output_type": "stream",
     "text": [
      "Works!\n"
     ]
    }
   ],
   "source": [
    "try:\n",
    "    # decomposition used by statsmodels.GLS\n",
    "    cholsigmainv = np.linalg.cholesky(np.linalg.inv(gene_corrs_df.to_numpy())).T\n",
    "    print(\"Works!\")\n",
    "except Exception as e:\n",
    "    print(f\"Cholesky decomposition failed (statsmodels.GLS): {str(e)}\")"
   ]
  },
  {
   "cell_type": "markdown",
   "id": "8e60a080-edb2-4e9c-b2ef-22961693200c",
   "metadata": {
    "papermill": {
     "duration": 2.335994,
     "end_time": "2023-08-30T04:08:36.987193",
     "exception": false,
     "start_time": "2023-08-30T04:08:34.651199",
     "status": "completed"
    },
    "tags": []
   },
   "source": [
    "## Plot: distribution"
   ]
  },
  {
   "cell_type": "code",
   "execution_count": 40,
   "id": "8301126b-a7d4-4744-9c7d-f0f86eb6f54c",
   "metadata": {
    "execution": {
     "iopub.execute_input": "2023-08-30T04:08:41.709618Z",
     "iopub.status.busy": "2023-08-30T04:08:41.708955Z",
     "iopub.status.idle": "2023-08-30T04:08:42.206573Z",
     "shell.execute_reply": "2023-08-30T04:08:42.206163Z"
    },
    "papermill": {
     "duration": 2.833707,
     "end_time": "2023-08-30T04:08:42.207516",
     "exception": false,
     "start_time": "2023-08-30T04:08:39.373809",
     "status": "completed"
    },
    "tags": []
   },
   "outputs": [
    {
     "data": {
      "image/png": "[encoded data removed]",
      "text/plain": [
       "<Figure size 700x700 with 1 Axes>"
      ]
     },
     "metadata": {},
     "output_type": "display_data"
    }
   ],
   "source": [
    "with sns.plotting_context(\"paper\", font_scale=1.5):\n",
    "    g = sns.displot(gene_corrs_flat, kde=True, height=7)\n",
    "    g.ax.set_title(\n",
    "        f\"Distribution of gene correlation values in chromosome {CHROMOSOME}\"\n",
    "    )"
   ]
  },
  {
   "cell_type": "markdown",
   "id": "cbd52bca-d878-4a2f-b684-5c83aa3038d4",
   "metadata": {
    "papermill": {
     "duration": 2.334015,
     "end_time": "2023-08-30T04:08:46.951381",
     "exception": false,
     "start_time": "2023-08-30T04:08:44.617366",
     "status": "completed"
    },
    "tags": []
   },
   "source": [
    "## Plot: heatmap"
   ]
  },
  {
   "cell_type": "code",
   "execution_count": 41,
   "id": "d03fe63a-c7b2-4fb9-a53c-db362ce843c9",
   "metadata": {
    "execution": {
     "iopub.execute_input": "2023-08-30T04:08:51.674604Z",
     "iopub.status.busy": "2023-08-30T04:08:51.674286Z",
     "iopub.status.idle": "2023-08-30T04:08:51.702050Z",
     "shell.execute_reply": "2023-08-30T04:08:51.701499Z"
    },
    "papermill": {
     "duration": 2.350261,
     "end_time": "2023-08-30T04:08:51.703323",
     "exception": false,
     "start_time": "2023-08-30T04:08:49.353062",
     "status": "completed"
    },
    "tags": []
   },
   "outputs": [
    {
     "data": {
      "text/plain": [
       "'0.0 / 0.05'"
      ]
     },
     "metadata": {},
     "output_type": "display_data"
    }
   ],
   "source": [
    "vmin_val = min(0.00, gene_corrs_quantiles[0.10])\n",
    "vmax_val = max(0.05, gene_corrs_quantiles[0.90])\n",
    "display(f\"{vmin_val} / {vmax_val}\")"
   ]
  },
  {
   "cell_type": "code",
   "execution_count": 42,
   "id": "dc41b70b-5bcc-4d9e-9f33-a22c4a94dab5",
   "metadata": {
    "execution": {
     "iopub.execute_input": "2023-08-30T04:08:56.428872Z",
     "iopub.status.busy": "2023-08-30T04:08:56.428648Z",
     "iopub.status.idle": "2023-08-30T04:08:56.691629Z",
     "shell.execute_reply": "2023-08-30T04:08:56.690996Z"
    },
    "papermill": {
     "duration": 2.585453,
     "end_time": "2023-08-30T04:08:56.692752",
     "exception": false,
     "start_time": "2023-08-30T04:08:54.107299",
     "status": "completed"
    },
    "tags": []
   },
   "outputs": [
    {
     "data": {
      "text/plain": [
       "Text(0.5, 1.0, 'Gene correlations in chromosome 3')"
      ]
     },
     "execution_count": 42,
     "metadata": {},
     "output_type": "execute_result"
    },
    {
     "data": {
      "image/png": "[encoded data removed]",
      "text/plain": [
       "<Figure size 1000x1000 with 2 Axes>"
      ]
     },
     "metadata": {},
     "output_type": "display_data"
    }
   ],
   "source": [
    "f, ax = plt.subplots(figsize=(10, 10))\n",
    "sns.heatmap(\n",
    "    gene_corrs_df,\n",
    "    xticklabels=False,\n",
    "    yticklabels=False,\n",
    "    square=True,\n",
    "    vmin=vmin_val,\n",
    "    vmax=vmax_val,\n",
    "    cmap=\"rocket_r\",\n",
    "    ax=ax,\n",
    ")\n",
    "ax.set_title(f\"Gene correlations in chromosome {CHROMOSOME}\")"
   ]
  },
  {
   "cell_type": "code",
   "execution_count": null,
   "id": "b25e3ead",
   "metadata": {
    "papermill": {
     "duration": 2.374577,
     "end_time": "2023-08-30T04:09:01.518421",
     "exception": false,
     "start_time": "2023-08-30T04:08:59.143844",
     "status": "completed"
    },
    "tags": []
   },
   "outputs": [],
   "source": []
  }
 ],
 "metadata": {
  "jupytext": {
   "cell_metadata_filter": "all,-execution,-papermill,-trusted",
   "formats": "ipynb,py//py:percent"
  },
  "kernelspec": {
   "display_name": "Python 3 (ipykernel)",
   "language": "python",
   "name": "python3"
  },
  "language_info": {
   "codemirror_mode": {
    "name": "ipython",
    "version": 3
   },
   "file_extension": ".py",
   "mimetype": "text/x-python",
   "name": "python",
   "nbconvert_exporter": "python",
   "pygments_lexer": "ipython3",
   "version": "3.10.6"
  },
  "papermill": {
   "default_parameters": {},
   "duration": 535.525418,
   "end_time": "2023-08-30T04:09:06.623336",
   "environment_variables": {},
   "exception": null,
   "input_path": "projects/chronotype/nbs/20_gene_corrs/jobs/05-gene_expr_correlations.ipynb",
   "output_path": "projects/chronotype/nbs/20_gene_corrs/jobs/../output/chronotype/05-gene_expr_correlations-chr3.run.ipynb",
   "parameters": {
    "CHROMOSOME": 3,
    "COHORT_NAME": "chronotype",
    "OUTPUT_DIR_BASE": "/opt/data/projects/chronotype/results/gls_phenoplier",
    "PHENOPLIER_NOTEBOOK_FILEPATH": "projects/chronotype/nbs/20_gene_corrs/jobs/05-gene_expr_correlations.ipynb"
   },
   "start_time": "2023-08-30T04:00:11.097918",
   "version": "2.2.2"
  }
 },
 "nbformat": 4,
 "nbformat_minor": 5
}
