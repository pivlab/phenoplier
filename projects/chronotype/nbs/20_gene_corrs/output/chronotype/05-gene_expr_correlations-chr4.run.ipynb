{
 "cells": [
  {
   "cell_type": "markdown",
   "id": "7a6632fb",
   "metadata": {
    "papermill": {
     "duration": 0.008584,
     "end_time": "2023-08-30T04:00:12.004765",
     "exception": false,
     "start_time": "2023-08-30T04:00:11.996181",
     "status": "completed"
    },
    "tags": []
   },
   "source": [
    "# Description"
   ]
  },
  {
   "cell_type": "markdown",
   "id": "7097c346",
   "metadata": {
    "papermill": {
     "duration": 0.007633,
     "end_time": "2023-08-30T04:00:12.020332",
     "exception": false,
     "start_time": "2023-08-30T04:00:12.012699",
     "status": "completed"
    },
    "tags": []
   },
   "source": [
    "This notebook computes predicted expression correlations between all genes in the MultiPLIER models.\n",
    "\n",
    "It has specicfic parameters for papermill (see under `Settings` below).\n",
    "\n",
    "This notebook should not be directly run. It is used by other notebooks."
   ]
  },
  {
   "cell_type": "markdown",
   "id": "c61d8427",
   "metadata": {
    "papermill": {
     "duration": 0.007616,
     "end_time": "2023-08-30T04:00:12.035629",
     "exception": false,
     "start_time": "2023-08-30T04:00:12.028013",
     "status": "completed"
    },
    "tags": []
   },
   "source": [
    "# Modules"
   ]
  },
  {
   "cell_type": "code",
   "execution_count": 1,
   "id": "bbc0234f",
   "metadata": {
    "execution": {
     "iopub.execute_input": "2023-08-30T04:00:12.053237Z",
     "iopub.status.busy": "2023-08-30T04:00:12.052911Z",
     "iopub.status.idle": "2023-08-30T04:00:12.071673Z",
     "shell.execute_reply": "2023-08-30T04:00:12.070898Z"
    },
    "papermill": {
     "duration": 0.029554,
     "end_time": "2023-08-30T04:00:12.073515",
     "exception": false,
     "start_time": "2023-08-30T04:00:12.043961",
     "status": "completed"
    },
    "tags": []
   },
   "outputs": [],
   "source": [
    "%load_ext autoreload\n",
    "%autoreload 2"
   ]
  },
  {
   "cell_type": "code",
   "execution_count": 2,
   "id": "1d5f5a59",
   "metadata": {
    "execution": {
     "iopub.execute_input": "2023-08-30T04:00:12.091407Z",
     "iopub.status.busy": "2023-08-30T04:00:12.091166Z",
     "iopub.status.idle": "2023-08-30T04:00:12.851951Z",
     "shell.execute_reply": "2023-08-30T04:00:12.851392Z"
    },
    "papermill": {
     "duration": 0.771508,
     "end_time": "2023-08-30T04:00:12.853628",
     "exception": false,
     "start_time": "2023-08-30T04:00:12.082120",
     "status": "completed"
    },
    "tags": []
   },
   "outputs": [],
   "source": [
    "from random import sample, seed\n",
    "import warnings\n",
    "from pathlib import Path\n",
    "import pickle\n",
    "import traceback\n",
    "\n",
    "import numpy as np\n",
    "from scipy.spatial.distance import squareform\n",
    "import pandas as pd\n",
    "from tqdm import tqdm\n",
    "import matplotlib.pyplot as plt\n",
    "import seaborn as sns\n",
    "\n",
    "import conf\n",
    "from entity import Gene"
   ]
  },
  {
   "cell_type": "markdown",
   "id": "1eac24b5",
   "metadata": {
    "papermill": {
     "duration": 0.007407,
     "end_time": "2023-08-30T04:00:12.868152",
     "exception": false,
     "start_time": "2023-08-30T04:00:12.860745",
     "status": "completed"
    },
    "tags": []
   },
   "source": [
    "# Settings"
   ]
  },
  {
   "cell_type": "code",
   "execution_count": 3,
   "id": "ca4560ba",
   "metadata": {
    "execution": {
     "iopub.execute_input": "2023-08-30T04:00:12.880099Z",
     "iopub.status.busy": "2023-08-30T04:00:12.879795Z",
     "iopub.status.idle": "2023-08-30T04:00:12.902559Z",
     "shell.execute_reply": "2023-08-30T04:00:12.901911Z"
    },
    "papermill": {
     "duration": 0.029864,
     "end_time": "2023-08-30T04:00:12.903800",
     "exception": false,
     "start_time": "2023-08-30T04:00:12.873936",
     "status": "completed"
    },
    "tags": [
     "parameters"
    ]
   },
   "outputs": [],
   "source": [
    "# a cohort name (it could be something like UK_BIOBANK, etc)\n",
    "COHORT_NAME = None\n",
    "\n",
    "# reference panel such as 1000G or GTEX_V8\n",
    "REFERENCE_PANEL = \"GTEX_V8\"\n",
    "\n",
    "# predictions models such as MASHR or ELASTIC_NET\n",
    "EQTL_MODEL = \"MASHR\"\n",
    "\n",
    "# this is the default value used in S-MultiXcan to select the\n",
    "# top principal components of the expression correlation matrix\n",
    "SMULTIXCAN_CONDITION_NUMBER = 30\n",
    "\n",
    "# specifies a single chromosome value\n",
    "CHROMOSOME = None\n",
    "\n",
    "# If True, computes the correlation between closeby genes only (see\n",
    "# entity.Gene.within_distance for more details). Otherwise, it computes\n",
    "# correlations for all genes in a chromosome\n",
    "COMPUTE_CORRELATIONS_WITHIN_DISTANCE = True\n",
    "\n",
    "# if True, then it will continue if a gene pair correlation fails,\n",
    "# printing the warning/error for debugging. If False, any warning/error\n",
    "# will be thrown\n",
    "DEBUG_MODE = False\n",
    "\n",
    "# output dir\n",
    "OUTPUT_DIR_BASE = None"
   ]
  },
  {
   "cell_type": "code",
   "execution_count": 4,
   "id": "6c19d118",
   "metadata": {
    "execution": {
     "iopub.execute_input": "2023-08-30T04:00:12.913613Z",
     "iopub.status.busy": "2023-08-30T04:00:12.913342Z",
     "iopub.status.idle": "2023-08-30T04:00:12.931888Z",
     "shell.execute_reply": "2023-08-30T04:00:12.931401Z"
    },
    "papermill": {
     "duration": 0.024927,
     "end_time": "2023-08-30T04:00:12.933338",
     "exception": false,
     "start_time": "2023-08-30T04:00:12.908411",
     "status": "completed"
    },
    "tags": [
     "injected-parameters"
    ]
   },
   "outputs": [],
   "source": [
    "# Parameters\n",
    "PHENOPLIER_NOTEBOOK_FILEPATH = (\n",
    "    \"projects/chronotype/nbs/20_gene_corrs/jobs/05-gene_expr_correlations.ipynb\"\n",
    ")\n",
    "COHORT_NAME = \"chronotype\"\n",
    "CHROMOSOME = 4\n",
    "OUTPUT_DIR_BASE = \"/opt/data/projects/chronotype/results/gls_phenoplier\"\n"
   ]
  },
  {
   "cell_type": "code",
   "execution_count": 5,
   "id": "3190631f-27fc-480f-b18e-571d580425a5",
   "metadata": {
    "execution": {
     "iopub.execute_input": "2023-08-30T04:00:12.953321Z",
     "iopub.status.busy": "2023-08-30T04:00:12.953106Z",
     "iopub.status.idle": "2023-08-30T04:00:12.972943Z",
     "shell.execute_reply": "2023-08-30T04:00:12.972558Z"
    },
    "papermill": {
     "duration": 0.033575,
     "end_time": "2023-08-30T04:00:12.975932",
     "exception": false,
     "start_time": "2023-08-30T04:00:12.942357",
     "status": "completed"
    },
    "tags": []
   },
   "outputs": [
    {
     "data": {
      "text/plain": [
       "'Cohort name: chronotype'"
      ]
     },
     "metadata": {},
     "output_type": "display_data"
    }
   ],
   "source": [
    "assert COHORT_NAME is not None and len(COHORT_NAME) > 0, \"A cohort name must be given\"\n",
    "\n",
    "COHORT_NAME = COHORT_NAME.lower()\n",
    "display(f\"Cohort name: {COHORT_NAME}\")"
   ]
  },
  {
   "cell_type": "code",
   "execution_count": 6,
   "id": "f53ba19b-0f93-4fa2-a047-63b375939d1a",
   "metadata": {
    "execution": {
     "iopub.execute_input": "2023-08-30T04:00:13.008273Z",
     "iopub.status.busy": "2023-08-30T04:00:13.008018Z",
     "iopub.status.idle": "2023-08-30T04:00:13.031537Z",
     "shell.execute_reply": "2023-08-30T04:00:13.031157Z"
    },
    "papermill": {
     "duration": 0.040435,
     "end_time": "2023-08-30T04:00:13.032367",
     "exception": false,
     "start_time": "2023-08-30T04:00:12.991932",
     "status": "completed"
    },
    "tags": []
   },
   "outputs": [
    {
     "data": {
      "text/plain": [
       "'Reference panel: GTEX_V8'"
      ]
     },
     "metadata": {},
     "output_type": "display_data"
    }
   ],
   "source": [
    "assert (\n",
    "    REFERENCE_PANEL is not None and len(REFERENCE_PANEL) > 0\n",
    "), \"A reference panel must be given\"\n",
    "\n",
    "display(f\"Reference panel: {REFERENCE_PANEL}\")"
   ]
  },
  {
   "cell_type": "code",
   "execution_count": 7,
   "id": "e024d130-c139-429a-9c6e-ccf149e297b0",
   "metadata": {
    "execution": {
     "iopub.execute_input": "2023-08-30T04:00:13.042531Z",
     "iopub.status.busy": "2023-08-30T04:00:13.042204Z",
     "iopub.status.idle": "2023-08-30T04:00:13.062743Z",
     "shell.execute_reply": "2023-08-30T04:00:13.062357Z"
    },
    "papermill": {
     "duration": 0.026604,
     "end_time": "2023-08-30T04:00:13.063647",
     "exception": false,
     "start_time": "2023-08-30T04:00:13.037043",
     "status": "completed"
    },
    "tags": []
   },
   "outputs": [
    {
     "data": {
      "text/plain": [
       "'eQTL model: MASHR) / mashr_'"
      ]
     },
     "metadata": {},
     "output_type": "display_data"
    }
   ],
   "source": [
    "assert (\n",
    "    EQTL_MODEL is not None and len(EQTL_MODEL) > 0\n",
    "), \"A prediction/eQTL model must be given\"\n",
    "\n",
    "EQTL_MODEL_FILES_PREFIX = conf.PHENOMEXCAN[\"PREDICTION_MODELS\"][f\"{EQTL_MODEL}_PREFIX\"]\n",
    "display(f\"eQTL model: {EQTL_MODEL}) / {EQTL_MODEL_FILES_PREFIX}\")"
   ]
  },
  {
   "cell_type": "code",
   "execution_count": 8,
   "id": "552a7f63-a18c-4d3e-bb6a-94f99b431291",
   "metadata": {
    "execution": {
     "iopub.execute_input": "2023-08-30T04:00:13.074728Z",
     "iopub.status.busy": "2023-08-30T04:00:13.074403Z",
     "iopub.status.idle": "2023-08-30T04:00:13.097326Z",
     "shell.execute_reply": "2023-08-30T04:00:13.097031Z"
    },
    "papermill": {
     "duration": 0.029323,
     "end_time": "2023-08-30T04:00:13.098158",
     "exception": false,
     "start_time": "2023-08-30T04:00:13.068835",
     "status": "completed"
    },
    "tags": []
   },
   "outputs": [
    {
     "data": {
      "text/plain": [
       "'S-MultiXcan condition number: 30'"
      ]
     },
     "metadata": {},
     "output_type": "display_data"
    }
   ],
   "source": [
    "assert (\n",
    "    SMULTIXCAN_CONDITION_NUMBER is not None and SMULTIXCAN_CONDITION_NUMBER > 0\n",
    "), \"The S-MultiXcan condition number (positive integer) must be given\"\n",
    "\n",
    "display(f\"S-MultiXcan condition number: {SMULTIXCAN_CONDITION_NUMBER}\")"
   ]
  },
  {
   "cell_type": "code",
   "execution_count": 9,
   "id": "f34a336f-548e-4afe-8955-90eaea4f42c6",
   "metadata": {
    "execution": {
     "iopub.execute_input": "2023-08-30T04:00:13.109118Z",
     "iopub.status.busy": "2023-08-30T04:00:13.108951Z",
     "iopub.status.idle": "2023-08-30T04:00:13.138828Z",
     "shell.execute_reply": "2023-08-30T04:00:13.138293Z"
    },
    "papermill": {
     "duration": 0.036502,
     "end_time": "2023-08-30T04:00:13.139840",
     "exception": false,
     "start_time": "2023-08-30T04:00:13.103338",
     "status": "completed"
    },
    "tags": []
   },
   "outputs": [
    {
     "data": {
      "text/plain": [
       "'Working on chromosome 4'"
      ]
     },
     "metadata": {},
     "output_type": "display_data"
    }
   ],
   "source": [
    "assert CHROMOSOME is not None and (\n",
    "    1 <= CHROMOSOME <= 22\n",
    "), \"You have to select one chromosome (format: number between 1 and 22)\"\n",
    "\n",
    "display(f\"Working on chromosome {CHROMOSOME}\")"
   ]
  },
  {
   "cell_type": "code",
   "execution_count": 10,
   "id": "ab8e96e8-06b5-4363-9dcd-dc4d78cc27f7",
   "metadata": {
    "execution": {
     "iopub.execute_input": "2023-08-30T04:00:13.151954Z",
     "iopub.status.busy": "2023-08-30T04:00:13.151568Z",
     "iopub.status.idle": "2023-08-30T04:00:13.174937Z",
     "shell.execute_reply": "2023-08-30T04:00:13.174564Z"
    },
    "papermill": {
     "duration": 0.030896,
     "end_time": "2023-08-30T04:00:13.175809",
     "exception": false,
     "start_time": "2023-08-30T04:00:13.144913",
     "status": "completed"
    },
    "tags": []
   },
   "outputs": [
    {
     "data": {
      "text/plain": [
       "'Compute correlation within distance True'"
      ]
     },
     "metadata": {},
     "output_type": "display_data"
    }
   ],
   "source": [
    "display(f\"Compute correlation within distance {COMPUTE_CORRELATIONS_WITHIN_DISTANCE}\")"
   ]
  },
  {
   "cell_type": "code",
   "execution_count": 11,
   "id": "b393b698-77e3-4ba2-8ac1-e14d51aa988f",
   "metadata": {
    "execution": {
     "iopub.execute_input": "2023-08-30T04:00:13.186325Z",
     "iopub.status.busy": "2023-08-30T04:00:13.186155Z",
     "iopub.status.idle": "2023-08-30T04:00:13.206422Z",
     "shell.execute_reply": "2023-08-30T04:00:13.205974Z"
    },
    "papermill": {
     "duration": 0.026811,
     "end_time": "2023-08-30T04:00:13.207646",
     "exception": false,
     "start_time": "2023-08-30T04:00:13.180835",
     "status": "completed"
    },
    "tags": []
   },
   "outputs": [
    {
     "data": {
      "text/plain": [
       "'Using output dir base: /opt/data/projects/chronotype/results/gls_phenoplier/gene_corrs/chronotype'"
      ]
     },
     "metadata": {},
     "output_type": "display_data"
    }
   ],
   "source": [
    "assert (\n",
    "    OUTPUT_DIR_BASE is not None and len(OUTPUT_DIR_BASE) > 0\n",
    "), \"Output directory path must be given\"\n",
    "\n",
    "OUTPUT_DIR_BASE = (Path(OUTPUT_DIR_BASE) / \"gene_corrs\" / COHORT_NAME).resolve()\n",
    "\n",
    "OUTPUT_DIR_BASE.mkdir(parents=True, exist_ok=True)\n",
    "\n",
    "display(f\"Using output dir base: {OUTPUT_DIR_BASE}\")"
   ]
  },
  {
   "cell_type": "markdown",
   "id": "d2ba085e",
   "metadata": {
    "papermill": {
     "duration": 0.004847,
     "end_time": "2023-08-30T04:00:13.218154",
     "exception": false,
     "start_time": "2023-08-30T04:00:13.213307",
     "status": "completed"
    },
    "tags": []
   },
   "source": [
    "# Load data"
   ]
  },
  {
   "cell_type": "markdown",
   "id": "7dcb8db7",
   "metadata": {
    "papermill": {
     "duration": 0.004775,
     "end_time": "2023-08-30T04:00:13.227812",
     "exception": false,
     "start_time": "2023-08-30T04:00:13.223037",
     "status": "completed"
    },
    "tags": []
   },
   "source": [
    "## GWAS variants"
   ]
  },
  {
   "cell_type": "code",
   "execution_count": 12,
   "id": "29434c4e-8cd3-4b9b-82e4-b5a251d9dd19",
   "metadata": {
    "execution": {
     "iopub.execute_input": "2023-08-30T04:00:13.240103Z",
     "iopub.status.busy": "2023-08-30T04:00:13.239628Z",
     "iopub.status.idle": "2023-08-30T04:00:18.093875Z",
     "shell.execute_reply": "2023-08-30T04:00:18.093253Z"
    },
    "papermill": {
     "duration": 4.865021,
     "end_time": "2023-08-30T04:00:18.098121",
     "exception": false,
     "start_time": "2023-08-30T04:00:13.233100",
     "status": "completed"
    },
    "tags": []
   },
   "outputs": [],
   "source": [
    "with open(OUTPUT_DIR_BASE / \"gwas_variant_ids.pkl\", \"rb\") as handle:\n",
    "    gwas_variants_ids_set = pickle.load(handle)"
   ]
  },
  {
   "cell_type": "code",
   "execution_count": 13,
   "id": "b9d9dec2-4a76-4bf9-bde2-e24c95acb8a0",
   "metadata": {
    "execution": {
     "iopub.execute_input": "2023-08-30T04:00:18.125166Z",
     "iopub.status.busy": "2023-08-30T04:00:18.124633Z",
     "iopub.status.idle": "2023-08-30T04:00:18.148987Z",
     "shell.execute_reply": "2023-08-30T04:00:18.148377Z"
    },
    "papermill": {
     "duration": 0.043432,
     "end_time": "2023-08-30T04:00:18.153686",
     "exception": false,
     "start_time": "2023-08-30T04:00:18.110254",
     "status": "completed"
    },
    "tags": []
   },
   "outputs": [
    {
     "data": {
      "text/plain": [
       "11737794"
      ]
     },
     "execution_count": 13,
     "metadata": {},
     "output_type": "execute_result"
    }
   ],
   "source": [
    "len(gwas_variants_ids_set)"
   ]
  },
  {
   "cell_type": "code",
   "execution_count": 14,
   "id": "4235b06a-6034-4ee4-a0a3-2ae35d122418",
   "metadata": {
    "execution": {
     "iopub.execute_input": "2023-08-30T04:00:18.180636Z",
     "iopub.status.busy": "2023-08-30T04:00:18.180132Z",
     "iopub.status.idle": "2023-08-30T04:00:20.145165Z",
     "shell.execute_reply": "2023-08-30T04:00:20.144322Z"
    },
    "papermill": {
     "duration": 1.984029,
     "end_time": "2023-08-30T04:00:20.149438",
     "exception": false,
     "start_time": "2023-08-30T04:00:18.165409",
     "status": "completed"
    },
    "tags": []
   },
   "outputs": [
    {
     "data": {
      "text/plain": [
       "['chr20_16678644_C_T_b38',\n",
       " 'chr4_18184465_G_A_b38',\n",
       " 'chr12_64313447_T_C_b38',\n",
       " 'chr3_22203850_T_C_b38',\n",
       " 'chr7_102102517_C_T_b38']"
      ]
     },
     "execution_count": 14,
     "metadata": {},
     "output_type": "execute_result"
    }
   ],
   "source": [
    "list(gwas_variants_ids_set)[:5]"
   ]
  },
  {
   "cell_type": "markdown",
   "id": "07866999-2305-41f9-a144-e69c9122c212",
   "metadata": {
    "papermill": {
     "duration": 0.012779,
     "end_time": "2023-08-30T04:00:20.175037",
     "exception": false,
     "start_time": "2023-08-30T04:00:20.162258",
     "status": "completed"
    },
    "tags": []
   },
   "source": [
    "## S-PrediXcan tissue models"
   ]
  },
  {
   "cell_type": "code",
   "execution_count": 15,
   "id": "780611d9-77c8-405f-90a4-f271f7b09397",
   "metadata": {
    "execution": {
     "iopub.execute_input": "2023-08-30T04:00:20.209271Z",
     "iopub.status.busy": "2023-08-30T04:00:20.208450Z",
     "iopub.status.idle": "2023-08-30T04:00:22.432783Z",
     "shell.execute_reply": "2023-08-30T04:00:22.432338Z"
    },
    "papermill": {
     "duration": 2.244328,
     "end_time": "2023-08-30T04:00:22.434020",
     "exception": false,
     "start_time": "2023-08-30T04:00:20.189692",
     "status": "completed"
    },
    "tags": []
   },
   "outputs": [],
   "source": [
    "spredixcan_genes_models = pd.read_pickle(OUTPUT_DIR_BASE / \"gene_tissues.pkl\")"
   ]
  },
  {
   "cell_type": "code",
   "execution_count": 16,
   "id": "726dd1f6-9557-4225-91fa-b3b879ea96e1",
   "metadata": {
    "execution": {
     "iopub.execute_input": "2023-08-30T04:00:22.446145Z",
     "iopub.status.busy": "2023-08-30T04:00:22.445768Z",
     "iopub.status.idle": "2023-08-30T04:00:22.461855Z",
     "shell.execute_reply": "2023-08-30T04:00:22.461467Z"
    },
    "papermill": {
     "duration": 0.023208,
     "end_time": "2023-08-30T04:00:22.462820",
     "exception": false,
     "start_time": "2023-08-30T04:00:22.439612",
     "status": "completed"
    },
    "tags": []
   },
   "outputs": [
    {
     "data": {
      "text/plain": [
       "(6445, 5)"
      ]
     },
     "execution_count": 16,
     "metadata": {},
     "output_type": "execute_result"
    }
   ],
   "source": [
    "spredixcan_genes_models.shape"
   ]
  },
  {
   "cell_type": "code",
   "execution_count": 17,
   "id": "944a1b48-222c-4eb0-b252-b9de2cbca215",
   "metadata": {
    "execution": {
     "iopub.execute_input": "2023-08-30T04:00:22.474921Z",
     "iopub.status.busy": "2023-08-30T04:00:22.474681Z",
     "iopub.status.idle": "2023-08-30T04:00:22.499567Z",
     "shell.execute_reply": "2023-08-30T04:00:22.499114Z"
    },
    "papermill": {
     "duration": 0.032207,
     "end_time": "2023-08-30T04:00:22.500523",
     "exception": false,
     "start_time": "2023-08-30T04:00:22.468316",
     "status": "completed"
    },
    "tags": []
   },
   "outputs": [
    {
     "data": {
      "text/html": [
       "<div>\n",
       "<style scoped>\n",
       "    .dataframe tbody tr th:only-of-type {\n",
       "        vertical-align: middle;\n",
       "    }\n",
       "\n",
       "    .dataframe tbody tr th {\n",
       "        vertical-align: top;\n",
       "    }\n",
       "\n",
       "    .dataframe thead th {\n",
       "        text-align: right;\n",
       "    }\n",
       "</style>\n",
       "<table border=\"1\" class=\"dataframe\">\n",
       "  <thead>\n",
       "    <tr style=\"text-align: right;\">\n",
       "      <th></th>\n",
       "      <th>gene_name</th>\n",
       "      <th>tissue</th>\n",
       "      <th>n_tissues</th>\n",
       "      <th>n_snps_used_sum</th>\n",
       "      <th>n_snps_in_model_sum</th>\n",
       "    </tr>\n",
       "    <tr>\n",
       "      <th>gene_id</th>\n",
       "      <th></th>\n",
       "      <th></th>\n",
       "      <th></th>\n",
       "      <th></th>\n",
       "      <th></th>\n",
       "    </tr>\n",
       "  </thead>\n",
       "  <tbody>\n",
       "    <tr>\n",
       "      <th>ENSG00000000419</th>\n",
       "      <td>DPM1</td>\n",
       "      <td>(Brain_Substantia_nigra, Brain_Hypothalamus)</td>\n",
       "      <td>2</td>\n",
       "      <td>2</td>\n",
       "      <td>2</td>\n",
       "    </tr>\n",
       "    <tr>\n",
       "      <th>ENSG00000000938</th>\n",
       "      <td>FGR</td>\n",
       "      <td>(Breast_Mammary_Tissue, Brain_Caudate_basal_ga...</td>\n",
       "      <td>36</td>\n",
       "      <td>40</td>\n",
       "      <td>40</td>\n",
       "    </tr>\n",
       "    <tr>\n",
       "      <th>ENSG00000000971</th>\n",
       "      <td>CFH</td>\n",
       "      <td>(Ovary, Breast_Mammary_Tissue, Uterus, Brain_C...</td>\n",
       "      <td>34</td>\n",
       "      <td>44</td>\n",
       "      <td>44</td>\n",
       "    </tr>\n",
       "    <tr>\n",
       "      <th>ENSG00000001084</th>\n",
       "      <td>GCLC</td>\n",
       "      <td>(Pancreas, Brain_Hippocampus, Whole_Blood, Cel...</td>\n",
       "      <td>32</td>\n",
       "      <td>46</td>\n",
       "      <td>46</td>\n",
       "    </tr>\n",
       "    <tr>\n",
       "      <th>ENSG00000001167</th>\n",
       "      <td>NFYA</td>\n",
       "      <td>(Ovary, Breast_Mammary_Tissue, Brain_Caudate_b...</td>\n",
       "      <td>40</td>\n",
       "      <td>47</td>\n",
       "      <td>48</td>\n",
       "    </tr>\n",
       "  </tbody>\n",
       "</table>\n",
       "</div>"
      ],
      "text/plain": [
       "                gene_name                                             tissue  \\\n",
       "gene_id                                                                        \n",
       "ENSG00000000419      DPM1       (Brain_Substantia_nigra, Brain_Hypothalamus)   \n",
       "ENSG00000000938       FGR  (Breast_Mammary_Tissue, Brain_Caudate_basal_ga...   \n",
       "ENSG00000000971       CFH  (Ovary, Breast_Mammary_Tissue, Uterus, Brain_C...   \n",
       "ENSG00000001084      GCLC  (Pancreas, Brain_Hippocampus, Whole_Blood, Cel...   \n",
       "ENSG00000001167      NFYA  (Ovary, Breast_Mammary_Tissue, Brain_Caudate_b...   \n",
       "\n",
       "                 n_tissues  n_snps_used_sum  n_snps_in_model_sum  \n",
       "gene_id                                                           \n",
       "ENSG00000000419          2                2                    2  \n",
       "ENSG00000000938         36               40                   40  \n",
       "ENSG00000000971         34               44                   44  \n",
       "ENSG00000001084         32               46                   46  \n",
       "ENSG00000001167         40               47                   48  "
      ]
     },
     "execution_count": 17,
     "metadata": {},
     "output_type": "execute_result"
    }
   ],
   "source": [
    "spredixcan_genes_models.head()"
   ]
  },
  {
   "cell_type": "code",
   "execution_count": 18,
   "id": "d1c11bb1-be0b-4f40-b360-633d6827109f",
   "metadata": {
    "execution": {
     "iopub.execute_input": "2023-08-30T04:00:22.512867Z",
     "iopub.status.busy": "2023-08-30T04:00:22.512639Z",
     "iopub.status.idle": "2023-08-30T04:00:22.531947Z",
     "shell.execute_reply": "2023-08-30T04:00:22.531519Z"
    },
    "papermill": {
     "duration": 0.026917,
     "end_time": "2023-08-30T04:00:22.533114",
     "exception": false,
     "start_time": "2023-08-30T04:00:22.506197",
     "status": "completed"
    },
    "tags": []
   },
   "outputs": [],
   "source": [
    "assert spredixcan_genes_models.index.is_unique"
   ]
  },
  {
   "cell_type": "markdown",
   "id": "a5b5092c-a13e-47c4-a92a-480fcc08f3ae",
   "metadata": {
    "papermill": {
     "duration": 0.005917,
     "end_time": "2023-08-30T04:00:22.544743",
     "exception": false,
     "start_time": "2023-08-30T04:00:22.538826",
     "status": "completed"
    },
    "tags": []
   },
   "source": [
    "## Gene info"
   ]
  },
  {
   "cell_type": "code",
   "execution_count": 19,
   "id": "7d6bb224-88e9-4358-ac10-43a41d92cdad",
   "metadata": {
    "execution": {
     "iopub.execute_input": "2023-08-30T04:00:22.557053Z",
     "iopub.status.busy": "2023-08-30T04:00:22.556817Z",
     "iopub.status.idle": "2023-08-30T04:00:22.578321Z",
     "shell.execute_reply": "2023-08-30T04:00:22.577804Z"
    },
    "papermill": {
     "duration": 0.029322,
     "end_time": "2023-08-30T04:00:22.579741",
     "exception": false,
     "start_time": "2023-08-30T04:00:22.550419",
     "status": "completed"
    },
    "tags": []
   },
   "outputs": [],
   "source": [
    "genes_info = pd.read_pickle(OUTPUT_DIR_BASE / \"genes_info.pkl\")"
   ]
  },
  {
   "cell_type": "code",
   "execution_count": 20,
   "id": "9e32abfa-546d-483e-8c18-d526e9e05903",
   "metadata": {
    "execution": {
     "iopub.execute_input": "2023-08-30T04:00:22.598276Z",
     "iopub.status.busy": "2023-08-30T04:00:22.597806Z",
     "iopub.status.idle": "2023-08-30T04:00:22.620600Z",
     "shell.execute_reply": "2023-08-30T04:00:22.620208Z"
    },
    "papermill": {
     "duration": 0.033207,
     "end_time": "2023-08-30T04:00:22.621778",
     "exception": false,
     "start_time": "2023-08-30T04:00:22.588571",
     "status": "completed"
    },
    "tags": []
   },
   "outputs": [
    {
     "data": {
      "text/plain": [
       "(6445, 7)"
      ]
     },
     "execution_count": 20,
     "metadata": {},
     "output_type": "execute_result"
    }
   ],
   "source": [
    "genes_info.shape"
   ]
  },
  {
   "cell_type": "code",
   "execution_count": 21,
   "id": "d16c3e92-85ec-468a-9a56-e25a9774a1cb",
   "metadata": {
    "execution": {
     "iopub.execute_input": "2023-08-30T04:00:22.640222Z",
     "iopub.status.busy": "2023-08-30T04:00:22.639888Z",
     "iopub.status.idle": "2023-08-30T04:00:22.664949Z",
     "shell.execute_reply": "2023-08-30T04:00:22.664502Z"
    },
    "papermill": {
     "duration": 0.035819,
     "end_time": "2023-08-30T04:00:22.666221",
     "exception": false,
     "start_time": "2023-08-30T04:00:22.630402",
     "status": "completed"
    },
    "tags": []
   },
   "outputs": [
    {
     "data": {
      "text/html": [
       "<div>\n",
       "<style scoped>\n",
       "    .dataframe tbody tr th:only-of-type {\n",
       "        vertical-align: middle;\n",
       "    }\n",
       "\n",
       "    .dataframe tbody tr th {\n",
       "        vertical-align: top;\n",
       "    }\n",
       "\n",
       "    .dataframe thead th {\n",
       "        text-align: right;\n",
       "    }\n",
       "</style>\n",
       "<table border=\"1\" class=\"dataframe\">\n",
       "  <thead>\n",
       "    <tr style=\"text-align: right;\">\n",
       "      <th></th>\n",
       "      <th>name</th>\n",
       "      <th>id</th>\n",
       "      <th>chr</th>\n",
       "      <th>band</th>\n",
       "      <th>start_position</th>\n",
       "      <th>end_position</th>\n",
       "      <th>gene_length</th>\n",
       "    </tr>\n",
       "  </thead>\n",
       "  <tbody>\n",
       "    <tr>\n",
       "      <th>0</th>\n",
       "      <td>DUT</td>\n",
       "      <td>ENSG00000128951</td>\n",
       "      <td>15</td>\n",
       "      <td>15q21.1</td>\n",
       "      <td>48331011</td>\n",
       "      <td>48343373</td>\n",
       "      <td>12362</td>\n",
       "    </tr>\n",
       "    <tr>\n",
       "      <th>1</th>\n",
       "      <td>NDUFA4</td>\n",
       "      <td>ENSG00000189043</td>\n",
       "      <td>7</td>\n",
       "      <td>7p21.3</td>\n",
       "      <td>10931943</td>\n",
       "      <td>10940153</td>\n",
       "      <td>8210</td>\n",
       "    </tr>\n",
       "    <tr>\n",
       "      <th>2</th>\n",
       "      <td>EPHB3</td>\n",
       "      <td>ENSG00000182580</td>\n",
       "      <td>3</td>\n",
       "      <td>3q27.1</td>\n",
       "      <td>184561785</td>\n",
       "      <td>184582408</td>\n",
       "      <td>20623</td>\n",
       "    </tr>\n",
       "    <tr>\n",
       "      <th>3</th>\n",
       "      <td>MYLK</td>\n",
       "      <td>ENSG00000065534</td>\n",
       "      <td>3</td>\n",
       "      <td>3q21.1</td>\n",
       "      <td>123610049</td>\n",
       "      <td>123884331</td>\n",
       "      <td>274282</td>\n",
       "    </tr>\n",
       "    <tr>\n",
       "      <th>4</th>\n",
       "      <td>SMPD4</td>\n",
       "      <td>ENSG00000136699</td>\n",
       "      <td>2</td>\n",
       "      <td>2q21.1</td>\n",
       "      <td>130151392</td>\n",
       "      <td>130182750</td>\n",
       "      <td>31358</td>\n",
       "    </tr>\n",
       "  </tbody>\n",
       "</table>\n",
       "</div>"
      ],
      "text/plain": [
       "     name               id  chr     band  start_position  end_position  \\\n",
       "0     DUT  ENSG00000128951   15  15q21.1        48331011      48343373   \n",
       "1  NDUFA4  ENSG00000189043    7   7p21.3        10931943      10940153   \n",
       "2   EPHB3  ENSG00000182580    3   3q27.1       184561785     184582408   \n",
       "3    MYLK  ENSG00000065534    3   3q21.1       123610049     123884331   \n",
       "4   SMPD4  ENSG00000136699    2   2q21.1       130151392     130182750   \n",
       "\n",
       "   gene_length  \n",
       "0        12362  \n",
       "1         8210  \n",
       "2        20623  \n",
       "3       274282  \n",
       "4        31358  "
      ]
     },
     "execution_count": 21,
     "metadata": {},
     "output_type": "execute_result"
    }
   ],
   "source": [
    "genes_info.head()"
   ]
  },
  {
   "cell_type": "markdown",
   "id": "d3843e06",
   "metadata": {
    "papermill": {
     "duration": 0.005652,
     "end_time": "2023-08-30T04:00:22.681363",
     "exception": false,
     "start_time": "2023-08-30T04:00:22.675711",
     "status": "completed"
    },
    "tags": []
   },
   "source": [
    "# Compute correlations"
   ]
  },
  {
   "cell_type": "code",
   "execution_count": 22,
   "id": "cb859c15-d1f3-4006-a74c-2b83c0db9611",
   "metadata": {
    "execution": {
     "iopub.execute_input": "2023-08-30T04:00:22.693857Z",
     "iopub.status.busy": "2023-08-30T04:00:22.693649Z",
     "iopub.status.idle": "2023-08-30T04:00:22.713547Z",
     "shell.execute_reply": "2023-08-30T04:00:22.713132Z"
    },
    "papermill": {
     "duration": 0.027666,
     "end_time": "2023-08-30T04:00:22.714682",
     "exception": false,
     "start_time": "2023-08-30T04:00:22.687016",
     "status": "completed"
    },
    "tags": []
   },
   "outputs": [
    {
     "data": {
      "text/plain": [
       "PosixPath('/opt/data/projects/chronotype/results/gls_phenoplier/gene_corrs/chronotype/by_chr/gene_corrs-chr4.pkl')"
      ]
     },
     "metadata": {},
     "output_type": "display_data"
    }
   ],
   "source": [
    "output_dir = OUTPUT_DIR_BASE / \"by_chr\"\n",
    "output_dir.mkdir(exist_ok=True, parents=True)\n",
    "output_file = output_dir / f\"gene_corrs-chr{CHROMOSOME}.pkl\"\n",
    "display(output_file)"
   ]
  },
  {
   "cell_type": "code",
   "execution_count": 23,
   "id": "aa674fe4-6794-4eed-98fa-32b39d1d4ace",
   "metadata": {
    "execution": {
     "iopub.execute_input": "2023-08-30T04:00:22.732494Z",
     "iopub.status.busy": "2023-08-30T04:00:22.731968Z",
     "iopub.status.idle": "2023-08-30T04:00:22.757184Z",
     "shell.execute_reply": "2023-08-30T04:00:22.756779Z"
    },
    "papermill": {
     "duration": 0.035314,
     "end_time": "2023-08-30T04:00:22.758769",
     "exception": false,
     "start_time": "2023-08-30T04:00:22.723455",
     "status": "completed"
    },
    "tags": []
   },
   "outputs": [],
   "source": [
    "warnings.filterwarnings(\"error\")"
   ]
  },
  {
   "cell_type": "code",
   "execution_count": 24,
   "id": "44d5450b-3baf-43f1-9e2e-4b06f1a785f8",
   "metadata": {
    "execution": {
     "iopub.execute_input": "2023-08-30T04:00:22.777045Z",
     "iopub.status.busy": "2023-08-30T04:00:22.776781Z",
     "iopub.status.idle": "2023-08-30T04:00:22.796066Z",
     "shell.execute_reply": "2023-08-30T04:00:22.795616Z"
    },
    "papermill": {
     "duration": 0.030354,
     "end_time": "2023-08-30T04:00:22.797884",
     "exception": false,
     "start_time": "2023-08-30T04:00:22.767530",
     "status": "completed"
    },
    "tags": []
   },
   "outputs": [],
   "source": [
    "# standard checks\n",
    "all_chrs = genes_info[\"chr\"].dropna().unique()\n",
    "assert all_chrs.shape[0] == 22\n",
    "\n",
    "# select chromosome given by the user\n",
    "assert CHROMOSOME in all_chrs"
   ]
  },
  {
   "cell_type": "code",
   "execution_count": 25,
   "id": "2d7c043c-92a7-4d35-991b-fa69ac1e0268",
   "metadata": {
    "execution": {
     "iopub.execute_input": "2023-08-30T04:00:22.820545Z",
     "iopub.status.busy": "2023-08-30T04:00:22.820333Z",
     "iopub.status.idle": "2023-08-30T04:00:22.839462Z",
     "shell.execute_reply": "2023-08-30T04:00:22.838747Z"
    },
    "papermill": {
     "duration": 0.030344,
     "end_time": "2023-08-30T04:00:22.841089",
     "exception": false,
     "start_time": "2023-08-30T04:00:22.810745",
     "status": "completed"
    },
    "tags": []
   },
   "outputs": [
    {
     "name": "stdout",
     "output_type": "stream",
     "text": [
      "Number of genes in chromosome: 244\n"
     ]
    }
   ],
   "source": [
    "# run only on the chromosome specified\n",
    "all_chrs = [CHROMOSOME]\n",
    "genes_chr = genes_info[genes_info[\"chr\"] == CHROMOSOME]\n",
    "\n",
    "# For testing purposes\n",
    "# genes_chr = genes_chr.sample(n=20)\n",
    "\n",
    "print(f\"Number of genes in chromosome: {genes_chr.shape[0]}\", flush=True)"
   ]
  },
  {
   "cell_type": "code",
   "execution_count": 26,
   "id": "916015d8-2979-46d3-a9b9-1cf5a0932c6a",
   "metadata": {
    "execution": {
     "iopub.execute_input": "2023-08-30T04:00:22.865305Z",
     "iopub.status.busy": "2023-08-30T04:00:22.864764Z",
     "iopub.status.idle": "2023-08-30T04:00:22.889520Z",
     "shell.execute_reply": "2023-08-30T04:00:22.888797Z"
    },
    "papermill": {
     "duration": 0.03886,
     "end_time": "2023-08-30T04:00:22.891325",
     "exception": false,
     "start_time": "2023-08-30T04:00:22.852465",
     "status": "completed"
    },
    "tags": []
   },
   "outputs": [],
   "source": [
    "# sort genes by starting position to make visualizations better later\n",
    "genes_chr = genes_chr.sort_values(\"start_position\")"
   ]
  },
  {
   "cell_type": "code",
   "execution_count": 27,
   "id": "a38aa74a-8ad3-47f6-8ef9-56be0e011774",
   "metadata": {
    "execution": {
     "iopub.execute_input": "2023-08-30T04:00:22.916268Z",
     "iopub.status.busy": "2023-08-30T04:00:22.915735Z",
     "iopub.status.idle": "2023-08-30T04:00:22.943878Z",
     "shell.execute_reply": "2023-08-30T04:00:22.943102Z"
    },
    "papermill": {
     "duration": 0.043172,
     "end_time": "2023-08-30T04:00:22.945906",
     "exception": false,
     "start_time": "2023-08-30T04:00:22.902734",
     "status": "completed"
    },
    "tags": []
   },
   "outputs": [],
   "source": [
    "gene_chr_objs = [Gene(ensembl_id=gene_id) for gene_id in genes_chr[\"id\"]]"
   ]
  },
  {
   "cell_type": "code",
   "execution_count": 28,
   "id": "570f974f-13c3-42b6-ad3a-ce99ca885c1a",
   "metadata": {
    "execution": {
     "iopub.execute_input": "2023-08-30T04:00:22.971622Z",
     "iopub.status.busy": "2023-08-30T04:00:22.971379Z",
     "iopub.status.idle": "2023-08-30T04:00:22.990779Z",
     "shell.execute_reply": "2023-08-30T04:00:22.990358Z"
    },
    "papermill": {
     "duration": 0.033675,
     "end_time": "2023-08-30T04:00:22.991711",
     "exception": false,
     "start_time": "2023-08-30T04:00:22.958036",
     "status": "completed"
    },
    "tags": []
   },
   "outputs": [
    {
     "name": "stdout",
     "output_type": "stream",
     "text": [
      "Number of gene combinations: 29890\n"
     ]
    }
   ],
   "source": [
    "n = len(gene_chr_objs)\n",
    "# diagonal elements + upper triangular matrix\n",
    "n_comb = n + int(n * (n - 1) / 2.0)\n",
    "print(f\"Number of gene combinations: {n_comb}\", flush=True)"
   ]
  },
  {
   "cell_type": "code",
   "execution_count": 29,
   "id": "cdbb90a1",
   "metadata": {
    "execution": {
     "iopub.execute_input": "2023-08-30T04:00:23.005235Z",
     "iopub.status.busy": "2023-08-30T04:00:23.005006Z",
     "iopub.status.idle": "2023-08-30T04:03:23.094173Z",
     "shell.execute_reply": "2023-08-30T04:03:23.093582Z"
    },
    "papermill": {
     "duration": 180.096837,
     "end_time": "2023-08-30T04:03:23.095248",
     "exception": false,
     "start_time": "2023-08-30T04:00:22.998411",
     "status": "completed"
    },
    "tags": []
   },
   "outputs": [
    {
     "name": "stderr",
     "output_type": "stream",
     "text": [
      "ENSG00000109536 / ENSG00000109536: 100%|█████████████████████| 29890/29890 [03:00<00:00, 166.01it/s]\n"
     ]
    },
    {
     "data": {
      "text/plain": [
       "PosixPath('/opt/data/projects/chronotype/results/gls_phenoplier/gene_corrs/chronotype/by_chr/gene_corrs-chr4.pkl')"
      ]
     },
     "metadata": {},
     "output_type": "display_data"
    }
   ],
   "source": [
    "gene_corrs = []\n",
    "gene_corrs_data = np.full(\n",
    "    (n, n),\n",
    "    np.nan,\n",
    "    dtype=np.float64,\n",
    ")\n",
    "\n",
    "i = 0\n",
    "with tqdm(ncols=100, total=n_comb) as pbar:\n",
    "    for gene1_idx in range(0, len(gene_chr_objs)):\n",
    "        gene1_obj = gene_chr_objs[gene1_idx]\n",
    "        gene1_tissues = spredixcan_genes_models.loc[gene1_obj.ensembl_id, \"tissue\"]\n",
    "\n",
    "        for gene2_idx in range(gene1_idx, len(gene_chr_objs)):\n",
    "            gene2_obj = gene_chr_objs[gene2_idx]\n",
    "            gene2_tissues = spredixcan_genes_models.loc[gene2_obj.ensembl_id, \"tissue\"]\n",
    "\n",
    "            pbar.set_description(f\"{gene1_obj.ensembl_id} / {gene2_obj.ensembl_id}\")\n",
    "\n",
    "            try:\n",
    "                r = gene1_obj.get_ssm_correlation(\n",
    "                    other_gene=gene2_obj,\n",
    "                    tissues=gene1_tissues,\n",
    "                    other_tissues=gene2_tissues,\n",
    "                    snps_subset=gwas_variants_ids_set,\n",
    "                    condition_number=SMULTIXCAN_CONDITION_NUMBER,\n",
    "                    reference_panel=REFERENCE_PANEL,\n",
    "                    model_type=EQTL_MODEL,\n",
    "                    use_within_distance=COMPUTE_CORRELATIONS_WITHIN_DISTANCE,\n",
    "                )\n",
    "\n",
    "                if r is None:\n",
    "                    # if r is None, it's very likely because:\n",
    "                    #  * one of the genes has no prediction models\n",
    "                    #  * all the SNPs predictors for the gene are not present in the reference\n",
    "                    #    panel\n",
    "\n",
    "                    r = 0.0\n",
    "\n",
    "                gene_corrs.append(r)\n",
    "\n",
    "                gene_corrs_data[gene1_idx, gene2_idx] = r\n",
    "                gene_corrs_data[gene2_idx, gene1_idx] = r\n",
    "            except Warning as e:\n",
    "                if not DEBUG_MODE:\n",
    "                    raise e\n",
    "\n",
    "                print(\n",
    "                    f\"RuntimeWarning for genes {gene1_obj.ensembl_id} and {gene2_obj.ensembl_id}\",\n",
    "                    flush=True,\n",
    "                )\n",
    "                print(traceback.format_exc(), flush=True)\n",
    "\n",
    "                gene_corrs.append(np.nan)\n",
    "            except Exception as e:\n",
    "                if not DEBUG_MODE:\n",
    "                    raise e\n",
    "\n",
    "                print(\n",
    "                    f\"Exception for genes {gene1_obj.ensembl_id} and {gene2_obj.ensembl_id}\",\n",
    "                    flush=True,\n",
    "                )\n",
    "                print(traceback.format_exc(), flush=True)\n",
    "\n",
    "                gene_corrs.append(np.nan)\n",
    "\n",
    "            pbar.update(1)\n",
    "\n",
    "# create a pandas series\n",
    "gene_corrs_flat = pd.Series(gene_corrs)\n",
    "\n",
    "# save\n",
    "# FIXME: consider saving only the condenced matrix here. See here for\n",
    "# more details: https://github.com/greenelab/phenoplier/pull/38#discussion_r634600813\n",
    "# gene_corrs_data = squareform(np.array(gene_corrs, dtype=np.float64))\n",
    "# np.fill_diagonal(gene_corrs_data, 1.0)\n",
    "\n",
    "gene_chr_ids = [g.ensembl_id for g in gene_chr_objs]\n",
    "gene_corrs_df = pd.DataFrame(\n",
    "    data=gene_corrs_data,\n",
    "    index=gene_chr_ids,\n",
    "    columns=gene_chr_ids,\n",
    ")\n",
    "\n",
    "output_dir.mkdir(exist_ok=True, parents=True)\n",
    "display(output_file)\n",
    "\n",
    "gene_corrs_df.to_pickle(output_file)"
   ]
  },
  {
   "cell_type": "markdown",
   "id": "faa67b51-5373-470f-aa72-2ded53fa6dfe",
   "metadata": {
    "papermill": {
     "duration": 0.996368,
     "end_time": "2023-08-30T04:03:25.091049",
     "exception": false,
     "start_time": "2023-08-30T04:03:24.094681",
     "status": "completed"
    },
    "tags": []
   },
   "source": [
    "# Testing"
   ]
  },
  {
   "cell_type": "code",
   "execution_count": 30,
   "id": "14f7d046-4b55-4896-a56b-990127bcc388",
   "metadata": {
    "execution": {
     "iopub.execute_input": "2023-08-30T04:03:27.115450Z",
     "iopub.status.busy": "2023-08-30T04:03:27.115085Z",
     "iopub.status.idle": "2023-08-30T04:03:27.137426Z",
     "shell.execute_reply": "2023-08-30T04:03:27.136921Z"
    },
    "papermill": {
     "duration": 1.075568,
     "end_time": "2023-08-30T04:03:27.138726",
     "exception": false,
     "start_time": "2023-08-30T04:03:26.063158",
     "status": "completed"
    },
    "tags": []
   },
   "outputs": [
    {
     "data": {
      "text/plain": [
       "(244, 244)"
      ]
     },
     "execution_count": 30,
     "metadata": {},
     "output_type": "execute_result"
    }
   ],
   "source": [
    "gene_corrs_df.shape"
   ]
  },
  {
   "cell_type": "code",
   "execution_count": 31,
   "id": "c7d15414-3297-4537-a7c6-7588c0baeb75",
   "metadata": {
    "execution": {
     "iopub.execute_input": "2023-08-30T04:03:29.386659Z",
     "iopub.status.busy": "2023-08-30T04:03:29.386363Z",
     "iopub.status.idle": "2023-08-30T04:03:29.413302Z",
     "shell.execute_reply": "2023-08-30T04:03:29.412844Z"
    },
    "papermill": {
     "duration": 1.213269,
     "end_time": "2023-08-30T04:03:29.414204",
     "exception": false,
     "start_time": "2023-08-30T04:03:28.200935",
     "status": "completed"
    },
    "tags": []
   },
   "outputs": [
    {
     "data": {
      "text/html": [
       "<div>\n",
       "<style scoped>\n",
       "    .dataframe tbody tr th:only-of-type {\n",
       "        vertical-align: middle;\n",
       "    }\n",
       "\n",
       "    .dataframe tbody tr th {\n",
       "        vertical-align: top;\n",
       "    }\n",
       "\n",
       "    .dataframe thead th {\n",
       "        text-align: right;\n",
       "    }\n",
       "</style>\n",
       "<table border=\"1\" class=\"dataframe\">\n",
       "  <thead>\n",
       "    <tr style=\"text-align: right;\">\n",
       "      <th></th>\n",
       "      <th>ENSG00000272602</th>\n",
       "      <th>ENSG00000131127</th>\n",
       "      <th>ENSG00000174227</th>\n",
       "      <th>ENSG00000133256</th>\n",
       "      <th>ENSG00000169020</th>\n",
       "      <th>ENSG00000215375</th>\n",
       "      <th>ENSG00000169026</th>\n",
       "      <th>ENSG00000178950</th>\n",
       "      <th>ENSG00000145214</th>\n",
       "      <th>ENSG00000145217</th>\n",
       "      <th>...</th>\n",
       "      <th>ENSG00000109674</th>\n",
       "      <th>ENSG00000038002</th>\n",
       "      <th>ENSG00000129187</th>\n",
       "      <th>ENSG00000168310</th>\n",
       "      <th>ENSG00000164305</th>\n",
       "      <th>ENSG00000151726</th>\n",
       "      <th>ENSG00000151729</th>\n",
       "      <th>ENSG00000164342</th>\n",
       "      <th>ENSG00000164344</th>\n",
       "      <th>ENSG00000109536</th>\n",
       "    </tr>\n",
       "  </thead>\n",
       "  <tbody>\n",
       "    <tr>\n",
       "      <th>ENSG00000272602</th>\n",
       "      <td>1.000000</td>\n",
       "      <td>0.055217</td>\n",
       "      <td>0.168507</td>\n",
       "      <td>0.099181</td>\n",
       "      <td>0.096555</td>\n",
       "      <td>0.045839</td>\n",
       "      <td>0.058575</td>\n",
       "      <td>0.012272</td>\n",
       "      <td>0.006584</td>\n",
       "      <td>0.001559</td>\n",
       "      <td>...</td>\n",
       "      <td>0.0</td>\n",
       "      <td>0.0</td>\n",
       "      <td>0.0</td>\n",
       "      <td>0.0</td>\n",
       "      <td>0.0</td>\n",
       "      <td>0.0</td>\n",
       "      <td>0.0</td>\n",
       "      <td>0.0</td>\n",
       "      <td>0.0</td>\n",
       "      <td>0.0</td>\n",
       "    </tr>\n",
       "    <tr>\n",
       "      <th>ENSG00000131127</th>\n",
       "      <td>0.055217</td>\n",
       "      <td>1.000000</td>\n",
       "      <td>0.263330</td>\n",
       "      <td>0.071177</td>\n",
       "      <td>0.036538</td>\n",
       "      <td>0.034526</td>\n",
       "      <td>0.042024</td>\n",
       "      <td>0.007476</td>\n",
       "      <td>0.009562</td>\n",
       "      <td>0.002483</td>\n",
       "      <td>...</td>\n",
       "      <td>0.0</td>\n",
       "      <td>0.0</td>\n",
       "      <td>0.0</td>\n",
       "      <td>0.0</td>\n",
       "      <td>0.0</td>\n",
       "      <td>0.0</td>\n",
       "      <td>0.0</td>\n",
       "      <td>0.0</td>\n",
       "      <td>0.0</td>\n",
       "      <td>0.0</td>\n",
       "    </tr>\n",
       "    <tr>\n",
       "      <th>ENSG00000174227</th>\n",
       "      <td>0.168507</td>\n",
       "      <td>0.263330</td>\n",
       "      <td>1.000000</td>\n",
       "      <td>0.317910</td>\n",
       "      <td>0.158097</td>\n",
       "      <td>0.069939</td>\n",
       "      <td>0.100279</td>\n",
       "      <td>0.007931</td>\n",
       "      <td>0.008272</td>\n",
       "      <td>0.004041</td>\n",
       "      <td>...</td>\n",
       "      <td>0.0</td>\n",
       "      <td>0.0</td>\n",
       "      <td>0.0</td>\n",
       "      <td>0.0</td>\n",
       "      <td>0.0</td>\n",
       "      <td>0.0</td>\n",
       "      <td>0.0</td>\n",
       "      <td>0.0</td>\n",
       "      <td>0.0</td>\n",
       "      <td>0.0</td>\n",
       "    </tr>\n",
       "    <tr>\n",
       "      <th>ENSG00000133256</th>\n",
       "      <td>0.099181</td>\n",
       "      <td>0.071177</td>\n",
       "      <td>0.317910</td>\n",
       "      <td>1.000000</td>\n",
       "      <td>0.261069</td>\n",
       "      <td>0.202711</td>\n",
       "      <td>0.229258</td>\n",
       "      <td>0.018131</td>\n",
       "      <td>0.011481</td>\n",
       "      <td>0.002283</td>\n",
       "      <td>...</td>\n",
       "      <td>0.0</td>\n",
       "      <td>0.0</td>\n",
       "      <td>0.0</td>\n",
       "      <td>0.0</td>\n",
       "      <td>0.0</td>\n",
       "      <td>0.0</td>\n",
       "      <td>0.0</td>\n",
       "      <td>0.0</td>\n",
       "      <td>0.0</td>\n",
       "      <td>0.0</td>\n",
       "    </tr>\n",
       "    <tr>\n",
       "      <th>ENSG00000169020</th>\n",
       "      <td>0.096555</td>\n",
       "      <td>0.036538</td>\n",
       "      <td>0.158097</td>\n",
       "      <td>0.261069</td>\n",
       "      <td>1.000000</td>\n",
       "      <td>0.153616</td>\n",
       "      <td>0.232199</td>\n",
       "      <td>0.006056</td>\n",
       "      <td>0.006638</td>\n",
       "      <td>0.001911</td>\n",
       "      <td>...</td>\n",
       "      <td>0.0</td>\n",
       "      <td>0.0</td>\n",
       "      <td>0.0</td>\n",
       "      <td>0.0</td>\n",
       "      <td>0.0</td>\n",
       "      <td>0.0</td>\n",
       "      <td>0.0</td>\n",
       "      <td>0.0</td>\n",
       "      <td>0.0</td>\n",
       "      <td>0.0</td>\n",
       "    </tr>\n",
       "  </tbody>\n",
       "</table>\n",
       "<p>5 rows × 244 columns</p>\n",
       "</div>"
      ],
      "text/plain": [
       "                 ENSG00000272602  ENSG00000131127  ENSG00000174227  \\\n",
       "ENSG00000272602         1.000000         0.055217         0.168507   \n",
       "ENSG00000131127         0.055217         1.000000         0.263330   \n",
       "ENSG00000174227         0.168507         0.263330         1.000000   \n",
       "ENSG00000133256         0.099181         0.071177         0.317910   \n",
       "ENSG00000169020         0.096555         0.036538         0.158097   \n",
       "\n",
       "                 ENSG00000133256  ENSG00000169020  ENSG00000215375  \\\n",
       "ENSG00000272602         0.099181         0.096555         0.045839   \n",
       "ENSG00000131127         0.071177         0.036538         0.034526   \n",
       "ENSG00000174227         0.317910         0.158097         0.069939   \n",
       "ENSG00000133256         1.000000         0.261069         0.202711   \n",
       "ENSG00000169020         0.261069         1.000000         0.153616   \n",
       "\n",
       "                 ENSG00000169026  ENSG00000178950  ENSG00000145214  \\\n",
       "ENSG00000272602         0.058575         0.012272         0.006584   \n",
       "ENSG00000131127         0.042024         0.007476         0.009562   \n",
       "ENSG00000174227         0.100279         0.007931         0.008272   \n",
       "ENSG00000133256         0.229258         0.018131         0.011481   \n",
       "ENSG00000169020         0.232199         0.006056         0.006638   \n",
       "\n",
       "                 ENSG00000145217  ...  ENSG00000109674  ENSG00000038002  \\\n",
       "ENSG00000272602         0.001559  ...              0.0              0.0   \n",
       "ENSG00000131127         0.002483  ...              0.0              0.0   \n",
       "ENSG00000174227         0.004041  ...              0.0              0.0   \n",
       "ENSG00000133256         0.002283  ...              0.0              0.0   \n",
       "ENSG00000169020         0.001911  ...              0.0              0.0   \n",
       "\n",
       "                 ENSG00000129187  ENSG00000168310  ENSG00000164305  \\\n",
       "ENSG00000272602              0.0              0.0              0.0   \n",
       "ENSG00000131127              0.0              0.0              0.0   \n",
       "ENSG00000174227              0.0              0.0              0.0   \n",
       "ENSG00000133256              0.0              0.0              0.0   \n",
       "ENSG00000169020              0.0              0.0              0.0   \n",
       "\n",
       "                 ENSG00000151726  ENSG00000151729  ENSG00000164342  \\\n",
       "ENSG00000272602              0.0              0.0              0.0   \n",
       "ENSG00000131127              0.0              0.0              0.0   \n",
       "ENSG00000174227              0.0              0.0              0.0   \n",
       "ENSG00000133256              0.0              0.0              0.0   \n",
       "ENSG00000169020              0.0              0.0              0.0   \n",
       "\n",
       "                 ENSG00000164344  ENSG00000109536  \n",
       "ENSG00000272602              0.0              0.0  \n",
       "ENSG00000131127              0.0              0.0  \n",
       "ENSG00000174227              0.0              0.0  \n",
       "ENSG00000133256              0.0              0.0  \n",
       "ENSG00000169020              0.0              0.0  \n",
       "\n",
       "[5 rows x 244 columns]"
      ]
     },
     "execution_count": 31,
     "metadata": {},
     "output_type": "execute_result"
    }
   ],
   "source": [
    "gene_corrs_df.head()"
   ]
  },
  {
   "cell_type": "markdown",
   "id": "dad6603f-01c6-41fb-a6f6-241051207dd8",
   "metadata": {
    "papermill": {
     "duration": 0.956878,
     "end_time": "2023-08-30T04:03:31.317879",
     "exception": false,
     "start_time": "2023-08-30T04:03:30.361001",
     "status": "completed"
    },
    "tags": []
   },
   "source": [
    "## Standard checks and stats"
   ]
  },
  {
   "cell_type": "code",
   "execution_count": 32,
   "id": "286686af-1b7b-4440-8453-6bdcbd8de19c",
   "metadata": {
    "execution": {
     "iopub.execute_input": "2023-08-30T04:03:33.377169Z",
     "iopub.status.busy": "2023-08-30T04:03:33.376722Z",
     "iopub.status.idle": "2023-08-30T04:03:33.412075Z",
     "shell.execute_reply": "2023-08-30T04:03:33.411154Z"
    },
    "papermill": {
     "duration": 1.055239,
     "end_time": "2023-08-30T04:03:33.413567",
     "exception": false,
     "start_time": "2023-08-30T04:03:32.358328",
     "status": "completed"
    },
    "tags": []
   },
   "outputs": [],
   "source": [
    "assert not gene_corrs_df.isna().any(axis=None)"
   ]
  },
  {
   "cell_type": "code",
   "execution_count": 33,
   "id": "00583efc-7068-4270-ad1e-4a418e91db96",
   "metadata": {
    "execution": {
     "iopub.execute_input": "2023-08-30T04:03:35.372580Z",
     "iopub.status.busy": "2023-08-30T04:03:35.372345Z",
     "iopub.status.idle": "2023-08-30T04:03:35.388914Z",
     "shell.execute_reply": "2023-08-30T04:03:35.388508Z"
    },
    "papermill": {
     "duration": 0.995508,
     "end_time": "2023-08-30T04:03:35.389741",
     "exception": false,
     "start_time": "2023-08-30T04:03:34.394233",
     "status": "completed"
    },
    "tags": []
   },
   "outputs": [
    {
     "data": {
      "text/plain": [
       "0.0"
      ]
     },
     "metadata": {},
     "output_type": "display_data"
    }
   ],
   "source": [
    "_min_val = gene_corrs_df.min().min()\n",
    "display(_min_val)\n",
    "assert _min_val >= -0.05"
   ]
  },
  {
   "cell_type": "code",
   "execution_count": 34,
   "id": "d04fb2cf-1050-475b-b855-f5f7cc04092b",
   "metadata": {
    "execution": {
     "iopub.execute_input": "2023-08-30T04:03:37.375897Z",
     "iopub.status.busy": "2023-08-30T04:03:37.375567Z",
     "iopub.status.idle": "2023-08-30T04:03:37.392724Z",
     "shell.execute_reply": "2023-08-30T04:03:37.391772Z"
    },
    "papermill": {
     "duration": 0.994144,
     "end_time": "2023-08-30T04:03:37.393894",
     "exception": false,
     "start_time": "2023-08-30T04:03:36.399750",
     "status": "completed"
    },
    "tags": []
   },
   "outputs": [
    {
     "data": {
      "text/plain": [
       "1.000000000000003"
      ]
     },
     "metadata": {},
     "output_type": "display_data"
    }
   ],
   "source": [
    "_max_val = gene_corrs_df.max().max()  # this captures the diagonal\n",
    "display(_max_val)\n",
    "assert _max_val <= 1.05"
   ]
  },
  {
   "cell_type": "code",
   "execution_count": 35,
   "id": "fe283586-c348-40e0-8841-f6d97bfb021c",
   "metadata": {
    "execution": {
     "iopub.execute_input": "2023-08-30T04:03:39.726373Z",
     "iopub.status.busy": "2023-08-30T04:03:39.726003Z",
     "iopub.status.idle": "2023-08-30T04:03:39.749749Z",
     "shell.execute_reply": "2023-08-30T04:03:39.749322Z"
    },
    "papermill": {
     "duration": 1.002758,
     "end_time": "2023-08-30T04:03:39.750622",
     "exception": false,
     "start_time": "2023-08-30T04:03:38.747864",
     "status": "completed"
    },
    "tags": []
   },
   "outputs": [
    {
     "data": {
      "text/plain": [
       "count    29890.000000\n",
       "mean         0.009915\n",
       "std          0.092558\n",
       "min          0.000000\n",
       "25%          0.000000\n",
       "50%          0.000000\n",
       "75%          0.000000\n",
       "max          1.000000\n",
       "dtype: float64"
      ]
     },
     "execution_count": 35,
     "metadata": {},
     "output_type": "execute_result"
    }
   ],
   "source": [
    "gene_corrs_flat.describe()"
   ]
  },
  {
   "cell_type": "code",
   "execution_count": 36,
   "id": "b3815678-0f93-4b35-897b-a9d047a2aa78",
   "metadata": {
    "execution": {
     "iopub.execute_input": "2023-08-30T04:03:41.731397Z",
     "iopub.status.busy": "2023-08-30T04:03:41.730829Z",
     "iopub.status.idle": "2023-08-30T04:03:41.748325Z",
     "shell.execute_reply": "2023-08-30T04:03:41.747883Z"
    },
    "papermill": {
     "duration": 0.98369,
     "end_time": "2023-08-30T04:03:41.749297",
     "exception": false,
     "start_time": "2023-08-30T04:03:40.765607",
     "status": "completed"
    },
    "tags": []
   },
   "outputs": [
    {
     "data": {
      "text/plain": [
       "0.00    0.000000\n",
       "0.05    0.000000\n",
       "0.10    0.000000\n",
       "0.15    0.000000\n",
       "0.20    0.000000\n",
       "0.25    0.000000\n",
       "0.30    0.000000\n",
       "0.35    0.000000\n",
       "0.40    0.000000\n",
       "0.45    0.000000\n",
       "0.50    0.000000\n",
       "0.55    0.000000\n",
       "0.60    0.000000\n",
       "0.65    0.000000\n",
       "0.70    0.000000\n",
       "0.75    0.000000\n",
       "0.80    0.000000\n",
       "0.85    0.000000\n",
       "0.90    0.000000\n",
       "0.95    0.005754\n",
       "dtype: float64"
      ]
     },
     "metadata": {},
     "output_type": "display_data"
    }
   ],
   "source": [
    "gene_corrs_quantiles = gene_corrs_flat.quantile(np.arange(0, 1, 0.05))\n",
    "display(gene_corrs_quantiles)"
   ]
  },
  {
   "cell_type": "markdown",
   "id": "87134509-b145-4a10-8bc9-b7e914c2b0fa",
   "metadata": {
    "papermill": {
     "duration": 1.111799,
     "end_time": "2023-08-30T04:03:43.939303",
     "exception": false,
     "start_time": "2023-08-30T04:03:42.827504",
     "status": "completed"
    },
    "tags": []
   },
   "source": [
    "## Positive definiteness"
   ]
  },
  {
   "cell_type": "code",
   "execution_count": 37,
   "id": "07d9a9a1-a4f7-48aa-b916-6d42a8cc6186",
   "metadata": {
    "execution": {
     "iopub.execute_input": "2023-08-30T04:03:45.925462Z",
     "iopub.status.busy": "2023-08-30T04:03:45.925200Z",
     "iopub.status.idle": "2023-08-30T04:03:45.962119Z",
     "shell.execute_reply": "2023-08-30T04:03:45.961432Z"
    },
    "papermill": {
     "duration": 1.040514,
     "end_time": "2023-08-30T04:03:45.963112",
     "exception": false,
     "start_time": "2023-08-30T04:03:44.922598",
     "status": "completed"
    },
    "tags": []
   },
   "outputs": [
    {
     "data": {
      "text/plain": [
       "0"
      ]
     },
     "metadata": {},
     "output_type": "display_data"
    },
    {
     "data": {
      "text/plain": [
       "array([], dtype=float64)"
      ]
     },
     "metadata": {},
     "output_type": "display_data"
    }
   ],
   "source": [
    "# print negative eigenvalues\n",
    "eigs = np.linalg.eigvals(gene_corrs_df.to_numpy())\n",
    "display(len(eigs[eigs < 0]))\n",
    "display(eigs[eigs < 0])"
   ]
  },
  {
   "cell_type": "code",
   "execution_count": 38,
   "id": "6e218436-c3c5-4028-8c94-a4fa6260efce",
   "metadata": {
    "execution": {
     "iopub.execute_input": "2023-08-30T04:03:48.078123Z",
     "iopub.status.busy": "2023-08-30T04:03:48.077752Z",
     "iopub.status.idle": "2023-08-30T04:03:48.121646Z",
     "shell.execute_reply": "2023-08-30T04:03:48.120784Z"
    },
    "papermill": {
     "duration": 1.137402,
     "end_time": "2023-08-30T04:03:48.123429",
     "exception": false,
     "start_time": "2023-08-30T04:03:46.986027",
     "status": "completed"
    },
    "tags": []
   },
   "outputs": [
    {
     "name": "stdout",
     "output_type": "stream",
     "text": [
      "Works!\n"
     ]
    }
   ],
   "source": [
    "try:\n",
    "    chol_mat = np.linalg.cholesky(gene_corrs_df.to_numpy())\n",
    "    cov_inv = np.linalg.inv(chol_mat)\n",
    "    print(\"Works!\")\n",
    "except Exception as e:\n",
    "    print(f\"Cholesky decomposition failed: {str(e)}\")"
   ]
  },
  {
   "cell_type": "code",
   "execution_count": 39,
   "id": "dd8827fb-faf9-4c7c-9454-015e94752706",
   "metadata": {
    "execution": {
     "iopub.execute_input": "2023-08-30T04:03:50.173632Z",
     "iopub.status.busy": "2023-08-30T04:03:50.172962Z",
     "iopub.status.idle": "2023-08-30T04:03:50.203127Z",
     "shell.execute_reply": "2023-08-30T04:03:50.202381Z"
    },
    "papermill": {
     "duration": 1.032075,
     "end_time": "2023-08-30T04:03:50.204192",
     "exception": false,
     "start_time": "2023-08-30T04:03:49.172117",
     "status": "completed"
    },
    "tags": []
   },
   "outputs": [
    {
     "name": "stdout",
     "output_type": "stream",
     "text": [
      "Works!\n"
     ]
    }
   ],
   "source": [
    "try:\n",
    "    # decomposition used by statsmodels.GLS\n",
    "    cholsigmainv = np.linalg.cholesky(np.linalg.inv(gene_corrs_df.to_numpy())).T\n",
    "    print(\"Works!\")\n",
    "except Exception as e:\n",
    "    print(f\"Cholesky decomposition failed (statsmodels.GLS): {str(e)}\")"
   ]
  },
  {
   "cell_type": "markdown",
   "id": "8e60a080-edb2-4e9c-b2ef-22961693200c",
   "metadata": {
    "papermill": {
     "duration": 1.005861,
     "end_time": "2023-08-30T04:03:52.148696",
     "exception": false,
     "start_time": "2023-08-30T04:03:51.142835",
     "status": "completed"
    },
    "tags": []
   },
   "source": [
    "## Plot: distribution"
   ]
  },
  {
   "cell_type": "code",
   "execution_count": 40,
   "id": "8301126b-a7d4-4744-9c7d-f0f86eb6f54c",
   "metadata": {
    "execution": {
     "iopub.execute_input": "2023-08-30T04:03:54.281410Z",
     "iopub.status.busy": "2023-08-30T04:03:54.281104Z",
     "iopub.status.idle": "2023-08-30T04:03:54.626675Z",
     "shell.execute_reply": "2023-08-30T04:03:54.626108Z"
    },
    "papermill": {
     "duration": 1.377278,
     "end_time": "2023-08-30T04:03:54.627638",
     "exception": false,
     "start_time": "2023-08-30T04:03:53.250360",
     "status": "completed"
    },
    "tags": []
   },
   "outputs": [
    {
     "data": {
      "image/png": "[encoded data removed]",
      "text/plain": [
       "<Figure size 700x700 with 1 Axes>"
      ]
     },
     "metadata": {},
     "output_type": "display_data"
    }
   ],
   "source": [
    "with sns.plotting_context(\"paper\", font_scale=1.5):\n",
    "    g = sns.displot(gene_corrs_flat, kde=True, height=7)\n",
    "    g.ax.set_title(\n",
    "        f\"Distribution of gene correlation values in chromosome {CHROMOSOME}\"\n",
    "    )"
   ]
  },
  {
   "cell_type": "markdown",
   "id": "cbd52bca-d878-4a2f-b684-5c83aa3038d4",
   "metadata": {
    "papermill": {
     "duration": 1.230625,
     "end_time": "2023-08-30T04:03:56.931486",
     "exception": false,
     "start_time": "2023-08-30T04:03:55.700861",
     "status": "completed"
    },
    "tags": []
   },
   "source": [
    "## Plot: heatmap"
   ]
  },
  {
   "cell_type": "code",
   "execution_count": 41,
   "id": "d03fe63a-c7b2-4fb9-a53c-db362ce843c9",
   "metadata": {
    "execution": {
     "iopub.execute_input": "2023-08-30T04:03:58.925159Z",
     "iopub.status.busy": "2023-08-30T04:03:58.924812Z",
     "iopub.status.idle": "2023-08-30T04:03:58.952194Z",
     "shell.execute_reply": "2023-08-30T04:03:58.951576Z"
    },
    "papermill": {
     "duration": 1.014139,
     "end_time": "2023-08-30T04:03:58.953182",
     "exception": false,
     "start_time": "2023-08-30T04:03:57.939043",
     "status": "completed"
    },
    "tags": []
   },
   "outputs": [
    {
     "data": {
      "text/plain": [
       "'0.0 / 0.05'"
      ]
     },
     "metadata": {},
     "output_type": "display_data"
    }
   ],
   "source": [
    "vmin_val = min(0.00, gene_corrs_quantiles[0.10])\n",
    "vmax_val = max(0.05, gene_corrs_quantiles[0.90])\n",
    "display(f\"{vmin_val} / {vmax_val}\")"
   ]
  },
  {
   "cell_type": "code",
   "execution_count": 42,
   "id": "dc41b70b-5bcc-4d9e-9f33-a22c4a94dab5",
   "metadata": {
    "execution": {
     "iopub.execute_input": "2023-08-30T04:04:00.874278Z",
     "iopub.status.busy": "2023-08-30T04:04:00.874040Z",
     "iopub.status.idle": "2023-08-30T04:04:01.094544Z",
     "shell.execute_reply": "2023-08-30T04:04:01.094115Z"
    },
    "papermill": {
     "duration": 1.150202,
     "end_time": "2023-08-30T04:04:01.096363",
     "exception": false,
     "start_time": "2023-08-30T04:03:59.946161",
     "status": "completed"
    },
    "tags": []
   },
   "outputs": [
    {
     "data": {
      "text/plain": [
       "Text(0.5, 1.0, 'Gene correlations in chromosome 4')"
      ]
     },
     "execution_count": 42,
     "metadata": {},
     "output_type": "execute_result"
    },
    {
     "data": {
      "image/png": "[encoded data removed]",
      "text/plain": [
       "<Figure size 1000x1000 with 2 Axes>"
      ]
     },
     "metadata": {},
     "output_type": "display_data"
    }
   ],
   "source": [
    "f, ax = plt.subplots(figsize=(10, 10))\n",
    "sns.heatmap(\n",
    "    gene_corrs_df,\n",
    "    xticklabels=False,\n",
    "    yticklabels=False,\n",
    "    square=True,\n",
    "    vmin=vmin_val,\n",
    "    vmax=vmax_val,\n",
    "    cmap=\"rocket_r\",\n",
    "    ax=ax,\n",
    ")\n",
    "ax.set_title(f\"Gene correlations in chromosome {CHROMOSOME}\")"
   ]
  },
  {
   "cell_type": "code",
   "execution_count": null,
   "id": "b25e3ead",
   "metadata": {
    "papermill": {
     "duration": 1.439861,
     "end_time": "2023-08-30T04:04:03.518195",
     "exception": false,
     "start_time": "2023-08-30T04:04:02.078334",
     "status": "completed"
    },
    "tags": []
   },
   "outputs": [],
   "source": []
  }
 ],
 "metadata": {
  "jupytext": {
   "cell_metadata_filter": "all,-execution,-papermill,-trusted",
   "formats": "ipynb,py//py:percent"
  },
  "kernelspec": {
   "display_name": "Python 3 (ipykernel)",
   "language": "python",
   "name": "python3"
  },
  "language_info": {
   "codemirror_mode": {
    "name": "ipython",
    "version": 3
   },
   "file_extension": ".py",
   "mimetype": "text/x-python",
   "name": "python",
   "nbconvert_exporter": "python",
   "pygments_lexer": "ipython3",
   "version": "3.10.6"
  },
  "papermill": {
   "default_parameters": {},
   "duration": 237.110534,
   "end_time": "2023-08-30T04:04:08.197335",
   "environment_variables": {},
   "exception": null,
   "input_path": "projects/chronotype/nbs/20_gene_corrs/jobs/05-gene_expr_correlations.ipynb",
   "output_path": "projects/chronotype/nbs/20_gene_corrs/jobs/../output/chronotype/05-gene_expr_correlations-chr4.run.ipynb",
   "parameters": {
    "CHROMOSOME": 4,
    "COHORT_NAME": "chronotype",
    "OUTPUT_DIR_BASE": "/opt/data/projects/chronotype/results/gls_phenoplier",
    "PHENOPLIER_NOTEBOOK_FILEPATH": "projects/chronotype/nbs/20_gene_corrs/jobs/05-gene_expr_correlations.ipynb"
   },
   "start_time": "2023-08-30T04:00:11.086801",
   "version": "2.2.2"
  }
 },
 "nbformat": 4,
 "nbformat_minor": 5
}
