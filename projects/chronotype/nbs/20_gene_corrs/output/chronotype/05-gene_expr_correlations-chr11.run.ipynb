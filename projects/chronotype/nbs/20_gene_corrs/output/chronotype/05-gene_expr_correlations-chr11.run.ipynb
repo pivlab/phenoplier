{
 "cells": [
  {
   "cell_type": "markdown",
   "id": "7a6632fb",
   "metadata": {
    "papermill": {
     "duration": 0.008853,
     "end_time": "2023-08-30T04:00:12.069654",
     "exception": false,
     "start_time": "2023-08-30T04:00:12.060801",
     "status": "completed"
    },
    "tags": []
   },
   "source": [
    "# Description"
   ]
  },
  {
   "cell_type": "markdown",
   "id": "7097c346",
   "metadata": {
    "papermill": {
     "duration": 0.008264,
     "end_time": "2023-08-30T04:00:12.085884",
     "exception": false,
     "start_time": "2023-08-30T04:00:12.077620",
     "status": "completed"
    },
    "tags": []
   },
   "source": [
    "This notebook computes predicted expression correlations between all genes in the MultiPLIER models.\n",
    "\n",
    "It has specicfic parameters for papermill (see under `Settings` below).\n",
    "\n",
    "This notebook should not be directly run. It is used by other notebooks."
   ]
  },
  {
   "cell_type": "markdown",
   "id": "c61d8427",
   "metadata": {
    "papermill": {
     "duration": 0.013049,
     "end_time": "2023-08-30T04:00:12.109441",
     "exception": false,
     "start_time": "2023-08-30T04:00:12.096392",
     "status": "completed"
    },
    "tags": []
   },
   "source": [
    "# Modules"
   ]
  },
  {
   "cell_type": "code",
   "execution_count": 1,
   "id": "bbc0234f",
   "metadata": {
    "execution": {
     "iopub.execute_input": "2023-08-30T04:00:12.132354Z",
     "iopub.status.busy": "2023-08-30T04:00:12.132038Z",
     "iopub.status.idle": "2023-08-30T04:00:12.156469Z",
     "shell.execute_reply": "2023-08-30T04:00:12.155759Z"
    },
    "papermill": {
     "duration": 0.037537,
     "end_time": "2023-08-30T04:00:12.159181",
     "exception": false,
     "start_time": "2023-08-30T04:00:12.121644",
     "status": "completed"
    },
    "tags": []
   },
   "outputs": [],
   "source": [
    "%load_ext autoreload\n",
    "%autoreload 2"
   ]
  },
  {
   "cell_type": "code",
   "execution_count": 2,
   "id": "1d5f5a59",
   "metadata": {
    "execution": {
     "iopub.execute_input": "2023-08-30T04:00:12.188279Z",
     "iopub.status.busy": "2023-08-30T04:00:12.187704Z",
     "iopub.status.idle": "2023-08-30T04:00:12.969749Z",
     "shell.execute_reply": "2023-08-30T04:00:12.969386Z"
    },
    "papermill": {
     "duration": 0.799035,
     "end_time": "2023-08-30T04:00:12.971605",
     "exception": false,
     "start_time": "2023-08-30T04:00:12.172570",
     "status": "completed"
    },
    "tags": []
   },
   "outputs": [],
   "source": [
    "from random import sample, seed\n",
    "import warnings\n",
    "from pathlib import Path\n",
    "import pickle\n",
    "import traceback\n",
    "\n",
    "import numpy as np\n",
    "from scipy.spatial.distance import squareform\n",
    "import pandas as pd\n",
    "from tqdm import tqdm\n",
    "import matplotlib.pyplot as plt\n",
    "import seaborn as sns\n",
    "\n",
    "import conf\n",
    "from entity import Gene"
   ]
  },
  {
   "cell_type": "markdown",
   "id": "1eac24b5",
   "metadata": {
    "papermill": {
     "duration": 0.015116,
     "end_time": "2023-08-30T04:00:13.002363",
     "exception": false,
     "start_time": "2023-08-30T04:00:12.987247",
     "status": "completed"
    },
    "tags": []
   },
   "source": [
    "# Settings"
   ]
  },
  {
   "cell_type": "code",
   "execution_count": 3,
   "id": "ca4560ba",
   "metadata": {
    "execution": {
     "iopub.execute_input": "2023-08-30T04:00:13.023824Z",
     "iopub.status.busy": "2023-08-30T04:00:13.023608Z",
     "iopub.status.idle": "2023-08-30T04:00:13.050805Z",
     "shell.execute_reply": "2023-08-30T04:00:13.050382Z"
    },
    "papermill": {
     "duration": 0.038002,
     "end_time": "2023-08-30T04:00:13.052239",
     "exception": false,
     "start_time": "2023-08-30T04:00:13.014237",
     "status": "completed"
    },
    "tags": [
     "parameters"
    ]
   },
   "outputs": [],
   "source": [
    "# a cohort name (it could be something like UK_BIOBANK, etc)\n",
    "COHORT_NAME = None\n",
    "\n",
    "# reference panel such as 1000G or GTEX_V8\n",
    "REFERENCE_PANEL = \"GTEX_V8\"\n",
    "\n",
    "# predictions models such as MASHR or ELASTIC_NET\n",
    "EQTL_MODEL = \"MASHR\"\n",
    "\n",
    "# this is the default value used in S-MultiXcan to select the\n",
    "# top principal components of the expression correlation matrix\n",
    "SMULTIXCAN_CONDITION_NUMBER = 30\n",
    "\n",
    "# specifies a single chromosome value\n",
    "CHROMOSOME = None\n",
    "\n",
    "# If True, computes the correlation between closeby genes only (see\n",
    "# entity.Gene.within_distance for more details). Otherwise, it computes\n",
    "# correlations for all genes in a chromosome\n",
    "COMPUTE_CORRELATIONS_WITHIN_DISTANCE = True\n",
    "\n",
    "# if True, then it will continue if a gene pair correlation fails,\n",
    "# printing the warning/error for debugging. If False, any warning/error\n",
    "# will be thrown\n",
    "DEBUG_MODE = False\n",
    "\n",
    "# output dir\n",
    "OUTPUT_DIR_BASE = None"
   ]
  },
  {
   "cell_type": "code",
   "execution_count": 4,
   "id": "897164c5",
   "metadata": {
    "execution": {
     "iopub.execute_input": "2023-08-30T04:00:13.067126Z",
     "iopub.status.busy": "2023-08-30T04:00:13.066827Z",
     "iopub.status.idle": "2023-08-30T04:00:13.093956Z",
     "shell.execute_reply": "2023-08-30T04:00:13.093543Z"
    },
    "papermill": {
     "duration": 0.035928,
     "end_time": "2023-08-30T04:00:13.095314",
     "exception": false,
     "start_time": "2023-08-30T04:00:13.059386",
     "status": "completed"
    },
    "tags": [
     "injected-parameters"
    ]
   },
   "outputs": [],
   "source": [
    "# Parameters\n",
    "PHENOPLIER_NOTEBOOK_FILEPATH = (\n",
    "    \"projects/chronotype/nbs/20_gene_corrs/jobs/05-gene_expr_correlations.ipynb\"\n",
    ")\n",
    "COHORT_NAME = \"chronotype\"\n",
    "CHROMOSOME = 11\n",
    "OUTPUT_DIR_BASE = \"/opt/data/projects/chronotype/results/gls_phenoplier\"\n"
   ]
  },
  {
   "cell_type": "code",
   "execution_count": 5,
   "id": "3190631f-27fc-480f-b18e-571d580425a5",
   "metadata": {
    "execution": {
     "iopub.execute_input": "2023-08-30T04:00:13.110746Z",
     "iopub.status.busy": "2023-08-30T04:00:13.110341Z",
     "iopub.status.idle": "2023-08-30T04:00:13.149940Z",
     "shell.execute_reply": "2023-08-30T04:00:13.149413Z"
    },
    "papermill": {
     "duration": 0.048615,
     "end_time": "2023-08-30T04:00:13.151161",
     "exception": false,
     "start_time": "2023-08-30T04:00:13.102546",
     "status": "completed"
    },
    "tags": []
   },
   "outputs": [
    {
     "data": {
      "text/plain": [
       "'Cohort name: chronotype'"
      ]
     },
     "metadata": {},
     "output_type": "display_data"
    }
   ],
   "source": [
    "assert COHORT_NAME is not None and len(COHORT_NAME) > 0, \"A cohort name must be given\"\n",
    "\n",
    "COHORT_NAME = COHORT_NAME.lower()\n",
    "display(f\"Cohort name: {COHORT_NAME}\")"
   ]
  },
  {
   "cell_type": "code",
   "execution_count": 6,
   "id": "f53ba19b-0f93-4fa2-a047-63b375939d1a",
   "metadata": {
    "execution": {
     "iopub.execute_input": "2023-08-30T04:00:13.162810Z",
     "iopub.status.busy": "2023-08-30T04:00:13.162452Z",
     "iopub.status.idle": "2023-08-30T04:00:13.189837Z",
     "shell.execute_reply": "2023-08-30T04:00:13.189529Z"
    },
    "papermill": {
     "duration": 0.033916,
     "end_time": "2023-08-30T04:00:13.190846",
     "exception": false,
     "start_time": "2023-08-30T04:00:13.156930",
     "status": "completed"
    },
    "tags": []
   },
   "outputs": [
    {
     "data": {
      "text/plain": [
       "'Reference panel: GTEX_V8'"
      ]
     },
     "metadata": {},
     "output_type": "display_data"
    }
   ],
   "source": [
    "assert (\n",
    "    REFERENCE_PANEL is not None and len(REFERENCE_PANEL) > 0\n",
    "), \"A reference panel must be given\"\n",
    "\n",
    "display(f\"Reference panel: {REFERENCE_PANEL}\")"
   ]
  },
  {
   "cell_type": "code",
   "execution_count": 7,
   "id": "e024d130-c139-429a-9c6e-ccf149e297b0",
   "metadata": {
    "execution": {
     "iopub.execute_input": "2023-08-30T04:00:13.201316Z",
     "iopub.status.busy": "2023-08-30T04:00:13.200874Z",
     "iopub.status.idle": "2023-08-30T04:00:13.227414Z",
     "shell.execute_reply": "2023-08-30T04:00:13.227110Z"
    },
    "papermill": {
     "duration": 0.032838,
     "end_time": "2023-08-30T04:00:13.228509",
     "exception": false,
     "start_time": "2023-08-30T04:00:13.195671",
     "status": "completed"
    },
    "tags": []
   },
   "outputs": [
    {
     "data": {
      "text/plain": [
       "'eQTL model: MASHR) / mashr_'"
      ]
     },
     "metadata": {},
     "output_type": "display_data"
    }
   ],
   "source": [
    "assert (\n",
    "    EQTL_MODEL is not None and len(EQTL_MODEL) > 0\n",
    "), \"A prediction/eQTL model must be given\"\n",
    "\n",
    "EQTL_MODEL_FILES_PREFIX = conf.PHENOMEXCAN[\"PREDICTION_MODELS\"][f\"{EQTL_MODEL}_PREFIX\"]\n",
    "display(f\"eQTL model: {EQTL_MODEL}) / {EQTL_MODEL_FILES_PREFIX}\")"
   ]
  },
  {
   "cell_type": "code",
   "execution_count": 8,
   "id": "552a7f63-a18c-4d3e-bb6a-94f99b431291",
   "metadata": {
    "execution": {
     "iopub.execute_input": "2023-08-30T04:00:13.240108Z",
     "iopub.status.busy": "2023-08-30T04:00:13.239929Z",
     "iopub.status.idle": "2023-08-30T04:00:13.271543Z",
     "shell.execute_reply": "2023-08-30T04:00:13.270980Z"
    },
    "papermill": {
     "duration": 0.037834,
     "end_time": "2023-08-30T04:00:13.272391",
     "exception": false,
     "start_time": "2023-08-30T04:00:13.234557",
     "status": "completed"
    },
    "tags": []
   },
   "outputs": [
    {
     "data": {
      "text/plain": [
       "'S-MultiXcan condition number: 30'"
      ]
     },
     "metadata": {},
     "output_type": "display_data"
    }
   ],
   "source": [
    "assert (\n",
    "    SMULTIXCAN_CONDITION_NUMBER is not None and SMULTIXCAN_CONDITION_NUMBER > 0\n",
    "), \"The S-MultiXcan condition number (positive integer) must be given\"\n",
    "\n",
    "display(f\"S-MultiXcan condition number: {SMULTIXCAN_CONDITION_NUMBER}\")"
   ]
  },
  {
   "cell_type": "code",
   "execution_count": 9,
   "id": "f34a336f-548e-4afe-8955-90eaea4f42c6",
   "metadata": {
    "execution": {
     "iopub.execute_input": "2023-08-30T04:00:13.283494Z",
     "iopub.status.busy": "2023-08-30T04:00:13.283232Z",
     "iopub.status.idle": "2023-08-30T04:00:13.310596Z",
     "shell.execute_reply": "2023-08-30T04:00:13.310152Z"
    },
    "papermill": {
     "duration": 0.033924,
     "end_time": "2023-08-30T04:00:13.311488",
     "exception": false,
     "start_time": "2023-08-30T04:00:13.277564",
     "status": "completed"
    },
    "tags": []
   },
   "outputs": [
    {
     "data": {
      "text/plain": [
       "'Working on chromosome 11'"
      ]
     },
     "metadata": {},
     "output_type": "display_data"
    }
   ],
   "source": [
    "assert CHROMOSOME is not None and (\n",
    "    1 <= CHROMOSOME <= 22\n",
    "), \"You have to select one chromosome (format: number between 1 and 22)\"\n",
    "\n",
    "display(f\"Working on chromosome {CHROMOSOME}\")"
   ]
  },
  {
   "cell_type": "code",
   "execution_count": 10,
   "id": "ab8e96e8-06b5-4363-9dcd-dc4d78cc27f7",
   "metadata": {
    "execution": {
     "iopub.execute_input": "2023-08-30T04:00:13.324473Z",
     "iopub.status.busy": "2023-08-30T04:00:13.324246Z",
     "iopub.status.idle": "2023-08-30T04:00:13.343734Z",
     "shell.execute_reply": "2023-08-30T04:00:13.343098Z"
    },
    "papermill": {
     "duration": 0.028486,
     "end_time": "2023-08-30T04:00:13.344951",
     "exception": false,
     "start_time": "2023-08-30T04:00:13.316465",
     "status": "completed"
    },
    "tags": []
   },
   "outputs": [
    {
     "data": {
      "text/plain": [
       "'Compute correlation within distance True'"
      ]
     },
     "metadata": {},
     "output_type": "display_data"
    }
   ],
   "source": [
    "display(f\"Compute correlation within distance {COMPUTE_CORRELATIONS_WITHIN_DISTANCE}\")"
   ]
  },
  {
   "cell_type": "code",
   "execution_count": 11,
   "id": "b393b698-77e3-4ba2-8ac1-e14d51aa988f",
   "metadata": {
    "execution": {
     "iopub.execute_input": "2023-08-30T04:00:13.361069Z",
     "iopub.status.busy": "2023-08-30T04:00:13.360836Z",
     "iopub.status.idle": "2023-08-30T04:00:13.383527Z",
     "shell.execute_reply": "2023-08-30T04:00:13.383130Z"
    },
    "papermill": {
     "duration": 0.032247,
     "end_time": "2023-08-30T04:00:13.384794",
     "exception": false,
     "start_time": "2023-08-30T04:00:13.352547",
     "status": "completed"
    },
    "tags": []
   },
   "outputs": [
    {
     "data": {
      "text/plain": [
       "'Using output dir base: /opt/data/projects/chronotype/results/gls_phenoplier/gene_corrs/chronotype'"
      ]
     },
     "metadata": {},
     "output_type": "display_data"
    }
   ],
   "source": [
    "assert (\n",
    "    OUTPUT_DIR_BASE is not None and len(OUTPUT_DIR_BASE) > 0\n",
    "), \"Output directory path must be given\"\n",
    "\n",
    "OUTPUT_DIR_BASE = (Path(OUTPUT_DIR_BASE) / \"gene_corrs\" / COHORT_NAME).resolve()\n",
    "\n",
    "OUTPUT_DIR_BASE.mkdir(parents=True, exist_ok=True)\n",
    "\n",
    "display(f\"Using output dir base: {OUTPUT_DIR_BASE}\")"
   ]
  },
  {
   "cell_type": "markdown",
   "id": "d2ba085e",
   "metadata": {
    "papermill": {
     "duration": 0.007971,
     "end_time": "2023-08-30T04:00:13.401399",
     "exception": false,
     "start_time": "2023-08-30T04:00:13.393428",
     "status": "completed"
    },
    "tags": []
   },
   "source": [
    "# Load data"
   ]
  },
  {
   "cell_type": "markdown",
   "id": "7dcb8db7",
   "metadata": {
    "papermill": {
     "duration": 0.007363,
     "end_time": "2023-08-30T04:00:13.416876",
     "exception": false,
     "start_time": "2023-08-30T04:00:13.409513",
     "status": "completed"
    },
    "tags": []
   },
   "source": [
    "## GWAS variants"
   ]
  },
  {
   "cell_type": "code",
   "execution_count": 12,
   "id": "29434c4e-8cd3-4b9b-82e4-b5a251d9dd19",
   "metadata": {
    "execution": {
     "iopub.execute_input": "2023-08-30T04:00:13.430805Z",
     "iopub.status.busy": "2023-08-30T04:00:13.430393Z",
     "iopub.status.idle": "2023-08-30T04:00:18.339427Z",
     "shell.execute_reply": "2023-08-30T04:00:18.338313Z"
    },
    "papermill": {
     "duration": 4.919735,
     "end_time": "2023-08-30T04:00:18.342663",
     "exception": false,
     "start_time": "2023-08-30T04:00:13.422928",
     "status": "completed"
    },
    "tags": []
   },
   "outputs": [],
   "source": [
    "with open(OUTPUT_DIR_BASE / \"gwas_variant_ids.pkl\", \"rb\") as handle:\n",
    "    gwas_variants_ids_set = pickle.load(handle)"
   ]
  },
  {
   "cell_type": "code",
   "execution_count": 13,
   "id": "b9d9dec2-4a76-4bf9-bde2-e24c95acb8a0",
   "metadata": {
    "execution": {
     "iopub.execute_input": "2023-08-30T04:00:18.365377Z",
     "iopub.status.busy": "2023-08-30T04:00:18.365040Z",
     "iopub.status.idle": "2023-08-30T04:00:18.382591Z",
     "shell.execute_reply": "2023-08-30T04:00:18.382010Z"
    },
    "papermill": {
     "duration": 0.032903,
     "end_time": "2023-08-30T04:00:18.386180",
     "exception": false,
     "start_time": "2023-08-30T04:00:18.353277",
     "status": "completed"
    },
    "tags": []
   },
   "outputs": [
    {
     "data": {
      "text/plain": [
       "11737794"
      ]
     },
     "execution_count": 13,
     "metadata": {},
     "output_type": "execute_result"
    }
   ],
   "source": [
    "len(gwas_variants_ids_set)"
   ]
  },
  {
   "cell_type": "code",
   "execution_count": 14,
   "id": "4235b06a-6034-4ee4-a0a3-2ae35d122418",
   "metadata": {
    "execution": {
     "iopub.execute_input": "2023-08-30T04:00:18.411337Z",
     "iopub.status.busy": "2023-08-30T04:00:18.410537Z",
     "iopub.status.idle": "2023-08-30T04:00:20.705325Z",
     "shell.execute_reply": "2023-08-30T04:00:20.704495Z"
    },
    "papermill": {
     "duration": 2.311601,
     "end_time": "2023-08-30T04:00:20.708583",
     "exception": false,
     "start_time": "2023-08-30T04:00:18.396982",
     "status": "completed"
    },
    "tags": []
   },
   "outputs": [
    {
     "data": {
      "text/plain": [
       "['chr2_171473567_C_A_b38',\n",
       " 'chr11_34419376_T_C_b38',\n",
       " 'chr9_18470846_CTT_C_b38',\n",
       " 'chr12_76223725_A_G_b38',\n",
       " 'chr12_117732031_C_T_b38']"
      ]
     },
     "execution_count": 14,
     "metadata": {},
     "output_type": "execute_result"
    }
   ],
   "source": [
    "list(gwas_variants_ids_set)[:5]"
   ]
  },
  {
   "cell_type": "markdown",
   "id": "07866999-2305-41f9-a144-e69c9122c212",
   "metadata": {
    "papermill": {
     "duration": 0.010945,
     "end_time": "2023-08-30T04:00:20.730791",
     "exception": false,
     "start_time": "2023-08-30T04:00:20.719846",
     "status": "completed"
    },
    "tags": []
   },
   "source": [
    "## S-PrediXcan tissue models"
   ]
  },
  {
   "cell_type": "code",
   "execution_count": 15,
   "id": "780611d9-77c8-405f-90a4-f271f7b09397",
   "metadata": {
    "execution": {
     "iopub.execute_input": "2023-08-30T04:00:20.753720Z",
     "iopub.status.busy": "2023-08-30T04:00:20.753397Z",
     "iopub.status.idle": "2023-08-30T04:00:22.559932Z",
     "shell.execute_reply": "2023-08-30T04:00:22.559470Z"
    },
    "papermill": {
     "duration": 1.819561,
     "end_time": "2023-08-30T04:00:22.561376",
     "exception": false,
     "start_time": "2023-08-30T04:00:20.741815",
     "status": "completed"
    },
    "tags": []
   },
   "outputs": [],
   "source": [
    "spredixcan_genes_models = pd.read_pickle(OUTPUT_DIR_BASE / \"gene_tissues.pkl\")"
   ]
  },
  {
   "cell_type": "code",
   "execution_count": 16,
   "id": "726dd1f6-9557-4225-91fa-b3b879ea96e1",
   "metadata": {
    "execution": {
     "iopub.execute_input": "2023-08-30T04:00:22.577254Z",
     "iopub.status.busy": "2023-08-30T04:00:22.577036Z",
     "iopub.status.idle": "2023-08-30T04:00:22.600928Z",
     "shell.execute_reply": "2023-08-30T04:00:22.600517Z"
    },
    "papermill": {
     "duration": 0.033299,
     "end_time": "2023-08-30T04:00:22.602107",
     "exception": false,
     "start_time": "2023-08-30T04:00:22.568808",
     "status": "completed"
    },
    "tags": []
   },
   "outputs": [
    {
     "data": {
      "text/plain": [
       "(6445, 5)"
      ]
     },
     "execution_count": 16,
     "metadata": {},
     "output_type": "execute_result"
    }
   ],
   "source": [
    "spredixcan_genes_models.shape"
   ]
  },
  {
   "cell_type": "code",
   "execution_count": 17,
   "id": "944a1b48-222c-4eb0-b252-b9de2cbca215",
   "metadata": {
    "execution": {
     "iopub.execute_input": "2023-08-30T04:00:22.618170Z",
     "iopub.status.busy": "2023-08-30T04:00:22.617949Z",
     "iopub.status.idle": "2023-08-30T04:00:22.649092Z",
     "shell.execute_reply": "2023-08-30T04:00:22.648509Z"
    },
    "papermill": {
     "duration": 0.040737,
     "end_time": "2023-08-30T04:00:22.650374",
     "exception": false,
     "start_time": "2023-08-30T04:00:22.609637",
     "status": "completed"
    },
    "tags": []
   },
   "outputs": [
    {
     "data": {
      "text/html": [
       "<div>\n",
       "<style scoped>\n",
       "    .dataframe tbody tr th:only-of-type {\n",
       "        vertical-align: middle;\n",
       "    }\n",
       "\n",
       "    .dataframe tbody tr th {\n",
       "        vertical-align: top;\n",
       "    }\n",
       "\n",
       "    .dataframe thead th {\n",
       "        text-align: right;\n",
       "    }\n",
       "</style>\n",
       "<table border=\"1\" class=\"dataframe\">\n",
       "  <thead>\n",
       "    <tr style=\"text-align: right;\">\n",
       "      <th></th>\n",
       "      <th>gene_name</th>\n",
       "      <th>tissue</th>\n",
       "      <th>n_tissues</th>\n",
       "      <th>n_snps_used_sum</th>\n",
       "      <th>n_snps_in_model_sum</th>\n",
       "    </tr>\n",
       "    <tr>\n",
       "      <th>gene_id</th>\n",
       "      <th></th>\n",
       "      <th></th>\n",
       "      <th></th>\n",
       "      <th></th>\n",
       "      <th></th>\n",
       "    </tr>\n",
       "  </thead>\n",
       "  <tbody>\n",
       "    <tr>\n",
       "      <th>ENSG00000000419</th>\n",
       "      <td>DPM1</td>\n",
       "      <td>(Brain_Substantia_nigra, Brain_Hypothalamus)</td>\n",
       "      <td>2</td>\n",
       "      <td>2</td>\n",
       "      <td>2</td>\n",
       "    </tr>\n",
       "    <tr>\n",
       "      <th>ENSG00000000938</th>\n",
       "      <td>FGR</td>\n",
       "      <td>(Lung, Artery_Aorta, Brain_Nucleus_accumbens_b...</td>\n",
       "      <td>36</td>\n",
       "      <td>40</td>\n",
       "      <td>40</td>\n",
       "    </tr>\n",
       "    <tr>\n",
       "      <th>ENSG00000000971</th>\n",
       "      <td>CFH</td>\n",
       "      <td>(Lung, Artery_Aorta, Brain_Cerebellum, Pituita...</td>\n",
       "      <td>34</td>\n",
       "      <td>44</td>\n",
       "      <td>44</td>\n",
       "    </tr>\n",
       "    <tr>\n",
       "      <th>ENSG00000001084</th>\n",
       "      <td>GCLC</td>\n",
       "      <td>(Lung, Artery_Aorta, Brain_Nucleus_accumbens_b...</td>\n",
       "      <td>32</td>\n",
       "      <td>46</td>\n",
       "      <td>46</td>\n",
       "    </tr>\n",
       "    <tr>\n",
       "      <th>ENSG00000001167</th>\n",
       "      <td>NFYA</td>\n",
       "      <td>(Lung, Prostate, Artery_Aorta, Brain_Nucleus_a...</td>\n",
       "      <td>40</td>\n",
       "      <td>47</td>\n",
       "      <td>48</td>\n",
       "    </tr>\n",
       "  </tbody>\n",
       "</table>\n",
       "</div>"
      ],
      "text/plain": [
       "                gene_name                                             tissue  \\\n",
       "gene_id                                                                        \n",
       "ENSG00000000419      DPM1       (Brain_Substantia_nigra, Brain_Hypothalamus)   \n",
       "ENSG00000000938       FGR  (Lung, Artery_Aorta, Brain_Nucleus_accumbens_b...   \n",
       "ENSG00000000971       CFH  (Lung, Artery_Aorta, Brain_Cerebellum, Pituita...   \n",
       "ENSG00000001084      GCLC  (Lung, Artery_Aorta, Brain_Nucleus_accumbens_b...   \n",
       "ENSG00000001167      NFYA  (Lung, Prostate, Artery_Aorta, Brain_Nucleus_a...   \n",
       "\n",
       "                 n_tissues  n_snps_used_sum  n_snps_in_model_sum  \n",
       "gene_id                                                           \n",
       "ENSG00000000419          2                2                    2  \n",
       "ENSG00000000938         36               40                   40  \n",
       "ENSG00000000971         34               44                   44  \n",
       "ENSG00000001084         32               46                   46  \n",
       "ENSG00000001167         40               47                   48  "
      ]
     },
     "execution_count": 17,
     "metadata": {},
     "output_type": "execute_result"
    }
   ],
   "source": [
    "spredixcan_genes_models.head()"
   ]
  },
  {
   "cell_type": "code",
   "execution_count": 18,
   "id": "d1c11bb1-be0b-4f40-b360-633d6827109f",
   "metadata": {
    "execution": {
     "iopub.execute_input": "2023-08-30T04:00:22.667215Z",
     "iopub.status.busy": "2023-08-30T04:00:22.666979Z",
     "iopub.status.idle": "2023-08-30T04:00:22.686101Z",
     "shell.execute_reply": "2023-08-30T04:00:22.685572Z"
    },
    "papermill": {
     "duration": 0.029371,
     "end_time": "2023-08-30T04:00:22.687478",
     "exception": false,
     "start_time": "2023-08-30T04:00:22.658107",
     "status": "completed"
    },
    "tags": []
   },
   "outputs": [],
   "source": [
    "assert spredixcan_genes_models.index.is_unique"
   ]
  },
  {
   "cell_type": "markdown",
   "id": "a5b5092c-a13e-47c4-a92a-480fcc08f3ae",
   "metadata": {
    "papermill": {
     "duration": 0.007498,
     "end_time": "2023-08-30T04:00:22.702598",
     "exception": false,
     "start_time": "2023-08-30T04:00:22.695100",
     "status": "completed"
    },
    "tags": []
   },
   "source": [
    "## Gene info"
   ]
  },
  {
   "cell_type": "code",
   "execution_count": 19,
   "id": "7d6bb224-88e9-4358-ac10-43a41d92cdad",
   "metadata": {
    "execution": {
     "iopub.execute_input": "2023-08-30T04:00:22.718848Z",
     "iopub.status.busy": "2023-08-30T04:00:22.718605Z",
     "iopub.status.idle": "2023-08-30T04:00:22.740769Z",
     "shell.execute_reply": "2023-08-30T04:00:22.740375Z"
    },
    "papermill": {
     "duration": 0.032464,
     "end_time": "2023-08-30T04:00:22.742620",
     "exception": false,
     "start_time": "2023-08-30T04:00:22.710156",
     "status": "completed"
    },
    "tags": []
   },
   "outputs": [],
   "source": [
    "genes_info = pd.read_pickle(OUTPUT_DIR_BASE / \"genes_info.pkl\")"
   ]
  },
  {
   "cell_type": "code",
   "execution_count": 20,
   "id": "9e32abfa-546d-483e-8c18-d526e9e05903",
   "metadata": {
    "execution": {
     "iopub.execute_input": "2023-08-30T04:00:22.759045Z",
     "iopub.status.busy": "2023-08-30T04:00:22.758748Z",
     "iopub.status.idle": "2023-08-30T04:00:22.777926Z",
     "shell.execute_reply": "2023-08-30T04:00:22.777541Z"
    },
    "papermill": {
     "duration": 0.02853,
     "end_time": "2023-08-30T04:00:22.779029",
     "exception": false,
     "start_time": "2023-08-30T04:00:22.750499",
     "status": "completed"
    },
    "tags": []
   },
   "outputs": [
    {
     "data": {
      "text/plain": [
       "(6445, 7)"
      ]
     },
     "execution_count": 20,
     "metadata": {},
     "output_type": "execute_result"
    }
   ],
   "source": [
    "genes_info.shape"
   ]
  },
  {
   "cell_type": "code",
   "execution_count": 21,
   "id": "d16c3e92-85ec-468a-9a56-e25a9774a1cb",
   "metadata": {
    "execution": {
     "iopub.execute_input": "2023-08-30T04:00:22.795379Z",
     "iopub.status.busy": "2023-08-30T04:00:22.794986Z",
     "iopub.status.idle": "2023-08-30T04:00:22.827871Z",
     "shell.execute_reply": "2023-08-30T04:00:22.827466Z"
    },
    "papermill": {
     "duration": 0.042383,
     "end_time": "2023-08-30T04:00:22.828901",
     "exception": false,
     "start_time": "2023-08-30T04:00:22.786518",
     "status": "completed"
    },
    "tags": []
   },
   "outputs": [
    {
     "data": {
      "text/html": [
       "<div>\n",
       "<style scoped>\n",
       "    .dataframe tbody tr th:only-of-type {\n",
       "        vertical-align: middle;\n",
       "    }\n",
       "\n",
       "    .dataframe tbody tr th {\n",
       "        vertical-align: top;\n",
       "    }\n",
       "\n",
       "    .dataframe thead th {\n",
       "        text-align: right;\n",
       "    }\n",
       "</style>\n",
       "<table border=\"1\" class=\"dataframe\">\n",
       "  <thead>\n",
       "    <tr style=\"text-align: right;\">\n",
       "      <th></th>\n",
       "      <th>name</th>\n",
       "      <th>id</th>\n",
       "      <th>chr</th>\n",
       "      <th>band</th>\n",
       "      <th>start_position</th>\n",
       "      <th>end_position</th>\n",
       "      <th>gene_length</th>\n",
       "    </tr>\n",
       "  </thead>\n",
       "  <tbody>\n",
       "    <tr>\n",
       "      <th>0</th>\n",
       "      <td>DUT</td>\n",
       "      <td>ENSG00000128951</td>\n",
       "      <td>15</td>\n",
       "      <td>15q21.1</td>\n",
       "      <td>48331011</td>\n",
       "      <td>48343373</td>\n",
       "      <td>12362</td>\n",
       "    </tr>\n",
       "    <tr>\n",
       "      <th>1</th>\n",
       "      <td>NDUFA4</td>\n",
       "      <td>ENSG00000189043</td>\n",
       "      <td>7</td>\n",
       "      <td>7p21.3</td>\n",
       "      <td>10931943</td>\n",
       "      <td>10940153</td>\n",
       "      <td>8210</td>\n",
       "    </tr>\n",
       "    <tr>\n",
       "      <th>2</th>\n",
       "      <td>EPHB3</td>\n",
       "      <td>ENSG00000182580</td>\n",
       "      <td>3</td>\n",
       "      <td>3q27.1</td>\n",
       "      <td>184561785</td>\n",
       "      <td>184582408</td>\n",
       "      <td>20623</td>\n",
       "    </tr>\n",
       "    <tr>\n",
       "      <th>3</th>\n",
       "      <td>MYLK</td>\n",
       "      <td>ENSG00000065534</td>\n",
       "      <td>3</td>\n",
       "      <td>3q21.1</td>\n",
       "      <td>123610049</td>\n",
       "      <td>123884331</td>\n",
       "      <td>274282</td>\n",
       "    </tr>\n",
       "    <tr>\n",
       "      <th>4</th>\n",
       "      <td>SMPD4</td>\n",
       "      <td>ENSG00000136699</td>\n",
       "      <td>2</td>\n",
       "      <td>2q21.1</td>\n",
       "      <td>130151392</td>\n",
       "      <td>130182750</td>\n",
       "      <td>31358</td>\n",
       "    </tr>\n",
       "  </tbody>\n",
       "</table>\n",
       "</div>"
      ],
      "text/plain": [
       "     name               id  chr     band  start_position  end_position  \\\n",
       "0     DUT  ENSG00000128951   15  15q21.1        48331011      48343373   \n",
       "1  NDUFA4  ENSG00000189043    7   7p21.3        10931943      10940153   \n",
       "2   EPHB3  ENSG00000182580    3   3q27.1       184561785     184582408   \n",
       "3    MYLK  ENSG00000065534    3   3q21.1       123610049     123884331   \n",
       "4   SMPD4  ENSG00000136699    2   2q21.1       130151392     130182750   \n",
       "\n",
       "   gene_length  \n",
       "0        12362  \n",
       "1         8210  \n",
       "2        20623  \n",
       "3       274282  \n",
       "4        31358  "
      ]
     },
     "execution_count": 21,
     "metadata": {},
     "output_type": "execute_result"
    }
   ],
   "source": [
    "genes_info.head()"
   ]
  },
  {
   "cell_type": "markdown",
   "id": "d3843e06",
   "metadata": {
    "papermill": {
     "duration": 0.007663,
     "end_time": "2023-08-30T04:00:22.844254",
     "exception": false,
     "start_time": "2023-08-30T04:00:22.836591",
     "status": "completed"
    },
    "tags": []
   },
   "source": [
    "# Compute correlations"
   ]
  },
  {
   "cell_type": "code",
   "execution_count": 22,
   "id": "cb859c15-d1f3-4006-a74c-2b83c0db9611",
   "metadata": {
    "execution": {
     "iopub.execute_input": "2023-08-30T04:00:22.860536Z",
     "iopub.status.busy": "2023-08-30T04:00:22.860299Z",
     "iopub.status.idle": "2023-08-30T04:00:22.878057Z",
     "shell.execute_reply": "2023-08-30T04:00:22.877687Z"
    },
    "papermill": {
     "duration": 0.027115,
     "end_time": "2023-08-30T04:00:22.879117",
     "exception": false,
     "start_time": "2023-08-30T04:00:22.852002",
     "status": "completed"
    },
    "tags": []
   },
   "outputs": [
    {
     "data": {
      "text/plain": [
       "PosixPath('/opt/data/projects/chronotype/results/gls_phenoplier/gene_corrs/chronotype/by_chr/gene_corrs-chr11.pkl')"
      ]
     },
     "metadata": {},
     "output_type": "display_data"
    }
   ],
   "source": [
    "output_dir = OUTPUT_DIR_BASE / \"by_chr\"\n",
    "output_dir.mkdir(exist_ok=True, parents=True)\n",
    "output_file = output_dir / f\"gene_corrs-chr{CHROMOSOME}.pkl\"\n",
    "display(output_file)"
   ]
  },
  {
   "cell_type": "code",
   "execution_count": 23,
   "id": "aa674fe4-6794-4eed-98fa-32b39d1d4ace",
   "metadata": {
    "execution": {
     "iopub.execute_input": "2023-08-30T04:00:22.895621Z",
     "iopub.status.busy": "2023-08-30T04:00:22.895255Z",
     "iopub.status.idle": "2023-08-30T04:00:22.918256Z",
     "shell.execute_reply": "2023-08-30T04:00:22.917596Z"
    },
    "papermill": {
     "duration": 0.033023,
     "end_time": "2023-08-30T04:00:22.919794",
     "exception": false,
     "start_time": "2023-08-30T04:00:22.886771",
     "status": "completed"
    },
    "tags": []
   },
   "outputs": [],
   "source": [
    "warnings.filterwarnings(\"error\")"
   ]
  },
  {
   "cell_type": "code",
   "execution_count": 24,
   "id": "44d5450b-3baf-43f1-9e2e-4b06f1a785f8",
   "metadata": {
    "execution": {
     "iopub.execute_input": "2023-08-30T04:00:22.937209Z",
     "iopub.status.busy": "2023-08-30T04:00:22.936667Z",
     "iopub.status.idle": "2023-08-30T04:00:22.957549Z",
     "shell.execute_reply": "2023-08-30T04:00:22.956944Z"
    },
    "papermill": {
     "duration": 0.031245,
     "end_time": "2023-08-30T04:00:22.958961",
     "exception": false,
     "start_time": "2023-08-30T04:00:22.927716",
     "status": "completed"
    },
    "tags": []
   },
   "outputs": [],
   "source": [
    "# standard checks\n",
    "all_chrs = genes_info[\"chr\"].dropna().unique()\n",
    "assert all_chrs.shape[0] == 22\n",
    "\n",
    "# select chromosome given by the user\n",
    "assert CHROMOSOME in all_chrs"
   ]
  },
  {
   "cell_type": "code",
   "execution_count": 25,
   "id": "2d7c043c-92a7-4d35-991b-fa69ac1e0268",
   "metadata": {
    "execution": {
     "iopub.execute_input": "2023-08-30T04:00:22.976325Z",
     "iopub.status.busy": "2023-08-30T04:00:22.976032Z",
     "iopub.status.idle": "2023-08-30T04:00:23.006983Z",
     "shell.execute_reply": "2023-08-30T04:00:23.006470Z"
    },
    "papermill": {
     "duration": 0.041009,
     "end_time": "2023-08-30T04:00:23.008005",
     "exception": false,
     "start_time": "2023-08-30T04:00:22.966996",
     "status": "completed"
    },
    "tags": []
   },
   "outputs": [
    {
     "name": "stdout",
     "output_type": "stream",
     "text": [
      "Number of genes in chromosome: 387\n"
     ]
    }
   ],
   "source": [
    "# run only on the chromosome specified\n",
    "all_chrs = [CHROMOSOME]\n",
    "genes_chr = genes_info[genes_info[\"chr\"] == CHROMOSOME]\n",
    "\n",
    "# For testing purposes\n",
    "# genes_chr = genes_chr.sample(n=20)\n",
    "\n",
    "print(f\"Number of genes in chromosome: {genes_chr.shape[0]}\", flush=True)"
   ]
  },
  {
   "cell_type": "code",
   "execution_count": 26,
   "id": "916015d8-2979-46d3-a9b9-1cf5a0932c6a",
   "metadata": {
    "execution": {
     "iopub.execute_input": "2023-08-30T04:00:23.021334Z",
     "iopub.status.busy": "2023-08-30T04:00:23.020922Z",
     "iopub.status.idle": "2023-08-30T04:00:23.037544Z",
     "shell.execute_reply": "2023-08-30T04:00:23.036995Z"
    },
    "papermill": {
     "duration": 0.024623,
     "end_time": "2023-08-30T04:00:23.038718",
     "exception": false,
     "start_time": "2023-08-30T04:00:23.014095",
     "status": "completed"
    },
    "tags": []
   },
   "outputs": [],
   "source": [
    "# sort genes by starting position to make visualizations better later\n",
    "genes_chr = genes_chr.sort_values(\"start_position\")"
   ]
  },
  {
   "cell_type": "code",
   "execution_count": 27,
   "id": "a38aa74a-8ad3-47f6-8ef9-56be0e011774",
   "metadata": {
    "execution": {
     "iopub.execute_input": "2023-08-30T04:00:23.052759Z",
     "iopub.status.busy": "2023-08-30T04:00:23.052420Z",
     "iopub.status.idle": "2023-08-30T04:00:23.074139Z",
     "shell.execute_reply": "2023-08-30T04:00:23.073562Z"
    },
    "papermill": {
     "duration": 0.029918,
     "end_time": "2023-08-30T04:00:23.075490",
     "exception": false,
     "start_time": "2023-08-30T04:00:23.045572",
     "status": "completed"
    },
    "tags": []
   },
   "outputs": [],
   "source": [
    "gene_chr_objs = [Gene(ensembl_id=gene_id) for gene_id in genes_chr[\"id\"]]"
   ]
  },
  {
   "cell_type": "code",
   "execution_count": 28,
   "id": "570f974f-13c3-42b6-ad3a-ce99ca885c1a",
   "metadata": {
    "execution": {
     "iopub.execute_input": "2023-08-30T04:00:23.097047Z",
     "iopub.status.busy": "2023-08-30T04:00:23.096712Z",
     "iopub.status.idle": "2023-08-30T04:00:23.118378Z",
     "shell.execute_reply": "2023-08-30T04:00:23.117837Z"
    },
    "papermill": {
     "duration": 0.033978,
     "end_time": "2023-08-30T04:00:23.119573",
     "exception": false,
     "start_time": "2023-08-30T04:00:23.085595",
     "status": "completed"
    },
    "tags": []
   },
   "outputs": [
    {
     "name": "stdout",
     "output_type": "stream",
     "text": [
      "Number of gene combinations: 75078\n"
     ]
    }
   ],
   "source": [
    "n = len(gene_chr_objs)\n",
    "# diagonal elements + upper triangular matrix\n",
    "n_comb = n + int(n * (n - 1) / 2.0)\n",
    "print(f\"Number of gene combinations: {n_comb}\", flush=True)"
   ]
  },
  {
   "cell_type": "code",
   "execution_count": 29,
   "id": "cdbb90a1",
   "metadata": {
    "execution": {
     "iopub.execute_input": "2023-08-30T04:00:23.140123Z",
     "iopub.status.busy": "2023-08-30T04:00:23.139548Z",
     "iopub.status.idle": "2023-08-30T04:09:25.886280Z",
     "shell.execute_reply": "2023-08-30T04:09:25.885744Z"
    },
    "papermill": {
     "duration": 542.759774,
     "end_time": "2023-08-30T04:09:25.887986",
     "exception": false,
     "start_time": "2023-08-30T04:00:23.128212",
     "status": "completed"
    },
    "tags": []
   },
   "outputs": [
    {
     "name": "stderr",
     "output_type": "stream",
     "text": [
      "ENSG00000109956 / ENSG00000109956: 100%|█████████████████████| 75078/75078 [09:02<00:00, 138.34it/s]\n"
     ]
    },
    {
     "data": {
      "text/plain": [
       "PosixPath('/opt/data/projects/chronotype/results/gls_phenoplier/gene_corrs/chronotype/by_chr/gene_corrs-chr11.pkl')"
      ]
     },
     "metadata": {},
     "output_type": "display_data"
    }
   ],
   "source": [
    "gene_corrs = []\n",
    "gene_corrs_data = np.full(\n",
    "    (n, n),\n",
    "    np.nan,\n",
    "    dtype=np.float64,\n",
    ")\n",
    "\n",
    "i = 0\n",
    "with tqdm(ncols=100, total=n_comb) as pbar:\n",
    "    for gene1_idx in range(0, len(gene_chr_objs)):\n",
    "        gene1_obj = gene_chr_objs[gene1_idx]\n",
    "        gene1_tissues = spredixcan_genes_models.loc[gene1_obj.ensembl_id, \"tissue\"]\n",
    "\n",
    "        for gene2_idx in range(gene1_idx, len(gene_chr_objs)):\n",
    "            gene2_obj = gene_chr_objs[gene2_idx]\n",
    "            gene2_tissues = spredixcan_genes_models.loc[gene2_obj.ensembl_id, \"tissue\"]\n",
    "\n",
    "            pbar.set_description(f\"{gene1_obj.ensembl_id} / {gene2_obj.ensembl_id}\")\n",
    "\n",
    "            try:\n",
    "                r = gene1_obj.get_ssm_correlation(\n",
    "                    other_gene=gene2_obj,\n",
    "                    tissues=gene1_tissues,\n",
    "                    other_tissues=gene2_tissues,\n",
    "                    snps_subset=gwas_variants_ids_set,\n",
    "                    condition_number=SMULTIXCAN_CONDITION_NUMBER,\n",
    "                    reference_panel=REFERENCE_PANEL,\n",
    "                    model_type=EQTL_MODEL,\n",
    "                    use_within_distance=COMPUTE_CORRELATIONS_WITHIN_DISTANCE,\n",
    "                )\n",
    "\n",
    "                if r is None:\n",
    "                    # if r is None, it's very likely because:\n",
    "                    #  * one of the genes has no prediction models\n",
    "                    #  * all the SNPs predictors for the gene are not present in the reference\n",
    "                    #    panel\n",
    "\n",
    "                    r = 0.0\n",
    "\n",
    "                gene_corrs.append(r)\n",
    "\n",
    "                gene_corrs_data[gene1_idx, gene2_idx] = r\n",
    "                gene_corrs_data[gene2_idx, gene1_idx] = r\n",
    "            except Warning as e:\n",
    "                if not DEBUG_MODE:\n",
    "                    raise e\n",
    "\n",
    "                print(\n",
    "                    f\"RuntimeWarning for genes {gene1_obj.ensembl_id} and {gene2_obj.ensembl_id}\",\n",
    "                    flush=True,\n",
    "                )\n",
    "                print(traceback.format_exc(), flush=True)\n",
    "\n",
    "                gene_corrs.append(np.nan)\n",
    "            except Exception as e:\n",
    "                if not DEBUG_MODE:\n",
    "                    raise e\n",
    "\n",
    "                print(\n",
    "                    f\"Exception for genes {gene1_obj.ensembl_id} and {gene2_obj.ensembl_id}\",\n",
    "                    flush=True,\n",
    "                )\n",
    "                print(traceback.format_exc(), flush=True)\n",
    "\n",
    "                gene_corrs.append(np.nan)\n",
    "\n",
    "            pbar.update(1)\n",
    "\n",
    "# create a pandas series\n",
    "gene_corrs_flat = pd.Series(gene_corrs)\n",
    "\n",
    "# save\n",
    "# FIXME: consider saving only the condenced matrix here. See here for\n",
    "# more details: https://github.com/greenelab/phenoplier/pull/38#discussion_r634600813\n",
    "# gene_corrs_data = squareform(np.array(gene_corrs, dtype=np.float64))\n",
    "# np.fill_diagonal(gene_corrs_data, 1.0)\n",
    "\n",
    "gene_chr_ids = [g.ensembl_id for g in gene_chr_objs]\n",
    "gene_corrs_df = pd.DataFrame(\n",
    "    data=gene_corrs_data,\n",
    "    index=gene_chr_ids,\n",
    "    columns=gene_chr_ids,\n",
    ")\n",
    "\n",
    "output_dir.mkdir(exist_ok=True, parents=True)\n",
    "display(output_file)\n",
    "\n",
    "gene_corrs_df.to_pickle(output_file)"
   ]
  },
  {
   "cell_type": "markdown",
   "id": "faa67b51-5373-470f-aa72-2ded53fa6dfe",
   "metadata": {
    "papermill": {
     "duration": 2.427868,
     "end_time": "2023-08-30T04:09:31.080265",
     "exception": false,
     "start_time": "2023-08-30T04:09:28.652397",
     "status": "completed"
    },
    "tags": []
   },
   "source": [
    "# Testing"
   ]
  },
  {
   "cell_type": "code",
   "execution_count": 30,
   "id": "14f7d046-4b55-4896-a56b-990127bcc388",
   "metadata": {
    "execution": {
     "iopub.execute_input": "2023-08-30T04:09:35.940594Z",
     "iopub.status.busy": "2023-08-30T04:09:35.940026Z",
     "iopub.status.idle": "2023-08-30T04:09:35.965111Z",
     "shell.execute_reply": "2023-08-30T04:09:35.964354Z"
    },
    "papermill": {
     "duration": 2.497464,
     "end_time": "2023-08-30T04:09:35.966089",
     "exception": false,
     "start_time": "2023-08-30T04:09:33.468625",
     "status": "completed"
    },
    "tags": []
   },
   "outputs": [
    {
     "data": {
      "text/plain": [
       "(387, 387)"
      ]
     },
     "execution_count": 30,
     "metadata": {},
     "output_type": "execute_result"
    }
   ],
   "source": [
    "gene_corrs_df.shape"
   ]
  },
  {
   "cell_type": "code",
   "execution_count": 31,
   "id": "c7d15414-3297-4537-a7c6-7588c0baeb75",
   "metadata": {
    "execution": {
     "iopub.execute_input": "2023-08-30T04:09:40.888724Z",
     "iopub.status.busy": "2023-08-30T04:09:40.888229Z",
     "iopub.status.idle": "2023-08-30T04:09:40.931358Z",
     "shell.execute_reply": "2023-08-30T04:09:40.930649Z"
    },
    "papermill": {
     "duration": 2.498815,
     "end_time": "2023-08-30T04:09:40.932293",
     "exception": false,
     "start_time": "2023-08-30T04:09:38.433478",
     "status": "completed"
    },
    "tags": []
   },
   "outputs": [
    {
     "data": {
      "text/html": [
       "<div>\n",
       "<style scoped>\n",
       "    .dataframe tbody tr th:only-of-type {\n",
       "        vertical-align: middle;\n",
       "    }\n",
       "\n",
       "    .dataframe tbody tr th {\n",
       "        vertical-align: top;\n",
       "    }\n",
       "\n",
       "    .dataframe thead th {\n",
       "        text-align: right;\n",
       "    }\n",
       "</style>\n",
       "<table border=\"1\" class=\"dataframe\">\n",
       "  <thead>\n",
       "    <tr style=\"text-align: right;\">\n",
       "      <th></th>\n",
       "      <th>ENSG00000177951</th>\n",
       "      <th>ENSG00000142082</th>\n",
       "      <th>ENSG00000185627</th>\n",
       "      <th>ENSG00000185201</th>\n",
       "      <th>ENSG00000185885</th>\n",
       "      <th>ENSG00000142089</th>\n",
       "      <th>ENSG00000185187</th>\n",
       "      <th>ENSG00000174915</th>\n",
       "      <th>ENSG00000174775</th>\n",
       "      <th>ENSG00000185507</th>\n",
       "      <th>...</th>\n",
       "      <th>ENSG00000150455</th>\n",
       "      <th>ENSG00000110063</th>\n",
       "      <th>ENSG00000110080</th>\n",
       "      <th>ENSG00000149571</th>\n",
       "      <th>ENSG00000134954</th>\n",
       "      <th>ENSG00000134909</th>\n",
       "      <th>ENSG00000043039</th>\n",
       "      <th>ENSG00000166086</th>\n",
       "      <th>ENSG00000151498</th>\n",
       "      <th>ENSG00000109956</th>\n",
       "    </tr>\n",
       "  </thead>\n",
       "  <tbody>\n",
       "    <tr>\n",
       "      <th>ENSG00000177951</th>\n",
       "      <td>1.000000</td>\n",
       "      <td>0.703099</td>\n",
       "      <td>0.395457</td>\n",
       "      <td>0.029853</td>\n",
       "      <td>0.023727</td>\n",
       "      <td>0.026649</td>\n",
       "      <td>0.012979</td>\n",
       "      <td>0.010487</td>\n",
       "      <td>0.003937</td>\n",
       "      <td>0.008034</td>\n",
       "      <td>...</td>\n",
       "      <td>0.0</td>\n",
       "      <td>0.0</td>\n",
       "      <td>0.0</td>\n",
       "      <td>0.0</td>\n",
       "      <td>0.0</td>\n",
       "      <td>0.0</td>\n",
       "      <td>0.0</td>\n",
       "      <td>0.0</td>\n",
       "      <td>0.0</td>\n",
       "      <td>0.0</td>\n",
       "    </tr>\n",
       "    <tr>\n",
       "      <th>ENSG00000142082</th>\n",
       "      <td>0.703099</td>\n",
       "      <td>1.000000</td>\n",
       "      <td>0.497631</td>\n",
       "      <td>0.036771</td>\n",
       "      <td>0.032087</td>\n",
       "      <td>0.031863</td>\n",
       "      <td>0.013926</td>\n",
       "      <td>0.010630</td>\n",
       "      <td>0.002997</td>\n",
       "      <td>0.007496</td>\n",
       "      <td>...</td>\n",
       "      <td>0.0</td>\n",
       "      <td>0.0</td>\n",
       "      <td>0.0</td>\n",
       "      <td>0.0</td>\n",
       "      <td>0.0</td>\n",
       "      <td>0.0</td>\n",
       "      <td>0.0</td>\n",
       "      <td>0.0</td>\n",
       "      <td>0.0</td>\n",
       "      <td>0.0</td>\n",
       "    </tr>\n",
       "    <tr>\n",
       "      <th>ENSG00000185627</th>\n",
       "      <td>0.395457</td>\n",
       "      <td>0.497631</td>\n",
       "      <td>1.000000</td>\n",
       "      <td>0.001295</td>\n",
       "      <td>0.001504</td>\n",
       "      <td>0.006742</td>\n",
       "      <td>0.001349</td>\n",
       "      <td>0.003704</td>\n",
       "      <td>0.000780</td>\n",
       "      <td>0.003586</td>\n",
       "      <td>...</td>\n",
       "      <td>0.0</td>\n",
       "      <td>0.0</td>\n",
       "      <td>0.0</td>\n",
       "      <td>0.0</td>\n",
       "      <td>0.0</td>\n",
       "      <td>0.0</td>\n",
       "      <td>0.0</td>\n",
       "      <td>0.0</td>\n",
       "      <td>0.0</td>\n",
       "      <td>0.0</td>\n",
       "    </tr>\n",
       "    <tr>\n",
       "      <th>ENSG00000185201</th>\n",
       "      <td>0.029853</td>\n",
       "      <td>0.036771</td>\n",
       "      <td>0.001295</td>\n",
       "      <td>1.000000</td>\n",
       "      <td>0.339884</td>\n",
       "      <td>0.356068</td>\n",
       "      <td>0.011843</td>\n",
       "      <td>0.009171</td>\n",
       "      <td>0.006437</td>\n",
       "      <td>0.024387</td>\n",
       "      <td>...</td>\n",
       "      <td>0.0</td>\n",
       "      <td>0.0</td>\n",
       "      <td>0.0</td>\n",
       "      <td>0.0</td>\n",
       "      <td>0.0</td>\n",
       "      <td>0.0</td>\n",
       "      <td>0.0</td>\n",
       "      <td>0.0</td>\n",
       "      <td>0.0</td>\n",
       "      <td>0.0</td>\n",
       "    </tr>\n",
       "    <tr>\n",
       "      <th>ENSG00000185885</th>\n",
       "      <td>0.023727</td>\n",
       "      <td>0.032087</td>\n",
       "      <td>0.001504</td>\n",
       "      <td>0.339884</td>\n",
       "      <td>1.000000</td>\n",
       "      <td>0.421889</td>\n",
       "      <td>0.021272</td>\n",
       "      <td>0.018492</td>\n",
       "      <td>0.008508</td>\n",
       "      <td>0.027573</td>\n",
       "      <td>...</td>\n",
       "      <td>0.0</td>\n",
       "      <td>0.0</td>\n",
       "      <td>0.0</td>\n",
       "      <td>0.0</td>\n",
       "      <td>0.0</td>\n",
       "      <td>0.0</td>\n",
       "      <td>0.0</td>\n",
       "      <td>0.0</td>\n",
       "      <td>0.0</td>\n",
       "      <td>0.0</td>\n",
       "    </tr>\n",
       "  </tbody>\n",
       "</table>\n",
       "<p>5 rows × 387 columns</p>\n",
       "</div>"
      ],
      "text/plain": [
       "                 ENSG00000177951  ENSG00000142082  ENSG00000185627  \\\n",
       "ENSG00000177951         1.000000         0.703099         0.395457   \n",
       "ENSG00000142082         0.703099         1.000000         0.497631   \n",
       "ENSG00000185627         0.395457         0.497631         1.000000   \n",
       "ENSG00000185201         0.029853         0.036771         0.001295   \n",
       "ENSG00000185885         0.023727         0.032087         0.001504   \n",
       "\n",
       "                 ENSG00000185201  ENSG00000185885  ENSG00000142089  \\\n",
       "ENSG00000177951         0.029853         0.023727         0.026649   \n",
       "ENSG00000142082         0.036771         0.032087         0.031863   \n",
       "ENSG00000185627         0.001295         0.001504         0.006742   \n",
       "ENSG00000185201         1.000000         0.339884         0.356068   \n",
       "ENSG00000185885         0.339884         1.000000         0.421889   \n",
       "\n",
       "                 ENSG00000185187  ENSG00000174915  ENSG00000174775  \\\n",
       "ENSG00000177951         0.012979         0.010487         0.003937   \n",
       "ENSG00000142082         0.013926         0.010630         0.002997   \n",
       "ENSG00000185627         0.001349         0.003704         0.000780   \n",
       "ENSG00000185201         0.011843         0.009171         0.006437   \n",
       "ENSG00000185885         0.021272         0.018492         0.008508   \n",
       "\n",
       "                 ENSG00000185507  ...  ENSG00000150455  ENSG00000110063  \\\n",
       "ENSG00000177951         0.008034  ...              0.0              0.0   \n",
       "ENSG00000142082         0.007496  ...              0.0              0.0   \n",
       "ENSG00000185627         0.003586  ...              0.0              0.0   \n",
       "ENSG00000185201         0.024387  ...              0.0              0.0   \n",
       "ENSG00000185885         0.027573  ...              0.0              0.0   \n",
       "\n",
       "                 ENSG00000110080  ENSG00000149571  ENSG00000134954  \\\n",
       "ENSG00000177951              0.0              0.0              0.0   \n",
       "ENSG00000142082              0.0              0.0              0.0   \n",
       "ENSG00000185627              0.0              0.0              0.0   \n",
       "ENSG00000185201              0.0              0.0              0.0   \n",
       "ENSG00000185885              0.0              0.0              0.0   \n",
       "\n",
       "                 ENSG00000134909  ENSG00000043039  ENSG00000166086  \\\n",
       "ENSG00000177951              0.0              0.0              0.0   \n",
       "ENSG00000142082              0.0              0.0              0.0   \n",
       "ENSG00000185627              0.0              0.0              0.0   \n",
       "ENSG00000185201              0.0              0.0              0.0   \n",
       "ENSG00000185885              0.0              0.0              0.0   \n",
       "\n",
       "                 ENSG00000151498  ENSG00000109956  \n",
       "ENSG00000177951              0.0              0.0  \n",
       "ENSG00000142082              0.0              0.0  \n",
       "ENSG00000185627              0.0              0.0  \n",
       "ENSG00000185201              0.0              0.0  \n",
       "ENSG00000185885              0.0              0.0  \n",
       "\n",
       "[5 rows x 387 columns]"
      ]
     },
     "execution_count": 31,
     "metadata": {},
     "output_type": "execute_result"
    }
   ],
   "source": [
    "gene_corrs_df.head()"
   ]
  },
  {
   "cell_type": "markdown",
   "id": "dad6603f-01c6-41fb-a6f6-241051207dd8",
   "metadata": {
    "papermill": {
     "duration": 2.27061,
     "end_time": "2023-08-30T04:09:45.678110",
     "exception": false,
     "start_time": "2023-08-30T04:09:43.407500",
     "status": "completed"
    },
    "tags": []
   },
   "source": [
    "## Standard checks and stats"
   ]
  },
  {
   "cell_type": "code",
   "execution_count": 32,
   "id": "286686af-1b7b-4440-8453-6bdcbd8de19c",
   "metadata": {
    "execution": {
     "iopub.execute_input": "2023-08-30T04:09:50.500766Z",
     "iopub.status.busy": "2023-08-30T04:09:50.500243Z",
     "iopub.status.idle": "2023-08-30T04:09:50.527725Z",
     "shell.execute_reply": "2023-08-30T04:09:50.526968Z"
    },
    "papermill": {
     "duration": 2.423429,
     "end_time": "2023-08-30T04:09:50.528846",
     "exception": false,
     "start_time": "2023-08-30T04:09:48.105417",
     "status": "completed"
    },
    "tags": []
   },
   "outputs": [],
   "source": [
    "assert not gene_corrs_df.isna().any(axis=None)"
   ]
  },
  {
   "cell_type": "code",
   "execution_count": 33,
   "id": "00583efc-7068-4270-ad1e-4a418e91db96",
   "metadata": {
    "execution": {
     "iopub.execute_input": "2023-08-30T04:09:55.230590Z",
     "iopub.status.busy": "2023-08-30T04:09:55.230253Z",
     "iopub.status.idle": "2023-08-30T04:09:55.254501Z",
     "shell.execute_reply": "2023-08-30T04:09:55.253900Z"
    },
    "papermill": {
     "duration": 2.255415,
     "end_time": "2023-08-30T04:09:55.255456",
     "exception": false,
     "start_time": "2023-08-30T04:09:53.000041",
     "status": "completed"
    },
    "tags": []
   },
   "outputs": [
    {
     "data": {
      "text/plain": [
       "0.0"
      ]
     },
     "metadata": {},
     "output_type": "display_data"
    }
   ],
   "source": [
    "_min_val = gene_corrs_df.min().min()\n",
    "display(_min_val)\n",
    "assert _min_val >= -0.05"
   ]
  },
  {
   "cell_type": "code",
   "execution_count": 34,
   "id": "d04fb2cf-1050-475b-b855-f5f7cc04092b",
   "metadata": {
    "execution": {
     "iopub.execute_input": "2023-08-30T04:10:00.015469Z",
     "iopub.status.busy": "2023-08-30T04:10:00.014650Z",
     "iopub.status.idle": "2023-08-30T04:10:00.045831Z",
     "shell.execute_reply": "2023-08-30T04:10:00.045079Z"
    },
    "papermill": {
     "duration": 2.453188,
     "end_time": "2023-08-30T04:10:00.046864",
     "exception": false,
     "start_time": "2023-08-30T04:09:57.593676",
     "status": "completed"
    },
    "tags": []
   },
   "outputs": [
    {
     "data": {
      "text/plain": [
       "1.0000000000000024"
      ]
     },
     "metadata": {},
     "output_type": "display_data"
    }
   ],
   "source": [
    "_max_val = gene_corrs_df.max().max()  # this captures the diagonal\n",
    "display(_max_val)\n",
    "assert _max_val <= 1.05"
   ]
  },
  {
   "cell_type": "code",
   "execution_count": 35,
   "id": "fe283586-c348-40e0-8841-f6d97bfb021c",
   "metadata": {
    "execution": {
     "iopub.execute_input": "2023-08-30T04:10:04.766219Z",
     "iopub.status.busy": "2023-08-30T04:10:04.765837Z",
     "iopub.status.idle": "2023-08-30T04:10:04.795077Z",
     "shell.execute_reply": "2023-08-30T04:10:04.794420Z"
    },
    "papermill": {
     "duration": 2.308831,
     "end_time": "2023-08-30T04:10:04.796059",
     "exception": false,
     "start_time": "2023-08-30T04:10:02.487228",
     "status": "completed"
    },
    "tags": []
   },
   "outputs": [
    {
     "data": {
      "text/plain": [
       "count    75078.000000\n",
       "mean         0.008762\n",
       "std          0.078553\n",
       "min          0.000000\n",
       "25%          0.000000\n",
       "50%          0.000000\n",
       "75%          0.000000\n",
       "max          1.000000\n",
       "dtype: float64"
      ]
     },
     "execution_count": 35,
     "metadata": {},
     "output_type": "execute_result"
    }
   ],
   "source": [
    "gene_corrs_flat.describe()"
   ]
  },
  {
   "cell_type": "code",
   "execution_count": 36,
   "id": "b3815678-0f93-4b35-897b-a9d047a2aa78",
   "metadata": {
    "execution": {
     "iopub.execute_input": "2023-08-30T04:10:09.591310Z",
     "iopub.status.busy": "2023-08-30T04:10:09.590516Z",
     "iopub.status.idle": "2023-08-30T04:10:09.623255Z",
     "shell.execute_reply": "2023-08-30T04:10:09.622519Z"
    },
    "papermill": {
     "duration": 2.380711,
     "end_time": "2023-08-30T04:10:09.624163",
     "exception": false,
     "start_time": "2023-08-30T04:10:07.243452",
     "status": "completed"
    },
    "tags": []
   },
   "outputs": [
    {
     "data": {
      "text/plain": [
       "0.00    0.000000\n",
       "0.05    0.000000\n",
       "0.10    0.000000\n",
       "0.15    0.000000\n",
       "0.20    0.000000\n",
       "0.25    0.000000\n",
       "0.30    0.000000\n",
       "0.35    0.000000\n",
       "0.40    0.000000\n",
       "0.45    0.000000\n",
       "0.50    0.000000\n",
       "0.55    0.000000\n",
       "0.60    0.000000\n",
       "0.65    0.000000\n",
       "0.70    0.000000\n",
       "0.75    0.000000\n",
       "0.80    0.000000\n",
       "0.85    0.000000\n",
       "0.90    0.003672\n",
       "0.95    0.008509\n",
       "dtype: float64"
      ]
     },
     "metadata": {},
     "output_type": "display_data"
    }
   ],
   "source": [
    "gene_corrs_quantiles = gene_corrs_flat.quantile(np.arange(0, 1, 0.05))\n",
    "display(gene_corrs_quantiles)"
   ]
  },
  {
   "cell_type": "markdown",
   "id": "87134509-b145-4a10-8bc9-b7e914c2b0fa",
   "metadata": {
    "papermill": {
     "duration": 2.328075,
     "end_time": "2023-08-30T04:10:14.204095",
     "exception": false,
     "start_time": "2023-08-30T04:10:11.876020",
     "status": "completed"
    },
    "tags": []
   },
   "source": [
    "## Positive definiteness"
   ]
  },
  {
   "cell_type": "code",
   "execution_count": 37,
   "id": "07d9a9a1-a4f7-48aa-b916-6d42a8cc6186",
   "metadata": {
    "execution": {
     "iopub.execute_input": "2023-08-30T04:10:18.739231Z",
     "iopub.status.busy": "2023-08-30T04:10:18.738560Z",
     "iopub.status.idle": "2023-08-30T04:10:18.799455Z",
     "shell.execute_reply": "2023-08-30T04:10:18.798839Z"
    },
    "papermill": {
     "duration": 2.326817,
     "end_time": "2023-08-30T04:10:18.800386",
     "exception": false,
     "start_time": "2023-08-30T04:10:16.473569",
     "status": "completed"
    },
    "tags": []
   },
   "outputs": [
    {
     "data": {
      "text/plain": [
       "0"
      ]
     },
     "metadata": {},
     "output_type": "display_data"
    },
    {
     "data": {
      "text/plain": [
       "array([], dtype=float64)"
      ]
     },
     "metadata": {},
     "output_type": "display_data"
    }
   ],
   "source": [
    "# print negative eigenvalues\n",
    "eigs = np.linalg.eigvals(gene_corrs_df.to_numpy())\n",
    "display(len(eigs[eigs < 0]))\n",
    "display(eigs[eigs < 0])"
   ]
  },
  {
   "cell_type": "code",
   "execution_count": 38,
   "id": "6e218436-c3c5-4028-8c94-a4fa6260efce",
   "metadata": {
    "execution": {
     "iopub.execute_input": "2023-08-30T04:10:23.344069Z",
     "iopub.status.busy": "2023-08-30T04:10:23.343659Z",
     "iopub.status.idle": "2023-08-30T04:10:23.379717Z",
     "shell.execute_reply": "2023-08-30T04:10:23.378978Z"
    },
    "papermill": {
     "duration": 2.24874,
     "end_time": "2023-08-30T04:10:23.380709",
     "exception": false,
     "start_time": "2023-08-30T04:10:21.131969",
     "status": "completed"
    },
    "tags": []
   },
   "outputs": [
    {
     "name": "stdout",
     "output_type": "stream",
     "text": [
      "Works!\n"
     ]
    }
   ],
   "source": [
    "try:\n",
    "    chol_mat = np.linalg.cholesky(gene_corrs_df.to_numpy())\n",
    "    cov_inv = np.linalg.inv(chol_mat)\n",
    "    print(\"Works!\")\n",
    "except Exception as e:\n",
    "    print(f\"Cholesky decomposition failed: {str(e)}\")"
   ]
  },
  {
   "cell_type": "code",
   "execution_count": 39,
   "id": "dd8827fb-faf9-4c7c-9454-015e94752706",
   "metadata": {
    "execution": {
     "iopub.execute_input": "2023-08-30T04:10:27.877104Z",
     "iopub.status.busy": "2023-08-30T04:10:27.876845Z",
     "iopub.status.idle": "2023-08-30T04:10:27.906725Z",
     "shell.execute_reply": "2023-08-30T04:10:27.906059Z"
    },
    "papermill": {
     "duration": 2.247901,
     "end_time": "2023-08-30T04:10:27.907694",
     "exception": false,
     "start_time": "2023-08-30T04:10:25.659793",
     "status": "completed"
    },
    "tags": []
   },
   "outputs": [
    {
     "name": "stdout",
     "output_type": "stream",
     "text": [
      "Works!\n"
     ]
    }
   ],
   "source": [
    "try:\n",
    "    # decomposition used by statsmodels.GLS\n",
    "    cholsigmainv = np.linalg.cholesky(np.linalg.inv(gene_corrs_df.to_numpy())).T\n",
    "    print(\"Works!\")\n",
    "except Exception as e:\n",
    "    print(f\"Cholesky decomposition failed (statsmodels.GLS): {str(e)}\")"
   ]
  },
  {
   "cell_type": "markdown",
   "id": "8e60a080-edb2-4e9c-b2ef-22961693200c",
   "metadata": {
    "papermill": {
     "duration": 2.150791,
     "end_time": "2023-08-30T04:10:32.340147",
     "exception": false,
     "start_time": "2023-08-30T04:10:30.189356",
     "status": "completed"
    },
    "tags": []
   },
   "source": [
    "## Plot: distribution"
   ]
  },
  {
   "cell_type": "code",
   "execution_count": 40,
   "id": "8301126b-a7d4-4744-9c7d-f0f86eb6f54c",
   "metadata": {
    "execution": {
     "iopub.execute_input": "2023-08-30T04:10:36.847602Z",
     "iopub.status.busy": "2023-08-30T04:10:36.847258Z",
     "iopub.status.idle": "2023-08-30T04:10:37.354858Z",
     "shell.execute_reply": "2023-08-30T04:10:37.354346Z"
    },
    "papermill": {
     "duration": 2.759327,
     "end_time": "2023-08-30T04:10:37.355821",
     "exception": false,
     "start_time": "2023-08-30T04:10:34.596494",
     "status": "completed"
    },
    "tags": []
   },
   "outputs": [
    {
     "data": {
      "image/png": "[encoded data removed]",
      "text/plain": [
       "<Figure size 700x700 with 1 Axes>"
      ]
     },
     "metadata": {},
     "output_type": "display_data"
    }
   ],
   "source": [
    "with sns.plotting_context(\"paper\", font_scale=1.5):\n",
    "    g = sns.displot(gene_corrs_flat, kde=True, height=7)\n",
    "    g.ax.set_title(\n",
    "        f\"Distribution of gene correlation values in chromosome {CHROMOSOME}\"\n",
    "    )"
   ]
  },
  {
   "cell_type": "markdown",
   "id": "cbd52bca-d878-4a2f-b684-5c83aa3038d4",
   "metadata": {
    "papermill": {
     "duration": 2.162796,
     "end_time": "2023-08-30T04:10:41.805168",
     "exception": false,
     "start_time": "2023-08-30T04:10:39.642372",
     "status": "completed"
    },
    "tags": []
   },
   "source": [
    "## Plot: heatmap"
   ]
  },
  {
   "cell_type": "code",
   "execution_count": 41,
   "id": "d03fe63a-c7b2-4fb9-a53c-db362ce843c9",
   "metadata": {
    "execution": {
     "iopub.execute_input": "2023-08-30T04:10:46.346214Z",
     "iopub.status.busy": "2023-08-30T04:10:46.345855Z",
     "iopub.status.idle": "2023-08-30T04:10:46.361148Z",
     "shell.execute_reply": "2023-08-30T04:10:46.360760Z"
    },
    "papermill": {
     "duration": 2.250864,
     "end_time": "2023-08-30T04:10:46.361888",
     "exception": false,
     "start_time": "2023-08-30T04:10:44.111024",
     "status": "completed"
    },
    "tags": []
   },
   "outputs": [
    {
     "data": {
      "text/plain": [
       "'0.0 / 0.05'"
      ]
     },
     "metadata": {},
     "output_type": "display_data"
    }
   ],
   "source": [
    "vmin_val = min(0.00, gene_corrs_quantiles[0.10])\n",
    "vmax_val = max(0.05, gene_corrs_quantiles[0.90])\n",
    "display(f\"{vmin_val} / {vmax_val}\")"
   ]
  },
  {
   "cell_type": "code",
   "execution_count": 42,
   "id": "dc41b70b-5bcc-4d9e-9f33-a22c4a94dab5",
   "metadata": {
    "execution": {
     "iopub.execute_input": "2023-08-30T04:10:50.868194Z",
     "iopub.status.busy": "2023-08-30T04:10:50.867912Z",
     "iopub.status.idle": "2023-08-30T04:10:51.158080Z",
     "shell.execute_reply": "2023-08-30T04:10:51.157613Z"
    },
    "papermill": {
     "duration": 2.476405,
     "end_time": "2023-08-30T04:10:51.159696",
     "exception": false,
     "start_time": "2023-08-30T04:10:48.683291",
     "status": "completed"
    },
    "tags": []
   },
   "outputs": [
    {
     "data": {
      "text/plain": [
       "Text(0.5, 1.0, 'Gene correlations in chromosome 11')"
      ]
     },
     "execution_count": 42,
     "metadata": {},
     "output_type": "execute_result"
    },
    {
     "data": {
      "image/png": "[encoded data removed]",
      "text/plain": [
       "<Figure size 1000x1000 with 2 Axes>"
      ]
     },
     "metadata": {},
     "output_type": "display_data"
    }
   ],
   "source": [
    "f, ax = plt.subplots(figsize=(10, 10))\n",
    "sns.heatmap(\n",
    "    gene_corrs_df,\n",
    "    xticklabels=False,\n",
    "    yticklabels=False,\n",
    "    square=True,\n",
    "    vmin=vmin_val,\n",
    "    vmax=vmax_val,\n",
    "    cmap=\"rocket_r\",\n",
    "    ax=ax,\n",
    ")\n",
    "ax.set_title(f\"Gene correlations in chromosome {CHROMOSOME}\")"
   ]
  },
  {
   "cell_type": "code",
   "execution_count": null,
   "id": "b25e3ead",
   "metadata": {
    "papermill": {
     "duration": 2.258504,
     "end_time": "2023-08-30T04:10:55.765394",
     "exception": false,
     "start_time": "2023-08-30T04:10:53.506890",
     "status": "completed"
    },
    "tags": []
   },
   "outputs": [],
   "source": []
  }
 ],
 "metadata": {
  "jupytext": {
   "cell_metadata_filter": "all,-execution,-papermill,-trusted",
   "formats": "ipynb,py//py:percent"
  },
  "kernelspec": {
   "display_name": "Python 3 (ipykernel)",
   "language": "python",
   "name": "python3"
  },
  "language_info": {
   "codemirror_mode": {
    "name": "ipython",
    "version": 3
   },
   "file_extension": ".py",
   "mimetype": "text/x-python",
   "name": "python",
   "nbconvert_exporter": "python",
   "pygments_lexer": "ipython3",
   "version": "3.10.6"
  },
  "papermill": {
   "default_parameters": {},
   "duration": 650.162653,
   "end_time": "2023-08-30T04:11:01.303124",
   "environment_variables": {},
   "exception": null,
   "input_path": "projects/chronotype/nbs/20_gene_corrs/jobs/05-gene_expr_correlations.ipynb",
   "output_path": "projects/chronotype/nbs/20_gene_corrs/jobs/../output/chronotype/05-gene_expr_correlations-chr11.run.ipynb",
   "parameters": {
    "CHROMOSOME": 11,
    "COHORT_NAME": "chronotype",
    "OUTPUT_DIR_BASE": "/opt/data/projects/chronotype/results/gls_phenoplier",
    "PHENOPLIER_NOTEBOOK_FILEPATH": "projects/chronotype/nbs/20_gene_corrs/jobs/05-gene_expr_correlations.ipynb"
   },
   "start_time": "2023-08-30T04:00:11.140471",
   "version": "2.2.2"
  }
 },
 "nbformat": 4,
 "nbformat_minor": 5
}
