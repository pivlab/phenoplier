{
 "cells": [
  {
   "cell_type": "markdown",
   "id": "7a6632fb",
   "metadata": {
    "papermill": {
     "duration": 0.009038,
     "end_time": "2023-08-30T04:02:01.165435",
     "exception": false,
     "start_time": "2023-08-30T04:02:01.156397",
     "status": "completed"
    },
    "tags": []
   },
   "source": [
    "# Description"
   ]
  },
  {
   "cell_type": "markdown",
   "id": "7097c346",
   "metadata": {
    "papermill": {
     "duration": 0.008361,
     "end_time": "2023-08-30T04:02:01.183946",
     "exception": false,
     "start_time": "2023-08-30T04:02:01.175585",
     "status": "completed"
    },
    "tags": []
   },
   "source": [
    "This notebook computes predicted expression correlations between all genes in the MultiPLIER models.\n",
    "\n",
    "It has specicfic parameters for papermill (see under `Settings` below).\n",
    "\n",
    "This notebook should not be directly run. It is used by other notebooks."
   ]
  },
  {
   "cell_type": "markdown",
   "id": "c61d8427",
   "metadata": {
    "papermill": {
     "duration": 0.007853,
     "end_time": "2023-08-30T04:02:01.199777",
     "exception": false,
     "start_time": "2023-08-30T04:02:01.191924",
     "status": "completed"
    },
    "tags": []
   },
   "source": [
    "# Modules"
   ]
  },
  {
   "cell_type": "code",
   "execution_count": 1,
   "id": "bbc0234f",
   "metadata": {
    "execution": {
     "iopub.execute_input": "2023-08-30T04:02:01.218512Z",
     "iopub.status.busy": "2023-08-30T04:02:01.217576Z",
     "iopub.status.idle": "2023-08-30T04:02:01.240756Z",
     "shell.execute_reply": "2023-08-30T04:02:01.240091Z"
    },
    "papermill": {
     "duration": 0.034147,
     "end_time": "2023-08-30T04:02:01.242509",
     "exception": false,
     "start_time": "2023-08-30T04:02:01.208362",
     "status": "completed"
    },
    "tags": []
   },
   "outputs": [],
   "source": [
    "%load_ext autoreload\n",
    "%autoreload 2"
   ]
  },
  {
   "cell_type": "code",
   "execution_count": 2,
   "id": "1d5f5a59",
   "metadata": {
    "execution": {
     "iopub.execute_input": "2023-08-30T04:02:01.260487Z",
     "iopub.status.busy": "2023-08-30T04:02:01.260137Z",
     "iopub.status.idle": "2023-08-30T04:02:02.062856Z",
     "shell.execute_reply": "2023-08-30T04:02:02.062218Z"
    },
    "papermill": {
     "duration": 0.812813,
     "end_time": "2023-08-30T04:02:02.064093",
     "exception": false,
     "start_time": "2023-08-30T04:02:01.251280",
     "status": "completed"
    },
    "tags": []
   },
   "outputs": [],
   "source": [
    "from random import sample, seed\n",
    "import warnings\n",
    "from pathlib import Path\n",
    "import pickle\n",
    "import traceback\n",
    "\n",
    "import numpy as np\n",
    "from scipy.spatial.distance import squareform\n",
    "import pandas as pd\n",
    "from tqdm import tqdm\n",
    "import matplotlib.pyplot as plt\n",
    "import seaborn as sns\n",
    "\n",
    "import conf\n",
    "from entity import Gene"
   ]
  },
  {
   "cell_type": "markdown",
   "id": "1eac24b5",
   "metadata": {
    "papermill": {
     "duration": 0.010542,
     "end_time": "2023-08-30T04:02:02.079718",
     "exception": false,
     "start_time": "2023-08-30T04:02:02.069176",
     "status": "completed"
    },
    "tags": []
   },
   "source": [
    "# Settings"
   ]
  },
  {
   "cell_type": "code",
   "execution_count": 3,
   "id": "ca4560ba",
   "metadata": {
    "execution": {
     "iopub.execute_input": "2023-08-30T04:02:02.100997Z",
     "iopub.status.busy": "2023-08-30T04:02:02.100481Z",
     "iopub.status.idle": "2023-08-30T04:02:02.114687Z",
     "shell.execute_reply": "2023-08-30T04:02:02.114267Z"
    },
    "papermill": {
     "duration": 0.026032,
     "end_time": "2023-08-30T04:02:02.116277",
     "exception": false,
     "start_time": "2023-08-30T04:02:02.090245",
     "status": "completed"
    },
    "tags": [
     "parameters"
    ]
   },
   "outputs": [],
   "source": [
    "# a cohort name (it could be something like UK_BIOBANK, etc)\n",
    "COHORT_NAME = None\n",
    "\n",
    "# reference panel such as 1000G or GTEX_V8\n",
    "REFERENCE_PANEL = \"GTEX_V8\"\n",
    "\n",
    "# predictions models such as MASHR or ELASTIC_NET\n",
    "EQTL_MODEL = \"MASHR\"\n",
    "\n",
    "# this is the default value used in S-MultiXcan to select the\n",
    "# top principal components of the expression correlation matrix\n",
    "SMULTIXCAN_CONDITION_NUMBER = 30\n",
    "\n",
    "# specifies a single chromosome value\n",
    "CHROMOSOME = None\n",
    "\n",
    "# If True, computes the correlation between closeby genes only (see\n",
    "# entity.Gene.within_distance for more details). Otherwise, it computes\n",
    "# correlations for all genes in a chromosome\n",
    "COMPUTE_CORRELATIONS_WITHIN_DISTANCE = True\n",
    "\n",
    "# if True, then it will continue if a gene pair correlation fails,\n",
    "# printing the warning/error for debugging. If False, any warning/error\n",
    "# will be thrown\n",
    "DEBUG_MODE = False\n",
    "\n",
    "# output dir\n",
    "OUTPUT_DIR_BASE = None"
   ]
  },
  {
   "cell_type": "code",
   "execution_count": 4,
   "id": "5ecf151a",
   "metadata": {
    "execution": {
     "iopub.execute_input": "2023-08-30T04:02:02.136087Z",
     "iopub.status.busy": "2023-08-30T04:02:02.135910Z",
     "iopub.status.idle": "2023-08-30T04:02:02.148929Z",
     "shell.execute_reply": "2023-08-30T04:02:02.148545Z"
    },
    "papermill": {
     "duration": 0.024701,
     "end_time": "2023-08-30T04:02:02.150567",
     "exception": false,
     "start_time": "2023-08-30T04:02:02.125866",
     "status": "completed"
    },
    "tags": [
     "injected-parameters"
    ]
   },
   "outputs": [],
   "source": [
    "# Parameters\n",
    "PHENOPLIER_NOTEBOOK_FILEPATH = (\n",
    "    \"projects/chronotype/nbs/20_gene_corrs/jobs/05-gene_expr_correlations.ipynb\"\n",
    ")\n",
    "COHORT_NAME = \"chronotype\"\n",
    "CHROMOSOME = 22\n",
    "OUTPUT_DIR_BASE = \"/opt/data/projects/chronotype/results/gls_phenoplier\"\n"
   ]
  },
  {
   "cell_type": "code",
   "execution_count": 5,
   "id": "3190631f-27fc-480f-b18e-571d580425a5",
   "metadata": {
    "execution": {
     "iopub.execute_input": "2023-08-30T04:02:02.169547Z",
     "iopub.status.busy": "2023-08-30T04:02:02.169416Z",
     "iopub.status.idle": "2023-08-30T04:02:02.185987Z",
     "shell.execute_reply": "2023-08-30T04:02:02.185623Z"
    },
    "papermill": {
     "duration": 0.027617,
     "end_time": "2023-08-30T04:02:02.187496",
     "exception": false,
     "start_time": "2023-08-30T04:02:02.159879",
     "status": "completed"
    },
    "tags": []
   },
   "outputs": [
    {
     "data": {
      "text/plain": [
       "'Cohort name: chronotype'"
      ]
     },
     "metadata": {},
     "output_type": "display_data"
    }
   ],
   "source": [
    "assert COHORT_NAME is not None and len(COHORT_NAME) > 0, \"A cohort name must be given\"\n",
    "\n",
    "COHORT_NAME = COHORT_NAME.lower()\n",
    "display(f\"Cohort name: {COHORT_NAME}\")"
   ]
  },
  {
   "cell_type": "code",
   "execution_count": 6,
   "id": "f53ba19b-0f93-4fa2-a047-63b375939d1a",
   "metadata": {
    "execution": {
     "iopub.execute_input": "2023-08-30T04:02:02.206028Z",
     "iopub.status.busy": "2023-08-30T04:02:02.205850Z",
     "iopub.status.idle": "2023-08-30T04:02:02.219490Z",
     "shell.execute_reply": "2023-08-30T04:02:02.219119Z"
    },
    "papermill": {
     "duration": 0.024251,
     "end_time": "2023-08-30T04:02:02.220891",
     "exception": false,
     "start_time": "2023-08-30T04:02:02.196640",
     "status": "completed"
    },
    "tags": []
   },
   "outputs": [
    {
     "data": {
      "text/plain": [
       "'Reference panel: GTEX_V8'"
      ]
     },
     "metadata": {},
     "output_type": "display_data"
    }
   ],
   "source": [
    "assert (\n",
    "    REFERENCE_PANEL is not None and len(REFERENCE_PANEL) > 0\n",
    "), \"A reference panel must be given\"\n",
    "\n",
    "display(f\"Reference panel: {REFERENCE_PANEL}\")"
   ]
  },
  {
   "cell_type": "code",
   "execution_count": 7,
   "id": "e024d130-c139-429a-9c6e-ccf149e297b0",
   "metadata": {
    "execution": {
     "iopub.execute_input": "2023-08-30T04:02:02.240566Z",
     "iopub.status.busy": "2023-08-30T04:02:02.240433Z",
     "iopub.status.idle": "2023-08-30T04:02:02.254335Z",
     "shell.execute_reply": "2023-08-30T04:02:02.253874Z"
    },
    "papermill": {
     "duration": 0.024279,
     "end_time": "2023-08-30T04:02:02.255211",
     "exception": false,
     "start_time": "2023-08-30T04:02:02.230932",
     "status": "completed"
    },
    "tags": []
   },
   "outputs": [
    {
     "data": {
      "text/plain": [
       "'eQTL model: MASHR) / mashr_'"
      ]
     },
     "metadata": {},
     "output_type": "display_data"
    }
   ],
   "source": [
    "assert (\n",
    "    EQTL_MODEL is not None and len(EQTL_MODEL) > 0\n",
    "), \"A prediction/eQTL model must be given\"\n",
    "\n",
    "EQTL_MODEL_FILES_PREFIX = conf.PHENOMEXCAN[\"PREDICTION_MODELS\"][f\"{EQTL_MODEL}_PREFIX\"]\n",
    "display(f\"eQTL model: {EQTL_MODEL}) / {EQTL_MODEL_FILES_PREFIX}\")"
   ]
  },
  {
   "cell_type": "code",
   "execution_count": 8,
   "id": "552a7f63-a18c-4d3e-bb6a-94f99b431291",
   "metadata": {
    "execution": {
     "iopub.execute_input": "2023-08-30T04:02:02.266887Z",
     "iopub.status.busy": "2023-08-30T04:02:02.266529Z",
     "iopub.status.idle": "2023-08-30T04:02:02.290003Z",
     "shell.execute_reply": "2023-08-30T04:02:02.289446Z"
    },
    "papermill": {
     "duration": 0.030662,
     "end_time": "2023-08-30T04:02:02.291407",
     "exception": false,
     "start_time": "2023-08-30T04:02:02.260745",
     "status": "completed"
    },
    "tags": []
   },
   "outputs": [
    {
     "data": {
      "text/plain": [
       "'S-MultiXcan condition number: 30'"
      ]
     },
     "metadata": {},
     "output_type": "display_data"
    }
   ],
   "source": [
    "assert (\n",
    "    SMULTIXCAN_CONDITION_NUMBER is not None and SMULTIXCAN_CONDITION_NUMBER > 0\n",
    "), \"The S-MultiXcan condition number (positive integer) must be given\"\n",
    "\n",
    "display(f\"S-MultiXcan condition number: {SMULTIXCAN_CONDITION_NUMBER}\")"
   ]
  },
  {
   "cell_type": "code",
   "execution_count": 9,
   "id": "f34a336f-548e-4afe-8955-90eaea4f42c6",
   "metadata": {
    "execution": {
     "iopub.execute_input": "2023-08-30T04:02:02.310677Z",
     "iopub.status.busy": "2023-08-30T04:02:02.310330Z",
     "iopub.status.idle": "2023-08-30T04:02:02.333758Z",
     "shell.execute_reply": "2023-08-30T04:02:02.333212Z"
    },
    "papermill": {
     "duration": 0.034399,
     "end_time": "2023-08-30T04:02:02.335149",
     "exception": false,
     "start_time": "2023-08-30T04:02:02.300750",
     "status": "completed"
    },
    "tags": []
   },
   "outputs": [
    {
     "data": {
      "text/plain": [
       "'Working on chromosome 22'"
      ]
     },
     "metadata": {},
     "output_type": "display_data"
    }
   ],
   "source": [
    "assert CHROMOSOME is not None and (\n",
    "    1 <= CHROMOSOME <= 22\n",
    "), \"You have to select one chromosome (format: number between 1 and 22)\"\n",
    "\n",
    "display(f\"Working on chromosome {CHROMOSOME}\")"
   ]
  },
  {
   "cell_type": "code",
   "execution_count": 10,
   "id": "ab8e96e8-06b5-4363-9dcd-dc4d78cc27f7",
   "metadata": {
    "execution": {
     "iopub.execute_input": "2023-08-30T04:02:02.353425Z",
     "iopub.status.busy": "2023-08-30T04:02:02.353077Z",
     "iopub.status.idle": "2023-08-30T04:02:02.376665Z",
     "shell.execute_reply": "2023-08-30T04:02:02.376114Z"
    },
    "papermill": {
     "duration": 0.033917,
     "end_time": "2023-08-30T04:02:02.378023",
     "exception": false,
     "start_time": "2023-08-30T04:02:02.344106",
     "status": "completed"
    },
    "tags": []
   },
   "outputs": [
    {
     "data": {
      "text/plain": [
       "'Compute correlation within distance True'"
      ]
     },
     "metadata": {},
     "output_type": "display_data"
    }
   ],
   "source": [
    "display(f\"Compute correlation within distance {COMPUTE_CORRELATIONS_WITHIN_DISTANCE}\")"
   ]
  },
  {
   "cell_type": "code",
   "execution_count": 11,
   "id": "b393b698-77e3-4ba2-8ac1-e14d51aa988f",
   "metadata": {
    "execution": {
     "iopub.execute_input": "2023-08-30T04:02:02.397669Z",
     "iopub.status.busy": "2023-08-30T04:02:02.397209Z",
     "iopub.status.idle": "2023-08-30T04:02:02.421158Z",
     "shell.execute_reply": "2023-08-30T04:02:02.420616Z"
    },
    "papermill": {
     "duration": 0.035069,
     "end_time": "2023-08-30T04:02:02.422471",
     "exception": false,
     "start_time": "2023-08-30T04:02:02.387402",
     "status": "completed"
    },
    "tags": []
   },
   "outputs": [
    {
     "data": {
      "text/plain": [
       "'Using output dir base: /opt/data/projects/chronotype/results/gls_phenoplier/gene_corrs/chronotype'"
      ]
     },
     "metadata": {},
     "output_type": "display_data"
    }
   ],
   "source": [
    "assert (\n",
    "    OUTPUT_DIR_BASE is not None and len(OUTPUT_DIR_BASE) > 0\n",
    "), \"Output directory path must be given\"\n",
    "\n",
    "OUTPUT_DIR_BASE = (Path(OUTPUT_DIR_BASE) / \"gene_corrs\" / COHORT_NAME).resolve()\n",
    "\n",
    "OUTPUT_DIR_BASE.mkdir(parents=True, exist_ok=True)\n",
    "\n",
    "display(f\"Using output dir base: {OUTPUT_DIR_BASE}\")"
   ]
  },
  {
   "cell_type": "markdown",
   "id": "d2ba085e",
   "metadata": {
    "papermill": {
     "duration": 0.008988,
     "end_time": "2023-08-30T04:02:02.440975",
     "exception": false,
     "start_time": "2023-08-30T04:02:02.431987",
     "status": "completed"
    },
    "tags": []
   },
   "source": [
    "# Load data"
   ]
  },
  {
   "cell_type": "markdown",
   "id": "7dcb8db7",
   "metadata": {
    "papermill": {
     "duration": 0.009255,
     "end_time": "2023-08-30T04:02:02.458646",
     "exception": false,
     "start_time": "2023-08-30T04:02:02.449391",
     "status": "completed"
    },
    "tags": []
   },
   "source": [
    "## GWAS variants"
   ]
  },
  {
   "cell_type": "code",
   "execution_count": 12,
   "id": "29434c4e-8cd3-4b9b-82e4-b5a251d9dd19",
   "metadata": {
    "execution": {
     "iopub.execute_input": "2023-08-30T04:02:02.477910Z",
     "iopub.status.busy": "2023-08-30T04:02:02.477533Z",
     "iopub.status.idle": "2023-08-30T04:02:05.570726Z",
     "shell.execute_reply": "2023-08-30T04:02:05.570230Z"
    },
    "papermill": {
     "duration": 3.104326,
     "end_time": "2023-08-30T04:02:05.571997",
     "exception": false,
     "start_time": "2023-08-30T04:02:02.467671",
     "status": "completed"
    },
    "tags": []
   },
   "outputs": [],
   "source": [
    "with open(OUTPUT_DIR_BASE / \"gwas_variant_ids.pkl\", \"rb\") as handle:\n",
    "    gwas_variants_ids_set = pickle.load(handle)"
   ]
  },
  {
   "cell_type": "code",
   "execution_count": 13,
   "id": "b9d9dec2-4a76-4bf9-bde2-e24c95acb8a0",
   "metadata": {
    "execution": {
     "iopub.execute_input": "2023-08-30T04:02:05.589895Z",
     "iopub.status.busy": "2023-08-30T04:02:05.589512Z",
     "iopub.status.idle": "2023-08-30T04:02:05.605047Z",
     "shell.execute_reply": "2023-08-30T04:02:05.604584Z"
    },
    "papermill": {
     "duration": 0.027521,
     "end_time": "2023-08-30T04:02:05.606019",
     "exception": false,
     "start_time": "2023-08-30T04:02:05.578498",
     "status": "completed"
    },
    "tags": []
   },
   "outputs": [
    {
     "data": {
      "text/plain": [
       "11737794"
      ]
     },
     "execution_count": 13,
     "metadata": {},
     "output_type": "execute_result"
    }
   ],
   "source": [
    "len(gwas_variants_ids_set)"
   ]
  },
  {
   "cell_type": "code",
   "execution_count": 14,
   "id": "4235b06a-6034-4ee4-a0a3-2ae35d122418",
   "metadata": {
    "execution": {
     "iopub.execute_input": "2023-08-30T04:02:05.618342Z",
     "iopub.status.busy": "2023-08-30T04:02:05.618206Z",
     "iopub.status.idle": "2023-08-30T04:02:06.342734Z",
     "shell.execute_reply": "2023-08-30T04:02:06.342151Z"
    },
    "papermill": {
     "duration": 0.731888,
     "end_time": "2023-08-30T04:02:06.344127",
     "exception": false,
     "start_time": "2023-08-30T04:02:05.612239",
     "status": "completed"
    },
    "tags": []
   },
   "outputs": [
    {
     "data": {
      "text/plain": [
       "['chr10_115612201_A_G_b38',\n",
       " 'chr5_24866334_G_A_b38',\n",
       " 'chr6_106810403_C_G_b38',\n",
       " 'chr18_1008238_A_G_b38',\n",
       " 'chr7_39425133_G_A_b38']"
      ]
     },
     "execution_count": 14,
     "metadata": {},
     "output_type": "execute_result"
    }
   ],
   "source": [
    "list(gwas_variants_ids_set)[:5]"
   ]
  },
  {
   "cell_type": "markdown",
   "id": "07866999-2305-41f9-a144-e69c9122c212",
   "metadata": {
    "papermill": {
     "duration": 0.010683,
     "end_time": "2023-08-30T04:02:06.363323",
     "exception": false,
     "start_time": "2023-08-30T04:02:06.352640",
     "status": "completed"
    },
    "tags": []
   },
   "source": [
    "## S-PrediXcan tissue models"
   ]
  },
  {
   "cell_type": "code",
   "execution_count": 15,
   "id": "780611d9-77c8-405f-90a4-f271f7b09397",
   "metadata": {
    "execution": {
     "iopub.execute_input": "2023-08-30T04:02:06.384584Z",
     "iopub.status.busy": "2023-08-30T04:02:06.384288Z",
     "iopub.status.idle": "2023-08-30T04:02:07.898064Z",
     "shell.execute_reply": "2023-08-30T04:02:07.897363Z"
    },
    "papermill": {
     "duration": 1.52608,
     "end_time": "2023-08-30T04:02:07.899800",
     "exception": false,
     "start_time": "2023-08-30T04:02:06.373720",
     "status": "completed"
    },
    "tags": []
   },
   "outputs": [],
   "source": [
    "spredixcan_genes_models = pd.read_pickle(OUTPUT_DIR_BASE / \"gene_tissues.pkl\")"
   ]
  },
  {
   "cell_type": "code",
   "execution_count": 16,
   "id": "726dd1f6-9557-4225-91fa-b3b879ea96e1",
   "metadata": {
    "execution": {
     "iopub.execute_input": "2023-08-30T04:02:07.921178Z",
     "iopub.status.busy": "2023-08-30T04:02:07.920944Z",
     "iopub.status.idle": "2023-08-30T04:02:07.939492Z",
     "shell.execute_reply": "2023-08-30T04:02:07.938834Z"
    },
    "papermill": {
     "duration": 0.031134,
     "end_time": "2023-08-30T04:02:07.940837",
     "exception": false,
     "start_time": "2023-08-30T04:02:07.909703",
     "status": "completed"
    },
    "tags": []
   },
   "outputs": [
    {
     "data": {
      "text/plain": [
       "(6445, 5)"
      ]
     },
     "execution_count": 16,
     "metadata": {},
     "output_type": "execute_result"
    }
   ],
   "source": [
    "spredixcan_genes_models.shape"
   ]
  },
  {
   "cell_type": "code",
   "execution_count": 17,
   "id": "944a1b48-222c-4eb0-b252-b9de2cbca215",
   "metadata": {
    "execution": {
     "iopub.execute_input": "2023-08-30T04:02:07.961793Z",
     "iopub.status.busy": "2023-08-30T04:02:07.961572Z",
     "iopub.status.idle": "2023-08-30T04:02:07.983659Z",
     "shell.execute_reply": "2023-08-30T04:02:07.983227Z"
    },
    "papermill": {
     "duration": 0.033813,
     "end_time": "2023-08-30T04:02:07.984822",
     "exception": false,
     "start_time": "2023-08-30T04:02:07.951009",
     "status": "completed"
    },
    "tags": []
   },
   "outputs": [
    {
     "data": {
      "text/html": [
       "<div>\n",
       "<style scoped>\n",
       "    .dataframe tbody tr th:only-of-type {\n",
       "        vertical-align: middle;\n",
       "    }\n",
       "\n",
       "    .dataframe tbody tr th {\n",
       "        vertical-align: top;\n",
       "    }\n",
       "\n",
       "    .dataframe thead th {\n",
       "        text-align: right;\n",
       "    }\n",
       "</style>\n",
       "<table border=\"1\" class=\"dataframe\">\n",
       "  <thead>\n",
       "    <tr style=\"text-align: right;\">\n",
       "      <th></th>\n",
       "      <th>gene_name</th>\n",
       "      <th>tissue</th>\n",
       "      <th>n_tissues</th>\n",
       "      <th>n_snps_used_sum</th>\n",
       "      <th>n_snps_in_model_sum</th>\n",
       "    </tr>\n",
       "    <tr>\n",
       "      <th>gene_id</th>\n",
       "      <th></th>\n",
       "      <th></th>\n",
       "      <th></th>\n",
       "      <th></th>\n",
       "      <th></th>\n",
       "    </tr>\n",
       "  </thead>\n",
       "  <tbody>\n",
       "    <tr>\n",
       "      <th>ENSG00000000419</th>\n",
       "      <td>DPM1</td>\n",
       "      <td>(Brain_Hypothalamus, Brain_Substantia_nigra)</td>\n",
       "      <td>2</td>\n",
       "      <td>2</td>\n",
       "      <td>2</td>\n",
       "    </tr>\n",
       "    <tr>\n",
       "      <th>ENSG00000000938</th>\n",
       "      <td>FGR</td>\n",
       "      <td>(Testis, Skin_Not_Sun_Exposed_Suprapubic, Brai...</td>\n",
       "      <td>36</td>\n",
       "      <td>40</td>\n",
       "      <td>40</td>\n",
       "    </tr>\n",
       "    <tr>\n",
       "      <th>ENSG00000000971</th>\n",
       "      <td>CFH</td>\n",
       "      <td>(Testis, Skin_Not_Sun_Exposed_Suprapubic, Brai...</td>\n",
       "      <td>34</td>\n",
       "      <td>44</td>\n",
       "      <td>44</td>\n",
       "    </tr>\n",
       "    <tr>\n",
       "      <th>ENSG00000001084</th>\n",
       "      <td>GCLC</td>\n",
       "      <td>(Testis, Skin_Not_Sun_Exposed_Suprapubic, Brai...</td>\n",
       "      <td>32</td>\n",
       "      <td>46</td>\n",
       "      <td>46</td>\n",
       "    </tr>\n",
       "    <tr>\n",
       "      <th>ENSG00000001167</th>\n",
       "      <td>NFYA</td>\n",
       "      <td>(Testis, Minor_Salivary_Gland, Brain_Cortex, B...</td>\n",
       "      <td>40</td>\n",
       "      <td>47</td>\n",
       "      <td>48</td>\n",
       "    </tr>\n",
       "  </tbody>\n",
       "</table>\n",
       "</div>"
      ],
      "text/plain": [
       "                gene_name                                             tissue  \\\n",
       "gene_id                                                                        \n",
       "ENSG00000000419      DPM1       (Brain_Hypothalamus, Brain_Substantia_nigra)   \n",
       "ENSG00000000938       FGR  (Testis, Skin_Not_Sun_Exposed_Suprapubic, Brai...   \n",
       "ENSG00000000971       CFH  (Testis, Skin_Not_Sun_Exposed_Suprapubic, Brai...   \n",
       "ENSG00000001084      GCLC  (Testis, Skin_Not_Sun_Exposed_Suprapubic, Brai...   \n",
       "ENSG00000001167      NFYA  (Testis, Minor_Salivary_Gland, Brain_Cortex, B...   \n",
       "\n",
       "                 n_tissues  n_snps_used_sum  n_snps_in_model_sum  \n",
       "gene_id                                                           \n",
       "ENSG00000000419          2                2                    2  \n",
       "ENSG00000000938         36               40                   40  \n",
       "ENSG00000000971         34               44                   44  \n",
       "ENSG00000001084         32               46                   46  \n",
       "ENSG00000001167         40               47                   48  "
      ]
     },
     "execution_count": 17,
     "metadata": {},
     "output_type": "execute_result"
    }
   ],
   "source": [
    "spredixcan_genes_models.head()"
   ]
  },
  {
   "cell_type": "code",
   "execution_count": 18,
   "id": "d1c11bb1-be0b-4f40-b360-633d6827109f",
   "metadata": {
    "execution": {
     "iopub.execute_input": "2023-08-30T04:02:08.003499Z",
     "iopub.status.busy": "2023-08-30T04:02:08.003152Z",
     "iopub.status.idle": "2023-08-30T04:02:08.023692Z",
     "shell.execute_reply": "2023-08-30T04:02:08.023132Z"
    },
    "papermill": {
     "duration": 0.031601,
     "end_time": "2023-08-30T04:02:08.025273",
     "exception": false,
     "start_time": "2023-08-30T04:02:07.993672",
     "status": "completed"
    },
    "tags": []
   },
   "outputs": [],
   "source": [
    "assert spredixcan_genes_models.index.is_unique"
   ]
  },
  {
   "cell_type": "markdown",
   "id": "a5b5092c-a13e-47c4-a92a-480fcc08f3ae",
   "metadata": {
    "papermill": {
     "duration": 0.010207,
     "end_time": "2023-08-30T04:02:08.045660",
     "exception": false,
     "start_time": "2023-08-30T04:02:08.035453",
     "status": "completed"
    },
    "tags": []
   },
   "source": [
    "## Gene info"
   ]
  },
  {
   "cell_type": "code",
   "execution_count": 19,
   "id": "7d6bb224-88e9-4358-ac10-43a41d92cdad",
   "metadata": {
    "execution": {
     "iopub.execute_input": "2023-08-30T04:02:08.067325Z",
     "iopub.status.busy": "2023-08-30T04:02:08.066991Z",
     "iopub.status.idle": "2023-08-30T04:02:08.082937Z",
     "shell.execute_reply": "2023-08-30T04:02:08.082507Z"
    },
    "papermill": {
     "duration": 0.028807,
     "end_time": "2023-08-30T04:02:08.084668",
     "exception": false,
     "start_time": "2023-08-30T04:02:08.055861",
     "status": "completed"
    },
    "tags": []
   },
   "outputs": [],
   "source": [
    "genes_info = pd.read_pickle(OUTPUT_DIR_BASE / \"genes_info.pkl\")"
   ]
  },
  {
   "cell_type": "code",
   "execution_count": 20,
   "id": "9e32abfa-546d-483e-8c18-d526e9e05903",
   "metadata": {
    "execution": {
     "iopub.execute_input": "2023-08-30T04:02:08.108464Z",
     "iopub.status.busy": "2023-08-30T04:02:08.108156Z",
     "iopub.status.idle": "2023-08-30T04:02:08.122589Z",
     "shell.execute_reply": "2023-08-30T04:02:08.122169Z"
    },
    "papermill": {
     "duration": 0.027839,
     "end_time": "2023-08-30T04:02:08.123803",
     "exception": false,
     "start_time": "2023-08-30T04:02:08.095964",
     "status": "completed"
    },
    "tags": []
   },
   "outputs": [
    {
     "data": {
      "text/plain": [
       "(6445, 7)"
      ]
     },
     "execution_count": 20,
     "metadata": {},
     "output_type": "execute_result"
    }
   ],
   "source": [
    "genes_info.shape"
   ]
  },
  {
   "cell_type": "code",
   "execution_count": 21,
   "id": "d16c3e92-85ec-468a-9a56-e25a9774a1cb",
   "metadata": {
    "execution": {
     "iopub.execute_input": "2023-08-30T04:02:08.145307Z",
     "iopub.status.busy": "2023-08-30T04:02:08.144930Z",
     "iopub.status.idle": "2023-08-30T04:02:08.170842Z",
     "shell.execute_reply": "2023-08-30T04:02:08.170206Z"
    },
    "papermill": {
     "duration": 0.038327,
     "end_time": "2023-08-30T04:02:08.172301",
     "exception": false,
     "start_time": "2023-08-30T04:02:08.133974",
     "status": "completed"
    },
    "tags": []
   },
   "outputs": [
    {
     "data": {
      "text/html": [
       "<div>\n",
       "<style scoped>\n",
       "    .dataframe tbody tr th:only-of-type {\n",
       "        vertical-align: middle;\n",
       "    }\n",
       "\n",
       "    .dataframe tbody tr th {\n",
       "        vertical-align: top;\n",
       "    }\n",
       "\n",
       "    .dataframe thead th {\n",
       "        text-align: right;\n",
       "    }\n",
       "</style>\n",
       "<table border=\"1\" class=\"dataframe\">\n",
       "  <thead>\n",
       "    <tr style=\"text-align: right;\">\n",
       "      <th></th>\n",
       "      <th>name</th>\n",
       "      <th>id</th>\n",
       "      <th>chr</th>\n",
       "      <th>band</th>\n",
       "      <th>start_position</th>\n",
       "      <th>end_position</th>\n",
       "      <th>gene_length</th>\n",
       "    </tr>\n",
       "  </thead>\n",
       "  <tbody>\n",
       "    <tr>\n",
       "      <th>0</th>\n",
       "      <td>DUT</td>\n",
       "      <td>ENSG00000128951</td>\n",
       "      <td>15</td>\n",
       "      <td>15q21.1</td>\n",
       "      <td>48331011</td>\n",
       "      <td>48343373</td>\n",
       "      <td>12362</td>\n",
       "    </tr>\n",
       "    <tr>\n",
       "      <th>1</th>\n",
       "      <td>NDUFA4</td>\n",
       "      <td>ENSG00000189043</td>\n",
       "      <td>7</td>\n",
       "      <td>7p21.3</td>\n",
       "      <td>10931943</td>\n",
       "      <td>10940153</td>\n",
       "      <td>8210</td>\n",
       "    </tr>\n",
       "    <tr>\n",
       "      <th>2</th>\n",
       "      <td>EPHB3</td>\n",
       "      <td>ENSG00000182580</td>\n",
       "      <td>3</td>\n",
       "      <td>3q27.1</td>\n",
       "      <td>184561785</td>\n",
       "      <td>184582408</td>\n",
       "      <td>20623</td>\n",
       "    </tr>\n",
       "    <tr>\n",
       "      <th>3</th>\n",
       "      <td>MYLK</td>\n",
       "      <td>ENSG00000065534</td>\n",
       "      <td>3</td>\n",
       "      <td>3q21.1</td>\n",
       "      <td>123610049</td>\n",
       "      <td>123884331</td>\n",
       "      <td>274282</td>\n",
       "    </tr>\n",
       "    <tr>\n",
       "      <th>4</th>\n",
       "      <td>SMPD4</td>\n",
       "      <td>ENSG00000136699</td>\n",
       "      <td>2</td>\n",
       "      <td>2q21.1</td>\n",
       "      <td>130151392</td>\n",
       "      <td>130182750</td>\n",
       "      <td>31358</td>\n",
       "    </tr>\n",
       "  </tbody>\n",
       "</table>\n",
       "</div>"
      ],
      "text/plain": [
       "     name               id  chr     band  start_position  end_position  \\\n",
       "0     DUT  ENSG00000128951   15  15q21.1        48331011      48343373   \n",
       "1  NDUFA4  ENSG00000189043    7   7p21.3        10931943      10940153   \n",
       "2   EPHB3  ENSG00000182580    3   3q27.1       184561785     184582408   \n",
       "3    MYLK  ENSG00000065534    3   3q21.1       123610049     123884331   \n",
       "4   SMPD4  ENSG00000136699    2   2q21.1       130151392     130182750   \n",
       "\n",
       "   gene_length  \n",
       "0        12362  \n",
       "1         8210  \n",
       "2        20623  \n",
       "3       274282  \n",
       "4        31358  "
      ]
     },
     "execution_count": 21,
     "metadata": {},
     "output_type": "execute_result"
    }
   ],
   "source": [
    "genes_info.head()"
   ]
  },
  {
   "cell_type": "markdown",
   "id": "d3843e06",
   "metadata": {
    "papermill": {
     "duration": 0.010488,
     "end_time": "2023-08-30T04:02:08.193476",
     "exception": false,
     "start_time": "2023-08-30T04:02:08.182988",
     "status": "completed"
    },
    "tags": []
   },
   "source": [
    "# Compute correlations"
   ]
  },
  {
   "cell_type": "code",
   "execution_count": 22,
   "id": "cb859c15-d1f3-4006-a74c-2b83c0db9611",
   "metadata": {
    "execution": {
     "iopub.execute_input": "2023-08-30T04:02:08.215754Z",
     "iopub.status.busy": "2023-08-30T04:02:08.215465Z",
     "iopub.status.idle": "2023-08-30T04:02:08.241049Z",
     "shell.execute_reply": "2023-08-30T04:02:08.240496Z"
    },
    "papermill": {
     "duration": 0.037793,
     "end_time": "2023-08-30T04:02:08.242349",
     "exception": false,
     "start_time": "2023-08-30T04:02:08.204556",
     "status": "completed"
    },
    "tags": []
   },
   "outputs": [
    {
     "data": {
      "text/plain": [
       "PosixPath('/opt/data/projects/chronotype/results/gls_phenoplier/gene_corrs/chronotype/by_chr/gene_corrs-chr22.pkl')"
      ]
     },
     "metadata": {},
     "output_type": "display_data"
    }
   ],
   "source": [
    "output_dir = OUTPUT_DIR_BASE / \"by_chr\"\n",
    "output_dir.mkdir(exist_ok=True, parents=True)\n",
    "output_file = output_dir / f\"gene_corrs-chr{CHROMOSOME}.pkl\"\n",
    "display(output_file)"
   ]
  },
  {
   "cell_type": "code",
   "execution_count": 23,
   "id": "aa674fe4-6794-4eed-98fa-32b39d1d4ace",
   "metadata": {
    "execution": {
     "iopub.execute_input": "2023-08-30T04:02:08.265019Z",
     "iopub.status.busy": "2023-08-30T04:02:08.264569Z",
     "iopub.status.idle": "2023-08-30T04:02:08.287634Z",
     "shell.execute_reply": "2023-08-30T04:02:08.286996Z"
    },
    "papermill": {
     "duration": 0.036239,
     "end_time": "2023-08-30T04:02:08.289260",
     "exception": false,
     "start_time": "2023-08-30T04:02:08.253021",
     "status": "completed"
    },
    "tags": []
   },
   "outputs": [],
   "source": [
    "warnings.filterwarnings(\"error\")"
   ]
  },
  {
   "cell_type": "code",
   "execution_count": 24,
   "id": "44d5450b-3baf-43f1-9e2e-4b06f1a785f8",
   "metadata": {
    "execution": {
     "iopub.execute_input": "2023-08-30T04:02:08.312571Z",
     "iopub.status.busy": "2023-08-30T04:02:08.312123Z",
     "iopub.status.idle": "2023-08-30T04:02:08.337287Z",
     "shell.execute_reply": "2023-08-30T04:02:08.336699Z"
    },
    "papermill": {
     "duration": 0.038352,
     "end_time": "2023-08-30T04:02:08.338824",
     "exception": false,
     "start_time": "2023-08-30T04:02:08.300472",
     "status": "completed"
    },
    "tags": []
   },
   "outputs": [],
   "source": [
    "# standard checks\n",
    "all_chrs = genes_info[\"chr\"].dropna().unique()\n",
    "assert all_chrs.shape[0] == 22\n",
    "\n",
    "# select chromosome given by the user\n",
    "assert CHROMOSOME in all_chrs"
   ]
  },
  {
   "cell_type": "code",
   "execution_count": 25,
   "id": "2d7c043c-92a7-4d35-991b-fa69ac1e0268",
   "metadata": {
    "execution": {
     "iopub.execute_input": "2023-08-30T04:02:08.361473Z",
     "iopub.status.busy": "2023-08-30T04:02:08.361043Z",
     "iopub.status.idle": "2023-08-30T04:02:08.382829Z",
     "shell.execute_reply": "2023-08-30T04:02:08.382279Z"
    },
    "papermill": {
     "duration": 0.034641,
     "end_time": "2023-08-30T04:02:08.384408",
     "exception": false,
     "start_time": "2023-08-30T04:02:08.349767",
     "status": "completed"
    },
    "tags": []
   },
   "outputs": [
    {
     "name": "stdout",
     "output_type": "stream",
     "text": [
      "Number of genes in chromosome: 170\n"
     ]
    }
   ],
   "source": [
    "# run only on the chromosome specified\n",
    "all_chrs = [CHROMOSOME]\n",
    "genes_chr = genes_info[genes_info[\"chr\"] == CHROMOSOME]\n",
    "\n",
    "# For testing purposes\n",
    "# genes_chr = genes_chr.sample(n=20)\n",
    "\n",
    "print(f\"Number of genes in chromosome: {genes_chr.shape[0]}\", flush=True)"
   ]
  },
  {
   "cell_type": "code",
   "execution_count": 26,
   "id": "916015d8-2979-46d3-a9b9-1cf5a0932c6a",
   "metadata": {
    "execution": {
     "iopub.execute_input": "2023-08-30T04:02:08.407047Z",
     "iopub.status.busy": "2023-08-30T04:02:08.406629Z",
     "iopub.status.idle": "2023-08-30T04:02:08.427866Z",
     "shell.execute_reply": "2023-08-30T04:02:08.427257Z"
    },
    "papermill": {
     "duration": 0.034037,
     "end_time": "2023-08-30T04:02:08.429318",
     "exception": false,
     "start_time": "2023-08-30T04:02:08.395281",
     "status": "completed"
    },
    "tags": []
   },
   "outputs": [],
   "source": [
    "# sort genes by starting position to make visualizations better later\n",
    "genes_chr = genes_chr.sort_values(\"start_position\")"
   ]
  },
  {
   "cell_type": "code",
   "execution_count": 27,
   "id": "a38aa74a-8ad3-47f6-8ef9-56be0e011774",
   "metadata": {
    "execution": {
     "iopub.execute_input": "2023-08-30T04:02:08.452904Z",
     "iopub.status.busy": "2023-08-30T04:02:08.452613Z",
     "iopub.status.idle": "2023-08-30T04:02:08.475856Z",
     "shell.execute_reply": "2023-08-30T04:02:08.474983Z"
    },
    "papermill": {
     "duration": 0.04043,
     "end_time": "2023-08-30T04:02:08.481174",
     "exception": false,
     "start_time": "2023-08-30T04:02:08.440744",
     "status": "completed"
    },
    "tags": []
   },
   "outputs": [],
   "source": [
    "gene_chr_objs = [Gene(ensembl_id=gene_id) for gene_id in genes_chr[\"id\"]]"
   ]
  },
  {
   "cell_type": "code",
   "execution_count": 28,
   "id": "570f974f-13c3-42b6-ad3a-ce99ca885c1a",
   "metadata": {
    "execution": {
     "iopub.execute_input": "2023-08-30T04:02:08.506316Z",
     "iopub.status.busy": "2023-08-30T04:02:08.505988Z",
     "iopub.status.idle": "2023-08-30T04:02:08.528260Z",
     "shell.execute_reply": "2023-08-30T04:02:08.527639Z"
    },
    "papermill": {
     "duration": 0.035072,
     "end_time": "2023-08-30T04:02:08.529263",
     "exception": false,
     "start_time": "2023-08-30T04:02:08.494191",
     "status": "completed"
    },
    "tags": []
   },
   "outputs": [
    {
     "name": "stdout",
     "output_type": "stream",
     "text": [
      "Number of gene combinations: 14535\n"
     ]
    }
   ],
   "source": [
    "n = len(gene_chr_objs)\n",
    "# diagonal elements + upper triangular matrix\n",
    "n_comb = n + int(n * (n - 1) / 2.0)\n",
    "print(f\"Number of gene combinations: {n_comb}\", flush=True)"
   ]
  },
  {
   "cell_type": "code",
   "execution_count": 29,
   "id": "cdbb90a1",
   "metadata": {
    "execution": {
     "iopub.execute_input": "2023-08-30T04:02:08.544003Z",
     "iopub.status.busy": "2023-08-30T04:02:08.543358Z",
     "iopub.status.idle": "2023-08-30T04:06:32.811746Z",
     "shell.execute_reply": "2023-08-30T04:06:32.811229Z"
    },
    "papermill": {
     "duration": 264.277085,
     "end_time": "2023-08-30T04:06:32.812968",
     "exception": false,
     "start_time": "2023-08-30T04:02:08.535883",
     "status": "completed"
    },
    "tags": []
   },
   "outputs": [
    {
     "name": "stderr",
     "output_type": "stream",
     "text": [
      "ENSG00000251322 / ENSG00000251322: 100%|██████████████████████| 14535/14535 [04:24<00:00, 55.01it/s]\n"
     ]
    },
    {
     "data": {
      "text/plain": [
       "PosixPath('/opt/data/projects/chronotype/results/gls_phenoplier/gene_corrs/chronotype/by_chr/gene_corrs-chr22.pkl')"
      ]
     },
     "metadata": {},
     "output_type": "display_data"
    }
   ],
   "source": [
    "gene_corrs = []\n",
    "gene_corrs_data = np.full(\n",
    "    (n, n),\n",
    "    np.nan,\n",
    "    dtype=np.float64,\n",
    ")\n",
    "\n",
    "i = 0\n",
    "with tqdm(ncols=100, total=n_comb) as pbar:\n",
    "    for gene1_idx in range(0, len(gene_chr_objs)):\n",
    "        gene1_obj = gene_chr_objs[gene1_idx]\n",
    "        gene1_tissues = spredixcan_genes_models.loc[gene1_obj.ensembl_id, \"tissue\"]\n",
    "\n",
    "        for gene2_idx in range(gene1_idx, len(gene_chr_objs)):\n",
    "            gene2_obj = gene_chr_objs[gene2_idx]\n",
    "            gene2_tissues = spredixcan_genes_models.loc[gene2_obj.ensembl_id, \"tissue\"]\n",
    "\n",
    "            pbar.set_description(f\"{gene1_obj.ensembl_id} / {gene2_obj.ensembl_id}\")\n",
    "\n",
    "            try:\n",
    "                r = gene1_obj.get_ssm_correlation(\n",
    "                    other_gene=gene2_obj,\n",
    "                    tissues=gene1_tissues,\n",
    "                    other_tissues=gene2_tissues,\n",
    "                    snps_subset=gwas_variants_ids_set,\n",
    "                    condition_number=SMULTIXCAN_CONDITION_NUMBER,\n",
    "                    reference_panel=REFERENCE_PANEL,\n",
    "                    model_type=EQTL_MODEL,\n",
    "                    use_within_distance=COMPUTE_CORRELATIONS_WITHIN_DISTANCE,\n",
    "                )\n",
    "\n",
    "                if r is None:\n",
    "                    # if r is None, it's very likely because:\n",
    "                    #  * one of the genes has no prediction models\n",
    "                    #  * all the SNPs predictors for the gene are not present in the reference\n",
    "                    #    panel\n",
    "\n",
    "                    r = 0.0\n",
    "\n",
    "                gene_corrs.append(r)\n",
    "\n",
    "                gene_corrs_data[gene1_idx, gene2_idx] = r\n",
    "                gene_corrs_data[gene2_idx, gene1_idx] = r\n",
    "            except Warning as e:\n",
    "                if not DEBUG_MODE:\n",
    "                    raise e\n",
    "\n",
    "                print(\n",
    "                    f\"RuntimeWarning for genes {gene1_obj.ensembl_id} and {gene2_obj.ensembl_id}\",\n",
    "                    flush=True,\n",
    "                )\n",
    "                print(traceback.format_exc(), flush=True)\n",
    "\n",
    "                gene_corrs.append(np.nan)\n",
    "            except Exception as e:\n",
    "                if not DEBUG_MODE:\n",
    "                    raise e\n",
    "\n",
    "                print(\n",
    "                    f\"Exception for genes {gene1_obj.ensembl_id} and {gene2_obj.ensembl_id}\",\n",
    "                    flush=True,\n",
    "                )\n",
    "                print(traceback.format_exc(), flush=True)\n",
    "\n",
    "                gene_corrs.append(np.nan)\n",
    "\n",
    "            pbar.update(1)\n",
    "\n",
    "# create a pandas series\n",
    "gene_corrs_flat = pd.Series(gene_corrs)\n",
    "\n",
    "# save\n",
    "# FIXME: consider saving only the condenced matrix here. See here for\n",
    "# more details: https://github.com/greenelab/phenoplier/pull/38#discussion_r634600813\n",
    "# gene_corrs_data = squareform(np.array(gene_corrs, dtype=np.float64))\n",
    "# np.fill_diagonal(gene_corrs_data, 1.0)\n",
    "\n",
    "gene_chr_ids = [g.ensembl_id for g in gene_chr_objs]\n",
    "gene_corrs_df = pd.DataFrame(\n",
    "    data=gene_corrs_data,\n",
    "    index=gene_chr_ids,\n",
    "    columns=gene_chr_ids,\n",
    ")\n",
    "\n",
    "output_dir.mkdir(exist_ok=True, parents=True)\n",
    "display(output_file)\n",
    "\n",
    "gene_corrs_df.to_pickle(output_file)"
   ]
  },
  {
   "cell_type": "markdown",
   "id": "faa67b51-5373-470f-aa72-2ded53fa6dfe",
   "metadata": {
    "papermill": {
     "duration": 0.523732,
     "end_time": "2023-08-30T04:06:33.820500",
     "exception": false,
     "start_time": "2023-08-30T04:06:33.296768",
     "status": "completed"
    },
    "tags": []
   },
   "source": [
    "# Testing"
   ]
  },
  {
   "cell_type": "code",
   "execution_count": 30,
   "id": "14f7d046-4b55-4896-a56b-990127bcc388",
   "metadata": {
    "execution": {
     "iopub.execute_input": "2023-08-30T04:06:34.810157Z",
     "iopub.status.busy": "2023-08-30T04:06:34.809751Z",
     "iopub.status.idle": "2023-08-30T04:06:34.835372Z",
     "shell.execute_reply": "2023-08-30T04:06:34.834723Z"
    },
    "papermill": {
     "duration": 0.545837,
     "end_time": "2023-08-30T04:06:34.836386",
     "exception": false,
     "start_time": "2023-08-30T04:06:34.290549",
     "status": "completed"
    },
    "tags": []
   },
   "outputs": [
    {
     "data": {
      "text/plain": [
       "(170, 170)"
      ]
     },
     "execution_count": 30,
     "metadata": {},
     "output_type": "execute_result"
    }
   ],
   "source": [
    "gene_corrs_df.shape"
   ]
  },
  {
   "cell_type": "code",
   "execution_count": 31,
   "id": "c7d15414-3297-4537-a7c6-7588c0baeb75",
   "metadata": {
    "execution": {
     "iopub.execute_input": "2023-08-30T04:06:35.823444Z",
     "iopub.status.busy": "2023-08-30T04:06:35.822817Z",
     "iopub.status.idle": "2023-08-30T04:06:35.872362Z",
     "shell.execute_reply": "2023-08-30T04:06:35.871695Z"
    },
    "papermill": {
     "duration": 0.55611,
     "end_time": "2023-08-30T04:06:35.873779",
     "exception": false,
     "start_time": "2023-08-30T04:06:35.317669",
     "status": "completed"
    },
    "tags": []
   },
   "outputs": [
    {
     "data": {
      "text/html": [
       "<div>\n",
       "<style scoped>\n",
       "    .dataframe tbody tr th:only-of-type {\n",
       "        vertical-align: middle;\n",
       "    }\n",
       "\n",
       "    .dataframe tbody tr th {\n",
       "        vertical-align: top;\n",
       "    }\n",
       "\n",
       "    .dataframe thead th {\n",
       "        text-align: right;\n",
       "    }\n",
       "</style>\n",
       "<table border=\"1\" class=\"dataframe\">\n",
       "  <thead>\n",
       "    <tr style=\"text-align: right;\">\n",
       "      <th></th>\n",
       "      <th>ENSG00000177663</th>\n",
       "      <th>ENSG00000131100</th>\n",
       "      <th>ENSG00000099968</th>\n",
       "      <th>ENSG00000015475</th>\n",
       "      <th>ENSG00000243156</th>\n",
       "      <th>ENSG00000215193</th>\n",
       "      <th>ENSG00000183785</th>\n",
       "      <th>ENSG00000184979</th>\n",
       "      <th>ENSG00000100033</th>\n",
       "      <th>ENSG00000100075</th>\n",
       "      <th>...</th>\n",
       "      <th>ENSG00000196576</th>\n",
       "      <th>ENSG00000128165</th>\n",
       "      <th>ENSG00000100253</th>\n",
       "      <th>ENSG00000130489</th>\n",
       "      <th>ENSG00000025708</th>\n",
       "      <th>ENSG00000205560</th>\n",
       "      <th>ENSG00000100288</th>\n",
       "      <th>ENSG00000008735</th>\n",
       "      <th>ENSG00000100299</th>\n",
       "      <th>ENSG00000251322</th>\n",
       "    </tr>\n",
       "  </thead>\n",
       "  <tbody>\n",
       "    <tr>\n",
       "      <th>ENSG00000177663</th>\n",
       "      <td>1.000000</td>\n",
       "      <td>0.003816</td>\n",
       "      <td>0.006914</td>\n",
       "      <td>0.006409</td>\n",
       "      <td>0.005393</td>\n",
       "      <td>0.009169</td>\n",
       "      <td>0.011137</td>\n",
       "      <td>0.008212</td>\n",
       "      <td>0.005694</td>\n",
       "      <td>0.002660</td>\n",
       "      <td>...</td>\n",
       "      <td>0.0</td>\n",
       "      <td>0.0</td>\n",
       "      <td>0.0</td>\n",
       "      <td>0.0</td>\n",
       "      <td>0.0</td>\n",
       "      <td>0.0</td>\n",
       "      <td>0.0</td>\n",
       "      <td>0.0</td>\n",
       "      <td>0.0</td>\n",
       "      <td>0.0</td>\n",
       "    </tr>\n",
       "    <tr>\n",
       "      <th>ENSG00000131100</th>\n",
       "      <td>0.003816</td>\n",
       "      <td>1.000000</td>\n",
       "      <td>0.542060</td>\n",
       "      <td>0.258362</td>\n",
       "      <td>0.008517</td>\n",
       "      <td>0.003627</td>\n",
       "      <td>0.005205</td>\n",
       "      <td>0.003596</td>\n",
       "      <td>0.008233</td>\n",
       "      <td>0.005870</td>\n",
       "      <td>...</td>\n",
       "      <td>0.0</td>\n",
       "      <td>0.0</td>\n",
       "      <td>0.0</td>\n",
       "      <td>0.0</td>\n",
       "      <td>0.0</td>\n",
       "      <td>0.0</td>\n",
       "      <td>0.0</td>\n",
       "      <td>0.0</td>\n",
       "      <td>0.0</td>\n",
       "      <td>0.0</td>\n",
       "    </tr>\n",
       "    <tr>\n",
       "      <th>ENSG00000099968</th>\n",
       "      <td>0.006914</td>\n",
       "      <td>0.542060</td>\n",
       "      <td>1.000000</td>\n",
       "      <td>0.393204</td>\n",
       "      <td>0.017352</td>\n",
       "      <td>0.006770</td>\n",
       "      <td>0.010656</td>\n",
       "      <td>0.006111</td>\n",
       "      <td>0.011148</td>\n",
       "      <td>0.008414</td>\n",
       "      <td>...</td>\n",
       "      <td>0.0</td>\n",
       "      <td>0.0</td>\n",
       "      <td>0.0</td>\n",
       "      <td>0.0</td>\n",
       "      <td>0.0</td>\n",
       "      <td>0.0</td>\n",
       "      <td>0.0</td>\n",
       "      <td>0.0</td>\n",
       "      <td>0.0</td>\n",
       "      <td>0.0</td>\n",
       "    </tr>\n",
       "    <tr>\n",
       "      <th>ENSG00000015475</th>\n",
       "      <td>0.006409</td>\n",
       "      <td>0.258362</td>\n",
       "      <td>0.393204</td>\n",
       "      <td>1.000000</td>\n",
       "      <td>0.023707</td>\n",
       "      <td>0.013641</td>\n",
       "      <td>0.012742</td>\n",
       "      <td>0.009202</td>\n",
       "      <td>0.012669</td>\n",
       "      <td>0.003930</td>\n",
       "      <td>...</td>\n",
       "      <td>0.0</td>\n",
       "      <td>0.0</td>\n",
       "      <td>0.0</td>\n",
       "      <td>0.0</td>\n",
       "      <td>0.0</td>\n",
       "      <td>0.0</td>\n",
       "      <td>0.0</td>\n",
       "      <td>0.0</td>\n",
       "      <td>0.0</td>\n",
       "      <td>0.0</td>\n",
       "    </tr>\n",
       "    <tr>\n",
       "      <th>ENSG00000243156</th>\n",
       "      <td>0.005393</td>\n",
       "      <td>0.008517</td>\n",
       "      <td>0.017352</td>\n",
       "      <td>0.023707</td>\n",
       "      <td>1.000000</td>\n",
       "      <td>0.041902</td>\n",
       "      <td>0.025743</td>\n",
       "      <td>0.021465</td>\n",
       "      <td>0.012505</td>\n",
       "      <td>0.004357</td>\n",
       "      <td>...</td>\n",
       "      <td>0.0</td>\n",
       "      <td>0.0</td>\n",
       "      <td>0.0</td>\n",
       "      <td>0.0</td>\n",
       "      <td>0.0</td>\n",
       "      <td>0.0</td>\n",
       "      <td>0.0</td>\n",
       "      <td>0.0</td>\n",
       "      <td>0.0</td>\n",
       "      <td>0.0</td>\n",
       "    </tr>\n",
       "  </tbody>\n",
       "</table>\n",
       "<p>5 rows × 170 columns</p>\n",
       "</div>"
      ],
      "text/plain": [
       "                 ENSG00000177663  ENSG00000131100  ENSG00000099968  \\\n",
       "ENSG00000177663         1.000000         0.003816         0.006914   \n",
       "ENSG00000131100         0.003816         1.000000         0.542060   \n",
       "ENSG00000099968         0.006914         0.542060         1.000000   \n",
       "ENSG00000015475         0.006409         0.258362         0.393204   \n",
       "ENSG00000243156         0.005393         0.008517         0.017352   \n",
       "\n",
       "                 ENSG00000015475  ENSG00000243156  ENSG00000215193  \\\n",
       "ENSG00000177663         0.006409         0.005393         0.009169   \n",
       "ENSG00000131100         0.258362         0.008517         0.003627   \n",
       "ENSG00000099968         0.393204         0.017352         0.006770   \n",
       "ENSG00000015475         1.000000         0.023707         0.013641   \n",
       "ENSG00000243156         0.023707         1.000000         0.041902   \n",
       "\n",
       "                 ENSG00000183785  ENSG00000184979  ENSG00000100033  \\\n",
       "ENSG00000177663         0.011137         0.008212         0.005694   \n",
       "ENSG00000131100         0.005205         0.003596         0.008233   \n",
       "ENSG00000099968         0.010656         0.006111         0.011148   \n",
       "ENSG00000015475         0.012742         0.009202         0.012669   \n",
       "ENSG00000243156         0.025743         0.021465         0.012505   \n",
       "\n",
       "                 ENSG00000100075  ...  ENSG00000196576  ENSG00000128165  \\\n",
       "ENSG00000177663         0.002660  ...              0.0              0.0   \n",
       "ENSG00000131100         0.005870  ...              0.0              0.0   \n",
       "ENSG00000099968         0.008414  ...              0.0              0.0   \n",
       "ENSG00000015475         0.003930  ...              0.0              0.0   \n",
       "ENSG00000243156         0.004357  ...              0.0              0.0   \n",
       "\n",
       "                 ENSG00000100253  ENSG00000130489  ENSG00000025708  \\\n",
       "ENSG00000177663              0.0              0.0              0.0   \n",
       "ENSG00000131100              0.0              0.0              0.0   \n",
       "ENSG00000099968              0.0              0.0              0.0   \n",
       "ENSG00000015475              0.0              0.0              0.0   \n",
       "ENSG00000243156              0.0              0.0              0.0   \n",
       "\n",
       "                 ENSG00000205560  ENSG00000100288  ENSG00000008735  \\\n",
       "ENSG00000177663              0.0              0.0              0.0   \n",
       "ENSG00000131100              0.0              0.0              0.0   \n",
       "ENSG00000099968              0.0              0.0              0.0   \n",
       "ENSG00000015475              0.0              0.0              0.0   \n",
       "ENSG00000243156              0.0              0.0              0.0   \n",
       "\n",
       "                 ENSG00000100299  ENSG00000251322  \n",
       "ENSG00000177663              0.0              0.0  \n",
       "ENSG00000131100              0.0              0.0  \n",
       "ENSG00000099968              0.0              0.0  \n",
       "ENSG00000015475              0.0              0.0  \n",
       "ENSG00000243156              0.0              0.0  \n",
       "\n",
       "[5 rows x 170 columns]"
      ]
     },
     "execution_count": 31,
     "metadata": {},
     "output_type": "execute_result"
    }
   ],
   "source": [
    "gene_corrs_df.head()"
   ]
  },
  {
   "cell_type": "markdown",
   "id": "dad6603f-01c6-41fb-a6f6-241051207dd8",
   "metadata": {
    "papermill": {
     "duration": 0.465019,
     "end_time": "2023-08-30T04:06:36.843927",
     "exception": false,
     "start_time": "2023-08-30T04:06:36.378908",
     "status": "completed"
    },
    "tags": []
   },
   "source": [
    "## Standard checks and stats"
   ]
  },
  {
   "cell_type": "code",
   "execution_count": 32,
   "id": "286686af-1b7b-4440-8453-6bdcbd8de19c",
   "metadata": {
    "execution": {
     "iopub.execute_input": "2023-08-30T04:06:37.818218Z",
     "iopub.status.busy": "2023-08-30T04:06:37.817578Z",
     "iopub.status.idle": "2023-08-30T04:06:37.841809Z",
     "shell.execute_reply": "2023-08-30T04:06:37.841221Z"
    },
    "papermill": {
     "duration": 0.488306,
     "end_time": "2023-08-30T04:06:37.842794",
     "exception": false,
     "start_time": "2023-08-30T04:06:37.354488",
     "status": "completed"
    },
    "tags": []
   },
   "outputs": [],
   "source": [
    "assert not gene_corrs_df.isna().any(axis=None)"
   ]
  },
  {
   "cell_type": "code",
   "execution_count": 33,
   "id": "00583efc-7068-4270-ad1e-4a418e91db96",
   "metadata": {
    "execution": {
     "iopub.execute_input": "2023-08-30T04:06:38.737187Z",
     "iopub.status.busy": "2023-08-30T04:06:38.736836Z",
     "iopub.status.idle": "2023-08-30T04:06:38.756026Z",
     "shell.execute_reply": "2023-08-30T04:06:38.755432Z"
    },
    "papermill": {
     "duration": 0.483918,
     "end_time": "2023-08-30T04:06:38.756944",
     "exception": false,
     "start_time": "2023-08-30T04:06:38.273026",
     "status": "completed"
    },
    "tags": []
   },
   "outputs": [
    {
     "data": {
      "text/plain": [
       "0.0"
      ]
     },
     "metadata": {},
     "output_type": "display_data"
    }
   ],
   "source": [
    "_min_val = gene_corrs_df.min().min()\n",
    "display(_min_val)\n",
    "assert _min_val >= -0.05"
   ]
  },
  {
   "cell_type": "code",
   "execution_count": 34,
   "id": "d04fb2cf-1050-475b-b855-f5f7cc04092b",
   "metadata": {
    "execution": {
     "iopub.execute_input": "2023-08-30T04:06:39.656503Z",
     "iopub.status.busy": "2023-08-30T04:06:39.656143Z",
     "iopub.status.idle": "2023-08-30T04:06:39.680598Z",
     "shell.execute_reply": "2023-08-30T04:06:39.679940Z"
    },
    "papermill": {
     "duration": 0.458538,
     "end_time": "2023-08-30T04:06:39.681578",
     "exception": false,
     "start_time": "2023-08-30T04:06:39.223040",
     "status": "completed"
    },
    "tags": []
   },
   "outputs": [
    {
     "data": {
      "text/plain": [
       "1.0000000000000029"
      ]
     },
     "metadata": {},
     "output_type": "display_data"
    }
   ],
   "source": [
    "_max_val = gene_corrs_df.max().max()  # this captures the diagonal\n",
    "display(_max_val)\n",
    "assert _max_val <= 1.05"
   ]
  },
  {
   "cell_type": "code",
   "execution_count": 35,
   "id": "fe283586-c348-40e0-8841-f6d97bfb021c",
   "metadata": {
    "execution": {
     "iopub.execute_input": "2023-08-30T04:06:40.611376Z",
     "iopub.status.busy": "2023-08-30T04:06:40.611133Z",
     "iopub.status.idle": "2023-08-30T04:06:40.637080Z",
     "shell.execute_reply": "2023-08-30T04:06:40.636480Z"
    },
    "papermill": {
     "duration": 0.493307,
     "end_time": "2023-08-30T04:06:40.638045",
     "exception": false,
     "start_time": "2023-08-30T04:06:40.144738",
     "status": "completed"
    },
    "tags": []
   },
   "outputs": [
    {
     "data": {
      "text/plain": [
       "count    14535.000000\n",
       "mean         0.018376\n",
       "std          0.114203\n",
       "min          0.000000\n",
       "25%          0.000000\n",
       "50%          0.000000\n",
       "75%          0.002931\n",
       "max          1.000000\n",
       "dtype: float64"
      ]
     },
     "execution_count": 35,
     "metadata": {},
     "output_type": "execute_result"
    }
   ],
   "source": [
    "gene_corrs_flat.describe()"
   ]
  },
  {
   "cell_type": "code",
   "execution_count": 36,
   "id": "b3815678-0f93-4b35-897b-a9d047a2aa78",
   "metadata": {
    "execution": {
     "iopub.execute_input": "2023-08-30T04:06:41.538270Z",
     "iopub.status.busy": "2023-08-30T04:06:41.537814Z",
     "iopub.status.idle": "2023-08-30T04:06:41.564190Z",
     "shell.execute_reply": "2023-08-30T04:06:41.563754Z"
    },
    "papermill": {
     "duration": 0.491095,
     "end_time": "2023-08-30T04:06:41.565086",
     "exception": false,
     "start_time": "2023-08-30T04:06:41.073991",
     "status": "completed"
    },
    "tags": []
   },
   "outputs": [
    {
     "data": {
      "text/plain": [
       "0.00    0.000000\n",
       "0.05    0.000000\n",
       "0.10    0.000000\n",
       "0.15    0.000000\n",
       "0.20    0.000000\n",
       "0.25    0.000000\n",
       "0.30    0.000000\n",
       "0.35    0.000000\n",
       "0.40    0.000000\n",
       "0.45    0.000000\n",
       "0.50    0.000000\n",
       "0.55    0.000000\n",
       "0.60    0.000000\n",
       "0.65    0.000000\n",
       "0.70    0.000000\n",
       "0.75    0.002931\n",
       "0.80    0.004844\n",
       "0.85    0.006619\n",
       "0.90    0.008724\n",
       "0.95    0.014476\n",
       "dtype: float64"
      ]
     },
     "metadata": {},
     "output_type": "display_data"
    }
   ],
   "source": [
    "gene_corrs_quantiles = gene_corrs_flat.quantile(np.arange(0, 1, 0.05))\n",
    "display(gene_corrs_quantiles)"
   ]
  },
  {
   "cell_type": "markdown",
   "id": "87134509-b145-4a10-8bc9-b7e914c2b0fa",
   "metadata": {
    "papermill": {
     "duration": 0.440457,
     "end_time": "2023-08-30T04:06:42.474114",
     "exception": false,
     "start_time": "2023-08-30T04:06:42.033657",
     "status": "completed"
    },
    "tags": []
   },
   "source": [
    "## Positive definiteness"
   ]
  },
  {
   "cell_type": "code",
   "execution_count": 37,
   "id": "07d9a9a1-a4f7-48aa-b916-6d42a8cc6186",
   "metadata": {
    "execution": {
     "iopub.execute_input": "2023-08-30T04:06:43.402174Z",
     "iopub.status.busy": "2023-08-30T04:06:43.401749Z",
     "iopub.status.idle": "2023-08-30T04:06:43.438915Z",
     "shell.execute_reply": "2023-08-30T04:06:43.438199Z"
    },
    "papermill": {
     "duration": 0.50311,
     "end_time": "2023-08-30T04:06:43.439821",
     "exception": false,
     "start_time": "2023-08-30T04:06:42.936711",
     "status": "completed"
    },
    "tags": []
   },
   "outputs": [
    {
     "data": {
      "text/plain": [
       "0"
      ]
     },
     "metadata": {},
     "output_type": "display_data"
    },
    {
     "data": {
      "text/plain": [
       "array([], dtype=float64)"
      ]
     },
     "metadata": {},
     "output_type": "display_data"
    }
   ],
   "source": [
    "# print negative eigenvalues\n",
    "eigs = np.linalg.eigvals(gene_corrs_df.to_numpy())\n",
    "display(len(eigs[eigs < 0]))\n",
    "display(eigs[eigs < 0])"
   ]
  },
  {
   "cell_type": "code",
   "execution_count": 38,
   "id": "6e218436-c3c5-4028-8c94-a4fa6260efce",
   "metadata": {
    "execution": {
     "iopub.execute_input": "2023-08-30T04:06:44.343021Z",
     "iopub.status.busy": "2023-08-30T04:06:44.342393Z",
     "iopub.status.idle": "2023-08-30T04:06:44.370883Z",
     "shell.execute_reply": "2023-08-30T04:06:44.370304Z"
    },
    "papermill": {
     "duration": 0.466156,
     "end_time": "2023-08-30T04:06:44.371832",
     "exception": false,
     "start_time": "2023-08-30T04:06:43.905676",
     "status": "completed"
    },
    "tags": []
   },
   "outputs": [
    {
     "name": "stdout",
     "output_type": "stream",
     "text": [
      "Works!\n"
     ]
    }
   ],
   "source": [
    "try:\n",
    "    chol_mat = np.linalg.cholesky(gene_corrs_df.to_numpy())\n",
    "    cov_inv = np.linalg.inv(chol_mat)\n",
    "    print(\"Works!\")\n",
    "except Exception as e:\n",
    "    print(f\"Cholesky decomposition failed: {str(e)}\")"
   ]
  },
  {
   "cell_type": "code",
   "execution_count": 39,
   "id": "dd8827fb-faf9-4c7c-9454-015e94752706",
   "metadata": {
    "execution": {
     "iopub.execute_input": "2023-08-30T04:06:45.304165Z",
     "iopub.status.busy": "2023-08-30T04:06:45.303952Z",
     "iopub.status.idle": "2023-08-30T04:06:45.318824Z",
     "shell.execute_reply": "2023-08-30T04:06:45.318440Z"
    },
    "papermill": {
     "duration": 0.466932,
     "end_time": "2023-08-30T04:06:45.319637",
     "exception": false,
     "start_time": "2023-08-30T04:06:44.852705",
     "status": "completed"
    },
    "tags": []
   },
   "outputs": [
    {
     "name": "stdout",
     "output_type": "stream",
     "text": [
      "Works!\n"
     ]
    }
   ],
   "source": [
    "try:\n",
    "    # decomposition used by statsmodels.GLS\n",
    "    cholsigmainv = np.linalg.cholesky(np.linalg.inv(gene_corrs_df.to_numpy())).T\n",
    "    print(\"Works!\")\n",
    "except Exception as e:\n",
    "    print(f\"Cholesky decomposition failed (statsmodels.GLS): {str(e)}\")"
   ]
  },
  {
   "cell_type": "markdown",
   "id": "8e60a080-edb2-4e9c-b2ef-22961693200c",
   "metadata": {
    "papermill": {
     "duration": 0.462139,
     "end_time": "2023-08-30T04:06:46.242505",
     "exception": false,
     "start_time": "2023-08-30T04:06:45.780366",
     "status": "completed"
    },
    "tags": []
   },
   "source": [
    "## Plot: distribution"
   ]
  },
  {
   "cell_type": "code",
   "execution_count": 40,
   "id": "8301126b-a7d4-4744-9c7d-f0f86eb6f54c",
   "metadata": {
    "execution": {
     "iopub.execute_input": "2023-08-30T04:06:47.185775Z",
     "iopub.status.busy": "2023-08-30T04:06:47.185398Z",
     "iopub.status.idle": "2023-08-30T04:06:55.031667Z",
     "shell.execute_reply": "2023-08-30T04:06:55.031134Z"
    },
    "papermill": {
     "duration": 8.314114,
     "end_time": "2023-08-30T04:06:55.032778",
     "exception": false,
     "start_time": "2023-08-30T04:06:46.718664",
     "status": "completed"
    },
    "tags": []
   },
   "outputs": [
    {
     "data": {
      "image/png": "[encoded data removed]",
      "text/plain": [
       "<Figure size 700x700 with 1 Axes>"
      ]
     },
     "metadata": {},
     "output_type": "display_data"
    }
   ],
   "source": [
    "with sns.plotting_context(\"paper\", font_scale=1.5):\n",
    "    g = sns.displot(gene_corrs_flat, kde=True, height=7)\n",
    "    g.ax.set_title(\n",
    "        f\"Distribution of gene correlation values in chromosome {CHROMOSOME}\"\n",
    "    )"
   ]
  },
  {
   "cell_type": "markdown",
   "id": "cbd52bca-d878-4a2f-b684-5c83aa3038d4",
   "metadata": {
    "papermill": {
     "duration": 0.432887,
     "end_time": "2023-08-30T04:06:55.938450",
     "exception": false,
     "start_time": "2023-08-30T04:06:55.505563",
     "status": "completed"
    },
    "tags": []
   },
   "source": [
    "## Plot: heatmap"
   ]
  },
  {
   "cell_type": "code",
   "execution_count": 41,
   "id": "d03fe63a-c7b2-4fb9-a53c-db362ce843c9",
   "metadata": {
    "execution": {
     "iopub.execute_input": "2023-08-30T04:06:56.845941Z",
     "iopub.status.busy": "2023-08-30T04:06:56.845469Z",
     "iopub.status.idle": "2023-08-30T04:06:56.865229Z",
     "shell.execute_reply": "2023-08-30T04:06:56.864758Z"
    },
    "papermill": {
     "duration": 0.475521,
     "end_time": "2023-08-30T04:06:56.866097",
     "exception": false,
     "start_time": "2023-08-30T04:06:56.390576",
     "status": "completed"
    },
    "tags": []
   },
   "outputs": [
    {
     "data": {
      "text/plain": [
       "'0.0 / 0.05'"
      ]
     },
     "metadata": {},
     "output_type": "display_data"
    }
   ],
   "source": [
    "vmin_val = min(0.00, gene_corrs_quantiles[0.10])\n",
    "vmax_val = max(0.05, gene_corrs_quantiles[0.90])\n",
    "display(f\"{vmin_val} / {vmax_val}\")"
   ]
  },
  {
   "cell_type": "code",
   "execution_count": 42,
   "id": "dc41b70b-5bcc-4d9e-9f33-a22c4a94dab5",
   "metadata": {
    "execution": {
     "iopub.execute_input": "2023-08-30T04:06:57.742787Z",
     "iopub.status.busy": "2023-08-30T04:06:57.742151Z",
     "iopub.status.idle": "2023-08-30T04:06:57.928955Z",
     "shell.execute_reply": "2023-08-30T04:06:57.928543Z"
    },
    "papermill": {
     "duration": 0.64267,
     "end_time": "2023-08-30T04:06:57.931488",
     "exception": false,
     "start_time": "2023-08-30T04:06:57.288818",
     "status": "completed"
    },
    "tags": []
   },
   "outputs": [
    {
     "data": {
      "text/plain": [
       "Text(0.5, 1.0, 'Gene correlations in chromosome 22')"
      ]
     },
     "execution_count": 42,
     "metadata": {},
     "output_type": "execute_result"
    },
    {
     "data": {
      "image/png": "[encoded data removed]",
      "text/plain": [
       "<Figure size 1000x1000 with 2 Axes>"
      ]
     },
     "metadata": {},
     "output_type": "display_data"
    }
   ],
   "source": [
    "f, ax = plt.subplots(figsize=(10, 10))\n",
    "sns.heatmap(\n",
    "    gene_corrs_df,\n",
    "    xticklabels=False,\n",
    "    yticklabels=False,\n",
    "    square=True,\n",
    "    vmin=vmin_val,\n",
    "    vmax=vmax_val,\n",
    "    cmap=\"rocket_r\",\n",
    "    ax=ax,\n",
    ")\n",
    "ax.set_title(f\"Gene correlations in chromosome {CHROMOSOME}\")"
   ]
  },
  {
   "cell_type": "code",
   "execution_count": null,
   "id": "b25e3ead",
   "metadata": {
    "papermill": {
     "duration": 0.461141,
     "end_time": "2023-08-30T04:06:58.897047",
     "exception": false,
     "start_time": "2023-08-30T04:06:58.435906",
     "status": "completed"
    },
    "tags": []
   },
   "outputs": [],
   "source": []
  }
 ],
 "metadata": {
  "jupytext": {
   "cell_metadata_filter": "all,-execution,-papermill,-trusted",
   "formats": "ipynb,py//py:percent"
  },
  "kernelspec": {
   "display_name": "Python 3 (ipykernel)",
   "language": "python",
   "name": "python3"
  },
  "language_info": {
   "codemirror_mode": {
    "name": "ipython",
    "version": 3
   },
   "file_extension": ".py",
   "mimetype": "text/x-python",
   "name": "python",
   "nbconvert_exporter": "python",
   "pygments_lexer": "ipython3",
   "version": "3.10.6"
  },
  "papermill": {
   "default_parameters": {},
   "duration": 302.672147,
   "end_time": "2023-08-30T04:07:02.920207",
   "environment_variables": {},
   "exception": null,
   "input_path": "projects/chronotype/nbs/20_gene_corrs/jobs/05-gene_expr_correlations.ipynb",
   "output_path": "projects/chronotype/nbs/20_gene_corrs/jobs/../output/chronotype/05-gene_expr_correlations-chr22.run.ipynb",
   "parameters": {
    "CHROMOSOME": 22,
    "COHORT_NAME": "chronotype",
    "OUTPUT_DIR_BASE": "/opt/data/projects/chronotype/results/gls_phenoplier",
    "PHENOPLIER_NOTEBOOK_FILEPATH": "projects/chronotype/nbs/20_gene_corrs/jobs/05-gene_expr_correlations.ipynb"
   },
   "start_time": "2023-08-30T04:02:00.248060",
   "version": "2.2.2"
  }
 },
 "nbformat": 4,
 "nbformat_minor": 5
}
