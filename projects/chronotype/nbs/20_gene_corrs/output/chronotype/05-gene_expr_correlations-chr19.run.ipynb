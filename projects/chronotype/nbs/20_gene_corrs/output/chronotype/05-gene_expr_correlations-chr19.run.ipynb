{
 "cells": [
  {
   "cell_type": "markdown",
   "id": "7a6632fb",
   "metadata": {
    "papermill": {
     "duration": 0.00502,
     "end_time": "2023-08-30T04:00:12.079261",
     "exception": false,
     "start_time": "2023-08-30T04:00:12.074241",
     "status": "completed"
    },
    "tags": []
   },
   "source": [
    "# Description"
   ]
  },
  {
   "cell_type": "markdown",
   "id": "7097c346",
   "metadata": {
    "papermill": {
     "duration": 0.004463,
     "end_time": "2023-08-30T04:00:12.088164",
     "exception": false,
     "start_time": "2023-08-30T04:00:12.083701",
     "status": "completed"
    },
    "tags": []
   },
   "source": [
    "This notebook computes predicted expression correlations between all genes in the MultiPLIER models.\n",
    "\n",
    "It has specicfic parameters for papermill (see under `Settings` below).\n",
    "\n",
    "This notebook should not be directly run. It is used by other notebooks."
   ]
  },
  {
   "cell_type": "markdown",
   "id": "c61d8427",
   "metadata": {
    "papermill": {
     "duration": 0.006707,
     "end_time": "2023-08-30T04:00:12.100267",
     "exception": false,
     "start_time": "2023-08-30T04:00:12.093560",
     "status": "completed"
    },
    "tags": []
   },
   "source": [
    "# Modules"
   ]
  },
  {
   "cell_type": "code",
   "execution_count": 1,
   "id": "bbc0234f",
   "metadata": {
    "execution": {
     "iopub.execute_input": "2023-08-30T04:00:12.114565Z",
     "iopub.status.busy": "2023-08-30T04:00:12.113899Z",
     "iopub.status.idle": "2023-08-30T04:00:12.141872Z",
     "shell.execute_reply": "2023-08-30T04:00:12.140963Z"
    },
    "papermill": {
     "duration": 0.035972,
     "end_time": "2023-08-30T04:00:12.143559",
     "exception": false,
     "start_time": "2023-08-30T04:00:12.107587",
     "status": "completed"
    },
    "tags": []
   },
   "outputs": [],
   "source": [
    "%load_ext autoreload\n",
    "%autoreload 2"
   ]
  },
  {
   "cell_type": "code",
   "execution_count": 2,
   "id": "1d5f5a59",
   "metadata": {
    "execution": {
     "iopub.execute_input": "2023-08-30T04:00:12.159625Z",
     "iopub.status.busy": "2023-08-30T04:00:12.159093Z",
     "iopub.status.idle": "2023-08-30T04:00:12.944127Z",
     "shell.execute_reply": "2023-08-30T04:00:12.943574Z"
    },
    "papermill": {
     "duration": 0.794649,
     "end_time": "2023-08-30T04:00:12.945717",
     "exception": false,
     "start_time": "2023-08-30T04:00:12.151068",
     "status": "completed"
    },
    "tags": []
   },
   "outputs": [],
   "source": [
    "from random import sample, seed\n",
    "import warnings\n",
    "from pathlib import Path\n",
    "import pickle\n",
    "import traceback\n",
    "\n",
    "import numpy as np\n",
    "from scipy.spatial.distance import squareform\n",
    "import pandas as pd\n",
    "from tqdm import tqdm\n",
    "import matplotlib.pyplot as plt\n",
    "import seaborn as sns\n",
    "\n",
    "import conf\n",
    "from entity import Gene"
   ]
  },
  {
   "cell_type": "markdown",
   "id": "1eac24b5",
   "metadata": {
    "papermill": {
     "duration": 0.007689,
     "end_time": "2023-08-30T04:00:12.961228",
     "exception": false,
     "start_time": "2023-08-30T04:00:12.953539",
     "status": "completed"
    },
    "tags": []
   },
   "source": [
    "# Settings"
   ]
  },
  {
   "cell_type": "code",
   "execution_count": 3,
   "id": "ca4560ba",
   "metadata": {
    "execution": {
     "iopub.execute_input": "2023-08-30T04:00:12.976207Z",
     "iopub.status.busy": "2023-08-30T04:00:12.975931Z",
     "iopub.status.idle": "2023-08-30T04:00:13.003446Z",
     "shell.execute_reply": "2023-08-30T04:00:13.002947Z"
    },
    "papermill": {
     "duration": 0.03585,
     "end_time": "2023-08-30T04:00:13.004994",
     "exception": false,
     "start_time": "2023-08-30T04:00:12.969144",
     "status": "completed"
    },
    "tags": [
     "parameters"
    ]
   },
   "outputs": [],
   "source": [
    "# a cohort name (it could be something like UK_BIOBANK, etc)\n",
    "COHORT_NAME = None\n",
    "\n",
    "# reference panel such as 1000G or GTEX_V8\n",
    "REFERENCE_PANEL = \"GTEX_V8\"\n",
    "\n",
    "# predictions models such as MASHR or ELASTIC_NET\n",
    "EQTL_MODEL = \"MASHR\"\n",
    "\n",
    "# this is the default value used in S-MultiXcan to select the\n",
    "# top principal components of the expression correlation matrix\n",
    "SMULTIXCAN_CONDITION_NUMBER = 30\n",
    "\n",
    "# specifies a single chromosome value\n",
    "CHROMOSOME = None\n",
    "\n",
    "# If True, computes the correlation between closeby genes only (see\n",
    "# entity.Gene.within_distance for more details). Otherwise, it computes\n",
    "# correlations for all genes in a chromosome\n",
    "COMPUTE_CORRELATIONS_WITHIN_DISTANCE = True\n",
    "\n",
    "# if True, then it will continue if a gene pair correlation fails,\n",
    "# printing the warning/error for debugging. If False, any warning/error\n",
    "# will be thrown\n",
    "DEBUG_MODE = False\n",
    "\n",
    "# output dir\n",
    "OUTPUT_DIR_BASE = None"
   ]
  },
  {
   "cell_type": "code",
   "execution_count": 4,
   "id": "167cc986",
   "metadata": {
    "execution": {
     "iopub.execute_input": "2023-08-30T04:00:13.016498Z",
     "iopub.status.busy": "2023-08-30T04:00:13.016231Z",
     "iopub.status.idle": "2023-08-30T04:00:13.041728Z",
     "shell.execute_reply": "2023-08-30T04:00:13.041299Z"
    },
    "papermill": {
     "duration": 0.032378,
     "end_time": "2023-08-30T04:00:13.043576",
     "exception": false,
     "start_time": "2023-08-30T04:00:13.011198",
     "status": "completed"
    },
    "tags": [
     "injected-parameters"
    ]
   },
   "outputs": [],
   "source": [
    "# Parameters\n",
    "PHENOPLIER_NOTEBOOK_FILEPATH = (\n",
    "    \"projects/chronotype/nbs/20_gene_corrs/jobs/05-gene_expr_correlations.ipynb\"\n",
    ")\n",
    "COHORT_NAME = \"chronotype\"\n",
    "CHROMOSOME = 19\n",
    "OUTPUT_DIR_BASE = \"/opt/data/projects/chronotype/results/gls_phenoplier\"\n"
   ]
  },
  {
   "cell_type": "code",
   "execution_count": 5,
   "id": "3190631f-27fc-480f-b18e-571d580425a5",
   "metadata": {
    "execution": {
     "iopub.execute_input": "2023-08-30T04:00:13.060978Z",
     "iopub.status.busy": "2023-08-30T04:00:13.060800Z",
     "iopub.status.idle": "2023-08-30T04:00:13.088441Z",
     "shell.execute_reply": "2023-08-30T04:00:13.087852Z"
    },
    "papermill": {
     "duration": 0.036954,
     "end_time": "2023-08-30T04:00:13.089670",
     "exception": false,
     "start_time": "2023-08-30T04:00:13.052716",
     "status": "completed"
    },
    "tags": []
   },
   "outputs": [
    {
     "data": {
      "text/plain": [
       "'Cohort name: chronotype'"
      ]
     },
     "metadata": {},
     "output_type": "display_data"
    }
   ],
   "source": [
    "assert COHORT_NAME is not None and len(COHORT_NAME) > 0, \"A cohort name must be given\"\n",
    "\n",
    "COHORT_NAME = COHORT_NAME.lower()\n",
    "display(f\"Cohort name: {COHORT_NAME}\")"
   ]
  },
  {
   "cell_type": "code",
   "execution_count": 6,
   "id": "f53ba19b-0f93-4fa2-a047-63b375939d1a",
   "metadata": {
    "execution": {
     "iopub.execute_input": "2023-08-30T04:00:13.105474Z",
     "iopub.status.busy": "2023-08-30T04:00:13.105204Z",
     "iopub.status.idle": "2023-08-30T04:00:13.131197Z",
     "shell.execute_reply": "2023-08-30T04:00:13.130830Z"
    },
    "papermill": {
     "duration": 0.0355,
     "end_time": "2023-08-30T04:00:13.132335",
     "exception": false,
     "start_time": "2023-08-30T04:00:13.096835",
     "status": "completed"
    },
    "tags": []
   },
   "outputs": [
    {
     "data": {
      "text/plain": [
       "'Reference panel: GTEX_V8'"
      ]
     },
     "metadata": {},
     "output_type": "display_data"
    }
   ],
   "source": [
    "assert (\n",
    "    REFERENCE_PANEL is not None and len(REFERENCE_PANEL) > 0\n",
    "), \"A reference panel must be given\"\n",
    "\n",
    "display(f\"Reference panel: {REFERENCE_PANEL}\")"
   ]
  },
  {
   "cell_type": "code",
   "execution_count": 7,
   "id": "e024d130-c139-429a-9c6e-ccf149e297b0",
   "metadata": {
    "execution": {
     "iopub.execute_input": "2023-08-30T04:00:13.149532Z",
     "iopub.status.busy": "2023-08-30T04:00:13.149156Z",
     "iopub.status.idle": "2023-08-30T04:00:13.173234Z",
     "shell.execute_reply": "2023-08-30T04:00:13.172784Z"
    },
    "papermill": {
     "duration": 0.035078,
     "end_time": "2023-08-30T04:00:13.174339",
     "exception": false,
     "start_time": "2023-08-30T04:00:13.139261",
     "status": "completed"
    },
    "tags": []
   },
   "outputs": [
    {
     "data": {
      "text/plain": [
       "'eQTL model: MASHR) / mashr_'"
      ]
     },
     "metadata": {},
     "output_type": "display_data"
    }
   ],
   "source": [
    "assert (\n",
    "    EQTL_MODEL is not None and len(EQTL_MODEL) > 0\n",
    "), \"A prediction/eQTL model must be given\"\n",
    "\n",
    "EQTL_MODEL_FILES_PREFIX = conf.PHENOMEXCAN[\"PREDICTION_MODELS\"][f\"{EQTL_MODEL}_PREFIX\"]\n",
    "display(f\"eQTL model: {EQTL_MODEL}) / {EQTL_MODEL_FILES_PREFIX}\")"
   ]
  },
  {
   "cell_type": "code",
   "execution_count": 8,
   "id": "552a7f63-a18c-4d3e-bb6a-94f99b431291",
   "metadata": {
    "execution": {
     "iopub.execute_input": "2023-08-30T04:00:13.189711Z",
     "iopub.status.busy": "2023-08-30T04:00:13.189260Z",
     "iopub.status.idle": "2023-08-30T04:00:13.212790Z",
     "shell.execute_reply": "2023-08-30T04:00:13.212234Z"
    },
    "papermill": {
     "duration": 0.032519,
     "end_time": "2023-08-30T04:00:13.213928",
     "exception": false,
     "start_time": "2023-08-30T04:00:13.181409",
     "status": "completed"
    },
    "tags": []
   },
   "outputs": [
    {
     "data": {
      "text/plain": [
       "'S-MultiXcan condition number: 30'"
      ]
     },
     "metadata": {},
     "output_type": "display_data"
    }
   ],
   "source": [
    "assert (\n",
    "    SMULTIXCAN_CONDITION_NUMBER is not None and SMULTIXCAN_CONDITION_NUMBER > 0\n",
    "), \"The S-MultiXcan condition number (positive integer) must be given\"\n",
    "\n",
    "display(f\"S-MultiXcan condition number: {SMULTIXCAN_CONDITION_NUMBER}\")"
   ]
  },
  {
   "cell_type": "code",
   "execution_count": 9,
   "id": "f34a336f-548e-4afe-8955-90eaea4f42c6",
   "metadata": {
    "execution": {
     "iopub.execute_input": "2023-08-30T04:00:13.229486Z",
     "iopub.status.busy": "2023-08-30T04:00:13.228958Z",
     "iopub.status.idle": "2023-08-30T04:00:13.249859Z",
     "shell.execute_reply": "2023-08-30T04:00:13.249205Z"
    },
    "papermill": {
     "duration": 0.029852,
     "end_time": "2023-08-30T04:00:13.250864",
     "exception": false,
     "start_time": "2023-08-30T04:00:13.221012",
     "status": "completed"
    },
    "tags": []
   },
   "outputs": [
    {
     "data": {
      "text/plain": [
       "'Working on chromosome 19'"
      ]
     },
     "metadata": {},
     "output_type": "display_data"
    }
   ],
   "source": [
    "assert CHROMOSOME is not None and (\n",
    "    1 <= CHROMOSOME <= 22\n",
    "), \"You have to select one chromosome (format: number between 1 and 22)\"\n",
    "\n",
    "display(f\"Working on chromosome {CHROMOSOME}\")"
   ]
  },
  {
   "cell_type": "code",
   "execution_count": 10,
   "id": "ab8e96e8-06b5-4363-9dcd-dc4d78cc27f7",
   "metadata": {
    "execution": {
     "iopub.execute_input": "2023-08-30T04:00:13.261861Z",
     "iopub.status.busy": "2023-08-30T04:00:13.261541Z",
     "iopub.status.idle": "2023-08-30T04:00:13.285434Z",
     "shell.execute_reply": "2023-08-30T04:00:13.284915Z"
    },
    "papermill": {
     "duration": 0.030477,
     "end_time": "2023-08-30T04:00:13.286417",
     "exception": false,
     "start_time": "2023-08-30T04:00:13.255940",
     "status": "completed"
    },
    "tags": []
   },
   "outputs": [
    {
     "data": {
      "text/plain": [
       "'Compute correlation within distance True'"
      ]
     },
     "metadata": {},
     "output_type": "display_data"
    }
   ],
   "source": [
    "display(f\"Compute correlation within distance {COMPUTE_CORRELATIONS_WITHIN_DISTANCE}\")"
   ]
  },
  {
   "cell_type": "code",
   "execution_count": 11,
   "id": "b393b698-77e3-4ba2-8ac1-e14d51aa988f",
   "metadata": {
    "execution": {
     "iopub.execute_input": "2023-08-30T04:00:13.297483Z",
     "iopub.status.busy": "2023-08-30T04:00:13.297199Z",
     "iopub.status.idle": "2023-08-30T04:00:13.319740Z",
     "shell.execute_reply": "2023-08-30T04:00:13.319213Z"
    },
    "papermill": {
     "duration": 0.029023,
     "end_time": "2023-08-30T04:00:13.320731",
     "exception": false,
     "start_time": "2023-08-30T04:00:13.291708",
     "status": "completed"
    },
    "tags": []
   },
   "outputs": [
    {
     "data": {
      "text/plain": [
       "'Using output dir base: /opt/data/projects/chronotype/results/gls_phenoplier/gene_corrs/chronotype'"
      ]
     },
     "metadata": {},
     "output_type": "display_data"
    }
   ],
   "source": [
    "assert (\n",
    "    OUTPUT_DIR_BASE is not None and len(OUTPUT_DIR_BASE) > 0\n",
    "), \"Output directory path must be given\"\n",
    "\n",
    "OUTPUT_DIR_BASE = (Path(OUTPUT_DIR_BASE) / \"gene_corrs\" / COHORT_NAME).resolve()\n",
    "\n",
    "OUTPUT_DIR_BASE.mkdir(parents=True, exist_ok=True)\n",
    "\n",
    "display(f\"Using output dir base: {OUTPUT_DIR_BASE}\")"
   ]
  },
  {
   "cell_type": "markdown",
   "id": "d2ba085e",
   "metadata": {
    "papermill": {
     "duration": 0.0049,
     "end_time": "2023-08-30T04:00:13.331129",
     "exception": false,
     "start_time": "2023-08-30T04:00:13.326229",
     "status": "completed"
    },
    "tags": []
   },
   "source": [
    "# Load data"
   ]
  },
  {
   "cell_type": "markdown",
   "id": "7dcb8db7",
   "metadata": {
    "papermill": {
     "duration": 0.004975,
     "end_time": "2023-08-30T04:00:13.341368",
     "exception": false,
     "start_time": "2023-08-30T04:00:13.336393",
     "status": "completed"
    },
    "tags": []
   },
   "source": [
    "## GWAS variants"
   ]
  },
  {
   "cell_type": "code",
   "execution_count": 12,
   "id": "29434c4e-8cd3-4b9b-82e4-b5a251d9dd19",
   "metadata": {
    "execution": {
     "iopub.execute_input": "2023-08-30T04:00:13.352255Z",
     "iopub.status.busy": "2023-08-30T04:00:13.351985Z",
     "iopub.status.idle": "2023-08-30T04:00:18.516267Z",
     "shell.execute_reply": "2023-08-30T04:00:18.515663Z"
    },
    "papermill": {
     "duration": 5.171858,
     "end_time": "2023-08-30T04:00:18.518095",
     "exception": false,
     "start_time": "2023-08-30T04:00:13.346237",
     "status": "completed"
    },
    "tags": []
   },
   "outputs": [],
   "source": [
    "with open(OUTPUT_DIR_BASE / \"gwas_variant_ids.pkl\", \"rb\") as handle:\n",
    "    gwas_variants_ids_set = pickle.load(handle)"
   ]
  },
  {
   "cell_type": "code",
   "execution_count": 13,
   "id": "b9d9dec2-4a76-4bf9-bde2-e24c95acb8a0",
   "metadata": {
    "execution": {
     "iopub.execute_input": "2023-08-30T04:00:18.536081Z",
     "iopub.status.busy": "2023-08-30T04:00:18.535875Z",
     "iopub.status.idle": "2023-08-30T04:00:18.550767Z",
     "shell.execute_reply": "2023-08-30T04:00:18.550259Z"
    },
    "papermill": {
     "duration": 0.025225,
     "end_time": "2023-08-30T04:00:18.552052",
     "exception": false,
     "start_time": "2023-08-30T04:00:18.526827",
     "status": "completed"
    },
    "tags": []
   },
   "outputs": [
    {
     "data": {
      "text/plain": [
       "11737794"
      ]
     },
     "execution_count": 13,
     "metadata": {},
     "output_type": "execute_result"
    }
   ],
   "source": [
    "len(gwas_variants_ids_set)"
   ]
  },
  {
   "cell_type": "code",
   "execution_count": 14,
   "id": "4235b06a-6034-4ee4-a0a3-2ae35d122418",
   "metadata": {
    "execution": {
     "iopub.execute_input": "2023-08-30T04:00:18.570279Z",
     "iopub.status.busy": "2023-08-30T04:00:18.570019Z",
     "iopub.status.idle": "2023-08-30T04:00:20.792420Z",
     "shell.execute_reply": "2023-08-30T04:00:20.791922Z"
    },
    "papermill": {
     "duration": 2.233085,
     "end_time": "2023-08-30T04:00:20.793567",
     "exception": false,
     "start_time": "2023-08-30T04:00:18.560482",
     "status": "completed"
    },
    "tags": []
   },
   "outputs": [
    {
     "data": {
      "text/plain": [
       "['chr2_209874150_T_C_b38',\n",
       " 'chr4_17541432_C_T_b38',\n",
       " 'chr5_98425549_A_G_b38',\n",
       " 'chr11_34548593_T_C_b38',\n",
       " 'chr8_54718409_C_G_b38']"
      ]
     },
     "execution_count": 14,
     "metadata": {},
     "output_type": "execute_result"
    }
   ],
   "source": [
    "list(gwas_variants_ids_set)[:5]"
   ]
  },
  {
   "cell_type": "markdown",
   "id": "07866999-2305-41f9-a144-e69c9122c212",
   "metadata": {
    "papermill": {
     "duration": 0.00752,
     "end_time": "2023-08-30T04:00:20.808780",
     "exception": false,
     "start_time": "2023-08-30T04:00:20.801260",
     "status": "completed"
    },
    "tags": []
   },
   "source": [
    "## S-PrediXcan tissue models"
   ]
  },
  {
   "cell_type": "code",
   "execution_count": 15,
   "id": "780611d9-77c8-405f-90a4-f271f7b09397",
   "metadata": {
    "execution": {
     "iopub.execute_input": "2023-08-30T04:00:20.826704Z",
     "iopub.status.busy": "2023-08-30T04:00:20.826358Z",
     "iopub.status.idle": "2023-08-30T04:00:23.035945Z",
     "shell.execute_reply": "2023-08-30T04:00:23.035489Z"
    },
    "papermill": {
     "duration": 2.220105,
     "end_time": "2023-08-30T04:00:23.037448",
     "exception": false,
     "start_time": "2023-08-30T04:00:20.817343",
     "status": "completed"
    },
    "tags": []
   },
   "outputs": [],
   "source": [
    "spredixcan_genes_models = pd.read_pickle(OUTPUT_DIR_BASE / \"gene_tissues.pkl\")"
   ]
  },
  {
   "cell_type": "code",
   "execution_count": 16,
   "id": "726dd1f6-9557-4225-91fa-b3b879ea96e1",
   "metadata": {
    "execution": {
     "iopub.execute_input": "2023-08-30T04:00:23.057528Z",
     "iopub.status.busy": "2023-08-30T04:00:23.057283Z",
     "iopub.status.idle": "2023-08-30T04:00:23.076570Z",
     "shell.execute_reply": "2023-08-30T04:00:23.075931Z"
    },
    "papermill": {
     "duration": 0.032324,
     "end_time": "2023-08-30T04:00:23.077805",
     "exception": false,
     "start_time": "2023-08-30T04:00:23.045481",
     "status": "completed"
    },
    "tags": []
   },
   "outputs": [
    {
     "data": {
      "text/plain": [
       "(6445, 5)"
      ]
     },
     "execution_count": 16,
     "metadata": {},
     "output_type": "execute_result"
    }
   ],
   "source": [
    "spredixcan_genes_models.shape"
   ]
  },
  {
   "cell_type": "code",
   "execution_count": 17,
   "id": "944a1b48-222c-4eb0-b252-b9de2cbca215",
   "metadata": {
    "execution": {
     "iopub.execute_input": "2023-08-30T04:00:23.097197Z",
     "iopub.status.busy": "2023-08-30T04:00:23.096912Z",
     "iopub.status.idle": "2023-08-30T04:00:23.124320Z",
     "shell.execute_reply": "2023-08-30T04:00:23.123922Z"
    },
    "papermill": {
     "duration": 0.03838,
     "end_time": "2023-08-30T04:00:23.125501",
     "exception": false,
     "start_time": "2023-08-30T04:00:23.087121",
     "status": "completed"
    },
    "tags": []
   },
   "outputs": [
    {
     "data": {
      "text/html": [
       "<div>\n",
       "<style scoped>\n",
       "    .dataframe tbody tr th:only-of-type {\n",
       "        vertical-align: middle;\n",
       "    }\n",
       "\n",
       "    .dataframe tbody tr th {\n",
       "        vertical-align: top;\n",
       "    }\n",
       "\n",
       "    .dataframe thead th {\n",
       "        text-align: right;\n",
       "    }\n",
       "</style>\n",
       "<table border=\"1\" class=\"dataframe\">\n",
       "  <thead>\n",
       "    <tr style=\"text-align: right;\">\n",
       "      <th></th>\n",
       "      <th>gene_name</th>\n",
       "      <th>tissue</th>\n",
       "      <th>n_tissues</th>\n",
       "      <th>n_snps_used_sum</th>\n",
       "      <th>n_snps_in_model_sum</th>\n",
       "    </tr>\n",
       "    <tr>\n",
       "      <th>gene_id</th>\n",
       "      <th></th>\n",
       "      <th></th>\n",
       "      <th></th>\n",
       "      <th></th>\n",
       "      <th></th>\n",
       "    </tr>\n",
       "  </thead>\n",
       "  <tbody>\n",
       "    <tr>\n",
       "      <th>ENSG00000000419</th>\n",
       "      <td>DPM1</td>\n",
       "      <td>(Brain_Hypothalamus, Brain_Substantia_nigra)</td>\n",
       "      <td>2</td>\n",
       "      <td>2</td>\n",
       "      <td>2</td>\n",
       "    </tr>\n",
       "    <tr>\n",
       "      <th>ENSG00000000938</th>\n",
       "      <td>FGR</td>\n",
       "      <td>(Skin_Sun_Exposed_Lower_leg, Esophagus_Muscula...</td>\n",
       "      <td>36</td>\n",
       "      <td>40</td>\n",
       "      <td>40</td>\n",
       "    </tr>\n",
       "    <tr>\n",
       "      <th>ENSG00000000971</th>\n",
       "      <td>CFH</td>\n",
       "      <td>(Skin_Sun_Exposed_Lower_leg, Esophagus_Muscula...</td>\n",
       "      <td>34</td>\n",
       "      <td>44</td>\n",
       "      <td>44</td>\n",
       "    </tr>\n",
       "    <tr>\n",
       "      <th>ENSG00000001084</th>\n",
       "      <td>GCLC</td>\n",
       "      <td>(Skin_Sun_Exposed_Lower_leg, Artery_Coronary, ...</td>\n",
       "      <td>32</td>\n",
       "      <td>46</td>\n",
       "      <td>46</td>\n",
       "    </tr>\n",
       "    <tr>\n",
       "      <th>ENSG00000001167</th>\n",
       "      <td>NFYA</td>\n",
       "      <td>(Skin_Sun_Exposed_Lower_leg, Esophagus_Muscula...</td>\n",
       "      <td>40</td>\n",
       "      <td>47</td>\n",
       "      <td>48</td>\n",
       "    </tr>\n",
       "  </tbody>\n",
       "</table>\n",
       "</div>"
      ],
      "text/plain": [
       "                gene_name                                             tissue  \\\n",
       "gene_id                                                                        \n",
       "ENSG00000000419      DPM1       (Brain_Hypothalamus, Brain_Substantia_nigra)   \n",
       "ENSG00000000938       FGR  (Skin_Sun_Exposed_Lower_leg, Esophagus_Muscula...   \n",
       "ENSG00000000971       CFH  (Skin_Sun_Exposed_Lower_leg, Esophagus_Muscula...   \n",
       "ENSG00000001084      GCLC  (Skin_Sun_Exposed_Lower_leg, Artery_Coronary, ...   \n",
       "ENSG00000001167      NFYA  (Skin_Sun_Exposed_Lower_leg, Esophagus_Muscula...   \n",
       "\n",
       "                 n_tissues  n_snps_used_sum  n_snps_in_model_sum  \n",
       "gene_id                                                           \n",
       "ENSG00000000419          2                2                    2  \n",
       "ENSG00000000938         36               40                   40  \n",
       "ENSG00000000971         34               44                   44  \n",
       "ENSG00000001084         32               46                   46  \n",
       "ENSG00000001167         40               47                   48  "
      ]
     },
     "execution_count": 17,
     "metadata": {},
     "output_type": "execute_result"
    }
   ],
   "source": [
    "spredixcan_genes_models.head()"
   ]
  },
  {
   "cell_type": "code",
   "execution_count": 18,
   "id": "d1c11bb1-be0b-4f40-b360-633d6827109f",
   "metadata": {
    "execution": {
     "iopub.execute_input": "2023-08-30T04:00:23.143058Z",
     "iopub.status.busy": "2023-08-30T04:00:23.142745Z",
     "iopub.status.idle": "2023-08-30T04:00:23.161221Z",
     "shell.execute_reply": "2023-08-30T04:00:23.160754Z"
    },
    "papermill": {
     "duration": 0.027423,
     "end_time": "2023-08-30T04:00:23.162314",
     "exception": false,
     "start_time": "2023-08-30T04:00:23.134891",
     "status": "completed"
    },
    "tags": []
   },
   "outputs": [],
   "source": [
    "assert spredixcan_genes_models.index.is_unique"
   ]
  },
  {
   "cell_type": "markdown",
   "id": "a5b5092c-a13e-47c4-a92a-480fcc08f3ae",
   "metadata": {
    "papermill": {
     "duration": 0.006014,
     "end_time": "2023-08-30T04:00:23.174065",
     "exception": false,
     "start_time": "2023-08-30T04:00:23.168051",
     "status": "completed"
    },
    "tags": []
   },
   "source": [
    "## Gene info"
   ]
  },
  {
   "cell_type": "code",
   "execution_count": 19,
   "id": "7d6bb224-88e9-4358-ac10-43a41d92cdad",
   "metadata": {
    "execution": {
     "iopub.execute_input": "2023-08-30T04:00:23.186164Z",
     "iopub.status.busy": "2023-08-30T04:00:23.185842Z",
     "iopub.status.idle": "2023-08-30T04:00:23.208844Z",
     "shell.execute_reply": "2023-08-30T04:00:23.208378Z"
    },
    "papermill": {
     "duration": 0.030859,
     "end_time": "2023-08-30T04:00:23.210208",
     "exception": false,
     "start_time": "2023-08-30T04:00:23.179349",
     "status": "completed"
    },
    "tags": []
   },
   "outputs": [],
   "source": [
    "genes_info = pd.read_pickle(OUTPUT_DIR_BASE / \"genes_info.pkl\")"
   ]
  },
  {
   "cell_type": "code",
   "execution_count": 20,
   "id": "9e32abfa-546d-483e-8c18-d526e9e05903",
   "metadata": {
    "execution": {
     "iopub.execute_input": "2023-08-30T04:00:23.224883Z",
     "iopub.status.busy": "2023-08-30T04:00:23.224489Z",
     "iopub.status.idle": "2023-08-30T04:00:23.248438Z",
     "shell.execute_reply": "2023-08-30T04:00:23.247836Z"
    },
    "papermill": {
     "duration": 0.032713,
     "end_time": "2023-08-30T04:00:23.249673",
     "exception": false,
     "start_time": "2023-08-30T04:00:23.216960",
     "status": "completed"
    },
    "tags": []
   },
   "outputs": [
    {
     "data": {
      "text/plain": [
       "(6445, 7)"
      ]
     },
     "execution_count": 20,
     "metadata": {},
     "output_type": "execute_result"
    }
   ],
   "source": [
    "genes_info.shape"
   ]
  },
  {
   "cell_type": "code",
   "execution_count": 21,
   "id": "d16c3e92-85ec-468a-9a56-e25a9774a1cb",
   "metadata": {
    "execution": {
     "iopub.execute_input": "2023-08-30T04:00:23.264351Z",
     "iopub.status.busy": "2023-08-30T04:00:23.263708Z",
     "iopub.status.idle": "2023-08-30T04:00:23.291136Z",
     "shell.execute_reply": "2023-08-30T04:00:23.290616Z"
    },
    "papermill": {
     "duration": 0.035546,
     "end_time": "2023-08-30T04:00:23.292130",
     "exception": false,
     "start_time": "2023-08-30T04:00:23.256584",
     "status": "completed"
    },
    "tags": []
   },
   "outputs": [
    {
     "data": {
      "text/html": [
       "<div>\n",
       "<style scoped>\n",
       "    .dataframe tbody tr th:only-of-type {\n",
       "        vertical-align: middle;\n",
       "    }\n",
       "\n",
       "    .dataframe tbody tr th {\n",
       "        vertical-align: top;\n",
       "    }\n",
       "\n",
       "    .dataframe thead th {\n",
       "        text-align: right;\n",
       "    }\n",
       "</style>\n",
       "<table border=\"1\" class=\"dataframe\">\n",
       "  <thead>\n",
       "    <tr style=\"text-align: right;\">\n",
       "      <th></th>\n",
       "      <th>name</th>\n",
       "      <th>id</th>\n",
       "      <th>chr</th>\n",
       "      <th>band</th>\n",
       "      <th>start_position</th>\n",
       "      <th>end_position</th>\n",
       "      <th>gene_length</th>\n",
       "    </tr>\n",
       "  </thead>\n",
       "  <tbody>\n",
       "    <tr>\n",
       "      <th>0</th>\n",
       "      <td>DUT</td>\n",
       "      <td>ENSG00000128951</td>\n",
       "      <td>15</td>\n",
       "      <td>15q21.1</td>\n",
       "      <td>48331011</td>\n",
       "      <td>48343373</td>\n",
       "      <td>12362</td>\n",
       "    </tr>\n",
       "    <tr>\n",
       "      <th>1</th>\n",
       "      <td>NDUFA4</td>\n",
       "      <td>ENSG00000189043</td>\n",
       "      <td>7</td>\n",
       "      <td>7p21.3</td>\n",
       "      <td>10931943</td>\n",
       "      <td>10940153</td>\n",
       "      <td>8210</td>\n",
       "    </tr>\n",
       "    <tr>\n",
       "      <th>2</th>\n",
       "      <td>EPHB3</td>\n",
       "      <td>ENSG00000182580</td>\n",
       "      <td>3</td>\n",
       "      <td>3q27.1</td>\n",
       "      <td>184561785</td>\n",
       "      <td>184582408</td>\n",
       "      <td>20623</td>\n",
       "    </tr>\n",
       "    <tr>\n",
       "      <th>3</th>\n",
       "      <td>MYLK</td>\n",
       "      <td>ENSG00000065534</td>\n",
       "      <td>3</td>\n",
       "      <td>3q21.1</td>\n",
       "      <td>123610049</td>\n",
       "      <td>123884331</td>\n",
       "      <td>274282</td>\n",
       "    </tr>\n",
       "    <tr>\n",
       "      <th>4</th>\n",
       "      <td>SMPD4</td>\n",
       "      <td>ENSG00000136699</td>\n",
       "      <td>2</td>\n",
       "      <td>2q21.1</td>\n",
       "      <td>130151392</td>\n",
       "      <td>130182750</td>\n",
       "      <td>31358</td>\n",
       "    </tr>\n",
       "  </tbody>\n",
       "</table>\n",
       "</div>"
      ],
      "text/plain": [
       "     name               id  chr     band  start_position  end_position  \\\n",
       "0     DUT  ENSG00000128951   15  15q21.1        48331011      48343373   \n",
       "1  NDUFA4  ENSG00000189043    7   7p21.3        10931943      10940153   \n",
       "2   EPHB3  ENSG00000182580    3   3q27.1       184561785     184582408   \n",
       "3    MYLK  ENSG00000065534    3   3q21.1       123610049     123884331   \n",
       "4   SMPD4  ENSG00000136699    2   2q21.1       130151392     130182750   \n",
       "\n",
       "   gene_length  \n",
       "0        12362  \n",
       "1         8210  \n",
       "2        20623  \n",
       "3       274282  \n",
       "4        31358  "
      ]
     },
     "execution_count": 21,
     "metadata": {},
     "output_type": "execute_result"
    }
   ],
   "source": [
    "genes_info.head()"
   ]
  },
  {
   "cell_type": "markdown",
   "id": "d3843e06",
   "metadata": {
    "papermill": {
     "duration": 0.005922,
     "end_time": "2023-08-30T04:00:23.304503",
     "exception": false,
     "start_time": "2023-08-30T04:00:23.298581",
     "status": "completed"
    },
    "tags": []
   },
   "source": [
    "# Compute correlations"
   ]
  },
  {
   "cell_type": "code",
   "execution_count": 22,
   "id": "cb859c15-d1f3-4006-a74c-2b83c0db9611",
   "metadata": {
    "execution": {
     "iopub.execute_input": "2023-08-30T04:00:23.317940Z",
     "iopub.status.busy": "2023-08-30T04:00:23.317574Z",
     "iopub.status.idle": "2023-08-30T04:00:23.340678Z",
     "shell.execute_reply": "2023-08-30T04:00:23.339906Z"
    },
    "papermill": {
     "duration": 0.031367,
     "end_time": "2023-08-30T04:00:23.341779",
     "exception": false,
     "start_time": "2023-08-30T04:00:23.310412",
     "status": "completed"
    },
    "tags": []
   },
   "outputs": [
    {
     "data": {
      "text/plain": [
       "PosixPath('/opt/data/projects/chronotype/results/gls_phenoplier/gene_corrs/chronotype/by_chr/gene_corrs-chr19.pkl')"
      ]
     },
     "metadata": {},
     "output_type": "display_data"
    }
   ],
   "source": [
    "output_dir = OUTPUT_DIR_BASE / \"by_chr\"\n",
    "output_dir.mkdir(exist_ok=True, parents=True)\n",
    "output_file = output_dir / f\"gene_corrs-chr{CHROMOSOME}.pkl\"\n",
    "display(output_file)"
   ]
  },
  {
   "cell_type": "code",
   "execution_count": 23,
   "id": "aa674fe4-6794-4eed-98fa-32b39d1d4ace",
   "metadata": {
    "execution": {
     "iopub.execute_input": "2023-08-30T04:00:23.355951Z",
     "iopub.status.busy": "2023-08-30T04:00:23.355536Z",
     "iopub.status.idle": "2023-08-30T04:00:23.374490Z",
     "shell.execute_reply": "2023-08-30T04:00:23.373947Z"
    },
    "papermill": {
     "duration": 0.027522,
     "end_time": "2023-08-30T04:00:23.375800",
     "exception": false,
     "start_time": "2023-08-30T04:00:23.348278",
     "status": "completed"
    },
    "tags": []
   },
   "outputs": [],
   "source": [
    "warnings.filterwarnings(\"error\")"
   ]
  },
  {
   "cell_type": "code",
   "execution_count": 24,
   "id": "44d5450b-3baf-43f1-9e2e-4b06f1a785f8",
   "metadata": {
    "execution": {
     "iopub.execute_input": "2023-08-30T04:00:23.389895Z",
     "iopub.status.busy": "2023-08-30T04:00:23.389601Z",
     "iopub.status.idle": "2023-08-30T04:00:23.410356Z",
     "shell.execute_reply": "2023-08-30T04:00:23.409795Z"
    },
    "papermill": {
     "duration": 0.029887,
     "end_time": "2023-08-30T04:00:23.412027",
     "exception": false,
     "start_time": "2023-08-30T04:00:23.382140",
     "status": "completed"
    },
    "tags": []
   },
   "outputs": [],
   "source": [
    "# standard checks\n",
    "all_chrs = genes_info[\"chr\"].dropna().unique()\n",
    "assert all_chrs.shape[0] == 22\n",
    "\n",
    "# select chromosome given by the user\n",
    "assert CHROMOSOME in all_chrs"
   ]
  },
  {
   "cell_type": "code",
   "execution_count": 25,
   "id": "2d7c043c-92a7-4d35-991b-fa69ac1e0268",
   "metadata": {
    "execution": {
     "iopub.execute_input": "2023-08-30T04:00:23.433824Z",
     "iopub.status.busy": "2023-08-30T04:00:23.433444Z",
     "iopub.status.idle": "2023-08-30T04:00:23.454229Z",
     "shell.execute_reply": "2023-08-30T04:00:23.453564Z"
    },
    "papermill": {
     "duration": 0.034644,
     "end_time": "2023-08-30T04:00:23.455969",
     "exception": false,
     "start_time": "2023-08-30T04:00:23.421325",
     "status": "completed"
    },
    "tags": []
   },
   "outputs": [
    {
     "name": "stdout",
     "output_type": "stream",
     "text": [
      "Number of genes in chromosome: 539\n"
     ]
    }
   ],
   "source": [
    "# run only on the chromosome specified\n",
    "all_chrs = [CHROMOSOME]\n",
    "genes_chr = genes_info[genes_info[\"chr\"] == CHROMOSOME]\n",
    "\n",
    "# For testing purposes\n",
    "# genes_chr = genes_chr.sample(n=20)\n",
    "\n",
    "print(f\"Number of genes in chromosome: {genes_chr.shape[0]}\", flush=True)"
   ]
  },
  {
   "cell_type": "code",
   "execution_count": 26,
   "id": "916015d8-2979-46d3-a9b9-1cf5a0932c6a",
   "metadata": {
    "execution": {
     "iopub.execute_input": "2023-08-30T04:00:23.482162Z",
     "iopub.status.busy": "2023-08-30T04:00:23.481827Z",
     "iopub.status.idle": "2023-08-30T04:00:23.506798Z",
     "shell.execute_reply": "2023-08-30T04:00:23.506133Z"
    },
    "papermill": {
     "duration": 0.04057,
     "end_time": "2023-08-30T04:00:23.508921",
     "exception": false,
     "start_time": "2023-08-30T04:00:23.468351",
     "status": "completed"
    },
    "tags": []
   },
   "outputs": [],
   "source": [
    "# sort genes by starting position to make visualizations better later\n",
    "genes_chr = genes_chr.sort_values(\"start_position\")"
   ]
  },
  {
   "cell_type": "code",
   "execution_count": 27,
   "id": "a38aa74a-8ad3-47f6-8ef9-56be0e011774",
   "metadata": {
    "execution": {
     "iopub.execute_input": "2023-08-30T04:00:23.534947Z",
     "iopub.status.busy": "2023-08-30T04:00:23.534289Z",
     "iopub.status.idle": "2023-08-30T04:00:23.560176Z",
     "shell.execute_reply": "2023-08-30T04:00:23.559522Z"
    },
    "papermill": {
     "duration": 0.041238,
     "end_time": "2023-08-30T04:00:23.562227",
     "exception": false,
     "start_time": "2023-08-30T04:00:23.520989",
     "status": "completed"
    },
    "tags": []
   },
   "outputs": [],
   "source": [
    "gene_chr_objs = [Gene(ensembl_id=gene_id) for gene_id in genes_chr[\"id\"]]"
   ]
  },
  {
   "cell_type": "code",
   "execution_count": 28,
   "id": "570f974f-13c3-42b6-ad3a-ce99ca885c1a",
   "metadata": {
    "execution": {
     "iopub.execute_input": "2023-08-30T04:00:23.588839Z",
     "iopub.status.busy": "2023-08-30T04:00:23.588149Z",
     "iopub.status.idle": "2023-08-30T04:00:23.614610Z",
     "shell.execute_reply": "2023-08-30T04:00:23.613986Z"
    },
    "papermill": {
     "duration": 0.041465,
     "end_time": "2023-08-30T04:00:23.616264",
     "exception": false,
     "start_time": "2023-08-30T04:00:23.574799",
     "status": "completed"
    },
    "tags": []
   },
   "outputs": [
    {
     "name": "stdout",
     "output_type": "stream",
     "text": [
      "Number of gene combinations: 145530\n"
     ]
    }
   ],
   "source": [
    "n = len(gene_chr_objs)\n",
    "# diagonal elements + upper triangular matrix\n",
    "n_comb = n + int(n * (n - 1) / 2.0)\n",
    "print(f\"Number of gene combinations: {n_comb}\", flush=True)"
   ]
  },
  {
   "cell_type": "code",
   "execution_count": 29,
   "id": "cdbb90a1",
   "metadata": {
    "execution": {
     "iopub.execute_input": "2023-08-30T04:00:23.642887Z",
     "iopub.status.busy": "2023-08-30T04:00:23.642451Z",
     "iopub.status.idle": "2023-08-30T04:23:46.704116Z",
     "shell.execute_reply": "2023-08-30T04:23:46.703690Z"
    },
    "papermill": {
     "duration": 1403.076973,
     "end_time": "2023-08-30T04:23:46.705513",
     "exception": false,
     "start_time": "2023-08-30T04:00:23.628540",
     "status": "completed"
    },
    "tags": []
   },
   "outputs": [
    {
     "name": "stderr",
     "output_type": "stream",
     "text": [
      "ENSG00000130725 / ENSG00000130725: 100%|███████████████████| 145530/145530 [23:23<00:00, 103.73it/s]\n"
     ]
    },
    {
     "data": {
      "text/plain": [
       "PosixPath('/opt/data/projects/chronotype/results/gls_phenoplier/gene_corrs/chronotype/by_chr/gene_corrs-chr19.pkl')"
      ]
     },
     "metadata": {},
     "output_type": "display_data"
    }
   ],
   "source": [
    "gene_corrs = []\n",
    "gene_corrs_data = np.full(\n",
    "    (n, n),\n",
    "    np.nan,\n",
    "    dtype=np.float64,\n",
    ")\n",
    "\n",
    "i = 0\n",
    "with tqdm(ncols=100, total=n_comb) as pbar:\n",
    "    for gene1_idx in range(0, len(gene_chr_objs)):\n",
    "        gene1_obj = gene_chr_objs[gene1_idx]\n",
    "        gene1_tissues = spredixcan_genes_models.loc[gene1_obj.ensembl_id, \"tissue\"]\n",
    "\n",
    "        for gene2_idx in range(gene1_idx, len(gene_chr_objs)):\n",
    "            gene2_obj = gene_chr_objs[gene2_idx]\n",
    "            gene2_tissues = spredixcan_genes_models.loc[gene2_obj.ensembl_id, \"tissue\"]\n",
    "\n",
    "            pbar.set_description(f\"{gene1_obj.ensembl_id} / {gene2_obj.ensembl_id}\")\n",
    "\n",
    "            try:\n",
    "                r = gene1_obj.get_ssm_correlation(\n",
    "                    other_gene=gene2_obj,\n",
    "                    tissues=gene1_tissues,\n",
    "                    other_tissues=gene2_tissues,\n",
    "                    snps_subset=gwas_variants_ids_set,\n",
    "                    condition_number=SMULTIXCAN_CONDITION_NUMBER,\n",
    "                    reference_panel=REFERENCE_PANEL,\n",
    "                    model_type=EQTL_MODEL,\n",
    "                    use_within_distance=COMPUTE_CORRELATIONS_WITHIN_DISTANCE,\n",
    "                )\n",
    "\n",
    "                if r is None:\n",
    "                    # if r is None, it's very likely because:\n",
    "                    #  * one of the genes has no prediction models\n",
    "                    #  * all the SNPs predictors for the gene are not present in the reference\n",
    "                    #    panel\n",
    "\n",
    "                    r = 0.0\n",
    "\n",
    "                gene_corrs.append(r)\n",
    "\n",
    "                gene_corrs_data[gene1_idx, gene2_idx] = r\n",
    "                gene_corrs_data[gene2_idx, gene1_idx] = r\n",
    "            except Warning as e:\n",
    "                if not DEBUG_MODE:\n",
    "                    raise e\n",
    "\n",
    "                print(\n",
    "                    f\"RuntimeWarning for genes {gene1_obj.ensembl_id} and {gene2_obj.ensembl_id}\",\n",
    "                    flush=True,\n",
    "                )\n",
    "                print(traceback.format_exc(), flush=True)\n",
    "\n",
    "                gene_corrs.append(np.nan)\n",
    "            except Exception as e:\n",
    "                if not DEBUG_MODE:\n",
    "                    raise e\n",
    "\n",
    "                print(\n",
    "                    f\"Exception for genes {gene1_obj.ensembl_id} and {gene2_obj.ensembl_id}\",\n",
    "                    flush=True,\n",
    "                )\n",
    "                print(traceback.format_exc(), flush=True)\n",
    "\n",
    "                gene_corrs.append(np.nan)\n",
    "\n",
    "            pbar.update(1)\n",
    "\n",
    "# create a pandas series\n",
    "gene_corrs_flat = pd.Series(gene_corrs)\n",
    "\n",
    "# save\n",
    "# FIXME: consider saving only the condenced matrix here. See here for\n",
    "# more details: https://github.com/greenelab/phenoplier/pull/38#discussion_r634600813\n",
    "# gene_corrs_data = squareform(np.array(gene_corrs, dtype=np.float64))\n",
    "# np.fill_diagonal(gene_corrs_data, 1.0)\n",
    "\n",
    "gene_chr_ids = [g.ensembl_id for g in gene_chr_objs]\n",
    "gene_corrs_df = pd.DataFrame(\n",
    "    data=gene_corrs_data,\n",
    "    index=gene_chr_ids,\n",
    "    columns=gene_chr_ids,\n",
    ")\n",
    "\n",
    "output_dir.mkdir(exist_ok=True, parents=True)\n",
    "display(output_file)\n",
    "\n",
    "gene_corrs_df.to_pickle(output_file)"
   ]
  },
  {
   "cell_type": "markdown",
   "id": "faa67b51-5373-470f-aa72-2ded53fa6dfe",
   "metadata": {
    "papermill": {
     "duration": 4.415407,
     "end_time": "2023-08-30T04:23:55.465922",
     "exception": false,
     "start_time": "2023-08-30T04:23:51.050515",
     "status": "completed"
    },
    "tags": []
   },
   "source": [
    "# Testing"
   ]
  },
  {
   "cell_type": "code",
   "execution_count": 30,
   "id": "14f7d046-4b55-4896-a56b-990127bcc388",
   "metadata": {
    "execution": {
     "iopub.execute_input": "2023-08-30T04:24:04.244607Z",
     "iopub.status.busy": "2023-08-30T04:24:04.244213Z",
     "iopub.status.idle": "2023-08-30T04:24:04.266816Z",
     "shell.execute_reply": "2023-08-30T04:24:04.266159Z"
    },
    "papermill": {
     "duration": 4.389584,
     "end_time": "2023-08-30T04:24:04.267725",
     "exception": false,
     "start_time": "2023-08-30T04:23:59.878141",
     "status": "completed"
    },
    "tags": []
   },
   "outputs": [
    {
     "data": {
      "text/plain": [
       "(539, 539)"
      ]
     },
     "execution_count": 30,
     "metadata": {},
     "output_type": "execute_result"
    }
   ],
   "source": [
    "gene_corrs_df.shape"
   ]
  },
  {
   "cell_type": "code",
   "execution_count": 31,
   "id": "c7d15414-3297-4537-a7c6-7588c0baeb75",
   "metadata": {
    "execution": {
     "iopub.execute_input": "2023-08-30T04:24:13.080079Z",
     "iopub.status.busy": "2023-08-30T04:24:13.079784Z",
     "iopub.status.idle": "2023-08-30T04:24:13.119636Z",
     "shell.execute_reply": "2023-08-30T04:24:13.119097Z"
    },
    "papermill": {
     "duration": 4.475438,
     "end_time": "2023-08-30T04:24:13.120488",
     "exception": false,
     "start_time": "2023-08-30T04:24:08.645050",
     "status": "completed"
    },
    "tags": []
   },
   "outputs": [
    {
     "data": {
      "text/html": [
       "<div>\n",
       "<style scoped>\n",
       "    .dataframe tbody tr th:only-of-type {\n",
       "        vertical-align: middle;\n",
       "    }\n",
       "\n",
       "    .dataframe tbody tr th {\n",
       "        vertical-align: top;\n",
       "    }\n",
       "\n",
       "    .dataframe thead th {\n",
       "        text-align: right;\n",
       "    }\n",
       "</style>\n",
       "<table border=\"1\" class=\"dataframe\">\n",
       "  <thead>\n",
       "    <tr style=\"text-align: right;\">\n",
       "      <th></th>\n",
       "      <th>ENSG00000129946</th>\n",
       "      <th>ENSG00000099866</th>\n",
       "      <th>ENSG00000099804</th>\n",
       "      <th>ENSG00000197540</th>\n",
       "      <th>ENSG00000172270</th>\n",
       "      <th>ENSG00000099822</th>\n",
       "      <th>ENSG00000099821</th>\n",
       "      <th>ENSG00000011304</th>\n",
       "      <th>ENSG00000172232</th>\n",
       "      <th>ENSG00000196415</th>\n",
       "      <th>...</th>\n",
       "      <th>ENSG00000171606</th>\n",
       "      <th>ENSG00000198131</th>\n",
       "      <th>ENSG00000083845</th>\n",
       "      <th>ENSG00000171574</th>\n",
       "      <th>ENSG00000083812</th>\n",
       "      <th>ENSG00000083838</th>\n",
       "      <th>ENSG00000083807</th>\n",
       "      <th>ENSG00000130726</th>\n",
       "      <th>ENSG00000130724</th>\n",
       "      <th>ENSG00000130725</th>\n",
       "    </tr>\n",
       "  </thead>\n",
       "  <tbody>\n",
       "    <tr>\n",
       "      <th>ENSG00000129946</th>\n",
       "      <td>1.000000</td>\n",
       "      <td>0.264423</td>\n",
       "      <td>0.093510</td>\n",
       "      <td>0.020422</td>\n",
       "      <td>0.011022</td>\n",
       "      <td>0.009315</td>\n",
       "      <td>0.007658</td>\n",
       "      <td>0.008405</td>\n",
       "      <td>0.007586</td>\n",
       "      <td>0.009502</td>\n",
       "      <td>...</td>\n",
       "      <td>0.0</td>\n",
       "      <td>0.0</td>\n",
       "      <td>0.0</td>\n",
       "      <td>0.0</td>\n",
       "      <td>0.0</td>\n",
       "      <td>0.0</td>\n",
       "      <td>0.0</td>\n",
       "      <td>0.0</td>\n",
       "      <td>0.0</td>\n",
       "      <td>0.0</td>\n",
       "    </tr>\n",
       "    <tr>\n",
       "      <th>ENSG00000099866</th>\n",
       "      <td>0.264423</td>\n",
       "      <td>1.000000</td>\n",
       "      <td>0.044559</td>\n",
       "      <td>0.023154</td>\n",
       "      <td>0.011076</td>\n",
       "      <td>0.010918</td>\n",
       "      <td>0.007550</td>\n",
       "      <td>0.011108</td>\n",
       "      <td>0.004575</td>\n",
       "      <td>0.006488</td>\n",
       "      <td>...</td>\n",
       "      <td>0.0</td>\n",
       "      <td>0.0</td>\n",
       "      <td>0.0</td>\n",
       "      <td>0.0</td>\n",
       "      <td>0.0</td>\n",
       "      <td>0.0</td>\n",
       "      <td>0.0</td>\n",
       "      <td>0.0</td>\n",
       "      <td>0.0</td>\n",
       "      <td>0.0</td>\n",
       "    </tr>\n",
       "    <tr>\n",
       "      <th>ENSG00000099804</th>\n",
       "      <td>0.093510</td>\n",
       "      <td>0.044559</td>\n",
       "      <td>1.000000</td>\n",
       "      <td>0.250375</td>\n",
       "      <td>0.126414</td>\n",
       "      <td>0.063956</td>\n",
       "      <td>0.020030</td>\n",
       "      <td>0.017367</td>\n",
       "      <td>0.012473</td>\n",
       "      <td>0.013359</td>\n",
       "      <td>...</td>\n",
       "      <td>0.0</td>\n",
       "      <td>0.0</td>\n",
       "      <td>0.0</td>\n",
       "      <td>0.0</td>\n",
       "      <td>0.0</td>\n",
       "      <td>0.0</td>\n",
       "      <td>0.0</td>\n",
       "      <td>0.0</td>\n",
       "      <td>0.0</td>\n",
       "      <td>0.0</td>\n",
       "    </tr>\n",
       "    <tr>\n",
       "      <th>ENSG00000197540</th>\n",
       "      <td>0.020422</td>\n",
       "      <td>0.023154</td>\n",
       "      <td>0.250375</td>\n",
       "      <td>1.000000</td>\n",
       "      <td>0.112516</td>\n",
       "      <td>0.082177</td>\n",
       "      <td>0.022795</td>\n",
       "      <td>0.017245</td>\n",
       "      <td>0.016109</td>\n",
       "      <td>0.016447</td>\n",
       "      <td>...</td>\n",
       "      <td>0.0</td>\n",
       "      <td>0.0</td>\n",
       "      <td>0.0</td>\n",
       "      <td>0.0</td>\n",
       "      <td>0.0</td>\n",
       "      <td>0.0</td>\n",
       "      <td>0.0</td>\n",
       "      <td>0.0</td>\n",
       "      <td>0.0</td>\n",
       "      <td>0.0</td>\n",
       "    </tr>\n",
       "    <tr>\n",
       "      <th>ENSG00000172270</th>\n",
       "      <td>0.011022</td>\n",
       "      <td>0.011076</td>\n",
       "      <td>0.126414</td>\n",
       "      <td>0.112516</td>\n",
       "      <td>1.000000</td>\n",
       "      <td>0.308233</td>\n",
       "      <td>0.022857</td>\n",
       "      <td>0.025918</td>\n",
       "      <td>0.058945</td>\n",
       "      <td>0.035145</td>\n",
       "      <td>...</td>\n",
       "      <td>0.0</td>\n",
       "      <td>0.0</td>\n",
       "      <td>0.0</td>\n",
       "      <td>0.0</td>\n",
       "      <td>0.0</td>\n",
       "      <td>0.0</td>\n",
       "      <td>0.0</td>\n",
       "      <td>0.0</td>\n",
       "      <td>0.0</td>\n",
       "      <td>0.0</td>\n",
       "    </tr>\n",
       "  </tbody>\n",
       "</table>\n",
       "<p>5 rows × 539 columns</p>\n",
       "</div>"
      ],
      "text/plain": [
       "                 ENSG00000129946  ENSG00000099866  ENSG00000099804  \\\n",
       "ENSG00000129946         1.000000         0.264423         0.093510   \n",
       "ENSG00000099866         0.264423         1.000000         0.044559   \n",
       "ENSG00000099804         0.093510         0.044559         1.000000   \n",
       "ENSG00000197540         0.020422         0.023154         0.250375   \n",
       "ENSG00000172270         0.011022         0.011076         0.126414   \n",
       "\n",
       "                 ENSG00000197540  ENSG00000172270  ENSG00000099822  \\\n",
       "ENSG00000129946         0.020422         0.011022         0.009315   \n",
       "ENSG00000099866         0.023154         0.011076         0.010918   \n",
       "ENSG00000099804         0.250375         0.126414         0.063956   \n",
       "ENSG00000197540         1.000000         0.112516         0.082177   \n",
       "ENSG00000172270         0.112516         1.000000         0.308233   \n",
       "\n",
       "                 ENSG00000099821  ENSG00000011304  ENSG00000172232  \\\n",
       "ENSG00000129946         0.007658         0.008405         0.007586   \n",
       "ENSG00000099866         0.007550         0.011108         0.004575   \n",
       "ENSG00000099804         0.020030         0.017367         0.012473   \n",
       "ENSG00000197540         0.022795         0.017245         0.016109   \n",
       "ENSG00000172270         0.022857         0.025918         0.058945   \n",
       "\n",
       "                 ENSG00000196415  ...  ENSG00000171606  ENSG00000198131  \\\n",
       "ENSG00000129946         0.009502  ...              0.0              0.0   \n",
       "ENSG00000099866         0.006488  ...              0.0              0.0   \n",
       "ENSG00000099804         0.013359  ...              0.0              0.0   \n",
       "ENSG00000197540         0.016447  ...              0.0              0.0   \n",
       "ENSG00000172270         0.035145  ...              0.0              0.0   \n",
       "\n",
       "                 ENSG00000083845  ENSG00000171574  ENSG00000083812  \\\n",
       "ENSG00000129946              0.0              0.0              0.0   \n",
       "ENSG00000099866              0.0              0.0              0.0   \n",
       "ENSG00000099804              0.0              0.0              0.0   \n",
       "ENSG00000197540              0.0              0.0              0.0   \n",
       "ENSG00000172270              0.0              0.0              0.0   \n",
       "\n",
       "                 ENSG00000083838  ENSG00000083807  ENSG00000130726  \\\n",
       "ENSG00000129946              0.0              0.0              0.0   \n",
       "ENSG00000099866              0.0              0.0              0.0   \n",
       "ENSG00000099804              0.0              0.0              0.0   \n",
       "ENSG00000197540              0.0              0.0              0.0   \n",
       "ENSG00000172270              0.0              0.0              0.0   \n",
       "\n",
       "                 ENSG00000130724  ENSG00000130725  \n",
       "ENSG00000129946              0.0              0.0  \n",
       "ENSG00000099866              0.0              0.0  \n",
       "ENSG00000099804              0.0              0.0  \n",
       "ENSG00000197540              0.0              0.0  \n",
       "ENSG00000172270              0.0              0.0  \n",
       "\n",
       "[5 rows x 539 columns]"
      ]
     },
     "execution_count": 31,
     "metadata": {},
     "output_type": "execute_result"
    }
   ],
   "source": [
    "gene_corrs_df.head()"
   ]
  },
  {
   "cell_type": "markdown",
   "id": "dad6603f-01c6-41fb-a6f6-241051207dd8",
   "metadata": {
    "papermill": {
     "duration": 4.452245,
     "end_time": "2023-08-30T04:24:21.832090",
     "exception": false,
     "start_time": "2023-08-30T04:24:17.379845",
     "status": "completed"
    },
    "tags": []
   },
   "source": [
    "## Standard checks and stats"
   ]
  },
  {
   "cell_type": "code",
   "execution_count": 32,
   "id": "286686af-1b7b-4440-8453-6bdcbd8de19c",
   "metadata": {
    "execution": {
     "iopub.execute_input": "2023-08-30T04:24:30.484640Z",
     "iopub.status.busy": "2023-08-30T04:24:30.484210Z",
     "iopub.status.idle": "2023-08-30T04:24:30.507165Z",
     "shell.execute_reply": "2023-08-30T04:24:30.506483Z"
    },
    "papermill": {
     "duration": 4.444512,
     "end_time": "2023-08-30T04:24:30.508168",
     "exception": false,
     "start_time": "2023-08-30T04:24:26.063656",
     "status": "completed"
    },
    "tags": []
   },
   "outputs": [],
   "source": [
    "assert not gene_corrs_df.isna().any(axis=None)"
   ]
  },
  {
   "cell_type": "code",
   "execution_count": 33,
   "id": "00583efc-7068-4270-ad1e-4a418e91db96",
   "metadata": {
    "execution": {
     "iopub.execute_input": "2023-08-30T04:24:39.225760Z",
     "iopub.status.busy": "2023-08-30T04:24:39.225342Z",
     "iopub.status.idle": "2023-08-30T04:24:39.249729Z",
     "shell.execute_reply": "2023-08-30T04:24:39.249074Z"
    },
    "papermill": {
     "duration": 4.37665,
     "end_time": "2023-08-30T04:24:39.250600",
     "exception": false,
     "start_time": "2023-08-30T04:24:34.873950",
     "status": "completed"
    },
    "tags": []
   },
   "outputs": [
    {
     "data": {
      "text/plain": [
       "0.0"
      ]
     },
     "metadata": {},
     "output_type": "display_data"
    }
   ],
   "source": [
    "_min_val = gene_corrs_df.min().min()\n",
    "display(_min_val)\n",
    "assert _min_val >= -0.05"
   ]
  },
  {
   "cell_type": "code",
   "execution_count": 34,
   "id": "d04fb2cf-1050-475b-b855-f5f7cc04092b",
   "metadata": {
    "execution": {
     "iopub.execute_input": "2023-08-30T04:24:48.075803Z",
     "iopub.status.busy": "2023-08-30T04:24:48.075519Z",
     "iopub.status.idle": "2023-08-30T04:24:48.101501Z",
     "shell.execute_reply": "2023-08-30T04:24:48.100845Z"
    },
    "papermill": {
     "duration": 4.504199,
     "end_time": "2023-08-30T04:24:48.102385",
     "exception": false,
     "start_time": "2023-08-30T04:24:43.598186",
     "status": "completed"
    },
    "tags": []
   },
   "outputs": [
    {
     "data": {
      "text/plain": [
       "1.0000000000000033"
      ]
     },
     "metadata": {},
     "output_type": "display_data"
    }
   ],
   "source": [
    "_max_val = gene_corrs_df.max().max()  # this captures the diagonal\n",
    "display(_max_val)\n",
    "assert _max_val <= 1.05"
   ]
  },
  {
   "cell_type": "code",
   "execution_count": 35,
   "id": "fe283586-c348-40e0-8841-f6d97bfb021c",
   "metadata": {
    "execution": {
     "iopub.execute_input": "2023-08-30T04:24:56.797002Z",
     "iopub.status.busy": "2023-08-30T04:24:56.796702Z",
     "iopub.status.idle": "2023-08-30T04:24:56.826257Z",
     "shell.execute_reply": "2023-08-30T04:24:56.825597Z"
    },
    "papermill": {
     "duration": 4.406497,
     "end_time": "2023-08-30T04:24:56.827155",
     "exception": false,
     "start_time": "2023-08-30T04:24:52.420658",
     "status": "completed"
    },
    "tags": []
   },
   "outputs": [
    {
     "data": {
      "text/plain": [
       "count    145530.000000\n",
       "mean          0.006767\n",
       "std           0.065888\n",
       "min           0.000000\n",
       "25%           0.000000\n",
       "50%           0.000000\n",
       "75%           0.000000\n",
       "max           1.000000\n",
       "dtype: float64"
      ]
     },
     "execution_count": 35,
     "metadata": {},
     "output_type": "execute_result"
    }
   ],
   "source": [
    "gene_corrs_flat.describe()"
   ]
  },
  {
   "cell_type": "code",
   "execution_count": 36,
   "id": "b3815678-0f93-4b35-897b-a9d047a2aa78",
   "metadata": {
    "execution": {
     "iopub.execute_input": "2023-08-30T04:25:05.703805Z",
     "iopub.status.busy": "2023-08-30T04:25:05.703502Z",
     "iopub.status.idle": "2023-08-30T04:25:05.733404Z",
     "shell.execute_reply": "2023-08-30T04:25:05.732759Z"
    },
    "papermill": {
     "duration": 4.357874,
     "end_time": "2023-08-30T04:25:05.734325",
     "exception": false,
     "start_time": "2023-08-30T04:25:01.376451",
     "status": "completed"
    },
    "tags": []
   },
   "outputs": [
    {
     "data": {
      "text/plain": [
       "0.00    0.000000\n",
       "0.05    0.000000\n",
       "0.10    0.000000\n",
       "0.15    0.000000\n",
       "0.20    0.000000\n",
       "0.25    0.000000\n",
       "0.30    0.000000\n",
       "0.35    0.000000\n",
       "0.40    0.000000\n",
       "0.45    0.000000\n",
       "0.50    0.000000\n",
       "0.55    0.000000\n",
       "0.60    0.000000\n",
       "0.65    0.000000\n",
       "0.70    0.000000\n",
       "0.75    0.000000\n",
       "0.80    0.000000\n",
       "0.85    0.003650\n",
       "0.90    0.006035\n",
       "0.95    0.009050\n",
       "dtype: float64"
      ]
     },
     "metadata": {},
     "output_type": "display_data"
    }
   ],
   "source": [
    "gene_corrs_quantiles = gene_corrs_flat.quantile(np.arange(0, 1, 0.05))\n",
    "display(gene_corrs_quantiles)"
   ]
  },
  {
   "cell_type": "markdown",
   "id": "87134509-b145-4a10-8bc9-b7e914c2b0fa",
   "metadata": {
    "papermill": {
     "duration": 4.488472,
     "end_time": "2023-08-30T04:25:14.641362",
     "exception": false,
     "start_time": "2023-08-30T04:25:10.152890",
     "status": "completed"
    },
    "tags": []
   },
   "source": [
    "## Positive definiteness"
   ]
  },
  {
   "cell_type": "code",
   "execution_count": 37,
   "id": "07d9a9a1-a4f7-48aa-b916-6d42a8cc6186",
   "metadata": {
    "execution": {
     "iopub.execute_input": "2023-08-30T04:25:23.508192Z",
     "iopub.status.busy": "2023-08-30T04:25:23.507838Z",
     "iopub.status.idle": "2023-08-30T04:25:23.602773Z",
     "shell.execute_reply": "2023-08-30T04:25:23.602381Z"
    },
    "papermill": {
     "duration": 4.606062,
     "end_time": "2023-08-30T04:25:23.603604",
     "exception": false,
     "start_time": "2023-08-30T04:25:18.997542",
     "status": "completed"
    },
    "tags": []
   },
   "outputs": [
    {
     "data": {
      "text/plain": [
       "0"
      ]
     },
     "metadata": {},
     "output_type": "display_data"
    },
    {
     "data": {
      "text/plain": [
       "array([], dtype=float64)"
      ]
     },
     "metadata": {},
     "output_type": "display_data"
    }
   ],
   "source": [
    "# print negative eigenvalues\n",
    "eigs = np.linalg.eigvals(gene_corrs_df.to_numpy())\n",
    "display(len(eigs[eigs < 0]))\n",
    "display(eigs[eigs < 0])"
   ]
  },
  {
   "cell_type": "code",
   "execution_count": 38,
   "id": "6e218436-c3c5-4028-8c94-a4fa6260efce",
   "metadata": {
    "execution": {
     "iopub.execute_input": "2023-08-30T04:25:32.501903Z",
     "iopub.status.busy": "2023-08-30T04:25:32.501529Z",
     "iopub.status.idle": "2023-08-30T04:25:32.543117Z",
     "shell.execute_reply": "2023-08-30T04:25:32.542564Z"
    },
    "papermill": {
     "duration": 4.478574,
     "end_time": "2023-08-30T04:25:32.543956",
     "exception": false,
     "start_time": "2023-08-30T04:25:28.065382",
     "status": "completed"
    },
    "tags": []
   },
   "outputs": [
    {
     "name": "stdout",
     "output_type": "stream",
     "text": [
      "Works!\n"
     ]
    }
   ],
   "source": [
    "try:\n",
    "    chol_mat = np.linalg.cholesky(gene_corrs_df.to_numpy())\n",
    "    cov_inv = np.linalg.inv(chol_mat)\n",
    "    print(\"Works!\")\n",
    "except Exception as e:\n",
    "    print(f\"Cholesky decomposition failed: {str(e)}\")"
   ]
  },
  {
   "cell_type": "code",
   "execution_count": 39,
   "id": "dd8827fb-faf9-4c7c-9454-015e94752706",
   "metadata": {
    "execution": {
     "iopub.execute_input": "2023-08-30T04:25:41.335901Z",
     "iopub.status.busy": "2023-08-30T04:25:41.335613Z",
     "iopub.status.idle": "2023-08-30T04:25:41.385850Z",
     "shell.execute_reply": "2023-08-30T04:25:41.385180Z"
    },
    "papermill": {
     "duration": 4.403893,
     "end_time": "2023-08-30T04:25:41.386761",
     "exception": false,
     "start_time": "2023-08-30T04:25:36.982868",
     "status": "completed"
    },
    "tags": []
   },
   "outputs": [
    {
     "name": "stdout",
     "output_type": "stream",
     "text": [
      "Works!\n"
     ]
    }
   ],
   "source": [
    "try:\n",
    "    # decomposition used by statsmodels.GLS\n",
    "    cholsigmainv = np.linalg.cholesky(np.linalg.inv(gene_corrs_df.to_numpy())).T\n",
    "    print(\"Works!\")\n",
    "except Exception as e:\n",
    "    print(f\"Cholesky decomposition failed (statsmodels.GLS): {str(e)}\")"
   ]
  },
  {
   "cell_type": "markdown",
   "id": "8e60a080-edb2-4e9c-b2ef-22961693200c",
   "metadata": {
    "papermill": {
     "duration": 4.34233,
     "end_time": "2023-08-30T04:25:50.236643",
     "exception": false,
     "start_time": "2023-08-30T04:25:45.894313",
     "status": "completed"
    },
    "tags": []
   },
   "source": [
    "## Plot: distribution"
   ]
  },
  {
   "cell_type": "code",
   "execution_count": 40,
   "id": "8301126b-a7d4-4744-9c7d-f0f86eb6f54c",
   "metadata": {
    "execution": {
     "iopub.execute_input": "2023-08-30T04:25:59.230881Z",
     "iopub.status.busy": "2023-08-30T04:25:59.230444Z",
     "iopub.status.idle": "2023-08-30T04:25:59.970291Z",
     "shell.execute_reply": "2023-08-30T04:25:59.969779Z"
    },
    "papermill": {
     "duration": 5.37124,
     "end_time": "2023-08-30T04:25:59.971478",
     "exception": false,
     "start_time": "2023-08-30T04:25:54.600238",
     "status": "completed"
    },
    "tags": []
   },
   "outputs": [
    {
     "data": {
      "image/png": "[encoded data removed]",
      "text/plain": [
       "<Figure size 700x700 with 1 Axes>"
      ]
     },
     "metadata": {},
     "output_type": "display_data"
    }
   ],
   "source": [
    "with sns.plotting_context(\"paper\", font_scale=1.5):\n",
    "    g = sns.displot(gene_corrs_flat, kde=True, height=7)\n",
    "    g.ax.set_title(\n",
    "        f\"Distribution of gene correlation values in chromosome {CHROMOSOME}\"\n",
    "    )"
   ]
  },
  {
   "cell_type": "markdown",
   "id": "cbd52bca-d878-4a2f-b684-5c83aa3038d4",
   "metadata": {
    "papermill": {
     "duration": 4.372084,
     "end_time": "2023-08-30T04:26:08.740976",
     "exception": false,
     "start_time": "2023-08-30T04:26:04.368892",
     "status": "completed"
    },
    "tags": []
   },
   "source": [
    "## Plot: heatmap"
   ]
  },
  {
   "cell_type": "code",
   "execution_count": 41,
   "id": "d03fe63a-c7b2-4fb9-a53c-db362ce843c9",
   "metadata": {
    "execution": {
     "iopub.execute_input": "2023-08-30T04:26:17.532221Z",
     "iopub.status.busy": "2023-08-30T04:26:17.531855Z",
     "iopub.status.idle": "2023-08-30T04:26:17.556476Z",
     "shell.execute_reply": "2023-08-30T04:26:17.555872Z"
    },
    "papermill": {
     "duration": 4.404824,
     "end_time": "2023-08-30T04:26:17.557410",
     "exception": false,
     "start_time": "2023-08-30T04:26:13.152586",
     "status": "completed"
    },
    "tags": []
   },
   "outputs": [
    {
     "data": {
      "text/plain": [
       "'0.0 / 0.05'"
      ]
     },
     "metadata": {},
     "output_type": "display_data"
    }
   ],
   "source": [
    "vmin_val = min(0.00, gene_corrs_quantiles[0.10])\n",
    "vmax_val = max(0.05, gene_corrs_quantiles[0.90])\n",
    "display(f\"{vmin_val} / {vmax_val}\")"
   ]
  },
  {
   "cell_type": "code",
   "execution_count": 42,
   "id": "dc41b70b-5bcc-4d9e-9f33-a22c4a94dab5",
   "metadata": {
    "execution": {
     "iopub.execute_input": "2023-08-30T04:26:26.365226Z",
     "iopub.status.busy": "2023-08-30T04:26:26.364810Z",
     "iopub.status.idle": "2023-08-30T04:26:26.775249Z",
     "shell.execute_reply": "2023-08-30T04:26:26.774727Z"
    },
    "papermill": {
     "duration": 4.705097,
     "end_time": "2023-08-30T04:26:26.777823",
     "exception": false,
     "start_time": "2023-08-30T04:26:22.072726",
     "status": "completed"
    },
    "tags": []
   },
   "outputs": [
    {
     "data": {
      "text/plain": [
       "Text(0.5, 1.0, 'Gene correlations in chromosome 19')"
      ]
     },
     "execution_count": 42,
     "metadata": {},
     "output_type": "execute_result"
    },
    {
     "data": {
      "image/png": "[encoded data removed]",
      "text/plain": [
       "<Figure size 1000x1000 with 2 Axes>"
      ]
     },
     "metadata": {},
     "output_type": "display_data"
    }
   ],
   "source": [
    "f, ax = plt.subplots(figsize=(10, 10))\n",
    "sns.heatmap(\n",
    "    gene_corrs_df,\n",
    "    xticklabels=False,\n",
    "    yticklabels=False,\n",
    "    square=True,\n",
    "    vmin=vmin_val,\n",
    "    vmax=vmax_val,\n",
    "    cmap=\"rocket_r\",\n",
    "    ax=ax,\n",
    ")\n",
    "ax.set_title(f\"Gene correlations in chromosome {CHROMOSOME}\")"
   ]
  },
  {
   "cell_type": "code",
   "execution_count": null,
   "id": "b25e3ead",
   "metadata": {
    "papermill": {
     "duration": 4.459388,
     "end_time": "2023-08-30T04:26:35.651259",
     "exception": false,
     "start_time": "2023-08-30T04:26:31.191871",
     "status": "completed"
    },
    "tags": []
   },
   "outputs": [],
   "source": []
  }
 ],
 "metadata": {
  "jupytext": {
   "cell_metadata_filter": "all,-execution,-papermill,-trusted",
   "formats": "ipynb,py//py:percent"
  },
  "kernelspec": {
   "display_name": "Python 3 (ipykernel)",
   "language": "python",
   "name": "python3"
  },
  "language_info": {
   "codemirror_mode": {
    "name": "ipython",
    "version": 3
   },
   "file_extension": ".py",
   "mimetype": "text/x-python",
   "name": "python",
   "nbconvert_exporter": "python",
   "pygments_lexer": "ipython3",
   "version": "3.10.6"
  },
  "papermill": {
   "default_parameters": {},
   "duration": 1591.700963,
   "end_time": "2023-08-30T04:26:42.857485",
   "environment_variables": {},
   "exception": null,
   "input_path": "projects/chronotype/nbs/20_gene_corrs/jobs/05-gene_expr_correlations.ipynb",
   "output_path": "projects/chronotype/nbs/20_gene_corrs/jobs/../output/chronotype/05-gene_expr_correlations-chr19.run.ipynb",
   "parameters": {
    "CHROMOSOME": 19,
    "COHORT_NAME": "chronotype",
    "OUTPUT_DIR_BASE": "/opt/data/projects/chronotype/results/gls_phenoplier",
    "PHENOPLIER_NOTEBOOK_FILEPATH": "projects/chronotype/nbs/20_gene_corrs/jobs/05-gene_expr_correlations.ipynb"
   },
   "start_time": "2023-08-30T04:00:11.156522",
   "version": "2.2.2"
  }
 },
 "nbformat": 4,
 "nbformat_minor": 5
}
