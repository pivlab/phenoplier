{
 "cells": [
  {
   "cell_type": "markdown",
   "id": "7a6632fb",
   "metadata": {
    "papermill": {
     "duration": 0.004867,
     "end_time": "2023-08-30T04:00:12.059250",
     "exception": false,
     "start_time": "2023-08-30T04:00:12.054383",
     "status": "completed"
    },
    "tags": []
   },
   "source": [
    "# Description"
   ]
  },
  {
   "cell_type": "markdown",
   "id": "7097c346",
   "metadata": {
    "papermill": {
     "duration": 0.008401,
     "end_time": "2023-08-30T04:00:12.072017",
     "exception": false,
     "start_time": "2023-08-30T04:00:12.063616",
     "status": "completed"
    },
    "tags": []
   },
   "source": [
    "This notebook computes predicted expression correlations between all genes in the MultiPLIER models.\n",
    "\n",
    "It has specicfic parameters for papermill (see under `Settings` below).\n",
    "\n",
    "This notebook should not be directly run. It is used by other notebooks."
   ]
  },
  {
   "cell_type": "markdown",
   "id": "c61d8427",
   "metadata": {
    "papermill": {
     "duration": 0.008335,
     "end_time": "2023-08-30T04:00:12.091031",
     "exception": false,
     "start_time": "2023-08-30T04:00:12.082696",
     "status": "completed"
    },
    "tags": []
   },
   "source": [
    "# Modules"
   ]
  },
  {
   "cell_type": "code",
   "execution_count": 1,
   "id": "bbc0234f",
   "metadata": {
    "execution": {
     "iopub.execute_input": "2023-08-30T04:00:12.105787Z",
     "iopub.status.busy": "2023-08-30T04:00:12.105404Z",
     "iopub.status.idle": "2023-08-30T04:00:12.122266Z",
     "shell.execute_reply": "2023-08-30T04:00:12.121552Z"
    },
    "papermill": {
     "duration": 0.026763,
     "end_time": "2023-08-30T04:00:12.124833",
     "exception": false,
     "start_time": "2023-08-30T04:00:12.098070",
     "status": "completed"
    },
    "tags": []
   },
   "outputs": [],
   "source": [
    "%load_ext autoreload\n",
    "%autoreload 2"
   ]
  },
  {
   "cell_type": "code",
   "execution_count": 2,
   "id": "1d5f5a59",
   "metadata": {
    "execution": {
     "iopub.execute_input": "2023-08-30T04:00:12.149782Z",
     "iopub.status.busy": "2023-08-30T04:00:12.149615Z",
     "iopub.status.idle": "2023-08-30T04:00:12.886004Z",
     "shell.execute_reply": "2023-08-30T04:00:12.885489Z"
    },
    "papermill": {
     "duration": 0.748097,
     "end_time": "2023-08-30T04:00:12.887318",
     "exception": false,
     "start_time": "2023-08-30T04:00:12.139221",
     "status": "completed"
    },
    "tags": []
   },
   "outputs": [],
   "source": [
    "from random import sample, seed\n",
    "import warnings\n",
    "from pathlib import Path\n",
    "import pickle\n",
    "import traceback\n",
    "\n",
    "import numpy as np\n",
    "from scipy.spatial.distance import squareform\n",
    "import pandas as pd\n",
    "from tqdm import tqdm\n",
    "import matplotlib.pyplot as plt\n",
    "import seaborn as sns\n",
    "\n",
    "import conf\n",
    "from entity import Gene"
   ]
  },
  {
   "cell_type": "markdown",
   "id": "1eac24b5",
   "metadata": {
    "papermill": {
     "duration": 0.004514,
     "end_time": "2023-08-30T04:00:12.896751",
     "exception": false,
     "start_time": "2023-08-30T04:00:12.892237",
     "status": "completed"
    },
    "tags": []
   },
   "source": [
    "# Settings"
   ]
  },
  {
   "cell_type": "code",
   "execution_count": 3,
   "id": "ca4560ba",
   "metadata": {
    "execution": {
     "iopub.execute_input": "2023-08-30T04:00:12.907364Z",
     "iopub.status.busy": "2023-08-30T04:00:12.906971Z",
     "iopub.status.idle": "2023-08-30T04:00:12.924538Z",
     "shell.execute_reply": "2023-08-30T04:00:12.924004Z"
    },
    "papermill": {
     "duration": 0.024739,
     "end_time": "2023-08-30T04:00:12.926058",
     "exception": false,
     "start_time": "2023-08-30T04:00:12.901319",
     "status": "completed"
    },
    "tags": [
     "parameters"
    ]
   },
   "outputs": [],
   "source": [
    "# a cohort name (it could be something like UK_BIOBANK, etc)\n",
    "COHORT_NAME = None\n",
    "\n",
    "# reference panel such as 1000G or GTEX_V8\n",
    "REFERENCE_PANEL = \"GTEX_V8\"\n",
    "\n",
    "# predictions models such as MASHR or ELASTIC_NET\n",
    "EQTL_MODEL = \"MASHR\"\n",
    "\n",
    "# this is the default value used in S-MultiXcan to select the\n",
    "# top principal components of the expression correlation matrix\n",
    "SMULTIXCAN_CONDITION_NUMBER = 30\n",
    "\n",
    "# specifies a single chromosome value\n",
    "CHROMOSOME = None\n",
    "\n",
    "# If True, computes the correlation between closeby genes only (see\n",
    "# entity.Gene.within_distance for more details). Otherwise, it computes\n",
    "# correlations for all genes in a chromosome\n",
    "COMPUTE_CORRELATIONS_WITHIN_DISTANCE = True\n",
    "\n",
    "# if True, then it will continue if a gene pair correlation fails,\n",
    "# printing the warning/error for debugging. If False, any warning/error\n",
    "# will be thrown\n",
    "DEBUG_MODE = False\n",
    "\n",
    "# output dir\n",
    "OUTPUT_DIR_BASE = None"
   ]
  },
  {
   "cell_type": "code",
   "execution_count": 4,
   "id": "d6feddb2",
   "metadata": {
    "execution": {
     "iopub.execute_input": "2023-08-30T04:00:12.938626Z",
     "iopub.status.busy": "2023-08-30T04:00:12.938410Z",
     "iopub.status.idle": "2023-08-30T04:00:12.960021Z",
     "shell.execute_reply": "2023-08-30T04:00:12.959598Z"
    },
    "papermill": {
     "duration": 0.0285,
     "end_time": "2023-08-30T04:00:12.961165",
     "exception": false,
     "start_time": "2023-08-30T04:00:12.932665",
     "status": "completed"
    },
    "tags": [
     "injected-parameters"
    ]
   },
   "outputs": [],
   "source": [
    "# Parameters\n",
    "PHENOPLIER_NOTEBOOK_FILEPATH = (\n",
    "    \"projects/chronotype/nbs/20_gene_corrs/jobs/05-gene_expr_correlations.ipynb\"\n",
    ")\n",
    "COHORT_NAME = \"chronotype\"\n",
    "CHROMOSOME = 20\n",
    "OUTPUT_DIR_BASE = \"/opt/data/projects/chronotype/results/gls_phenoplier\"\n"
   ]
  },
  {
   "cell_type": "code",
   "execution_count": 5,
   "id": "3190631f-27fc-480f-b18e-571d580425a5",
   "metadata": {
    "execution": {
     "iopub.execute_input": "2023-08-30T04:00:12.976361Z",
     "iopub.status.busy": "2023-08-30T04:00:12.975995Z",
     "iopub.status.idle": "2023-08-30T04:00:13.007329Z",
     "shell.execute_reply": "2023-08-30T04:00:13.006878Z"
    },
    "papermill": {
     "duration": 0.041042,
     "end_time": "2023-08-30T04:00:13.009068",
     "exception": false,
     "start_time": "2023-08-30T04:00:12.968026",
     "status": "completed"
    },
    "tags": []
   },
   "outputs": [
    {
     "data": {
      "text/plain": [
       "'Cohort name: chronotype'"
      ]
     },
     "metadata": {},
     "output_type": "display_data"
    }
   ],
   "source": [
    "assert COHORT_NAME is not None and len(COHORT_NAME) > 0, \"A cohort name must be given\"\n",
    "\n",
    "COHORT_NAME = COHORT_NAME.lower()\n",
    "display(f\"Cohort name: {COHORT_NAME}\")"
   ]
  },
  {
   "cell_type": "code",
   "execution_count": 6,
   "id": "f53ba19b-0f93-4fa2-a047-63b375939d1a",
   "metadata": {
    "execution": {
     "iopub.execute_input": "2023-08-30T04:00:13.028402Z",
     "iopub.status.busy": "2023-08-30T04:00:13.028020Z",
     "iopub.status.idle": "2023-08-30T04:00:13.051530Z",
     "shell.execute_reply": "2023-08-30T04:00:13.051149Z"
    },
    "papermill": {
     "duration": 0.032678,
     "end_time": "2023-08-30T04:00:13.052785",
     "exception": false,
     "start_time": "2023-08-30T04:00:13.020107",
     "status": "completed"
    },
    "tags": []
   },
   "outputs": [
    {
     "data": {
      "text/plain": [
       "'Reference panel: GTEX_V8'"
      ]
     },
     "metadata": {},
     "output_type": "display_data"
    }
   ],
   "source": [
    "assert (\n",
    "    REFERENCE_PANEL is not None and len(REFERENCE_PANEL) > 0\n",
    "), \"A reference panel must be given\"\n",
    "\n",
    "display(f\"Reference panel: {REFERENCE_PANEL}\")"
   ]
  },
  {
   "cell_type": "code",
   "execution_count": 7,
   "id": "e024d130-c139-429a-9c6e-ccf149e297b0",
   "metadata": {
    "execution": {
     "iopub.execute_input": "2023-08-30T04:00:13.069975Z",
     "iopub.status.busy": "2023-08-30T04:00:13.069589Z",
     "iopub.status.idle": "2023-08-30T04:00:13.102276Z",
     "shell.execute_reply": "2023-08-30T04:00:13.101584Z"
    },
    "papermill": {
     "duration": 0.042617,
     "end_time": "2023-08-30T04:00:13.103785",
     "exception": false,
     "start_time": "2023-08-30T04:00:13.061168",
     "status": "completed"
    },
    "tags": []
   },
   "outputs": [
    {
     "data": {
      "text/plain": [
       "'eQTL model: MASHR) / mashr_'"
      ]
     },
     "metadata": {},
     "output_type": "display_data"
    }
   ],
   "source": [
    "assert (\n",
    "    EQTL_MODEL is not None and len(EQTL_MODEL) > 0\n",
    "), \"A prediction/eQTL model must be given\"\n",
    "\n",
    "EQTL_MODEL_FILES_PREFIX = conf.PHENOMEXCAN[\"PREDICTION_MODELS\"][f\"{EQTL_MODEL}_PREFIX\"]\n",
    "display(f\"eQTL model: {EQTL_MODEL}) / {EQTL_MODEL_FILES_PREFIX}\")"
   ]
  },
  {
   "cell_type": "code",
   "execution_count": 8,
   "id": "552a7f63-a18c-4d3e-bb6a-94f99b431291",
   "metadata": {
    "execution": {
     "iopub.execute_input": "2023-08-30T04:00:13.119778Z",
     "iopub.status.busy": "2023-08-30T04:00:13.119276Z",
     "iopub.status.idle": "2023-08-30T04:00:13.147511Z",
     "shell.execute_reply": "2023-08-30T04:00:13.146933Z"
    },
    "papermill": {
     "duration": 0.037261,
     "end_time": "2023-08-30T04:00:13.148566",
     "exception": false,
     "start_time": "2023-08-30T04:00:13.111305",
     "status": "completed"
    },
    "tags": []
   },
   "outputs": [
    {
     "data": {
      "text/plain": [
       "'S-MultiXcan condition number: 30'"
      ]
     },
     "metadata": {},
     "output_type": "display_data"
    }
   ],
   "source": [
    "assert (\n",
    "    SMULTIXCAN_CONDITION_NUMBER is not None and SMULTIXCAN_CONDITION_NUMBER > 0\n",
    "), \"The S-MultiXcan condition number (positive integer) must be given\"\n",
    "\n",
    "display(f\"S-MultiXcan condition number: {SMULTIXCAN_CONDITION_NUMBER}\")"
   ]
  },
  {
   "cell_type": "code",
   "execution_count": 9,
   "id": "f34a336f-548e-4afe-8955-90eaea4f42c6",
   "metadata": {
    "execution": {
     "iopub.execute_input": "2023-08-30T04:00:13.160703Z",
     "iopub.status.busy": "2023-08-30T04:00:13.160388Z",
     "iopub.status.idle": "2023-08-30T04:00:13.190524Z",
     "shell.execute_reply": "2023-08-30T04:00:13.189992Z"
    },
    "papermill": {
     "duration": 0.036948,
     "end_time": "2023-08-30T04:00:13.191539",
     "exception": false,
     "start_time": "2023-08-30T04:00:13.154591",
     "status": "completed"
    },
    "tags": []
   },
   "outputs": [
    {
     "data": {
      "text/plain": [
       "'Working on chromosome 20'"
      ]
     },
     "metadata": {},
     "output_type": "display_data"
    }
   ],
   "source": [
    "assert CHROMOSOME is not None and (\n",
    "    1 <= CHROMOSOME <= 22\n",
    "), \"You have to select one chromosome (format: number between 1 and 22)\"\n",
    "\n",
    "display(f\"Working on chromosome {CHROMOSOME}\")"
   ]
  },
  {
   "cell_type": "code",
   "execution_count": 10,
   "id": "ab8e96e8-06b5-4363-9dcd-dc4d78cc27f7",
   "metadata": {
    "execution": {
     "iopub.execute_input": "2023-08-30T04:00:13.202345Z",
     "iopub.status.busy": "2023-08-30T04:00:13.202157Z",
     "iopub.status.idle": "2023-08-30T04:00:13.226379Z",
     "shell.execute_reply": "2023-08-30T04:00:13.226003Z"
    },
    "papermill": {
     "duration": 0.030996,
     "end_time": "2023-08-30T04:00:13.227672",
     "exception": false,
     "start_time": "2023-08-30T04:00:13.196676",
     "status": "completed"
    },
    "tags": []
   },
   "outputs": [
    {
     "data": {
      "text/plain": [
       "'Compute correlation within distance True'"
      ]
     },
     "metadata": {},
     "output_type": "display_data"
    }
   ],
   "source": [
    "display(f\"Compute correlation within distance {COMPUTE_CORRELATIONS_WITHIN_DISTANCE}\")"
   ]
  },
  {
   "cell_type": "code",
   "execution_count": 11,
   "id": "b393b698-77e3-4ba2-8ac1-e14d51aa988f",
   "metadata": {
    "execution": {
     "iopub.execute_input": "2023-08-30T04:00:13.245273Z",
     "iopub.status.busy": "2023-08-30T04:00:13.244935Z",
     "iopub.status.idle": "2023-08-30T04:00:13.275318Z",
     "shell.execute_reply": "2023-08-30T04:00:13.274617Z"
    },
    "papermill": {
     "duration": 0.039757,
     "end_time": "2023-08-30T04:00:13.276371",
     "exception": false,
     "start_time": "2023-08-30T04:00:13.236614",
     "status": "completed"
    },
    "tags": []
   },
   "outputs": [
    {
     "data": {
      "text/plain": [
       "'Using output dir base: /opt/data/projects/chronotype/results/gls_phenoplier/gene_corrs/chronotype'"
      ]
     },
     "metadata": {},
     "output_type": "display_data"
    }
   ],
   "source": [
    "assert (\n",
    "    OUTPUT_DIR_BASE is not None and len(OUTPUT_DIR_BASE) > 0\n",
    "), \"Output directory path must be given\"\n",
    "\n",
    "OUTPUT_DIR_BASE = (Path(OUTPUT_DIR_BASE) / \"gene_corrs\" / COHORT_NAME).resolve()\n",
    "\n",
    "OUTPUT_DIR_BASE.mkdir(parents=True, exist_ok=True)\n",
    "\n",
    "display(f\"Using output dir base: {OUTPUT_DIR_BASE}\")"
   ]
  },
  {
   "cell_type": "markdown",
   "id": "d2ba085e",
   "metadata": {
    "papermill": {
     "duration": 0.005881,
     "end_time": "2023-08-30T04:00:13.287821",
     "exception": false,
     "start_time": "2023-08-30T04:00:13.281940",
     "status": "completed"
    },
    "tags": []
   },
   "source": [
    "# Load data"
   ]
  },
  {
   "cell_type": "markdown",
   "id": "7dcb8db7",
   "metadata": {
    "papermill": {
     "duration": 0.005064,
     "end_time": "2023-08-30T04:00:13.297973",
     "exception": false,
     "start_time": "2023-08-30T04:00:13.292909",
     "status": "completed"
    },
    "tags": []
   },
   "source": [
    "## GWAS variants"
   ]
  },
  {
   "cell_type": "code",
   "execution_count": 12,
   "id": "29434c4e-8cd3-4b9b-82e4-b5a251d9dd19",
   "metadata": {
    "execution": {
     "iopub.execute_input": "2023-08-30T04:00:13.309161Z",
     "iopub.status.busy": "2023-08-30T04:00:13.308852Z",
     "iopub.status.idle": "2023-08-30T04:00:17.963113Z",
     "shell.execute_reply": "2023-08-30T04:00:17.962551Z"
    },
    "papermill": {
     "duration": 4.661902,
     "end_time": "2023-08-30T04:00:17.965109",
     "exception": false,
     "start_time": "2023-08-30T04:00:13.303207",
     "status": "completed"
    },
    "tags": []
   },
   "outputs": [],
   "source": [
    "with open(OUTPUT_DIR_BASE / \"gwas_variant_ids.pkl\", \"rb\") as handle:\n",
    "    gwas_variants_ids_set = pickle.load(handle)"
   ]
  },
  {
   "cell_type": "code",
   "execution_count": 13,
   "id": "b9d9dec2-4a76-4bf9-bde2-e24c95acb8a0",
   "metadata": {
    "execution": {
     "iopub.execute_input": "2023-08-30T04:00:17.979202Z",
     "iopub.status.busy": "2023-08-30T04:00:17.978973Z",
     "iopub.status.idle": "2023-08-30T04:00:17.997080Z",
     "shell.execute_reply": "2023-08-30T04:00:17.996665Z"
    },
    "papermill": {
     "duration": 0.025872,
     "end_time": "2023-08-30T04:00:17.998047",
     "exception": false,
     "start_time": "2023-08-30T04:00:17.972175",
     "status": "completed"
    },
    "tags": []
   },
   "outputs": [
    {
     "data": {
      "text/plain": [
       "11737794"
      ]
     },
     "execution_count": 13,
     "metadata": {},
     "output_type": "execute_result"
    }
   ],
   "source": [
    "len(gwas_variants_ids_set)"
   ]
  },
  {
   "cell_type": "code",
   "execution_count": 14,
   "id": "4235b06a-6034-4ee4-a0a3-2ae35d122418",
   "metadata": {
    "execution": {
     "iopub.execute_input": "2023-08-30T04:00:18.010498Z",
     "iopub.status.busy": "2023-08-30T04:00:18.010369Z",
     "iopub.status.idle": "2023-08-30T04:00:19.463155Z",
     "shell.execute_reply": "2023-08-30T04:00:19.462341Z"
    },
    "papermill": {
     "duration": 1.46106,
     "end_time": "2023-08-30T04:00:19.465129",
     "exception": false,
     "start_time": "2023-08-30T04:00:18.004069",
     "status": "completed"
    },
    "tags": []
   },
   "outputs": [
    {
     "data": {
      "text/plain": [
       "['chr10_75312490_C_A_b38',\n",
       " 'chr13_19173681_G_A_b38',\n",
       " 'chr4_2257308_G_A_b38',\n",
       " 'chr6_140364294_C_T_b38',\n",
       " 'chr3_52204640_T_C_b38']"
      ]
     },
     "execution_count": 14,
     "metadata": {},
     "output_type": "execute_result"
    }
   ],
   "source": [
    "list(gwas_variants_ids_set)[:5]"
   ]
  },
  {
   "cell_type": "markdown",
   "id": "07866999-2305-41f9-a144-e69c9122c212",
   "metadata": {
    "papermill": {
     "duration": 0.011895,
     "end_time": "2023-08-30T04:00:19.486505",
     "exception": false,
     "start_time": "2023-08-30T04:00:19.474610",
     "status": "completed"
    },
    "tags": []
   },
   "source": [
    "## S-PrediXcan tissue models"
   ]
  },
  {
   "cell_type": "code",
   "execution_count": 15,
   "id": "780611d9-77c8-405f-90a4-f271f7b09397",
   "metadata": {
    "execution": {
     "iopub.execute_input": "2023-08-30T04:00:19.508301Z",
     "iopub.status.busy": "2023-08-30T04:00:19.507691Z",
     "iopub.status.idle": "2023-08-30T04:00:22.087974Z",
     "shell.execute_reply": "2023-08-30T04:00:22.087426Z"
    },
    "papermill": {
     "duration": 2.593847,
     "end_time": "2023-08-30T04:00:22.090009",
     "exception": false,
     "start_time": "2023-08-30T04:00:19.496162",
     "status": "completed"
    },
    "tags": []
   },
   "outputs": [],
   "source": [
    "spredixcan_genes_models = pd.read_pickle(OUTPUT_DIR_BASE / \"gene_tissues.pkl\")"
   ]
  },
  {
   "cell_type": "code",
   "execution_count": 16,
   "id": "726dd1f6-9557-4225-91fa-b3b879ea96e1",
   "metadata": {
    "execution": {
     "iopub.execute_input": "2023-08-30T04:00:22.113834Z",
     "iopub.status.busy": "2023-08-30T04:00:22.113579Z",
     "iopub.status.idle": "2023-08-30T04:00:22.129527Z",
     "shell.execute_reply": "2023-08-30T04:00:22.129007Z"
    },
    "papermill": {
     "duration": 0.02975,
     "end_time": "2023-08-30T04:00:22.130865",
     "exception": false,
     "start_time": "2023-08-30T04:00:22.101115",
     "status": "completed"
    },
    "tags": []
   },
   "outputs": [
    {
     "data": {
      "text/plain": [
       "(6445, 5)"
      ]
     },
     "execution_count": 16,
     "metadata": {},
     "output_type": "execute_result"
    }
   ],
   "source": [
    "spredixcan_genes_models.shape"
   ]
  },
  {
   "cell_type": "code",
   "execution_count": 17,
   "id": "944a1b48-222c-4eb0-b252-b9de2cbca215",
   "metadata": {
    "execution": {
     "iopub.execute_input": "2023-08-30T04:00:22.149430Z",
     "iopub.status.busy": "2023-08-30T04:00:22.149107Z",
     "iopub.status.idle": "2023-08-30T04:00:22.168869Z",
     "shell.execute_reply": "2023-08-30T04:00:22.168382Z"
    },
    "papermill": {
     "duration": 0.030699,
     "end_time": "2023-08-30T04:00:22.170271",
     "exception": false,
     "start_time": "2023-08-30T04:00:22.139572",
     "status": "completed"
    },
    "tags": []
   },
   "outputs": [
    {
     "data": {
      "text/html": [
       "<div>\n",
       "<style scoped>\n",
       "    .dataframe tbody tr th:only-of-type {\n",
       "        vertical-align: middle;\n",
       "    }\n",
       "\n",
       "    .dataframe tbody tr th {\n",
       "        vertical-align: top;\n",
       "    }\n",
       "\n",
       "    .dataframe thead th {\n",
       "        text-align: right;\n",
       "    }\n",
       "</style>\n",
       "<table border=\"1\" class=\"dataframe\">\n",
       "  <thead>\n",
       "    <tr style=\"text-align: right;\">\n",
       "      <th></th>\n",
       "      <th>gene_name</th>\n",
       "      <th>tissue</th>\n",
       "      <th>n_tissues</th>\n",
       "      <th>n_snps_used_sum</th>\n",
       "      <th>n_snps_in_model_sum</th>\n",
       "    </tr>\n",
       "    <tr>\n",
       "      <th>gene_id</th>\n",
       "      <th></th>\n",
       "      <th></th>\n",
       "      <th></th>\n",
       "      <th></th>\n",
       "      <th></th>\n",
       "    </tr>\n",
       "  </thead>\n",
       "  <tbody>\n",
       "    <tr>\n",
       "      <th>ENSG00000000419</th>\n",
       "      <td>DPM1</td>\n",
       "      <td>(Brain_Hypothalamus, Brain_Substantia_nigra)</td>\n",
       "      <td>2</td>\n",
       "      <td>2</td>\n",
       "      <td>2</td>\n",
       "    </tr>\n",
       "    <tr>\n",
       "      <th>ENSG00000000938</th>\n",
       "      <td>FGR</td>\n",
       "      <td>(Pituitary, Brain_Hippocampus, Artery_Tibial, ...</td>\n",
       "      <td>36</td>\n",
       "      <td>40</td>\n",
       "      <td>40</td>\n",
       "    </tr>\n",
       "    <tr>\n",
       "      <th>ENSG00000000971</th>\n",
       "      <td>CFH</td>\n",
       "      <td>(Pituitary, Artery_Coronary, Brain_Hippocampus...</td>\n",
       "      <td>34</td>\n",
       "      <td>44</td>\n",
       "      <td>44</td>\n",
       "    </tr>\n",
       "    <tr>\n",
       "      <th>ENSG00000001084</th>\n",
       "      <td>GCLC</td>\n",
       "      <td>(Pituitary, Artery_Coronary, Brain_Hippocampus...</td>\n",
       "      <td>32</td>\n",
       "      <td>46</td>\n",
       "      <td>46</td>\n",
       "    </tr>\n",
       "    <tr>\n",
       "      <th>ENSG00000001167</th>\n",
       "      <td>NFYA</td>\n",
       "      <td>(Artery_Coronary, Brain_Hippocampus, Vagina, H...</td>\n",
       "      <td>40</td>\n",
       "      <td>47</td>\n",
       "      <td>48</td>\n",
       "    </tr>\n",
       "  </tbody>\n",
       "</table>\n",
       "</div>"
      ],
      "text/plain": [
       "                gene_name                                             tissue  \\\n",
       "gene_id                                                                        \n",
       "ENSG00000000419      DPM1       (Brain_Hypothalamus, Brain_Substantia_nigra)   \n",
       "ENSG00000000938       FGR  (Pituitary, Brain_Hippocampus, Artery_Tibial, ...   \n",
       "ENSG00000000971       CFH  (Pituitary, Artery_Coronary, Brain_Hippocampus...   \n",
       "ENSG00000001084      GCLC  (Pituitary, Artery_Coronary, Brain_Hippocampus...   \n",
       "ENSG00000001167      NFYA  (Artery_Coronary, Brain_Hippocampus, Vagina, H...   \n",
       "\n",
       "                 n_tissues  n_snps_used_sum  n_snps_in_model_sum  \n",
       "gene_id                                                           \n",
       "ENSG00000000419          2                2                    2  \n",
       "ENSG00000000938         36               40                   40  \n",
       "ENSG00000000971         34               44                   44  \n",
       "ENSG00000001084         32               46                   46  \n",
       "ENSG00000001167         40               47                   48  "
      ]
     },
     "execution_count": 17,
     "metadata": {},
     "output_type": "execute_result"
    }
   ],
   "source": [
    "spredixcan_genes_models.head()"
   ]
  },
  {
   "cell_type": "code",
   "execution_count": 18,
   "id": "d1c11bb1-be0b-4f40-b360-633d6827109f",
   "metadata": {
    "execution": {
     "iopub.execute_input": "2023-08-30T04:00:22.189372Z",
     "iopub.status.busy": "2023-08-30T04:00:22.188898Z",
     "iopub.status.idle": "2023-08-30T04:00:22.215083Z",
     "shell.execute_reply": "2023-08-30T04:00:22.214401Z"
    },
    "papermill": {
     "duration": 0.037643,
     "end_time": "2023-08-30T04:00:22.216812",
     "exception": false,
     "start_time": "2023-08-30T04:00:22.179169",
     "status": "completed"
    },
    "tags": []
   },
   "outputs": [],
   "source": [
    "assert spredixcan_genes_models.index.is_unique"
   ]
  },
  {
   "cell_type": "markdown",
   "id": "a5b5092c-a13e-47c4-a92a-480fcc08f3ae",
   "metadata": {
    "papermill": {
     "duration": 0.008926,
     "end_time": "2023-08-30T04:00:22.234419",
     "exception": false,
     "start_time": "2023-08-30T04:00:22.225493",
     "status": "completed"
    },
    "tags": []
   },
   "source": [
    "## Gene info"
   ]
  },
  {
   "cell_type": "code",
   "execution_count": 19,
   "id": "7d6bb224-88e9-4358-ac10-43a41d92cdad",
   "metadata": {
    "execution": {
     "iopub.execute_input": "2023-08-30T04:00:22.253240Z",
     "iopub.status.busy": "2023-08-30T04:00:22.252704Z",
     "iopub.status.idle": "2023-08-30T04:00:22.293857Z",
     "shell.execute_reply": "2023-08-30T04:00:22.293126Z"
    },
    "papermill": {
     "duration": 0.052542,
     "end_time": "2023-08-30T04:00:22.295597",
     "exception": false,
     "start_time": "2023-08-30T04:00:22.243055",
     "status": "completed"
    },
    "tags": []
   },
   "outputs": [],
   "source": [
    "genes_info = pd.read_pickle(OUTPUT_DIR_BASE / \"genes_info.pkl\")"
   ]
  },
  {
   "cell_type": "code",
   "execution_count": 20,
   "id": "9e32abfa-546d-483e-8c18-d526e9e05903",
   "metadata": {
    "execution": {
     "iopub.execute_input": "2023-08-30T04:00:22.314381Z",
     "iopub.status.busy": "2023-08-30T04:00:22.314204Z",
     "iopub.status.idle": "2023-08-30T04:00:22.329459Z",
     "shell.execute_reply": "2023-08-30T04:00:22.328908Z"
    },
    "papermill": {
     "duration": 0.026287,
     "end_time": "2023-08-30T04:00:22.330794",
     "exception": false,
     "start_time": "2023-08-30T04:00:22.304507",
     "status": "completed"
    },
    "tags": []
   },
   "outputs": [
    {
     "data": {
      "text/plain": [
       "(6445, 7)"
      ]
     },
     "execution_count": 20,
     "metadata": {},
     "output_type": "execute_result"
    }
   ],
   "source": [
    "genes_info.shape"
   ]
  },
  {
   "cell_type": "code",
   "execution_count": 21,
   "id": "d16c3e92-85ec-468a-9a56-e25a9774a1cb",
   "metadata": {
    "execution": {
     "iopub.execute_input": "2023-08-30T04:00:22.348380Z",
     "iopub.status.busy": "2023-08-30T04:00:22.348143Z",
     "iopub.status.idle": "2023-08-30T04:00:22.367097Z",
     "shell.execute_reply": "2023-08-30T04:00:22.366525Z"
    },
    "papermill": {
     "duration": 0.02941,
     "end_time": "2023-08-30T04:00:22.368461",
     "exception": false,
     "start_time": "2023-08-30T04:00:22.339051",
     "status": "completed"
    },
    "tags": []
   },
   "outputs": [
    {
     "data": {
      "text/html": [
       "<div>\n",
       "<style scoped>\n",
       "    .dataframe tbody tr th:only-of-type {\n",
       "        vertical-align: middle;\n",
       "    }\n",
       "\n",
       "    .dataframe tbody tr th {\n",
       "        vertical-align: top;\n",
       "    }\n",
       "\n",
       "    .dataframe thead th {\n",
       "        text-align: right;\n",
       "    }\n",
       "</style>\n",
       "<table border=\"1\" class=\"dataframe\">\n",
       "  <thead>\n",
       "    <tr style=\"text-align: right;\">\n",
       "      <th></th>\n",
       "      <th>name</th>\n",
       "      <th>id</th>\n",
       "      <th>chr</th>\n",
       "      <th>band</th>\n",
       "      <th>start_position</th>\n",
       "      <th>end_position</th>\n",
       "      <th>gene_length</th>\n",
       "    </tr>\n",
       "  </thead>\n",
       "  <tbody>\n",
       "    <tr>\n",
       "      <th>0</th>\n",
       "      <td>DUT</td>\n",
       "      <td>ENSG00000128951</td>\n",
       "      <td>15</td>\n",
       "      <td>15q21.1</td>\n",
       "      <td>48331011</td>\n",
       "      <td>48343373</td>\n",
       "      <td>12362</td>\n",
       "    </tr>\n",
       "    <tr>\n",
       "      <th>1</th>\n",
       "      <td>NDUFA4</td>\n",
       "      <td>ENSG00000189043</td>\n",
       "      <td>7</td>\n",
       "      <td>7p21.3</td>\n",
       "      <td>10931943</td>\n",
       "      <td>10940153</td>\n",
       "      <td>8210</td>\n",
       "    </tr>\n",
       "    <tr>\n",
       "      <th>2</th>\n",
       "      <td>EPHB3</td>\n",
       "      <td>ENSG00000182580</td>\n",
       "      <td>3</td>\n",
       "      <td>3q27.1</td>\n",
       "      <td>184561785</td>\n",
       "      <td>184582408</td>\n",
       "      <td>20623</td>\n",
       "    </tr>\n",
       "    <tr>\n",
       "      <th>3</th>\n",
       "      <td>MYLK</td>\n",
       "      <td>ENSG00000065534</td>\n",
       "      <td>3</td>\n",
       "      <td>3q21.1</td>\n",
       "      <td>123610049</td>\n",
       "      <td>123884331</td>\n",
       "      <td>274282</td>\n",
       "    </tr>\n",
       "    <tr>\n",
       "      <th>4</th>\n",
       "      <td>SMPD4</td>\n",
       "      <td>ENSG00000136699</td>\n",
       "      <td>2</td>\n",
       "      <td>2q21.1</td>\n",
       "      <td>130151392</td>\n",
       "      <td>130182750</td>\n",
       "      <td>31358</td>\n",
       "    </tr>\n",
       "  </tbody>\n",
       "</table>\n",
       "</div>"
      ],
      "text/plain": [
       "     name               id  chr     band  start_position  end_position  \\\n",
       "0     DUT  ENSG00000128951   15  15q21.1        48331011      48343373   \n",
       "1  NDUFA4  ENSG00000189043    7   7p21.3        10931943      10940153   \n",
       "2   EPHB3  ENSG00000182580    3   3q27.1       184561785     184582408   \n",
       "3    MYLK  ENSG00000065534    3   3q21.1       123610049     123884331   \n",
       "4   SMPD4  ENSG00000136699    2   2q21.1       130151392     130182750   \n",
       "\n",
       "   gene_length  \n",
       "0        12362  \n",
       "1         8210  \n",
       "2        20623  \n",
       "3       274282  \n",
       "4        31358  "
      ]
     },
     "execution_count": 21,
     "metadata": {},
     "output_type": "execute_result"
    }
   ],
   "source": [
    "genes_info.head()"
   ]
  },
  {
   "cell_type": "markdown",
   "id": "d3843e06",
   "metadata": {
    "papermill": {
     "duration": 0.008364,
     "end_time": "2023-08-30T04:00:22.385606",
     "exception": false,
     "start_time": "2023-08-30T04:00:22.377242",
     "status": "completed"
    },
    "tags": []
   },
   "source": [
    "# Compute correlations"
   ]
  },
  {
   "cell_type": "code",
   "execution_count": 22,
   "id": "cb859c15-d1f3-4006-a74c-2b83c0db9611",
   "metadata": {
    "execution": {
     "iopub.execute_input": "2023-08-30T04:00:22.403607Z",
     "iopub.status.busy": "2023-08-30T04:00:22.403378Z",
     "iopub.status.idle": "2023-08-30T04:00:22.418855Z",
     "shell.execute_reply": "2023-08-30T04:00:22.418319Z"
    },
    "papermill": {
     "duration": 0.026135,
     "end_time": "2023-08-30T04:00:22.420166",
     "exception": false,
     "start_time": "2023-08-30T04:00:22.394031",
     "status": "completed"
    },
    "tags": []
   },
   "outputs": [
    {
     "data": {
      "text/plain": [
       "PosixPath('/opt/data/projects/chronotype/results/gls_phenoplier/gene_corrs/chronotype/by_chr/gene_corrs-chr20.pkl')"
      ]
     },
     "metadata": {},
     "output_type": "display_data"
    }
   ],
   "source": [
    "output_dir = OUTPUT_DIR_BASE / \"by_chr\"\n",
    "output_dir.mkdir(exist_ok=True, parents=True)\n",
    "output_file = output_dir / f\"gene_corrs-chr{CHROMOSOME}.pkl\"\n",
    "display(output_file)"
   ]
  },
  {
   "cell_type": "code",
   "execution_count": 23,
   "id": "aa674fe4-6794-4eed-98fa-32b39d1d4ace",
   "metadata": {
    "execution": {
     "iopub.execute_input": "2023-08-30T04:00:22.439128Z",
     "iopub.status.busy": "2023-08-30T04:00:22.438619Z",
     "iopub.status.idle": "2023-08-30T04:00:22.467537Z",
     "shell.execute_reply": "2023-08-30T04:00:22.466904Z"
    },
    "papermill": {
     "duration": 0.040097,
     "end_time": "2023-08-30T04:00:22.469154",
     "exception": false,
     "start_time": "2023-08-30T04:00:22.429057",
     "status": "completed"
    },
    "tags": []
   },
   "outputs": [],
   "source": [
    "warnings.filterwarnings(\"error\")"
   ]
  },
  {
   "cell_type": "code",
   "execution_count": 24,
   "id": "44d5450b-3baf-43f1-9e2e-4b06f1a785f8",
   "metadata": {
    "execution": {
     "iopub.execute_input": "2023-08-30T04:00:22.485656Z",
     "iopub.status.busy": "2023-08-30T04:00:22.485416Z",
     "iopub.status.idle": "2023-08-30T04:00:22.514350Z",
     "shell.execute_reply": "2023-08-30T04:00:22.513719Z"
    },
    "papermill": {
     "duration": 0.037975,
     "end_time": "2023-08-30T04:00:22.515615",
     "exception": false,
     "start_time": "2023-08-30T04:00:22.477640",
     "status": "completed"
    },
    "tags": []
   },
   "outputs": [],
   "source": [
    "# standard checks\n",
    "all_chrs = genes_info[\"chr\"].dropna().unique()\n",
    "assert all_chrs.shape[0] == 22\n",
    "\n",
    "# select chromosome given by the user\n",
    "assert CHROMOSOME in all_chrs"
   ]
  },
  {
   "cell_type": "code",
   "execution_count": 25,
   "id": "2d7c043c-92a7-4d35-991b-fa69ac1e0268",
   "metadata": {
    "execution": {
     "iopub.execute_input": "2023-08-30T04:00:22.530068Z",
     "iopub.status.busy": "2023-08-30T04:00:22.529614Z",
     "iopub.status.idle": "2023-08-30T04:00:22.553142Z",
     "shell.execute_reply": "2023-08-30T04:00:22.552730Z"
    },
    "papermill": {
     "duration": 0.031841,
     "end_time": "2023-08-30T04:00:22.554098",
     "exception": false,
     "start_time": "2023-08-30T04:00:22.522257",
     "status": "completed"
    },
    "tags": []
   },
   "outputs": [
    {
     "name": "stdout",
     "output_type": "stream",
     "text": [
      "Number of genes in chromosome: 187\n"
     ]
    }
   ],
   "source": [
    "# run only on the chromosome specified\n",
    "all_chrs = [CHROMOSOME]\n",
    "genes_chr = genes_info[genes_info[\"chr\"] == CHROMOSOME]\n",
    "\n",
    "# For testing purposes\n",
    "# genes_chr = genes_chr.sample(n=20)\n",
    "\n",
    "print(f\"Number of genes in chromosome: {genes_chr.shape[0]}\", flush=True)"
   ]
  },
  {
   "cell_type": "code",
   "execution_count": 26,
   "id": "916015d8-2979-46d3-a9b9-1cf5a0932c6a",
   "metadata": {
    "execution": {
     "iopub.execute_input": "2023-08-30T04:00:22.567697Z",
     "iopub.status.busy": "2023-08-30T04:00:22.567506Z",
     "iopub.status.idle": "2023-08-30T04:00:22.586484Z",
     "shell.execute_reply": "2023-08-30T04:00:22.585954Z"
    },
    "papermill": {
     "duration": 0.026871,
     "end_time": "2023-08-30T04:00:22.587647",
     "exception": false,
     "start_time": "2023-08-30T04:00:22.560776",
     "status": "completed"
    },
    "tags": []
   },
   "outputs": [],
   "source": [
    "# sort genes by starting position to make visualizations better later\n",
    "genes_chr = genes_chr.sort_values(\"start_position\")"
   ]
  },
  {
   "cell_type": "code",
   "execution_count": 27,
   "id": "a38aa74a-8ad3-47f6-8ef9-56be0e011774",
   "metadata": {
    "execution": {
     "iopub.execute_input": "2023-08-30T04:00:22.601703Z",
     "iopub.status.busy": "2023-08-30T04:00:22.601316Z",
     "iopub.status.idle": "2023-08-30T04:00:22.623672Z",
     "shell.execute_reply": "2023-08-30T04:00:22.623158Z"
    },
    "papermill": {
     "duration": 0.030987,
     "end_time": "2023-08-30T04:00:22.624887",
     "exception": false,
     "start_time": "2023-08-30T04:00:22.593900",
     "status": "completed"
    },
    "tags": []
   },
   "outputs": [],
   "source": [
    "gene_chr_objs = [Gene(ensembl_id=gene_id) for gene_id in genes_chr[\"id\"]]"
   ]
  },
  {
   "cell_type": "code",
   "execution_count": 28,
   "id": "570f974f-13c3-42b6-ad3a-ce99ca885c1a",
   "metadata": {
    "execution": {
     "iopub.execute_input": "2023-08-30T04:00:22.638431Z",
     "iopub.status.busy": "2023-08-30T04:00:22.638074Z",
     "iopub.status.idle": "2023-08-30T04:00:22.661048Z",
     "shell.execute_reply": "2023-08-30T04:00:22.660570Z"
    },
    "papermill": {
     "duration": 0.030814,
     "end_time": "2023-08-30T04:00:22.662045",
     "exception": false,
     "start_time": "2023-08-30T04:00:22.631231",
     "status": "completed"
    },
    "tags": []
   },
   "outputs": [
    {
     "name": "stdout",
     "output_type": "stream",
     "text": [
      "Number of gene combinations: 17578\n"
     ]
    }
   ],
   "source": [
    "n = len(gene_chr_objs)\n",
    "# diagonal elements + upper triangular matrix\n",
    "n_comb = n + int(n * (n - 1) / 2.0)\n",
    "print(f\"Number of gene combinations: {n_comb}\", flush=True)"
   ]
  },
  {
   "cell_type": "code",
   "execution_count": 29,
   "id": "cdbb90a1",
   "metadata": {
    "execution": {
     "iopub.execute_input": "2023-08-30T04:00:22.686780Z",
     "iopub.status.busy": "2023-08-30T04:00:22.686481Z",
     "iopub.status.idle": "2023-08-30T04:04:01.717734Z",
     "shell.execute_reply": "2023-08-30T04:04:01.717267Z"
    },
    "papermill": {
     "duration": 219.046415,
     "end_time": "2023-08-30T04:04:01.718822",
     "exception": false,
     "start_time": "2023-08-30T04:00:22.672407",
     "status": "completed"
    },
    "tags": []
   },
   "outputs": [
    {
     "name": "stderr",
     "output_type": "stream",
     "text": [
      "ENSG00000125510 / ENSG00000125510: 100%|██████████████████████| 17578/17578 [03:38<00:00, 80.27it/s]\n"
     ]
    },
    {
     "data": {
      "text/plain": [
       "PosixPath('/opt/data/projects/chronotype/results/gls_phenoplier/gene_corrs/chronotype/by_chr/gene_corrs-chr20.pkl')"
      ]
     },
     "metadata": {},
     "output_type": "display_data"
    }
   ],
   "source": [
    "gene_corrs = []\n",
    "gene_corrs_data = np.full(\n",
    "    (n, n),\n",
    "    np.nan,\n",
    "    dtype=np.float64,\n",
    ")\n",
    "\n",
    "i = 0\n",
    "with tqdm(ncols=100, total=n_comb) as pbar:\n",
    "    for gene1_idx in range(0, len(gene_chr_objs)):\n",
    "        gene1_obj = gene_chr_objs[gene1_idx]\n",
    "        gene1_tissues = spredixcan_genes_models.loc[gene1_obj.ensembl_id, \"tissue\"]\n",
    "\n",
    "        for gene2_idx in range(gene1_idx, len(gene_chr_objs)):\n",
    "            gene2_obj = gene_chr_objs[gene2_idx]\n",
    "            gene2_tissues = spredixcan_genes_models.loc[gene2_obj.ensembl_id, \"tissue\"]\n",
    "\n",
    "            pbar.set_description(f\"{gene1_obj.ensembl_id} / {gene2_obj.ensembl_id}\")\n",
    "\n",
    "            try:\n",
    "                r = gene1_obj.get_ssm_correlation(\n",
    "                    other_gene=gene2_obj,\n",
    "                    tissues=gene1_tissues,\n",
    "                    other_tissues=gene2_tissues,\n",
    "                    snps_subset=gwas_variants_ids_set,\n",
    "                    condition_number=SMULTIXCAN_CONDITION_NUMBER,\n",
    "                    reference_panel=REFERENCE_PANEL,\n",
    "                    model_type=EQTL_MODEL,\n",
    "                    use_within_distance=COMPUTE_CORRELATIONS_WITHIN_DISTANCE,\n",
    "                )\n",
    "\n",
    "                if r is None:\n",
    "                    # if r is None, it's very likely because:\n",
    "                    #  * one of the genes has no prediction models\n",
    "                    #  * all the SNPs predictors for the gene are not present in the reference\n",
    "                    #    panel\n",
    "\n",
    "                    r = 0.0\n",
    "\n",
    "                gene_corrs.append(r)\n",
    "\n",
    "                gene_corrs_data[gene1_idx, gene2_idx] = r\n",
    "                gene_corrs_data[gene2_idx, gene1_idx] = r\n",
    "            except Warning as e:\n",
    "                if not DEBUG_MODE:\n",
    "                    raise e\n",
    "\n",
    "                print(\n",
    "                    f\"RuntimeWarning for genes {gene1_obj.ensembl_id} and {gene2_obj.ensembl_id}\",\n",
    "                    flush=True,\n",
    "                )\n",
    "                print(traceback.format_exc(), flush=True)\n",
    "\n",
    "                gene_corrs.append(np.nan)\n",
    "            except Exception as e:\n",
    "                if not DEBUG_MODE:\n",
    "                    raise e\n",
    "\n",
    "                print(\n",
    "                    f\"Exception for genes {gene1_obj.ensembl_id} and {gene2_obj.ensembl_id}\",\n",
    "                    flush=True,\n",
    "                )\n",
    "                print(traceback.format_exc(), flush=True)\n",
    "\n",
    "                gene_corrs.append(np.nan)\n",
    "\n",
    "            pbar.update(1)\n",
    "\n",
    "# create a pandas series\n",
    "gene_corrs_flat = pd.Series(gene_corrs)\n",
    "\n",
    "# save\n",
    "# FIXME: consider saving only the condenced matrix here. See here for\n",
    "# more details: https://github.com/greenelab/phenoplier/pull/38#discussion_r634600813\n",
    "# gene_corrs_data = squareform(np.array(gene_corrs, dtype=np.float64))\n",
    "# np.fill_diagonal(gene_corrs_data, 1.0)\n",
    "\n",
    "gene_chr_ids = [g.ensembl_id for g in gene_chr_objs]\n",
    "gene_corrs_df = pd.DataFrame(\n",
    "    data=gene_corrs_data,\n",
    "    index=gene_chr_ids,\n",
    "    columns=gene_chr_ids,\n",
    ")\n",
    "\n",
    "output_dir.mkdir(exist_ok=True, parents=True)\n",
    "display(output_file)\n",
    "\n",
    "gene_corrs_df.to_pickle(output_file)"
   ]
  },
  {
   "cell_type": "markdown",
   "id": "faa67b51-5373-470f-aa72-2ded53fa6dfe",
   "metadata": {
    "papermill": {
     "duration": 0.621748,
     "end_time": "2023-08-30T04:04:03.024892",
     "exception": false,
     "start_time": "2023-08-30T04:04:02.403144",
     "status": "completed"
    },
    "tags": []
   },
   "source": [
    "# Testing"
   ]
  },
  {
   "cell_type": "code",
   "execution_count": 30,
   "id": "14f7d046-4b55-4896-a56b-990127bcc388",
   "metadata": {
    "execution": {
     "iopub.execute_input": "2023-08-30T04:04:04.179043Z",
     "iopub.status.busy": "2023-08-30T04:04:04.178541Z",
     "iopub.status.idle": "2023-08-30T04:04:04.202269Z",
     "shell.execute_reply": "2023-08-30T04:04:04.201531Z"
    },
    "papermill": {
     "duration": 0.581064,
     "end_time": "2023-08-30T04:04:04.203452",
     "exception": false,
     "start_time": "2023-08-30T04:04:03.622388",
     "status": "completed"
    },
    "tags": []
   },
   "outputs": [
    {
     "data": {
      "text/plain": [
       "(187, 187)"
      ]
     },
     "execution_count": 30,
     "metadata": {},
     "output_type": "execute_result"
    }
   ],
   "source": [
    "gene_corrs_df.shape"
   ]
  },
  {
   "cell_type": "code",
   "execution_count": 31,
   "id": "c7d15414-3297-4537-a7c6-7588c0baeb75",
   "metadata": {
    "execution": {
     "iopub.execute_input": "2023-08-30T04:04:05.436386Z",
     "iopub.status.busy": "2023-08-30T04:04:05.435860Z",
     "iopub.status.idle": "2023-08-30T04:04:05.474511Z",
     "shell.execute_reply": "2023-08-30T04:04:05.474019Z"
    },
    "papermill": {
     "duration": 0.658713,
     "end_time": "2023-08-30T04:04:05.475425",
     "exception": false,
     "start_time": "2023-08-30T04:04:04.816712",
     "status": "completed"
    },
    "tags": []
   },
   "outputs": [
    {
     "data": {
      "text/html": [
       "<div>\n",
       "<style scoped>\n",
       "    .dataframe tbody tr th:only-of-type {\n",
       "        vertical-align: middle;\n",
       "    }\n",
       "\n",
       "    .dataframe tbody tr th {\n",
       "        vertical-align: top;\n",
       "    }\n",
       "\n",
       "    .dataframe thead th {\n",
       "        text-align: right;\n",
       "    }\n",
       "</style>\n",
       "<table border=\"1\" class=\"dataframe\">\n",
       "  <thead>\n",
       "    <tr style=\"text-align: right;\">\n",
       "      <th></th>\n",
       "      <th>ENSG00000101255</th>\n",
       "      <th>ENSG00000125826</th>\n",
       "      <th>ENSG00000101266</th>\n",
       "      <th>ENSG00000101280</th>\n",
       "      <th>ENSG00000125818</th>\n",
       "      <th>ENSG00000101298</th>\n",
       "      <th>ENSG00000088832</th>\n",
       "      <th>ENSG00000101307</th>\n",
       "      <th>ENSG00000089012</th>\n",
       "      <th>ENSG00000198053</th>\n",
       "      <th>...</th>\n",
       "      <th>ENSG00000092758</th>\n",
       "      <th>ENSG00000101191</th>\n",
       "      <th>ENSG00000101199</th>\n",
       "      <th>ENSG00000243509</th>\n",
       "      <th>ENSG00000203896</th>\n",
       "      <th>ENSG00000101152</th>\n",
       "      <th>ENSG00000198276</th>\n",
       "      <th>ENSG00000101161</th>\n",
       "      <th>ENSG00000171700</th>\n",
       "      <th>ENSG00000125510</th>\n",
       "    </tr>\n",
       "  </thead>\n",
       "  <tbody>\n",
       "    <tr>\n",
       "      <th>ENSG00000101255</th>\n",
       "      <td>1.000000</td>\n",
       "      <td>0.060890</td>\n",
       "      <td>0.017767</td>\n",
       "      <td>0.006848</td>\n",
       "      <td>0.001665</td>\n",
       "      <td>0.008264</td>\n",
       "      <td>0.004312</td>\n",
       "      <td>0.001363</td>\n",
       "      <td>0.004759</td>\n",
       "      <td>0.006856</td>\n",
       "      <td>...</td>\n",
       "      <td>0.0</td>\n",
       "      <td>0.0</td>\n",
       "      <td>0.0</td>\n",
       "      <td>0.0</td>\n",
       "      <td>0.0</td>\n",
       "      <td>0.0</td>\n",
       "      <td>0.0</td>\n",
       "      <td>0.0</td>\n",
       "      <td>0.0</td>\n",
       "      <td>0.0</td>\n",
       "    </tr>\n",
       "    <tr>\n",
       "      <th>ENSG00000125826</th>\n",
       "      <td>0.060890</td>\n",
       "      <td>1.000000</td>\n",
       "      <td>0.059804</td>\n",
       "      <td>0.009671</td>\n",
       "      <td>0.001098</td>\n",
       "      <td>0.008286</td>\n",
       "      <td>0.008844</td>\n",
       "      <td>0.005670</td>\n",
       "      <td>0.005255</td>\n",
       "      <td>0.007537</td>\n",
       "      <td>...</td>\n",
       "      <td>0.0</td>\n",
       "      <td>0.0</td>\n",
       "      <td>0.0</td>\n",
       "      <td>0.0</td>\n",
       "      <td>0.0</td>\n",
       "      <td>0.0</td>\n",
       "      <td>0.0</td>\n",
       "      <td>0.0</td>\n",
       "      <td>0.0</td>\n",
       "      <td>0.0</td>\n",
       "    </tr>\n",
       "    <tr>\n",
       "      <th>ENSG00000101266</th>\n",
       "      <td>0.017767</td>\n",
       "      <td>0.059804</td>\n",
       "      <td>1.000000</td>\n",
       "      <td>0.013558</td>\n",
       "      <td>0.007299</td>\n",
       "      <td>0.008606</td>\n",
       "      <td>0.004531</td>\n",
       "      <td>0.003558</td>\n",
       "      <td>0.006578</td>\n",
       "      <td>0.009198</td>\n",
       "      <td>...</td>\n",
       "      <td>0.0</td>\n",
       "      <td>0.0</td>\n",
       "      <td>0.0</td>\n",
       "      <td>0.0</td>\n",
       "      <td>0.0</td>\n",
       "      <td>0.0</td>\n",
       "      <td>0.0</td>\n",
       "      <td>0.0</td>\n",
       "      <td>0.0</td>\n",
       "      <td>0.0</td>\n",
       "    </tr>\n",
       "    <tr>\n",
       "      <th>ENSG00000101280</th>\n",
       "      <td>0.006848</td>\n",
       "      <td>0.009671</td>\n",
       "      <td>0.013558</td>\n",
       "      <td>1.000000</td>\n",
       "      <td>0.002424</td>\n",
       "      <td>0.013497</td>\n",
       "      <td>0.010529</td>\n",
       "      <td>0.006470</td>\n",
       "      <td>0.007813</td>\n",
       "      <td>0.009474</td>\n",
       "      <td>...</td>\n",
       "      <td>0.0</td>\n",
       "      <td>0.0</td>\n",
       "      <td>0.0</td>\n",
       "      <td>0.0</td>\n",
       "      <td>0.0</td>\n",
       "      <td>0.0</td>\n",
       "      <td>0.0</td>\n",
       "      <td>0.0</td>\n",
       "      <td>0.0</td>\n",
       "      <td>0.0</td>\n",
       "    </tr>\n",
       "    <tr>\n",
       "      <th>ENSG00000125818</th>\n",
       "      <td>0.001665</td>\n",
       "      <td>0.001098</td>\n",
       "      <td>0.007299</td>\n",
       "      <td>0.002424</td>\n",
       "      <td>1.000000</td>\n",
       "      <td>0.009390</td>\n",
       "      <td>0.014527</td>\n",
       "      <td>0.000604</td>\n",
       "      <td>0.005499</td>\n",
       "      <td>0.003763</td>\n",
       "      <td>...</td>\n",
       "      <td>0.0</td>\n",
       "      <td>0.0</td>\n",
       "      <td>0.0</td>\n",
       "      <td>0.0</td>\n",
       "      <td>0.0</td>\n",
       "      <td>0.0</td>\n",
       "      <td>0.0</td>\n",
       "      <td>0.0</td>\n",
       "      <td>0.0</td>\n",
       "      <td>0.0</td>\n",
       "    </tr>\n",
       "  </tbody>\n",
       "</table>\n",
       "<p>5 rows × 187 columns</p>\n",
       "</div>"
      ],
      "text/plain": [
       "                 ENSG00000101255  ENSG00000125826  ENSG00000101266  \\\n",
       "ENSG00000101255         1.000000         0.060890         0.017767   \n",
       "ENSG00000125826         0.060890         1.000000         0.059804   \n",
       "ENSG00000101266         0.017767         0.059804         1.000000   \n",
       "ENSG00000101280         0.006848         0.009671         0.013558   \n",
       "ENSG00000125818         0.001665         0.001098         0.007299   \n",
       "\n",
       "                 ENSG00000101280  ENSG00000125818  ENSG00000101298  \\\n",
       "ENSG00000101255         0.006848         0.001665         0.008264   \n",
       "ENSG00000125826         0.009671         0.001098         0.008286   \n",
       "ENSG00000101266         0.013558         0.007299         0.008606   \n",
       "ENSG00000101280         1.000000         0.002424         0.013497   \n",
       "ENSG00000125818         0.002424         1.000000         0.009390   \n",
       "\n",
       "                 ENSG00000088832  ENSG00000101307  ENSG00000089012  \\\n",
       "ENSG00000101255         0.004312         0.001363         0.004759   \n",
       "ENSG00000125826         0.008844         0.005670         0.005255   \n",
       "ENSG00000101266         0.004531         0.003558         0.006578   \n",
       "ENSG00000101280         0.010529         0.006470         0.007813   \n",
       "ENSG00000125818         0.014527         0.000604         0.005499   \n",
       "\n",
       "                 ENSG00000198053  ...  ENSG00000092758  ENSG00000101191  \\\n",
       "ENSG00000101255         0.006856  ...              0.0              0.0   \n",
       "ENSG00000125826         0.007537  ...              0.0              0.0   \n",
       "ENSG00000101266         0.009198  ...              0.0              0.0   \n",
       "ENSG00000101280         0.009474  ...              0.0              0.0   \n",
       "ENSG00000125818         0.003763  ...              0.0              0.0   \n",
       "\n",
       "                 ENSG00000101199  ENSG00000243509  ENSG00000203896  \\\n",
       "ENSG00000101255              0.0              0.0              0.0   \n",
       "ENSG00000125826              0.0              0.0              0.0   \n",
       "ENSG00000101266              0.0              0.0              0.0   \n",
       "ENSG00000101280              0.0              0.0              0.0   \n",
       "ENSG00000125818              0.0              0.0              0.0   \n",
       "\n",
       "                 ENSG00000101152  ENSG00000198276  ENSG00000101161  \\\n",
       "ENSG00000101255              0.0              0.0              0.0   \n",
       "ENSG00000125826              0.0              0.0              0.0   \n",
       "ENSG00000101266              0.0              0.0              0.0   \n",
       "ENSG00000101280              0.0              0.0              0.0   \n",
       "ENSG00000125818              0.0              0.0              0.0   \n",
       "\n",
       "                 ENSG00000171700  ENSG00000125510  \n",
       "ENSG00000101255              0.0              0.0  \n",
       "ENSG00000125826              0.0              0.0  \n",
       "ENSG00000101266              0.0              0.0  \n",
       "ENSG00000101280              0.0              0.0  \n",
       "ENSG00000125818              0.0              0.0  \n",
       "\n",
       "[5 rows x 187 columns]"
      ]
     },
     "execution_count": 31,
     "metadata": {},
     "output_type": "execute_result"
    }
   ],
   "source": [
    "gene_corrs_df.head()"
   ]
  },
  {
   "cell_type": "markdown",
   "id": "dad6603f-01c6-41fb-a6f6-241051207dd8",
   "metadata": {
    "papermill": {
     "duration": 0.664177,
     "end_time": "2023-08-30T04:04:06.738561",
     "exception": false,
     "start_time": "2023-08-30T04:04:06.074384",
     "status": "completed"
    },
    "tags": []
   },
   "source": [
    "## Standard checks and stats"
   ]
  },
  {
   "cell_type": "code",
   "execution_count": 32,
   "id": "286686af-1b7b-4440-8453-6bdcbd8de19c",
   "metadata": {
    "execution": {
     "iopub.execute_input": "2023-08-30T04:04:07.927829Z",
     "iopub.status.busy": "2023-08-30T04:04:07.927147Z",
     "iopub.status.idle": "2023-08-30T04:04:07.954078Z",
     "shell.execute_reply": "2023-08-30T04:04:07.953333Z"
    },
    "papermill": {
     "duration": 0.635037,
     "end_time": "2023-08-30T04:04:07.955264",
     "exception": false,
     "start_time": "2023-08-30T04:04:07.320227",
     "status": "completed"
    },
    "tags": []
   },
   "outputs": [],
   "source": [
    "assert not gene_corrs_df.isna().any(axis=None)"
   ]
  },
  {
   "cell_type": "code",
   "execution_count": 33,
   "id": "00583efc-7068-4270-ad1e-4a418e91db96",
   "metadata": {
    "execution": {
     "iopub.execute_input": "2023-08-30T04:04:09.115846Z",
     "iopub.status.busy": "2023-08-30T04:04:09.115456Z",
     "iopub.status.idle": "2023-08-30T04:04:09.136075Z",
     "shell.execute_reply": "2023-08-30T04:04:09.135676Z"
    },
    "papermill": {
     "duration": 0.614116,
     "end_time": "2023-08-30T04:04:09.137041",
     "exception": false,
     "start_time": "2023-08-30T04:04:08.522925",
     "status": "completed"
    },
    "tags": []
   },
   "outputs": [
    {
     "data": {
      "text/plain": [
       "0.0"
      ]
     },
     "metadata": {},
     "output_type": "display_data"
    }
   ],
   "source": [
    "_min_val = gene_corrs_df.min().min()\n",
    "display(_min_val)\n",
    "assert _min_val >= -0.05"
   ]
  },
  {
   "cell_type": "code",
   "execution_count": 34,
   "id": "d04fb2cf-1050-475b-b855-f5f7cc04092b",
   "metadata": {
    "execution": {
     "iopub.execute_input": "2023-08-30T04:04:10.273368Z",
     "iopub.status.busy": "2023-08-30T04:04:10.272942Z",
     "iopub.status.idle": "2023-08-30T04:04:10.295735Z",
     "shell.execute_reply": "2023-08-30T04:04:10.295186Z"
    },
    "papermill": {
     "duration": 0.569979,
     "end_time": "2023-08-30T04:04:10.296657",
     "exception": false,
     "start_time": "2023-08-30T04:04:09.726678",
     "status": "completed"
    },
    "tags": []
   },
   "outputs": [
    {
     "data": {
      "text/plain": [
       "1.0000000000000036"
      ]
     },
     "metadata": {},
     "output_type": "display_data"
    }
   ],
   "source": [
    "_max_val = gene_corrs_df.max().max()  # this captures the diagonal\n",
    "display(_max_val)\n",
    "assert _max_val <= 1.05"
   ]
  },
  {
   "cell_type": "code",
   "execution_count": 35,
   "id": "fe283586-c348-40e0-8841-f6d97bfb021c",
   "metadata": {
    "execution": {
     "iopub.execute_input": "2023-08-30T04:04:11.400786Z",
     "iopub.status.busy": "2023-08-30T04:04:11.400189Z",
     "iopub.status.idle": "2023-08-30T04:04:11.428854Z",
     "shell.execute_reply": "2023-08-30T04:04:11.428287Z"
    },
    "papermill": {
     "duration": 0.585149,
     "end_time": "2023-08-30T04:04:11.429810",
     "exception": false,
     "start_time": "2023-08-30T04:04:10.844661",
     "status": "completed"
    },
    "tags": []
   },
   "outputs": [
    {
     "data": {
      "text/plain": [
       "count    17578.000000\n",
       "mean         0.015845\n",
       "std          0.109463\n",
       "min          0.000000\n",
       "25%          0.000000\n",
       "50%          0.000000\n",
       "75%          0.000000\n",
       "max          1.000000\n",
       "dtype: float64"
      ]
     },
     "execution_count": 35,
     "metadata": {},
     "output_type": "execute_result"
    }
   ],
   "source": [
    "gene_corrs_flat.describe()"
   ]
  },
  {
   "cell_type": "code",
   "execution_count": 36,
   "id": "b3815678-0f93-4b35-897b-a9d047a2aa78",
   "metadata": {
    "execution": {
     "iopub.execute_input": "2023-08-30T04:04:12.564692Z",
     "iopub.status.busy": "2023-08-30T04:04:12.564326Z",
     "iopub.status.idle": "2023-08-30T04:04:12.588925Z",
     "shell.execute_reply": "2023-08-30T04:04:12.588413Z"
    },
    "papermill": {
     "duration": 0.596167,
     "end_time": "2023-08-30T04:04:12.589872",
     "exception": false,
     "start_time": "2023-08-30T04:04:11.993705",
     "status": "completed"
    },
    "tags": []
   },
   "outputs": [
    {
     "data": {
      "text/plain": [
       "0.00    0.000000\n",
       "0.05    0.000000\n",
       "0.10    0.000000\n",
       "0.15    0.000000\n",
       "0.20    0.000000\n",
       "0.25    0.000000\n",
       "0.30    0.000000\n",
       "0.35    0.000000\n",
       "0.40    0.000000\n",
       "0.45    0.000000\n",
       "0.50    0.000000\n",
       "0.55    0.000000\n",
       "0.60    0.000000\n",
       "0.65    0.000000\n",
       "0.70    0.000000\n",
       "0.75    0.000000\n",
       "0.80    0.000000\n",
       "0.85    0.003677\n",
       "0.90    0.007151\n",
       "0.95    0.012433\n",
       "dtype: float64"
      ]
     },
     "metadata": {},
     "output_type": "display_data"
    }
   ],
   "source": [
    "gene_corrs_quantiles = gene_corrs_flat.quantile(np.arange(0, 1, 0.05))\n",
    "display(gene_corrs_quantiles)"
   ]
  },
  {
   "cell_type": "markdown",
   "id": "87134509-b145-4a10-8bc9-b7e914c2b0fa",
   "metadata": {
    "papermill": {
     "duration": 0.660119,
     "end_time": "2023-08-30T04:04:13.793943",
     "exception": false,
     "start_time": "2023-08-30T04:04:13.133824",
     "status": "completed"
    },
    "tags": []
   },
   "source": [
    "## Positive definiteness"
   ]
  },
  {
   "cell_type": "code",
   "execution_count": 37,
   "id": "07d9a9a1-a4f7-48aa-b916-6d42a8cc6186",
   "metadata": {
    "execution": {
     "iopub.execute_input": "2023-08-30T04:04:15.005076Z",
     "iopub.status.busy": "2023-08-30T04:04:15.004520Z",
     "iopub.status.idle": "2023-08-30T04:04:15.035787Z",
     "shell.execute_reply": "2023-08-30T04:04:15.035184Z"
    },
    "papermill": {
     "duration": 0.611651,
     "end_time": "2023-08-30T04:04:15.036855",
     "exception": false,
     "start_time": "2023-08-30T04:04:14.425204",
     "status": "completed"
    },
    "tags": []
   },
   "outputs": [
    {
     "data": {
      "text/plain": [
       "0"
      ]
     },
     "metadata": {},
     "output_type": "display_data"
    },
    {
     "data": {
      "text/plain": [
       "array([], dtype=float64)"
      ]
     },
     "metadata": {},
     "output_type": "display_data"
    }
   ],
   "source": [
    "# print negative eigenvalues\n",
    "eigs = np.linalg.eigvals(gene_corrs_df.to_numpy())\n",
    "display(len(eigs[eigs < 0]))\n",
    "display(eigs[eigs < 0])"
   ]
  },
  {
   "cell_type": "code",
   "execution_count": 38,
   "id": "6e218436-c3c5-4028-8c94-a4fa6260efce",
   "metadata": {
    "execution": {
     "iopub.execute_input": "2023-08-30T04:04:16.174579Z",
     "iopub.status.busy": "2023-08-30T04:04:16.174239Z",
     "iopub.status.idle": "2023-08-30T04:04:16.198834Z",
     "shell.execute_reply": "2023-08-30T04:04:16.198306Z"
    },
    "papermill": {
     "duration": 0.572994,
     "end_time": "2023-08-30T04:04:16.199987",
     "exception": false,
     "start_time": "2023-08-30T04:04:15.626993",
     "status": "completed"
    },
    "tags": []
   },
   "outputs": [
    {
     "name": "stdout",
     "output_type": "stream",
     "text": [
      "Works!\n"
     ]
    }
   ],
   "source": [
    "try:\n",
    "    chol_mat = np.linalg.cholesky(gene_corrs_df.to_numpy())\n",
    "    cov_inv = np.linalg.inv(chol_mat)\n",
    "    print(\"Works!\")\n",
    "except Exception as e:\n",
    "    print(f\"Cholesky decomposition failed: {str(e)}\")"
   ]
  },
  {
   "cell_type": "code",
   "execution_count": 39,
   "id": "dd8827fb-faf9-4c7c-9454-015e94752706",
   "metadata": {
    "execution": {
     "iopub.execute_input": "2023-08-30T04:04:17.387489Z",
     "iopub.status.busy": "2023-08-30T04:04:17.387235Z",
     "iopub.status.idle": "2023-08-30T04:04:17.410992Z",
     "shell.execute_reply": "2023-08-30T04:04:17.410543Z"
    },
    "papermill": {
     "duration": 0.62241,
     "end_time": "2023-08-30T04:04:17.412110",
     "exception": false,
     "start_time": "2023-08-30T04:04:16.789700",
     "status": "completed"
    },
    "tags": []
   },
   "outputs": [
    {
     "name": "stdout",
     "output_type": "stream",
     "text": [
      "Works!\n"
     ]
    }
   ],
   "source": [
    "try:\n",
    "    # decomposition used by statsmodels.GLS\n",
    "    cholsigmainv = np.linalg.cholesky(np.linalg.inv(gene_corrs_df.to_numpy())).T\n",
    "    print(\"Works!\")\n",
    "except Exception as e:\n",
    "    print(f\"Cholesky decomposition failed (statsmodels.GLS): {str(e)}\")"
   ]
  },
  {
   "cell_type": "markdown",
   "id": "8e60a080-edb2-4e9c-b2ef-22961693200c",
   "metadata": {
    "papermill": {
     "duration": 0.524747,
     "end_time": "2023-08-30T04:04:18.504224",
     "exception": false,
     "start_time": "2023-08-30T04:04:17.979477",
     "status": "completed"
    },
    "tags": []
   },
   "source": [
    "## Plot: distribution"
   ]
  },
  {
   "cell_type": "code",
   "execution_count": 40,
   "id": "8301126b-a7d4-4744-9c7d-f0f86eb6f54c",
   "metadata": {
    "execution": {
     "iopub.execute_input": "2023-08-30T04:04:19.644811Z",
     "iopub.status.busy": "2023-08-30T04:04:19.644432Z",
     "iopub.status.idle": "2023-08-30T04:04:19.935934Z",
     "shell.execute_reply": "2023-08-30T04:04:19.935455Z"
    },
    "papermill": {
     "duration": 0.876981,
     "end_time": "2023-08-30T04:04:19.938070",
     "exception": false,
     "start_time": "2023-08-30T04:04:19.061089",
     "status": "completed"
    },
    "tags": []
   },
   "outputs": [
    {
     "data": {
      "image/png": "[encoded data removed]",
      "text/plain": [
       "<Figure size 700x700 with 1 Axes>"
      ]
     },
     "metadata": {},
     "output_type": "display_data"
    }
   ],
   "source": [
    "with sns.plotting_context(\"paper\", font_scale=1.5):\n",
    "    g = sns.displot(gene_corrs_flat, kde=True, height=7)\n",
    "    g.ax.set_title(\n",
    "        f\"Distribution of gene correlation values in chromosome {CHROMOSOME}\"\n",
    "    )"
   ]
  },
  {
   "cell_type": "markdown",
   "id": "cbd52bca-d878-4a2f-b684-5c83aa3038d4",
   "metadata": {
    "papermill": {
     "duration": 0.579355,
     "end_time": "2023-08-30T04:04:21.118097",
     "exception": false,
     "start_time": "2023-08-30T04:04:20.538742",
     "status": "completed"
    },
    "tags": []
   },
   "source": [
    "## Plot: heatmap"
   ]
  },
  {
   "cell_type": "code",
   "execution_count": 41,
   "id": "d03fe63a-c7b2-4fb9-a53c-db362ce843c9",
   "metadata": {
    "execution": {
     "iopub.execute_input": "2023-08-30T04:04:22.281658Z",
     "iopub.status.busy": "2023-08-30T04:04:22.281358Z",
     "iopub.status.idle": "2023-08-30T04:04:22.302086Z",
     "shell.execute_reply": "2023-08-30T04:04:22.301568Z"
    },
    "papermill": {
     "duration": 0.637344,
     "end_time": "2023-08-30T04:04:22.303033",
     "exception": false,
     "start_time": "2023-08-30T04:04:21.665689",
     "status": "completed"
    },
    "tags": []
   },
   "outputs": [
    {
     "data": {
      "text/plain": [
       "'0.0 / 0.05'"
      ]
     },
     "metadata": {},
     "output_type": "display_data"
    }
   ],
   "source": [
    "vmin_val = min(0.00, gene_corrs_quantiles[0.10])\n",
    "vmax_val = max(0.05, gene_corrs_quantiles[0.90])\n",
    "display(f\"{vmin_val} / {vmax_val}\")"
   ]
  },
  {
   "cell_type": "code",
   "execution_count": 42,
   "id": "dc41b70b-5bcc-4d9e-9f33-a22c4a94dab5",
   "metadata": {
    "execution": {
     "iopub.execute_input": "2023-08-30T04:04:23.478317Z",
     "iopub.status.busy": "2023-08-30T04:04:23.477848Z",
     "iopub.status.idle": "2023-08-30T04:04:24.457225Z",
     "shell.execute_reply": "2023-08-30T04:04:24.456556Z"
    },
    "papermill": {
     "duration": 1.577746,
     "end_time": "2023-08-30T04:04:24.458566",
     "exception": false,
     "start_time": "2023-08-30T04:04:22.880820",
     "status": "completed"
    },
    "tags": []
   },
   "outputs": [
    {
     "data": {
      "text/plain": [
       "Text(0.5, 1.0, 'Gene correlations in chromosome 20')"
      ]
     },
     "execution_count": 42,
     "metadata": {},
     "output_type": "execute_result"
    },
    {
     "data": {
      "image/png": "[encoded data removed]",
      "text/plain": [
       "<Figure size 1000x1000 with 2 Axes>"
      ]
     },
     "metadata": {},
     "output_type": "display_data"
    }
   ],
   "source": [
    "f, ax = plt.subplots(figsize=(10, 10))\n",
    "sns.heatmap(\n",
    "    gene_corrs_df,\n",
    "    xticklabels=False,\n",
    "    yticklabels=False,\n",
    "    square=True,\n",
    "    vmin=vmin_val,\n",
    "    vmax=vmax_val,\n",
    "    cmap=\"rocket_r\",\n",
    "    ax=ax,\n",
    ")\n",
    "ax.set_title(f\"Gene correlations in chromosome {CHROMOSOME}\")"
   ]
  },
  {
   "cell_type": "code",
   "execution_count": null,
   "id": "b25e3ead",
   "metadata": {
    "papermill": {
     "duration": 0.557489,
     "end_time": "2023-08-30T04:04:25.693609",
     "exception": false,
     "start_time": "2023-08-30T04:04:25.136120",
     "status": "completed"
    },
    "tags": []
   },
   "outputs": [],
   "source": []
  }
 ],
 "metadata": {
  "jupytext": {
   "cell_metadata_filter": "all,-execution,-papermill,-trusted",
   "formats": "ipynb,py//py:percent"
  },
  "kernelspec": {
   "display_name": "Python 3 (ipykernel)",
   "language": "python",
   "name": "python3"
  },
  "language_info": {
   "codemirror_mode": {
    "name": "ipython",
    "version": 3
   },
   "file_extension": ".py",
   "mimetype": "text/x-python",
   "name": "python",
   "nbconvert_exporter": "python",
   "pygments_lexer": "ipython3",
   "version": "3.10.6"
  },
  "papermill": {
   "default_parameters": {},
   "duration": 257.75962,
   "end_time": "2023-08-30T04:04:28.889849",
   "environment_variables": {},
   "exception": null,
   "input_path": "projects/chronotype/nbs/20_gene_corrs/jobs/05-gene_expr_correlations.ipynb",
   "output_path": "projects/chronotype/nbs/20_gene_corrs/jobs/../output/chronotype/05-gene_expr_correlations-chr20.run.ipynb",
   "parameters": {
    "CHROMOSOME": 20,
    "COHORT_NAME": "chronotype",
    "OUTPUT_DIR_BASE": "/opt/data/projects/chronotype/results/gls_phenoplier",
    "PHENOPLIER_NOTEBOOK_FILEPATH": "projects/chronotype/nbs/20_gene_corrs/jobs/05-gene_expr_correlations.ipynb"
   },
   "start_time": "2023-08-30T04:00:11.130229",
   "version": "2.2.2"
  }
 },
 "nbformat": 4,
 "nbformat_minor": 5
}
