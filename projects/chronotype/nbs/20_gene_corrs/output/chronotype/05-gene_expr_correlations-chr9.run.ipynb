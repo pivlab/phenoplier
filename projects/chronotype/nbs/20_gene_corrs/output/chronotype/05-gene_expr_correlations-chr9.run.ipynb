{
 "cells": [
  {
   "cell_type": "markdown",
   "id": "7a6632fb",
   "metadata": {
    "papermill": {
     "duration": 0.008513,
     "end_time": "2023-08-30T04:00:12.044304",
     "exception": false,
     "start_time": "2023-08-30T04:00:12.035791",
     "status": "completed"
    },
    "tags": []
   },
   "source": [
    "# Description"
   ]
  },
  {
   "cell_type": "markdown",
   "id": "7097c346",
   "metadata": {
    "papermill": {
     "duration": 0.007685,
     "end_time": "2023-08-30T04:00:12.059795",
     "exception": false,
     "start_time": "2023-08-30T04:00:12.052110",
     "status": "completed"
    },
    "tags": []
   },
   "source": [
    "This notebook computes predicted expression correlations between all genes in the MultiPLIER models.\n",
    "\n",
    "It has specicfic parameters for papermill (see under `Settings` below).\n",
    "\n",
    "This notebook should not be directly run. It is used by other notebooks."
   ]
  },
  {
   "cell_type": "markdown",
   "id": "c61d8427",
   "metadata": {
    "papermill": {
     "duration": 0.007583,
     "end_time": "2023-08-30T04:00:12.075055",
     "exception": false,
     "start_time": "2023-08-30T04:00:12.067472",
     "status": "completed"
    },
    "tags": []
   },
   "source": [
    "# Modules"
   ]
  },
  {
   "cell_type": "code",
   "execution_count": 1,
   "id": "bbc0234f",
   "metadata": {
    "execution": {
     "iopub.execute_input": "2023-08-30T04:00:12.092330Z",
     "iopub.status.busy": "2023-08-30T04:00:12.092022Z",
     "iopub.status.idle": "2023-08-30T04:00:12.110929Z",
     "shell.execute_reply": "2023-08-30T04:00:12.110244Z"
    },
    "papermill": {
     "duration": 0.029647,
     "end_time": "2023-08-30T04:00:12.113020",
     "exception": false,
     "start_time": "2023-08-30T04:00:12.083373",
     "status": "completed"
    },
    "tags": []
   },
   "outputs": [],
   "source": [
    "%load_ext autoreload\n",
    "%autoreload 2"
   ]
  },
  {
   "cell_type": "code",
   "execution_count": 2,
   "id": "1d5f5a59",
   "metadata": {
    "execution": {
     "iopub.execute_input": "2023-08-30T04:00:12.123636Z",
     "iopub.status.busy": "2023-08-30T04:00:12.123451Z",
     "iopub.status.idle": "2023-08-30T04:00:12.857954Z",
     "shell.execute_reply": "2023-08-30T04:00:12.857476Z"
    },
    "papermill": {
     "duration": 0.740989,
     "end_time": "2023-08-30T04:00:12.859609",
     "exception": false,
     "start_time": "2023-08-30T04:00:12.118620",
     "status": "completed"
    },
    "tags": []
   },
   "outputs": [],
   "source": [
    "from random import sample, seed\n",
    "import warnings\n",
    "from pathlib import Path\n",
    "import pickle\n",
    "import traceback\n",
    "\n",
    "import numpy as np\n",
    "from scipy.spatial.distance import squareform\n",
    "import pandas as pd\n",
    "from tqdm import tqdm\n",
    "import matplotlib.pyplot as plt\n",
    "import seaborn as sns\n",
    "\n",
    "import conf\n",
    "from entity import Gene"
   ]
  },
  {
   "cell_type": "markdown",
   "id": "1eac24b5",
   "metadata": {
    "papermill": {
     "duration": 0.007484,
     "end_time": "2023-08-30T04:00:12.874733",
     "exception": false,
     "start_time": "2023-08-30T04:00:12.867249",
     "status": "completed"
    },
    "tags": []
   },
   "source": [
    "# Settings"
   ]
  },
  {
   "cell_type": "code",
   "execution_count": 3,
   "id": "ca4560ba",
   "metadata": {
    "execution": {
     "iopub.execute_input": "2023-08-30T04:00:12.891039Z",
     "iopub.status.busy": "2023-08-30T04:00:12.890596Z",
     "iopub.status.idle": "2023-08-30T04:00:12.913440Z",
     "shell.execute_reply": "2023-08-30T04:00:12.912886Z"
    },
    "papermill": {
     "duration": 0.033072,
     "end_time": "2023-08-30T04:00:12.915061",
     "exception": false,
     "start_time": "2023-08-30T04:00:12.881989",
     "status": "completed"
    },
    "tags": [
     "parameters"
    ]
   },
   "outputs": [],
   "source": [
    "# a cohort name (it could be something like UK_BIOBANK, etc)\n",
    "COHORT_NAME = None\n",
    "\n",
    "# reference panel such as 1000G or GTEX_V8\n",
    "REFERENCE_PANEL = \"GTEX_V8\"\n",
    "\n",
    "# predictions models such as MASHR or ELASTIC_NET\n",
    "EQTL_MODEL = \"MASHR\"\n",
    "\n",
    "# this is the default value used in S-MultiXcan to select the\n",
    "# top principal components of the expression correlation matrix\n",
    "SMULTIXCAN_CONDITION_NUMBER = 30\n",
    "\n",
    "# specifies a single chromosome value\n",
    "CHROMOSOME = None\n",
    "\n",
    "# If True, computes the correlation between closeby genes only (see\n",
    "# entity.Gene.within_distance for more details). Otherwise, it computes\n",
    "# correlations for all genes in a chromosome\n",
    "COMPUTE_CORRELATIONS_WITHIN_DISTANCE = True\n",
    "\n",
    "# if True, then it will continue if a gene pair correlation fails,\n",
    "# printing the warning/error for debugging. If False, any warning/error\n",
    "# will be thrown\n",
    "DEBUG_MODE = False\n",
    "\n",
    "# output dir\n",
    "OUTPUT_DIR_BASE = None"
   ]
  },
  {
   "cell_type": "code",
   "execution_count": 4,
   "id": "c0d9cce0",
   "metadata": {
    "execution": {
     "iopub.execute_input": "2023-08-30T04:00:12.930541Z",
     "iopub.status.busy": "2023-08-30T04:00:12.929989Z",
     "iopub.status.idle": "2023-08-30T04:00:12.966620Z",
     "shell.execute_reply": "2023-08-30T04:00:12.965927Z"
    },
    "papermill": {
     "duration": 0.045408,
     "end_time": "2023-08-30T04:00:12.968185",
     "exception": false,
     "start_time": "2023-08-30T04:00:12.922777",
     "status": "completed"
    },
    "tags": [
     "injected-parameters"
    ]
   },
   "outputs": [],
   "source": [
    "# Parameters\n",
    "PHENOPLIER_NOTEBOOK_FILEPATH = (\n",
    "    \"projects/chronotype/nbs/20_gene_corrs/jobs/05-gene_expr_correlations.ipynb\"\n",
    ")\n",
    "COHORT_NAME = \"chronotype\"\n",
    "CHROMOSOME = 9\n",
    "OUTPUT_DIR_BASE = \"/opt/data/projects/chronotype/results/gls_phenoplier\"\n"
   ]
  },
  {
   "cell_type": "code",
   "execution_count": 5,
   "id": "3190631f-27fc-480f-b18e-571d580425a5",
   "metadata": {
    "execution": {
     "iopub.execute_input": "2023-08-30T04:00:12.978313Z",
     "iopub.status.busy": "2023-08-30T04:00:12.977856Z",
     "iopub.status.idle": "2023-08-30T04:00:13.009829Z",
     "shell.execute_reply": "2023-08-30T04:00:13.009451Z"
    },
    "papermill": {
     "duration": 0.038254,
     "end_time": "2023-08-30T04:00:13.011063",
     "exception": false,
     "start_time": "2023-08-30T04:00:12.972809",
     "status": "completed"
    },
    "tags": []
   },
   "outputs": [
    {
     "data": {
      "text/plain": [
       "'Cohort name: chronotype'"
      ]
     },
     "metadata": {},
     "output_type": "display_data"
    }
   ],
   "source": [
    "assert COHORT_NAME is not None and len(COHORT_NAME) > 0, \"A cohort name must be given\"\n",
    "\n",
    "COHORT_NAME = COHORT_NAME.lower()\n",
    "display(f\"Cohort name: {COHORT_NAME}\")"
   ]
  },
  {
   "cell_type": "code",
   "execution_count": 6,
   "id": "f53ba19b-0f93-4fa2-a047-63b375939d1a",
   "metadata": {
    "execution": {
     "iopub.execute_input": "2023-08-30T04:00:13.026630Z",
     "iopub.status.busy": "2023-08-30T04:00:13.026293Z",
     "iopub.status.idle": "2023-08-30T04:00:13.049220Z",
     "shell.execute_reply": "2023-08-30T04:00:13.048919Z"
    },
    "papermill": {
     "duration": 0.03118,
     "end_time": "2023-08-30T04:00:13.050346",
     "exception": false,
     "start_time": "2023-08-30T04:00:13.019166",
     "status": "completed"
    },
    "tags": []
   },
   "outputs": [
    {
     "data": {
      "text/plain": [
       "'Reference panel: GTEX_V8'"
      ]
     },
     "metadata": {},
     "output_type": "display_data"
    }
   ],
   "source": [
    "assert (\n",
    "    REFERENCE_PANEL is not None and len(REFERENCE_PANEL) > 0\n",
    "), \"A reference panel must be given\"\n",
    "\n",
    "display(f\"Reference panel: {REFERENCE_PANEL}\")"
   ]
  },
  {
   "cell_type": "code",
   "execution_count": 7,
   "id": "e024d130-c139-429a-9c6e-ccf149e297b0",
   "metadata": {
    "execution": {
     "iopub.execute_input": "2023-08-30T04:00:13.066457Z",
     "iopub.status.busy": "2023-08-30T04:00:13.065879Z",
     "iopub.status.idle": "2023-08-30T04:00:13.090289Z",
     "shell.execute_reply": "2023-08-30T04:00:13.089994Z"
    },
    "papermill": {
     "duration": 0.033502,
     "end_time": "2023-08-30T04:00:13.091157",
     "exception": false,
     "start_time": "2023-08-30T04:00:13.057655",
     "status": "completed"
    },
    "tags": []
   },
   "outputs": [
    {
     "data": {
      "text/plain": [
       "'eQTL model: MASHR) / mashr_'"
      ]
     },
     "metadata": {},
     "output_type": "display_data"
    }
   ],
   "source": [
    "assert (\n",
    "    EQTL_MODEL is not None and len(EQTL_MODEL) > 0\n",
    "), \"A prediction/eQTL model must be given\"\n",
    "\n",
    "EQTL_MODEL_FILES_PREFIX = conf.PHENOMEXCAN[\"PREDICTION_MODELS\"][f\"{EQTL_MODEL}_PREFIX\"]\n",
    "display(f\"eQTL model: {EQTL_MODEL}) / {EQTL_MODEL_FILES_PREFIX}\")"
   ]
  },
  {
   "cell_type": "code",
   "execution_count": 8,
   "id": "552a7f63-a18c-4d3e-bb6a-94f99b431291",
   "metadata": {
    "execution": {
     "iopub.execute_input": "2023-08-30T04:00:13.101645Z",
     "iopub.status.busy": "2023-08-30T04:00:13.101056Z",
     "iopub.status.idle": "2023-08-30T04:00:13.123591Z",
     "shell.execute_reply": "2023-08-30T04:00:13.123268Z"
    },
    "papermill": {
     "duration": 0.028805,
     "end_time": "2023-08-30T04:00:13.124641",
     "exception": false,
     "start_time": "2023-08-30T04:00:13.095836",
     "status": "completed"
    },
    "tags": []
   },
   "outputs": [
    {
     "data": {
      "text/plain": [
       "'S-MultiXcan condition number: 30'"
      ]
     },
     "metadata": {},
     "output_type": "display_data"
    }
   ],
   "source": [
    "assert (\n",
    "    SMULTIXCAN_CONDITION_NUMBER is not None and SMULTIXCAN_CONDITION_NUMBER > 0\n",
    "), \"The S-MultiXcan condition number (positive integer) must be given\"\n",
    "\n",
    "display(f\"S-MultiXcan condition number: {SMULTIXCAN_CONDITION_NUMBER}\")"
   ]
  },
  {
   "cell_type": "code",
   "execution_count": 9,
   "id": "f34a336f-548e-4afe-8955-90eaea4f42c6",
   "metadata": {
    "execution": {
     "iopub.execute_input": "2023-08-30T04:00:13.140336Z",
     "iopub.status.busy": "2023-08-30T04:00:13.139984Z",
     "iopub.status.idle": "2023-08-30T04:00:13.165300Z",
     "shell.execute_reply": "2023-08-30T04:00:13.164916Z"
    },
    "papermill": {
     "duration": 0.034596,
     "end_time": "2023-08-30T04:00:13.166370",
     "exception": false,
     "start_time": "2023-08-30T04:00:13.131774",
     "status": "completed"
    },
    "tags": []
   },
   "outputs": [
    {
     "data": {
      "text/plain": [
       "'Working on chromosome 9'"
      ]
     },
     "metadata": {},
     "output_type": "display_data"
    }
   ],
   "source": [
    "assert CHROMOSOME is not None and (\n",
    "    1 <= CHROMOSOME <= 22\n",
    "), \"You have to select one chromosome (format: number between 1 and 22)\"\n",
    "\n",
    "display(f\"Working on chromosome {CHROMOSOME}\")"
   ]
  },
  {
   "cell_type": "code",
   "execution_count": 10,
   "id": "ab8e96e8-06b5-4363-9dcd-dc4d78cc27f7",
   "metadata": {
    "execution": {
     "iopub.execute_input": "2023-08-30T04:00:13.181433Z",
     "iopub.status.busy": "2023-08-30T04:00:13.181255Z",
     "iopub.status.idle": "2023-08-30T04:00:13.207269Z",
     "shell.execute_reply": "2023-08-30T04:00:13.206644Z"
    },
    "papermill": {
     "duration": 0.034843,
     "end_time": "2023-08-30T04:00:13.208390",
     "exception": false,
     "start_time": "2023-08-30T04:00:13.173547",
     "status": "completed"
    },
    "tags": []
   },
   "outputs": [
    {
     "data": {
      "text/plain": [
       "'Compute correlation within distance True'"
      ]
     },
     "metadata": {},
     "output_type": "display_data"
    }
   ],
   "source": [
    "display(f\"Compute correlation within distance {COMPUTE_CORRELATIONS_WITHIN_DISTANCE}\")"
   ]
  },
  {
   "cell_type": "code",
   "execution_count": 11,
   "id": "b393b698-77e3-4ba2-8ac1-e14d51aa988f",
   "metadata": {
    "execution": {
     "iopub.execute_input": "2023-08-30T04:00:13.226255Z",
     "iopub.status.busy": "2023-08-30T04:00:13.226109Z",
     "iopub.status.idle": "2023-08-30T04:00:13.251399Z",
     "shell.execute_reply": "2023-08-30T04:00:13.250909Z"
    },
    "papermill": {
     "duration": 0.035623,
     "end_time": "2023-08-30T04:00:13.252496",
     "exception": false,
     "start_time": "2023-08-30T04:00:13.216873",
     "status": "completed"
    },
    "tags": []
   },
   "outputs": [
    {
     "data": {
      "text/plain": [
       "'Using output dir base: /opt/data/projects/chronotype/results/gls_phenoplier/gene_corrs/chronotype'"
      ]
     },
     "metadata": {},
     "output_type": "display_data"
    }
   ],
   "source": [
    "assert (\n",
    "    OUTPUT_DIR_BASE is not None and len(OUTPUT_DIR_BASE) > 0\n",
    "), \"Output directory path must be given\"\n",
    "\n",
    "OUTPUT_DIR_BASE = (Path(OUTPUT_DIR_BASE) / \"gene_corrs\" / COHORT_NAME).resolve()\n",
    "\n",
    "OUTPUT_DIR_BASE.mkdir(parents=True, exist_ok=True)\n",
    "\n",
    "display(f\"Using output dir base: {OUTPUT_DIR_BASE}\")"
   ]
  },
  {
   "cell_type": "markdown",
   "id": "d2ba085e",
   "metadata": {
    "papermill": {
     "duration": 0.005006,
     "end_time": "2023-08-30T04:00:13.263256",
     "exception": false,
     "start_time": "2023-08-30T04:00:13.258250",
     "status": "completed"
    },
    "tags": []
   },
   "source": [
    "# Load data"
   ]
  },
  {
   "cell_type": "markdown",
   "id": "7dcb8db7",
   "metadata": {
    "papermill": {
     "duration": 0.004911,
     "end_time": "2023-08-30T04:00:13.273110",
     "exception": false,
     "start_time": "2023-08-30T04:00:13.268199",
     "status": "completed"
    },
    "tags": []
   },
   "source": [
    "## GWAS variants"
   ]
  },
  {
   "cell_type": "code",
   "execution_count": 12,
   "id": "29434c4e-8cd3-4b9b-82e4-b5a251d9dd19",
   "metadata": {
    "execution": {
     "iopub.execute_input": "2023-08-30T04:00:13.285076Z",
     "iopub.status.busy": "2023-08-30T04:00:13.284787Z",
     "iopub.status.idle": "2023-08-30T04:00:17.739200Z",
     "shell.execute_reply": "2023-08-30T04:00:17.738500Z"
    },
    "papermill": {
     "duration": 4.463227,
     "end_time": "2023-08-30T04:00:17.741835",
     "exception": false,
     "start_time": "2023-08-30T04:00:13.278608",
     "status": "completed"
    },
    "tags": []
   },
   "outputs": [],
   "source": [
    "with open(OUTPUT_DIR_BASE / \"gwas_variant_ids.pkl\", \"rb\") as handle:\n",
    "    gwas_variants_ids_set = pickle.load(handle)"
   ]
  },
  {
   "cell_type": "code",
   "execution_count": 13,
   "id": "b9d9dec2-4a76-4bf9-bde2-e24c95acb8a0",
   "metadata": {
    "execution": {
     "iopub.execute_input": "2023-08-30T04:00:17.767792Z",
     "iopub.status.busy": "2023-08-30T04:00:17.767125Z",
     "iopub.status.idle": "2023-08-30T04:00:17.788911Z",
     "shell.execute_reply": "2023-08-30T04:00:17.788457Z"
    },
    "papermill": {
     "duration": 0.043022,
     "end_time": "2023-08-30T04:00:17.793876",
     "exception": false,
     "start_time": "2023-08-30T04:00:17.750854",
     "status": "completed"
    },
    "tags": []
   },
   "outputs": [
    {
     "data": {
      "text/plain": [
       "11737794"
      ]
     },
     "execution_count": 13,
     "metadata": {},
     "output_type": "execute_result"
    }
   ],
   "source": [
    "len(gwas_variants_ids_set)"
   ]
  },
  {
   "cell_type": "code",
   "execution_count": 14,
   "id": "4235b06a-6034-4ee4-a0a3-2ae35d122418",
   "metadata": {
    "execution": {
     "iopub.execute_input": "2023-08-30T04:00:17.831922Z",
     "iopub.status.busy": "2023-08-30T04:00:17.831315Z",
     "iopub.status.idle": "2023-08-30T04:00:19.317467Z",
     "shell.execute_reply": "2023-08-30T04:00:19.316851Z"
    },
    "papermill": {
     "duration": 1.50846,
     "end_time": "2023-08-30T04:00:19.320071",
     "exception": false,
     "start_time": "2023-08-30T04:00:17.811611",
     "status": "completed"
    },
    "tags": []
   },
   "outputs": [
    {
     "data": {
      "text/plain": [
       "['chr18_35177910_A_G_b38',\n",
       " 'chr13_71352972_G_A_b38',\n",
       " 'chr19_11723592_T_C_b38',\n",
       " 'chr9_137844325_C_T_b38',\n",
       " 'chr12_12007349_G_T_b38']"
      ]
     },
     "execution_count": 14,
     "metadata": {},
     "output_type": "execute_result"
    }
   ],
   "source": [
    "list(gwas_variants_ids_set)[:5]"
   ]
  },
  {
   "cell_type": "markdown",
   "id": "07866999-2305-41f9-a144-e69c9122c212",
   "metadata": {
    "papermill": {
     "duration": 0.011482,
     "end_time": "2023-08-30T04:00:19.341858",
     "exception": false,
     "start_time": "2023-08-30T04:00:19.330376",
     "status": "completed"
    },
    "tags": []
   },
   "source": [
    "## S-PrediXcan tissue models"
   ]
  },
  {
   "cell_type": "code",
   "execution_count": 15,
   "id": "780611d9-77c8-405f-90a4-f271f7b09397",
   "metadata": {
    "execution": {
     "iopub.execute_input": "2023-08-30T04:00:19.370182Z",
     "iopub.status.busy": "2023-08-30T04:00:19.368989Z",
     "iopub.status.idle": "2023-08-30T04:00:22.275411Z",
     "shell.execute_reply": "2023-08-30T04:00:22.274956Z"
    },
    "papermill": {
     "duration": 2.921748,
     "end_time": "2023-08-30T04:00:22.277058",
     "exception": false,
     "start_time": "2023-08-30T04:00:19.355310",
     "status": "completed"
    },
    "tags": []
   },
   "outputs": [],
   "source": [
    "spredixcan_genes_models = pd.read_pickle(OUTPUT_DIR_BASE / \"gene_tissues.pkl\")"
   ]
  },
  {
   "cell_type": "code",
   "execution_count": 16,
   "id": "726dd1f6-9557-4225-91fa-b3b879ea96e1",
   "metadata": {
    "execution": {
     "iopub.execute_input": "2023-08-30T04:00:22.294109Z",
     "iopub.status.busy": "2023-08-30T04:00:22.293798Z",
     "iopub.status.idle": "2023-08-30T04:00:22.312231Z",
     "shell.execute_reply": "2023-08-30T04:00:22.311819Z"
    },
    "papermill": {
     "duration": 0.028747,
     "end_time": "2023-08-30T04:00:22.313745",
     "exception": false,
     "start_time": "2023-08-30T04:00:22.284998",
     "status": "completed"
    },
    "tags": []
   },
   "outputs": [
    {
     "data": {
      "text/plain": [
       "(6445, 5)"
      ]
     },
     "execution_count": 16,
     "metadata": {},
     "output_type": "execute_result"
    }
   ],
   "source": [
    "spredixcan_genes_models.shape"
   ]
  },
  {
   "cell_type": "code",
   "execution_count": 17,
   "id": "944a1b48-222c-4eb0-b252-b9de2cbca215",
   "metadata": {
    "execution": {
     "iopub.execute_input": "2023-08-30T04:00:22.331375Z",
     "iopub.status.busy": "2023-08-30T04:00:22.331091Z",
     "iopub.status.idle": "2023-08-30T04:00:22.353024Z",
     "shell.execute_reply": "2023-08-30T04:00:22.352605Z"
    },
    "papermill": {
     "duration": 0.032027,
     "end_time": "2023-08-30T04:00:22.354254",
     "exception": false,
     "start_time": "2023-08-30T04:00:22.322227",
     "status": "completed"
    },
    "tags": []
   },
   "outputs": [
    {
     "data": {
      "text/html": [
       "<div>\n",
       "<style scoped>\n",
       "    .dataframe tbody tr th:only-of-type {\n",
       "        vertical-align: middle;\n",
       "    }\n",
       "\n",
       "    .dataframe tbody tr th {\n",
       "        vertical-align: top;\n",
       "    }\n",
       "\n",
       "    .dataframe thead th {\n",
       "        text-align: right;\n",
       "    }\n",
       "</style>\n",
       "<table border=\"1\" class=\"dataframe\">\n",
       "  <thead>\n",
       "    <tr style=\"text-align: right;\">\n",
       "      <th></th>\n",
       "      <th>gene_name</th>\n",
       "      <th>tissue</th>\n",
       "      <th>n_tissues</th>\n",
       "      <th>n_snps_used_sum</th>\n",
       "      <th>n_snps_in_model_sum</th>\n",
       "    </tr>\n",
       "    <tr>\n",
       "      <th>gene_id</th>\n",
       "      <th></th>\n",
       "      <th></th>\n",
       "      <th></th>\n",
       "      <th></th>\n",
       "      <th></th>\n",
       "    </tr>\n",
       "  </thead>\n",
       "  <tbody>\n",
       "    <tr>\n",
       "      <th>ENSG00000000419</th>\n",
       "      <td>DPM1</td>\n",
       "      <td>(Brain_Substantia_nigra, Brain_Hypothalamus)</td>\n",
       "      <td>2</td>\n",
       "      <td>2</td>\n",
       "      <td>2</td>\n",
       "    </tr>\n",
       "    <tr>\n",
       "      <th>ENSG00000000938</th>\n",
       "      <td>FGR</td>\n",
       "      <td>(Skin_Not_Sun_Exposed_Suprapubic, Brain_Anteri...</td>\n",
       "      <td>36</td>\n",
       "      <td>40</td>\n",
       "      <td>40</td>\n",
       "    </tr>\n",
       "    <tr>\n",
       "      <th>ENSG00000000971</th>\n",
       "      <td>CFH</td>\n",
       "      <td>(Brain_Substantia_nigra, Skin_Not_Sun_Exposed_...</td>\n",
       "      <td>34</td>\n",
       "      <td>44</td>\n",
       "      <td>44</td>\n",
       "    </tr>\n",
       "    <tr>\n",
       "      <th>ENSG00000001084</th>\n",
       "      <td>GCLC</td>\n",
       "      <td>(Brain_Substantia_nigra, Skin_Not_Sun_Exposed_...</td>\n",
       "      <td>32</td>\n",
       "      <td>46</td>\n",
       "      <td>46</td>\n",
       "    </tr>\n",
       "    <tr>\n",
       "      <th>ENSG00000001167</th>\n",
       "      <td>NFYA</td>\n",
       "      <td>(Skin_Not_Sun_Exposed_Suprapubic, Brain_Anteri...</td>\n",
       "      <td>40</td>\n",
       "      <td>47</td>\n",
       "      <td>48</td>\n",
       "    </tr>\n",
       "  </tbody>\n",
       "</table>\n",
       "</div>"
      ],
      "text/plain": [
       "                gene_name                                             tissue  \\\n",
       "gene_id                                                                        \n",
       "ENSG00000000419      DPM1       (Brain_Substantia_nigra, Brain_Hypothalamus)   \n",
       "ENSG00000000938       FGR  (Skin_Not_Sun_Exposed_Suprapubic, Brain_Anteri...   \n",
       "ENSG00000000971       CFH  (Brain_Substantia_nigra, Skin_Not_Sun_Exposed_...   \n",
       "ENSG00000001084      GCLC  (Brain_Substantia_nigra, Skin_Not_Sun_Exposed_...   \n",
       "ENSG00000001167      NFYA  (Skin_Not_Sun_Exposed_Suprapubic, Brain_Anteri...   \n",
       "\n",
       "                 n_tissues  n_snps_used_sum  n_snps_in_model_sum  \n",
       "gene_id                                                           \n",
       "ENSG00000000419          2                2                    2  \n",
       "ENSG00000000938         36               40                   40  \n",
       "ENSG00000000971         34               44                   44  \n",
       "ENSG00000001084         32               46                   46  \n",
       "ENSG00000001167         40               47                   48  "
      ]
     },
     "execution_count": 17,
     "metadata": {},
     "output_type": "execute_result"
    }
   ],
   "source": [
    "spredixcan_genes_models.head()"
   ]
  },
  {
   "cell_type": "code",
   "execution_count": 18,
   "id": "d1c11bb1-be0b-4f40-b360-633d6827109f",
   "metadata": {
    "execution": {
     "iopub.execute_input": "2023-08-30T04:00:22.371771Z",
     "iopub.status.busy": "2023-08-30T04:00:22.371463Z",
     "iopub.status.idle": "2023-08-30T04:00:22.388253Z",
     "shell.execute_reply": "2023-08-30T04:00:22.387807Z"
    },
    "papermill": {
     "duration": 0.027276,
     "end_time": "2023-08-30T04:00:22.389779",
     "exception": false,
     "start_time": "2023-08-30T04:00:22.362503",
     "status": "completed"
    },
    "tags": []
   },
   "outputs": [],
   "source": [
    "assert spredixcan_genes_models.index.is_unique"
   ]
  },
  {
   "cell_type": "markdown",
   "id": "a5b5092c-a13e-47c4-a92a-480fcc08f3ae",
   "metadata": {
    "papermill": {
     "duration": 0.008129,
     "end_time": "2023-08-30T04:00:22.406218",
     "exception": false,
     "start_time": "2023-08-30T04:00:22.398089",
     "status": "completed"
    },
    "tags": []
   },
   "source": [
    "## Gene info"
   ]
  },
  {
   "cell_type": "code",
   "execution_count": 19,
   "id": "7d6bb224-88e9-4358-ac10-43a41d92cdad",
   "metadata": {
    "execution": {
     "iopub.execute_input": "2023-08-30T04:00:22.424521Z",
     "iopub.status.busy": "2023-08-30T04:00:22.424093Z",
     "iopub.status.idle": "2023-08-30T04:00:22.453831Z",
     "shell.execute_reply": "2023-08-30T04:00:22.453088Z"
    },
    "papermill": {
     "duration": 0.040871,
     "end_time": "2023-08-30T04:00:22.455523",
     "exception": false,
     "start_time": "2023-08-30T04:00:22.414652",
     "status": "completed"
    },
    "tags": []
   },
   "outputs": [],
   "source": [
    "genes_info = pd.read_pickle(OUTPUT_DIR_BASE / \"genes_info.pkl\")"
   ]
  },
  {
   "cell_type": "code",
   "execution_count": 20,
   "id": "9e32abfa-546d-483e-8c18-d526e9e05903",
   "metadata": {
    "execution": {
     "iopub.execute_input": "2023-08-30T04:00:22.473949Z",
     "iopub.status.busy": "2023-08-30T04:00:22.473553Z",
     "iopub.status.idle": "2023-08-30T04:00:22.502867Z",
     "shell.execute_reply": "2023-08-30T04:00:22.502128Z"
    },
    "papermill": {
     "duration": 0.040018,
     "end_time": "2023-08-30T04:00:22.504335",
     "exception": false,
     "start_time": "2023-08-30T04:00:22.464317",
     "status": "completed"
    },
    "tags": []
   },
   "outputs": [
    {
     "data": {
      "text/plain": [
       "(6445, 7)"
      ]
     },
     "execution_count": 20,
     "metadata": {},
     "output_type": "execute_result"
    }
   ],
   "source": [
    "genes_info.shape"
   ]
  },
  {
   "cell_type": "code",
   "execution_count": 21,
   "id": "d16c3e92-85ec-468a-9a56-e25a9774a1cb",
   "metadata": {
    "execution": {
     "iopub.execute_input": "2023-08-30T04:00:22.522528Z",
     "iopub.status.busy": "2023-08-30T04:00:22.522131Z",
     "iopub.status.idle": "2023-08-30T04:00:22.555622Z",
     "shell.execute_reply": "2023-08-30T04:00:22.554893Z"
    },
    "papermill": {
     "duration": 0.044451,
     "end_time": "2023-08-30T04:00:22.557175",
     "exception": false,
     "start_time": "2023-08-30T04:00:22.512724",
     "status": "completed"
    },
    "tags": []
   },
   "outputs": [
    {
     "data": {
      "text/html": [
       "<div>\n",
       "<style scoped>\n",
       "    .dataframe tbody tr th:only-of-type {\n",
       "        vertical-align: middle;\n",
       "    }\n",
       "\n",
       "    .dataframe tbody tr th {\n",
       "        vertical-align: top;\n",
       "    }\n",
       "\n",
       "    .dataframe thead th {\n",
       "        text-align: right;\n",
       "    }\n",
       "</style>\n",
       "<table border=\"1\" class=\"dataframe\">\n",
       "  <thead>\n",
       "    <tr style=\"text-align: right;\">\n",
       "      <th></th>\n",
       "      <th>name</th>\n",
       "      <th>id</th>\n",
       "      <th>chr</th>\n",
       "      <th>band</th>\n",
       "      <th>start_position</th>\n",
       "      <th>end_position</th>\n",
       "      <th>gene_length</th>\n",
       "    </tr>\n",
       "  </thead>\n",
       "  <tbody>\n",
       "    <tr>\n",
       "      <th>0</th>\n",
       "      <td>DUT</td>\n",
       "      <td>ENSG00000128951</td>\n",
       "      <td>15</td>\n",
       "      <td>15q21.1</td>\n",
       "      <td>48331011</td>\n",
       "      <td>48343373</td>\n",
       "      <td>12362</td>\n",
       "    </tr>\n",
       "    <tr>\n",
       "      <th>1</th>\n",
       "      <td>NDUFA4</td>\n",
       "      <td>ENSG00000189043</td>\n",
       "      <td>7</td>\n",
       "      <td>7p21.3</td>\n",
       "      <td>10931943</td>\n",
       "      <td>10940153</td>\n",
       "      <td>8210</td>\n",
       "    </tr>\n",
       "    <tr>\n",
       "      <th>2</th>\n",
       "      <td>EPHB3</td>\n",
       "      <td>ENSG00000182580</td>\n",
       "      <td>3</td>\n",
       "      <td>3q27.1</td>\n",
       "      <td>184561785</td>\n",
       "      <td>184582408</td>\n",
       "      <td>20623</td>\n",
       "    </tr>\n",
       "    <tr>\n",
       "      <th>3</th>\n",
       "      <td>MYLK</td>\n",
       "      <td>ENSG00000065534</td>\n",
       "      <td>3</td>\n",
       "      <td>3q21.1</td>\n",
       "      <td>123610049</td>\n",
       "      <td>123884331</td>\n",
       "      <td>274282</td>\n",
       "    </tr>\n",
       "    <tr>\n",
       "      <th>4</th>\n",
       "      <td>SMPD4</td>\n",
       "      <td>ENSG00000136699</td>\n",
       "      <td>2</td>\n",
       "      <td>2q21.1</td>\n",
       "      <td>130151392</td>\n",
       "      <td>130182750</td>\n",
       "      <td>31358</td>\n",
       "    </tr>\n",
       "  </tbody>\n",
       "</table>\n",
       "</div>"
      ],
      "text/plain": [
       "     name               id  chr     band  start_position  end_position  \\\n",
       "0     DUT  ENSG00000128951   15  15q21.1        48331011      48343373   \n",
       "1  NDUFA4  ENSG00000189043    7   7p21.3        10931943      10940153   \n",
       "2   EPHB3  ENSG00000182580    3   3q27.1       184561785     184582408   \n",
       "3    MYLK  ENSG00000065534    3   3q21.1       123610049     123884331   \n",
       "4   SMPD4  ENSG00000136699    2   2q21.1       130151392     130182750   \n",
       "\n",
       "   gene_length  \n",
       "0        12362  \n",
       "1         8210  \n",
       "2        20623  \n",
       "3       274282  \n",
       "4        31358  "
      ]
     },
     "execution_count": 21,
     "metadata": {},
     "output_type": "execute_result"
    }
   ],
   "source": [
    "genes_info.head()"
   ]
  },
  {
   "cell_type": "markdown",
   "id": "d3843e06",
   "metadata": {
    "papermill": {
     "duration": 0.007906,
     "end_time": "2023-08-30T04:00:22.573662",
     "exception": false,
     "start_time": "2023-08-30T04:00:22.565756",
     "status": "completed"
    },
    "tags": []
   },
   "source": [
    "# Compute correlations"
   ]
  },
  {
   "cell_type": "code",
   "execution_count": 22,
   "id": "cb859c15-d1f3-4006-a74c-2b83c0db9611",
   "metadata": {
    "execution": {
     "iopub.execute_input": "2023-08-30T04:00:22.590804Z",
     "iopub.status.busy": "2023-08-30T04:00:22.590558Z",
     "iopub.status.idle": "2023-08-30T04:00:22.608217Z",
     "shell.execute_reply": "2023-08-30T04:00:22.607898Z"
    },
    "papermill": {
     "duration": 0.027637,
     "end_time": "2023-08-30T04:00:22.609294",
     "exception": false,
     "start_time": "2023-08-30T04:00:22.581657",
     "status": "completed"
    },
    "tags": []
   },
   "outputs": [
    {
     "data": {
      "text/plain": [
       "PosixPath('/opt/data/projects/chronotype/results/gls_phenoplier/gene_corrs/chronotype/by_chr/gene_corrs-chr9.pkl')"
      ]
     },
     "metadata": {},
     "output_type": "display_data"
    }
   ],
   "source": [
    "output_dir = OUTPUT_DIR_BASE / \"by_chr\"\n",
    "output_dir.mkdir(exist_ok=True, parents=True)\n",
    "output_file = output_dir / f\"gene_corrs-chr{CHROMOSOME}.pkl\"\n",
    "display(output_file)"
   ]
  },
  {
   "cell_type": "code",
   "execution_count": 23,
   "id": "aa674fe4-6794-4eed-98fa-32b39d1d4ace",
   "metadata": {
    "execution": {
     "iopub.execute_input": "2023-08-30T04:00:22.626247Z",
     "iopub.status.busy": "2023-08-30T04:00:22.625850Z",
     "iopub.status.idle": "2023-08-30T04:00:22.654522Z",
     "shell.execute_reply": "2023-08-30T04:00:22.653943Z"
    },
    "papermill": {
     "duration": 0.038487,
     "end_time": "2023-08-30T04:00:22.655966",
     "exception": false,
     "start_time": "2023-08-30T04:00:22.617479",
     "status": "completed"
    },
    "tags": []
   },
   "outputs": [],
   "source": [
    "warnings.filterwarnings(\"error\")"
   ]
  },
  {
   "cell_type": "code",
   "execution_count": 24,
   "id": "44d5450b-3baf-43f1-9e2e-4b06f1a785f8",
   "metadata": {
    "execution": {
     "iopub.execute_input": "2023-08-30T04:00:22.673198Z",
     "iopub.status.busy": "2023-08-30T04:00:22.672643Z",
     "iopub.status.idle": "2023-08-30T04:00:22.704441Z",
     "shell.execute_reply": "2023-08-30T04:00:22.703735Z"
    },
    "papermill": {
     "duration": 0.040668,
     "end_time": "2023-08-30T04:00:22.705853",
     "exception": false,
     "start_time": "2023-08-30T04:00:22.665185",
     "status": "completed"
    },
    "tags": []
   },
   "outputs": [],
   "source": [
    "# standard checks\n",
    "all_chrs = genes_info[\"chr\"].dropna().unique()\n",
    "assert all_chrs.shape[0] == 22\n",
    "\n",
    "# select chromosome given by the user\n",
    "assert CHROMOSOME in all_chrs"
   ]
  },
  {
   "cell_type": "code",
   "execution_count": 25,
   "id": "2d7c043c-92a7-4d35-991b-fa69ac1e0268",
   "metadata": {
    "execution": {
     "iopub.execute_input": "2023-08-30T04:00:22.720499Z",
     "iopub.status.busy": "2023-08-30T04:00:22.719963Z",
     "iopub.status.idle": "2023-08-30T04:00:22.750463Z",
     "shell.execute_reply": "2023-08-30T04:00:22.749764Z"
    },
    "papermill": {
     "duration": 0.039109,
     "end_time": "2023-08-30T04:00:22.751671",
     "exception": false,
     "start_time": "2023-08-30T04:00:22.712562",
     "status": "completed"
    },
    "tags": []
   },
   "outputs": [
    {
     "name": "stdout",
     "output_type": "stream",
     "text": [
      "Number of genes in chromosome: 245\n"
     ]
    }
   ],
   "source": [
    "# run only on the chromosome specified\n",
    "all_chrs = [CHROMOSOME]\n",
    "genes_chr = genes_info[genes_info[\"chr\"] == CHROMOSOME]\n",
    "\n",
    "# For testing purposes\n",
    "# genes_chr = genes_chr.sample(n=20)\n",
    "\n",
    "print(f\"Number of genes in chromosome: {genes_chr.shape[0]}\", flush=True)"
   ]
  },
  {
   "cell_type": "code",
   "execution_count": 26,
   "id": "916015d8-2979-46d3-a9b9-1cf5a0932c6a",
   "metadata": {
    "execution": {
     "iopub.execute_input": "2023-08-30T04:00:22.765387Z",
     "iopub.status.busy": "2023-08-30T04:00:22.765149Z",
     "iopub.status.idle": "2023-08-30T04:00:22.786607Z",
     "shell.execute_reply": "2023-08-30T04:00:22.786000Z"
    },
    "papermill": {
     "duration": 0.02977,
     "end_time": "2023-08-30T04:00:22.787896",
     "exception": false,
     "start_time": "2023-08-30T04:00:22.758126",
     "status": "completed"
    },
    "tags": []
   },
   "outputs": [],
   "source": [
    "# sort genes by starting position to make visualizations better later\n",
    "genes_chr = genes_chr.sort_values(\"start_position\")"
   ]
  },
  {
   "cell_type": "code",
   "execution_count": 27,
   "id": "a38aa74a-8ad3-47f6-8ef9-56be0e011774",
   "metadata": {
    "execution": {
     "iopub.execute_input": "2023-08-30T04:00:22.801758Z",
     "iopub.status.busy": "2023-08-30T04:00:22.801201Z",
     "iopub.status.idle": "2023-08-30T04:00:22.831266Z",
     "shell.execute_reply": "2023-08-30T04:00:22.830718Z"
    },
    "papermill": {
     "duration": 0.038381,
     "end_time": "2023-08-30T04:00:22.832543",
     "exception": false,
     "start_time": "2023-08-30T04:00:22.794162",
     "status": "completed"
    },
    "tags": []
   },
   "outputs": [],
   "source": [
    "gene_chr_objs = [Gene(ensembl_id=gene_id) for gene_id in genes_chr[\"id\"]]"
   ]
  },
  {
   "cell_type": "code",
   "execution_count": 28,
   "id": "570f974f-13c3-42b6-ad3a-ce99ca885c1a",
   "metadata": {
    "execution": {
     "iopub.execute_input": "2023-08-30T04:00:22.847706Z",
     "iopub.status.busy": "2023-08-30T04:00:22.847064Z",
     "iopub.status.idle": "2023-08-30T04:00:22.879498Z",
     "shell.execute_reply": "2023-08-30T04:00:22.878760Z"
    },
    "papermill": {
     "duration": 0.041386,
     "end_time": "2023-08-30T04:00:22.880871",
     "exception": false,
     "start_time": "2023-08-30T04:00:22.839485",
     "status": "completed"
    },
    "tags": []
   },
   "outputs": [
    {
     "name": "stdout",
     "output_type": "stream",
     "text": [
      "Number of gene combinations: 30135\n"
     ]
    }
   ],
   "source": [
    "n = len(gene_chr_objs)\n",
    "# diagonal elements + upper triangular matrix\n",
    "n_comb = n + int(n * (n - 1) / 2.0)\n",
    "print(f\"Number of gene combinations: {n_comb}\", flush=True)"
   ]
  },
  {
   "cell_type": "code",
   "execution_count": 29,
   "id": "cdbb90a1",
   "metadata": {
    "execution": {
     "iopub.execute_input": "2023-08-30T04:00:22.895517Z",
     "iopub.status.busy": "2023-08-30T04:00:22.894995Z",
     "iopub.status.idle": "2023-08-30T04:04:51.309250Z",
     "shell.execute_reply": "2023-08-30T04:04:51.308717Z"
    },
    "papermill": {
     "duration": 268.423618,
     "end_time": "2023-08-30T04:04:51.310849",
     "exception": false,
     "start_time": "2023-08-30T04:00:22.887231",
     "status": "completed"
    },
    "tags": []
   },
   "outputs": [
    {
     "name": "stderr",
     "output_type": "stream",
     "text": [
      "ENSG00000181090 / ENSG00000181090: 100%|█████████████████████| 30135/30135 [04:28<00:00, 112.29it/s]\n"
     ]
    },
    {
     "data": {
      "text/plain": [
       "PosixPath('/opt/data/projects/chronotype/results/gls_phenoplier/gene_corrs/chronotype/by_chr/gene_corrs-chr9.pkl')"
      ]
     },
     "metadata": {},
     "output_type": "display_data"
    }
   ],
   "source": [
    "gene_corrs = []\n",
    "gene_corrs_data = np.full(\n",
    "    (n, n),\n",
    "    np.nan,\n",
    "    dtype=np.float64,\n",
    ")\n",
    "\n",
    "i = 0\n",
    "with tqdm(ncols=100, total=n_comb) as pbar:\n",
    "    for gene1_idx in range(0, len(gene_chr_objs)):\n",
    "        gene1_obj = gene_chr_objs[gene1_idx]\n",
    "        gene1_tissues = spredixcan_genes_models.loc[gene1_obj.ensembl_id, \"tissue\"]\n",
    "\n",
    "        for gene2_idx in range(gene1_idx, len(gene_chr_objs)):\n",
    "            gene2_obj = gene_chr_objs[gene2_idx]\n",
    "            gene2_tissues = spredixcan_genes_models.loc[gene2_obj.ensembl_id, \"tissue\"]\n",
    "\n",
    "            pbar.set_description(f\"{gene1_obj.ensembl_id} / {gene2_obj.ensembl_id}\")\n",
    "\n",
    "            try:\n",
    "                r = gene1_obj.get_ssm_correlation(\n",
    "                    other_gene=gene2_obj,\n",
    "                    tissues=gene1_tissues,\n",
    "                    other_tissues=gene2_tissues,\n",
    "                    snps_subset=gwas_variants_ids_set,\n",
    "                    condition_number=SMULTIXCAN_CONDITION_NUMBER,\n",
    "                    reference_panel=REFERENCE_PANEL,\n",
    "                    model_type=EQTL_MODEL,\n",
    "                    use_within_distance=COMPUTE_CORRELATIONS_WITHIN_DISTANCE,\n",
    "                )\n",
    "\n",
    "                if r is None:\n",
    "                    # if r is None, it's very likely because:\n",
    "                    #  * one of the genes has no prediction models\n",
    "                    #  * all the SNPs predictors for the gene are not present in the reference\n",
    "                    #    panel\n",
    "\n",
    "                    r = 0.0\n",
    "\n",
    "                gene_corrs.append(r)\n",
    "\n",
    "                gene_corrs_data[gene1_idx, gene2_idx] = r\n",
    "                gene_corrs_data[gene2_idx, gene1_idx] = r\n",
    "            except Warning as e:\n",
    "                if not DEBUG_MODE:\n",
    "                    raise e\n",
    "\n",
    "                print(\n",
    "                    f\"RuntimeWarning for genes {gene1_obj.ensembl_id} and {gene2_obj.ensembl_id}\",\n",
    "                    flush=True,\n",
    "                )\n",
    "                print(traceback.format_exc(), flush=True)\n",
    "\n",
    "                gene_corrs.append(np.nan)\n",
    "            except Exception as e:\n",
    "                if not DEBUG_MODE:\n",
    "                    raise e\n",
    "\n",
    "                print(\n",
    "                    f\"Exception for genes {gene1_obj.ensembl_id} and {gene2_obj.ensembl_id}\",\n",
    "                    flush=True,\n",
    "                )\n",
    "                print(traceback.format_exc(), flush=True)\n",
    "\n",
    "                gene_corrs.append(np.nan)\n",
    "\n",
    "            pbar.update(1)\n",
    "\n",
    "# create a pandas series\n",
    "gene_corrs_flat = pd.Series(gene_corrs)\n",
    "\n",
    "# save\n",
    "# FIXME: consider saving only the condenced matrix here. See here for\n",
    "# more details: https://github.com/greenelab/phenoplier/pull/38#discussion_r634600813\n",
    "# gene_corrs_data = squareform(np.array(gene_corrs, dtype=np.float64))\n",
    "# np.fill_diagonal(gene_corrs_data, 1.0)\n",
    "\n",
    "gene_chr_ids = [g.ensembl_id for g in gene_chr_objs]\n",
    "gene_corrs_df = pd.DataFrame(\n",
    "    data=gene_corrs_data,\n",
    "    index=gene_chr_ids,\n",
    "    columns=gene_chr_ids,\n",
    ")\n",
    "\n",
    "output_dir.mkdir(exist_ok=True, parents=True)\n",
    "display(output_file)\n",
    "\n",
    "gene_corrs_df.to_pickle(output_file)"
   ]
  },
  {
   "cell_type": "markdown",
   "id": "faa67b51-5373-470f-aa72-2ded53fa6dfe",
   "metadata": {
    "papermill": {
     "duration": 0.990115,
     "end_time": "2023-08-30T04:04:53.290117",
     "exception": false,
     "start_time": "2023-08-30T04:04:52.300002",
     "status": "completed"
    },
    "tags": []
   },
   "source": [
    "# Testing"
   ]
  },
  {
   "cell_type": "code",
   "execution_count": 30,
   "id": "14f7d046-4b55-4896-a56b-990127bcc388",
   "metadata": {
    "execution": {
     "iopub.execute_input": "2023-08-30T04:04:55.161704Z",
     "iopub.status.busy": "2023-08-30T04:04:55.161335Z",
     "iopub.status.idle": "2023-08-30T04:04:55.183760Z",
     "shell.execute_reply": "2023-08-30T04:04:55.183136Z"
    },
    "papermill": {
     "duration": 0.939661,
     "end_time": "2023-08-30T04:04:55.184799",
     "exception": false,
     "start_time": "2023-08-30T04:04:54.245138",
     "status": "completed"
    },
    "tags": []
   },
   "outputs": [
    {
     "data": {
      "text/plain": [
       "(245, 245)"
      ]
     },
     "execution_count": 30,
     "metadata": {},
     "output_type": "execute_result"
    }
   ],
   "source": [
    "gene_corrs_df.shape"
   ]
  },
  {
   "cell_type": "code",
   "execution_count": 31,
   "id": "c7d15414-3297-4537-a7c6-7588c0baeb75",
   "metadata": {
    "execution": {
     "iopub.execute_input": "2023-08-30T04:04:57.157137Z",
     "iopub.status.busy": "2023-08-30T04:04:57.156776Z",
     "iopub.status.idle": "2023-08-30T04:04:57.192584Z",
     "shell.execute_reply": "2023-08-30T04:04:57.191962Z"
    },
    "papermill": {
     "duration": 0.994107,
     "end_time": "2023-08-30T04:04:57.193488",
     "exception": false,
     "start_time": "2023-08-30T04:04:56.199381",
     "status": "completed"
    },
    "tags": []
   },
   "outputs": [
    {
     "data": {
      "text/html": [
       "<div>\n",
       "<style scoped>\n",
       "    .dataframe tbody tr th:only-of-type {\n",
       "        vertical-align: middle;\n",
       "    }\n",
       "\n",
       "    .dataframe tbody tr th {\n",
       "        vertical-align: top;\n",
       "    }\n",
       "\n",
       "    .dataframe thead th {\n",
       "        text-align: right;\n",
       "    }\n",
       "</style>\n",
       "<table border=\"1\" class=\"dataframe\">\n",
       "  <thead>\n",
       "    <tr style=\"text-align: right;\">\n",
       "      <th></th>\n",
       "      <th>ENSG00000107099</th>\n",
       "      <th>ENSG00000080503</th>\n",
       "      <th>ENSG00000147852</th>\n",
       "      <th>ENSG00000107249</th>\n",
       "      <th>ENSG00000147853</th>\n",
       "      <th>ENSG00000096968</th>\n",
       "      <th>ENSG00000107014</th>\n",
       "      <th>ENSG00000120217</th>\n",
       "      <th>ENSG00000197646</th>\n",
       "      <th>ENSG00000178445</th>\n",
       "      <th>...</th>\n",
       "      <th>ENSG00000107317</th>\n",
       "      <th>ENSG00000169583</th>\n",
       "      <th>ENSG00000107331</th>\n",
       "      <th>ENSG00000054179</th>\n",
       "      <th>ENSG00000177239</th>\n",
       "      <th>ENSG00000176248</th>\n",
       "      <th>ENSG00000176101</th>\n",
       "      <th>ENSG00000188747</th>\n",
       "      <th>ENSG00000182154</th>\n",
       "      <th>ENSG00000181090</th>\n",
       "    </tr>\n",
       "  </thead>\n",
       "  <tbody>\n",
       "    <tr>\n",
       "      <th>ENSG00000107099</th>\n",
       "      <td>1.000000</td>\n",
       "      <td>0.004888</td>\n",
       "      <td>0.014346</td>\n",
       "      <td>0.011179</td>\n",
       "      <td>0.008516</td>\n",
       "      <td>0.010086</td>\n",
       "      <td>0.007350</td>\n",
       "      <td>0.010925</td>\n",
       "      <td>0.000000</td>\n",
       "      <td>0.000000</td>\n",
       "      <td>...</td>\n",
       "      <td>0.0</td>\n",
       "      <td>0.0</td>\n",
       "      <td>0.0</td>\n",
       "      <td>0.0</td>\n",
       "      <td>0.0</td>\n",
       "      <td>0.0</td>\n",
       "      <td>0.0</td>\n",
       "      <td>0.0</td>\n",
       "      <td>0.0</td>\n",
       "      <td>0.0</td>\n",
       "    </tr>\n",
       "    <tr>\n",
       "      <th>ENSG00000080503</th>\n",
       "      <td>0.004888</td>\n",
       "      <td>1.000000</td>\n",
       "      <td>0.013387</td>\n",
       "      <td>0.009019</td>\n",
       "      <td>0.008423</td>\n",
       "      <td>0.010715</td>\n",
       "      <td>0.006403</td>\n",
       "      <td>0.009085</td>\n",
       "      <td>0.005355</td>\n",
       "      <td>0.011907</td>\n",
       "      <td>...</td>\n",
       "      <td>0.0</td>\n",
       "      <td>0.0</td>\n",
       "      <td>0.0</td>\n",
       "      <td>0.0</td>\n",
       "      <td>0.0</td>\n",
       "      <td>0.0</td>\n",
       "      <td>0.0</td>\n",
       "      <td>0.0</td>\n",
       "      <td>0.0</td>\n",
       "      <td>0.0</td>\n",
       "    </tr>\n",
       "    <tr>\n",
       "      <th>ENSG00000147852</th>\n",
       "      <td>0.014346</td>\n",
       "      <td>0.013387</td>\n",
       "      <td>1.000000</td>\n",
       "      <td>0.013510</td>\n",
       "      <td>0.014940</td>\n",
       "      <td>0.019684</td>\n",
       "      <td>0.015293</td>\n",
       "      <td>0.019233</td>\n",
       "      <td>0.009658</td>\n",
       "      <td>0.014789</td>\n",
       "      <td>...</td>\n",
       "      <td>0.0</td>\n",
       "      <td>0.0</td>\n",
       "      <td>0.0</td>\n",
       "      <td>0.0</td>\n",
       "      <td>0.0</td>\n",
       "      <td>0.0</td>\n",
       "      <td>0.0</td>\n",
       "      <td>0.0</td>\n",
       "      <td>0.0</td>\n",
       "      <td>0.0</td>\n",
       "    </tr>\n",
       "    <tr>\n",
       "      <th>ENSG00000107249</th>\n",
       "      <td>0.011179</td>\n",
       "      <td>0.009019</td>\n",
       "      <td>0.013510</td>\n",
       "      <td>1.000000</td>\n",
       "      <td>0.013043</td>\n",
       "      <td>0.012821</td>\n",
       "      <td>0.009166</td>\n",
       "      <td>0.012765</td>\n",
       "      <td>0.004407</td>\n",
       "      <td>0.010986</td>\n",
       "      <td>...</td>\n",
       "      <td>0.0</td>\n",
       "      <td>0.0</td>\n",
       "      <td>0.0</td>\n",
       "      <td>0.0</td>\n",
       "      <td>0.0</td>\n",
       "      <td>0.0</td>\n",
       "      <td>0.0</td>\n",
       "      <td>0.0</td>\n",
       "      <td>0.0</td>\n",
       "      <td>0.0</td>\n",
       "    </tr>\n",
       "    <tr>\n",
       "      <th>ENSG00000147853</th>\n",
       "      <td>0.008516</td>\n",
       "      <td>0.008423</td>\n",
       "      <td>0.014940</td>\n",
       "      <td>0.013043</td>\n",
       "      <td>1.000000</td>\n",
       "      <td>0.035341</td>\n",
       "      <td>0.010092</td>\n",
       "      <td>0.014017</td>\n",
       "      <td>0.008673</td>\n",
       "      <td>0.014867</td>\n",
       "      <td>...</td>\n",
       "      <td>0.0</td>\n",
       "      <td>0.0</td>\n",
       "      <td>0.0</td>\n",
       "      <td>0.0</td>\n",
       "      <td>0.0</td>\n",
       "      <td>0.0</td>\n",
       "      <td>0.0</td>\n",
       "      <td>0.0</td>\n",
       "      <td>0.0</td>\n",
       "      <td>0.0</td>\n",
       "    </tr>\n",
       "  </tbody>\n",
       "</table>\n",
       "<p>5 rows × 245 columns</p>\n",
       "</div>"
      ],
      "text/plain": [
       "                 ENSG00000107099  ENSG00000080503  ENSG00000147852  \\\n",
       "ENSG00000107099         1.000000         0.004888         0.014346   \n",
       "ENSG00000080503         0.004888         1.000000         0.013387   \n",
       "ENSG00000147852         0.014346         0.013387         1.000000   \n",
       "ENSG00000107249         0.011179         0.009019         0.013510   \n",
       "ENSG00000147853         0.008516         0.008423         0.014940   \n",
       "\n",
       "                 ENSG00000107249  ENSG00000147853  ENSG00000096968  \\\n",
       "ENSG00000107099         0.011179         0.008516         0.010086   \n",
       "ENSG00000080503         0.009019         0.008423         0.010715   \n",
       "ENSG00000147852         0.013510         0.014940         0.019684   \n",
       "ENSG00000107249         1.000000         0.013043         0.012821   \n",
       "ENSG00000147853         0.013043         1.000000         0.035341   \n",
       "\n",
       "                 ENSG00000107014  ENSG00000120217  ENSG00000197646  \\\n",
       "ENSG00000107099         0.007350         0.010925         0.000000   \n",
       "ENSG00000080503         0.006403         0.009085         0.005355   \n",
       "ENSG00000147852         0.015293         0.019233         0.009658   \n",
       "ENSG00000107249         0.009166         0.012765         0.004407   \n",
       "ENSG00000147853         0.010092         0.014017         0.008673   \n",
       "\n",
       "                 ENSG00000178445  ...  ENSG00000107317  ENSG00000169583  \\\n",
       "ENSG00000107099         0.000000  ...              0.0              0.0   \n",
       "ENSG00000080503         0.011907  ...              0.0              0.0   \n",
       "ENSG00000147852         0.014789  ...              0.0              0.0   \n",
       "ENSG00000107249         0.010986  ...              0.0              0.0   \n",
       "ENSG00000147853         0.014867  ...              0.0              0.0   \n",
       "\n",
       "                 ENSG00000107331  ENSG00000054179  ENSG00000177239  \\\n",
       "ENSG00000107099              0.0              0.0              0.0   \n",
       "ENSG00000080503              0.0              0.0              0.0   \n",
       "ENSG00000147852              0.0              0.0              0.0   \n",
       "ENSG00000107249              0.0              0.0              0.0   \n",
       "ENSG00000147853              0.0              0.0              0.0   \n",
       "\n",
       "                 ENSG00000176248  ENSG00000176101  ENSG00000188747  \\\n",
       "ENSG00000107099              0.0              0.0              0.0   \n",
       "ENSG00000080503              0.0              0.0              0.0   \n",
       "ENSG00000147852              0.0              0.0              0.0   \n",
       "ENSG00000107249              0.0              0.0              0.0   \n",
       "ENSG00000147853              0.0              0.0              0.0   \n",
       "\n",
       "                 ENSG00000182154  ENSG00000181090  \n",
       "ENSG00000107099              0.0              0.0  \n",
       "ENSG00000080503              0.0              0.0  \n",
       "ENSG00000147852              0.0              0.0  \n",
       "ENSG00000107249              0.0              0.0  \n",
       "ENSG00000147853              0.0              0.0  \n",
       "\n",
       "[5 rows x 245 columns]"
      ]
     },
     "execution_count": 31,
     "metadata": {},
     "output_type": "execute_result"
    }
   ],
   "source": [
    "gene_corrs_df.head()"
   ]
  },
  {
   "cell_type": "markdown",
   "id": "dad6603f-01c6-41fb-a6f6-241051207dd8",
   "metadata": {
    "papermill": {
     "duration": 0.930053,
     "end_time": "2023-08-30T04:04:59.111955",
     "exception": false,
     "start_time": "2023-08-30T04:04:58.181902",
     "status": "completed"
    },
    "tags": []
   },
   "source": [
    "## Standard checks and stats"
   ]
  },
  {
   "cell_type": "code",
   "execution_count": 32,
   "id": "286686af-1b7b-4440-8453-6bdcbd8de19c",
   "metadata": {
    "execution": {
     "iopub.execute_input": "2023-08-30T04:05:00.972132Z",
     "iopub.status.busy": "2023-08-30T04:05:00.971766Z",
     "iopub.status.idle": "2023-08-30T04:05:00.993957Z",
     "shell.execute_reply": "2023-08-30T04:05:00.993285Z"
    },
    "papermill": {
     "duration": 0.952242,
     "end_time": "2023-08-30T04:05:00.995074",
     "exception": false,
     "start_time": "2023-08-30T04:05:00.042832",
     "status": "completed"
    },
    "tags": []
   },
   "outputs": [],
   "source": [
    "assert not gene_corrs_df.isna().any(axis=None)"
   ]
  },
  {
   "cell_type": "code",
   "execution_count": 33,
   "id": "00583efc-7068-4270-ad1e-4a418e91db96",
   "metadata": {
    "execution": {
     "iopub.execute_input": "2023-08-30T04:05:02.888976Z",
     "iopub.status.busy": "2023-08-30T04:05:02.888608Z",
     "iopub.status.idle": "2023-08-30T04:05:02.912083Z",
     "shell.execute_reply": "2023-08-30T04:05:02.911428Z"
    },
    "papermill": {
     "duration": 0.97748,
     "end_time": "2023-08-30T04:05:02.913063",
     "exception": false,
     "start_time": "2023-08-30T04:05:01.935583",
     "status": "completed"
    },
    "tags": []
   },
   "outputs": [
    {
     "data": {
      "text/plain": [
       "0.0"
      ]
     },
     "metadata": {},
     "output_type": "display_data"
    }
   ],
   "source": [
    "_min_val = gene_corrs_df.min().min()\n",
    "display(_min_val)\n",
    "assert _min_val >= -0.05"
   ]
  },
  {
   "cell_type": "code",
   "execution_count": 34,
   "id": "d04fb2cf-1050-475b-b855-f5f7cc04092b",
   "metadata": {
    "execution": {
     "iopub.execute_input": "2023-08-30T04:05:04.790343Z",
     "iopub.status.busy": "2023-08-30T04:05:04.789975Z",
     "iopub.status.idle": "2023-08-30T04:05:04.812718Z",
     "shell.execute_reply": "2023-08-30T04:05:04.812103Z"
    },
    "papermill": {
     "duration": 0.970323,
     "end_time": "2023-08-30T04:05:04.813644",
     "exception": false,
     "start_time": "2023-08-30T04:05:03.843321",
     "status": "completed"
    },
    "tags": []
   },
   "outputs": [
    {
     "data": {
      "text/plain": [
       "1.0000000000000029"
      ]
     },
     "metadata": {},
     "output_type": "display_data"
    }
   ],
   "source": [
    "_max_val = gene_corrs_df.max().max()  # this captures the diagonal\n",
    "display(_max_val)\n",
    "assert _max_val <= 1.05"
   ]
  },
  {
   "cell_type": "code",
   "execution_count": 35,
   "id": "fe283586-c348-40e0-8841-f6d97bfb021c",
   "metadata": {
    "execution": {
     "iopub.execute_input": "2023-08-30T04:05:06.805761Z",
     "iopub.status.busy": "2023-08-30T04:05:06.805469Z",
     "iopub.status.idle": "2023-08-30T04:05:06.830058Z",
     "shell.execute_reply": "2023-08-30T04:05:06.829618Z"
    },
    "papermill": {
     "duration": 0.971809,
     "end_time": "2023-08-30T04:05:06.831253",
     "exception": false,
     "start_time": "2023-08-30T04:05:05.859444",
     "status": "completed"
    },
    "tags": []
   },
   "outputs": [
    {
     "data": {
      "text/plain": [
       "count    30135.000000\n",
       "mean         0.011107\n",
       "std          0.093773\n",
       "min          0.000000\n",
       "25%          0.000000\n",
       "50%          0.000000\n",
       "75%          0.000000\n",
       "max          1.000000\n",
       "dtype: float64"
      ]
     },
     "execution_count": 35,
     "metadata": {},
     "output_type": "execute_result"
    }
   ],
   "source": [
    "gene_corrs_flat.describe()"
   ]
  },
  {
   "cell_type": "code",
   "execution_count": 36,
   "id": "b3815678-0f93-4b35-897b-a9d047a2aa78",
   "metadata": {
    "execution": {
     "iopub.execute_input": "2023-08-30T04:05:08.818706Z",
     "iopub.status.busy": "2023-08-30T04:05:08.818326Z",
     "iopub.status.idle": "2023-08-30T04:05:08.843732Z",
     "shell.execute_reply": "2023-08-30T04:05:08.843196Z"
    },
    "papermill": {
     "duration": 1.046308,
     "end_time": "2023-08-30T04:05:08.844680",
     "exception": false,
     "start_time": "2023-08-30T04:05:07.798372",
     "status": "completed"
    },
    "tags": []
   },
   "outputs": [
    {
     "data": {
      "text/plain": [
       "0.00    0.000000\n",
       "0.05    0.000000\n",
       "0.10    0.000000\n",
       "0.15    0.000000\n",
       "0.20    0.000000\n",
       "0.25    0.000000\n",
       "0.30    0.000000\n",
       "0.35    0.000000\n",
       "0.40    0.000000\n",
       "0.45    0.000000\n",
       "0.50    0.000000\n",
       "0.55    0.000000\n",
       "0.60    0.000000\n",
       "0.65    0.000000\n",
       "0.70    0.000000\n",
       "0.75    0.000000\n",
       "0.80    0.000000\n",
       "0.85    0.000000\n",
       "0.90    0.004224\n",
       "0.95    0.008691\n",
       "dtype: float64"
      ]
     },
     "metadata": {},
     "output_type": "display_data"
    }
   ],
   "source": [
    "gene_corrs_quantiles = gene_corrs_flat.quantile(np.arange(0, 1, 0.05))\n",
    "display(gene_corrs_quantiles)"
   ]
  },
  {
   "cell_type": "markdown",
   "id": "87134509-b145-4a10-8bc9-b7e914c2b0fa",
   "metadata": {
    "papermill": {
     "duration": 1.063062,
     "end_time": "2023-08-30T04:05:10.941719",
     "exception": false,
     "start_time": "2023-08-30T04:05:09.878657",
     "status": "completed"
    },
    "tags": []
   },
   "source": [
    "## Positive definiteness"
   ]
  },
  {
   "cell_type": "code",
   "execution_count": 37,
   "id": "07d9a9a1-a4f7-48aa-b916-6d42a8cc6186",
   "metadata": {
    "execution": {
     "iopub.execute_input": "2023-08-30T04:05:12.983733Z",
     "iopub.status.busy": "2023-08-30T04:05:12.983268Z",
     "iopub.status.idle": "2023-08-30T04:05:13.010874Z",
     "shell.execute_reply": "2023-08-30T04:05:13.010382Z"
    },
    "papermill": {
     "duration": 1.071893,
     "end_time": "2023-08-30T04:05:13.011804",
     "exception": false,
     "start_time": "2023-08-30T04:05:11.939911",
     "status": "completed"
    },
    "tags": []
   },
   "outputs": [
    {
     "data": {
      "text/plain": [
       "0"
      ]
     },
     "metadata": {},
     "output_type": "display_data"
    },
    {
     "data": {
      "text/plain": [
       "array([], dtype=float64)"
      ]
     },
     "metadata": {},
     "output_type": "display_data"
    }
   ],
   "source": [
    "# print negative eigenvalues\n",
    "eigs = np.linalg.eigvals(gene_corrs_df.to_numpy())\n",
    "display(len(eigs[eigs < 0]))\n",
    "display(eigs[eigs < 0])"
   ]
  },
  {
   "cell_type": "code",
   "execution_count": 38,
   "id": "6e218436-c3c5-4028-8c94-a4fa6260efce",
   "metadata": {
    "execution": {
     "iopub.execute_input": "2023-08-30T04:05:15.013105Z",
     "iopub.status.busy": "2023-08-30T04:05:15.012467Z",
     "iopub.status.idle": "2023-08-30T04:05:15.042094Z",
     "shell.execute_reply": "2023-08-30T04:05:15.041226Z"
    },
    "papermill": {
     "duration": 1.040308,
     "end_time": "2023-08-30T04:05:15.043205",
     "exception": false,
     "start_time": "2023-08-30T04:05:14.002897",
     "status": "completed"
    },
    "tags": []
   },
   "outputs": [
    {
     "name": "stdout",
     "output_type": "stream",
     "text": [
      "Works!\n"
     ]
    }
   ],
   "source": [
    "try:\n",
    "    chol_mat = np.linalg.cholesky(gene_corrs_df.to_numpy())\n",
    "    cov_inv = np.linalg.inv(chol_mat)\n",
    "    print(\"Works!\")\n",
    "except Exception as e:\n",
    "    print(f\"Cholesky decomposition failed: {str(e)}\")"
   ]
  },
  {
   "cell_type": "code",
   "execution_count": 39,
   "id": "dd8827fb-faf9-4c7c-9454-015e94752706",
   "metadata": {
    "execution": {
     "iopub.execute_input": "2023-08-30T04:05:17.005467Z",
     "iopub.status.busy": "2023-08-30T04:05:17.005005Z",
     "iopub.status.idle": "2023-08-30T04:05:17.032346Z",
     "shell.execute_reply": "2023-08-30T04:05:17.031790Z"
    },
    "papermill": {
     "duration": 1.013934,
     "end_time": "2023-08-30T04:05:17.033280",
     "exception": false,
     "start_time": "2023-08-30T04:05:16.019346",
     "status": "completed"
    },
    "tags": []
   },
   "outputs": [
    {
     "name": "stdout",
     "output_type": "stream",
     "text": [
      "Works!\n"
     ]
    }
   ],
   "source": [
    "try:\n",
    "    # decomposition used by statsmodels.GLS\n",
    "    cholsigmainv = np.linalg.cholesky(np.linalg.inv(gene_corrs_df.to_numpy())).T\n",
    "    print(\"Works!\")\n",
    "except Exception as e:\n",
    "    print(f\"Cholesky decomposition failed (statsmodels.GLS): {str(e)}\")"
   ]
  },
  {
   "cell_type": "markdown",
   "id": "8e60a080-edb2-4e9c-b2ef-22961693200c",
   "metadata": {
    "papermill": {
     "duration": 0.993846,
     "end_time": "2023-08-30T04:05:18.974281",
     "exception": false,
     "start_time": "2023-08-30T04:05:17.980435",
     "status": "completed"
    },
    "tags": []
   },
   "source": [
    "## Plot: distribution"
   ]
  },
  {
   "cell_type": "code",
   "execution_count": 40,
   "id": "8301126b-a7d4-4744-9c7d-f0f86eb6f54c",
   "metadata": {
    "execution": {
     "iopub.execute_input": "2023-08-30T04:05:20.848329Z",
     "iopub.status.busy": "2023-08-30T04:05:20.847761Z",
     "iopub.status.idle": "2023-08-30T04:05:21.202650Z",
     "shell.execute_reply": "2023-08-30T04:05:21.202117Z"
    },
    "papermill": {
     "duration": 1.294955,
     "end_time": "2023-08-30T04:05:21.203898",
     "exception": false,
     "start_time": "2023-08-30T04:05:19.908943",
     "status": "completed"
    },
    "tags": []
   },
   "outputs": [
    {
     "data": {
      "image/png": "[encoded data removed]",
      "text/plain": [
       "<Figure size 700x700 with 1 Axes>"
      ]
     },
     "metadata": {},
     "output_type": "display_data"
    }
   ],
   "source": [
    "with sns.plotting_context(\"paper\", font_scale=1.5):\n",
    "    g = sns.displot(gene_corrs_flat, kde=True, height=7)\n",
    "    g.ax.set_title(\n",
    "        f\"Distribution of gene correlation values in chromosome {CHROMOSOME}\"\n",
    "    )"
   ]
  },
  {
   "cell_type": "markdown",
   "id": "cbd52bca-d878-4a2f-b684-5c83aa3038d4",
   "metadata": {
    "papermill": {
     "duration": 1.031045,
     "end_time": "2023-08-30T04:05:23.229837",
     "exception": false,
     "start_time": "2023-08-30T04:05:22.198792",
     "status": "completed"
    },
    "tags": []
   },
   "source": [
    "## Plot: heatmap"
   ]
  },
  {
   "cell_type": "code",
   "execution_count": 41,
   "id": "d03fe63a-c7b2-4fb9-a53c-db362ce843c9",
   "metadata": {
    "execution": {
     "iopub.execute_input": "2023-08-30T04:05:25.212581Z",
     "iopub.status.busy": "2023-08-30T04:05:25.211915Z",
     "iopub.status.idle": "2023-08-30T04:05:25.234373Z",
     "shell.execute_reply": "2023-08-30T04:05:25.233795Z"
    },
    "papermill": {
     "duration": 0.948329,
     "end_time": "2023-08-30T04:05:25.235385",
     "exception": false,
     "start_time": "2023-08-30T04:05:24.287056",
     "status": "completed"
    },
    "tags": []
   },
   "outputs": [
    {
     "data": {
      "text/plain": [
       "'0.0 / 0.05'"
      ]
     },
     "metadata": {},
     "output_type": "display_data"
    }
   ],
   "source": [
    "vmin_val = min(0.00, gene_corrs_quantiles[0.10])\n",
    "vmax_val = max(0.05, gene_corrs_quantiles[0.90])\n",
    "display(f\"{vmin_val} / {vmax_val}\")"
   ]
  },
  {
   "cell_type": "code",
   "execution_count": 42,
   "id": "dc41b70b-5bcc-4d9e-9f33-a22c4a94dab5",
   "metadata": {
    "execution": {
     "iopub.execute_input": "2023-08-30T04:05:27.084488Z",
     "iopub.status.busy": "2023-08-30T04:05:27.084064Z",
     "iopub.status.idle": "2023-08-30T04:05:27.296631Z",
     "shell.execute_reply": "2023-08-30T04:05:27.296209Z"
    },
    "papermill": {
     "duration": 1.135472,
     "end_time": "2023-08-30T04:05:27.297742",
     "exception": false,
     "start_time": "2023-08-30T04:05:26.162270",
     "status": "completed"
    },
    "tags": []
   },
   "outputs": [
    {
     "data": {
      "text/plain": [
       "Text(0.5, 1.0, 'Gene correlations in chromosome 9')"
      ]
     },
     "execution_count": 42,
     "metadata": {},
     "output_type": "execute_result"
    },
    {
     "data": {
      "image/png": "[encoded data removed]",
      "text/plain": [
       "<Figure size 1000x1000 with 2 Axes>"
      ]
     },
     "metadata": {},
     "output_type": "display_data"
    }
   ],
   "source": [
    "f, ax = plt.subplots(figsize=(10, 10))\n",
    "sns.heatmap(\n",
    "    gene_corrs_df,\n",
    "    xticklabels=False,\n",
    "    yticklabels=False,\n",
    "    square=True,\n",
    "    vmin=vmin_val,\n",
    "    vmax=vmax_val,\n",
    "    cmap=\"rocket_r\",\n",
    "    ax=ax,\n",
    ")\n",
    "ax.set_title(f\"Gene correlations in chromosome {CHROMOSOME}\")"
   ]
  },
  {
   "cell_type": "code",
   "execution_count": null,
   "id": "b25e3ead",
   "metadata": {
    "papermill": {
     "duration": 0.998751,
     "end_time": "2023-08-30T04:05:29.267081",
     "exception": false,
     "start_time": "2023-08-30T04:05:28.268330",
     "status": "completed"
    },
    "tags": []
   },
   "outputs": [],
   "source": []
  }
 ],
 "metadata": {
  "jupytext": {
   "cell_metadata_filter": "all,-execution,-papermill,-trusted",
   "formats": "ipynb,py//py:percent"
  },
  "kernelspec": {
   "display_name": "Python 3 (ipykernel)",
   "language": "python",
   "name": "python3"
  },
  "language_info": {
   "codemirror_mode": {
    "name": "ipython",
    "version": 3
   },
   "file_extension": ".py",
   "mimetype": "text/x-python",
   "name": "python",
   "nbconvert_exporter": "python",
   "pygments_lexer": "ipython3",
   "version": "3.10.6"
  },
  "papermill": {
   "default_parameters": {},
   "duration": 322.138077,
   "end_time": "2023-08-30T04:05:33.256007",
   "environment_variables": {},
   "exception": null,
   "input_path": "projects/chronotype/nbs/20_gene_corrs/jobs/05-gene_expr_correlations.ipynb",
   "output_path": "projects/chronotype/nbs/20_gene_corrs/jobs/../output/chronotype/05-gene_expr_correlations-chr9.run.ipynb",
   "parameters": {
    "CHROMOSOME": 9,
    "COHORT_NAME": "chronotype",
    "OUTPUT_DIR_BASE": "/opt/data/projects/chronotype/results/gls_phenoplier",
    "PHENOPLIER_NOTEBOOK_FILEPATH": "projects/chronotype/nbs/20_gene_corrs/jobs/05-gene_expr_correlations.ipynb"
   },
   "start_time": "2023-08-30T04:00:11.117930",
   "version": "2.2.2"
  }
 },
 "nbformat": 4,
 "nbformat_minor": 5
}
