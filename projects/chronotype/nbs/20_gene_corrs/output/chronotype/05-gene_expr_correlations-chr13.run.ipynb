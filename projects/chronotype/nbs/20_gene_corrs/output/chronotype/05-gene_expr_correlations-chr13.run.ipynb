{
 "cells": [
  {
   "cell_type": "markdown",
   "id": "7a6632fb",
   "metadata": {
    "papermill": {
     "duration": 0.009193,
     "end_time": "2023-08-30T04:00:12.068337",
     "exception": false,
     "start_time": "2023-08-30T04:00:12.059144",
     "status": "completed"
    },
    "tags": []
   },
   "source": [
    "# Description"
   ]
  },
  {
   "cell_type": "markdown",
   "id": "7097c346",
   "metadata": {
    "papermill": {
     "duration": 0.009563,
     "end_time": "2023-08-30T04:00:12.088344",
     "exception": false,
     "start_time": "2023-08-30T04:00:12.078781",
     "status": "completed"
    },
    "tags": []
   },
   "source": [
    "This notebook computes predicted expression correlations between all genes in the MultiPLIER models.\n",
    "\n",
    "It has specicfic parameters for papermill (see under `Settings` below).\n",
    "\n",
    "This notebook should not be directly run. It is used by other notebooks."
   ]
  },
  {
   "cell_type": "markdown",
   "id": "c61d8427",
   "metadata": {
    "papermill": {
     "duration": 0.008516,
     "end_time": "2023-08-30T04:00:12.105522",
     "exception": false,
     "start_time": "2023-08-30T04:00:12.097006",
     "status": "completed"
    },
    "tags": []
   },
   "source": [
    "# Modules"
   ]
  },
  {
   "cell_type": "code",
   "execution_count": 1,
   "id": "bbc0234f",
   "metadata": {
    "execution": {
     "iopub.execute_input": "2023-08-30T04:00:12.124292Z",
     "iopub.status.busy": "2023-08-30T04:00:12.123829Z",
     "iopub.status.idle": "2023-08-30T04:00:12.137415Z",
     "shell.execute_reply": "2023-08-30T04:00:12.137020Z"
    },
    "papermill": {
     "duration": 0.024028,
     "end_time": "2023-08-30T04:00:12.138652",
     "exception": false,
     "start_time": "2023-08-30T04:00:12.114624",
     "status": "completed"
    },
    "tags": []
   },
   "outputs": [],
   "source": [
    "%load_ext autoreload\n",
    "%autoreload 2"
   ]
  },
  {
   "cell_type": "code",
   "execution_count": 2,
   "id": "1d5f5a59",
   "metadata": {
    "execution": {
     "iopub.execute_input": "2023-08-30T04:00:12.148938Z",
     "iopub.status.busy": "2023-08-30T04:00:12.148302Z",
     "iopub.status.idle": "2023-08-30T04:00:12.939925Z",
     "shell.execute_reply": "2023-08-30T04:00:12.939565Z"
    },
    "papermill": {
     "duration": 0.797899,
     "end_time": "2023-08-30T04:00:12.941049",
     "exception": false,
     "start_time": "2023-08-30T04:00:12.143150",
     "status": "completed"
    },
    "tags": []
   },
   "outputs": [],
   "source": [
    "from random import sample, seed\n",
    "import warnings\n",
    "from pathlib import Path\n",
    "import pickle\n",
    "import traceback\n",
    "\n",
    "import numpy as np\n",
    "from scipy.spatial.distance import squareform\n",
    "import pandas as pd\n",
    "from tqdm import tqdm\n",
    "import matplotlib.pyplot as plt\n",
    "import seaborn as sns\n",
    "\n",
    "import conf\n",
    "from entity import Gene"
   ]
  },
  {
   "cell_type": "markdown",
   "id": "1eac24b5",
   "metadata": {
    "papermill": {
     "duration": 0.006487,
     "end_time": "2023-08-30T04:00:12.952114",
     "exception": false,
     "start_time": "2023-08-30T04:00:12.945627",
     "status": "completed"
    },
    "tags": []
   },
   "source": [
    "# Settings"
   ]
  },
  {
   "cell_type": "code",
   "execution_count": 3,
   "id": "ca4560ba",
   "metadata": {
    "execution": {
     "iopub.execute_input": "2023-08-30T04:00:12.968800Z",
     "iopub.status.busy": "2023-08-30T04:00:12.968350Z",
     "iopub.status.idle": "2023-08-30T04:00:12.995118Z",
     "shell.execute_reply": "2023-08-30T04:00:12.994698Z"
    },
    "papermill": {
     "duration": 0.036574,
     "end_time": "2023-08-30T04:00:12.996205",
     "exception": false,
     "start_time": "2023-08-30T04:00:12.959631",
     "status": "completed"
    },
    "tags": [
     "parameters"
    ]
   },
   "outputs": [],
   "source": [
    "# a cohort name (it could be something like UK_BIOBANK, etc)\n",
    "COHORT_NAME = None\n",
    "\n",
    "# reference panel such as 1000G or GTEX_V8\n",
    "REFERENCE_PANEL = \"GTEX_V8\"\n",
    "\n",
    "# predictions models such as MASHR or ELASTIC_NET\n",
    "EQTL_MODEL = \"MASHR\"\n",
    "\n",
    "# this is the default value used in S-MultiXcan to select the\n",
    "# top principal components of the expression correlation matrix\n",
    "SMULTIXCAN_CONDITION_NUMBER = 30\n",
    "\n",
    "# specifies a single chromosome value\n",
    "CHROMOSOME = None\n",
    "\n",
    "# If True, computes the correlation between closeby genes only (see\n",
    "# entity.Gene.within_distance for more details). Otherwise, it computes\n",
    "# correlations for all genes in a chromosome\n",
    "COMPUTE_CORRELATIONS_WITHIN_DISTANCE = True\n",
    "\n",
    "# if True, then it will continue if a gene pair correlation fails,\n",
    "# printing the warning/error for debugging. If False, any warning/error\n",
    "# will be thrown\n",
    "DEBUG_MODE = False\n",
    "\n",
    "# output dir\n",
    "OUTPUT_DIR_BASE = None"
   ]
  },
  {
   "cell_type": "code",
   "execution_count": 4,
   "id": "3dfd3060",
   "metadata": {
    "execution": {
     "iopub.execute_input": "2023-08-30T04:00:13.009747Z",
     "iopub.status.busy": "2023-08-30T04:00:13.009508Z",
     "iopub.status.idle": "2023-08-30T04:00:13.033722Z",
     "shell.execute_reply": "2023-08-30T04:00:13.033038Z"
    },
    "papermill": {
     "duration": 0.03413,
     "end_time": "2023-08-30T04:00:13.034924",
     "exception": false,
     "start_time": "2023-08-30T04:00:13.000794",
     "status": "completed"
    },
    "tags": [
     "injected-parameters"
    ]
   },
   "outputs": [],
   "source": [
    "# Parameters\n",
    "PHENOPLIER_NOTEBOOK_FILEPATH = (\n",
    "    \"projects/chronotype/nbs/20_gene_corrs/jobs/05-gene_expr_correlations.ipynb\"\n",
    ")\n",
    "COHORT_NAME = \"chronotype\"\n",
    "CHROMOSOME = 13\n",
    "OUTPUT_DIR_BASE = \"/opt/data/projects/chronotype/results/gls_phenoplier\"\n"
   ]
  },
  {
   "cell_type": "code",
   "execution_count": 5,
   "id": "3190631f-27fc-480f-b18e-571d580425a5",
   "metadata": {
    "execution": {
     "iopub.execute_input": "2023-08-30T04:00:13.049784Z",
     "iopub.status.busy": "2023-08-30T04:00:13.049248Z",
     "iopub.status.idle": "2023-08-30T04:00:13.078253Z",
     "shell.execute_reply": "2023-08-30T04:00:13.077845Z"
    },
    "papermill": {
     "duration": 0.041704,
     "end_time": "2023-08-30T04:00:13.081243",
     "exception": false,
     "start_time": "2023-08-30T04:00:13.039539",
     "status": "completed"
    },
    "tags": []
   },
   "outputs": [
    {
     "data": {
      "text/plain": [
       "'Cohort name: chronotype'"
      ]
     },
     "metadata": {},
     "output_type": "display_data"
    }
   ],
   "source": [
    "assert COHORT_NAME is not None and len(COHORT_NAME) > 0, \"A cohort name must be given\"\n",
    "\n",
    "COHORT_NAME = COHORT_NAME.lower()\n",
    "display(f\"Cohort name: {COHORT_NAME}\")"
   ]
  },
  {
   "cell_type": "code",
   "execution_count": 6,
   "id": "f53ba19b-0f93-4fa2-a047-63b375939d1a",
   "metadata": {
    "execution": {
     "iopub.execute_input": "2023-08-30T04:00:13.110920Z",
     "iopub.status.busy": "2023-08-30T04:00:13.110697Z",
     "iopub.status.idle": "2023-08-30T04:00:13.139915Z",
     "shell.execute_reply": "2023-08-30T04:00:13.139272Z"
    },
    "papermill": {
     "duration": 0.044325,
     "end_time": "2023-08-30T04:00:13.142044",
     "exception": false,
     "start_time": "2023-08-30T04:00:13.097719",
     "status": "completed"
    },
    "tags": []
   },
   "outputs": [
    {
     "data": {
      "text/plain": [
       "'Reference panel: GTEX_V8'"
      ]
     },
     "metadata": {},
     "output_type": "display_data"
    }
   ],
   "source": [
    "assert (\n",
    "    REFERENCE_PANEL is not None and len(REFERENCE_PANEL) > 0\n",
    "), \"A reference panel must be given\"\n",
    "\n",
    "display(f\"Reference panel: {REFERENCE_PANEL}\")"
   ]
  },
  {
   "cell_type": "code",
   "execution_count": 7,
   "id": "e024d130-c139-429a-9c6e-ccf149e297b0",
   "metadata": {
    "execution": {
     "iopub.execute_input": "2023-08-30T04:00:13.165643Z",
     "iopub.status.busy": "2023-08-30T04:00:13.165433Z",
     "iopub.status.idle": "2023-08-30T04:00:13.190706Z",
     "shell.execute_reply": "2023-08-30T04:00:13.190286Z"
    },
    "papermill": {
     "duration": 0.035884,
     "end_time": "2023-08-30T04:00:13.191647",
     "exception": false,
     "start_time": "2023-08-30T04:00:13.155763",
     "status": "completed"
    },
    "tags": []
   },
   "outputs": [
    {
     "data": {
      "text/plain": [
       "'eQTL model: MASHR) / mashr_'"
      ]
     },
     "metadata": {},
     "output_type": "display_data"
    }
   ],
   "source": [
    "assert (\n",
    "    EQTL_MODEL is not None and len(EQTL_MODEL) > 0\n",
    "), \"A prediction/eQTL model must be given\"\n",
    "\n",
    "EQTL_MODEL_FILES_PREFIX = conf.PHENOMEXCAN[\"PREDICTION_MODELS\"][f\"{EQTL_MODEL}_PREFIX\"]\n",
    "display(f\"eQTL model: {EQTL_MODEL}) / {EQTL_MODEL_FILES_PREFIX}\")"
   ]
  },
  {
   "cell_type": "code",
   "execution_count": 8,
   "id": "552a7f63-a18c-4d3e-bb6a-94f99b431291",
   "metadata": {
    "execution": {
     "iopub.execute_input": "2023-08-30T04:00:13.206135Z",
     "iopub.status.busy": "2023-08-30T04:00:13.205924Z",
     "iopub.status.idle": "2023-08-30T04:00:13.232673Z",
     "shell.execute_reply": "2023-08-30T04:00:13.232070Z"
    },
    "papermill": {
     "duration": 0.036059,
     "end_time": "2023-08-30T04:00:13.233633",
     "exception": false,
     "start_time": "2023-08-30T04:00:13.197574",
     "status": "completed"
    },
    "tags": []
   },
   "outputs": [
    {
     "data": {
      "text/plain": [
       "'S-MultiXcan condition number: 30'"
      ]
     },
     "metadata": {},
     "output_type": "display_data"
    }
   ],
   "source": [
    "assert (\n",
    "    SMULTIXCAN_CONDITION_NUMBER is not None and SMULTIXCAN_CONDITION_NUMBER > 0\n",
    "), \"The S-MultiXcan condition number (positive integer) must be given\"\n",
    "\n",
    "display(f\"S-MultiXcan condition number: {SMULTIXCAN_CONDITION_NUMBER}\")"
   ]
  },
  {
   "cell_type": "code",
   "execution_count": 9,
   "id": "f34a336f-548e-4afe-8955-90eaea4f42c6",
   "metadata": {
    "execution": {
     "iopub.execute_input": "2023-08-30T04:00:13.244553Z",
     "iopub.status.busy": "2023-08-30T04:00:13.244333Z",
     "iopub.status.idle": "2023-08-30T04:00:13.271148Z",
     "shell.execute_reply": "2023-08-30T04:00:13.270549Z"
    },
    "papermill": {
     "duration": 0.033265,
     "end_time": "2023-08-30T04:00:13.272118",
     "exception": false,
     "start_time": "2023-08-30T04:00:13.238853",
     "status": "completed"
    },
    "tags": []
   },
   "outputs": [
    {
     "data": {
      "text/plain": [
       "'Working on chromosome 13'"
      ]
     },
     "metadata": {},
     "output_type": "display_data"
    }
   ],
   "source": [
    "assert CHROMOSOME is not None and (\n",
    "    1 <= CHROMOSOME <= 22\n",
    "), \"You have to select one chromosome (format: number between 1 and 22)\"\n",
    "\n",
    "display(f\"Working on chromosome {CHROMOSOME}\")"
   ]
  },
  {
   "cell_type": "code",
   "execution_count": 10,
   "id": "ab8e96e8-06b5-4363-9dcd-dc4d78cc27f7",
   "metadata": {
    "execution": {
     "iopub.execute_input": "2023-08-30T04:00:13.282877Z",
     "iopub.status.busy": "2023-08-30T04:00:13.282532Z",
     "iopub.status.idle": "2023-08-30T04:00:13.301936Z",
     "shell.execute_reply": "2023-08-30T04:00:13.301551Z"
    },
    "papermill": {
     "duration": 0.025744,
     "end_time": "2023-08-30T04:00:13.302787",
     "exception": false,
     "start_time": "2023-08-30T04:00:13.277043",
     "status": "completed"
    },
    "tags": []
   },
   "outputs": [
    {
     "data": {
      "text/plain": [
       "'Compute correlation within distance True'"
      ]
     },
     "metadata": {},
     "output_type": "display_data"
    }
   ],
   "source": [
    "display(f\"Compute correlation within distance {COMPUTE_CORRELATIONS_WITHIN_DISTANCE}\")"
   ]
  },
  {
   "cell_type": "code",
   "execution_count": 11,
   "id": "b393b698-77e3-4ba2-8ac1-e14d51aa988f",
   "metadata": {
    "execution": {
     "iopub.execute_input": "2023-08-30T04:00:13.313878Z",
     "iopub.status.busy": "2023-08-30T04:00:13.313545Z",
     "iopub.status.idle": "2023-08-30T04:00:13.334528Z",
     "shell.execute_reply": "2023-08-30T04:00:13.334214Z"
    },
    "papermill": {
     "duration": 0.02788,
     "end_time": "2023-08-30T04:00:13.335656",
     "exception": false,
     "start_time": "2023-08-30T04:00:13.307776",
     "status": "completed"
    },
    "tags": []
   },
   "outputs": [
    {
     "data": {
      "text/plain": [
       "'Using output dir base: /opt/data/projects/chronotype/results/gls_phenoplier/gene_corrs/chronotype'"
      ]
     },
     "metadata": {},
     "output_type": "display_data"
    }
   ],
   "source": [
    "assert (\n",
    "    OUTPUT_DIR_BASE is not None and len(OUTPUT_DIR_BASE) > 0\n",
    "), \"Output directory path must be given\"\n",
    "\n",
    "OUTPUT_DIR_BASE = (Path(OUTPUT_DIR_BASE) / \"gene_corrs\" / COHORT_NAME).resolve()\n",
    "\n",
    "OUTPUT_DIR_BASE.mkdir(parents=True, exist_ok=True)\n",
    "\n",
    "display(f\"Using output dir base: {OUTPUT_DIR_BASE}\")"
   ]
  },
  {
   "cell_type": "markdown",
   "id": "d2ba085e",
   "metadata": {
    "papermill": {
     "duration": 0.009752,
     "end_time": "2023-08-30T04:00:13.355584",
     "exception": false,
     "start_time": "2023-08-30T04:00:13.345832",
     "status": "completed"
    },
    "tags": []
   },
   "source": [
    "# Load data"
   ]
  },
  {
   "cell_type": "markdown",
   "id": "7dcb8db7",
   "metadata": {
    "papermill": {
     "duration": 0.015468,
     "end_time": "2023-08-30T04:00:13.381424",
     "exception": false,
     "start_time": "2023-08-30T04:00:13.365956",
     "status": "completed"
    },
    "tags": []
   },
   "source": [
    "## GWAS variants"
   ]
  },
  {
   "cell_type": "code",
   "execution_count": 12,
   "id": "29434c4e-8cd3-4b9b-82e4-b5a251d9dd19",
   "metadata": {
    "execution": {
     "iopub.execute_input": "2023-08-30T04:00:13.402287Z",
     "iopub.status.busy": "2023-08-30T04:00:13.401742Z",
     "iopub.status.idle": "2023-08-30T04:00:18.512495Z",
     "shell.execute_reply": "2023-08-30T04:00:18.512054Z"
    },
    "papermill": {
     "duration": 5.122281,
     "end_time": "2023-08-30T04:00:18.514312",
     "exception": false,
     "start_time": "2023-08-30T04:00:13.392031",
     "status": "completed"
    },
    "tags": []
   },
   "outputs": [],
   "source": [
    "with open(OUTPUT_DIR_BASE / \"gwas_variant_ids.pkl\", \"rb\") as handle:\n",
    "    gwas_variants_ids_set = pickle.load(handle)"
   ]
  },
  {
   "cell_type": "code",
   "execution_count": 13,
   "id": "b9d9dec2-4a76-4bf9-bde2-e24c95acb8a0",
   "metadata": {
    "execution": {
     "iopub.execute_input": "2023-08-30T04:00:18.532266Z",
     "iopub.status.busy": "2023-08-30T04:00:18.532047Z",
     "iopub.status.idle": "2023-08-30T04:00:18.547112Z",
     "shell.execute_reply": "2023-08-30T04:00:18.546688Z"
    },
    "papermill": {
     "duration": 0.025676,
     "end_time": "2023-08-30T04:00:18.548554",
     "exception": false,
     "start_time": "2023-08-30T04:00:18.522878",
     "status": "completed"
    },
    "tags": []
   },
   "outputs": [
    {
     "data": {
      "text/plain": [
       "11737794"
      ]
     },
     "execution_count": 13,
     "metadata": {},
     "output_type": "execute_result"
    }
   ],
   "source": [
    "len(gwas_variants_ids_set)"
   ]
  },
  {
   "cell_type": "code",
   "execution_count": 14,
   "id": "4235b06a-6034-4ee4-a0a3-2ae35d122418",
   "metadata": {
    "execution": {
     "iopub.execute_input": "2023-08-30T04:00:18.567309Z",
     "iopub.status.busy": "2023-08-30T04:00:18.567009Z",
     "iopub.status.idle": "2023-08-30T04:00:20.771611Z",
     "shell.execute_reply": "2023-08-30T04:00:20.771181Z"
    },
    "papermill": {
     "duration": 2.215741,
     "end_time": "2023-08-30T04:00:20.773152",
     "exception": false,
     "start_time": "2023-08-30T04:00:18.557411",
     "status": "completed"
    },
    "tags": []
   },
   "outputs": [
    {
     "data": {
      "text/plain": [
       "['chr15_77915590_G_A_b38',\n",
       " 'chr4_62340325_T_A_b38',\n",
       " 'chr2_238624700_T_C_b38',\n",
       " 'chr12_27206527_A_C_b38',\n",
       " 'chr1_75448220_C_T_b38']"
      ]
     },
     "execution_count": 14,
     "metadata": {},
     "output_type": "execute_result"
    }
   ],
   "source": [
    "list(gwas_variants_ids_set)[:5]"
   ]
  },
  {
   "cell_type": "markdown",
   "id": "07866999-2305-41f9-a144-e69c9122c212",
   "metadata": {
    "papermill": {
     "duration": 0.008403,
     "end_time": "2023-08-30T04:00:20.790250",
     "exception": false,
     "start_time": "2023-08-30T04:00:20.781847",
     "status": "completed"
    },
    "tags": []
   },
   "source": [
    "## S-PrediXcan tissue models"
   ]
  },
  {
   "cell_type": "code",
   "execution_count": 15,
   "id": "780611d9-77c8-405f-90a4-f271f7b09397",
   "metadata": {
    "execution": {
     "iopub.execute_input": "2023-08-30T04:00:20.807257Z",
     "iopub.status.busy": "2023-08-30T04:00:20.806806Z",
     "iopub.status.idle": "2023-08-30T04:00:22.757566Z",
     "shell.execute_reply": "2023-08-30T04:00:22.756968Z"
    },
    "papermill": {
     "duration": 1.96053,
     "end_time": "2023-08-30T04:00:22.759129",
     "exception": false,
     "start_time": "2023-08-30T04:00:20.798599",
     "status": "completed"
    },
    "tags": []
   },
   "outputs": [],
   "source": [
    "spredixcan_genes_models = pd.read_pickle(OUTPUT_DIR_BASE / \"gene_tissues.pkl\")"
   ]
  },
  {
   "cell_type": "code",
   "execution_count": 16,
   "id": "726dd1f6-9557-4225-91fa-b3b879ea96e1",
   "metadata": {
    "execution": {
     "iopub.execute_input": "2023-08-30T04:00:22.771306Z",
     "iopub.status.busy": "2023-08-30T04:00:22.771086Z",
     "iopub.status.idle": "2023-08-30T04:00:22.793020Z",
     "shell.execute_reply": "2023-08-30T04:00:22.792593Z"
    },
    "papermill": {
     "duration": 0.029539,
     "end_time": "2023-08-30T04:00:22.794338",
     "exception": false,
     "start_time": "2023-08-30T04:00:22.764799",
     "status": "completed"
    },
    "tags": []
   },
   "outputs": [
    {
     "data": {
      "text/plain": [
       "(6445, 5)"
      ]
     },
     "execution_count": 16,
     "metadata": {},
     "output_type": "execute_result"
    }
   ],
   "source": [
    "spredixcan_genes_models.shape"
   ]
  },
  {
   "cell_type": "code",
   "execution_count": 17,
   "id": "944a1b48-222c-4eb0-b252-b9de2cbca215",
   "metadata": {
    "execution": {
     "iopub.execute_input": "2023-08-30T04:00:22.812327Z",
     "iopub.status.busy": "2023-08-30T04:00:22.812065Z",
     "iopub.status.idle": "2023-08-30T04:00:22.838277Z",
     "shell.execute_reply": "2023-08-30T04:00:22.837707Z"
    },
    "papermill": {
     "duration": 0.036631,
     "end_time": "2023-08-30T04:00:22.839697",
     "exception": false,
     "start_time": "2023-08-30T04:00:22.803066",
     "status": "completed"
    },
    "tags": []
   },
   "outputs": [
    {
     "data": {
      "text/html": [
       "<div>\n",
       "<style scoped>\n",
       "    .dataframe tbody tr th:only-of-type {\n",
       "        vertical-align: middle;\n",
       "    }\n",
       "\n",
       "    .dataframe tbody tr th {\n",
       "        vertical-align: top;\n",
       "    }\n",
       "\n",
       "    .dataframe thead th {\n",
       "        text-align: right;\n",
       "    }\n",
       "</style>\n",
       "<table border=\"1\" class=\"dataframe\">\n",
       "  <thead>\n",
       "    <tr style=\"text-align: right;\">\n",
       "      <th></th>\n",
       "      <th>gene_name</th>\n",
       "      <th>tissue</th>\n",
       "      <th>n_tissues</th>\n",
       "      <th>n_snps_used_sum</th>\n",
       "      <th>n_snps_in_model_sum</th>\n",
       "    </tr>\n",
       "    <tr>\n",
       "      <th>gene_id</th>\n",
       "      <th></th>\n",
       "      <th></th>\n",
       "      <th></th>\n",
       "      <th></th>\n",
       "      <th></th>\n",
       "    </tr>\n",
       "  </thead>\n",
       "  <tbody>\n",
       "    <tr>\n",
       "      <th>ENSG00000000419</th>\n",
       "      <td>DPM1</td>\n",
       "      <td>(Brain_Substantia_nigra, Brain_Hypothalamus)</td>\n",
       "      <td>2</td>\n",
       "      <td>2</td>\n",
       "      <td>2</td>\n",
       "    </tr>\n",
       "    <tr>\n",
       "      <th>ENSG00000000938</th>\n",
       "      <td>FGR</td>\n",
       "      <td>(Spleen, Pancreas, Esophagus_Mucosa, Thyroid, ...</td>\n",
       "      <td>36</td>\n",
       "      <td>40</td>\n",
       "      <td>40</td>\n",
       "    </tr>\n",
       "    <tr>\n",
       "      <th>ENSG00000000971</th>\n",
       "      <td>CFH</td>\n",
       "      <td>(Thyroid, Brain_Cerebellar_Hemisphere, Testis,...</td>\n",
       "      <td>34</td>\n",
       "      <td>44</td>\n",
       "      <td>44</td>\n",
       "    </tr>\n",
       "    <tr>\n",
       "      <th>ENSG00000001084</th>\n",
       "      <td>GCLC</td>\n",
       "      <td>(Spleen, Pancreas, Thyroid, Cells_EBV-transfor...</td>\n",
       "      <td>32</td>\n",
       "      <td>46</td>\n",
       "      <td>46</td>\n",
       "    </tr>\n",
       "    <tr>\n",
       "      <th>ENSG00000001167</th>\n",
       "      <td>NFYA</td>\n",
       "      <td>(Esophagus_Mucosa, Thyroid, Brain_Cerebellar_H...</td>\n",
       "      <td>40</td>\n",
       "      <td>47</td>\n",
       "      <td>48</td>\n",
       "    </tr>\n",
       "  </tbody>\n",
       "</table>\n",
       "</div>"
      ],
      "text/plain": [
       "                gene_name                                             tissue  \\\n",
       "gene_id                                                                        \n",
       "ENSG00000000419      DPM1       (Brain_Substantia_nigra, Brain_Hypothalamus)   \n",
       "ENSG00000000938       FGR  (Spleen, Pancreas, Esophagus_Mucosa, Thyroid, ...   \n",
       "ENSG00000000971       CFH  (Thyroid, Brain_Cerebellar_Hemisphere, Testis,...   \n",
       "ENSG00000001084      GCLC  (Spleen, Pancreas, Thyroid, Cells_EBV-transfor...   \n",
       "ENSG00000001167      NFYA  (Esophagus_Mucosa, Thyroid, Brain_Cerebellar_H...   \n",
       "\n",
       "                 n_tissues  n_snps_used_sum  n_snps_in_model_sum  \n",
       "gene_id                                                           \n",
       "ENSG00000000419          2                2                    2  \n",
       "ENSG00000000938         36               40                   40  \n",
       "ENSG00000000971         34               44                   44  \n",
       "ENSG00000001084         32               46                   46  \n",
       "ENSG00000001167         40               47                   48  "
      ]
     },
     "execution_count": 17,
     "metadata": {},
     "output_type": "execute_result"
    }
   ],
   "source": [
    "spredixcan_genes_models.head()"
   ]
  },
  {
   "cell_type": "code",
   "execution_count": 18,
   "id": "d1c11bb1-be0b-4f40-b360-633d6827109f",
   "metadata": {
    "execution": {
     "iopub.execute_input": "2023-08-30T04:00:22.857145Z",
     "iopub.status.busy": "2023-08-30T04:00:22.856918Z",
     "iopub.status.idle": "2023-08-30T04:00:22.876136Z",
     "shell.execute_reply": "2023-08-30T04:00:22.875632Z"
    },
    "papermill": {
     "duration": 0.02961,
     "end_time": "2023-08-30T04:00:22.877676",
     "exception": false,
     "start_time": "2023-08-30T04:00:22.848066",
     "status": "completed"
    },
    "tags": []
   },
   "outputs": [],
   "source": [
    "assert spredixcan_genes_models.index.is_unique"
   ]
  },
  {
   "cell_type": "markdown",
   "id": "a5b5092c-a13e-47c4-a92a-480fcc08f3ae",
   "metadata": {
    "papermill": {
     "duration": 0.009244,
     "end_time": "2023-08-30T04:00:22.895124",
     "exception": false,
     "start_time": "2023-08-30T04:00:22.885880",
     "status": "completed"
    },
    "tags": []
   },
   "source": [
    "## Gene info"
   ]
  },
  {
   "cell_type": "code",
   "execution_count": 19,
   "id": "7d6bb224-88e9-4358-ac10-43a41d92cdad",
   "metadata": {
    "execution": {
     "iopub.execute_input": "2023-08-30T04:00:22.924760Z",
     "iopub.status.busy": "2023-08-30T04:00:22.924228Z",
     "iopub.status.idle": "2023-08-30T04:00:22.947040Z",
     "shell.execute_reply": "2023-08-30T04:00:22.946238Z"
    },
    "papermill": {
     "duration": 0.039444,
     "end_time": "2023-08-30T04:00:22.948540",
     "exception": false,
     "start_time": "2023-08-30T04:00:22.909096",
     "status": "completed"
    },
    "tags": []
   },
   "outputs": [],
   "source": [
    "genes_info = pd.read_pickle(OUTPUT_DIR_BASE / \"genes_info.pkl\")"
   ]
  },
  {
   "cell_type": "code",
   "execution_count": 20,
   "id": "9e32abfa-546d-483e-8c18-d526e9e05903",
   "metadata": {
    "execution": {
     "iopub.execute_input": "2023-08-30T04:00:22.977010Z",
     "iopub.status.busy": "2023-08-30T04:00:22.976622Z",
     "iopub.status.idle": "2023-08-30T04:00:22.996325Z",
     "shell.execute_reply": "2023-08-30T04:00:22.995802Z"
    },
    "papermill": {
     "duration": 0.036227,
     "end_time": "2023-08-30T04:00:22.997507",
     "exception": false,
     "start_time": "2023-08-30T04:00:22.961280",
     "status": "completed"
    },
    "tags": []
   },
   "outputs": [
    {
     "data": {
      "text/plain": [
       "(6445, 7)"
      ]
     },
     "execution_count": 20,
     "metadata": {},
     "output_type": "execute_result"
    }
   ],
   "source": [
    "genes_info.shape"
   ]
  },
  {
   "cell_type": "code",
   "execution_count": 21,
   "id": "d16c3e92-85ec-468a-9a56-e25a9774a1cb",
   "metadata": {
    "execution": {
     "iopub.execute_input": "2023-08-30T04:00:23.016673Z",
     "iopub.status.busy": "2023-08-30T04:00:23.016087Z",
     "iopub.status.idle": "2023-08-30T04:00:23.049743Z",
     "shell.execute_reply": "2023-08-30T04:00:23.049210Z"
    },
    "papermill": {
     "duration": 0.045147,
     "end_time": "2023-08-30T04:00:23.051595",
     "exception": false,
     "start_time": "2023-08-30T04:00:23.006448",
     "status": "completed"
    },
    "tags": []
   },
   "outputs": [
    {
     "data": {
      "text/html": [
       "<div>\n",
       "<style scoped>\n",
       "    .dataframe tbody tr th:only-of-type {\n",
       "        vertical-align: middle;\n",
       "    }\n",
       "\n",
       "    .dataframe tbody tr th {\n",
       "        vertical-align: top;\n",
       "    }\n",
       "\n",
       "    .dataframe thead th {\n",
       "        text-align: right;\n",
       "    }\n",
       "</style>\n",
       "<table border=\"1\" class=\"dataframe\">\n",
       "  <thead>\n",
       "    <tr style=\"text-align: right;\">\n",
       "      <th></th>\n",
       "      <th>name</th>\n",
       "      <th>id</th>\n",
       "      <th>chr</th>\n",
       "      <th>band</th>\n",
       "      <th>start_position</th>\n",
       "      <th>end_position</th>\n",
       "      <th>gene_length</th>\n",
       "    </tr>\n",
       "  </thead>\n",
       "  <tbody>\n",
       "    <tr>\n",
       "      <th>0</th>\n",
       "      <td>DUT</td>\n",
       "      <td>ENSG00000128951</td>\n",
       "      <td>15</td>\n",
       "      <td>15q21.1</td>\n",
       "      <td>48331011</td>\n",
       "      <td>48343373</td>\n",
       "      <td>12362</td>\n",
       "    </tr>\n",
       "    <tr>\n",
       "      <th>1</th>\n",
       "      <td>NDUFA4</td>\n",
       "      <td>ENSG00000189043</td>\n",
       "      <td>7</td>\n",
       "      <td>7p21.3</td>\n",
       "      <td>10931943</td>\n",
       "      <td>10940153</td>\n",
       "      <td>8210</td>\n",
       "    </tr>\n",
       "    <tr>\n",
       "      <th>2</th>\n",
       "      <td>EPHB3</td>\n",
       "      <td>ENSG00000182580</td>\n",
       "      <td>3</td>\n",
       "      <td>3q27.1</td>\n",
       "      <td>184561785</td>\n",
       "      <td>184582408</td>\n",
       "      <td>20623</td>\n",
       "    </tr>\n",
       "    <tr>\n",
       "      <th>3</th>\n",
       "      <td>MYLK</td>\n",
       "      <td>ENSG00000065534</td>\n",
       "      <td>3</td>\n",
       "      <td>3q21.1</td>\n",
       "      <td>123610049</td>\n",
       "      <td>123884331</td>\n",
       "      <td>274282</td>\n",
       "    </tr>\n",
       "    <tr>\n",
       "      <th>4</th>\n",
       "      <td>SMPD4</td>\n",
       "      <td>ENSG00000136699</td>\n",
       "      <td>2</td>\n",
       "      <td>2q21.1</td>\n",
       "      <td>130151392</td>\n",
       "      <td>130182750</td>\n",
       "      <td>31358</td>\n",
       "    </tr>\n",
       "  </tbody>\n",
       "</table>\n",
       "</div>"
      ],
      "text/plain": [
       "     name               id  chr     band  start_position  end_position  \\\n",
       "0     DUT  ENSG00000128951   15  15q21.1        48331011      48343373   \n",
       "1  NDUFA4  ENSG00000189043    7   7p21.3        10931943      10940153   \n",
       "2   EPHB3  ENSG00000182580    3   3q27.1       184561785     184582408   \n",
       "3    MYLK  ENSG00000065534    3   3q21.1       123610049     123884331   \n",
       "4   SMPD4  ENSG00000136699    2   2q21.1       130151392     130182750   \n",
       "\n",
       "   gene_length  \n",
       "0        12362  \n",
       "1         8210  \n",
       "2        20623  \n",
       "3       274282  \n",
       "4        31358  "
      ]
     },
     "execution_count": 21,
     "metadata": {},
     "output_type": "execute_result"
    }
   ],
   "source": [
    "genes_info.head()"
   ]
  },
  {
   "cell_type": "markdown",
   "id": "d3843e06",
   "metadata": {
    "papermill": {
     "duration": 0.008185,
     "end_time": "2023-08-30T04:00:23.070783",
     "exception": false,
     "start_time": "2023-08-30T04:00:23.062598",
     "status": "completed"
    },
    "tags": []
   },
   "source": [
    "# Compute correlations"
   ]
  },
  {
   "cell_type": "code",
   "execution_count": 22,
   "id": "cb859c15-d1f3-4006-a74c-2b83c0db9611",
   "metadata": {
    "execution": {
     "iopub.execute_input": "2023-08-30T04:00:23.090636Z",
     "iopub.status.busy": "2023-08-30T04:00:23.090284Z",
     "iopub.status.idle": "2023-08-30T04:00:23.114052Z",
     "shell.execute_reply": "2023-08-30T04:00:23.113544Z"
    },
    "papermill": {
     "duration": 0.035252,
     "end_time": "2023-08-30T04:00:23.115528",
     "exception": false,
     "start_time": "2023-08-30T04:00:23.080276",
     "status": "completed"
    },
    "tags": []
   },
   "outputs": [
    {
     "data": {
      "text/plain": [
       "PosixPath('/opt/data/projects/chronotype/results/gls_phenoplier/gene_corrs/chronotype/by_chr/gene_corrs-chr13.pkl')"
      ]
     },
     "metadata": {},
     "output_type": "display_data"
    }
   ],
   "source": [
    "output_dir = OUTPUT_DIR_BASE / \"by_chr\"\n",
    "output_dir.mkdir(exist_ok=True, parents=True)\n",
    "output_file = output_dir / f\"gene_corrs-chr{CHROMOSOME}.pkl\"\n",
    "display(output_file)"
   ]
  },
  {
   "cell_type": "code",
   "execution_count": 23,
   "id": "aa674fe4-6794-4eed-98fa-32b39d1d4ace",
   "metadata": {
    "execution": {
     "iopub.execute_input": "2023-08-30T04:00:23.144282Z",
     "iopub.status.busy": "2023-08-30T04:00:23.143956Z",
     "iopub.status.idle": "2023-08-30T04:00:23.162171Z",
     "shell.execute_reply": "2023-08-30T04:00:23.161538Z"
    },
    "papermill": {
     "duration": 0.034402,
     "end_time": "2023-08-30T04:00:23.163563",
     "exception": false,
     "start_time": "2023-08-30T04:00:23.129161",
     "status": "completed"
    },
    "tags": []
   },
   "outputs": [],
   "source": [
    "warnings.filterwarnings(\"error\")"
   ]
  },
  {
   "cell_type": "code",
   "execution_count": 24,
   "id": "44d5450b-3baf-43f1-9e2e-4b06f1a785f8",
   "metadata": {
    "execution": {
     "iopub.execute_input": "2023-08-30T04:00:23.181289Z",
     "iopub.status.busy": "2023-08-30T04:00:23.181001Z",
     "iopub.status.idle": "2023-08-30T04:00:23.202151Z",
     "shell.execute_reply": "2023-08-30T04:00:23.201702Z"
    },
    "papermill": {
     "duration": 0.03315,
     "end_time": "2023-08-30T04:00:23.203498",
     "exception": false,
     "start_time": "2023-08-30T04:00:23.170348",
     "status": "completed"
    },
    "tags": []
   },
   "outputs": [],
   "source": [
    "# standard checks\n",
    "all_chrs = genes_info[\"chr\"].dropna().unique()\n",
    "assert all_chrs.shape[0] == 22\n",
    "\n",
    "# select chromosome given by the user\n",
    "assert CHROMOSOME in all_chrs"
   ]
  },
  {
   "cell_type": "code",
   "execution_count": 25,
   "id": "2d7c043c-92a7-4d35-991b-fa69ac1e0268",
   "metadata": {
    "execution": {
     "iopub.execute_input": "2023-08-30T04:00:23.225082Z",
     "iopub.status.busy": "2023-08-30T04:00:23.224642Z",
     "iopub.status.idle": "2023-08-30T04:00:23.252237Z",
     "shell.execute_reply": "2023-08-30T04:00:23.251508Z"
    },
    "papermill": {
     "duration": 0.040452,
     "end_time": "2023-08-30T04:00:23.253621",
     "exception": false,
     "start_time": "2023-08-30T04:00:23.213169",
     "status": "completed"
    },
    "tags": []
   },
   "outputs": [
    {
     "name": "stdout",
     "output_type": "stream",
     "text": [
      "Number of genes in chromosome: 118\n"
     ]
    }
   ],
   "source": [
    "# run only on the chromosome specified\n",
    "all_chrs = [CHROMOSOME]\n",
    "genes_chr = genes_info[genes_info[\"chr\"] == CHROMOSOME]\n",
    "\n",
    "# For testing purposes\n",
    "# genes_chr = genes_chr.sample(n=20)\n",
    "\n",
    "print(f\"Number of genes in chromosome: {genes_chr.shape[0]}\", flush=True)"
   ]
  },
  {
   "cell_type": "code",
   "execution_count": 26,
   "id": "916015d8-2979-46d3-a9b9-1cf5a0932c6a",
   "metadata": {
    "execution": {
     "iopub.execute_input": "2023-08-30T04:00:23.275677Z",
     "iopub.status.busy": "2023-08-30T04:00:23.275230Z",
     "iopub.status.idle": "2023-08-30T04:00:23.298630Z",
     "shell.execute_reply": "2023-08-30T04:00:23.297983Z"
    },
    "papermill": {
     "duration": 0.036061,
     "end_time": "2023-08-30T04:00:23.300092",
     "exception": false,
     "start_time": "2023-08-30T04:00:23.264031",
     "status": "completed"
    },
    "tags": []
   },
   "outputs": [],
   "source": [
    "# sort genes by starting position to make visualizations better later\n",
    "genes_chr = genes_chr.sort_values(\"start_position\")"
   ]
  },
  {
   "cell_type": "code",
   "execution_count": 27,
   "id": "a38aa74a-8ad3-47f6-8ef9-56be0e011774",
   "metadata": {
    "execution": {
     "iopub.execute_input": "2023-08-30T04:00:23.322508Z",
     "iopub.status.busy": "2023-08-30T04:00:23.322076Z",
     "iopub.status.idle": "2023-08-30T04:00:23.343233Z",
     "shell.execute_reply": "2023-08-30T04:00:23.342681Z"
    },
    "papermill": {
     "duration": 0.033927,
     "end_time": "2023-08-30T04:00:23.344656",
     "exception": false,
     "start_time": "2023-08-30T04:00:23.310729",
     "status": "completed"
    },
    "tags": []
   },
   "outputs": [],
   "source": [
    "gene_chr_objs = [Gene(ensembl_id=gene_id) for gene_id in genes_chr[\"id\"]]"
   ]
  },
  {
   "cell_type": "code",
   "execution_count": 28,
   "id": "570f974f-13c3-42b6-ad3a-ce99ca885c1a",
   "metadata": {
    "execution": {
     "iopub.execute_input": "2023-08-30T04:00:23.360002Z",
     "iopub.status.busy": "2023-08-30T04:00:23.359725Z",
     "iopub.status.idle": "2023-08-30T04:00:23.374355Z",
     "shell.execute_reply": "2023-08-30T04:00:23.373937Z"
    },
    "papermill": {
     "duration": 0.02419,
     "end_time": "2023-08-30T04:00:23.375827",
     "exception": false,
     "start_time": "2023-08-30T04:00:23.351637",
     "status": "completed"
    },
    "tags": []
   },
   "outputs": [
    {
     "name": "stdout",
     "output_type": "stream",
     "text": [
      "Number of gene combinations: 7021\n"
     ]
    }
   ],
   "source": [
    "n = len(gene_chr_objs)\n",
    "# diagonal elements + upper triangular matrix\n",
    "n_comb = n + int(n * (n - 1) / 2.0)\n",
    "print(f\"Number of gene combinations: {n_comb}\", flush=True)"
   ]
  },
  {
   "cell_type": "code",
   "execution_count": 29,
   "id": "cdbb90a1",
   "metadata": {
    "execution": {
     "iopub.execute_input": "2023-08-30T04:00:23.393485Z",
     "iopub.status.busy": "2023-08-30T04:00:23.393198Z",
     "iopub.status.idle": "2023-08-30T04:01:44.077715Z",
     "shell.execute_reply": "2023-08-30T04:01:44.077013Z"
    },
    "papermill": {
     "duration": 80.694454,
     "end_time": "2023-08-30T04:01:44.079151",
     "exception": false,
     "start_time": "2023-08-30T04:00:23.384697",
     "status": "completed"
    },
    "tags": []
   },
   "outputs": [
    {
     "name": "stderr",
     "output_type": "stream",
     "text": [
      "ENSG00000169062 / ENSG00000169062: 100%|████████████████████████| 7021/7021 [01:20<00:00, 87.05it/s]\n"
     ]
    },
    {
     "data": {
      "text/plain": [
       "PosixPath('/opt/data/projects/chronotype/results/gls_phenoplier/gene_corrs/chronotype/by_chr/gene_corrs-chr13.pkl')"
      ]
     },
     "metadata": {},
     "output_type": "display_data"
    }
   ],
   "source": [
    "gene_corrs = []\n",
    "gene_corrs_data = np.full(\n",
    "    (n, n),\n",
    "    np.nan,\n",
    "    dtype=np.float64,\n",
    ")\n",
    "\n",
    "i = 0\n",
    "with tqdm(ncols=100, total=n_comb) as pbar:\n",
    "    for gene1_idx in range(0, len(gene_chr_objs)):\n",
    "        gene1_obj = gene_chr_objs[gene1_idx]\n",
    "        gene1_tissues = spredixcan_genes_models.loc[gene1_obj.ensembl_id, \"tissue\"]\n",
    "\n",
    "        for gene2_idx in range(gene1_idx, len(gene_chr_objs)):\n",
    "            gene2_obj = gene_chr_objs[gene2_idx]\n",
    "            gene2_tissues = spredixcan_genes_models.loc[gene2_obj.ensembl_id, \"tissue\"]\n",
    "\n",
    "            pbar.set_description(f\"{gene1_obj.ensembl_id} / {gene2_obj.ensembl_id}\")\n",
    "\n",
    "            try:\n",
    "                r = gene1_obj.get_ssm_correlation(\n",
    "                    other_gene=gene2_obj,\n",
    "                    tissues=gene1_tissues,\n",
    "                    other_tissues=gene2_tissues,\n",
    "                    snps_subset=gwas_variants_ids_set,\n",
    "                    condition_number=SMULTIXCAN_CONDITION_NUMBER,\n",
    "                    reference_panel=REFERENCE_PANEL,\n",
    "                    model_type=EQTL_MODEL,\n",
    "                    use_within_distance=COMPUTE_CORRELATIONS_WITHIN_DISTANCE,\n",
    "                )\n",
    "\n",
    "                if r is None:\n",
    "                    # if r is None, it's very likely because:\n",
    "                    #  * one of the genes has no prediction models\n",
    "                    #  * all the SNPs predictors for the gene are not present in the reference\n",
    "                    #    panel\n",
    "\n",
    "                    r = 0.0\n",
    "\n",
    "                gene_corrs.append(r)\n",
    "\n",
    "                gene_corrs_data[gene1_idx, gene2_idx] = r\n",
    "                gene_corrs_data[gene2_idx, gene1_idx] = r\n",
    "            except Warning as e:\n",
    "                if not DEBUG_MODE:\n",
    "                    raise e\n",
    "\n",
    "                print(\n",
    "                    f\"RuntimeWarning for genes {gene1_obj.ensembl_id} and {gene2_obj.ensembl_id}\",\n",
    "                    flush=True,\n",
    "                )\n",
    "                print(traceback.format_exc(), flush=True)\n",
    "\n",
    "                gene_corrs.append(np.nan)\n",
    "            except Exception as e:\n",
    "                if not DEBUG_MODE:\n",
    "                    raise e\n",
    "\n",
    "                print(\n",
    "                    f\"Exception for genes {gene1_obj.ensembl_id} and {gene2_obj.ensembl_id}\",\n",
    "                    flush=True,\n",
    "                )\n",
    "                print(traceback.format_exc(), flush=True)\n",
    "\n",
    "                gene_corrs.append(np.nan)\n",
    "\n",
    "            pbar.update(1)\n",
    "\n",
    "# create a pandas series\n",
    "gene_corrs_flat = pd.Series(gene_corrs)\n",
    "\n",
    "# save\n",
    "# FIXME: consider saving only the condenced matrix here. See here for\n",
    "# more details: https://github.com/greenelab/phenoplier/pull/38#discussion_r634600813\n",
    "# gene_corrs_data = squareform(np.array(gene_corrs, dtype=np.float64))\n",
    "# np.fill_diagonal(gene_corrs_data, 1.0)\n",
    "\n",
    "gene_chr_ids = [g.ensembl_id for g in gene_chr_objs]\n",
    "gene_corrs_df = pd.DataFrame(\n",
    "    data=gene_corrs_data,\n",
    "    index=gene_chr_ids,\n",
    "    columns=gene_chr_ids,\n",
    ")\n",
    "\n",
    "output_dir.mkdir(exist_ok=True, parents=True)\n",
    "display(output_file)\n",
    "\n",
    "gene_corrs_df.to_pickle(output_file)"
   ]
  },
  {
   "cell_type": "markdown",
   "id": "faa67b51-5373-470f-aa72-2ded53fa6dfe",
   "metadata": {
    "papermill": {
     "duration": 0.28018,
     "end_time": "2023-08-30T04:01:44.660577",
     "exception": false,
     "start_time": "2023-08-30T04:01:44.380397",
     "status": "completed"
    },
    "tags": []
   },
   "source": [
    "# Testing"
   ]
  },
  {
   "cell_type": "code",
   "execution_count": 30,
   "id": "14f7d046-4b55-4896-a56b-990127bcc388",
   "metadata": {
    "execution": {
     "iopub.execute_input": "2023-08-30T04:01:45.190247Z",
     "iopub.status.busy": "2023-08-30T04:01:45.189882Z",
     "iopub.status.idle": "2023-08-30T04:01:45.212612Z",
     "shell.execute_reply": "2023-08-30T04:01:45.212041Z"
    },
    "papermill": {
     "duration": 0.279469,
     "end_time": "2023-08-30T04:01:45.213838",
     "exception": false,
     "start_time": "2023-08-30T04:01:44.934369",
     "status": "completed"
    },
    "tags": []
   },
   "outputs": [
    {
     "data": {
      "text/plain": [
       "(118, 118)"
      ]
     },
     "execution_count": 30,
     "metadata": {},
     "output_type": "execute_result"
    }
   ],
   "source": [
    "gene_corrs_df.shape"
   ]
  },
  {
   "cell_type": "code",
   "execution_count": 31,
   "id": "c7d15414-3297-4537-a7c6-7588c0baeb75",
   "metadata": {
    "execution": {
     "iopub.execute_input": "2023-08-30T04:01:45.693772Z",
     "iopub.status.busy": "2023-08-30T04:01:45.692999Z",
     "iopub.status.idle": "2023-08-30T04:01:45.741133Z",
     "shell.execute_reply": "2023-08-30T04:01:45.740408Z"
    },
    "papermill": {
     "duration": 0.29754,
     "end_time": "2023-08-30T04:01:45.742138",
     "exception": false,
     "start_time": "2023-08-30T04:01:45.444598",
     "status": "completed"
    },
    "tags": []
   },
   "outputs": [
    {
     "data": {
      "text/html": [
       "<div>\n",
       "<style scoped>\n",
       "    .dataframe tbody tr th:only-of-type {\n",
       "        vertical-align: middle;\n",
       "    }\n",
       "\n",
       "    .dataframe tbody tr th {\n",
       "        vertical-align: top;\n",
       "    }\n",
       "\n",
       "    .dataframe thead th {\n",
       "        text-align: right;\n",
       "    }\n",
       "</style>\n",
       "<table border=\"1\" class=\"dataframe\">\n",
       "  <thead>\n",
       "    <tr style=\"text-align: right;\">\n",
       "      <th></th>\n",
       "      <th>ENSG00000121741</th>\n",
       "      <th>ENSG00000121743</th>\n",
       "      <th>ENSG00000121742</th>\n",
       "      <th>ENSG00000032742</th>\n",
       "      <th>ENSG00000150457</th>\n",
       "      <th>ENSG00000150459</th>\n",
       "      <th>ENSG00000102678</th>\n",
       "      <th>ENSG00000127863</th>\n",
       "      <th>ENSG00000228741</th>\n",
       "      <th>ENSG00000102699</th>\n",
       "      <th>...</th>\n",
       "      <th>ENSG00000126217</th>\n",
       "      <th>ENSG00000057593</th>\n",
       "      <th>ENSG00000126231</th>\n",
       "      <th>ENSG00000139842</th>\n",
       "      <th>ENSG00000185896</th>\n",
       "      <th>ENSG00000198176</th>\n",
       "      <th>ENSG00000183087</th>\n",
       "      <th>ENSG00000185989</th>\n",
       "      <th>ENSG00000130177</th>\n",
       "      <th>ENSG00000169062</th>\n",
       "    </tr>\n",
       "  </thead>\n",
       "  <tbody>\n",
       "    <tr>\n",
       "      <th>ENSG00000121741</th>\n",
       "      <td>1.000000</td>\n",
       "      <td>0.012097</td>\n",
       "      <td>0.011184</td>\n",
       "      <td>0.002933</td>\n",
       "      <td>0.002772</td>\n",
       "      <td>0.004460</td>\n",
       "      <td>0.004328</td>\n",
       "      <td>0.008426</td>\n",
       "      <td>0.008180</td>\n",
       "      <td>0.005306</td>\n",
       "      <td>...</td>\n",
       "      <td>0.0</td>\n",
       "      <td>0.0</td>\n",
       "      <td>0.0</td>\n",
       "      <td>0.0</td>\n",
       "      <td>0.0</td>\n",
       "      <td>0.0</td>\n",
       "      <td>0.0</td>\n",
       "      <td>0.0</td>\n",
       "      <td>0.0</td>\n",
       "      <td>0.0</td>\n",
       "    </tr>\n",
       "    <tr>\n",
       "      <th>ENSG00000121743</th>\n",
       "      <td>0.012097</td>\n",
       "      <td>1.000000</td>\n",
       "      <td>0.028466</td>\n",
       "      <td>0.009301</td>\n",
       "      <td>0.013014</td>\n",
       "      <td>0.006442</td>\n",
       "      <td>0.003147</td>\n",
       "      <td>0.008373</td>\n",
       "      <td>0.006766</td>\n",
       "      <td>0.006577</td>\n",
       "      <td>...</td>\n",
       "      <td>0.0</td>\n",
       "      <td>0.0</td>\n",
       "      <td>0.0</td>\n",
       "      <td>0.0</td>\n",
       "      <td>0.0</td>\n",
       "      <td>0.0</td>\n",
       "      <td>0.0</td>\n",
       "      <td>0.0</td>\n",
       "      <td>0.0</td>\n",
       "      <td>0.0</td>\n",
       "    </tr>\n",
       "    <tr>\n",
       "      <th>ENSG00000121742</th>\n",
       "      <td>0.011184</td>\n",
       "      <td>0.028466</td>\n",
       "      <td>1.000000</td>\n",
       "      <td>0.010330</td>\n",
       "      <td>0.005040</td>\n",
       "      <td>0.008485</td>\n",
       "      <td>0.006706</td>\n",
       "      <td>0.012004</td>\n",
       "      <td>0.009546</td>\n",
       "      <td>0.004909</td>\n",
       "      <td>...</td>\n",
       "      <td>0.0</td>\n",
       "      <td>0.0</td>\n",
       "      <td>0.0</td>\n",
       "      <td>0.0</td>\n",
       "      <td>0.0</td>\n",
       "      <td>0.0</td>\n",
       "      <td>0.0</td>\n",
       "      <td>0.0</td>\n",
       "      <td>0.0</td>\n",
       "      <td>0.0</td>\n",
       "    </tr>\n",
       "    <tr>\n",
       "      <th>ENSG00000032742</th>\n",
       "      <td>0.002933</td>\n",
       "      <td>0.009301</td>\n",
       "      <td>0.010330</td>\n",
       "      <td>1.000000</td>\n",
       "      <td>0.017363</td>\n",
       "      <td>0.008018</td>\n",
       "      <td>0.005442</td>\n",
       "      <td>0.007502</td>\n",
       "      <td>0.008375</td>\n",
       "      <td>0.006997</td>\n",
       "      <td>...</td>\n",
       "      <td>0.0</td>\n",
       "      <td>0.0</td>\n",
       "      <td>0.0</td>\n",
       "      <td>0.0</td>\n",
       "      <td>0.0</td>\n",
       "      <td>0.0</td>\n",
       "      <td>0.0</td>\n",
       "      <td>0.0</td>\n",
       "      <td>0.0</td>\n",
       "      <td>0.0</td>\n",
       "    </tr>\n",
       "    <tr>\n",
       "      <th>ENSG00000150457</th>\n",
       "      <td>0.002772</td>\n",
       "      <td>0.013014</td>\n",
       "      <td>0.005040</td>\n",
       "      <td>0.017363</td>\n",
       "      <td>1.000000</td>\n",
       "      <td>0.005581</td>\n",
       "      <td>0.009922</td>\n",
       "      <td>0.014383</td>\n",
       "      <td>0.005567</td>\n",
       "      <td>0.005084</td>\n",
       "      <td>...</td>\n",
       "      <td>0.0</td>\n",
       "      <td>0.0</td>\n",
       "      <td>0.0</td>\n",
       "      <td>0.0</td>\n",
       "      <td>0.0</td>\n",
       "      <td>0.0</td>\n",
       "      <td>0.0</td>\n",
       "      <td>0.0</td>\n",
       "      <td>0.0</td>\n",
       "      <td>0.0</td>\n",
       "    </tr>\n",
       "  </tbody>\n",
       "</table>\n",
       "<p>5 rows × 118 columns</p>\n",
       "</div>"
      ],
      "text/plain": [
       "                 ENSG00000121741  ENSG00000121743  ENSG00000121742  \\\n",
       "ENSG00000121741         1.000000         0.012097         0.011184   \n",
       "ENSG00000121743         0.012097         1.000000         0.028466   \n",
       "ENSG00000121742         0.011184         0.028466         1.000000   \n",
       "ENSG00000032742         0.002933         0.009301         0.010330   \n",
       "ENSG00000150457         0.002772         0.013014         0.005040   \n",
       "\n",
       "                 ENSG00000032742  ENSG00000150457  ENSG00000150459  \\\n",
       "ENSG00000121741         0.002933         0.002772         0.004460   \n",
       "ENSG00000121743         0.009301         0.013014         0.006442   \n",
       "ENSG00000121742         0.010330         0.005040         0.008485   \n",
       "ENSG00000032742         1.000000         0.017363         0.008018   \n",
       "ENSG00000150457         0.017363         1.000000         0.005581   \n",
       "\n",
       "                 ENSG00000102678  ENSG00000127863  ENSG00000228741  \\\n",
       "ENSG00000121741         0.004328         0.008426         0.008180   \n",
       "ENSG00000121743         0.003147         0.008373         0.006766   \n",
       "ENSG00000121742         0.006706         0.012004         0.009546   \n",
       "ENSG00000032742         0.005442         0.007502         0.008375   \n",
       "ENSG00000150457         0.009922         0.014383         0.005567   \n",
       "\n",
       "                 ENSG00000102699  ...  ENSG00000126217  ENSG00000057593  \\\n",
       "ENSG00000121741         0.005306  ...              0.0              0.0   \n",
       "ENSG00000121743         0.006577  ...              0.0              0.0   \n",
       "ENSG00000121742         0.004909  ...              0.0              0.0   \n",
       "ENSG00000032742         0.006997  ...              0.0              0.0   \n",
       "ENSG00000150457         0.005084  ...              0.0              0.0   \n",
       "\n",
       "                 ENSG00000126231  ENSG00000139842  ENSG00000185896  \\\n",
       "ENSG00000121741              0.0              0.0              0.0   \n",
       "ENSG00000121743              0.0              0.0              0.0   \n",
       "ENSG00000121742              0.0              0.0              0.0   \n",
       "ENSG00000032742              0.0              0.0              0.0   \n",
       "ENSG00000150457              0.0              0.0              0.0   \n",
       "\n",
       "                 ENSG00000198176  ENSG00000183087  ENSG00000185989  \\\n",
       "ENSG00000121741              0.0              0.0              0.0   \n",
       "ENSG00000121743              0.0              0.0              0.0   \n",
       "ENSG00000121742              0.0              0.0              0.0   \n",
       "ENSG00000032742              0.0              0.0              0.0   \n",
       "ENSG00000150457              0.0              0.0              0.0   \n",
       "\n",
       "                 ENSG00000130177  ENSG00000169062  \n",
       "ENSG00000121741              0.0              0.0  \n",
       "ENSG00000121743              0.0              0.0  \n",
       "ENSG00000121742              0.0              0.0  \n",
       "ENSG00000032742              0.0              0.0  \n",
       "ENSG00000150457              0.0              0.0  \n",
       "\n",
       "[5 rows x 118 columns]"
      ]
     },
     "execution_count": 31,
     "metadata": {},
     "output_type": "execute_result"
    }
   ],
   "source": [
    "gene_corrs_df.head()"
   ]
  },
  {
   "cell_type": "markdown",
   "id": "dad6603f-01c6-41fb-a6f6-241051207dd8",
   "metadata": {
    "papermill": {
     "duration": 0.21599,
     "end_time": "2023-08-30T04:01:46.170248",
     "exception": false,
     "start_time": "2023-08-30T04:01:45.954258",
     "status": "completed"
    },
    "tags": []
   },
   "source": [
    "## Standard checks and stats"
   ]
  },
  {
   "cell_type": "code",
   "execution_count": 32,
   "id": "286686af-1b7b-4440-8453-6bdcbd8de19c",
   "metadata": {
    "execution": {
     "iopub.execute_input": "2023-08-30T04:01:46.620666Z",
     "iopub.status.busy": "2023-08-30T04:01:46.620301Z",
     "iopub.status.idle": "2023-08-30T04:01:46.644087Z",
     "shell.execute_reply": "2023-08-30T04:01:46.643377Z"
    },
    "papermill": {
     "duration": 0.262877,
     "end_time": "2023-08-30T04:01:46.645497",
     "exception": false,
     "start_time": "2023-08-30T04:01:46.382620",
     "status": "completed"
    },
    "tags": []
   },
   "outputs": [],
   "source": [
    "assert not gene_corrs_df.isna().any(axis=None)"
   ]
  },
  {
   "cell_type": "code",
   "execution_count": 33,
   "id": "00583efc-7068-4270-ad1e-4a418e91db96",
   "metadata": {
    "execution": {
     "iopub.execute_input": "2023-08-30T04:01:47.083739Z",
     "iopub.status.busy": "2023-08-30T04:01:47.083353Z",
     "iopub.status.idle": "2023-08-30T04:01:47.108032Z",
     "shell.execute_reply": "2023-08-30T04:01:47.107351Z"
    },
    "papermill": {
     "duration": 0.246021,
     "end_time": "2023-08-30T04:01:47.108939",
     "exception": false,
     "start_time": "2023-08-30T04:01:46.862918",
     "status": "completed"
    },
    "tags": []
   },
   "outputs": [
    {
     "data": {
      "text/plain": [
       "0.0"
      ]
     },
     "metadata": {},
     "output_type": "display_data"
    }
   ],
   "source": [
    "_min_val = gene_corrs_df.min().min()\n",
    "display(_min_val)\n",
    "assert _min_val >= -0.05"
   ]
  },
  {
   "cell_type": "code",
   "execution_count": 34,
   "id": "d04fb2cf-1050-475b-b855-f5f7cc04092b",
   "metadata": {
    "execution": {
     "iopub.execute_input": "2023-08-30T04:01:47.597259Z",
     "iopub.status.busy": "2023-08-30T04:01:47.596936Z",
     "iopub.status.idle": "2023-08-30T04:01:47.619166Z",
     "shell.execute_reply": "2023-08-30T04:01:47.618627Z"
    },
    "papermill": {
     "duration": 0.243842,
     "end_time": "2023-08-30T04:01:47.620338",
     "exception": false,
     "start_time": "2023-08-30T04:01:47.376496",
     "status": "completed"
    },
    "tags": []
   },
   "outputs": [
    {
     "data": {
      "text/plain": [
       "1.0000000000000029"
      ]
     },
     "metadata": {},
     "output_type": "display_data"
    }
   ],
   "source": [
    "_max_val = gene_corrs_df.max().max()  # this captures the diagonal\n",
    "display(_max_val)\n",
    "assert _max_val <= 1.05"
   ]
  },
  {
   "cell_type": "code",
   "execution_count": 35,
   "id": "fe283586-c348-40e0-8841-f6d97bfb021c",
   "metadata": {
    "execution": {
     "iopub.execute_input": "2023-08-30T04:01:48.318631Z",
     "iopub.status.busy": "2023-08-30T04:01:48.318264Z",
     "iopub.status.idle": "2023-08-30T04:01:48.344176Z",
     "shell.execute_reply": "2023-08-30T04:01:48.343578Z"
    },
    "papermill": {
     "duration": 0.349982,
     "end_time": "2023-08-30T04:01:48.345170",
     "exception": false,
     "start_time": "2023-08-30T04:01:47.995188",
     "status": "completed"
    },
    "tags": []
   },
   "outputs": [
    {
     "data": {
      "text/plain": [
       "count    7021.000000\n",
       "mean        0.020927\n",
       "std         0.133208\n",
       "min         0.000000\n",
       "25%         0.000000\n",
       "50%         0.000000\n",
       "75%         0.000000\n",
       "max         1.000000\n",
       "dtype: float64"
      ]
     },
     "execution_count": 35,
     "metadata": {},
     "output_type": "execute_result"
    }
   ],
   "source": [
    "gene_corrs_flat.describe()"
   ]
  },
  {
   "cell_type": "code",
   "execution_count": 36,
   "id": "b3815678-0f93-4b35-897b-a9d047a2aa78",
   "metadata": {
    "execution": {
     "iopub.execute_input": "2023-08-30T04:01:48.782824Z",
     "iopub.status.busy": "2023-08-30T04:01:48.782577Z",
     "iopub.status.idle": "2023-08-30T04:01:48.806838Z",
     "shell.execute_reply": "2023-08-30T04:01:48.806377Z"
    },
    "papermill": {
     "duration": 0.247663,
     "end_time": "2023-08-30T04:01:48.808154",
     "exception": false,
     "start_time": "2023-08-30T04:01:48.560491",
     "status": "completed"
    },
    "tags": []
   },
   "outputs": [
    {
     "data": {
      "text/plain": [
       "0.00    0.000000\n",
       "0.05    0.000000\n",
       "0.10    0.000000\n",
       "0.15    0.000000\n",
       "0.20    0.000000\n",
       "0.25    0.000000\n",
       "0.30    0.000000\n",
       "0.35    0.000000\n",
       "0.40    0.000000\n",
       "0.45    0.000000\n",
       "0.50    0.000000\n",
       "0.55    0.000000\n",
       "0.60    0.000000\n",
       "0.65    0.000000\n",
       "0.70    0.000000\n",
       "0.75    0.000000\n",
       "0.80    0.000000\n",
       "0.85    0.001942\n",
       "0.90    0.006571\n",
       "0.95    0.011050\n",
       "dtype: float64"
      ]
     },
     "metadata": {},
     "output_type": "display_data"
    }
   ],
   "source": [
    "gene_corrs_quantiles = gene_corrs_flat.quantile(np.arange(0, 1, 0.05))\n",
    "display(gene_corrs_quantiles)"
   ]
  },
  {
   "cell_type": "markdown",
   "id": "87134509-b145-4a10-8bc9-b7e914c2b0fa",
   "metadata": {
    "papermill": {
     "duration": 0.216097,
     "end_time": "2023-08-30T04:01:49.293377",
     "exception": false,
     "start_time": "2023-08-30T04:01:49.077280",
     "status": "completed"
    },
    "tags": []
   },
   "source": [
    "## Positive definiteness"
   ]
  },
  {
   "cell_type": "code",
   "execution_count": 37,
   "id": "07d9a9a1-a4f7-48aa-b916-6d42a8cc6186",
   "metadata": {
    "execution": {
     "iopub.execute_input": "2023-08-30T04:01:49.759520Z",
     "iopub.status.busy": "2023-08-30T04:01:49.759291Z",
     "iopub.status.idle": "2023-08-30T04:01:49.777005Z",
     "shell.execute_reply": "2023-08-30T04:01:49.776563Z"
    },
    "papermill": {
     "duration": 0.268254,
     "end_time": "2023-08-30T04:01:49.777932",
     "exception": false,
     "start_time": "2023-08-30T04:01:49.509678",
     "status": "completed"
    },
    "tags": []
   },
   "outputs": [
    {
     "data": {
      "text/plain": [
       "0"
      ]
     },
     "metadata": {},
     "output_type": "display_data"
    },
    {
     "data": {
      "text/plain": [
       "array([], dtype=float64)"
      ]
     },
     "metadata": {},
     "output_type": "display_data"
    }
   ],
   "source": [
    "# print negative eigenvalues\n",
    "eigs = np.linalg.eigvals(gene_corrs_df.to_numpy())\n",
    "display(len(eigs[eigs < 0]))\n",
    "display(eigs[eigs < 0])"
   ]
  },
  {
   "cell_type": "code",
   "execution_count": 38,
   "id": "6e218436-c3c5-4028-8c94-a4fa6260efce",
   "metadata": {
    "execution": {
     "iopub.execute_input": "2023-08-30T04:01:50.206397Z",
     "iopub.status.busy": "2023-08-30T04:01:50.206077Z",
     "iopub.status.idle": "2023-08-30T04:01:50.229771Z",
     "shell.execute_reply": "2023-08-30T04:01:50.229147Z"
    },
    "papermill": {
     "duration": 0.239018,
     "end_time": "2023-08-30T04:01:50.230809",
     "exception": false,
     "start_time": "2023-08-30T04:01:49.991791",
     "status": "completed"
    },
    "tags": []
   },
   "outputs": [
    {
     "name": "stdout",
     "output_type": "stream",
     "text": [
      "Works!\n"
     ]
    }
   ],
   "source": [
    "try:\n",
    "    chol_mat = np.linalg.cholesky(gene_corrs_df.to_numpy())\n",
    "    cov_inv = np.linalg.inv(chol_mat)\n",
    "    print(\"Works!\")\n",
    "except Exception as e:\n",
    "    print(f\"Cholesky decomposition failed: {str(e)}\")"
   ]
  },
  {
   "cell_type": "code",
   "execution_count": 39,
   "id": "dd8827fb-faf9-4c7c-9454-015e94752706",
   "metadata": {
    "execution": {
     "iopub.execute_input": "2023-08-30T04:01:50.742674Z",
     "iopub.status.busy": "2023-08-30T04:01:50.742013Z",
     "iopub.status.idle": "2023-08-30T04:01:50.768599Z",
     "shell.execute_reply": "2023-08-30T04:01:50.768009Z"
    },
    "papermill": {
     "duration": 0.243302,
     "end_time": "2023-08-30T04:01:50.769596",
     "exception": false,
     "start_time": "2023-08-30T04:01:50.526294",
     "status": "completed"
    },
    "tags": []
   },
   "outputs": [
    {
     "name": "stdout",
     "output_type": "stream",
     "text": [
      "Works!\n"
     ]
    }
   ],
   "source": [
    "try:\n",
    "    # decomposition used by statsmodels.GLS\n",
    "    cholsigmainv = np.linalg.cholesky(np.linalg.inv(gene_corrs_df.to_numpy())).T\n",
    "    print(\"Works!\")\n",
    "except Exception as e:\n",
    "    print(f\"Cholesky decomposition failed (statsmodels.GLS): {str(e)}\")"
   ]
  },
  {
   "cell_type": "markdown",
   "id": "8e60a080-edb2-4e9c-b2ef-22961693200c",
   "metadata": {
    "papermill": {
     "duration": 0.251389,
     "end_time": "2023-08-30T04:01:51.236916",
     "exception": false,
     "start_time": "2023-08-30T04:01:50.985527",
     "status": "completed"
    },
    "tags": []
   },
   "source": [
    "## Plot: distribution"
   ]
  },
  {
   "cell_type": "code",
   "execution_count": 40,
   "id": "8301126b-a7d4-4744-9c7d-f0f86eb6f54c",
   "metadata": {
    "execution": {
     "iopub.execute_input": "2023-08-30T04:01:51.697056Z",
     "iopub.status.busy": "2023-08-30T04:01:51.696688Z",
     "iopub.status.idle": "2023-08-30T04:01:51.919792Z",
     "shell.execute_reply": "2023-08-30T04:01:51.919358Z"
    },
    "papermill": {
     "duration": 0.438833,
     "end_time": "2023-08-30T04:01:51.921895",
     "exception": false,
     "start_time": "2023-08-30T04:01:51.483062",
     "status": "completed"
    },
    "tags": []
   },
   "outputs": [
    {
     "data": {
      "image/png": "[encoded data removed]",
      "text/plain": [
       "<Figure size 700x700 with 1 Axes>"
      ]
     },
     "metadata": {},
     "output_type": "display_data"
    }
   ],
   "source": [
    "with sns.plotting_context(\"paper\", font_scale=1.5):\n",
    "    g = sns.displot(gene_corrs_flat, kde=True, height=7)\n",
    "    g.ax.set_title(\n",
    "        f\"Distribution of gene correlation values in chromosome {CHROMOSOME}\"\n",
    "    )"
   ]
  },
  {
   "cell_type": "markdown",
   "id": "cbd52bca-d878-4a2f-b684-5c83aa3038d4",
   "metadata": {
    "papermill": {
     "duration": 0.238216,
     "end_time": "2023-08-30T04:01:52.405489",
     "exception": false,
     "start_time": "2023-08-30T04:01:52.167273",
     "status": "completed"
    },
    "tags": []
   },
   "source": [
    "## Plot: heatmap"
   ]
  },
  {
   "cell_type": "code",
   "execution_count": 41,
   "id": "d03fe63a-c7b2-4fb9-a53c-db362ce843c9",
   "metadata": {
    "execution": {
     "iopub.execute_input": "2023-08-30T04:01:52.902061Z",
     "iopub.status.busy": "2023-08-30T04:01:52.901682Z",
     "iopub.status.idle": "2023-08-30T04:01:52.924674Z",
     "shell.execute_reply": "2023-08-30T04:01:52.924102Z"
    },
    "papermill": {
     "duration": 0.276139,
     "end_time": "2023-08-30T04:01:52.925658",
     "exception": false,
     "start_time": "2023-08-30T04:01:52.649519",
     "status": "completed"
    },
    "tags": []
   },
   "outputs": [
    {
     "data": {
      "text/plain": [
       "'0.0 / 0.05'"
      ]
     },
     "metadata": {},
     "output_type": "display_data"
    }
   ],
   "source": [
    "vmin_val = min(0.00, gene_corrs_quantiles[0.10])\n",
    "vmax_val = max(0.05, gene_corrs_quantiles[0.90])\n",
    "display(f\"{vmin_val} / {vmax_val}\")"
   ]
  },
  {
   "cell_type": "code",
   "execution_count": 42,
   "id": "dc41b70b-5bcc-4d9e-9f33-a22c4a94dab5",
   "metadata": {
    "execution": {
     "iopub.execute_input": "2023-08-30T04:01:53.379317Z",
     "iopub.status.busy": "2023-08-30T04:01:53.379028Z",
     "iopub.status.idle": "2023-08-30T04:01:53.539555Z",
     "shell.execute_reply": "2023-08-30T04:01:53.538958Z"
    },
    "papermill": {
     "duration": 0.401055,
     "end_time": "2023-08-30T04:01:53.540457",
     "exception": false,
     "start_time": "2023-08-30T04:01:53.139402",
     "status": "completed"
    },
    "tags": []
   },
   "outputs": [
    {
     "data": {
      "text/plain": [
       "Text(0.5, 1.0, 'Gene correlations in chromosome 13')"
      ]
     },
     "execution_count": 42,
     "metadata": {},
     "output_type": "execute_result"
    },
    {
     "data": {
      "image/png": "[encoded data removed]",
      "text/plain": [
       "<Figure size 1000x1000 with 2 Axes>"
      ]
     },
     "metadata": {},
     "output_type": "display_data"
    }
   ],
   "source": [
    "f, ax = plt.subplots(figsize=(10, 10))\n",
    "sns.heatmap(\n",
    "    gene_corrs_df,\n",
    "    xticklabels=False,\n",
    "    yticklabels=False,\n",
    "    square=True,\n",
    "    vmin=vmin_val,\n",
    "    vmax=vmax_val,\n",
    "    cmap=\"rocket_r\",\n",
    "    ax=ax,\n",
    ")\n",
    "ax.set_title(f\"Gene correlations in chromosome {CHROMOSOME}\")"
   ]
  },
  {
   "cell_type": "code",
   "execution_count": null,
   "id": "b25e3ead",
   "metadata": {
    "papermill": {
     "duration": 0.292859,
     "end_time": "2023-08-30T04:01:54.090217",
     "exception": false,
     "start_time": "2023-08-30T04:01:53.797358",
     "status": "completed"
    },
    "tags": []
   },
   "outputs": [],
   "source": []
  }
 ],
 "metadata": {
  "jupytext": {
   "cell_metadata_filter": "all,-execution,-papermill,-trusted",
   "formats": "ipynb,py//py:percent"
  },
  "kernelspec": {
   "display_name": "Python 3 (ipykernel)",
   "language": "python",
   "name": "python3"
  },
  "language_info": {
   "codemirror_mode": {
    "name": "ipython",
    "version": 3
   },
   "file_extension": ".py",
   "mimetype": "text/x-python",
   "name": "python",
   "nbconvert_exporter": "python",
   "pygments_lexer": "ipython3",
   "version": "3.10.6"
  },
  "papermill": {
   "default_parameters": {},
   "duration": 106.454734,
   "end_time": "2023-08-30T04:01:57.594323",
   "environment_variables": {},
   "exception": null,
   "input_path": "projects/chronotype/nbs/20_gene_corrs/jobs/05-gene_expr_correlations.ipynb",
   "output_path": "projects/chronotype/nbs/20_gene_corrs/jobs/../output/chronotype/05-gene_expr_correlations-chr13.run.ipynb",
   "parameters": {
    "CHROMOSOME": 13,
    "COHORT_NAME": "chronotype",
    "OUTPUT_DIR_BASE": "/opt/data/projects/chronotype/results/gls_phenoplier",
    "PHENOPLIER_NOTEBOOK_FILEPATH": "projects/chronotype/nbs/20_gene_corrs/jobs/05-gene_expr_correlations.ipynb"
   },
   "start_time": "2023-08-30T04:00:11.139589",
   "version": "2.2.2"
  }
 },
 "nbformat": 4,
 "nbformat_minor": 5
}
