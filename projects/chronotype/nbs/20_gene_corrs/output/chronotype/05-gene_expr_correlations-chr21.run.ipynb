{
 "cells": [
  {
   "cell_type": "markdown",
   "id": "7a6632fb",
   "metadata": {
    "papermill": {
     "duration": 0.011077,
     "end_time": "2023-08-30T04:01:35.482978",
     "exception": false,
     "start_time": "2023-08-30T04:01:35.471901",
     "status": "completed"
    },
    "tags": []
   },
   "source": [
    "# Description"
   ]
  },
  {
   "cell_type": "markdown",
   "id": "7097c346",
   "metadata": {
    "papermill": {
     "duration": 0.008852,
     "end_time": "2023-08-30T04:01:35.502404",
     "exception": false,
     "start_time": "2023-08-30T04:01:35.493552",
     "status": "completed"
    },
    "tags": []
   },
   "source": [
    "This notebook computes predicted expression correlations between all genes in the MultiPLIER models.\n",
    "\n",
    "It has specicfic parameters for papermill (see under `Settings` below).\n",
    "\n",
    "This notebook should not be directly run. It is used by other notebooks."
   ]
  },
  {
   "cell_type": "markdown",
   "id": "c61d8427",
   "metadata": {
    "papermill": {
     "duration": 0.010503,
     "end_time": "2023-08-30T04:01:35.522220",
     "exception": false,
     "start_time": "2023-08-30T04:01:35.511717",
     "status": "completed"
    },
    "tags": []
   },
   "source": [
    "# Modules"
   ]
  },
  {
   "cell_type": "code",
   "execution_count": 1,
   "id": "bbc0234f",
   "metadata": {
    "execution": {
     "iopub.execute_input": "2023-08-30T04:01:35.544923Z",
     "iopub.status.busy": "2023-08-30T04:01:35.544535Z",
     "iopub.status.idle": "2023-08-30T04:01:35.563927Z",
     "shell.execute_reply": "2023-08-30T04:01:35.563235Z"
    },
    "papermill": {
     "duration": 0.032664,
     "end_time": "2023-08-30T04:01:35.565771",
     "exception": false,
     "start_time": "2023-08-30T04:01:35.533107",
     "status": "completed"
    },
    "tags": []
   },
   "outputs": [],
   "source": [
    "%load_ext autoreload\n",
    "%autoreload 2"
   ]
  },
  {
   "cell_type": "code",
   "execution_count": 2,
   "id": "1d5f5a59",
   "metadata": {
    "execution": {
     "iopub.execute_input": "2023-08-30T04:01:35.586231Z",
     "iopub.status.busy": "2023-08-30T04:01:35.585687Z",
     "iopub.status.idle": "2023-08-30T04:01:36.441556Z",
     "shell.execute_reply": "2023-08-30T04:01:36.440945Z"
    },
    "papermill": {
     "duration": 0.867822,
     "end_time": "2023-08-30T04:01:36.442796",
     "exception": false,
     "start_time": "2023-08-30T04:01:35.574974",
     "status": "completed"
    },
    "tags": []
   },
   "outputs": [],
   "source": [
    "from random import sample, seed\n",
    "import warnings\n",
    "from pathlib import Path\n",
    "import pickle\n",
    "import traceback\n",
    "\n",
    "import numpy as np\n",
    "from scipy.spatial.distance import squareform\n",
    "import pandas as pd\n",
    "from tqdm import tqdm\n",
    "import matplotlib.pyplot as plt\n",
    "import seaborn as sns\n",
    "\n",
    "import conf\n",
    "from entity import Gene"
   ]
  },
  {
   "cell_type": "markdown",
   "id": "1eac24b5",
   "metadata": {
    "papermill": {
     "duration": 0.005203,
     "end_time": "2023-08-30T04:01:36.452678",
     "exception": false,
     "start_time": "2023-08-30T04:01:36.447475",
     "status": "completed"
    },
    "tags": []
   },
   "source": [
    "# Settings"
   ]
  },
  {
   "cell_type": "code",
   "execution_count": 3,
   "id": "ca4560ba",
   "metadata": {
    "execution": {
     "iopub.execute_input": "2023-08-30T04:01:36.463188Z",
     "iopub.status.busy": "2023-08-30T04:01:36.462944Z",
     "iopub.status.idle": "2023-08-30T04:01:36.487069Z",
     "shell.execute_reply": "2023-08-30T04:01:36.485996Z"
    },
    "papermill": {
     "duration": 0.030577,
     "end_time": "2023-08-30T04:01:36.488200",
     "exception": false,
     "start_time": "2023-08-30T04:01:36.457623",
     "status": "completed"
    },
    "tags": [
     "parameters"
    ]
   },
   "outputs": [],
   "source": [
    "# a cohort name (it could be something like UK_BIOBANK, etc)\n",
    "COHORT_NAME = None\n",
    "\n",
    "# reference panel such as 1000G or GTEX_V8\n",
    "REFERENCE_PANEL = \"GTEX_V8\"\n",
    "\n",
    "# predictions models such as MASHR or ELASTIC_NET\n",
    "EQTL_MODEL = \"MASHR\"\n",
    "\n",
    "# this is the default value used in S-MultiXcan to select the\n",
    "# top principal components of the expression correlation matrix\n",
    "SMULTIXCAN_CONDITION_NUMBER = 30\n",
    "\n",
    "# specifies a single chromosome value\n",
    "CHROMOSOME = None\n",
    "\n",
    "# If True, computes the correlation between closeby genes only (see\n",
    "# entity.Gene.within_distance for more details). Otherwise, it computes\n",
    "# correlations for all genes in a chromosome\n",
    "COMPUTE_CORRELATIONS_WITHIN_DISTANCE = True\n",
    "\n",
    "# if True, then it will continue if a gene pair correlation fails,\n",
    "# printing the warning/error for debugging. If False, any warning/error\n",
    "# will be thrown\n",
    "DEBUG_MODE = False\n",
    "\n",
    "# output dir\n",
    "OUTPUT_DIR_BASE = None"
   ]
  },
  {
   "cell_type": "code",
   "execution_count": 4,
   "id": "af73e515",
   "metadata": {
    "execution": {
     "iopub.execute_input": "2023-08-30T04:01:36.498990Z",
     "iopub.status.busy": "2023-08-30T04:01:36.498633Z",
     "iopub.status.idle": "2023-08-30T04:01:36.519563Z",
     "shell.execute_reply": "2023-08-30T04:01:36.518904Z"
    },
    "papermill": {
     "duration": 0.027873,
     "end_time": "2023-08-30T04:01:36.520627",
     "exception": false,
     "start_time": "2023-08-30T04:01:36.492754",
     "status": "completed"
    },
    "tags": [
     "injected-parameters"
    ]
   },
   "outputs": [],
   "source": [
    "# Parameters\n",
    "PHENOPLIER_NOTEBOOK_FILEPATH = (\n",
    "    \"projects/chronotype/nbs/20_gene_corrs/jobs/05-gene_expr_correlations.ipynb\"\n",
    ")\n",
    "COHORT_NAME = \"chronotype\"\n",
    "CHROMOSOME = 21\n",
    "OUTPUT_DIR_BASE = \"/opt/data/projects/chronotype/results/gls_phenoplier\"\n"
   ]
  },
  {
   "cell_type": "code",
   "execution_count": 5,
   "id": "3190631f-27fc-480f-b18e-571d580425a5",
   "metadata": {
    "execution": {
     "iopub.execute_input": "2023-08-30T04:01:36.531040Z",
     "iopub.status.busy": "2023-08-30T04:01:36.530602Z",
     "iopub.status.idle": "2023-08-30T04:01:36.560618Z",
     "shell.execute_reply": "2023-08-30T04:01:36.559951Z"
    },
    "papermill": {
     "duration": 0.036227,
     "end_time": "2023-08-30T04:01:36.561606",
     "exception": false,
     "start_time": "2023-08-30T04:01:36.525379",
     "status": "completed"
    },
    "tags": []
   },
   "outputs": [
    {
     "data": {
      "text/plain": [
       "'Cohort name: chronotype'"
      ]
     },
     "metadata": {},
     "output_type": "display_data"
    }
   ],
   "source": [
    "assert COHORT_NAME is not None and len(COHORT_NAME) > 0, \"A cohort name must be given\"\n",
    "\n",
    "COHORT_NAME = COHORT_NAME.lower()\n",
    "display(f\"Cohort name: {COHORT_NAME}\")"
   ]
  },
  {
   "cell_type": "code",
   "execution_count": 6,
   "id": "f53ba19b-0f93-4fa2-a047-63b375939d1a",
   "metadata": {
    "execution": {
     "iopub.execute_input": "2023-08-30T04:01:36.573173Z",
     "iopub.status.busy": "2023-08-30T04:01:36.572878Z",
     "iopub.status.idle": "2023-08-30T04:01:36.596738Z",
     "shell.execute_reply": "2023-08-30T04:01:36.596122Z"
    },
    "papermill": {
     "duration": 0.030422,
     "end_time": "2023-08-30T04:01:36.597727",
     "exception": false,
     "start_time": "2023-08-30T04:01:36.567305",
     "status": "completed"
    },
    "tags": []
   },
   "outputs": [
    {
     "data": {
      "text/plain": [
       "'Reference panel: GTEX_V8'"
      ]
     },
     "metadata": {},
     "output_type": "display_data"
    }
   ],
   "source": [
    "assert (\n",
    "    REFERENCE_PANEL is not None and len(REFERENCE_PANEL) > 0\n",
    "), \"A reference panel must be given\"\n",
    "\n",
    "display(f\"Reference panel: {REFERENCE_PANEL}\")"
   ]
  },
  {
   "cell_type": "code",
   "execution_count": 7,
   "id": "e024d130-c139-429a-9c6e-ccf149e297b0",
   "metadata": {
    "execution": {
     "iopub.execute_input": "2023-08-30T04:01:36.608773Z",
     "iopub.status.busy": "2023-08-30T04:01:36.608505Z",
     "iopub.status.idle": "2023-08-30T04:01:36.629200Z",
     "shell.execute_reply": "2023-08-30T04:01:36.628782Z"
    },
    "papermill": {
     "duration": 0.028287,
     "end_time": "2023-08-30T04:01:36.630974",
     "exception": false,
     "start_time": "2023-08-30T04:01:36.602687",
     "status": "completed"
    },
    "tags": []
   },
   "outputs": [
    {
     "data": {
      "text/plain": [
       "'eQTL model: MASHR) / mashr_'"
      ]
     },
     "metadata": {},
     "output_type": "display_data"
    }
   ],
   "source": [
    "assert (\n",
    "    EQTL_MODEL is not None and len(EQTL_MODEL) > 0\n",
    "), \"A prediction/eQTL model must be given\"\n",
    "\n",
    "EQTL_MODEL_FILES_PREFIX = conf.PHENOMEXCAN[\"PREDICTION_MODELS\"][f\"{EQTL_MODEL}_PREFIX\"]\n",
    "display(f\"eQTL model: {EQTL_MODEL}) / {EQTL_MODEL_FILES_PREFIX}\")"
   ]
  },
  {
   "cell_type": "code",
   "execution_count": 8,
   "id": "552a7f63-a18c-4d3e-bb6a-94f99b431291",
   "metadata": {
    "execution": {
     "iopub.execute_input": "2023-08-30T04:01:36.652047Z",
     "iopub.status.busy": "2023-08-30T04:01:36.651543Z",
     "iopub.status.idle": "2023-08-30T04:01:36.674219Z",
     "shell.execute_reply": "2023-08-30T04:01:36.673576Z"
    },
    "papermill": {
     "duration": 0.034294,
     "end_time": "2023-08-30T04:01:36.675224",
     "exception": false,
     "start_time": "2023-08-30T04:01:36.640930",
     "status": "completed"
    },
    "tags": []
   },
   "outputs": [
    {
     "data": {
      "text/plain": [
       "'S-MultiXcan condition number: 30'"
      ]
     },
     "metadata": {},
     "output_type": "display_data"
    }
   ],
   "source": [
    "assert (\n",
    "    SMULTIXCAN_CONDITION_NUMBER is not None and SMULTIXCAN_CONDITION_NUMBER > 0\n",
    "), \"The S-MultiXcan condition number (positive integer) must be given\"\n",
    "\n",
    "display(f\"S-MultiXcan condition number: {SMULTIXCAN_CONDITION_NUMBER}\")"
   ]
  },
  {
   "cell_type": "code",
   "execution_count": 9,
   "id": "f34a336f-548e-4afe-8955-90eaea4f42c6",
   "metadata": {
    "execution": {
     "iopub.execute_input": "2023-08-30T04:01:36.686494Z",
     "iopub.status.busy": "2023-08-30T04:01:36.686185Z",
     "iopub.status.idle": "2023-08-30T04:01:36.708215Z",
     "shell.execute_reply": "2023-08-30T04:01:36.707654Z"
    },
    "papermill": {
     "duration": 0.029223,
     "end_time": "2023-08-30T04:01:36.709508",
     "exception": false,
     "start_time": "2023-08-30T04:01:36.680285",
     "status": "completed"
    },
    "tags": []
   },
   "outputs": [
    {
     "data": {
      "text/plain": [
       "'Working on chromosome 21'"
      ]
     },
     "metadata": {},
     "output_type": "display_data"
    }
   ],
   "source": [
    "assert CHROMOSOME is not None and (\n",
    "    1 <= CHROMOSOME <= 22\n",
    "), \"You have to select one chromosome (format: number between 1 and 22)\"\n",
    "\n",
    "display(f\"Working on chromosome {CHROMOSOME}\")"
   ]
  },
  {
   "cell_type": "code",
   "execution_count": 10,
   "id": "ab8e96e8-06b5-4363-9dcd-dc4d78cc27f7",
   "metadata": {
    "execution": {
     "iopub.execute_input": "2023-08-30T04:01:36.722924Z",
     "iopub.status.busy": "2023-08-30T04:01:36.722637Z",
     "iopub.status.idle": "2023-08-30T04:01:36.747144Z",
     "shell.execute_reply": "2023-08-30T04:01:36.745746Z"
    },
    "papermill": {
     "duration": 0.031775,
     "end_time": "2023-08-30T04:01:36.748177",
     "exception": false,
     "start_time": "2023-08-30T04:01:36.716402",
     "status": "completed"
    },
    "tags": []
   },
   "outputs": [
    {
     "data": {
      "text/plain": [
       "'Compute correlation within distance True'"
      ]
     },
     "metadata": {},
     "output_type": "display_data"
    }
   ],
   "source": [
    "display(f\"Compute correlation within distance {COMPUTE_CORRELATIONS_WITHIN_DISTANCE}\")"
   ]
  },
  {
   "cell_type": "code",
   "execution_count": 11,
   "id": "b393b698-77e3-4ba2-8ac1-e14d51aa988f",
   "metadata": {
    "execution": {
     "iopub.execute_input": "2023-08-30T04:01:36.759166Z",
     "iopub.status.busy": "2023-08-30T04:01:36.758732Z",
     "iopub.status.idle": "2023-08-30T04:01:36.782212Z",
     "shell.execute_reply": "2023-08-30T04:01:36.781592Z"
    },
    "papermill": {
     "duration": 0.030294,
     "end_time": "2023-08-30T04:01:36.783479",
     "exception": false,
     "start_time": "2023-08-30T04:01:36.753185",
     "status": "completed"
    },
    "tags": []
   },
   "outputs": [
    {
     "data": {
      "text/plain": [
       "'Using output dir base: /opt/data/projects/chronotype/results/gls_phenoplier/gene_corrs/chronotype'"
      ]
     },
     "metadata": {},
     "output_type": "display_data"
    }
   ],
   "source": [
    "assert (\n",
    "    OUTPUT_DIR_BASE is not None and len(OUTPUT_DIR_BASE) > 0\n",
    "), \"Output directory path must be given\"\n",
    "\n",
    "OUTPUT_DIR_BASE = (Path(OUTPUT_DIR_BASE) / \"gene_corrs\" / COHORT_NAME).resolve()\n",
    "\n",
    "OUTPUT_DIR_BASE.mkdir(parents=True, exist_ok=True)\n",
    "\n",
    "display(f\"Using output dir base: {OUTPUT_DIR_BASE}\")"
   ]
  },
  {
   "cell_type": "markdown",
   "id": "d2ba085e",
   "metadata": {
    "papermill": {
     "duration": 0.009123,
     "end_time": "2023-08-30T04:01:36.802271",
     "exception": false,
     "start_time": "2023-08-30T04:01:36.793148",
     "status": "completed"
    },
    "tags": []
   },
   "source": [
    "# Load data"
   ]
  },
  {
   "cell_type": "markdown",
   "id": "7dcb8db7",
   "metadata": {
    "papermill": {
     "duration": 0.009245,
     "end_time": "2023-08-30T04:01:36.820684",
     "exception": false,
     "start_time": "2023-08-30T04:01:36.811439",
     "status": "completed"
    },
    "tags": []
   },
   "source": [
    "## GWAS variants"
   ]
  },
  {
   "cell_type": "code",
   "execution_count": 12,
   "id": "29434c4e-8cd3-4b9b-82e4-b5a251d9dd19",
   "metadata": {
    "execution": {
     "iopub.execute_input": "2023-08-30T04:01:36.833203Z",
     "iopub.status.busy": "2023-08-30T04:01:36.832822Z",
     "iopub.status.idle": "2023-08-30T04:01:40.073905Z",
     "shell.execute_reply": "2023-08-30T04:01:40.073403Z"
    },
    "papermill": {
     "duration": 3.248853,
     "end_time": "2023-08-30T04:01:40.075559",
     "exception": false,
     "start_time": "2023-08-30T04:01:36.826706",
     "status": "completed"
    },
    "tags": []
   },
   "outputs": [],
   "source": [
    "with open(OUTPUT_DIR_BASE / \"gwas_variant_ids.pkl\", \"rb\") as handle:\n",
    "    gwas_variants_ids_set = pickle.load(handle)"
   ]
  },
  {
   "cell_type": "code",
   "execution_count": 13,
   "id": "b9d9dec2-4a76-4bf9-bde2-e24c95acb8a0",
   "metadata": {
    "execution": {
     "iopub.execute_input": "2023-08-30T04:01:40.096223Z",
     "iopub.status.busy": "2023-08-30T04:01:40.096086Z",
     "iopub.status.idle": "2023-08-30T04:01:40.111387Z",
     "shell.execute_reply": "2023-08-30T04:01:40.110937Z"
    },
    "papermill": {
     "duration": 0.028246,
     "end_time": "2023-08-30T04:01:40.112696",
     "exception": false,
     "start_time": "2023-08-30T04:01:40.084450",
     "status": "completed"
    },
    "tags": []
   },
   "outputs": [
    {
     "data": {
      "text/plain": [
       "11737794"
      ]
     },
     "execution_count": 13,
     "metadata": {},
     "output_type": "execute_result"
    }
   ],
   "source": [
    "len(gwas_variants_ids_set)"
   ]
  },
  {
   "cell_type": "code",
   "execution_count": 14,
   "id": "4235b06a-6034-4ee4-a0a3-2ae35d122418",
   "metadata": {
    "execution": {
     "iopub.execute_input": "2023-08-30T04:01:40.132588Z",
     "iopub.status.busy": "2023-08-30T04:01:40.132120Z",
     "iopub.status.idle": "2023-08-30T04:01:40.844017Z",
     "shell.execute_reply": "2023-08-30T04:01:40.843666Z"
    },
    "papermill": {
     "duration": 0.722763,
     "end_time": "2023-08-30T04:01:40.845020",
     "exception": false,
     "start_time": "2023-08-30T04:01:40.122257",
     "status": "completed"
    },
    "tags": []
   },
   "outputs": [
    {
     "data": {
      "text/plain": [
       "['chr10_106812242_C_T_b38',\n",
       " 'chr3_113575306_C_T_b38',\n",
       " 'chr15_22787334_G_T_b38',\n",
       " 'chr17_57933331_CCT_C_b38',\n",
       " 'chr14_41582255_A_T_b38']"
      ]
     },
     "execution_count": 14,
     "metadata": {},
     "output_type": "execute_result"
    }
   ],
   "source": [
    "list(gwas_variants_ids_set)[:5]"
   ]
  },
  {
   "cell_type": "markdown",
   "id": "07866999-2305-41f9-a144-e69c9122c212",
   "metadata": {
    "papermill": {
     "duration": 0.010407,
     "end_time": "2023-08-30T04:01:40.861173",
     "exception": false,
     "start_time": "2023-08-30T04:01:40.850766",
     "status": "completed"
    },
    "tags": []
   },
   "source": [
    "## S-PrediXcan tissue models"
   ]
  },
  {
   "cell_type": "code",
   "execution_count": 15,
   "id": "780611d9-77c8-405f-90a4-f271f7b09397",
   "metadata": {
    "execution": {
     "iopub.execute_input": "2023-08-30T04:01:40.873209Z",
     "iopub.status.busy": "2023-08-30T04:01:40.873050Z",
     "iopub.status.idle": "2023-08-30T04:01:42.210779Z",
     "shell.execute_reply": "2023-08-30T04:01:42.210298Z"
    },
    "papermill": {
     "duration": 1.345501,
     "end_time": "2023-08-30T04:01:42.212376",
     "exception": false,
     "start_time": "2023-08-30T04:01:40.866875",
     "status": "completed"
    },
    "tags": []
   },
   "outputs": [],
   "source": [
    "spredixcan_genes_models = pd.read_pickle(OUTPUT_DIR_BASE / \"gene_tissues.pkl\")"
   ]
  },
  {
   "cell_type": "code",
   "execution_count": 16,
   "id": "726dd1f6-9557-4225-91fa-b3b879ea96e1",
   "metadata": {
    "execution": {
     "iopub.execute_input": "2023-08-30T04:01:42.233454Z",
     "iopub.status.busy": "2023-08-30T04:01:42.233278Z",
     "iopub.status.idle": "2023-08-30T04:01:42.247132Z",
     "shell.execute_reply": "2023-08-30T04:01:42.246723Z"
    },
    "papermill": {
     "duration": 0.026147,
     "end_time": "2023-08-30T04:01:42.248354",
     "exception": false,
     "start_time": "2023-08-30T04:01:42.222207",
     "status": "completed"
    },
    "tags": []
   },
   "outputs": [
    {
     "data": {
      "text/plain": [
       "(6445, 5)"
      ]
     },
     "execution_count": 16,
     "metadata": {},
     "output_type": "execute_result"
    }
   ],
   "source": [
    "spredixcan_genes_models.shape"
   ]
  },
  {
   "cell_type": "code",
   "execution_count": 17,
   "id": "944a1b48-222c-4eb0-b252-b9de2cbca215",
   "metadata": {
    "execution": {
     "iopub.execute_input": "2023-08-30T04:01:42.268680Z",
     "iopub.status.busy": "2023-08-30T04:01:42.268480Z",
     "iopub.status.idle": "2023-08-30T04:01:42.296015Z",
     "shell.execute_reply": "2023-08-30T04:01:42.295584Z"
    },
    "papermill": {
     "duration": 0.038894,
     "end_time": "2023-08-30T04:01:42.297310",
     "exception": false,
     "start_time": "2023-08-30T04:01:42.258416",
     "status": "completed"
    },
    "tags": []
   },
   "outputs": [
    {
     "data": {
      "text/html": [
       "<div>\n",
       "<style scoped>\n",
       "    .dataframe tbody tr th:only-of-type {\n",
       "        vertical-align: middle;\n",
       "    }\n",
       "\n",
       "    .dataframe tbody tr th {\n",
       "        vertical-align: top;\n",
       "    }\n",
       "\n",
       "    .dataframe thead th {\n",
       "        text-align: right;\n",
       "    }\n",
       "</style>\n",
       "<table border=\"1\" class=\"dataframe\">\n",
       "  <thead>\n",
       "    <tr style=\"text-align: right;\">\n",
       "      <th></th>\n",
       "      <th>gene_name</th>\n",
       "      <th>tissue</th>\n",
       "      <th>n_tissues</th>\n",
       "      <th>n_snps_used_sum</th>\n",
       "      <th>n_snps_in_model_sum</th>\n",
       "    </tr>\n",
       "    <tr>\n",
       "      <th>gene_id</th>\n",
       "      <th></th>\n",
       "      <th></th>\n",
       "      <th></th>\n",
       "      <th></th>\n",
       "      <th></th>\n",
       "    </tr>\n",
       "  </thead>\n",
       "  <tbody>\n",
       "    <tr>\n",
       "      <th>ENSG00000000419</th>\n",
       "      <td>DPM1</td>\n",
       "      <td>(Brain_Substantia_nigra, Brain_Hypothalamus)</td>\n",
       "      <td>2</td>\n",
       "      <td>2</td>\n",
       "      <td>2</td>\n",
       "    </tr>\n",
       "    <tr>\n",
       "      <th>ENSG00000000938</th>\n",
       "      <td>FGR</td>\n",
       "      <td>(Brain_Frontal_Cortex_BA9, Artery_Aorta, Thyro...</td>\n",
       "      <td>36</td>\n",
       "      <td>40</td>\n",
       "      <td>40</td>\n",
       "    </tr>\n",
       "    <tr>\n",
       "      <th>ENSG00000000971</th>\n",
       "      <td>CFH</td>\n",
       "      <td>(Brain_Frontal_Cortex_BA9, Small_Intestine_Ter...</td>\n",
       "      <td>34</td>\n",
       "      <td>44</td>\n",
       "      <td>44</td>\n",
       "    </tr>\n",
       "    <tr>\n",
       "      <th>ENSG00000001084</th>\n",
       "      <td>GCLC</td>\n",
       "      <td>(Brain_Frontal_Cortex_BA9, Small_Intestine_Ter...</td>\n",
       "      <td>32</td>\n",
       "      <td>46</td>\n",
       "      <td>46</td>\n",
       "    </tr>\n",
       "    <tr>\n",
       "      <th>ENSG00000001167</th>\n",
       "      <td>NFYA</td>\n",
       "      <td>(Small_Intestine_Terminal_Ileum, Artery_Aorta,...</td>\n",
       "      <td>40</td>\n",
       "      <td>47</td>\n",
       "      <td>48</td>\n",
       "    </tr>\n",
       "  </tbody>\n",
       "</table>\n",
       "</div>"
      ],
      "text/plain": [
       "                gene_name                                             tissue  \\\n",
       "gene_id                                                                        \n",
       "ENSG00000000419      DPM1       (Brain_Substantia_nigra, Brain_Hypothalamus)   \n",
       "ENSG00000000938       FGR  (Brain_Frontal_Cortex_BA9, Artery_Aorta, Thyro...   \n",
       "ENSG00000000971       CFH  (Brain_Frontal_Cortex_BA9, Small_Intestine_Ter...   \n",
       "ENSG00000001084      GCLC  (Brain_Frontal_Cortex_BA9, Small_Intestine_Ter...   \n",
       "ENSG00000001167      NFYA  (Small_Intestine_Terminal_Ileum, Artery_Aorta,...   \n",
       "\n",
       "                 n_tissues  n_snps_used_sum  n_snps_in_model_sum  \n",
       "gene_id                                                           \n",
       "ENSG00000000419          2                2                    2  \n",
       "ENSG00000000938         36               40                   40  \n",
       "ENSG00000000971         34               44                   44  \n",
       "ENSG00000001084         32               46                   46  \n",
       "ENSG00000001167         40               47                   48  "
      ]
     },
     "execution_count": 17,
     "metadata": {},
     "output_type": "execute_result"
    }
   ],
   "source": [
    "spredixcan_genes_models.head()"
   ]
  },
  {
   "cell_type": "code",
   "execution_count": 18,
   "id": "d1c11bb1-be0b-4f40-b360-633d6827109f",
   "metadata": {
    "execution": {
     "iopub.execute_input": "2023-08-30T04:01:42.318332Z",
     "iopub.status.busy": "2023-08-30T04:01:42.318041Z",
     "iopub.status.idle": "2023-08-30T04:01:42.339173Z",
     "shell.execute_reply": "2023-08-30T04:01:42.338588Z"
    },
    "papermill": {
     "duration": 0.033221,
     "end_time": "2023-08-30T04:01:42.340606",
     "exception": false,
     "start_time": "2023-08-30T04:01:42.307385",
     "status": "completed"
    },
    "tags": []
   },
   "outputs": [],
   "source": [
    "assert spredixcan_genes_models.index.is_unique"
   ]
  },
  {
   "cell_type": "markdown",
   "id": "a5b5092c-a13e-47c4-a92a-480fcc08f3ae",
   "metadata": {
    "papermill": {
     "duration": 0.009879,
     "end_time": "2023-08-30T04:01:42.360550",
     "exception": false,
     "start_time": "2023-08-30T04:01:42.350671",
     "status": "completed"
    },
    "tags": []
   },
   "source": [
    "## Gene info"
   ]
  },
  {
   "cell_type": "code",
   "execution_count": 19,
   "id": "7d6bb224-88e9-4358-ac10-43a41d92cdad",
   "metadata": {
    "execution": {
     "iopub.execute_input": "2023-08-30T04:01:42.375958Z",
     "iopub.status.busy": "2023-08-30T04:01:42.375613Z",
     "iopub.status.idle": "2023-08-30T04:01:42.398089Z",
     "shell.execute_reply": "2023-08-30T04:01:42.397592Z"
    },
    "papermill": {
     "duration": 0.030299,
     "end_time": "2023-08-30T04:01:42.399304",
     "exception": false,
     "start_time": "2023-08-30T04:01:42.369005",
     "status": "completed"
    },
    "tags": []
   },
   "outputs": [],
   "source": [
    "genes_info = pd.read_pickle(OUTPUT_DIR_BASE / \"genes_info.pkl\")"
   ]
  },
  {
   "cell_type": "code",
   "execution_count": 20,
   "id": "9e32abfa-546d-483e-8c18-d526e9e05903",
   "metadata": {
    "execution": {
     "iopub.execute_input": "2023-08-30T04:01:42.413422Z",
     "iopub.status.busy": "2023-08-30T04:01:42.412794Z",
     "iopub.status.idle": "2023-08-30T04:01:42.442193Z",
     "shell.execute_reply": "2023-08-30T04:01:42.441648Z"
    },
    "papermill": {
     "duration": 0.037413,
     "end_time": "2023-08-30T04:01:42.443409",
     "exception": false,
     "start_time": "2023-08-30T04:01:42.405996",
     "status": "completed"
    },
    "tags": []
   },
   "outputs": [
    {
     "data": {
      "text/plain": [
       "(6445, 7)"
      ]
     },
     "execution_count": 20,
     "metadata": {},
     "output_type": "execute_result"
    }
   ],
   "source": [
    "genes_info.shape"
   ]
  },
  {
   "cell_type": "code",
   "execution_count": 21,
   "id": "d16c3e92-85ec-468a-9a56-e25a9774a1cb",
   "metadata": {
    "execution": {
     "iopub.execute_input": "2023-08-30T04:01:42.462992Z",
     "iopub.status.busy": "2023-08-30T04:01:42.462652Z",
     "iopub.status.idle": "2023-08-30T04:01:42.481419Z",
     "shell.execute_reply": "2023-08-30T04:01:42.481040Z"
    },
    "papermill": {
     "duration": 0.031656,
     "end_time": "2023-08-30T04:01:42.482400",
     "exception": false,
     "start_time": "2023-08-30T04:01:42.450744",
     "status": "completed"
    },
    "tags": []
   },
   "outputs": [
    {
     "data": {
      "text/html": [
       "<div>\n",
       "<style scoped>\n",
       "    .dataframe tbody tr th:only-of-type {\n",
       "        vertical-align: middle;\n",
       "    }\n",
       "\n",
       "    .dataframe tbody tr th {\n",
       "        vertical-align: top;\n",
       "    }\n",
       "\n",
       "    .dataframe thead th {\n",
       "        text-align: right;\n",
       "    }\n",
       "</style>\n",
       "<table border=\"1\" class=\"dataframe\">\n",
       "  <thead>\n",
       "    <tr style=\"text-align: right;\">\n",
       "      <th></th>\n",
       "      <th>name</th>\n",
       "      <th>id</th>\n",
       "      <th>chr</th>\n",
       "      <th>band</th>\n",
       "      <th>start_position</th>\n",
       "      <th>end_position</th>\n",
       "      <th>gene_length</th>\n",
       "    </tr>\n",
       "  </thead>\n",
       "  <tbody>\n",
       "    <tr>\n",
       "      <th>0</th>\n",
       "      <td>DUT</td>\n",
       "      <td>ENSG00000128951</td>\n",
       "      <td>15</td>\n",
       "      <td>15q21.1</td>\n",
       "      <td>48331011</td>\n",
       "      <td>48343373</td>\n",
       "      <td>12362</td>\n",
       "    </tr>\n",
       "    <tr>\n",
       "      <th>1</th>\n",
       "      <td>NDUFA4</td>\n",
       "      <td>ENSG00000189043</td>\n",
       "      <td>7</td>\n",
       "      <td>7p21.3</td>\n",
       "      <td>10931943</td>\n",
       "      <td>10940153</td>\n",
       "      <td>8210</td>\n",
       "    </tr>\n",
       "    <tr>\n",
       "      <th>2</th>\n",
       "      <td>EPHB3</td>\n",
       "      <td>ENSG00000182580</td>\n",
       "      <td>3</td>\n",
       "      <td>3q27.1</td>\n",
       "      <td>184561785</td>\n",
       "      <td>184582408</td>\n",
       "      <td>20623</td>\n",
       "    </tr>\n",
       "    <tr>\n",
       "      <th>3</th>\n",
       "      <td>MYLK</td>\n",
       "      <td>ENSG00000065534</td>\n",
       "      <td>3</td>\n",
       "      <td>3q21.1</td>\n",
       "      <td>123610049</td>\n",
       "      <td>123884331</td>\n",
       "      <td>274282</td>\n",
       "    </tr>\n",
       "    <tr>\n",
       "      <th>4</th>\n",
       "      <td>SMPD4</td>\n",
       "      <td>ENSG00000136699</td>\n",
       "      <td>2</td>\n",
       "      <td>2q21.1</td>\n",
       "      <td>130151392</td>\n",
       "      <td>130182750</td>\n",
       "      <td>31358</td>\n",
       "    </tr>\n",
       "  </tbody>\n",
       "</table>\n",
       "</div>"
      ],
      "text/plain": [
       "     name               id  chr     band  start_position  end_position  \\\n",
       "0     DUT  ENSG00000128951   15  15q21.1        48331011      48343373   \n",
       "1  NDUFA4  ENSG00000189043    7   7p21.3        10931943      10940153   \n",
       "2   EPHB3  ENSG00000182580    3   3q27.1       184561785     184582408   \n",
       "3    MYLK  ENSG00000065534    3   3q21.1       123610049     123884331   \n",
       "4   SMPD4  ENSG00000136699    2   2q21.1       130151392     130182750   \n",
       "\n",
       "   gene_length  \n",
       "0        12362  \n",
       "1         8210  \n",
       "2        20623  \n",
       "3       274282  \n",
       "4        31358  "
      ]
     },
     "execution_count": 21,
     "metadata": {},
     "output_type": "execute_result"
    }
   ],
   "source": [
    "genes_info.head()"
   ]
  },
  {
   "cell_type": "markdown",
   "id": "d3843e06",
   "metadata": {
    "papermill": {
     "duration": 0.005449,
     "end_time": "2023-08-30T04:01:42.494030",
     "exception": false,
     "start_time": "2023-08-30T04:01:42.488581",
     "status": "completed"
    },
    "tags": []
   },
   "source": [
    "# Compute correlations"
   ]
  },
  {
   "cell_type": "code",
   "execution_count": 22,
   "id": "cb859c15-d1f3-4006-a74c-2b83c0db9611",
   "metadata": {
    "execution": {
     "iopub.execute_input": "2023-08-30T04:01:42.508995Z",
     "iopub.status.busy": "2023-08-30T04:01:42.508674Z",
     "iopub.status.idle": "2023-08-30T04:01:42.530265Z",
     "shell.execute_reply": "2023-08-30T04:01:42.529689Z"
    },
    "papermill": {
     "duration": 0.031898,
     "end_time": "2023-08-30T04:01:42.531619",
     "exception": false,
     "start_time": "2023-08-30T04:01:42.499721",
     "status": "completed"
    },
    "tags": []
   },
   "outputs": [
    {
     "data": {
      "text/plain": [
       "PosixPath('/opt/data/projects/chronotype/results/gls_phenoplier/gene_corrs/chronotype/by_chr/gene_corrs-chr21.pkl')"
      ]
     },
     "metadata": {},
     "output_type": "display_data"
    }
   ],
   "source": [
    "output_dir = OUTPUT_DIR_BASE / \"by_chr\"\n",
    "output_dir.mkdir(exist_ok=True, parents=True)\n",
    "output_file = output_dir / f\"gene_corrs-chr{CHROMOSOME}.pkl\"\n",
    "display(output_file)"
   ]
  },
  {
   "cell_type": "code",
   "execution_count": 23,
   "id": "aa674fe4-6794-4eed-98fa-32b39d1d4ace",
   "metadata": {
    "execution": {
     "iopub.execute_input": "2023-08-30T04:01:42.549127Z",
     "iopub.status.busy": "2023-08-30T04:01:42.548518Z",
     "iopub.status.idle": "2023-08-30T04:01:42.571298Z",
     "shell.execute_reply": "2023-08-30T04:01:42.570757Z"
    },
    "papermill": {
     "duration": 0.035215,
     "end_time": "2023-08-30T04:01:42.573185",
     "exception": false,
     "start_time": "2023-08-30T04:01:42.537970",
     "status": "completed"
    },
    "tags": []
   },
   "outputs": [],
   "source": [
    "warnings.filterwarnings(\"error\")"
   ]
  },
  {
   "cell_type": "code",
   "execution_count": 24,
   "id": "44d5450b-3baf-43f1-9e2e-4b06f1a785f8",
   "metadata": {
    "execution": {
     "iopub.execute_input": "2023-08-30T04:01:42.595602Z",
     "iopub.status.busy": "2023-08-30T04:01:42.595089Z",
     "iopub.status.idle": "2023-08-30T04:01:42.617147Z",
     "shell.execute_reply": "2023-08-30T04:01:42.616467Z"
    },
    "papermill": {
     "duration": 0.034659,
     "end_time": "2023-08-30T04:01:42.618659",
     "exception": false,
     "start_time": "2023-08-30T04:01:42.584000",
     "status": "completed"
    },
    "tags": []
   },
   "outputs": [],
   "source": [
    "# standard checks\n",
    "all_chrs = genes_info[\"chr\"].dropna().unique()\n",
    "assert all_chrs.shape[0] == 22\n",
    "\n",
    "# select chromosome given by the user\n",
    "assert CHROMOSOME in all_chrs"
   ]
  },
  {
   "cell_type": "code",
   "execution_count": 25,
   "id": "2d7c043c-92a7-4d35-991b-fa69ac1e0268",
   "metadata": {
    "execution": {
     "iopub.execute_input": "2023-08-30T04:01:42.641335Z",
     "iopub.status.busy": "2023-08-30T04:01:42.640832Z",
     "iopub.status.idle": "2023-08-30T04:01:42.664237Z",
     "shell.execute_reply": "2023-08-30T04:01:42.663570Z"
    },
    "papermill": {
     "duration": 0.03588,
     "end_time": "2023-08-30T04:01:42.665356",
     "exception": false,
     "start_time": "2023-08-30T04:01:42.629476",
     "status": "completed"
    },
    "tags": []
   },
   "outputs": [
    {
     "name": "stdout",
     "output_type": "stream",
     "text": [
      "Number of genes in chromosome: 62\n"
     ]
    }
   ],
   "source": [
    "# run only on the chromosome specified\n",
    "all_chrs = [CHROMOSOME]\n",
    "genes_chr = genes_info[genes_info[\"chr\"] == CHROMOSOME]\n",
    "\n",
    "# For testing purposes\n",
    "# genes_chr = genes_chr.sample(n=20)\n",
    "\n",
    "print(f\"Number of genes in chromosome: {genes_chr.shape[0]}\", flush=True)"
   ]
  },
  {
   "cell_type": "code",
   "execution_count": 26,
   "id": "916015d8-2979-46d3-a9b9-1cf5a0932c6a",
   "metadata": {
    "execution": {
     "iopub.execute_input": "2023-08-30T04:01:42.679139Z",
     "iopub.status.busy": "2023-08-30T04:01:42.678574Z",
     "iopub.status.idle": "2023-08-30T04:01:42.699641Z",
     "shell.execute_reply": "2023-08-30T04:01:42.699163Z"
    },
    "papermill": {
     "duration": 0.029053,
     "end_time": "2023-08-30T04:01:42.700668",
     "exception": false,
     "start_time": "2023-08-30T04:01:42.671615",
     "status": "completed"
    },
    "tags": []
   },
   "outputs": [],
   "source": [
    "# sort genes by starting position to make visualizations better later\n",
    "genes_chr = genes_chr.sort_values(\"start_position\")"
   ]
  },
  {
   "cell_type": "code",
   "execution_count": 27,
   "id": "a38aa74a-8ad3-47f6-8ef9-56be0e011774",
   "metadata": {
    "execution": {
     "iopub.execute_input": "2023-08-30T04:01:42.714432Z",
     "iopub.status.busy": "2023-08-30T04:01:42.714031Z",
     "iopub.status.idle": "2023-08-30T04:01:42.735090Z",
     "shell.execute_reply": "2023-08-30T04:01:42.734618Z"
    },
    "papermill": {
     "duration": 0.029097,
     "end_time": "2023-08-30T04:01:42.736231",
     "exception": false,
     "start_time": "2023-08-30T04:01:42.707134",
     "status": "completed"
    },
    "tags": []
   },
   "outputs": [],
   "source": [
    "gene_chr_objs = [Gene(ensembl_id=gene_id) for gene_id in genes_chr[\"id\"]]"
   ]
  },
  {
   "cell_type": "code",
   "execution_count": 28,
   "id": "570f974f-13c3-42b6-ad3a-ce99ca885c1a",
   "metadata": {
    "execution": {
     "iopub.execute_input": "2023-08-30T04:01:42.750440Z",
     "iopub.status.busy": "2023-08-30T04:01:42.749872Z",
     "iopub.status.idle": "2023-08-30T04:01:42.771100Z",
     "shell.execute_reply": "2023-08-30T04:01:42.770659Z"
    },
    "papermill": {
     "duration": 0.029399,
     "end_time": "2023-08-30T04:01:42.772412",
     "exception": false,
     "start_time": "2023-08-30T04:01:42.743013",
     "status": "completed"
    },
    "tags": []
   },
   "outputs": [
    {
     "name": "stdout",
     "output_type": "stream",
     "text": [
      "Number of gene combinations: 1953\n"
     ]
    }
   ],
   "source": [
    "n = len(gene_chr_objs)\n",
    "# diagonal elements + upper triangular matrix\n",
    "n_comb = n + int(n * (n - 1) / 2.0)\n",
    "print(f\"Number of gene combinations: {n_comb}\", flush=True)"
   ]
  },
  {
   "cell_type": "code",
   "execution_count": 29,
   "id": "cdbb90a1",
   "metadata": {
    "execution": {
     "iopub.execute_input": "2023-08-30T04:01:42.794940Z",
     "iopub.status.busy": "2023-08-30T04:01:42.794522Z",
     "iopub.status.idle": "2023-08-30T04:02:45.455525Z",
     "shell.execute_reply": "2023-08-30T04:02:45.455061Z"
    },
    "papermill": {
     "duration": 62.673973,
     "end_time": "2023-08-30T04:02:45.456794",
     "exception": false,
     "start_time": "2023-08-30T04:01:42.782821",
     "status": "completed"
    },
    "tags": []
   },
   "outputs": [
    {
     "name": "stderr",
     "output_type": "stream",
     "text": [
      "ENSG00000160307 / ENSG00000160307: 100%|████████████████████████| 1953/1953 [01:02<00:00, 31.18it/s]\n"
     ]
    },
    {
     "data": {
      "text/plain": [
       "PosixPath('/opt/data/projects/chronotype/results/gls_phenoplier/gene_corrs/chronotype/by_chr/gene_corrs-chr21.pkl')"
      ]
     },
     "metadata": {},
     "output_type": "display_data"
    }
   ],
   "source": [
    "gene_corrs = []\n",
    "gene_corrs_data = np.full(\n",
    "    (n, n),\n",
    "    np.nan,\n",
    "    dtype=np.float64,\n",
    ")\n",
    "\n",
    "i = 0\n",
    "with tqdm(ncols=100, total=n_comb) as pbar:\n",
    "    for gene1_idx in range(0, len(gene_chr_objs)):\n",
    "        gene1_obj = gene_chr_objs[gene1_idx]\n",
    "        gene1_tissues = spredixcan_genes_models.loc[gene1_obj.ensembl_id, \"tissue\"]\n",
    "\n",
    "        for gene2_idx in range(gene1_idx, len(gene_chr_objs)):\n",
    "            gene2_obj = gene_chr_objs[gene2_idx]\n",
    "            gene2_tissues = spredixcan_genes_models.loc[gene2_obj.ensembl_id, \"tissue\"]\n",
    "\n",
    "            pbar.set_description(f\"{gene1_obj.ensembl_id} / {gene2_obj.ensembl_id}\")\n",
    "\n",
    "            try:\n",
    "                r = gene1_obj.get_ssm_correlation(\n",
    "                    other_gene=gene2_obj,\n",
    "                    tissues=gene1_tissues,\n",
    "                    other_tissues=gene2_tissues,\n",
    "                    snps_subset=gwas_variants_ids_set,\n",
    "                    condition_number=SMULTIXCAN_CONDITION_NUMBER,\n",
    "                    reference_panel=REFERENCE_PANEL,\n",
    "                    model_type=EQTL_MODEL,\n",
    "                    use_within_distance=COMPUTE_CORRELATIONS_WITHIN_DISTANCE,\n",
    "                )\n",
    "\n",
    "                if r is None:\n",
    "                    # if r is None, it's very likely because:\n",
    "                    #  * one of the genes has no prediction models\n",
    "                    #  * all the SNPs predictors for the gene are not present in the reference\n",
    "                    #    panel\n",
    "\n",
    "                    r = 0.0\n",
    "\n",
    "                gene_corrs.append(r)\n",
    "\n",
    "                gene_corrs_data[gene1_idx, gene2_idx] = r\n",
    "                gene_corrs_data[gene2_idx, gene1_idx] = r\n",
    "            except Warning as e:\n",
    "                if not DEBUG_MODE:\n",
    "                    raise e\n",
    "\n",
    "                print(\n",
    "                    f\"RuntimeWarning for genes {gene1_obj.ensembl_id} and {gene2_obj.ensembl_id}\",\n",
    "                    flush=True,\n",
    "                )\n",
    "                print(traceback.format_exc(), flush=True)\n",
    "\n",
    "                gene_corrs.append(np.nan)\n",
    "            except Exception as e:\n",
    "                if not DEBUG_MODE:\n",
    "                    raise e\n",
    "\n",
    "                print(\n",
    "                    f\"Exception for genes {gene1_obj.ensembl_id} and {gene2_obj.ensembl_id}\",\n",
    "                    flush=True,\n",
    "                )\n",
    "                print(traceback.format_exc(), flush=True)\n",
    "\n",
    "                gene_corrs.append(np.nan)\n",
    "\n",
    "            pbar.update(1)\n",
    "\n",
    "# create a pandas series\n",
    "gene_corrs_flat = pd.Series(gene_corrs)\n",
    "\n",
    "# save\n",
    "# FIXME: consider saving only the condenced matrix here. See here for\n",
    "# more details: https://github.com/greenelab/phenoplier/pull/38#discussion_r634600813\n",
    "# gene_corrs_data = squareform(np.array(gene_corrs, dtype=np.float64))\n",
    "# np.fill_diagonal(gene_corrs_data, 1.0)\n",
    "\n",
    "gene_chr_ids = [g.ensembl_id for g in gene_chr_objs]\n",
    "gene_corrs_df = pd.DataFrame(\n",
    "    data=gene_corrs_data,\n",
    "    index=gene_chr_ids,\n",
    "    columns=gene_chr_ids,\n",
    ")\n",
    "\n",
    "output_dir.mkdir(exist_ok=True, parents=True)\n",
    "display(output_file)\n",
    "\n",
    "gene_corrs_df.to_pickle(output_file)"
   ]
  },
  {
   "cell_type": "markdown",
   "id": "faa67b51-5373-470f-aa72-2ded53fa6dfe",
   "metadata": {
    "papermill": {
     "duration": 0.067438,
     "end_time": "2023-08-30T04:02:45.652728",
     "exception": false,
     "start_time": "2023-08-30T04:02:45.585290",
     "status": "completed"
    },
    "tags": []
   },
   "source": [
    "# Testing"
   ]
  },
  {
   "cell_type": "code",
   "execution_count": 30,
   "id": "14f7d046-4b55-4896-a56b-990127bcc388",
   "metadata": {
    "execution": {
     "iopub.execute_input": "2023-08-30T04:02:45.792542Z",
     "iopub.status.busy": "2023-08-30T04:02:45.792253Z",
     "iopub.status.idle": "2023-08-30T04:02:45.809067Z",
     "shell.execute_reply": "2023-08-30T04:02:45.808532Z"
    },
    "papermill": {
     "duration": 0.087583,
     "end_time": "2023-08-30T04:02:45.809916",
     "exception": false,
     "start_time": "2023-08-30T04:02:45.722333",
     "status": "completed"
    },
    "tags": []
   },
   "outputs": [
    {
     "data": {
      "text/plain": [
       "(62, 62)"
      ]
     },
     "execution_count": 30,
     "metadata": {},
     "output_type": "execute_result"
    }
   ],
   "source": [
    "gene_corrs_df.shape"
   ]
  },
  {
   "cell_type": "code",
   "execution_count": 31,
   "id": "c7d15414-3297-4537-a7c6-7588c0baeb75",
   "metadata": {
    "execution": {
     "iopub.execute_input": "2023-08-30T04:02:45.987052Z",
     "iopub.status.busy": "2023-08-30T04:02:45.986635Z",
     "iopub.status.idle": "2023-08-30T04:02:46.025915Z",
     "shell.execute_reply": "2023-08-30T04:02:46.025373Z"
    },
    "papermill": {
     "duration": 0.14561,
     "end_time": "2023-08-30T04:02:46.026906",
     "exception": false,
     "start_time": "2023-08-30T04:02:45.881296",
     "status": "completed"
    },
    "tags": []
   },
   "outputs": [
    {
     "data": {
      "text/html": [
       "<div>\n",
       "<style scoped>\n",
       "    .dataframe tbody tr th:only-of-type {\n",
       "        vertical-align: middle;\n",
       "    }\n",
       "\n",
       "    .dataframe tbody tr th {\n",
       "        vertical-align: top;\n",
       "    }\n",
       "\n",
       "    .dataframe thead th {\n",
       "        text-align: right;\n",
       "    }\n",
       "</style>\n",
       "<table border=\"1\" class=\"dataframe\">\n",
       "  <thead>\n",
       "    <tr style=\"text-align: right;\">\n",
       "      <th></th>\n",
       "      <th>ENSG00000155307</th>\n",
       "      <th>ENSG00000180530</th>\n",
       "      <th>ENSG00000154719</th>\n",
       "      <th>ENSG00000154721</th>\n",
       "      <th>ENSG00000154723</th>\n",
       "      <th>ENSG00000142192</th>\n",
       "      <th>ENSG00000154734</th>\n",
       "      <th>ENSG00000156261</th>\n",
       "      <th>ENSG00000171189</th>\n",
       "      <th>ENSG00000156299</th>\n",
       "      <th>...</th>\n",
       "      <th>ENSG00000160255</th>\n",
       "      <th>ENSG00000197381</th>\n",
       "      <th>ENSG00000182871</th>\n",
       "      <th>ENSG00000173638</th>\n",
       "      <th>ENSG00000142156</th>\n",
       "      <th>ENSG00000142173</th>\n",
       "      <th>ENSG00000160282</th>\n",
       "      <th>ENSG00000160285</th>\n",
       "      <th>ENSG00000160299</th>\n",
       "      <th>ENSG00000160307</th>\n",
       "    </tr>\n",
       "  </thead>\n",
       "  <tbody>\n",
       "    <tr>\n",
       "      <th>ENSG00000155307</th>\n",
       "      <td>1.000000</td>\n",
       "      <td>0.005178</td>\n",
       "      <td>0.000000</td>\n",
       "      <td>0.000000</td>\n",
       "      <td>0.000000</td>\n",
       "      <td>0.000000</td>\n",
       "      <td>0.000000</td>\n",
       "      <td>0.000000</td>\n",
       "      <td>0.000000</td>\n",
       "      <td>0.0</td>\n",
       "      <td>...</td>\n",
       "      <td>0.0</td>\n",
       "      <td>0.0</td>\n",
       "      <td>0.0</td>\n",
       "      <td>0.0</td>\n",
       "      <td>0.0</td>\n",
       "      <td>0.0</td>\n",
       "      <td>0.0</td>\n",
       "      <td>0.0</td>\n",
       "      <td>0.0</td>\n",
       "      <td>0.0</td>\n",
       "    </tr>\n",
       "    <tr>\n",
       "      <th>ENSG00000180530</th>\n",
       "      <td>0.005178</td>\n",
       "      <td>1.000000</td>\n",
       "      <td>0.000000</td>\n",
       "      <td>0.000000</td>\n",
       "      <td>0.000000</td>\n",
       "      <td>0.000000</td>\n",
       "      <td>0.000000</td>\n",
       "      <td>0.000000</td>\n",
       "      <td>0.000000</td>\n",
       "      <td>0.0</td>\n",
       "      <td>...</td>\n",
       "      <td>0.0</td>\n",
       "      <td>0.0</td>\n",
       "      <td>0.0</td>\n",
       "      <td>0.0</td>\n",
       "      <td>0.0</td>\n",
       "      <td>0.0</td>\n",
       "      <td>0.0</td>\n",
       "      <td>0.0</td>\n",
       "      <td>0.0</td>\n",
       "      <td>0.0</td>\n",
       "    </tr>\n",
       "    <tr>\n",
       "      <th>ENSG00000154719</th>\n",
       "      <td>0.000000</td>\n",
       "      <td>0.000000</td>\n",
       "      <td>1.000000</td>\n",
       "      <td>0.423625</td>\n",
       "      <td>0.151819</td>\n",
       "      <td>0.013556</td>\n",
       "      <td>0.006876</td>\n",
       "      <td>0.003509</td>\n",
       "      <td>0.000581</td>\n",
       "      <td>0.0</td>\n",
       "      <td>...</td>\n",
       "      <td>0.0</td>\n",
       "      <td>0.0</td>\n",
       "      <td>0.0</td>\n",
       "      <td>0.0</td>\n",
       "      <td>0.0</td>\n",
       "      <td>0.0</td>\n",
       "      <td>0.0</td>\n",
       "      <td>0.0</td>\n",
       "      <td>0.0</td>\n",
       "      <td>0.0</td>\n",
       "    </tr>\n",
       "    <tr>\n",
       "      <th>ENSG00000154721</th>\n",
       "      <td>0.000000</td>\n",
       "      <td>0.000000</td>\n",
       "      <td>0.423625</td>\n",
       "      <td>1.000000</td>\n",
       "      <td>0.347390</td>\n",
       "      <td>0.012909</td>\n",
       "      <td>0.006788</td>\n",
       "      <td>0.003180</td>\n",
       "      <td>0.001469</td>\n",
       "      <td>0.0</td>\n",
       "      <td>...</td>\n",
       "      <td>0.0</td>\n",
       "      <td>0.0</td>\n",
       "      <td>0.0</td>\n",
       "      <td>0.0</td>\n",
       "      <td>0.0</td>\n",
       "      <td>0.0</td>\n",
       "      <td>0.0</td>\n",
       "      <td>0.0</td>\n",
       "      <td>0.0</td>\n",
       "      <td>0.0</td>\n",
       "    </tr>\n",
       "    <tr>\n",
       "      <th>ENSG00000154723</th>\n",
       "      <td>0.000000</td>\n",
       "      <td>0.000000</td>\n",
       "      <td>0.151819</td>\n",
       "      <td>0.347390</td>\n",
       "      <td>1.000000</td>\n",
       "      <td>0.028369</td>\n",
       "      <td>0.005127</td>\n",
       "      <td>0.002333</td>\n",
       "      <td>0.002249</td>\n",
       "      <td>0.0</td>\n",
       "      <td>...</td>\n",
       "      <td>0.0</td>\n",
       "      <td>0.0</td>\n",
       "      <td>0.0</td>\n",
       "      <td>0.0</td>\n",
       "      <td>0.0</td>\n",
       "      <td>0.0</td>\n",
       "      <td>0.0</td>\n",
       "      <td>0.0</td>\n",
       "      <td>0.0</td>\n",
       "      <td>0.0</td>\n",
       "    </tr>\n",
       "  </tbody>\n",
       "</table>\n",
       "<p>5 rows × 62 columns</p>\n",
       "</div>"
      ],
      "text/plain": [
       "                 ENSG00000155307  ENSG00000180530  ENSG00000154719  \\\n",
       "ENSG00000155307         1.000000         0.005178         0.000000   \n",
       "ENSG00000180530         0.005178         1.000000         0.000000   \n",
       "ENSG00000154719         0.000000         0.000000         1.000000   \n",
       "ENSG00000154721         0.000000         0.000000         0.423625   \n",
       "ENSG00000154723         0.000000         0.000000         0.151819   \n",
       "\n",
       "                 ENSG00000154721  ENSG00000154723  ENSG00000142192  \\\n",
       "ENSG00000155307         0.000000         0.000000         0.000000   \n",
       "ENSG00000180530         0.000000         0.000000         0.000000   \n",
       "ENSG00000154719         0.423625         0.151819         0.013556   \n",
       "ENSG00000154721         1.000000         0.347390         0.012909   \n",
       "ENSG00000154723         0.347390         1.000000         0.028369   \n",
       "\n",
       "                 ENSG00000154734  ENSG00000156261  ENSG00000171189  \\\n",
       "ENSG00000155307         0.000000         0.000000         0.000000   \n",
       "ENSG00000180530         0.000000         0.000000         0.000000   \n",
       "ENSG00000154719         0.006876         0.003509         0.000581   \n",
       "ENSG00000154721         0.006788         0.003180         0.001469   \n",
       "ENSG00000154723         0.005127         0.002333         0.002249   \n",
       "\n",
       "                 ENSG00000156299  ...  ENSG00000160255  ENSG00000197381  \\\n",
       "ENSG00000155307              0.0  ...              0.0              0.0   \n",
       "ENSG00000180530              0.0  ...              0.0              0.0   \n",
       "ENSG00000154719              0.0  ...              0.0              0.0   \n",
       "ENSG00000154721              0.0  ...              0.0              0.0   \n",
       "ENSG00000154723              0.0  ...              0.0              0.0   \n",
       "\n",
       "                 ENSG00000182871  ENSG00000173638  ENSG00000142156  \\\n",
       "ENSG00000155307              0.0              0.0              0.0   \n",
       "ENSG00000180530              0.0              0.0              0.0   \n",
       "ENSG00000154719              0.0              0.0              0.0   \n",
       "ENSG00000154721              0.0              0.0              0.0   \n",
       "ENSG00000154723              0.0              0.0              0.0   \n",
       "\n",
       "                 ENSG00000142173  ENSG00000160282  ENSG00000160285  \\\n",
       "ENSG00000155307              0.0              0.0              0.0   \n",
       "ENSG00000180530              0.0              0.0              0.0   \n",
       "ENSG00000154719              0.0              0.0              0.0   \n",
       "ENSG00000154721              0.0              0.0              0.0   \n",
       "ENSG00000154723              0.0              0.0              0.0   \n",
       "\n",
       "                 ENSG00000160299  ENSG00000160307  \n",
       "ENSG00000155307              0.0              0.0  \n",
       "ENSG00000180530              0.0              0.0  \n",
       "ENSG00000154719              0.0              0.0  \n",
       "ENSG00000154721              0.0              0.0  \n",
       "ENSG00000154723              0.0              0.0  \n",
       "\n",
       "[5 rows x 62 columns]"
      ]
     },
     "execution_count": 31,
     "metadata": {},
     "output_type": "execute_result"
    }
   ],
   "source": [
    "gene_corrs_df.head()"
   ]
  },
  {
   "cell_type": "markdown",
   "id": "dad6603f-01c6-41fb-a6f6-241051207dd8",
   "metadata": {
    "papermill": {
     "duration": 0.073041,
     "end_time": "2023-08-30T04:02:46.173278",
     "exception": false,
     "start_time": "2023-08-30T04:02:46.100237",
     "status": "completed"
    },
    "tags": []
   },
   "source": [
    "## Standard checks and stats"
   ]
  },
  {
   "cell_type": "code",
   "execution_count": 32,
   "id": "286686af-1b7b-4440-8453-6bdcbd8de19c",
   "metadata": {
    "execution": {
     "iopub.execute_input": "2023-08-30T04:02:46.395622Z",
     "iopub.status.busy": "2023-08-30T04:02:46.395265Z",
     "iopub.status.idle": "2023-08-30T04:02:46.412301Z",
     "shell.execute_reply": "2023-08-30T04:02:46.411673Z"
    },
    "papermill": {
     "duration": 0.148289,
     "end_time": "2023-08-30T04:02:46.413614",
     "exception": false,
     "start_time": "2023-08-30T04:02:46.265325",
     "status": "completed"
    },
    "tags": []
   },
   "outputs": [],
   "source": [
    "assert not gene_corrs_df.isna().any(axis=None)"
   ]
  },
  {
   "cell_type": "code",
   "execution_count": 33,
   "id": "00583efc-7068-4270-ad1e-4a418e91db96",
   "metadata": {
    "execution": {
     "iopub.execute_input": "2023-08-30T04:02:46.588233Z",
     "iopub.status.busy": "2023-08-30T04:02:46.587444Z",
     "iopub.status.idle": "2023-08-30T04:02:46.619664Z",
     "shell.execute_reply": "2023-08-30T04:02:46.618947Z"
    },
    "papermill": {
     "duration": 0.106794,
     "end_time": "2023-08-30T04:02:46.621015",
     "exception": false,
     "start_time": "2023-08-30T04:02:46.514221",
     "status": "completed"
    },
    "tags": []
   },
   "outputs": [
    {
     "data": {
      "text/plain": [
       "0.0"
      ]
     },
     "metadata": {},
     "output_type": "display_data"
    }
   ],
   "source": [
    "_min_val = gene_corrs_df.min().min()\n",
    "display(_min_val)\n",
    "assert _min_val >= -0.05"
   ]
  },
  {
   "cell_type": "code",
   "execution_count": 34,
   "id": "d04fb2cf-1050-475b-b855-f5f7cc04092b",
   "metadata": {
    "execution": {
     "iopub.execute_input": "2023-08-30T04:02:46.828192Z",
     "iopub.status.busy": "2023-08-30T04:02:46.827834Z",
     "iopub.status.idle": "2023-08-30T04:02:46.851868Z",
     "shell.execute_reply": "2023-08-30T04:02:46.851219Z"
    },
    "papermill": {
     "duration": 0.102797,
     "end_time": "2023-08-30T04:02:46.852859",
     "exception": false,
     "start_time": "2023-08-30T04:02:46.750062",
     "status": "completed"
    },
    "tags": []
   },
   "outputs": [
    {
     "data": {
      "text/plain": [
       "1.000000000000002"
      ]
     },
     "metadata": {},
     "output_type": "display_data"
    }
   ],
   "source": [
    "_max_val = gene_corrs_df.max().max()  # this captures the diagonal\n",
    "display(_max_val)\n",
    "assert _max_val <= 1.05"
   ]
  },
  {
   "cell_type": "code",
   "execution_count": 35,
   "id": "fe283586-c348-40e0-8841-f6d97bfb021c",
   "metadata": {
    "execution": {
     "iopub.execute_input": "2023-08-30T04:02:46.993279Z",
     "iopub.status.busy": "2023-08-30T04:02:46.992969Z",
     "iopub.status.idle": "2023-08-30T04:02:47.011656Z",
     "shell.execute_reply": "2023-08-30T04:02:47.011072Z"
    },
    "papermill": {
     "duration": 0.092216,
     "end_time": "2023-08-30T04:02:47.012537",
     "exception": false,
     "start_time": "2023-08-30T04:02:46.920321",
     "status": "completed"
    },
    "tags": []
   },
   "outputs": [
    {
     "data": {
      "text/plain": [
       "count    1953.000000\n",
       "mean        0.040555\n",
       "std         0.178267\n",
       "min         0.000000\n",
       "25%         0.000000\n",
       "50%         0.000000\n",
       "75%         0.007709\n",
       "max         1.000000\n",
       "dtype: float64"
      ]
     },
     "execution_count": 35,
     "metadata": {},
     "output_type": "execute_result"
    }
   ],
   "source": [
    "gene_corrs_flat.describe()"
   ]
  },
  {
   "cell_type": "code",
   "execution_count": 36,
   "id": "b3815678-0f93-4b35-897b-a9d047a2aa78",
   "metadata": {
    "execution": {
     "iopub.execute_input": "2023-08-30T04:02:47.156660Z",
     "iopub.status.busy": "2023-08-30T04:02:47.155871Z",
     "iopub.status.idle": "2023-08-30T04:02:47.179878Z",
     "shell.execute_reply": "2023-08-30T04:02:47.179258Z"
    },
    "papermill": {
     "duration": 0.099816,
     "end_time": "2023-08-30T04:02:47.180779",
     "exception": false,
     "start_time": "2023-08-30T04:02:47.080963",
     "status": "completed"
    },
    "tags": []
   },
   "outputs": [
    {
     "data": {
      "text/plain": [
       "0.00    0.000000\n",
       "0.05    0.000000\n",
       "0.10    0.000000\n",
       "0.15    0.000000\n",
       "0.20    0.000000\n",
       "0.25    0.000000\n",
       "0.30    0.000000\n",
       "0.35    0.000000\n",
       "0.40    0.000000\n",
       "0.45    0.000000\n",
       "0.50    0.000000\n",
       "0.55    0.000000\n",
       "0.60    0.003480\n",
       "0.65    0.005386\n",
       "0.70    0.006608\n",
       "0.75    0.007709\n",
       "0.80    0.008898\n",
       "0.85    0.010812\n",
       "0.90    0.014379\n",
       "0.95    0.106134\n",
       "dtype: float64"
      ]
     },
     "metadata": {},
     "output_type": "display_data"
    }
   ],
   "source": [
    "gene_corrs_quantiles = gene_corrs_flat.quantile(np.arange(0, 1, 0.05))\n",
    "display(gene_corrs_quantiles)"
   ]
  },
  {
   "cell_type": "markdown",
   "id": "87134509-b145-4a10-8bc9-b7e914c2b0fa",
   "metadata": {
    "papermill": {
     "duration": 0.073204,
     "end_time": "2023-08-30T04:02:47.356012",
     "exception": false,
     "start_time": "2023-08-30T04:02:47.282808",
     "status": "completed"
    },
    "tags": []
   },
   "source": [
    "## Positive definiteness"
   ]
  },
  {
   "cell_type": "code",
   "execution_count": 37,
   "id": "07d9a9a1-a4f7-48aa-b916-6d42a8cc6186",
   "metadata": {
    "execution": {
     "iopub.execute_input": "2023-08-30T04:02:47.510168Z",
     "iopub.status.busy": "2023-08-30T04:02:47.509571Z",
     "iopub.status.idle": "2023-08-30T04:02:47.535089Z",
     "shell.execute_reply": "2023-08-30T04:02:47.534348Z"
    },
    "papermill": {
     "duration": 0.107596,
     "end_time": "2023-08-30T04:02:47.536098",
     "exception": false,
     "start_time": "2023-08-30T04:02:47.428502",
     "status": "completed"
    },
    "tags": []
   },
   "outputs": [
    {
     "data": {
      "text/plain": [
       "0"
      ]
     },
     "metadata": {},
     "output_type": "display_data"
    },
    {
     "data": {
      "text/plain": [
       "array([], dtype=float64)"
      ]
     },
     "metadata": {},
     "output_type": "display_data"
    }
   ],
   "source": [
    "# print negative eigenvalues\n",
    "eigs = np.linalg.eigvals(gene_corrs_df.to_numpy())\n",
    "display(len(eigs[eigs < 0]))\n",
    "display(eigs[eigs < 0])"
   ]
  },
  {
   "cell_type": "code",
   "execution_count": 38,
   "id": "6e218436-c3c5-4028-8c94-a4fa6260efce",
   "metadata": {
    "execution": {
     "iopub.execute_input": "2023-08-30T04:02:47.675123Z",
     "iopub.status.busy": "2023-08-30T04:02:47.674755Z",
     "iopub.status.idle": "2023-08-30T04:02:47.696215Z",
     "shell.execute_reply": "2023-08-30T04:02:47.695806Z"
    },
    "papermill": {
     "duration": 0.093303,
     "end_time": "2023-08-30T04:02:47.697064",
     "exception": false,
     "start_time": "2023-08-30T04:02:47.603761",
     "status": "completed"
    },
    "tags": []
   },
   "outputs": [
    {
     "name": "stdout",
     "output_type": "stream",
     "text": [
      "Works!\n"
     ]
    }
   ],
   "source": [
    "try:\n",
    "    chol_mat = np.linalg.cholesky(gene_corrs_df.to_numpy())\n",
    "    cov_inv = np.linalg.inv(chol_mat)\n",
    "    print(\"Works!\")\n",
    "except Exception as e:\n",
    "    print(f\"Cholesky decomposition failed: {str(e)}\")"
   ]
  },
  {
   "cell_type": "code",
   "execution_count": 39,
   "id": "dd8827fb-faf9-4c7c-9454-015e94752706",
   "metadata": {
    "execution": {
     "iopub.execute_input": "2023-08-30T04:02:47.844437Z",
     "iopub.status.busy": "2023-08-30T04:02:47.843914Z",
     "iopub.status.idle": "2023-08-30T04:02:47.870592Z",
     "shell.execute_reply": "2023-08-30T04:02:47.870055Z"
    },
    "papermill": {
     "duration": 0.101029,
     "end_time": "2023-08-30T04:02:47.871542",
     "exception": false,
     "start_time": "2023-08-30T04:02:47.770513",
     "status": "completed"
    },
    "tags": []
   },
   "outputs": [
    {
     "name": "stdout",
     "output_type": "stream",
     "text": [
      "Works!\n"
     ]
    }
   ],
   "source": [
    "try:\n",
    "    # decomposition used by statsmodels.GLS\n",
    "    cholsigmainv = np.linalg.cholesky(np.linalg.inv(gene_corrs_df.to_numpy())).T\n",
    "    print(\"Works!\")\n",
    "except Exception as e:\n",
    "    print(f\"Cholesky decomposition failed (statsmodels.GLS): {str(e)}\")"
   ]
  },
  {
   "cell_type": "markdown",
   "id": "8e60a080-edb2-4e9c-b2ef-22961693200c",
   "metadata": {
    "papermill": {
     "duration": 0.07415,
     "end_time": "2023-08-30T04:02:48.019909",
     "exception": false,
     "start_time": "2023-08-30T04:02:47.945759",
     "status": "completed"
    },
    "tags": []
   },
   "source": [
    "## Plot: distribution"
   ]
  },
  {
   "cell_type": "code",
   "execution_count": 40,
   "id": "8301126b-a7d4-4744-9c7d-f0f86eb6f54c",
   "metadata": {
    "execution": {
     "iopub.execute_input": "2023-08-30T04:02:48.198114Z",
     "iopub.status.busy": "2023-08-30T04:02:48.197527Z",
     "iopub.status.idle": "2023-08-30T04:02:50.230297Z",
     "shell.execute_reply": "2023-08-30T04:02:50.229740Z"
    },
    "papermill": {
     "duration": 2.10987,
     "end_time": "2023-08-30T04:02:50.231522",
     "exception": false,
     "start_time": "2023-08-30T04:02:48.121652",
     "status": "completed"
    },
    "tags": []
   },
   "outputs": [
    {
     "data": {
      "image/png": "[encoded data removed]",
      "text/plain": [
       "<Figure size 700x700 with 1 Axes>"
      ]
     },
     "metadata": {},
     "output_type": "display_data"
    }
   ],
   "source": [
    "with sns.plotting_context(\"paper\", font_scale=1.5):\n",
    "    g = sns.displot(gene_corrs_flat, kde=True, height=7)\n",
    "    g.ax.set_title(\n",
    "        f\"Distribution of gene correlation values in chromosome {CHROMOSOME}\"\n",
    "    )"
   ]
  },
  {
   "cell_type": "markdown",
   "id": "cbd52bca-d878-4a2f-b684-5c83aa3038d4",
   "metadata": {
    "papermill": {
     "duration": 0.074734,
     "end_time": "2023-08-30T04:02:50.386551",
     "exception": false,
     "start_time": "2023-08-30T04:02:50.311817",
     "status": "completed"
    },
    "tags": []
   },
   "source": [
    "## Plot: heatmap"
   ]
  },
  {
   "cell_type": "code",
   "execution_count": 41,
   "id": "d03fe63a-c7b2-4fb9-a53c-db362ce843c9",
   "metadata": {
    "execution": {
     "iopub.execute_input": "2023-08-30T04:02:50.531674Z",
     "iopub.status.busy": "2023-08-30T04:02:50.531224Z",
     "iopub.status.idle": "2023-08-30T04:02:50.560522Z",
     "shell.execute_reply": "2023-08-30T04:02:50.559949Z"
    },
    "papermill": {
     "duration": 0.10299,
     "end_time": "2023-08-30T04:02:50.561430",
     "exception": false,
     "start_time": "2023-08-30T04:02:50.458440",
     "status": "completed"
    },
    "tags": []
   },
   "outputs": [
    {
     "data": {
      "text/plain": [
       "'0.0 / 0.05'"
      ]
     },
     "metadata": {},
     "output_type": "display_data"
    }
   ],
   "source": [
    "vmin_val = min(0.00, gene_corrs_quantiles[0.10])\n",
    "vmax_val = max(0.05, gene_corrs_quantiles[0.90])\n",
    "display(f\"{vmin_val} / {vmax_val}\")"
   ]
  },
  {
   "cell_type": "code",
   "execution_count": 42,
   "id": "dc41b70b-5bcc-4d9e-9f33-a22c4a94dab5",
   "metadata": {
    "execution": {
     "iopub.execute_input": "2023-08-30T04:02:50.708278Z",
     "iopub.status.busy": "2023-08-30T04:02:50.707939Z",
     "iopub.status.idle": "2023-08-30T04:02:50.881401Z",
     "shell.execute_reply": "2023-08-30T04:02:50.880629Z"
    },
    "papermill": {
     "duration": 0.246895,
     "end_time": "2023-08-30T04:02:50.882585",
     "exception": false,
     "start_time": "2023-08-30T04:02:50.635690",
     "status": "completed"
    },
    "tags": []
   },
   "outputs": [
    {
     "data": {
      "text/plain": [
       "Text(0.5, 1.0, 'Gene correlations in chromosome 21')"
      ]
     },
     "execution_count": 42,
     "metadata": {},
     "output_type": "execute_result"
    },
    {
     "data": {
      "image/png": "[encoded data removed]",
      "text/plain": [
       "<Figure size 1000x1000 with 2 Axes>"
      ]
     },
     "metadata": {},
     "output_type": "display_data"
    }
   ],
   "source": [
    "f, ax = plt.subplots(figsize=(10, 10))\n",
    "sns.heatmap(\n",
    "    gene_corrs_df,\n",
    "    xticklabels=False,\n",
    "    yticklabels=False,\n",
    "    square=True,\n",
    "    vmin=vmin_val,\n",
    "    vmax=vmax_val,\n",
    "    cmap=\"rocket_r\",\n",
    "    ax=ax,\n",
    ")\n",
    "ax.set_title(f\"Gene correlations in chromosome {CHROMOSOME}\")"
   ]
  },
  {
   "cell_type": "code",
   "execution_count": null,
   "id": "b25e3ead",
   "metadata": {
    "papermill": {
     "duration": 0.072796,
     "end_time": "2023-08-30T04:02:51.051382",
     "exception": false,
     "start_time": "2023-08-30T04:02:50.978586",
     "status": "completed"
    },
    "tags": []
   },
   "outputs": [],
   "source": []
  }
 ],
 "metadata": {
  "jupytext": {
   "cell_metadata_filter": "all,-execution,-papermill,-trusted",
   "formats": "ipynb,py//py:percent"
  },
  "kernelspec": {
   "display_name": "Python 3 (ipykernel)",
   "language": "python",
   "name": "python3"
  },
  "language_info": {
   "codemirror_mode": {
    "name": "ipython",
    "version": 3
   },
   "file_extension": ".py",
   "mimetype": "text/x-python",
   "name": "python",
   "nbconvert_exporter": "python",
   "pygments_lexer": "ipython3",
   "version": "3.10.6"
  },
  "papermill": {
   "default_parameters": {},
   "duration": 79.262271,
   "end_time": "2023-08-30T04:02:53.838081",
   "environment_variables": {},
   "exception": null,
   "input_path": "projects/chronotype/nbs/20_gene_corrs/jobs/05-gene_expr_correlations.ipynb",
   "output_path": "projects/chronotype/nbs/20_gene_corrs/jobs/../output/chronotype/05-gene_expr_correlations-chr21.run.ipynb",
   "parameters": {
    "CHROMOSOME": 21,
    "COHORT_NAME": "chronotype",
    "OUTPUT_DIR_BASE": "/opt/data/projects/chronotype/results/gls_phenoplier",
    "PHENOPLIER_NOTEBOOK_FILEPATH": "projects/chronotype/nbs/20_gene_corrs/jobs/05-gene_expr_correlations.ipynb"
   },
   "start_time": "2023-08-30T04:01:34.575810",
   "version": "2.2.2"
  }
 },
 "nbformat": 4,
 "nbformat_minor": 5
}
