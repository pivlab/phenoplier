{
 "cells": [
  {
   "cell_type": "markdown",
   "id": "7a6632fb",
   "metadata": {
    "papermill": {
     "duration": 0.008566,
     "end_time": "2023-08-30T04:00:12.058043",
     "exception": false,
     "start_time": "2023-08-30T04:00:12.049477",
     "status": "completed"
    },
    "tags": []
   },
   "source": [
    "# Description"
   ]
  },
  {
   "cell_type": "markdown",
   "id": "7097c346",
   "metadata": {
    "papermill": {
     "duration": 0.008123,
     "end_time": "2023-08-30T04:00:12.074338",
     "exception": false,
     "start_time": "2023-08-30T04:00:12.066215",
     "status": "completed"
    },
    "tags": []
   },
   "source": [
    "This notebook computes predicted expression correlations between all genes in the MultiPLIER models.\n",
    "\n",
    "It has specicfic parameters for papermill (see under `Settings` below).\n",
    "\n",
    "This notebook should not be directly run. It is used by other notebooks."
   ]
  },
  {
   "cell_type": "markdown",
   "id": "c61d8427",
   "metadata": {
    "papermill": {
     "duration": 0.007727,
     "end_time": "2023-08-30T04:00:12.090577",
     "exception": false,
     "start_time": "2023-08-30T04:00:12.082850",
     "status": "completed"
    },
    "tags": []
   },
   "source": [
    "# Modules"
   ]
  },
  {
   "cell_type": "code",
   "execution_count": 1,
   "id": "bbc0234f",
   "metadata": {
    "execution": {
     "iopub.execute_input": "2023-08-30T04:00:12.109273Z",
     "iopub.status.busy": "2023-08-30T04:00:12.108704Z",
     "iopub.status.idle": "2023-08-30T04:00:12.132876Z",
     "shell.execute_reply": "2023-08-30T04:00:12.132164Z"
    },
    "papermill": {
     "duration": 0.035453,
     "end_time": "2023-08-30T04:00:12.134797",
     "exception": false,
     "start_time": "2023-08-30T04:00:12.099344",
     "status": "completed"
    },
    "tags": []
   },
   "outputs": [],
   "source": [
    "%load_ext autoreload\n",
    "%autoreload 2"
   ]
  },
  {
   "cell_type": "code",
   "execution_count": 2,
   "id": "1d5f5a59",
   "metadata": {
    "execution": {
     "iopub.execute_input": "2023-08-30T04:00:12.154862Z",
     "iopub.status.busy": "2023-08-30T04:00:12.154516Z",
     "iopub.status.idle": "2023-08-30T04:00:12.936497Z",
     "shell.execute_reply": "2023-08-30T04:00:12.936119Z"
    },
    "papermill": {
     "duration": 0.794491,
     "end_time": "2023-08-30T04:00:12.937612",
     "exception": false,
     "start_time": "2023-08-30T04:00:12.143121",
     "status": "completed"
    },
    "tags": []
   },
   "outputs": [],
   "source": [
    "from random import sample, seed\n",
    "import warnings\n",
    "from pathlib import Path\n",
    "import pickle\n",
    "import traceback\n",
    "\n",
    "import numpy as np\n",
    "from scipy.spatial.distance import squareform\n",
    "import pandas as pd\n",
    "from tqdm import tqdm\n",
    "import matplotlib.pyplot as plt\n",
    "import seaborn as sns\n",
    "\n",
    "import conf\n",
    "from entity import Gene"
   ]
  },
  {
   "cell_type": "markdown",
   "id": "1eac24b5",
   "metadata": {
    "papermill": {
     "duration": 0.009478,
     "end_time": "2023-08-30T04:00:12.953555",
     "exception": false,
     "start_time": "2023-08-30T04:00:12.944077",
     "status": "completed"
    },
    "tags": []
   },
   "source": [
    "# Settings"
   ]
  },
  {
   "cell_type": "code",
   "execution_count": 3,
   "id": "ca4560ba",
   "metadata": {
    "execution": {
     "iopub.execute_input": "2023-08-30T04:00:12.983954Z",
     "iopub.status.busy": "2023-08-30T04:00:12.983665Z",
     "iopub.status.idle": "2023-08-30T04:00:13.006613Z",
     "shell.execute_reply": "2023-08-30T04:00:13.006247Z"
    },
    "papermill": {
     "duration": 0.040214,
     "end_time": "2023-08-30T04:00:13.007743",
     "exception": false,
     "start_time": "2023-08-30T04:00:12.967529",
     "status": "completed"
    },
    "tags": [
     "parameters"
    ]
   },
   "outputs": [],
   "source": [
    "# a cohort name (it could be something like UK_BIOBANK, etc)\n",
    "COHORT_NAME = None\n",
    "\n",
    "# reference panel such as 1000G or GTEX_V8\n",
    "REFERENCE_PANEL = \"GTEX_V8\"\n",
    "\n",
    "# predictions models such as MASHR or ELASTIC_NET\n",
    "EQTL_MODEL = \"MASHR\"\n",
    "\n",
    "# this is the default value used in S-MultiXcan to select the\n",
    "# top principal components of the expression correlation matrix\n",
    "SMULTIXCAN_CONDITION_NUMBER = 30\n",
    "\n",
    "# specifies a single chromosome value\n",
    "CHROMOSOME = None\n",
    "\n",
    "# If True, computes the correlation between closeby genes only (see\n",
    "# entity.Gene.within_distance for more details). Otherwise, it computes\n",
    "# correlations for all genes in a chromosome\n",
    "COMPUTE_CORRELATIONS_WITHIN_DISTANCE = True\n",
    "\n",
    "# if True, then it will continue if a gene pair correlation fails,\n",
    "# printing the warning/error for debugging. If False, any warning/error\n",
    "# will be thrown\n",
    "DEBUG_MODE = False\n",
    "\n",
    "# output dir\n",
    "OUTPUT_DIR_BASE = None"
   ]
  },
  {
   "cell_type": "code",
   "execution_count": 4,
   "id": "5bebbacc",
   "metadata": {
    "execution": {
     "iopub.execute_input": "2023-08-30T04:00:13.024266Z",
     "iopub.status.busy": "2023-08-30T04:00:13.023988Z",
     "iopub.status.idle": "2023-08-30T04:00:13.049140Z",
     "shell.execute_reply": "2023-08-30T04:00:13.048396Z"
    },
    "papermill": {
     "duration": 0.035605,
     "end_time": "2023-08-30T04:00:13.050819",
     "exception": false,
     "start_time": "2023-08-30T04:00:13.015214",
     "status": "completed"
    },
    "tags": [
     "injected-parameters"
    ]
   },
   "outputs": [],
   "source": [
    "# Parameters\n",
    "PHENOPLIER_NOTEBOOK_FILEPATH = (\n",
    "    \"projects/chronotype/nbs/20_gene_corrs/jobs/05-gene_expr_correlations.ipynb\"\n",
    ")\n",
    "COHORT_NAME = \"chronotype\"\n",
    "CHROMOSOME = 16\n",
    "OUTPUT_DIR_BASE = \"/opt/data/projects/chronotype/results/gls_phenoplier\"\n"
   ]
  },
  {
   "cell_type": "code",
   "execution_count": 5,
   "id": "3190631f-27fc-480f-b18e-571d580425a5",
   "metadata": {
    "execution": {
     "iopub.execute_input": "2023-08-30T04:00:13.065826Z",
     "iopub.status.busy": "2023-08-30T04:00:13.065475Z",
     "iopub.status.idle": "2023-08-30T04:00:13.098425Z",
     "shell.execute_reply": "2023-08-30T04:00:13.097996Z"
    },
    "papermill": {
     "duration": 0.041243,
     "end_time": "2023-08-30T04:00:13.099361",
     "exception": false,
     "start_time": "2023-08-30T04:00:13.058118",
     "status": "completed"
    },
    "tags": []
   },
   "outputs": [
    {
     "data": {
      "text/plain": [
       "'Cohort name: chronotype'"
      ]
     },
     "metadata": {},
     "output_type": "display_data"
    }
   ],
   "source": [
    "assert COHORT_NAME is not None and len(COHORT_NAME) > 0, \"A cohort name must be given\"\n",
    "\n",
    "COHORT_NAME = COHORT_NAME.lower()\n",
    "display(f\"Cohort name: {COHORT_NAME}\")"
   ]
  },
  {
   "cell_type": "code",
   "execution_count": 6,
   "id": "f53ba19b-0f93-4fa2-a047-63b375939d1a",
   "metadata": {
    "execution": {
     "iopub.execute_input": "2023-08-30T04:00:13.109519Z",
     "iopub.status.busy": "2023-08-30T04:00:13.109354Z",
     "iopub.status.idle": "2023-08-30T04:00:13.137760Z",
     "shell.execute_reply": "2023-08-30T04:00:13.137384Z"
    },
    "papermill": {
     "duration": 0.034374,
     "end_time": "2023-08-30T04:00:13.138623",
     "exception": false,
     "start_time": "2023-08-30T04:00:13.104249",
     "status": "completed"
    },
    "tags": []
   },
   "outputs": [
    {
     "data": {
      "text/plain": [
       "'Reference panel: GTEX_V8'"
      ]
     },
     "metadata": {},
     "output_type": "display_data"
    }
   ],
   "source": [
    "assert (\n",
    "    REFERENCE_PANEL is not None and len(REFERENCE_PANEL) > 0\n",
    "), \"A reference panel must be given\"\n",
    "\n",
    "display(f\"Reference panel: {REFERENCE_PANEL}\")"
   ]
  },
  {
   "cell_type": "code",
   "execution_count": 7,
   "id": "e024d130-c139-429a-9c6e-ccf149e297b0",
   "metadata": {
    "execution": {
     "iopub.execute_input": "2023-08-30T04:00:13.149326Z",
     "iopub.status.busy": "2023-08-30T04:00:13.148749Z",
     "iopub.status.idle": "2023-08-30T04:00:13.176337Z",
     "shell.execute_reply": "2023-08-30T04:00:13.175977Z"
    },
    "papermill": {
     "duration": 0.033805,
     "end_time": "2023-08-30T04:00:13.177247",
     "exception": false,
     "start_time": "2023-08-30T04:00:13.143442",
     "status": "completed"
    },
    "tags": []
   },
   "outputs": [
    {
     "data": {
      "text/plain": [
       "'eQTL model: MASHR) / mashr_'"
      ]
     },
     "metadata": {},
     "output_type": "display_data"
    }
   ],
   "source": [
    "assert (\n",
    "    EQTL_MODEL is not None and len(EQTL_MODEL) > 0\n",
    "), \"A prediction/eQTL model must be given\"\n",
    "\n",
    "EQTL_MODEL_FILES_PREFIX = conf.PHENOMEXCAN[\"PREDICTION_MODELS\"][f\"{EQTL_MODEL}_PREFIX\"]\n",
    "display(f\"eQTL model: {EQTL_MODEL}) / {EQTL_MODEL_FILES_PREFIX}\")"
   ]
  },
  {
   "cell_type": "code",
   "execution_count": 8,
   "id": "552a7f63-a18c-4d3e-bb6a-94f99b431291",
   "metadata": {
    "execution": {
     "iopub.execute_input": "2023-08-30T04:00:13.188032Z",
     "iopub.status.busy": "2023-08-30T04:00:13.187857Z",
     "iopub.status.idle": "2023-08-30T04:00:13.207590Z",
     "shell.execute_reply": "2023-08-30T04:00:13.207189Z"
    },
    "papermill": {
     "duration": 0.02642,
     "end_time": "2023-08-30T04:00:13.208731",
     "exception": false,
     "start_time": "2023-08-30T04:00:13.182311",
     "status": "completed"
    },
    "tags": []
   },
   "outputs": [
    {
     "data": {
      "text/plain": [
       "'S-MultiXcan condition number: 30'"
      ]
     },
     "metadata": {},
     "output_type": "display_data"
    }
   ],
   "source": [
    "assert (\n",
    "    SMULTIXCAN_CONDITION_NUMBER is not None and SMULTIXCAN_CONDITION_NUMBER > 0\n",
    "), \"The S-MultiXcan condition number (positive integer) must be given\"\n",
    "\n",
    "display(f\"S-MultiXcan condition number: {SMULTIXCAN_CONDITION_NUMBER}\")"
   ]
  },
  {
   "cell_type": "code",
   "execution_count": 9,
   "id": "f34a336f-548e-4afe-8955-90eaea4f42c6",
   "metadata": {
    "execution": {
     "iopub.execute_input": "2023-08-30T04:00:13.224057Z",
     "iopub.status.busy": "2023-08-30T04:00:13.223845Z",
     "iopub.status.idle": "2023-08-30T04:00:13.248940Z",
     "shell.execute_reply": "2023-08-30T04:00:13.248561Z"
    },
    "papermill": {
     "duration": 0.03405,
     "end_time": "2023-08-30T04:00:13.250039",
     "exception": false,
     "start_time": "2023-08-30T04:00:13.215989",
     "status": "completed"
    },
    "tags": []
   },
   "outputs": [
    {
     "data": {
      "text/plain": [
       "'Working on chromosome 16'"
      ]
     },
     "metadata": {},
     "output_type": "display_data"
    }
   ],
   "source": [
    "assert CHROMOSOME is not None and (\n",
    "    1 <= CHROMOSOME <= 22\n",
    "), \"You have to select one chromosome (format: number between 1 and 22)\"\n",
    "\n",
    "display(f\"Working on chromosome {CHROMOSOME}\")"
   ]
  },
  {
   "cell_type": "code",
   "execution_count": 10,
   "id": "ab8e96e8-06b5-4363-9dcd-dc4d78cc27f7",
   "metadata": {
    "execution": {
     "iopub.execute_input": "2023-08-30T04:00:13.265956Z",
     "iopub.status.busy": "2023-08-30T04:00:13.265640Z",
     "iopub.status.idle": "2023-08-30T04:00:13.289064Z",
     "shell.execute_reply": "2023-08-30T04:00:13.288651Z"
    },
    "papermill": {
     "duration": 0.032526,
     "end_time": "2023-08-30T04:00:13.290026",
     "exception": false,
     "start_time": "2023-08-30T04:00:13.257500",
     "status": "completed"
    },
    "tags": []
   },
   "outputs": [
    {
     "data": {
      "text/plain": [
       "'Compute correlation within distance True'"
      ]
     },
     "metadata": {},
     "output_type": "display_data"
    }
   ],
   "source": [
    "display(f\"Compute correlation within distance {COMPUTE_CORRELATIONS_WITHIN_DISTANCE}\")"
   ]
  },
  {
   "cell_type": "code",
   "execution_count": 11,
   "id": "b393b698-77e3-4ba2-8ac1-e14d51aa988f",
   "metadata": {
    "execution": {
     "iopub.execute_input": "2023-08-30T04:00:13.301272Z",
     "iopub.status.busy": "2023-08-30T04:00:13.301003Z",
     "iopub.status.idle": "2023-08-30T04:00:13.321549Z",
     "shell.execute_reply": "2023-08-30T04:00:13.321071Z"
    },
    "papermill": {
     "duration": 0.027312,
     "end_time": "2023-08-30T04:00:13.322437",
     "exception": false,
     "start_time": "2023-08-30T04:00:13.295125",
     "status": "completed"
    },
    "tags": []
   },
   "outputs": [
    {
     "data": {
      "text/plain": [
       "'Using output dir base: /opt/data/projects/chronotype/results/gls_phenoplier/gene_corrs/chronotype'"
      ]
     },
     "metadata": {},
     "output_type": "display_data"
    }
   ],
   "source": [
    "assert (\n",
    "    OUTPUT_DIR_BASE is not None and len(OUTPUT_DIR_BASE) > 0\n",
    "), \"Output directory path must be given\"\n",
    "\n",
    "OUTPUT_DIR_BASE = (Path(OUTPUT_DIR_BASE) / \"gene_corrs\" / COHORT_NAME).resolve()\n",
    "\n",
    "OUTPUT_DIR_BASE.mkdir(parents=True, exist_ok=True)\n",
    "\n",
    "display(f\"Using output dir base: {OUTPUT_DIR_BASE}\")"
   ]
  },
  {
   "cell_type": "markdown",
   "id": "d2ba085e",
   "metadata": {
    "papermill": {
     "duration": 0.004851,
     "end_time": "2023-08-30T04:00:13.332838",
     "exception": false,
     "start_time": "2023-08-30T04:00:13.327987",
     "status": "completed"
    },
    "tags": []
   },
   "source": [
    "# Load data"
   ]
  },
  {
   "cell_type": "markdown",
   "id": "7dcb8db7",
   "metadata": {
    "papermill": {
     "duration": 0.005082,
     "end_time": "2023-08-30T04:00:13.342918",
     "exception": false,
     "start_time": "2023-08-30T04:00:13.337836",
     "status": "completed"
    },
    "tags": []
   },
   "source": [
    "## GWAS variants"
   ]
  },
  {
   "cell_type": "code",
   "execution_count": 12,
   "id": "29434c4e-8cd3-4b9b-82e4-b5a251d9dd19",
   "metadata": {
    "execution": {
     "iopub.execute_input": "2023-08-30T04:00:13.353681Z",
     "iopub.status.busy": "2023-08-30T04:00:13.353445Z",
     "iopub.status.idle": "2023-08-30T04:00:18.151775Z",
     "shell.execute_reply": "2023-08-30T04:00:18.151087Z"
    },
    "papermill": {
     "duration": 4.805963,
     "end_time": "2023-08-30T04:00:18.153683",
     "exception": false,
     "start_time": "2023-08-30T04:00:13.347720",
     "status": "completed"
    },
    "tags": []
   },
   "outputs": [],
   "source": [
    "with open(OUTPUT_DIR_BASE / \"gwas_variant_ids.pkl\", \"rb\") as handle:\n",
    "    gwas_variants_ids_set = pickle.load(handle)"
   ]
  },
  {
   "cell_type": "code",
   "execution_count": 13,
   "id": "b9d9dec2-4a76-4bf9-bde2-e24c95acb8a0",
   "metadata": {
    "execution": {
     "iopub.execute_input": "2023-08-30T04:00:18.168789Z",
     "iopub.status.busy": "2023-08-30T04:00:18.168442Z",
     "iopub.status.idle": "2023-08-30T04:00:18.187570Z",
     "shell.execute_reply": "2023-08-30T04:00:18.187101Z"
    },
    "papermill": {
     "duration": 0.028497,
     "end_time": "2023-08-30T04:00:18.188857",
     "exception": false,
     "start_time": "2023-08-30T04:00:18.160360",
     "status": "completed"
    },
    "tags": []
   },
   "outputs": [
    {
     "data": {
      "text/plain": [
       "11737794"
      ]
     },
     "execution_count": 13,
     "metadata": {},
     "output_type": "execute_result"
    }
   ],
   "source": [
    "len(gwas_variants_ids_set)"
   ]
  },
  {
   "cell_type": "code",
   "execution_count": 14,
   "id": "4235b06a-6034-4ee4-a0a3-2ae35d122418",
   "metadata": {
    "execution": {
     "iopub.execute_input": "2023-08-30T04:00:18.204029Z",
     "iopub.status.busy": "2023-08-30T04:00:18.203690Z",
     "iopub.status.idle": "2023-08-30T04:00:19.764399Z",
     "shell.execute_reply": "2023-08-30T04:00:19.763724Z"
    },
    "papermill": {
     "duration": 1.57026,
     "end_time": "2023-08-30T04:00:19.765791",
     "exception": false,
     "start_time": "2023-08-30T04:00:18.195531",
     "status": "completed"
    },
    "tags": []
   },
   "outputs": [
    {
     "data": {
      "text/plain": [
       "['chr3_171822304_G_A_b38',\n",
       " 'chr6_166481121_T_A_b38',\n",
       " 'chr4_19960816_T_G_b38',\n",
       " 'chr1_169192103_C_T_b38',\n",
       " 'chr4_72541930_G_A_b38']"
      ]
     },
     "execution_count": 14,
     "metadata": {},
     "output_type": "execute_result"
    }
   ],
   "source": [
    "list(gwas_variants_ids_set)[:5]"
   ]
  },
  {
   "cell_type": "markdown",
   "id": "07866999-2305-41f9-a144-e69c9122c212",
   "metadata": {
    "papermill": {
     "duration": 0.007175,
     "end_time": "2023-08-30T04:00:19.780358",
     "exception": false,
     "start_time": "2023-08-30T04:00:19.773183",
     "status": "completed"
    },
    "tags": []
   },
   "source": [
    "## S-PrediXcan tissue models"
   ]
  },
  {
   "cell_type": "code",
   "execution_count": 15,
   "id": "780611d9-77c8-405f-90a4-f271f7b09397",
   "metadata": {
    "execution": {
     "iopub.execute_input": "2023-08-30T04:00:19.797683Z",
     "iopub.status.busy": "2023-08-30T04:00:19.797229Z",
     "iopub.status.idle": "2023-08-30T04:00:22.178106Z",
     "shell.execute_reply": "2023-08-30T04:00:22.177566Z"
    },
    "papermill": {
     "duration": 2.391877,
     "end_time": "2023-08-30T04:00:22.179665",
     "exception": false,
     "start_time": "2023-08-30T04:00:19.787788",
     "status": "completed"
    },
    "tags": []
   },
   "outputs": [],
   "source": [
    "spredixcan_genes_models = pd.read_pickle(OUTPUT_DIR_BASE / \"gene_tissues.pkl\")"
   ]
  },
  {
   "cell_type": "code",
   "execution_count": 16,
   "id": "726dd1f6-9557-4225-91fa-b3b879ea96e1",
   "metadata": {
    "execution": {
     "iopub.execute_input": "2023-08-30T04:00:22.195776Z",
     "iopub.status.busy": "2023-08-30T04:00:22.195325Z",
     "iopub.status.idle": "2023-08-30T04:00:22.212917Z",
     "shell.execute_reply": "2023-08-30T04:00:22.212475Z"
    },
    "papermill": {
     "duration": 0.02684,
     "end_time": "2023-08-30T04:00:22.213892",
     "exception": false,
     "start_time": "2023-08-30T04:00:22.187052",
     "status": "completed"
    },
    "tags": []
   },
   "outputs": [
    {
     "data": {
      "text/plain": [
       "(6445, 5)"
      ]
     },
     "execution_count": 16,
     "metadata": {},
     "output_type": "execute_result"
    }
   ],
   "source": [
    "spredixcan_genes_models.shape"
   ]
  },
  {
   "cell_type": "code",
   "execution_count": 17,
   "id": "944a1b48-222c-4eb0-b252-b9de2cbca215",
   "metadata": {
    "execution": {
     "iopub.execute_input": "2023-08-30T04:00:22.226152Z",
     "iopub.status.busy": "2023-08-30T04:00:22.225901Z",
     "iopub.status.idle": "2023-08-30T04:00:22.247335Z",
     "shell.execute_reply": "2023-08-30T04:00:22.246814Z"
    },
    "papermill": {
     "duration": 0.029082,
     "end_time": "2023-08-30T04:00:22.248593",
     "exception": false,
     "start_time": "2023-08-30T04:00:22.219511",
     "status": "completed"
    },
    "tags": []
   },
   "outputs": [
    {
     "data": {
      "text/html": [
       "<div>\n",
       "<style scoped>\n",
       "    .dataframe tbody tr th:only-of-type {\n",
       "        vertical-align: middle;\n",
       "    }\n",
       "\n",
       "    .dataframe tbody tr th {\n",
       "        vertical-align: top;\n",
       "    }\n",
       "\n",
       "    .dataframe thead th {\n",
       "        text-align: right;\n",
       "    }\n",
       "</style>\n",
       "<table border=\"1\" class=\"dataframe\">\n",
       "  <thead>\n",
       "    <tr style=\"text-align: right;\">\n",
       "      <th></th>\n",
       "      <th>gene_name</th>\n",
       "      <th>tissue</th>\n",
       "      <th>n_tissues</th>\n",
       "      <th>n_snps_used_sum</th>\n",
       "      <th>n_snps_in_model_sum</th>\n",
       "    </tr>\n",
       "    <tr>\n",
       "      <th>gene_id</th>\n",
       "      <th></th>\n",
       "      <th></th>\n",
       "      <th></th>\n",
       "      <th></th>\n",
       "      <th></th>\n",
       "    </tr>\n",
       "  </thead>\n",
       "  <tbody>\n",
       "    <tr>\n",
       "      <th>ENSG00000000419</th>\n",
       "      <td>DPM1</td>\n",
       "      <td>(Brain_Hypothalamus, Brain_Substantia_nigra)</td>\n",
       "      <td>2</td>\n",
       "      <td>2</td>\n",
       "      <td>2</td>\n",
       "    </tr>\n",
       "    <tr>\n",
       "      <th>ENSG00000000938</th>\n",
       "      <td>FGR</td>\n",
       "      <td>(Brain_Spinal_cord_cervical_c-1, Pancreas, Thy...</td>\n",
       "      <td>36</td>\n",
       "      <td>40</td>\n",
       "      <td>40</td>\n",
       "    </tr>\n",
       "    <tr>\n",
       "      <th>ENSG00000000971</th>\n",
       "      <td>CFH</td>\n",
       "      <td>(Brain_Spinal_cord_cervical_c-1, Ovary, Thyroi...</td>\n",
       "      <td>34</td>\n",
       "      <td>44</td>\n",
       "      <td>44</td>\n",
       "    </tr>\n",
       "    <tr>\n",
       "      <th>ENSG00000001084</th>\n",
       "      <td>GCLC</td>\n",
       "      <td>(Pancreas, Thyroid, Artery_Tibial, Skin_Not_Su...</td>\n",
       "      <td>32</td>\n",
       "      <td>46</td>\n",
       "      <td>46</td>\n",
       "    </tr>\n",
       "    <tr>\n",
       "      <th>ENSG00000001167</th>\n",
       "      <td>NFYA</td>\n",
       "      <td>(Brain_Spinal_cord_cervical_c-1, Ovary, Thyroi...</td>\n",
       "      <td>40</td>\n",
       "      <td>47</td>\n",
       "      <td>48</td>\n",
       "    </tr>\n",
       "  </tbody>\n",
       "</table>\n",
       "</div>"
      ],
      "text/plain": [
       "                gene_name                                             tissue  \\\n",
       "gene_id                                                                        \n",
       "ENSG00000000419      DPM1       (Brain_Hypothalamus, Brain_Substantia_nigra)   \n",
       "ENSG00000000938       FGR  (Brain_Spinal_cord_cervical_c-1, Pancreas, Thy...   \n",
       "ENSG00000000971       CFH  (Brain_Spinal_cord_cervical_c-1, Ovary, Thyroi...   \n",
       "ENSG00000001084      GCLC  (Pancreas, Thyroid, Artery_Tibial, Skin_Not_Su...   \n",
       "ENSG00000001167      NFYA  (Brain_Spinal_cord_cervical_c-1, Ovary, Thyroi...   \n",
       "\n",
       "                 n_tissues  n_snps_used_sum  n_snps_in_model_sum  \n",
       "gene_id                                                           \n",
       "ENSG00000000419          2                2                    2  \n",
       "ENSG00000000938         36               40                   40  \n",
       "ENSG00000000971         34               44                   44  \n",
       "ENSG00000001084         32               46                   46  \n",
       "ENSG00000001167         40               47                   48  "
      ]
     },
     "execution_count": 17,
     "metadata": {},
     "output_type": "execute_result"
    }
   ],
   "source": [
    "spredixcan_genes_models.head()"
   ]
  },
  {
   "cell_type": "code",
   "execution_count": 18,
   "id": "d1c11bb1-be0b-4f40-b360-633d6827109f",
   "metadata": {
    "execution": {
     "iopub.execute_input": "2023-08-30T04:00:22.267379Z",
     "iopub.status.busy": "2023-08-30T04:00:22.266828Z",
     "iopub.status.idle": "2023-08-30T04:00:22.286802Z",
     "shell.execute_reply": "2023-08-30T04:00:22.286287Z"
    },
    "papermill": {
     "duration": 0.030915,
     "end_time": "2023-08-30T04:00:22.288007",
     "exception": false,
     "start_time": "2023-08-30T04:00:22.257092",
     "status": "completed"
    },
    "tags": []
   },
   "outputs": [],
   "source": [
    "assert spredixcan_genes_models.index.is_unique"
   ]
  },
  {
   "cell_type": "markdown",
   "id": "a5b5092c-a13e-47c4-a92a-480fcc08f3ae",
   "metadata": {
    "papermill": {
     "duration": 0.00839,
     "end_time": "2023-08-30T04:00:22.305259",
     "exception": false,
     "start_time": "2023-08-30T04:00:22.296869",
     "status": "completed"
    },
    "tags": []
   },
   "source": [
    "## Gene info"
   ]
  },
  {
   "cell_type": "code",
   "execution_count": 19,
   "id": "7d6bb224-88e9-4358-ac10-43a41d92cdad",
   "metadata": {
    "execution": {
     "iopub.execute_input": "2023-08-30T04:00:22.320036Z",
     "iopub.status.busy": "2023-08-30T04:00:22.319654Z",
     "iopub.status.idle": "2023-08-30T04:00:22.343751Z",
     "shell.execute_reply": "2023-08-30T04:00:22.343126Z"
    },
    "papermill": {
     "duration": 0.031727,
     "end_time": "2023-08-30T04:00:22.345005",
     "exception": false,
     "start_time": "2023-08-30T04:00:22.313278",
     "status": "completed"
    },
    "tags": []
   },
   "outputs": [],
   "source": [
    "genes_info = pd.read_pickle(OUTPUT_DIR_BASE / \"genes_info.pkl\")"
   ]
  },
  {
   "cell_type": "code",
   "execution_count": 20,
   "id": "9e32abfa-546d-483e-8c18-d526e9e05903",
   "metadata": {
    "execution": {
     "iopub.execute_input": "2023-08-30T04:00:22.356874Z",
     "iopub.status.busy": "2023-08-30T04:00:22.356663Z",
     "iopub.status.idle": "2023-08-30T04:00:22.382834Z",
     "shell.execute_reply": "2023-08-30T04:00:22.382326Z"
    },
    "papermill": {
     "duration": 0.033025,
     "end_time": "2023-08-30T04:00:22.383786",
     "exception": false,
     "start_time": "2023-08-30T04:00:22.350761",
     "status": "completed"
    },
    "tags": []
   },
   "outputs": [
    {
     "data": {
      "text/plain": [
       "(6445, 7)"
      ]
     },
     "execution_count": 20,
     "metadata": {},
     "output_type": "execute_result"
    }
   ],
   "source": [
    "genes_info.shape"
   ]
  },
  {
   "cell_type": "code",
   "execution_count": 21,
   "id": "d16c3e92-85ec-468a-9a56-e25a9774a1cb",
   "metadata": {
    "execution": {
     "iopub.execute_input": "2023-08-30T04:00:22.396153Z",
     "iopub.status.busy": "2023-08-30T04:00:22.395808Z",
     "iopub.status.idle": "2023-08-30T04:00:22.426142Z",
     "shell.execute_reply": "2023-08-30T04:00:22.425602Z"
    },
    "papermill": {
     "duration": 0.03842,
     "end_time": "2023-08-30T04:00:22.427996",
     "exception": false,
     "start_time": "2023-08-30T04:00:22.389576",
     "status": "completed"
    },
    "tags": []
   },
   "outputs": [
    {
     "data": {
      "text/html": [
       "<div>\n",
       "<style scoped>\n",
       "    .dataframe tbody tr th:only-of-type {\n",
       "        vertical-align: middle;\n",
       "    }\n",
       "\n",
       "    .dataframe tbody tr th {\n",
       "        vertical-align: top;\n",
       "    }\n",
       "\n",
       "    .dataframe thead th {\n",
       "        text-align: right;\n",
       "    }\n",
       "</style>\n",
       "<table border=\"1\" class=\"dataframe\">\n",
       "  <thead>\n",
       "    <tr style=\"text-align: right;\">\n",
       "      <th></th>\n",
       "      <th>name</th>\n",
       "      <th>id</th>\n",
       "      <th>chr</th>\n",
       "      <th>band</th>\n",
       "      <th>start_position</th>\n",
       "      <th>end_position</th>\n",
       "      <th>gene_length</th>\n",
       "    </tr>\n",
       "  </thead>\n",
       "  <tbody>\n",
       "    <tr>\n",
       "      <th>0</th>\n",
       "      <td>DUT</td>\n",
       "      <td>ENSG00000128951</td>\n",
       "      <td>15</td>\n",
       "      <td>15q21.1</td>\n",
       "      <td>48331011</td>\n",
       "      <td>48343373</td>\n",
       "      <td>12362</td>\n",
       "    </tr>\n",
       "    <tr>\n",
       "      <th>1</th>\n",
       "      <td>NDUFA4</td>\n",
       "      <td>ENSG00000189043</td>\n",
       "      <td>7</td>\n",
       "      <td>7p21.3</td>\n",
       "      <td>10931943</td>\n",
       "      <td>10940153</td>\n",
       "      <td>8210</td>\n",
       "    </tr>\n",
       "    <tr>\n",
       "      <th>2</th>\n",
       "      <td>EPHB3</td>\n",
       "      <td>ENSG00000182580</td>\n",
       "      <td>3</td>\n",
       "      <td>3q27.1</td>\n",
       "      <td>184561785</td>\n",
       "      <td>184582408</td>\n",
       "      <td>20623</td>\n",
       "    </tr>\n",
       "    <tr>\n",
       "      <th>3</th>\n",
       "      <td>MYLK</td>\n",
       "      <td>ENSG00000065534</td>\n",
       "      <td>3</td>\n",
       "      <td>3q21.1</td>\n",
       "      <td>123610049</td>\n",
       "      <td>123884331</td>\n",
       "      <td>274282</td>\n",
       "    </tr>\n",
       "    <tr>\n",
       "      <th>4</th>\n",
       "      <td>SMPD4</td>\n",
       "      <td>ENSG00000136699</td>\n",
       "      <td>2</td>\n",
       "      <td>2q21.1</td>\n",
       "      <td>130151392</td>\n",
       "      <td>130182750</td>\n",
       "      <td>31358</td>\n",
       "    </tr>\n",
       "  </tbody>\n",
       "</table>\n",
       "</div>"
      ],
      "text/plain": [
       "     name               id  chr     band  start_position  end_position  \\\n",
       "0     DUT  ENSG00000128951   15  15q21.1        48331011      48343373   \n",
       "1  NDUFA4  ENSG00000189043    7   7p21.3        10931943      10940153   \n",
       "2   EPHB3  ENSG00000182580    3   3q27.1       184561785     184582408   \n",
       "3    MYLK  ENSG00000065534    3   3q21.1       123610049     123884331   \n",
       "4   SMPD4  ENSG00000136699    2   2q21.1       130151392     130182750   \n",
       "\n",
       "   gene_length  \n",
       "0        12362  \n",
       "1         8210  \n",
       "2        20623  \n",
       "3       274282  \n",
       "4        31358  "
      ]
     },
     "execution_count": 21,
     "metadata": {},
     "output_type": "execute_result"
    }
   ],
   "source": [
    "genes_info.head()"
   ]
  },
  {
   "cell_type": "markdown",
   "id": "d3843e06",
   "metadata": {
    "papermill": {
     "duration": 0.010132,
     "end_time": "2023-08-30T04:00:22.449626",
     "exception": false,
     "start_time": "2023-08-30T04:00:22.439494",
     "status": "completed"
    },
    "tags": []
   },
   "source": [
    "# Compute correlations"
   ]
  },
  {
   "cell_type": "code",
   "execution_count": 22,
   "id": "cb859c15-d1f3-4006-a74c-2b83c0db9611",
   "metadata": {
    "execution": {
     "iopub.execute_input": "2023-08-30T04:00:22.471506Z",
     "iopub.status.busy": "2023-08-30T04:00:22.471174Z",
     "iopub.status.idle": "2023-08-30T04:00:22.498994Z",
     "shell.execute_reply": "2023-08-30T04:00:22.498329Z"
    },
    "papermill": {
     "duration": 0.040684,
     "end_time": "2023-08-30T04:00:22.500540",
     "exception": false,
     "start_time": "2023-08-30T04:00:22.459856",
     "status": "completed"
    },
    "tags": []
   },
   "outputs": [
    {
     "data": {
      "text/plain": [
       "PosixPath('/opt/data/projects/chronotype/results/gls_phenoplier/gene_corrs/chronotype/by_chr/gene_corrs-chr16.pkl')"
      ]
     },
     "metadata": {},
     "output_type": "display_data"
    }
   ],
   "source": [
    "output_dir = OUTPUT_DIR_BASE / \"by_chr\"\n",
    "output_dir.mkdir(exist_ok=True, parents=True)\n",
    "output_file = output_dir / f\"gene_corrs-chr{CHROMOSOME}.pkl\"\n",
    "display(output_file)"
   ]
  },
  {
   "cell_type": "code",
   "execution_count": 23,
   "id": "aa674fe4-6794-4eed-98fa-32b39d1d4ace",
   "metadata": {
    "execution": {
     "iopub.execute_input": "2023-08-30T04:00:22.522842Z",
     "iopub.status.busy": "2023-08-30T04:00:22.522498Z",
     "iopub.status.idle": "2023-08-30T04:00:22.547109Z",
     "shell.execute_reply": "2023-08-30T04:00:22.546554Z"
    },
    "papermill": {
     "duration": 0.037714,
     "end_time": "2023-08-30T04:00:22.548763",
     "exception": false,
     "start_time": "2023-08-30T04:00:22.511049",
     "status": "completed"
    },
    "tags": []
   },
   "outputs": [],
   "source": [
    "warnings.filterwarnings(\"error\")"
   ]
  },
  {
   "cell_type": "code",
   "execution_count": 24,
   "id": "44d5450b-3baf-43f1-9e2e-4b06f1a785f8",
   "metadata": {
    "execution": {
     "iopub.execute_input": "2023-08-30T04:00:22.571217Z",
     "iopub.status.busy": "2023-08-30T04:00:22.570646Z",
     "iopub.status.idle": "2023-08-30T04:00:22.596394Z",
     "shell.execute_reply": "2023-08-30T04:00:22.595844Z"
    },
    "papermill": {
     "duration": 0.038491,
     "end_time": "2023-08-30T04:00:22.598077",
     "exception": false,
     "start_time": "2023-08-30T04:00:22.559586",
     "status": "completed"
    },
    "tags": []
   },
   "outputs": [],
   "source": [
    "# standard checks\n",
    "all_chrs = genes_info[\"chr\"].dropna().unique()\n",
    "assert all_chrs.shape[0] == 22\n",
    "\n",
    "# select chromosome given by the user\n",
    "assert CHROMOSOME in all_chrs"
   ]
  },
  {
   "cell_type": "code",
   "execution_count": 25,
   "id": "2d7c043c-92a7-4d35-991b-fa69ac1e0268",
   "metadata": {
    "execution": {
     "iopub.execute_input": "2023-08-30T04:00:22.621462Z",
     "iopub.status.busy": "2023-08-30T04:00:22.621237Z",
     "iopub.status.idle": "2023-08-30T04:00:22.643593Z",
     "shell.execute_reply": "2023-08-30T04:00:22.642924Z"
    },
    "papermill": {
     "duration": 0.0364,
     "end_time": "2023-08-30T04:00:22.645339",
     "exception": false,
     "start_time": "2023-08-30T04:00:22.608939",
     "status": "completed"
    },
    "tags": []
   },
   "outputs": [
    {
     "name": "stdout",
     "output_type": "stream",
     "text": [
      "Number of genes in chromosome: 274\n"
     ]
    }
   ],
   "source": [
    "# run only on the chromosome specified\n",
    "all_chrs = [CHROMOSOME]\n",
    "genes_chr = genes_info[genes_info[\"chr\"] == CHROMOSOME]\n",
    "\n",
    "# For testing purposes\n",
    "# genes_chr = genes_chr.sample(n=20)\n",
    "\n",
    "print(f\"Number of genes in chromosome: {genes_chr.shape[0]}\", flush=True)"
   ]
  },
  {
   "cell_type": "code",
   "execution_count": 26,
   "id": "916015d8-2979-46d3-a9b9-1cf5a0932c6a",
   "metadata": {
    "execution": {
     "iopub.execute_input": "2023-08-30T04:00:22.667328Z",
     "iopub.status.busy": "2023-08-30T04:00:22.667150Z",
     "iopub.status.idle": "2023-08-30T04:00:22.690186Z",
     "shell.execute_reply": "2023-08-30T04:00:22.689639Z"
    },
    "papermill": {
     "duration": 0.037937,
     "end_time": "2023-08-30T04:00:22.692105",
     "exception": false,
     "start_time": "2023-08-30T04:00:22.654168",
     "status": "completed"
    },
    "tags": []
   },
   "outputs": [],
   "source": [
    "# sort genes by starting position to make visualizations better later\n",
    "genes_chr = genes_chr.sort_values(\"start_position\")"
   ]
  },
  {
   "cell_type": "code",
   "execution_count": 27,
   "id": "a38aa74a-8ad3-47f6-8ef9-56be0e011774",
   "metadata": {
    "execution": {
     "iopub.execute_input": "2023-08-30T04:00:22.718330Z",
     "iopub.status.busy": "2023-08-30T04:00:22.718011Z",
     "iopub.status.idle": "2023-08-30T04:00:22.743932Z",
     "shell.execute_reply": "2023-08-30T04:00:22.743337Z"
    },
    "papermill": {
     "duration": 0.041234,
     "end_time": "2023-08-30T04:00:22.746276",
     "exception": false,
     "start_time": "2023-08-30T04:00:22.705042",
     "status": "completed"
    },
    "tags": []
   },
   "outputs": [],
   "source": [
    "gene_chr_objs = [Gene(ensembl_id=gene_id) for gene_id in genes_chr[\"id\"]]"
   ]
  },
  {
   "cell_type": "code",
   "execution_count": 28,
   "id": "570f974f-13c3-42b6-ad3a-ce99ca885c1a",
   "metadata": {
    "execution": {
     "iopub.execute_input": "2023-08-30T04:00:22.777979Z",
     "iopub.status.busy": "2023-08-30T04:00:22.777694Z",
     "iopub.status.idle": "2023-08-30T04:00:22.798875Z",
     "shell.execute_reply": "2023-08-30T04:00:22.798363Z"
    },
    "papermill": {
     "duration": 0.036233,
     "end_time": "2023-08-30T04:00:22.800885",
     "exception": false,
     "start_time": "2023-08-30T04:00:22.764652",
     "status": "completed"
    },
    "tags": []
   },
   "outputs": [
    {
     "name": "stdout",
     "output_type": "stream",
     "text": [
      "Number of gene combinations: 37675\n"
     ]
    }
   ],
   "source": [
    "n = len(gene_chr_objs)\n",
    "# diagonal elements + upper triangular matrix\n",
    "n_comb = n + int(n * (n - 1) / 2.0)\n",
    "print(f\"Number of gene combinations: {n_comb}\", flush=True)"
   ]
  },
  {
   "cell_type": "code",
   "execution_count": 29,
   "id": "cdbb90a1",
   "metadata": {
    "execution": {
     "iopub.execute_input": "2023-08-30T04:00:22.836884Z",
     "iopub.status.busy": "2023-08-30T04:00:22.836654Z",
     "iopub.status.idle": "2023-08-30T04:06:39.553144Z",
     "shell.execute_reply": "2023-08-30T04:06:39.552689Z"
    },
    "papermill": {
     "duration": 376.735009,
     "end_time": "2023-08-30T04:06:39.554571",
     "exception": false,
     "start_time": "2023-08-30T04:00:22.819562",
     "status": "completed"
    },
    "tags": []
   },
   "outputs": [
    {
     "name": "stderr",
     "output_type": "stream",
     "text": [
      "ENSG00000258947 / ENSG00000258947: 100%|█████████████████████| 37675/37675 [06:16<00:00, 100.02it/s]\n"
     ]
    },
    {
     "data": {
      "text/plain": [
       "PosixPath('/opt/data/projects/chronotype/results/gls_phenoplier/gene_corrs/chronotype/by_chr/gene_corrs-chr16.pkl')"
      ]
     },
     "metadata": {},
     "output_type": "display_data"
    }
   ],
   "source": [
    "gene_corrs = []\n",
    "gene_corrs_data = np.full(\n",
    "    (n, n),\n",
    "    np.nan,\n",
    "    dtype=np.float64,\n",
    ")\n",
    "\n",
    "i = 0\n",
    "with tqdm(ncols=100, total=n_comb) as pbar:\n",
    "    for gene1_idx in range(0, len(gene_chr_objs)):\n",
    "        gene1_obj = gene_chr_objs[gene1_idx]\n",
    "        gene1_tissues = spredixcan_genes_models.loc[gene1_obj.ensembl_id, \"tissue\"]\n",
    "\n",
    "        for gene2_idx in range(gene1_idx, len(gene_chr_objs)):\n",
    "            gene2_obj = gene_chr_objs[gene2_idx]\n",
    "            gene2_tissues = spredixcan_genes_models.loc[gene2_obj.ensembl_id, \"tissue\"]\n",
    "\n",
    "            pbar.set_description(f\"{gene1_obj.ensembl_id} / {gene2_obj.ensembl_id}\")\n",
    "\n",
    "            try:\n",
    "                r = gene1_obj.get_ssm_correlation(\n",
    "                    other_gene=gene2_obj,\n",
    "                    tissues=gene1_tissues,\n",
    "                    other_tissues=gene2_tissues,\n",
    "                    snps_subset=gwas_variants_ids_set,\n",
    "                    condition_number=SMULTIXCAN_CONDITION_NUMBER,\n",
    "                    reference_panel=REFERENCE_PANEL,\n",
    "                    model_type=EQTL_MODEL,\n",
    "                    use_within_distance=COMPUTE_CORRELATIONS_WITHIN_DISTANCE,\n",
    "                )\n",
    "\n",
    "                if r is None:\n",
    "                    # if r is None, it's very likely because:\n",
    "                    #  * one of the genes has no prediction models\n",
    "                    #  * all the SNPs predictors for the gene are not present in the reference\n",
    "                    #    panel\n",
    "\n",
    "                    r = 0.0\n",
    "\n",
    "                gene_corrs.append(r)\n",
    "\n",
    "                gene_corrs_data[gene1_idx, gene2_idx] = r\n",
    "                gene_corrs_data[gene2_idx, gene1_idx] = r\n",
    "            except Warning as e:\n",
    "                if not DEBUG_MODE:\n",
    "                    raise e\n",
    "\n",
    "                print(\n",
    "                    f\"RuntimeWarning for genes {gene1_obj.ensembl_id} and {gene2_obj.ensembl_id}\",\n",
    "                    flush=True,\n",
    "                )\n",
    "                print(traceback.format_exc(), flush=True)\n",
    "\n",
    "                gene_corrs.append(np.nan)\n",
    "            except Exception as e:\n",
    "                if not DEBUG_MODE:\n",
    "                    raise e\n",
    "\n",
    "                print(\n",
    "                    f\"Exception for genes {gene1_obj.ensembl_id} and {gene2_obj.ensembl_id}\",\n",
    "                    flush=True,\n",
    "                )\n",
    "                print(traceback.format_exc(), flush=True)\n",
    "\n",
    "                gene_corrs.append(np.nan)\n",
    "\n",
    "            pbar.update(1)\n",
    "\n",
    "# create a pandas series\n",
    "gene_corrs_flat = pd.Series(gene_corrs)\n",
    "\n",
    "# save\n",
    "# FIXME: consider saving only the condenced matrix here. See here for\n",
    "# more details: https://github.com/greenelab/phenoplier/pull/38#discussion_r634600813\n",
    "# gene_corrs_data = squareform(np.array(gene_corrs, dtype=np.float64))\n",
    "# np.fill_diagonal(gene_corrs_data, 1.0)\n",
    "\n",
    "gene_chr_ids = [g.ensembl_id for g in gene_chr_objs]\n",
    "gene_corrs_df = pd.DataFrame(\n",
    "    data=gene_corrs_data,\n",
    "    index=gene_chr_ids,\n",
    "    columns=gene_chr_ids,\n",
    ")\n",
    "\n",
    "output_dir.mkdir(exist_ok=True, parents=True)\n",
    "display(output_file)\n",
    "\n",
    "gene_corrs_df.to_pickle(output_file)"
   ]
  },
  {
   "cell_type": "markdown",
   "id": "faa67b51-5373-470f-aa72-2ded53fa6dfe",
   "metadata": {
    "papermill": {
     "duration": 1.166601,
     "end_time": "2023-08-30T04:06:41.908793",
     "exception": false,
     "start_time": "2023-08-30T04:06:40.742192",
     "status": "completed"
    },
    "tags": []
   },
   "source": [
    "# Testing"
   ]
  },
  {
   "cell_type": "code",
   "execution_count": 30,
   "id": "14f7d046-4b55-4896-a56b-990127bcc388",
   "metadata": {
    "execution": {
     "iopub.execute_input": "2023-08-30T04:06:44.271687Z",
     "iopub.status.busy": "2023-08-30T04:06:44.271304Z",
     "iopub.status.idle": "2023-08-30T04:06:44.291323Z",
     "shell.execute_reply": "2023-08-30T04:06:44.290738Z"
    },
    "papermill": {
     "duration": 1.194829,
     "end_time": "2023-08-30T04:06:44.292228",
     "exception": false,
     "start_time": "2023-08-30T04:06:43.097399",
     "status": "completed"
    },
    "tags": []
   },
   "outputs": [
    {
     "data": {
      "text/plain": [
       "(274, 274)"
      ]
     },
     "execution_count": 30,
     "metadata": {},
     "output_type": "execute_result"
    }
   ],
   "source": [
    "gene_corrs_df.shape"
   ]
  },
  {
   "cell_type": "code",
   "execution_count": 31,
   "id": "c7d15414-3297-4537-a7c6-7588c0baeb75",
   "metadata": {
    "execution": {
     "iopub.execute_input": "2023-08-30T04:06:46.696508Z",
     "iopub.status.busy": "2023-08-30T04:06:46.696027Z",
     "iopub.status.idle": "2023-08-30T04:06:46.729053Z",
     "shell.execute_reply": "2023-08-30T04:06:46.728361Z"
    },
    "papermill": {
     "duration": 1.236942,
     "end_time": "2023-08-30T04:06:46.729988",
     "exception": false,
     "start_time": "2023-08-30T04:06:45.493046",
     "status": "completed"
    },
    "tags": []
   },
   "outputs": [
    {
     "data": {
      "text/html": [
       "<div>\n",
       "<style scoped>\n",
       "    .dataframe tbody tr th:only-of-type {\n",
       "        vertical-align: middle;\n",
       "    }\n",
       "\n",
       "    .dataframe tbody tr th {\n",
       "        vertical-align: top;\n",
       "    }\n",
       "\n",
       "    .dataframe thead th {\n",
       "        text-align: right;\n",
       "    }\n",
       "</style>\n",
       "<table border=\"1\" class=\"dataframe\">\n",
       "  <thead>\n",
       "    <tr style=\"text-align: right;\">\n",
       "      <th></th>\n",
       "      <th>ENSG00000161980</th>\n",
       "      <th>ENSG00000103152</th>\n",
       "      <th>ENSG00000206172</th>\n",
       "      <th>ENSG00000086506</th>\n",
       "      <th>ENSG00000076344</th>\n",
       "      <th>ENSG00000103126</th>\n",
       "      <th>ENSG00000086504</th>\n",
       "      <th>ENSG00000103202</th>\n",
       "      <th>ENSG00000242612</th>\n",
       "      <th>ENSG00000090565</th>\n",
       "      <th>...</th>\n",
       "      <th>ENSG00000051523</th>\n",
       "      <th>ENSG00000167508</th>\n",
       "      <th>ENSG00000167513</th>\n",
       "      <th>ENSG00000198931</th>\n",
       "      <th>ENSG00000141012</th>\n",
       "      <th>ENSG00000129993</th>\n",
       "      <th>ENSG00000167526</th>\n",
       "      <th>ENSG00000187741</th>\n",
       "      <th>ENSG00000258839</th>\n",
       "      <th>ENSG00000258947</th>\n",
       "    </tr>\n",
       "  </thead>\n",
       "  <tbody>\n",
       "    <tr>\n",
       "      <th>ENSG00000161980</th>\n",
       "      <td>1.000000</td>\n",
       "      <td>0.311909</td>\n",
       "      <td>0.008425</td>\n",
       "      <td>0.032054</td>\n",
       "      <td>0.013137</td>\n",
       "      <td>0.016392</td>\n",
       "      <td>0.010935</td>\n",
       "      <td>0.013421</td>\n",
       "      <td>0.017843</td>\n",
       "      <td>0.013448</td>\n",
       "      <td>...</td>\n",
       "      <td>0.0</td>\n",
       "      <td>0.0</td>\n",
       "      <td>0.0</td>\n",
       "      <td>0.0</td>\n",
       "      <td>0.0</td>\n",
       "      <td>0.0</td>\n",
       "      <td>0.0</td>\n",
       "      <td>0.0</td>\n",
       "      <td>0.0</td>\n",
       "      <td>0.0</td>\n",
       "    </tr>\n",
       "    <tr>\n",
       "      <th>ENSG00000103152</th>\n",
       "      <td>0.311909</td>\n",
       "      <td>1.000000</td>\n",
       "      <td>0.034104</td>\n",
       "      <td>0.120279</td>\n",
       "      <td>0.061835</td>\n",
       "      <td>0.029735</td>\n",
       "      <td>0.025689</td>\n",
       "      <td>0.010517</td>\n",
       "      <td>0.008693</td>\n",
       "      <td>0.009125</td>\n",
       "      <td>...</td>\n",
       "      <td>0.0</td>\n",
       "      <td>0.0</td>\n",
       "      <td>0.0</td>\n",
       "      <td>0.0</td>\n",
       "      <td>0.0</td>\n",
       "      <td>0.0</td>\n",
       "      <td>0.0</td>\n",
       "      <td>0.0</td>\n",
       "      <td>0.0</td>\n",
       "      <td>0.0</td>\n",
       "    </tr>\n",
       "    <tr>\n",
       "      <th>ENSG00000206172</th>\n",
       "      <td>0.008425</td>\n",
       "      <td>0.034104</td>\n",
       "      <td>1.000000</td>\n",
       "      <td>0.059261</td>\n",
       "      <td>0.062253</td>\n",
       "      <td>0.025327</td>\n",
       "      <td>0.103654</td>\n",
       "      <td>0.014437</td>\n",
       "      <td>0.013527</td>\n",
       "      <td>0.011204</td>\n",
       "      <td>...</td>\n",
       "      <td>0.0</td>\n",
       "      <td>0.0</td>\n",
       "      <td>0.0</td>\n",
       "      <td>0.0</td>\n",
       "      <td>0.0</td>\n",
       "      <td>0.0</td>\n",
       "      <td>0.0</td>\n",
       "      <td>0.0</td>\n",
       "      <td>0.0</td>\n",
       "      <td>0.0</td>\n",
       "    </tr>\n",
       "    <tr>\n",
       "      <th>ENSG00000086506</th>\n",
       "      <td>0.032054</td>\n",
       "      <td>0.120279</td>\n",
       "      <td>0.059261</td>\n",
       "      <td>1.000000</td>\n",
       "      <td>0.169374</td>\n",
       "      <td>0.092479</td>\n",
       "      <td>0.080608</td>\n",
       "      <td>0.014114</td>\n",
       "      <td>0.017748</td>\n",
       "      <td>0.022424</td>\n",
       "      <td>...</td>\n",
       "      <td>0.0</td>\n",
       "      <td>0.0</td>\n",
       "      <td>0.0</td>\n",
       "      <td>0.0</td>\n",
       "      <td>0.0</td>\n",
       "      <td>0.0</td>\n",
       "      <td>0.0</td>\n",
       "      <td>0.0</td>\n",
       "      <td>0.0</td>\n",
       "      <td>0.0</td>\n",
       "    </tr>\n",
       "    <tr>\n",
       "      <th>ENSG00000076344</th>\n",
       "      <td>0.013137</td>\n",
       "      <td>0.061835</td>\n",
       "      <td>0.062253</td>\n",
       "      <td>0.169374</td>\n",
       "      <td>1.000000</td>\n",
       "      <td>0.133745</td>\n",
       "      <td>0.121098</td>\n",
       "      <td>0.064556</td>\n",
       "      <td>0.023389</td>\n",
       "      <td>0.024896</td>\n",
       "      <td>...</td>\n",
       "      <td>0.0</td>\n",
       "      <td>0.0</td>\n",
       "      <td>0.0</td>\n",
       "      <td>0.0</td>\n",
       "      <td>0.0</td>\n",
       "      <td>0.0</td>\n",
       "      <td>0.0</td>\n",
       "      <td>0.0</td>\n",
       "      <td>0.0</td>\n",
       "      <td>0.0</td>\n",
       "    </tr>\n",
       "  </tbody>\n",
       "</table>\n",
       "<p>5 rows × 274 columns</p>\n",
       "</div>"
      ],
      "text/plain": [
       "                 ENSG00000161980  ENSG00000103152  ENSG00000206172  \\\n",
       "ENSG00000161980         1.000000         0.311909         0.008425   \n",
       "ENSG00000103152         0.311909         1.000000         0.034104   \n",
       "ENSG00000206172         0.008425         0.034104         1.000000   \n",
       "ENSG00000086506         0.032054         0.120279         0.059261   \n",
       "ENSG00000076344         0.013137         0.061835         0.062253   \n",
       "\n",
       "                 ENSG00000086506  ENSG00000076344  ENSG00000103126  \\\n",
       "ENSG00000161980         0.032054         0.013137         0.016392   \n",
       "ENSG00000103152         0.120279         0.061835         0.029735   \n",
       "ENSG00000206172         0.059261         0.062253         0.025327   \n",
       "ENSG00000086506         1.000000         0.169374         0.092479   \n",
       "ENSG00000076344         0.169374         1.000000         0.133745   \n",
       "\n",
       "                 ENSG00000086504  ENSG00000103202  ENSG00000242612  \\\n",
       "ENSG00000161980         0.010935         0.013421         0.017843   \n",
       "ENSG00000103152         0.025689         0.010517         0.008693   \n",
       "ENSG00000206172         0.103654         0.014437         0.013527   \n",
       "ENSG00000086506         0.080608         0.014114         0.017748   \n",
       "ENSG00000076344         0.121098         0.064556         0.023389   \n",
       "\n",
       "                 ENSG00000090565  ...  ENSG00000051523  ENSG00000167508  \\\n",
       "ENSG00000161980         0.013448  ...              0.0              0.0   \n",
       "ENSG00000103152         0.009125  ...              0.0              0.0   \n",
       "ENSG00000206172         0.011204  ...              0.0              0.0   \n",
       "ENSG00000086506         0.022424  ...              0.0              0.0   \n",
       "ENSG00000076344         0.024896  ...              0.0              0.0   \n",
       "\n",
       "                 ENSG00000167513  ENSG00000198931  ENSG00000141012  \\\n",
       "ENSG00000161980              0.0              0.0              0.0   \n",
       "ENSG00000103152              0.0              0.0              0.0   \n",
       "ENSG00000206172              0.0              0.0              0.0   \n",
       "ENSG00000086506              0.0              0.0              0.0   \n",
       "ENSG00000076344              0.0              0.0              0.0   \n",
       "\n",
       "                 ENSG00000129993  ENSG00000167526  ENSG00000187741  \\\n",
       "ENSG00000161980              0.0              0.0              0.0   \n",
       "ENSG00000103152              0.0              0.0              0.0   \n",
       "ENSG00000206172              0.0              0.0              0.0   \n",
       "ENSG00000086506              0.0              0.0              0.0   \n",
       "ENSG00000076344              0.0              0.0              0.0   \n",
       "\n",
       "                 ENSG00000258839  ENSG00000258947  \n",
       "ENSG00000161980              0.0              0.0  \n",
       "ENSG00000103152              0.0              0.0  \n",
       "ENSG00000206172              0.0              0.0  \n",
       "ENSG00000086506              0.0              0.0  \n",
       "ENSG00000076344              0.0              0.0  \n",
       "\n",
       "[5 rows x 274 columns]"
      ]
     },
     "execution_count": 31,
     "metadata": {},
     "output_type": "execute_result"
    }
   ],
   "source": [
    "gene_corrs_df.head()"
   ]
  },
  {
   "cell_type": "markdown",
   "id": "dad6603f-01c6-41fb-a6f6-241051207dd8",
   "metadata": {
    "papermill": {
     "duration": 1.297643,
     "end_time": "2023-08-30T04:06:49.194431",
     "exception": false,
     "start_time": "2023-08-30T04:06:47.896788",
     "status": "completed"
    },
    "tags": []
   },
   "source": [
    "## Standard checks and stats"
   ]
  },
  {
   "cell_type": "code",
   "execution_count": 32,
   "id": "286686af-1b7b-4440-8453-6bdcbd8de19c",
   "metadata": {
    "execution": {
     "iopub.execute_input": "2023-08-30T04:06:51.501910Z",
     "iopub.status.busy": "2023-08-30T04:06:51.501306Z",
     "iopub.status.idle": "2023-08-30T04:06:51.527312Z",
     "shell.execute_reply": "2023-08-30T04:06:51.526743Z"
    },
    "papermill": {
     "duration": 1.178398,
     "end_time": "2023-08-30T04:06:51.528390",
     "exception": false,
     "start_time": "2023-08-30T04:06:50.349992",
     "status": "completed"
    },
    "tags": []
   },
   "outputs": [],
   "source": [
    "assert not gene_corrs_df.isna().any(axis=None)"
   ]
  },
  {
   "cell_type": "code",
   "execution_count": 33,
   "id": "00583efc-7068-4270-ad1e-4a418e91db96",
   "metadata": {
    "execution": {
     "iopub.execute_input": "2023-08-30T04:06:53.886132Z",
     "iopub.status.busy": "2023-08-30T04:06:53.885531Z",
     "iopub.status.idle": "2023-08-30T04:06:53.910862Z",
     "shell.execute_reply": "2023-08-30T04:06:53.910250Z"
    },
    "papermill": {
     "duration": 1.21753,
     "end_time": "2023-08-30T04:06:53.911786",
     "exception": false,
     "start_time": "2023-08-30T04:06:52.694256",
     "status": "completed"
    },
    "tags": []
   },
   "outputs": [
    {
     "data": {
      "text/plain": [
       "0.0"
      ]
     },
     "metadata": {},
     "output_type": "display_data"
    }
   ],
   "source": [
    "_min_val = gene_corrs_df.min().min()\n",
    "display(_min_val)\n",
    "assert _min_val >= -0.05"
   ]
  },
  {
   "cell_type": "code",
   "execution_count": 34,
   "id": "d04fb2cf-1050-475b-b855-f5f7cc04092b",
   "metadata": {
    "execution": {
     "iopub.execute_input": "2023-08-30T04:06:56.225586Z",
     "iopub.status.busy": "2023-08-30T04:06:56.225188Z",
     "iopub.status.idle": "2023-08-30T04:06:56.250628Z",
     "shell.execute_reply": "2023-08-30T04:06:56.249936Z"
    },
    "papermill": {
     "duration": 1.194893,
     "end_time": "2023-08-30T04:06:56.251585",
     "exception": false,
     "start_time": "2023-08-30T04:06:55.056692",
     "status": "completed"
    },
    "tags": []
   },
   "outputs": [
    {
     "data": {
      "text/plain": [
       "1.0000000000000038"
      ]
     },
     "metadata": {},
     "output_type": "display_data"
    }
   ],
   "source": [
    "_max_val = gene_corrs_df.max().max()  # this captures the diagonal\n",
    "display(_max_val)\n",
    "assert _max_val <= 1.05"
   ]
  },
  {
   "cell_type": "code",
   "execution_count": 35,
   "id": "fe283586-c348-40e0-8841-f6d97bfb021c",
   "metadata": {
    "execution": {
     "iopub.execute_input": "2023-08-30T04:06:58.546123Z",
     "iopub.status.busy": "2023-08-30T04:06:58.545709Z",
     "iopub.status.idle": "2023-08-30T04:06:58.572793Z",
     "shell.execute_reply": "2023-08-30T04:06:58.572136Z"
    },
    "papermill": {
     "duration": 1.190874,
     "end_time": "2023-08-30T04:06:58.573735",
     "exception": false,
     "start_time": "2023-08-30T04:06:57.382861",
     "status": "completed"
    },
    "tags": []
   },
   "outputs": [
    {
     "data": {
      "text/plain": [
       "count    37675.000000\n",
       "mean         0.013797\n",
       "std          0.096526\n",
       "min          0.000000\n",
       "25%          0.000000\n",
       "50%          0.000000\n",
       "75%          0.000000\n",
       "max          1.000000\n",
       "dtype: float64"
      ]
     },
     "execution_count": 35,
     "metadata": {},
     "output_type": "execute_result"
    }
   ],
   "source": [
    "gene_corrs_flat.describe()"
   ]
  },
  {
   "cell_type": "code",
   "execution_count": 36,
   "id": "b3815678-0f93-4b35-897b-a9d047a2aa78",
   "metadata": {
    "execution": {
     "iopub.execute_input": "2023-08-30T04:07:00.893196Z",
     "iopub.status.busy": "2023-08-30T04:07:00.892800Z",
     "iopub.status.idle": "2023-08-30T04:07:00.920926Z",
     "shell.execute_reply": "2023-08-30T04:07:00.920277Z"
    },
    "papermill": {
     "duration": 1.218086,
     "end_time": "2023-08-30T04:07:00.921887",
     "exception": false,
     "start_time": "2023-08-30T04:06:59.703801",
     "status": "completed"
    },
    "tags": []
   },
   "outputs": [
    {
     "data": {
      "text/plain": [
       "0.00    0.000000\n",
       "0.05    0.000000\n",
       "0.10    0.000000\n",
       "0.15    0.000000\n",
       "0.20    0.000000\n",
       "0.25    0.000000\n",
       "0.30    0.000000\n",
       "0.35    0.000000\n",
       "0.40    0.000000\n",
       "0.45    0.000000\n",
       "0.50    0.000000\n",
       "0.55    0.000000\n",
       "0.60    0.000000\n",
       "0.65    0.000000\n",
       "0.70    0.000000\n",
       "0.75    0.000000\n",
       "0.80    0.000000\n",
       "0.85    0.002046\n",
       "0.90    0.005852\n",
       "0.95    0.012049\n",
       "dtype: float64"
      ]
     },
     "metadata": {},
     "output_type": "display_data"
    }
   ],
   "source": [
    "gene_corrs_quantiles = gene_corrs_flat.quantile(np.arange(0, 1, 0.05))\n",
    "display(gene_corrs_quantiles)"
   ]
  },
  {
   "cell_type": "markdown",
   "id": "87134509-b145-4a10-8bc9-b7e914c2b0fa",
   "metadata": {
    "papermill": {
     "duration": 1.124825,
     "end_time": "2023-08-30T04:07:03.226363",
     "exception": false,
     "start_time": "2023-08-30T04:07:02.101538",
     "status": "completed"
    },
    "tags": []
   },
   "source": [
    "## Positive definiteness"
   ]
  },
  {
   "cell_type": "code",
   "execution_count": 37,
   "id": "07d9a9a1-a4f7-48aa-b916-6d42a8cc6186",
   "metadata": {
    "execution": {
     "iopub.execute_input": "2023-08-30T04:07:05.541319Z",
     "iopub.status.busy": "2023-08-30T04:07:05.540974Z",
     "iopub.status.idle": "2023-08-30T04:07:05.584696Z",
     "shell.execute_reply": "2023-08-30T04:07:05.584135Z"
    },
    "papermill": {
     "duration": 1.185946,
     "end_time": "2023-08-30T04:07:05.585576",
     "exception": false,
     "start_time": "2023-08-30T04:07:04.399630",
     "status": "completed"
    },
    "tags": []
   },
   "outputs": [
    {
     "data": {
      "text/plain": [
       "0"
      ]
     },
     "metadata": {},
     "output_type": "display_data"
    },
    {
     "data": {
      "text/plain": [
       "array([], dtype=float64)"
      ]
     },
     "metadata": {},
     "output_type": "display_data"
    }
   ],
   "source": [
    "# print negative eigenvalues\n",
    "eigs = np.linalg.eigvals(gene_corrs_df.to_numpy())\n",
    "display(len(eigs[eigs < 0]))\n",
    "display(eigs[eigs < 0])"
   ]
  },
  {
   "cell_type": "code",
   "execution_count": 38,
   "id": "6e218436-c3c5-4028-8c94-a4fa6260efce",
   "metadata": {
    "execution": {
     "iopub.execute_input": "2023-08-30T04:07:07.925812Z",
     "iopub.status.busy": "2023-08-30T04:07:07.925538Z",
     "iopub.status.idle": "2023-08-30T04:07:07.950030Z",
     "shell.execute_reply": "2023-08-30T04:07:07.949580Z"
    },
    "papermill": {
     "duration": 1.213519,
     "end_time": "2023-08-30T04:07:07.950949",
     "exception": false,
     "start_time": "2023-08-30T04:07:06.737430",
     "status": "completed"
    },
    "tags": []
   },
   "outputs": [
    {
     "name": "stdout",
     "output_type": "stream",
     "text": [
      "Works!\n"
     ]
    }
   ],
   "source": [
    "try:\n",
    "    chol_mat = np.linalg.cholesky(gene_corrs_df.to_numpy())\n",
    "    cov_inv = np.linalg.inv(chol_mat)\n",
    "    print(\"Works!\")\n",
    "except Exception as e:\n",
    "    print(f\"Cholesky decomposition failed: {str(e)}\")"
   ]
  },
  {
   "cell_type": "code",
   "execution_count": 39,
   "id": "dd8827fb-faf9-4c7c-9454-015e94752706",
   "metadata": {
    "execution": {
     "iopub.execute_input": "2023-08-30T04:07:10.265227Z",
     "iopub.status.busy": "2023-08-30T04:07:10.264774Z",
     "iopub.status.idle": "2023-08-30T04:07:10.291259Z",
     "shell.execute_reply": "2023-08-30T04:07:10.290677Z"
    },
    "papermill": {
     "duration": 1.18416,
     "end_time": "2023-08-30T04:07:10.292185",
     "exception": false,
     "start_time": "2023-08-30T04:07:09.108025",
     "status": "completed"
    },
    "tags": []
   },
   "outputs": [
    {
     "name": "stdout",
     "output_type": "stream",
     "text": [
      "Works!\n"
     ]
    }
   ],
   "source": [
    "try:\n",
    "    # decomposition used by statsmodels.GLS\n",
    "    cholsigmainv = np.linalg.cholesky(np.linalg.inv(gene_corrs_df.to_numpy())).T\n",
    "    print(\"Works!\")\n",
    "except Exception as e:\n",
    "    print(f\"Cholesky decomposition failed (statsmodels.GLS): {str(e)}\")"
   ]
  },
  {
   "cell_type": "markdown",
   "id": "8e60a080-edb2-4e9c-b2ef-22961693200c",
   "metadata": {
    "papermill": {
     "duration": 1.130851,
     "end_time": "2023-08-30T04:07:12.599981",
     "exception": false,
     "start_time": "2023-08-30T04:07:11.469130",
     "status": "completed"
    },
    "tags": []
   },
   "source": [
    "## Plot: distribution"
   ]
  },
  {
   "cell_type": "code",
   "execution_count": 40,
   "id": "8301126b-a7d4-4744-9c7d-f0f86eb6f54c",
   "metadata": {
    "execution": {
     "iopub.execute_input": "2023-08-30T04:07:14.947445Z",
     "iopub.status.busy": "2023-08-30T04:07:14.947033Z",
     "iopub.status.idle": "2023-08-30T04:07:15.304435Z",
     "shell.execute_reply": "2023-08-30T04:07:15.303806Z"
    },
    "papermill": {
     "duration": 1.517287,
     "end_time": "2023-08-30T04:07:15.305845",
     "exception": false,
     "start_time": "2023-08-30T04:07:13.788558",
     "status": "completed"
    },
    "tags": []
   },
   "outputs": [
    {
     "data": {
      "image/png": "[encoded data removed]",
      "text/plain": [
       "<Figure size 700x700 with 1 Axes>"
      ]
     },
     "metadata": {},
     "output_type": "display_data"
    }
   ],
   "source": [
    "with sns.plotting_context(\"paper\", font_scale=1.5):\n",
    "    g = sns.displot(gene_corrs_flat, kde=True, height=7)\n",
    "    g.ax.set_title(\n",
    "        f\"Distribution of gene correlation values in chromosome {CHROMOSOME}\"\n",
    "    )"
   ]
  },
  {
   "cell_type": "markdown",
   "id": "cbd52bca-d878-4a2f-b684-5c83aa3038d4",
   "metadata": {
    "papermill": {
     "duration": 1.184646,
     "end_time": "2023-08-30T04:07:17.741618",
     "exception": false,
     "start_time": "2023-08-30T04:07:16.556972",
     "status": "completed"
    },
    "tags": []
   },
   "source": [
    "## Plot: heatmap"
   ]
  },
  {
   "cell_type": "code",
   "execution_count": 41,
   "id": "d03fe63a-c7b2-4fb9-a53c-db362ce843c9",
   "metadata": {
    "execution": {
     "iopub.execute_input": "2023-08-30T04:07:20.144552Z",
     "iopub.status.busy": "2023-08-30T04:07:20.144138Z",
     "iopub.status.idle": "2023-08-30T04:07:20.163744Z",
     "shell.execute_reply": "2023-08-30T04:07:20.163231Z"
    },
    "papermill": {
     "duration": 1.233552,
     "end_time": "2023-08-30T04:07:20.164988",
     "exception": false,
     "start_time": "2023-08-30T04:07:18.931436",
     "status": "completed"
    },
    "tags": []
   },
   "outputs": [
    {
     "data": {
      "text/plain": [
       "'0.0 / 0.05'"
      ]
     },
     "metadata": {},
     "output_type": "display_data"
    }
   ],
   "source": [
    "vmin_val = min(0.00, gene_corrs_quantiles[0.10])\n",
    "vmax_val = max(0.05, gene_corrs_quantiles[0.90])\n",
    "display(f\"{vmin_val} / {vmax_val}\")"
   ]
  },
  {
   "cell_type": "code",
   "execution_count": 42,
   "id": "dc41b70b-5bcc-4d9e-9f33-a22c4a94dab5",
   "metadata": {
    "execution": {
     "iopub.execute_input": "2023-08-30T04:07:22.568008Z",
     "iopub.status.busy": "2023-08-30T04:07:22.567689Z",
     "iopub.status.idle": "2023-08-30T04:07:22.795918Z",
     "shell.execute_reply": "2023-08-30T04:07:22.795449Z"
    },
    "papermill": {
     "duration": 1.37594,
     "end_time": "2023-08-30T04:07:22.798431",
     "exception": false,
     "start_time": "2023-08-30T04:07:21.422491",
     "status": "completed"
    },
    "tags": []
   },
   "outputs": [
    {
     "data": {
      "text/plain": [
       "Text(0.5, 1.0, 'Gene correlations in chromosome 16')"
      ]
     },
     "execution_count": 42,
     "metadata": {},
     "output_type": "execute_result"
    },
    {
     "data": {
      "image/png": "[encoded data removed]",
      "text/plain": [
       "<Figure size 1000x1000 with 2 Axes>"
      ]
     },
     "metadata": {},
     "output_type": "display_data"
    }
   ],
   "source": [
    "f, ax = plt.subplots(figsize=(10, 10))\n",
    "sns.heatmap(\n",
    "    gene_corrs_df,\n",
    "    xticklabels=False,\n",
    "    yticklabels=False,\n",
    "    square=True,\n",
    "    vmin=vmin_val,\n",
    "    vmax=vmax_val,\n",
    "    cmap=\"rocket_r\",\n",
    "    ax=ax,\n",
    ")\n",
    "ax.set_title(f\"Gene correlations in chromosome {CHROMOSOME}\")"
   ]
  },
  {
   "cell_type": "code",
   "execution_count": null,
   "id": "b25e3ead",
   "metadata": {
    "papermill": {
     "duration": 1.120451,
     "end_time": "2023-08-30T04:07:25.181210",
     "exception": false,
     "start_time": "2023-08-30T04:07:24.060759",
     "status": "completed"
    },
    "tags": []
   },
   "outputs": [],
   "source": []
  }
 ],
 "metadata": {
  "jupytext": {
   "cell_metadata_filter": "all,-execution,-papermill,-trusted",
   "formats": "ipynb,py//py:percent"
  },
  "kernelspec": {
   "display_name": "Python 3 (ipykernel)",
   "language": "python",
   "name": "python3"
  },
  "language_info": {
   "codemirror_mode": {
    "name": "ipython",
    "version": 3
   },
   "file_extension": ".py",
   "mimetype": "text/x-python",
   "name": "python",
   "nbconvert_exporter": "python",
   "pygments_lexer": "ipython3",
   "version": "3.10.6"
  },
  "papermill": {
   "default_parameters": {},
   "duration": 438.418622,
   "end_time": "2023-08-30T04:07:29.541973",
   "environment_variables": {},
   "exception": null,
   "input_path": "projects/chronotype/nbs/20_gene_corrs/jobs/05-gene_expr_correlations.ipynb",
   "output_path": "projects/chronotype/nbs/20_gene_corrs/jobs/../output/chronotype/05-gene_expr_correlations-chr16.run.ipynb",
   "parameters": {
    "CHROMOSOME": 16,
    "COHORT_NAME": "chronotype",
    "OUTPUT_DIR_BASE": "/opt/data/projects/chronotype/results/gls_phenoplier",
    "PHENOPLIER_NOTEBOOK_FILEPATH": "projects/chronotype/nbs/20_gene_corrs/jobs/05-gene_expr_correlations.ipynb"
   },
   "start_time": "2023-08-30T04:00:11.123351",
   "version": "2.2.2"
  }
 },
 "nbformat": 4,
 "nbformat_minor": 5
}
