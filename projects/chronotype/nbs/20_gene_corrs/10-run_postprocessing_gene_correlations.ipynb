{
 "cells": [
  {
   "cell_type": "markdown",
   "id": "c935aa7e-fde1-4d1c-b2d7-8c7ee611b1ed",
   "metadata": {
    "papermill": {
     "duration": 0.003005,
     "end_time": "2023-08-30T05:00:06.513611",
     "exception": false,
     "start_time": "2023-08-30T05:00:06.510606",
     "status": "completed"
    },
    "tags": []
   },
   "source": [
    "# Description"
   ]
  },
  {
   "cell_type": "markdown",
   "id": "f66770f7-0585-480b-8daa-1483bc37b494",
   "metadata": {
    "papermill": {
     "duration": 0.00231,
     "end_time": "2023-08-30T05:00:06.526032",
     "exception": false,
     "start_time": "2023-08-30T05:00:06.523722",
     "status": "completed"
    },
    "tags": []
   },
   "source": [
    "It read all gene-gene correlation matrices across chromosomes, performs some tests and saves a final, single gene-gene correlation matrix."
   ]
  },
  {
   "cell_type": "markdown",
   "id": "d389dd7b-20d8-44ed-8053-6e2cd8efea2e",
   "metadata": {
    "papermill": {
     "duration": 0.003008,
     "end_time": "2023-08-30T05:00:06.531589",
     "exception": false,
     "start_time": "2023-08-30T05:00:06.528581",
     "status": "completed"
    },
    "tags": []
   },
   "source": [
    "# Modules"
   ]
  },
  {
   "cell_type": "code",
   "execution_count": 1,
   "id": "69797656-0db2-41d5-b4d6-63c24d47ad38",
   "metadata": {
    "execution": {
     "iopub.execute_input": "2023-08-30T05:00:06.537336Z",
     "iopub.status.busy": "2023-08-30T05:00:06.537103Z",
     "iopub.status.idle": "2023-08-30T05:00:06.544429Z",
     "shell.execute_reply": "2023-08-30T05:00:06.543867Z"
    },
    "papermill": {
     "duration": 0.012001,
     "end_time": "2023-08-30T05:00:06.545966",
     "exception": false,
     "start_time": "2023-08-30T05:00:06.533965",
     "status": "completed"
    },
    "tags": []
   },
   "outputs": [],
   "source": [
    "import os\n",
    "from pathlib import Path"
   ]
  },
  {
   "cell_type": "markdown",
   "id": "dd17aa24-a692-4f62-ac69-c270447c7729",
   "metadata": {
    "papermill": {
     "duration": 0.002523,
     "end_time": "2023-08-30T05:00:06.550915",
     "exception": false,
     "start_time": "2023-08-30T05:00:06.548392",
     "status": "completed"
    },
    "tags": []
   },
   "source": [
    "# Settings"
   ]
  },
  {
   "cell_type": "markdown",
   "id": "3829ee6c-68b6-445e-adce-aa7a6280a56c",
   "metadata": {
    "papermill": {
     "duration": 0.002313,
     "end_time": "2023-08-30T05:00:06.555611",
     "exception": false,
     "start_time": "2023-08-30T05:00:06.553298",
     "status": "completed"
    },
    "tags": []
   },
   "source": [
    "Apparently, there is no easy way to get the parent directory of\n",
    "a notebook in Jupyter, so here I get that information either from\n",
    "the parameter sent by `nbs/run_nbs.sh` (if called from command-line) or\n",
    "from `os.getcwd()` (if called from browser)."
   ]
  },
  {
   "cell_type": "code",
   "execution_count": 2,
   "id": "e8f8093f-7738-448a-b29d-e9059684fcd1",
   "metadata": {
    "execution": {
     "iopub.execute_input": "2023-08-30T05:00:06.561239Z",
     "iopub.status.busy": "2023-08-30T05:00:06.561035Z",
     "iopub.status.idle": "2023-08-30T05:00:06.564138Z",
     "shell.execute_reply": "2023-08-30T05:00:06.563596Z"
    },
    "papermill": {
     "duration": 0.007565,
     "end_time": "2023-08-30T05:00:06.565548",
     "exception": false,
     "start_time": "2023-08-30T05:00:06.557983",
     "status": "completed"
    },
    "tags": [
     "parameters"
    ]
   },
   "outputs": [],
   "source": [
    "PHENOPLIER_NOTEBOOK_FILEPATH = None\n",
    "PHENOPLIER_NOTEBOOK_DIR = os.getcwd()\n",
    "\n",
    "PROJECTS_TRAIT_KEY = \"CHRONOTYPE\""
   ]
  },
  {
   "cell_type": "code",
   "execution_count": 3,
   "id": "02666d70",
   "metadata": {
    "execution": {
     "iopub.execute_input": "2023-08-30T05:00:06.571425Z",
     "iopub.status.busy": "2023-08-30T05:00:06.571225Z",
     "iopub.status.idle": "2023-08-30T05:00:06.574096Z",
     "shell.execute_reply": "2023-08-30T05:00:06.573545Z"
    },
    "lines_to_next_cell": 2,
    "papermill": {
     "duration": 0.00726,
     "end_time": "2023-08-30T05:00:06.575449",
     "exception": false,
     "start_time": "2023-08-30T05:00:06.568189",
     "status": "completed"
    },
    "tags": [
     "injected-parameters"
    ]
   },
   "outputs": [],
   "source": [
    "# Parameters\n",
    "PHENOPLIER_NOTEBOOK_FILEPATH = \"projects/chronotype/nbs/20_gene_corrs/10-run_postprocessing_gene_correlations.ipynb\""
   ]
  },
  {
   "cell_type": "code",
   "execution_count": 4,
   "id": "80437810-fd28-40ba-8dab-f60424764bfd",
   "metadata": {
    "execution": {
     "iopub.execute_input": "2023-08-30T05:00:06.581497Z",
     "iopub.status.busy": "2023-08-30T05:00:06.580984Z",
     "iopub.status.idle": "2023-08-30T05:00:06.590376Z",
     "shell.execute_reply": "2023-08-30T05:00:06.589838Z"
    },
    "papermill": {
     "duration": 0.013967,
     "end_time": "2023-08-30T05:00:06.591846",
     "exception": false,
     "start_time": "2023-08-30T05:00:06.577879",
     "status": "completed"
    },
    "tags": []
   },
   "outputs": [
    {
     "data": {
      "text/plain": [
       "'projects/chronotype/nbs/20_gene_corrs'"
      ]
     },
     "metadata": {},
     "output_type": "display_data"
    }
   ],
   "source": [
    "if PHENOPLIER_NOTEBOOK_FILEPATH is not None:\n",
    "    PHENOPLIER_NOTEBOOK_DIR = str(Path(PHENOPLIER_NOTEBOOK_FILEPATH).parent)\n",
    "\n",
    "display(PHENOPLIER_NOTEBOOK_DIR)"
   ]
  },
  {
   "cell_type": "markdown",
   "id": "3a558eec-2251-4be7-a754-1f98adde3aec",
   "metadata": {
    "papermill": {
     "duration": 0.002691,
     "end_time": "2023-08-30T05:00:06.597307",
     "exception": false,
     "start_time": "2023-08-30T05:00:06.594616",
     "status": "completed"
    },
    "tags": []
   },
   "source": [
    "# Run"
   ]
  },
  {
   "cell_type": "code",
   "execution_count": 5,
   "id": "0c0cd3d9-b032-4f03-82eb-0017a0ef1cca",
   "metadata": {
    "execution": {
     "iopub.execute_input": "2023-08-30T05:00:06.603649Z",
     "iopub.status.busy": "2023-08-30T05:00:06.603104Z",
     "iopub.status.idle": "2023-08-30T05:03:28.490555Z",
     "shell.execute_reply": "2023-08-30T05:03:28.489891Z"
    },
    "papermill": {
     "duration": 201.892658,
     "end_time": "2023-08-30T05:03:28.492503",
     "exception": false,
     "start_time": "2023-08-30T05:00:06.599845",
     "status": "completed"
    },
    "tags": []
   },
   "outputs": [
    {
     "name": "stdout",
     "output_type": "stream",
     "text": [
      "Running for chronotype\n"
     ]
    }
   ],
   "source": [
    "%%bash -s \"$PHENOPLIER_NOTEBOOK_DIR\" \"$PROJECTS_TRAIT_KEY\"\n",
    "set -euo pipefail\n",
    "IFS=$'\\n\\t'\n",
    "\n",
    "# read the notebook directory parameter and remove $1\n",
    "export PHENOPLIER_NOTEBOOK_DIR=\"$1\"\n",
    "shift\n",
    "\n",
    "# read trait key\n",
    "export PROJECTS_TRAIT_KEY=\"$1\"\n",
    "shift\n",
    "\n",
    "run_job () {\n",
    "    # run_job is a standard function name that performs a particular job\n",
    "    # depending on the context. It will be called by GNU Parallel below.\n",
    "\n",
    "    # read trait information\n",
    "    # the first parameter to this function is a string with values separated by\n",
    "    # commas (,). So here I split those into different variables.\n",
    "    IFS=',' read -r pheno_id file sample_size n_cases <<< \"$1\"\n",
    "\n",
    "    env_name=\"PHENOPLIER_PROJECTS_${PROJECTS_TRAIT_KEY}_RESULTS_DIR\"\n",
    "    OUTPUT_DIR=\"${!env_name}/gls_phenoplier\"\n",
    "\n",
    "    # make sure we are not also parallelizing within numpy, etc\n",
    "    export NUMBA_NUM_THREADS=1\n",
    "    export MKL_NUM_THREADS=1\n",
    "    export OPEN_BLAS_NUM_THREADS=1\n",
    "    export NUMEXPR_NUM_THREADS=1\n",
    "    export OMP_NUM_THREADS=1\n",
    "\n",
    "    cd \"${PHENOPLIER_CODE_DIR}\"\n",
    "\n",
    "    NOTEBOOK_OUTPUT_FOLDER=\"output/${pheno_id,,}\"\n",
    "    FULL_NOTEBOOK_OUTPUT_FOLDER=\"${PHENOPLIER_NOTEBOOK_DIR}/${NOTEBOOK_OUTPUT_FOLDER}\"\n",
    "    mkdir -p \"$FULL_NOTEBOOK_OUTPUT_FOLDER\"\n",
    "\n",
    "    echo \"Running for $pheno_id\"\n",
    "\n",
    "    bash nbs/run_nbs.sh \\\n",
    "        \"${PHENOPLIER_NOTEBOOK_DIR}/jobs/10-postprocess_gene_expr_correlations.ipynb\" \\\n",
    "        \"../${NOTEBOOK_OUTPUT_FOLDER}/10-postprocess_gene_expr_correlations.run.ipynb\" \\\n",
    "        -p COHORT_NAME \"$pheno_id\" \\\n",
    "        -p OUTPUT_DIR_BASE \"$OUTPUT_DIR\" \\\n",
    "    &>/dev/null\n",
    "}\n",
    "\n",
    "# export function so GNU Parallel can see it\n",
    "export -f run_job\n",
    "\n",
    "# generate a list of run_job calls for GNU Parallel\n",
    "env_name=\"PHENOPLIER_PROJECTS_${PROJECTS_TRAIT_KEY}_TRAITS_INFO_FILE\"\n",
    "while IFS= read -r line; do\n",
    "    echo run_job \"$line\"\n",
    "done < <(tail -n \"+2\" \"${!env_name}\") |\n",
    "    parallel -k --lb --halt 2 -j${PHENOPLIER_GENERAL_N_JOBS}"
   ]
  },
  {
   "cell_type": "code",
   "execution_count": null,
   "id": "4c85b633-88a5-4623-b105-42c38208109e",
   "metadata": {
    "papermill": {
     "duration": 0.002947,
     "end_time": "2023-08-30T05:03:28.498428",
     "exception": false,
     "start_time": "2023-08-30T05:03:28.495481",
     "status": "completed"
    },
    "tags": []
   },
   "outputs": [],
   "source": []
  }
 ],
 "metadata": {
  "jupytext": {
   "cell_metadata_filter": "all,-execution,-papermill,-trusted",
   "notebook_metadata_filter": "-jupytext.text_representation.jupytext_version"
  },
  "kernelspec": {
   "display_name": "Python 3 (ipykernel)",
   "language": "python",
   "name": "python3"
  },
  "language_info": {
   "codemirror_mode": {
    "name": "ipython",
    "version": 3
   },
   "file_extension": ".py",
   "mimetype": "text/x-python",
   "name": "python",
   "nbconvert_exporter": "python",
   "pygments_lexer": "ipython3",
   "version": "3.10.6"
  },
  "papermill": {
   "default_parameters": {},
   "duration": 203.084669,
   "end_time": "2023-08-30T05:03:28.717321",
   "environment_variables": {},
   "exception": null,
   "input_path": "projects/chronotype/nbs/20_gene_corrs/10-run_postprocessing_gene_correlations.ipynb",
   "output_path": "projects/chronotype/nbs/20_gene_corrs/10-run_postprocessing_gene_correlations.run.ipynb",
   "parameters": {
    "PHENOPLIER_NOTEBOOK_FILEPATH": "projects/chronotype/nbs/20_gene_corrs/10-run_postprocessing_gene_correlations.ipynb"
   },
   "start_time": "2023-08-30T05:00:05.632652",
   "version": "2.3.4"
  }
 },
 "nbformat": 4,
 "nbformat_minor": 5
}
